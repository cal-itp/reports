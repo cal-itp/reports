{
 "cells": [
  {
   "cell_type": "markdown",
   "id": "c9972974",
   "metadata": {
    "papermill": {
     "duration": 0.02112,
     "end_time": "2021-06-24T22:09:20.709768",
     "exception": false,
     "start_time": "2021-06-24T22:09:20.688648",
     "status": "completed"
    },
    "tags": [
     "hide"
    ]
   },
   "source": [
    "# Setup"
   ]
  },
  {
   "cell_type": "code",
   "execution_count": 1,
   "id": "6d076f1c",
   "metadata": {
    "execution": {
     "iopub.execute_input": "2021-06-24T22:09:20.785996Z",
     "iopub.status.busy": "2021-06-24T22:09:20.780820Z",
     "iopub.status.idle": "2021-06-24T22:09:34.020902Z",
     "shell.execute_reply": "2021-06-24T22:09:34.021314Z"
    },
    "papermill": {
     "duration": 13.275684,
     "end_time": "2021-06-24T22:09:34.021513",
     "exception": false,
     "start_time": "2021-06-24T22:09:20.745829",
     "status": "completed"
    },
    "tags": [
     "hide"
    ]
   },
   "outputs": [],
   "source": [
    "import pandas as pd\n",
    "import numpy as np\n",
    "import warnings\n",
    "\n",
    "from io import StringIO\n",
    "from calitp.tables import tbl\n",
    "from datetime import date, datetime\n",
    "from siuba import *\n",
    "from plotnine import *\n",
    "\n",
    "def friendly_date(x): \n",
    "    return datetime.strptime(x, \"%Y-%m-%d\").strftime(\"%b %d\")"
   ]
  },
  {
   "cell_type": "code",
   "execution_count": 2,
   "id": "e94a3782",
   "metadata": {
    "execution": {
     "iopub.execute_input": "2021-06-24T22:09:34.061039Z",
     "iopub.status.busy": "2021-06-24T22:09:34.060508Z",
     "iopub.status.idle": "2021-06-24T22:09:34.063096Z",
     "shell.execute_reply": "2021-06-24T22:09:34.062651Z"
    },
    "papermill": {
     "duration": 0.025948,
     "end_time": "2021-06-24T22:09:34.063207",
     "exception": false,
     "start_time": "2021-06-24T22:09:34.037259",
     "status": "completed"
    },
    "tags": [
     "parameters",
     "hide"
    ]
   },
   "outputs": [],
   "source": [
    "CALITP_ITP_ID = 98\n",
    "#CALITP_ITP_ID=45\n",
    "CALITP_URL_NUMBER = 0\n",
    "DEBUG = False\n",
    "\n",
    "START_DATE = \"2021-05-01\"\n",
    "END_DATE = \"2021-06-01\"\n",
    "DATE_TODAY=date.today()\n",
    "START_MONTH_DAY = friendly_date(START_DATE)\n",
    "END_MONTH_DAY = friendly_date(END_DATE)\n",
    "\n",
    "WEEK_MARKERS = pd.date_range(START_DATE, END_DATE, freq=\"W\").astype(str).tolist()\n",
    "BIWEEKLY_MARKERS = pd.date_range(START_DATE, END_DATE, freq=\"2W\").astype(str).tolist()"
   ]
  },
  {
   "cell_type": "code",
   "execution_count": 3,
   "id": "b7cd526b",
   "metadata": {
    "execution": {
     "iopub.execute_input": "2021-06-24T22:09:34.113719Z",
     "iopub.status.busy": "2021-06-24T22:09:34.112327Z",
     "iopub.status.idle": "2021-06-24T22:09:34.117107Z",
     "shell.execute_reply": "2021-06-24T22:09:34.117651Z"
    },
    "papermill": {
     "duration": 0.038457,
     "end_time": "2021-06-24T22:09:34.117796",
     "exception": false,
     "start_time": "2021-06-24T22:09:34.079339",
     "status": "completed"
    },
    "tags": [
     "injected-parameters"
    ]
   },
   "outputs": [],
   "source": [
    "# Parameters\n",
    "CALITP_ITP_ID = 29\n",
    "CALITP_URL_NUMBER = 0\n",
    "DEBUG = False\n",
    "START_DATE = \"2021-05-01\"\n",
    "END_DATE = \"2021-06-01\"\n"
   ]
  },
  {
   "cell_type": "code",
   "execution_count": 4,
   "id": "40f5ed98",
   "metadata": {
    "execution": {
     "iopub.execute_input": "2021-06-24T22:09:34.155056Z",
     "iopub.status.busy": "2021-06-24T22:09:34.154176Z",
     "iopub.status.idle": "2021-06-24T22:09:34.156802Z",
     "shell.execute_reply": "2021-06-24T22:09:34.157390Z"
    },
    "papermill": {
     "duration": 0.023671,
     "end_time": "2021-06-24T22:09:34.157549",
     "exception": false,
     "start_time": "2021-06-24T22:09:34.133878",
     "status": "completed"
    },
    "tags": [
     "hide"
    ]
   },
   "outputs": [],
   "source": [
    "if not DEBUG:\n",
    "    warnings.filterwarnings(\"ignore\")"
   ]
  },
  {
   "cell_type": "code",
   "execution_count": 5,
   "id": "b1f8ac3a",
   "metadata": {
    "execution": {
     "iopub.execute_input": "2021-06-24T22:09:34.200343Z",
     "iopub.status.busy": "2021-06-24T22:09:34.199270Z",
     "iopub.status.idle": "2021-06-24T22:09:34.203095Z",
     "shell.execute_reply": "2021-06-24T22:09:34.203571Z"
    },
    "papermill": {
     "duration": 0.027213,
     "end_time": "2021-06-24T22:09:34.203718",
     "exception": false,
     "start_time": "2021-06-24T22:09:34.176505",
     "status": "completed"
    },
    "tags": [
     "hide"
    ]
   },
   "outputs": [],
   "source": [
    "# Convenience functions ----\n",
    "\n",
    "filter_start = filter(\n",
    "    _.calitp_extracted_at <= START_DATE,\n",
    "    _.calitp_deleted_at.fillna(\"2099-01-01\") > START_DATE,\n",
    ")\n",
    "\n",
    "filter_end = filter(\n",
    "    _.calitp_extracted_at <= END_DATE,\n",
    "    _.calitp_deleted_at.fillna(\"2099-01-01\") > END_DATE,\n",
    ")\n",
    "\n",
    "filter_itp = filter(\n",
    "    _.calitp_itp_id == CALITP_ITP_ID, _.calitp_url_number == CALITP_URL_NUMBER\n",
    ")\n",
    "\n",
    "collect_to_dict = (\n",
    "    collect()\n",
    "    >> pipe(_.to_dict(orient=\"records\")[0])\n",
    ")\n",
    "\n",
    "\n",
    "select_rm_calitp = select(\n",
    "    -_.calitp_itp_id,\n",
    "    -_.calitp_url_number,\n",
    "    -_.calitp_hash,\n",
    "    -_.calitp_extracted_at,\n",
    "    -_.calitp_deleted_at,\n",
    ")\n",
    "\n",
    "def percent_format(labels):\n",
    "    return [\"{:.0f}%\".format(v*100) for v in labels]\n",
    "\n",
    "def query_id_changes(start_table, end_table, id_vars):\n",
    "    \"\"\"Calculate id variables that are removed, added, or unchanged between tables.\n",
    "    \n",
    "    It works by adding a special column to each table, performing a full join,\n",
    "    then checking where the special column is null.\n",
    "    \"\"\"\n",
    "    sym_id_vars = [_[k] for k in id_vars]\n",
    "\n",
    "    is_in_start = start_table >> select(*id_vars) >> mutate(is_in_start=True)\n",
    "    is_in_end = end_table >> select(*id_vars) >> mutate(is_in_end=True)\n",
    "\n",
    "    baseline = start_table >> count(*id_vars) >> rename(n_baseline=\"n\")\n",
    "    tallies = (\n",
    "        is_in_start\n",
    "        >> full_join(_, is_in_end, id_vars)\n",
    "        >> count(*sym_id_vars, _.is_in_start, _.is_in_end)\n",
    "        >> mutate(\n",
    "            status=case_when(\n",
    "                _,\n",
    "                {\n",
    "                    _.is_in_end.isna(): \"Removed\",\n",
    "                    _.is_in_start.isna(): \"Added\",\n",
    "                    True: \"Unchanged\",\n",
    "                },\n",
    "            )\n",
    "        )\n",
    "        >> count(*sym_id_vars[:-1], _.status)\n",
    "        >> group_by(*sym_id_vars[:-1])\n",
    "        >> mutate(percent=_.n / _.n.sum())\n",
    "    )\n",
    "\n",
    "    return tallies"
   ]
  },
  {
   "cell_type": "code",
   "execution_count": 6,
   "id": "5ae322c1",
   "metadata": {
    "execution": {
     "iopub.execute_input": "2021-06-24T22:09:34.250035Z",
     "iopub.status.busy": "2021-06-24T22:09:34.249371Z",
     "iopub.status.idle": "2021-06-24T22:09:59.635657Z",
     "shell.execute_reply": "2021-06-24T22:09:59.635165Z"
    },
    "papermill": {
     "duration": 25.413073,
     "end_time": "2021-06-24T22:09:59.635769",
     "exception": false,
     "start_time": "2021-06-24T22:09:34.222696",
     "status": "completed"
    },
    "tags": [
     "hide"
    ]
   },
   "outputs": [],
   "source": [
    "# Data ====\n",
    "# 1. High level feed info ----\n",
    "feed_info = (\n",
    "    tbl.gtfs_schedule_type2.feed_info()\n",
    "    >> filter_end\n",
    "    >> filter_itp\n",
    "    >> select_rm_calitp\n",
    "    >> collect_to_dict\n",
    ")\n",
    "\n",
    "_n_routes = (\n",
    "    tbl.gtfs_schedule_type2.routes() >> filter_end >> filter_itp >> count() >> collect()\n",
    ")\n",
    "_n_stops = (\n",
    "    tbl.gtfs_schedule_type2.stops() >> filter_end >> filter_itp >> count() >> collect()\n",
    ")\n",
    "\n",
    "feed_info[\"n_routes\"] = int(_n_routes.loc[0, \"n\"])\n",
    "feed_info[\"n_stops\"] = int(_n_stops.loc[0, \"n\"])\n",
    "\n",
    "status = (\n",
    "    tbl.views.gtfs_status_latest()\n",
    "    >> filter(_.itp_id == CALITP_ITP_ID, _.url_number == CALITP_URL_NUMBER)\n",
    "    >> select(-_.url_number, -_.status)\n",
    "    >> select_rm_calitp\n",
    "    >> collect_to_dict\n",
    ")\n",
    "\n",
    "# 2. Monthly metrics ----\n",
    "# Service hours per day. Note that the queried table calculates service\n",
    "# hours per service id, so we need to sum across service ids for the day\n",
    "_cross_cal = (\n",
    "    tbl.views.dim_date()\n",
    "    >> filter(_.full_date.between(START_DATE, END_DATE))\n",
    "    >> select(_.service_date == _.full_date)\n",
    ")\n",
    "\n",
    "tbl_daily_service_hours = (\n",
    "    tbl.views.gtfs_schedule_service_daily_metrics()\n",
    "    >> filter_itp\n",
    "    >> filter(_.service_date.between(START_DATE, END_DATE))\n",
    "    >> right_join(_, _cross_cal, [\"service_date\"])\n",
    "    >> collect()\n",
    "    >> group_by(_.service_date)\n",
    "    >> summarize(\n",
    "        ttl_service_hours=(_.last_arrival_ts.max() - _.first_departure_ts.min()) / 3600,\n",
    "        ttl_service_hours2=_.ttl_service_hours.sum(),\n",
    "    )\n",
    "    >> mutate(\n",
    "        ttl_service_hours=_.ttl_service_hours.astype(float).round(2),\n",
    "        service_date=_.service_date.astype(\"datetime64[ns]\"),\n",
    "    )\n",
    ")\n",
    "\n",
    "# number of days where a feed did not have any trips in service\n",
    "n_expired_days = (\n",
    "    tbl_daily_service_hours\n",
    "    >> filter(_.ttl_service_hours.isna())\n",
    "    >> pipe(lambda d: {\"n\": d.shape[0]})\n",
    ")\n",
    "\n",
    "# 3. Stop and Route ID Changes ----\n",
    "\n",
    "_tbl_stops_start = tbl.gtfs_schedule_type2.stops() >> filter_itp >> filter_start\n",
    "_tbl_stops_end = tbl.gtfs_schedule_type2.stops() >> filter_itp >> filter_end\n",
    "tbl_stops_changed = (\n",
    "    query_id_changes(_tbl_stops_start, _tbl_stops_end, [\"stop_id\"]) >> collect()\n",
    ")\n",
    "\n",
    "_tbl_routes_start = tbl.gtfs_schedule_type2.routes() >> filter_itp >> filter_start\n",
    "_tbl_routes_end = tbl.gtfs_schedule_type2.routes() >> filter_itp >> filter_end\n",
    "tbl_routes_changed = (\n",
    "    query_id_changes(_tbl_routes_start, _tbl_routes_end, [\"route_id\"]) >> collect()\n",
    ")"
   ]
  },
  {
   "cell_type": "code",
   "execution_count": 7,
   "id": "22d7b5aa",
   "metadata": {
    "execution": {
     "iopub.execute_input": "2021-06-24T22:09:59.674490Z",
     "iopub.status.busy": "2021-06-24T22:09:59.673923Z",
     "iopub.status.idle": "2021-06-24T22:10:05.378005Z",
     "shell.execute_reply": "2021-06-24T22:10:05.378762Z"
    },
    "papermill": {
     "duration": 5.727501,
     "end_time": "2021-06-24T22:10:05.379028",
     "exception": false,
     "start_time": "2021-06-24T22:09:59.651527",
     "status": "completed"
    },
    "tags": [
     "hide"
    ]
   },
   "outputs": [],
   "source": [
    "# 4. Feed files being checked for ----\n",
    "\n",
    "file_categories = pd.DataFrame(\n",
    "    {\n",
    "        \"shapes.txt\": \"Visual display\",\n",
    "        \"pathways.txt\": \"Navigation\",\n",
    "        \"levels.txt\": \"Navigation\",\n",
    "        \"fare_rules.txt\": \"Fares\",\n",
    "        \"fare_leg_rules\": \"Fares\",\n",
    "        \"feed_info.txt\": \"Technical contacts\",\n",
    "    }.items(),\n",
    "    columns=[\"name\", \"category\"],\n",
    ")\n",
    "\n",
    "importance = [\"Visual display\", \"Navigation\", \"Fares\", \"Technical contacts\"]\n",
    "\n",
    "tbl_file_check = (\n",
    "    tbl.gtfs_schedule_history.calitp_files_updates()\n",
    "    >> filter_itp\n",
    "    >> filter(_.calitp_extracted_at.isin(BIWEEKLY_MARKERS))\n",
    "    >> select(_.name, _.calitp_extracted_at)\n",
    "    >> collect()\n",
    "    >> right_join(_, file_categories, [\"name\"])\n",
    "    >> mutate(\n",
    "        calitp_extracted_at=_.calitp_extracted_at.fillna(\"missing\").astype(str),\n",
    "        success=\"✅\",\n",
    "    )\n",
    "    >> spread(_.calitp_extracted_at, _.success)\n",
    "    >> select(-_.missing)\n",
    "    >> arrange(_.category.apply(importance.index))\n",
    "    >> select(_.category, _.contains(\"\"))\n",
    "    >> pipe(_.fillna(\"\"))\n",
    ")\n",
    "\n",
    "tbl_validation_notices = (\n",
    "    tbl.views.validation_notices()\n",
    "    >> filter_itp\n",
    "    >> filter(_.severity == \"ERROR\")\n",
    "    >> count(_.code, _.severity)\n",
    "    >> collect()\n",
    ")"
   ]
  },
  {
   "cell_type": "markdown",
   "id": "1c58901b",
   "metadata": {
    "papermill": {
     "duration": 0.03307,
     "end_time": "2021-06-24T22:10:05.443884",
     "exception": false,
     "start_time": "2021-06-24T22:10:05.410814",
     "status": "completed"
    },
    "tags": [
     "hide"
    ]
   },
   "source": [
    "## Dump data"
   ]
  },
  {
   "cell_type": "code",
   "execution_count": 8,
   "id": "24bad6c0",
   "metadata": {
    "execution": {
     "iopub.execute_input": "2021-06-24T22:10:05.542639Z",
     "iopub.status.busy": "2021-06-24T22:10:05.541571Z",
     "iopub.status.idle": "2021-06-24T22:10:05.553410Z",
     "shell.execute_reply": "2021-06-24T22:10:05.554190Z"
    },
    "papermill": {
     "duration": 0.076478,
     "end_time": "2021-06-24T22:10:05.554516",
     "exception": false,
     "start_time": "2021-06-24T22:10:05.478038",
     "status": "completed"
    },
    "tags": [
     "hide"
    ]
   },
   "outputs": [],
   "source": [
    "import json\n",
    "import shutil\n",
    "\n",
    "from pathlib import Path\n",
    "\n",
    "out_dir = Path(f\"output/{CALITP_ITP_ID}_{CALITP_URL_NUMBER}/data\")\n",
    "out_dir.mkdir(parents=True, exist_ok=True)\n",
    "\n",
    "json.dump(feed_info, open(out_dir / \"1_feed_info.json\", \"w\"))\n",
    "json.dump(status, open(out_dir / \"1_status.json\", \"w\"))\n",
    "\n",
    "tbl_daily_service_hours.to_json(out_dir / \"2_daily_service_hours.json\", orient=\"records\")\n",
    "json.dump(n_expired_days, open(out_dir / \"2_n_expired_days.json\", \"w\"))\n",
    "\n",
    "tbl_stops_changed.to_json(out_dir / \"3_stops_changed.json\", orient=\"records\")\n",
    "tbl_routes_changed.to_json(out_dir / \"3_routes_changed.json\", orient=\"records\")\n",
    "tbl_file_check.to_json(out_dir / \"4_file_check.json\", orient=\"records\")\n",
    "tbl_validation_notices.to_json(out_dir / \"4_validation_notices.json\", orient=\"records\")\n"
   ]
  },
  {
   "cell_type": "markdown",
   "id": "9a575703",
   "metadata": {
    "papermill": {
     "duration": 0.042389,
     "end_time": "2021-06-24T22:10:05.627686",
     "exception": false,
     "start_time": "2021-06-24T22:10:05.585297",
     "status": "completed"
    },
    "tags": []
   },
   "source": [
    "# Monthly GTFS Quality Report"
   ]
  },
  {
   "cell_type": "code",
   "execution_count": 9,
   "id": "65de4c2d",
   "metadata": {
    "execution": {
     "iopub.execute_input": "2021-06-24T22:10:05.700387Z",
     "iopub.status.busy": "2021-06-24T22:10:05.699242Z",
     "iopub.status.idle": "2021-06-24T22:10:05.706580Z",
     "shell.execute_reply": "2021-06-24T22:10:05.707390Z"
    },
    "papermill": {
     "duration": 0.046359,
     "end_time": "2021-06-24T22:10:05.707691",
     "exception": false,
     "start_time": "2021-06-24T22:10:05.661332",
     "status": "completed"
    },
    "tags": []
   },
   "outputs": [
    {
     "data": {
      "text/markdown": [
       "\n",
       "Transit provider name: Trillium Solutions, Inc.\n",
       "\n",
       "Date generated: 2021-06-24\n"
      ],
      "text/plain": [
       "<IPython.core.display.Markdown object>"
      ]
     },
     "execution_count": 9,
     "metadata": {},
     "output_type": "execute_result"
    }
   ],
   "source": [
    "from IPython.display import Markdown\n",
    "\n",
    "Markdown(f\"\"\"\n",
    "Transit provider name: {feed_info[\"feed_publisher_name\"]}\n",
    "\n",
    "Date generated: {DATE_TODAY}\n",
    "\"\"\")"
   ]
  },
  {
   "cell_type": "markdown",
   "id": "2c2f2f0e",
   "metadata": {
    "papermill": {
     "duration": 0.034227,
     "end_time": "2021-06-24T22:10:05.770874",
     "exception": false,
     "start_time": "2021-06-24T22:10:05.736647",
     "status": "completed"
    },
    "tags": []
   },
   "source": [
    "This is a monthly report, generated by the California Integrated Travel Project ([Cal-ITP](https://dot.ca.gov/cal-itp/cal-itp-gtfs)), summarizing issues discovered by [MobilityData](http://mobilitydata.io/)’s [GTFS Validator](https://github.com/MobilityData/gtfs-validator). This report is available for viewing by the general public to support continuous improvement of GTFS data and the experience of transit passengers. "
   ]
  },
  {
   "cell_type": "markdown",
   "id": "e2c2f020",
   "metadata": {
    "papermill": {
     "duration": 0.028206,
     "end_time": "2021-06-24T22:10:05.834151",
     "exception": false,
     "start_time": "2021-06-24T22:10:05.805945",
     "status": "completed"
    },
    "tags": []
   },
   "source": [
    "## Overview"
   ]
  },
  {
   "cell_type": "code",
   "execution_count": 10,
   "id": "b9d81019",
   "metadata": {
    "execution": {
     "iopub.execute_input": "2021-06-24T22:10:05.900449Z",
     "iopub.status.busy": "2021-06-24T22:10:05.899237Z",
     "iopub.status.idle": "2021-06-24T22:10:05.906406Z",
     "shell.execute_reply": "2021-06-24T22:10:05.905540Z"
    },
    "papermill": {
     "duration": 0.041345,
     "end_time": "2021-06-24T22:10:05.906611",
     "exception": false,
     "start_time": "2021-06-24T22:10:05.865266",
     "status": "completed"
    },
    "tags": []
   },
   "outputs": [
    {
     "data": {
      "text/markdown": [
       "\n",
       "Feed location: https://data.trilliumtransit.com/gtfs/baldwinpark-ca-us/baldwinpark-ca-us.zip\n",
       "\n",
       "Metrics for the most recent published version of the feed:\n",
       "\n",
       "* Date published: UTC: 05-Jan-2021 00:51\n",
       "* Number of routes in any service: 3\n",
       "* Number of stops in service: 146\n"
      ],
      "text/plain": [
       "<IPython.core.display.Markdown object>"
      ]
     },
     "execution_count": 10,
     "metadata": {},
     "output_type": "execute_result"
    }
   ],
   "source": [
    "Markdown(f\"\"\"\n",
    "Feed location: {status[\"gtfs_schedule_url\"]}\n",
    "\n",
    "Metrics for the most recent published version of the feed:\n",
    "\n",
    "* Date published: {feed_info[\"feed_version\"]}\n",
    "* Number of routes in any service: {feed_info[\"n_routes\"]}\n",
    "* Number of stops in service: {feed_info[\"n_stops\"]}\n",
    "\"\"\")"
   ]
  },
  {
   "cell_type": "markdown",
   "id": "1372966b",
   "metadata": {
    "papermill": {
     "duration": 0.031054,
     "end_time": "2021-06-24T22:10:05.969375",
     "exception": false,
     "start_time": "2021-06-24T22:10:05.938321",
     "status": "completed"
    },
    "tags": []
   },
   "source": [
    "## Aggregated Metrics for May"
   ]
  },
  {
   "cell_type": "code",
   "execution_count": 11,
   "id": "91eb19b6",
   "metadata": {
    "execution": {
     "iopub.execute_input": "2021-06-24T22:10:06.033971Z",
     "iopub.status.busy": "2021-06-24T22:10:06.033251Z",
     "iopub.status.idle": "2021-06-24T22:10:06.037443Z",
     "shell.execute_reply": "2021-06-24T22:10:06.038062Z"
    },
    "papermill": {
     "duration": 0.039576,
     "end_time": "2021-06-24T22:10:06.038240",
     "exception": false,
     "start_time": "2021-06-24T22:10:05.998664",
     "status": "completed"
    },
    "tags": []
   },
   "outputs": [
    {
     "data": {
      "text/markdown": [
       "\n",
       "Days with no service hours: 0\n"
      ],
      "text/plain": [
       "<IPython.core.display.Markdown object>"
      ]
     },
     "execution_count": 11,
     "metadata": {},
     "output_type": "execute_result"
    }
   ],
   "source": [
    "# TODO: \n",
    "\n",
    "# Markdown(f\"\"\"\n",
    "# Days when the active feed was expired: {n_expired_days[\"n\"]}\n",
    "# \"\"\")\n",
    "\n",
    "Markdown(f\"\"\"\n",
    "Days with no service hours: {n_expired_days[\"n\"]}\n",
    "\"\"\")\n"
   ]
  },
  {
   "cell_type": "code",
   "execution_count": 12,
   "id": "bae0772a",
   "metadata": {
    "execution": {
     "iopub.execute_input": "2021-06-24T22:10:06.116352Z",
     "iopub.status.busy": "2021-06-24T22:10:06.115358Z",
     "iopub.status.idle": "2021-06-24T22:10:06.778344Z",
     "shell.execute_reply": "2021-06-24T22:10:06.779278Z"
    },
    "papermill": {
     "duration": 0.712564,
     "end_time": "2021-06-24T22:10:06.779550",
     "exception": false,
     "start_time": "2021-06-24T22:10:06.066986",
     "status": "completed"
    },
    "tags": []
   },
   "outputs": [
    {
     "data": {
      "image/png": "[encoded data removed]",
      "text/plain": [
       "<Figure size 640x480 with 1 Axes>"
      ]
     },
     "metadata": {},
     "output_type": "display_data"
    }
   ],
   "source": [
    "(\n",
    "    tbl_daily_service_hours\n",
    "    >> ggplot(aes(\"service_date\", \"ttl_service_hours2\"))\n",
    "    + geom_line()\n",
    "    + geom_point()\n",
    "    + theme(axis_text_x=element_text(angle=45, hjust=1))\n",
    "    + scale_x_datetime(date_breaks=\"1 week\")\n",
    "    + expand_limits(y=0)\n",
    "    + labs(y = \"Total service hours\", x = \"Service date\", title=\"Service hour per day\")\n",
    ").draw();"
   ]
  },
  {
   "cell_type": "markdown",
   "id": "be752f9f",
   "metadata": {
    "papermill": {
     "duration": 0.031528,
     "end_time": "2021-06-24T22:10:06.847239",
     "exception": false,
     "start_time": "2021-06-24T22:10:06.815711",
     "status": "completed"
    },
    "tags": []
   },
   "source": [
    "## Changes Since Previous Month"
   ]
  },
  {
   "cell_type": "code",
   "execution_count": 13,
   "id": "97c53d94",
   "metadata": {
    "execution": {
     "iopub.execute_input": "2021-06-24T22:10:06.926876Z",
     "iopub.status.busy": "2021-06-24T22:10:06.910461Z",
     "iopub.status.idle": "2021-06-24T22:10:07.320999Z",
     "shell.execute_reply": "2021-06-24T22:10:07.321432Z"
    },
    "papermill": {
     "duration": 0.442172,
     "end_time": "2021-06-24T22:10:07.321565",
     "exception": false,
     "start_time": "2021-06-24T22:10:06.879393",
     "status": "completed"
    },
    "tags": []
   },
   "outputs": [
    {
     "data": {
      "image/png": "[encoded data removed]",
      "text/plain": [
       "<Figure size 640x480 with 1 Axes>"
      ]
     },
     "metadata": {},
     "output_type": "display_data"
    }
   ],
   "source": [
    "(\n",
    "    pd.concat(\n",
    "        [\n",
    "            tbl_stops_changed >> mutate(kind=\"Stops\"),\n",
    "            tbl_routes_changed >> mutate(kind=\"Routes\"),\n",
    "        ]\n",
    "    )\n",
    "    >> ggplot(aes(\"kind\", \"n\", fill=\"status\"))\n",
    "    + geom_col()\n",
    "    + labs(\n",
    "        x=\"GTFS schedule table\",\n",
    "        y=\"Number of IDs\",\n",
    "        title=f\"IDs Changed Between {START_MONTH_DAY} and {END_MONTH_DAY}\",\n",
    "    )\n",
    ").draw();"
   ]
  },
  {
   "cell_type": "markdown",
   "id": "b7e948aa",
   "metadata": {
    "papermill": {
     "duration": 0.033946,
     "end_time": "2021-06-24T22:10:07.383804",
     "exception": false,
     "start_time": "2021-06-24T22:10:07.349858",
     "status": "completed"
    },
    "tags": []
   },
   "source": [
    "### (Alternative version using percentages)"
   ]
  },
  {
   "cell_type": "code",
   "execution_count": 14,
   "id": "c6e3c516",
   "metadata": {
    "execution": {
     "iopub.execute_input": "2021-06-24T22:10:07.457259Z",
     "iopub.status.busy": "2021-06-24T22:10:07.456027Z",
     "iopub.status.idle": "2021-06-24T22:10:07.912183Z",
     "shell.execute_reply": "2021-06-24T22:10:07.913713Z"
    },
    "papermill": {
     "duration": 0.494993,
     "end_time": "2021-06-24T22:10:07.913999",
     "exception": false,
     "start_time": "2021-06-24T22:10:07.419006",
     "status": "completed"
    },
    "tags": []
   },
   "outputs": [
    {
     "data": {
      "image/png": "[encoded data removed]",
      "text/plain": [
       "<Figure size 640x480 with 1 Axes>"
      ]
     },
     "metadata": {},
     "output_type": "display_data"
    }
   ],
   "source": [
    "(\n",
    "    pd.concat(\n",
    "        [\n",
    "            tbl_stops_changed >> mutate(kind=\"Stops\"),\n",
    "            tbl_routes_changed >> mutate(kind=\"Routes\"),\n",
    "        ]\n",
    "    )\n",
    "    >> ggplot(aes(\"kind\", \"percent\", fill=\"status\"))\n",
    "    + geom_col()\n",
    "    + labs(\n",
    "        x=\"GTFS schedule table\",\n",
    "        y=\"Percentage of IDs\",\n",
    "        title=f\"IDs Changed Between {START_MONTH_DAY} and {END_MONTH_DAY}\",\n",
    "    )\n",
    "    + scale_y_continuous(labels=percent_format, breaks=np.arange(0, 1.2, 0.2))\n",
    ").draw();"
   ]
  },
  {
   "cell_type": "markdown",
   "id": "9c0dbbda",
   "metadata": {
    "papermill": {
     "duration": 0.039384,
     "end_time": "2021-06-24T22:10:07.995514",
     "exception": false,
     "start_time": "2021-06-24T22:10:07.956130",
     "status": "completed"
    },
    "tags": []
   },
   "source": [
    "## Consistency with the [California GTFS Minimum Guidelines](https://dot.ca.gov/cal-itp/california-minimum-general-transit-feed-specification-gtfs-guidelines) for the feed downloaded\n"
   ]
  },
  {
   "cell_type": "markdown",
   "id": "931aff1f",
   "metadata": {
    "papermill": {
     "duration": 0.033351,
     "end_time": "2021-06-24T22:10:08.071390",
     "exception": false,
     "start_time": "2021-06-24T22:10:08.038039",
     "status": "completed"
    },
    "tags": []
   },
   "source": [
    "### Do the following files/fields exist?"
   ]
  },
  {
   "cell_type": "code",
   "execution_count": 15,
   "id": "9dc77458",
   "metadata": {
    "execution": {
     "iopub.execute_input": "2021-06-24T22:10:08.152639Z",
     "iopub.status.busy": "2021-06-24T22:10:08.151531Z",
     "iopub.status.idle": "2021-06-24T22:10:08.166117Z",
     "shell.execute_reply": "2021-06-24T22:10:08.166521Z"
    },
    "papermill": {
     "duration": 0.059113,
     "end_time": "2021-06-24T22:10:08.166666",
     "exception": false,
     "start_time": "2021-06-24T22:10:08.107553",
     "status": "completed"
    },
    "tags": []
   },
   "outputs": [
    {
     "data": {
      "text/html": [
       "<div>\n",
       "<style scoped>\n",
       "    .dataframe tbody tr th:only-of-type {\n",
       "        vertical-align: middle;\n",
       "    }\n",
       "\n",
       "    .dataframe tbody tr th {\n",
       "        vertical-align: top;\n",
       "    }\n",
       "\n",
       "    .dataframe thead th {\n",
       "        text-align: right;\n",
       "    }\n",
       "</style>\n",
       "<table border=\"1\" class=\"dataframe\">\n",
       "  <thead>\n",
       "    <tr style=\"text-align: right;\">\n",
       "      <th></th>\n",
       "      <th>category</th>\n",
       "      <th>name</th>\n",
       "      <th>2021-05-02</th>\n",
       "      <th>2021-05-16</th>\n",
       "      <th>2021-05-30</th>\n",
       "    </tr>\n",
       "  </thead>\n",
       "  <tbody>\n",
       "    <tr>\n",
       "      <th>5</th>\n",
       "      <td>Visual display</td>\n",
       "      <td>shapes.txt</td>\n",
       "      <td>✅</td>\n",
       "      <td>✅</td>\n",
       "      <td>✅</td>\n",
       "    </tr>\n",
       "    <tr>\n",
       "      <th>3</th>\n",
       "      <td>Navigation</td>\n",
       "      <td>levels.txt</td>\n",
       "      <td></td>\n",
       "      <td></td>\n",
       "      <td></td>\n",
       "    </tr>\n",
       "    <tr>\n",
       "      <th>4</th>\n",
       "      <td>Navigation</td>\n",
       "      <td>pathways.txt</td>\n",
       "      <td></td>\n",
       "      <td></td>\n",
       "      <td></td>\n",
       "    </tr>\n",
       "    <tr>\n",
       "      <th>0</th>\n",
       "      <td>Fares</td>\n",
       "      <td>fare_leg_rules</td>\n",
       "      <td></td>\n",
       "      <td></td>\n",
       "      <td></td>\n",
       "    </tr>\n",
       "    <tr>\n",
       "      <th>1</th>\n",
       "      <td>Fares</td>\n",
       "      <td>fare_rules.txt</td>\n",
       "      <td>✅</td>\n",
       "      <td>✅</td>\n",
       "      <td>✅</td>\n",
       "    </tr>\n",
       "    <tr>\n",
       "      <th>2</th>\n",
       "      <td>Technical contacts</td>\n",
       "      <td>feed_info.txt</td>\n",
       "      <td>✅</td>\n",
       "      <td>✅</td>\n",
       "      <td>✅</td>\n",
       "    </tr>\n",
       "  </tbody>\n",
       "</table>\n",
       "</div>"
      ],
      "text/plain": [
       "             category            name 2021-05-02 2021-05-16 2021-05-30\n",
       "5      Visual display      shapes.txt          ✅          ✅          ✅\n",
       "3          Navigation      levels.txt                                 \n",
       "4          Navigation    pathways.txt                                 \n",
       "0               Fares  fare_leg_rules                                 \n",
       "1               Fares  fare_rules.txt          ✅          ✅          ✅\n",
       "2  Technical contacts   feed_info.txt          ✅          ✅          ✅"
      ]
     },
     "execution_count": 15,
     "metadata": {},
     "output_type": "execute_result"
    }
   ],
   "source": [
    "tbl_file_check"
   ]
  },
  {
   "cell_type": "markdown",
   "id": "ebef438f",
   "metadata": {
    "papermill": {
     "duration": 0.037113,
     "end_time": "2021-06-24T22:10:08.233215",
     "exception": false,
     "start_time": "2021-06-24T22:10:08.196102",
     "status": "completed"
    },
    "tags": []
   },
   "source": [
    "### Validation Errors Observed"
   ]
  },
  {
   "cell_type": "code",
   "execution_count": 16,
   "id": "5cc2ccaf",
   "metadata": {
    "execution": {
     "iopub.execute_input": "2021-06-24T22:10:08.305659Z",
     "iopub.status.busy": "2021-06-24T22:10:08.304543Z",
     "iopub.status.idle": "2021-06-24T22:10:08.310984Z",
     "shell.execute_reply": "2021-06-24T22:10:08.310159Z"
    },
    "papermill": {
     "duration": 0.043997,
     "end_time": "2021-06-24T22:10:08.311135",
     "exception": false,
     "start_time": "2021-06-24T22:10:08.267138",
     "status": "completed"
    },
    "tags": []
   },
   "outputs": [
    {
     "data": {
      "text/markdown": [
       "No validation error observed in your feed."
      ],
      "text/plain": [
       "<IPython.core.display.Markdown object>"
      ]
     },
     "metadata": {},
     "output_type": "display_data"
    }
   ],
   "source": [
    "if tbl_validation_notices.shape[0] == 0:\n",
    "    display(Markdown(\"No validation error observed in your feed.\"))\n",
    "else:    \n",
    "    display(tbl_validation_notices)"
   ]
  },
  {
   "cell_type": "markdown",
   "id": "bd5fae1b",
   "metadata": {
    "papermill": {
     "duration": 0.042086,
     "end_time": "2021-06-24T22:10:08.392488",
     "exception": false,
     "start_time": "2021-06-24T22:10:08.350402",
     "status": "completed"
    },
    "tags": []
   },
   "source": [
    "For more information about Cal-ITP, including the [Minimum GTFS Guidelines](https://dot.ca.gov/cal-itp/california-minimum-general-transit-feed-specification-gtfs-guidelines) and our [Transit Data Helpdesk](https://dot.ca.gov/programs/rail-and-mass-transportation/gtfs/helpdesk), contact [GTFSRT@dot.ca.gov](mailto:GTFSRT@dot.ca.gov)."
   ]
  }
 ],
 "metadata": {
  "kernelspec": {
   "display_name": "venv-calitp-py",
   "language": "python",
   "name": "venv-calitp-py"
  },
  "language_info": {
   "codemirror_mode": {
    "name": "ipython",
    "version": 3
   },
   "file_extension": ".py",
   "mimetype": "text/x-python",
   "name": "python",
   "nbconvert_exporter": "python",
   "pygments_lexer": "ipython3",
   "version": "3.8.5"
  },
  "papermill": {
   "default_parameters": {},
   "duration": 52.254423,
   "end_time": "2021-06-24T22:10:10.135835",
   "environment_variables": {},
   "exception": null,
   "input_path": "report.ipynb",
   "output_path": "output/29/report.ipynb",
   "parameters": {
    "CALITP_ITP_ID": 29,
    "CALITP_URL_NUMBER": 0,
    "DEBUG": false,
    "END_DATE": "2021-06-01",
    "START_DATE": "2021-05-01"
   },
   "start_time": "2021-06-24T22:09:17.881412",
   "version": "2.3.3"
  }
 },
 "nbformat": 4,
 "nbformat_minor": 5
}