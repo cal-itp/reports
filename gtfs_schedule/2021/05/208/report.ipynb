{
 "cells": [
  {
   "cell_type": "markdown",
   "id": "9c0e5a68",
   "metadata": {
    "papermill": {
     "duration": 0.014979,
     "end_time": "2021-06-24T22:15:56.152436",
     "exception": false,
     "start_time": "2021-06-24T22:15:56.137457",
     "status": "completed"
    },
    "tags": [
     "hide"
    ]
   },
   "source": [
    "# Setup"
   ]
  },
  {
   "cell_type": "code",
   "execution_count": 1,
   "id": "c5854c20",
   "metadata": {
    "execution": {
     "iopub.execute_input": "2021-06-24T22:15:56.221167Z",
     "iopub.status.busy": "2021-06-24T22:15:56.213405Z",
     "iopub.status.idle": "2021-06-24T22:16:02.781084Z",
     "shell.execute_reply": "2021-06-24T22:16:02.782411Z"
    },
    "papermill": {
     "duration": 6.609778,
     "end_time": "2021-06-24T22:16:02.782753",
     "exception": false,
     "start_time": "2021-06-24T22:15:56.172975",
     "status": "completed"
    },
    "tags": [
     "hide"
    ]
   },
   "outputs": [],
   "source": [
    "import pandas as pd\n",
    "import numpy as np\n",
    "import warnings\n",
    "\n",
    "from io import StringIO\n",
    "from calitp.tables import tbl\n",
    "from datetime import date, datetime\n",
    "from siuba import *\n",
    "from plotnine import *\n",
    "\n",
    "def friendly_date(x): \n",
    "    return datetime.strptime(x, \"%Y-%m-%d\").strftime(\"%b %d\")"
   ]
  },
  {
   "cell_type": "code",
   "execution_count": 2,
   "id": "d5abf76f",
   "metadata": {
    "execution": {
     "iopub.execute_input": "2021-06-24T22:16:02.850154Z",
     "iopub.status.busy": "2021-06-24T22:16:02.849069Z",
     "iopub.status.idle": "2021-06-24T22:16:02.874500Z",
     "shell.execute_reply": "2021-06-24T22:16:02.875497Z"
    },
    "papermill": {
     "duration": 0.05924,
     "end_time": "2021-06-24T22:16:02.875741",
     "exception": false,
     "start_time": "2021-06-24T22:16:02.816501",
     "status": "completed"
    },
    "tags": [
     "parameters",
     "hide"
    ]
   },
   "outputs": [],
   "source": [
    "CALITP_ITP_ID = 98\n",
    "#CALITP_ITP_ID=45\n",
    "CALITP_URL_NUMBER = 0\n",
    "DEBUG = False\n",
    "\n",
    "START_DATE = \"2021-05-01\"\n",
    "END_DATE = \"2021-06-01\"\n",
    "DATE_TODAY=date.today()\n",
    "START_MONTH_DAY = friendly_date(START_DATE)\n",
    "END_MONTH_DAY = friendly_date(END_DATE)\n",
    "\n",
    "WEEK_MARKERS = pd.date_range(START_DATE, END_DATE, freq=\"W\").astype(str).tolist()\n",
    "BIWEEKLY_MARKERS = pd.date_range(START_DATE, END_DATE, freq=\"2W\").astype(str).tolist()"
   ]
  },
  {
   "cell_type": "code",
   "execution_count": 3,
   "id": "142784ec",
   "metadata": {
    "execution": {
     "iopub.execute_input": "2021-06-24T22:16:02.922812Z",
     "iopub.status.busy": "2021-06-24T22:16:02.921673Z",
     "iopub.status.idle": "2021-06-24T22:16:02.926749Z",
     "shell.execute_reply": "2021-06-24T22:16:02.928510Z"
    },
    "papermill": {
     "duration": 0.034738,
     "end_time": "2021-06-24T22:16:02.928765",
     "exception": false,
     "start_time": "2021-06-24T22:16:02.894027",
     "status": "completed"
    },
    "tags": [
     "injected-parameters"
    ]
   },
   "outputs": [],
   "source": [
    "# Parameters\n",
    "CALITP_ITP_ID = 208\n",
    "CALITP_URL_NUMBER = 0\n",
    "DEBUG = False\n",
    "START_DATE = \"2021-05-01\"\n",
    "END_DATE = \"2021-06-01\"\n"
   ]
  },
  {
   "cell_type": "code",
   "execution_count": 4,
   "id": "21859539",
   "metadata": {
    "execution": {
     "iopub.execute_input": "2021-06-24T22:16:02.993128Z",
     "iopub.status.busy": "2021-06-24T22:16:02.992091Z",
     "iopub.status.idle": "2021-06-24T22:16:02.995713Z",
     "shell.execute_reply": "2021-06-24T22:16:02.996672Z"
    },
    "papermill": {
     "duration": 0.036845,
     "end_time": "2021-06-24T22:16:02.996921",
     "exception": false,
     "start_time": "2021-06-24T22:16:02.960076",
     "status": "completed"
    },
    "tags": [
     "hide"
    ]
   },
   "outputs": [],
   "source": [
    "if not DEBUG:\n",
    "    warnings.filterwarnings(\"ignore\")"
   ]
  },
  {
   "cell_type": "code",
   "execution_count": 5,
   "id": "12c2c7e4",
   "metadata": {
    "execution": {
     "iopub.execute_input": "2021-06-24T22:16:03.076950Z",
     "iopub.status.busy": "2021-06-24T22:16:03.075992Z",
     "iopub.status.idle": "2021-06-24T22:16:03.081268Z",
     "shell.execute_reply": "2021-06-24T22:16:03.082068Z"
    },
    "papermill": {
     "duration": 0.063998,
     "end_time": "2021-06-24T22:16:03.082341",
     "exception": false,
     "start_time": "2021-06-24T22:16:03.018343",
     "status": "completed"
    },
    "tags": [
     "hide"
    ]
   },
   "outputs": [],
   "source": [
    "# Convenience functions ----\n",
    "\n",
    "filter_start = filter(\n",
    "    _.calitp_extracted_at <= START_DATE,\n",
    "    _.calitp_deleted_at.fillna(\"2099-01-01\") > START_DATE,\n",
    ")\n",
    "\n",
    "filter_end = filter(\n",
    "    _.calitp_extracted_at <= END_DATE,\n",
    "    _.calitp_deleted_at.fillna(\"2099-01-01\") > END_DATE,\n",
    ")\n",
    "\n",
    "filter_itp = filter(\n",
    "    _.calitp_itp_id == CALITP_ITP_ID, _.calitp_url_number == CALITP_URL_NUMBER\n",
    ")\n",
    "\n",
    "collect_to_dict = (\n",
    "    collect()\n",
    "    >> pipe(_.to_dict(orient=\"records\")[0])\n",
    ")\n",
    "\n",
    "\n",
    "select_rm_calitp = select(\n",
    "    -_.calitp_itp_id,\n",
    "    -_.calitp_url_number,\n",
    "    -_.calitp_hash,\n",
    "    -_.calitp_extracted_at,\n",
    "    -_.calitp_deleted_at,\n",
    ")\n",
    "\n",
    "def percent_format(labels):\n",
    "    return [\"{:.0f}%\".format(v*100) for v in labels]\n",
    "\n",
    "def query_id_changes(start_table, end_table, id_vars):\n",
    "    \"\"\"Calculate id variables that are removed, added, or unchanged between tables.\n",
    "    \n",
    "    It works by adding a special column to each table, performing a full join,\n",
    "    then checking where the special column is null.\n",
    "    \"\"\"\n",
    "    sym_id_vars = [_[k] for k in id_vars]\n",
    "\n",
    "    is_in_start = start_table >> select(*id_vars) >> mutate(is_in_start=True)\n",
    "    is_in_end = end_table >> select(*id_vars) >> mutate(is_in_end=True)\n",
    "\n",
    "    baseline = start_table >> count(*id_vars) >> rename(n_baseline=\"n\")\n",
    "    tallies = (\n",
    "        is_in_start\n",
    "        >> full_join(_, is_in_end, id_vars)\n",
    "        >> count(*sym_id_vars, _.is_in_start, _.is_in_end)\n",
    "        >> mutate(\n",
    "            status=case_when(\n",
    "                _,\n",
    "                {\n",
    "                    _.is_in_end.isna(): \"Removed\",\n",
    "                    _.is_in_start.isna(): \"Added\",\n",
    "                    True: \"Unchanged\",\n",
    "                },\n",
    "            )\n",
    "        )\n",
    "        >> count(*sym_id_vars[:-1], _.status)\n",
    "        >> group_by(*sym_id_vars[:-1])\n",
    "        >> mutate(percent=_.n / _.n.sum())\n",
    "    )\n",
    "\n",
    "    return tallies"
   ]
  },
  {
   "cell_type": "code",
   "execution_count": 6,
   "id": "9ed44258",
   "metadata": {
    "execution": {
     "iopub.execute_input": "2021-06-24T22:16:03.157978Z",
     "iopub.status.busy": "2021-06-24T22:16:03.149698Z",
     "iopub.status.idle": "2021-06-24T22:16:26.957199Z",
     "shell.execute_reply": "2021-06-24T22:16:26.957640Z"
    },
    "papermill": {
     "duration": 23.840253,
     "end_time": "2021-06-24T22:16:26.957779",
     "exception": false,
     "start_time": "2021-06-24T22:16:03.117526",
     "status": "completed"
    },
    "tags": [
     "hide"
    ]
   },
   "outputs": [],
   "source": [
    "# Data ====\n",
    "# 1. High level feed info ----\n",
    "feed_info = (\n",
    "    tbl.gtfs_schedule_type2.feed_info()\n",
    "    >> filter_end\n",
    "    >> filter_itp\n",
    "    >> select_rm_calitp\n",
    "    >> collect_to_dict\n",
    ")\n",
    "\n",
    "_n_routes = (\n",
    "    tbl.gtfs_schedule_type2.routes() >> filter_end >> filter_itp >> count() >> collect()\n",
    ")\n",
    "_n_stops = (\n",
    "    tbl.gtfs_schedule_type2.stops() >> filter_end >> filter_itp >> count() >> collect()\n",
    ")\n",
    "\n",
    "feed_info[\"n_routes\"] = int(_n_routes.loc[0, \"n\"])\n",
    "feed_info[\"n_stops\"] = int(_n_stops.loc[0, \"n\"])\n",
    "\n",
    "status = (\n",
    "    tbl.views.gtfs_status_latest()\n",
    "    >> filter(_.itp_id == CALITP_ITP_ID, _.url_number == CALITP_URL_NUMBER)\n",
    "    >> select(-_.url_number, -_.status)\n",
    "    >> select_rm_calitp\n",
    "    >> collect_to_dict\n",
    ")\n",
    "\n",
    "# 2. Monthly metrics ----\n",
    "# Service hours per day. Note that the queried table calculates service\n",
    "# hours per service id, so we need to sum across service ids for the day\n",
    "_cross_cal = (\n",
    "    tbl.views.dim_date()\n",
    "    >> filter(_.full_date.between(START_DATE, END_DATE))\n",
    "    >> select(_.service_date == _.full_date)\n",
    ")\n",
    "\n",
    "tbl_daily_service_hours = (\n",
    "    tbl.views.gtfs_schedule_service_daily_metrics()\n",
    "    >> filter_itp\n",
    "    >> filter(_.service_date.between(START_DATE, END_DATE))\n",
    "    >> right_join(_, _cross_cal, [\"service_date\"])\n",
    "    >> collect()\n",
    "    >> group_by(_.service_date)\n",
    "    >> summarize(\n",
    "        ttl_service_hours=(_.last_arrival_ts.max() - _.first_departure_ts.min()) / 3600,\n",
    "        ttl_service_hours2=_.ttl_service_hours.sum(),\n",
    "    )\n",
    "    >> mutate(\n",
    "        ttl_service_hours=_.ttl_service_hours.astype(float).round(2),\n",
    "        service_date=_.service_date.astype(\"datetime64[ns]\"),\n",
    "    )\n",
    ")\n",
    "\n",
    "# number of days where a feed did not have any trips in service\n",
    "n_expired_days = (\n",
    "    tbl_daily_service_hours\n",
    "    >> filter(_.ttl_service_hours.isna())\n",
    "    >> pipe(lambda d: {\"n\": d.shape[0]})\n",
    ")\n",
    "\n",
    "# 3. Stop and Route ID Changes ----\n",
    "\n",
    "_tbl_stops_start = tbl.gtfs_schedule_type2.stops() >> filter_itp >> filter_start\n",
    "_tbl_stops_end = tbl.gtfs_schedule_type2.stops() >> filter_itp >> filter_end\n",
    "tbl_stops_changed = (\n",
    "    query_id_changes(_tbl_stops_start, _tbl_stops_end, [\"stop_id\"]) >> collect()\n",
    ")\n",
    "\n",
    "_tbl_routes_start = tbl.gtfs_schedule_type2.routes() >> filter_itp >> filter_start\n",
    "_tbl_routes_end = tbl.gtfs_schedule_type2.routes() >> filter_itp >> filter_end\n",
    "tbl_routes_changed = (\n",
    "    query_id_changes(_tbl_routes_start, _tbl_routes_end, [\"route_id\"]) >> collect()\n",
    ")"
   ]
  },
  {
   "cell_type": "code",
   "execution_count": 7,
   "id": "625d7705",
   "metadata": {
    "execution": {
     "iopub.execute_input": "2021-06-24T22:16:26.997408Z",
     "iopub.status.busy": "2021-06-24T22:16:26.996662Z",
     "iopub.status.idle": "2021-06-24T22:16:31.973372Z",
     "shell.execute_reply": "2021-06-24T22:16:31.972791Z"
    },
    "papermill": {
     "duration": 5.000519,
     "end_time": "2021-06-24T22:16:31.973497",
     "exception": false,
     "start_time": "2021-06-24T22:16:26.972978",
     "status": "completed"
    },
    "tags": [
     "hide"
    ]
   },
   "outputs": [],
   "source": [
    "# 4. Feed files being checked for ----\n",
    "\n",
    "file_categories = pd.DataFrame(\n",
    "    {\n",
    "        \"shapes.txt\": \"Visual display\",\n",
    "        \"pathways.txt\": \"Navigation\",\n",
    "        \"levels.txt\": \"Navigation\",\n",
    "        \"fare_rules.txt\": \"Fares\",\n",
    "        \"fare_leg_rules\": \"Fares\",\n",
    "        \"feed_info.txt\": \"Technical contacts\",\n",
    "    }.items(),\n",
    "    columns=[\"name\", \"category\"],\n",
    ")\n",
    "\n",
    "importance = [\"Visual display\", \"Navigation\", \"Fares\", \"Technical contacts\"]\n",
    "\n",
    "tbl_file_check = (\n",
    "    tbl.gtfs_schedule_history.calitp_files_updates()\n",
    "    >> filter_itp\n",
    "    >> filter(_.calitp_extracted_at.isin(BIWEEKLY_MARKERS))\n",
    "    >> select(_.name, _.calitp_extracted_at)\n",
    "    >> collect()\n",
    "    >> right_join(_, file_categories, [\"name\"])\n",
    "    >> mutate(\n",
    "        calitp_extracted_at=_.calitp_extracted_at.fillna(\"missing\").astype(str),\n",
    "        success=\"✅\",\n",
    "    )\n",
    "    >> spread(_.calitp_extracted_at, _.success)\n",
    "    >> select(-_.missing)\n",
    "    >> arrange(_.category.apply(importance.index))\n",
    "    >> select(_.category, _.contains(\"\"))\n",
    "    >> pipe(_.fillna(\"\"))\n",
    ")\n",
    "\n",
    "tbl_validation_notices = (\n",
    "    tbl.views.validation_notices()\n",
    "    >> filter_itp\n",
    "    >> filter(_.severity == \"ERROR\")\n",
    "    >> count(_.code, _.severity)\n",
    "    >> collect()\n",
    ")"
   ]
  },
  {
   "cell_type": "markdown",
   "id": "831e2460",
   "metadata": {
    "papermill": {
     "duration": 0.015477,
     "end_time": "2021-06-24T22:16:32.004858",
     "exception": false,
     "start_time": "2021-06-24T22:16:31.989381",
     "status": "completed"
    },
    "tags": [
     "hide"
    ]
   },
   "source": [
    "## Dump data"
   ]
  },
  {
   "cell_type": "code",
   "execution_count": 8,
   "id": "ec2b0a07",
   "metadata": {
    "execution": {
     "iopub.execute_input": "2021-06-24T22:16:32.050031Z",
     "iopub.status.busy": "2021-06-24T22:16:32.047195Z",
     "iopub.status.idle": "2021-06-24T22:16:32.059290Z",
     "shell.execute_reply": "2021-06-24T22:16:32.060120Z"
    },
    "papermill": {
     "duration": 0.040033,
     "end_time": "2021-06-24T22:16:32.060317",
     "exception": false,
     "start_time": "2021-06-24T22:16:32.020284",
     "status": "completed"
    },
    "tags": [
     "hide"
    ]
   },
   "outputs": [],
   "source": [
    "import json\n",
    "import shutil\n",
    "\n",
    "from pathlib import Path\n",
    "\n",
    "out_dir = Path(f\"output/{CALITP_ITP_ID}_{CALITP_URL_NUMBER}/data\")\n",
    "out_dir.mkdir(parents=True, exist_ok=True)\n",
    "\n",
    "json.dump(feed_info, open(out_dir / \"1_feed_info.json\", \"w\"))\n",
    "json.dump(status, open(out_dir / \"1_status.json\", \"w\"))\n",
    "\n",
    "tbl_daily_service_hours.to_json(out_dir / \"2_daily_service_hours.json\", orient=\"records\")\n",
    "json.dump(n_expired_days, open(out_dir / \"2_n_expired_days.json\", \"w\"))\n",
    "\n",
    "tbl_stops_changed.to_json(out_dir / \"3_stops_changed.json\", orient=\"records\")\n",
    "tbl_routes_changed.to_json(out_dir / \"3_routes_changed.json\", orient=\"records\")\n",
    "tbl_file_check.to_json(out_dir / \"4_file_check.json\", orient=\"records\")\n",
    "tbl_validation_notices.to_json(out_dir / \"4_validation_notices.json\", orient=\"records\")\n"
   ]
  },
  {
   "cell_type": "markdown",
   "id": "3d07a807",
   "metadata": {
    "papermill": {
     "duration": 0.015426,
     "end_time": "2021-06-24T22:16:32.097788",
     "exception": false,
     "start_time": "2021-06-24T22:16:32.082362",
     "status": "completed"
    },
    "tags": []
   },
   "source": [
    "# Monthly GTFS Quality Report"
   ]
  },
  {
   "cell_type": "code",
   "execution_count": 9,
   "id": "146c5cec",
   "metadata": {
    "execution": {
     "iopub.execute_input": "2021-06-24T22:16:32.142618Z",
     "iopub.status.busy": "2021-06-24T22:16:32.141461Z",
     "iopub.status.idle": "2021-06-24T22:16:32.146161Z",
     "shell.execute_reply": "2021-06-24T22:16:32.145284Z"
    },
    "papermill": {
     "duration": 0.032362,
     "end_time": "2021-06-24T22:16:32.146340",
     "exception": false,
     "start_time": "2021-06-24T22:16:32.113978",
     "status": "completed"
    },
    "tags": []
   },
   "outputs": [
    {
     "data": {
      "text/markdown": [
       "\n",
       "Transit provider name: MST\n",
       "\n",
       "Date generated: 2021-06-24\n"
      ],
      "text/plain": [
       "<IPython.core.display.Markdown object>"
      ]
     },
     "execution_count": 9,
     "metadata": {},
     "output_type": "execute_result"
    }
   ],
   "source": [
    "from IPython.display import Markdown\n",
    "\n",
    "Markdown(f\"\"\"\n",
    "Transit provider name: {feed_info[\"feed_publisher_name\"]}\n",
    "\n",
    "Date generated: {DATE_TODAY}\n",
    "\"\"\")"
   ]
  },
  {
   "cell_type": "markdown",
   "id": "60c26e8c",
   "metadata": {
    "papermill": {
     "duration": 0.023353,
     "end_time": "2021-06-24T22:16:32.193929",
     "exception": false,
     "start_time": "2021-06-24T22:16:32.170576",
     "status": "completed"
    },
    "tags": []
   },
   "source": [
    "This is a monthly report, generated by the California Integrated Travel Project ([Cal-ITP](https://dot.ca.gov/cal-itp/cal-itp-gtfs)), summarizing issues discovered by [MobilityData](http://mobilitydata.io/)’s [GTFS Validator](https://github.com/MobilityData/gtfs-validator). This report is available for viewing by the general public to support continuous improvement of GTFS data and the experience of transit passengers. "
   ]
  },
  {
   "cell_type": "markdown",
   "id": "70afb501",
   "metadata": {
    "papermill": {
     "duration": 0.025725,
     "end_time": "2021-06-24T22:16:32.239793",
     "exception": false,
     "start_time": "2021-06-24T22:16:32.214068",
     "status": "completed"
    },
    "tags": []
   },
   "source": [
    "## Overview"
   ]
  },
  {
   "cell_type": "code",
   "execution_count": 10,
   "id": "67cb9210",
   "metadata": {
    "execution": {
     "iopub.execute_input": "2021-06-24T22:16:32.305928Z",
     "iopub.status.busy": "2021-06-24T22:16:32.304964Z",
     "iopub.status.idle": "2021-06-24T22:16:32.309270Z",
     "shell.execute_reply": "2021-06-24T22:16:32.309779Z"
    },
    "papermill": {
     "duration": 0.040253,
     "end_time": "2021-06-24T22:16:32.309935",
     "exception": false,
     "start_time": "2021-06-24T22:16:32.269682",
     "status": "completed"
    },
    "tags": []
   },
   "outputs": [
    {
     "data": {
      "text/markdown": [
       "\n",
       "Feed location: http://www.mst.org/google/google_transit.zip\n",
       "\n",
       "Metrics for the most recent published version of the feed:\n",
       "\n",
       "* Date published: 202101-February2021v00\n",
       "* Number of routes in any service: 32\n",
       "* Number of stops in service: 1327\n"
      ],
      "text/plain": [
       "<IPython.core.display.Markdown object>"
      ]
     },
     "execution_count": 10,
     "metadata": {},
     "output_type": "execute_result"
    }
   ],
   "source": [
    "Markdown(f\"\"\"\n",
    "Feed location: {status[\"gtfs_schedule_url\"]}\n",
    "\n",
    "Metrics for the most recent published version of the feed:\n",
    "\n",
    "* Date published: {feed_info[\"feed_version\"]}\n",
    "* Number of routes in any service: {feed_info[\"n_routes\"]}\n",
    "* Number of stops in service: {feed_info[\"n_stops\"]}\n",
    "\"\"\")"
   ]
  },
  {
   "cell_type": "markdown",
   "id": "ab1dde4b",
   "metadata": {
    "papermill": {
     "duration": 0.027035,
     "end_time": "2021-06-24T22:16:32.360838",
     "exception": false,
     "start_time": "2021-06-24T22:16:32.333803",
     "status": "completed"
    },
    "tags": []
   },
   "source": [
    "## Aggregated Metrics for May"
   ]
  },
  {
   "cell_type": "code",
   "execution_count": 11,
   "id": "27dab576",
   "metadata": {
    "execution": {
     "iopub.execute_input": "2021-06-24T22:16:32.434206Z",
     "iopub.status.busy": "2021-06-24T22:16:32.432723Z",
     "iopub.status.idle": "2021-06-24T22:16:32.438283Z",
     "shell.execute_reply": "2021-06-24T22:16:32.439001Z"
    },
    "papermill": {
     "duration": 0.041189,
     "end_time": "2021-06-24T22:16:32.439236",
     "exception": false,
     "start_time": "2021-06-24T22:16:32.398047",
     "status": "completed"
    },
    "tags": []
   },
   "outputs": [
    {
     "data": {
      "text/markdown": [
       "\n",
       "Days with no service hours: 12\n"
      ],
      "text/plain": [
       "<IPython.core.display.Markdown object>"
      ]
     },
     "execution_count": 11,
     "metadata": {},
     "output_type": "execute_result"
    }
   ],
   "source": [
    "# TODO: \n",
    "\n",
    "# Markdown(f\"\"\"\n",
    "# Days when the active feed was expired: {n_expired_days[\"n\"]}\n",
    "# \"\"\")\n",
    "\n",
    "Markdown(f\"\"\"\n",
    "Days with no service hours: {n_expired_days[\"n\"]}\n",
    "\"\"\")\n"
   ]
  },
  {
   "cell_type": "code",
   "execution_count": 12,
   "id": "97d43418",
   "metadata": {
    "execution": {
     "iopub.execute_input": "2021-06-24T22:16:32.557607Z",
     "iopub.status.busy": "2021-06-24T22:16:32.556572Z",
     "iopub.status.idle": "2021-06-24T22:16:33.255244Z",
     "shell.execute_reply": "2021-06-24T22:16:33.256673Z"
    },
    "papermill": {
     "duration": 0.788031,
     "end_time": "2021-06-24T22:16:33.256929",
     "exception": false,
     "start_time": "2021-06-24T22:16:32.468898",
     "status": "completed"
    },
    "tags": []
   },
   "outputs": [
    {
     "data": {
      "image/png": "[encoded data removed]",
      "text/plain": [
       "<Figure size 640x480 with 1 Axes>"
      ]
     },
     "metadata": {},
     "output_type": "display_data"
    }
   ],
   "source": [
    "(\n",
    "    tbl_daily_service_hours\n",
    "    >> ggplot(aes(\"service_date\", \"ttl_service_hours2\"))\n",
    "    + geom_line()\n",
    "    + geom_point()\n",
    "    + theme(axis_text_x=element_text(angle=45, hjust=1))\n",
    "    + scale_x_datetime(date_breaks=\"1 week\")\n",
    "    + expand_limits(y=0)\n",
    "    + labs(y = \"Total service hours\", x = \"Service date\", title=\"Service hour per day\")\n",
    ").draw();"
   ]
  },
  {
   "cell_type": "markdown",
   "id": "6727231c",
   "metadata": {
    "papermill": {
     "duration": 0.031463,
     "end_time": "2021-06-24T22:16:33.321486",
     "exception": false,
     "start_time": "2021-06-24T22:16:33.290023",
     "status": "completed"
    },
    "tags": []
   },
   "source": [
    "## Changes Since Previous Month"
   ]
  },
  {
   "cell_type": "code",
   "execution_count": 13,
   "id": "444fb87b",
   "metadata": {
    "execution": {
     "iopub.execute_input": "2021-06-24T22:16:33.392130Z",
     "iopub.status.busy": "2021-06-24T22:16:33.390871Z",
     "iopub.status.idle": "2021-06-24T22:16:33.799037Z",
     "shell.execute_reply": "2021-06-24T22:16:33.799740Z"
    },
    "papermill": {
     "duration": 0.454353,
     "end_time": "2021-06-24T22:16:33.799968",
     "exception": false,
     "start_time": "2021-06-24T22:16:33.345615",
     "status": "completed"
    },
    "tags": []
   },
   "outputs": [
    {
     "data": {
      "image/png": "[encoded data removed]",
      "text/plain": [
       "<Figure size 640x480 with 1 Axes>"
      ]
     },
     "metadata": {},
     "output_type": "display_data"
    }
   ],
   "source": [
    "(\n",
    "    pd.concat(\n",
    "        [\n",
    "            tbl_stops_changed >> mutate(kind=\"Stops\"),\n",
    "            tbl_routes_changed >> mutate(kind=\"Routes\"),\n",
    "        ]\n",
    "    )\n",
    "    >> ggplot(aes(\"kind\", \"n\", fill=\"status\"))\n",
    "    + geom_col()\n",
    "    + labs(\n",
    "        x=\"GTFS schedule table\",\n",
    "        y=\"Number of IDs\",\n",
    "        title=f\"IDs Changed Between {START_MONTH_DAY} and {END_MONTH_DAY}\",\n",
    "    )\n",
    ").draw();"
   ]
  },
  {
   "cell_type": "markdown",
   "id": "542e3ca7",
   "metadata": {
    "papermill": {
     "duration": 0.033316,
     "end_time": "2021-06-24T22:16:33.853404",
     "exception": false,
     "start_time": "2021-06-24T22:16:33.820088",
     "status": "completed"
    },
    "tags": []
   },
   "source": [
    "### (Alternative version using percentages)"
   ]
  },
  {
   "cell_type": "code",
   "execution_count": 14,
   "id": "25613882",
   "metadata": {
    "execution": {
     "iopub.execute_input": "2021-06-24T22:16:33.938311Z",
     "iopub.status.busy": "2021-06-24T22:16:33.937069Z",
     "iopub.status.idle": "2021-06-24T22:16:34.462137Z",
     "shell.execute_reply": "2021-06-24T22:16:34.463024Z"
    },
    "papermill": {
     "duration": 0.573909,
     "end_time": "2021-06-24T22:16:34.463240",
     "exception": false,
     "start_time": "2021-06-24T22:16:33.889331",
     "status": "completed"
    },
    "tags": []
   },
   "outputs": [
    {
     "data": {
      "image/png": "[encoded data removed]",
      "text/plain": [
       "<Figure size 640x480 with 1 Axes>"
      ]
     },
     "metadata": {},
     "output_type": "display_data"
    }
   ],
   "source": [
    "(\n",
    "    pd.concat(\n",
    "        [\n",
    "            tbl_stops_changed >> mutate(kind=\"Stops\"),\n",
    "            tbl_routes_changed >> mutate(kind=\"Routes\"),\n",
    "        ]\n",
    "    )\n",
    "    >> ggplot(aes(\"kind\", \"percent\", fill=\"status\"))\n",
    "    + geom_col()\n",
    "    + labs(\n",
    "        x=\"GTFS schedule table\",\n",
    "        y=\"Percentage of IDs\",\n",
    "        title=f\"IDs Changed Between {START_MONTH_DAY} and {END_MONTH_DAY}\",\n",
    "    )\n",
    "    + scale_y_continuous(labels=percent_format, breaks=np.arange(0, 1.2, 0.2))\n",
    ").draw();"
   ]
  },
  {
   "cell_type": "markdown",
   "id": "354b95a5",
   "metadata": {
    "papermill": {
     "duration": 0.046485,
     "end_time": "2021-06-24T22:16:34.550358",
     "exception": false,
     "start_time": "2021-06-24T22:16:34.503873",
     "status": "completed"
    },
    "tags": []
   },
   "source": [
    "## Consistency with the [California GTFS Minimum Guidelines](https://dot.ca.gov/cal-itp/california-minimum-general-transit-feed-specification-gtfs-guidelines) for the feed downloaded\n"
   ]
  },
  {
   "cell_type": "markdown",
   "id": "0f58c5c5",
   "metadata": {
    "papermill": {
     "duration": 0.038746,
     "end_time": "2021-06-24T22:16:34.632272",
     "exception": false,
     "start_time": "2021-06-24T22:16:34.593526",
     "status": "completed"
    },
    "tags": []
   },
   "source": [
    "### Do the following files/fields exist?"
   ]
  },
  {
   "cell_type": "code",
   "execution_count": 15,
   "id": "bc6b3395",
   "metadata": {
    "execution": {
     "iopub.execute_input": "2021-06-24T22:16:34.719863Z",
     "iopub.status.busy": "2021-06-24T22:16:34.718806Z",
     "iopub.status.idle": "2021-06-24T22:16:34.738917Z",
     "shell.execute_reply": "2021-06-24T22:16:34.739796Z"
    },
    "papermill": {
     "duration": 0.066725,
     "end_time": "2021-06-24T22:16:34.740077",
     "exception": false,
     "start_time": "2021-06-24T22:16:34.673352",
     "status": "completed"
    },
    "tags": []
   },
   "outputs": [
    {
     "data": {
      "text/html": [
       "<div>\n",
       "<style scoped>\n",
       "    .dataframe tbody tr th:only-of-type {\n",
       "        vertical-align: middle;\n",
       "    }\n",
       "\n",
       "    .dataframe tbody tr th {\n",
       "        vertical-align: top;\n",
       "    }\n",
       "\n",
       "    .dataframe thead th {\n",
       "        text-align: right;\n",
       "    }\n",
       "</style>\n",
       "<table border=\"1\" class=\"dataframe\">\n",
       "  <thead>\n",
       "    <tr style=\"text-align: right;\">\n",
       "      <th></th>\n",
       "      <th>category</th>\n",
       "      <th>name</th>\n",
       "      <th>2021-05-16</th>\n",
       "      <th>2021-05-30</th>\n",
       "    </tr>\n",
       "  </thead>\n",
       "  <tbody>\n",
       "    <tr>\n",
       "      <th>5</th>\n",
       "      <td>Visual display</td>\n",
       "      <td>shapes.txt</td>\n",
       "      <td>✅</td>\n",
       "      <td>✅</td>\n",
       "    </tr>\n",
       "    <tr>\n",
       "      <th>3</th>\n",
       "      <td>Navigation</td>\n",
       "      <td>levels.txt</td>\n",
       "      <td></td>\n",
       "      <td></td>\n",
       "    </tr>\n",
       "    <tr>\n",
       "      <th>4</th>\n",
       "      <td>Navigation</td>\n",
       "      <td>pathways.txt</td>\n",
       "      <td></td>\n",
       "      <td></td>\n",
       "    </tr>\n",
       "    <tr>\n",
       "      <th>0</th>\n",
       "      <td>Fares</td>\n",
       "      <td>fare_leg_rules</td>\n",
       "      <td></td>\n",
       "      <td></td>\n",
       "    </tr>\n",
       "    <tr>\n",
       "      <th>1</th>\n",
       "      <td>Fares</td>\n",
       "      <td>fare_rules.txt</td>\n",
       "      <td>✅</td>\n",
       "      <td>✅</td>\n",
       "    </tr>\n",
       "    <tr>\n",
       "      <th>2</th>\n",
       "      <td>Technical contacts</td>\n",
       "      <td>feed_info.txt</td>\n",
       "      <td>✅</td>\n",
       "      <td>✅</td>\n",
       "    </tr>\n",
       "  </tbody>\n",
       "</table>\n",
       "</div>"
      ],
      "text/plain": [
       "             category            name 2021-05-16 2021-05-30\n",
       "5      Visual display      shapes.txt          ✅          ✅\n",
       "3          Navigation      levels.txt                      \n",
       "4          Navigation    pathways.txt                      \n",
       "0               Fares  fare_leg_rules                      \n",
       "1               Fares  fare_rules.txt          ✅          ✅\n",
       "2  Technical contacts   feed_info.txt          ✅          ✅"
      ]
     },
     "execution_count": 15,
     "metadata": {},
     "output_type": "execute_result"
    }
   ],
   "source": [
    "tbl_file_check"
   ]
  },
  {
   "cell_type": "markdown",
   "id": "929dd6f8",
   "metadata": {
    "papermill": {
     "duration": 0.03973,
     "end_time": "2021-06-24T22:16:34.825092",
     "exception": false,
     "start_time": "2021-06-24T22:16:34.785362",
     "status": "completed"
    },
    "tags": []
   },
   "source": [
    "### Validation Errors Observed"
   ]
  },
  {
   "cell_type": "code",
   "execution_count": 16,
   "id": "69c18194",
   "metadata": {
    "execution": {
     "iopub.execute_input": "2021-06-24T22:16:34.910541Z",
     "iopub.status.busy": "2021-06-24T22:16:34.909482Z",
     "iopub.status.idle": "2021-06-24T22:16:34.915375Z",
     "shell.execute_reply": "2021-06-24T22:16:34.916182Z"
    },
    "papermill": {
     "duration": 0.053367,
     "end_time": "2021-06-24T22:16:34.916405",
     "exception": false,
     "start_time": "2021-06-24T22:16:34.863038",
     "status": "completed"
    },
    "tags": []
   },
   "outputs": [
    {
     "data": {
      "text/markdown": [
       "No validation error observed in your feed."
      ],
      "text/plain": [
       "<IPython.core.display.Markdown object>"
      ]
     },
     "metadata": {},
     "output_type": "display_data"
    }
   ],
   "source": [
    "if tbl_validation_notices.shape[0] == 0:\n",
    "    display(Markdown(\"No validation error observed in your feed.\"))\n",
    "else:    \n",
    "    display(tbl_validation_notices)"
   ]
  },
  {
   "cell_type": "markdown",
   "id": "8ca24da4",
   "metadata": {
    "papermill": {
     "duration": 0.042712,
     "end_time": "2021-06-24T22:16:34.999872",
     "exception": false,
     "start_time": "2021-06-24T22:16:34.957160",
     "status": "completed"
    },
    "tags": []
   },
   "source": [
    "For more information about Cal-ITP, including the [Minimum GTFS Guidelines](https://dot.ca.gov/cal-itp/california-minimum-general-transit-feed-specification-gtfs-guidelines) and our [Transit Data Helpdesk](https://dot.ca.gov/programs/rail-and-mass-transportation/gtfs/helpdesk), contact [GTFSRT@dot.ca.gov](mailto:GTFSRT@dot.ca.gov)."
   ]
  }
 ],
 "metadata": {
  "kernelspec": {
   "display_name": "venv-calitp-py",
   "language": "python",
   "name": "venv-calitp-py"
  },
  "language_info": {
   "codemirror_mode": {
    "name": "ipython",
    "version": 3
   },
   "file_extension": ".py",
   "mimetype": "text/x-python",
   "name": "python",
   "nbconvert_exporter": "python",
   "pygments_lexer": "ipython3",
   "version": "3.8.5"
  },
  "papermill": {
   "default_parameters": {},
   "duration": 40.820011,
   "end_time": "2021-06-24T22:16:35.900590",
   "environment_variables": {},
   "exception": null,
   "input_path": "report.ipynb",
   "output_path": "output/208/report.ipynb",
   "parameters": {
    "CALITP_ITP_ID": 208,
    "CALITP_URL_NUMBER": 0,
    "DEBUG": false,
    "END_DATE": "2021-06-01",
    "START_DATE": "2021-05-01"
   },
   "start_time": "2021-06-24T22:15:55.080579",
   "version": "2.3.3"
  }
 },
 "nbformat": 4,
 "nbformat_minor": 5
}