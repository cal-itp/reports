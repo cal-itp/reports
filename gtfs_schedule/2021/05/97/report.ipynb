{
 "cells": [
  {
   "cell_type": "markdown",
   "id": "6d82843a",
   "metadata": {
    "papermill": {
     "duration": 0.031048,
     "end_time": "2021-06-24T22:12:10.988912",
     "exception": false,
     "start_time": "2021-06-24T22:12:10.957864",
     "status": "completed"
    },
    "tags": [
     "hide"
    ]
   },
   "source": [
    "# Setup"
   ]
  },
  {
   "cell_type": "code",
   "execution_count": 1,
   "id": "0b53d863",
   "metadata": {
    "execution": {
     "iopub.execute_input": "2021-06-24T22:12:11.070345Z",
     "iopub.status.busy": "2021-06-24T22:12:11.067129Z",
     "iopub.status.idle": "2021-06-24T22:12:19.695039Z",
     "shell.execute_reply": "2021-06-24T22:12:19.694543Z"
    },
    "papermill": {
     "duration": 8.675124,
     "end_time": "2021-06-24T22:12:19.695154",
     "exception": false,
     "start_time": "2021-06-24T22:12:11.020030",
     "status": "completed"
    },
    "tags": [
     "hide"
    ]
   },
   "outputs": [],
   "source": [
    "import pandas as pd\n",
    "import numpy as np\n",
    "import warnings\n",
    "\n",
    "from io import StringIO\n",
    "from calitp.tables import tbl\n",
    "from datetime import date, datetime\n",
    "from siuba import *\n",
    "from plotnine import *\n",
    "\n",
    "def friendly_date(x): \n",
    "    return datetime.strptime(x, \"%Y-%m-%d\").strftime(\"%b %d\")"
   ]
  },
  {
   "cell_type": "code",
   "execution_count": 2,
   "id": "95ee0764",
   "metadata": {
    "execution": {
     "iopub.execute_input": "2021-06-24T22:12:19.732793Z",
     "iopub.status.busy": "2021-06-24T22:12:19.732264Z",
     "iopub.status.idle": "2021-06-24T22:12:19.734927Z",
     "shell.execute_reply": "2021-06-24T22:12:19.734397Z"
    },
    "papermill": {
     "duration": 0.024384,
     "end_time": "2021-06-24T22:12:19.735035",
     "exception": false,
     "start_time": "2021-06-24T22:12:19.710651",
     "status": "completed"
    },
    "tags": [
     "parameters",
     "hide"
    ]
   },
   "outputs": [],
   "source": [
    "CALITP_ITP_ID = 98\n",
    "#CALITP_ITP_ID=45\n",
    "CALITP_URL_NUMBER = 0\n",
    "DEBUG = False\n",
    "\n",
    "START_DATE = \"2021-05-01\"\n",
    "END_DATE = \"2021-06-01\"\n",
    "DATE_TODAY=date.today()\n",
    "START_MONTH_DAY = friendly_date(START_DATE)\n",
    "END_MONTH_DAY = friendly_date(END_DATE)\n",
    "\n",
    "WEEK_MARKERS = pd.date_range(START_DATE, END_DATE, freq=\"W\").astype(str).tolist()\n",
    "BIWEEKLY_MARKERS = pd.date_range(START_DATE, END_DATE, freq=\"2W\").astype(str).tolist()"
   ]
  },
  {
   "cell_type": "code",
   "execution_count": 3,
   "id": "913ffe7d",
   "metadata": {
    "execution": {
     "iopub.execute_input": "2021-06-24T22:12:19.770775Z",
     "iopub.status.busy": "2021-06-24T22:12:19.770196Z",
     "iopub.status.idle": "2021-06-24T22:12:19.772370Z",
     "shell.execute_reply": "2021-06-24T22:12:19.772803Z"
    },
    "papermill": {
     "duration": 0.023438,
     "end_time": "2021-06-24T22:12:19.772942",
     "exception": false,
     "start_time": "2021-06-24T22:12:19.749504",
     "status": "completed"
    },
    "tags": [
     "injected-parameters"
    ]
   },
   "outputs": [],
   "source": [
    "# Parameters\n",
    "CALITP_ITP_ID = 97\n",
    "CALITP_URL_NUMBER = 0\n",
    "DEBUG = False\n",
    "START_DATE = \"2021-05-01\"\n",
    "END_DATE = \"2021-06-01\"\n"
   ]
  },
  {
   "cell_type": "code",
   "execution_count": 4,
   "id": "dd1c15d4",
   "metadata": {
    "execution": {
     "iopub.execute_input": "2021-06-24T22:12:19.807177Z",
     "iopub.status.busy": "2021-06-24T22:12:19.806457Z",
     "iopub.status.idle": "2021-06-24T22:12:19.809387Z",
     "shell.execute_reply": "2021-06-24T22:12:19.808803Z"
    },
    "papermill": {
     "duration": 0.022088,
     "end_time": "2021-06-24T22:12:19.809576",
     "exception": false,
     "start_time": "2021-06-24T22:12:19.787488",
     "status": "completed"
    },
    "tags": [
     "hide"
    ]
   },
   "outputs": [],
   "source": [
    "if not DEBUG:\n",
    "    warnings.filterwarnings(\"ignore\")"
   ]
  },
  {
   "cell_type": "code",
   "execution_count": 5,
   "id": "7c5ecfa7",
   "metadata": {
    "execution": {
     "iopub.execute_input": "2021-06-24T22:12:19.851765Z",
     "iopub.status.busy": "2021-06-24T22:12:19.851046Z",
     "iopub.status.idle": "2021-06-24T22:12:19.853750Z",
     "shell.execute_reply": "2021-06-24T22:12:19.853290Z"
    },
    "papermill": {
     "duration": 0.027981,
     "end_time": "2021-06-24T22:12:19.853864",
     "exception": false,
     "start_time": "2021-06-24T22:12:19.825883",
     "status": "completed"
    },
    "tags": [
     "hide"
    ]
   },
   "outputs": [],
   "source": [
    "# Convenience functions ----\n",
    "\n",
    "filter_start = filter(\n",
    "    _.calitp_extracted_at <= START_DATE,\n",
    "    _.calitp_deleted_at.fillna(\"2099-01-01\") > START_DATE,\n",
    ")\n",
    "\n",
    "filter_end = filter(\n",
    "    _.calitp_extracted_at <= END_DATE,\n",
    "    _.calitp_deleted_at.fillna(\"2099-01-01\") > END_DATE,\n",
    ")\n",
    "\n",
    "filter_itp = filter(\n",
    "    _.calitp_itp_id == CALITP_ITP_ID, _.calitp_url_number == CALITP_URL_NUMBER\n",
    ")\n",
    "\n",
    "collect_to_dict = (\n",
    "    collect()\n",
    "    >> pipe(_.to_dict(orient=\"records\")[0])\n",
    ")\n",
    "\n",
    "\n",
    "select_rm_calitp = select(\n",
    "    -_.calitp_itp_id,\n",
    "    -_.calitp_url_number,\n",
    "    -_.calitp_hash,\n",
    "    -_.calitp_extracted_at,\n",
    "    -_.calitp_deleted_at,\n",
    ")\n",
    "\n",
    "def percent_format(labels):\n",
    "    return [\"{:.0f}%\".format(v*100) for v in labels]\n",
    "\n",
    "def query_id_changes(start_table, end_table, id_vars):\n",
    "    \"\"\"Calculate id variables that are removed, added, or unchanged between tables.\n",
    "    \n",
    "    It works by adding a special column to each table, performing a full join,\n",
    "    then checking where the special column is null.\n",
    "    \"\"\"\n",
    "    sym_id_vars = [_[k] for k in id_vars]\n",
    "\n",
    "    is_in_start = start_table >> select(*id_vars) >> mutate(is_in_start=True)\n",
    "    is_in_end = end_table >> select(*id_vars) >> mutate(is_in_end=True)\n",
    "\n",
    "    baseline = start_table >> count(*id_vars) >> rename(n_baseline=\"n\")\n",
    "    tallies = (\n",
    "        is_in_start\n",
    "        >> full_join(_, is_in_end, id_vars)\n",
    "        >> count(*sym_id_vars, _.is_in_start, _.is_in_end)\n",
    "        >> mutate(\n",
    "            status=case_when(\n",
    "                _,\n",
    "                {\n",
    "                    _.is_in_end.isna(): \"Removed\",\n",
    "                    _.is_in_start.isna(): \"Added\",\n",
    "                    True: \"Unchanged\",\n",
    "                },\n",
    "            )\n",
    "        )\n",
    "        >> count(*sym_id_vars[:-1], _.status)\n",
    "        >> group_by(*sym_id_vars[:-1])\n",
    "        >> mutate(percent=_.n / _.n.sum())\n",
    "    )\n",
    "\n",
    "    return tallies"
   ]
  },
  {
   "cell_type": "code",
   "execution_count": 6,
   "id": "af109899",
   "metadata": {
    "execution": {
     "iopub.execute_input": "2021-06-24T22:12:19.895999Z",
     "iopub.status.busy": "2021-06-24T22:12:19.895239Z",
     "iopub.status.idle": "2021-06-24T22:12:45.200536Z",
     "shell.execute_reply": "2021-06-24T22:12:45.199774Z"
    },
    "papermill": {
     "duration": 25.331754,
     "end_time": "2021-06-24T22:12:45.200717",
     "exception": false,
     "start_time": "2021-06-24T22:12:19.868963",
     "status": "completed"
    },
    "tags": [
     "hide"
    ]
   },
   "outputs": [],
   "source": [
    "# Data ====\n",
    "# 1. High level feed info ----\n",
    "feed_info = (\n",
    "    tbl.gtfs_schedule_type2.feed_info()\n",
    "    >> filter_end\n",
    "    >> filter_itp\n",
    "    >> select_rm_calitp\n",
    "    >> collect_to_dict\n",
    ")\n",
    "\n",
    "_n_routes = (\n",
    "    tbl.gtfs_schedule_type2.routes() >> filter_end >> filter_itp >> count() >> collect()\n",
    ")\n",
    "_n_stops = (\n",
    "    tbl.gtfs_schedule_type2.stops() >> filter_end >> filter_itp >> count() >> collect()\n",
    ")\n",
    "\n",
    "feed_info[\"n_routes\"] = int(_n_routes.loc[0, \"n\"])\n",
    "feed_info[\"n_stops\"] = int(_n_stops.loc[0, \"n\"])\n",
    "\n",
    "status = (\n",
    "    tbl.views.gtfs_status_latest()\n",
    "    >> filter(_.itp_id == CALITP_ITP_ID, _.url_number == CALITP_URL_NUMBER)\n",
    "    >> select(-_.url_number, -_.status)\n",
    "    >> select_rm_calitp\n",
    "    >> collect_to_dict\n",
    ")\n",
    "\n",
    "# 2. Monthly metrics ----\n",
    "# Service hours per day. Note that the queried table calculates service\n",
    "# hours per service id, so we need to sum across service ids for the day\n",
    "_cross_cal = (\n",
    "    tbl.views.dim_date()\n",
    "    >> filter(_.full_date.between(START_DATE, END_DATE))\n",
    "    >> select(_.service_date == _.full_date)\n",
    ")\n",
    "\n",
    "tbl_daily_service_hours = (\n",
    "    tbl.views.gtfs_schedule_service_daily_metrics()\n",
    "    >> filter_itp\n",
    "    >> filter(_.service_date.between(START_DATE, END_DATE))\n",
    "    >> right_join(_, _cross_cal, [\"service_date\"])\n",
    "    >> collect()\n",
    "    >> group_by(_.service_date)\n",
    "    >> summarize(\n",
    "        ttl_service_hours=(_.last_arrival_ts.max() - _.first_departure_ts.min()) / 3600,\n",
    "        ttl_service_hours2=_.ttl_service_hours.sum(),\n",
    "    )\n",
    "    >> mutate(\n",
    "        ttl_service_hours=_.ttl_service_hours.astype(float).round(2),\n",
    "        service_date=_.service_date.astype(\"datetime64[ns]\"),\n",
    "    )\n",
    ")\n",
    "\n",
    "# number of days where a feed did not have any trips in service\n",
    "n_expired_days = (\n",
    "    tbl_daily_service_hours\n",
    "    >> filter(_.ttl_service_hours.isna())\n",
    "    >> pipe(lambda d: {\"n\": d.shape[0]})\n",
    ")\n",
    "\n",
    "# 3. Stop and Route ID Changes ----\n",
    "\n",
    "_tbl_stops_start = tbl.gtfs_schedule_type2.stops() >> filter_itp >> filter_start\n",
    "_tbl_stops_end = tbl.gtfs_schedule_type2.stops() >> filter_itp >> filter_end\n",
    "tbl_stops_changed = (\n",
    "    query_id_changes(_tbl_stops_start, _tbl_stops_end, [\"stop_id\"]) >> collect()\n",
    ")\n",
    "\n",
    "_tbl_routes_start = tbl.gtfs_schedule_type2.routes() >> filter_itp >> filter_start\n",
    "_tbl_routes_end = tbl.gtfs_schedule_type2.routes() >> filter_itp >> filter_end\n",
    "tbl_routes_changed = (\n",
    "    query_id_changes(_tbl_routes_start, _tbl_routes_end, [\"route_id\"]) >> collect()\n",
    ")"
   ]
  },
  {
   "cell_type": "code",
   "execution_count": 7,
   "id": "61899038",
   "metadata": {
    "execution": {
     "iopub.execute_input": "2021-06-24T22:12:45.262907Z",
     "iopub.status.busy": "2021-06-24T22:12:45.261912Z",
     "iopub.status.idle": "2021-06-24T22:12:50.957962Z",
     "shell.execute_reply": "2021-06-24T22:12:50.957487Z"
    },
    "papermill": {
     "duration": 5.738263,
     "end_time": "2021-06-24T22:12:50.958079",
     "exception": false,
     "start_time": "2021-06-24T22:12:45.219816",
     "status": "completed"
    },
    "tags": [
     "hide"
    ]
   },
   "outputs": [],
   "source": [
    "# 4. Feed files being checked for ----\n",
    "\n",
    "file_categories = pd.DataFrame(\n",
    "    {\n",
    "        \"shapes.txt\": \"Visual display\",\n",
    "        \"pathways.txt\": \"Navigation\",\n",
    "        \"levels.txt\": \"Navigation\",\n",
    "        \"fare_rules.txt\": \"Fares\",\n",
    "        \"fare_leg_rules\": \"Fares\",\n",
    "        \"feed_info.txt\": \"Technical contacts\",\n",
    "    }.items(),\n",
    "    columns=[\"name\", \"category\"],\n",
    ")\n",
    "\n",
    "importance = [\"Visual display\", \"Navigation\", \"Fares\", \"Technical contacts\"]\n",
    "\n",
    "tbl_file_check = (\n",
    "    tbl.gtfs_schedule_history.calitp_files_updates()\n",
    "    >> filter_itp\n",
    "    >> filter(_.calitp_extracted_at.isin(BIWEEKLY_MARKERS))\n",
    "    >> select(_.name, _.calitp_extracted_at)\n",
    "    >> collect()\n",
    "    >> right_join(_, file_categories, [\"name\"])\n",
    "    >> mutate(\n",
    "        calitp_extracted_at=_.calitp_extracted_at.fillna(\"missing\").astype(str),\n",
    "        success=\"✅\",\n",
    "    )\n",
    "    >> spread(_.calitp_extracted_at, _.success)\n",
    "    >> select(-_.missing)\n",
    "    >> arrange(_.category.apply(importance.index))\n",
    "    >> select(_.category, _.contains(\"\"))\n",
    "    >> pipe(_.fillna(\"\"))\n",
    ")\n",
    "\n",
    "tbl_validation_notices = (\n",
    "    tbl.views.validation_notices()\n",
    "    >> filter_itp\n",
    "    >> filter(_.severity == \"ERROR\")\n",
    "    >> count(_.code, _.severity)\n",
    "    >> collect()\n",
    ")"
   ]
  },
  {
   "cell_type": "markdown",
   "id": "5254fe6d",
   "metadata": {
    "papermill": {
     "duration": 0.014884,
     "end_time": "2021-06-24T22:12:50.988594",
     "exception": false,
     "start_time": "2021-06-24T22:12:50.973710",
     "status": "completed"
    },
    "tags": [
     "hide"
    ]
   },
   "source": [
    "## Dump data"
   ]
  },
  {
   "cell_type": "code",
   "execution_count": 8,
   "id": "ee9b7d84",
   "metadata": {
    "execution": {
     "iopub.execute_input": "2021-06-24T22:12:51.027471Z",
     "iopub.status.busy": "2021-06-24T22:12:51.026787Z",
     "iopub.status.idle": "2021-06-24T22:12:51.035004Z",
     "shell.execute_reply": "2021-06-24T22:12:51.034558Z"
    },
    "papermill": {
     "duration": 0.031293,
     "end_time": "2021-06-24T22:12:51.035111",
     "exception": false,
     "start_time": "2021-06-24T22:12:51.003818",
     "status": "completed"
    },
    "tags": [
     "hide"
    ]
   },
   "outputs": [],
   "source": [
    "import json\n",
    "import shutil\n",
    "\n",
    "from pathlib import Path\n",
    "\n",
    "out_dir = Path(f\"output/{CALITP_ITP_ID}_{CALITP_URL_NUMBER}/data\")\n",
    "out_dir.mkdir(parents=True, exist_ok=True)\n",
    "\n",
    "json.dump(feed_info, open(out_dir / \"1_feed_info.json\", \"w\"))\n",
    "json.dump(status, open(out_dir / \"1_status.json\", \"w\"))\n",
    "\n",
    "tbl_daily_service_hours.to_json(out_dir / \"2_daily_service_hours.json\", orient=\"records\")\n",
    "json.dump(n_expired_days, open(out_dir / \"2_n_expired_days.json\", \"w\"))\n",
    "\n",
    "tbl_stops_changed.to_json(out_dir / \"3_stops_changed.json\", orient=\"records\")\n",
    "tbl_routes_changed.to_json(out_dir / \"3_routes_changed.json\", orient=\"records\")\n",
    "tbl_file_check.to_json(out_dir / \"4_file_check.json\", orient=\"records\")\n",
    "tbl_validation_notices.to_json(out_dir / \"4_validation_notices.json\", orient=\"records\")\n"
   ]
  },
  {
   "cell_type": "markdown",
   "id": "d6446a69",
   "metadata": {
    "papermill": {
     "duration": 0.016918,
     "end_time": "2021-06-24T22:12:51.067877",
     "exception": false,
     "start_time": "2021-06-24T22:12:51.050959",
     "status": "completed"
    },
    "tags": []
   },
   "source": [
    "# Monthly GTFS Quality Report"
   ]
  },
  {
   "cell_type": "code",
   "execution_count": 9,
   "id": "fdb81368",
   "metadata": {
    "execution": {
     "iopub.execute_input": "2021-06-24T22:12:51.107434Z",
     "iopub.status.busy": "2021-06-24T22:12:51.104638Z",
     "iopub.status.idle": "2021-06-24T22:12:51.111095Z",
     "shell.execute_reply": "2021-06-24T22:12:51.110529Z"
    },
    "papermill": {
     "duration": 0.025147,
     "end_time": "2021-06-24T22:12:51.111216",
     "exception": false,
     "start_time": "2021-06-24T22:12:51.086069",
     "status": "completed"
    },
    "tags": []
   },
   "outputs": [
    {
     "data": {
      "text/markdown": [
       "\n",
       "Transit provider name: Trillium Solutions, Inc.\n",
       "\n",
       "Date generated: 2021-06-24\n"
      ],
      "text/plain": [
       "<IPython.core.display.Markdown object>"
      ]
     },
     "execution_count": 9,
     "metadata": {},
     "output_type": "execute_result"
    }
   ],
   "source": [
    "from IPython.display import Markdown\n",
    "\n",
    "Markdown(f\"\"\"\n",
    "Transit provider name: {feed_info[\"feed_publisher_name\"]}\n",
    "\n",
    "Date generated: {DATE_TODAY}\n",
    "\"\"\")"
   ]
  },
  {
   "cell_type": "markdown",
   "id": "d552d294",
   "metadata": {
    "papermill": {
     "duration": 0.020924,
     "end_time": "2021-06-24T22:12:51.148112",
     "exception": false,
     "start_time": "2021-06-24T22:12:51.127188",
     "status": "completed"
    },
    "tags": []
   },
   "source": [
    "This is a monthly report, generated by the California Integrated Travel Project ([Cal-ITP](https://dot.ca.gov/cal-itp/cal-itp-gtfs)), summarizing issues discovered by [MobilityData](http://mobilitydata.io/)’s [GTFS Validator](https://github.com/MobilityData/gtfs-validator). This report is available for viewing by the general public to support continuous improvement of GTFS data and the experience of transit passengers. "
   ]
  },
  {
   "cell_type": "markdown",
   "id": "ecd7803f",
   "metadata": {
    "papermill": {
     "duration": 0.015146,
     "end_time": "2021-06-24T22:12:51.179000",
     "exception": false,
     "start_time": "2021-06-24T22:12:51.163854",
     "status": "completed"
    },
    "tags": []
   },
   "source": [
    "## Overview"
   ]
  },
  {
   "cell_type": "code",
   "execution_count": 10,
   "id": "6de8c177",
   "metadata": {
    "execution": {
     "iopub.execute_input": "2021-06-24T22:12:51.214302Z",
     "iopub.status.busy": "2021-06-24T22:12:51.213577Z",
     "iopub.status.idle": "2021-06-24T22:12:51.217169Z",
     "shell.execute_reply": "2021-06-24T22:12:51.216435Z"
    },
    "papermill": {
     "duration": 0.02283,
     "end_time": "2021-06-24T22:12:51.217327",
     "exception": false,
     "start_time": "2021-06-24T22:12:51.194497",
     "status": "completed"
    },
    "tags": []
   },
   "outputs": [
    {
     "data": {
      "text/markdown": [
       "\n",
       "Feed location: http://data.trilliumtransit.com/gtfs/duartetransit-ca-us/duartetransit-ca-us.zip\n",
       "\n",
       "Metrics for the most recent published version of the feed:\n",
       "\n",
       "* Date published: UTC: 11-Dec-2018 00:26\n",
       "* Number of routes in any service: 2\n",
       "* Number of stops in service: 93\n"
      ],
      "text/plain": [
       "<IPython.core.display.Markdown object>"
      ]
     },
     "execution_count": 10,
     "metadata": {},
     "output_type": "execute_result"
    }
   ],
   "source": [
    "Markdown(f\"\"\"\n",
    "Feed location: {status[\"gtfs_schedule_url\"]}\n",
    "\n",
    "Metrics for the most recent published version of the feed:\n",
    "\n",
    "* Date published: {feed_info[\"feed_version\"]}\n",
    "* Number of routes in any service: {feed_info[\"n_routes\"]}\n",
    "* Number of stops in service: {feed_info[\"n_stops\"]}\n",
    "\"\"\")"
   ]
  },
  {
   "cell_type": "markdown",
   "id": "1bb759d2",
   "metadata": {
    "papermill": {
     "duration": 0.019335,
     "end_time": "2021-06-24T22:12:51.252684",
     "exception": false,
     "start_time": "2021-06-24T22:12:51.233349",
     "status": "completed"
    },
    "tags": []
   },
   "source": [
    "## Aggregated Metrics for May"
   ]
  },
  {
   "cell_type": "code",
   "execution_count": 11,
   "id": "f9a48b8c",
   "metadata": {
    "execution": {
     "iopub.execute_input": "2021-06-24T22:12:51.289838Z",
     "iopub.status.busy": "2021-06-24T22:12:51.289109Z",
     "iopub.status.idle": "2021-06-24T22:12:51.292302Z",
     "shell.execute_reply": "2021-06-24T22:12:51.292733Z"
    },
    "papermill": {
     "duration": 0.023818,
     "end_time": "2021-06-24T22:12:51.292877",
     "exception": false,
     "start_time": "2021-06-24T22:12:51.269059",
     "status": "completed"
    },
    "tags": []
   },
   "outputs": [
    {
     "data": {
      "text/markdown": [
       "\n",
       "Days with no service hours: 32\n"
      ],
      "text/plain": [
       "<IPython.core.display.Markdown object>"
      ]
     },
     "execution_count": 11,
     "metadata": {},
     "output_type": "execute_result"
    }
   ],
   "source": [
    "# TODO: \n",
    "\n",
    "# Markdown(f\"\"\"\n",
    "# Days when the active feed was expired: {n_expired_days[\"n\"]}\n",
    "# \"\"\")\n",
    "\n",
    "Markdown(f\"\"\"\n",
    "Days with no service hours: {n_expired_days[\"n\"]}\n",
    "\"\"\")\n"
   ]
  },
  {
   "cell_type": "code",
   "execution_count": 12,
   "id": "301ff538",
   "metadata": {
    "execution": {
     "iopub.execute_input": "2021-06-24T22:12:51.358890Z",
     "iopub.status.busy": "2021-06-24T22:12:51.347213Z",
     "iopub.status.idle": "2021-06-24T22:12:51.750354Z",
     "shell.execute_reply": "2021-06-24T22:12:51.751600Z"
    },
    "papermill": {
     "duration": 0.44226,
     "end_time": "2021-06-24T22:12:51.751833",
     "exception": false,
     "start_time": "2021-06-24T22:12:51.309573",
     "status": "completed"
    },
    "tags": []
   },
   "outputs": [
    {
     "data": {
      "image/png": "[encoded data removed]",
      "text/plain": [
       "<Figure size 640x480 with 1 Axes>"
      ]
     },
     "metadata": {},
     "output_type": "display_data"
    }
   ],
   "source": [
    "(\n",
    "    tbl_daily_service_hours\n",
    "    >> ggplot(aes(\"service_date\", \"ttl_service_hours2\"))\n",
    "    + geom_line()\n",
    "    + geom_point()\n",
    "    + theme(axis_text_x=element_text(angle=45, hjust=1))\n",
    "    + scale_x_datetime(date_breaks=\"1 week\")\n",
    "    + expand_limits(y=0)\n",
    "    + labs(y = \"Total service hours\", x = \"Service date\", title=\"Service hour per day\")\n",
    ").draw();"
   ]
  },
  {
   "cell_type": "markdown",
   "id": "f6d34de1",
   "metadata": {
    "papermill": {
     "duration": 0.033979,
     "end_time": "2021-06-24T22:12:51.818839",
     "exception": false,
     "start_time": "2021-06-24T22:12:51.784860",
     "status": "completed"
    },
    "tags": []
   },
   "source": [
    "## Changes Since Previous Month"
   ]
  },
  {
   "cell_type": "code",
   "execution_count": 13,
   "id": "3db978da",
   "metadata": {
    "execution": {
     "iopub.execute_input": "2021-06-24T22:12:51.905576Z",
     "iopub.status.busy": "2021-06-24T22:12:51.887954Z",
     "iopub.status.idle": "2021-06-24T22:12:52.308200Z",
     "shell.execute_reply": "2021-06-24T22:12:52.308910Z"
    },
    "papermill": {
     "duration": 0.45758,
     "end_time": "2021-06-24T22:12:52.309123",
     "exception": false,
     "start_time": "2021-06-24T22:12:51.851543",
     "status": "completed"
    },
    "tags": []
   },
   "outputs": [
    {
     "data": {
      "image/png": "[encoded data removed]",
      "text/plain": [
       "<Figure size 640x480 with 1 Axes>"
      ]
     },
     "metadata": {},
     "output_type": "display_data"
    }
   ],
   "source": [
    "(\n",
    "    pd.concat(\n",
    "        [\n",
    "            tbl_stops_changed >> mutate(kind=\"Stops\"),\n",
    "            tbl_routes_changed >> mutate(kind=\"Routes\"),\n",
    "        ]\n",
    "    )\n",
    "    >> ggplot(aes(\"kind\", \"n\", fill=\"status\"))\n",
    "    + geom_col()\n",
    "    + labs(\n",
    "        x=\"GTFS schedule table\",\n",
    "        y=\"Number of IDs\",\n",
    "        title=f\"IDs Changed Between {START_MONTH_DAY} and {END_MONTH_DAY}\",\n",
    "    )\n",
    ").draw();"
   ]
  },
  {
   "cell_type": "markdown",
   "id": "e6000a0f",
   "metadata": {
    "papermill": {
     "duration": 0.037336,
     "end_time": "2021-06-24T22:12:52.377573",
     "exception": false,
     "start_time": "2021-06-24T22:12:52.340237",
     "status": "completed"
    },
    "tags": []
   },
   "source": [
    "### (Alternative version using percentages)"
   ]
  },
  {
   "cell_type": "code",
   "execution_count": 14,
   "id": "46ebd9f9",
   "metadata": {
    "execution": {
     "iopub.execute_input": "2021-06-24T22:12:52.461027Z",
     "iopub.status.busy": "2021-06-24T22:12:52.460141Z",
     "iopub.status.idle": "2021-06-24T22:12:53.363004Z",
     "shell.execute_reply": "2021-06-24T22:12:53.363995Z"
    },
    "papermill": {
     "duration": 0.945884,
     "end_time": "2021-06-24T22:12:53.364256",
     "exception": false,
     "start_time": "2021-06-24T22:12:52.418372",
     "status": "completed"
    },
    "tags": []
   },
   "outputs": [
    {
     "data": {
      "image/png": "[encoded data removed]",
      "text/plain": [
       "<Figure size 640x480 with 1 Axes>"
      ]
     },
     "metadata": {},
     "output_type": "display_data"
    }
   ],
   "source": [
    "(\n",
    "    pd.concat(\n",
    "        [\n",
    "            tbl_stops_changed >> mutate(kind=\"Stops\"),\n",
    "            tbl_routes_changed >> mutate(kind=\"Routes\"),\n",
    "        ]\n",
    "    )\n",
    "    >> ggplot(aes(\"kind\", \"percent\", fill=\"status\"))\n",
    "    + geom_col()\n",
    "    + labs(\n",
    "        x=\"GTFS schedule table\",\n",
    "        y=\"Percentage of IDs\",\n",
    "        title=f\"IDs Changed Between {START_MONTH_DAY} and {END_MONTH_DAY}\",\n",
    "    )\n",
    "    + scale_y_continuous(labels=percent_format, breaks=np.arange(0, 1.2, 0.2))\n",
    ").draw();"
   ]
  },
  {
   "cell_type": "markdown",
   "id": "1f0f04c2",
   "metadata": {
    "papermill": {
     "duration": 0.041349,
     "end_time": "2021-06-24T22:12:53.445609",
     "exception": false,
     "start_time": "2021-06-24T22:12:53.404260",
     "status": "completed"
    },
    "tags": []
   },
   "source": [
    "## Consistency with the [California GTFS Minimum Guidelines](https://dot.ca.gov/cal-itp/california-minimum-general-transit-feed-specification-gtfs-guidelines) for the feed downloaded\n"
   ]
  },
  {
   "cell_type": "markdown",
   "id": "c4ed4053",
   "metadata": {
    "papermill": {
     "duration": 0.039215,
     "end_time": "2021-06-24T22:12:53.526094",
     "exception": false,
     "start_time": "2021-06-24T22:12:53.486879",
     "status": "completed"
    },
    "tags": []
   },
   "source": [
    "### Do the following files/fields exist?"
   ]
  },
  {
   "cell_type": "code",
   "execution_count": 15,
   "id": "f541f00a",
   "metadata": {
    "execution": {
     "iopub.execute_input": "2021-06-24T22:12:53.678372Z",
     "iopub.status.busy": "2021-06-24T22:12:53.677421Z",
     "iopub.status.idle": "2021-06-24T22:12:53.695500Z",
     "shell.execute_reply": "2021-06-24T22:12:53.693252Z"
    },
    "papermill": {
     "duration": 0.116909,
     "end_time": "2021-06-24T22:12:53.695746",
     "exception": false,
     "start_time": "2021-06-24T22:12:53.578837",
     "status": "completed"
    },
    "tags": []
   },
   "outputs": [
    {
     "data": {
      "text/html": [
       "<div>\n",
       "<style scoped>\n",
       "    .dataframe tbody tr th:only-of-type {\n",
       "        vertical-align: middle;\n",
       "    }\n",
       "\n",
       "    .dataframe tbody tr th {\n",
       "        vertical-align: top;\n",
       "    }\n",
       "\n",
       "    .dataframe thead th {\n",
       "        text-align: right;\n",
       "    }\n",
       "</style>\n",
       "<table border=\"1\" class=\"dataframe\">\n",
       "  <thead>\n",
       "    <tr style=\"text-align: right;\">\n",
       "      <th></th>\n",
       "      <th>category</th>\n",
       "      <th>name</th>\n",
       "      <th>2021-05-02</th>\n",
       "      <th>2021-05-16</th>\n",
       "      <th>2021-05-30</th>\n",
       "    </tr>\n",
       "  </thead>\n",
       "  <tbody>\n",
       "    <tr>\n",
       "      <th>5</th>\n",
       "      <td>Visual display</td>\n",
       "      <td>shapes.txt</td>\n",
       "      <td>✅</td>\n",
       "      <td>✅</td>\n",
       "      <td>✅</td>\n",
       "    </tr>\n",
       "    <tr>\n",
       "      <th>3</th>\n",
       "      <td>Navigation</td>\n",
       "      <td>levels.txt</td>\n",
       "      <td></td>\n",
       "      <td></td>\n",
       "      <td></td>\n",
       "    </tr>\n",
       "    <tr>\n",
       "      <th>4</th>\n",
       "      <td>Navigation</td>\n",
       "      <td>pathways.txt</td>\n",
       "      <td></td>\n",
       "      <td></td>\n",
       "      <td></td>\n",
       "    </tr>\n",
       "    <tr>\n",
       "      <th>0</th>\n",
       "      <td>Fares</td>\n",
       "      <td>fare_leg_rules</td>\n",
       "      <td></td>\n",
       "      <td></td>\n",
       "      <td></td>\n",
       "    </tr>\n",
       "    <tr>\n",
       "      <th>1</th>\n",
       "      <td>Fares</td>\n",
       "      <td>fare_rules.txt</td>\n",
       "      <td>✅</td>\n",
       "      <td>✅</td>\n",
       "      <td>✅</td>\n",
       "    </tr>\n",
       "    <tr>\n",
       "      <th>2</th>\n",
       "      <td>Technical contacts</td>\n",
       "      <td>feed_info.txt</td>\n",
       "      <td>✅</td>\n",
       "      <td>✅</td>\n",
       "      <td>✅</td>\n",
       "    </tr>\n",
       "  </tbody>\n",
       "</table>\n",
       "</div>"
      ],
      "text/plain": [
       "             category            name 2021-05-02 2021-05-16 2021-05-30\n",
       "5      Visual display      shapes.txt          ✅          ✅          ✅\n",
       "3          Navigation      levels.txt                                 \n",
       "4          Navigation    pathways.txt                                 \n",
       "0               Fares  fare_leg_rules                                 \n",
       "1               Fares  fare_rules.txt          ✅          ✅          ✅\n",
       "2  Technical contacts   feed_info.txt          ✅          ✅          ✅"
      ]
     },
     "execution_count": 15,
     "metadata": {},
     "output_type": "execute_result"
    }
   ],
   "source": [
    "tbl_file_check"
   ]
  },
  {
   "cell_type": "markdown",
   "id": "7cec63a7",
   "metadata": {
    "papermill": {
     "duration": 0.086292,
     "end_time": "2021-06-24T22:12:53.860516",
     "exception": false,
     "start_time": "2021-06-24T22:12:53.774224",
     "status": "completed"
    },
    "tags": []
   },
   "source": [
    "### Validation Errors Observed"
   ]
  },
  {
   "cell_type": "code",
   "execution_count": 16,
   "id": "a18daa7c",
   "metadata": {
    "execution": {
     "iopub.execute_input": "2021-06-24T22:12:54.114409Z",
     "iopub.status.busy": "2021-06-24T22:12:54.112588Z",
     "iopub.status.idle": "2021-06-24T22:12:54.117082Z",
     "shell.execute_reply": "2021-06-24T22:12:54.113455Z"
    },
    "papermill": {
     "duration": 0.162252,
     "end_time": "2021-06-24T22:12:54.117313",
     "exception": false,
     "start_time": "2021-06-24T22:12:53.955061",
     "status": "completed"
    },
    "tags": []
   },
   "outputs": [
    {
     "data": {
      "text/markdown": [
       "No validation error observed in your feed."
      ],
      "text/plain": [
       "<IPython.core.display.Markdown object>"
      ]
     },
     "metadata": {},
     "output_type": "display_data"
    }
   ],
   "source": [
    "if tbl_validation_notices.shape[0] == 0:\n",
    "    display(Markdown(\"No validation error observed in your feed.\"))\n",
    "else:    \n",
    "    display(tbl_validation_notices)"
   ]
  },
  {
   "cell_type": "markdown",
   "id": "e5ecee1e",
   "metadata": {
    "papermill": {
     "duration": 0.09596,
     "end_time": "2021-06-24T22:12:54.302234",
     "exception": false,
     "start_time": "2021-06-24T22:12:54.206274",
     "status": "completed"
    },
    "tags": []
   },
   "source": [
    "For more information about Cal-ITP, including the [Minimum GTFS Guidelines](https://dot.ca.gov/cal-itp/california-minimum-general-transit-feed-specification-gtfs-guidelines) and our [Transit Data Helpdesk](https://dot.ca.gov/programs/rail-and-mass-transportation/gtfs/helpdesk), contact [GTFSRT@dot.ca.gov](mailto:GTFSRT@dot.ca.gov)."
   ]
  }
 ],
 "metadata": {
  "kernelspec": {
   "display_name": "venv-calitp-py",
   "language": "python",
   "name": "venv-calitp-py"
  },
  "language_info": {
   "codemirror_mode": {
    "name": "ipython",
    "version": 3
   },
   "file_extension": ".py",
   "mimetype": "text/x-python",
   "name": "python",
   "nbconvert_exporter": "python",
   "pygments_lexer": "ipython3",
   "version": "3.8.5"
  },
  "papermill": {
   "default_parameters": {},
   "duration": 47.208958,
   "end_time": "2021-06-24T22:12:56.374555",
   "environment_variables": {},
   "exception": null,
   "input_path": "report.ipynb",
   "output_path": "output/97/report.ipynb",
   "parameters": {
    "CALITP_ITP_ID": 97,
    "CALITP_URL_NUMBER": 0,
    "DEBUG": false,
    "END_DATE": "2021-06-01",
    "START_DATE": "2021-05-01"
   },
   "start_time": "2021-06-24T22:12:09.165597",
   "version": "2.3.3"
  }
 },
 "nbformat": 4,
 "nbformat_minor": 5
}