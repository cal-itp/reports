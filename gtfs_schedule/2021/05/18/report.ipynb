{
 "cells": [
  {
   "cell_type": "markdown",
   "id": "bef80077",
   "metadata": {
    "papermill": {
     "duration": 0.042519,
     "end_time": "2021-06-24T22:08:21.772619",
     "exception": false,
     "start_time": "2021-06-24T22:08:21.730100",
     "status": "completed"
    },
    "tags": [
     "hide"
    ]
   },
   "source": [
    "# Setup"
   ]
  },
  {
   "cell_type": "code",
   "execution_count": 1,
   "id": "4ae9e0fa",
   "metadata": {
    "execution": {
     "iopub.execute_input": "2021-06-24T22:08:21.938929Z",
     "iopub.status.busy": "2021-06-24T22:08:21.937924Z",
     "iopub.status.idle": "2021-06-24T22:08:37.529487Z",
     "shell.execute_reply": "2021-06-24T22:08:37.530315Z"
    },
    "papermill": {
     "duration": 15.690092,
     "end_time": "2021-06-24T22:08:37.530825",
     "exception": false,
     "start_time": "2021-06-24T22:08:21.840733",
     "status": "completed"
    },
    "tags": [
     "hide"
    ]
   },
   "outputs": [],
   "source": [
    "import pandas as pd\n",
    "import numpy as np\n",
    "import warnings\n",
    "\n",
    "from io import StringIO\n",
    "from calitp.tables import tbl\n",
    "from datetime import date, datetime\n",
    "from siuba import *\n",
    "from plotnine import *\n",
    "\n",
    "def friendly_date(x): \n",
    "    return datetime.strptime(x, \"%Y-%m-%d\").strftime(\"%b %d\")"
   ]
  },
  {
   "cell_type": "code",
   "execution_count": 2,
   "id": "bce4ef22",
   "metadata": {
    "execution": {
     "iopub.execute_input": "2021-06-24T22:08:37.609704Z",
     "iopub.status.busy": "2021-06-24T22:08:37.608214Z",
     "iopub.status.idle": "2021-06-24T22:08:37.620635Z",
     "shell.execute_reply": "2021-06-24T22:08:37.621948Z"
    },
    "papermill": {
     "duration": 0.061686,
     "end_time": "2021-06-24T22:08:37.622210",
     "exception": false,
     "start_time": "2021-06-24T22:08:37.560524",
     "status": "completed"
    },
    "tags": [
     "parameters",
     "hide"
    ]
   },
   "outputs": [],
   "source": [
    "CALITP_ITP_ID = 98\n",
    "#CALITP_ITP_ID=45\n",
    "CALITP_URL_NUMBER = 0\n",
    "DEBUG = False\n",
    "\n",
    "START_DATE = \"2021-05-01\"\n",
    "END_DATE = \"2021-06-01\"\n",
    "DATE_TODAY=date.today()\n",
    "START_MONTH_DAY = friendly_date(START_DATE)\n",
    "END_MONTH_DAY = friendly_date(END_DATE)\n",
    "\n",
    "WEEK_MARKERS = pd.date_range(START_DATE, END_DATE, freq=\"W\").astype(str).tolist()\n",
    "BIWEEKLY_MARKERS = pd.date_range(START_DATE, END_DATE, freq=\"2W\").astype(str).tolist()"
   ]
  },
  {
   "cell_type": "code",
   "execution_count": 3,
   "id": "53b2b17c",
   "metadata": {
    "execution": {
     "iopub.execute_input": "2021-06-24T22:08:37.692410Z",
     "iopub.status.busy": "2021-06-24T22:08:37.689182Z",
     "iopub.status.idle": "2021-06-24T22:08:37.696031Z",
     "shell.execute_reply": "2021-06-24T22:08:37.697090Z"
    },
    "papermill": {
     "duration": 0.044167,
     "end_time": "2021-06-24T22:08:37.697366",
     "exception": false,
     "start_time": "2021-06-24T22:08:37.653199",
     "status": "completed"
    },
    "tags": [
     "injected-parameters"
    ]
   },
   "outputs": [],
   "source": [
    "# Parameters\n",
    "CALITP_ITP_ID = 18\n",
    "CALITP_URL_NUMBER = 0\n",
    "DEBUG = False\n",
    "START_DATE = \"2021-05-01\"\n",
    "END_DATE = \"2021-06-01\"\n"
   ]
  },
  {
   "cell_type": "code",
   "execution_count": 4,
   "id": "16caa2cd",
   "metadata": {
    "execution": {
     "iopub.execute_input": "2021-06-24T22:08:37.803708Z",
     "iopub.status.busy": "2021-06-24T22:08:37.801689Z",
     "iopub.status.idle": "2021-06-24T22:08:37.808007Z",
     "shell.execute_reply": "2021-06-24T22:08:37.805875Z"
    },
    "papermill": {
     "duration": 0.075994,
     "end_time": "2021-06-24T22:08:37.808438",
     "exception": false,
     "start_time": "2021-06-24T22:08:37.732444",
     "status": "completed"
    },
    "tags": [
     "hide"
    ]
   },
   "outputs": [],
   "source": [
    "if not DEBUG:\n",
    "    warnings.filterwarnings(\"ignore\")"
   ]
  },
  {
   "cell_type": "code",
   "execution_count": 5,
   "id": "c4d2bd50",
   "metadata": {
    "execution": {
     "iopub.execute_input": "2021-06-24T22:08:37.944186Z",
     "iopub.status.busy": "2021-06-24T22:08:37.943212Z",
     "iopub.status.idle": "2021-06-24T22:08:37.963816Z",
     "shell.execute_reply": "2021-06-24T22:08:37.964645Z"
    },
    "papermill": {
     "duration": 0.09632,
     "end_time": "2021-06-24T22:08:37.964890",
     "exception": false,
     "start_time": "2021-06-24T22:08:37.868570",
     "status": "completed"
    },
    "tags": [
     "hide"
    ]
   },
   "outputs": [],
   "source": [
    "# Convenience functions ----\n",
    "\n",
    "filter_start = filter(\n",
    "    _.calitp_extracted_at <= START_DATE,\n",
    "    _.calitp_deleted_at.fillna(\"2099-01-01\") > START_DATE,\n",
    ")\n",
    "\n",
    "filter_end = filter(\n",
    "    _.calitp_extracted_at <= END_DATE,\n",
    "    _.calitp_deleted_at.fillna(\"2099-01-01\") > END_DATE,\n",
    ")\n",
    "\n",
    "filter_itp = filter(\n",
    "    _.calitp_itp_id == CALITP_ITP_ID, _.calitp_url_number == CALITP_URL_NUMBER\n",
    ")\n",
    "\n",
    "collect_to_dict = (\n",
    "    collect()\n",
    "    >> pipe(_.to_dict(orient=\"records\")[0])\n",
    ")\n",
    "\n",
    "\n",
    "select_rm_calitp = select(\n",
    "    -_.calitp_itp_id,\n",
    "    -_.calitp_url_number,\n",
    "    -_.calitp_hash,\n",
    "    -_.calitp_extracted_at,\n",
    "    -_.calitp_deleted_at,\n",
    ")\n",
    "\n",
    "def percent_format(labels):\n",
    "    return [\"{:.0f}%\".format(v*100) for v in labels]\n",
    "\n",
    "def query_id_changes(start_table, end_table, id_vars):\n",
    "    \"\"\"Calculate id variables that are removed, added, or unchanged between tables.\n",
    "    \n",
    "    It works by adding a special column to each table, performing a full join,\n",
    "    then checking where the special column is null.\n",
    "    \"\"\"\n",
    "    sym_id_vars = [_[k] for k in id_vars]\n",
    "\n",
    "    is_in_start = start_table >> select(*id_vars) >> mutate(is_in_start=True)\n",
    "    is_in_end = end_table >> select(*id_vars) >> mutate(is_in_end=True)\n",
    "\n",
    "    baseline = start_table >> count(*id_vars) >> rename(n_baseline=\"n\")\n",
    "    tallies = (\n",
    "        is_in_start\n",
    "        >> full_join(_, is_in_end, id_vars)\n",
    "        >> count(*sym_id_vars, _.is_in_start, _.is_in_end)\n",
    "        >> mutate(\n",
    "            status=case_when(\n",
    "                _,\n",
    "                {\n",
    "                    _.is_in_end.isna(): \"Removed\",\n",
    "                    _.is_in_start.isna(): \"Added\",\n",
    "                    True: \"Unchanged\",\n",
    "                },\n",
    "            )\n",
    "        )\n",
    "        >> count(*sym_id_vars[:-1], _.status)\n",
    "        >> group_by(*sym_id_vars[:-1])\n",
    "        >> mutate(percent=_.n / _.n.sum())\n",
    "    )\n",
    "\n",
    "    return tallies"
   ]
  },
  {
   "cell_type": "code",
   "execution_count": 6,
   "id": "9934e36b",
   "metadata": {
    "execution": {
     "iopub.execute_input": "2021-06-24T22:08:38.056493Z",
     "iopub.status.busy": "2021-06-24T22:08:38.055127Z",
     "iopub.status.idle": "2021-06-24T22:09:04.679496Z",
     "shell.execute_reply": "2021-06-24T22:09:04.678994Z"
    },
    "papermill": {
     "duration": 26.678376,
     "end_time": "2021-06-24T22:09:04.679621",
     "exception": false,
     "start_time": "2021-06-24T22:08:38.001245",
     "status": "completed"
    },
    "tags": [
     "hide"
    ]
   },
   "outputs": [],
   "source": [
    "# Data ====\n",
    "# 1. High level feed info ----\n",
    "feed_info = (\n",
    "    tbl.gtfs_schedule_type2.feed_info()\n",
    "    >> filter_end\n",
    "    >> filter_itp\n",
    "    >> select_rm_calitp\n",
    "    >> collect_to_dict\n",
    ")\n",
    "\n",
    "_n_routes = (\n",
    "    tbl.gtfs_schedule_type2.routes() >> filter_end >> filter_itp >> count() >> collect()\n",
    ")\n",
    "_n_stops = (\n",
    "    tbl.gtfs_schedule_type2.stops() >> filter_end >> filter_itp >> count() >> collect()\n",
    ")\n",
    "\n",
    "feed_info[\"n_routes\"] = int(_n_routes.loc[0, \"n\"])\n",
    "feed_info[\"n_stops\"] = int(_n_stops.loc[0, \"n\"])\n",
    "\n",
    "status = (\n",
    "    tbl.views.gtfs_status_latest()\n",
    "    >> filter(_.itp_id == CALITP_ITP_ID, _.url_number == CALITP_URL_NUMBER)\n",
    "    >> select(-_.url_number, -_.status)\n",
    "    >> select_rm_calitp\n",
    "    >> collect_to_dict\n",
    ")\n",
    "\n",
    "# 2. Monthly metrics ----\n",
    "# Service hours per day. Note that the queried table calculates service\n",
    "# hours per service id, so we need to sum across service ids for the day\n",
    "_cross_cal = (\n",
    "    tbl.views.dim_date()\n",
    "    >> filter(_.full_date.between(START_DATE, END_DATE))\n",
    "    >> select(_.service_date == _.full_date)\n",
    ")\n",
    "\n",
    "tbl_daily_service_hours = (\n",
    "    tbl.views.gtfs_schedule_service_daily_metrics()\n",
    "    >> filter_itp\n",
    "    >> filter(_.service_date.between(START_DATE, END_DATE))\n",
    "    >> right_join(_, _cross_cal, [\"service_date\"])\n",
    "    >> collect()\n",
    "    >> group_by(_.service_date)\n",
    "    >> summarize(\n",
    "        ttl_service_hours=(_.last_arrival_ts.max() - _.first_departure_ts.min()) / 3600,\n",
    "        ttl_service_hours2=_.ttl_service_hours.sum(),\n",
    "    )\n",
    "    >> mutate(\n",
    "        ttl_service_hours=_.ttl_service_hours.astype(float).round(2),\n",
    "        service_date=_.service_date.astype(\"datetime64[ns]\"),\n",
    "    )\n",
    ")\n",
    "\n",
    "# number of days where a feed did not have any trips in service\n",
    "n_expired_days = (\n",
    "    tbl_daily_service_hours\n",
    "    >> filter(_.ttl_service_hours.isna())\n",
    "    >> pipe(lambda d: {\"n\": d.shape[0]})\n",
    ")\n",
    "\n",
    "# 3. Stop and Route ID Changes ----\n",
    "\n",
    "_tbl_stops_start = tbl.gtfs_schedule_type2.stops() >> filter_itp >> filter_start\n",
    "_tbl_stops_end = tbl.gtfs_schedule_type2.stops() >> filter_itp >> filter_end\n",
    "tbl_stops_changed = (\n",
    "    query_id_changes(_tbl_stops_start, _tbl_stops_end, [\"stop_id\"]) >> collect()\n",
    ")\n",
    "\n",
    "_tbl_routes_start = tbl.gtfs_schedule_type2.routes() >> filter_itp >> filter_start\n",
    "_tbl_routes_end = tbl.gtfs_schedule_type2.routes() >> filter_itp >> filter_end\n",
    "tbl_routes_changed = (\n",
    "    query_id_changes(_tbl_routes_start, _tbl_routes_end, [\"route_id\"]) >> collect()\n",
    ")"
   ]
  },
  {
   "cell_type": "code",
   "execution_count": 7,
   "id": "aea5a888",
   "metadata": {
    "execution": {
     "iopub.execute_input": "2021-06-24T22:09:04.722221Z",
     "iopub.status.busy": "2021-06-24T22:09:04.721305Z",
     "iopub.status.idle": "2021-06-24T22:09:11.132595Z",
     "shell.execute_reply": "2021-06-24T22:09:11.133505Z"
    },
    "papermill": {
     "duration": 6.437385,
     "end_time": "2021-06-24T22:09:11.133806",
     "exception": false,
     "start_time": "2021-06-24T22:09:04.696421",
     "status": "completed"
    },
    "tags": [
     "hide"
    ]
   },
   "outputs": [],
   "source": [
    "# 4. Feed files being checked for ----\n",
    "\n",
    "file_categories = pd.DataFrame(\n",
    "    {\n",
    "        \"shapes.txt\": \"Visual display\",\n",
    "        \"pathways.txt\": \"Navigation\",\n",
    "        \"levels.txt\": \"Navigation\",\n",
    "        \"fare_rules.txt\": \"Fares\",\n",
    "        \"fare_leg_rules\": \"Fares\",\n",
    "        \"feed_info.txt\": \"Technical contacts\",\n",
    "    }.items(),\n",
    "    columns=[\"name\", \"category\"],\n",
    ")\n",
    "\n",
    "importance = [\"Visual display\", \"Navigation\", \"Fares\", \"Technical contacts\"]\n",
    "\n",
    "tbl_file_check = (\n",
    "    tbl.gtfs_schedule_history.calitp_files_updates()\n",
    "    >> filter_itp\n",
    "    >> filter(_.calitp_extracted_at.isin(BIWEEKLY_MARKERS))\n",
    "    >> select(_.name, _.calitp_extracted_at)\n",
    "    >> collect()\n",
    "    >> right_join(_, file_categories, [\"name\"])\n",
    "    >> mutate(\n",
    "        calitp_extracted_at=_.calitp_extracted_at.fillna(\"missing\").astype(str),\n",
    "        success=\"✅\",\n",
    "    )\n",
    "    >> spread(_.calitp_extracted_at, _.success)\n",
    "    >> select(-_.missing)\n",
    "    >> arrange(_.category.apply(importance.index))\n",
    "    >> select(_.category, _.contains(\"\"))\n",
    "    >> pipe(_.fillna(\"\"))\n",
    ")\n",
    "\n",
    "tbl_validation_notices = (\n",
    "    tbl.views.validation_notices()\n",
    "    >> filter_itp\n",
    "    >> filter(_.severity == \"ERROR\")\n",
    "    >> count(_.code, _.severity)\n",
    "    >> collect()\n",
    ")"
   ]
  },
  {
   "cell_type": "markdown",
   "id": "3e0ed515",
   "metadata": {
    "papermill": {
     "duration": 0.029611,
     "end_time": "2021-06-24T22:09:11.196247",
     "exception": false,
     "start_time": "2021-06-24T22:09:11.166636",
     "status": "completed"
    },
    "tags": [
     "hide"
    ]
   },
   "source": [
    "## Dump data"
   ]
  },
  {
   "cell_type": "code",
   "execution_count": 8,
   "id": "00366d55",
   "metadata": {
    "execution": {
     "iopub.execute_input": "2021-06-24T22:09:11.264561Z",
     "iopub.status.busy": "2021-06-24T22:09:11.263190Z",
     "iopub.status.idle": "2021-06-24T22:09:11.278343Z",
     "shell.execute_reply": "2021-06-24T22:09:11.277503Z"
    },
    "papermill": {
     "duration": 0.052407,
     "end_time": "2021-06-24T22:09:11.278548",
     "exception": false,
     "start_time": "2021-06-24T22:09:11.226141",
     "status": "completed"
    },
    "tags": [
     "hide"
    ]
   },
   "outputs": [],
   "source": [
    "import json\n",
    "import shutil\n",
    "\n",
    "from pathlib import Path\n",
    "\n",
    "out_dir = Path(f\"output/{CALITP_ITP_ID}_{CALITP_URL_NUMBER}/data\")\n",
    "out_dir.mkdir(parents=True, exist_ok=True)\n",
    "\n",
    "json.dump(feed_info, open(out_dir / \"1_feed_info.json\", \"w\"))\n",
    "json.dump(status, open(out_dir / \"1_status.json\", \"w\"))\n",
    "\n",
    "tbl_daily_service_hours.to_json(out_dir / \"2_daily_service_hours.json\", orient=\"records\")\n",
    "json.dump(n_expired_days, open(out_dir / \"2_n_expired_days.json\", \"w\"))\n",
    "\n",
    "tbl_stops_changed.to_json(out_dir / \"3_stops_changed.json\", orient=\"records\")\n",
    "tbl_routes_changed.to_json(out_dir / \"3_routes_changed.json\", orient=\"records\")\n",
    "tbl_file_check.to_json(out_dir / \"4_file_check.json\", orient=\"records\")\n",
    "tbl_validation_notices.to_json(out_dir / \"4_validation_notices.json\", orient=\"records\")\n"
   ]
  },
  {
   "cell_type": "markdown",
   "id": "5c870a27",
   "metadata": {
    "papermill": {
     "duration": 0.074613,
     "end_time": "2021-06-24T22:09:11.388678",
     "exception": false,
     "start_time": "2021-06-24T22:09:11.314065",
     "status": "completed"
    },
    "tags": []
   },
   "source": [
    "# Monthly GTFS Quality Report"
   ]
  },
  {
   "cell_type": "code",
   "execution_count": 9,
   "id": "74b837b0",
   "metadata": {
    "execution": {
     "iopub.execute_input": "2021-06-24T22:09:11.498005Z",
     "iopub.status.busy": "2021-06-24T22:09:11.496828Z",
     "iopub.status.idle": "2021-06-24T22:09:11.502225Z",
     "shell.execute_reply": "2021-06-24T22:09:11.498826Z"
    },
    "papermill": {
     "duration": 0.06515,
     "end_time": "2021-06-24T22:09:11.502457",
     "exception": false,
     "start_time": "2021-06-24T22:09:11.437307",
     "status": "completed"
    },
    "tags": []
   },
   "outputs": [
    {
     "data": {
      "text/markdown": [
       "\n",
       "Transit provider name: Trillium Solutions, Inc.\n",
       "\n",
       "Date generated: 2021-06-24\n"
      ],
      "text/plain": [
       "<IPython.core.display.Markdown object>"
      ]
     },
     "execution_count": 9,
     "metadata": {},
     "output_type": "execute_result"
    }
   ],
   "source": [
    "from IPython.display import Markdown\n",
    "\n",
    "Markdown(f\"\"\"\n",
    "Transit provider name: {feed_info[\"feed_publisher_name\"]}\n",
    "\n",
    "Date generated: {DATE_TODAY}\n",
    "\"\"\")"
   ]
  },
  {
   "cell_type": "markdown",
   "id": "8a5465a4",
   "metadata": {
    "papermill": {
     "duration": 0.081947,
     "end_time": "2021-06-24T22:09:11.699049",
     "exception": false,
     "start_time": "2021-06-24T22:09:11.617102",
     "status": "completed"
    },
    "tags": []
   },
   "source": [
    "This is a monthly report, generated by the California Integrated Travel Project ([Cal-ITP](https://dot.ca.gov/cal-itp/cal-itp-gtfs)), summarizing issues discovered by [MobilityData](http://mobilitydata.io/)’s [GTFS Validator](https://github.com/MobilityData/gtfs-validator). This report is available for viewing by the general public to support continuous improvement of GTFS data and the experience of transit passengers. "
   ]
  },
  {
   "cell_type": "markdown",
   "id": "92507ca5",
   "metadata": {
    "papermill": {
     "duration": 0.064671,
     "end_time": "2021-06-24T22:09:11.812975",
     "exception": false,
     "start_time": "2021-06-24T22:09:11.748304",
     "status": "completed"
    },
    "tags": []
   },
   "source": [
    "## Overview"
   ]
  },
  {
   "cell_type": "code",
   "execution_count": 10,
   "id": "424ecc3d",
   "metadata": {
    "execution": {
     "iopub.execute_input": "2021-06-24T22:09:11.963060Z",
     "iopub.status.busy": "2021-06-24T22:09:11.961659Z",
     "iopub.status.idle": "2021-06-24T22:09:11.970278Z",
     "shell.execute_reply": "2021-06-24T22:09:11.964137Z"
    },
    "papermill": {
     "duration": 0.114509,
     "end_time": "2021-06-24T22:09:11.970460",
     "exception": false,
     "start_time": "2021-06-24T22:09:11.855951",
     "status": "completed"
    },
    "tags": []
   },
   "outputs": [
    {
     "data": {
      "text/markdown": [
       "\n",
       "Feed location: http://data.trilliumtransit.com/gtfs/humboldtcounty-ca-us/humboldtcounty-ca-us.zip\n",
       "\n",
       "Metrics for the most recent published version of the feed:\n",
       "\n",
       "* Date published: UTC: 09-Mar-2021 00:34\n",
       "* Number of routes in any service: 15\n",
       "* Number of stops in service: 358\n"
      ],
      "text/plain": [
       "<IPython.core.display.Markdown object>"
      ]
     },
     "execution_count": 10,
     "metadata": {},
     "output_type": "execute_result"
    }
   ],
   "source": [
    "Markdown(f\"\"\"\n",
    "Feed location: {status[\"gtfs_schedule_url\"]}\n",
    "\n",
    "Metrics for the most recent published version of the feed:\n",
    "\n",
    "* Date published: {feed_info[\"feed_version\"]}\n",
    "* Number of routes in any service: {feed_info[\"n_routes\"]}\n",
    "* Number of stops in service: {feed_info[\"n_stops\"]}\n",
    "\"\"\")"
   ]
  },
  {
   "cell_type": "markdown",
   "id": "fb18cb6e",
   "metadata": {
    "papermill": {
     "duration": 0.044404,
     "end_time": "2021-06-24T22:09:12.090814",
     "exception": false,
     "start_time": "2021-06-24T22:09:12.046410",
     "status": "completed"
    },
    "tags": []
   },
   "source": [
    "## Aggregated Metrics for May"
   ]
  },
  {
   "cell_type": "code",
   "execution_count": 11,
   "id": "454efbe2",
   "metadata": {
    "execution": {
     "iopub.execute_input": "2021-06-24T22:09:12.216076Z",
     "iopub.status.busy": "2021-06-24T22:09:12.205146Z",
     "iopub.status.idle": "2021-06-24T22:09:12.219481Z",
     "shell.execute_reply": "2021-06-24T22:09:12.217006Z"
    },
    "papermill": {
     "duration": 0.073498,
     "end_time": "2021-06-24T22:09:12.219689",
     "exception": false,
     "start_time": "2021-06-24T22:09:12.146191",
     "status": "completed"
    },
    "tags": []
   },
   "outputs": [
    {
     "data": {
      "text/markdown": [
       "\n",
       "Days with no service hours: 5\n"
      ],
      "text/plain": [
       "<IPython.core.display.Markdown object>"
      ]
     },
     "execution_count": 11,
     "metadata": {},
     "output_type": "execute_result"
    }
   ],
   "source": [
    "# TODO: \n",
    "\n",
    "# Markdown(f\"\"\"\n",
    "# Days when the active feed was expired: {n_expired_days[\"n\"]}\n",
    "# \"\"\")\n",
    "\n",
    "Markdown(f\"\"\"\n",
    "Days with no service hours: {n_expired_days[\"n\"]}\n",
    "\"\"\")\n"
   ]
  },
  {
   "cell_type": "code",
   "execution_count": 12,
   "id": "e816a46d",
   "metadata": {
    "execution": {
     "iopub.execute_input": "2021-06-24T22:09:12.412514Z",
     "iopub.status.busy": "2021-06-24T22:09:12.386855Z",
     "iopub.status.idle": "2021-06-24T22:09:14.202608Z",
     "shell.execute_reply": "2021-06-24T22:09:14.203593Z"
    },
    "papermill": {
     "duration": 1.904343,
     "end_time": "2021-06-24T22:09:14.203873",
     "exception": false,
     "start_time": "2021-06-24T22:09:12.299530",
     "status": "completed"
    },
    "tags": []
   },
   "outputs": [
    {
     "data": {
      "image/png": "[encoded data removed]",
      "text/plain": [
       "<Figure size 640x480 with 1 Axes>"
      ]
     },
     "metadata": {},
     "output_type": "display_data"
    }
   ],
   "source": [
    "(\n",
    "    tbl_daily_service_hours\n",
    "    >> ggplot(aes(\"service_date\", \"ttl_service_hours2\"))\n",
    "    + geom_line()\n",
    "    + geom_point()\n",
    "    + theme(axis_text_x=element_text(angle=45, hjust=1))\n",
    "    + scale_x_datetime(date_breaks=\"1 week\")\n",
    "    + expand_limits(y=0)\n",
    "    + labs(y = \"Total service hours\", x = \"Service date\", title=\"Service hour per day\")\n",
    ").draw();"
   ]
  },
  {
   "cell_type": "markdown",
   "id": "e9bbd9f1",
   "metadata": {
    "papermill": {
     "duration": 0.037257,
     "end_time": "2021-06-24T22:09:14.278507",
     "exception": false,
     "start_time": "2021-06-24T22:09:14.241250",
     "status": "completed"
    },
    "tags": []
   },
   "source": [
    "## Changes Since Previous Month"
   ]
  },
  {
   "cell_type": "code",
   "execution_count": 13,
   "id": "c72ccd52",
   "metadata": {
    "execution": {
     "iopub.execute_input": "2021-06-24T22:09:14.468398Z",
     "iopub.status.busy": "2021-06-24T22:09:14.384083Z",
     "iopub.status.idle": "2021-06-24T22:09:15.769951Z",
     "shell.execute_reply": "2021-06-24T22:09:15.770704Z"
    },
    "papermill": {
     "duration": 1.455524,
     "end_time": "2021-06-24T22:09:15.770943",
     "exception": false,
     "start_time": "2021-06-24T22:09:14.315419",
     "status": "completed"
    },
    "tags": []
   },
   "outputs": [
    {
     "data": {
      "image/png": "[encoded data removed]",
      "text/plain": [
       "<Figure size 640x480 with 1 Axes>"
      ]
     },
     "metadata": {},
     "output_type": "display_data"
    }
   ],
   "source": [
    "(\n",
    "    pd.concat(\n",
    "        [\n",
    "            tbl_stops_changed >> mutate(kind=\"Stops\"),\n",
    "            tbl_routes_changed >> mutate(kind=\"Routes\"),\n",
    "        ]\n",
    "    )\n",
    "    >> ggplot(aes(\"kind\", \"n\", fill=\"status\"))\n",
    "    + geom_col()\n",
    "    + labs(\n",
    "        x=\"GTFS schedule table\",\n",
    "        y=\"Number of IDs\",\n",
    "        title=f\"IDs Changed Between {START_MONTH_DAY} and {END_MONTH_DAY}\",\n",
    "    )\n",
    ").draw();"
   ]
  },
  {
   "cell_type": "markdown",
   "id": "e378382e",
   "metadata": {
    "papermill": {
     "duration": 0.038101,
     "end_time": "2021-06-24T22:09:15.847638",
     "exception": false,
     "start_time": "2021-06-24T22:09:15.809537",
     "status": "completed"
    },
    "tags": []
   },
   "source": [
    "### (Alternative version using percentages)"
   ]
  },
  {
   "cell_type": "code",
   "execution_count": 14,
   "id": "44afe87f",
   "metadata": {
    "execution": {
     "iopub.execute_input": "2021-06-24T22:09:16.015498Z",
     "iopub.status.busy": "2021-06-24T22:09:16.014382Z",
     "iopub.status.idle": "2021-06-24T22:09:17.279428Z",
     "shell.execute_reply": "2021-06-24T22:09:17.280245Z"
    },
    "papermill": {
     "duration": 1.393073,
     "end_time": "2021-06-24T22:09:17.280497",
     "exception": false,
     "start_time": "2021-06-24T22:09:15.887424",
     "status": "completed"
    },
    "tags": []
   },
   "outputs": [
    {
     "data": {
      "image/png": "[encoded data removed]",
      "text/plain": [
       "<Figure size 640x480 with 1 Axes>"
      ]
     },
     "metadata": {},
     "output_type": "display_data"
    }
   ],
   "source": [
    "(\n",
    "    pd.concat(\n",
    "        [\n",
    "            tbl_stops_changed >> mutate(kind=\"Stops\"),\n",
    "            tbl_routes_changed >> mutate(kind=\"Routes\"),\n",
    "        ]\n",
    "    )\n",
    "    >> ggplot(aes(\"kind\", \"percent\", fill=\"status\"))\n",
    "    + geom_col()\n",
    "    + labs(\n",
    "        x=\"GTFS schedule table\",\n",
    "        y=\"Percentage of IDs\",\n",
    "        title=f\"IDs Changed Between {START_MONTH_DAY} and {END_MONTH_DAY}\",\n",
    "    )\n",
    "    + scale_y_continuous(labels=percent_format, breaks=np.arange(0, 1.2, 0.2))\n",
    ").draw();"
   ]
  },
  {
   "cell_type": "markdown",
   "id": "3318b428",
   "metadata": {
    "papermill": {
     "duration": 0.04572,
     "end_time": "2021-06-24T22:09:17.369169",
     "exception": false,
     "start_time": "2021-06-24T22:09:17.323449",
     "status": "completed"
    },
    "tags": []
   },
   "source": [
    "## Consistency with the [California GTFS Minimum Guidelines](https://dot.ca.gov/cal-itp/california-minimum-general-transit-feed-specification-gtfs-guidelines) for the feed downloaded\n"
   ]
  },
  {
   "cell_type": "markdown",
   "id": "d1a7cb14",
   "metadata": {
    "papermill": {
     "duration": 0.085909,
     "end_time": "2021-06-24T22:09:17.503296",
     "exception": false,
     "start_time": "2021-06-24T22:09:17.417387",
     "status": "completed"
    },
    "tags": []
   },
   "source": [
    "### Do the following files/fields exist?"
   ]
  },
  {
   "cell_type": "code",
   "execution_count": 15,
   "id": "898c1f04",
   "metadata": {
    "execution": {
     "iopub.execute_input": "2021-06-24T22:09:17.739671Z",
     "iopub.status.busy": "2021-06-24T22:09:17.738517Z",
     "iopub.status.idle": "2021-06-24T22:09:17.752881Z",
     "shell.execute_reply": "2021-06-24T22:09:17.753852Z"
    },
    "papermill": {
     "duration": 0.113271,
     "end_time": "2021-06-24T22:09:17.754122",
     "exception": false,
     "start_time": "2021-06-24T22:09:17.640851",
     "status": "completed"
    },
    "tags": []
   },
   "outputs": [
    {
     "data": {
      "text/html": [
       "<div>\n",
       "<style scoped>\n",
       "    .dataframe tbody tr th:only-of-type {\n",
       "        vertical-align: middle;\n",
       "    }\n",
       "\n",
       "    .dataframe tbody tr th {\n",
       "        vertical-align: top;\n",
       "    }\n",
       "\n",
       "    .dataframe thead th {\n",
       "        text-align: right;\n",
       "    }\n",
       "</style>\n",
       "<table border=\"1\" class=\"dataframe\">\n",
       "  <thead>\n",
       "    <tr style=\"text-align: right;\">\n",
       "      <th></th>\n",
       "      <th>category</th>\n",
       "      <th>name</th>\n",
       "      <th>2021-05-02</th>\n",
       "      <th>2021-05-16</th>\n",
       "      <th>2021-05-30</th>\n",
       "    </tr>\n",
       "  </thead>\n",
       "  <tbody>\n",
       "    <tr>\n",
       "      <th>5</th>\n",
       "      <td>Visual display</td>\n",
       "      <td>shapes.txt</td>\n",
       "      <td>✅</td>\n",
       "      <td>✅</td>\n",
       "      <td>✅</td>\n",
       "    </tr>\n",
       "    <tr>\n",
       "      <th>3</th>\n",
       "      <td>Navigation</td>\n",
       "      <td>levels.txt</td>\n",
       "      <td></td>\n",
       "      <td></td>\n",
       "      <td></td>\n",
       "    </tr>\n",
       "    <tr>\n",
       "      <th>4</th>\n",
       "      <td>Navigation</td>\n",
       "      <td>pathways.txt</td>\n",
       "      <td></td>\n",
       "      <td></td>\n",
       "      <td></td>\n",
       "    </tr>\n",
       "    <tr>\n",
       "      <th>0</th>\n",
       "      <td>Fares</td>\n",
       "      <td>fare_leg_rules</td>\n",
       "      <td></td>\n",
       "      <td></td>\n",
       "      <td></td>\n",
       "    </tr>\n",
       "    <tr>\n",
       "      <th>1</th>\n",
       "      <td>Fares</td>\n",
       "      <td>fare_rules.txt</td>\n",
       "      <td>✅</td>\n",
       "      <td>✅</td>\n",
       "      <td>✅</td>\n",
       "    </tr>\n",
       "    <tr>\n",
       "      <th>2</th>\n",
       "      <td>Technical contacts</td>\n",
       "      <td>feed_info.txt</td>\n",
       "      <td>✅</td>\n",
       "      <td>✅</td>\n",
       "      <td>✅</td>\n",
       "    </tr>\n",
       "  </tbody>\n",
       "</table>\n",
       "</div>"
      ],
      "text/plain": [
       "             category            name 2021-05-02 2021-05-16 2021-05-30\n",
       "5      Visual display      shapes.txt          ✅          ✅          ✅\n",
       "3          Navigation      levels.txt                                 \n",
       "4          Navigation    pathways.txt                                 \n",
       "0               Fares  fare_leg_rules                                 \n",
       "1               Fares  fare_rules.txt          ✅          ✅          ✅\n",
       "2  Technical contacts   feed_info.txt          ✅          ✅          ✅"
      ]
     },
     "execution_count": 15,
     "metadata": {},
     "output_type": "execute_result"
    }
   ],
   "source": [
    "tbl_file_check"
   ]
  },
  {
   "cell_type": "markdown",
   "id": "1b519d40",
   "metadata": {
    "papermill": {
     "duration": 0.235905,
     "end_time": "2021-06-24T22:09:18.098652",
     "exception": false,
     "start_time": "2021-06-24T22:09:17.862747",
     "status": "completed"
    },
    "tags": []
   },
   "source": [
    "### Validation Errors Observed"
   ]
  },
  {
   "cell_type": "code",
   "execution_count": 16,
   "id": "d2fbd28e",
   "metadata": {
    "execution": {
     "iopub.execute_input": "2021-06-24T22:09:18.335441Z",
     "iopub.status.busy": "2021-06-24T22:09:18.333904Z",
     "iopub.status.idle": "2021-06-24T22:09:18.339986Z",
     "shell.execute_reply": "2021-06-24T22:09:18.340926Z"
    },
    "papermill": {
     "duration": 0.129806,
     "end_time": "2021-06-24T22:09:18.341186",
     "exception": false,
     "start_time": "2021-06-24T22:09:18.211380",
     "status": "completed"
    },
    "tags": []
   },
   "outputs": [
    {
     "data": {
      "text/markdown": [
       "No validation error observed in your feed."
      ],
      "text/plain": [
       "<IPython.core.display.Markdown object>"
      ]
     },
     "metadata": {},
     "output_type": "display_data"
    }
   ],
   "source": [
    "if tbl_validation_notices.shape[0] == 0:\n",
    "    display(Markdown(\"No validation error observed in your feed.\"))\n",
    "else:    \n",
    "    display(tbl_validation_notices)"
   ]
  },
  {
   "cell_type": "markdown",
   "id": "4462dff2",
   "metadata": {
    "papermill": {
     "duration": 0.116627,
     "end_time": "2021-06-24T22:09:18.587509",
     "exception": false,
     "start_time": "2021-06-24T22:09:18.470882",
     "status": "completed"
    },
    "tags": []
   },
   "source": [
    "For more information about Cal-ITP, including the [Minimum GTFS Guidelines](https://dot.ca.gov/cal-itp/california-minimum-general-transit-feed-specification-gtfs-guidelines) and our [Transit Data Helpdesk](https://dot.ca.gov/programs/rail-and-mass-transportation/gtfs/helpdesk), contact [GTFSRT@dot.ca.gov](mailto:GTFSRT@dot.ca.gov)."
   ]
  }
 ],
 "metadata": {
  "kernelspec": {
   "display_name": "venv-calitp-py",
   "language": "python",
   "name": "venv-calitp-py"
  },
  "language_info": {
   "codemirror_mode": {
    "name": "ipython",
    "version": 3
   },
   "file_extension": ".py",
   "mimetype": "text/x-python",
   "name": "python",
   "nbconvert_exporter": "python",
   "pygments_lexer": "ipython3",
   "version": "3.8.5"
  },
  "papermill": {
   "default_parameters": {},
   "duration": 64.13713,
   "end_time": "2021-06-24T22:09:21.060674",
   "environment_variables": {},
   "exception": null,
   "input_path": "report.ipynb",
   "output_path": "output/18/report.ipynb",
   "parameters": {
    "CALITP_ITP_ID": 18,
    "CALITP_URL_NUMBER": 0,
    "DEBUG": false,
    "END_DATE": "2021-06-01",
    "START_DATE": "2021-05-01"
   },
   "start_time": "2021-06-24T22:08:16.923544",
   "version": "2.3.3"
  }
 },
 "nbformat": 4,
 "nbformat_minor": 5
}