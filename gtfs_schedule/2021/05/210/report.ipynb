{
 "cells": [
  {
   "cell_type": "markdown",
   "id": "c1476b58",
   "metadata": {
    "papermill": {
     "duration": 0.032,
     "end_time": "2021-06-24T22:15:56.220374",
     "exception": false,
     "start_time": "2021-06-24T22:15:56.188374",
     "status": "completed"
    },
    "tags": [
     "hide"
    ]
   },
   "source": [
    "# Setup"
   ]
  },
  {
   "cell_type": "code",
   "execution_count": 1,
   "id": "a932f1a5",
   "metadata": {
    "execution": {
     "iopub.execute_input": "2021-06-24T22:15:56.276273Z",
     "iopub.status.busy": "2021-06-24T22:15:56.275373Z",
     "iopub.status.idle": "2021-06-24T22:16:02.779358Z",
     "shell.execute_reply": "2021-06-24T22:16:02.780935Z"
    },
    "papermill": {
     "duration": 6.53514,
     "end_time": "2021-06-24T22:16:02.781267",
     "exception": false,
     "start_time": "2021-06-24T22:15:56.246127",
     "status": "completed"
    },
    "tags": [
     "hide"
    ]
   },
   "outputs": [],
   "source": [
    "import pandas as pd\n",
    "import numpy as np\n",
    "import warnings\n",
    "\n",
    "from io import StringIO\n",
    "from calitp.tables import tbl\n",
    "from datetime import date, datetime\n",
    "from siuba import *\n",
    "from plotnine import *\n",
    "\n",
    "def friendly_date(x): \n",
    "    return datetime.strptime(x, \"%Y-%m-%d\").strftime(\"%b %d\")"
   ]
  },
  {
   "cell_type": "code",
   "execution_count": 2,
   "id": "6e9c1d1e",
   "metadata": {
    "execution": {
     "iopub.execute_input": "2021-06-24T22:16:02.855975Z",
     "iopub.status.busy": "2021-06-24T22:16:02.849943Z",
     "iopub.status.idle": "2021-06-24T22:16:02.876611Z",
     "shell.execute_reply": "2021-06-24T22:16:02.877533Z"
    },
    "papermill": {
     "duration": 0.060709,
     "end_time": "2021-06-24T22:16:02.877777",
     "exception": false,
     "start_time": "2021-06-24T22:16:02.817068",
     "status": "completed"
    },
    "tags": [
     "parameters",
     "hide"
    ]
   },
   "outputs": [],
   "source": [
    "CALITP_ITP_ID = 98\n",
    "#CALITP_ITP_ID=45\n",
    "CALITP_URL_NUMBER = 0\n",
    "DEBUG = False\n",
    "\n",
    "START_DATE = \"2021-05-01\"\n",
    "END_DATE = \"2021-06-01\"\n",
    "DATE_TODAY=date.today()\n",
    "START_MONTH_DAY = friendly_date(START_DATE)\n",
    "END_MONTH_DAY = friendly_date(END_DATE)\n",
    "\n",
    "WEEK_MARKERS = pd.date_range(START_DATE, END_DATE, freq=\"W\").astype(str).tolist()\n",
    "BIWEEKLY_MARKERS = pd.date_range(START_DATE, END_DATE, freq=\"2W\").astype(str).tolist()"
   ]
  },
  {
   "cell_type": "code",
   "execution_count": 3,
   "id": "21cab0d8",
   "metadata": {
    "execution": {
     "iopub.execute_input": "2021-06-24T22:16:02.927898Z",
     "iopub.status.busy": "2021-06-24T22:16:02.926976Z",
     "iopub.status.idle": "2021-06-24T22:16:02.932710Z",
     "shell.execute_reply": "2021-06-24T22:16:02.933560Z"
    },
    "papermill": {
     "duration": 0.031743,
     "end_time": "2021-06-24T22:16:02.933806",
     "exception": false,
     "start_time": "2021-06-24T22:16:02.902063",
     "status": "completed"
    },
    "tags": [
     "injected-parameters"
    ]
   },
   "outputs": [],
   "source": [
    "# Parameters\n",
    "CALITP_ITP_ID = 210\n",
    "CALITP_URL_NUMBER = 0\n",
    "DEBUG = False\n",
    "START_DATE = \"2021-05-01\"\n",
    "END_DATE = \"2021-06-01\"\n"
   ]
  },
  {
   "cell_type": "code",
   "execution_count": 4,
   "id": "71063ac9",
   "metadata": {
    "execution": {
     "iopub.execute_input": "2021-06-24T22:16:02.991918Z",
     "iopub.status.busy": "2021-06-24T22:16:02.990803Z",
     "iopub.status.idle": "2021-06-24T22:16:02.995884Z",
     "shell.execute_reply": "2021-06-24T22:16:02.996370Z"
    },
    "papermill": {
     "duration": 0.036057,
     "end_time": "2021-06-24T22:16:02.996549",
     "exception": false,
     "start_time": "2021-06-24T22:16:02.960492",
     "status": "completed"
    },
    "tags": [
     "hide"
    ]
   },
   "outputs": [],
   "source": [
    "if not DEBUG:\n",
    "    warnings.filterwarnings(\"ignore\")"
   ]
  },
  {
   "cell_type": "code",
   "execution_count": 5,
   "id": "3d22b0f1",
   "metadata": {
    "execution": {
     "iopub.execute_input": "2021-06-24T22:16:03.082403Z",
     "iopub.status.busy": "2021-06-24T22:16:03.080448Z",
     "iopub.status.idle": "2021-06-24T22:16:03.084137Z",
     "shell.execute_reply": "2021-06-24T22:16:03.083334Z"
    },
    "papermill": {
     "duration": 0.061308,
     "end_time": "2021-06-24T22:16:03.084334",
     "exception": false,
     "start_time": "2021-06-24T22:16:03.023026",
     "status": "completed"
    },
    "tags": [
     "hide"
    ]
   },
   "outputs": [],
   "source": [
    "# Convenience functions ----\n",
    "\n",
    "filter_start = filter(\n",
    "    _.calitp_extracted_at <= START_DATE,\n",
    "    _.calitp_deleted_at.fillna(\"2099-01-01\") > START_DATE,\n",
    ")\n",
    "\n",
    "filter_end = filter(\n",
    "    _.calitp_extracted_at <= END_DATE,\n",
    "    _.calitp_deleted_at.fillna(\"2099-01-01\") > END_DATE,\n",
    ")\n",
    "\n",
    "filter_itp = filter(\n",
    "    _.calitp_itp_id == CALITP_ITP_ID, _.calitp_url_number == CALITP_URL_NUMBER\n",
    ")\n",
    "\n",
    "collect_to_dict = (\n",
    "    collect()\n",
    "    >> pipe(_.to_dict(orient=\"records\")[0])\n",
    ")\n",
    "\n",
    "\n",
    "select_rm_calitp = select(\n",
    "    -_.calitp_itp_id,\n",
    "    -_.calitp_url_number,\n",
    "    -_.calitp_hash,\n",
    "    -_.calitp_extracted_at,\n",
    "    -_.calitp_deleted_at,\n",
    ")\n",
    "\n",
    "def percent_format(labels):\n",
    "    return [\"{:.0f}%\".format(v*100) for v in labels]\n",
    "\n",
    "def query_id_changes(start_table, end_table, id_vars):\n",
    "    \"\"\"Calculate id variables that are removed, added, or unchanged between tables.\n",
    "    \n",
    "    It works by adding a special column to each table, performing a full join,\n",
    "    then checking where the special column is null.\n",
    "    \"\"\"\n",
    "    sym_id_vars = [_[k] for k in id_vars]\n",
    "\n",
    "    is_in_start = start_table >> select(*id_vars) >> mutate(is_in_start=True)\n",
    "    is_in_end = end_table >> select(*id_vars) >> mutate(is_in_end=True)\n",
    "\n",
    "    baseline = start_table >> count(*id_vars) >> rename(n_baseline=\"n\")\n",
    "    tallies = (\n",
    "        is_in_start\n",
    "        >> full_join(_, is_in_end, id_vars)\n",
    "        >> count(*sym_id_vars, _.is_in_start, _.is_in_end)\n",
    "        >> mutate(\n",
    "            status=case_when(\n",
    "                _,\n",
    "                {\n",
    "                    _.is_in_end.isna(): \"Removed\",\n",
    "                    _.is_in_start.isna(): \"Added\",\n",
    "                    True: \"Unchanged\",\n",
    "                },\n",
    "            )\n",
    "        )\n",
    "        >> count(*sym_id_vars[:-1], _.status)\n",
    "        >> group_by(*sym_id_vars[:-1])\n",
    "        >> mutate(percent=_.n / _.n.sum())\n",
    "    )\n",
    "\n",
    "    return tallies"
   ]
  },
  {
   "cell_type": "code",
   "execution_count": 6,
   "id": "b6c179ce",
   "metadata": {
    "execution": {
     "iopub.execute_input": "2021-06-24T22:16:03.156147Z",
     "iopub.status.busy": "2021-06-24T22:16:03.154885Z",
     "iopub.status.idle": "2021-06-24T22:16:25.421643Z",
     "shell.execute_reply": "2021-06-24T22:16:25.421172Z"
    },
    "papermill": {
     "duration": 22.298343,
     "end_time": "2021-06-24T22:16:25.421760",
     "exception": false,
     "start_time": "2021-06-24T22:16:03.123417",
     "status": "completed"
    },
    "tags": [
     "hide"
    ]
   },
   "outputs": [],
   "source": [
    "# Data ====\n",
    "# 1. High level feed info ----\n",
    "feed_info = (\n",
    "    tbl.gtfs_schedule_type2.feed_info()\n",
    "    >> filter_end\n",
    "    >> filter_itp\n",
    "    >> select_rm_calitp\n",
    "    >> collect_to_dict\n",
    ")\n",
    "\n",
    "_n_routes = (\n",
    "    tbl.gtfs_schedule_type2.routes() >> filter_end >> filter_itp >> count() >> collect()\n",
    ")\n",
    "_n_stops = (\n",
    "    tbl.gtfs_schedule_type2.stops() >> filter_end >> filter_itp >> count() >> collect()\n",
    ")\n",
    "\n",
    "feed_info[\"n_routes\"] = int(_n_routes.loc[0, \"n\"])\n",
    "feed_info[\"n_stops\"] = int(_n_stops.loc[0, \"n\"])\n",
    "\n",
    "status = (\n",
    "    tbl.views.gtfs_status_latest()\n",
    "    >> filter(_.itp_id == CALITP_ITP_ID, _.url_number == CALITP_URL_NUMBER)\n",
    "    >> select(-_.url_number, -_.status)\n",
    "    >> select_rm_calitp\n",
    "    >> collect_to_dict\n",
    ")\n",
    "\n",
    "# 2. Monthly metrics ----\n",
    "# Service hours per day. Note that the queried table calculates service\n",
    "# hours per service id, so we need to sum across service ids for the day\n",
    "_cross_cal = (\n",
    "    tbl.views.dim_date()\n",
    "    >> filter(_.full_date.between(START_DATE, END_DATE))\n",
    "    >> select(_.service_date == _.full_date)\n",
    ")\n",
    "\n",
    "tbl_daily_service_hours = (\n",
    "    tbl.views.gtfs_schedule_service_daily_metrics()\n",
    "    >> filter_itp\n",
    "    >> filter(_.service_date.between(START_DATE, END_DATE))\n",
    "    >> right_join(_, _cross_cal, [\"service_date\"])\n",
    "    >> collect()\n",
    "    >> group_by(_.service_date)\n",
    "    >> summarize(\n",
    "        ttl_service_hours=(_.last_arrival_ts.max() - _.first_departure_ts.min()) / 3600,\n",
    "        ttl_service_hours2=_.ttl_service_hours.sum(),\n",
    "    )\n",
    "    >> mutate(\n",
    "        ttl_service_hours=_.ttl_service_hours.astype(float).round(2),\n",
    "        service_date=_.service_date.astype(\"datetime64[ns]\"),\n",
    "    )\n",
    ")\n",
    "\n",
    "# number of days where a feed did not have any trips in service\n",
    "n_expired_days = (\n",
    "    tbl_daily_service_hours\n",
    "    >> filter(_.ttl_service_hours.isna())\n",
    "    >> pipe(lambda d: {\"n\": d.shape[0]})\n",
    ")\n",
    "\n",
    "# 3. Stop and Route ID Changes ----\n",
    "\n",
    "_tbl_stops_start = tbl.gtfs_schedule_type2.stops() >> filter_itp >> filter_start\n",
    "_tbl_stops_end = tbl.gtfs_schedule_type2.stops() >> filter_itp >> filter_end\n",
    "tbl_stops_changed = (\n",
    "    query_id_changes(_tbl_stops_start, _tbl_stops_end, [\"stop_id\"]) >> collect()\n",
    ")\n",
    "\n",
    "_tbl_routes_start = tbl.gtfs_schedule_type2.routes() >> filter_itp >> filter_start\n",
    "_tbl_routes_end = tbl.gtfs_schedule_type2.routes() >> filter_itp >> filter_end\n",
    "tbl_routes_changed = (\n",
    "    query_id_changes(_tbl_routes_start, _tbl_routes_end, [\"route_id\"]) >> collect()\n",
    ")"
   ]
  },
  {
   "cell_type": "code",
   "execution_count": 7,
   "id": "c0c9b776",
   "metadata": {
    "execution": {
     "iopub.execute_input": "2021-06-24T22:16:25.459788Z",
     "iopub.status.busy": "2021-06-24T22:16:25.459115Z",
     "iopub.status.idle": "2021-06-24T22:16:30.511236Z",
     "shell.execute_reply": "2021-06-24T22:16:30.511710Z"
    },
    "papermill": {
     "duration": 5.074871,
     "end_time": "2021-06-24T22:16:30.511865",
     "exception": false,
     "start_time": "2021-06-24T22:16:25.436994",
     "status": "completed"
    },
    "tags": [
     "hide"
    ]
   },
   "outputs": [],
   "source": [
    "# 4. Feed files being checked for ----\n",
    "\n",
    "file_categories = pd.DataFrame(\n",
    "    {\n",
    "        \"shapes.txt\": \"Visual display\",\n",
    "        \"pathways.txt\": \"Navigation\",\n",
    "        \"levels.txt\": \"Navigation\",\n",
    "        \"fare_rules.txt\": \"Fares\",\n",
    "        \"fare_leg_rules\": \"Fares\",\n",
    "        \"feed_info.txt\": \"Technical contacts\",\n",
    "    }.items(),\n",
    "    columns=[\"name\", \"category\"],\n",
    ")\n",
    "\n",
    "importance = [\"Visual display\", \"Navigation\", \"Fares\", \"Technical contacts\"]\n",
    "\n",
    "tbl_file_check = (\n",
    "    tbl.gtfs_schedule_history.calitp_files_updates()\n",
    "    >> filter_itp\n",
    "    >> filter(_.calitp_extracted_at.isin(BIWEEKLY_MARKERS))\n",
    "    >> select(_.name, _.calitp_extracted_at)\n",
    "    >> collect()\n",
    "    >> right_join(_, file_categories, [\"name\"])\n",
    "    >> mutate(\n",
    "        calitp_extracted_at=_.calitp_extracted_at.fillna(\"missing\").astype(str),\n",
    "        success=\"✅\",\n",
    "    )\n",
    "    >> spread(_.calitp_extracted_at, _.success)\n",
    "    >> select(-_.missing)\n",
    "    >> arrange(_.category.apply(importance.index))\n",
    "    >> select(_.category, _.contains(\"\"))\n",
    "    >> pipe(_.fillna(\"\"))\n",
    ")\n",
    "\n",
    "tbl_validation_notices = (\n",
    "    tbl.views.validation_notices()\n",
    "    >> filter_itp\n",
    "    >> filter(_.severity == \"ERROR\")\n",
    "    >> count(_.code, _.severity)\n",
    "    >> collect()\n",
    ")"
   ]
  },
  {
   "cell_type": "markdown",
   "id": "c3f38df3",
   "metadata": {
    "papermill": {
     "duration": 0.026055,
     "end_time": "2021-06-24T22:16:30.559779",
     "exception": false,
     "start_time": "2021-06-24T22:16:30.533724",
     "status": "completed"
    },
    "tags": [
     "hide"
    ]
   },
   "source": [
    "## Dump data"
   ]
  },
  {
   "cell_type": "code",
   "execution_count": 8,
   "id": "a56db1eb",
   "metadata": {
    "execution": {
     "iopub.execute_input": "2021-06-24T22:16:30.612969Z",
     "iopub.status.busy": "2021-06-24T22:16:30.611871Z",
     "iopub.status.idle": "2021-06-24T22:16:30.622670Z",
     "shell.execute_reply": "2021-06-24T22:16:30.623249Z"
    },
    "papermill": {
     "duration": 0.040488,
     "end_time": "2021-06-24T22:16:30.623519",
     "exception": false,
     "start_time": "2021-06-24T22:16:30.583031",
     "status": "completed"
    },
    "tags": [
     "hide"
    ]
   },
   "outputs": [],
   "source": [
    "import json\n",
    "import shutil\n",
    "\n",
    "from pathlib import Path\n",
    "\n",
    "out_dir = Path(f\"output/{CALITP_ITP_ID}_{CALITP_URL_NUMBER}/data\")\n",
    "out_dir.mkdir(parents=True, exist_ok=True)\n",
    "\n",
    "json.dump(feed_info, open(out_dir / \"1_feed_info.json\", \"w\"))\n",
    "json.dump(status, open(out_dir / \"1_status.json\", \"w\"))\n",
    "\n",
    "tbl_daily_service_hours.to_json(out_dir / \"2_daily_service_hours.json\", orient=\"records\")\n",
    "json.dump(n_expired_days, open(out_dir / \"2_n_expired_days.json\", \"w\"))\n",
    "\n",
    "tbl_stops_changed.to_json(out_dir / \"3_stops_changed.json\", orient=\"records\")\n",
    "tbl_routes_changed.to_json(out_dir / \"3_routes_changed.json\", orient=\"records\")\n",
    "tbl_file_check.to_json(out_dir / \"4_file_check.json\", orient=\"records\")\n",
    "tbl_validation_notices.to_json(out_dir / \"4_validation_notices.json\", orient=\"records\")\n"
   ]
  },
  {
   "cell_type": "markdown",
   "id": "4c1c2a04",
   "metadata": {
    "papermill": {
     "duration": 0.0198,
     "end_time": "2021-06-24T22:16:30.668922",
     "exception": false,
     "start_time": "2021-06-24T22:16:30.649122",
     "status": "completed"
    },
    "tags": []
   },
   "source": [
    "# Monthly GTFS Quality Report"
   ]
  },
  {
   "cell_type": "code",
   "execution_count": 9,
   "id": "6e465d59",
   "metadata": {
    "execution": {
     "iopub.execute_input": "2021-06-24T22:16:30.709061Z",
     "iopub.status.busy": "2021-06-24T22:16:30.708264Z",
     "iopub.status.idle": "2021-06-24T22:16:30.712303Z",
     "shell.execute_reply": "2021-06-24T22:16:30.712779Z"
    },
    "papermill": {
     "duration": 0.028221,
     "end_time": "2021-06-24T22:16:30.712942",
     "exception": false,
     "start_time": "2021-06-24T22:16:30.684721",
     "status": "completed"
    },
    "tags": []
   },
   "outputs": [
    {
     "data": {
      "text/markdown": [
       "\n",
       "Transit provider name: Trillium Solutions, Inc.\n",
       "\n",
       "Date generated: 2021-06-24\n"
      ],
      "text/plain": [
       "<IPython.core.display.Markdown object>"
      ]
     },
     "execution_count": 9,
     "metadata": {},
     "output_type": "execute_result"
    }
   ],
   "source": [
    "from IPython.display import Markdown\n",
    "\n",
    "Markdown(f\"\"\"\n",
    "Transit provider name: {feed_info[\"feed_publisher_name\"]}\n",
    "\n",
    "Date generated: {DATE_TODAY}\n",
    "\"\"\")"
   ]
  },
  {
   "cell_type": "markdown",
   "id": "d09fa788",
   "metadata": {
    "papermill": {
     "duration": 0.015865,
     "end_time": "2021-06-24T22:16:30.744125",
     "exception": false,
     "start_time": "2021-06-24T22:16:30.728260",
     "status": "completed"
    },
    "tags": []
   },
   "source": [
    "This is a monthly report, generated by the California Integrated Travel Project ([Cal-ITP](https://dot.ca.gov/cal-itp/cal-itp-gtfs)), summarizing issues discovered by [MobilityData](http://mobilitydata.io/)’s [GTFS Validator](https://github.com/MobilityData/gtfs-validator). This report is available for viewing by the general public to support continuous improvement of GTFS data and the experience of transit passengers. "
   ]
  },
  {
   "cell_type": "markdown",
   "id": "ba577df6",
   "metadata": {
    "papermill": {
     "duration": 0.020454,
     "end_time": "2021-06-24T22:16:30.782170",
     "exception": false,
     "start_time": "2021-06-24T22:16:30.761716",
     "status": "completed"
    },
    "tags": []
   },
   "source": [
    "## Overview"
   ]
  },
  {
   "cell_type": "code",
   "execution_count": 10,
   "id": "90bd4d17",
   "metadata": {
    "execution": {
     "iopub.execute_input": "2021-06-24T22:16:30.821846Z",
     "iopub.status.busy": "2021-06-24T22:16:30.821056Z",
     "iopub.status.idle": "2021-06-24T22:16:30.824952Z",
     "shell.execute_reply": "2021-06-24T22:16:30.825360Z"
    },
    "papermill": {
     "duration": 0.026734,
     "end_time": "2021-06-24T22:16:30.825498",
     "exception": false,
     "start_time": "2021-06-24T22:16:30.798764",
     "status": "completed"
    },
    "tags": []
   },
   "outputs": [
    {
     "data": {
      "text/markdown": [
       "\n",
       "Feed location: http://data.trilliumtransit.com/gtfs/moorparkcitytransit-ca-us/moorparkcitytransit-ca-us.zip\n",
       "\n",
       "Metrics for the most recent published version of the feed:\n",
       "\n",
       "* Date published: UTC: 30-Mar-2021 17:10\n",
       "* Number of routes in any service: 2\n",
       "* Number of stops in service: 53\n"
      ],
      "text/plain": [
       "<IPython.core.display.Markdown object>"
      ]
     },
     "execution_count": 10,
     "metadata": {},
     "output_type": "execute_result"
    }
   ],
   "source": [
    "Markdown(f\"\"\"\n",
    "Feed location: {status[\"gtfs_schedule_url\"]}\n",
    "\n",
    "Metrics for the most recent published version of the feed:\n",
    "\n",
    "* Date published: {feed_info[\"feed_version\"]}\n",
    "* Number of routes in any service: {feed_info[\"n_routes\"]}\n",
    "* Number of stops in service: {feed_info[\"n_stops\"]}\n",
    "\"\"\")"
   ]
  },
  {
   "cell_type": "markdown",
   "id": "a876e526",
   "metadata": {
    "papermill": {
     "duration": 0.01741,
     "end_time": "2021-06-24T22:16:30.858938",
     "exception": false,
     "start_time": "2021-06-24T22:16:30.841528",
     "status": "completed"
    },
    "tags": []
   },
   "source": [
    "## Aggregated Metrics for May"
   ]
  },
  {
   "cell_type": "code",
   "execution_count": 11,
   "id": "2bd2dd75",
   "metadata": {
    "execution": {
     "iopub.execute_input": "2021-06-24T22:16:30.902167Z",
     "iopub.status.busy": "2021-06-24T22:16:30.901216Z",
     "iopub.status.idle": "2021-06-24T22:16:30.906012Z",
     "shell.execute_reply": "2021-06-24T22:16:30.905406Z"
    },
    "papermill": {
     "duration": 0.027688,
     "end_time": "2021-06-24T22:16:30.906221",
     "exception": false,
     "start_time": "2021-06-24T22:16:30.878533",
     "status": "completed"
    },
    "tags": []
   },
   "outputs": [
    {
     "data": {
      "text/markdown": [
       "\n",
       "Days with no service hours: 19\n"
      ],
      "text/plain": [
       "<IPython.core.display.Markdown object>"
      ]
     },
     "execution_count": 11,
     "metadata": {},
     "output_type": "execute_result"
    }
   ],
   "source": [
    "# TODO: \n",
    "\n",
    "# Markdown(f\"\"\"\n",
    "# Days when the active feed was expired: {n_expired_days[\"n\"]}\n",
    "# \"\"\")\n",
    "\n",
    "Markdown(f\"\"\"\n",
    "Days with no service hours: {n_expired_days[\"n\"]}\n",
    "\"\"\")\n"
   ]
  },
  {
   "cell_type": "code",
   "execution_count": 12,
   "id": "b8b2aeb9",
   "metadata": {
    "execution": {
     "iopub.execute_input": "2021-06-24T22:16:30.989869Z",
     "iopub.status.busy": "2021-06-24T22:16:30.988975Z",
     "iopub.status.idle": "2021-06-24T22:16:31.386118Z",
     "shell.execute_reply": "2021-06-24T22:16:31.385679Z"
    },
    "papermill": {
     "duration": 0.458267,
     "end_time": "2021-06-24T22:16:31.386229",
     "exception": false,
     "start_time": "2021-06-24T22:16:30.927962",
     "status": "completed"
    },
    "tags": []
   },
   "outputs": [
    {
     "data": {
      "image/png": "[encoded data removed]",
      "text/plain": [
       "<Figure size 640x480 with 1 Axes>"
      ]
     },
     "metadata": {},
     "output_type": "display_data"
    }
   ],
   "source": [
    "(\n",
    "    tbl_daily_service_hours\n",
    "    >> ggplot(aes(\"service_date\", \"ttl_service_hours2\"))\n",
    "    + geom_line()\n",
    "    + geom_point()\n",
    "    + theme(axis_text_x=element_text(angle=45, hjust=1))\n",
    "    + scale_x_datetime(date_breaks=\"1 week\")\n",
    "    + expand_limits(y=0)\n",
    "    + labs(y = \"Total service hours\", x = \"Service date\", title=\"Service hour per day\")\n",
    ").draw();"
   ]
  },
  {
   "cell_type": "markdown",
   "id": "56b06fe0",
   "metadata": {
    "papermill": {
     "duration": 0.017337,
     "end_time": "2021-06-24T22:16:31.421129",
     "exception": false,
     "start_time": "2021-06-24T22:16:31.403792",
     "status": "completed"
    },
    "tags": []
   },
   "source": [
    "## Changes Since Previous Month"
   ]
  },
  {
   "cell_type": "code",
   "execution_count": 13,
   "id": "851f0f72",
   "metadata": {
    "execution": {
     "iopub.execute_input": "2021-06-24T22:16:31.576801Z",
     "iopub.status.busy": "2021-06-24T22:16:31.476197Z",
     "iopub.status.idle": "2021-06-24T22:16:31.754215Z",
     "shell.execute_reply": "2021-06-24T22:16:31.754640Z"
    },
    "papermill": {
     "duration": 0.31557,
     "end_time": "2021-06-24T22:16:31.754782",
     "exception": false,
     "start_time": "2021-06-24T22:16:31.439212",
     "status": "completed"
    },
    "tags": []
   },
   "outputs": [
    {
     "data": {
      "image/png": "[encoded data removed]",
      "text/plain": [
       "<Figure size 640x480 with 1 Axes>"
      ]
     },
     "metadata": {},
     "output_type": "display_data"
    }
   ],
   "source": [
    "(\n",
    "    pd.concat(\n",
    "        [\n",
    "            tbl_stops_changed >> mutate(kind=\"Stops\"),\n",
    "            tbl_routes_changed >> mutate(kind=\"Routes\"),\n",
    "        ]\n",
    "    )\n",
    "    >> ggplot(aes(\"kind\", \"n\", fill=\"status\"))\n",
    "    + geom_col()\n",
    "    + labs(\n",
    "        x=\"GTFS schedule table\",\n",
    "        y=\"Number of IDs\",\n",
    "        title=f\"IDs Changed Between {START_MONTH_DAY} and {END_MONTH_DAY}\",\n",
    "    )\n",
    ").draw();"
   ]
  },
  {
   "cell_type": "markdown",
   "id": "03006d78",
   "metadata": {
    "papermill": {
     "duration": 0.018702,
     "end_time": "2021-06-24T22:16:31.793408",
     "exception": false,
     "start_time": "2021-06-24T22:16:31.774706",
     "status": "completed"
    },
    "tags": []
   },
   "source": [
    "### (Alternative version using percentages)"
   ]
  },
  {
   "cell_type": "code",
   "execution_count": 14,
   "id": "9a8b1acd",
   "metadata": {
    "execution": {
     "iopub.execute_input": "2021-06-24T22:16:31.958650Z",
     "iopub.status.busy": "2021-06-24T22:16:31.938069Z",
     "iopub.status.idle": "2021-06-24T22:16:32.165634Z",
     "shell.execute_reply": "2021-06-24T22:16:32.164654Z"
    },
    "papermill": {
     "duration": 0.352285,
     "end_time": "2021-06-24T22:16:32.165817",
     "exception": false,
     "start_time": "2021-06-24T22:16:31.813532",
     "status": "completed"
    },
    "tags": []
   },
   "outputs": [
    {
     "data": {
      "image/png": "[encoded data removed]",
      "text/plain": [
       "<Figure size 640x480 with 1 Axes>"
      ]
     },
     "metadata": {},
     "output_type": "display_data"
    }
   ],
   "source": [
    "(\n",
    "    pd.concat(\n",
    "        [\n",
    "            tbl_stops_changed >> mutate(kind=\"Stops\"),\n",
    "            tbl_routes_changed >> mutate(kind=\"Routes\"),\n",
    "        ]\n",
    "    )\n",
    "    >> ggplot(aes(\"kind\", \"percent\", fill=\"status\"))\n",
    "    + geom_col()\n",
    "    + labs(\n",
    "        x=\"GTFS schedule table\",\n",
    "        y=\"Percentage of IDs\",\n",
    "        title=f\"IDs Changed Between {START_MONTH_DAY} and {END_MONTH_DAY}\",\n",
    "    )\n",
    "    + scale_y_continuous(labels=percent_format, breaks=np.arange(0, 1.2, 0.2))\n",
    ").draw();"
   ]
  },
  {
   "cell_type": "markdown",
   "id": "a3025278",
   "metadata": {
    "papermill": {
     "duration": 0.033698,
     "end_time": "2021-06-24T22:16:32.232709",
     "exception": false,
     "start_time": "2021-06-24T22:16:32.199011",
     "status": "completed"
    },
    "tags": []
   },
   "source": [
    "## Consistency with the [California GTFS Minimum Guidelines](https://dot.ca.gov/cal-itp/california-minimum-general-transit-feed-specification-gtfs-guidelines) for the feed downloaded\n"
   ]
  },
  {
   "cell_type": "markdown",
   "id": "2c1ba31f",
   "metadata": {
    "papermill": {
     "duration": 0.040349,
     "end_time": "2021-06-24T22:16:32.302602",
     "exception": false,
     "start_time": "2021-06-24T22:16:32.262253",
     "status": "completed"
    },
    "tags": []
   },
   "source": [
    "### Do the following files/fields exist?"
   ]
  },
  {
   "cell_type": "code",
   "execution_count": 15,
   "id": "5c750b00",
   "metadata": {
    "execution": {
     "iopub.execute_input": "2021-06-24T22:16:32.372282Z",
     "iopub.status.busy": "2021-06-24T22:16:32.371189Z",
     "iopub.status.idle": "2021-06-24T22:16:32.383374Z",
     "shell.execute_reply": "2021-06-24T22:16:32.384137Z"
    },
    "papermill": {
     "duration": 0.05458,
     "end_time": "2021-06-24T22:16:32.384384",
     "exception": false,
     "start_time": "2021-06-24T22:16:32.329804",
     "status": "completed"
    },
    "tags": []
   },
   "outputs": [
    {
     "data": {
      "text/html": [
       "<div>\n",
       "<style scoped>\n",
       "    .dataframe tbody tr th:only-of-type {\n",
       "        vertical-align: middle;\n",
       "    }\n",
       "\n",
       "    .dataframe tbody tr th {\n",
       "        vertical-align: top;\n",
       "    }\n",
       "\n",
       "    .dataframe thead th {\n",
       "        text-align: right;\n",
       "    }\n",
       "</style>\n",
       "<table border=\"1\" class=\"dataframe\">\n",
       "  <thead>\n",
       "    <tr style=\"text-align: right;\">\n",
       "      <th></th>\n",
       "      <th>category</th>\n",
       "      <th>name</th>\n",
       "      <th>2021-05-16</th>\n",
       "      <th>2021-05-30</th>\n",
       "    </tr>\n",
       "  </thead>\n",
       "  <tbody>\n",
       "    <tr>\n",
       "      <th>5</th>\n",
       "      <td>Visual display</td>\n",
       "      <td>shapes.txt</td>\n",
       "      <td>✅</td>\n",
       "      <td>✅</td>\n",
       "    </tr>\n",
       "    <tr>\n",
       "      <th>3</th>\n",
       "      <td>Navigation</td>\n",
       "      <td>levels.txt</td>\n",
       "      <td></td>\n",
       "      <td></td>\n",
       "    </tr>\n",
       "    <tr>\n",
       "      <th>4</th>\n",
       "      <td>Navigation</td>\n",
       "      <td>pathways.txt</td>\n",
       "      <td></td>\n",
       "      <td></td>\n",
       "    </tr>\n",
       "    <tr>\n",
       "      <th>0</th>\n",
       "      <td>Fares</td>\n",
       "      <td>fare_leg_rules</td>\n",
       "      <td></td>\n",
       "      <td></td>\n",
       "    </tr>\n",
       "    <tr>\n",
       "      <th>1</th>\n",
       "      <td>Fares</td>\n",
       "      <td>fare_rules.txt</td>\n",
       "      <td>✅</td>\n",
       "      <td>✅</td>\n",
       "    </tr>\n",
       "    <tr>\n",
       "      <th>2</th>\n",
       "      <td>Technical contacts</td>\n",
       "      <td>feed_info.txt</td>\n",
       "      <td>✅</td>\n",
       "      <td>✅</td>\n",
       "    </tr>\n",
       "  </tbody>\n",
       "</table>\n",
       "</div>"
      ],
      "text/plain": [
       "             category            name 2021-05-16 2021-05-30\n",
       "5      Visual display      shapes.txt          ✅          ✅\n",
       "3          Navigation      levels.txt                      \n",
       "4          Navigation    pathways.txt                      \n",
       "0               Fares  fare_leg_rules                      \n",
       "1               Fares  fare_rules.txt          ✅          ✅\n",
       "2  Technical contacts   feed_info.txt          ✅          ✅"
      ]
     },
     "execution_count": 15,
     "metadata": {},
     "output_type": "execute_result"
    }
   ],
   "source": [
    "tbl_file_check"
   ]
  },
  {
   "cell_type": "markdown",
   "id": "a38db0b8",
   "metadata": {
    "papermill": {
     "duration": 0.036783,
     "end_time": "2021-06-24T22:16:32.443942",
     "exception": false,
     "start_time": "2021-06-24T22:16:32.407159",
     "status": "completed"
    },
    "tags": []
   },
   "source": [
    "### Validation Errors Observed"
   ]
  },
  {
   "cell_type": "code",
   "execution_count": 16,
   "id": "9ce2baeb",
   "metadata": {
    "execution": {
     "iopub.execute_input": "2021-06-24T22:16:32.516258Z",
     "iopub.status.busy": "2021-06-24T22:16:32.515152Z",
     "iopub.status.idle": "2021-06-24T22:16:32.519250Z",
     "shell.execute_reply": "2021-06-24T22:16:32.519727Z"
    },
    "papermill": {
     "duration": 0.044618,
     "end_time": "2021-06-24T22:16:32.519881",
     "exception": false,
     "start_time": "2021-06-24T22:16:32.475263",
     "status": "completed"
    },
    "tags": []
   },
   "outputs": [
    {
     "data": {
      "text/markdown": [
       "No validation error observed in your feed."
      ],
      "text/plain": [
       "<IPython.core.display.Markdown object>"
      ]
     },
     "metadata": {},
     "output_type": "display_data"
    }
   ],
   "source": [
    "if tbl_validation_notices.shape[0] == 0:\n",
    "    display(Markdown(\"No validation error observed in your feed.\"))\n",
    "else:    \n",
    "    display(tbl_validation_notices)"
   ]
  },
  {
   "cell_type": "markdown",
   "id": "efc4b917",
   "metadata": {
    "papermill": {
     "duration": 0.04391,
     "end_time": "2021-06-24T22:16:32.588688",
     "exception": false,
     "start_time": "2021-06-24T22:16:32.544778",
     "status": "completed"
    },
    "tags": []
   },
   "source": [
    "For more information about Cal-ITP, including the [Minimum GTFS Guidelines](https://dot.ca.gov/cal-itp/california-minimum-general-transit-feed-specification-gtfs-guidelines) and our [Transit Data Helpdesk](https://dot.ca.gov/programs/rail-and-mass-transportation/gtfs/helpdesk), contact [GTFSRT@dot.ca.gov](mailto:GTFSRT@dot.ca.gov)."
   ]
  }
 ],
 "metadata": {
  "kernelspec": {
   "display_name": "venv-calitp-py",
   "language": "python",
   "name": "venv-calitp-py"
  },
  "language_info": {
   "codemirror_mode": {
    "name": "ipython",
    "version": 3
   },
   "file_extension": ".py",
   "mimetype": "text/x-python",
   "name": "python",
   "nbconvert_exporter": "python",
   "pygments_lexer": "ipython3",
   "version": "3.8.5"
  },
  "papermill": {
   "default_parameters": {},
   "duration": 39.151998,
   "end_time": "2021-06-24T22:16:34.370059",
   "environment_variables": {},
   "exception": null,
   "input_path": "report.ipynb",
   "output_path": "output/210/report.ipynb",
   "parameters": {
    "CALITP_ITP_ID": 210,
    "CALITP_URL_NUMBER": 0,
    "DEBUG": false,
    "END_DATE": "2021-06-01",
    "START_DATE": "2021-05-01"
   },
   "start_time": "2021-06-24T22:15:55.218061",
   "version": "2.3.3"
  }
 },
 "nbformat": 4,
 "nbformat_minor": 5
}