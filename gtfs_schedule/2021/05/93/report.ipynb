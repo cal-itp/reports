{
 "cells": [
  {
   "cell_type": "markdown",
   "id": "7324ffff",
   "metadata": {
    "papermill": {
     "duration": 0.028295,
     "end_time": "2021-06-24T22:12:00.689060",
     "exception": false,
     "start_time": "2021-06-24T22:12:00.660765",
     "status": "completed"
    },
    "tags": [
     "hide"
    ]
   },
   "source": [
    "# Setup"
   ]
  },
  {
   "cell_type": "code",
   "execution_count": 1,
   "id": "059c8d4a",
   "metadata": {
    "execution": {
     "iopub.execute_input": "2021-06-24T22:12:00.757900Z",
     "iopub.status.busy": "2021-06-24T22:12:00.753027Z",
     "iopub.status.idle": "2021-06-24T22:12:10.577245Z",
     "shell.execute_reply": "2021-06-24T22:12:10.578691Z"
    },
    "papermill": {
     "duration": 9.86165,
     "end_time": "2021-06-24T22:12:10.579048",
     "exception": false,
     "start_time": "2021-06-24T22:12:00.717398",
     "status": "completed"
    },
    "tags": [
     "hide"
    ]
   },
   "outputs": [],
   "source": [
    "import pandas as pd\n",
    "import numpy as np\n",
    "import warnings\n",
    "\n",
    "from io import StringIO\n",
    "from calitp.tables import tbl\n",
    "from datetime import date, datetime\n",
    "from siuba import *\n",
    "from plotnine import *\n",
    "\n",
    "def friendly_date(x): \n",
    "    return datetime.strptime(x, \"%Y-%m-%d\").strftime(\"%b %d\")"
   ]
  },
  {
   "cell_type": "code",
   "execution_count": 2,
   "id": "d0d4df4e",
   "metadata": {
    "execution": {
     "iopub.execute_input": "2021-06-24T22:12:10.652005Z",
     "iopub.status.busy": "2021-06-24T22:12:10.650570Z",
     "iopub.status.idle": "2021-06-24T22:12:10.656532Z",
     "shell.execute_reply": "2021-06-24T22:12:10.657380Z"
    },
    "papermill": {
     "duration": 0.045369,
     "end_time": "2021-06-24T22:12:10.657602",
     "exception": false,
     "start_time": "2021-06-24T22:12:10.612233",
     "status": "completed"
    },
    "tags": [
     "parameters",
     "hide"
    ]
   },
   "outputs": [],
   "source": [
    "CALITP_ITP_ID = 98\n",
    "#CALITP_ITP_ID=45\n",
    "CALITP_URL_NUMBER = 0\n",
    "DEBUG = False\n",
    "\n",
    "START_DATE = \"2021-05-01\"\n",
    "END_DATE = \"2021-06-01\"\n",
    "DATE_TODAY=date.today()\n",
    "START_MONTH_DAY = friendly_date(START_DATE)\n",
    "END_MONTH_DAY = friendly_date(END_DATE)\n",
    "\n",
    "WEEK_MARKERS = pd.date_range(START_DATE, END_DATE, freq=\"W\").astype(str).tolist()\n",
    "BIWEEKLY_MARKERS = pd.date_range(START_DATE, END_DATE, freq=\"2W\").astype(str).tolist()"
   ]
  },
  {
   "cell_type": "code",
   "execution_count": 3,
   "id": "f20ea7c3",
   "metadata": {
    "execution": {
     "iopub.execute_input": "2021-06-24T22:12:10.723641Z",
     "iopub.status.busy": "2021-06-24T22:12:10.722481Z",
     "iopub.status.idle": "2021-06-24T22:12:10.726980Z",
     "shell.execute_reply": "2021-06-24T22:12:10.728007Z"
    },
    "papermill": {
     "duration": 0.041698,
     "end_time": "2021-06-24T22:12:10.728263",
     "exception": false,
     "start_time": "2021-06-24T22:12:10.686565",
     "status": "completed"
    },
    "tags": [
     "injected-parameters"
    ]
   },
   "outputs": [],
   "source": [
    "# Parameters\n",
    "CALITP_ITP_ID = 93\n",
    "CALITP_URL_NUMBER = 0\n",
    "DEBUG = False\n",
    "START_DATE = \"2021-05-01\"\n",
    "END_DATE = \"2021-06-01\"\n"
   ]
  },
  {
   "cell_type": "code",
   "execution_count": 4,
   "id": "85089cb4",
   "metadata": {
    "execution": {
     "iopub.execute_input": "2021-06-24T22:12:10.791206Z",
     "iopub.status.busy": "2021-06-24T22:12:10.789843Z",
     "iopub.status.idle": "2021-06-24T22:12:10.792773Z",
     "shell.execute_reply": "2021-06-24T22:12:10.793695Z"
    },
    "papermill": {
     "duration": 0.035942,
     "end_time": "2021-06-24T22:12:10.793955",
     "exception": false,
     "start_time": "2021-06-24T22:12:10.758013",
     "status": "completed"
    },
    "tags": [
     "hide"
    ]
   },
   "outputs": [],
   "source": [
    "if not DEBUG:\n",
    "    warnings.filterwarnings(\"ignore\")"
   ]
  },
  {
   "cell_type": "code",
   "execution_count": 5,
   "id": "6fda3fc4",
   "metadata": {
    "execution": {
     "iopub.execute_input": "2021-06-24T22:12:10.844811Z",
     "iopub.status.busy": "2021-06-24T22:12:10.843798Z",
     "iopub.status.idle": "2021-06-24T22:12:10.863425Z",
     "shell.execute_reply": "2021-06-24T22:12:10.864554Z"
    },
    "papermill": {
     "duration": 0.050821,
     "end_time": "2021-06-24T22:12:10.864804",
     "exception": false,
     "start_time": "2021-06-24T22:12:10.813983",
     "status": "completed"
    },
    "tags": [
     "hide"
    ]
   },
   "outputs": [],
   "source": [
    "# Convenience functions ----\n",
    "\n",
    "filter_start = filter(\n",
    "    _.calitp_extracted_at <= START_DATE,\n",
    "    _.calitp_deleted_at.fillna(\"2099-01-01\") > START_DATE,\n",
    ")\n",
    "\n",
    "filter_end = filter(\n",
    "    _.calitp_extracted_at <= END_DATE,\n",
    "    _.calitp_deleted_at.fillna(\"2099-01-01\") > END_DATE,\n",
    ")\n",
    "\n",
    "filter_itp = filter(\n",
    "    _.calitp_itp_id == CALITP_ITP_ID, _.calitp_url_number == CALITP_URL_NUMBER\n",
    ")\n",
    "\n",
    "collect_to_dict = (\n",
    "    collect()\n",
    "    >> pipe(_.to_dict(orient=\"records\")[0])\n",
    ")\n",
    "\n",
    "\n",
    "select_rm_calitp = select(\n",
    "    -_.calitp_itp_id,\n",
    "    -_.calitp_url_number,\n",
    "    -_.calitp_hash,\n",
    "    -_.calitp_extracted_at,\n",
    "    -_.calitp_deleted_at,\n",
    ")\n",
    "\n",
    "def percent_format(labels):\n",
    "    return [\"{:.0f}%\".format(v*100) for v in labels]\n",
    "\n",
    "def query_id_changes(start_table, end_table, id_vars):\n",
    "    \"\"\"Calculate id variables that are removed, added, or unchanged between tables.\n",
    "    \n",
    "    It works by adding a special column to each table, performing a full join,\n",
    "    then checking where the special column is null.\n",
    "    \"\"\"\n",
    "    sym_id_vars = [_[k] for k in id_vars]\n",
    "\n",
    "    is_in_start = start_table >> select(*id_vars) >> mutate(is_in_start=True)\n",
    "    is_in_end = end_table >> select(*id_vars) >> mutate(is_in_end=True)\n",
    "\n",
    "    baseline = start_table >> count(*id_vars) >> rename(n_baseline=\"n\")\n",
    "    tallies = (\n",
    "        is_in_start\n",
    "        >> full_join(_, is_in_end, id_vars)\n",
    "        >> count(*sym_id_vars, _.is_in_start, _.is_in_end)\n",
    "        >> mutate(\n",
    "            status=case_when(\n",
    "                _,\n",
    "                {\n",
    "                    _.is_in_end.isna(): \"Removed\",\n",
    "                    _.is_in_start.isna(): \"Added\",\n",
    "                    True: \"Unchanged\",\n",
    "                },\n",
    "            )\n",
    "        )\n",
    "        >> count(*sym_id_vars[:-1], _.status)\n",
    "        >> group_by(*sym_id_vars[:-1])\n",
    "        >> mutate(percent=_.n / _.n.sum())\n",
    "    )\n",
    "\n",
    "    return tallies"
   ]
  },
  {
   "cell_type": "code",
   "execution_count": 6,
   "id": "4de40807",
   "metadata": {
    "execution": {
     "iopub.execute_input": "2021-06-24T22:12:10.938928Z",
     "iopub.status.busy": "2021-06-24T22:12:10.937547Z",
     "iopub.status.idle": "2021-06-24T22:12:36.599275Z",
     "shell.execute_reply": "2021-06-24T22:12:36.598372Z"
    },
    "papermill": {
     "duration": 25.703548,
     "end_time": "2021-06-24T22:12:36.599505",
     "exception": false,
     "start_time": "2021-06-24T22:12:10.895957",
     "status": "completed"
    },
    "tags": [
     "hide"
    ]
   },
   "outputs": [],
   "source": [
    "# Data ====\n",
    "# 1. High level feed info ----\n",
    "feed_info = (\n",
    "    tbl.gtfs_schedule_type2.feed_info()\n",
    "    >> filter_end\n",
    "    >> filter_itp\n",
    "    >> select_rm_calitp\n",
    "    >> collect_to_dict\n",
    ")\n",
    "\n",
    "_n_routes = (\n",
    "    tbl.gtfs_schedule_type2.routes() >> filter_end >> filter_itp >> count() >> collect()\n",
    ")\n",
    "_n_stops = (\n",
    "    tbl.gtfs_schedule_type2.stops() >> filter_end >> filter_itp >> count() >> collect()\n",
    ")\n",
    "\n",
    "feed_info[\"n_routes\"] = int(_n_routes.loc[0, \"n\"])\n",
    "feed_info[\"n_stops\"] = int(_n_stops.loc[0, \"n\"])\n",
    "\n",
    "status = (\n",
    "    tbl.views.gtfs_status_latest()\n",
    "    >> filter(_.itp_id == CALITP_ITP_ID, _.url_number == CALITP_URL_NUMBER)\n",
    "    >> select(-_.url_number, -_.status)\n",
    "    >> select_rm_calitp\n",
    "    >> collect_to_dict\n",
    ")\n",
    "\n",
    "# 2. Monthly metrics ----\n",
    "# Service hours per day. Note that the queried table calculates service\n",
    "# hours per service id, so we need to sum across service ids for the day\n",
    "_cross_cal = (\n",
    "    tbl.views.dim_date()\n",
    "    >> filter(_.full_date.between(START_DATE, END_DATE))\n",
    "    >> select(_.service_date == _.full_date)\n",
    ")\n",
    "\n",
    "tbl_daily_service_hours = (\n",
    "    tbl.views.gtfs_schedule_service_daily_metrics()\n",
    "    >> filter_itp\n",
    "    >> filter(_.service_date.between(START_DATE, END_DATE))\n",
    "    >> right_join(_, _cross_cal, [\"service_date\"])\n",
    "    >> collect()\n",
    "    >> group_by(_.service_date)\n",
    "    >> summarize(\n",
    "        ttl_service_hours=(_.last_arrival_ts.max() - _.first_departure_ts.min()) / 3600,\n",
    "        ttl_service_hours2=_.ttl_service_hours.sum(),\n",
    "    )\n",
    "    >> mutate(\n",
    "        ttl_service_hours=_.ttl_service_hours.astype(float).round(2),\n",
    "        service_date=_.service_date.astype(\"datetime64[ns]\"),\n",
    "    )\n",
    ")\n",
    "\n",
    "# number of days where a feed did not have any trips in service\n",
    "n_expired_days = (\n",
    "    tbl_daily_service_hours\n",
    "    >> filter(_.ttl_service_hours.isna())\n",
    "    >> pipe(lambda d: {\"n\": d.shape[0]})\n",
    ")\n",
    "\n",
    "# 3. Stop and Route ID Changes ----\n",
    "\n",
    "_tbl_stops_start = tbl.gtfs_schedule_type2.stops() >> filter_itp >> filter_start\n",
    "_tbl_stops_end = tbl.gtfs_schedule_type2.stops() >> filter_itp >> filter_end\n",
    "tbl_stops_changed = (\n",
    "    query_id_changes(_tbl_stops_start, _tbl_stops_end, [\"stop_id\"]) >> collect()\n",
    ")\n",
    "\n",
    "_tbl_routes_start = tbl.gtfs_schedule_type2.routes() >> filter_itp >> filter_start\n",
    "_tbl_routes_end = tbl.gtfs_schedule_type2.routes() >> filter_itp >> filter_end\n",
    "tbl_routes_changed = (\n",
    "    query_id_changes(_tbl_routes_start, _tbl_routes_end, [\"route_id\"]) >> collect()\n",
    ")"
   ]
  },
  {
   "cell_type": "code",
   "execution_count": 7,
   "id": "a3c325d1",
   "metadata": {
    "execution": {
     "iopub.execute_input": "2021-06-24T22:12:36.646208Z",
     "iopub.status.busy": "2021-06-24T22:12:36.645036Z",
     "iopub.status.idle": "2021-06-24T22:12:41.898917Z",
     "shell.execute_reply": "2021-06-24T22:12:41.899636Z"
    },
    "papermill": {
     "duration": 5.278517,
     "end_time": "2021-06-24T22:12:41.899855",
     "exception": false,
     "start_time": "2021-06-24T22:12:36.621338",
     "status": "completed"
    },
    "tags": [
     "hide"
    ]
   },
   "outputs": [],
   "source": [
    "# 4. Feed files being checked for ----\n",
    "\n",
    "file_categories = pd.DataFrame(\n",
    "    {\n",
    "        \"shapes.txt\": \"Visual display\",\n",
    "        \"pathways.txt\": \"Navigation\",\n",
    "        \"levels.txt\": \"Navigation\",\n",
    "        \"fare_rules.txt\": \"Fares\",\n",
    "        \"fare_leg_rules\": \"Fares\",\n",
    "        \"feed_info.txt\": \"Technical contacts\",\n",
    "    }.items(),\n",
    "    columns=[\"name\", \"category\"],\n",
    ")\n",
    "\n",
    "importance = [\"Visual display\", \"Navigation\", \"Fares\", \"Technical contacts\"]\n",
    "\n",
    "tbl_file_check = (\n",
    "    tbl.gtfs_schedule_history.calitp_files_updates()\n",
    "    >> filter_itp\n",
    "    >> filter(_.calitp_extracted_at.isin(BIWEEKLY_MARKERS))\n",
    "    >> select(_.name, _.calitp_extracted_at)\n",
    "    >> collect()\n",
    "    >> right_join(_, file_categories, [\"name\"])\n",
    "    >> mutate(\n",
    "        calitp_extracted_at=_.calitp_extracted_at.fillna(\"missing\").astype(str),\n",
    "        success=\"✅\",\n",
    "    )\n",
    "    >> spread(_.calitp_extracted_at, _.success)\n",
    "    >> select(-_.missing)\n",
    "    >> arrange(_.category.apply(importance.index))\n",
    "    >> select(_.category, _.contains(\"\"))\n",
    "    >> pipe(_.fillna(\"\"))\n",
    ")\n",
    "\n",
    "tbl_validation_notices = (\n",
    "    tbl.views.validation_notices()\n",
    "    >> filter_itp\n",
    "    >> filter(_.severity == \"ERROR\")\n",
    "    >> count(_.code, _.severity)\n",
    "    >> collect()\n",
    ")"
   ]
  },
  {
   "cell_type": "markdown",
   "id": "5f975639",
   "metadata": {
    "papermill": {
     "duration": 0.024828,
     "end_time": "2021-06-24T22:12:41.951523",
     "exception": false,
     "start_time": "2021-06-24T22:12:41.926695",
     "status": "completed"
    },
    "tags": [
     "hide"
    ]
   },
   "source": [
    "## Dump data"
   ]
  },
  {
   "cell_type": "code",
   "execution_count": 8,
   "id": "507fe20b",
   "metadata": {
    "execution": {
     "iopub.execute_input": "2021-06-24T22:12:42.018764Z",
     "iopub.status.busy": "2021-06-24T22:12:42.017680Z",
     "iopub.status.idle": "2021-06-24T22:12:42.028681Z",
     "shell.execute_reply": "2021-06-24T22:12:42.029201Z"
    },
    "papermill": {
     "duration": 0.04859,
     "end_time": "2021-06-24T22:12:42.029358",
     "exception": false,
     "start_time": "2021-06-24T22:12:41.980768",
     "status": "completed"
    },
    "tags": [
     "hide"
    ]
   },
   "outputs": [],
   "source": [
    "import json\n",
    "import shutil\n",
    "\n",
    "from pathlib import Path\n",
    "\n",
    "out_dir = Path(f\"output/{CALITP_ITP_ID}_{CALITP_URL_NUMBER}/data\")\n",
    "out_dir.mkdir(parents=True, exist_ok=True)\n",
    "\n",
    "json.dump(feed_info, open(out_dir / \"1_feed_info.json\", \"w\"))\n",
    "json.dump(status, open(out_dir / \"1_status.json\", \"w\"))\n",
    "\n",
    "tbl_daily_service_hours.to_json(out_dir / \"2_daily_service_hours.json\", orient=\"records\")\n",
    "json.dump(n_expired_days, open(out_dir / \"2_n_expired_days.json\", \"w\"))\n",
    "\n",
    "tbl_stops_changed.to_json(out_dir / \"3_stops_changed.json\", orient=\"records\")\n",
    "tbl_routes_changed.to_json(out_dir / \"3_routes_changed.json\", orient=\"records\")\n",
    "tbl_file_check.to_json(out_dir / \"4_file_check.json\", orient=\"records\")\n",
    "tbl_validation_notices.to_json(out_dir / \"4_validation_notices.json\", orient=\"records\")\n"
   ]
  },
  {
   "cell_type": "markdown",
   "id": "5a1f1ee8",
   "metadata": {
    "papermill": {
     "duration": 0.021304,
     "end_time": "2021-06-24T22:12:42.077968",
     "exception": false,
     "start_time": "2021-06-24T22:12:42.056664",
     "status": "completed"
    },
    "tags": []
   },
   "source": [
    "# Monthly GTFS Quality Report"
   ]
  },
  {
   "cell_type": "code",
   "execution_count": 9,
   "id": "d53fe665",
   "metadata": {
    "execution": {
     "iopub.execute_input": "2021-06-24T22:12:42.147378Z",
     "iopub.status.busy": "2021-06-24T22:12:42.142405Z",
     "iopub.status.idle": "2021-06-24T22:12:42.151909Z",
     "shell.execute_reply": "2021-06-24T22:12:42.152819Z"
    },
    "papermill": {
     "duration": 0.041758,
     "end_time": "2021-06-24T22:12:42.153061",
     "exception": false,
     "start_time": "2021-06-24T22:12:42.111303",
     "status": "completed"
    },
    "tags": []
   },
   "outputs": [
    {
     "data": {
      "text/markdown": [
       "\n",
       "Transit provider name: DART\n",
       "\n",
       "Date generated: 2021-06-24\n"
      ],
      "text/plain": [
       "<IPython.core.display.Markdown object>"
      ]
     },
     "execution_count": 9,
     "metadata": {},
     "output_type": "execute_result"
    }
   ],
   "source": [
    "from IPython.display import Markdown\n",
    "\n",
    "Markdown(f\"\"\"\n",
    "Transit provider name: {feed_info[\"feed_publisher_name\"]}\n",
    "\n",
    "Date generated: {DATE_TODAY}\n",
    "\"\"\")"
   ]
  },
  {
   "cell_type": "markdown",
   "id": "6f7fad60",
   "metadata": {
    "papermill": {
     "duration": 0.027874,
     "end_time": "2021-06-24T22:12:42.211536",
     "exception": false,
     "start_time": "2021-06-24T22:12:42.183662",
     "status": "completed"
    },
    "tags": []
   },
   "source": [
    "This is a monthly report, generated by the California Integrated Travel Project ([Cal-ITP](https://dot.ca.gov/cal-itp/cal-itp-gtfs)), summarizing issues discovered by [MobilityData](http://mobilitydata.io/)’s [GTFS Validator](https://github.com/MobilityData/gtfs-validator). This report is available for viewing by the general public to support continuous improvement of GTFS data and the experience of transit passengers. "
   ]
  },
  {
   "cell_type": "markdown",
   "id": "0c66db33",
   "metadata": {
    "papermill": {
     "duration": 0.028427,
     "end_time": "2021-06-24T22:12:42.270689",
     "exception": false,
     "start_time": "2021-06-24T22:12:42.242262",
     "status": "completed"
    },
    "tags": []
   },
   "source": [
    "## Overview"
   ]
  },
  {
   "cell_type": "code",
   "execution_count": 10,
   "id": "8796d62b",
   "metadata": {
    "execution": {
     "iopub.execute_input": "2021-06-24T22:12:42.351499Z",
     "iopub.status.busy": "2021-06-24T22:12:42.350251Z",
     "iopub.status.idle": "2021-06-24T22:12:42.355907Z",
     "shell.execute_reply": "2021-06-24T22:12:42.356651Z"
    },
    "papermill": {
     "duration": 0.041957,
     "end_time": "2021-06-24T22:12:42.356889",
     "exception": false,
     "start_time": "2021-06-24T22:12:42.314932",
     "status": "completed"
    },
    "tags": []
   },
   "outputs": [
    {
     "data": {
      "text/markdown": [
       "\n",
       "Feed location: https://tularecog.org/tcag/data-gis-modeling/gtfs-data/dinuba-area-regional-transit-gtfs/\n",
       "\n",
       "Metrics for the most recent published version of the feed:\n",
       "\n",
       "* Date published: 20120202\n",
       "* Number of routes in any service: 4\n",
       "* Number of stops in service: 46\n"
      ],
      "text/plain": [
       "<IPython.core.display.Markdown object>"
      ]
     },
     "execution_count": 10,
     "metadata": {},
     "output_type": "execute_result"
    }
   ],
   "source": [
    "Markdown(f\"\"\"\n",
    "Feed location: {status[\"gtfs_schedule_url\"]}\n",
    "\n",
    "Metrics for the most recent published version of the feed:\n",
    "\n",
    "* Date published: {feed_info[\"feed_version\"]}\n",
    "* Number of routes in any service: {feed_info[\"n_routes\"]}\n",
    "* Number of stops in service: {feed_info[\"n_stops\"]}\n",
    "\"\"\")"
   ]
  },
  {
   "cell_type": "markdown",
   "id": "5ac31fae",
   "metadata": {
    "papermill": {
     "duration": 0.022759,
     "end_time": "2021-06-24T22:12:42.418948",
     "exception": false,
     "start_time": "2021-06-24T22:12:42.396189",
     "status": "completed"
    },
    "tags": []
   },
   "source": [
    "## Aggregated Metrics for May"
   ]
  },
  {
   "cell_type": "code",
   "execution_count": 11,
   "id": "f2d38817",
   "metadata": {
    "execution": {
     "iopub.execute_input": "2021-06-24T22:12:42.482669Z",
     "iopub.status.busy": "2021-06-24T22:12:42.480077Z",
     "iopub.status.idle": "2021-06-24T22:12:42.487278Z",
     "shell.execute_reply": "2021-06-24T22:12:42.486531Z"
    },
    "papermill": {
     "duration": 0.042747,
     "end_time": "2021-06-24T22:12:42.487451",
     "exception": false,
     "start_time": "2021-06-24T22:12:42.444704",
     "status": "completed"
    },
    "tags": []
   },
   "outputs": [
    {
     "data": {
      "text/markdown": [
       "\n",
       "Days with no service hours: 5\n"
      ],
      "text/plain": [
       "<IPython.core.display.Markdown object>"
      ]
     },
     "execution_count": 11,
     "metadata": {},
     "output_type": "execute_result"
    }
   ],
   "source": [
    "# TODO: \n",
    "\n",
    "# Markdown(f\"\"\"\n",
    "# Days when the active feed was expired: {n_expired_days[\"n\"]}\n",
    "# \"\"\")\n",
    "\n",
    "Markdown(f\"\"\"\n",
    "Days with no service hours: {n_expired_days[\"n\"]}\n",
    "\"\"\")\n"
   ]
  },
  {
   "cell_type": "code",
   "execution_count": 12,
   "id": "a433463c",
   "metadata": {
    "execution": {
     "iopub.execute_input": "2021-06-24T22:12:42.591990Z",
     "iopub.status.busy": "2021-06-24T22:12:42.557023Z",
     "iopub.status.idle": "2021-06-24T22:12:43.097168Z",
     "shell.execute_reply": "2021-06-24T22:12:43.098175Z"
    },
    "papermill": {
     "duration": 0.584745,
     "end_time": "2021-06-24T22:12:43.098440",
     "exception": false,
     "start_time": "2021-06-24T22:12:42.513695",
     "status": "completed"
    },
    "tags": []
   },
   "outputs": [
    {
     "data": {
      "image/png": "[encoded data removed]",
      "text/plain": [
       "<Figure size 640x480 with 1 Axes>"
      ]
     },
     "metadata": {},
     "output_type": "display_data"
    }
   ],
   "source": [
    "(\n",
    "    tbl_daily_service_hours\n",
    "    >> ggplot(aes(\"service_date\", \"ttl_service_hours2\"))\n",
    "    + geom_line()\n",
    "    + geom_point()\n",
    "    + theme(axis_text_x=element_text(angle=45, hjust=1))\n",
    "    + scale_x_datetime(date_breaks=\"1 week\")\n",
    "    + expand_limits(y=0)\n",
    "    + labs(y = \"Total service hours\", x = \"Service date\", title=\"Service hour per day\")\n",
    ").draw();"
   ]
  },
  {
   "cell_type": "markdown",
   "id": "14c970e7",
   "metadata": {
    "papermill": {
     "duration": 0.028244,
     "end_time": "2021-06-24T22:12:43.155581",
     "exception": false,
     "start_time": "2021-06-24T22:12:43.127337",
     "status": "completed"
    },
    "tags": []
   },
   "source": [
    "## Changes Since Previous Month"
   ]
  },
  {
   "cell_type": "code",
   "execution_count": 13,
   "id": "0a0ab6e8",
   "metadata": {
    "execution": {
     "iopub.execute_input": "2021-06-24T22:12:43.222655Z",
     "iopub.status.busy": "2021-06-24T22:12:43.220487Z",
     "iopub.status.idle": "2021-06-24T22:12:43.592365Z",
     "shell.execute_reply": "2021-06-24T22:12:43.592897Z"
    },
    "papermill": {
     "duration": 0.410683,
     "end_time": "2021-06-24T22:12:43.593043",
     "exception": false,
     "start_time": "2021-06-24T22:12:43.182360",
     "status": "completed"
    },
    "tags": []
   },
   "outputs": [
    {
     "data": {
      "image/png": "[encoded data removed]",
      "text/plain": [
       "<Figure size 640x480 with 1 Axes>"
      ]
     },
     "metadata": {},
     "output_type": "display_data"
    }
   ],
   "source": [
    "(\n",
    "    pd.concat(\n",
    "        [\n",
    "            tbl_stops_changed >> mutate(kind=\"Stops\"),\n",
    "            tbl_routes_changed >> mutate(kind=\"Routes\"),\n",
    "        ]\n",
    "    )\n",
    "    >> ggplot(aes(\"kind\", \"n\", fill=\"status\"))\n",
    "    + geom_col()\n",
    "    + labs(\n",
    "        x=\"GTFS schedule table\",\n",
    "        y=\"Number of IDs\",\n",
    "        title=f\"IDs Changed Between {START_MONTH_DAY} and {END_MONTH_DAY}\",\n",
    "    )\n",
    ").draw();"
   ]
  },
  {
   "cell_type": "markdown",
   "id": "b80f1000",
   "metadata": {
    "papermill": {
     "duration": 0.02625,
     "end_time": "2021-06-24T22:12:43.639600",
     "exception": false,
     "start_time": "2021-06-24T22:12:43.613350",
     "status": "completed"
    },
    "tags": []
   },
   "source": [
    "### (Alternative version using percentages)"
   ]
  },
  {
   "cell_type": "code",
   "execution_count": 14,
   "id": "e23cb5a0",
   "metadata": {
    "execution": {
     "iopub.execute_input": "2021-06-24T22:12:43.715440Z",
     "iopub.status.busy": "2021-06-24T22:12:43.714554Z",
     "iopub.status.idle": "2021-06-24T22:12:43.986464Z",
     "shell.execute_reply": "2021-06-24T22:12:43.985993Z"
    },
    "papermill": {
     "duration": 0.322525,
     "end_time": "2021-06-24T22:12:43.986582",
     "exception": false,
     "start_time": "2021-06-24T22:12:43.664057",
     "status": "completed"
    },
    "tags": []
   },
   "outputs": [
    {
     "data": {
      "image/png": "[encoded data removed]",
      "text/plain": [
       "<Figure size 640x480 with 1 Axes>"
      ]
     },
     "metadata": {},
     "output_type": "display_data"
    }
   ],
   "source": [
    "(\n",
    "    pd.concat(\n",
    "        [\n",
    "            tbl_stops_changed >> mutate(kind=\"Stops\"),\n",
    "            tbl_routes_changed >> mutate(kind=\"Routes\"),\n",
    "        ]\n",
    "    )\n",
    "    >> ggplot(aes(\"kind\", \"percent\", fill=\"status\"))\n",
    "    + geom_col()\n",
    "    + labs(\n",
    "        x=\"GTFS schedule table\",\n",
    "        y=\"Percentage of IDs\",\n",
    "        title=f\"IDs Changed Between {START_MONTH_DAY} and {END_MONTH_DAY}\",\n",
    "    )\n",
    "    + scale_y_continuous(labels=percent_format, breaks=np.arange(0, 1.2, 0.2))\n",
    ").draw();"
   ]
  },
  {
   "cell_type": "markdown",
   "id": "e677b592",
   "metadata": {
    "papermill": {
     "duration": 0.020058,
     "end_time": "2021-06-24T22:12:44.030795",
     "exception": false,
     "start_time": "2021-06-24T22:12:44.010737",
     "status": "completed"
    },
    "tags": []
   },
   "source": [
    "## Consistency with the [California GTFS Minimum Guidelines](https://dot.ca.gov/cal-itp/california-minimum-general-transit-feed-specification-gtfs-guidelines) for the feed downloaded\n"
   ]
  },
  {
   "cell_type": "markdown",
   "id": "3aa2d9c6",
   "metadata": {
    "papermill": {
     "duration": 0.022082,
     "end_time": "2021-06-24T22:12:44.074360",
     "exception": false,
     "start_time": "2021-06-24T22:12:44.052278",
     "status": "completed"
    },
    "tags": []
   },
   "source": [
    "### Do the following files/fields exist?"
   ]
  },
  {
   "cell_type": "code",
   "execution_count": 15,
   "id": "f30540c0",
   "metadata": {
    "execution": {
     "iopub.execute_input": "2021-06-24T22:12:44.121213Z",
     "iopub.status.busy": "2021-06-24T22:12:44.116649Z",
     "iopub.status.idle": "2021-06-24T22:12:44.129601Z",
     "shell.execute_reply": "2021-06-24T22:12:44.130059Z"
    },
    "papermill": {
     "duration": 0.035765,
     "end_time": "2021-06-24T22:12:44.130201",
     "exception": false,
     "start_time": "2021-06-24T22:12:44.094436",
     "status": "completed"
    },
    "tags": []
   },
   "outputs": [
    {
     "data": {
      "text/html": [
       "<div>\n",
       "<style scoped>\n",
       "    .dataframe tbody tr th:only-of-type {\n",
       "        vertical-align: middle;\n",
       "    }\n",
       "\n",
       "    .dataframe tbody tr th {\n",
       "        vertical-align: top;\n",
       "    }\n",
       "\n",
       "    .dataframe thead th {\n",
       "        text-align: right;\n",
       "    }\n",
       "</style>\n",
       "<table border=\"1\" class=\"dataframe\">\n",
       "  <thead>\n",
       "    <tr style=\"text-align: right;\">\n",
       "      <th></th>\n",
       "      <th>category</th>\n",
       "      <th>name</th>\n",
       "      <th>2021-05-02</th>\n",
       "      <th>2021-05-16</th>\n",
       "      <th>2021-05-30</th>\n",
       "    </tr>\n",
       "  </thead>\n",
       "  <tbody>\n",
       "    <tr>\n",
       "      <th>5</th>\n",
       "      <td>Visual display</td>\n",
       "      <td>shapes.txt</td>\n",
       "      <td>✅</td>\n",
       "      <td>✅</td>\n",
       "      <td>✅</td>\n",
       "    </tr>\n",
       "    <tr>\n",
       "      <th>3</th>\n",
       "      <td>Navigation</td>\n",
       "      <td>levels.txt</td>\n",
       "      <td></td>\n",
       "      <td></td>\n",
       "      <td></td>\n",
       "    </tr>\n",
       "    <tr>\n",
       "      <th>4</th>\n",
       "      <td>Navigation</td>\n",
       "      <td>pathways.txt</td>\n",
       "      <td></td>\n",
       "      <td></td>\n",
       "      <td></td>\n",
       "    </tr>\n",
       "    <tr>\n",
       "      <th>0</th>\n",
       "      <td>Fares</td>\n",
       "      <td>fare_leg_rules</td>\n",
       "      <td></td>\n",
       "      <td></td>\n",
       "      <td></td>\n",
       "    </tr>\n",
       "    <tr>\n",
       "      <th>1</th>\n",
       "      <td>Fares</td>\n",
       "      <td>fare_rules.txt</td>\n",
       "      <td>✅</td>\n",
       "      <td>✅</td>\n",
       "      <td>✅</td>\n",
       "    </tr>\n",
       "    <tr>\n",
       "      <th>2</th>\n",
       "      <td>Technical contacts</td>\n",
       "      <td>feed_info.txt</td>\n",
       "      <td>✅</td>\n",
       "      <td>✅</td>\n",
       "      <td>✅</td>\n",
       "    </tr>\n",
       "  </tbody>\n",
       "</table>\n",
       "</div>"
      ],
      "text/plain": [
       "             category            name 2021-05-02 2021-05-16 2021-05-30\n",
       "5      Visual display      shapes.txt          ✅          ✅          ✅\n",
       "3          Navigation      levels.txt                                 \n",
       "4          Navigation    pathways.txt                                 \n",
       "0               Fares  fare_leg_rules                                 \n",
       "1               Fares  fare_rules.txt          ✅          ✅          ✅\n",
       "2  Technical contacts   feed_info.txt          ✅          ✅          ✅"
      ]
     },
     "execution_count": 15,
     "metadata": {},
     "output_type": "execute_result"
    }
   ],
   "source": [
    "tbl_file_check"
   ]
  },
  {
   "cell_type": "markdown",
   "id": "acd93d76",
   "metadata": {
    "papermill": {
     "duration": 0.024752,
     "end_time": "2021-06-24T22:12:44.177549",
     "exception": false,
     "start_time": "2021-06-24T22:12:44.152797",
     "status": "completed"
    },
    "tags": []
   },
   "source": [
    "### Validation Errors Observed"
   ]
  },
  {
   "cell_type": "code",
   "execution_count": 16,
   "id": "00a8a966",
   "metadata": {
    "execution": {
     "iopub.execute_input": "2021-06-24T22:12:44.238074Z",
     "iopub.status.busy": "2021-06-24T22:12:44.235811Z",
     "iopub.status.idle": "2021-06-24T22:12:44.246033Z",
     "shell.execute_reply": "2021-06-24T22:12:44.246767Z"
    },
    "papermill": {
     "duration": 0.048136,
     "end_time": "2021-06-24T22:12:44.246979",
     "exception": false,
     "start_time": "2021-06-24T22:12:44.198843",
     "status": "completed"
    },
    "tags": []
   },
   "outputs": [
    {
     "data": {
      "text/markdown": [
       "No validation error observed in your feed."
      ],
      "text/plain": [
       "<IPython.core.display.Markdown object>"
      ]
     },
     "metadata": {},
     "output_type": "display_data"
    }
   ],
   "source": [
    "if tbl_validation_notices.shape[0] == 0:\n",
    "    display(Markdown(\"No validation error observed in your feed.\"))\n",
    "else:    \n",
    "    display(tbl_validation_notices)"
   ]
  },
  {
   "cell_type": "markdown",
   "id": "1b6061f1",
   "metadata": {
    "papermill": {
     "duration": 0.032843,
     "end_time": "2021-06-24T22:12:44.314374",
     "exception": false,
     "start_time": "2021-06-24T22:12:44.281531",
     "status": "completed"
    },
    "tags": []
   },
   "source": [
    "For more information about Cal-ITP, including the [Minimum GTFS Guidelines](https://dot.ca.gov/cal-itp/california-minimum-general-transit-feed-specification-gtfs-guidelines) and our [Transit Data Helpdesk](https://dot.ca.gov/programs/rail-and-mass-transportation/gtfs/helpdesk), contact [GTFSRT@dot.ca.gov](mailto:GTFSRT@dot.ca.gov)."
   ]
  }
 ],
 "metadata": {
  "kernelspec": {
   "display_name": "venv-calitp-py",
   "language": "python",
   "name": "venv-calitp-py"
  },
  "language_info": {
   "codemirror_mode": {
    "name": "ipython",
    "version": 3
   },
   "file_extension": ".py",
   "mimetype": "text/x-python",
   "name": "python",
   "nbconvert_exporter": "python",
   "pygments_lexer": "ipython3",
   "version": "3.8.5"
  },
  "papermill": {
   "default_parameters": {},
   "duration": 45.917955,
   "end_time": "2021-06-24T22:12:44.972585",
   "environment_variables": {},
   "exception": null,
   "input_path": "report.ipynb",
   "output_path": "output/93/report.ipynb",
   "parameters": {
    "CALITP_ITP_ID": 93,
    "CALITP_URL_NUMBER": 0,
    "DEBUG": false,
    "END_DATE": "2021-06-01",
    "START_DATE": "2021-05-01"
   },
   "start_time": "2021-06-24T22:11:59.054630",
   "version": "2.3.3"
  }
 },
 "nbformat": 4,
 "nbformat_minor": 5
}