{
 "cells": [
  {
   "cell_type": "markdown",
   "id": "2cbe24f9",
   "metadata": {
    "papermill": {
     "duration": 0.017266,
     "end_time": "2021-06-24T22:19:23.282535",
     "exception": false,
     "start_time": "2021-06-24T22:19:23.265269",
     "status": "completed"
    },
    "tags": [
     "hide"
    ]
   },
   "source": [
    "# Setup"
   ]
  },
  {
   "cell_type": "code",
   "execution_count": 1,
   "id": "82892ab9",
   "metadata": {
    "execution": {
     "iopub.execute_input": "2021-06-24T22:19:23.325725Z",
     "iopub.status.busy": "2021-06-24T22:19:23.324692Z",
     "iopub.status.idle": "2021-06-24T22:19:29.452312Z",
     "shell.execute_reply": "2021-06-24T22:19:29.452841Z"
    },
    "papermill": {
     "duration": 6.154052,
     "end_time": "2021-06-24T22:19:29.453040",
     "exception": false,
     "start_time": "2021-06-24T22:19:23.298988",
     "status": "completed"
    },
    "tags": [
     "hide"
    ]
   },
   "outputs": [],
   "source": [
    "import pandas as pd\n",
    "import numpy as np\n",
    "import warnings\n",
    "\n",
    "from io import StringIO\n",
    "from calitp.tables import tbl\n",
    "from datetime import date, datetime\n",
    "from siuba import *\n",
    "from plotnine import *\n",
    "\n",
    "def friendly_date(x): \n",
    "    return datetime.strptime(x, \"%Y-%m-%d\").strftime(\"%b %d\")"
   ]
  },
  {
   "cell_type": "code",
   "execution_count": 2,
   "id": "85e84dcf",
   "metadata": {
    "execution": {
     "iopub.execute_input": "2021-06-24T22:19:29.501856Z",
     "iopub.status.busy": "2021-06-24T22:19:29.500909Z",
     "iopub.status.idle": "2021-06-24T22:19:29.509942Z",
     "shell.execute_reply": "2021-06-24T22:19:29.510679Z"
    },
    "papermill": {
     "duration": 0.034366,
     "end_time": "2021-06-24T22:19:29.511016",
     "exception": false,
     "start_time": "2021-06-24T22:19:29.476650",
     "status": "completed"
    },
    "tags": [
     "parameters",
     "hide"
    ]
   },
   "outputs": [],
   "source": [
    "CALITP_ITP_ID = 98\n",
    "#CALITP_ITP_ID=45\n",
    "CALITP_URL_NUMBER = 0\n",
    "DEBUG = False\n",
    "\n",
    "START_DATE = \"2021-05-01\"\n",
    "END_DATE = \"2021-06-01\"\n",
    "DATE_TODAY=date.today()\n",
    "START_MONTH_DAY = friendly_date(START_DATE)\n",
    "END_MONTH_DAY = friendly_date(END_DATE)\n",
    "\n",
    "WEEK_MARKERS = pd.date_range(START_DATE, END_DATE, freq=\"W\").astype(str).tolist()\n",
    "BIWEEKLY_MARKERS = pd.date_range(START_DATE, END_DATE, freq=\"2W\").astype(str).tolist()"
   ]
  },
  {
   "cell_type": "code",
   "execution_count": 3,
   "id": "4aac3716",
   "metadata": {
    "execution": {
     "iopub.execute_input": "2021-06-24T22:19:29.567611Z",
     "iopub.status.busy": "2021-06-24T22:19:29.564907Z",
     "iopub.status.idle": "2021-06-24T22:19:29.571817Z",
     "shell.execute_reply": "2021-06-24T22:19:29.573175Z"
    },
    "papermill": {
     "duration": 0.040134,
     "end_time": "2021-06-24T22:19:29.573453",
     "exception": false,
     "start_time": "2021-06-24T22:19:29.533319",
     "status": "completed"
    },
    "tags": [
     "injected-parameters"
    ]
   },
   "outputs": [],
   "source": [
    "# Parameters\n",
    "CALITP_ITP_ID = 315\n",
    "CALITP_URL_NUMBER = 0\n",
    "DEBUG = False\n",
    "START_DATE = \"2021-05-01\"\n",
    "END_DATE = \"2021-06-01\"\n"
   ]
  },
  {
   "cell_type": "code",
   "execution_count": 4,
   "id": "5bc8ab04",
   "metadata": {
    "execution": {
     "iopub.execute_input": "2021-06-24T22:19:29.621790Z",
     "iopub.status.busy": "2021-06-24T22:19:29.620821Z",
     "iopub.status.idle": "2021-06-24T22:19:29.625708Z",
     "shell.execute_reply": "2021-06-24T22:19:29.626424Z"
    },
    "papermill": {
     "duration": 0.031401,
     "end_time": "2021-06-24T22:19:29.626633",
     "exception": false,
     "start_time": "2021-06-24T22:19:29.595232",
     "status": "completed"
    },
    "tags": [
     "hide"
    ]
   },
   "outputs": [],
   "source": [
    "if not DEBUG:\n",
    "    warnings.filterwarnings(\"ignore\")"
   ]
  },
  {
   "cell_type": "code",
   "execution_count": 5,
   "id": "ccfb2f03",
   "metadata": {
    "execution": {
     "iopub.execute_input": "2021-06-24T22:19:29.702918Z",
     "iopub.status.busy": "2021-06-24T22:19:29.701743Z",
     "iopub.status.idle": "2021-06-24T22:19:29.705228Z",
     "shell.execute_reply": "2021-06-24T22:19:29.706060Z"
    },
    "papermill": {
     "duration": 0.050052,
     "end_time": "2021-06-24T22:19:29.706299",
     "exception": false,
     "start_time": "2021-06-24T22:19:29.656247",
     "status": "completed"
    },
    "tags": [
     "hide"
    ]
   },
   "outputs": [],
   "source": [
    "# Convenience functions ----\n",
    "\n",
    "filter_start = filter(\n",
    "    _.calitp_extracted_at <= START_DATE,\n",
    "    _.calitp_deleted_at.fillna(\"2099-01-01\") > START_DATE,\n",
    ")\n",
    "\n",
    "filter_end = filter(\n",
    "    _.calitp_extracted_at <= END_DATE,\n",
    "    _.calitp_deleted_at.fillna(\"2099-01-01\") > END_DATE,\n",
    ")\n",
    "\n",
    "filter_itp = filter(\n",
    "    _.calitp_itp_id == CALITP_ITP_ID, _.calitp_url_number == CALITP_URL_NUMBER\n",
    ")\n",
    "\n",
    "collect_to_dict = (\n",
    "    collect()\n",
    "    >> pipe(_.to_dict(orient=\"records\")[0])\n",
    ")\n",
    "\n",
    "\n",
    "select_rm_calitp = select(\n",
    "    -_.calitp_itp_id,\n",
    "    -_.calitp_url_number,\n",
    "    -_.calitp_hash,\n",
    "    -_.calitp_extracted_at,\n",
    "    -_.calitp_deleted_at,\n",
    ")\n",
    "\n",
    "def percent_format(labels):\n",
    "    return [\"{:.0f}%\".format(v*100) for v in labels]\n",
    "\n",
    "def query_id_changes(start_table, end_table, id_vars):\n",
    "    \"\"\"Calculate id variables that are removed, added, or unchanged between tables.\n",
    "    \n",
    "    It works by adding a special column to each table, performing a full join,\n",
    "    then checking where the special column is null.\n",
    "    \"\"\"\n",
    "    sym_id_vars = [_[k] for k in id_vars]\n",
    "\n",
    "    is_in_start = start_table >> select(*id_vars) >> mutate(is_in_start=True)\n",
    "    is_in_end = end_table >> select(*id_vars) >> mutate(is_in_end=True)\n",
    "\n",
    "    baseline = start_table >> count(*id_vars) >> rename(n_baseline=\"n\")\n",
    "    tallies = (\n",
    "        is_in_start\n",
    "        >> full_join(_, is_in_end, id_vars)\n",
    "        >> count(*sym_id_vars, _.is_in_start, _.is_in_end)\n",
    "        >> mutate(\n",
    "            status=case_when(\n",
    "                _,\n",
    "                {\n",
    "                    _.is_in_end.isna(): \"Removed\",\n",
    "                    _.is_in_start.isna(): \"Added\",\n",
    "                    True: \"Unchanged\",\n",
    "                },\n",
    "            )\n",
    "        )\n",
    "        >> count(*sym_id_vars[:-1], _.status)\n",
    "        >> group_by(*sym_id_vars[:-1])\n",
    "        >> mutate(percent=_.n / _.n.sum())\n",
    "    )\n",
    "\n",
    "    return tallies"
   ]
  },
  {
   "cell_type": "code",
   "execution_count": 6,
   "id": "8a443133",
   "metadata": {
    "execution": {
     "iopub.execute_input": "2021-06-24T22:19:29.767400Z",
     "iopub.status.busy": "2021-06-24T22:19:29.761250Z",
     "iopub.status.idle": "2021-06-24T22:19:51.959320Z",
     "shell.execute_reply": "2021-06-24T22:19:51.958858Z"
    },
    "papermill": {
     "duration": 22.227963,
     "end_time": "2021-06-24T22:19:51.959436",
     "exception": false,
     "start_time": "2021-06-24T22:19:29.731473",
     "status": "completed"
    },
    "tags": [
     "hide"
    ]
   },
   "outputs": [],
   "source": [
    "# Data ====\n",
    "# 1. High level feed info ----\n",
    "feed_info = (\n",
    "    tbl.gtfs_schedule_type2.feed_info()\n",
    "    >> filter_end\n",
    "    >> filter_itp\n",
    "    >> select_rm_calitp\n",
    "    >> collect_to_dict\n",
    ")\n",
    "\n",
    "_n_routes = (\n",
    "    tbl.gtfs_schedule_type2.routes() >> filter_end >> filter_itp >> count() >> collect()\n",
    ")\n",
    "_n_stops = (\n",
    "    tbl.gtfs_schedule_type2.stops() >> filter_end >> filter_itp >> count() >> collect()\n",
    ")\n",
    "\n",
    "feed_info[\"n_routes\"] = int(_n_routes.loc[0, \"n\"])\n",
    "feed_info[\"n_stops\"] = int(_n_stops.loc[0, \"n\"])\n",
    "\n",
    "status = (\n",
    "    tbl.views.gtfs_status_latest()\n",
    "    >> filter(_.itp_id == CALITP_ITP_ID, _.url_number == CALITP_URL_NUMBER)\n",
    "    >> select(-_.url_number, -_.status)\n",
    "    >> select_rm_calitp\n",
    "    >> collect_to_dict\n",
    ")\n",
    "\n",
    "# 2. Monthly metrics ----\n",
    "# Service hours per day. Note that the queried table calculates service\n",
    "# hours per service id, so we need to sum across service ids for the day\n",
    "_cross_cal = (\n",
    "    tbl.views.dim_date()\n",
    "    >> filter(_.full_date.between(START_DATE, END_DATE))\n",
    "    >> select(_.service_date == _.full_date)\n",
    ")\n",
    "\n",
    "tbl_daily_service_hours = (\n",
    "    tbl.views.gtfs_schedule_service_daily_metrics()\n",
    "    >> filter_itp\n",
    "    >> filter(_.service_date.between(START_DATE, END_DATE))\n",
    "    >> right_join(_, _cross_cal, [\"service_date\"])\n",
    "    >> collect()\n",
    "    >> group_by(_.service_date)\n",
    "    >> summarize(\n",
    "        ttl_service_hours=(_.last_arrival_ts.max() - _.first_departure_ts.min()) / 3600,\n",
    "        ttl_service_hours2=_.ttl_service_hours.sum(),\n",
    "    )\n",
    "    >> mutate(\n",
    "        ttl_service_hours=_.ttl_service_hours.astype(float).round(2),\n",
    "        service_date=_.service_date.astype(\"datetime64[ns]\"),\n",
    "    )\n",
    ")\n",
    "\n",
    "# number of days where a feed did not have any trips in service\n",
    "n_expired_days = (\n",
    "    tbl_daily_service_hours\n",
    "    >> filter(_.ttl_service_hours.isna())\n",
    "    >> pipe(lambda d: {\"n\": d.shape[0]})\n",
    ")\n",
    "\n",
    "# 3. Stop and Route ID Changes ----\n",
    "\n",
    "_tbl_stops_start = tbl.gtfs_schedule_type2.stops() >> filter_itp >> filter_start\n",
    "_tbl_stops_end = tbl.gtfs_schedule_type2.stops() >> filter_itp >> filter_end\n",
    "tbl_stops_changed = (\n",
    "    query_id_changes(_tbl_stops_start, _tbl_stops_end, [\"stop_id\"]) >> collect()\n",
    ")\n",
    "\n",
    "_tbl_routes_start = tbl.gtfs_schedule_type2.routes() >> filter_itp >> filter_start\n",
    "_tbl_routes_end = tbl.gtfs_schedule_type2.routes() >> filter_itp >> filter_end\n",
    "tbl_routes_changed = (\n",
    "    query_id_changes(_tbl_routes_start, _tbl_routes_end, [\"route_id\"]) >> collect()\n",
    ")"
   ]
  },
  {
   "cell_type": "code",
   "execution_count": 7,
   "id": "c980c9d0",
   "metadata": {
    "execution": {
     "iopub.execute_input": "2021-06-24T22:19:52.000001Z",
     "iopub.status.busy": "2021-06-24T22:19:51.998924Z",
     "iopub.status.idle": "2021-06-24T22:19:57.500927Z",
     "shell.execute_reply": "2021-06-24T22:19:57.501396Z"
    },
    "papermill": {
     "duration": 5.527222,
     "end_time": "2021-06-24T22:19:57.501541",
     "exception": false,
     "start_time": "2021-06-24T22:19:51.974319",
     "status": "completed"
    },
    "tags": [
     "hide"
    ]
   },
   "outputs": [],
   "source": [
    "# 4. Feed files being checked for ----\n",
    "\n",
    "file_categories = pd.DataFrame(\n",
    "    {\n",
    "        \"shapes.txt\": \"Visual display\",\n",
    "        \"pathways.txt\": \"Navigation\",\n",
    "        \"levels.txt\": \"Navigation\",\n",
    "        \"fare_rules.txt\": \"Fares\",\n",
    "        \"fare_leg_rules\": \"Fares\",\n",
    "        \"feed_info.txt\": \"Technical contacts\",\n",
    "    }.items(),\n",
    "    columns=[\"name\", \"category\"],\n",
    ")\n",
    "\n",
    "importance = [\"Visual display\", \"Navigation\", \"Fares\", \"Technical contacts\"]\n",
    "\n",
    "tbl_file_check = (\n",
    "    tbl.gtfs_schedule_history.calitp_files_updates()\n",
    "    >> filter_itp\n",
    "    >> filter(_.calitp_extracted_at.isin(BIWEEKLY_MARKERS))\n",
    "    >> select(_.name, _.calitp_extracted_at)\n",
    "    >> collect()\n",
    "    >> right_join(_, file_categories, [\"name\"])\n",
    "    >> mutate(\n",
    "        calitp_extracted_at=_.calitp_extracted_at.fillna(\"missing\").astype(str),\n",
    "        success=\"✅\",\n",
    "    )\n",
    "    >> spread(_.calitp_extracted_at, _.success)\n",
    "    >> select(-_.missing)\n",
    "    >> arrange(_.category.apply(importance.index))\n",
    "    >> select(_.category, _.contains(\"\"))\n",
    "    >> pipe(_.fillna(\"\"))\n",
    ")\n",
    "\n",
    "tbl_validation_notices = (\n",
    "    tbl.views.validation_notices()\n",
    "    >> filter_itp\n",
    "    >> filter(_.severity == \"ERROR\")\n",
    "    >> count(_.code, _.severity)\n",
    "    >> collect()\n",
    ")"
   ]
  },
  {
   "cell_type": "markdown",
   "id": "99472341",
   "metadata": {
    "papermill": {
     "duration": 0.02738,
     "end_time": "2021-06-24T22:19:57.552214",
     "exception": false,
     "start_time": "2021-06-24T22:19:57.524834",
     "status": "completed"
    },
    "tags": [
     "hide"
    ]
   },
   "source": [
    "## Dump data"
   ]
  },
  {
   "cell_type": "code",
   "execution_count": 8,
   "id": "b17515fd",
   "metadata": {
    "execution": {
     "iopub.execute_input": "2021-06-24T22:19:57.608636Z",
     "iopub.status.busy": "2021-06-24T22:19:57.607550Z",
     "iopub.status.idle": "2021-06-24T22:19:57.618853Z",
     "shell.execute_reply": "2021-06-24T22:19:57.618346Z"
    },
    "papermill": {
     "duration": 0.045142,
     "end_time": "2021-06-24T22:19:57.618985",
     "exception": false,
     "start_time": "2021-06-24T22:19:57.573843",
     "status": "completed"
    },
    "tags": [
     "hide"
    ]
   },
   "outputs": [],
   "source": [
    "import json\n",
    "import shutil\n",
    "\n",
    "from pathlib import Path\n",
    "\n",
    "out_dir = Path(f\"output/{CALITP_ITP_ID}_{CALITP_URL_NUMBER}/data\")\n",
    "out_dir.mkdir(parents=True, exist_ok=True)\n",
    "\n",
    "json.dump(feed_info, open(out_dir / \"1_feed_info.json\", \"w\"))\n",
    "json.dump(status, open(out_dir / \"1_status.json\", \"w\"))\n",
    "\n",
    "tbl_daily_service_hours.to_json(out_dir / \"2_daily_service_hours.json\", orient=\"records\")\n",
    "json.dump(n_expired_days, open(out_dir / \"2_n_expired_days.json\", \"w\"))\n",
    "\n",
    "tbl_stops_changed.to_json(out_dir / \"3_stops_changed.json\", orient=\"records\")\n",
    "tbl_routes_changed.to_json(out_dir / \"3_routes_changed.json\", orient=\"records\")\n",
    "tbl_file_check.to_json(out_dir / \"4_file_check.json\", orient=\"records\")\n",
    "tbl_validation_notices.to_json(out_dir / \"4_validation_notices.json\", orient=\"records\")\n"
   ]
  },
  {
   "cell_type": "markdown",
   "id": "ccac8eaf",
   "metadata": {
    "papermill": {
     "duration": 0.015937,
     "end_time": "2021-06-24T22:19:57.652535",
     "exception": false,
     "start_time": "2021-06-24T22:19:57.636598",
     "status": "completed"
    },
    "tags": []
   },
   "source": [
    "# Monthly GTFS Quality Report"
   ]
  },
  {
   "cell_type": "code",
   "execution_count": 9,
   "id": "065c18c2",
   "metadata": {
    "execution": {
     "iopub.execute_input": "2021-06-24T22:19:57.698098Z",
     "iopub.status.busy": "2021-06-24T22:19:57.695460Z",
     "iopub.status.idle": "2021-06-24T22:19:57.701548Z",
     "shell.execute_reply": "2021-06-24T22:19:57.699100Z"
    },
    "papermill": {
     "duration": 0.034174,
     "end_time": "2021-06-24T22:19:57.701758",
     "exception": false,
     "start_time": "2021-06-24T22:19:57.667584",
     "status": "completed"
    },
    "tags": []
   },
   "outputs": [
    {
     "data": {
      "text/markdown": [
       "\n",
       "Transit provider name: Trillium Solutions, Inc.\n",
       "\n",
       "Date generated: 2021-06-24\n"
      ],
      "text/plain": [
       "<IPython.core.display.Markdown object>"
      ]
     },
     "execution_count": 9,
     "metadata": {},
     "output_type": "execute_result"
    }
   ],
   "source": [
    "from IPython.display import Markdown\n",
    "\n",
    "Markdown(f\"\"\"\n",
    "Transit provider name: {feed_info[\"feed_publisher_name\"]}\n",
    "\n",
    "Date generated: {DATE_TODAY}\n",
    "\"\"\")"
   ]
  },
  {
   "cell_type": "markdown",
   "id": "bb82aba1",
   "metadata": {
    "papermill": {
     "duration": 0.016975,
     "end_time": "2021-06-24T22:19:57.738505",
     "exception": false,
     "start_time": "2021-06-24T22:19:57.721530",
     "status": "completed"
    },
    "tags": []
   },
   "source": [
    "This is a monthly report, generated by the California Integrated Travel Project ([Cal-ITP](https://dot.ca.gov/cal-itp/cal-itp-gtfs)), summarizing issues discovered by [MobilityData](http://mobilitydata.io/)’s [GTFS Validator](https://github.com/MobilityData/gtfs-validator). This report is available for viewing by the general public to support continuous improvement of GTFS data and the experience of transit passengers. "
   ]
  },
  {
   "cell_type": "markdown",
   "id": "00a2b629",
   "metadata": {
    "papermill": {
     "duration": 0.017011,
     "end_time": "2021-06-24T22:19:57.771765",
     "exception": false,
     "start_time": "2021-06-24T22:19:57.754754",
     "status": "completed"
    },
    "tags": []
   },
   "source": [
    "## Overview"
   ]
  },
  {
   "cell_type": "code",
   "execution_count": 10,
   "id": "fa9a8cc4",
   "metadata": {
    "execution": {
     "iopub.execute_input": "2021-06-24T22:19:57.825928Z",
     "iopub.status.busy": "2021-06-24T22:19:57.824410Z",
     "iopub.status.idle": "2021-06-24T22:19:57.828620Z",
     "shell.execute_reply": "2021-06-24T22:19:57.829376Z"
    },
    "papermill": {
     "duration": 0.030091,
     "end_time": "2021-06-24T22:19:57.829609",
     "exception": false,
     "start_time": "2021-06-24T22:19:57.799518",
     "status": "completed"
    },
    "tags": []
   },
   "outputs": [
    {
     "data": {
      "text/markdown": [
       "\n",
       "Feed location: http://data.trilliumtransit.com/gtfs/smart-ca-us/smart-ca-us.zip\n",
       "\n",
       "Metrics for the most recent published version of the feed:\n",
       "\n",
       "* Date published: UTC: 24-May-2021 19:01\n",
       "* Number of routes in any service: 1\n",
       "* Number of stops in service: 12\n"
      ],
      "text/plain": [
       "<IPython.core.display.Markdown object>"
      ]
     },
     "execution_count": 10,
     "metadata": {},
     "output_type": "execute_result"
    }
   ],
   "source": [
    "Markdown(f\"\"\"\n",
    "Feed location: {status[\"gtfs_schedule_url\"]}\n",
    "\n",
    "Metrics for the most recent published version of the feed:\n",
    "\n",
    "* Date published: {feed_info[\"feed_version\"]}\n",
    "* Number of routes in any service: {feed_info[\"n_routes\"]}\n",
    "* Number of stops in service: {feed_info[\"n_stops\"]}\n",
    "\"\"\")"
   ]
  },
  {
   "cell_type": "markdown",
   "id": "94bfabf5",
   "metadata": {
    "papermill": {
     "duration": 0.023261,
     "end_time": "2021-06-24T22:19:57.876459",
     "exception": false,
     "start_time": "2021-06-24T22:19:57.853198",
     "status": "completed"
    },
    "tags": []
   },
   "source": [
    "## Aggregated Metrics for May"
   ]
  },
  {
   "cell_type": "code",
   "execution_count": 11,
   "id": "1761a3d2",
   "metadata": {
    "execution": {
     "iopub.execute_input": "2021-06-24T22:19:57.921210Z",
     "iopub.status.busy": "2021-06-24T22:19:57.920184Z",
     "iopub.status.idle": "2021-06-24T22:19:57.924480Z",
     "shell.execute_reply": "2021-06-24T22:19:57.924042Z"
    },
    "papermill": {
     "duration": 0.026525,
     "end_time": "2021-06-24T22:19:57.924603",
     "exception": false,
     "start_time": "2021-06-24T22:19:57.898078",
     "status": "completed"
    },
    "tags": []
   },
   "outputs": [
    {
     "data": {
      "text/markdown": [
       "\n",
       "Days with no service hours: 9\n"
      ],
      "text/plain": [
       "<IPython.core.display.Markdown object>"
      ]
     },
     "execution_count": 11,
     "metadata": {},
     "output_type": "execute_result"
    }
   ],
   "source": [
    "# TODO: \n",
    "\n",
    "# Markdown(f\"\"\"\n",
    "# Days when the active feed was expired: {n_expired_days[\"n\"]}\n",
    "# \"\"\")\n",
    "\n",
    "Markdown(f\"\"\"\n",
    "Days with no service hours: {n_expired_days[\"n\"]}\n",
    "\"\"\")\n"
   ]
  },
  {
   "cell_type": "code",
   "execution_count": 12,
   "id": "efa736e1",
   "metadata": {
    "execution": {
     "iopub.execute_input": "2021-06-24T22:19:57.998179Z",
     "iopub.status.busy": "2021-06-24T22:19:57.997613Z",
     "iopub.status.idle": "2021-06-24T22:19:58.399932Z",
     "shell.execute_reply": "2021-06-24T22:19:58.400370Z"
    },
    "papermill": {
     "duration": 0.45147,
     "end_time": "2021-06-24T22:19:58.400511",
     "exception": false,
     "start_time": "2021-06-24T22:19:57.949041",
     "status": "completed"
    },
    "tags": []
   },
   "outputs": [
    {
     "data": {
      "image/png": "[encoded data removed]",
      "text/plain": [
       "<Figure size 640x480 with 1 Axes>"
      ]
     },
     "metadata": {},
     "output_type": "display_data"
    }
   ],
   "source": [
    "(\n",
    "    tbl_daily_service_hours\n",
    "    >> ggplot(aes(\"service_date\", \"ttl_service_hours2\"))\n",
    "    + geom_line()\n",
    "    + geom_point()\n",
    "    + theme(axis_text_x=element_text(angle=45, hjust=1))\n",
    "    + scale_x_datetime(date_breaks=\"1 week\")\n",
    "    + expand_limits(y=0)\n",
    "    + labs(y = \"Total service hours\", x = \"Service date\", title=\"Service hour per day\")\n",
    ").draw();"
   ]
  },
  {
   "cell_type": "markdown",
   "id": "f67bd4ad",
   "metadata": {
    "papermill": {
     "duration": 0.017902,
     "end_time": "2021-06-24T22:19:58.436317",
     "exception": false,
     "start_time": "2021-06-24T22:19:58.418415",
     "status": "completed"
    },
    "tags": []
   },
   "source": [
    "## Changes Since Previous Month"
   ]
  },
  {
   "cell_type": "code",
   "execution_count": 13,
   "id": "57dec75f",
   "metadata": {
    "execution": {
     "iopub.execute_input": "2021-06-24T22:19:58.662454Z",
     "iopub.status.busy": "2021-06-24T22:19:58.614250Z",
     "iopub.status.idle": "2021-06-24T22:19:58.808035Z",
     "shell.execute_reply": "2021-06-24T22:19:58.807588Z"
    },
    "papermill": {
     "duration": 0.35419,
     "end_time": "2021-06-24T22:19:58.808145",
     "exception": false,
     "start_time": "2021-06-24T22:19:58.453955",
     "status": "completed"
    },
    "tags": []
   },
   "outputs": [
    {
     "data": {
      "image/png": "[encoded data removed]",
      "text/plain": [
       "<Figure size 640x480 with 1 Axes>"
      ]
     },
     "metadata": {},
     "output_type": "display_data"
    }
   ],
   "source": [
    "(\n",
    "    pd.concat(\n",
    "        [\n",
    "            tbl_stops_changed >> mutate(kind=\"Stops\"),\n",
    "            tbl_routes_changed >> mutate(kind=\"Routes\"),\n",
    "        ]\n",
    "    )\n",
    "    >> ggplot(aes(\"kind\", \"n\", fill=\"status\"))\n",
    "    + geom_col()\n",
    "    + labs(\n",
    "        x=\"GTFS schedule table\",\n",
    "        y=\"Number of IDs\",\n",
    "        title=f\"IDs Changed Between {START_MONTH_DAY} and {END_MONTH_DAY}\",\n",
    "    )\n",
    ").draw();"
   ]
  },
  {
   "cell_type": "markdown",
   "id": "81aa1acb",
   "metadata": {
    "papermill": {
     "duration": 0.019675,
     "end_time": "2021-06-24T22:19:58.845772",
     "exception": false,
     "start_time": "2021-06-24T22:19:58.826097",
     "status": "completed"
    },
    "tags": []
   },
   "source": [
    "### (Alternative version using percentages)"
   ]
  },
  {
   "cell_type": "code",
   "execution_count": 14,
   "id": "135451ec",
   "metadata": {
    "execution": {
     "iopub.execute_input": "2021-06-24T22:19:58.939950Z",
     "iopub.status.busy": "2021-06-24T22:19:58.934126Z",
     "iopub.status.idle": "2021-06-24T22:19:59.171753Z",
     "shell.execute_reply": "2021-06-24T22:19:59.172258Z"
    },
    "papermill": {
     "duration": 0.307788,
     "end_time": "2021-06-24T22:19:59.172399",
     "exception": false,
     "start_time": "2021-06-24T22:19:58.864611",
     "status": "completed"
    },
    "tags": []
   },
   "outputs": [
    {
     "data": {
      "image/png": "[encoded data removed]",
      "text/plain": [
       "<Figure size 640x480 with 1 Axes>"
      ]
     },
     "metadata": {},
     "output_type": "display_data"
    }
   ],
   "source": [
    "(\n",
    "    pd.concat(\n",
    "        [\n",
    "            tbl_stops_changed >> mutate(kind=\"Stops\"),\n",
    "            tbl_routes_changed >> mutate(kind=\"Routes\"),\n",
    "        ]\n",
    "    )\n",
    "    >> ggplot(aes(\"kind\", \"percent\", fill=\"status\"))\n",
    "    + geom_col()\n",
    "    + labs(\n",
    "        x=\"GTFS schedule table\",\n",
    "        y=\"Percentage of IDs\",\n",
    "        title=f\"IDs Changed Between {START_MONTH_DAY} and {END_MONTH_DAY}\",\n",
    "    )\n",
    "    + scale_y_continuous(labels=percent_format, breaks=np.arange(0, 1.2, 0.2))\n",
    ").draw();"
   ]
  },
  {
   "cell_type": "markdown",
   "id": "6a6f80f6",
   "metadata": {
    "papermill": {
     "duration": 0.019172,
     "end_time": "2021-06-24T22:19:59.211224",
     "exception": false,
     "start_time": "2021-06-24T22:19:59.192052",
     "status": "completed"
    },
    "tags": []
   },
   "source": [
    "## Consistency with the [California GTFS Minimum Guidelines](https://dot.ca.gov/cal-itp/california-minimum-general-transit-feed-specification-gtfs-guidelines) for the feed downloaded\n"
   ]
  },
  {
   "cell_type": "markdown",
   "id": "f09c4d1a",
   "metadata": {
    "papermill": {
     "duration": 0.025034,
     "end_time": "2021-06-24T22:19:59.256320",
     "exception": false,
     "start_time": "2021-06-24T22:19:59.231286",
     "status": "completed"
    },
    "tags": []
   },
   "source": [
    "### Do the following files/fields exist?"
   ]
  },
  {
   "cell_type": "code",
   "execution_count": 15,
   "id": "c1d31deb",
   "metadata": {
    "execution": {
     "iopub.execute_input": "2021-06-24T22:19:59.310939Z",
     "iopub.status.busy": "2021-06-24T22:19:59.310203Z",
     "iopub.status.idle": "2021-06-24T22:19:59.321359Z",
     "shell.execute_reply": "2021-06-24T22:19:59.322169Z"
    },
    "papermill": {
     "duration": 0.04597,
     "end_time": "2021-06-24T22:19:59.322406",
     "exception": false,
     "start_time": "2021-06-24T22:19:59.276436",
     "status": "completed"
    },
    "tags": []
   },
   "outputs": [
    {
     "data": {
      "text/html": [
       "<div>\n",
       "<style scoped>\n",
       "    .dataframe tbody tr th:only-of-type {\n",
       "        vertical-align: middle;\n",
       "    }\n",
       "\n",
       "    .dataframe tbody tr th {\n",
       "        vertical-align: top;\n",
       "    }\n",
       "\n",
       "    .dataframe thead th {\n",
       "        text-align: right;\n",
       "    }\n",
       "</style>\n",
       "<table border=\"1\" class=\"dataframe\">\n",
       "  <thead>\n",
       "    <tr style=\"text-align: right;\">\n",
       "      <th></th>\n",
       "      <th>category</th>\n",
       "      <th>name</th>\n",
       "      <th>2021-05-02</th>\n",
       "      <th>2021-05-16</th>\n",
       "      <th>2021-05-30</th>\n",
       "    </tr>\n",
       "  </thead>\n",
       "  <tbody>\n",
       "    <tr>\n",
       "      <th>5</th>\n",
       "      <td>Visual display</td>\n",
       "      <td>shapes.txt</td>\n",
       "      <td>✅</td>\n",
       "      <td>✅</td>\n",
       "      <td>✅</td>\n",
       "    </tr>\n",
       "    <tr>\n",
       "      <th>3</th>\n",
       "      <td>Navigation</td>\n",
       "      <td>levels.txt</td>\n",
       "      <td></td>\n",
       "      <td></td>\n",
       "      <td></td>\n",
       "    </tr>\n",
       "    <tr>\n",
       "      <th>4</th>\n",
       "      <td>Navigation</td>\n",
       "      <td>pathways.txt</td>\n",
       "      <td></td>\n",
       "      <td></td>\n",
       "      <td></td>\n",
       "    </tr>\n",
       "    <tr>\n",
       "      <th>0</th>\n",
       "      <td>Fares</td>\n",
       "      <td>fare_leg_rules</td>\n",
       "      <td></td>\n",
       "      <td></td>\n",
       "      <td></td>\n",
       "    </tr>\n",
       "    <tr>\n",
       "      <th>1</th>\n",
       "      <td>Fares</td>\n",
       "      <td>fare_rules.txt</td>\n",
       "      <td>✅</td>\n",
       "      <td>✅</td>\n",
       "      <td>✅</td>\n",
       "    </tr>\n",
       "    <tr>\n",
       "      <th>2</th>\n",
       "      <td>Technical contacts</td>\n",
       "      <td>feed_info.txt</td>\n",
       "      <td>✅</td>\n",
       "      <td>✅</td>\n",
       "      <td>✅</td>\n",
       "    </tr>\n",
       "  </tbody>\n",
       "</table>\n",
       "</div>"
      ],
      "text/plain": [
       "             category            name 2021-05-02 2021-05-16 2021-05-30\n",
       "5      Visual display      shapes.txt          ✅          ✅          ✅\n",
       "3          Navigation      levels.txt                                 \n",
       "4          Navigation    pathways.txt                                 \n",
       "0               Fares  fare_leg_rules                                 \n",
       "1               Fares  fare_rules.txt          ✅          ✅          ✅\n",
       "2  Technical contacts   feed_info.txt          ✅          ✅          ✅"
      ]
     },
     "execution_count": 15,
     "metadata": {},
     "output_type": "execute_result"
    }
   ],
   "source": [
    "tbl_file_check"
   ]
  },
  {
   "cell_type": "markdown",
   "id": "cb446b79",
   "metadata": {
    "papermill": {
     "duration": 0.041898,
     "end_time": "2021-06-24T22:19:59.390394",
     "exception": false,
     "start_time": "2021-06-24T22:19:59.348496",
     "status": "completed"
    },
    "tags": []
   },
   "source": [
    "### Validation Errors Observed"
   ]
  },
  {
   "cell_type": "code",
   "execution_count": 16,
   "id": "62beaaab",
   "metadata": {
    "execution": {
     "iopub.execute_input": "2021-06-24T22:19:59.475647Z",
     "iopub.status.busy": "2021-06-24T22:19:59.474367Z",
     "iopub.status.idle": "2021-06-24T22:19:59.478857Z",
     "shell.execute_reply": "2021-06-24T22:19:59.479580Z"
    },
    "papermill": {
     "duration": 0.045444,
     "end_time": "2021-06-24T22:19:59.479790",
     "exception": false,
     "start_time": "2021-06-24T22:19:59.434346",
     "status": "completed"
    },
    "tags": []
   },
   "outputs": [
    {
     "data": {
      "text/markdown": [
       "No validation error observed in your feed."
      ],
      "text/plain": [
       "<IPython.core.display.Markdown object>"
      ]
     },
     "metadata": {},
     "output_type": "display_data"
    }
   ],
   "source": [
    "if tbl_validation_notices.shape[0] == 0:\n",
    "    display(Markdown(\"No validation error observed in your feed.\"))\n",
    "else:    \n",
    "    display(tbl_validation_notices)"
   ]
  },
  {
   "cell_type": "markdown",
   "id": "58ac1220",
   "metadata": {
    "papermill": {
     "duration": 0.023804,
     "end_time": "2021-06-24T22:19:59.537000",
     "exception": false,
     "start_time": "2021-06-24T22:19:59.513196",
     "status": "completed"
    },
    "tags": []
   },
   "source": [
    "For more information about Cal-ITP, including the [Minimum GTFS Guidelines](https://dot.ca.gov/cal-itp/california-minimum-general-transit-feed-specification-gtfs-guidelines) and our [Transit Data Helpdesk](https://dot.ca.gov/programs/rail-and-mass-transportation/gtfs/helpdesk), contact [GTFSRT@dot.ca.gov](mailto:GTFSRT@dot.ca.gov)."
   ]
  }
 ],
 "metadata": {
  "kernelspec": {
   "display_name": "venv-calitp-py",
   "language": "python",
   "name": "venv-calitp-py"
  },
  "language_info": {
   "codemirror_mode": {
    "name": "ipython",
    "version": 3
   },
   "file_extension": ".py",
   "mimetype": "text/x-python",
   "name": "python",
   "nbconvert_exporter": "python",
   "pygments_lexer": "ipython3",
   "version": "3.8.5"
  },
  "papermill": {
   "default_parameters": {},
   "duration": 37.824881,
   "end_time": "2021-06-24T22:20:00.294157",
   "environment_variables": {},
   "exception": null,
   "input_path": "report.ipynb",
   "output_path": "output/315/report.ipynb",
   "parameters": {
    "CALITP_ITP_ID": 315,
    "CALITP_URL_NUMBER": 0,
    "DEBUG": false,
    "END_DATE": "2021-06-01",
    "START_DATE": "2021-05-01"
   },
   "start_time": "2021-06-24T22:19:22.469276",
   "version": "2.3.3"
  }
 },
 "nbformat": 4,
 "nbformat_minor": 5
}