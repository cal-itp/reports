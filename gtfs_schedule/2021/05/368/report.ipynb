{
 "cells": [
  {
   "cell_type": "markdown",
   "id": "760985fb",
   "metadata": {
    "papermill": {
     "duration": 0.029886,
     "end_time": "2021-06-24T22:20:55.700567",
     "exception": false,
     "start_time": "2021-06-24T22:20:55.670681",
     "status": "completed"
    },
    "tags": [
     "hide"
    ]
   },
   "source": [
    "# Setup"
   ]
  },
  {
   "cell_type": "code",
   "execution_count": 1,
   "id": "9e3687ce",
   "metadata": {
    "execution": {
     "iopub.execute_input": "2021-06-24T22:20:55.762842Z",
     "iopub.status.busy": "2021-06-24T22:20:55.761671Z",
     "iopub.status.idle": "2021-06-24T22:21:03.186270Z",
     "shell.execute_reply": "2021-06-24T22:21:03.187088Z"
    },
    "papermill": {
     "duration": 7.459812,
     "end_time": "2021-06-24T22:21:03.187313",
     "exception": false,
     "start_time": "2021-06-24T22:20:55.727501",
     "status": "completed"
    },
    "tags": [
     "hide"
    ]
   },
   "outputs": [],
   "source": [
    "import pandas as pd\n",
    "import numpy as np\n",
    "import warnings\n",
    "\n",
    "from io import StringIO\n",
    "from calitp.tables import tbl\n",
    "from datetime import date, datetime\n",
    "from siuba import *\n",
    "from plotnine import *\n",
    "\n",
    "def friendly_date(x): \n",
    "    return datetime.strptime(x, \"%Y-%m-%d\").strftime(\"%b %d\")"
   ]
  },
  {
   "cell_type": "code",
   "execution_count": 2,
   "id": "62d887c1",
   "metadata": {
    "execution": {
     "iopub.execute_input": "2021-06-24T22:21:03.233126Z",
     "iopub.status.busy": "2021-06-24T22:21:03.232222Z",
     "iopub.status.idle": "2021-06-24T22:21:03.237749Z",
     "shell.execute_reply": "2021-06-24T22:21:03.238470Z"
    },
    "papermill": {
     "duration": 0.035958,
     "end_time": "2021-06-24T22:21:03.238687",
     "exception": false,
     "start_time": "2021-06-24T22:21:03.202729",
     "status": "completed"
    },
    "tags": [
     "parameters",
     "hide"
    ]
   },
   "outputs": [],
   "source": [
    "CALITP_ITP_ID = 98\n",
    "#CALITP_ITP_ID=45\n",
    "CALITP_URL_NUMBER = 0\n",
    "DEBUG = False\n",
    "\n",
    "START_DATE = \"2021-05-01\"\n",
    "END_DATE = \"2021-06-01\"\n",
    "DATE_TODAY=date.today()\n",
    "START_MONTH_DAY = friendly_date(START_DATE)\n",
    "END_MONTH_DAY = friendly_date(END_DATE)\n",
    "\n",
    "WEEK_MARKERS = pd.date_range(START_DATE, END_DATE, freq=\"W\").astype(str).tolist()\n",
    "BIWEEKLY_MARKERS = pd.date_range(START_DATE, END_DATE, freq=\"2W\").astype(str).tolist()"
   ]
  },
  {
   "cell_type": "code",
   "execution_count": 3,
   "id": "3f47b828",
   "metadata": {
    "execution": {
     "iopub.execute_input": "2021-06-24T22:21:03.286607Z",
     "iopub.status.busy": "2021-06-24T22:21:03.285724Z",
     "iopub.status.idle": "2021-06-24T22:21:03.292529Z",
     "shell.execute_reply": "2021-06-24T22:21:03.293524Z"
    },
    "papermill": {
     "duration": 0.033707,
     "end_time": "2021-06-24T22:21:03.293682",
     "exception": false,
     "start_time": "2021-06-24T22:21:03.259975",
     "status": "completed"
    },
    "tags": [
     "injected-parameters"
    ]
   },
   "outputs": [],
   "source": [
    "# Parameters\n",
    "CALITP_ITP_ID = 368\n",
    "CALITP_URL_NUMBER = 0\n",
    "DEBUG = False\n",
    "START_DATE = \"2021-05-01\"\n",
    "END_DATE = \"2021-06-01\"\n"
   ]
  },
  {
   "cell_type": "code",
   "execution_count": 4,
   "id": "05d5e470",
   "metadata": {
    "execution": {
     "iopub.execute_input": "2021-06-24T22:21:03.340929Z",
     "iopub.status.busy": "2021-06-24T22:21:03.340248Z",
     "iopub.status.idle": "2021-06-24T22:21:03.343785Z",
     "shell.execute_reply": "2021-06-24T22:21:03.344540Z"
    },
    "papermill": {
     "duration": 0.028771,
     "end_time": "2021-06-24T22:21:03.344763",
     "exception": false,
     "start_time": "2021-06-24T22:21:03.315992",
     "status": "completed"
    },
    "tags": [
     "hide"
    ]
   },
   "outputs": [],
   "source": [
    "if not DEBUG:\n",
    "    warnings.filterwarnings(\"ignore\")"
   ]
  },
  {
   "cell_type": "code",
   "execution_count": 5,
   "id": "a7400580",
   "metadata": {
    "execution": {
     "iopub.execute_input": "2021-06-24T22:21:03.412342Z",
     "iopub.status.busy": "2021-06-24T22:21:03.411176Z",
     "iopub.status.idle": "2021-06-24T22:21:03.414620Z",
     "shell.execute_reply": "2021-06-24T22:21:03.415367Z"
    },
    "papermill": {
     "duration": 0.046678,
     "end_time": "2021-06-24T22:21:03.415592",
     "exception": false,
     "start_time": "2021-06-24T22:21:03.368914",
     "status": "completed"
    },
    "tags": [
     "hide"
    ]
   },
   "outputs": [],
   "source": [
    "# Convenience functions ----\n",
    "\n",
    "filter_start = filter(\n",
    "    _.calitp_extracted_at <= START_DATE,\n",
    "    _.calitp_deleted_at.fillna(\"2099-01-01\") > START_DATE,\n",
    ")\n",
    "\n",
    "filter_end = filter(\n",
    "    _.calitp_extracted_at <= END_DATE,\n",
    "    _.calitp_deleted_at.fillna(\"2099-01-01\") > END_DATE,\n",
    ")\n",
    "\n",
    "filter_itp = filter(\n",
    "    _.calitp_itp_id == CALITP_ITP_ID, _.calitp_url_number == CALITP_URL_NUMBER\n",
    ")\n",
    "\n",
    "collect_to_dict = (\n",
    "    collect()\n",
    "    >> pipe(_.to_dict(orient=\"records\")[0])\n",
    ")\n",
    "\n",
    "\n",
    "select_rm_calitp = select(\n",
    "    -_.calitp_itp_id,\n",
    "    -_.calitp_url_number,\n",
    "    -_.calitp_hash,\n",
    "    -_.calitp_extracted_at,\n",
    "    -_.calitp_deleted_at,\n",
    ")\n",
    "\n",
    "def percent_format(labels):\n",
    "    return [\"{:.0f}%\".format(v*100) for v in labels]\n",
    "\n",
    "def query_id_changes(start_table, end_table, id_vars):\n",
    "    \"\"\"Calculate id variables that are removed, added, or unchanged between tables.\n",
    "    \n",
    "    It works by adding a special column to each table, performing a full join,\n",
    "    then checking where the special column is null.\n",
    "    \"\"\"\n",
    "    sym_id_vars = [_[k] for k in id_vars]\n",
    "\n",
    "    is_in_start = start_table >> select(*id_vars) >> mutate(is_in_start=True)\n",
    "    is_in_end = end_table >> select(*id_vars) >> mutate(is_in_end=True)\n",
    "\n",
    "    baseline = start_table >> count(*id_vars) >> rename(n_baseline=\"n\")\n",
    "    tallies = (\n",
    "        is_in_start\n",
    "        >> full_join(_, is_in_end, id_vars)\n",
    "        >> count(*sym_id_vars, _.is_in_start, _.is_in_end)\n",
    "        >> mutate(\n",
    "            status=case_when(\n",
    "                _,\n",
    "                {\n",
    "                    _.is_in_end.isna(): \"Removed\",\n",
    "                    _.is_in_start.isna(): \"Added\",\n",
    "                    True: \"Unchanged\",\n",
    "                },\n",
    "            )\n",
    "        )\n",
    "        >> count(*sym_id_vars[:-1], _.status)\n",
    "        >> group_by(*sym_id_vars[:-1])\n",
    "        >> mutate(percent=_.n / _.n.sum())\n",
    "    )\n",
    "\n",
    "    return tallies"
   ]
  },
  {
   "cell_type": "code",
   "execution_count": 6,
   "id": "d27bb615",
   "metadata": {
    "execution": {
     "iopub.execute_input": "2021-06-24T22:21:03.464615Z",
     "iopub.status.busy": "2021-06-24T22:21:03.463553Z",
     "iopub.status.idle": "2021-06-24T22:21:27.348841Z",
     "shell.execute_reply": "2021-06-24T22:21:27.349303Z"
    },
    "papermill": {
     "duration": 23.907478,
     "end_time": "2021-06-24T22:21:27.349452",
     "exception": false,
     "start_time": "2021-06-24T22:21:03.441974",
     "status": "completed"
    },
    "tags": [
     "hide"
    ]
   },
   "outputs": [],
   "source": [
    "# Data ====\n",
    "# 1. High level feed info ----\n",
    "feed_info = (\n",
    "    tbl.gtfs_schedule_type2.feed_info()\n",
    "    >> filter_end\n",
    "    >> filter_itp\n",
    "    >> select_rm_calitp\n",
    "    >> collect_to_dict\n",
    ")\n",
    "\n",
    "_n_routes = (\n",
    "    tbl.gtfs_schedule_type2.routes() >> filter_end >> filter_itp >> count() >> collect()\n",
    ")\n",
    "_n_stops = (\n",
    "    tbl.gtfs_schedule_type2.stops() >> filter_end >> filter_itp >> count() >> collect()\n",
    ")\n",
    "\n",
    "feed_info[\"n_routes\"] = int(_n_routes.loc[0, \"n\"])\n",
    "feed_info[\"n_stops\"] = int(_n_stops.loc[0, \"n\"])\n",
    "\n",
    "status = (\n",
    "    tbl.views.gtfs_status_latest()\n",
    "    >> filter(_.itp_id == CALITP_ITP_ID, _.url_number == CALITP_URL_NUMBER)\n",
    "    >> select(-_.url_number, -_.status)\n",
    "    >> select_rm_calitp\n",
    "    >> collect_to_dict\n",
    ")\n",
    "\n",
    "# 2. Monthly metrics ----\n",
    "# Service hours per day. Note that the queried table calculates service\n",
    "# hours per service id, so we need to sum across service ids for the day\n",
    "_cross_cal = (\n",
    "    tbl.views.dim_date()\n",
    "    >> filter(_.full_date.between(START_DATE, END_DATE))\n",
    "    >> select(_.service_date == _.full_date)\n",
    ")\n",
    "\n",
    "tbl_daily_service_hours = (\n",
    "    tbl.views.gtfs_schedule_service_daily_metrics()\n",
    "    >> filter_itp\n",
    "    >> filter(_.service_date.between(START_DATE, END_DATE))\n",
    "    >> right_join(_, _cross_cal, [\"service_date\"])\n",
    "    >> collect()\n",
    "    >> group_by(_.service_date)\n",
    "    >> summarize(\n",
    "        ttl_service_hours=(_.last_arrival_ts.max() - _.first_departure_ts.min()) / 3600,\n",
    "        ttl_service_hours2=_.ttl_service_hours.sum(),\n",
    "    )\n",
    "    >> mutate(\n",
    "        ttl_service_hours=_.ttl_service_hours.astype(float).round(2),\n",
    "        service_date=_.service_date.astype(\"datetime64[ns]\"),\n",
    "    )\n",
    ")\n",
    "\n",
    "# number of days where a feed did not have any trips in service\n",
    "n_expired_days = (\n",
    "    tbl_daily_service_hours\n",
    "    >> filter(_.ttl_service_hours.isna())\n",
    "    >> pipe(lambda d: {\"n\": d.shape[0]})\n",
    ")\n",
    "\n",
    "# 3. Stop and Route ID Changes ----\n",
    "\n",
    "_tbl_stops_start = tbl.gtfs_schedule_type2.stops() >> filter_itp >> filter_start\n",
    "_tbl_stops_end = tbl.gtfs_schedule_type2.stops() >> filter_itp >> filter_end\n",
    "tbl_stops_changed = (\n",
    "    query_id_changes(_tbl_stops_start, _tbl_stops_end, [\"stop_id\"]) >> collect()\n",
    ")\n",
    "\n",
    "_tbl_routes_start = tbl.gtfs_schedule_type2.routes() >> filter_itp >> filter_start\n",
    "_tbl_routes_end = tbl.gtfs_schedule_type2.routes() >> filter_itp >> filter_end\n",
    "tbl_routes_changed = (\n",
    "    query_id_changes(_tbl_routes_start, _tbl_routes_end, [\"route_id\"]) >> collect()\n",
    ")"
   ]
  },
  {
   "cell_type": "code",
   "execution_count": 7,
   "id": "53c4bcf6",
   "metadata": {
    "execution": {
     "iopub.execute_input": "2021-06-24T22:21:27.395192Z",
     "iopub.status.busy": "2021-06-24T22:21:27.393882Z",
     "iopub.status.idle": "2021-06-24T22:21:32.406168Z",
     "shell.execute_reply": "2021-06-24T22:21:32.406584Z"
    },
    "papermill": {
     "duration": 5.03704,
     "end_time": "2021-06-24T22:21:32.406714",
     "exception": false,
     "start_time": "2021-06-24T22:21:27.369674",
     "status": "completed"
    },
    "tags": [
     "hide"
    ]
   },
   "outputs": [],
   "source": [
    "# 4. Feed files being checked for ----\n",
    "\n",
    "file_categories = pd.DataFrame(\n",
    "    {\n",
    "        \"shapes.txt\": \"Visual display\",\n",
    "        \"pathways.txt\": \"Navigation\",\n",
    "        \"levels.txt\": \"Navigation\",\n",
    "        \"fare_rules.txt\": \"Fares\",\n",
    "        \"fare_leg_rules\": \"Fares\",\n",
    "        \"feed_info.txt\": \"Technical contacts\",\n",
    "    }.items(),\n",
    "    columns=[\"name\", \"category\"],\n",
    ")\n",
    "\n",
    "importance = [\"Visual display\", \"Navigation\", \"Fares\", \"Technical contacts\"]\n",
    "\n",
    "tbl_file_check = (\n",
    "    tbl.gtfs_schedule_history.calitp_files_updates()\n",
    "    >> filter_itp\n",
    "    >> filter(_.calitp_extracted_at.isin(BIWEEKLY_MARKERS))\n",
    "    >> select(_.name, _.calitp_extracted_at)\n",
    "    >> collect()\n",
    "    >> right_join(_, file_categories, [\"name\"])\n",
    "    >> mutate(\n",
    "        calitp_extracted_at=_.calitp_extracted_at.fillna(\"missing\").astype(str),\n",
    "        success=\"✅\",\n",
    "    )\n",
    "    >> spread(_.calitp_extracted_at, _.success)\n",
    "    >> select(-_.missing)\n",
    "    >> arrange(_.category.apply(importance.index))\n",
    "    >> select(_.category, _.contains(\"\"))\n",
    "    >> pipe(_.fillna(\"\"))\n",
    ")\n",
    "\n",
    "tbl_validation_notices = (\n",
    "    tbl.views.validation_notices()\n",
    "    >> filter_itp\n",
    "    >> filter(_.severity == \"ERROR\")\n",
    "    >> count(_.code, _.severity)\n",
    "    >> collect()\n",
    ")"
   ]
  },
  {
   "cell_type": "markdown",
   "id": "cb0f72fa",
   "metadata": {
    "papermill": {
     "duration": 0.017544,
     "end_time": "2021-06-24T22:21:32.443857",
     "exception": false,
     "start_time": "2021-06-24T22:21:32.426313",
     "status": "completed"
    },
    "tags": [
     "hide"
    ]
   },
   "source": [
    "## Dump data"
   ]
  },
  {
   "cell_type": "code",
   "execution_count": 8,
   "id": "a3156107",
   "metadata": {
    "execution": {
     "iopub.execute_input": "2021-06-24T22:21:32.487267Z",
     "iopub.status.busy": "2021-06-24T22:21:32.486164Z",
     "iopub.status.idle": "2021-06-24T22:21:32.496576Z",
     "shell.execute_reply": "2021-06-24T22:21:32.497099Z"
    },
    "papermill": {
     "duration": 0.036207,
     "end_time": "2021-06-24T22:21:32.497264",
     "exception": false,
     "start_time": "2021-06-24T22:21:32.461057",
     "status": "completed"
    },
    "tags": [
     "hide"
    ]
   },
   "outputs": [],
   "source": [
    "import json\n",
    "import shutil\n",
    "\n",
    "from pathlib import Path\n",
    "\n",
    "out_dir = Path(f\"output/{CALITP_ITP_ID}_{CALITP_URL_NUMBER}/data\")\n",
    "out_dir.mkdir(parents=True, exist_ok=True)\n",
    "\n",
    "json.dump(feed_info, open(out_dir / \"1_feed_info.json\", \"w\"))\n",
    "json.dump(status, open(out_dir / \"1_status.json\", \"w\"))\n",
    "\n",
    "tbl_daily_service_hours.to_json(out_dir / \"2_daily_service_hours.json\", orient=\"records\")\n",
    "json.dump(n_expired_days, open(out_dir / \"2_n_expired_days.json\", \"w\"))\n",
    "\n",
    "tbl_stops_changed.to_json(out_dir / \"3_stops_changed.json\", orient=\"records\")\n",
    "tbl_routes_changed.to_json(out_dir / \"3_routes_changed.json\", orient=\"records\")\n",
    "tbl_file_check.to_json(out_dir / \"4_file_check.json\", orient=\"records\")\n",
    "tbl_validation_notices.to_json(out_dir / \"4_validation_notices.json\", orient=\"records\")\n"
   ]
  },
  {
   "cell_type": "markdown",
   "id": "809b9135",
   "metadata": {
    "papermill": {
     "duration": 0.018807,
     "end_time": "2021-06-24T22:21:32.531529",
     "exception": false,
     "start_time": "2021-06-24T22:21:32.512722",
     "status": "completed"
    },
    "tags": []
   },
   "source": [
    "# Monthly GTFS Quality Report"
   ]
  },
  {
   "cell_type": "code",
   "execution_count": 9,
   "id": "45b7e1e6",
   "metadata": {
    "execution": {
     "iopub.execute_input": "2021-06-24T22:21:32.577033Z",
     "iopub.status.busy": "2021-06-24T22:21:32.574968Z",
     "iopub.status.idle": "2021-06-24T22:21:32.583209Z",
     "shell.execute_reply": "2021-06-24T22:21:32.583890Z"
    },
    "papermill": {
     "duration": 0.035506,
     "end_time": "2021-06-24T22:21:32.584052",
     "exception": false,
     "start_time": "2021-06-24T22:21:32.548546",
     "status": "completed"
    },
    "tags": []
   },
   "outputs": [
    {
     "data": {
      "text/markdown": [
       "\n",
       "Transit provider name: Trillium Solutions, Inc.\n",
       "\n",
       "Date generated: 2021-06-24\n"
      ],
      "text/plain": [
       "<IPython.core.display.Markdown object>"
      ]
     },
     "execution_count": 9,
     "metadata": {},
     "output_type": "execute_result"
    }
   ],
   "source": [
    "from IPython.display import Markdown\n",
    "\n",
    "Markdown(f\"\"\"\n",
    "Transit provider name: {feed_info[\"feed_publisher_name\"]}\n",
    "\n",
    "Date generated: {DATE_TODAY}\n",
    "\"\"\")"
   ]
  },
  {
   "cell_type": "markdown",
   "id": "e1b0c262",
   "metadata": {
    "papermill": {
     "duration": 0.016241,
     "end_time": "2021-06-24T22:21:32.620037",
     "exception": false,
     "start_time": "2021-06-24T22:21:32.603796",
     "status": "completed"
    },
    "tags": []
   },
   "source": [
    "This is a monthly report, generated by the California Integrated Travel Project ([Cal-ITP](https://dot.ca.gov/cal-itp/cal-itp-gtfs)), summarizing issues discovered by [MobilityData](http://mobilitydata.io/)’s [GTFS Validator](https://github.com/MobilityData/gtfs-validator). This report is available for viewing by the general public to support continuous improvement of GTFS data and the experience of transit passengers. "
   ]
  },
  {
   "cell_type": "markdown",
   "id": "e76df9b6",
   "metadata": {
    "papermill": {
     "duration": 0.018855,
     "end_time": "2021-06-24T22:21:32.655166",
     "exception": false,
     "start_time": "2021-06-24T22:21:32.636311",
     "status": "completed"
    },
    "tags": []
   },
   "source": [
    "## Overview"
   ]
  },
  {
   "cell_type": "code",
   "execution_count": 10,
   "id": "17b96424",
   "metadata": {
    "execution": {
     "iopub.execute_input": "2021-06-24T22:21:32.710784Z",
     "iopub.status.busy": "2021-06-24T22:21:32.709522Z",
     "iopub.status.idle": "2021-06-24T22:21:32.713838Z",
     "shell.execute_reply": "2021-06-24T22:21:32.714573Z"
    },
    "papermill": {
     "duration": 0.042305,
     "end_time": "2021-06-24T22:21:32.714794",
     "exception": false,
     "start_time": "2021-06-24T22:21:32.672489",
     "status": "completed"
    },
    "tags": []
   },
   "outputs": [
    {
     "data": {
      "text/markdown": [
       "\n",
       "Feed location: http://data.trilliumtransit.com/gtfs/westcat-ca-us/westcat-ca-us.zip\n",
       "\n",
       "Metrics for the most recent published version of the feed:\n",
       "\n",
       "* Date published: UTC: 29-Apr-2021 19:33\n",
       "* Number of routes in any service: 17\n",
       "* Number of stops in service: 229\n"
      ],
      "text/plain": [
       "<IPython.core.display.Markdown object>"
      ]
     },
     "execution_count": 10,
     "metadata": {},
     "output_type": "execute_result"
    }
   ],
   "source": [
    "Markdown(f\"\"\"\n",
    "Feed location: {status[\"gtfs_schedule_url\"]}\n",
    "\n",
    "Metrics for the most recent published version of the feed:\n",
    "\n",
    "* Date published: {feed_info[\"feed_version\"]}\n",
    "* Number of routes in any service: {feed_info[\"n_routes\"]}\n",
    "* Number of stops in service: {feed_info[\"n_stops\"]}\n",
    "\"\"\")"
   ]
  },
  {
   "cell_type": "markdown",
   "id": "1340c2d6",
   "metadata": {
    "papermill": {
     "duration": 0.024988,
     "end_time": "2021-06-24T22:21:32.766454",
     "exception": false,
     "start_time": "2021-06-24T22:21:32.741466",
     "status": "completed"
    },
    "tags": []
   },
   "source": [
    "## Aggregated Metrics for May"
   ]
  },
  {
   "cell_type": "code",
   "execution_count": 11,
   "id": "ec741b6c",
   "metadata": {
    "execution": {
     "iopub.execute_input": "2021-06-24T22:21:32.839353Z",
     "iopub.status.busy": "2021-06-24T22:21:32.835460Z",
     "iopub.status.idle": "2021-06-24T22:21:32.843594Z",
     "shell.execute_reply": "2021-06-24T22:21:32.842629Z"
    },
    "papermill": {
     "duration": 0.05247,
     "end_time": "2021-06-24T22:21:32.843855",
     "exception": false,
     "start_time": "2021-06-24T22:21:32.791385",
     "status": "completed"
    },
    "tags": []
   },
   "outputs": [
    {
     "data": {
      "text/markdown": [
       "\n",
       "Days with no service hours: 0\n"
      ],
      "text/plain": [
       "<IPython.core.display.Markdown object>"
      ]
     },
     "execution_count": 11,
     "metadata": {},
     "output_type": "execute_result"
    }
   ],
   "source": [
    "# TODO: \n",
    "\n",
    "# Markdown(f\"\"\"\n",
    "# Days when the active feed was expired: {n_expired_days[\"n\"]}\n",
    "# \"\"\")\n",
    "\n",
    "Markdown(f\"\"\"\n",
    "Days with no service hours: {n_expired_days[\"n\"]}\n",
    "\"\"\")\n"
   ]
  },
  {
   "cell_type": "code",
   "execution_count": 12,
   "id": "3dfa1633",
   "metadata": {
    "execution": {
     "iopub.execute_input": "2021-06-24T22:21:32.915497Z",
     "iopub.status.busy": "2021-06-24T22:21:32.914871Z",
     "iopub.status.idle": "2021-06-24T22:21:33.269472Z",
     "shell.execute_reply": "2021-06-24T22:21:33.269896Z"
    },
    "papermill": {
     "duration": 0.404974,
     "end_time": "2021-06-24T22:21:33.270042",
     "exception": false,
     "start_time": "2021-06-24T22:21:32.865068",
     "status": "completed"
    },
    "tags": []
   },
   "outputs": [
    {
     "data": {
      "image/png": "[encoded data removed]",
      "text/plain": [
       "<Figure size 640x480 with 1 Axes>"
      ]
     },
     "metadata": {},
     "output_type": "display_data"
    }
   ],
   "source": [
    "(\n",
    "    tbl_daily_service_hours\n",
    "    >> ggplot(aes(\"service_date\", \"ttl_service_hours2\"))\n",
    "    + geom_line()\n",
    "    + geom_point()\n",
    "    + theme(axis_text_x=element_text(angle=45, hjust=1))\n",
    "    + scale_x_datetime(date_breaks=\"1 week\")\n",
    "    + expand_limits(y=0)\n",
    "    + labs(y = \"Total service hours\", x = \"Service date\", title=\"Service hour per day\")\n",
    ").draw();"
   ]
  },
  {
   "cell_type": "markdown",
   "id": "f5e735b7",
   "metadata": {
    "papermill": {
     "duration": 0.017383,
     "end_time": "2021-06-24T22:21:33.313777",
     "exception": false,
     "start_time": "2021-06-24T22:21:33.296394",
     "status": "completed"
    },
    "tags": []
   },
   "source": [
    "## Changes Since Previous Month"
   ]
  },
  {
   "cell_type": "code",
   "execution_count": 13,
   "id": "73f933d6",
   "metadata": {
    "execution": {
     "iopub.execute_input": "2021-06-24T22:21:33.370955Z",
     "iopub.status.busy": "2021-06-24T22:21:33.370294Z",
     "iopub.status.idle": "2021-06-24T22:21:33.710247Z",
     "shell.execute_reply": "2021-06-24T22:21:33.710665Z"
    },
    "papermill": {
     "duration": 0.377059,
     "end_time": "2021-06-24T22:21:33.710799",
     "exception": false,
     "start_time": "2021-06-24T22:21:33.333740",
     "status": "completed"
    },
    "tags": []
   },
   "outputs": [
    {
     "data": {
      "image/png": "[encoded data removed]",
      "text/plain": [
       "<Figure size 640x480 with 1 Axes>"
      ]
     },
     "metadata": {},
     "output_type": "display_data"
    }
   ],
   "source": [
    "(\n",
    "    pd.concat(\n",
    "        [\n",
    "            tbl_stops_changed >> mutate(kind=\"Stops\"),\n",
    "            tbl_routes_changed >> mutate(kind=\"Routes\"),\n",
    "        ]\n",
    "    )\n",
    "    >> ggplot(aes(\"kind\", \"n\", fill=\"status\"))\n",
    "    + geom_col()\n",
    "    + labs(\n",
    "        x=\"GTFS schedule table\",\n",
    "        y=\"Number of IDs\",\n",
    "        title=f\"IDs Changed Between {START_MONTH_DAY} and {END_MONTH_DAY}\",\n",
    "    )\n",
    ").draw();"
   ]
  },
  {
   "cell_type": "markdown",
   "id": "0c31ffaf",
   "metadata": {
    "papermill": {
     "duration": 0.025602,
     "end_time": "2021-06-24T22:21:33.761663",
     "exception": false,
     "start_time": "2021-06-24T22:21:33.736061",
     "status": "completed"
    },
    "tags": []
   },
   "source": [
    "### (Alternative version using percentages)"
   ]
  },
  {
   "cell_type": "code",
   "execution_count": 14,
   "id": "b573c0e7",
   "metadata": {
    "execution": {
     "iopub.execute_input": "2021-06-24T22:21:33.824818Z",
     "iopub.status.busy": "2021-06-24T22:21:33.809181Z",
     "iopub.status.idle": "2021-06-24T22:21:34.150025Z",
     "shell.execute_reply": "2021-06-24T22:21:34.150453Z"
    },
    "papermill": {
     "duration": 0.364125,
     "end_time": "2021-06-24T22:21:34.150593",
     "exception": false,
     "start_time": "2021-06-24T22:21:33.786468",
     "status": "completed"
    },
    "tags": []
   },
   "outputs": [
    {
     "data": {
      "image/png": "[encoded data removed]",
      "text/plain": [
       "<Figure size 640x480 with 1 Axes>"
      ]
     },
     "metadata": {},
     "output_type": "display_data"
    }
   ],
   "source": [
    "(\n",
    "    pd.concat(\n",
    "        [\n",
    "            tbl_stops_changed >> mutate(kind=\"Stops\"),\n",
    "            tbl_routes_changed >> mutate(kind=\"Routes\"),\n",
    "        ]\n",
    "    )\n",
    "    >> ggplot(aes(\"kind\", \"percent\", fill=\"status\"))\n",
    "    + geom_col()\n",
    "    + labs(\n",
    "        x=\"GTFS schedule table\",\n",
    "        y=\"Percentage of IDs\",\n",
    "        title=f\"IDs Changed Between {START_MONTH_DAY} and {END_MONTH_DAY}\",\n",
    "    )\n",
    "    + scale_y_continuous(labels=percent_format, breaks=np.arange(0, 1.2, 0.2))\n",
    ").draw();"
   ]
  },
  {
   "cell_type": "markdown",
   "id": "20b7737a",
   "metadata": {
    "papermill": {
     "duration": 0.019711,
     "end_time": "2021-06-24T22:21:34.190027",
     "exception": false,
     "start_time": "2021-06-24T22:21:34.170316",
     "status": "completed"
    },
    "tags": []
   },
   "source": [
    "## Consistency with the [California GTFS Minimum Guidelines](https://dot.ca.gov/cal-itp/california-minimum-general-transit-feed-specification-gtfs-guidelines) for the feed downloaded\n"
   ]
  },
  {
   "cell_type": "markdown",
   "id": "423a042a",
   "metadata": {
    "papermill": {
     "duration": 0.022379,
     "end_time": "2021-06-24T22:21:34.233693",
     "exception": false,
     "start_time": "2021-06-24T22:21:34.211314",
     "status": "completed"
    },
    "tags": []
   },
   "source": [
    "### Do the following files/fields exist?"
   ]
  },
  {
   "cell_type": "code",
   "execution_count": 15,
   "id": "10533ee1",
   "metadata": {
    "execution": {
     "iopub.execute_input": "2021-06-24T22:21:34.282717Z",
     "iopub.status.busy": "2021-06-24T22:21:34.282148Z",
     "iopub.status.idle": "2021-06-24T22:21:34.290565Z",
     "shell.execute_reply": "2021-06-24T22:21:34.291035Z"
    },
    "papermill": {
     "duration": 0.036152,
     "end_time": "2021-06-24T22:21:34.291194",
     "exception": false,
     "start_time": "2021-06-24T22:21:34.255042",
     "status": "completed"
    },
    "tags": []
   },
   "outputs": [
    {
     "data": {
      "text/html": [
       "<div>\n",
       "<style scoped>\n",
       "    .dataframe tbody tr th:only-of-type {\n",
       "        vertical-align: middle;\n",
       "    }\n",
       "\n",
       "    .dataframe tbody tr th {\n",
       "        vertical-align: top;\n",
       "    }\n",
       "\n",
       "    .dataframe thead th {\n",
       "        text-align: right;\n",
       "    }\n",
       "</style>\n",
       "<table border=\"1\" class=\"dataframe\">\n",
       "  <thead>\n",
       "    <tr style=\"text-align: right;\">\n",
       "      <th></th>\n",
       "      <th>category</th>\n",
       "      <th>name</th>\n",
       "      <th>2021-05-02</th>\n",
       "      <th>2021-05-16</th>\n",
       "      <th>2021-05-30</th>\n",
       "    </tr>\n",
       "  </thead>\n",
       "  <tbody>\n",
       "    <tr>\n",
       "      <th>5</th>\n",
       "      <td>Visual display</td>\n",
       "      <td>shapes.txt</td>\n",
       "      <td>✅</td>\n",
       "      <td>✅</td>\n",
       "      <td>✅</td>\n",
       "    </tr>\n",
       "    <tr>\n",
       "      <th>3</th>\n",
       "      <td>Navigation</td>\n",
       "      <td>levels.txt</td>\n",
       "      <td></td>\n",
       "      <td></td>\n",
       "      <td></td>\n",
       "    </tr>\n",
       "    <tr>\n",
       "      <th>4</th>\n",
       "      <td>Navigation</td>\n",
       "      <td>pathways.txt</td>\n",
       "      <td></td>\n",
       "      <td></td>\n",
       "      <td></td>\n",
       "    </tr>\n",
       "    <tr>\n",
       "      <th>0</th>\n",
       "      <td>Fares</td>\n",
       "      <td>fare_leg_rules</td>\n",
       "      <td></td>\n",
       "      <td></td>\n",
       "      <td></td>\n",
       "    </tr>\n",
       "    <tr>\n",
       "      <th>1</th>\n",
       "      <td>Fares</td>\n",
       "      <td>fare_rules.txt</td>\n",
       "      <td>✅</td>\n",
       "      <td>✅</td>\n",
       "      <td>✅</td>\n",
       "    </tr>\n",
       "    <tr>\n",
       "      <th>2</th>\n",
       "      <td>Technical contacts</td>\n",
       "      <td>feed_info.txt</td>\n",
       "      <td>✅</td>\n",
       "      <td>✅</td>\n",
       "      <td>✅</td>\n",
       "    </tr>\n",
       "  </tbody>\n",
       "</table>\n",
       "</div>"
      ],
      "text/plain": [
       "             category            name 2021-05-02 2021-05-16 2021-05-30\n",
       "5      Visual display      shapes.txt          ✅          ✅          ✅\n",
       "3          Navigation      levels.txt                                 \n",
       "4          Navigation    pathways.txt                                 \n",
       "0               Fares  fare_leg_rules                                 \n",
       "1               Fares  fare_rules.txt          ✅          ✅          ✅\n",
       "2  Technical contacts   feed_info.txt          ✅          ✅          ✅"
      ]
     },
     "execution_count": 15,
     "metadata": {},
     "output_type": "execute_result"
    }
   ],
   "source": [
    "tbl_file_check"
   ]
  },
  {
   "cell_type": "markdown",
   "id": "aadc3f20",
   "metadata": {
    "papermill": {
     "duration": 0.025679,
     "end_time": "2021-06-24T22:21:34.344148",
     "exception": false,
     "start_time": "2021-06-24T22:21:34.318469",
     "status": "completed"
    },
    "tags": []
   },
   "source": [
    "### Validation Errors Observed"
   ]
  },
  {
   "cell_type": "code",
   "execution_count": 16,
   "id": "ac4d7623",
   "metadata": {
    "execution": {
     "iopub.execute_input": "2021-06-24T22:21:34.392418Z",
     "iopub.status.busy": "2021-06-24T22:21:34.391526Z",
     "iopub.status.idle": "2021-06-24T22:21:34.395567Z",
     "shell.execute_reply": "2021-06-24T22:21:34.396017Z"
    },
    "papermill": {
     "duration": 0.030352,
     "end_time": "2021-06-24T22:21:34.396183",
     "exception": false,
     "start_time": "2021-06-24T22:21:34.365831",
     "status": "completed"
    },
    "tags": []
   },
   "outputs": [
    {
     "data": {
      "text/markdown": [
       "No validation error observed in your feed."
      ],
      "text/plain": [
       "<IPython.core.display.Markdown object>"
      ]
     },
     "metadata": {},
     "output_type": "display_data"
    }
   ],
   "source": [
    "if tbl_validation_notices.shape[0] == 0:\n",
    "    display(Markdown(\"No validation error observed in your feed.\"))\n",
    "else:    \n",
    "    display(tbl_validation_notices)"
   ]
  },
  {
   "cell_type": "markdown",
   "id": "cbb3ee40",
   "metadata": {
    "papermill": {
     "duration": 0.020927,
     "end_time": "2021-06-24T22:21:34.440990",
     "exception": false,
     "start_time": "2021-06-24T22:21:34.420063",
     "status": "completed"
    },
    "tags": []
   },
   "source": [
    "For more information about Cal-ITP, including the [Minimum GTFS Guidelines](https://dot.ca.gov/cal-itp/california-minimum-general-transit-feed-specification-gtfs-guidelines) and our [Transit Data Helpdesk](https://dot.ca.gov/programs/rail-and-mass-transportation/gtfs/helpdesk), contact [GTFSRT@dot.ca.gov](mailto:GTFSRT@dot.ca.gov)."
   ]
  }
 ],
 "metadata": {
  "kernelspec": {
   "display_name": "venv-calitp-py",
   "language": "python",
   "name": "venv-calitp-py"
  },
  "language_info": {
   "codemirror_mode": {
    "name": "ipython",
    "version": 3
   },
   "file_extension": ".py",
   "mimetype": "text/x-python",
   "name": "python",
   "nbconvert_exporter": "python",
   "pygments_lexer": "ipython3",
   "version": "3.8.5"
  },
  "papermill": {
   "default_parameters": {},
   "duration": 41.281044,
   "end_time": "2021-06-24T22:21:36.014498",
   "environment_variables": {},
   "exception": null,
   "input_path": "report.ipynb",
   "output_path": "output/368/report.ipynb",
   "parameters": {
    "CALITP_ITP_ID": 368,
    "CALITP_URL_NUMBER": 0,
    "DEBUG": false,
    "END_DATE": "2021-06-01",
    "START_DATE": "2021-05-01"
   },
   "start_time": "2021-06-24T22:20:54.733454",
   "version": "2.3.3"
  }
 },
 "nbformat": 4,
 "nbformat_minor": 5
}