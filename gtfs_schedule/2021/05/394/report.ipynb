{
 "cells": [
  {
   "cell_type": "markdown",
   "id": "e06be789",
   "metadata": {
    "papermill": {
     "duration": 0.02095,
     "end_time": "2021-06-24T22:21:26.138973",
     "exception": false,
     "start_time": "2021-06-24T22:21:26.118023",
     "status": "completed"
    },
    "tags": [
     "hide"
    ]
   },
   "source": [
    "# Setup"
   ]
  },
  {
   "cell_type": "code",
   "execution_count": 1,
   "id": "4c6fb1db",
   "metadata": {
    "execution": {
     "iopub.execute_input": "2021-06-24T22:21:26.179878Z",
     "iopub.status.busy": "2021-06-24T22:21:26.178875Z",
     "iopub.status.idle": "2021-06-24T22:21:32.607669Z",
     "shell.execute_reply": "2021-06-24T22:21:32.608077Z"
    },
    "papermill": {
     "duration": 6.452566,
     "end_time": "2021-06-24T22:21:32.608269",
     "exception": false,
     "start_time": "2021-06-24T22:21:26.155703",
     "status": "completed"
    },
    "tags": [
     "hide"
    ]
   },
   "outputs": [],
   "source": [
    "import pandas as pd\n",
    "import numpy as np\n",
    "import warnings\n",
    "\n",
    "from io import StringIO\n",
    "from calitp.tables import tbl\n",
    "from datetime import date, datetime\n",
    "from siuba import *\n",
    "from plotnine import *\n",
    "\n",
    "def friendly_date(x): \n",
    "    return datetime.strptime(x, \"%Y-%m-%d\").strftime(\"%b %d\")"
   ]
  },
  {
   "cell_type": "code",
   "execution_count": 2,
   "id": "0fde339f",
   "metadata": {
    "execution": {
     "iopub.execute_input": "2021-06-24T22:21:32.645495Z",
     "iopub.status.busy": "2021-06-24T22:21:32.644829Z",
     "iopub.status.idle": "2021-06-24T22:21:32.647681Z",
     "shell.execute_reply": "2021-06-24T22:21:32.648159Z"
    },
    "papermill": {
     "duration": 0.024876,
     "end_time": "2021-06-24T22:21:32.648300",
     "exception": false,
     "start_time": "2021-06-24T22:21:32.623424",
     "status": "completed"
    },
    "tags": [
     "parameters",
     "hide"
    ]
   },
   "outputs": [],
   "source": [
    "CALITP_ITP_ID = 98\n",
    "#CALITP_ITP_ID=45\n",
    "CALITP_URL_NUMBER = 0\n",
    "DEBUG = False\n",
    "\n",
    "START_DATE = \"2021-05-01\"\n",
    "END_DATE = \"2021-06-01\"\n",
    "DATE_TODAY=date.today()\n",
    "START_MONTH_DAY = friendly_date(START_DATE)\n",
    "END_MONTH_DAY = friendly_date(END_DATE)\n",
    "\n",
    "WEEK_MARKERS = pd.date_range(START_DATE, END_DATE, freq=\"W\").astype(str).tolist()\n",
    "BIWEEKLY_MARKERS = pd.date_range(START_DATE, END_DATE, freq=\"2W\").astype(str).tolist()"
   ]
  },
  {
   "cell_type": "code",
   "execution_count": 3,
   "id": "339d4b40",
   "metadata": {
    "execution": {
     "iopub.execute_input": "2021-06-24T22:21:32.692850Z",
     "iopub.status.busy": "2021-06-24T22:21:32.691792Z",
     "iopub.status.idle": "2021-06-24T22:21:32.694868Z",
     "shell.execute_reply": "2021-06-24T22:21:32.694414Z"
    },
    "papermill": {
     "duration": 0.030327,
     "end_time": "2021-06-24T22:21:32.694988",
     "exception": false,
     "start_time": "2021-06-24T22:21:32.664661",
     "status": "completed"
    },
    "tags": [
     "injected-parameters"
    ]
   },
   "outputs": [],
   "source": [
    "# Parameters\n",
    "CALITP_ITP_ID = 394\n",
    "CALITP_URL_NUMBER = 0\n",
    "DEBUG = False\n",
    "START_DATE = \"2021-05-01\"\n",
    "END_DATE = \"2021-06-01\"\n"
   ]
  },
  {
   "cell_type": "code",
   "execution_count": 4,
   "id": "1f00365e",
   "metadata": {
    "execution": {
     "iopub.execute_input": "2021-06-24T22:21:32.751143Z",
     "iopub.status.busy": "2021-06-24T22:21:32.749777Z",
     "iopub.status.idle": "2021-06-24T22:21:32.753623Z",
     "shell.execute_reply": "2021-06-24T22:21:32.754463Z"
    },
    "papermill": {
     "duration": 0.037269,
     "end_time": "2021-06-24T22:21:32.754692",
     "exception": false,
     "start_time": "2021-06-24T22:21:32.717423",
     "status": "completed"
    },
    "tags": [
     "hide"
    ]
   },
   "outputs": [],
   "source": [
    "if not DEBUG:\n",
    "    warnings.filterwarnings(\"ignore\")"
   ]
  },
  {
   "cell_type": "code",
   "execution_count": 5,
   "id": "d5842585",
   "metadata": {
    "execution": {
     "iopub.execute_input": "2021-06-24T22:21:32.807978Z",
     "iopub.status.busy": "2021-06-24T22:21:32.799274Z",
     "iopub.status.idle": "2021-06-24T22:21:32.811074Z",
     "shell.execute_reply": "2021-06-24T22:21:32.811848Z"
    },
    "papermill": {
     "duration": 0.040276,
     "end_time": "2021-06-24T22:21:32.812084",
     "exception": false,
     "start_time": "2021-06-24T22:21:32.771808",
     "status": "completed"
    },
    "tags": [
     "hide"
    ]
   },
   "outputs": [],
   "source": [
    "# Convenience functions ----\n",
    "\n",
    "filter_start = filter(\n",
    "    _.calitp_extracted_at <= START_DATE,\n",
    "    _.calitp_deleted_at.fillna(\"2099-01-01\") > START_DATE,\n",
    ")\n",
    "\n",
    "filter_end = filter(\n",
    "    _.calitp_extracted_at <= END_DATE,\n",
    "    _.calitp_deleted_at.fillna(\"2099-01-01\") > END_DATE,\n",
    ")\n",
    "\n",
    "filter_itp = filter(\n",
    "    _.calitp_itp_id == CALITP_ITP_ID, _.calitp_url_number == CALITP_URL_NUMBER\n",
    ")\n",
    "\n",
    "collect_to_dict = (\n",
    "    collect()\n",
    "    >> pipe(_.to_dict(orient=\"records\")[0])\n",
    ")\n",
    "\n",
    "\n",
    "select_rm_calitp = select(\n",
    "    -_.calitp_itp_id,\n",
    "    -_.calitp_url_number,\n",
    "    -_.calitp_hash,\n",
    "    -_.calitp_extracted_at,\n",
    "    -_.calitp_deleted_at,\n",
    ")\n",
    "\n",
    "def percent_format(labels):\n",
    "    return [\"{:.0f}%\".format(v*100) for v in labels]\n",
    "\n",
    "def query_id_changes(start_table, end_table, id_vars):\n",
    "    \"\"\"Calculate id variables that are removed, added, or unchanged between tables.\n",
    "    \n",
    "    It works by adding a special column to each table, performing a full join,\n",
    "    then checking where the special column is null.\n",
    "    \"\"\"\n",
    "    sym_id_vars = [_[k] for k in id_vars]\n",
    "\n",
    "    is_in_start = start_table >> select(*id_vars) >> mutate(is_in_start=True)\n",
    "    is_in_end = end_table >> select(*id_vars) >> mutate(is_in_end=True)\n",
    "\n",
    "    baseline = start_table >> count(*id_vars) >> rename(n_baseline=\"n\")\n",
    "    tallies = (\n",
    "        is_in_start\n",
    "        >> full_join(_, is_in_end, id_vars)\n",
    "        >> count(*sym_id_vars, _.is_in_start, _.is_in_end)\n",
    "        >> mutate(\n",
    "            status=case_when(\n",
    "                _,\n",
    "                {\n",
    "                    _.is_in_end.isna(): \"Removed\",\n",
    "                    _.is_in_start.isna(): \"Added\",\n",
    "                    True: \"Unchanged\",\n",
    "                },\n",
    "            )\n",
    "        )\n",
    "        >> count(*sym_id_vars[:-1], _.status)\n",
    "        >> group_by(*sym_id_vars[:-1])\n",
    "        >> mutate(percent=_.n / _.n.sum())\n",
    "    )\n",
    "\n",
    "    return tallies"
   ]
  },
  {
   "cell_type": "code",
   "execution_count": 6,
   "id": "a7b667e7",
   "metadata": {
    "execution": {
     "iopub.execute_input": "2021-06-24T22:21:32.871135Z",
     "iopub.status.busy": "2021-06-24T22:21:32.864218Z",
     "iopub.status.idle": "2021-06-24T22:21:54.237141Z",
     "shell.execute_reply": "2021-06-24T22:21:54.237581Z"
    },
    "papermill": {
     "duration": 21.396737,
     "end_time": "2021-06-24T22:21:54.237720",
     "exception": false,
     "start_time": "2021-06-24T22:21:32.840983",
     "status": "completed"
    },
    "tags": [
     "hide"
    ]
   },
   "outputs": [],
   "source": [
    "# Data ====\n",
    "# 1. High level feed info ----\n",
    "feed_info = (\n",
    "    tbl.gtfs_schedule_type2.feed_info()\n",
    "    >> filter_end\n",
    "    >> filter_itp\n",
    "    >> select_rm_calitp\n",
    "    >> collect_to_dict\n",
    ")\n",
    "\n",
    "_n_routes = (\n",
    "    tbl.gtfs_schedule_type2.routes() >> filter_end >> filter_itp >> count() >> collect()\n",
    ")\n",
    "_n_stops = (\n",
    "    tbl.gtfs_schedule_type2.stops() >> filter_end >> filter_itp >> count() >> collect()\n",
    ")\n",
    "\n",
    "feed_info[\"n_routes\"] = int(_n_routes.loc[0, \"n\"])\n",
    "feed_info[\"n_stops\"] = int(_n_stops.loc[0, \"n\"])\n",
    "\n",
    "status = (\n",
    "    tbl.views.gtfs_status_latest()\n",
    "    >> filter(_.itp_id == CALITP_ITP_ID, _.url_number == CALITP_URL_NUMBER)\n",
    "    >> select(-_.url_number, -_.status)\n",
    "    >> select_rm_calitp\n",
    "    >> collect_to_dict\n",
    ")\n",
    "\n",
    "# 2. Monthly metrics ----\n",
    "# Service hours per day. Note that the queried table calculates service\n",
    "# hours per service id, so we need to sum across service ids for the day\n",
    "_cross_cal = (\n",
    "    tbl.views.dim_date()\n",
    "    >> filter(_.full_date.between(START_DATE, END_DATE))\n",
    "    >> select(_.service_date == _.full_date)\n",
    ")\n",
    "\n",
    "tbl_daily_service_hours = (\n",
    "    tbl.views.gtfs_schedule_service_daily_metrics()\n",
    "    >> filter_itp\n",
    "    >> filter(_.service_date.between(START_DATE, END_DATE))\n",
    "    >> right_join(_, _cross_cal, [\"service_date\"])\n",
    "    >> collect()\n",
    "    >> group_by(_.service_date)\n",
    "    >> summarize(\n",
    "        ttl_service_hours=(_.last_arrival_ts.max() - _.first_departure_ts.min()) / 3600,\n",
    "        ttl_service_hours2=_.ttl_service_hours.sum(),\n",
    "    )\n",
    "    >> mutate(\n",
    "        ttl_service_hours=_.ttl_service_hours.astype(float).round(2),\n",
    "        service_date=_.service_date.astype(\"datetime64[ns]\"),\n",
    "    )\n",
    ")\n",
    "\n",
    "# number of days where a feed did not have any trips in service\n",
    "n_expired_days = (\n",
    "    tbl_daily_service_hours\n",
    "    >> filter(_.ttl_service_hours.isna())\n",
    "    >> pipe(lambda d: {\"n\": d.shape[0]})\n",
    ")\n",
    "\n",
    "# 3. Stop and Route ID Changes ----\n",
    "\n",
    "_tbl_stops_start = tbl.gtfs_schedule_type2.stops() >> filter_itp >> filter_start\n",
    "_tbl_stops_end = tbl.gtfs_schedule_type2.stops() >> filter_itp >> filter_end\n",
    "tbl_stops_changed = (\n",
    "    query_id_changes(_tbl_stops_start, _tbl_stops_end, [\"stop_id\"]) >> collect()\n",
    ")\n",
    "\n",
    "_tbl_routes_start = tbl.gtfs_schedule_type2.routes() >> filter_itp >> filter_start\n",
    "_tbl_routes_end = tbl.gtfs_schedule_type2.routes() >> filter_itp >> filter_end\n",
    "tbl_routes_changed = (\n",
    "    query_id_changes(_tbl_routes_start, _tbl_routes_end, [\"route_id\"]) >> collect()\n",
    ")"
   ]
  },
  {
   "cell_type": "code",
   "execution_count": 7,
   "id": "fea5addb",
   "metadata": {
    "execution": {
     "iopub.execute_input": "2021-06-24T22:21:54.275918Z",
     "iopub.status.busy": "2021-06-24T22:21:54.275331Z",
     "iopub.status.idle": "2021-06-24T22:21:59.378479Z",
     "shell.execute_reply": "2021-06-24T22:21:59.377832Z"
    },
    "papermill": {
     "duration": 5.125294,
     "end_time": "2021-06-24T22:21:59.378660",
     "exception": false,
     "start_time": "2021-06-24T22:21:54.253366",
     "status": "completed"
    },
    "tags": [
     "hide"
    ]
   },
   "outputs": [],
   "source": [
    "# 4. Feed files being checked for ----\n",
    "\n",
    "file_categories = pd.DataFrame(\n",
    "    {\n",
    "        \"shapes.txt\": \"Visual display\",\n",
    "        \"pathways.txt\": \"Navigation\",\n",
    "        \"levels.txt\": \"Navigation\",\n",
    "        \"fare_rules.txt\": \"Fares\",\n",
    "        \"fare_leg_rules\": \"Fares\",\n",
    "        \"feed_info.txt\": \"Technical contacts\",\n",
    "    }.items(),\n",
    "    columns=[\"name\", \"category\"],\n",
    ")\n",
    "\n",
    "importance = [\"Visual display\", \"Navigation\", \"Fares\", \"Technical contacts\"]\n",
    "\n",
    "tbl_file_check = (\n",
    "    tbl.gtfs_schedule_history.calitp_files_updates()\n",
    "    >> filter_itp\n",
    "    >> filter(_.calitp_extracted_at.isin(BIWEEKLY_MARKERS))\n",
    "    >> select(_.name, _.calitp_extracted_at)\n",
    "    >> collect()\n",
    "    >> right_join(_, file_categories, [\"name\"])\n",
    "    >> mutate(\n",
    "        calitp_extracted_at=_.calitp_extracted_at.fillna(\"missing\").astype(str),\n",
    "        success=\"✅\",\n",
    "    )\n",
    "    >> spread(_.calitp_extracted_at, _.success)\n",
    "    >> select(-_.missing)\n",
    "    >> arrange(_.category.apply(importance.index))\n",
    "    >> select(_.category, _.contains(\"\"))\n",
    "    >> pipe(_.fillna(\"\"))\n",
    ")\n",
    "\n",
    "tbl_validation_notices = (\n",
    "    tbl.views.validation_notices()\n",
    "    >> filter_itp\n",
    "    >> filter(_.severity == \"ERROR\")\n",
    "    >> count(_.code, _.severity)\n",
    "    >> collect()\n",
    ")"
   ]
  },
  {
   "cell_type": "markdown",
   "id": "430755f7",
   "metadata": {
    "papermill": {
     "duration": 0.014603,
     "end_time": "2021-06-24T22:21:59.408576",
     "exception": false,
     "start_time": "2021-06-24T22:21:59.393973",
     "status": "completed"
    },
    "tags": [
     "hide"
    ]
   },
   "source": [
    "## Dump data"
   ]
  },
  {
   "cell_type": "code",
   "execution_count": 8,
   "id": "223d6814",
   "metadata": {
    "execution": {
     "iopub.execute_input": "2021-06-24T22:21:59.443209Z",
     "iopub.status.busy": "2021-06-24T22:21:59.442597Z",
     "iopub.status.idle": "2021-06-24T22:21:59.452805Z",
     "shell.execute_reply": "2021-06-24T22:21:59.453212Z"
    },
    "papermill": {
     "duration": 0.030363,
     "end_time": "2021-06-24T22:21:59.453344",
     "exception": false,
     "start_time": "2021-06-24T22:21:59.422981",
     "status": "completed"
    },
    "tags": [
     "hide"
    ]
   },
   "outputs": [],
   "source": [
    "import json\n",
    "import shutil\n",
    "\n",
    "from pathlib import Path\n",
    "\n",
    "out_dir = Path(f\"output/{CALITP_ITP_ID}_{CALITP_URL_NUMBER}/data\")\n",
    "out_dir.mkdir(parents=True, exist_ok=True)\n",
    "\n",
    "json.dump(feed_info, open(out_dir / \"1_feed_info.json\", \"w\"))\n",
    "json.dump(status, open(out_dir / \"1_status.json\", \"w\"))\n",
    "\n",
    "tbl_daily_service_hours.to_json(out_dir / \"2_daily_service_hours.json\", orient=\"records\")\n",
    "json.dump(n_expired_days, open(out_dir / \"2_n_expired_days.json\", \"w\"))\n",
    "\n",
    "tbl_stops_changed.to_json(out_dir / \"3_stops_changed.json\", orient=\"records\")\n",
    "tbl_routes_changed.to_json(out_dir / \"3_routes_changed.json\", orient=\"records\")\n",
    "tbl_file_check.to_json(out_dir / \"4_file_check.json\", orient=\"records\")\n",
    "tbl_validation_notices.to_json(out_dir / \"4_validation_notices.json\", orient=\"records\")\n"
   ]
  },
  {
   "cell_type": "markdown",
   "id": "4136176d",
   "metadata": {
    "papermill": {
     "duration": 0.014919,
     "end_time": "2021-06-24T22:21:59.482877",
     "exception": false,
     "start_time": "2021-06-24T22:21:59.467958",
     "status": "completed"
    },
    "tags": []
   },
   "source": [
    "# Monthly GTFS Quality Report"
   ]
  },
  {
   "cell_type": "code",
   "execution_count": 9,
   "id": "049f3547",
   "metadata": {
    "execution": {
     "iopub.execute_input": "2021-06-24T22:21:59.518871Z",
     "iopub.status.busy": "2021-06-24T22:21:59.518085Z",
     "iopub.status.idle": "2021-06-24T22:21:59.521749Z",
     "shell.execute_reply": "2021-06-24T22:21:59.522165Z"
    },
    "papermill": {
     "duration": 0.024472,
     "end_time": "2021-06-24T22:21:59.522300",
     "exception": false,
     "start_time": "2021-06-24T22:21:59.497828",
     "status": "completed"
    },
    "tags": []
   },
   "outputs": [
    {
     "data": {
      "text/markdown": [
       "\n",
       "Transit provider name: Trillium Solutions, Inc.\n",
       "\n",
       "Date generated: 2021-06-24\n"
      ],
      "text/plain": [
       "<IPython.core.display.Markdown object>"
      ]
     },
     "execution_count": 9,
     "metadata": {},
     "output_type": "execute_result"
    }
   ],
   "source": [
    "from IPython.display import Markdown\n",
    "\n",
    "Markdown(f\"\"\"\n",
    "Transit provider name: {feed_info[\"feed_publisher_name\"]}\n",
    "\n",
    "Date generated: {DATE_TODAY}\n",
    "\"\"\")"
   ]
  },
  {
   "cell_type": "markdown",
   "id": "a8cc192b",
   "metadata": {
    "papermill": {
     "duration": 0.015795,
     "end_time": "2021-06-24T22:21:59.555172",
     "exception": false,
     "start_time": "2021-06-24T22:21:59.539377",
     "status": "completed"
    },
    "tags": []
   },
   "source": [
    "This is a monthly report, generated by the California Integrated Travel Project ([Cal-ITP](https://dot.ca.gov/cal-itp/cal-itp-gtfs)), summarizing issues discovered by [MobilityData](http://mobilitydata.io/)’s [GTFS Validator](https://github.com/MobilityData/gtfs-validator). This report is available for viewing by the general public to support continuous improvement of GTFS data and the experience of transit passengers. "
   ]
  },
  {
   "cell_type": "markdown",
   "id": "c3432bce",
   "metadata": {
    "papermill": {
     "duration": 0.016947,
     "end_time": "2021-06-24T22:21:59.588990",
     "exception": false,
     "start_time": "2021-06-24T22:21:59.572043",
     "status": "completed"
    },
    "tags": []
   },
   "source": [
    "## Overview"
   ]
  },
  {
   "cell_type": "code",
   "execution_count": 10,
   "id": "0941bf4e",
   "metadata": {
    "execution": {
     "iopub.execute_input": "2021-06-24T22:21:59.626175Z",
     "iopub.status.busy": "2021-06-24T22:21:59.625440Z",
     "iopub.status.idle": "2021-06-24T22:21:59.628560Z",
     "shell.execute_reply": "2021-06-24T22:21:59.629041Z"
    },
    "papermill": {
     "duration": 0.024143,
     "end_time": "2021-06-24T22:21:59.629184",
     "exception": false,
     "start_time": "2021-06-24T22:21:59.605041",
     "status": "completed"
    },
    "tags": []
   },
   "outputs": [
    {
     "data": {
      "text/markdown": [
       "\n",
       "Feed location: http://data.trilliumtransit.com/gtfs/sanjuancapistrano-ca-us/sanjuancapistrano-ca-us.zip\n",
       "\n",
       "Metrics for the most recent published version of the feed:\n",
       "\n",
       "* Date published: UTC: 12-Mar-2021 19:00\n",
       "* Number of routes in any service: 2\n",
       "* Number of stops in service: 19\n"
      ],
      "text/plain": [
       "<IPython.core.display.Markdown object>"
      ]
     },
     "execution_count": 10,
     "metadata": {},
     "output_type": "execute_result"
    }
   ],
   "source": [
    "Markdown(f\"\"\"\n",
    "Feed location: {status[\"gtfs_schedule_url\"]}\n",
    "\n",
    "Metrics for the most recent published version of the feed:\n",
    "\n",
    "* Date published: {feed_info[\"feed_version\"]}\n",
    "* Number of routes in any service: {feed_info[\"n_routes\"]}\n",
    "* Number of stops in service: {feed_info[\"n_stops\"]}\n",
    "\"\"\")"
   ]
  },
  {
   "cell_type": "markdown",
   "id": "fae6313d",
   "metadata": {
    "papermill": {
     "duration": 0.018368,
     "end_time": "2021-06-24T22:21:59.663197",
     "exception": false,
     "start_time": "2021-06-24T22:21:59.644829",
     "status": "completed"
    },
    "tags": []
   },
   "source": [
    "## Aggregated Metrics for May"
   ]
  },
  {
   "cell_type": "code",
   "execution_count": 11,
   "id": "db1ea405",
   "metadata": {
    "execution": {
     "iopub.execute_input": "2021-06-24T22:21:59.698961Z",
     "iopub.status.busy": "2021-06-24T22:21:59.698296Z",
     "iopub.status.idle": "2021-06-24T22:21:59.702010Z",
     "shell.execute_reply": "2021-06-24T22:21:59.701431Z"
    },
    "papermill": {
     "duration": 0.023033,
     "end_time": "2021-06-24T22:21:59.702129",
     "exception": false,
     "start_time": "2021-06-24T22:21:59.679096",
     "status": "completed"
    },
    "tags": []
   },
   "outputs": [
    {
     "data": {
      "text/markdown": [
       "\n",
       "Days with no service hours: 32\n"
      ],
      "text/plain": [
       "<IPython.core.display.Markdown object>"
      ]
     },
     "execution_count": 11,
     "metadata": {},
     "output_type": "execute_result"
    }
   ],
   "source": [
    "# TODO: \n",
    "\n",
    "# Markdown(f\"\"\"\n",
    "# Days when the active feed was expired: {n_expired_days[\"n\"]}\n",
    "# \"\"\")\n",
    "\n",
    "Markdown(f\"\"\"\n",
    "Days with no service hours: {n_expired_days[\"n\"]}\n",
    "\"\"\")\n"
   ]
  },
  {
   "cell_type": "code",
   "execution_count": 12,
   "id": "164533b8",
   "metadata": {
    "execution": {
     "iopub.execute_input": "2021-06-24T22:21:59.761276Z",
     "iopub.status.busy": "2021-06-24T22:21:59.751380Z",
     "iopub.status.idle": "2021-06-24T22:22:00.108988Z",
     "shell.execute_reply": "2021-06-24T22:22:00.108519Z"
    },
    "papermill": {
     "duration": 0.39072,
     "end_time": "2021-06-24T22:22:00.109103",
     "exception": false,
     "start_time": "2021-06-24T22:21:59.718383",
     "status": "completed"
    },
    "tags": []
   },
   "outputs": [
    {
     "data": {
      "image/png": "[encoded data removed]",
      "text/plain": [
       "<Figure size 640x480 with 1 Axes>"
      ]
     },
     "metadata": {},
     "output_type": "display_data"
    }
   ],
   "source": [
    "(\n",
    "    tbl_daily_service_hours\n",
    "    >> ggplot(aes(\"service_date\", \"ttl_service_hours2\"))\n",
    "    + geom_line()\n",
    "    + geom_point()\n",
    "    + theme(axis_text_x=element_text(angle=45, hjust=1))\n",
    "    + scale_x_datetime(date_breaks=\"1 week\")\n",
    "    + expand_limits(y=0)\n",
    "    + labs(y = \"Total service hours\", x = \"Service date\", title=\"Service hour per day\")\n",
    ").draw();"
   ]
  },
  {
   "cell_type": "markdown",
   "id": "f16dc2cb",
   "metadata": {
    "papermill": {
     "duration": 0.019205,
     "end_time": "2021-06-24T22:22:00.145221",
     "exception": false,
     "start_time": "2021-06-24T22:22:00.126016",
     "status": "completed"
    },
    "tags": []
   },
   "source": [
    "## Changes Since Previous Month"
   ]
  },
  {
   "cell_type": "code",
   "execution_count": 13,
   "id": "86e43f19",
   "metadata": {
    "execution": {
     "iopub.execute_input": "2021-06-24T22:22:00.203859Z",
     "iopub.status.busy": "2021-06-24T22:22:00.203121Z",
     "iopub.status.idle": "2021-06-24T22:22:00.439477Z",
     "shell.execute_reply": "2021-06-24T22:22:00.439000Z"
    },
    "papermill": {
     "duration": 0.276255,
     "end_time": "2021-06-24T22:22:00.439583",
     "exception": false,
     "start_time": "2021-06-24T22:22:00.163328",
     "status": "completed"
    },
    "tags": []
   },
   "outputs": [
    {
     "data": {
      "image/png": "[encoded data removed]",
      "text/plain": [
       "<Figure size 640x480 with 1 Axes>"
      ]
     },
     "metadata": {},
     "output_type": "display_data"
    }
   ],
   "source": [
    "(\n",
    "    pd.concat(\n",
    "        [\n",
    "            tbl_stops_changed >> mutate(kind=\"Stops\"),\n",
    "            tbl_routes_changed >> mutate(kind=\"Routes\"),\n",
    "        ]\n",
    "    )\n",
    "    >> ggplot(aes(\"kind\", \"n\", fill=\"status\"))\n",
    "    + geom_col()\n",
    "    + labs(\n",
    "        x=\"GTFS schedule table\",\n",
    "        y=\"Number of IDs\",\n",
    "        title=f\"IDs Changed Between {START_MONTH_DAY} and {END_MONTH_DAY}\",\n",
    "    )\n",
    ").draw();"
   ]
  },
  {
   "cell_type": "markdown",
   "id": "92dfc852",
   "metadata": {
    "papermill": {
     "duration": 0.018069,
     "end_time": "2021-06-24T22:22:00.475273",
     "exception": false,
     "start_time": "2021-06-24T22:22:00.457204",
     "status": "completed"
    },
    "tags": []
   },
   "source": [
    "### (Alternative version using percentages)"
   ]
  },
  {
   "cell_type": "code",
   "execution_count": 14,
   "id": "0cd95492",
   "metadata": {
    "execution": {
     "iopub.execute_input": "2021-06-24T22:22:00.565485Z",
     "iopub.status.busy": "2021-06-24T22:22:00.552603Z",
     "iopub.status.idle": "2021-06-24T22:22:00.799191Z",
     "shell.execute_reply": "2021-06-24T22:22:00.799683Z"
    },
    "papermill": {
     "duration": 0.306139,
     "end_time": "2021-06-24T22:22:00.799868",
     "exception": false,
     "start_time": "2021-06-24T22:22:00.493729",
     "status": "completed"
    },
    "tags": []
   },
   "outputs": [
    {
     "data": {
      "image/png": "[encoded data removed]",
      "text/plain": [
       "<Figure size 640x480 with 1 Axes>"
      ]
     },
     "metadata": {},
     "output_type": "display_data"
    }
   ],
   "source": [
    "(\n",
    "    pd.concat(\n",
    "        [\n",
    "            tbl_stops_changed >> mutate(kind=\"Stops\"),\n",
    "            tbl_routes_changed >> mutate(kind=\"Routes\"),\n",
    "        ]\n",
    "    )\n",
    "    >> ggplot(aes(\"kind\", \"percent\", fill=\"status\"))\n",
    "    + geom_col()\n",
    "    + labs(\n",
    "        x=\"GTFS schedule table\",\n",
    "        y=\"Percentage of IDs\",\n",
    "        title=f\"IDs Changed Between {START_MONTH_DAY} and {END_MONTH_DAY}\",\n",
    "    )\n",
    "    + scale_y_continuous(labels=percent_format, breaks=np.arange(0, 1.2, 0.2))\n",
    ").draw();"
   ]
  },
  {
   "cell_type": "markdown",
   "id": "38c9ef2e",
   "metadata": {
    "papermill": {
     "duration": 0.019247,
     "end_time": "2021-06-24T22:22:00.840152",
     "exception": false,
     "start_time": "2021-06-24T22:22:00.820905",
     "status": "completed"
    },
    "tags": []
   },
   "source": [
    "## Consistency with the [California GTFS Minimum Guidelines](https://dot.ca.gov/cal-itp/california-minimum-general-transit-feed-specification-gtfs-guidelines) for the feed downloaded\n"
   ]
  },
  {
   "cell_type": "markdown",
   "id": "b6796102",
   "metadata": {
    "papermill": {
     "duration": 0.021368,
     "end_time": "2021-06-24T22:22:00.880545",
     "exception": false,
     "start_time": "2021-06-24T22:22:00.859177",
     "status": "completed"
    },
    "tags": []
   },
   "source": [
    "### Do the following files/fields exist?"
   ]
  },
  {
   "cell_type": "code",
   "execution_count": 15,
   "id": "213bf7f5",
   "metadata": {
    "execution": {
     "iopub.execute_input": "2021-06-24T22:22:00.926955Z",
     "iopub.status.busy": "2021-06-24T22:22:00.926278Z",
     "iopub.status.idle": "2021-06-24T22:22:00.934737Z",
     "shell.execute_reply": "2021-06-24T22:22:00.934191Z"
    },
    "papermill": {
     "duration": 0.03566,
     "end_time": "2021-06-24T22:22:00.934863",
     "exception": false,
     "start_time": "2021-06-24T22:22:00.899203",
     "status": "completed"
    },
    "tags": []
   },
   "outputs": [
    {
     "data": {
      "text/html": [
       "<div>\n",
       "<style scoped>\n",
       "    .dataframe tbody tr th:only-of-type {\n",
       "        vertical-align: middle;\n",
       "    }\n",
       "\n",
       "    .dataframe tbody tr th {\n",
       "        vertical-align: top;\n",
       "    }\n",
       "\n",
       "    .dataframe thead th {\n",
       "        text-align: right;\n",
       "    }\n",
       "</style>\n",
       "<table border=\"1\" class=\"dataframe\">\n",
       "  <thead>\n",
       "    <tr style=\"text-align: right;\">\n",
       "      <th></th>\n",
       "      <th>category</th>\n",
       "      <th>name</th>\n",
       "      <th>2021-05-02</th>\n",
       "      <th>2021-05-16</th>\n",
       "      <th>2021-05-30</th>\n",
       "    </tr>\n",
       "  </thead>\n",
       "  <tbody>\n",
       "    <tr>\n",
       "      <th>5</th>\n",
       "      <td>Visual display</td>\n",
       "      <td>shapes.txt</td>\n",
       "      <td>✅</td>\n",
       "      <td>✅</td>\n",
       "      <td>✅</td>\n",
       "    </tr>\n",
       "    <tr>\n",
       "      <th>3</th>\n",
       "      <td>Navigation</td>\n",
       "      <td>levels.txt</td>\n",
       "      <td></td>\n",
       "      <td></td>\n",
       "      <td></td>\n",
       "    </tr>\n",
       "    <tr>\n",
       "      <th>4</th>\n",
       "      <td>Navigation</td>\n",
       "      <td>pathways.txt</td>\n",
       "      <td></td>\n",
       "      <td></td>\n",
       "      <td></td>\n",
       "    </tr>\n",
       "    <tr>\n",
       "      <th>0</th>\n",
       "      <td>Fares</td>\n",
       "      <td>fare_leg_rules</td>\n",
       "      <td></td>\n",
       "      <td></td>\n",
       "      <td></td>\n",
       "    </tr>\n",
       "    <tr>\n",
       "      <th>1</th>\n",
       "      <td>Fares</td>\n",
       "      <td>fare_rules.txt</td>\n",
       "      <td>✅</td>\n",
       "      <td>✅</td>\n",
       "      <td>✅</td>\n",
       "    </tr>\n",
       "    <tr>\n",
       "      <th>2</th>\n",
       "      <td>Technical contacts</td>\n",
       "      <td>feed_info.txt</td>\n",
       "      <td>✅</td>\n",
       "      <td>✅</td>\n",
       "      <td>✅</td>\n",
       "    </tr>\n",
       "  </tbody>\n",
       "</table>\n",
       "</div>"
      ],
      "text/plain": [
       "             category            name 2021-05-02 2021-05-16 2021-05-30\n",
       "5      Visual display      shapes.txt          ✅          ✅          ✅\n",
       "3          Navigation      levels.txt                                 \n",
       "4          Navigation    pathways.txt                                 \n",
       "0               Fares  fare_leg_rules                                 \n",
       "1               Fares  fare_rules.txt          ✅          ✅          ✅\n",
       "2  Technical contacts   feed_info.txt          ✅          ✅          ✅"
      ]
     },
     "execution_count": 15,
     "metadata": {},
     "output_type": "execute_result"
    }
   ],
   "source": [
    "tbl_file_check"
   ]
  },
  {
   "cell_type": "markdown",
   "id": "3ba83057",
   "metadata": {
    "papermill": {
     "duration": 0.019262,
     "end_time": "2021-06-24T22:22:00.973550",
     "exception": false,
     "start_time": "2021-06-24T22:22:00.954288",
     "status": "completed"
    },
    "tags": []
   },
   "source": [
    "### Validation Errors Observed"
   ]
  },
  {
   "cell_type": "code",
   "execution_count": 16,
   "id": "ad6b8c72",
   "metadata": {
    "execution": {
     "iopub.execute_input": "2021-06-24T22:22:01.018630Z",
     "iopub.status.busy": "2021-06-24T22:22:01.017986Z",
     "iopub.status.idle": "2021-06-24T22:22:01.021244Z",
     "shell.execute_reply": "2021-06-24T22:22:01.021727Z"
    },
    "papermill": {
     "duration": 0.028952,
     "end_time": "2021-06-24T22:22:01.021868",
     "exception": false,
     "start_time": "2021-06-24T22:22:00.992916",
     "status": "completed"
    },
    "tags": []
   },
   "outputs": [
    {
     "data": {
      "text/markdown": [
       "No validation error observed in your feed."
      ],
      "text/plain": [
       "<IPython.core.display.Markdown object>"
      ]
     },
     "metadata": {},
     "output_type": "display_data"
    }
   ],
   "source": [
    "if tbl_validation_notices.shape[0] == 0:\n",
    "    display(Markdown(\"No validation error observed in your feed.\"))\n",
    "else:    \n",
    "    display(tbl_validation_notices)"
   ]
  },
  {
   "cell_type": "markdown",
   "id": "8a48f576",
   "metadata": {
    "papermill": {
     "duration": 0.020895,
     "end_time": "2021-06-24T22:22:01.062883",
     "exception": false,
     "start_time": "2021-06-24T22:22:01.041988",
     "status": "completed"
    },
    "tags": []
   },
   "source": [
    "For more information about Cal-ITP, including the [Minimum GTFS Guidelines](https://dot.ca.gov/cal-itp/california-minimum-general-transit-feed-specification-gtfs-guidelines) and our [Transit Data Helpdesk](https://dot.ca.gov/programs/rail-and-mass-transportation/gtfs/helpdesk), contact [GTFSRT@dot.ca.gov](mailto:GTFSRT@dot.ca.gov)."
   ]
  }
 ],
 "metadata": {
  "kernelspec": {
   "display_name": "venv-calitp-py",
   "language": "python",
   "name": "venv-calitp-py"
  },
  "language_info": {
   "codemirror_mode": {
    "name": "ipython",
    "version": 3
   },
   "file_extension": ".py",
   "mimetype": "text/x-python",
   "name": "python",
   "nbconvert_exporter": "python",
   "pygments_lexer": "ipython3",
   "version": "3.8.5"
  },
  "papermill": {
   "default_parameters": {},
   "duration": 36.682254,
   "end_time": "2021-06-24T22:22:01.734054",
   "environment_variables": {},
   "exception": null,
   "input_path": "report.ipynb",
   "output_path": "output/394/report.ipynb",
   "parameters": {
    "CALITP_ITP_ID": 394,
    "CALITP_URL_NUMBER": 0,
    "DEBUG": false,
    "END_DATE": "2021-06-01",
    "START_DATE": "2021-05-01"
   },
   "start_time": "2021-06-24T22:21:25.051800",
   "version": "2.3.3"
  }
 },
 "nbformat": 4,
 "nbformat_minor": 5
}