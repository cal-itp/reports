{
 "cells": [
  {
   "cell_type": "markdown",
   "id": "d6751a5a",
   "metadata": {
    "papermill": {
     "duration": 0.024034,
     "end_time": "2021-06-24T22:11:55.420182",
     "exception": false,
     "start_time": "2021-06-24T22:11:55.396148",
     "status": "completed"
    },
    "tags": [
     "hide"
    ]
   },
   "source": [
    "# Setup"
   ]
  },
  {
   "cell_type": "code",
   "execution_count": 1,
   "id": "36f0eeff",
   "metadata": {
    "execution": {
     "iopub.execute_input": "2021-06-24T22:11:55.479020Z",
     "iopub.status.busy": "2021-06-24T22:11:55.478030Z",
     "iopub.status.idle": "2021-06-24T22:12:04.215415Z",
     "shell.execute_reply": "2021-06-24T22:12:04.216472Z"
    },
    "papermill": {
     "duration": 8.774248,
     "end_time": "2021-06-24T22:12:04.216826",
     "exception": false,
     "start_time": "2021-06-24T22:11:55.442578",
     "status": "completed"
    },
    "tags": [
     "hide"
    ]
   },
   "outputs": [],
   "source": [
    "import pandas as pd\n",
    "import numpy as np\n",
    "import warnings\n",
    "\n",
    "from io import StringIO\n",
    "from calitp.tables import tbl\n",
    "from datetime import date, datetime\n",
    "from siuba import *\n",
    "from plotnine import *\n",
    "\n",
    "def friendly_date(x): \n",
    "    return datetime.strptime(x, \"%Y-%m-%d\").strftime(\"%b %d\")"
   ]
  },
  {
   "cell_type": "code",
   "execution_count": 2,
   "id": "5de34c6b",
   "metadata": {
    "execution": {
     "iopub.execute_input": "2021-06-24T22:12:04.287220Z",
     "iopub.status.busy": "2021-06-24T22:12:04.286082Z",
     "iopub.status.idle": "2021-06-24T22:12:04.295128Z",
     "shell.execute_reply": "2021-06-24T22:12:04.296763Z"
    },
    "papermill": {
     "duration": 0.053429,
     "end_time": "2021-06-24T22:12:04.297027",
     "exception": false,
     "start_time": "2021-06-24T22:12:04.243598",
     "status": "completed"
    },
    "tags": [
     "parameters",
     "hide"
    ]
   },
   "outputs": [],
   "source": [
    "CALITP_ITP_ID = 98\n",
    "#CALITP_ITP_ID=45\n",
    "CALITP_URL_NUMBER = 0\n",
    "DEBUG = False\n",
    "\n",
    "START_DATE = \"2021-05-01\"\n",
    "END_DATE = \"2021-06-01\"\n",
    "DATE_TODAY=date.today()\n",
    "START_MONTH_DAY = friendly_date(START_DATE)\n",
    "END_MONTH_DAY = friendly_date(END_DATE)\n",
    "\n",
    "WEEK_MARKERS = pd.date_range(START_DATE, END_DATE, freq=\"W\").astype(str).tolist()\n",
    "BIWEEKLY_MARKERS = pd.date_range(START_DATE, END_DATE, freq=\"2W\").astype(str).tolist()"
   ]
  },
  {
   "cell_type": "code",
   "execution_count": 3,
   "id": "26094a03",
   "metadata": {
    "execution": {
     "iopub.execute_input": "2021-06-24T22:12:04.374244Z",
     "iopub.status.busy": "2021-06-24T22:12:04.373172Z",
     "iopub.status.idle": "2021-06-24T22:12:04.376535Z",
     "shell.execute_reply": "2021-06-24T22:12:04.377558Z"
    },
    "papermill": {
     "duration": 0.043693,
     "end_time": "2021-06-24T22:12:04.377807",
     "exception": false,
     "start_time": "2021-06-24T22:12:04.334114",
     "status": "completed"
    },
    "tags": [
     "injected-parameters"
    ]
   },
   "outputs": [],
   "source": [
    "# Parameters\n",
    "CALITP_ITP_ID = 87\n",
    "CALITP_URL_NUMBER = 0\n",
    "DEBUG = False\n",
    "START_DATE = \"2021-05-01\"\n",
    "END_DATE = \"2021-06-01\"\n"
   ]
  },
  {
   "cell_type": "code",
   "execution_count": 4,
   "id": "425d7bcd",
   "metadata": {
    "execution": {
     "iopub.execute_input": "2021-06-24T22:12:04.446566Z",
     "iopub.status.busy": "2021-06-24T22:12:04.445497Z",
     "iopub.status.idle": "2021-06-24T22:12:04.451587Z",
     "shell.execute_reply": "2021-06-24T22:12:04.452479Z"
    },
    "papermill": {
     "duration": 0.043524,
     "end_time": "2021-06-24T22:12:04.452730",
     "exception": false,
     "start_time": "2021-06-24T22:12:04.409206",
     "status": "completed"
    },
    "tags": [
     "hide"
    ]
   },
   "outputs": [],
   "source": [
    "if not DEBUG:\n",
    "    warnings.filterwarnings(\"ignore\")"
   ]
  },
  {
   "cell_type": "code",
   "execution_count": 5,
   "id": "de797128",
   "metadata": {
    "execution": {
     "iopub.execute_input": "2021-06-24T22:12:04.531831Z",
     "iopub.status.busy": "2021-06-24T22:12:04.530693Z",
     "iopub.status.idle": "2021-06-24T22:12:04.543158Z",
     "shell.execute_reply": "2021-06-24T22:12:04.543952Z"
    },
    "papermill": {
     "duration": 0.058817,
     "end_time": "2021-06-24T22:12:04.544194",
     "exception": false,
     "start_time": "2021-06-24T22:12:04.485377",
     "status": "completed"
    },
    "tags": [
     "hide"
    ]
   },
   "outputs": [],
   "source": [
    "# Convenience functions ----\n",
    "\n",
    "filter_start = filter(\n",
    "    _.calitp_extracted_at <= START_DATE,\n",
    "    _.calitp_deleted_at.fillna(\"2099-01-01\") > START_DATE,\n",
    ")\n",
    "\n",
    "filter_end = filter(\n",
    "    _.calitp_extracted_at <= END_DATE,\n",
    "    _.calitp_deleted_at.fillna(\"2099-01-01\") > END_DATE,\n",
    ")\n",
    "\n",
    "filter_itp = filter(\n",
    "    _.calitp_itp_id == CALITP_ITP_ID, _.calitp_url_number == CALITP_URL_NUMBER\n",
    ")\n",
    "\n",
    "collect_to_dict = (\n",
    "    collect()\n",
    "    >> pipe(_.to_dict(orient=\"records\")[0])\n",
    ")\n",
    "\n",
    "\n",
    "select_rm_calitp = select(\n",
    "    -_.calitp_itp_id,\n",
    "    -_.calitp_url_number,\n",
    "    -_.calitp_hash,\n",
    "    -_.calitp_extracted_at,\n",
    "    -_.calitp_deleted_at,\n",
    ")\n",
    "\n",
    "def percent_format(labels):\n",
    "    return [\"{:.0f}%\".format(v*100) for v in labels]\n",
    "\n",
    "def query_id_changes(start_table, end_table, id_vars):\n",
    "    \"\"\"Calculate id variables that are removed, added, or unchanged between tables.\n",
    "    \n",
    "    It works by adding a special column to each table, performing a full join,\n",
    "    then checking where the special column is null.\n",
    "    \"\"\"\n",
    "    sym_id_vars = [_[k] for k in id_vars]\n",
    "\n",
    "    is_in_start = start_table >> select(*id_vars) >> mutate(is_in_start=True)\n",
    "    is_in_end = end_table >> select(*id_vars) >> mutate(is_in_end=True)\n",
    "\n",
    "    baseline = start_table >> count(*id_vars) >> rename(n_baseline=\"n\")\n",
    "    tallies = (\n",
    "        is_in_start\n",
    "        >> full_join(_, is_in_end, id_vars)\n",
    "        >> count(*sym_id_vars, _.is_in_start, _.is_in_end)\n",
    "        >> mutate(\n",
    "            status=case_when(\n",
    "                _,\n",
    "                {\n",
    "                    _.is_in_end.isna(): \"Removed\",\n",
    "                    _.is_in_start.isna(): \"Added\",\n",
    "                    True: \"Unchanged\",\n",
    "                },\n",
    "            )\n",
    "        )\n",
    "        >> count(*sym_id_vars[:-1], _.status)\n",
    "        >> group_by(*sym_id_vars[:-1])\n",
    "        >> mutate(percent=_.n / _.n.sum())\n",
    "    )\n",
    "\n",
    "    return tallies"
   ]
  },
  {
   "cell_type": "code",
   "execution_count": 6,
   "id": "b820dee6",
   "metadata": {
    "execution": {
     "iopub.execute_input": "2021-06-24T22:12:04.632515Z",
     "iopub.status.busy": "2021-06-24T22:12:04.629740Z",
     "iopub.status.idle": "2021-06-24T22:12:27.206152Z",
     "shell.execute_reply": "2021-06-24T22:12:27.205676Z"
    },
    "papermill": {
     "duration": 22.61354,
     "end_time": "2021-06-24T22:12:27.206268",
     "exception": false,
     "start_time": "2021-06-24T22:12:04.592728",
     "status": "completed"
    },
    "tags": [
     "hide"
    ]
   },
   "outputs": [],
   "source": [
    "# Data ====\n",
    "# 1. High level feed info ----\n",
    "feed_info = (\n",
    "    tbl.gtfs_schedule_type2.feed_info()\n",
    "    >> filter_end\n",
    "    >> filter_itp\n",
    "    >> select_rm_calitp\n",
    "    >> collect_to_dict\n",
    ")\n",
    "\n",
    "_n_routes = (\n",
    "    tbl.gtfs_schedule_type2.routes() >> filter_end >> filter_itp >> count() >> collect()\n",
    ")\n",
    "_n_stops = (\n",
    "    tbl.gtfs_schedule_type2.stops() >> filter_end >> filter_itp >> count() >> collect()\n",
    ")\n",
    "\n",
    "feed_info[\"n_routes\"] = int(_n_routes.loc[0, \"n\"])\n",
    "feed_info[\"n_stops\"] = int(_n_stops.loc[0, \"n\"])\n",
    "\n",
    "status = (\n",
    "    tbl.views.gtfs_status_latest()\n",
    "    >> filter(_.itp_id == CALITP_ITP_ID, _.url_number == CALITP_URL_NUMBER)\n",
    "    >> select(-_.url_number, -_.status)\n",
    "    >> select_rm_calitp\n",
    "    >> collect_to_dict\n",
    ")\n",
    "\n",
    "# 2. Monthly metrics ----\n",
    "# Service hours per day. Note that the queried table calculates service\n",
    "# hours per service id, so we need to sum across service ids for the day\n",
    "_cross_cal = (\n",
    "    tbl.views.dim_date()\n",
    "    >> filter(_.full_date.between(START_DATE, END_DATE))\n",
    "    >> select(_.service_date == _.full_date)\n",
    ")\n",
    "\n",
    "tbl_daily_service_hours = (\n",
    "    tbl.views.gtfs_schedule_service_daily_metrics()\n",
    "    >> filter_itp\n",
    "    >> filter(_.service_date.between(START_DATE, END_DATE))\n",
    "    >> right_join(_, _cross_cal, [\"service_date\"])\n",
    "    >> collect()\n",
    "    >> group_by(_.service_date)\n",
    "    >> summarize(\n",
    "        ttl_service_hours=(_.last_arrival_ts.max() - _.first_departure_ts.min()) / 3600,\n",
    "        ttl_service_hours2=_.ttl_service_hours.sum(),\n",
    "    )\n",
    "    >> mutate(\n",
    "        ttl_service_hours=_.ttl_service_hours.astype(float).round(2),\n",
    "        service_date=_.service_date.astype(\"datetime64[ns]\"),\n",
    "    )\n",
    ")\n",
    "\n",
    "# number of days where a feed did not have any trips in service\n",
    "n_expired_days = (\n",
    "    tbl_daily_service_hours\n",
    "    >> filter(_.ttl_service_hours.isna())\n",
    "    >> pipe(lambda d: {\"n\": d.shape[0]})\n",
    ")\n",
    "\n",
    "# 3. Stop and Route ID Changes ----\n",
    "\n",
    "_tbl_stops_start = tbl.gtfs_schedule_type2.stops() >> filter_itp >> filter_start\n",
    "_tbl_stops_end = tbl.gtfs_schedule_type2.stops() >> filter_itp >> filter_end\n",
    "tbl_stops_changed = (\n",
    "    query_id_changes(_tbl_stops_start, _tbl_stops_end, [\"stop_id\"]) >> collect()\n",
    ")\n",
    "\n",
    "_tbl_routes_start = tbl.gtfs_schedule_type2.routes() >> filter_itp >> filter_start\n",
    "_tbl_routes_end = tbl.gtfs_schedule_type2.routes() >> filter_itp >> filter_end\n",
    "tbl_routes_changed = (\n",
    "    query_id_changes(_tbl_routes_start, _tbl_routes_end, [\"route_id\"]) >> collect()\n",
    ")"
   ]
  },
  {
   "cell_type": "code",
   "execution_count": 7,
   "id": "b13609f1",
   "metadata": {
    "execution": {
     "iopub.execute_input": "2021-06-24T22:12:27.244574Z",
     "iopub.status.busy": "2021-06-24T22:12:27.243741Z",
     "iopub.status.idle": "2021-06-24T22:12:32.805599Z",
     "shell.execute_reply": "2021-06-24T22:12:32.806053Z"
    },
    "papermill": {
     "duration": 5.58458,
     "end_time": "2021-06-24T22:12:32.806188",
     "exception": false,
     "start_time": "2021-06-24T22:12:27.221608",
     "status": "completed"
    },
    "tags": [
     "hide"
    ]
   },
   "outputs": [],
   "source": [
    "# 4. Feed files being checked for ----\n",
    "\n",
    "file_categories = pd.DataFrame(\n",
    "    {\n",
    "        \"shapes.txt\": \"Visual display\",\n",
    "        \"pathways.txt\": \"Navigation\",\n",
    "        \"levels.txt\": \"Navigation\",\n",
    "        \"fare_rules.txt\": \"Fares\",\n",
    "        \"fare_leg_rules\": \"Fares\",\n",
    "        \"feed_info.txt\": \"Technical contacts\",\n",
    "    }.items(),\n",
    "    columns=[\"name\", \"category\"],\n",
    ")\n",
    "\n",
    "importance = [\"Visual display\", \"Navigation\", \"Fares\", \"Technical contacts\"]\n",
    "\n",
    "tbl_file_check = (\n",
    "    tbl.gtfs_schedule_history.calitp_files_updates()\n",
    "    >> filter_itp\n",
    "    >> filter(_.calitp_extracted_at.isin(BIWEEKLY_MARKERS))\n",
    "    >> select(_.name, _.calitp_extracted_at)\n",
    "    >> collect()\n",
    "    >> right_join(_, file_categories, [\"name\"])\n",
    "    >> mutate(\n",
    "        calitp_extracted_at=_.calitp_extracted_at.fillna(\"missing\").astype(str),\n",
    "        success=\"✅\",\n",
    "    )\n",
    "    >> spread(_.calitp_extracted_at, _.success)\n",
    "    >> select(-_.missing)\n",
    "    >> arrange(_.category.apply(importance.index))\n",
    "    >> select(_.category, _.contains(\"\"))\n",
    "    >> pipe(_.fillna(\"\"))\n",
    ")\n",
    "\n",
    "tbl_validation_notices = (\n",
    "    tbl.views.validation_notices()\n",
    "    >> filter_itp\n",
    "    >> filter(_.severity == \"ERROR\")\n",
    "    >> count(_.code, _.severity)\n",
    "    >> collect()\n",
    ")"
   ]
  },
  {
   "cell_type": "markdown",
   "id": "ef79cb36",
   "metadata": {
    "papermill": {
     "duration": 0.014823,
     "end_time": "2021-06-24T22:12:32.836173",
     "exception": false,
     "start_time": "2021-06-24T22:12:32.821350",
     "status": "completed"
    },
    "tags": [
     "hide"
    ]
   },
   "source": [
    "## Dump data"
   ]
  },
  {
   "cell_type": "code",
   "execution_count": 8,
   "id": "6c3e479f",
   "metadata": {
    "execution": {
     "iopub.execute_input": "2021-06-24T22:12:32.871514Z",
     "iopub.status.busy": "2021-06-24T22:12:32.870843Z",
     "iopub.status.idle": "2021-06-24T22:12:32.882186Z",
     "shell.execute_reply": "2021-06-24T22:12:32.881639Z"
    },
    "papermill": {
     "duration": 0.031225,
     "end_time": "2021-06-24T22:12:32.882294",
     "exception": false,
     "start_time": "2021-06-24T22:12:32.851069",
     "status": "completed"
    },
    "tags": [
     "hide"
    ]
   },
   "outputs": [],
   "source": [
    "import json\n",
    "import shutil\n",
    "\n",
    "from pathlib import Path\n",
    "\n",
    "out_dir = Path(f\"output/{CALITP_ITP_ID}_{CALITP_URL_NUMBER}/data\")\n",
    "out_dir.mkdir(parents=True, exist_ok=True)\n",
    "\n",
    "json.dump(feed_info, open(out_dir / \"1_feed_info.json\", \"w\"))\n",
    "json.dump(status, open(out_dir / \"1_status.json\", \"w\"))\n",
    "\n",
    "tbl_daily_service_hours.to_json(out_dir / \"2_daily_service_hours.json\", orient=\"records\")\n",
    "json.dump(n_expired_days, open(out_dir / \"2_n_expired_days.json\", \"w\"))\n",
    "\n",
    "tbl_stops_changed.to_json(out_dir / \"3_stops_changed.json\", orient=\"records\")\n",
    "tbl_routes_changed.to_json(out_dir / \"3_routes_changed.json\", orient=\"records\")\n",
    "tbl_file_check.to_json(out_dir / \"4_file_check.json\", orient=\"records\")\n",
    "tbl_validation_notices.to_json(out_dir / \"4_validation_notices.json\", orient=\"records\")\n"
   ]
  },
  {
   "cell_type": "markdown",
   "id": "52c9a185",
   "metadata": {
    "papermill": {
     "duration": 0.01518,
     "end_time": "2021-06-24T22:12:32.912395",
     "exception": false,
     "start_time": "2021-06-24T22:12:32.897215",
     "status": "completed"
    },
    "tags": []
   },
   "source": [
    "# Monthly GTFS Quality Report"
   ]
  },
  {
   "cell_type": "code",
   "execution_count": 9,
   "id": "cc130e30",
   "metadata": {
    "execution": {
     "iopub.execute_input": "2021-06-24T22:12:32.948720Z",
     "iopub.status.busy": "2021-06-24T22:12:32.948079Z",
     "iopub.status.idle": "2021-06-24T22:12:32.954802Z",
     "shell.execute_reply": "2021-06-24T22:12:32.955275Z"
    },
    "papermill": {
     "duration": 0.027685,
     "end_time": "2021-06-24T22:12:32.955426",
     "exception": false,
     "start_time": "2021-06-24T22:12:32.927741",
     "status": "completed"
    },
    "tags": []
   },
   "outputs": [
    {
     "data": {
      "text/markdown": [
       "\n",
       "Transit provider name: Culver CityBus\n",
       "\n",
       "Date generated: 2021-06-24\n"
      ],
      "text/plain": [
       "<IPython.core.display.Markdown object>"
      ]
     },
     "execution_count": 9,
     "metadata": {},
     "output_type": "execute_result"
    }
   ],
   "source": [
    "from IPython.display import Markdown\n",
    "\n",
    "Markdown(f\"\"\"\n",
    "Transit provider name: {feed_info[\"feed_publisher_name\"]}\n",
    "\n",
    "Date generated: {DATE_TODAY}\n",
    "\"\"\")"
   ]
  },
  {
   "cell_type": "markdown",
   "id": "79290d20",
   "metadata": {
    "papermill": {
     "duration": 0.017231,
     "end_time": "2021-06-24T22:12:32.988245",
     "exception": false,
     "start_time": "2021-06-24T22:12:32.971014",
     "status": "completed"
    },
    "tags": []
   },
   "source": [
    "This is a monthly report, generated by the California Integrated Travel Project ([Cal-ITP](https://dot.ca.gov/cal-itp/cal-itp-gtfs)), summarizing issues discovered by [MobilityData](http://mobilitydata.io/)’s [GTFS Validator](https://github.com/MobilityData/gtfs-validator). This report is available for viewing by the general public to support continuous improvement of GTFS data and the experience of transit passengers. "
   ]
  },
  {
   "cell_type": "markdown",
   "id": "1e926bfe",
   "metadata": {
    "papermill": {
     "duration": 0.015672,
     "end_time": "2021-06-24T22:12:33.019456",
     "exception": false,
     "start_time": "2021-06-24T22:12:33.003784",
     "status": "completed"
    },
    "tags": []
   },
   "source": [
    "## Overview"
   ]
  },
  {
   "cell_type": "code",
   "execution_count": 10,
   "id": "d735e29b",
   "metadata": {
    "execution": {
     "iopub.execute_input": "2021-06-24T22:12:33.062371Z",
     "iopub.status.busy": "2021-06-24T22:12:33.061291Z",
     "iopub.status.idle": "2021-06-24T22:12:33.065275Z",
     "shell.execute_reply": "2021-06-24T22:12:33.065719Z"
    },
    "papermill": {
     "duration": 0.030431,
     "end_time": "2021-06-24T22:12:33.065861",
     "exception": false,
     "start_time": "2021-06-24T22:12:33.035430",
     "status": "completed"
    },
    "tags": []
   },
   "outputs": [
    {
     "data": {
      "text/markdown": [
       "\n",
       "Feed location: https://www.culvercity.org/files/assets/public/documents/information-technology/maps/culvercityfeed1_11_2020.zip\n",
       "\n",
       "Metrics for the most recent published version of the feed:\n",
       "\n",
       "* Date published: S1000168\n",
       "* Number of routes in any service: 9\n",
       "* Number of stops in service: 423\n"
      ],
      "text/plain": [
       "<IPython.core.display.Markdown object>"
      ]
     },
     "execution_count": 10,
     "metadata": {},
     "output_type": "execute_result"
    }
   ],
   "source": [
    "Markdown(f\"\"\"\n",
    "Feed location: {status[\"gtfs_schedule_url\"]}\n",
    "\n",
    "Metrics for the most recent published version of the feed:\n",
    "\n",
    "* Date published: {feed_info[\"feed_version\"]}\n",
    "* Number of routes in any service: {feed_info[\"n_routes\"]}\n",
    "* Number of stops in service: {feed_info[\"n_stops\"]}\n",
    "\"\"\")"
   ]
  },
  {
   "cell_type": "markdown",
   "id": "75506adb",
   "metadata": {
    "papermill": {
     "duration": 0.017164,
     "end_time": "2021-06-24T22:12:33.106011",
     "exception": false,
     "start_time": "2021-06-24T22:12:33.088847",
     "status": "completed"
    },
    "tags": []
   },
   "source": [
    "## Aggregated Metrics for May"
   ]
  },
  {
   "cell_type": "code",
   "execution_count": 11,
   "id": "f9617086",
   "metadata": {
    "execution": {
     "iopub.execute_input": "2021-06-24T22:12:33.144103Z",
     "iopub.status.busy": "2021-06-24T22:12:33.143226Z",
     "iopub.status.idle": "2021-06-24T22:12:33.146846Z",
     "shell.execute_reply": "2021-06-24T22:12:33.147290Z"
    },
    "papermill": {
     "duration": 0.024232,
     "end_time": "2021-06-24T22:12:33.147429",
     "exception": false,
     "start_time": "2021-06-24T22:12:33.123197",
     "status": "completed"
    },
    "tags": []
   },
   "outputs": [
    {
     "data": {
      "text/markdown": [
       "\n",
       "Days with no service hours: 0\n"
      ],
      "text/plain": [
       "<IPython.core.display.Markdown object>"
      ]
     },
     "execution_count": 11,
     "metadata": {},
     "output_type": "execute_result"
    }
   ],
   "source": [
    "# TODO: \n",
    "\n",
    "# Markdown(f\"\"\"\n",
    "# Days when the active feed was expired: {n_expired_days[\"n\"]}\n",
    "# \"\"\")\n",
    "\n",
    "Markdown(f\"\"\"\n",
    "Days with no service hours: {n_expired_days[\"n\"]}\n",
    "\"\"\")\n"
   ]
  },
  {
   "cell_type": "code",
   "execution_count": 12,
   "id": "4441adb8",
   "metadata": {
    "execution": {
     "iopub.execute_input": "2021-06-24T22:12:33.216704Z",
     "iopub.status.busy": "2021-06-24T22:12:33.215888Z",
     "iopub.status.idle": "2021-06-24T22:12:33.556328Z",
     "shell.execute_reply": "2021-06-24T22:12:33.555750Z"
    },
    "papermill": {
     "duration": 0.391398,
     "end_time": "2021-06-24T22:12:33.556445",
     "exception": false,
     "start_time": "2021-06-24T22:12:33.165047",
     "status": "completed"
    },
    "tags": []
   },
   "outputs": [
    {
     "data": {
      "image/png": "[encoded data removed]",
      "text/plain": [
       "<Figure size 640x480 with 1 Axes>"
      ]
     },
     "metadata": {},
     "output_type": "display_data"
    }
   ],
   "source": [
    "(\n",
    "    tbl_daily_service_hours\n",
    "    >> ggplot(aes(\"service_date\", \"ttl_service_hours2\"))\n",
    "    + geom_line()\n",
    "    + geom_point()\n",
    "    + theme(axis_text_x=element_text(angle=45, hjust=1))\n",
    "    + scale_x_datetime(date_breaks=\"1 week\")\n",
    "    + expand_limits(y=0)\n",
    "    + labs(y = \"Total service hours\", x = \"Service date\", title=\"Service hour per day\")\n",
    ").draw();"
   ]
  },
  {
   "cell_type": "markdown",
   "id": "01c4eadd",
   "metadata": {
    "papermill": {
     "duration": 0.017525,
     "end_time": "2021-06-24T22:12:33.592719",
     "exception": false,
     "start_time": "2021-06-24T22:12:33.575194",
     "status": "completed"
    },
    "tags": []
   },
   "source": [
    "## Changes Since Previous Month"
   ]
  },
  {
   "cell_type": "code",
   "execution_count": 13,
   "id": "67583777",
   "metadata": {
    "execution": {
     "iopub.execute_input": "2021-06-24T22:12:33.738199Z",
     "iopub.status.busy": "2021-06-24T22:12:33.734263Z",
     "iopub.status.idle": "2021-06-24T22:12:33.931795Z",
     "shell.execute_reply": "2021-06-24T22:12:33.932248Z"
    },
    "papermill": {
     "duration": 0.321189,
     "end_time": "2021-06-24T22:12:33.932387",
     "exception": false,
     "start_time": "2021-06-24T22:12:33.611198",
     "status": "completed"
    },
    "tags": []
   },
   "outputs": [
    {
     "data": {
      "image/png": "[encoded data removed]",
      "text/plain": [
       "<Figure size 640x480 with 1 Axes>"
      ]
     },
     "metadata": {},
     "output_type": "display_data"
    }
   ],
   "source": [
    "(\n",
    "    pd.concat(\n",
    "        [\n",
    "            tbl_stops_changed >> mutate(kind=\"Stops\"),\n",
    "            tbl_routes_changed >> mutate(kind=\"Routes\"),\n",
    "        ]\n",
    "    )\n",
    "    >> ggplot(aes(\"kind\", \"n\", fill=\"status\"))\n",
    "    + geom_col()\n",
    "    + labs(\n",
    "        x=\"GTFS schedule table\",\n",
    "        y=\"Number of IDs\",\n",
    "        title=f\"IDs Changed Between {START_MONTH_DAY} and {END_MONTH_DAY}\",\n",
    "    )\n",
    ").draw();"
   ]
  },
  {
   "cell_type": "markdown",
   "id": "ef51b99c",
   "metadata": {
    "papermill": {
     "duration": 0.0192,
     "end_time": "2021-06-24T22:12:33.970473",
     "exception": false,
     "start_time": "2021-06-24T22:12:33.951273",
     "status": "completed"
    },
    "tags": []
   },
   "source": [
    "### (Alternative version using percentages)"
   ]
  },
  {
   "cell_type": "code",
   "execution_count": 14,
   "id": "0614363d",
   "metadata": {
    "execution": {
     "iopub.execute_input": "2021-06-24T22:12:34.041690Z",
     "iopub.status.busy": "2021-06-24T22:12:34.040945Z",
     "iopub.status.idle": "2021-06-24T22:12:34.319909Z",
     "shell.execute_reply": "2021-06-24T22:12:34.319363Z"
    },
    "papermill": {
     "duration": 0.33128,
     "end_time": "2021-06-24T22:12:34.320071",
     "exception": false,
     "start_time": "2021-06-24T22:12:33.988791",
     "status": "completed"
    },
    "tags": []
   },
   "outputs": [
    {
     "data": {
      "image/png": "[encoded data removed]",
      "text/plain": [
       "<Figure size 640x480 with 1 Axes>"
      ]
     },
     "metadata": {},
     "output_type": "display_data"
    }
   ],
   "source": [
    "(\n",
    "    pd.concat(\n",
    "        [\n",
    "            tbl_stops_changed >> mutate(kind=\"Stops\"),\n",
    "            tbl_routes_changed >> mutate(kind=\"Routes\"),\n",
    "        ]\n",
    "    )\n",
    "    >> ggplot(aes(\"kind\", \"percent\", fill=\"status\"))\n",
    "    + geom_col()\n",
    "    + labs(\n",
    "        x=\"GTFS schedule table\",\n",
    "        y=\"Percentage of IDs\",\n",
    "        title=f\"IDs Changed Between {START_MONTH_DAY} and {END_MONTH_DAY}\",\n",
    "    )\n",
    "    + scale_y_continuous(labels=percent_format, breaks=np.arange(0, 1.2, 0.2))\n",
    ").draw();"
   ]
  },
  {
   "cell_type": "markdown",
   "id": "caf2157a",
   "metadata": {
    "papermill": {
     "duration": 0.019256,
     "end_time": "2021-06-24T22:12:34.358475",
     "exception": false,
     "start_time": "2021-06-24T22:12:34.339219",
     "status": "completed"
    },
    "tags": []
   },
   "source": [
    "## Consistency with the [California GTFS Minimum Guidelines](https://dot.ca.gov/cal-itp/california-minimum-general-transit-feed-specification-gtfs-guidelines) for the feed downloaded\n"
   ]
  },
  {
   "cell_type": "markdown",
   "id": "57999773",
   "metadata": {
    "papermill": {
     "duration": 0.019197,
     "end_time": "2021-06-24T22:12:34.398407",
     "exception": false,
     "start_time": "2021-06-24T22:12:34.379210",
     "status": "completed"
    },
    "tags": []
   },
   "source": [
    "### Do the following files/fields exist?"
   ]
  },
  {
   "cell_type": "code",
   "execution_count": 15,
   "id": "7774f6ff",
   "metadata": {
    "execution": {
     "iopub.execute_input": "2021-06-24T22:12:34.451262Z",
     "iopub.status.busy": "2021-06-24T22:12:34.450648Z",
     "iopub.status.idle": "2021-06-24T22:12:34.460257Z",
     "shell.execute_reply": "2021-06-24T22:12:34.460765Z"
    },
    "papermill": {
     "duration": 0.041292,
     "end_time": "2021-06-24T22:12:34.460921",
     "exception": false,
     "start_time": "2021-06-24T22:12:34.419629",
     "status": "completed"
    },
    "tags": []
   },
   "outputs": [
    {
     "data": {
      "text/html": [
       "<div>\n",
       "<style scoped>\n",
       "    .dataframe tbody tr th:only-of-type {\n",
       "        vertical-align: middle;\n",
       "    }\n",
       "\n",
       "    .dataframe tbody tr th {\n",
       "        vertical-align: top;\n",
       "    }\n",
       "\n",
       "    .dataframe thead th {\n",
       "        text-align: right;\n",
       "    }\n",
       "</style>\n",
       "<table border=\"1\" class=\"dataframe\">\n",
       "  <thead>\n",
       "    <tr style=\"text-align: right;\">\n",
       "      <th></th>\n",
       "      <th>category</th>\n",
       "      <th>name</th>\n",
       "      <th>2021-05-02</th>\n",
       "      <th>2021-05-16</th>\n",
       "      <th>2021-05-30</th>\n",
       "    </tr>\n",
       "  </thead>\n",
       "  <tbody>\n",
       "    <tr>\n",
       "      <th>5</th>\n",
       "      <td>Visual display</td>\n",
       "      <td>shapes.txt</td>\n",
       "      <td>✅</td>\n",
       "      <td>✅</td>\n",
       "      <td>✅</td>\n",
       "    </tr>\n",
       "    <tr>\n",
       "      <th>3</th>\n",
       "      <td>Navigation</td>\n",
       "      <td>levels.txt</td>\n",
       "      <td></td>\n",
       "      <td></td>\n",
       "      <td></td>\n",
       "    </tr>\n",
       "    <tr>\n",
       "      <th>4</th>\n",
       "      <td>Navigation</td>\n",
       "      <td>pathways.txt</td>\n",
       "      <td></td>\n",
       "      <td></td>\n",
       "      <td></td>\n",
       "    </tr>\n",
       "    <tr>\n",
       "      <th>0</th>\n",
       "      <td>Fares</td>\n",
       "      <td>fare_leg_rules</td>\n",
       "      <td></td>\n",
       "      <td></td>\n",
       "      <td></td>\n",
       "    </tr>\n",
       "    <tr>\n",
       "      <th>1</th>\n",
       "      <td>Fares</td>\n",
       "      <td>fare_rules.txt</td>\n",
       "      <td>✅</td>\n",
       "      <td>✅</td>\n",
       "      <td>✅</td>\n",
       "    </tr>\n",
       "    <tr>\n",
       "      <th>2</th>\n",
       "      <td>Technical contacts</td>\n",
       "      <td>feed_info.txt</td>\n",
       "      <td>✅</td>\n",
       "      <td>✅</td>\n",
       "      <td>✅</td>\n",
       "    </tr>\n",
       "  </tbody>\n",
       "</table>\n",
       "</div>"
      ],
      "text/plain": [
       "             category            name 2021-05-02 2021-05-16 2021-05-30\n",
       "5      Visual display      shapes.txt          ✅          ✅          ✅\n",
       "3          Navigation      levels.txt                                 \n",
       "4          Navigation    pathways.txt                                 \n",
       "0               Fares  fare_leg_rules                                 \n",
       "1               Fares  fare_rules.txt          ✅          ✅          ✅\n",
       "2  Technical contacts   feed_info.txt          ✅          ✅          ✅"
      ]
     },
     "execution_count": 15,
     "metadata": {},
     "output_type": "execute_result"
    }
   ],
   "source": [
    "tbl_file_check"
   ]
  },
  {
   "cell_type": "markdown",
   "id": "8e1b977d",
   "metadata": {
    "papermill": {
     "duration": 0.020784,
     "end_time": "2021-06-24T22:12:34.503920",
     "exception": false,
     "start_time": "2021-06-24T22:12:34.483136",
     "status": "completed"
    },
    "tags": []
   },
   "source": [
    "### Validation Errors Observed"
   ]
  },
  {
   "cell_type": "code",
   "execution_count": 16,
   "id": "237db12f",
   "metadata": {
    "execution": {
     "iopub.execute_input": "2021-06-24T22:12:34.555878Z",
     "iopub.status.busy": "2021-06-24T22:12:34.555058Z",
     "iopub.status.idle": "2021-06-24T22:12:34.559510Z",
     "shell.execute_reply": "2021-06-24T22:12:34.560600Z"
    },
    "papermill": {
     "duration": 0.036537,
     "end_time": "2021-06-24T22:12:34.560786",
     "exception": false,
     "start_time": "2021-06-24T22:12:34.524249",
     "status": "completed"
    },
    "tags": []
   },
   "outputs": [
    {
     "data": {
      "text/html": [
       "<div>\n",
       "<style scoped>\n",
       "    .dataframe tbody tr th:only-of-type {\n",
       "        vertical-align: middle;\n",
       "    }\n",
       "\n",
       "    .dataframe tbody tr th {\n",
       "        vertical-align: top;\n",
       "    }\n",
       "\n",
       "    .dataframe thead th {\n",
       "        text-align: right;\n",
       "    }\n",
       "</style>\n",
       "<table border=\"1\" class=\"dataframe\">\n",
       "  <thead>\n",
       "    <tr style=\"text-align: right;\">\n",
       "      <th></th>\n",
       "      <th>code</th>\n",
       "      <th>severity</th>\n",
       "      <th>n</th>\n",
       "    </tr>\n",
       "  </thead>\n",
       "  <tbody>\n",
       "    <tr>\n",
       "      <th>0</th>\n",
       "      <td>leading_or_trailing_whitespaces</td>\n",
       "      <td>ERROR</td>\n",
       "      <td>9</td>\n",
       "    </tr>\n",
       "    <tr>\n",
       "      <th>1</th>\n",
       "      <td>decreasing_or_equal_shape_distance</td>\n",
       "      <td>ERROR</td>\n",
       "      <td>2</td>\n",
       "    </tr>\n",
       "  </tbody>\n",
       "</table>\n",
       "</div>"
      ],
      "text/plain": [
       "                                 code severity  n\n",
       "0     leading_or_trailing_whitespaces    ERROR  9\n",
       "1  decreasing_or_equal_shape_distance    ERROR  2"
      ]
     },
     "metadata": {},
     "output_type": "display_data"
    }
   ],
   "source": [
    "if tbl_validation_notices.shape[0] == 0:\n",
    "    display(Markdown(\"No validation error observed in your feed.\"))\n",
    "else:    \n",
    "    display(tbl_validation_notices)"
   ]
  },
  {
   "cell_type": "markdown",
   "id": "674f3198",
   "metadata": {
    "papermill": {
     "duration": 0.020575,
     "end_time": "2021-06-24T22:12:34.602655",
     "exception": false,
     "start_time": "2021-06-24T22:12:34.582080",
     "status": "completed"
    },
    "tags": []
   },
   "source": [
    "For more information about Cal-ITP, including the [Minimum GTFS Guidelines](https://dot.ca.gov/cal-itp/california-minimum-general-transit-feed-specification-gtfs-guidelines) and our [Transit Data Helpdesk](https://dot.ca.gov/programs/rail-and-mass-transportation/gtfs/helpdesk), contact [GTFSRT@dot.ca.gov](mailto:GTFSRT@dot.ca.gov)."
   ]
  }
 ],
 "metadata": {
  "kernelspec": {
   "display_name": "venv-calitp-py",
   "language": "python",
   "name": "venv-calitp-py"
  },
  "language_info": {
   "codemirror_mode": {
    "name": "ipython",
    "version": 3
   },
   "file_extension": ".py",
   "mimetype": "text/x-python",
   "name": "python",
   "nbconvert_exporter": "python",
   "pygments_lexer": "ipython3",
   "version": "3.8.5"
  },
  "papermill": {
   "default_parameters": {},
   "duration": 40.885108,
   "end_time": "2021-06-24T22:12:35.249419",
   "environment_variables": {},
   "exception": null,
   "input_path": "report.ipynb",
   "output_path": "output/87/report.ipynb",
   "parameters": {
    "CALITP_ITP_ID": 87,
    "CALITP_URL_NUMBER": 0,
    "DEBUG": false,
    "END_DATE": "2021-06-01",
    "START_DATE": "2021-05-01"
   },
   "start_time": "2021-06-24T22:11:54.364311",
   "version": "2.3.3"
  }
 },
 "nbformat": 4,
 "nbformat_minor": 5
}