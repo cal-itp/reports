{
 "cells": [
  {
   "cell_type": "markdown",
   "id": "ed80df0e",
   "metadata": {
    "papermill": {
     "duration": 0.026213,
     "end_time": "2021-06-24T22:18:01.901067",
     "exception": false,
     "start_time": "2021-06-24T22:18:01.874854",
     "status": "completed"
    },
    "tags": [
     "hide"
    ]
   },
   "source": [
    "# Setup"
   ]
  },
  {
   "cell_type": "code",
   "execution_count": 1,
   "id": "2fcbc6c7",
   "metadata": {
    "execution": {
     "iopub.execute_input": "2021-06-24T22:18:01.968603Z",
     "iopub.status.busy": "2021-06-24T22:18:01.967639Z",
     "iopub.status.idle": "2021-06-24T22:18:08.871880Z",
     "shell.execute_reply": "2021-06-24T22:18:08.872624Z"
    },
    "papermill": {
     "duration": 6.943457,
     "end_time": "2021-06-24T22:18:08.872908",
     "exception": false,
     "start_time": "2021-06-24T22:18:01.929451",
     "status": "completed"
    },
    "tags": [
     "hide"
    ]
   },
   "outputs": [],
   "source": [
    "import pandas as pd\n",
    "import numpy as np\n",
    "import warnings\n",
    "\n",
    "from io import StringIO\n",
    "from calitp.tables import tbl\n",
    "from datetime import date, datetime\n",
    "from siuba import *\n",
    "from plotnine import *\n",
    "\n",
    "def friendly_date(x): \n",
    "    return datetime.strptime(x, \"%Y-%m-%d\").strftime(\"%b %d\")"
   ]
  },
  {
   "cell_type": "code",
   "execution_count": 2,
   "id": "ea8520b8",
   "metadata": {
    "execution": {
     "iopub.execute_input": "2021-06-24T22:18:08.929271Z",
     "iopub.status.busy": "2021-06-24T22:18:08.928263Z",
     "iopub.status.idle": "2021-06-24T22:18:08.931049Z",
     "shell.execute_reply": "2021-06-24T22:18:08.932846Z"
    },
    "papermill": {
     "duration": 0.03699,
     "end_time": "2021-06-24T22:18:08.933025",
     "exception": false,
     "start_time": "2021-06-24T22:18:08.896035",
     "status": "completed"
    },
    "tags": [
     "parameters",
     "hide"
    ]
   },
   "outputs": [],
   "source": [
    "CALITP_ITP_ID = 98\n",
    "#CALITP_ITP_ID=45\n",
    "CALITP_URL_NUMBER = 0\n",
    "DEBUG = False\n",
    "\n",
    "START_DATE = \"2021-05-01\"\n",
    "END_DATE = \"2021-06-01\"\n",
    "DATE_TODAY=date.today()\n",
    "START_MONTH_DAY = friendly_date(START_DATE)\n",
    "END_MONTH_DAY = friendly_date(END_DATE)\n",
    "\n",
    "WEEK_MARKERS = pd.date_range(START_DATE, END_DATE, freq=\"W\").astype(str).tolist()\n",
    "BIWEEKLY_MARKERS = pd.date_range(START_DATE, END_DATE, freq=\"2W\").astype(str).tolist()"
   ]
  },
  {
   "cell_type": "code",
   "execution_count": 3,
   "id": "a2c7bd47",
   "metadata": {
    "execution": {
     "iopub.execute_input": "2021-06-24T22:18:08.982295Z",
     "iopub.status.busy": "2021-06-24T22:18:08.981579Z",
     "iopub.status.idle": "2021-06-24T22:18:08.984594Z",
     "shell.execute_reply": "2021-06-24T22:18:08.985082Z"
    },
    "papermill": {
     "duration": 0.031412,
     "end_time": "2021-06-24T22:18:08.985230",
     "exception": false,
     "start_time": "2021-06-24T22:18:08.953818",
     "status": "completed"
    },
    "tags": [
     "injected-parameters"
    ]
   },
   "outputs": [],
   "source": [
    "# Parameters\n",
    "CALITP_ITP_ID = 273\n",
    "CALITP_URL_NUMBER = 0\n",
    "DEBUG = False\n",
    "START_DATE = \"2021-05-01\"\n",
    "END_DATE = \"2021-06-01\"\n"
   ]
  },
  {
   "cell_type": "code",
   "execution_count": 4,
   "id": "cba884bc",
   "metadata": {
    "execution": {
     "iopub.execute_input": "2021-06-24T22:18:09.051006Z",
     "iopub.status.busy": "2021-06-24T22:18:09.049612Z",
     "iopub.status.idle": "2021-06-24T22:18:09.083931Z",
     "shell.execute_reply": "2021-06-24T22:18:09.084921Z"
    },
    "papermill": {
     "duration": 0.073237,
     "end_time": "2021-06-24T22:18:09.085142",
     "exception": false,
     "start_time": "2021-06-24T22:18:09.011905",
     "status": "completed"
    },
    "tags": [
     "hide"
    ]
   },
   "outputs": [],
   "source": [
    "if not DEBUG:\n",
    "    warnings.filterwarnings(\"ignore\")"
   ]
  },
  {
   "cell_type": "code",
   "execution_count": 5,
   "id": "fec4dea3",
   "metadata": {
    "execution": {
     "iopub.execute_input": "2021-06-24T22:18:09.156720Z",
     "iopub.status.busy": "2021-06-24T22:18:09.155691Z",
     "iopub.status.idle": "2021-06-24T22:18:09.178123Z",
     "shell.execute_reply": "2021-06-24T22:18:09.179077Z"
    },
    "papermill": {
     "duration": 0.062586,
     "end_time": "2021-06-24T22:18:09.179320",
     "exception": false,
     "start_time": "2021-06-24T22:18:09.116734",
     "status": "completed"
    },
    "tags": [
     "hide"
    ]
   },
   "outputs": [],
   "source": [
    "# Convenience functions ----\n",
    "\n",
    "filter_start = filter(\n",
    "    _.calitp_extracted_at <= START_DATE,\n",
    "    _.calitp_deleted_at.fillna(\"2099-01-01\") > START_DATE,\n",
    ")\n",
    "\n",
    "filter_end = filter(\n",
    "    _.calitp_extracted_at <= END_DATE,\n",
    "    _.calitp_deleted_at.fillna(\"2099-01-01\") > END_DATE,\n",
    ")\n",
    "\n",
    "filter_itp = filter(\n",
    "    _.calitp_itp_id == CALITP_ITP_ID, _.calitp_url_number == CALITP_URL_NUMBER\n",
    ")\n",
    "\n",
    "collect_to_dict = (\n",
    "    collect()\n",
    "    >> pipe(_.to_dict(orient=\"records\")[0])\n",
    ")\n",
    "\n",
    "\n",
    "select_rm_calitp = select(\n",
    "    -_.calitp_itp_id,\n",
    "    -_.calitp_url_number,\n",
    "    -_.calitp_hash,\n",
    "    -_.calitp_extracted_at,\n",
    "    -_.calitp_deleted_at,\n",
    ")\n",
    "\n",
    "def percent_format(labels):\n",
    "    return [\"{:.0f}%\".format(v*100) for v in labels]\n",
    "\n",
    "def query_id_changes(start_table, end_table, id_vars):\n",
    "    \"\"\"Calculate id variables that are removed, added, or unchanged between tables.\n",
    "    \n",
    "    It works by adding a special column to each table, performing a full join,\n",
    "    then checking where the special column is null.\n",
    "    \"\"\"\n",
    "    sym_id_vars = [_[k] for k in id_vars]\n",
    "\n",
    "    is_in_start = start_table >> select(*id_vars) >> mutate(is_in_start=True)\n",
    "    is_in_end = end_table >> select(*id_vars) >> mutate(is_in_end=True)\n",
    "\n",
    "    baseline = start_table >> count(*id_vars) >> rename(n_baseline=\"n\")\n",
    "    tallies = (\n",
    "        is_in_start\n",
    "        >> full_join(_, is_in_end, id_vars)\n",
    "        >> count(*sym_id_vars, _.is_in_start, _.is_in_end)\n",
    "        >> mutate(\n",
    "            status=case_when(\n",
    "                _,\n",
    "                {\n",
    "                    _.is_in_end.isna(): \"Removed\",\n",
    "                    _.is_in_start.isna(): \"Added\",\n",
    "                    True: \"Unchanged\",\n",
    "                },\n",
    "            )\n",
    "        )\n",
    "        >> count(*sym_id_vars[:-1], _.status)\n",
    "        >> group_by(*sym_id_vars[:-1])\n",
    "        >> mutate(percent=_.n / _.n.sum())\n",
    "    )\n",
    "\n",
    "    return tallies"
   ]
  },
  {
   "cell_type": "code",
   "execution_count": 6,
   "id": "7e59e732",
   "metadata": {
    "execution": {
     "iopub.execute_input": "2021-06-24T22:18:09.254628Z",
     "iopub.status.busy": "2021-06-24T22:18:09.243799Z",
     "iopub.status.idle": "2021-06-24T22:18:34.188317Z",
     "shell.execute_reply": "2021-06-24T22:18:34.189034Z"
    },
    "papermill": {
     "duration": 24.979936,
     "end_time": "2021-06-24T22:18:34.189265",
     "exception": false,
     "start_time": "2021-06-24T22:18:09.209329",
     "status": "completed"
    },
    "tags": [
     "hide"
    ]
   },
   "outputs": [],
   "source": [
    "# Data ====\n",
    "# 1. High level feed info ----\n",
    "feed_info = (\n",
    "    tbl.gtfs_schedule_type2.feed_info()\n",
    "    >> filter_end\n",
    "    >> filter_itp\n",
    "    >> select_rm_calitp\n",
    "    >> collect_to_dict\n",
    ")\n",
    "\n",
    "_n_routes = (\n",
    "    tbl.gtfs_schedule_type2.routes() >> filter_end >> filter_itp >> count() >> collect()\n",
    ")\n",
    "_n_stops = (\n",
    "    tbl.gtfs_schedule_type2.stops() >> filter_end >> filter_itp >> count() >> collect()\n",
    ")\n",
    "\n",
    "feed_info[\"n_routes\"] = int(_n_routes.loc[0, \"n\"])\n",
    "feed_info[\"n_stops\"] = int(_n_stops.loc[0, \"n\"])\n",
    "\n",
    "status = (\n",
    "    tbl.views.gtfs_status_latest()\n",
    "    >> filter(_.itp_id == CALITP_ITP_ID, _.url_number == CALITP_URL_NUMBER)\n",
    "    >> select(-_.url_number, -_.status)\n",
    "    >> select_rm_calitp\n",
    "    >> collect_to_dict\n",
    ")\n",
    "\n",
    "# 2. Monthly metrics ----\n",
    "# Service hours per day. Note that the queried table calculates service\n",
    "# hours per service id, so we need to sum across service ids for the day\n",
    "_cross_cal = (\n",
    "    tbl.views.dim_date()\n",
    "    >> filter(_.full_date.between(START_DATE, END_DATE))\n",
    "    >> select(_.service_date == _.full_date)\n",
    ")\n",
    "\n",
    "tbl_daily_service_hours = (\n",
    "    tbl.views.gtfs_schedule_service_daily_metrics()\n",
    "    >> filter_itp\n",
    "    >> filter(_.service_date.between(START_DATE, END_DATE))\n",
    "    >> right_join(_, _cross_cal, [\"service_date\"])\n",
    "    >> collect()\n",
    "    >> group_by(_.service_date)\n",
    "    >> summarize(\n",
    "        ttl_service_hours=(_.last_arrival_ts.max() - _.first_departure_ts.min()) / 3600,\n",
    "        ttl_service_hours2=_.ttl_service_hours.sum(),\n",
    "    )\n",
    "    >> mutate(\n",
    "        ttl_service_hours=_.ttl_service_hours.astype(float).round(2),\n",
    "        service_date=_.service_date.astype(\"datetime64[ns]\"),\n",
    "    )\n",
    ")\n",
    "\n",
    "# number of days where a feed did not have any trips in service\n",
    "n_expired_days = (\n",
    "    tbl_daily_service_hours\n",
    "    >> filter(_.ttl_service_hours.isna())\n",
    "    >> pipe(lambda d: {\"n\": d.shape[0]})\n",
    ")\n",
    "\n",
    "# 3. Stop and Route ID Changes ----\n",
    "\n",
    "_tbl_stops_start = tbl.gtfs_schedule_type2.stops() >> filter_itp >> filter_start\n",
    "_tbl_stops_end = tbl.gtfs_schedule_type2.stops() >> filter_itp >> filter_end\n",
    "tbl_stops_changed = (\n",
    "    query_id_changes(_tbl_stops_start, _tbl_stops_end, [\"stop_id\"]) >> collect()\n",
    ")\n",
    "\n",
    "_tbl_routes_start = tbl.gtfs_schedule_type2.routes() >> filter_itp >> filter_start\n",
    "_tbl_routes_end = tbl.gtfs_schedule_type2.routes() >> filter_itp >> filter_end\n",
    "tbl_routes_changed = (\n",
    "    query_id_changes(_tbl_routes_start, _tbl_routes_end, [\"route_id\"]) >> collect()\n",
    ")"
   ]
  },
  {
   "cell_type": "code",
   "execution_count": 7,
   "id": "41a2a863",
   "metadata": {
    "execution": {
     "iopub.execute_input": "2021-06-24T22:18:34.256140Z",
     "iopub.status.busy": "2021-06-24T22:18:34.254601Z",
     "iopub.status.idle": "2021-06-24T22:18:40.186199Z",
     "shell.execute_reply": "2021-06-24T22:18:40.185329Z"
    },
    "papermill": {
     "duration": 5.969777,
     "end_time": "2021-06-24T22:18:40.186404",
     "exception": false,
     "start_time": "2021-06-24T22:18:34.216627",
     "status": "completed"
    },
    "tags": [
     "hide"
    ]
   },
   "outputs": [],
   "source": [
    "# 4. Feed files being checked for ----\n",
    "\n",
    "file_categories = pd.DataFrame(\n",
    "    {\n",
    "        \"shapes.txt\": \"Visual display\",\n",
    "        \"pathways.txt\": \"Navigation\",\n",
    "        \"levels.txt\": \"Navigation\",\n",
    "        \"fare_rules.txt\": \"Fares\",\n",
    "        \"fare_leg_rules\": \"Fares\",\n",
    "        \"feed_info.txt\": \"Technical contacts\",\n",
    "    }.items(),\n",
    "    columns=[\"name\", \"category\"],\n",
    ")\n",
    "\n",
    "importance = [\"Visual display\", \"Navigation\", \"Fares\", \"Technical contacts\"]\n",
    "\n",
    "tbl_file_check = (\n",
    "    tbl.gtfs_schedule_history.calitp_files_updates()\n",
    "    >> filter_itp\n",
    "    >> filter(_.calitp_extracted_at.isin(BIWEEKLY_MARKERS))\n",
    "    >> select(_.name, _.calitp_extracted_at)\n",
    "    >> collect()\n",
    "    >> right_join(_, file_categories, [\"name\"])\n",
    "    >> mutate(\n",
    "        calitp_extracted_at=_.calitp_extracted_at.fillna(\"missing\").astype(str),\n",
    "        success=\"✅\",\n",
    "    )\n",
    "    >> spread(_.calitp_extracted_at, _.success)\n",
    "    >> select(-_.missing)\n",
    "    >> arrange(_.category.apply(importance.index))\n",
    "    >> select(_.category, _.contains(\"\"))\n",
    "    >> pipe(_.fillna(\"\"))\n",
    ")\n",
    "\n",
    "tbl_validation_notices = (\n",
    "    tbl.views.validation_notices()\n",
    "    >> filter_itp\n",
    "    >> filter(_.severity == \"ERROR\")\n",
    "    >> count(_.code, _.severity)\n",
    "    >> collect()\n",
    ")"
   ]
  },
  {
   "cell_type": "markdown",
   "id": "e77650d0",
   "metadata": {
    "papermill": {
     "duration": 0.028375,
     "end_time": "2021-06-24T22:18:40.245640",
     "exception": false,
     "start_time": "2021-06-24T22:18:40.217265",
     "status": "completed"
    },
    "tags": [
     "hide"
    ]
   },
   "source": [
    "## Dump data"
   ]
  },
  {
   "cell_type": "code",
   "execution_count": 8,
   "id": "a27de108",
   "metadata": {
    "execution": {
     "iopub.execute_input": "2021-06-24T22:18:40.321187Z",
     "iopub.status.busy": "2021-06-24T22:18:40.320175Z",
     "iopub.status.idle": "2021-06-24T22:18:40.329911Z",
     "shell.execute_reply": "2021-06-24T22:18:40.330635Z"
    },
    "papermill": {
     "duration": 0.048137,
     "end_time": "2021-06-24T22:18:40.330856",
     "exception": false,
     "start_time": "2021-06-24T22:18:40.282719",
     "status": "completed"
    },
    "tags": [
     "hide"
    ]
   },
   "outputs": [],
   "source": [
    "import json\n",
    "import shutil\n",
    "\n",
    "from pathlib import Path\n",
    "\n",
    "out_dir = Path(f\"output/{CALITP_ITP_ID}_{CALITP_URL_NUMBER}/data\")\n",
    "out_dir.mkdir(parents=True, exist_ok=True)\n",
    "\n",
    "json.dump(feed_info, open(out_dir / \"1_feed_info.json\", \"w\"))\n",
    "json.dump(status, open(out_dir / \"1_status.json\", \"w\"))\n",
    "\n",
    "tbl_daily_service_hours.to_json(out_dir / \"2_daily_service_hours.json\", orient=\"records\")\n",
    "json.dump(n_expired_days, open(out_dir / \"2_n_expired_days.json\", \"w\"))\n",
    "\n",
    "tbl_stops_changed.to_json(out_dir / \"3_stops_changed.json\", orient=\"records\")\n",
    "tbl_routes_changed.to_json(out_dir / \"3_routes_changed.json\", orient=\"records\")\n",
    "tbl_file_check.to_json(out_dir / \"4_file_check.json\", orient=\"records\")\n",
    "tbl_validation_notices.to_json(out_dir / \"4_validation_notices.json\", orient=\"records\")\n"
   ]
  },
  {
   "cell_type": "markdown",
   "id": "7bb7e7e3",
   "metadata": {
    "papermill": {
     "duration": 0.016748,
     "end_time": "2021-06-24T22:18:40.364373",
     "exception": false,
     "start_time": "2021-06-24T22:18:40.347625",
     "status": "completed"
    },
    "tags": []
   },
   "source": [
    "# Monthly GTFS Quality Report"
   ]
  },
  {
   "cell_type": "code",
   "execution_count": 9,
   "id": "d04d7dfc",
   "metadata": {
    "execution": {
     "iopub.execute_input": "2021-06-24T22:18:40.408306Z",
     "iopub.status.busy": "2021-06-24T22:18:40.407505Z",
     "iopub.status.idle": "2021-06-24T22:18:40.411168Z",
     "shell.execute_reply": "2021-06-24T22:18:40.411577Z"
    },
    "papermill": {
     "duration": 0.028974,
     "end_time": "2021-06-24T22:18:40.411708",
     "exception": false,
     "start_time": "2021-06-24T22:18:40.382734",
     "status": "completed"
    },
    "tags": []
   },
   "outputs": [
    {
     "data": {
      "text/markdown": [
       "\n",
       "Transit provider name: Sacramento Regional Transit\n",
       "\n",
       "Date generated: 2021-06-24\n"
      ],
      "text/plain": [
       "<IPython.core.display.Markdown object>"
      ]
     },
     "execution_count": 9,
     "metadata": {},
     "output_type": "execute_result"
    }
   ],
   "source": [
    "from IPython.display import Markdown\n",
    "\n",
    "Markdown(f\"\"\"\n",
    "Transit provider name: {feed_info[\"feed_publisher_name\"]}\n",
    "\n",
    "Date generated: {DATE_TODAY}\n",
    "\"\"\")"
   ]
  },
  {
   "cell_type": "markdown",
   "id": "9590f2e8",
   "metadata": {
    "papermill": {
     "duration": 0.021269,
     "end_time": "2021-06-24T22:18:40.450944",
     "exception": false,
     "start_time": "2021-06-24T22:18:40.429675",
     "status": "completed"
    },
    "tags": []
   },
   "source": [
    "This is a monthly report, generated by the California Integrated Travel Project ([Cal-ITP](https://dot.ca.gov/cal-itp/cal-itp-gtfs)), summarizing issues discovered by [MobilityData](http://mobilitydata.io/)’s [GTFS Validator](https://github.com/MobilityData/gtfs-validator). This report is available for viewing by the general public to support continuous improvement of GTFS data and the experience of transit passengers. "
   ]
  },
  {
   "cell_type": "markdown",
   "id": "bd1100bb",
   "metadata": {
    "papermill": {
     "duration": 0.017591,
     "end_time": "2021-06-24T22:18:40.487475",
     "exception": false,
     "start_time": "2021-06-24T22:18:40.469884",
     "status": "completed"
    },
    "tags": []
   },
   "source": [
    "## Overview"
   ]
  },
  {
   "cell_type": "code",
   "execution_count": 10,
   "id": "384a1d53",
   "metadata": {
    "execution": {
     "iopub.execute_input": "2021-06-24T22:18:40.527696Z",
     "iopub.status.busy": "2021-06-24T22:18:40.526401Z",
     "iopub.status.idle": "2021-06-24T22:18:40.531084Z",
     "shell.execute_reply": "2021-06-24T22:18:40.531853Z"
    },
    "papermill": {
     "duration": 0.028726,
     "end_time": "2021-06-24T22:18:40.532071",
     "exception": false,
     "start_time": "2021-06-24T22:18:40.503345",
     "status": "completed"
    },
    "tags": []
   },
   "outputs": [
    {
     "data": {
      "text/markdown": [
       "\n",
       "Feed location: http://iportal.sacrt.com/GTFS/SRTD/google_transit.zip\n",
       "\n",
       "Metrics for the most recent published version of the feed:\n",
       "\n",
       "* Date published: June_2021\n",
       "* Number of routes in any service: 69\n",
       "* Number of stops in service: 2819\n"
      ],
      "text/plain": [
       "<IPython.core.display.Markdown object>"
      ]
     },
     "execution_count": 10,
     "metadata": {},
     "output_type": "execute_result"
    }
   ],
   "source": [
    "Markdown(f\"\"\"\n",
    "Feed location: {status[\"gtfs_schedule_url\"]}\n",
    "\n",
    "Metrics for the most recent published version of the feed:\n",
    "\n",
    "* Date published: {feed_info[\"feed_version\"]}\n",
    "* Number of routes in any service: {feed_info[\"n_routes\"]}\n",
    "* Number of stops in service: {feed_info[\"n_stops\"]}\n",
    "\"\"\")"
   ]
  },
  {
   "cell_type": "markdown",
   "id": "d9a849cd",
   "metadata": {
    "papermill": {
     "duration": 0.026041,
     "end_time": "2021-06-24T22:18:40.579579",
     "exception": false,
     "start_time": "2021-06-24T22:18:40.553538",
     "status": "completed"
    },
    "tags": []
   },
   "source": [
    "## Aggregated Metrics for May"
   ]
  },
  {
   "cell_type": "code",
   "execution_count": 11,
   "id": "464b5267",
   "metadata": {
    "execution": {
     "iopub.execute_input": "2021-06-24T22:18:40.653148Z",
     "iopub.status.busy": "2021-06-24T22:18:40.651855Z",
     "iopub.status.idle": "2021-06-24T22:18:40.660176Z",
     "shell.execute_reply": "2021-06-24T22:18:40.660799Z"
    },
    "papermill": {
     "duration": 0.047012,
     "end_time": "2021-06-24T22:18:40.660946",
     "exception": false,
     "start_time": "2021-06-24T22:18:40.613934",
     "status": "completed"
    },
    "tags": []
   },
   "outputs": [
    {
     "data": {
      "text/markdown": [
       "\n",
       "Days with no service hours: 32\n"
      ],
      "text/plain": [
       "<IPython.core.display.Markdown object>"
      ]
     },
     "execution_count": 11,
     "metadata": {},
     "output_type": "execute_result"
    }
   ],
   "source": [
    "# TODO: \n",
    "\n",
    "# Markdown(f\"\"\"\n",
    "# Days when the active feed was expired: {n_expired_days[\"n\"]}\n",
    "# \"\"\")\n",
    "\n",
    "Markdown(f\"\"\"\n",
    "Days with no service hours: {n_expired_days[\"n\"]}\n",
    "\"\"\")\n"
   ]
  },
  {
   "cell_type": "code",
   "execution_count": 12,
   "id": "e0575e37",
   "metadata": {
    "execution": {
     "iopub.execute_input": "2021-06-24T22:18:40.762532Z",
     "iopub.status.busy": "2021-06-24T22:18:40.761551Z",
     "iopub.status.idle": "2021-06-24T22:18:41.155304Z",
     "shell.execute_reply": "2021-06-24T22:18:41.155801Z"
    },
    "papermill": {
     "duration": 0.466565,
     "end_time": "2021-06-24T22:18:41.155957",
     "exception": false,
     "start_time": "2021-06-24T22:18:40.689392",
     "status": "completed"
    },
    "tags": []
   },
   "outputs": [
    {
     "data": {
      "image/png": "[encoded data removed]",
      "text/plain": [
       "<Figure size 640x480 with 1 Axes>"
      ]
     },
     "metadata": {},
     "output_type": "display_data"
    }
   ],
   "source": [
    "(\n",
    "    tbl_daily_service_hours\n",
    "    >> ggplot(aes(\"service_date\", \"ttl_service_hours2\"))\n",
    "    + geom_line()\n",
    "    + geom_point()\n",
    "    + theme(axis_text_x=element_text(angle=45, hjust=1))\n",
    "    + scale_x_datetime(date_breaks=\"1 week\")\n",
    "    + expand_limits(y=0)\n",
    "    + labs(y = \"Total service hours\", x = \"Service date\", title=\"Service hour per day\")\n",
    ").draw();"
   ]
  },
  {
   "cell_type": "markdown",
   "id": "390ee4af",
   "metadata": {
    "papermill": {
     "duration": 0.018485,
     "end_time": "2021-06-24T22:18:41.194540",
     "exception": false,
     "start_time": "2021-06-24T22:18:41.176055",
     "status": "completed"
    },
    "tags": []
   },
   "source": [
    "## Changes Since Previous Month"
   ]
  },
  {
   "cell_type": "code",
   "execution_count": 13,
   "id": "1f76ddb8",
   "metadata": {
    "execution": {
     "iopub.execute_input": "2021-06-24T22:18:41.241127Z",
     "iopub.status.busy": "2021-06-24T22:18:41.240089Z",
     "iopub.status.idle": "2021-06-24T22:18:41.546918Z",
     "shell.execute_reply": "2021-06-24T22:18:41.547417Z"
    },
    "papermill": {
     "duration": 0.334379,
     "end_time": "2021-06-24T22:18:41.547608",
     "exception": false,
     "start_time": "2021-06-24T22:18:41.213229",
     "status": "completed"
    },
    "tags": []
   },
   "outputs": [
    {
     "data": {
      "image/png": "[encoded data removed]",
      "text/plain": [
       "<Figure size 640x480 with 1 Axes>"
      ]
     },
     "metadata": {},
     "output_type": "display_data"
    }
   ],
   "source": [
    "(\n",
    "    pd.concat(\n",
    "        [\n",
    "            tbl_stops_changed >> mutate(kind=\"Stops\"),\n",
    "            tbl_routes_changed >> mutate(kind=\"Routes\"),\n",
    "        ]\n",
    "    )\n",
    "    >> ggplot(aes(\"kind\", \"n\", fill=\"status\"))\n",
    "    + geom_col()\n",
    "    + labs(\n",
    "        x=\"GTFS schedule table\",\n",
    "        y=\"Number of IDs\",\n",
    "        title=f\"IDs Changed Between {START_MONTH_DAY} and {END_MONTH_DAY}\",\n",
    "    )\n",
    ").draw();"
   ]
  },
  {
   "cell_type": "markdown",
   "id": "1fcdec5b",
   "metadata": {
    "papermill": {
     "duration": 0.024095,
     "end_time": "2021-06-24T22:18:41.592171",
     "exception": false,
     "start_time": "2021-06-24T22:18:41.568076",
     "status": "completed"
    },
    "tags": []
   },
   "source": [
    "### (Alternative version using percentages)"
   ]
  },
  {
   "cell_type": "code",
   "execution_count": 14,
   "id": "255ad6dc",
   "metadata": {
    "execution": {
     "iopub.execute_input": "2021-06-24T22:18:41.674943Z",
     "iopub.status.busy": "2021-06-24T22:18:41.666748Z",
     "iopub.status.idle": "2021-06-24T22:18:42.000603Z",
     "shell.execute_reply": "2021-06-24T22:18:42.000059Z"
    },
    "papermill": {
     "duration": 0.390428,
     "end_time": "2021-06-24T22:18:42.000719",
     "exception": false,
     "start_time": "2021-06-24T22:18:41.610291",
     "status": "completed"
    },
    "tags": []
   },
   "outputs": [
    {
     "data": {
      "image/png": "[encoded data removed]",
      "text/plain": [
       "<Figure size 640x480 with 1 Axes>"
      ]
     },
     "metadata": {},
     "output_type": "display_data"
    }
   ],
   "source": [
    "(\n",
    "    pd.concat(\n",
    "        [\n",
    "            tbl_stops_changed >> mutate(kind=\"Stops\"),\n",
    "            tbl_routes_changed >> mutate(kind=\"Routes\"),\n",
    "        ]\n",
    "    )\n",
    "    >> ggplot(aes(\"kind\", \"percent\", fill=\"status\"))\n",
    "    + geom_col()\n",
    "    + labs(\n",
    "        x=\"GTFS schedule table\",\n",
    "        y=\"Percentage of IDs\",\n",
    "        title=f\"IDs Changed Between {START_MONTH_DAY} and {END_MONTH_DAY}\",\n",
    "    )\n",
    "    + scale_y_continuous(labels=percent_format, breaks=np.arange(0, 1.2, 0.2))\n",
    ").draw();"
   ]
  },
  {
   "cell_type": "markdown",
   "id": "51947909",
   "metadata": {
    "papermill": {
     "duration": 0.020147,
     "end_time": "2021-06-24T22:18:42.040902",
     "exception": false,
     "start_time": "2021-06-24T22:18:42.020755",
     "status": "completed"
    },
    "tags": []
   },
   "source": [
    "## Consistency with the [California GTFS Minimum Guidelines](https://dot.ca.gov/cal-itp/california-minimum-general-transit-feed-specification-gtfs-guidelines) for the feed downloaded\n"
   ]
  },
  {
   "cell_type": "markdown",
   "id": "7c4331b4",
   "metadata": {
    "papermill": {
     "duration": 0.022054,
     "end_time": "2021-06-24T22:18:42.085989",
     "exception": false,
     "start_time": "2021-06-24T22:18:42.063935",
     "status": "completed"
    },
    "tags": []
   },
   "source": [
    "### Do the following files/fields exist?"
   ]
  },
  {
   "cell_type": "code",
   "execution_count": 15,
   "id": "645d4f03",
   "metadata": {
    "execution": {
     "iopub.execute_input": "2021-06-24T22:18:42.135583Z",
     "iopub.status.busy": "2021-06-24T22:18:42.134597Z",
     "iopub.status.idle": "2021-06-24T22:18:42.143713Z",
     "shell.execute_reply": "2021-06-24T22:18:42.143231Z"
    },
    "papermill": {
     "duration": 0.036955,
     "end_time": "2021-06-24T22:18:42.143830",
     "exception": false,
     "start_time": "2021-06-24T22:18:42.106875",
     "status": "completed"
    },
    "tags": []
   },
   "outputs": [
    {
     "data": {
      "text/html": [
       "<div>\n",
       "<style scoped>\n",
       "    .dataframe tbody tr th:only-of-type {\n",
       "        vertical-align: middle;\n",
       "    }\n",
       "\n",
       "    .dataframe tbody tr th {\n",
       "        vertical-align: top;\n",
       "    }\n",
       "\n",
       "    .dataframe thead th {\n",
       "        text-align: right;\n",
       "    }\n",
       "</style>\n",
       "<table border=\"1\" class=\"dataframe\">\n",
       "  <thead>\n",
       "    <tr style=\"text-align: right;\">\n",
       "      <th></th>\n",
       "      <th>category</th>\n",
       "      <th>name</th>\n",
       "      <th>2021-05-02</th>\n",
       "      <th>2021-05-16</th>\n",
       "      <th>2021-05-30</th>\n",
       "    </tr>\n",
       "  </thead>\n",
       "  <tbody>\n",
       "    <tr>\n",
       "      <th>5</th>\n",
       "      <td>Visual display</td>\n",
       "      <td>shapes.txt</td>\n",
       "      <td>✅</td>\n",
       "      <td>✅</td>\n",
       "      <td>✅</td>\n",
       "    </tr>\n",
       "    <tr>\n",
       "      <th>3</th>\n",
       "      <td>Navigation</td>\n",
       "      <td>levels.txt</td>\n",
       "      <td></td>\n",
       "      <td></td>\n",
       "      <td></td>\n",
       "    </tr>\n",
       "    <tr>\n",
       "      <th>4</th>\n",
       "      <td>Navigation</td>\n",
       "      <td>pathways.txt</td>\n",
       "      <td></td>\n",
       "      <td></td>\n",
       "      <td></td>\n",
       "    </tr>\n",
       "    <tr>\n",
       "      <th>0</th>\n",
       "      <td>Fares</td>\n",
       "      <td>fare_leg_rules</td>\n",
       "      <td></td>\n",
       "      <td></td>\n",
       "      <td></td>\n",
       "    </tr>\n",
       "    <tr>\n",
       "      <th>1</th>\n",
       "      <td>Fares</td>\n",
       "      <td>fare_rules.txt</td>\n",
       "      <td></td>\n",
       "      <td></td>\n",
       "      <td></td>\n",
       "    </tr>\n",
       "    <tr>\n",
       "      <th>2</th>\n",
       "      <td>Technical contacts</td>\n",
       "      <td>feed_info.txt</td>\n",
       "      <td>✅</td>\n",
       "      <td>✅</td>\n",
       "      <td>✅</td>\n",
       "    </tr>\n",
       "  </tbody>\n",
       "</table>\n",
       "</div>"
      ],
      "text/plain": [
       "             category            name 2021-05-02 2021-05-16 2021-05-30\n",
       "5      Visual display      shapes.txt          ✅          ✅          ✅\n",
       "3          Navigation      levels.txt                                 \n",
       "4          Navigation    pathways.txt                                 \n",
       "0               Fares  fare_leg_rules                                 \n",
       "1               Fares  fare_rules.txt                                 \n",
       "2  Technical contacts   feed_info.txt          ✅          ✅          ✅"
      ]
     },
     "execution_count": 15,
     "metadata": {},
     "output_type": "execute_result"
    }
   ],
   "source": [
    "tbl_file_check"
   ]
  },
  {
   "cell_type": "markdown",
   "id": "a135c380",
   "metadata": {
    "papermill": {
     "duration": 0.019793,
     "end_time": "2021-06-24T22:18:42.185223",
     "exception": false,
     "start_time": "2021-06-24T22:18:42.165430",
     "status": "completed"
    },
    "tags": []
   },
   "source": [
    "### Validation Errors Observed"
   ]
  },
  {
   "cell_type": "code",
   "execution_count": 16,
   "id": "43c7b680",
   "metadata": {
    "execution": {
     "iopub.execute_input": "2021-06-24T22:18:42.260432Z",
     "iopub.status.busy": "2021-06-24T22:18:42.259189Z",
     "iopub.status.idle": "2021-06-24T22:18:42.269420Z",
     "shell.execute_reply": "2021-06-24T22:18:42.268515Z"
    },
    "papermill": {
     "duration": 0.05738,
     "end_time": "2021-06-24T22:18:42.269584",
     "exception": false,
     "start_time": "2021-06-24T22:18:42.212204",
     "status": "completed"
    },
    "tags": []
   },
   "outputs": [
    {
     "data": {
      "text/markdown": [
       "No validation error observed in your feed."
      ],
      "text/plain": [
       "<IPython.core.display.Markdown object>"
      ]
     },
     "metadata": {},
     "output_type": "display_data"
    }
   ],
   "source": [
    "if tbl_validation_notices.shape[0] == 0:\n",
    "    display(Markdown(\"No validation error observed in your feed.\"))\n",
    "else:    \n",
    "    display(tbl_validation_notices)"
   ]
  },
  {
   "cell_type": "markdown",
   "id": "bdfb3d3e",
   "metadata": {
    "papermill": {
     "duration": 0.027921,
     "end_time": "2021-06-24T22:18:42.331677",
     "exception": false,
     "start_time": "2021-06-24T22:18:42.303756",
     "status": "completed"
    },
    "tags": []
   },
   "source": [
    "For more information about Cal-ITP, including the [Minimum GTFS Guidelines](https://dot.ca.gov/cal-itp/california-minimum-general-transit-feed-specification-gtfs-guidelines) and our [Transit Data Helpdesk](https://dot.ca.gov/programs/rail-and-mass-transportation/gtfs/helpdesk), contact [GTFSRT@dot.ca.gov](mailto:GTFSRT@dot.ca.gov)."
   ]
  }
 ],
 "metadata": {
  "kernelspec": {
   "display_name": "venv-calitp-py",
   "language": "python",
   "name": "venv-calitp-py"
  },
  "language_info": {
   "codemirror_mode": {
    "name": "ipython",
    "version": 3
   },
   "file_extension": ".py",
   "mimetype": "text/x-python",
   "name": "python",
   "nbconvert_exporter": "python",
   "pygments_lexer": "ipython3",
   "version": "3.8.5"
  },
  "papermill": {
   "default_parameters": {},
   "duration": 42.33175,
   "end_time": "2021-06-24T22:18:42.978725",
   "environment_variables": {},
   "exception": null,
   "input_path": "report.ipynb",
   "output_path": "output/273/report.ipynb",
   "parameters": {
    "CALITP_ITP_ID": 273,
    "CALITP_URL_NUMBER": 0,
    "DEBUG": false,
    "END_DATE": "2021-06-01",
    "START_DATE": "2021-05-01"
   },
   "start_time": "2021-06-24T22:18:00.646975",
   "version": "2.3.3"
  }
 },
 "nbformat": 4,
 "nbformat_minor": 5
}