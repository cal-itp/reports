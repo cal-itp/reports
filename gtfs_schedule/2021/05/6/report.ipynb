{
 "cells": [
  {
   "cell_type": "markdown",
   "id": "b37097dc",
   "metadata": {
    "papermill": {
     "duration": 0.022606,
     "end_time": "2021-06-24T22:08:21.657779",
     "exception": false,
     "start_time": "2021-06-24T22:08:21.635173",
     "status": "completed"
    },
    "tags": [
     "hide"
    ]
   },
   "source": [
    "# Setup"
   ]
  },
  {
   "cell_type": "code",
   "execution_count": 1,
   "id": "b62f3166",
   "metadata": {
    "execution": {
     "iopub.execute_input": "2021-06-24T22:08:21.721069Z",
     "iopub.status.busy": "2021-06-24T22:08:21.720072Z",
     "iopub.status.idle": "2021-06-24T22:08:37.543295Z",
     "shell.execute_reply": "2021-06-24T22:08:37.544413Z"
    },
    "papermill": {
     "duration": 15.85812,
     "end_time": "2021-06-24T22:08:37.544802",
     "exception": false,
     "start_time": "2021-06-24T22:08:21.686682",
     "status": "completed"
    },
    "tags": [
     "hide"
    ]
   },
   "outputs": [],
   "source": [
    "import pandas as pd\n",
    "import numpy as np\n",
    "import warnings\n",
    "\n",
    "from io import StringIO\n",
    "from calitp.tables import tbl\n",
    "from datetime import date, datetime\n",
    "from siuba import *\n",
    "from plotnine import *\n",
    "\n",
    "def friendly_date(x): \n",
    "    return datetime.strptime(x, \"%Y-%m-%d\").strftime(\"%b %d\")"
   ]
  },
  {
   "cell_type": "code",
   "execution_count": 2,
   "id": "dc08e299",
   "metadata": {
    "execution": {
     "iopub.execute_input": "2021-06-24T22:08:37.625309Z",
     "iopub.status.busy": "2021-06-24T22:08:37.624171Z",
     "iopub.status.idle": "2021-06-24T22:08:37.630117Z",
     "shell.execute_reply": "2021-06-24T22:08:37.631604Z"
    },
    "papermill": {
     "duration": 0.05307,
     "end_time": "2021-06-24T22:08:37.631884",
     "exception": false,
     "start_time": "2021-06-24T22:08:37.578814",
     "status": "completed"
    },
    "tags": [
     "parameters",
     "hide"
    ]
   },
   "outputs": [],
   "source": [
    "CALITP_ITP_ID = 98\n",
    "#CALITP_ITP_ID=45\n",
    "CALITP_URL_NUMBER = 0\n",
    "DEBUG = False\n",
    "\n",
    "START_DATE = \"2021-05-01\"\n",
    "END_DATE = \"2021-06-01\"\n",
    "DATE_TODAY=date.today()\n",
    "START_MONTH_DAY = friendly_date(START_DATE)\n",
    "END_MONTH_DAY = friendly_date(END_DATE)\n",
    "\n",
    "WEEK_MARKERS = pd.date_range(START_DATE, END_DATE, freq=\"W\").astype(str).tolist()\n",
    "BIWEEKLY_MARKERS = pd.date_range(START_DATE, END_DATE, freq=\"2W\").astype(str).tolist()"
   ]
  },
  {
   "cell_type": "code",
   "execution_count": 3,
   "id": "2d09ee76",
   "metadata": {
    "execution": {
     "iopub.execute_input": "2021-06-24T22:08:37.705365Z",
     "iopub.status.busy": "2021-06-24T22:08:37.699730Z",
     "iopub.status.idle": "2021-06-24T22:08:37.712460Z",
     "shell.execute_reply": "2021-06-24T22:08:37.714170Z"
    },
    "papermill": {
     "duration": 0.050247,
     "end_time": "2021-06-24T22:08:37.714466",
     "exception": false,
     "start_time": "2021-06-24T22:08:37.664219",
     "status": "completed"
    },
    "tags": [
     "injected-parameters"
    ]
   },
   "outputs": [],
   "source": [
    "# Parameters\n",
    "CALITP_ITP_ID = 6\n",
    "CALITP_URL_NUMBER = 0\n",
    "DEBUG = False\n",
    "START_DATE = \"2021-05-01\"\n",
    "END_DATE = \"2021-06-01\"\n"
   ]
  },
  {
   "cell_type": "code",
   "execution_count": 4,
   "id": "72a63b85",
   "metadata": {
    "execution": {
     "iopub.execute_input": "2021-06-24T22:08:37.801718Z",
     "iopub.status.busy": "2021-06-24T22:08:37.800427Z",
     "iopub.status.idle": "2021-06-24T22:08:37.803373Z",
     "shell.execute_reply": "2021-06-24T22:08:37.804132Z"
    },
    "papermill": {
     "duration": 0.057579,
     "end_time": "2021-06-24T22:08:37.804530",
     "exception": false,
     "start_time": "2021-06-24T22:08:37.746951",
     "status": "completed"
    },
    "tags": [
     "hide"
    ]
   },
   "outputs": [],
   "source": [
    "if not DEBUG:\n",
    "    warnings.filterwarnings(\"ignore\")"
   ]
  },
  {
   "cell_type": "code",
   "execution_count": 5,
   "id": "18ede204",
   "metadata": {
    "execution": {
     "iopub.execute_input": "2021-06-24T22:08:37.965360Z",
     "iopub.status.busy": "2021-06-24T22:08:37.963932Z",
     "iopub.status.idle": "2021-06-24T22:08:37.972086Z",
     "shell.execute_reply": "2021-06-24T22:08:37.970158Z"
    },
    "papermill": {
     "duration": 0.088563,
     "end_time": "2021-06-24T22:08:37.972316",
     "exception": false,
     "start_time": "2021-06-24T22:08:37.883753",
     "status": "completed"
    },
    "tags": [
     "hide"
    ]
   },
   "outputs": [],
   "source": [
    "# Convenience functions ----\n",
    "\n",
    "filter_start = filter(\n",
    "    _.calitp_extracted_at <= START_DATE,\n",
    "    _.calitp_deleted_at.fillna(\"2099-01-01\") > START_DATE,\n",
    ")\n",
    "\n",
    "filter_end = filter(\n",
    "    _.calitp_extracted_at <= END_DATE,\n",
    "    _.calitp_deleted_at.fillna(\"2099-01-01\") > END_DATE,\n",
    ")\n",
    "\n",
    "filter_itp = filter(\n",
    "    _.calitp_itp_id == CALITP_ITP_ID, _.calitp_url_number == CALITP_URL_NUMBER\n",
    ")\n",
    "\n",
    "collect_to_dict = (\n",
    "    collect()\n",
    "    >> pipe(_.to_dict(orient=\"records\")[0])\n",
    ")\n",
    "\n",
    "\n",
    "select_rm_calitp = select(\n",
    "    -_.calitp_itp_id,\n",
    "    -_.calitp_url_number,\n",
    "    -_.calitp_hash,\n",
    "    -_.calitp_extracted_at,\n",
    "    -_.calitp_deleted_at,\n",
    ")\n",
    "\n",
    "def percent_format(labels):\n",
    "    return [\"{:.0f}%\".format(v*100) for v in labels]\n",
    "\n",
    "def query_id_changes(start_table, end_table, id_vars):\n",
    "    \"\"\"Calculate id variables that are removed, added, or unchanged between tables.\n",
    "    \n",
    "    It works by adding a special column to each table, performing a full join,\n",
    "    then checking where the special column is null.\n",
    "    \"\"\"\n",
    "    sym_id_vars = [_[k] for k in id_vars]\n",
    "\n",
    "    is_in_start = start_table >> select(*id_vars) >> mutate(is_in_start=True)\n",
    "    is_in_end = end_table >> select(*id_vars) >> mutate(is_in_end=True)\n",
    "\n",
    "    baseline = start_table >> count(*id_vars) >> rename(n_baseline=\"n\")\n",
    "    tallies = (\n",
    "        is_in_start\n",
    "        >> full_join(_, is_in_end, id_vars)\n",
    "        >> count(*sym_id_vars, _.is_in_start, _.is_in_end)\n",
    "        >> mutate(\n",
    "            status=case_when(\n",
    "                _,\n",
    "                {\n",
    "                    _.is_in_end.isna(): \"Removed\",\n",
    "                    _.is_in_start.isna(): \"Added\",\n",
    "                    True: \"Unchanged\",\n",
    "                },\n",
    "            )\n",
    "        )\n",
    "        >> count(*sym_id_vars[:-1], _.status)\n",
    "        >> group_by(*sym_id_vars[:-1])\n",
    "        >> mutate(percent=_.n / _.n.sum())\n",
    "    )\n",
    "\n",
    "    return tallies"
   ]
  },
  {
   "cell_type": "code",
   "execution_count": 6,
   "id": "b7eae69e",
   "metadata": {
    "execution": {
     "iopub.execute_input": "2021-06-24T22:08:38.078517Z",
     "iopub.status.busy": "2021-06-24T22:08:38.077242Z",
     "iopub.status.idle": "2021-06-24T22:09:05.250149Z",
     "shell.execute_reply": "2021-06-24T22:09:05.249682Z"
    },
    "papermill": {
     "duration": 27.235022,
     "end_time": "2021-06-24T22:09:05.250281",
     "exception": false,
     "start_time": "2021-06-24T22:08:38.015259",
     "status": "completed"
    },
    "tags": [
     "hide"
    ]
   },
   "outputs": [],
   "source": [
    "# Data ====\n",
    "# 1. High level feed info ----\n",
    "feed_info = (\n",
    "    tbl.gtfs_schedule_type2.feed_info()\n",
    "    >> filter_end\n",
    "    >> filter_itp\n",
    "    >> select_rm_calitp\n",
    "    >> collect_to_dict\n",
    ")\n",
    "\n",
    "_n_routes = (\n",
    "    tbl.gtfs_schedule_type2.routes() >> filter_end >> filter_itp >> count() >> collect()\n",
    ")\n",
    "_n_stops = (\n",
    "    tbl.gtfs_schedule_type2.stops() >> filter_end >> filter_itp >> count() >> collect()\n",
    ")\n",
    "\n",
    "feed_info[\"n_routes\"] = int(_n_routes.loc[0, \"n\"])\n",
    "feed_info[\"n_stops\"] = int(_n_stops.loc[0, \"n\"])\n",
    "\n",
    "status = (\n",
    "    tbl.views.gtfs_status_latest()\n",
    "    >> filter(_.itp_id == CALITP_ITP_ID, _.url_number == CALITP_URL_NUMBER)\n",
    "    >> select(-_.url_number, -_.status)\n",
    "    >> select_rm_calitp\n",
    "    >> collect_to_dict\n",
    ")\n",
    "\n",
    "# 2. Monthly metrics ----\n",
    "# Service hours per day. Note that the queried table calculates service\n",
    "# hours per service id, so we need to sum across service ids for the day\n",
    "_cross_cal = (\n",
    "    tbl.views.dim_date()\n",
    "    >> filter(_.full_date.between(START_DATE, END_DATE))\n",
    "    >> select(_.service_date == _.full_date)\n",
    ")\n",
    "\n",
    "tbl_daily_service_hours = (\n",
    "    tbl.views.gtfs_schedule_service_daily_metrics()\n",
    "    >> filter_itp\n",
    "    >> filter(_.service_date.between(START_DATE, END_DATE))\n",
    "    >> right_join(_, _cross_cal, [\"service_date\"])\n",
    "    >> collect()\n",
    "    >> group_by(_.service_date)\n",
    "    >> summarize(\n",
    "        ttl_service_hours=(_.last_arrival_ts.max() - _.first_departure_ts.min()) / 3600,\n",
    "        ttl_service_hours2=_.ttl_service_hours.sum(),\n",
    "    )\n",
    "    >> mutate(\n",
    "        ttl_service_hours=_.ttl_service_hours.astype(float).round(2),\n",
    "        service_date=_.service_date.astype(\"datetime64[ns]\"),\n",
    "    )\n",
    ")\n",
    "\n",
    "# number of days where a feed did not have any trips in service\n",
    "n_expired_days = (\n",
    "    tbl_daily_service_hours\n",
    "    >> filter(_.ttl_service_hours.isna())\n",
    "    >> pipe(lambda d: {\"n\": d.shape[0]})\n",
    ")\n",
    "\n",
    "# 3. Stop and Route ID Changes ----\n",
    "\n",
    "_tbl_stops_start = tbl.gtfs_schedule_type2.stops() >> filter_itp >> filter_start\n",
    "_tbl_stops_end = tbl.gtfs_schedule_type2.stops() >> filter_itp >> filter_end\n",
    "tbl_stops_changed = (\n",
    "    query_id_changes(_tbl_stops_start, _tbl_stops_end, [\"stop_id\"]) >> collect()\n",
    ")\n",
    "\n",
    "_tbl_routes_start = tbl.gtfs_schedule_type2.routes() >> filter_itp >> filter_start\n",
    "_tbl_routes_end = tbl.gtfs_schedule_type2.routes() >> filter_itp >> filter_end\n",
    "tbl_routes_changed = (\n",
    "    query_id_changes(_tbl_routes_start, _tbl_routes_end, [\"route_id\"]) >> collect()\n",
    ")"
   ]
  },
  {
   "cell_type": "code",
   "execution_count": 7,
   "id": "45ee3bf9",
   "metadata": {
    "execution": {
     "iopub.execute_input": "2021-06-24T22:09:05.295875Z",
     "iopub.status.busy": "2021-06-24T22:09:05.293526Z",
     "iopub.status.idle": "2021-06-24T22:09:12.199098Z",
     "shell.execute_reply": "2021-06-24T22:09:12.197797Z"
    },
    "papermill": {
     "duration": 6.929398,
     "end_time": "2021-06-24T22:09:12.199410",
     "exception": false,
     "start_time": "2021-06-24T22:09:05.270012",
     "status": "completed"
    },
    "tags": [
     "hide"
    ]
   },
   "outputs": [],
   "source": [
    "# 4. Feed files being checked for ----\n",
    "\n",
    "file_categories = pd.DataFrame(\n",
    "    {\n",
    "        \"shapes.txt\": \"Visual display\",\n",
    "        \"pathways.txt\": \"Navigation\",\n",
    "        \"levels.txt\": \"Navigation\",\n",
    "        \"fare_rules.txt\": \"Fares\",\n",
    "        \"fare_leg_rules\": \"Fares\",\n",
    "        \"feed_info.txt\": \"Technical contacts\",\n",
    "    }.items(),\n",
    "    columns=[\"name\", \"category\"],\n",
    ")\n",
    "\n",
    "importance = [\"Visual display\", \"Navigation\", \"Fares\", \"Technical contacts\"]\n",
    "\n",
    "tbl_file_check = (\n",
    "    tbl.gtfs_schedule_history.calitp_files_updates()\n",
    "    >> filter_itp\n",
    "    >> filter(_.calitp_extracted_at.isin(BIWEEKLY_MARKERS))\n",
    "    >> select(_.name, _.calitp_extracted_at)\n",
    "    >> collect()\n",
    "    >> right_join(_, file_categories, [\"name\"])\n",
    "    >> mutate(\n",
    "        calitp_extracted_at=_.calitp_extracted_at.fillna(\"missing\").astype(str),\n",
    "        success=\"✅\",\n",
    "    )\n",
    "    >> spread(_.calitp_extracted_at, _.success)\n",
    "    >> select(-_.missing)\n",
    "    >> arrange(_.category.apply(importance.index))\n",
    "    >> select(_.category, _.contains(\"\"))\n",
    "    >> pipe(_.fillna(\"\"))\n",
    ")\n",
    "\n",
    "tbl_validation_notices = (\n",
    "    tbl.views.validation_notices()\n",
    "    >> filter_itp\n",
    "    >> filter(_.severity == \"ERROR\")\n",
    "    >> count(_.code, _.severity)\n",
    "    >> collect()\n",
    ")"
   ]
  },
  {
   "cell_type": "markdown",
   "id": "73fdfa9c",
   "metadata": {
    "papermill": {
     "duration": 0.031884,
     "end_time": "2021-06-24T22:09:12.263251",
     "exception": false,
     "start_time": "2021-06-24T22:09:12.231367",
     "status": "completed"
    },
    "tags": [
     "hide"
    ]
   },
   "source": [
    "## Dump data"
   ]
  },
  {
   "cell_type": "code",
   "execution_count": 8,
   "id": "23d80748",
   "metadata": {
    "execution": {
     "iopub.execute_input": "2021-06-24T22:09:12.333652Z",
     "iopub.status.busy": "2021-06-24T22:09:12.332292Z",
     "iopub.status.idle": "2021-06-24T22:09:12.345544Z",
     "shell.execute_reply": "2021-06-24T22:09:12.346347Z"
    },
    "papermill": {
     "duration": 0.05275,
     "end_time": "2021-06-24T22:09:12.346631",
     "exception": false,
     "start_time": "2021-06-24T22:09:12.293881",
     "status": "completed"
    },
    "tags": [
     "hide"
    ]
   },
   "outputs": [],
   "source": [
    "import json\n",
    "import shutil\n",
    "\n",
    "from pathlib import Path\n",
    "\n",
    "out_dir = Path(f\"output/{CALITP_ITP_ID}_{CALITP_URL_NUMBER}/data\")\n",
    "out_dir.mkdir(parents=True, exist_ok=True)\n",
    "\n",
    "json.dump(feed_info, open(out_dir / \"1_feed_info.json\", \"w\"))\n",
    "json.dump(status, open(out_dir / \"1_status.json\", \"w\"))\n",
    "\n",
    "tbl_daily_service_hours.to_json(out_dir / \"2_daily_service_hours.json\", orient=\"records\")\n",
    "json.dump(n_expired_days, open(out_dir / \"2_n_expired_days.json\", \"w\"))\n",
    "\n",
    "tbl_stops_changed.to_json(out_dir / \"3_stops_changed.json\", orient=\"records\")\n",
    "tbl_routes_changed.to_json(out_dir / \"3_routes_changed.json\", orient=\"records\")\n",
    "tbl_file_check.to_json(out_dir / \"4_file_check.json\", orient=\"records\")\n",
    "tbl_validation_notices.to_json(out_dir / \"4_validation_notices.json\", orient=\"records\")\n"
   ]
  },
  {
   "cell_type": "markdown",
   "id": "d6c45691",
   "metadata": {
    "papermill": {
     "duration": 0.066545,
     "end_time": "2021-06-24T22:09:12.446636",
     "exception": false,
     "start_time": "2021-06-24T22:09:12.380091",
     "status": "completed"
    },
    "tags": []
   },
   "source": [
    "# Monthly GTFS Quality Report"
   ]
  },
  {
   "cell_type": "code",
   "execution_count": 9,
   "id": "97a6c0b0",
   "metadata": {
    "execution": {
     "iopub.execute_input": "2021-06-24T22:09:12.600809Z",
     "iopub.status.busy": "2021-06-24T22:09:12.599695Z",
     "iopub.status.idle": "2021-06-24T22:09:12.608631Z",
     "shell.execute_reply": "2021-06-24T22:09:12.609420Z"
    },
    "papermill": {
     "duration": 0.074956,
     "end_time": "2021-06-24T22:09:12.609658",
     "exception": false,
     "start_time": "2021-06-24T22:09:12.534702",
     "status": "completed"
    },
    "tags": []
   },
   "outputs": [
    {
     "data": {
      "text/markdown": [
       "\n",
       "Transit provider name: Trillium Solutions, Inc.\n",
       "\n",
       "Date generated: 2021-06-24\n"
      ],
      "text/plain": [
       "<IPython.core.display.Markdown object>"
      ]
     },
     "execution_count": 9,
     "metadata": {},
     "output_type": "execute_result"
    }
   ],
   "source": [
    "from IPython.display import Markdown\n",
    "\n",
    "Markdown(f\"\"\"\n",
    "Transit provider name: {feed_info[\"feed_publisher_name\"]}\n",
    "\n",
    "Date generated: {DATE_TODAY}\n",
    "\"\"\")"
   ]
  },
  {
   "cell_type": "markdown",
   "id": "4d45065b",
   "metadata": {
    "papermill": {
     "duration": 0.120216,
     "end_time": "2021-06-24T22:09:12.811675",
     "exception": false,
     "start_time": "2021-06-24T22:09:12.691459",
     "status": "completed"
    },
    "tags": []
   },
   "source": [
    "This is a monthly report, generated by the California Integrated Travel Project ([Cal-ITP](https://dot.ca.gov/cal-itp/cal-itp-gtfs)), summarizing issues discovered by [MobilityData](http://mobilitydata.io/)’s [GTFS Validator](https://github.com/MobilityData/gtfs-validator). This report is available for viewing by the general public to support continuous improvement of GTFS data and the experience of transit passengers. "
   ]
  },
  {
   "cell_type": "markdown",
   "id": "0040a7f4",
   "metadata": {
    "papermill": {
     "duration": 0.121497,
     "end_time": "2021-06-24T22:09:13.033350",
     "exception": false,
     "start_time": "2021-06-24T22:09:12.911853",
     "status": "completed"
    },
    "tags": []
   },
   "source": [
    "## Overview"
   ]
  },
  {
   "cell_type": "code",
   "execution_count": 10,
   "id": "4fa34213",
   "metadata": {
    "execution": {
     "iopub.execute_input": "2021-06-24T22:09:13.171003Z",
     "iopub.status.busy": "2021-06-24T22:09:13.169902Z",
     "iopub.status.idle": "2021-06-24T22:09:13.184976Z",
     "shell.execute_reply": "2021-06-24T22:09:13.185719Z"
    },
    "papermill": {
     "duration": 0.08509,
     "end_time": "2021-06-24T22:09:13.185966",
     "exception": false,
     "start_time": "2021-06-24T22:09:13.100876",
     "status": "completed"
    },
    "tags": []
   },
   "outputs": [
    {
     "data": {
      "text/markdown": [
       "\n",
       "Feed location: https://data.trilliumtransit.com/gtfs/alhambra-ca-us/alhambra-ca-us.zip\n",
       "\n",
       "Metrics for the most recent published version of the feed:\n",
       "\n",
       "* Date published: UTC: 16-Oct-2020 21:09\n",
       "* Number of routes in any service: 2\n",
       "* Number of stops in service: 84\n"
      ],
      "text/plain": [
       "<IPython.core.display.Markdown object>"
      ]
     },
     "execution_count": 10,
     "metadata": {},
     "output_type": "execute_result"
    }
   ],
   "source": [
    "Markdown(f\"\"\"\n",
    "Feed location: {status[\"gtfs_schedule_url\"]}\n",
    "\n",
    "Metrics for the most recent published version of the feed:\n",
    "\n",
    "* Date published: {feed_info[\"feed_version\"]}\n",
    "* Number of routes in any service: {feed_info[\"n_routes\"]}\n",
    "* Number of stops in service: {feed_info[\"n_stops\"]}\n",
    "\"\"\")"
   ]
  },
  {
   "cell_type": "markdown",
   "id": "6a8a8c74",
   "metadata": {
    "papermill": {
     "duration": 0.071331,
     "end_time": "2021-06-24T22:09:13.315019",
     "exception": false,
     "start_time": "2021-06-24T22:09:13.243688",
     "status": "completed"
    },
    "tags": []
   },
   "source": [
    "## Aggregated Metrics for May"
   ]
  },
  {
   "cell_type": "code",
   "execution_count": 11,
   "id": "56b3085f",
   "metadata": {
    "execution": {
     "iopub.execute_input": "2021-06-24T22:09:13.480050Z",
     "iopub.status.busy": "2021-06-24T22:09:13.477017Z",
     "iopub.status.idle": "2021-06-24T22:09:13.506887Z",
     "shell.execute_reply": "2021-06-24T22:09:13.507802Z"
    },
    "papermill": {
     "duration": 0.118821,
     "end_time": "2021-06-24T22:09:13.508076",
     "exception": false,
     "start_time": "2021-06-24T22:09:13.389255",
     "status": "completed"
    },
    "tags": []
   },
   "outputs": [
    {
     "data": {
      "text/markdown": [
       "\n",
       "Days with no service hours: 6\n"
      ],
      "text/plain": [
       "<IPython.core.display.Markdown object>"
      ]
     },
     "execution_count": 11,
     "metadata": {},
     "output_type": "execute_result"
    }
   ],
   "source": [
    "# TODO: \n",
    "\n",
    "# Markdown(f\"\"\"\n",
    "# Days when the active feed was expired: {n_expired_days[\"n\"]}\n",
    "# \"\"\")\n",
    "\n",
    "Markdown(f\"\"\"\n",
    "Days with no service hours: {n_expired_days[\"n\"]}\n",
    "\"\"\")\n"
   ]
  },
  {
   "cell_type": "code",
   "execution_count": 12,
   "id": "f0880b8c",
   "metadata": {
    "execution": {
     "iopub.execute_input": "2021-06-24T22:09:13.819187Z",
     "iopub.status.busy": "2021-06-24T22:09:13.818022Z",
     "iopub.status.idle": "2021-06-24T22:09:15.848452Z",
     "shell.execute_reply": "2021-06-24T22:09:15.849288Z"
    },
    "papermill": {
     "duration": 2.256198,
     "end_time": "2021-06-24T22:09:15.849506",
     "exception": false,
     "start_time": "2021-06-24T22:09:13.593308",
     "status": "completed"
    },
    "tags": []
   },
   "outputs": [
    {
     "data": {
      "image/png": "[encoded data removed]",
      "text/plain": [
       "<Figure size 640x480 with 1 Axes>"
      ]
     },
     "metadata": {},
     "output_type": "display_data"
    }
   ],
   "source": [
    "(\n",
    "    tbl_daily_service_hours\n",
    "    >> ggplot(aes(\"service_date\", \"ttl_service_hours2\"))\n",
    "    + geom_line()\n",
    "    + geom_point()\n",
    "    + theme(axis_text_x=element_text(angle=45, hjust=1))\n",
    "    + scale_x_datetime(date_breaks=\"1 week\")\n",
    "    + expand_limits(y=0)\n",
    "    + labs(y = \"Total service hours\", x = \"Service date\", title=\"Service hour per day\")\n",
    ").draw();"
   ]
  },
  {
   "cell_type": "markdown",
   "id": "4cd3be8b",
   "metadata": {
    "papermill": {
     "duration": 0.037157,
     "end_time": "2021-06-24T22:09:15.923182",
     "exception": false,
     "start_time": "2021-06-24T22:09:15.886025",
     "status": "completed"
    },
    "tags": []
   },
   "source": [
    "## Changes Since Previous Month"
   ]
  },
  {
   "cell_type": "code",
   "execution_count": 13,
   "id": "89932bda",
   "metadata": {
    "execution": {
     "iopub.execute_input": "2021-06-24T22:09:16.051821Z",
     "iopub.status.busy": "2021-06-24T22:09:16.050634Z",
     "iopub.status.idle": "2021-06-24T22:09:17.306539Z",
     "shell.execute_reply": "2021-06-24T22:09:17.331861Z"
    },
    "papermill": {
     "duration": 1.373114,
     "end_time": "2021-06-24T22:09:17.332101",
     "exception": false,
     "start_time": "2021-06-24T22:09:15.958987",
     "status": "completed"
    },
    "tags": []
   },
   "outputs": [
    {
     "data": {
      "image/png": "[encoded data removed]",
      "text/plain": [
       "<Figure size 640x480 with 1 Axes>"
      ]
     },
     "metadata": {},
     "output_type": "display_data"
    }
   ],
   "source": [
    "(\n",
    "    pd.concat(\n",
    "        [\n",
    "            tbl_stops_changed >> mutate(kind=\"Stops\"),\n",
    "            tbl_routes_changed >> mutate(kind=\"Routes\"),\n",
    "        ]\n",
    "    )\n",
    "    >> ggplot(aes(\"kind\", \"n\", fill=\"status\"))\n",
    "    + geom_col()\n",
    "    + labs(\n",
    "        x=\"GTFS schedule table\",\n",
    "        y=\"Number of IDs\",\n",
    "        title=f\"IDs Changed Between {START_MONTH_DAY} and {END_MONTH_DAY}\",\n",
    "    )\n",
    ").draw();"
   ]
  },
  {
   "cell_type": "markdown",
   "id": "5200bc9a",
   "metadata": {
    "papermill": {
     "duration": 0.041498,
     "end_time": "2021-06-24T22:09:17.410008",
     "exception": false,
     "start_time": "2021-06-24T22:09:17.368510",
     "status": "completed"
    },
    "tags": []
   },
   "source": [
    "### (Alternative version using percentages)"
   ]
  },
  {
   "cell_type": "code",
   "execution_count": 14,
   "id": "54cacfef",
   "metadata": {
    "execution": {
     "iopub.execute_input": "2021-06-24T22:09:17.523888Z",
     "iopub.status.busy": "2021-06-24T22:09:17.522614Z",
     "iopub.status.idle": "2021-06-24T22:09:19.018988Z",
     "shell.execute_reply": "2021-06-24T22:09:19.020334Z"
    },
    "papermill": {
     "duration": 1.568921,
     "end_time": "2021-06-24T22:09:19.020587",
     "exception": false,
     "start_time": "2021-06-24T22:09:17.451666",
     "status": "completed"
    },
    "tags": []
   },
   "outputs": [
    {
     "data": {
      "image/png": "[encoded data removed]",
      "text/plain": [
       "<Figure size 640x480 with 1 Axes>"
      ]
     },
     "metadata": {},
     "output_type": "display_data"
    }
   ],
   "source": [
    "(\n",
    "    pd.concat(\n",
    "        [\n",
    "            tbl_stops_changed >> mutate(kind=\"Stops\"),\n",
    "            tbl_routes_changed >> mutate(kind=\"Routes\"),\n",
    "        ]\n",
    "    )\n",
    "    >> ggplot(aes(\"kind\", \"percent\", fill=\"status\"))\n",
    "    + geom_col()\n",
    "    + labs(\n",
    "        x=\"GTFS schedule table\",\n",
    "        y=\"Percentage of IDs\",\n",
    "        title=f\"IDs Changed Between {START_MONTH_DAY} and {END_MONTH_DAY}\",\n",
    "    )\n",
    "    + scale_y_continuous(labels=percent_format, breaks=np.arange(0, 1.2, 0.2))\n",
    ").draw();"
   ]
  },
  {
   "cell_type": "markdown",
   "id": "b83375b2",
   "metadata": {
    "papermill": {
     "duration": 0.051731,
     "end_time": "2021-06-24T22:09:19.114276",
     "exception": false,
     "start_time": "2021-06-24T22:09:19.062545",
     "status": "completed"
    },
    "tags": []
   },
   "source": [
    "## Consistency with the [California GTFS Minimum Guidelines](https://dot.ca.gov/cal-itp/california-minimum-general-transit-feed-specification-gtfs-guidelines) for the feed downloaded\n"
   ]
  },
  {
   "cell_type": "markdown",
   "id": "56456667",
   "metadata": {
    "papermill": {
     "duration": 0.096953,
     "end_time": "2021-06-24T22:09:19.258953",
     "exception": false,
     "start_time": "2021-06-24T22:09:19.162000",
     "status": "completed"
    },
    "tags": []
   },
   "source": [
    "### Do the following files/fields exist?"
   ]
  },
  {
   "cell_type": "code",
   "execution_count": 15,
   "id": "1b65fe48",
   "metadata": {
    "execution": {
     "iopub.execute_input": "2021-06-24T22:09:19.500732Z",
     "iopub.status.busy": "2021-06-24T22:09:19.499675Z",
     "iopub.status.idle": "2021-06-24T22:09:19.513309Z",
     "shell.execute_reply": "2021-06-24T22:09:19.514018Z"
    },
    "papermill": {
     "duration": 0.123758,
     "end_time": "2021-06-24T22:09:19.514228",
     "exception": false,
     "start_time": "2021-06-24T22:09:19.390470",
     "status": "completed"
    },
    "tags": []
   },
   "outputs": [
    {
     "data": {
      "text/html": [
       "<div>\n",
       "<style scoped>\n",
       "    .dataframe tbody tr th:only-of-type {\n",
       "        vertical-align: middle;\n",
       "    }\n",
       "\n",
       "    .dataframe tbody tr th {\n",
       "        vertical-align: top;\n",
       "    }\n",
       "\n",
       "    .dataframe thead th {\n",
       "        text-align: right;\n",
       "    }\n",
       "</style>\n",
       "<table border=\"1\" class=\"dataframe\">\n",
       "  <thead>\n",
       "    <tr style=\"text-align: right;\">\n",
       "      <th></th>\n",
       "      <th>category</th>\n",
       "      <th>name</th>\n",
       "      <th>2021-05-02</th>\n",
       "      <th>2021-05-16</th>\n",
       "      <th>2021-05-30</th>\n",
       "    </tr>\n",
       "  </thead>\n",
       "  <tbody>\n",
       "    <tr>\n",
       "      <th>5</th>\n",
       "      <td>Visual display</td>\n",
       "      <td>shapes.txt</td>\n",
       "      <td>✅</td>\n",
       "      <td>✅</td>\n",
       "      <td>✅</td>\n",
       "    </tr>\n",
       "    <tr>\n",
       "      <th>3</th>\n",
       "      <td>Navigation</td>\n",
       "      <td>levels.txt</td>\n",
       "      <td></td>\n",
       "      <td></td>\n",
       "      <td></td>\n",
       "    </tr>\n",
       "    <tr>\n",
       "      <th>4</th>\n",
       "      <td>Navigation</td>\n",
       "      <td>pathways.txt</td>\n",
       "      <td></td>\n",
       "      <td></td>\n",
       "      <td></td>\n",
       "    </tr>\n",
       "    <tr>\n",
       "      <th>0</th>\n",
       "      <td>Fares</td>\n",
       "      <td>fare_leg_rules</td>\n",
       "      <td></td>\n",
       "      <td></td>\n",
       "      <td></td>\n",
       "    </tr>\n",
       "    <tr>\n",
       "      <th>1</th>\n",
       "      <td>Fares</td>\n",
       "      <td>fare_rules.txt</td>\n",
       "      <td>✅</td>\n",
       "      <td>✅</td>\n",
       "      <td>✅</td>\n",
       "    </tr>\n",
       "    <tr>\n",
       "      <th>2</th>\n",
       "      <td>Technical contacts</td>\n",
       "      <td>feed_info.txt</td>\n",
       "      <td>✅</td>\n",
       "      <td>✅</td>\n",
       "      <td>✅</td>\n",
       "    </tr>\n",
       "  </tbody>\n",
       "</table>\n",
       "</div>"
      ],
      "text/plain": [
       "             category            name 2021-05-02 2021-05-16 2021-05-30\n",
       "5      Visual display      shapes.txt          ✅          ✅          ✅\n",
       "3          Navigation      levels.txt                                 \n",
       "4          Navigation    pathways.txt                                 \n",
       "0               Fares  fare_leg_rules                                 \n",
       "1               Fares  fare_rules.txt          ✅          ✅          ✅\n",
       "2  Technical contacts   feed_info.txt          ✅          ✅          ✅"
      ]
     },
     "execution_count": 15,
     "metadata": {},
     "output_type": "execute_result"
    }
   ],
   "source": [
    "tbl_file_check"
   ]
  },
  {
   "cell_type": "markdown",
   "id": "63f35b56",
   "metadata": {
    "papermill": {
     "duration": 0.197718,
     "end_time": "2021-06-24T22:09:19.864830",
     "exception": false,
     "start_time": "2021-06-24T22:09:19.667112",
     "status": "completed"
    },
    "tags": []
   },
   "source": [
    "### Validation Errors Observed"
   ]
  },
  {
   "cell_type": "code",
   "execution_count": 16,
   "id": "deb5169b",
   "metadata": {
    "execution": {
     "iopub.execute_input": "2021-06-24T22:09:20.153412Z",
     "iopub.status.busy": "2021-06-24T22:09:20.152151Z",
     "iopub.status.idle": "2021-06-24T22:09:20.157463Z",
     "shell.execute_reply": "2021-06-24T22:09:20.156587Z"
    },
    "papermill": {
     "duration": 0.109522,
     "end_time": "2021-06-24T22:09:20.157656",
     "exception": false,
     "start_time": "2021-06-24T22:09:20.048134",
     "status": "completed"
    },
    "tags": []
   },
   "outputs": [
    {
     "data": {
      "text/markdown": [
       "No validation error observed in your feed."
      ],
      "text/plain": [
       "<IPython.core.display.Markdown object>"
      ]
     },
     "metadata": {},
     "output_type": "display_data"
    }
   ],
   "source": [
    "if tbl_validation_notices.shape[0] == 0:\n",
    "    display(Markdown(\"No validation error observed in your feed.\"))\n",
    "else:    \n",
    "    display(tbl_validation_notices)"
   ]
  },
  {
   "cell_type": "markdown",
   "id": "49f32d8d",
   "metadata": {
    "papermill": {
     "duration": 0.110625,
     "end_time": "2021-06-24T22:09:20.383589",
     "exception": false,
     "start_time": "2021-06-24T22:09:20.272964",
     "status": "completed"
    },
    "tags": []
   },
   "source": [
    "For more information about Cal-ITP, including the [Minimum GTFS Guidelines](https://dot.ca.gov/cal-itp/california-minimum-general-transit-feed-specification-gtfs-guidelines) and our [Transit Data Helpdesk](https://dot.ca.gov/programs/rail-and-mass-transportation/gtfs/helpdesk), contact [GTFSRT@dot.ca.gov](mailto:GTFSRT@dot.ca.gov)."
   ]
  }
 ],
 "metadata": {
  "kernelspec": {
   "display_name": "venv-calitp-py",
   "language": "python",
   "name": "venv-calitp-py"
  },
  "language_info": {
   "codemirror_mode": {
    "name": "ipython",
    "version": 3
   },
   "file_extension": ".py",
   "mimetype": "text/x-python",
   "name": "python",
   "nbconvert_exporter": "python",
   "pygments_lexer": "ipython3",
   "version": "3.8.5"
  },
  "papermill": {
   "default_parameters": {},
   "duration": 66.036497,
   "end_time": "2021-06-24T22:09:22.746903",
   "environment_variables": {},
   "exception": null,
   "input_path": "report.ipynb",
   "output_path": "output/6/report.ipynb",
   "parameters": {
    "CALITP_ITP_ID": 6,
    "CALITP_URL_NUMBER": 0,
    "DEBUG": false,
    "END_DATE": "2021-06-01",
    "START_DATE": "2021-05-01"
   },
   "start_time": "2021-06-24T22:08:16.710406",
   "version": "2.3.3"
  }
 },
 "nbformat": 4,
 "nbformat_minor": 5
}