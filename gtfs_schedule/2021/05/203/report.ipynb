{
 "cells": [
  {
   "cell_type": "markdown",
   "id": "f777719e",
   "metadata": {
    "papermill": {
     "duration": 0.017061,
     "end_time": "2021-06-24T22:15:31.630224",
     "exception": false,
     "start_time": "2021-06-24T22:15:31.613163",
     "status": "completed"
    },
    "tags": [
     "hide"
    ]
   },
   "source": [
    "# Setup"
   ]
  },
  {
   "cell_type": "code",
   "execution_count": 1,
   "id": "d8037c42",
   "metadata": {
    "execution": {
     "iopub.execute_input": "2021-06-24T22:15:31.669130Z",
     "iopub.status.busy": "2021-06-24T22:15:31.668598Z",
     "iopub.status.idle": "2021-06-24T22:15:37.584696Z",
     "shell.execute_reply": "2021-06-24T22:15:37.585535Z"
    },
    "papermill": {
     "duration": 5.941322,
     "end_time": "2021-06-24T22:15:37.585891",
     "exception": false,
     "start_time": "2021-06-24T22:15:31.644569",
     "status": "completed"
    },
    "tags": [
     "hide"
    ]
   },
   "outputs": [],
   "source": [
    "import pandas as pd\n",
    "import numpy as np\n",
    "import warnings\n",
    "\n",
    "from io import StringIO\n",
    "from calitp.tables import tbl\n",
    "from datetime import date, datetime\n",
    "from siuba import *\n",
    "from plotnine import *\n",
    "\n",
    "def friendly_date(x): \n",
    "    return datetime.strptime(x, \"%Y-%m-%d\").strftime(\"%b %d\")"
   ]
  },
  {
   "cell_type": "code",
   "execution_count": 2,
   "id": "35023dd4",
   "metadata": {
    "execution": {
     "iopub.execute_input": "2021-06-24T22:15:37.645258Z",
     "iopub.status.busy": "2021-06-24T22:15:37.644148Z",
     "iopub.status.idle": "2021-06-24T22:15:37.649667Z",
     "shell.execute_reply": "2021-06-24T22:15:37.651662Z"
    },
    "papermill": {
     "duration": 0.044089,
     "end_time": "2021-06-24T22:15:37.653048",
     "exception": false,
     "start_time": "2021-06-24T22:15:37.608959",
     "status": "completed"
    },
    "tags": [
     "parameters",
     "hide"
    ]
   },
   "outputs": [],
   "source": [
    "CALITP_ITP_ID = 98\n",
    "#CALITP_ITP_ID=45\n",
    "CALITP_URL_NUMBER = 0\n",
    "DEBUG = False\n",
    "\n",
    "START_DATE = \"2021-05-01\"\n",
    "END_DATE = \"2021-06-01\"\n",
    "DATE_TODAY=date.today()\n",
    "START_MONTH_DAY = friendly_date(START_DATE)\n",
    "END_MONTH_DAY = friendly_date(END_DATE)\n",
    "\n",
    "WEEK_MARKERS = pd.date_range(START_DATE, END_DATE, freq=\"W\").astype(str).tolist()\n",
    "BIWEEKLY_MARKERS = pd.date_range(START_DATE, END_DATE, freq=\"2W\").astype(str).tolist()"
   ]
  },
  {
   "cell_type": "code",
   "execution_count": 3,
   "id": "41fc829b",
   "metadata": {
    "execution": {
     "iopub.execute_input": "2021-06-24T22:15:37.701934Z",
     "iopub.status.busy": "2021-06-24T22:15:37.700992Z",
     "iopub.status.idle": "2021-06-24T22:15:37.704447Z",
     "shell.execute_reply": "2021-06-24T22:15:37.705211Z"
    },
    "papermill": {
     "duration": 0.030038,
     "end_time": "2021-06-24T22:15:37.705447",
     "exception": false,
     "start_time": "2021-06-24T22:15:37.675409",
     "status": "completed"
    },
    "tags": [
     "injected-parameters"
    ]
   },
   "outputs": [],
   "source": [
    "# Parameters\n",
    "CALITP_ITP_ID = 203\n",
    "CALITP_URL_NUMBER = 0\n",
    "DEBUG = False\n",
    "START_DATE = \"2021-05-01\"\n",
    "END_DATE = \"2021-06-01\"\n"
   ]
  },
  {
   "cell_type": "code",
   "execution_count": 4,
   "id": "c7b10129",
   "metadata": {
    "execution": {
     "iopub.execute_input": "2021-06-24T22:15:37.753957Z",
     "iopub.status.busy": "2021-06-24T22:15:37.753288Z",
     "iopub.status.idle": "2021-06-24T22:15:37.756078Z",
     "shell.execute_reply": "2021-06-24T22:15:37.756889Z"
    },
    "papermill": {
     "duration": 0.027226,
     "end_time": "2021-06-24T22:15:37.757127",
     "exception": false,
     "start_time": "2021-06-24T22:15:37.729901",
     "status": "completed"
    },
    "tags": [
     "hide"
    ]
   },
   "outputs": [],
   "source": [
    "if not DEBUG:\n",
    "    warnings.filterwarnings(\"ignore\")"
   ]
  },
  {
   "cell_type": "code",
   "execution_count": 5,
   "id": "65dd1552",
   "metadata": {
    "execution": {
     "iopub.execute_input": "2021-06-24T22:15:37.817519Z",
     "iopub.status.busy": "2021-06-24T22:15:37.816584Z",
     "iopub.status.idle": "2021-06-24T22:15:37.826128Z",
     "shell.execute_reply": "2021-06-24T22:15:37.826814Z"
    },
    "papermill": {
     "duration": 0.041405,
     "end_time": "2021-06-24T22:15:37.827015",
     "exception": false,
     "start_time": "2021-06-24T22:15:37.785610",
     "status": "completed"
    },
    "tags": [
     "hide"
    ]
   },
   "outputs": [],
   "source": [
    "# Convenience functions ----\n",
    "\n",
    "filter_start = filter(\n",
    "    _.calitp_extracted_at <= START_DATE,\n",
    "    _.calitp_deleted_at.fillna(\"2099-01-01\") > START_DATE,\n",
    ")\n",
    "\n",
    "filter_end = filter(\n",
    "    _.calitp_extracted_at <= END_DATE,\n",
    "    _.calitp_deleted_at.fillna(\"2099-01-01\") > END_DATE,\n",
    ")\n",
    "\n",
    "filter_itp = filter(\n",
    "    _.calitp_itp_id == CALITP_ITP_ID, _.calitp_url_number == CALITP_URL_NUMBER\n",
    ")\n",
    "\n",
    "collect_to_dict = (\n",
    "    collect()\n",
    "    >> pipe(_.to_dict(orient=\"records\")[0])\n",
    ")\n",
    "\n",
    "\n",
    "select_rm_calitp = select(\n",
    "    -_.calitp_itp_id,\n",
    "    -_.calitp_url_number,\n",
    "    -_.calitp_hash,\n",
    "    -_.calitp_extracted_at,\n",
    "    -_.calitp_deleted_at,\n",
    ")\n",
    "\n",
    "def percent_format(labels):\n",
    "    return [\"{:.0f}%\".format(v*100) for v in labels]\n",
    "\n",
    "def query_id_changes(start_table, end_table, id_vars):\n",
    "    \"\"\"Calculate id variables that are removed, added, or unchanged between tables.\n",
    "    \n",
    "    It works by adding a special column to each table, performing a full join,\n",
    "    then checking where the special column is null.\n",
    "    \"\"\"\n",
    "    sym_id_vars = [_[k] for k in id_vars]\n",
    "\n",
    "    is_in_start = start_table >> select(*id_vars) >> mutate(is_in_start=True)\n",
    "    is_in_end = end_table >> select(*id_vars) >> mutate(is_in_end=True)\n",
    "\n",
    "    baseline = start_table >> count(*id_vars) >> rename(n_baseline=\"n\")\n",
    "    tallies = (\n",
    "        is_in_start\n",
    "        >> full_join(_, is_in_end, id_vars)\n",
    "        >> count(*sym_id_vars, _.is_in_start, _.is_in_end)\n",
    "        >> mutate(\n",
    "            status=case_when(\n",
    "                _,\n",
    "                {\n",
    "                    _.is_in_end.isna(): \"Removed\",\n",
    "                    _.is_in_start.isna(): \"Added\",\n",
    "                    True: \"Unchanged\",\n",
    "                },\n",
    "            )\n",
    "        )\n",
    "        >> count(*sym_id_vars[:-1], _.status)\n",
    "        >> group_by(*sym_id_vars[:-1])\n",
    "        >> mutate(percent=_.n / _.n.sum())\n",
    "    )\n",
    "\n",
    "    return tallies"
   ]
  },
  {
   "cell_type": "code",
   "execution_count": 6,
   "id": "1a9d63a9",
   "metadata": {
    "execution": {
     "iopub.execute_input": "2021-06-24T22:15:37.883311Z",
     "iopub.status.busy": "2021-06-24T22:15:37.882304Z",
     "iopub.status.idle": "2021-06-24T22:16:01.651417Z",
     "shell.execute_reply": "2021-06-24T22:16:01.652082Z"
    },
    "papermill": {
     "duration": 23.7987,
     "end_time": "2021-06-24T22:16:01.652290",
     "exception": false,
     "start_time": "2021-06-24T22:15:37.853590",
     "status": "completed"
    },
    "tags": [
     "hide"
    ]
   },
   "outputs": [],
   "source": [
    "# Data ====\n",
    "# 1. High level feed info ----\n",
    "feed_info = (\n",
    "    tbl.gtfs_schedule_type2.feed_info()\n",
    "    >> filter_end\n",
    "    >> filter_itp\n",
    "    >> select_rm_calitp\n",
    "    >> collect_to_dict\n",
    ")\n",
    "\n",
    "_n_routes = (\n",
    "    tbl.gtfs_schedule_type2.routes() >> filter_end >> filter_itp >> count() >> collect()\n",
    ")\n",
    "_n_stops = (\n",
    "    tbl.gtfs_schedule_type2.stops() >> filter_end >> filter_itp >> count() >> collect()\n",
    ")\n",
    "\n",
    "feed_info[\"n_routes\"] = int(_n_routes.loc[0, \"n\"])\n",
    "feed_info[\"n_stops\"] = int(_n_stops.loc[0, \"n\"])\n",
    "\n",
    "status = (\n",
    "    tbl.views.gtfs_status_latest()\n",
    "    >> filter(_.itp_id == CALITP_ITP_ID, _.url_number == CALITP_URL_NUMBER)\n",
    "    >> select(-_.url_number, -_.status)\n",
    "    >> select_rm_calitp\n",
    "    >> collect_to_dict\n",
    ")\n",
    "\n",
    "# 2. Monthly metrics ----\n",
    "# Service hours per day. Note that the queried table calculates service\n",
    "# hours per service id, so we need to sum across service ids for the day\n",
    "_cross_cal = (\n",
    "    tbl.views.dim_date()\n",
    "    >> filter(_.full_date.between(START_DATE, END_DATE))\n",
    "    >> select(_.service_date == _.full_date)\n",
    ")\n",
    "\n",
    "tbl_daily_service_hours = (\n",
    "    tbl.views.gtfs_schedule_service_daily_metrics()\n",
    "    >> filter_itp\n",
    "    >> filter(_.service_date.between(START_DATE, END_DATE))\n",
    "    >> right_join(_, _cross_cal, [\"service_date\"])\n",
    "    >> collect()\n",
    "    >> group_by(_.service_date)\n",
    "    >> summarize(\n",
    "        ttl_service_hours=(_.last_arrival_ts.max() - _.first_departure_ts.min()) / 3600,\n",
    "        ttl_service_hours2=_.ttl_service_hours.sum(),\n",
    "    )\n",
    "    >> mutate(\n",
    "        ttl_service_hours=_.ttl_service_hours.astype(float).round(2),\n",
    "        service_date=_.service_date.astype(\"datetime64[ns]\"),\n",
    "    )\n",
    ")\n",
    "\n",
    "# number of days where a feed did not have any trips in service\n",
    "n_expired_days = (\n",
    "    tbl_daily_service_hours\n",
    "    >> filter(_.ttl_service_hours.isna())\n",
    "    >> pipe(lambda d: {\"n\": d.shape[0]})\n",
    ")\n",
    "\n",
    "# 3. Stop and Route ID Changes ----\n",
    "\n",
    "_tbl_stops_start = tbl.gtfs_schedule_type2.stops() >> filter_itp >> filter_start\n",
    "_tbl_stops_end = tbl.gtfs_schedule_type2.stops() >> filter_itp >> filter_end\n",
    "tbl_stops_changed = (\n",
    "    query_id_changes(_tbl_stops_start, _tbl_stops_end, [\"stop_id\"]) >> collect()\n",
    ")\n",
    "\n",
    "_tbl_routes_start = tbl.gtfs_schedule_type2.routes() >> filter_itp >> filter_start\n",
    "_tbl_routes_end = tbl.gtfs_schedule_type2.routes() >> filter_itp >> filter_end\n",
    "tbl_routes_changed = (\n",
    "    query_id_changes(_tbl_routes_start, _tbl_routes_end, [\"route_id\"]) >> collect()\n",
    ")"
   ]
  },
  {
   "cell_type": "code",
   "execution_count": 7,
   "id": "b0aa6eb8",
   "metadata": {
    "execution": {
     "iopub.execute_input": "2021-06-24T22:16:01.722556Z",
     "iopub.status.busy": "2021-06-24T22:16:01.721457Z",
     "iopub.status.idle": "2021-06-24T22:16:07.928104Z",
     "shell.execute_reply": "2021-06-24T22:16:07.927604Z"
    },
    "papermill": {
     "duration": 6.248631,
     "end_time": "2021-06-24T22:16:07.928225",
     "exception": false,
     "start_time": "2021-06-24T22:16:01.679594",
     "status": "completed"
    },
    "tags": [
     "hide"
    ]
   },
   "outputs": [],
   "source": [
    "# 4. Feed files being checked for ----\n",
    "\n",
    "file_categories = pd.DataFrame(\n",
    "    {\n",
    "        \"shapes.txt\": \"Visual display\",\n",
    "        \"pathways.txt\": \"Navigation\",\n",
    "        \"levels.txt\": \"Navigation\",\n",
    "        \"fare_rules.txt\": \"Fares\",\n",
    "        \"fare_leg_rules\": \"Fares\",\n",
    "        \"feed_info.txt\": \"Technical contacts\",\n",
    "    }.items(),\n",
    "    columns=[\"name\", \"category\"],\n",
    ")\n",
    "\n",
    "importance = [\"Visual display\", \"Navigation\", \"Fares\", \"Technical contacts\"]\n",
    "\n",
    "tbl_file_check = (\n",
    "    tbl.gtfs_schedule_history.calitp_files_updates()\n",
    "    >> filter_itp\n",
    "    >> filter(_.calitp_extracted_at.isin(BIWEEKLY_MARKERS))\n",
    "    >> select(_.name, _.calitp_extracted_at)\n",
    "    >> collect()\n",
    "    >> right_join(_, file_categories, [\"name\"])\n",
    "    >> mutate(\n",
    "        calitp_extracted_at=_.calitp_extracted_at.fillna(\"missing\").astype(str),\n",
    "        success=\"✅\",\n",
    "    )\n",
    "    >> spread(_.calitp_extracted_at, _.success)\n",
    "    >> select(-_.missing)\n",
    "    >> arrange(_.category.apply(importance.index))\n",
    "    >> select(_.category, _.contains(\"\"))\n",
    "    >> pipe(_.fillna(\"\"))\n",
    ")\n",
    "\n",
    "tbl_validation_notices = (\n",
    "    tbl.views.validation_notices()\n",
    "    >> filter_itp\n",
    "    >> filter(_.severity == \"ERROR\")\n",
    "    >> count(_.code, _.severity)\n",
    "    >> collect()\n",
    ")"
   ]
  },
  {
   "cell_type": "markdown",
   "id": "9041ac4f",
   "metadata": {
    "papermill": {
     "duration": 0.015069,
     "end_time": "2021-06-24T22:16:07.958884",
     "exception": false,
     "start_time": "2021-06-24T22:16:07.943815",
     "status": "completed"
    },
    "tags": [
     "hide"
    ]
   },
   "source": [
    "## Dump data"
   ]
  },
  {
   "cell_type": "code",
   "execution_count": 8,
   "id": "12e7089b",
   "metadata": {
    "execution": {
     "iopub.execute_input": "2021-06-24T22:16:07.997847Z",
     "iopub.status.busy": "2021-06-24T22:16:07.997024Z",
     "iopub.status.idle": "2021-06-24T22:16:08.005763Z",
     "shell.execute_reply": "2021-06-24T22:16:08.005253Z"
    },
    "papermill": {
     "duration": 0.031982,
     "end_time": "2021-06-24T22:16:08.005876",
     "exception": false,
     "start_time": "2021-06-24T22:16:07.973894",
     "status": "completed"
    },
    "tags": [
     "hide"
    ]
   },
   "outputs": [],
   "source": [
    "import json\n",
    "import shutil\n",
    "\n",
    "from pathlib import Path\n",
    "\n",
    "out_dir = Path(f\"output/{CALITP_ITP_ID}_{CALITP_URL_NUMBER}/data\")\n",
    "out_dir.mkdir(parents=True, exist_ok=True)\n",
    "\n",
    "json.dump(feed_info, open(out_dir / \"1_feed_info.json\", \"w\"))\n",
    "json.dump(status, open(out_dir / \"1_status.json\", \"w\"))\n",
    "\n",
    "tbl_daily_service_hours.to_json(out_dir / \"2_daily_service_hours.json\", orient=\"records\")\n",
    "json.dump(n_expired_days, open(out_dir / \"2_n_expired_days.json\", \"w\"))\n",
    "\n",
    "tbl_stops_changed.to_json(out_dir / \"3_stops_changed.json\", orient=\"records\")\n",
    "tbl_routes_changed.to_json(out_dir / \"3_routes_changed.json\", orient=\"records\")\n",
    "tbl_file_check.to_json(out_dir / \"4_file_check.json\", orient=\"records\")\n",
    "tbl_validation_notices.to_json(out_dir / \"4_validation_notices.json\", orient=\"records\")\n"
   ]
  },
  {
   "cell_type": "markdown",
   "id": "41110640",
   "metadata": {
    "papermill": {
     "duration": 0.015217,
     "end_time": "2021-06-24T22:16:08.035744",
     "exception": false,
     "start_time": "2021-06-24T22:16:08.020527",
     "status": "completed"
    },
    "tags": []
   },
   "source": [
    "# Monthly GTFS Quality Report"
   ]
  },
  {
   "cell_type": "code",
   "execution_count": 9,
   "id": "66c1cb43",
   "metadata": {
    "execution": {
     "iopub.execute_input": "2021-06-24T22:16:08.076479Z",
     "iopub.status.busy": "2021-06-24T22:16:08.075675Z",
     "iopub.status.idle": "2021-06-24T22:16:08.079409Z",
     "shell.execute_reply": "2021-06-24T22:16:08.078855Z"
    },
    "papermill": {
     "duration": 0.027778,
     "end_time": "2021-06-24T22:16:08.079522",
     "exception": false,
     "start_time": "2021-06-24T22:16:08.051744",
     "status": "completed"
    },
    "tags": []
   },
   "outputs": [
    {
     "data": {
      "text/markdown": [
       "\n",
       "Transit provider name: Modesto Area Express\n",
       "\n",
       "Date generated: 2021-06-24\n"
      ],
      "text/plain": [
       "<IPython.core.display.Markdown object>"
      ]
     },
     "execution_count": 9,
     "metadata": {},
     "output_type": "execute_result"
    }
   ],
   "source": [
    "from IPython.display import Markdown\n",
    "\n",
    "Markdown(f\"\"\"\n",
    "Transit provider name: {feed_info[\"feed_publisher_name\"]}\n",
    "\n",
    "Date generated: {DATE_TODAY}\n",
    "\"\"\")"
   ]
  },
  {
   "cell_type": "markdown",
   "id": "4c9b5076",
   "metadata": {
    "papermill": {
     "duration": 0.015462,
     "end_time": "2021-06-24T22:16:08.113177",
     "exception": false,
     "start_time": "2021-06-24T22:16:08.097715",
     "status": "completed"
    },
    "tags": []
   },
   "source": [
    "This is a monthly report, generated by the California Integrated Travel Project ([Cal-ITP](https://dot.ca.gov/cal-itp/cal-itp-gtfs)), summarizing issues discovered by [MobilityData](http://mobilitydata.io/)’s [GTFS Validator](https://github.com/MobilityData/gtfs-validator). This report is available for viewing by the general public to support continuous improvement of GTFS data and the experience of transit passengers. "
   ]
  },
  {
   "cell_type": "markdown",
   "id": "b5ca8055",
   "metadata": {
    "papermill": {
     "duration": 0.01615,
     "end_time": "2021-06-24T22:16:08.145006",
     "exception": false,
     "start_time": "2021-06-24T22:16:08.128856",
     "status": "completed"
    },
    "tags": []
   },
   "source": [
    "## Overview"
   ]
  },
  {
   "cell_type": "code",
   "execution_count": 10,
   "id": "912767b3",
   "metadata": {
    "execution": {
     "iopub.execute_input": "2021-06-24T22:16:08.181120Z",
     "iopub.status.busy": "2021-06-24T22:16:08.180419Z",
     "iopub.status.idle": "2021-06-24T22:16:08.183401Z",
     "shell.execute_reply": "2021-06-24T22:16:08.183795Z"
    },
    "papermill": {
     "duration": 0.0228,
     "end_time": "2021-06-24T22:16:08.183927",
     "exception": false,
     "start_time": "2021-06-24T22:16:08.161127",
     "status": "completed"
    },
    "tags": []
   },
   "outputs": [
    {
     "data": {
      "text/markdown": [
       "\n",
       "Feed location: https://www.modestoareaexpress.com/preview-gtfs.zip\n",
       "\n",
       "Metrics for the most recent published version of the feed:\n",
       "\n",
       "* Date published: 20210513\n",
       "* Number of routes in any service: 22\n",
       "* Number of stops in service: 744\n"
      ],
      "text/plain": [
       "<IPython.core.display.Markdown object>"
      ]
     },
     "execution_count": 10,
     "metadata": {},
     "output_type": "execute_result"
    }
   ],
   "source": [
    "Markdown(f\"\"\"\n",
    "Feed location: {status[\"gtfs_schedule_url\"]}\n",
    "\n",
    "Metrics for the most recent published version of the feed:\n",
    "\n",
    "* Date published: {feed_info[\"feed_version\"]}\n",
    "* Number of routes in any service: {feed_info[\"n_routes\"]}\n",
    "* Number of stops in service: {feed_info[\"n_stops\"]}\n",
    "\"\"\")"
   ]
  },
  {
   "cell_type": "markdown",
   "id": "edbdfed5",
   "metadata": {
    "papermill": {
     "duration": 0.020082,
     "end_time": "2021-06-24T22:16:08.220397",
     "exception": false,
     "start_time": "2021-06-24T22:16:08.200315",
     "status": "completed"
    },
    "tags": []
   },
   "source": [
    "## Aggregated Metrics for May"
   ]
  },
  {
   "cell_type": "code",
   "execution_count": 11,
   "id": "05ac71d2",
   "metadata": {
    "execution": {
     "iopub.execute_input": "2021-06-24T22:16:08.256129Z",
     "iopub.status.busy": "2021-06-24T22:16:08.255477Z",
     "iopub.status.idle": "2021-06-24T22:16:08.258661Z",
     "shell.execute_reply": "2021-06-24T22:16:08.258195Z"
    },
    "papermill": {
     "duration": 0.022713,
     "end_time": "2021-06-24T22:16:08.258823",
     "exception": false,
     "start_time": "2021-06-24T22:16:08.236110",
     "status": "completed"
    },
    "tags": []
   },
   "outputs": [
    {
     "data": {
      "text/markdown": [
       "\n",
       "Days with no service hours: 6\n"
      ],
      "text/plain": [
       "<IPython.core.display.Markdown object>"
      ]
     },
     "execution_count": 11,
     "metadata": {},
     "output_type": "execute_result"
    }
   ],
   "source": [
    "# TODO: \n",
    "\n",
    "# Markdown(f\"\"\"\n",
    "# Days when the active feed was expired: {n_expired_days[\"n\"]}\n",
    "# \"\"\")\n",
    "\n",
    "Markdown(f\"\"\"\n",
    "Days with no service hours: {n_expired_days[\"n\"]}\n",
    "\"\"\")\n"
   ]
  },
  {
   "cell_type": "code",
   "execution_count": 12,
   "id": "af3cba3d",
   "metadata": {
    "execution": {
     "iopub.execute_input": "2021-06-24T22:16:08.325782Z",
     "iopub.status.busy": "2021-06-24T22:16:08.320419Z",
     "iopub.status.idle": "2021-06-24T22:16:08.690704Z",
     "shell.execute_reply": "2021-06-24T22:16:08.691162Z"
    },
    "papermill": {
     "duration": 0.416276,
     "end_time": "2021-06-24T22:16:08.691312",
     "exception": false,
     "start_time": "2021-06-24T22:16:08.275036",
     "status": "completed"
    },
    "tags": []
   },
   "outputs": [
    {
     "data": {
      "image/png": "[encoded data removed]",
      "text/plain": [
       "<Figure size 640x480 with 1 Axes>"
      ]
     },
     "metadata": {},
     "output_type": "display_data"
    }
   ],
   "source": [
    "(\n",
    "    tbl_daily_service_hours\n",
    "    >> ggplot(aes(\"service_date\", \"ttl_service_hours2\"))\n",
    "    + geom_line()\n",
    "    + geom_point()\n",
    "    + theme(axis_text_x=element_text(angle=45, hjust=1))\n",
    "    + scale_x_datetime(date_breaks=\"1 week\")\n",
    "    + expand_limits(y=0)\n",
    "    + labs(y = \"Total service hours\", x = \"Service date\", title=\"Service hour per day\")\n",
    ").draw();"
   ]
  },
  {
   "cell_type": "markdown",
   "id": "5b59d9f6",
   "metadata": {
    "papermill": {
     "duration": 0.017922,
     "end_time": "2021-06-24T22:16:08.726763",
     "exception": false,
     "start_time": "2021-06-24T22:16:08.708841",
     "status": "completed"
    },
    "tags": []
   },
   "source": [
    "## Changes Since Previous Month"
   ]
  },
  {
   "cell_type": "code",
   "execution_count": 13,
   "id": "d7f1076d",
   "metadata": {
    "execution": {
     "iopub.execute_input": "2021-06-24T22:16:08.792366Z",
     "iopub.status.busy": "2021-06-24T22:16:08.790263Z",
     "iopub.status.idle": "2021-06-24T22:16:09.032121Z",
     "shell.execute_reply": "2021-06-24T22:16:09.031684Z"
    },
    "papermill": {
     "duration": 0.287942,
     "end_time": "2021-06-24T22:16:09.032236",
     "exception": false,
     "start_time": "2021-06-24T22:16:08.744294",
     "status": "completed"
    },
    "tags": []
   },
   "outputs": [
    {
     "data": {
      "image/png": "[encoded data removed]",
      "text/plain": [
       "<Figure size 640x480 with 1 Axes>"
      ]
     },
     "metadata": {},
     "output_type": "display_data"
    }
   ],
   "source": [
    "(\n",
    "    pd.concat(\n",
    "        [\n",
    "            tbl_stops_changed >> mutate(kind=\"Stops\"),\n",
    "            tbl_routes_changed >> mutate(kind=\"Routes\"),\n",
    "        ]\n",
    "    )\n",
    "    >> ggplot(aes(\"kind\", \"n\", fill=\"status\"))\n",
    "    + geom_col()\n",
    "    + labs(\n",
    "        x=\"GTFS schedule table\",\n",
    "        y=\"Number of IDs\",\n",
    "        title=f\"IDs Changed Between {START_MONTH_DAY} and {END_MONTH_DAY}\",\n",
    "    )\n",
    ").draw();"
   ]
  },
  {
   "cell_type": "markdown",
   "id": "27be4a7a",
   "metadata": {
    "papermill": {
     "duration": 0.02936,
     "end_time": "2021-06-24T22:16:09.083715",
     "exception": false,
     "start_time": "2021-06-24T22:16:09.054355",
     "status": "completed"
    },
    "tags": []
   },
   "source": [
    "### (Alternative version using percentages)"
   ]
  },
  {
   "cell_type": "code",
   "execution_count": 14,
   "id": "093d8b66",
   "metadata": {
    "execution": {
     "iopub.execute_input": "2021-06-24T22:16:09.196835Z",
     "iopub.status.busy": "2021-06-24T22:16:09.177478Z",
     "iopub.status.idle": "2021-06-24T22:16:09.626977Z",
     "shell.execute_reply": "2021-06-24T22:16:09.627446Z"
    },
    "papermill": {
     "duration": 0.513127,
     "end_time": "2021-06-24T22:16:09.627605",
     "exception": false,
     "start_time": "2021-06-24T22:16:09.114478",
     "status": "completed"
    },
    "tags": []
   },
   "outputs": [
    {
     "data": {
      "image/png": "[encoded data removed]",
      "text/plain": [
       "<Figure size 640x480 with 1 Axes>"
      ]
     },
     "metadata": {},
     "output_type": "display_data"
    }
   ],
   "source": [
    "(\n",
    "    pd.concat(\n",
    "        [\n",
    "            tbl_stops_changed >> mutate(kind=\"Stops\"),\n",
    "            tbl_routes_changed >> mutate(kind=\"Routes\"),\n",
    "        ]\n",
    "    )\n",
    "    >> ggplot(aes(\"kind\", \"percent\", fill=\"status\"))\n",
    "    + geom_col()\n",
    "    + labs(\n",
    "        x=\"GTFS schedule table\",\n",
    "        y=\"Percentage of IDs\",\n",
    "        title=f\"IDs Changed Between {START_MONTH_DAY} and {END_MONTH_DAY}\",\n",
    "    )\n",
    "    + scale_y_continuous(labels=percent_format, breaks=np.arange(0, 1.2, 0.2))\n",
    ").draw();"
   ]
  },
  {
   "cell_type": "markdown",
   "id": "b51c5197",
   "metadata": {
    "papermill": {
     "duration": 0.023812,
     "end_time": "2021-06-24T22:16:09.672348",
     "exception": false,
     "start_time": "2021-06-24T22:16:09.648536",
     "status": "completed"
    },
    "tags": []
   },
   "source": [
    "## Consistency with the [California GTFS Minimum Guidelines](https://dot.ca.gov/cal-itp/california-minimum-general-transit-feed-specification-gtfs-guidelines) for the feed downloaded\n"
   ]
  },
  {
   "cell_type": "markdown",
   "id": "dc8fc275",
   "metadata": {
    "papermill": {
     "duration": 0.040286,
     "end_time": "2021-06-24T22:16:09.758496",
     "exception": false,
     "start_time": "2021-06-24T22:16:09.718210",
     "status": "completed"
    },
    "tags": []
   },
   "source": [
    "### Do the following files/fields exist?"
   ]
  },
  {
   "cell_type": "code",
   "execution_count": 15,
   "id": "89a0235b",
   "metadata": {
    "execution": {
     "iopub.execute_input": "2021-06-24T22:16:09.853341Z",
     "iopub.status.busy": "2021-06-24T22:16:09.852298Z",
     "iopub.status.idle": "2021-06-24T22:16:09.863092Z",
     "shell.execute_reply": "2021-06-24T22:16:09.863554Z"
    },
    "papermill": {
     "duration": 0.062966,
     "end_time": "2021-06-24T22:16:09.863710",
     "exception": false,
     "start_time": "2021-06-24T22:16:09.800744",
     "status": "completed"
    },
    "tags": []
   },
   "outputs": [
    {
     "data": {
      "text/html": [
       "<div>\n",
       "<style scoped>\n",
       "    .dataframe tbody tr th:only-of-type {\n",
       "        vertical-align: middle;\n",
       "    }\n",
       "\n",
       "    .dataframe tbody tr th {\n",
       "        vertical-align: top;\n",
       "    }\n",
       "\n",
       "    .dataframe thead th {\n",
       "        text-align: right;\n",
       "    }\n",
       "</style>\n",
       "<table border=\"1\" class=\"dataframe\">\n",
       "  <thead>\n",
       "    <tr style=\"text-align: right;\">\n",
       "      <th></th>\n",
       "      <th>category</th>\n",
       "      <th>name</th>\n",
       "      <th>2021-05-16</th>\n",
       "      <th>2021-05-30</th>\n",
       "    </tr>\n",
       "  </thead>\n",
       "  <tbody>\n",
       "    <tr>\n",
       "      <th>5</th>\n",
       "      <td>Visual display</td>\n",
       "      <td>shapes.txt</td>\n",
       "      <td>✅</td>\n",
       "      <td>✅</td>\n",
       "    </tr>\n",
       "    <tr>\n",
       "      <th>3</th>\n",
       "      <td>Navigation</td>\n",
       "      <td>levels.txt</td>\n",
       "      <td></td>\n",
       "      <td></td>\n",
       "    </tr>\n",
       "    <tr>\n",
       "      <th>4</th>\n",
       "      <td>Navigation</td>\n",
       "      <td>pathways.txt</td>\n",
       "      <td></td>\n",
       "      <td></td>\n",
       "    </tr>\n",
       "    <tr>\n",
       "      <th>0</th>\n",
       "      <td>Fares</td>\n",
       "      <td>fare_leg_rules</td>\n",
       "      <td></td>\n",
       "      <td></td>\n",
       "    </tr>\n",
       "    <tr>\n",
       "      <th>1</th>\n",
       "      <td>Fares</td>\n",
       "      <td>fare_rules.txt</td>\n",
       "      <td></td>\n",
       "      <td></td>\n",
       "    </tr>\n",
       "    <tr>\n",
       "      <th>2</th>\n",
       "      <td>Technical contacts</td>\n",
       "      <td>feed_info.txt</td>\n",
       "      <td>✅</td>\n",
       "      <td>✅</td>\n",
       "    </tr>\n",
       "  </tbody>\n",
       "</table>\n",
       "</div>"
      ],
      "text/plain": [
       "             category            name 2021-05-16 2021-05-30\n",
       "5      Visual display      shapes.txt          ✅          ✅\n",
       "3          Navigation      levels.txt                      \n",
       "4          Navigation    pathways.txt                      \n",
       "0               Fares  fare_leg_rules                      \n",
       "1               Fares  fare_rules.txt                      \n",
       "2  Technical contacts   feed_info.txt          ✅          ✅"
      ]
     },
     "execution_count": 15,
     "metadata": {},
     "output_type": "execute_result"
    }
   ],
   "source": [
    "tbl_file_check"
   ]
  },
  {
   "cell_type": "markdown",
   "id": "22a95974",
   "metadata": {
    "papermill": {
     "duration": 0.032661,
     "end_time": "2021-06-24T22:16:09.931091",
     "exception": false,
     "start_time": "2021-06-24T22:16:09.898430",
     "status": "completed"
    },
    "tags": []
   },
   "source": [
    "### Validation Errors Observed"
   ]
  },
  {
   "cell_type": "code",
   "execution_count": 16,
   "id": "0038f24c",
   "metadata": {
    "execution": {
     "iopub.execute_input": "2021-06-24T22:16:10.008983Z",
     "iopub.status.busy": "2021-06-24T22:16:10.007942Z",
     "iopub.status.idle": "2021-06-24T22:16:10.020682Z",
     "shell.execute_reply": "2021-06-24T22:16:10.021510Z"
    },
    "papermill": {
     "duration": 0.050109,
     "end_time": "2021-06-24T22:16:10.021776",
     "exception": false,
     "start_time": "2021-06-24T22:16:09.971667",
     "status": "completed"
    },
    "tags": []
   },
   "outputs": [
    {
     "data": {
      "text/html": [
       "<div>\n",
       "<style scoped>\n",
       "    .dataframe tbody tr th:only-of-type {\n",
       "        vertical-align: middle;\n",
       "    }\n",
       "\n",
       "    .dataframe tbody tr th {\n",
       "        vertical-align: top;\n",
       "    }\n",
       "\n",
       "    .dataframe thead th {\n",
       "        text-align: right;\n",
       "    }\n",
       "</style>\n",
       "<table border=\"1\" class=\"dataframe\">\n",
       "  <thead>\n",
       "    <tr style=\"text-align: right;\">\n",
       "      <th></th>\n",
       "      <th>code</th>\n",
       "      <th>severity</th>\n",
       "      <th>n</th>\n",
       "    </tr>\n",
       "  </thead>\n",
       "  <tbody>\n",
       "    <tr>\n",
       "      <th>0</th>\n",
       "      <td>decreasing_or_equal_shape_distance</td>\n",
       "      <td>ERROR</td>\n",
       "      <td>1720</td>\n",
       "    </tr>\n",
       "  </tbody>\n",
       "</table>\n",
       "</div>"
      ],
      "text/plain": [
       "                                 code severity     n\n",
       "0  decreasing_or_equal_shape_distance    ERROR  1720"
      ]
     },
     "metadata": {},
     "output_type": "display_data"
    }
   ],
   "source": [
    "if tbl_validation_notices.shape[0] == 0:\n",
    "    display(Markdown(\"No validation error observed in your feed.\"))\n",
    "else:    \n",
    "    display(tbl_validation_notices)"
   ]
  },
  {
   "cell_type": "markdown",
   "id": "e700f485",
   "metadata": {
    "papermill": {
     "duration": 0.034581,
     "end_time": "2021-06-24T22:16:10.093497",
     "exception": false,
     "start_time": "2021-06-24T22:16:10.058916",
     "status": "completed"
    },
    "tags": []
   },
   "source": [
    "For more information about Cal-ITP, including the [Minimum GTFS Guidelines](https://dot.ca.gov/cal-itp/california-minimum-general-transit-feed-specification-gtfs-guidelines) and our [Transit Data Helpdesk](https://dot.ca.gov/programs/rail-and-mass-transportation/gtfs/helpdesk), contact [GTFSRT@dot.ca.gov](mailto:GTFSRT@dot.ca.gov)."
   ]
  }
 ],
 "metadata": {
  "kernelspec": {
   "display_name": "venv-calitp-py",
   "language": "python",
   "name": "venv-calitp-py"
  },
  "language_info": {
   "codemirror_mode": {
    "name": "ipython",
    "version": 3
   },
   "file_extension": ".py",
   "mimetype": "text/x-python",
   "name": "python",
   "nbconvert_exporter": "python",
   "pygments_lexer": "ipython3",
   "version": "3.8.5"
  },
  "papermill": {
   "default_parameters": {},
   "duration": 40.11488,
   "end_time": "2021-06-24T22:16:10.847745",
   "environment_variables": {},
   "exception": null,
   "input_path": "report.ipynb",
   "output_path": "output/203/report.ipynb",
   "parameters": {
    "CALITP_ITP_ID": 203,
    "CALITP_URL_NUMBER": 0,
    "DEBUG": false,
    "END_DATE": "2021-06-01",
    "START_DATE": "2021-05-01"
   },
   "start_time": "2021-06-24T22:15:30.732865",
   "version": "2.3.3"
  }
 },
 "nbformat": 4,
 "nbformat_minor": 5
}