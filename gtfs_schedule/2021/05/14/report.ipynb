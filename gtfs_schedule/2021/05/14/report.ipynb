{
 "cells": [
  {
   "cell_type": "markdown",
   "id": "1b1bc5aa",
   "metadata": {
    "papermill": {
     "duration": 0.040419,
     "end_time": "2021-06-24T22:08:21.761122",
     "exception": false,
     "start_time": "2021-06-24T22:08:21.720703",
     "status": "completed"
    },
    "tags": [
     "hide"
    ]
   },
   "source": [
    "# Setup"
   ]
  },
  {
   "cell_type": "code",
   "execution_count": 1,
   "id": "0f6de55e",
   "metadata": {
    "execution": {
     "iopub.execute_input": "2021-06-24T22:08:21.914724Z",
     "iopub.status.busy": "2021-06-24T22:08:21.912858Z",
     "iopub.status.idle": "2021-06-24T22:08:38.233024Z",
     "shell.execute_reply": "2021-06-24T22:08:38.232381Z"
    },
    "papermill": {
     "duration": 16.416534,
     "end_time": "2021-06-24T22:08:38.233151",
     "exception": false,
     "start_time": "2021-06-24T22:08:21.816617",
     "status": "completed"
    },
    "tags": [
     "hide"
    ]
   },
   "outputs": [],
   "source": [
    "import pandas as pd\n",
    "import numpy as np\n",
    "import warnings\n",
    "\n",
    "from io import StringIO\n",
    "from calitp.tables import tbl\n",
    "from datetime import date, datetime\n",
    "from siuba import *\n",
    "from plotnine import *\n",
    "\n",
    "def friendly_date(x): \n",
    "    return datetime.strptime(x, \"%Y-%m-%d\").strftime(\"%b %d\")"
   ]
  },
  {
   "cell_type": "code",
   "execution_count": 2,
   "id": "85f11b6f",
   "metadata": {
    "execution": {
     "iopub.execute_input": "2021-06-24T22:08:38.281589Z",
     "iopub.status.busy": "2021-06-24T22:08:38.280474Z",
     "iopub.status.idle": "2021-06-24T22:08:38.282896Z",
     "shell.execute_reply": "2021-06-24T22:08:38.283864Z"
    },
    "papermill": {
     "duration": 0.034307,
     "end_time": "2021-06-24T22:08:38.284025",
     "exception": false,
     "start_time": "2021-06-24T22:08:38.249718",
     "status": "completed"
    },
    "tags": [
     "parameters",
     "hide"
    ]
   },
   "outputs": [],
   "source": [
    "CALITP_ITP_ID = 98\n",
    "#CALITP_ITP_ID=45\n",
    "CALITP_URL_NUMBER = 0\n",
    "DEBUG = False\n",
    "\n",
    "START_DATE = \"2021-05-01\"\n",
    "END_DATE = \"2021-06-01\"\n",
    "DATE_TODAY=date.today()\n",
    "START_MONTH_DAY = friendly_date(START_DATE)\n",
    "END_MONTH_DAY = friendly_date(END_DATE)\n",
    "\n",
    "WEEK_MARKERS = pd.date_range(START_DATE, END_DATE, freq=\"W\").astype(str).tolist()\n",
    "BIWEEKLY_MARKERS = pd.date_range(START_DATE, END_DATE, freq=\"2W\").astype(str).tolist()"
   ]
  },
  {
   "cell_type": "code",
   "execution_count": 3,
   "id": "138e7511",
   "metadata": {
    "execution": {
     "iopub.execute_input": "2021-06-24T22:08:38.332398Z",
     "iopub.status.busy": "2021-06-24T22:08:38.331772Z",
     "iopub.status.idle": "2021-06-24T22:08:38.336159Z",
     "shell.execute_reply": "2021-06-24T22:08:38.337054Z"
    },
    "papermill": {
     "duration": 0.03158,
     "end_time": "2021-06-24T22:08:38.337449",
     "exception": false,
     "start_time": "2021-06-24T22:08:38.305869",
     "status": "completed"
    },
    "tags": [
     "injected-parameters"
    ]
   },
   "outputs": [],
   "source": [
    "# Parameters\n",
    "CALITP_ITP_ID = 14\n",
    "CALITP_URL_NUMBER = 0\n",
    "DEBUG = False\n",
    "START_DATE = \"2021-05-01\"\n",
    "END_DATE = \"2021-06-01\"\n"
   ]
  },
  {
   "cell_type": "code",
   "execution_count": 4,
   "id": "cf1daa41",
   "metadata": {
    "execution": {
     "iopub.execute_input": "2021-06-24T22:08:38.378061Z",
     "iopub.status.busy": "2021-06-24T22:08:38.377134Z",
     "iopub.status.idle": "2021-06-24T22:08:38.379939Z",
     "shell.execute_reply": "2021-06-24T22:08:38.380525Z"
    },
    "papermill": {
     "duration": 0.025637,
     "end_time": "2021-06-24T22:08:38.380667",
     "exception": false,
     "start_time": "2021-06-24T22:08:38.355030",
     "status": "completed"
    },
    "tags": [
     "hide"
    ]
   },
   "outputs": [],
   "source": [
    "if not DEBUG:\n",
    "    warnings.filterwarnings(\"ignore\")"
   ]
  },
  {
   "cell_type": "code",
   "execution_count": 5,
   "id": "3a15719c",
   "metadata": {
    "execution": {
     "iopub.execute_input": "2021-06-24T22:08:38.428536Z",
     "iopub.status.busy": "2021-06-24T22:08:38.427936Z",
     "iopub.status.idle": "2021-06-24T22:08:38.439580Z",
     "shell.execute_reply": "2021-06-24T22:08:38.440195Z"
    },
    "papermill": {
     "duration": 0.04329,
     "end_time": "2021-06-24T22:08:38.440348",
     "exception": false,
     "start_time": "2021-06-24T22:08:38.397058",
     "status": "completed"
    },
    "tags": [
     "hide"
    ]
   },
   "outputs": [],
   "source": [
    "# Convenience functions ----\n",
    "\n",
    "filter_start = filter(\n",
    "    _.calitp_extracted_at <= START_DATE,\n",
    "    _.calitp_deleted_at.fillna(\"2099-01-01\") > START_DATE,\n",
    ")\n",
    "\n",
    "filter_end = filter(\n",
    "    _.calitp_extracted_at <= END_DATE,\n",
    "    _.calitp_deleted_at.fillna(\"2099-01-01\") > END_DATE,\n",
    ")\n",
    "\n",
    "filter_itp = filter(\n",
    "    _.calitp_itp_id == CALITP_ITP_ID, _.calitp_url_number == CALITP_URL_NUMBER\n",
    ")\n",
    "\n",
    "collect_to_dict = (\n",
    "    collect()\n",
    "    >> pipe(_.to_dict(orient=\"records\")[0])\n",
    ")\n",
    "\n",
    "\n",
    "select_rm_calitp = select(\n",
    "    -_.calitp_itp_id,\n",
    "    -_.calitp_url_number,\n",
    "    -_.calitp_hash,\n",
    "    -_.calitp_extracted_at,\n",
    "    -_.calitp_deleted_at,\n",
    ")\n",
    "\n",
    "def percent_format(labels):\n",
    "    return [\"{:.0f}%\".format(v*100) for v in labels]\n",
    "\n",
    "def query_id_changes(start_table, end_table, id_vars):\n",
    "    \"\"\"Calculate id variables that are removed, added, or unchanged between tables.\n",
    "    \n",
    "    It works by adding a special column to each table, performing a full join,\n",
    "    then checking where the special column is null.\n",
    "    \"\"\"\n",
    "    sym_id_vars = [_[k] for k in id_vars]\n",
    "\n",
    "    is_in_start = start_table >> select(*id_vars) >> mutate(is_in_start=True)\n",
    "    is_in_end = end_table >> select(*id_vars) >> mutate(is_in_end=True)\n",
    "\n",
    "    baseline = start_table >> count(*id_vars) >> rename(n_baseline=\"n\")\n",
    "    tallies = (\n",
    "        is_in_start\n",
    "        >> full_join(_, is_in_end, id_vars)\n",
    "        >> count(*sym_id_vars, _.is_in_start, _.is_in_end)\n",
    "        >> mutate(\n",
    "            status=case_when(\n",
    "                _,\n",
    "                {\n",
    "                    _.is_in_end.isna(): \"Removed\",\n",
    "                    _.is_in_start.isna(): \"Added\",\n",
    "                    True: \"Unchanged\",\n",
    "                },\n",
    "            )\n",
    "        )\n",
    "        >> count(*sym_id_vars[:-1], _.status)\n",
    "        >> group_by(*sym_id_vars[:-1])\n",
    "        >> mutate(percent=_.n / _.n.sum())\n",
    "    )\n",
    "\n",
    "    return tallies"
   ]
  },
  {
   "cell_type": "code",
   "execution_count": 6,
   "id": "2d7a35c3",
   "metadata": {
    "execution": {
     "iopub.execute_input": "2021-06-24T22:08:38.503344Z",
     "iopub.status.busy": "2021-06-24T22:08:38.495255Z",
     "iopub.status.idle": "2021-06-24T22:09:06.859996Z",
     "shell.execute_reply": "2021-06-24T22:09:06.859398Z"
    },
    "papermill": {
     "duration": 28.40381,
     "end_time": "2021-06-24T22:09:06.860112",
     "exception": false,
     "start_time": "2021-06-24T22:08:38.456302",
     "status": "completed"
    },
    "tags": [
     "hide"
    ]
   },
   "outputs": [],
   "source": [
    "# Data ====\n",
    "# 1. High level feed info ----\n",
    "feed_info = (\n",
    "    tbl.gtfs_schedule_type2.feed_info()\n",
    "    >> filter_end\n",
    "    >> filter_itp\n",
    "    >> select_rm_calitp\n",
    "    >> collect_to_dict\n",
    ")\n",
    "\n",
    "_n_routes = (\n",
    "    tbl.gtfs_schedule_type2.routes() >> filter_end >> filter_itp >> count() >> collect()\n",
    ")\n",
    "_n_stops = (\n",
    "    tbl.gtfs_schedule_type2.stops() >> filter_end >> filter_itp >> count() >> collect()\n",
    ")\n",
    "\n",
    "feed_info[\"n_routes\"] = int(_n_routes.loc[0, \"n\"])\n",
    "feed_info[\"n_stops\"] = int(_n_stops.loc[0, \"n\"])\n",
    "\n",
    "status = (\n",
    "    tbl.views.gtfs_status_latest()\n",
    "    >> filter(_.itp_id == CALITP_ITP_ID, _.url_number == CALITP_URL_NUMBER)\n",
    "    >> select(-_.url_number, -_.status)\n",
    "    >> select_rm_calitp\n",
    "    >> collect_to_dict\n",
    ")\n",
    "\n",
    "# 2. Monthly metrics ----\n",
    "# Service hours per day. Note that the queried table calculates service\n",
    "# hours per service id, so we need to sum across service ids for the day\n",
    "_cross_cal = (\n",
    "    tbl.views.dim_date()\n",
    "    >> filter(_.full_date.between(START_DATE, END_DATE))\n",
    "    >> select(_.service_date == _.full_date)\n",
    ")\n",
    "\n",
    "tbl_daily_service_hours = (\n",
    "    tbl.views.gtfs_schedule_service_daily_metrics()\n",
    "    >> filter_itp\n",
    "    >> filter(_.service_date.between(START_DATE, END_DATE))\n",
    "    >> right_join(_, _cross_cal, [\"service_date\"])\n",
    "    >> collect()\n",
    "    >> group_by(_.service_date)\n",
    "    >> summarize(\n",
    "        ttl_service_hours=(_.last_arrival_ts.max() - _.first_departure_ts.min()) / 3600,\n",
    "        ttl_service_hours2=_.ttl_service_hours.sum(),\n",
    "    )\n",
    "    >> mutate(\n",
    "        ttl_service_hours=_.ttl_service_hours.astype(float).round(2),\n",
    "        service_date=_.service_date.astype(\"datetime64[ns]\"),\n",
    "    )\n",
    ")\n",
    "\n",
    "# number of days where a feed did not have any trips in service\n",
    "n_expired_days = (\n",
    "    tbl_daily_service_hours\n",
    "    >> filter(_.ttl_service_hours.isna())\n",
    "    >> pipe(lambda d: {\"n\": d.shape[0]})\n",
    ")\n",
    "\n",
    "# 3. Stop and Route ID Changes ----\n",
    "\n",
    "_tbl_stops_start = tbl.gtfs_schedule_type2.stops() >> filter_itp >> filter_start\n",
    "_tbl_stops_end = tbl.gtfs_schedule_type2.stops() >> filter_itp >> filter_end\n",
    "tbl_stops_changed = (\n",
    "    query_id_changes(_tbl_stops_start, _tbl_stops_end, [\"stop_id\"]) >> collect()\n",
    ")\n",
    "\n",
    "_tbl_routes_start = tbl.gtfs_schedule_type2.routes() >> filter_itp >> filter_start\n",
    "_tbl_routes_end = tbl.gtfs_schedule_type2.routes() >> filter_itp >> filter_end\n",
    "tbl_routes_changed = (\n",
    "    query_id_changes(_tbl_routes_start, _tbl_routes_end, [\"route_id\"]) >> collect()\n",
    ")"
   ]
  },
  {
   "cell_type": "code",
   "execution_count": 7,
   "id": "209185c6",
   "metadata": {
    "execution": {
     "iopub.execute_input": "2021-06-24T22:09:06.899248Z",
     "iopub.status.busy": "2021-06-24T22:09:06.898489Z",
     "iopub.status.idle": "2021-06-24T22:09:12.701376Z",
     "shell.execute_reply": "2021-06-24T22:09:12.702154Z"
    },
    "papermill": {
     "duration": 5.827116,
     "end_time": "2021-06-24T22:09:12.702385",
     "exception": false,
     "start_time": "2021-06-24T22:09:06.875269",
     "status": "completed"
    },
    "tags": [
     "hide"
    ]
   },
   "outputs": [],
   "source": [
    "# 4. Feed files being checked for ----\n",
    "\n",
    "file_categories = pd.DataFrame(\n",
    "    {\n",
    "        \"shapes.txt\": \"Visual display\",\n",
    "        \"pathways.txt\": \"Navigation\",\n",
    "        \"levels.txt\": \"Navigation\",\n",
    "        \"fare_rules.txt\": \"Fares\",\n",
    "        \"fare_leg_rules\": \"Fares\",\n",
    "        \"feed_info.txt\": \"Technical contacts\",\n",
    "    }.items(),\n",
    "    columns=[\"name\", \"category\"],\n",
    ")\n",
    "\n",
    "importance = [\"Visual display\", \"Navigation\", \"Fares\", \"Technical contacts\"]\n",
    "\n",
    "tbl_file_check = (\n",
    "    tbl.gtfs_schedule_history.calitp_files_updates()\n",
    "    >> filter_itp\n",
    "    >> filter(_.calitp_extracted_at.isin(BIWEEKLY_MARKERS))\n",
    "    >> select(_.name, _.calitp_extracted_at)\n",
    "    >> collect()\n",
    "    >> right_join(_, file_categories, [\"name\"])\n",
    "    >> mutate(\n",
    "        calitp_extracted_at=_.calitp_extracted_at.fillna(\"missing\").astype(str),\n",
    "        success=\"✅\",\n",
    "    )\n",
    "    >> spread(_.calitp_extracted_at, _.success)\n",
    "    >> select(-_.missing)\n",
    "    >> arrange(_.category.apply(importance.index))\n",
    "    >> select(_.category, _.contains(\"\"))\n",
    "    >> pipe(_.fillna(\"\"))\n",
    ")\n",
    "\n",
    "tbl_validation_notices = (\n",
    "    tbl.views.validation_notices()\n",
    "    >> filter_itp\n",
    "    >> filter(_.severity == \"ERROR\")\n",
    "    >> count(_.code, _.severity)\n",
    "    >> collect()\n",
    ")"
   ]
  },
  {
   "cell_type": "markdown",
   "id": "1b65f42f",
   "metadata": {
    "papermill": {
     "duration": 0.03258,
     "end_time": "2021-06-24T22:09:12.764791",
     "exception": false,
     "start_time": "2021-06-24T22:09:12.732211",
     "status": "completed"
    },
    "tags": [
     "hide"
    ]
   },
   "source": [
    "## Dump data"
   ]
  },
  {
   "cell_type": "code",
   "execution_count": 8,
   "id": "eb2b7e98",
   "metadata": {
    "execution": {
     "iopub.execute_input": "2021-06-24T22:09:12.839263Z",
     "iopub.status.busy": "2021-06-24T22:09:12.837946Z",
     "iopub.status.idle": "2021-06-24T22:09:12.851653Z",
     "shell.execute_reply": "2021-06-24T22:09:12.852698Z"
    },
    "papermill": {
     "duration": 0.056571,
     "end_time": "2021-06-24T22:09:12.852986",
     "exception": false,
     "start_time": "2021-06-24T22:09:12.796415",
     "status": "completed"
    },
    "tags": [
     "hide"
    ]
   },
   "outputs": [],
   "source": [
    "import json\n",
    "import shutil\n",
    "\n",
    "from pathlib import Path\n",
    "\n",
    "out_dir = Path(f\"output/{CALITP_ITP_ID}_{CALITP_URL_NUMBER}/data\")\n",
    "out_dir.mkdir(parents=True, exist_ok=True)\n",
    "\n",
    "json.dump(feed_info, open(out_dir / \"1_feed_info.json\", \"w\"))\n",
    "json.dump(status, open(out_dir / \"1_status.json\", \"w\"))\n",
    "\n",
    "tbl_daily_service_hours.to_json(out_dir / \"2_daily_service_hours.json\", orient=\"records\")\n",
    "json.dump(n_expired_days, open(out_dir / \"2_n_expired_days.json\", \"w\"))\n",
    "\n",
    "tbl_stops_changed.to_json(out_dir / \"3_stops_changed.json\", orient=\"records\")\n",
    "tbl_routes_changed.to_json(out_dir / \"3_routes_changed.json\", orient=\"records\")\n",
    "tbl_file_check.to_json(out_dir / \"4_file_check.json\", orient=\"records\")\n",
    "tbl_validation_notices.to_json(out_dir / \"4_validation_notices.json\", orient=\"records\")\n"
   ]
  },
  {
   "cell_type": "markdown",
   "id": "6ac5dc9e",
   "metadata": {
    "papermill": {
     "duration": 0.116951,
     "end_time": "2021-06-24T22:09:13.051374",
     "exception": false,
     "start_time": "2021-06-24T22:09:12.934423",
     "status": "completed"
    },
    "tags": []
   },
   "source": [
    "# Monthly GTFS Quality Report"
   ]
  },
  {
   "cell_type": "code",
   "execution_count": 9,
   "id": "5519d5f4",
   "metadata": {
    "execution": {
     "iopub.execute_input": "2021-06-24T22:09:13.204802Z",
     "iopub.status.busy": "2021-06-24T22:09:13.203870Z",
     "iopub.status.idle": "2021-06-24T22:09:13.207778Z",
     "shell.execute_reply": "2021-06-24T22:09:13.208407Z"
    },
    "papermill": {
     "duration": 0.092198,
     "end_time": "2021-06-24T22:09:13.208602",
     "exception": false,
     "start_time": "2021-06-24T22:09:13.116404",
     "status": "completed"
    },
    "tags": []
   },
   "outputs": [
    {
     "data": {
      "text/markdown": [
       "\n",
       "Transit provider name: Trillium Solutions, Inc.\n",
       "\n",
       "Date generated: 2021-06-24\n"
      ],
      "text/plain": [
       "<IPython.core.display.Markdown object>"
      ]
     },
     "execution_count": 9,
     "metadata": {},
     "output_type": "execute_result"
    }
   ],
   "source": [
    "from IPython.display import Markdown\n",
    "\n",
    "Markdown(f\"\"\"\n",
    "Transit provider name: {feed_info[\"feed_publisher_name\"]}\n",
    "\n",
    "Date generated: {DATE_TODAY}\n",
    "\"\"\")"
   ]
  },
  {
   "cell_type": "markdown",
   "id": "ebc3d5bc",
   "metadata": {
    "papermill": {
     "duration": 0.084082,
     "end_time": "2021-06-24T22:09:13.346918",
     "exception": false,
     "start_time": "2021-06-24T22:09:13.262836",
     "status": "completed"
    },
    "tags": []
   },
   "source": [
    "This is a monthly report, generated by the California Integrated Travel Project ([Cal-ITP](https://dot.ca.gov/cal-itp/cal-itp-gtfs)), summarizing issues discovered by [MobilityData](http://mobilitydata.io/)’s [GTFS Validator](https://github.com/MobilityData/gtfs-validator). This report is available for viewing by the general public to support continuous improvement of GTFS data and the experience of transit passengers. "
   ]
  },
  {
   "cell_type": "markdown",
   "id": "ea123809",
   "metadata": {
    "papermill": {
     "duration": 0.115488,
     "end_time": "2021-06-24T22:09:13.559053",
     "exception": false,
     "start_time": "2021-06-24T22:09:13.443565",
     "status": "completed"
    },
    "tags": []
   },
   "source": [
    "## Overview"
   ]
  },
  {
   "cell_type": "code",
   "execution_count": 10,
   "id": "71bce212",
   "metadata": {
    "execution": {
     "iopub.execute_input": "2021-06-24T22:09:13.786438Z",
     "iopub.status.busy": "2021-06-24T22:09:13.785434Z",
     "iopub.status.idle": "2021-06-24T22:09:13.790024Z",
     "shell.execute_reply": "2021-06-24T22:09:13.791568Z"
    },
    "papermill": {
     "duration": 0.115809,
     "end_time": "2021-06-24T22:09:13.791834",
     "exception": false,
     "start_time": "2021-06-24T22:09:13.676025",
     "status": "completed"
    },
    "tags": []
   },
   "outputs": [
    {
     "data": {
      "text/markdown": [
       "\n",
       "Feed location: http://data.trilliumtransit.com/gtfs/anaheim-ca-us/anaheim-ca-us.zip\n",
       "\n",
       "Metrics for the most recent published version of the feed:\n",
       "\n",
       "* Date published: UTC: 19-Mar-2021 21:54\n",
       "* Number of routes in any service: 15\n",
       "* Number of stops in service: 89\n"
      ],
      "text/plain": [
       "<IPython.core.display.Markdown object>"
      ]
     },
     "execution_count": 10,
     "metadata": {},
     "output_type": "execute_result"
    }
   ],
   "source": [
    "Markdown(f\"\"\"\n",
    "Feed location: {status[\"gtfs_schedule_url\"]}\n",
    "\n",
    "Metrics for the most recent published version of the feed:\n",
    "\n",
    "* Date published: {feed_info[\"feed_version\"]}\n",
    "* Number of routes in any service: {feed_info[\"n_routes\"]}\n",
    "* Number of stops in service: {feed_info[\"n_stops\"]}\n",
    "\"\"\")"
   ]
  },
  {
   "cell_type": "markdown",
   "id": "fcbd8d67",
   "metadata": {
    "papermill": {
     "duration": 0.071268,
     "end_time": "2021-06-24T22:09:13.964404",
     "exception": false,
     "start_time": "2021-06-24T22:09:13.893136",
     "status": "completed"
    },
    "tags": []
   },
   "source": [
    "## Aggregated Metrics for May"
   ]
  },
  {
   "cell_type": "code",
   "execution_count": 11,
   "id": "97f78f4f",
   "metadata": {
    "execution": {
     "iopub.execute_input": "2021-06-24T22:09:14.152439Z",
     "iopub.status.busy": "2021-06-24T22:09:14.150278Z",
     "iopub.status.idle": "2021-06-24T22:09:14.157089Z",
     "shell.execute_reply": "2021-06-24T22:09:14.156175Z"
    },
    "papermill": {
     "duration": 0.102881,
     "end_time": "2021-06-24T22:09:14.157304",
     "exception": false,
     "start_time": "2021-06-24T22:09:14.054423",
     "status": "completed"
    },
    "tags": []
   },
   "outputs": [
    {
     "data": {
      "text/markdown": [
       "\n",
       "Days with no service hours: 0\n"
      ],
      "text/plain": [
       "<IPython.core.display.Markdown object>"
      ]
     },
     "execution_count": 11,
     "metadata": {},
     "output_type": "execute_result"
    }
   ],
   "source": [
    "# TODO: \n",
    "\n",
    "# Markdown(f\"\"\"\n",
    "# Days when the active feed was expired: {n_expired_days[\"n\"]}\n",
    "# \"\"\")\n",
    "\n",
    "Markdown(f\"\"\"\n",
    "Days with no service hours: {n_expired_days[\"n\"]}\n",
    "\"\"\")\n"
   ]
  },
  {
   "cell_type": "code",
   "execution_count": 12,
   "id": "c3dc2bc9",
   "metadata": {
    "execution": {
     "iopub.execute_input": "2021-06-24T22:09:14.372975Z",
     "iopub.status.busy": "2021-06-24T22:09:14.371863Z",
     "iopub.status.idle": "2021-06-24T22:09:16.186586Z",
     "shell.execute_reply": "2021-06-24T22:09:16.187636Z"
    },
    "papermill": {
     "duration": 1.927691,
     "end_time": "2021-06-24T22:09:16.187939",
     "exception": false,
     "start_time": "2021-06-24T22:09:14.260248",
     "status": "completed"
    },
    "tags": []
   },
   "outputs": [
    {
     "data": {
      "image/png": "[encoded data removed]",
      "text/plain": [
       "<Figure size 640x480 with 1 Axes>"
      ]
     },
     "metadata": {},
     "output_type": "display_data"
    }
   ],
   "source": [
    "(\n",
    "    tbl_daily_service_hours\n",
    "    >> ggplot(aes(\"service_date\", \"ttl_service_hours2\"))\n",
    "    + geom_line()\n",
    "    + geom_point()\n",
    "    + theme(axis_text_x=element_text(angle=45, hjust=1))\n",
    "    + scale_x_datetime(date_breaks=\"1 week\")\n",
    "    + expand_limits(y=0)\n",
    "    + labs(y = \"Total service hours\", x = \"Service date\", title=\"Service hour per day\")\n",
    ").draw();"
   ]
  },
  {
   "cell_type": "markdown",
   "id": "438825f6",
   "metadata": {
    "papermill": {
     "duration": 0.03619,
     "end_time": "2021-06-24T22:09:16.259920",
     "exception": false,
     "start_time": "2021-06-24T22:09:16.223730",
     "status": "completed"
    },
    "tags": []
   },
   "source": [
    "## Changes Since Previous Month"
   ]
  },
  {
   "cell_type": "code",
   "execution_count": 13,
   "id": "43b4102f",
   "metadata": {
    "execution": {
     "iopub.execute_input": "2021-06-24T22:09:16.398022Z",
     "iopub.status.busy": "2021-06-24T22:09:16.396895Z",
     "iopub.status.idle": "2021-06-24T22:09:17.562418Z",
     "shell.execute_reply": "2021-06-24T22:09:17.564015Z"
    },
    "papermill": {
     "duration": 1.25963,
     "end_time": "2021-06-24T22:09:17.564339",
     "exception": false,
     "start_time": "2021-06-24T22:09:16.304709",
     "status": "completed"
    },
    "tags": []
   },
   "outputs": [
    {
     "data": {
      "image/png": "[encoded data removed]",
      "text/plain": [
       "<Figure size 640x480 with 1 Axes>"
      ]
     },
     "metadata": {},
     "output_type": "display_data"
    }
   ],
   "source": [
    "(\n",
    "    pd.concat(\n",
    "        [\n",
    "            tbl_stops_changed >> mutate(kind=\"Stops\"),\n",
    "            tbl_routes_changed >> mutate(kind=\"Routes\"),\n",
    "        ]\n",
    "    )\n",
    "    >> ggplot(aes(\"kind\", \"n\", fill=\"status\"))\n",
    "    + geom_col()\n",
    "    + labs(\n",
    "        x=\"GTFS schedule table\",\n",
    "        y=\"Number of IDs\",\n",
    "        title=f\"IDs Changed Between {START_MONTH_DAY} and {END_MONTH_DAY}\",\n",
    "    )\n",
    ").draw();"
   ]
  },
  {
   "cell_type": "markdown",
   "id": "c232fba5",
   "metadata": {
    "papermill": {
     "duration": 0.038652,
     "end_time": "2021-06-24T22:09:17.643802",
     "exception": false,
     "start_time": "2021-06-24T22:09:17.605150",
     "status": "completed"
    },
    "tags": []
   },
   "source": [
    "### (Alternative version using percentages)"
   ]
  },
  {
   "cell_type": "code",
   "execution_count": 14,
   "id": "b051c342",
   "metadata": {
    "execution": {
     "iopub.execute_input": "2021-06-24T22:09:17.791270Z",
     "iopub.status.busy": "2021-06-24T22:09:17.790181Z",
     "iopub.status.idle": "2021-06-24T22:09:19.238928Z",
     "shell.execute_reply": "2021-06-24T22:09:19.239637Z"
    },
    "papermill": {
     "duration": 1.554932,
     "end_time": "2021-06-24T22:09:19.239861",
     "exception": false,
     "start_time": "2021-06-24T22:09:17.684929",
     "status": "completed"
    },
    "tags": []
   },
   "outputs": [
    {
     "data": {
      "image/png": "[encoded data removed]",
      "text/plain": [
       "<Figure size 640x480 with 1 Axes>"
      ]
     },
     "metadata": {},
     "output_type": "display_data"
    }
   ],
   "source": [
    "(\n",
    "    pd.concat(\n",
    "        [\n",
    "            tbl_stops_changed >> mutate(kind=\"Stops\"),\n",
    "            tbl_routes_changed >> mutate(kind=\"Routes\"),\n",
    "        ]\n",
    "    )\n",
    "    >> ggplot(aes(\"kind\", \"percent\", fill=\"status\"))\n",
    "    + geom_col()\n",
    "    + labs(\n",
    "        x=\"GTFS schedule table\",\n",
    "        y=\"Percentage of IDs\",\n",
    "        title=f\"IDs Changed Between {START_MONTH_DAY} and {END_MONTH_DAY}\",\n",
    "    )\n",
    "    + scale_y_continuous(labels=percent_format, breaks=np.arange(0, 1.2, 0.2))\n",
    ").draw();"
   ]
  },
  {
   "cell_type": "markdown",
   "id": "ebc132ba",
   "metadata": {
    "papermill": {
     "duration": 0.042276,
     "end_time": "2021-06-24T22:09:19.323013",
     "exception": false,
     "start_time": "2021-06-24T22:09:19.280737",
     "status": "completed"
    },
    "tags": []
   },
   "source": [
    "## Consistency with the [California GTFS Minimum Guidelines](https://dot.ca.gov/cal-itp/california-minimum-general-transit-feed-specification-gtfs-guidelines) for the feed downloaded\n"
   ]
  },
  {
   "cell_type": "markdown",
   "id": "35976d57",
   "metadata": {
    "papermill": {
     "duration": 0.093994,
     "end_time": "2021-06-24T22:09:19.468981",
     "exception": false,
     "start_time": "2021-06-24T22:09:19.374987",
     "status": "completed"
    },
    "tags": []
   },
   "source": [
    "### Do the following files/fields exist?"
   ]
  },
  {
   "cell_type": "code",
   "execution_count": 15,
   "id": "1ecdc937",
   "metadata": {
    "execution": {
     "iopub.execute_input": "2021-06-24T22:09:19.772877Z",
     "iopub.status.busy": "2021-06-24T22:09:19.771713Z",
     "iopub.status.idle": "2021-06-24T22:09:19.789475Z",
     "shell.execute_reply": "2021-06-24T22:09:19.790430Z"
    },
    "papermill": {
     "duration": 0.20004,
     "end_time": "2021-06-24T22:09:19.790670",
     "exception": false,
     "start_time": "2021-06-24T22:09:19.590630",
     "status": "completed"
    },
    "tags": []
   },
   "outputs": [
    {
     "data": {
      "text/html": [
       "<div>\n",
       "<style scoped>\n",
       "    .dataframe tbody tr th:only-of-type {\n",
       "        vertical-align: middle;\n",
       "    }\n",
       "\n",
       "    .dataframe tbody tr th {\n",
       "        vertical-align: top;\n",
       "    }\n",
       "\n",
       "    .dataframe thead th {\n",
       "        text-align: right;\n",
       "    }\n",
       "</style>\n",
       "<table border=\"1\" class=\"dataframe\">\n",
       "  <thead>\n",
       "    <tr style=\"text-align: right;\">\n",
       "      <th></th>\n",
       "      <th>category</th>\n",
       "      <th>name</th>\n",
       "      <th>2021-05-02</th>\n",
       "      <th>2021-05-16</th>\n",
       "      <th>2021-05-30</th>\n",
       "    </tr>\n",
       "  </thead>\n",
       "  <tbody>\n",
       "    <tr>\n",
       "      <th>5</th>\n",
       "      <td>Visual display</td>\n",
       "      <td>shapes.txt</td>\n",
       "      <td>✅</td>\n",
       "      <td>✅</td>\n",
       "      <td>✅</td>\n",
       "    </tr>\n",
       "    <tr>\n",
       "      <th>3</th>\n",
       "      <td>Navigation</td>\n",
       "      <td>levels.txt</td>\n",
       "      <td></td>\n",
       "      <td></td>\n",
       "      <td></td>\n",
       "    </tr>\n",
       "    <tr>\n",
       "      <th>4</th>\n",
       "      <td>Navigation</td>\n",
       "      <td>pathways.txt</td>\n",
       "      <td></td>\n",
       "      <td></td>\n",
       "      <td></td>\n",
       "    </tr>\n",
       "    <tr>\n",
       "      <th>0</th>\n",
       "      <td>Fares</td>\n",
       "      <td>fare_leg_rules</td>\n",
       "      <td></td>\n",
       "      <td></td>\n",
       "      <td></td>\n",
       "    </tr>\n",
       "    <tr>\n",
       "      <th>1</th>\n",
       "      <td>Fares</td>\n",
       "      <td>fare_rules.txt</td>\n",
       "      <td>✅</td>\n",
       "      <td>✅</td>\n",
       "      <td>✅</td>\n",
       "    </tr>\n",
       "    <tr>\n",
       "      <th>2</th>\n",
       "      <td>Technical contacts</td>\n",
       "      <td>feed_info.txt</td>\n",
       "      <td>✅</td>\n",
       "      <td>✅</td>\n",
       "      <td>✅</td>\n",
       "    </tr>\n",
       "  </tbody>\n",
       "</table>\n",
       "</div>"
      ],
      "text/plain": [
       "             category            name 2021-05-02 2021-05-16 2021-05-30\n",
       "5      Visual display      shapes.txt          ✅          ✅          ✅\n",
       "3          Navigation      levels.txt                                 \n",
       "4          Navigation    pathways.txt                                 \n",
       "0               Fares  fare_leg_rules                                 \n",
       "1               Fares  fare_rules.txt          ✅          ✅          ✅\n",
       "2  Technical contacts   feed_info.txt          ✅          ✅          ✅"
      ]
     },
     "execution_count": 15,
     "metadata": {},
     "output_type": "execute_result"
    }
   ],
   "source": [
    "tbl_file_check"
   ]
  },
  {
   "cell_type": "markdown",
   "id": "9e3be604",
   "metadata": {
    "papermill": {
     "duration": 0.115213,
     "end_time": "2021-06-24T22:09:20.121654",
     "exception": false,
     "start_time": "2021-06-24T22:09:20.006441",
     "status": "completed"
    },
    "tags": []
   },
   "source": [
    "### Validation Errors Observed"
   ]
  },
  {
   "cell_type": "code",
   "execution_count": 16,
   "id": "77c0d20e",
   "metadata": {
    "execution": {
     "iopub.execute_input": "2021-06-24T22:09:20.292456Z",
     "iopub.status.busy": "2021-06-24T22:09:20.289088Z",
     "iopub.status.idle": "2021-06-24T22:09:20.297551Z",
     "shell.execute_reply": "2021-06-24T22:09:20.298314Z"
    },
    "papermill": {
     "duration": 0.121718,
     "end_time": "2021-06-24T22:09:20.298615",
     "exception": false,
     "start_time": "2021-06-24T22:09:20.176897",
     "status": "completed"
    },
    "tags": []
   },
   "outputs": [
    {
     "data": {
      "text/markdown": [
       "No validation error observed in your feed."
      ],
      "text/plain": [
       "<IPython.core.display.Markdown object>"
      ]
     },
     "metadata": {},
     "output_type": "display_data"
    }
   ],
   "source": [
    "if tbl_validation_notices.shape[0] == 0:\n",
    "    display(Markdown(\"No validation error observed in your feed.\"))\n",
    "else:    \n",
    "    display(tbl_validation_notices)"
   ]
  },
  {
   "cell_type": "markdown",
   "id": "c6ccb3e9",
   "metadata": {
    "papermill": {
     "duration": 0.084443,
     "end_time": "2021-06-24T22:09:20.485749",
     "exception": false,
     "start_time": "2021-06-24T22:09:20.401306",
     "status": "completed"
    },
    "tags": []
   },
   "source": [
    "For more information about Cal-ITP, including the [Minimum GTFS Guidelines](https://dot.ca.gov/cal-itp/california-minimum-general-transit-feed-specification-gtfs-guidelines) and our [Transit Data Helpdesk](https://dot.ca.gov/programs/rail-and-mass-transportation/gtfs/helpdesk), contact [GTFSRT@dot.ca.gov](mailto:GTFSRT@dot.ca.gov)."
   ]
  }
 ],
 "metadata": {
  "kernelspec": {
   "display_name": "venv-calitp-py",
   "language": "python",
   "name": "venv-calitp-py"
  },
  "language_info": {
   "codemirror_mode": {
    "name": "ipython",
    "version": 3
   },
   "file_extension": ".py",
   "mimetype": "text/x-python",
   "name": "python",
   "nbconvert_exporter": "python",
   "pygments_lexer": "ipython3",
   "version": "3.8.5"
  },
  "papermill": {
   "default_parameters": {},
   "duration": 66.110317,
   "end_time": "2021-06-24T22:09:22.998423",
   "environment_variables": {},
   "exception": null,
   "input_path": "report.ipynb",
   "output_path": "output/14/report.ipynb",
   "parameters": {
    "CALITP_ITP_ID": 14,
    "CALITP_URL_NUMBER": 0,
    "DEBUG": false,
    "END_DATE": "2021-06-01",
    "START_DATE": "2021-05-01"
   },
   "start_time": "2021-06-24T22:08:16.888106",
   "version": "2.3.3"
  }
 },
 "nbformat": 4,
 "nbformat_minor": 5
}