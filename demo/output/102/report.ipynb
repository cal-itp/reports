{
 "cells": [
  {
   "cell_type": "markdown",
   "id": "de190c9d",
   "metadata": {
    "papermill": {
     "duration": 0.01459,
     "end_time": "2021-06-23T00:28:19.453510",
     "exception": false,
     "start_time": "2021-06-23T00:28:19.438920",
     "status": "completed"
    },
    "tags": [
     "hide"
    ]
   },
   "source": [
    "# Setup"
   ]
  },
  {
   "cell_type": "code",
   "execution_count": 1,
   "id": "51cb6e3a",
   "metadata": {
    "execution": {
     "iopub.execute_input": "2021-06-23T00:28:19.496575Z",
     "iopub.status.busy": "2021-06-23T00:28:19.494128Z",
     "iopub.status.idle": "2021-06-23T00:28:25.624081Z",
     "shell.execute_reply": "2021-06-23T00:28:25.624580Z"
    },
    "papermill": {
     "duration": 6.15382,
     "end_time": "2021-06-23T00:28:25.624802",
     "exception": false,
     "start_time": "2021-06-23T00:28:19.470982",
     "status": "completed"
    },
    "tags": [
     "hide"
    ]
   },
   "outputs": [],
   "source": [
    "import pandas as pd\n",
    "\n",
    "from io import StringIO\n",
    "from calitp.tables import tbl\n",
    "from datetime import date\n",
    "from siuba import *\n",
    "from plotnine import *\n",
    "\n",
    "\n",
    "START_DATE = \"2021-05-01\"\n",
    "END_DATE = \"2021-06-01\"\n",
    "DATE_TODAY=date.today()\n",
    "\n",
    "WEEK_MARKERS = pd.date_range(START_DATE, END_DATE, freq=\"W\").astype(str).tolist()"
   ]
  },
  {
   "cell_type": "code",
   "execution_count": 2,
   "id": "acc1658f",
   "metadata": {
    "execution": {
     "iopub.execute_input": "2021-06-23T00:28:25.662200Z",
     "iopub.status.busy": "2021-06-23T00:28:25.660932Z",
     "iopub.status.idle": "2021-06-23T00:28:25.663907Z",
     "shell.execute_reply": "2021-06-23T00:28:25.664840Z"
    },
    "papermill": {
     "duration": 0.025902,
     "end_time": "2021-06-23T00:28:25.665074",
     "exception": false,
     "start_time": "2021-06-23T00:28:25.639172",
     "status": "completed"
    },
    "tags": [
     "parameters",
     "hide"
    ]
   },
   "outputs": [],
   "source": [
    "CALITP_ITP_ID=389\n",
    "#CALITP_ITP_ID=45\n",
    "CALITP_URL_NUMBER=0"
   ]
  },
  {
   "cell_type": "code",
   "execution_count": 3,
   "id": "8869ae05",
   "metadata": {
    "execution": {
     "iopub.execute_input": "2021-06-23T00:28:25.697493Z",
     "iopub.status.busy": "2021-06-23T00:28:25.696567Z",
     "iopub.status.idle": "2021-06-23T00:28:25.699328Z",
     "shell.execute_reply": "2021-06-23T00:28:25.698782Z"
    },
    "papermill": {
     "duration": 0.020876,
     "end_time": "2021-06-23T00:28:25.699461",
     "exception": false,
     "start_time": "2021-06-23T00:28:25.678585",
     "status": "completed"
    },
    "tags": [
     "injected-parameters"
    ]
   },
   "outputs": [],
   "source": [
    "# Parameters\n",
    "CALITP_ITP_ID = 102\n",
    "CALITP_URL_NUMBER = 0\n"
   ]
  },
  {
   "cell_type": "code",
   "execution_count": 4,
   "id": "d39f5d11",
   "metadata": {
    "execution": {
     "iopub.execute_input": "2021-06-23T00:28:25.739367Z",
     "iopub.status.busy": "2021-06-23T00:28:25.738741Z",
     "iopub.status.idle": "2021-06-23T00:28:25.743259Z",
     "shell.execute_reply": "2021-06-23T00:28:25.743712Z"
    },
    "papermill": {
     "duration": 0.030785,
     "end_time": "2021-06-23T00:28:25.743938",
     "exception": false,
     "start_time": "2021-06-23T00:28:25.713153",
     "status": "completed"
    },
    "tags": [
     "hide"
    ]
   },
   "outputs": [],
   "source": [
    "# Convenience functions ----\n",
    "\n",
    "filter_start = filter(\n",
    "    _.calitp_extracted_at <= START_DATE,\n",
    "    _.calitp_deleted_at.fillna(\"2099-01-01\") > START_DATE,\n",
    ")\n",
    "\n",
    "filter_end = filter(\n",
    "    _.calitp_extracted_at <= END_DATE,\n",
    "    _.calitp_deleted_at.fillna(\"2099-01-01\") > END_DATE,\n",
    ")\n",
    "\n",
    "filter_itp = filter(\n",
    "    _.calitp_itp_id == CALITP_ITP_ID, _.calitp_url_number == CALITP_URL_NUMBER\n",
    ")\n",
    "\n",
    "collect_to_dict = (\n",
    "    collect()\n",
    "    >> pipe(_.to_dict(orient=\"records\")[0])\n",
    ")\n",
    "\n",
    "\n",
    "select_rm_calitp = select(\n",
    "    -_.calitp_itp_id,\n",
    "    -_.calitp_url_number,\n",
    "    -_.calitp_hash,\n",
    "    -_.calitp_extracted_at,\n",
    "    -_.calitp_deleted_at,\n",
    ")\n",
    "\n",
    "\n",
    "def query_id_changes(start_table, end_table, id_vars):\n",
    "    \"\"\"Calculate id variables that are removed, added, or unchanged between tables.\n",
    "    \n",
    "    It works by adding a special column to each table, performing a full join,\n",
    "    then checking where the special column is null.\n",
    "    \"\"\"\n",
    "    sym_id_vars = [_[k] for k in id_vars]\n",
    "\n",
    "    is_in_start = start_table >> select(*id_vars) >> mutate(is_in_start=True)\n",
    "    is_in_end = end_table >> select(*id_vars) >> mutate(is_in_end=True)\n",
    "\n",
    "    baseline = start_table >> count(*id_vars) >> rename(n_baseline=\"n\")\n",
    "    tallies = (\n",
    "        is_in_start\n",
    "        >> full_join(_, is_in_end, id_vars)\n",
    "        >> count(*sym_id_vars, _.is_in_start, _.is_in_end)\n",
    "        >> mutate(\n",
    "            status=case_when(\n",
    "                _,\n",
    "                {\n",
    "                    _.is_in_end.isna(): \"Removed\",\n",
    "                    _.is_in_start.isna(): \"Added\",\n",
    "                    True: \"Unchanged\",\n",
    "                },\n",
    "            )\n",
    "        )\n",
    "        >> count(*sym_id_vars[:-1], _.status)\n",
    "        >> group_by(*sym_id_vars[:-1])\n",
    "        >> mutate(percent=_.n / _.n.sum())\n",
    "    )\n",
    "\n",
    "    return tallies"
   ]
  },
  {
   "cell_type": "code",
   "execution_count": 5,
   "id": "e62cd5c5",
   "metadata": {
    "execution": {
     "iopub.execute_input": "2021-06-23T00:28:25.792934Z",
     "iopub.status.busy": "2021-06-23T00:28:25.791461Z",
     "iopub.status.idle": "2021-06-23T00:28:52.837726Z",
     "shell.execute_reply": "2021-06-23T00:28:52.837161Z"
    },
    "papermill": {
     "duration": 27.078157,
     "end_time": "2021-06-23T00:28:52.837932",
     "exception": false,
     "start_time": "2021-06-23T00:28:25.759775",
     "status": "completed"
    },
    "tags": [
     "hide"
    ]
   },
   "outputs": [],
   "source": [
    "# Data ====\n",
    "# 1. High level feed info ----\n",
    "feed_info = (\n",
    "    tbl.gtfs_schedule_type2.feed_info()\n",
    "    >> filter_end\n",
    "    >> filter_itp\n",
    "    >> select_rm_calitp\n",
    "    >> collect_to_dict\n",
    ")\n",
    "\n",
    "_n_routes = (\n",
    "    tbl.gtfs_schedule_type2.routes() >> filter_end >> filter_itp >> count() >> collect()\n",
    ")\n",
    "_n_stops = (\n",
    "    tbl.gtfs_schedule_type2.stops() >> filter_end >> filter_itp >> count() >> collect()\n",
    ")\n",
    "\n",
    "feed_info[\"n_routes\"] = int(_n_routes.loc[0, \"n\"])\n",
    "feed_info[\"n_stops\"] = int(_n_stops.loc[0, \"n\"])\n",
    "\n",
    "status = (\n",
    "    tbl.views.gtfs_status_latest()\n",
    "    >> filter(_.itp_id == CALITP_ITP_ID, _.url_number == CALITP_URL_NUMBER)\n",
    "    >> select(-_.url_number, -_.status)\n",
    "    >> select_rm_calitp\n",
    "    >> collect_to_dict\n",
    ")\n",
    "\n",
    "# 2. Monthly metrics ----\n",
    "# Service hours per day. Note that the queried table calculates service\n",
    "# hours per service id, so we need to sum across service ids for the day\n",
    "_cross_cal = (\n",
    "    tbl.views.dim_date()\n",
    "    >> filter(_.full_date.between(START_DATE, END_DATE))\n",
    "    >> select(_.service_date == _.full_date)\n",
    ")\n",
    "\n",
    "tbl_daily_service_hours = (\n",
    "    tbl.views.gtfs_schedule_service_daily_metrics()\n",
    "    >> filter_itp\n",
    "    >> filter(_.service_date.between(START_DATE, END_DATE))\n",
    "    >> right_join(_, _cross_cal, [\"service_date\"])\n",
    "    >> collect()\n",
    "    >> group_by(_.service_date)\n",
    "    >> summarize(ttl_service_hours=(_.last_arrival_ts.max() - _.first_departure_ts.min()) / 3600)\n",
    "    >> mutate(\n",
    "        ttl_service_hours=_.ttl_service_hours.astype(float).round(2),\n",
    "        service_date=_.service_date.astype(\"datetime64[ns]\"),\n",
    "    )\n",
    ")\n",
    "\n",
    "# number of days where a feed did not have any trips in service\n",
    "n_expired_days = (\n",
    "    tbl_daily_service_hours >> filter(_.ttl_service_hours.isna())\n",
    "    >> pipe(lambda d: {\"n\": d.shape[0]})\n",
    ")\n",
    "\n",
    "# 3. Stop and Route ID Changes ----\n",
    "\n",
    "_tbl_stops_start = tbl.gtfs_schedule_type2.stops() >> filter_itp >> filter_start\n",
    "_tbl_stops_end = tbl.gtfs_schedule_type2.stops() >> filter_itp >> filter_end\n",
    "tbl_stops_changed = (\n",
    "    query_id_changes(_tbl_stops_start, _tbl_stops_end, [\"stop_id\"]) >> collect()\n",
    ")\n",
    "\n",
    "_tbl_routes_start = tbl.gtfs_schedule_type2.routes() >> filter_start\n",
    "_tbl_routes_end = tbl.gtfs_schedule_type2.routes() >> filter_end\n",
    "tbl_routes_changed = (\n",
    "    query_id_changes(_tbl_routes_start, _tbl_routes_end, [\"route_id\"]) >> collect()\n",
    ")"
   ]
  },
  {
   "cell_type": "code",
   "execution_count": 6,
   "id": "4a613133",
   "metadata": {
    "execution": {
     "iopub.execute_input": "2021-06-23T00:28:52.923764Z",
     "iopub.status.busy": "2021-06-23T00:28:52.922246Z",
     "iopub.status.idle": "2021-06-23T00:28:58.990434Z",
     "shell.execute_reply": "2021-06-23T00:28:58.991285Z"
    },
    "papermill": {
     "duration": 6.114574,
     "end_time": "2021-06-23T00:28:58.991638",
     "exception": false,
     "start_time": "2021-06-23T00:28:52.877064",
     "status": "completed"
    },
    "tags": [
     "hide"
    ]
   },
   "outputs": [],
   "source": [
    "# 4. Feed files being checked for ----\n",
    "\n",
    "file_categories = pd.DataFrame(\n",
    "    {\n",
    "        \"shapes.txt\": \"Visual display\",\n",
    "        \"pathways.txt\": \"Navigation\",\n",
    "        \"levels.txt\": \"Navigation\",\n",
    "        \"fare_rules.txt\": \"Fares\",\n",
    "        \"fare_leg_rules\": \"Fares\",\n",
    "        \"feed_info.txt\": \"Technical contacts\",\n",
    "    }.items(),\n",
    "    columns=[\"name\", \"category\"],\n",
    ")\n",
    "\n",
    "importance = [\"Visual display\", \"Navigation\", \"Fares\", \"Technical contacts\"]\n",
    "\n",
    "tbl_file_check = (\n",
    "    tbl.gtfs_schedule_history.calitp_files_updates()\n",
    "    >> filter_itp\n",
    "    >> filter(_.calitp_extracted_at.isin(WEEK_MARKERS))\n",
    "    >> select(_.name, _.calitp_extracted_at)\n",
    "    >> collect()\n",
    "    >> right_join(_, file_categories, [\"name\"])\n",
    "    >> mutate(\n",
    "        calitp_extracted_at=_.calitp_extracted_at.fillna(\"missing\").astype(str),\n",
    "        success=\"✅\",\n",
    "    )\n",
    "    >> spread(_.calitp_extracted_at, _.success)\n",
    "    >> select(-_.missing)\n",
    "    >> arrange(_.category.apply(importance.index))\n",
    "    >> select(_.category, _.contains(\"\"))\n",
    "    >> pipe(_.fillna(\"\"))\n",
    ")\n",
    "\n",
    "tbl_validation_notices = (\n",
    "    tbl.views.validation_notices()\n",
    "    >> filter_itp\n",
    "    >> filter(_.severity == \"ERROR\")\n",
    "    >> count(_.code, _.severity)\n",
    "    >> collect()\n",
    ")"
   ]
  },
  {
   "cell_type": "markdown",
   "id": "df5eb464",
   "metadata": {
    "papermill": {
     "duration": 0.042194,
     "end_time": "2021-06-23T00:28:59.067358",
     "exception": false,
     "start_time": "2021-06-23T00:28:59.025164",
     "status": "completed"
    },
    "tags": [
     "hide"
    ]
   },
   "source": [
    "## Dump data"
   ]
  },
  {
   "cell_type": "code",
   "execution_count": 7,
   "id": "578f4393",
   "metadata": {
    "execution": {
     "iopub.execute_input": "2021-06-23T00:28:59.127429Z",
     "iopub.status.busy": "2021-06-23T00:28:59.125319Z",
     "iopub.status.idle": "2021-06-23T00:28:59.136239Z",
     "shell.execute_reply": "2021-06-23T00:28:59.136996Z"
    },
    "papermill": {
     "duration": 0.038756,
     "end_time": "2021-06-23T00:28:59.137246",
     "exception": false,
     "start_time": "2021-06-23T00:28:59.098490",
     "status": "completed"
    },
    "tags": [
     "hide"
    ]
   },
   "outputs": [],
   "source": [
    "import json\n",
    "import shutil\n",
    "\n",
    "from pathlib import Path\n",
    "\n",
    "out_dir = Path(f\"output/{CALITP_ITP_ID}_{CALITP_URL_NUMBER}/data\")\n",
    "out_dir.mkdir(parents=True, exist_ok=True)\n",
    "\n",
    "json.dump(feed_info, open(out_dir / \"1_feed_info.json\", \"w\"))\n",
    "json.dump(status, open(out_dir / \"1_status.json\", \"w\"))\n",
    "\n",
    "tbl_daily_service_hours.to_json(out_dir / \"2_daily_service_hours.json\", orient=\"records\")\n",
    "json.dump(n_expired_days, open(out_dir / \"2_n_expired_days.json\", \"w\"))\n",
    "\n",
    "tbl_stops_changed.to_json(out_dir / \"3_stops_changed.json\", orient=\"records\")\n",
    "tbl_routes_changed.to_json(out_dir / \"3_routes_changed.json\", orient=\"records\")\n",
    "tbl_file_check.to_json(out_dir / \"4_file_check.json\", orient=\"records\")\n",
    "tbl_validation_notices.to_json(out_dir / \"4_validation_notices.json\", orient=\"records\")\n"
   ]
  },
  {
   "cell_type": "markdown",
   "id": "038782c5",
   "metadata": {
    "papermill": {
     "duration": 0.019108,
     "end_time": "2021-06-23T00:28:59.174720",
     "exception": false,
     "start_time": "2021-06-23T00:28:59.155612",
     "status": "completed"
    },
    "tags": []
   },
   "source": [
    "# GTFS Schedule Report"
   ]
  },
  {
   "cell_type": "markdown",
   "id": "21e5f6ff",
   "metadata": {
    "papermill": {
     "duration": 0.016244,
     "end_time": "2021-06-23T00:28:59.219121",
     "exception": false,
     "start_time": "2021-06-23T00:28:59.202877",
     "status": "completed"
    },
    "tags": []
   },
   "source": [
    "# Example Juniper Report"
   ]
  },
  {
   "cell_type": "code",
   "execution_count": 8,
   "id": "7af9fcb4",
   "metadata": {
    "execution": {
     "iopub.execute_input": "2021-06-23T00:28:59.266067Z",
     "iopub.status.busy": "2021-06-23T00:28:59.264572Z",
     "iopub.status.idle": "2021-06-23T00:28:59.268942Z",
     "shell.execute_reply": "2021-06-23T00:28:59.269577Z"
    },
    "papermill": {
     "duration": 0.032348,
     "end_time": "2021-06-23T00:28:59.269819",
     "exception": false,
     "start_time": "2021-06-23T00:28:59.237471",
     "status": "completed"
    },
    "tags": []
   },
   "outputs": [
    {
     "data": {
      "text/markdown": [
       "\n",
       "Transit provider name: Trillium Solutions, Inc.\n",
       "\n",
       "Date generated: 2021-06-22\n"
      ],
      "text/plain": [
       "<IPython.core.display.Markdown object>"
      ]
     },
     "execution_count": 8,
     "metadata": {},
     "output_type": "execute_result"
    }
   ],
   "source": [
    "from IPython.display import Markdown\n",
    "\n",
    "Markdown(f\"\"\"\n",
    "Transit provider name: {feed_info[\"feed_publisher_name\"]}\n",
    "\n",
    "Date generated: {DATE_TODAY}\n",
    "\"\"\")"
   ]
  },
  {
   "cell_type": "markdown",
   "id": "9505e07e",
   "metadata": {
    "papermill": {
     "duration": 0.026332,
     "end_time": "2021-06-23T00:28:59.314467",
     "exception": false,
     "start_time": "2021-06-23T00:28:59.288135",
     "status": "completed"
    },
    "tags": []
   },
   "source": [
    "This is a monthly report, generated by the California Integrated Travel Project (Cal-ITP), summarizing issues discovered by MobilityData’s GTFS Validator. This report is available for viewing by the general public to support continuous improvement of GTFS data and the experience of transit passengers. "
   ]
  },
  {
   "cell_type": "markdown",
   "id": "4b8a0cee",
   "metadata": {
    "papermill": {
     "duration": 0.016431,
     "end_time": "2021-06-23T00:28:59.353506",
     "exception": false,
     "start_time": "2021-06-23T00:28:59.337075",
     "status": "completed"
    },
    "tags": []
   },
   "source": [
    "## Overview"
   ]
  },
  {
   "cell_type": "code",
   "execution_count": 9,
   "id": "004aa761",
   "metadata": {
    "execution": {
     "iopub.execute_input": "2021-06-23T00:28:59.397063Z",
     "iopub.status.busy": "2021-06-23T00:28:59.395408Z",
     "iopub.status.idle": "2021-06-23T00:28:59.399836Z",
     "shell.execute_reply": "2021-06-23T00:28:59.400713Z"
    },
    "papermill": {
     "duration": 0.028332,
     "end_time": "2021-06-23T00:28:59.401053",
     "exception": false,
     "start_time": "2021-06-23T00:28:59.372721",
     "status": "completed"
    },
    "tags": []
   },
   "outputs": [
    {
     "data": {
      "text/markdown": [
       "\n",
       "Feed location: http://data.trilliumtransit.com/gtfs/elmonte-ca-us/elmonte-ca-us.zip\n",
       "\n",
       "Metrics for the most recent published version of the feed:\n",
       "\n",
       "* Date published: UTC: 22-Feb-2021 22:03\n",
       "* Number of routes in any service: 7\n",
       "* Number of stops in service: 162\n"
      ],
      "text/plain": [
       "<IPython.core.display.Markdown object>"
      ]
     },
     "execution_count": 9,
     "metadata": {},
     "output_type": "execute_result"
    }
   ],
   "source": [
    "Markdown(f\"\"\"\n",
    "Feed location: {status[\"gtfs_schedule_url\"]}\n",
    "\n",
    "Metrics for the most recent published version of the feed:\n",
    "\n",
    "* Date published: {feed_info[\"feed_version\"]}\n",
    "* Number of routes in any service: {feed_info[\"n_routes\"]}\n",
    "* Number of stops in service: {feed_info[\"n_stops\"]}\n",
    "\"\"\")"
   ]
  },
  {
   "cell_type": "markdown",
   "id": "8f349601",
   "metadata": {
    "papermill": {
     "duration": 0.030752,
     "end_time": "2021-06-23T00:28:59.450354",
     "exception": false,
     "start_time": "2021-06-23T00:28:59.419602",
     "status": "completed"
    },
    "tags": []
   },
   "source": [
    "## Aggregated Metrics for May"
   ]
  },
  {
   "cell_type": "code",
   "execution_count": 10,
   "id": "4a506f26",
   "metadata": {
    "execution": {
     "iopub.execute_input": "2021-06-23T00:28:59.502479Z",
     "iopub.status.busy": "2021-06-23T00:28:59.501484Z",
     "iopub.status.idle": "2021-06-23T00:28:59.504945Z",
     "shell.execute_reply": "2021-06-23T00:28:59.505474Z"
    },
    "papermill": {
     "duration": 0.028509,
     "end_time": "2021-06-23T00:28:59.505686",
     "exception": false,
     "start_time": "2021-06-23T00:28:59.477177",
     "status": "completed"
    },
    "tags": []
   },
   "outputs": [
    {
     "data": {
      "text/markdown": [
       "\n",
       "Days when the active feed was expired: 13\n"
      ],
      "text/plain": [
       "<IPython.core.display.Markdown object>"
      ]
     },
     "execution_count": 10,
     "metadata": {},
     "output_type": "execute_result"
    }
   ],
   "source": [
    "Markdown(f\"\"\"\n",
    "Days when the active feed was expired: {n_expired_days[\"n\"]}\n",
    "\"\"\")"
   ]
  },
  {
   "cell_type": "code",
   "execution_count": 11,
   "id": "31168c41",
   "metadata": {
    "execution": {
     "iopub.execute_input": "2021-06-23T00:28:59.572572Z",
     "iopub.status.busy": "2021-06-23T00:28:59.571488Z",
     "iopub.status.idle": "2021-06-23T00:28:59.918727Z",
     "shell.execute_reply": "2021-06-23T00:28:59.919147Z"
    },
    "papermill": {
     "duration": 0.392029,
     "end_time": "2021-06-23T00:28:59.919305",
     "exception": false,
     "start_time": "2021-06-23T00:28:59.527276",
     "status": "completed"
    },
    "tags": []
   },
   "outputs": [
    {
     "name": "stderr",
     "output_type": "stream",
     "text": [
      "/Users/machow/.virtualenvs/calitp-py/lib/python3.8/site-packages/plotnine/geoms/geom_path.py:75: PlotnineWarning: geom_path: Removed 12 rows containing missing values.\n",
      "/Users/machow/.virtualenvs/calitp-py/lib/python3.8/site-packages/plotnine/layer.py:401: PlotnineWarning: geom_point : Removed 13 rows containing missing values.\n"
     ]
    },
    {
     "data": {
      "image/png": "[encoded data removed]",
      "text/plain": [
       "<Figure size 640x480 with 1 Axes>"
      ]
     },
     "metadata": {},
     "output_type": "display_data"
    },
    {
     "data": {
      "text/plain": [
       "<ggplot: (283106883)>"
      ]
     },
     "execution_count": 11,
     "metadata": {},
     "output_type": "execute_result"
    }
   ],
   "source": [
    "(\n",
    "    tbl_daily_service_hours\n",
    "    >> ggplot(aes(\"service_date\", \"ttl_service_hours\"))\n",
    "    + geom_line()\n",
    "    + geom_point()\n",
    "    + theme(axis_text_x=element_text(angle=45, hjust=1))\n",
    "    + scale_x_datetime(date_breaks=\"1 week\")\n",
    "    + expand_limits(y=0)\n",
    ")"
   ]
  },
  {
   "cell_type": "markdown",
   "id": "6b67fe48",
   "metadata": {
    "papermill": {
     "duration": 0.017435,
     "end_time": "2021-06-23T00:28:59.953528",
     "exception": false,
     "start_time": "2021-06-23T00:28:59.936093",
     "status": "completed"
    },
    "tags": []
   },
   "source": [
    "## Changes Since Previous Month"
   ]
  },
  {
   "cell_type": "code",
   "execution_count": 12,
   "id": "8d0dccc5",
   "metadata": {
    "execution": {
     "iopub.execute_input": "2021-06-23T00:29:00.023865Z",
     "iopub.status.busy": "2021-06-23T00:29:00.012899Z",
     "iopub.status.idle": "2021-06-23T00:29:00.301762Z",
     "shell.execute_reply": "2021-06-23T00:29:00.300447Z"
    },
    "papermill": {
     "duration": 0.329758,
     "end_time": "2021-06-23T00:29:00.301924",
     "exception": false,
     "start_time": "2021-06-23T00:28:59.972166",
     "status": "completed"
    },
    "tags": []
   },
   "outputs": [
    {
     "data": {
      "image/png": "[encoded data removed]",
      "text/plain": [
       "<Figure size 640x480 with 1 Axes>"
      ]
     },
     "metadata": {},
     "output_type": "display_data"
    },
    {
     "data": {
      "text/plain": [
       "<ggplot: (312806135)>"
      ]
     },
     "execution_count": 12,
     "metadata": {},
     "output_type": "execute_result"
    }
   ],
   "source": [
    "(\n",
    "    pd.concat(\n",
    "        [\n",
    "            tbl_stops_changed >> mutate(kind=\"Stops\"),\n",
    "            tbl_routes_changed >> mutate(kind=\"Routes\"),\n",
    "        ]\n",
    "    )\n",
    "    >> ggplot(aes(\"kind\", \"n\", fill=\"status\"))\n",
    "    + geom_col()\n",
    "    + labs(x=\"Kind of ID\", y=\"Number of Changes\")\n",
    ")"
   ]
  },
  {
   "cell_type": "markdown",
   "id": "218640dc",
   "metadata": {
    "papermill": {
     "duration": 0.033463,
     "end_time": "2021-06-23T00:29:00.355668",
     "exception": false,
     "start_time": "2021-06-23T00:29:00.322205",
     "status": "completed"
    },
    "tags": []
   },
   "source": [
    "### (Alternative version using percentages)"
   ]
  },
  {
   "cell_type": "code",
   "execution_count": 13,
   "id": "ca075123",
   "metadata": {
    "execution": {
     "iopub.execute_input": "2021-06-23T00:29:00.462967Z",
     "iopub.status.busy": "2021-06-23T00:29:00.461558Z",
     "iopub.status.idle": "2021-06-23T00:29:00.978236Z",
     "shell.execute_reply": "2021-06-23T00:29:00.977560Z"
    },
    "papermill": {
     "duration": 0.576575,
     "end_time": "2021-06-23T00:29:00.978561",
     "exception": false,
     "start_time": "2021-06-23T00:29:00.401986",
     "status": "completed"
    },
    "tags": []
   },
   "outputs": [
    {
     "data": {
      "image/png": "[encoded data removed]",
      "text/plain": [
       "<Figure size 640x480 with 1 Axes>"
      ]
     },
     "metadata": {},
     "output_type": "display_data"
    },
    {
     "data": {
      "text/plain": [
       "<ggplot: (312816041)>"
      ]
     },
     "execution_count": 13,
     "metadata": {},
     "output_type": "execute_result"
    }
   ],
   "source": [
    "(\n",
    "    pd.concat(\n",
    "        [\n",
    "            tbl_stops_changed >> mutate(kind=\"Stops\"),\n",
    "            tbl_routes_changed >> mutate(kind=\"Routes\"),\n",
    "        ]\n",
    "    )\n",
    "    >> ggplot(aes(\"kind\", \"percent\", fill=\"status\"))\n",
    "    + geom_col()\n",
    "    + labs(x=\"Kind of ID\", y=\"Percent of Changes\")\n",
    ")"
   ]
  },
  {
   "cell_type": "markdown",
   "id": "e8503193",
   "metadata": {
    "papermill": {
     "duration": 0.037869,
     "end_time": "2021-06-23T00:29:01.055511",
     "exception": false,
     "start_time": "2021-06-23T00:29:01.017642",
     "status": "completed"
    },
    "tags": []
   },
   "source": [
    "## Consistency with the California GTFS Minimum Guidelines for the feed downloaded\n"
   ]
  },
  {
   "cell_type": "code",
   "execution_count": 14,
   "id": "29afa8d6",
   "metadata": {
    "execution": {
     "iopub.execute_input": "2021-06-23T00:29:01.130190Z",
     "iopub.status.busy": "2021-06-23T00:29:01.129115Z",
     "iopub.status.idle": "2021-06-23T00:29:01.146154Z",
     "shell.execute_reply": "2021-06-23T00:29:01.146842Z"
    },
    "papermill": {
     "duration": 0.061278,
     "end_time": "2021-06-23T00:29:01.147118",
     "exception": false,
     "start_time": "2021-06-23T00:29:01.085840",
     "status": "completed"
    },
    "tags": []
   },
   "outputs": [
    {
     "data": {
      "text/html": [
       "<div>\n",
       "<style scoped>\n",
       "    .dataframe tbody tr th:only-of-type {\n",
       "        vertical-align: middle;\n",
       "    }\n",
       "\n",
       "    .dataframe tbody tr th {\n",
       "        vertical-align: top;\n",
       "    }\n",
       "\n",
       "    .dataframe thead th {\n",
       "        text-align: right;\n",
       "    }\n",
       "</style>\n",
       "<table border=\"1\" class=\"dataframe\">\n",
       "  <thead>\n",
       "    <tr style=\"text-align: right;\">\n",
       "      <th></th>\n",
       "      <th>category</th>\n",
       "      <th>name</th>\n",
       "      <th>2021-05-16</th>\n",
       "      <th>2021-05-23</th>\n",
       "      <th>2021-05-30</th>\n",
       "    </tr>\n",
       "  </thead>\n",
       "  <tbody>\n",
       "    <tr>\n",
       "      <th>5</th>\n",
       "      <td>Visual display</td>\n",
       "      <td>shapes.txt</td>\n",
       "      <td>✅</td>\n",
       "      <td>✅</td>\n",
       "      <td>✅</td>\n",
       "    </tr>\n",
       "    <tr>\n",
       "      <th>3</th>\n",
       "      <td>Navigation</td>\n",
       "      <td>levels.txt</td>\n",
       "      <td></td>\n",
       "      <td></td>\n",
       "      <td></td>\n",
       "    </tr>\n",
       "    <tr>\n",
       "      <th>4</th>\n",
       "      <td>Navigation</td>\n",
       "      <td>pathways.txt</td>\n",
       "      <td></td>\n",
       "      <td></td>\n",
       "      <td></td>\n",
       "    </tr>\n",
       "    <tr>\n",
       "      <th>0</th>\n",
       "      <td>Fares</td>\n",
       "      <td>fare_leg_rules</td>\n",
       "      <td></td>\n",
       "      <td></td>\n",
       "      <td></td>\n",
       "    </tr>\n",
       "    <tr>\n",
       "      <th>1</th>\n",
       "      <td>Fares</td>\n",
       "      <td>fare_rules.txt</td>\n",
       "      <td>✅</td>\n",
       "      <td>✅</td>\n",
       "      <td>✅</td>\n",
       "    </tr>\n",
       "    <tr>\n",
       "      <th>2</th>\n",
       "      <td>Technical contacts</td>\n",
       "      <td>feed_info.txt</td>\n",
       "      <td>✅</td>\n",
       "      <td>✅</td>\n",
       "      <td>✅</td>\n",
       "    </tr>\n",
       "  </tbody>\n",
       "</table>\n",
       "</div>"
      ],
      "text/plain": [
       "             category            name 2021-05-16 2021-05-23 2021-05-30\n",
       "5      Visual display      shapes.txt          ✅          ✅          ✅\n",
       "3          Navigation      levels.txt                                 \n",
       "4          Navigation    pathways.txt                                 \n",
       "0               Fares  fare_leg_rules                                 \n",
       "1               Fares  fare_rules.txt          ✅          ✅          ✅\n",
       "2  Technical contacts   feed_info.txt          ✅          ✅          ✅"
      ]
     },
     "execution_count": 14,
     "metadata": {},
     "output_type": "execute_result"
    }
   ],
   "source": [
    "tbl_file_check"
   ]
  },
  {
   "cell_type": "markdown",
   "id": "5c47a8f6",
   "metadata": {
    "papermill": {
     "duration": 0.042972,
     "end_time": "2021-06-23T00:29:01.231470",
     "exception": false,
     "start_time": "2021-06-23T00:29:01.188498",
     "status": "completed"
    },
    "tags": []
   },
   "source": [
    "### Validation Errors Observed"
   ]
  },
  {
   "cell_type": "code",
   "execution_count": 15,
   "id": "1f919020",
   "metadata": {
    "execution": {
     "iopub.execute_input": "2021-06-23T00:29:01.329976Z",
     "iopub.status.busy": "2021-06-23T00:29:01.328722Z",
     "iopub.status.idle": "2021-06-23T00:29:01.334017Z",
     "shell.execute_reply": "2021-06-23T00:29:01.334864Z"
    },
    "papermill": {
     "duration": 0.05907,
     "end_time": "2021-06-23T00:29:01.335207",
     "exception": false,
     "start_time": "2021-06-23T00:29:01.276137",
     "status": "completed"
    },
    "tags": []
   },
   "outputs": [
    {
     "data": {
      "text/html": [
       "<div>\n",
       "<style scoped>\n",
       "    .dataframe tbody tr th:only-of-type {\n",
       "        vertical-align: middle;\n",
       "    }\n",
       "\n",
       "    .dataframe tbody tr th {\n",
       "        vertical-align: top;\n",
       "    }\n",
       "\n",
       "    .dataframe thead th {\n",
       "        text-align: right;\n",
       "    }\n",
       "</style>\n",
       "<table border=\"1\" class=\"dataframe\">\n",
       "  <thead>\n",
       "    <tr style=\"text-align: right;\">\n",
       "      <th></th>\n",
       "      <th>code</th>\n",
       "      <th>severity</th>\n",
       "      <th>n</th>\n",
       "    </tr>\n",
       "  </thead>\n",
       "  <tbody>\n",
       "  </tbody>\n",
       "</table>\n",
       "</div>"
      ],
      "text/plain": [
       "Empty DataFrame\n",
       "Columns: [code, severity, n]\n",
       "Index: []"
      ]
     },
     "execution_count": 15,
     "metadata": {},
     "output_type": "execute_result"
    }
   ],
   "source": [
    "tbl_validation_notices"
   ]
  }
 ],
 "metadata": {
  "kernelspec": {
   "display_name": "venv-calitp-py",
   "language": "python",
   "name": "venv-calitp-py"
  },
  "language_info": {
   "codemirror_mode": {
    "name": "ipython",
    "version": 3
   },
   "file_extension": ".py",
   "mimetype": "text/x-python",
   "name": "python",
   "nbconvert_exporter": "python",
   "pygments_lexer": "ipython3",
   "version": "3.8.5"
  },
  "papermill": {
   "default_parameters": {},
   "duration": 44.26657,
   "end_time": "2021-06-23T00:29:02.680608",
   "environment_variables": {},
   "exception": null,
   "input_path": "report.ipynb",
   "output_path": "output/102/report.ipynb",
   "parameters": {
    "CALITP_ITP_ID": 102,
    "CALITP_URL_NUMBER": 0
   },
   "start_time": "2021-06-23T00:28:18.414038",
   "version": "2.3.3"
  }
 },
 "nbformat": 4,
 "nbformat_minor": 5
}