{
 "cells": [
  {
   "cell_type": "markdown",
   "id": "1501a5d2",
   "metadata": {
    "papermill": {
     "duration": 0.026037,
     "end_time": "2021-06-23T00:34:49.432591",
     "exception": false,
     "start_time": "2021-06-23T00:34:49.406554",
     "status": "completed"
    },
    "tags": [
     "hide"
    ]
   },
   "source": [
    "# Setup"
   ]
  },
  {
   "cell_type": "code",
   "execution_count": 1,
   "id": "92181ed7",
   "metadata": {
    "execution": {
     "iopub.execute_input": "2021-06-23T00:34:49.502704Z",
     "iopub.status.busy": "2021-06-23T00:34:49.501763Z",
     "iopub.status.idle": "2021-06-23T00:34:59.072328Z",
     "shell.execute_reply": "2021-06-23T00:34:59.073256Z"
    },
    "papermill": {
     "duration": 9.609121,
     "end_time": "2021-06-23T00:34:59.073664",
     "exception": false,
     "start_time": "2021-06-23T00:34:49.464543",
     "status": "completed"
    },
    "tags": [
     "hide"
    ]
   },
   "outputs": [],
   "source": [
    "import pandas as pd\n",
    "\n",
    "from io import StringIO\n",
    "from calitp.tables import tbl\n",
    "from datetime import date\n",
    "from siuba import *\n",
    "from plotnine import *\n",
    "\n",
    "\n",
    "START_DATE = \"2021-05-01\"\n",
    "END_DATE = \"2021-06-01\"\n",
    "DATE_TODAY=date.today()\n",
    "\n",
    "WEEK_MARKERS = pd.date_range(START_DATE, END_DATE, freq=\"W\").astype(str).tolist()"
   ]
  },
  {
   "cell_type": "code",
   "execution_count": 2,
   "id": "ed2ac822",
   "metadata": {
    "execution": {
     "iopub.execute_input": "2021-06-23T00:34:59.147448Z",
     "iopub.status.busy": "2021-06-23T00:34:59.145097Z",
     "iopub.status.idle": "2021-06-23T00:34:59.170131Z",
     "shell.execute_reply": "2021-06-23T00:34:59.171838Z"
    },
    "papermill": {
     "duration": 0.067991,
     "end_time": "2021-06-23T00:34:59.172170",
     "exception": false,
     "start_time": "2021-06-23T00:34:59.104179",
     "status": "completed"
    },
    "tags": [
     "parameters",
     "hide"
    ]
   },
   "outputs": [],
   "source": [
    "CALITP_ITP_ID=389\n",
    "#CALITP_ITP_ID=45\n",
    "CALITP_URL_NUMBER=0"
   ]
  },
  {
   "cell_type": "code",
   "execution_count": 3,
   "id": "c38181d5",
   "metadata": {
    "execution": {
     "iopub.execute_input": "2021-06-23T00:34:59.235666Z",
     "iopub.status.busy": "2021-06-23T00:34:59.232825Z",
     "iopub.status.idle": "2021-06-23T00:34:59.238833Z",
     "shell.execute_reply": "2021-06-23T00:34:59.239981Z"
    },
    "papermill": {
     "duration": 0.03893,
     "end_time": "2021-06-23T00:34:59.240407",
     "exception": false,
     "start_time": "2021-06-23T00:34:59.201477",
     "status": "completed"
    },
    "tags": [
     "injected-parameters"
    ]
   },
   "outputs": [],
   "source": [
    "# Parameters\n",
    "CALITP_ITP_ID = 281\n",
    "CALITP_URL_NUMBER = 0\n"
   ]
  },
  {
   "cell_type": "code",
   "execution_count": 4,
   "id": "47b5b579",
   "metadata": {
    "execution": {
     "iopub.execute_input": "2021-06-23T00:34:59.320234Z",
     "iopub.status.busy": "2021-06-23T00:34:59.313937Z",
     "iopub.status.idle": "2021-06-23T00:34:59.322183Z",
     "shell.execute_reply": "2021-06-23T00:34:59.323076Z"
    },
    "papermill": {
     "duration": 0.053507,
     "end_time": "2021-06-23T00:34:59.323547",
     "exception": false,
     "start_time": "2021-06-23T00:34:59.270040",
     "status": "completed"
    },
    "tags": [
     "hide"
    ]
   },
   "outputs": [],
   "source": [
    "# Convenience functions ----\n",
    "\n",
    "filter_start = filter(\n",
    "    _.calitp_extracted_at <= START_DATE,\n",
    "    _.calitp_deleted_at.fillna(\"2099-01-01\") > START_DATE,\n",
    ")\n",
    "\n",
    "filter_end = filter(\n",
    "    _.calitp_extracted_at <= END_DATE,\n",
    "    _.calitp_deleted_at.fillna(\"2099-01-01\") > END_DATE,\n",
    ")\n",
    "\n",
    "filter_itp = filter(\n",
    "    _.calitp_itp_id == CALITP_ITP_ID, _.calitp_url_number == CALITP_URL_NUMBER\n",
    ")\n",
    "\n",
    "collect_to_dict = (\n",
    "    collect()\n",
    "    >> pipe(_.to_dict(orient=\"records\")[0])\n",
    ")\n",
    "\n",
    "\n",
    "select_rm_calitp = select(\n",
    "    -_.calitp_itp_id,\n",
    "    -_.calitp_url_number,\n",
    "    -_.calitp_hash,\n",
    "    -_.calitp_extracted_at,\n",
    "    -_.calitp_deleted_at,\n",
    ")\n",
    "\n",
    "\n",
    "def query_id_changes(start_table, end_table, id_vars):\n",
    "    \"\"\"Calculate id variables that are removed, added, or unchanged between tables.\n",
    "    \n",
    "    It works by adding a special column to each table, performing a full join,\n",
    "    then checking where the special column is null.\n",
    "    \"\"\"\n",
    "    sym_id_vars = [_[k] for k in id_vars]\n",
    "\n",
    "    is_in_start = start_table >> select(*id_vars) >> mutate(is_in_start=True)\n",
    "    is_in_end = end_table >> select(*id_vars) >> mutate(is_in_end=True)\n",
    "\n",
    "    baseline = start_table >> count(*id_vars) >> rename(n_baseline=\"n\")\n",
    "    tallies = (\n",
    "        is_in_start\n",
    "        >> full_join(_, is_in_end, id_vars)\n",
    "        >> count(*sym_id_vars, _.is_in_start, _.is_in_end)\n",
    "        >> mutate(\n",
    "            status=case_when(\n",
    "                _,\n",
    "                {\n",
    "                    _.is_in_end.isna(): \"Removed\",\n",
    "                    _.is_in_start.isna(): \"Added\",\n",
    "                    True: \"Unchanged\",\n",
    "                },\n",
    "            )\n",
    "        )\n",
    "        >> count(*sym_id_vars[:-1], _.status)\n",
    "        >> group_by(*sym_id_vars[:-1])\n",
    "        >> mutate(percent=_.n / _.n.sum())\n",
    "    )\n",
    "\n",
    "    return tallies"
   ]
  },
  {
   "cell_type": "code",
   "execution_count": 5,
   "id": "543c0eff",
   "metadata": {
    "execution": {
     "iopub.execute_input": "2021-06-23T00:34:59.390043Z",
     "iopub.status.busy": "2021-06-23T00:34:59.383224Z",
     "iopub.status.idle": "2021-06-23T00:35:23.709057Z",
     "shell.execute_reply": "2021-06-23T00:35:23.709964Z"
    },
    "papermill": {
     "duration": 24.35766,
     "end_time": "2021-06-23T00:35:23.710193",
     "exception": false,
     "start_time": "2021-06-23T00:34:59.352533",
     "status": "completed"
    },
    "tags": [
     "hide"
    ]
   },
   "outputs": [],
   "source": [
    "# Data ====\n",
    "# 1. High level feed info ----\n",
    "feed_info = (\n",
    "    tbl.gtfs_schedule_type2.feed_info()\n",
    "    >> filter_end\n",
    "    >> filter_itp\n",
    "    >> select_rm_calitp\n",
    "    >> collect_to_dict\n",
    ")\n",
    "\n",
    "_n_routes = (\n",
    "    tbl.gtfs_schedule_type2.routes() >> filter_end >> filter_itp >> count() >> collect()\n",
    ")\n",
    "_n_stops = (\n",
    "    tbl.gtfs_schedule_type2.stops() >> filter_end >> filter_itp >> count() >> collect()\n",
    ")\n",
    "\n",
    "feed_info[\"n_routes\"] = int(_n_routes.loc[0, \"n\"])\n",
    "feed_info[\"n_stops\"] = int(_n_stops.loc[0, \"n\"])\n",
    "\n",
    "status = (\n",
    "    tbl.views.gtfs_status_latest()\n",
    "    >> filter(_.itp_id == CALITP_ITP_ID, _.url_number == CALITP_URL_NUMBER)\n",
    "    >> select(-_.url_number, -_.status)\n",
    "    >> select_rm_calitp\n",
    "    >> collect_to_dict\n",
    ")\n",
    "\n",
    "# 2. Monthly metrics ----\n",
    "# Service hours per day. Note that the queried table calculates service\n",
    "# hours per service id, so we need to sum across service ids for the day\n",
    "_cross_cal = (\n",
    "    tbl.views.dim_date()\n",
    "    >> filter(_.full_date.between(START_DATE, END_DATE))\n",
    "    >> select(_.service_date == _.full_date)\n",
    ")\n",
    "\n",
    "tbl_daily_service_hours = (\n",
    "    tbl.views.gtfs_schedule_service_daily_metrics()\n",
    "    >> filter_itp\n",
    "    >> filter(_.service_date.between(START_DATE, END_DATE))\n",
    "    >> right_join(_, _cross_cal, [\"service_date\"])\n",
    "    >> collect()\n",
    "    >> group_by(_.service_date)\n",
    "    >> summarize(ttl_service_hours=(_.last_arrival_ts.max() - _.first_departure_ts.min()) / 3600)\n",
    "    >> mutate(\n",
    "        ttl_service_hours=_.ttl_service_hours.astype(float).round(2),\n",
    "        service_date=_.service_date.astype(\"datetime64[ns]\"),\n",
    "    )\n",
    ")\n",
    "\n",
    "# number of days where a feed did not have any trips in service\n",
    "n_expired_days = (\n",
    "    tbl_daily_service_hours >> filter(_.ttl_service_hours.isna())\n",
    "    >> pipe(lambda d: {\"n\": d.shape[0]})\n",
    ")\n",
    "\n",
    "# 3. Stop and Route ID Changes ----\n",
    "\n",
    "_tbl_stops_start = tbl.gtfs_schedule_type2.stops() >> filter_itp >> filter_start\n",
    "_tbl_stops_end = tbl.gtfs_schedule_type2.stops() >> filter_itp >> filter_end\n",
    "tbl_stops_changed = (\n",
    "    query_id_changes(_tbl_stops_start, _tbl_stops_end, [\"stop_id\"]) >> collect()\n",
    ")\n",
    "\n",
    "_tbl_routes_start = tbl.gtfs_schedule_type2.routes() >> filter_start\n",
    "_tbl_routes_end = tbl.gtfs_schedule_type2.routes() >> filter_end\n",
    "tbl_routes_changed = (\n",
    "    query_id_changes(_tbl_routes_start, _tbl_routes_end, [\"route_id\"]) >> collect()\n",
    ")"
   ]
  },
  {
   "cell_type": "code",
   "execution_count": 6,
   "id": "fb3dd602",
   "metadata": {
    "execution": {
     "iopub.execute_input": "2021-06-23T00:35:23.754526Z",
     "iopub.status.busy": "2021-06-23T00:35:23.751597Z",
     "iopub.status.idle": "2021-06-23T00:35:28.933668Z",
     "shell.execute_reply": "2021-06-23T00:35:28.934218Z"
    },
    "papermill": {
     "duration": 5.208641,
     "end_time": "2021-06-23T00:35:28.934404",
     "exception": false,
     "start_time": "2021-06-23T00:35:23.725763",
     "status": "completed"
    },
    "tags": [
     "hide"
    ]
   },
   "outputs": [],
   "source": [
    "# 4. Feed files being checked for ----\n",
    "\n",
    "file_categories = pd.DataFrame(\n",
    "    {\n",
    "        \"shapes.txt\": \"Visual display\",\n",
    "        \"pathways.txt\": \"Navigation\",\n",
    "        \"levels.txt\": \"Navigation\",\n",
    "        \"fare_rules.txt\": \"Fares\",\n",
    "        \"fare_leg_rules\": \"Fares\",\n",
    "        \"feed_info.txt\": \"Technical contacts\",\n",
    "    }.items(),\n",
    "    columns=[\"name\", \"category\"],\n",
    ")\n",
    "\n",
    "importance = [\"Visual display\", \"Navigation\", \"Fares\", \"Technical contacts\"]\n",
    "\n",
    "tbl_file_check = (\n",
    "    tbl.gtfs_schedule_history.calitp_files_updates()\n",
    "    >> filter_itp\n",
    "    >> filter(_.calitp_extracted_at.isin(WEEK_MARKERS))\n",
    "    >> select(_.name, _.calitp_extracted_at)\n",
    "    >> collect()\n",
    "    >> right_join(_, file_categories, [\"name\"])\n",
    "    >> mutate(\n",
    "        calitp_extracted_at=_.calitp_extracted_at.fillna(\"missing\").astype(str),\n",
    "        success=\"✅\",\n",
    "    )\n",
    "    >> spread(_.calitp_extracted_at, _.success)\n",
    "    >> select(-_.missing)\n",
    "    >> arrange(_.category.apply(importance.index))\n",
    "    >> select(_.category, _.contains(\"\"))\n",
    "    >> pipe(_.fillna(\"\"))\n",
    ")\n",
    "\n",
    "tbl_validation_notices = (\n",
    "    tbl.views.validation_notices()\n",
    "    >> filter_itp\n",
    "    >> filter(_.severity == \"ERROR\")\n",
    "    >> count(_.code, _.severity)\n",
    "    >> collect()\n",
    ")"
   ]
  },
  {
   "cell_type": "markdown",
   "id": "381b931e",
   "metadata": {
    "papermill": {
     "duration": 0.015629,
     "end_time": "2021-06-23T00:35:28.965632",
     "exception": false,
     "start_time": "2021-06-23T00:35:28.950003",
     "status": "completed"
    },
    "tags": [
     "hide"
    ]
   },
   "source": [
    "## Dump data"
   ]
  },
  {
   "cell_type": "code",
   "execution_count": 7,
   "id": "0a10e26c",
   "metadata": {
    "execution": {
     "iopub.execute_input": "2021-06-23T00:35:29.071004Z",
     "iopub.status.busy": "2021-06-23T00:35:29.068862Z",
     "iopub.status.idle": "2021-06-23T00:35:29.072251Z",
     "shell.execute_reply": "2021-06-23T00:35:29.070098Z"
    },
    "papermill": {
     "duration": 0.076932,
     "end_time": "2021-06-23T00:35:29.072469",
     "exception": false,
     "start_time": "2021-06-23T00:35:28.995537",
     "status": "completed"
    },
    "tags": [
     "hide"
    ]
   },
   "outputs": [],
   "source": [
    "import json\n",
    "import shutil\n",
    "\n",
    "from pathlib import Path\n",
    "\n",
    "out_dir = Path(f\"output/{CALITP_ITP_ID}_{CALITP_URL_NUMBER}/data\")\n",
    "out_dir.mkdir(parents=True, exist_ok=True)\n",
    "\n",
    "json.dump(feed_info, open(out_dir / \"1_feed_info.json\", \"w\"))\n",
    "json.dump(status, open(out_dir / \"1_status.json\", \"w\"))\n",
    "\n",
    "tbl_daily_service_hours.to_json(out_dir / \"2_daily_service_hours.json\", orient=\"records\")\n",
    "json.dump(n_expired_days, open(out_dir / \"2_n_expired_days.json\", \"w\"))\n",
    "\n",
    "tbl_stops_changed.to_json(out_dir / \"3_stops_changed.json\", orient=\"records\")\n",
    "tbl_routes_changed.to_json(out_dir / \"3_routes_changed.json\", orient=\"records\")\n",
    "tbl_file_check.to_json(out_dir / \"4_file_check.json\", orient=\"records\")\n",
    "tbl_validation_notices.to_json(out_dir / \"4_validation_notices.json\", orient=\"records\")\n"
   ]
  },
  {
   "cell_type": "markdown",
   "id": "a644671c",
   "metadata": {
    "papermill": {
     "duration": 0.027498,
     "end_time": "2021-06-23T00:35:29.123147",
     "exception": false,
     "start_time": "2021-06-23T00:35:29.095649",
     "status": "completed"
    },
    "tags": []
   },
   "source": [
    "# GTFS Schedule Report"
   ]
  },
  {
   "cell_type": "markdown",
   "id": "516995ca",
   "metadata": {
    "papermill": {
     "duration": 0.017273,
     "end_time": "2021-06-23T00:35:29.181692",
     "exception": false,
     "start_time": "2021-06-23T00:35:29.164419",
     "status": "completed"
    },
    "tags": []
   },
   "source": [
    "# Example Juniper Report"
   ]
  },
  {
   "cell_type": "code",
   "execution_count": 8,
   "id": "4d52d861",
   "metadata": {
    "execution": {
     "iopub.execute_input": "2021-06-23T00:35:29.273897Z",
     "iopub.status.busy": "2021-06-23T00:35:29.242448Z",
     "iopub.status.idle": "2021-06-23T00:35:29.282310Z",
     "shell.execute_reply": "2021-06-23T00:35:29.275724Z"
    },
    "papermill": {
     "duration": 0.081474,
     "end_time": "2021-06-23T00:35:29.282794",
     "exception": false,
     "start_time": "2021-06-23T00:35:29.201320",
     "status": "completed"
    },
    "tags": []
   },
   "outputs": [
    {
     "data": {
      "text/markdown": [
       "\n",
       "Transit provider name: 511 SF Bay\n",
       "\n",
       "Date generated: 2021-06-22\n"
      ],
      "text/plain": [
       "<IPython.core.display.Markdown object>"
      ]
     },
     "execution_count": 8,
     "metadata": {},
     "output_type": "execute_result"
    }
   ],
   "source": [
    "from IPython.display import Markdown\n",
    "\n",
    "Markdown(f\"\"\"\n",
    "Transit provider name: {feed_info[\"feed_publisher_name\"]}\n",
    "\n",
    "Date generated: {DATE_TODAY}\n",
    "\"\"\")"
   ]
  },
  {
   "cell_type": "markdown",
   "id": "e31024cb",
   "metadata": {
    "papermill": {
     "duration": 0.022779,
     "end_time": "2021-06-23T00:35:29.329083",
     "exception": false,
     "start_time": "2021-06-23T00:35:29.306304",
     "status": "completed"
    },
    "tags": []
   },
   "source": [
    "This is a monthly report, generated by the California Integrated Travel Project (Cal-ITP), summarizing issues discovered by MobilityData’s GTFS Validator. This report is available for viewing by the general public to support continuous improvement of GTFS data and the experience of transit passengers. "
   ]
  },
  {
   "cell_type": "markdown",
   "id": "d6679768",
   "metadata": {
    "papermill": {
     "duration": 0.019469,
     "end_time": "2021-06-23T00:35:29.373354",
     "exception": false,
     "start_time": "2021-06-23T00:35:29.353885",
     "status": "completed"
    },
    "tags": []
   },
   "source": [
    "## Overview"
   ]
  },
  {
   "cell_type": "code",
   "execution_count": 9,
   "id": "3ff7573f",
   "metadata": {
    "execution": {
     "iopub.execute_input": "2021-06-23T00:35:29.451766Z",
     "iopub.status.busy": "2021-06-23T00:35:29.450504Z",
     "iopub.status.idle": "2021-06-23T00:35:29.454702Z",
     "shell.execute_reply": "2021-06-23T00:35:29.455228Z"
    },
    "papermill": {
     "duration": 0.02537,
     "end_time": "2021-06-23T00:35:29.455437",
     "exception": false,
     "start_time": "2021-06-23T00:35:29.430067",
     "status": "completed"
    },
    "tags": []
   },
   "outputs": [
    {
     "data": {
      "text/markdown": [
       "\n",
       "Feed location: http://api.511.org/transit/datafeeds?api_key=0eefcd07-b7d7-4a16-b454-bc7424dd0ff2&operator_id=SI\n",
       "\n",
       "Metrics for the most recent published version of the feed:\n",
       "\n",
       "* Date published: 20210505\n",
       "* Number of routes in any service: 7\n",
       "* Number of stops in service: 45\n"
      ],
      "text/plain": [
       "<IPython.core.display.Markdown object>"
      ]
     },
     "execution_count": 9,
     "metadata": {},
     "output_type": "execute_result"
    }
   ],
   "source": [
    "Markdown(f\"\"\"\n",
    "Feed location: {status[\"gtfs_schedule_url\"]}\n",
    "\n",
    "Metrics for the most recent published version of the feed:\n",
    "\n",
    "* Date published: {feed_info[\"feed_version\"]}\n",
    "* Number of routes in any service: {feed_info[\"n_routes\"]}\n",
    "* Number of stops in service: {feed_info[\"n_stops\"]}\n",
    "\"\"\")"
   ]
  },
  {
   "cell_type": "markdown",
   "id": "b622d1e1",
   "metadata": {
    "papermill": {
     "duration": 0.017477,
     "end_time": "2021-06-23T00:35:29.492199",
     "exception": false,
     "start_time": "2021-06-23T00:35:29.474722",
     "status": "completed"
    },
    "tags": []
   },
   "source": [
    "## Aggregated Metrics for May"
   ]
  },
  {
   "cell_type": "code",
   "execution_count": 10,
   "id": "dff029c6",
   "metadata": {
    "execution": {
     "iopub.execute_input": "2021-06-23T00:35:29.570580Z",
     "iopub.status.busy": "2021-06-23T00:35:29.569191Z",
     "iopub.status.idle": "2021-06-23T00:35:29.573308Z",
     "shell.execute_reply": "2021-06-23T00:35:29.573821Z"
    },
    "papermill": {
     "duration": 0.026482,
     "end_time": "2021-06-23T00:35:29.573999",
     "exception": false,
     "start_time": "2021-06-23T00:35:29.547517",
     "status": "completed"
    },
    "tags": []
   },
   "outputs": [
    {
     "data": {
      "text/markdown": [
       "\n",
       "Days when the active feed was expired: 0\n"
      ],
      "text/plain": [
       "<IPython.core.display.Markdown object>"
      ]
     },
     "execution_count": 10,
     "metadata": {},
     "output_type": "execute_result"
    }
   ],
   "source": [
    "Markdown(f\"\"\"\n",
    "Days when the active feed was expired: {n_expired_days[\"n\"]}\n",
    "\"\"\")"
   ]
  },
  {
   "cell_type": "code",
   "execution_count": 11,
   "id": "4bf10d44",
   "metadata": {
    "execution": {
     "iopub.execute_input": "2021-06-23T00:35:29.662828Z",
     "iopub.status.busy": "2021-06-23T00:35:29.638033Z",
     "iopub.status.idle": "2021-06-23T00:35:30.042704Z",
     "shell.execute_reply": "2021-06-23T00:35:30.043204Z"
    },
    "papermill": {
     "duration": 0.451147,
     "end_time": "2021-06-23T00:35:30.043378",
     "exception": false,
     "start_time": "2021-06-23T00:35:29.592231",
     "status": "completed"
    },
    "tags": []
   },
   "outputs": [
    {
     "data": {
      "image/png": "[encoded data removed]",
      "text/plain": [
       "<Figure size 640x480 with 1 Axes>"
      ]
     },
     "metadata": {},
     "output_type": "display_data"
    },
    {
     "data": {
      "text/plain": [
       "<ggplot: (310370997)>"
      ]
     },
     "execution_count": 11,
     "metadata": {},
     "output_type": "execute_result"
    }
   ],
   "source": [
    "(\n",
    "    tbl_daily_service_hours\n",
    "    >> ggplot(aes(\"service_date\", \"ttl_service_hours\"))\n",
    "    + geom_line()\n",
    "    + geom_point()\n",
    "    + theme(axis_text_x=element_text(angle=45, hjust=1))\n",
    "    + scale_x_datetime(date_breaks=\"1 week\")\n",
    "    + expand_limits(y=0)\n",
    ")"
   ]
  },
  {
   "cell_type": "markdown",
   "id": "edfb4390",
   "metadata": {
    "papermill": {
     "duration": 0.018671,
     "end_time": "2021-06-23T00:35:30.079740",
     "exception": false,
     "start_time": "2021-06-23T00:35:30.061069",
     "status": "completed"
    },
    "tags": []
   },
   "source": [
    "## Changes Since Previous Month"
   ]
  },
  {
   "cell_type": "code",
   "execution_count": 12,
   "id": "81534949",
   "metadata": {
    "execution": {
     "iopub.execute_input": "2021-06-23T00:35:30.127991Z",
     "iopub.status.busy": "2021-06-23T00:35:30.127055Z",
     "iopub.status.idle": "2021-06-23T00:35:30.546223Z",
     "shell.execute_reply": "2021-06-23T00:35:30.547131Z"
    },
    "papermill": {
     "duration": 0.446657,
     "end_time": "2021-06-23T00:35:30.547397",
     "exception": false,
     "start_time": "2021-06-23T00:35:30.100740",
     "status": "completed"
    },
    "tags": []
   },
   "outputs": [
    {
     "data": {
      "image/png": "[encoded data removed]",
      "text/plain": [
       "<Figure size 640x480 with 1 Axes>"
      ]
     },
     "metadata": {},
     "output_type": "display_data"
    },
    {
     "data": {
      "text/plain": [
       "<ggplot: (310491097)>"
      ]
     },
     "execution_count": 12,
     "metadata": {},
     "output_type": "execute_result"
    }
   ],
   "source": [
    "(\n",
    "    pd.concat(\n",
    "        [\n",
    "            tbl_stops_changed >> mutate(kind=\"Stops\"),\n",
    "            tbl_routes_changed >> mutate(kind=\"Routes\"),\n",
    "        ]\n",
    "    )\n",
    "    >> ggplot(aes(\"kind\", \"n\", fill=\"status\"))\n",
    "    + geom_col()\n",
    "    + labs(x=\"Kind of ID\", y=\"Number of Changes\")\n",
    ")"
   ]
  },
  {
   "cell_type": "markdown",
   "id": "e3918d8d",
   "metadata": {
    "papermill": {
     "duration": 0.02169,
     "end_time": "2021-06-23T00:35:30.596256",
     "exception": false,
     "start_time": "2021-06-23T00:35:30.574566",
     "status": "completed"
    },
    "tags": []
   },
   "source": [
    "### (Alternative version using percentages)"
   ]
  },
  {
   "cell_type": "code",
   "execution_count": 13,
   "id": "74180096",
   "metadata": {
    "execution": {
     "iopub.execute_input": "2021-06-23T00:35:30.853931Z",
     "iopub.status.busy": "2021-06-23T00:35:30.835188Z",
     "iopub.status.idle": "2021-06-23T00:35:30.992484Z",
     "shell.execute_reply": "2021-06-23T00:35:30.993052Z"
    },
    "papermill": {
     "duration": 0.375495,
     "end_time": "2021-06-23T00:35:30.993339",
     "exception": false,
     "start_time": "2021-06-23T00:35:30.617844",
     "status": "completed"
    },
    "tags": []
   },
   "outputs": [
    {
     "data": {
      "image/png": "[encoded data removed]",
      "text/plain": [
       "<Figure size 640x480 with 1 Axes>"
      ]
     },
     "metadata": {},
     "output_type": "display_data"
    },
    {
     "data": {
      "text/plain": [
       "<ggplot: (310341355)>"
      ]
     },
     "execution_count": 13,
     "metadata": {},
     "output_type": "execute_result"
    }
   ],
   "source": [
    "(\n",
    "    pd.concat(\n",
    "        [\n",
    "            tbl_stops_changed >> mutate(kind=\"Stops\"),\n",
    "            tbl_routes_changed >> mutate(kind=\"Routes\"),\n",
    "        ]\n",
    "    )\n",
    "    >> ggplot(aes(\"kind\", \"percent\", fill=\"status\"))\n",
    "    + geom_col()\n",
    "    + labs(x=\"Kind of ID\", y=\"Percent of Changes\")\n",
    ")"
   ]
  },
  {
   "cell_type": "markdown",
   "id": "adb63572",
   "metadata": {
    "papermill": {
     "duration": 0.027454,
     "end_time": "2021-06-23T00:35:31.053100",
     "exception": false,
     "start_time": "2021-06-23T00:35:31.025646",
     "status": "completed"
    },
    "tags": []
   },
   "source": [
    "## Consistency with the California GTFS Minimum Guidelines for the feed downloaded\n"
   ]
  },
  {
   "cell_type": "code",
   "execution_count": 14,
   "id": "1c8e3fd4",
   "metadata": {
    "execution": {
     "iopub.execute_input": "2021-06-23T00:35:31.117193Z",
     "iopub.status.busy": "2021-06-23T00:35:31.116498Z",
     "iopub.status.idle": "2021-06-23T00:35:31.125143Z",
     "shell.execute_reply": "2021-06-23T00:35:31.124682Z"
    },
    "papermill": {
     "duration": 0.037307,
     "end_time": "2021-06-23T00:35:31.125279",
     "exception": false,
     "start_time": "2021-06-23T00:35:31.087972",
     "status": "completed"
    },
    "tags": []
   },
   "outputs": [
    {
     "data": {
      "text/html": [
       "<div>\n",
       "<style scoped>\n",
       "    .dataframe tbody tr th:only-of-type {\n",
       "        vertical-align: middle;\n",
       "    }\n",
       "\n",
       "    .dataframe tbody tr th {\n",
       "        vertical-align: top;\n",
       "    }\n",
       "\n",
       "    .dataframe thead th {\n",
       "        text-align: right;\n",
       "    }\n",
       "</style>\n",
       "<table border=\"1\" class=\"dataframe\">\n",
       "  <thead>\n",
       "    <tr style=\"text-align: right;\">\n",
       "      <th></th>\n",
       "      <th>category</th>\n",
       "      <th>name</th>\n",
       "      <th>2021-05-02</th>\n",
       "      <th>2021-05-09</th>\n",
       "      <th>2021-05-16</th>\n",
       "      <th>2021-05-23</th>\n",
       "      <th>2021-05-30</th>\n",
       "    </tr>\n",
       "  </thead>\n",
       "  <tbody>\n",
       "    <tr>\n",
       "      <th>5</th>\n",
       "      <td>Visual display</td>\n",
       "      <td>shapes.txt</td>\n",
       "      <td>✅</td>\n",
       "      <td>✅</td>\n",
       "      <td>✅</td>\n",
       "      <td>✅</td>\n",
       "      <td>✅</td>\n",
       "    </tr>\n",
       "    <tr>\n",
       "      <th>3</th>\n",
       "      <td>Navigation</td>\n",
       "      <td>levels.txt</td>\n",
       "      <td></td>\n",
       "      <td></td>\n",
       "      <td></td>\n",
       "      <td></td>\n",
       "      <td></td>\n",
       "    </tr>\n",
       "    <tr>\n",
       "      <th>4</th>\n",
       "      <td>Navigation</td>\n",
       "      <td>pathways.txt</td>\n",
       "      <td></td>\n",
       "      <td></td>\n",
       "      <td></td>\n",
       "      <td></td>\n",
       "      <td></td>\n",
       "    </tr>\n",
       "    <tr>\n",
       "      <th>0</th>\n",
       "      <td>Fares</td>\n",
       "      <td>fare_leg_rules</td>\n",
       "      <td></td>\n",
       "      <td></td>\n",
       "      <td></td>\n",
       "      <td></td>\n",
       "      <td></td>\n",
       "    </tr>\n",
       "    <tr>\n",
       "      <th>1</th>\n",
       "      <td>Fares</td>\n",
       "      <td>fare_rules.txt</td>\n",
       "      <td></td>\n",
       "      <td></td>\n",
       "      <td></td>\n",
       "      <td></td>\n",
       "      <td></td>\n",
       "    </tr>\n",
       "    <tr>\n",
       "      <th>2</th>\n",
       "      <td>Technical contacts</td>\n",
       "      <td>feed_info.txt</td>\n",
       "      <td>✅</td>\n",
       "      <td>✅</td>\n",
       "      <td>✅</td>\n",
       "      <td>✅</td>\n",
       "      <td>✅</td>\n",
       "    </tr>\n",
       "  </tbody>\n",
       "</table>\n",
       "</div>"
      ],
      "text/plain": [
       "             category            name 2021-05-02 2021-05-09 2021-05-16  \\\n",
       "5      Visual display      shapes.txt          ✅          ✅          ✅   \n",
       "3          Navigation      levels.txt                                    \n",
       "4          Navigation    pathways.txt                                    \n",
       "0               Fares  fare_leg_rules                                    \n",
       "1               Fares  fare_rules.txt                                    \n",
       "2  Technical contacts   feed_info.txt          ✅          ✅          ✅   \n",
       "\n",
       "  2021-05-23 2021-05-30  \n",
       "5          ✅          ✅  \n",
       "3                        \n",
       "4                        \n",
       "0                        \n",
       "1                        \n",
       "2          ✅          ✅  "
      ]
     },
     "execution_count": 14,
     "metadata": {},
     "output_type": "execute_result"
    }
   ],
   "source": [
    "tbl_file_check"
   ]
  },
  {
   "cell_type": "markdown",
   "id": "2b97d0ba",
   "metadata": {
    "papermill": {
     "duration": 0.133814,
     "end_time": "2021-06-23T00:35:31.280459",
     "exception": false,
     "start_time": "2021-06-23T00:35:31.146645",
     "status": "completed"
    },
    "tags": []
   },
   "source": [
    "### Validation Errors Observed"
   ]
  },
  {
   "cell_type": "code",
   "execution_count": 15,
   "id": "325e213b",
   "metadata": {
    "execution": {
     "iopub.execute_input": "2021-06-23T00:35:31.512482Z",
     "iopub.status.busy": "2021-06-23T00:35:31.454787Z",
     "iopub.status.idle": "2021-06-23T00:35:31.547533Z",
     "shell.execute_reply": "2021-06-23T00:35:31.484442Z"
    },
    "papermill": {
     "duration": 0.230826,
     "end_time": "2021-06-23T00:35:31.547832",
     "exception": false,
     "start_time": "2021-06-23T00:35:31.317006",
     "status": "completed"
    },
    "tags": []
   },
   "outputs": [
    {
     "data": {
      "text/html": [
       "<div>\n",
       "<style scoped>\n",
       "    .dataframe tbody tr th:only-of-type {\n",
       "        vertical-align: middle;\n",
       "    }\n",
       "\n",
       "    .dataframe tbody tr th {\n",
       "        vertical-align: top;\n",
       "    }\n",
       "\n",
       "    .dataframe thead th {\n",
       "        text-align: right;\n",
       "    }\n",
       "</style>\n",
       "<table border=\"1\" class=\"dataframe\">\n",
       "  <thead>\n",
       "    <tr style=\"text-align: right;\">\n",
       "      <th></th>\n",
       "      <th>code</th>\n",
       "      <th>severity</th>\n",
       "      <th>n</th>\n",
       "    </tr>\n",
       "  </thead>\n",
       "  <tbody>\n",
       "  </tbody>\n",
       "</table>\n",
       "</div>"
      ],
      "text/plain": [
       "Empty DataFrame\n",
       "Columns: [code, severity, n]\n",
       "Index: []"
      ]
     },
     "execution_count": 15,
     "metadata": {},
     "output_type": "execute_result"
    }
   ],
   "source": [
    "tbl_validation_notices"
   ]
  }
 ],
 "metadata": {
  "kernelspec": {
   "display_name": "venv-calitp-py",
   "language": "python",
   "name": "venv-calitp-py"
  },
  "language_info": {
   "codemirror_mode": {
    "name": "ipython",
    "version": 3
   },
   "file_extension": ".py",
   "mimetype": "text/x-python",
   "name": "python",
   "nbconvert_exporter": "python",
   "pygments_lexer": "ipython3",
   "version": "3.8.5"
  },
  "papermill": {
   "default_parameters": {},
   "duration": 46.360827,
   "end_time": "2021-06-23T00:35:33.958512",
   "environment_variables": {},
   "exception": null,
   "input_path": "report.ipynb",
   "output_path": "output/281/report.ipynb",
   "parameters": {
    "CALITP_ITP_ID": 281,
    "CALITP_URL_NUMBER": 0
   },
   "start_time": "2021-06-23T00:34:47.597685",
   "version": "2.3.3"
  }
 },
 "nbformat": 4,
 "nbformat_minor": 5
}