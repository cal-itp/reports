{
 "cells": [
  {
   "cell_type": "markdown",
   "id": "7ef29d1a",
   "metadata": {
    "papermill": {
     "duration": 0.036626,
     "end_time": "2021-06-23T00:36:50.891004",
     "exception": false,
     "start_time": "2021-06-23T00:36:50.854378",
     "status": "completed"
    },
    "tags": [
     "hide"
    ]
   },
   "source": [
    "# Setup"
   ]
  },
  {
   "cell_type": "code",
   "execution_count": 1,
   "id": "32f0714e",
   "metadata": {
    "execution": {
     "iopub.execute_input": "2021-06-23T00:36:51.089014Z",
     "iopub.status.busy": "2021-06-23T00:36:51.087916Z",
     "iopub.status.idle": "2021-06-23T00:37:01.027003Z",
     "shell.execute_reply": "2021-06-23T00:37:01.026453Z"
    },
    "papermill": {
     "duration": 10.03724,
     "end_time": "2021-06-23T00:37:01.027175",
     "exception": false,
     "start_time": "2021-06-23T00:36:50.989935",
     "status": "completed"
    },
    "tags": [
     "hide"
    ]
   },
   "outputs": [],
   "source": [
    "import pandas as pd\n",
    "\n",
    "from io import StringIO\n",
    "from calitp.tables import tbl\n",
    "from datetime import date\n",
    "from siuba import *\n",
    "from plotnine import *\n",
    "\n",
    "\n",
    "START_DATE = \"2021-05-01\"\n",
    "END_DATE = \"2021-06-01\"\n",
    "DATE_TODAY=date.today()\n",
    "\n",
    "WEEK_MARKERS = pd.date_range(START_DATE, END_DATE, freq=\"W\").astype(str).tolist()"
   ]
  },
  {
   "cell_type": "code",
   "execution_count": 2,
   "id": "2ad08ac1",
   "metadata": {
    "execution": {
     "iopub.execute_input": "2021-06-23T00:37:01.119622Z",
     "iopub.status.busy": "2021-06-23T00:37:01.118281Z",
     "iopub.status.idle": "2021-06-23T00:37:01.121655Z",
     "shell.execute_reply": "2021-06-23T00:37:01.138391Z"
    },
    "papermill": {
     "duration": 0.069267,
     "end_time": "2021-06-23T00:37:01.138717",
     "exception": false,
     "start_time": "2021-06-23T00:37:01.069450",
     "status": "completed"
    },
    "tags": [
     "parameters",
     "hide"
    ]
   },
   "outputs": [],
   "source": [
    "CALITP_ITP_ID=389\n",
    "#CALITP_ITP_ID=45\n",
    "CALITP_URL_NUMBER=0"
   ]
  },
  {
   "cell_type": "code",
   "execution_count": 3,
   "id": "0982a19c",
   "metadata": {
    "execution": {
     "iopub.execute_input": "2021-06-23T00:37:01.208133Z",
     "iopub.status.busy": "2021-06-23T00:37:01.207181Z",
     "iopub.status.idle": "2021-06-23T00:37:01.219144Z",
     "shell.execute_reply": "2021-06-23T00:37:01.220435Z"
    },
    "papermill": {
     "duration": 0.043188,
     "end_time": "2021-06-23T00:37:01.220676",
     "exception": false,
     "start_time": "2021-06-23T00:37:01.177488",
     "status": "completed"
    },
    "tags": [
     "injected-parameters"
    ]
   },
   "outputs": [],
   "source": [
    "# Parameters\n",
    "CALITP_ITP_ID = 339\n",
    "CALITP_URL_NUMBER = 0\n"
   ]
  },
  {
   "cell_type": "code",
   "execution_count": 4,
   "id": "012cd52f",
   "metadata": {
    "execution": {
     "iopub.execute_input": "2021-06-23T00:37:01.470176Z",
     "iopub.status.busy": "2021-06-23T00:37:01.469037Z",
     "iopub.status.idle": "2021-06-23T00:37:01.507173Z",
     "shell.execute_reply": "2021-06-23T00:37:01.508444Z"
    },
    "papermill": {
     "duration": 0.145131,
     "end_time": "2021-06-23T00:37:01.508759",
     "exception": false,
     "start_time": "2021-06-23T00:37:01.363628",
     "status": "completed"
    },
    "tags": [
     "hide"
    ]
   },
   "outputs": [],
   "source": [
    "# Convenience functions ----\n",
    "\n",
    "filter_start = filter(\n",
    "    _.calitp_extracted_at <= START_DATE,\n",
    "    _.calitp_deleted_at.fillna(\"2099-01-01\") > START_DATE,\n",
    ")\n",
    "\n",
    "filter_end = filter(\n",
    "    _.calitp_extracted_at <= END_DATE,\n",
    "    _.calitp_deleted_at.fillna(\"2099-01-01\") > END_DATE,\n",
    ")\n",
    "\n",
    "filter_itp = filter(\n",
    "    _.calitp_itp_id == CALITP_ITP_ID, _.calitp_url_number == CALITP_URL_NUMBER\n",
    ")\n",
    "\n",
    "collect_to_dict = (\n",
    "    collect()\n",
    "    >> pipe(_.to_dict(orient=\"records\")[0])\n",
    ")\n",
    "\n",
    "\n",
    "select_rm_calitp = select(\n",
    "    -_.calitp_itp_id,\n",
    "    -_.calitp_url_number,\n",
    "    -_.calitp_hash,\n",
    "    -_.calitp_extracted_at,\n",
    "    -_.calitp_deleted_at,\n",
    ")\n",
    "\n",
    "\n",
    "def query_id_changes(start_table, end_table, id_vars):\n",
    "    \"\"\"Calculate id variables that are removed, added, or unchanged between tables.\n",
    "    \n",
    "    It works by adding a special column to each table, performing a full join,\n",
    "    then checking where the special column is null.\n",
    "    \"\"\"\n",
    "    sym_id_vars = [_[k] for k in id_vars]\n",
    "\n",
    "    is_in_start = start_table >> select(*id_vars) >> mutate(is_in_start=True)\n",
    "    is_in_end = end_table >> select(*id_vars) >> mutate(is_in_end=True)\n",
    "\n",
    "    baseline = start_table >> count(*id_vars) >> rename(n_baseline=\"n\")\n",
    "    tallies = (\n",
    "        is_in_start\n",
    "        >> full_join(_, is_in_end, id_vars)\n",
    "        >> count(*sym_id_vars, _.is_in_start, _.is_in_end)\n",
    "        >> mutate(\n",
    "            status=case_when(\n",
    "                _,\n",
    "                {\n",
    "                    _.is_in_end.isna(): \"Removed\",\n",
    "                    _.is_in_start.isna(): \"Added\",\n",
    "                    True: \"Unchanged\",\n",
    "                },\n",
    "            )\n",
    "        )\n",
    "        >> count(*sym_id_vars[:-1], _.status)\n",
    "        >> group_by(*sym_id_vars[:-1])\n",
    "        >> mutate(percent=_.n / _.n.sum())\n",
    "    )\n",
    "\n",
    "    return tallies"
   ]
  },
  {
   "cell_type": "code",
   "execution_count": 5,
   "id": "d3e532ee",
   "metadata": {
    "execution": {
     "iopub.execute_input": "2021-06-23T00:37:01.622275Z",
     "iopub.status.busy": "2021-06-23T00:37:01.612913Z",
     "iopub.status.idle": "2021-06-23T00:37:26.835031Z",
     "shell.execute_reply": "2021-06-23T00:37:26.835505Z"
    },
    "papermill": {
     "duration": 25.283935,
     "end_time": "2021-06-23T00:37:26.835729",
     "exception": false,
     "start_time": "2021-06-23T00:37:01.551794",
     "status": "completed"
    },
    "tags": [
     "hide"
    ]
   },
   "outputs": [],
   "source": [
    "# Data ====\n",
    "# 1. High level feed info ----\n",
    "feed_info = (\n",
    "    tbl.gtfs_schedule_type2.feed_info()\n",
    "    >> filter_end\n",
    "    >> filter_itp\n",
    "    >> select_rm_calitp\n",
    "    >> collect_to_dict\n",
    ")\n",
    "\n",
    "_n_routes = (\n",
    "    tbl.gtfs_schedule_type2.routes() >> filter_end >> filter_itp >> count() >> collect()\n",
    ")\n",
    "_n_stops = (\n",
    "    tbl.gtfs_schedule_type2.stops() >> filter_end >> filter_itp >> count() >> collect()\n",
    ")\n",
    "\n",
    "feed_info[\"n_routes\"] = int(_n_routes.loc[0, \"n\"])\n",
    "feed_info[\"n_stops\"] = int(_n_stops.loc[0, \"n\"])\n",
    "\n",
    "status = (\n",
    "    tbl.views.gtfs_status_latest()\n",
    "    >> filter(_.itp_id == CALITP_ITP_ID, _.url_number == CALITP_URL_NUMBER)\n",
    "    >> select(-_.url_number, -_.status)\n",
    "    >> select_rm_calitp\n",
    "    >> collect_to_dict\n",
    ")\n",
    "\n",
    "# 2. Monthly metrics ----\n",
    "# Service hours per day. Note that the queried table calculates service\n",
    "# hours per service id, so we need to sum across service ids for the day\n",
    "_cross_cal = (\n",
    "    tbl.views.dim_date()\n",
    "    >> filter(_.full_date.between(START_DATE, END_DATE))\n",
    "    >> select(_.service_date == _.full_date)\n",
    ")\n",
    "\n",
    "tbl_daily_service_hours = (\n",
    "    tbl.views.gtfs_schedule_service_daily_metrics()\n",
    "    >> filter_itp\n",
    "    >> filter(_.service_date.between(START_DATE, END_DATE))\n",
    "    >> right_join(_, _cross_cal, [\"service_date\"])\n",
    "    >> collect()\n",
    "    >> group_by(_.service_date)\n",
    "    >> summarize(ttl_service_hours=(_.last_arrival_ts.max() - _.first_departure_ts.min()) / 3600)\n",
    "    >> mutate(\n",
    "        ttl_service_hours=_.ttl_service_hours.astype(float).round(2),\n",
    "        service_date=_.service_date.astype(\"datetime64[ns]\"),\n",
    "    )\n",
    ")\n",
    "\n",
    "# number of days where a feed did not have any trips in service\n",
    "n_expired_days = (\n",
    "    tbl_daily_service_hours >> filter(_.ttl_service_hours.isna())\n",
    "    >> pipe(lambda d: {\"n\": d.shape[0]})\n",
    ")\n",
    "\n",
    "# 3. Stop and Route ID Changes ----\n",
    "\n",
    "_tbl_stops_start = tbl.gtfs_schedule_type2.stops() >> filter_itp >> filter_start\n",
    "_tbl_stops_end = tbl.gtfs_schedule_type2.stops() >> filter_itp >> filter_end\n",
    "tbl_stops_changed = (\n",
    "    query_id_changes(_tbl_stops_start, _tbl_stops_end, [\"stop_id\"]) >> collect()\n",
    ")\n",
    "\n",
    "_tbl_routes_start = tbl.gtfs_schedule_type2.routes() >> filter_start\n",
    "_tbl_routes_end = tbl.gtfs_schedule_type2.routes() >> filter_end\n",
    "tbl_routes_changed = (\n",
    "    query_id_changes(_tbl_routes_start, _tbl_routes_end, [\"route_id\"]) >> collect()\n",
    ")"
   ]
  },
  {
   "cell_type": "code",
   "execution_count": 6,
   "id": "c41731a5",
   "metadata": {
    "execution": {
     "iopub.execute_input": "2021-06-23T00:37:26.957337Z",
     "iopub.status.busy": "2021-06-23T00:37:26.956595Z",
     "iopub.status.idle": "2021-06-23T00:37:32.221728Z",
     "shell.execute_reply": "2021-06-23T00:37:32.220884Z"
    },
    "papermill": {
     "duration": 5.368555,
     "end_time": "2021-06-23T00:37:32.222056",
     "exception": false,
     "start_time": "2021-06-23T00:37:26.853501",
     "status": "completed"
    },
    "tags": [
     "hide"
    ]
   },
   "outputs": [],
   "source": [
    "# 4. Feed files being checked for ----\n",
    "\n",
    "file_categories = pd.DataFrame(\n",
    "    {\n",
    "        \"shapes.txt\": \"Visual display\",\n",
    "        \"pathways.txt\": \"Navigation\",\n",
    "        \"levels.txt\": \"Navigation\",\n",
    "        \"fare_rules.txt\": \"Fares\",\n",
    "        \"fare_leg_rules\": \"Fares\",\n",
    "        \"feed_info.txt\": \"Technical contacts\",\n",
    "    }.items(),\n",
    "    columns=[\"name\", \"category\"],\n",
    ")\n",
    "\n",
    "importance = [\"Visual display\", \"Navigation\", \"Fares\", \"Technical contacts\"]\n",
    "\n",
    "tbl_file_check = (\n",
    "    tbl.gtfs_schedule_history.calitp_files_updates()\n",
    "    >> filter_itp\n",
    "    >> filter(_.calitp_extracted_at.isin(WEEK_MARKERS))\n",
    "    >> select(_.name, _.calitp_extracted_at)\n",
    "    >> collect()\n",
    "    >> right_join(_, file_categories, [\"name\"])\n",
    "    >> mutate(\n",
    "        calitp_extracted_at=_.calitp_extracted_at.fillna(\"missing\").astype(str),\n",
    "        success=\"✅\",\n",
    "    )\n",
    "    >> spread(_.calitp_extracted_at, _.success)\n",
    "    >> select(-_.missing)\n",
    "    >> arrange(_.category.apply(importance.index))\n",
    "    >> select(_.category, _.contains(\"\"))\n",
    "    >> pipe(_.fillna(\"\"))\n",
    ")\n",
    "\n",
    "tbl_validation_notices = (\n",
    "    tbl.views.validation_notices()\n",
    "    >> filter_itp\n",
    "    >> filter(_.severity == \"ERROR\")\n",
    "    >> count(_.code, _.severity)\n",
    "    >> collect()\n",
    ")"
   ]
  },
  {
   "cell_type": "markdown",
   "id": "0af8b8c3",
   "metadata": {
    "papermill": {
     "duration": 0.048142,
     "end_time": "2021-06-23T00:37:32.304847",
     "exception": false,
     "start_time": "2021-06-23T00:37:32.256705",
     "status": "completed"
    },
    "tags": [
     "hide"
    ]
   },
   "source": [
    "## Dump data"
   ]
  },
  {
   "cell_type": "code",
   "execution_count": 7,
   "id": "01ae57eb",
   "metadata": {
    "execution": {
     "iopub.execute_input": "2021-06-23T00:37:32.441689Z",
     "iopub.status.busy": "2021-06-23T00:37:32.439680Z",
     "iopub.status.idle": "2021-06-23T00:37:32.442670Z",
     "shell.execute_reply": "2021-06-23T00:37:32.440820Z"
    },
    "papermill": {
     "duration": 0.094599,
     "end_time": "2021-06-23T00:37:32.442909",
     "exception": false,
     "start_time": "2021-06-23T00:37:32.348310",
     "status": "completed"
    },
    "tags": [
     "hide"
    ]
   },
   "outputs": [],
   "source": [
    "import json\n",
    "import shutil\n",
    "\n",
    "from pathlib import Path\n",
    "\n",
    "out_dir = Path(f\"output/{CALITP_ITP_ID}_{CALITP_URL_NUMBER}/data\")\n",
    "out_dir.mkdir(parents=True, exist_ok=True)\n",
    "\n",
    "json.dump(feed_info, open(out_dir / \"1_feed_info.json\", \"w\"))\n",
    "json.dump(status, open(out_dir / \"1_status.json\", \"w\"))\n",
    "\n",
    "tbl_daily_service_hours.to_json(out_dir / \"2_daily_service_hours.json\", orient=\"records\")\n",
    "json.dump(n_expired_days, open(out_dir / \"2_n_expired_days.json\", \"w\"))\n",
    "\n",
    "tbl_stops_changed.to_json(out_dir / \"3_stops_changed.json\", orient=\"records\")\n",
    "tbl_routes_changed.to_json(out_dir / \"3_routes_changed.json\", orient=\"records\")\n",
    "tbl_file_check.to_json(out_dir / \"4_file_check.json\", orient=\"records\")\n",
    "tbl_validation_notices.to_json(out_dir / \"4_validation_notices.json\", orient=\"records\")\n"
   ]
  },
  {
   "cell_type": "markdown",
   "id": "533ac50c",
   "metadata": {
    "papermill": {
     "duration": 0.117652,
     "end_time": "2021-06-23T00:37:32.702924",
     "exception": false,
     "start_time": "2021-06-23T00:37:32.585272",
     "status": "completed"
    },
    "tags": []
   },
   "source": [
    "# GTFS Schedule Report"
   ]
  },
  {
   "cell_type": "markdown",
   "id": "bcaa8f82",
   "metadata": {
    "papermill": {
     "duration": 0.066152,
     "end_time": "2021-06-23T00:37:32.988881",
     "exception": false,
     "start_time": "2021-06-23T00:37:32.922729",
     "status": "completed"
    },
    "tags": []
   },
   "source": [
    "# Example Juniper Report"
   ]
  },
  {
   "cell_type": "code",
   "execution_count": 8,
   "id": "68341f7b",
   "metadata": {
    "execution": {
     "iopub.execute_input": "2021-06-23T00:37:33.238250Z",
     "iopub.status.busy": "2021-06-23T00:37:33.236827Z",
     "iopub.status.idle": "2021-06-23T00:37:33.244934Z",
     "shell.execute_reply": "2021-06-23T00:37:33.244009Z"
    },
    "papermill": {
     "duration": 0.106181,
     "end_time": "2021-06-23T00:37:33.245210",
     "exception": false,
     "start_time": "2021-06-23T00:37:33.139029",
     "status": "completed"
    },
    "tags": []
   },
   "outputs": [
    {
     "data": {
      "text/markdown": [
       "\n",
       "Transit provider name: TORRANCE TRANSIT SYSTEM\n",
       "\n",
       "Date generated: 2021-06-22\n"
      ],
      "text/plain": [
       "<IPython.core.display.Markdown object>"
      ]
     },
     "execution_count": 8,
     "metadata": {},
     "output_type": "execute_result"
    }
   ],
   "source": [
    "from IPython.display import Markdown\n",
    "\n",
    "Markdown(f\"\"\"\n",
    "Transit provider name: {feed_info[\"feed_publisher_name\"]}\n",
    "\n",
    "Date generated: {DATE_TODAY}\n",
    "\"\"\")"
   ]
  },
  {
   "cell_type": "markdown",
   "id": "22e77a51",
   "metadata": {
    "papermill": {
     "duration": 0.094216,
     "end_time": "2021-06-23T00:37:33.525546",
     "exception": false,
     "start_time": "2021-06-23T00:37:33.431330",
     "status": "completed"
    },
    "tags": []
   },
   "source": [
    "This is a monthly report, generated by the California Integrated Travel Project (Cal-ITP), summarizing issues discovered by MobilityData’s GTFS Validator. This report is available for viewing by the general public to support continuous improvement of GTFS data and the experience of transit passengers. "
   ]
  },
  {
   "cell_type": "markdown",
   "id": "736b42c2",
   "metadata": {
    "papermill": {
     "duration": 0.138534,
     "end_time": "2021-06-23T00:37:33.705574",
     "exception": false,
     "start_time": "2021-06-23T00:37:33.567040",
     "status": "completed"
    },
    "tags": []
   },
   "source": [
    "## Overview"
   ]
  },
  {
   "cell_type": "code",
   "execution_count": 9,
   "id": "e52e27e2",
   "metadata": {
    "execution": {
     "iopub.execute_input": "2021-06-23T00:37:33.846343Z",
     "iopub.status.busy": "2021-06-23T00:37:33.845141Z",
     "iopub.status.idle": "2021-06-23T00:37:33.849862Z",
     "shell.execute_reply": "2021-06-23T00:37:33.850848Z"
    },
    "papermill": {
     "duration": 0.086705,
     "end_time": "2021-06-23T00:37:33.851140",
     "exception": false,
     "start_time": "2021-06-23T00:37:33.764435",
     "status": "completed"
    },
    "tags": []
   },
   "outputs": [
    {
     "data": {
      "text/markdown": [
       "\n",
       "Feed location: https://transit.torranceca.gov/home/showdocument?id=16673\n",
       "\n",
       "Metrics for the most recent published version of the feed:\n",
       "\n",
       "* Date published: S1000116\n",
       "* Number of routes in any service: 12\n",
       "* Number of stops in service: 782\n"
      ],
      "text/plain": [
       "<IPython.core.display.Markdown object>"
      ]
     },
     "execution_count": 9,
     "metadata": {},
     "output_type": "execute_result"
    }
   ],
   "source": [
    "Markdown(f\"\"\"\n",
    "Feed location: {status[\"gtfs_schedule_url\"]}\n",
    "\n",
    "Metrics for the most recent published version of the feed:\n",
    "\n",
    "* Date published: {feed_info[\"feed_version\"]}\n",
    "* Number of routes in any service: {feed_info[\"n_routes\"]}\n",
    "* Number of stops in service: {feed_info[\"n_stops\"]}\n",
    "\"\"\")"
   ]
  },
  {
   "cell_type": "markdown",
   "id": "8e9e7e10",
   "metadata": {
    "papermill": {
     "duration": 0.116672,
     "end_time": "2021-06-23T00:37:34.072161",
     "exception": false,
     "start_time": "2021-06-23T00:37:33.955489",
     "status": "completed"
    },
    "tags": []
   },
   "source": [
    "## Aggregated Metrics for May"
   ]
  },
  {
   "cell_type": "code",
   "execution_count": 10,
   "id": "79b15a0c",
   "metadata": {
    "execution": {
     "iopub.execute_input": "2021-06-23T00:37:34.236799Z",
     "iopub.status.busy": "2021-06-23T00:37:34.235525Z",
     "iopub.status.idle": "2021-06-23T00:37:34.241154Z",
     "shell.execute_reply": "2021-06-23T00:37:34.242065Z"
    },
    "papermill": {
     "duration": 0.101966,
     "end_time": "2021-06-23T00:37:34.242421",
     "exception": false,
     "start_time": "2021-06-23T00:37:34.140455",
     "status": "completed"
    },
    "tags": []
   },
   "outputs": [
    {
     "data": {
      "text/markdown": [
       "\n",
       "Days when the active feed was expired: 0\n"
      ],
      "text/plain": [
       "<IPython.core.display.Markdown object>"
      ]
     },
     "execution_count": 10,
     "metadata": {},
     "output_type": "execute_result"
    }
   ],
   "source": [
    "Markdown(f\"\"\"\n",
    "Days when the active feed was expired: {n_expired_days[\"n\"]}\n",
    "\"\"\")"
   ]
  },
  {
   "cell_type": "code",
   "execution_count": 11,
   "id": "e46a2887",
   "metadata": {
    "execution": {
     "iopub.execute_input": "2021-06-23T00:37:34.456375Z",
     "iopub.status.busy": "2021-06-23T00:37:34.438898Z",
     "iopub.status.idle": "2021-06-23T00:37:35.837338Z",
     "shell.execute_reply": "2021-06-23T00:37:35.834944Z"
    },
    "papermill": {
     "duration": 1.493214,
     "end_time": "2021-06-23T00:37:35.837636",
     "exception": false,
     "start_time": "2021-06-23T00:37:34.344422",
     "status": "completed"
    },
    "tags": []
   },
   "outputs": [
    {
     "data": {
      "image/png": "[encoded data removed]",
      "text/plain": [
       "<Figure size 640x480 with 1 Axes>"
      ]
     },
     "metadata": {},
     "output_type": "display_data"
    },
    {
     "data": {
      "text/plain": [
       "<ggplot: (305914465)>"
      ]
     },
     "execution_count": 11,
     "metadata": {},
     "output_type": "execute_result"
    }
   ],
   "source": [
    "(\n",
    "    tbl_daily_service_hours\n",
    "    >> ggplot(aes(\"service_date\", \"ttl_service_hours\"))\n",
    "    + geom_line()\n",
    "    + geom_point()\n",
    "    + theme(axis_text_x=element_text(angle=45, hjust=1))\n",
    "    + scale_x_datetime(date_breaks=\"1 week\")\n",
    "    + expand_limits(y=0)\n",
    ")"
   ]
  },
  {
   "cell_type": "markdown",
   "id": "24de43fd",
   "metadata": {
    "papermill": {
     "duration": 0.044076,
     "end_time": "2021-06-23T00:37:35.973704",
     "exception": false,
     "start_time": "2021-06-23T00:37:35.929628",
     "status": "completed"
    },
    "tags": []
   },
   "source": [
    "## Changes Since Previous Month"
   ]
  },
  {
   "cell_type": "code",
   "execution_count": 12,
   "id": "9a5c5291",
   "metadata": {
    "execution": {
     "iopub.execute_input": "2021-06-23T00:37:36.376298Z",
     "iopub.status.busy": "2021-06-23T00:37:36.374676Z",
     "iopub.status.idle": "2021-06-23T00:37:37.559956Z",
     "shell.execute_reply": "2021-06-23T00:37:37.561032Z"
    },
    "papermill": {
     "duration": 1.314768,
     "end_time": "2021-06-23T00:37:37.561350",
     "exception": false,
     "start_time": "2021-06-23T00:37:36.246582",
     "status": "completed"
    },
    "tags": []
   },
   "outputs": [
    {
     "data": {
      "image/png": "[encoded data removed]",
      "text/plain": [
       "<Figure size 640x480 with 1 Axes>"
      ]
     },
     "metadata": {},
     "output_type": "display_data"
    },
    {
     "data": {
      "text/plain": [
       "<ggplot: (305961379)>"
      ]
     },
     "execution_count": 12,
     "metadata": {},
     "output_type": "execute_result"
    }
   ],
   "source": [
    "(\n",
    "    pd.concat(\n",
    "        [\n",
    "            tbl_stops_changed >> mutate(kind=\"Stops\"),\n",
    "            tbl_routes_changed >> mutate(kind=\"Routes\"),\n",
    "        ]\n",
    "    )\n",
    "    >> ggplot(aes(\"kind\", \"n\", fill=\"status\"))\n",
    "    + geom_col()\n",
    "    + labs(x=\"Kind of ID\", y=\"Number of Changes\")\n",
    ")"
   ]
  },
  {
   "cell_type": "markdown",
   "id": "18b2362a",
   "metadata": {
    "papermill": {
     "duration": 0.051898,
     "end_time": "2021-06-23T00:37:37.692135",
     "exception": false,
     "start_time": "2021-06-23T00:37:37.640237",
     "status": "completed"
    },
    "tags": []
   },
   "source": [
    "### (Alternative version using percentages)"
   ]
  },
  {
   "cell_type": "code",
   "execution_count": 13,
   "id": "500f739c",
   "metadata": {
    "execution": {
     "iopub.execute_input": "2021-06-23T00:37:37.937236Z",
     "iopub.status.busy": "2021-06-23T00:37:37.929503Z",
     "iopub.status.idle": "2021-06-23T00:37:38.610465Z",
     "shell.execute_reply": "2021-06-23T00:37:38.610993Z"
    },
    "papermill": {
     "duration": 0.823126,
     "end_time": "2021-06-23T00:37:38.611190",
     "exception": false,
     "start_time": "2021-06-23T00:37:37.788064",
     "status": "completed"
    },
    "tags": []
   },
   "outputs": [
    {
     "data": {
      "image/png": "[encoded data removed]",
      "text/plain": [
       "<Figure size 640x480 with 1 Axes>"
      ]
     },
     "metadata": {},
     "output_type": "display_data"
    },
    {
     "data": {
      "text/plain": [
       "<ggplot: (306174964)>"
      ]
     },
     "execution_count": 13,
     "metadata": {},
     "output_type": "execute_result"
    }
   ],
   "source": [
    "(\n",
    "    pd.concat(\n",
    "        [\n",
    "            tbl_stops_changed >> mutate(kind=\"Stops\"),\n",
    "            tbl_routes_changed >> mutate(kind=\"Routes\"),\n",
    "        ]\n",
    "    )\n",
    "    >> ggplot(aes(\"kind\", \"percent\", fill=\"status\"))\n",
    "    + geom_col()\n",
    "    + labs(x=\"Kind of ID\", y=\"Percent of Changes\")\n",
    ")"
   ]
  },
  {
   "cell_type": "markdown",
   "id": "f6fa22ef",
   "metadata": {
    "papermill": {
     "duration": 0.021537,
     "end_time": "2021-06-23T00:37:38.659876",
     "exception": false,
     "start_time": "2021-06-23T00:37:38.638339",
     "status": "completed"
    },
    "tags": []
   },
   "source": [
    "## Consistency with the California GTFS Minimum Guidelines for the feed downloaded\n"
   ]
  },
  {
   "cell_type": "code",
   "execution_count": 14,
   "id": "9875bc85",
   "metadata": {
    "execution": {
     "iopub.execute_input": "2021-06-23T00:37:38.720694Z",
     "iopub.status.busy": "2021-06-23T00:37:38.720126Z",
     "iopub.status.idle": "2021-06-23T00:37:42.959277Z",
     "shell.execute_reply": "2021-06-23T00:37:42.959757Z"
    },
    "papermill": {
     "duration": 4.270197,
     "end_time": "2021-06-23T00:37:42.959948",
     "exception": false,
     "start_time": "2021-06-23T00:37:38.689751",
     "status": "completed"
    },
    "tags": []
   },
   "outputs": [
    {
     "name": "stdout",
     "output_type": "stream",
     "text": [
      "The history saving thread hit an unexpected error (OperationalError('database is locked')).History will not be written to the database.\n"
     ]
    },
    {
     "data": {
      "text/html": [
       "<div>\n",
       "<style scoped>\n",
       "    .dataframe tbody tr th:only-of-type {\n",
       "        vertical-align: middle;\n",
       "    }\n",
       "\n",
       "    .dataframe tbody tr th {\n",
       "        vertical-align: top;\n",
       "    }\n",
       "\n",
       "    .dataframe thead th {\n",
       "        text-align: right;\n",
       "    }\n",
       "</style>\n",
       "<table border=\"1\" class=\"dataframe\">\n",
       "  <thead>\n",
       "    <tr style=\"text-align: right;\">\n",
       "      <th></th>\n",
       "      <th>category</th>\n",
       "      <th>name</th>\n",
       "      <th>2021-05-09</th>\n",
       "      <th>2021-05-16</th>\n",
       "      <th>2021-05-23</th>\n",
       "      <th>2021-05-30</th>\n",
       "    </tr>\n",
       "  </thead>\n",
       "  <tbody>\n",
       "    <tr>\n",
       "      <th>5</th>\n",
       "      <td>Visual display</td>\n",
       "      <td>shapes.txt</td>\n",
       "      <td>✅</td>\n",
       "      <td>✅</td>\n",
       "      <td>✅</td>\n",
       "      <td>✅</td>\n",
       "    </tr>\n",
       "    <tr>\n",
       "      <th>3</th>\n",
       "      <td>Navigation</td>\n",
       "      <td>levels.txt</td>\n",
       "      <td></td>\n",
       "      <td></td>\n",
       "      <td></td>\n",
       "      <td></td>\n",
       "    </tr>\n",
       "    <tr>\n",
       "      <th>4</th>\n",
       "      <td>Navigation</td>\n",
       "      <td>pathways.txt</td>\n",
       "      <td></td>\n",
       "      <td></td>\n",
       "      <td></td>\n",
       "      <td></td>\n",
       "    </tr>\n",
       "    <tr>\n",
       "      <th>0</th>\n",
       "      <td>Fares</td>\n",
       "      <td>fare_leg_rules</td>\n",
       "      <td></td>\n",
       "      <td></td>\n",
       "      <td></td>\n",
       "      <td></td>\n",
       "    </tr>\n",
       "    <tr>\n",
       "      <th>1</th>\n",
       "      <td>Fares</td>\n",
       "      <td>fare_rules.txt</td>\n",
       "      <td>✅</td>\n",
       "      <td>✅</td>\n",
       "      <td>✅</td>\n",
       "      <td>✅</td>\n",
       "    </tr>\n",
       "    <tr>\n",
       "      <th>2</th>\n",
       "      <td>Technical contacts</td>\n",
       "      <td>feed_info.txt</td>\n",
       "      <td>✅</td>\n",
       "      <td>✅</td>\n",
       "      <td>✅</td>\n",
       "      <td>✅</td>\n",
       "    </tr>\n",
       "  </tbody>\n",
       "</table>\n",
       "</div>"
      ],
      "text/plain": [
       "             category            name 2021-05-09 2021-05-16 2021-05-23  \\\n",
       "5      Visual display      shapes.txt          ✅          ✅          ✅   \n",
       "3          Navigation      levels.txt                                    \n",
       "4          Navigation    pathways.txt                                    \n",
       "0               Fares  fare_leg_rules                                    \n",
       "1               Fares  fare_rules.txt          ✅          ✅          ✅   \n",
       "2  Technical contacts   feed_info.txt          ✅          ✅          ✅   \n",
       "\n",
       "  2021-05-30  \n",
       "5          ✅  \n",
       "3             \n",
       "4             \n",
       "0             \n",
       "1          ✅  \n",
       "2          ✅  "
      ]
     },
     "execution_count": 14,
     "metadata": {},
     "output_type": "execute_result"
    }
   ],
   "source": [
    "tbl_file_check"
   ]
  },
  {
   "cell_type": "markdown",
   "id": "bab7b281",
   "metadata": {
    "papermill": {
     "duration": 0.030465,
     "end_time": "2021-06-23T00:37:43.016428",
     "exception": false,
     "start_time": "2021-06-23T00:37:42.985963",
     "status": "completed"
    },
    "tags": []
   },
   "source": [
    "### Validation Errors Observed"
   ]
  },
  {
   "cell_type": "code",
   "execution_count": 15,
   "id": "9fe7660a",
   "metadata": {
    "execution": {
     "iopub.execute_input": "2021-06-23T00:37:43.173011Z",
     "iopub.status.busy": "2021-06-23T00:37:43.171140Z",
     "iopub.status.idle": "2021-06-23T00:37:43.176352Z",
     "shell.execute_reply": "2021-06-23T00:37:43.171913Z"
    },
    "papermill": {
     "duration": 0.111331,
     "end_time": "2021-06-23T00:37:43.176634",
     "exception": false,
     "start_time": "2021-06-23T00:37:43.065303",
     "status": "completed"
    },
    "tags": []
   },
   "outputs": [
    {
     "data": {
      "text/html": [
       "<div>\n",
       "<style scoped>\n",
       "    .dataframe tbody tr th:only-of-type {\n",
       "        vertical-align: middle;\n",
       "    }\n",
       "\n",
       "    .dataframe tbody tr th {\n",
       "        vertical-align: top;\n",
       "    }\n",
       "\n",
       "    .dataframe thead th {\n",
       "        text-align: right;\n",
       "    }\n",
       "</style>\n",
       "<table border=\"1\" class=\"dataframe\">\n",
       "  <thead>\n",
       "    <tr style=\"text-align: right;\">\n",
       "      <th></th>\n",
       "      <th>code</th>\n",
       "      <th>severity</th>\n",
       "      <th>n</th>\n",
       "    </tr>\n",
       "  </thead>\n",
       "  <tbody>\n",
       "    <tr>\n",
       "      <th>0</th>\n",
       "      <td>same_name_and_description_for_route</td>\n",
       "      <td>ERROR</td>\n",
       "      <td>11</td>\n",
       "    </tr>\n",
       "  </tbody>\n",
       "</table>\n",
       "</div>"
      ],
      "text/plain": [
       "                                  code severity   n\n",
       "0  same_name_and_description_for_route    ERROR  11"
      ]
     },
     "execution_count": 15,
     "metadata": {},
     "output_type": "execute_result"
    }
   ],
   "source": [
    "tbl_validation_notices"
   ]
  }
 ],
 "metadata": {
  "kernelspec": {
   "display_name": "venv-calitp-py",
   "language": "python",
   "name": "venv-calitp-py"
  },
  "language_info": {
   "codemirror_mode": {
    "name": "ipython",
    "version": 3
   },
   "file_extension": ".py",
   "mimetype": "text/x-python",
   "name": "python",
   "nbconvert_exporter": "python",
   "pygments_lexer": "ipython3",
   "version": "3.8.5"
  },
  "papermill": {
   "default_parameters": {},
   "duration": 57.165827,
   "end_time": "2021-06-23T00:37:45.999201",
   "environment_variables": {},
   "exception": null,
   "input_path": "report.ipynb",
   "output_path": "output/339/report.ipynb",
   "parameters": {
    "CALITP_ITP_ID": 339,
    "CALITP_URL_NUMBER": 0
   },
   "start_time": "2021-06-23T00:36:48.833374",
   "version": "2.3.3"
  }
 },
 "nbformat": 4,
 "nbformat_minor": 5
}