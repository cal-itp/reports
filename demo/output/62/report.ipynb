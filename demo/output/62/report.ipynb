{
 "cells": [
  {
   "cell_type": "markdown",
   "id": "48dd27c8",
   "metadata": {
    "papermill": {
     "duration": 0.031112,
     "end_time": "2021-06-24T22:10:23.205903",
     "exception": false,
     "start_time": "2021-06-24T22:10:23.174791",
     "status": "completed"
    },
    "tags": [
     "hide"
    ]
   },
   "source": [
    "# Setup"
   ]
  },
  {
   "cell_type": "code",
   "execution_count": 1,
   "id": "4775a1de",
   "metadata": {
    "execution": {
     "iopub.execute_input": "2021-06-24T22:10:23.278375Z",
     "iopub.status.busy": "2021-06-24T22:10:23.272929Z",
     "iopub.status.idle": "2021-06-24T22:10:35.295387Z",
     "shell.execute_reply": "2021-06-24T22:10:35.294818Z"
    },
    "papermill": {
     "duration": 12.059947,
     "end_time": "2021-06-24T22:10:35.295501",
     "exception": false,
     "start_time": "2021-06-24T22:10:23.235554",
     "status": "completed"
    },
    "tags": [
     "hide"
    ]
   },
   "outputs": [],
   "source": [
    "import pandas as pd\n",
    "import numpy as np\n",
    "import warnings\n",
    "\n",
    "from io import StringIO\n",
    "from calitp.tables import tbl\n",
    "from datetime import date, datetime\n",
    "from siuba import *\n",
    "from plotnine import *\n",
    "\n",
    "def friendly_date(x): \n",
    "    return datetime.strptime(x, \"%Y-%m-%d\").strftime(\"%b %d\")"
   ]
  },
  {
   "cell_type": "code",
   "execution_count": 2,
   "id": "bb9bfac0",
   "metadata": {
    "execution": {
     "iopub.execute_input": "2021-06-24T22:10:35.345732Z",
     "iopub.status.busy": "2021-06-24T22:10:35.345157Z",
     "iopub.status.idle": "2021-06-24T22:10:35.347758Z",
     "shell.execute_reply": "2021-06-24T22:10:35.348205Z"
    },
    "papermill": {
     "duration": 0.03685,
     "end_time": "2021-06-24T22:10:35.348343",
     "exception": false,
     "start_time": "2021-06-24T22:10:35.311493",
     "status": "completed"
    },
    "tags": [
     "parameters",
     "hide"
    ]
   },
   "outputs": [],
   "source": [
    "CALITP_ITP_ID = 98\n",
    "#CALITP_ITP_ID=45\n",
    "CALITP_URL_NUMBER = 0\n",
    "DEBUG = False\n",
    "\n",
    "START_DATE = \"2021-05-01\"\n",
    "END_DATE = \"2021-06-01\"\n",
    "DATE_TODAY=date.today()\n",
    "START_MONTH_DAY = friendly_date(START_DATE)\n",
    "END_MONTH_DAY = friendly_date(END_DATE)\n",
    "\n",
    "WEEK_MARKERS = pd.date_range(START_DATE, END_DATE, freq=\"W\").astype(str).tolist()\n",
    "BIWEEKLY_MARKERS = pd.date_range(START_DATE, END_DATE, freq=\"2W\").astype(str).tolist()"
   ]
  },
  {
   "cell_type": "code",
   "execution_count": 3,
   "id": "0a1b3178",
   "metadata": {
    "execution": {
     "iopub.execute_input": "2021-06-24T22:10:35.385993Z",
     "iopub.status.busy": "2021-06-24T22:10:35.385339Z",
     "iopub.status.idle": "2021-06-24T22:10:35.387969Z",
     "shell.execute_reply": "2021-06-24T22:10:35.388478Z"
    },
    "papermill": {
     "duration": 0.023291,
     "end_time": "2021-06-24T22:10:35.388655",
     "exception": false,
     "start_time": "2021-06-24T22:10:35.365364",
     "status": "completed"
    },
    "tags": [
     "injected-parameters"
    ]
   },
   "outputs": [],
   "source": [
    "# Parameters\n",
    "CALITP_ITP_ID = 62\n",
    "CALITP_URL_NUMBER = 0\n",
    "DEBUG = False\n",
    "START_DATE = \"2021-05-01\"\n",
    "END_DATE = \"2021-06-01\"\n"
   ]
  },
  {
   "cell_type": "code",
   "execution_count": 4,
   "id": "08dce2b9",
   "metadata": {
    "execution": {
     "iopub.execute_input": "2021-06-24T22:10:35.422754Z",
     "iopub.status.busy": "2021-06-24T22:10:35.422121Z",
     "iopub.status.idle": "2021-06-24T22:10:35.424993Z",
     "shell.execute_reply": "2021-06-24T22:10:35.424493Z"
    },
    "papermill": {
     "duration": 0.021973,
     "end_time": "2021-06-24T22:10:35.425113",
     "exception": false,
     "start_time": "2021-06-24T22:10:35.403140",
     "status": "completed"
    },
    "tags": [
     "hide"
    ]
   },
   "outputs": [],
   "source": [
    "if not DEBUG:\n",
    "    warnings.filterwarnings(\"ignore\")"
   ]
  },
  {
   "cell_type": "code",
   "execution_count": 5,
   "id": "5bd71399",
   "metadata": {
    "execution": {
     "iopub.execute_input": "2021-06-24T22:10:35.466220Z",
     "iopub.status.busy": "2021-06-24T22:10:35.464427Z",
     "iopub.status.idle": "2021-06-24T22:10:35.478210Z",
     "shell.execute_reply": "2021-06-24T22:10:35.479442Z"
    },
    "papermill": {
     "duration": 0.038993,
     "end_time": "2021-06-24T22:10:35.479721",
     "exception": false,
     "start_time": "2021-06-24T22:10:35.440728",
     "status": "completed"
    },
    "tags": [
     "hide"
    ]
   },
   "outputs": [],
   "source": [
    "# Convenience functions ----\n",
    "\n",
    "filter_start = filter(\n",
    "    _.calitp_extracted_at <= START_DATE,\n",
    "    _.calitp_deleted_at.fillna(\"2099-01-01\") > START_DATE,\n",
    ")\n",
    "\n",
    "filter_end = filter(\n",
    "    _.calitp_extracted_at <= END_DATE,\n",
    "    _.calitp_deleted_at.fillna(\"2099-01-01\") > END_DATE,\n",
    ")\n",
    "\n",
    "filter_itp = filter(\n",
    "    _.calitp_itp_id == CALITP_ITP_ID, _.calitp_url_number == CALITP_URL_NUMBER\n",
    ")\n",
    "\n",
    "collect_to_dict = (\n",
    "    collect()\n",
    "    >> pipe(_.to_dict(orient=\"records\")[0])\n",
    ")\n",
    "\n",
    "\n",
    "select_rm_calitp = select(\n",
    "    -_.calitp_itp_id,\n",
    "    -_.calitp_url_number,\n",
    "    -_.calitp_hash,\n",
    "    -_.calitp_extracted_at,\n",
    "    -_.calitp_deleted_at,\n",
    ")\n",
    "\n",
    "def percent_format(labels):\n",
    "    return [\"{:.0f}%\".format(v*100) for v in labels]\n",
    "\n",
    "def query_id_changes(start_table, end_table, id_vars):\n",
    "    \"\"\"Calculate id variables that are removed, added, or unchanged between tables.\n",
    "    \n",
    "    It works by adding a special column to each table, performing a full join,\n",
    "    then checking where the special column is null.\n",
    "    \"\"\"\n",
    "    sym_id_vars = [_[k] for k in id_vars]\n",
    "\n",
    "    is_in_start = start_table >> select(*id_vars) >> mutate(is_in_start=True)\n",
    "    is_in_end = end_table >> select(*id_vars) >> mutate(is_in_end=True)\n",
    "\n",
    "    baseline = start_table >> count(*id_vars) >> rename(n_baseline=\"n\")\n",
    "    tallies = (\n",
    "        is_in_start\n",
    "        >> full_join(_, is_in_end, id_vars)\n",
    "        >> count(*sym_id_vars, _.is_in_start, _.is_in_end)\n",
    "        >> mutate(\n",
    "            status=case_when(\n",
    "                _,\n",
    "                {\n",
    "                    _.is_in_end.isna(): \"Removed\",\n",
    "                    _.is_in_start.isna(): \"Added\",\n",
    "                    True: \"Unchanged\",\n",
    "                },\n",
    "            )\n",
    "        )\n",
    "        >> count(*sym_id_vars[:-1], _.status)\n",
    "        >> group_by(*sym_id_vars[:-1])\n",
    "        >> mutate(percent=_.n / _.n.sum())\n",
    "    )\n",
    "\n",
    "    return tallies"
   ]
  },
  {
   "cell_type": "code",
   "execution_count": 6,
   "id": "91c0fe0b",
   "metadata": {
    "execution": {
     "iopub.execute_input": "2021-06-24T22:10:35.538027Z",
     "iopub.status.busy": "2021-06-24T22:10:35.532052Z",
     "iopub.status.idle": "2021-06-24T22:11:00.306595Z",
     "shell.execute_reply": "2021-06-24T22:11:00.307395Z"
    },
    "papermill": {
     "duration": 24.799747,
     "end_time": "2021-06-24T22:11:00.307658",
     "exception": false,
     "start_time": "2021-06-24T22:10:35.507911",
     "status": "completed"
    },
    "tags": [
     "hide"
    ]
   },
   "outputs": [],
   "source": [
    "# Data ====\n",
    "# 1. High level feed info ----\n",
    "feed_info = (\n",
    "    tbl.gtfs_schedule_type2.feed_info()\n",
    "    >> filter_end\n",
    "    >> filter_itp\n",
    "    >> select_rm_calitp\n",
    "    >> collect_to_dict\n",
    ")\n",
    "\n",
    "_n_routes = (\n",
    "    tbl.gtfs_schedule_type2.routes() >> filter_end >> filter_itp >> count() >> collect()\n",
    ")\n",
    "_n_stops = (\n",
    "    tbl.gtfs_schedule_type2.stops() >> filter_end >> filter_itp >> count() >> collect()\n",
    ")\n",
    "\n",
    "feed_info[\"n_routes\"] = int(_n_routes.loc[0, \"n\"])\n",
    "feed_info[\"n_stops\"] = int(_n_stops.loc[0, \"n\"])\n",
    "\n",
    "status = (\n",
    "    tbl.views.gtfs_status_latest()\n",
    "    >> filter(_.itp_id == CALITP_ITP_ID, _.url_number == CALITP_URL_NUMBER)\n",
    "    >> select(-_.url_number, -_.status)\n",
    "    >> select_rm_calitp\n",
    "    >> collect_to_dict\n",
    ")\n",
    "\n",
    "# 2. Monthly metrics ----\n",
    "# Service hours per day. Note that the queried table calculates service\n",
    "# hours per service id, so we need to sum across service ids for the day\n",
    "_cross_cal = (\n",
    "    tbl.views.dim_date()\n",
    "    >> filter(_.full_date.between(START_DATE, END_DATE))\n",
    "    >> select(_.service_date == _.full_date)\n",
    ")\n",
    "\n",
    "tbl_daily_service_hours = (\n",
    "    tbl.views.gtfs_schedule_service_daily_metrics()\n",
    "    >> filter_itp\n",
    "    >> filter(_.service_date.between(START_DATE, END_DATE))\n",
    "    >> right_join(_, _cross_cal, [\"service_date\"])\n",
    "    >> collect()\n",
    "    >> group_by(_.service_date)\n",
    "    >> summarize(\n",
    "        ttl_service_hours=(_.last_arrival_ts.max() - _.first_departure_ts.min()) / 3600,\n",
    "        ttl_service_hours2=_.ttl_service_hours.sum(),\n",
    "    )\n",
    "    >> mutate(\n",
    "        ttl_service_hours=_.ttl_service_hours.astype(float).round(2),\n",
    "        service_date=_.service_date.astype(\"datetime64[ns]\"),\n",
    "    )\n",
    ")\n",
    "\n",
    "# number of days where a feed did not have any trips in service\n",
    "n_expired_days = (\n",
    "    tbl_daily_service_hours\n",
    "    >> filter(_.ttl_service_hours.isna())\n",
    "    >> pipe(lambda d: {\"n\": d.shape[0]})\n",
    ")\n",
    "\n",
    "# 3. Stop and Route ID Changes ----\n",
    "\n",
    "_tbl_stops_start = tbl.gtfs_schedule_type2.stops() >> filter_itp >> filter_start\n",
    "_tbl_stops_end = tbl.gtfs_schedule_type2.stops() >> filter_itp >> filter_end\n",
    "tbl_stops_changed = (\n",
    "    query_id_changes(_tbl_stops_start, _tbl_stops_end, [\"stop_id\"]) >> collect()\n",
    ")\n",
    "\n",
    "_tbl_routes_start = tbl.gtfs_schedule_type2.routes() >> filter_itp >> filter_start\n",
    "_tbl_routes_end = tbl.gtfs_schedule_type2.routes() >> filter_itp >> filter_end\n",
    "tbl_routes_changed = (\n",
    "    query_id_changes(_tbl_routes_start, _tbl_routes_end, [\"route_id\"]) >> collect()\n",
    ")"
   ]
  },
  {
   "cell_type": "code",
   "execution_count": 7,
   "id": "55f6d283",
   "metadata": {
    "execution": {
     "iopub.execute_input": "2021-06-24T22:11:00.432419Z",
     "iopub.status.busy": "2021-06-24T22:11:00.428911Z",
     "iopub.status.idle": "2021-06-24T22:11:06.198353Z",
     "shell.execute_reply": "2021-06-24T22:11:06.199171Z"
    },
    "papermill": {
     "duration": 5.840253,
     "end_time": "2021-06-24T22:11:06.199419",
     "exception": false,
     "start_time": "2021-06-24T22:11:00.359166",
     "status": "completed"
    },
    "tags": [
     "hide"
    ]
   },
   "outputs": [],
   "source": [
    "# 4. Feed files being checked for ----\n",
    "\n",
    "file_categories = pd.DataFrame(\n",
    "    {\n",
    "        \"shapes.txt\": \"Visual display\",\n",
    "        \"pathways.txt\": \"Navigation\",\n",
    "        \"levels.txt\": \"Navigation\",\n",
    "        \"fare_rules.txt\": \"Fares\",\n",
    "        \"fare_leg_rules\": \"Fares\",\n",
    "        \"feed_info.txt\": \"Technical contacts\",\n",
    "    }.items(),\n",
    "    columns=[\"name\", \"category\"],\n",
    ")\n",
    "\n",
    "importance = [\"Visual display\", \"Navigation\", \"Fares\", \"Technical contacts\"]\n",
    "\n",
    "tbl_file_check = (\n",
    "    tbl.gtfs_schedule_history.calitp_files_updates()\n",
    "    >> filter_itp\n",
    "    >> filter(_.calitp_extracted_at.isin(BIWEEKLY_MARKERS))\n",
    "    >> select(_.name, _.calitp_extracted_at)\n",
    "    >> collect()\n",
    "    >> right_join(_, file_categories, [\"name\"])\n",
    "    >> mutate(\n",
    "        calitp_extracted_at=_.calitp_extracted_at.fillna(\"missing\").astype(str),\n",
    "        success=\"✅\",\n",
    "    )\n",
    "    >> spread(_.calitp_extracted_at, _.success)\n",
    "    >> select(-_.missing)\n",
    "    >> arrange(_.category.apply(importance.index))\n",
    "    >> select(_.category, _.contains(\"\"))\n",
    "    >> pipe(_.fillna(\"\"))\n",
    ")\n",
    "\n",
    "tbl_validation_notices = (\n",
    "    tbl.views.validation_notices()\n",
    "    >> filter_itp\n",
    "    >> filter(_.severity == \"ERROR\")\n",
    "    >> count(_.code, _.severity)\n",
    "    >> collect()\n",
    ")"
   ]
  },
  {
   "cell_type": "markdown",
   "id": "da17e148",
   "metadata": {
    "papermill": {
     "duration": 0.029559,
     "end_time": "2021-06-24T22:11:06.259198",
     "exception": false,
     "start_time": "2021-06-24T22:11:06.229639",
     "status": "completed"
    },
    "tags": [
     "hide"
    ]
   },
   "source": [
    "## Dump data"
   ]
  },
  {
   "cell_type": "code",
   "execution_count": 8,
   "id": "86be0f2e",
   "metadata": {
    "execution": {
     "iopub.execute_input": "2021-06-24T22:11:06.329788Z",
     "iopub.status.busy": "2021-06-24T22:11:06.328674Z",
     "iopub.status.idle": "2021-06-24T22:11:06.339603Z",
     "shell.execute_reply": "2021-06-24T22:11:06.340374Z"
    },
    "papermill": {
     "duration": 0.050315,
     "end_time": "2021-06-24T22:11:06.340607",
     "exception": false,
     "start_time": "2021-06-24T22:11:06.290292",
     "status": "completed"
    },
    "tags": [
     "hide"
    ]
   },
   "outputs": [],
   "source": [
    "import json\n",
    "import shutil\n",
    "\n",
    "from pathlib import Path\n",
    "\n",
    "out_dir = Path(f\"output/{CALITP_ITP_ID}_{CALITP_URL_NUMBER}/data\")\n",
    "out_dir.mkdir(parents=True, exist_ok=True)\n",
    "\n",
    "json.dump(feed_info, open(out_dir / \"1_feed_info.json\", \"w\"))\n",
    "json.dump(status, open(out_dir / \"1_status.json\", \"w\"))\n",
    "\n",
    "tbl_daily_service_hours.to_json(out_dir / \"2_daily_service_hours.json\", orient=\"records\")\n",
    "json.dump(n_expired_days, open(out_dir / \"2_n_expired_days.json\", \"w\"))\n",
    "\n",
    "tbl_stops_changed.to_json(out_dir / \"3_stops_changed.json\", orient=\"records\")\n",
    "tbl_routes_changed.to_json(out_dir / \"3_routes_changed.json\", orient=\"records\")\n",
    "tbl_file_check.to_json(out_dir / \"4_file_check.json\", orient=\"records\")\n",
    "tbl_validation_notices.to_json(out_dir / \"4_validation_notices.json\", orient=\"records\")\n"
   ]
  },
  {
   "cell_type": "markdown",
   "id": "f7c85add",
   "metadata": {
    "papermill": {
     "duration": 0.030395,
     "end_time": "2021-06-24T22:11:06.401211",
     "exception": false,
     "start_time": "2021-06-24T22:11:06.370816",
     "status": "completed"
    },
    "tags": []
   },
   "source": [
    "# Monthly GTFS Quality Report"
   ]
  },
  {
   "cell_type": "code",
   "execution_count": 9,
   "id": "de539e42",
   "metadata": {
    "execution": {
     "iopub.execute_input": "2021-06-24T22:11:06.610487Z",
     "iopub.status.busy": "2021-06-24T22:11:06.609357Z",
     "iopub.status.idle": "2021-06-24T22:11:06.613561Z",
     "shell.execute_reply": "2021-06-24T22:11:06.614322Z"
    },
    "papermill": {
     "duration": 0.152939,
     "end_time": "2021-06-24T22:11:06.614545",
     "exception": false,
     "start_time": "2021-06-24T22:11:06.461606",
     "status": "completed"
    },
    "tags": []
   },
   "outputs": [
    {
     "data": {
      "text/markdown": [
       "\n",
       "Transit provider name: Trillium Solutions, Inc.\n",
       "\n",
       "Date generated: 2021-06-24\n"
      ],
      "text/plain": [
       "<IPython.core.display.Markdown object>"
      ]
     },
     "execution_count": 9,
     "metadata": {},
     "output_type": "execute_result"
    }
   ],
   "source": [
    "from IPython.display import Markdown\n",
    "\n",
    "Markdown(f\"\"\"\n",
    "Transit provider name: {feed_info[\"feed_publisher_name\"]}\n",
    "\n",
    "Date generated: {DATE_TODAY}\n",
    "\"\"\")"
   ]
  },
  {
   "cell_type": "markdown",
   "id": "24c4672c",
   "metadata": {
    "papermill": {
     "duration": 0.08901,
     "end_time": "2021-06-24T22:11:06.812714",
     "exception": false,
     "start_time": "2021-06-24T22:11:06.723704",
     "status": "completed"
    },
    "tags": []
   },
   "source": [
    "This is a monthly report, generated by the California Integrated Travel Project ([Cal-ITP](https://dot.ca.gov/cal-itp/cal-itp-gtfs)), summarizing issues discovered by [MobilityData](http://mobilitydata.io/)’s [GTFS Validator](https://github.com/MobilityData/gtfs-validator). This report is available for viewing by the general public to support continuous improvement of GTFS data and the experience of transit passengers. "
   ]
  },
  {
   "cell_type": "markdown",
   "id": "c73823fa",
   "metadata": {
    "papermill": {
     "duration": 0.082127,
     "end_time": "2021-06-24T22:11:06.964233",
     "exception": false,
     "start_time": "2021-06-24T22:11:06.882106",
     "status": "completed"
    },
    "tags": []
   },
   "source": [
    "## Overview"
   ]
  },
  {
   "cell_type": "code",
   "execution_count": 10,
   "id": "56e03000",
   "metadata": {
    "execution": {
     "iopub.execute_input": "2021-06-24T22:11:07.127869Z",
     "iopub.status.busy": "2021-06-24T22:11:07.125781Z",
     "iopub.status.idle": "2021-06-24T22:11:07.131390Z",
     "shell.execute_reply": "2021-06-24T22:11:07.132134Z"
    },
    "papermill": {
     "duration": 0.09418,
     "end_time": "2021-06-24T22:11:07.132362",
     "exception": false,
     "start_time": "2021-06-24T22:11:07.038182",
     "status": "completed"
    },
    "tags": []
   },
   "outputs": [
    {
     "data": {
      "text/markdown": [
       "\n",
       "Feed location: http://data.trilliumtransit.com/gtfs/stanislaus-ca-us/stanislaus-ca-us.zip\n",
       "\n",
       "Metrics for the most recent published version of the feed:\n",
       "\n",
       "* Date published: UTC: 22-Jun-2020 22:44\n",
       "* Number of routes in any service: 8\n",
       "* Number of stops in service: 313\n"
      ],
      "text/plain": [
       "<IPython.core.display.Markdown object>"
      ]
     },
     "execution_count": 10,
     "metadata": {},
     "output_type": "execute_result"
    }
   ],
   "source": [
    "Markdown(f\"\"\"\n",
    "Feed location: {status[\"gtfs_schedule_url\"]}\n",
    "\n",
    "Metrics for the most recent published version of the feed:\n",
    "\n",
    "* Date published: {feed_info[\"feed_version\"]}\n",
    "* Number of routes in any service: {feed_info[\"n_routes\"]}\n",
    "* Number of stops in service: {feed_info[\"n_stops\"]}\n",
    "\"\"\")"
   ]
  },
  {
   "cell_type": "markdown",
   "id": "bcd88b04",
   "metadata": {
    "papermill": {
     "duration": 0.086208,
     "end_time": "2021-06-24T22:11:07.307440",
     "exception": false,
     "start_time": "2021-06-24T22:11:07.221232",
     "status": "completed"
    },
    "tags": []
   },
   "source": [
    "## Aggregated Metrics for May"
   ]
  },
  {
   "cell_type": "code",
   "execution_count": 11,
   "id": "9fe18b6a",
   "metadata": {
    "execution": {
     "iopub.execute_input": "2021-06-24T22:11:07.468151Z",
     "iopub.status.busy": "2021-06-24T22:11:07.466860Z",
     "iopub.status.idle": "2021-06-24T22:11:07.471554Z",
     "shell.execute_reply": "2021-06-24T22:11:07.470785Z"
    },
    "papermill": {
     "duration": 0.099451,
     "end_time": "2021-06-24T22:11:07.471758",
     "exception": false,
     "start_time": "2021-06-24T22:11:07.372307",
     "status": "completed"
    },
    "tags": []
   },
   "outputs": [
    {
     "data": {
      "text/markdown": [
       "\n",
       "Days with no service hours: 32\n"
      ],
      "text/plain": [
       "<IPython.core.display.Markdown object>"
      ]
     },
     "execution_count": 11,
     "metadata": {},
     "output_type": "execute_result"
    }
   ],
   "source": [
    "# TODO: \n",
    "\n",
    "# Markdown(f\"\"\"\n",
    "# Days when the active feed was expired: {n_expired_days[\"n\"]}\n",
    "# \"\"\")\n",
    "\n",
    "Markdown(f\"\"\"\n",
    "Days with no service hours: {n_expired_days[\"n\"]}\n",
    "\"\"\")\n"
   ]
  },
  {
   "cell_type": "code",
   "execution_count": 12,
   "id": "dcc6be77",
   "metadata": {
    "execution": {
     "iopub.execute_input": "2021-06-24T22:11:07.674953Z",
     "iopub.status.busy": "2021-06-24T22:11:07.673740Z",
     "iopub.status.idle": "2021-06-24T22:11:09.737229Z",
     "shell.execute_reply": "2021-06-24T22:11:09.739140Z"
    },
    "papermill": {
     "duration": 2.180273,
     "end_time": "2021-06-24T22:11:09.739407",
     "exception": false,
     "start_time": "2021-06-24T22:11:07.559134",
     "status": "completed"
    },
    "tags": []
   },
   "outputs": [
    {
     "data": {
      "image/png": "[encoded data removed]",
      "text/plain": [
       "<Figure size 640x480 with 1 Axes>"
      ]
     },
     "metadata": {},
     "output_type": "display_data"
    }
   ],
   "source": [
    "(\n",
    "    tbl_daily_service_hours\n",
    "    >> ggplot(aes(\"service_date\", \"ttl_service_hours2\"))\n",
    "    + geom_line()\n",
    "    + geom_point()\n",
    "    + theme(axis_text_x=element_text(angle=45, hjust=1))\n",
    "    + scale_x_datetime(date_breaks=\"1 week\")\n",
    "    + expand_limits(y=0)\n",
    "    + labs(y = \"Total service hours\", x = \"Service date\", title=\"Service hour per day\")\n",
    ").draw();"
   ]
  },
  {
   "cell_type": "markdown",
   "id": "49df02c9",
   "metadata": {
    "papermill": {
     "duration": 0.037543,
     "end_time": "2021-06-24T22:11:09.814787",
     "exception": false,
     "start_time": "2021-06-24T22:11:09.777244",
     "status": "completed"
    },
    "tags": []
   },
   "source": [
    "## Changes Since Previous Month"
   ]
  },
  {
   "cell_type": "code",
   "execution_count": 13,
   "id": "77b42675",
   "metadata": {
    "execution": {
     "iopub.execute_input": "2021-06-24T22:11:09.986982Z",
     "iopub.status.busy": "2021-06-24T22:11:09.983106Z",
     "iopub.status.idle": "2021-06-24T22:11:11.288522Z",
     "shell.execute_reply": "2021-06-24T22:11:11.289492Z"
    },
    "papermill": {
     "duration": 1.433616,
     "end_time": "2021-06-24T22:11:11.289826",
     "exception": false,
     "start_time": "2021-06-24T22:11:09.856210",
     "status": "completed"
    },
    "tags": []
   },
   "outputs": [
    {
     "data": {
      "image/png": "[encoded data removed]",
      "text/plain": [
       "<Figure size 640x480 with 1 Axes>"
      ]
     },
     "metadata": {},
     "output_type": "display_data"
    }
   ],
   "source": [
    "(\n",
    "    pd.concat(\n",
    "        [\n",
    "            tbl_stops_changed >> mutate(kind=\"Stops\"),\n",
    "            tbl_routes_changed >> mutate(kind=\"Routes\"),\n",
    "        ]\n",
    "    )\n",
    "    >> ggplot(aes(\"kind\", \"n\", fill=\"status\"))\n",
    "    + geom_col()\n",
    "    + labs(\n",
    "        x=\"GTFS schedule table\",\n",
    "        y=\"Number of IDs\",\n",
    "        title=f\"IDs Changed Between {START_MONTH_DAY} and {END_MONTH_DAY}\",\n",
    "    )\n",
    ").draw();"
   ]
  },
  {
   "cell_type": "markdown",
   "id": "70c908e5",
   "metadata": {
    "papermill": {
     "duration": 0.041102,
     "end_time": "2021-06-24T22:11:11.369180",
     "exception": false,
     "start_time": "2021-06-24T22:11:11.328078",
     "status": "completed"
    },
    "tags": []
   },
   "source": [
    "### (Alternative version using percentages)"
   ]
  },
  {
   "cell_type": "code",
   "execution_count": 14,
   "id": "1e9eb4ec",
   "metadata": {
    "execution": {
     "iopub.execute_input": "2021-06-24T22:11:11.522053Z",
     "iopub.status.busy": "2021-06-24T22:11:11.520739Z",
     "iopub.status.idle": "2021-06-24T22:11:12.794719Z",
     "shell.execute_reply": "2021-06-24T22:11:12.795646Z"
    },
    "papermill": {
     "duration": 1.388175,
     "end_time": "2021-06-24T22:11:12.795927",
     "exception": false,
     "start_time": "2021-06-24T22:11:11.407752",
     "status": "completed"
    },
    "tags": []
   },
   "outputs": [
    {
     "data": {
      "image/png": "[encoded data removed]",
      "text/plain": [
       "<Figure size 640x480 with 1 Axes>"
      ]
     },
     "metadata": {},
     "output_type": "display_data"
    }
   ],
   "source": [
    "(\n",
    "    pd.concat(\n",
    "        [\n",
    "            tbl_stops_changed >> mutate(kind=\"Stops\"),\n",
    "            tbl_routes_changed >> mutate(kind=\"Routes\"),\n",
    "        ]\n",
    "    )\n",
    "    >> ggplot(aes(\"kind\", \"percent\", fill=\"status\"))\n",
    "    + geom_col()\n",
    "    + labs(\n",
    "        x=\"GTFS schedule table\",\n",
    "        y=\"Percentage of IDs\",\n",
    "        title=f\"IDs Changed Between {START_MONTH_DAY} and {END_MONTH_DAY}\",\n",
    "    )\n",
    "    + scale_y_continuous(labels=percent_format, breaks=np.arange(0, 1.2, 0.2))\n",
    ").draw();"
   ]
  },
  {
   "cell_type": "markdown",
   "id": "349f65db",
   "metadata": {
    "papermill": {
     "duration": 0.044436,
     "end_time": "2021-06-24T22:11:12.881021",
     "exception": false,
     "start_time": "2021-06-24T22:11:12.836585",
     "status": "completed"
    },
    "tags": []
   },
   "source": [
    "## Consistency with the [California GTFS Minimum Guidelines](https://dot.ca.gov/cal-itp/california-minimum-general-transit-feed-specification-gtfs-guidelines) for the feed downloaded\n"
   ]
  },
  {
   "cell_type": "markdown",
   "id": "0e6f486f",
   "metadata": {
    "papermill": {
     "duration": 0.108161,
     "end_time": "2021-06-24T22:11:13.030359",
     "exception": false,
     "start_time": "2021-06-24T22:11:12.922198",
     "status": "completed"
    },
    "tags": []
   },
   "source": [
    "### Do the following files/fields exist?"
   ]
  },
  {
   "cell_type": "code",
   "execution_count": 15,
   "id": "b201cfb2",
   "metadata": {
    "execution": {
     "iopub.execute_input": "2021-06-24T22:11:13.244053Z",
     "iopub.status.busy": "2021-06-24T22:11:13.227077Z",
     "iopub.status.idle": "2021-06-24T22:11:13.248304Z",
     "shell.execute_reply": "2021-06-24T22:11:13.249087Z"
    },
    "papermill": {
     "duration": 0.101266,
     "end_time": "2021-06-24T22:11:13.249497",
     "exception": false,
     "start_time": "2021-06-24T22:11:13.148231",
     "status": "completed"
    },
    "tags": []
   },
   "outputs": [
    {
     "data": {
      "text/html": [
       "<div>\n",
       "<style scoped>\n",
       "    .dataframe tbody tr th:only-of-type {\n",
       "        vertical-align: middle;\n",
       "    }\n",
       "\n",
       "    .dataframe tbody tr th {\n",
       "        vertical-align: top;\n",
       "    }\n",
       "\n",
       "    .dataframe thead th {\n",
       "        text-align: right;\n",
       "    }\n",
       "</style>\n",
       "<table border=\"1\" class=\"dataframe\">\n",
       "  <thead>\n",
       "    <tr style=\"text-align: right;\">\n",
       "      <th></th>\n",
       "      <th>category</th>\n",
       "      <th>name</th>\n",
       "      <th>2021-05-02</th>\n",
       "      <th>2021-05-16</th>\n",
       "      <th>2021-05-30</th>\n",
       "    </tr>\n",
       "  </thead>\n",
       "  <tbody>\n",
       "    <tr>\n",
       "      <th>5</th>\n",
       "      <td>Visual display</td>\n",
       "      <td>shapes.txt</td>\n",
       "      <td>✅</td>\n",
       "      <td>✅</td>\n",
       "      <td>✅</td>\n",
       "    </tr>\n",
       "    <tr>\n",
       "      <th>3</th>\n",
       "      <td>Navigation</td>\n",
       "      <td>levels.txt</td>\n",
       "      <td></td>\n",
       "      <td></td>\n",
       "      <td></td>\n",
       "    </tr>\n",
       "    <tr>\n",
       "      <th>4</th>\n",
       "      <td>Navigation</td>\n",
       "      <td>pathways.txt</td>\n",
       "      <td></td>\n",
       "      <td></td>\n",
       "      <td></td>\n",
       "    </tr>\n",
       "    <tr>\n",
       "      <th>0</th>\n",
       "      <td>Fares</td>\n",
       "      <td>fare_leg_rules</td>\n",
       "      <td></td>\n",
       "      <td></td>\n",
       "      <td></td>\n",
       "    </tr>\n",
       "    <tr>\n",
       "      <th>1</th>\n",
       "      <td>Fares</td>\n",
       "      <td>fare_rules.txt</td>\n",
       "      <td>✅</td>\n",
       "      <td>✅</td>\n",
       "      <td>✅</td>\n",
       "    </tr>\n",
       "    <tr>\n",
       "      <th>2</th>\n",
       "      <td>Technical contacts</td>\n",
       "      <td>feed_info.txt</td>\n",
       "      <td>✅</td>\n",
       "      <td>✅</td>\n",
       "      <td>✅</td>\n",
       "    </tr>\n",
       "  </tbody>\n",
       "</table>\n",
       "</div>"
      ],
      "text/plain": [
       "             category            name 2021-05-02 2021-05-16 2021-05-30\n",
       "5      Visual display      shapes.txt          ✅          ✅          ✅\n",
       "3          Navigation      levels.txt                                 \n",
       "4          Navigation    pathways.txt                                 \n",
       "0               Fares  fare_leg_rules                                 \n",
       "1               Fares  fare_rules.txt          ✅          ✅          ✅\n",
       "2  Technical contacts   feed_info.txt          ✅          ✅          ✅"
      ]
     },
     "execution_count": 15,
     "metadata": {},
     "output_type": "execute_result"
    }
   ],
   "source": [
    "tbl_file_check"
   ]
  },
  {
   "cell_type": "markdown",
   "id": "6f73c58b",
   "metadata": {
    "papermill": {
     "duration": 0.143574,
     "end_time": "2021-06-24T22:11:13.465121",
     "exception": false,
     "start_time": "2021-06-24T22:11:13.321547",
     "status": "completed"
    },
    "tags": []
   },
   "source": [
    "### Validation Errors Observed"
   ]
  },
  {
   "cell_type": "code",
   "execution_count": 16,
   "id": "76e7548c",
   "metadata": {
    "execution": {
     "iopub.execute_input": "2021-06-24T22:11:13.673604Z",
     "iopub.status.busy": "2021-06-24T22:11:13.672521Z",
     "iopub.status.idle": "2021-06-24T22:11:13.677718Z",
     "shell.execute_reply": "2021-06-24T22:11:13.678456Z"
    },
    "papermill": {
     "duration": 0.124998,
     "end_time": "2021-06-24T22:11:13.678715",
     "exception": false,
     "start_time": "2021-06-24T22:11:13.553717",
     "status": "completed"
    },
    "tags": []
   },
   "outputs": [
    {
     "data": {
      "text/markdown": [
       "No validation error observed in your feed."
      ],
      "text/plain": [
       "<IPython.core.display.Markdown object>"
      ]
     },
     "metadata": {},
     "output_type": "display_data"
    }
   ],
   "source": [
    "if tbl_validation_notices.shape[0] == 0:\n",
    "    display(Markdown(\"No validation error observed in your feed.\"))\n",
    "else:    \n",
    "    display(tbl_validation_notices)"
   ]
  },
  {
   "cell_type": "markdown",
   "id": "a277589b",
   "metadata": {
    "papermill": {
     "duration": 0.145519,
     "end_time": "2021-06-24T22:11:13.999442",
     "exception": false,
     "start_time": "2021-06-24T22:11:13.853923",
     "status": "completed"
    },
    "tags": []
   },
   "source": [
    "For more information about Cal-ITP, including the [Minimum GTFS Guidelines](https://dot.ca.gov/cal-itp/california-minimum-general-transit-feed-specification-gtfs-guidelines) and our [Transit Data Helpdesk](https://dot.ca.gov/programs/rail-and-mass-transportation/gtfs/helpdesk), contact [GTFSRT@dot.ca.gov](mailto:GTFSRT@dot.ca.gov)."
   ]
  }
 ],
 "metadata": {
  "kernelspec": {
   "display_name": "venv-calitp-py",
   "language": "python",
   "name": "venv-calitp-py"
  },
  "language_info": {
   "codemirror_mode": {
    "name": "ipython",
    "version": 3
   },
   "file_extension": ".py",
   "mimetype": "text/x-python",
   "name": "python",
   "nbconvert_exporter": "python",
   "pygments_lexer": "ipython3",
   "version": "3.8.5"
  },
  "papermill": {
   "default_parameters": {},
   "duration": 55.302196,
   "end_time": "2021-06-24T22:11:16.734920",
   "environment_variables": {},
   "exception": null,
   "input_path": "report.ipynb",
   "output_path": "output/62/report.ipynb",
   "parameters": {
    "CALITP_ITP_ID": 62,
    "CALITP_URL_NUMBER": 0,
    "DEBUG": false,
    "END_DATE": "2021-06-01",
    "START_DATE": "2021-05-01"
   },
   "start_time": "2021-06-24T22:10:21.432724",
   "version": "2.3.3"
  }
 },
 "nbformat": 4,
 "nbformat_minor": 5
}