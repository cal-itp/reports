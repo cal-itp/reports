{
 "cells": [
  {
   "cell_type": "markdown",
   "id": "saved-platinum",
   "metadata": {
    "papermill": {
     "duration": 0.0235,
     "end_time": "2021-06-07T18:37:39.048826",
     "exception": false,
     "start_time": "2021-06-07T18:37:39.025326",
     "status": "completed"
    },
    "tags": [
     "hide"
    ]
   },
   "source": [
    "# Setup"
   ]
  },
  {
   "cell_type": "code",
   "execution_count": 1,
   "id": "amazing-gibson",
   "metadata": {
    "execution": {
     "iopub.execute_input": "2021-06-07T18:37:39.133636Z",
     "iopub.status.busy": "2021-06-07T18:37:39.128276Z",
     "iopub.status.idle": "2021-06-07T18:37:44.764326Z",
     "shell.execute_reply": "2021-06-07T18:37:44.764933Z"
    },
    "papermill": {
     "duration": 5.696666,
     "end_time": "2021-06-07T18:37:44.765093",
     "exception": false,
     "start_time": "2021-06-07T18:37:39.068427",
     "status": "completed"
    },
    "tags": [
     "hide"
    ]
   },
   "outputs": [],
   "source": [
    "import pandas as pd\n",
    "\n",
    "from io import StringIO\n",
    "from utils import tbl\n",
    "from datetime import date\n",
    "from siuba import *\n",
    "from plotnine import *\n",
    "\n",
    "\n",
    "START_DATE = \"2021-04-24\"\n",
    "END_DATE = \"2021-05-24\"\n",
    "DATE_TODAY=date.today()\n",
    "\n",
    "WEEK_MARKERS = pd.date_range(START_DATE, END_DATE, freq=\"W\").astype(str).tolist()"
   ]
  },
  {
   "cell_type": "code",
   "execution_count": 2,
   "id": "attempted-arrangement",
   "metadata": {
    "execution": {
     "iopub.execute_input": "2021-06-07T18:37:44.820334Z",
     "iopub.status.busy": "2021-06-07T18:37:44.818899Z",
     "iopub.status.idle": "2021-06-07T18:37:44.825107Z",
     "shell.execute_reply": "2021-06-07T18:37:44.826695Z"
    },
    "papermill": {
     "duration": 0.044327,
     "end_time": "2021-06-07T18:37:44.826989",
     "exception": false,
     "start_time": "2021-06-07T18:37:44.782662",
     "status": "completed"
    },
    "tags": [
     "parameters",
     "hide"
    ]
   },
   "outputs": [],
   "source": [
    "CALITP_ITP_ID=256\n",
    "CALITP_URL_NUMBER=0"
   ]
  },
  {
   "cell_type": "code",
   "execution_count": 3,
   "id": "shared-kuwait",
   "metadata": {
    "execution": {
     "iopub.execute_input": "2021-06-07T18:37:44.903537Z",
     "iopub.status.busy": "2021-06-07T18:37:44.902389Z",
     "iopub.status.idle": "2021-06-07T18:37:44.905217Z",
     "shell.execute_reply": "2021-06-07T18:37:44.904648Z"
    },
    "papermill": {
     "duration": 0.038682,
     "end_time": "2021-06-07T18:37:44.905341",
     "exception": false,
     "start_time": "2021-06-07T18:37:44.866659",
     "status": "completed"
    },
    "tags": [
     "injected-parameters"
    ]
   },
   "outputs": [],
   "source": [
    "# Parameters\n",
    "CALITP_ITP_ID = 116\n",
    "CALITP_URL_NUMBER = 0\n"
   ]
  },
  {
   "cell_type": "code",
   "execution_count": 4,
   "id": "induced-lightning",
   "metadata": {
    "execution": {
     "iopub.execute_input": "2021-06-07T18:37:45.001341Z",
     "iopub.status.busy": "2021-06-07T18:37:45.000278Z",
     "iopub.status.idle": "2021-06-07T18:37:45.006843Z",
     "shell.execute_reply": "2021-06-07T18:37:45.007764Z"
    },
    "papermill": {
     "duration": 0.075919,
     "end_time": "2021-06-07T18:37:45.008040",
     "exception": false,
     "start_time": "2021-06-07T18:37:44.932121",
     "status": "completed"
    },
    "tags": [
     "hide"
    ]
   },
   "outputs": [],
   "source": [
    "# Convenience functions ----\n",
    "\n",
    "filter_start = filter(\n",
    "    _.calitp_extracted_at <= START_DATE,\n",
    "    _.calitp_deleted_at.fillna(\"2099-01-01\") > START_DATE,\n",
    ")\n",
    "\n",
    "filter_end = filter(\n",
    "    _.calitp_extracted_at <= END_DATE,\n",
    "    _.calitp_deleted_at.fillna(\"2099-01-01\") > END_DATE,\n",
    ")\n",
    "\n",
    "filter_itp = filter(\n",
    "    _.calitp_itp_id == CALITP_ITP_ID, _.calitp_url_number == CALITP_URL_NUMBER\n",
    ")\n",
    "\n",
    "collect_to_dict = (\n",
    "    collect()\n",
    "    >> pipe(_.to_dict(orient=\"records\")[0])\n",
    ")\n",
    "\n",
    "\n",
    "select_rm_calitp = select(\n",
    "    -_.calitp_itp_id,\n",
    "    -_.calitp_url_number,\n",
    "    -_.calitp_hash,\n",
    "    -_.calitp_extracted_at,\n",
    "    -_.calitp_deleted_at,\n",
    ")\n",
    "\n",
    "\n",
    "def query_id_changes(start_table, end_table, id_vars):\n",
    "    \"\"\"Calculate id variables that are removed, added, or unchanged between tables.\n",
    "    \n",
    "    It works by adding a special column to each table, performing a full join,\n",
    "    then checking where the special column is null.\n",
    "    \"\"\"\n",
    "    sym_id_vars = [_[k] for k in id_vars]\n",
    "\n",
    "    is_in_start = start_table >> select(*id_vars) >> mutate(is_in_start=True)\n",
    "    is_in_end = end_table >> select(*id_vars) >> mutate(is_in_end=True)\n",
    "\n",
    "    baseline = start_table >> count(*id_vars) >> rename(n_baseline=\"n\")\n",
    "    tallies = (\n",
    "        is_in_start\n",
    "        >> full_join(_, is_in_end, id_vars)\n",
    "        >> count(*sym_id_vars, _.is_in_start, _.is_in_end)\n",
    "        >> mutate(\n",
    "            status=case_when(\n",
    "                _,\n",
    "                {\n",
    "                    _.is_in_end.isna(): \"Removed\",\n",
    "                    _.is_in_start.isna(): \"Added\",\n",
    "                    True: \"Unchanged\",\n",
    "                },\n",
    "            )\n",
    "        )\n",
    "        >> count(*sym_id_vars[:-1], _.status)\n",
    "        >> group_by(*sym_id_vars[:-1])\n",
    "        >> mutate(percent=_.n / _.n.sum())\n",
    "    )\n",
    "\n",
    "    return tallies"
   ]
  },
  {
   "cell_type": "code",
   "execution_count": 5,
   "id": "becoming-washington",
   "metadata": {
    "execution": {
     "iopub.execute_input": "2021-06-07T18:37:45.054572Z",
     "iopub.status.busy": "2021-06-07T18:37:45.053932Z",
     "iopub.status.idle": "2021-06-07T18:38:02.354154Z",
     "shell.execute_reply": "2021-06-07T18:38:02.353641Z"
    },
    "papermill": {
     "duration": 17.326452,
     "end_time": "2021-06-07T18:38:02.354288",
     "exception": false,
     "start_time": "2021-06-07T18:37:45.027836",
     "status": "completed"
    },
    "tags": [
     "hide"
    ]
   },
   "outputs": [],
   "source": [
    "# Data ====\n",
    "# 1. High level feed info ----\n",
    "feed_info = (\n",
    "    tbl.gtfs_schedule_type2_feed_info()\n",
    "    >> filter_end\n",
    "    >> filter_itp\n",
    "    >> select_rm_calitp\n",
    "    >> collect_to_dict\n",
    ")\n",
    "\n",
    "_n_routes = (\n",
    "    tbl.gtfs_schedule_type2_routes() >> filter_end >> filter_itp >> count() >> collect()\n",
    ")\n",
    "_n_stops = (\n",
    "    tbl.gtfs_schedule_type2_stops() >> filter_end >> filter_itp >> count() >> collect()\n",
    ")\n",
    "\n",
    "feed_info[\"n_routes\"] = int(_n_routes.loc[0, \"n\"])\n",
    "feed_info[\"n_stops\"] = int(_n_stops.loc[0, \"n\"])\n",
    "\n",
    "status = (\n",
    "    tbl.views_gtfs_status_latest()\n",
    "    >> filter(_.itp_id == CALITP_ITP_ID, _.url_number == CALITP_URL_NUMBER)\n",
    "    >> select(-_.url_number, -_.status)\n",
    "    >> select_rm_calitp\n",
    "    >> collect_to_dict\n",
    ")\n",
    "\n",
    "# 2. Monthly metrics ----\n",
    "# Service hours per day. Note that the queried table calculates service\n",
    "# hours per service id, so we need to sum across service ids for the day\n",
    "tbl_daily_service_hours = (\n",
    "    tbl.views_gtfs_schedule_service_daily_metrics()\n",
    "    >> filter_itp\n",
    "    >> filter(_.service_date.between(START_DATE, END_DATE))\n",
    "    >> collect()\n",
    "    >> group_by(_.service_date)\n",
    "    >> summarize(ttl_service_hours=_.ttl_service_hours.sum())\n",
    "    >> mutate(\n",
    "        ttl_service_hours=_.ttl_service_hours.astype(int),\n",
    "        service_date=_.service_date.astype(\"datetime64[ns]\"),\n",
    "    )\n",
    ")\n",
    "\n",
    "# number of days where a feed did not have any trips in service\n",
    "n_expired_days = (\n",
    "    pd.date_range(START_DATE, END_DATE).to_frame(index=False, name=\"service_date\")\n",
    "    >> anti_join(_, tbl_daily_service_hours >> distinct(_.service_date), \"service_date\")\n",
    "    >> pipe(lambda d: {\"n\": d.shape[0]})\n",
    ")\n",
    "\n",
    "# 3. Stop and Route ID Changes ----\n",
    "\n",
    "_tbl_stops_start = tbl.gtfs_schedule_type2_stops() >> filter_itp >> filter_start\n",
    "_tbl_stops_end = tbl.gtfs_schedule_type2_stops() >> filter_itp >> filter_end\n",
    "tbl_stops_changed = (\n",
    "    query_id_changes(_tbl_stops_start, _tbl_stops_end, [\"stop_id\"]) >> collect()\n",
    ")\n",
    "\n",
    "_tbl_routes_start = tbl.gtfs_schedule_type2_routes() >> filter_start\n",
    "_tbl_routes_end = tbl.gtfs_schedule_type2_routes() >> filter_end\n",
    "tbl_routes_changed = (\n",
    "    query_id_changes(_tbl_routes_start, _tbl_routes_end, [\"route_id\"]) >> collect()\n",
    ")"
   ]
  },
  {
   "cell_type": "code",
   "execution_count": 6,
   "id": "ordered-soccer",
   "metadata": {
    "execution": {
     "iopub.execute_input": "2021-06-07T18:38:02.431843Z",
     "iopub.status.busy": "2021-06-07T18:38:02.430418Z",
     "iopub.status.idle": "2021-06-07T18:38:06.685466Z",
     "shell.execute_reply": "2021-06-07T18:38:06.684653Z"
    },
    "papermill": {
     "duration": 4.303499,
     "end_time": "2021-06-07T18:38:06.685605",
     "exception": false,
     "start_time": "2021-06-07T18:38:02.382106",
     "status": "completed"
    },
    "tags": [
     "hide"
    ]
   },
   "outputs": [],
   "source": [
    "# 4. Feed files being checked for ----\n",
    "\n",
    "file_categories = pd.DataFrame(\n",
    "    {\n",
    "        \"shapes.txt\": \"Visual display\",\n",
    "        \"pathways.txt\": \"Navigation\",\n",
    "        \"levels.txt\": \"Navigation\",\n",
    "        \"fare_rules.txt\": \"Fares\",\n",
    "        \"fare_leg_rules\": \"Fares\",\n",
    "        \"feed_info.txt\": \"Technical contacts\",\n",
    "    }.items(),\n",
    "    columns=[\"name\", \"category\"],\n",
    ")\n",
    "\n",
    "importance = [\"Visual display\", \"Navigation\", \"Fares\", \"Technical contacts\"]\n",
    "\n",
    "tbl_file_check = (\n",
    "    tbl.gtfs_schedule_history_calitp_files_updates()\n",
    "    >> filter_itp\n",
    "    >> filter(_.calitp_extracted_at.isin(WEEK_MARKERS))\n",
    "    >> select(_.name, _.calitp_extracted_at)\n",
    "    >> collect()\n",
    "    >> right_join(_, file_categories, [\"name\"])\n",
    "    >> mutate(\n",
    "        calitp_extracted_at=_.calitp_extracted_at.fillna(\"missing\").astype(str),\n",
    "        success=\"✅\",\n",
    "    )\n",
    "    >> spread(_.calitp_extracted_at, _.success)\n",
    "    >> select(-_.missing)\n",
    "    >> arrange(_.category.apply(importance.index))\n",
    "    >> select(_.category, _.contains(\"\"))\n",
    "    >> pipe(_.fillna(\"\"))\n",
    ")\n",
    "\n",
    "tbl_validation_notices = (\n",
    "    tbl.views_validation_notices()\n",
    "    >> filter_itp\n",
    "    >> filter(_.severity == \"ERROR\")\n",
    "    >> count(_.code, _.severity)\n",
    "    >> collect()\n",
    ")"
   ]
  },
  {
   "cell_type": "markdown",
   "id": "separate-avenue",
   "metadata": {
    "papermill": {
     "duration": 0.019176,
     "end_time": "2021-06-07T18:38:06.727413",
     "exception": false,
     "start_time": "2021-06-07T18:38:06.708237",
     "status": "completed"
    },
    "tags": [
     "hide"
    ]
   },
   "source": [
    "## Dump data"
   ]
  },
  {
   "cell_type": "code",
   "execution_count": 7,
   "id": "interior-compression",
   "metadata": {
    "execution": {
     "iopub.execute_input": "2021-06-07T18:38:06.779133Z",
     "iopub.status.busy": "2021-06-07T18:38:06.777979Z",
     "iopub.status.idle": "2021-06-07T18:38:06.804035Z",
     "shell.execute_reply": "2021-06-07T18:38:06.804953Z"
    },
    "papermill": {
     "duration": 0.058471,
     "end_time": "2021-06-07T18:38:06.805298",
     "exception": false,
     "start_time": "2021-06-07T18:38:06.746827",
     "status": "completed"
    },
    "tags": [
     "hide"
    ]
   },
   "outputs": [],
   "source": [
    "import json\n",
    "import shutil\n",
    "\n",
    "from pathlib import Path\n",
    "\n",
    "out_dir = Path(f\"output/{CALITP_ITP_ID}_{CALITP_URL_NUMBER}/data\")\n",
    "out_dir.mkdir(parents=True, exist_ok=True)\n",
    "\n",
    "json.dump(feed_info, open(out_dir / \"1_feed_info.json\", \"w\"))\n",
    "json.dump(status, open(out_dir / \"1_status.json\", \"w\"))\n",
    "\n",
    "tbl_daily_service_hours.to_json(out_dir / \"2_daily_service_hours.json\", orient=\"records\")\n",
    "json.dump(n_expired_days, open(out_dir / \"2_n_expired_days.json\", \"w\"))\n",
    "\n",
    "tbl_stops_changed.to_json(out_dir / \"3_stops_changed.json\", orient=\"records\")\n",
    "tbl_routes_changed.to_json(out_dir / \"3_routes_changed.json\", orient=\"records\")\n",
    "tbl_file_check.to_json(out_dir / \"4_file_check.json\", orient=\"records\")\n",
    "tbl_validation_notices.to_json(out_dir / \"4_validation_notices.json\", orient=\"records\")\n"
   ]
  },
  {
   "cell_type": "markdown",
   "id": "entire-thirty",
   "metadata": {
    "papermill": {
     "duration": 0.038967,
     "end_time": "2021-06-07T18:38:06.875169",
     "exception": false,
     "start_time": "2021-06-07T18:38:06.836202",
     "status": "completed"
    },
    "tags": []
   },
   "source": [
    "# GTFS Schedule Report"
   ]
  },
  {
   "cell_type": "markdown",
   "id": "infectious-match",
   "metadata": {
    "papermill": {
     "duration": 0.024231,
     "end_time": "2021-06-07T18:38:06.923946",
     "exception": false,
     "start_time": "2021-06-07T18:38:06.899715",
     "status": "completed"
    },
    "tags": []
   },
   "source": [
    "# Example Juniper Report"
   ]
  },
  {
   "cell_type": "code",
   "execution_count": 8,
   "id": "derived-survivor",
   "metadata": {
    "execution": {
     "iopub.execute_input": "2021-06-07T18:38:06.993631Z",
     "iopub.status.busy": "2021-06-07T18:38:06.992072Z",
     "iopub.status.idle": "2021-06-07T18:38:06.997172Z",
     "shell.execute_reply": "2021-06-07T18:38:06.997960Z"
    },
    "papermill": {
     "duration": 0.04471,
     "end_time": "2021-06-07T18:38:06.998165",
     "exception": false,
     "start_time": "2021-06-07T18:38:06.953455",
     "status": "completed"
    },
    "tags": []
   },
   "outputs": [
    {
     "data": {
      "text/markdown": [
       "\n",
       "Transit provider name: Fresno Public Transportation (FAX)\n",
       "\n",
       "Date generated: 2021-06-07\n"
      ],
      "text/plain": [
       "<IPython.core.display.Markdown object>"
      ]
     },
     "execution_count": 8,
     "metadata": {},
     "output_type": "execute_result"
    }
   ],
   "source": [
    "from IPython.display import Markdown\n",
    "\n",
    "Markdown(f\"\"\"\n",
    "Transit provider name: {feed_info[\"feed_publisher_name\"]}\n",
    "\n",
    "Date generated: {DATE_TODAY}\n",
    "\"\"\")"
   ]
  },
  {
   "cell_type": "markdown",
   "id": "improving-platform",
   "metadata": {
    "papermill": {
     "duration": 0.025793,
     "end_time": "2021-06-07T18:38:07.059581",
     "exception": false,
     "start_time": "2021-06-07T18:38:07.033788",
     "status": "completed"
    },
    "tags": []
   },
   "source": [
    "This is a monthly report, generated by the California Integrated Travel Project (Cal-ITP), summarizing issues discovered by MobilityData’s GTFS Validator. This report is available for viewing by the general public to support continuous improvement of GTFS data and the experience of transit passengers. "
   ]
  },
  {
   "cell_type": "markdown",
   "id": "future-switzerland",
   "metadata": {
    "papermill": {
     "duration": 0.057334,
     "end_time": "2021-06-07T18:38:07.153918",
     "exception": false,
     "start_time": "2021-06-07T18:38:07.096584",
     "status": "completed"
    },
    "tags": []
   },
   "source": [
    "## Overview"
   ]
  },
  {
   "cell_type": "code",
   "execution_count": 9,
   "id": "challenging-mining",
   "metadata": {
    "execution": {
     "iopub.execute_input": "2021-06-07T18:38:07.315152Z",
     "iopub.status.busy": "2021-06-07T18:38:07.306369Z",
     "iopub.status.idle": "2021-06-07T18:38:07.328689Z",
     "shell.execute_reply": "2021-06-07T18:38:07.311263Z"
    },
    "papermill": {
     "duration": 0.11833,
     "end_time": "2021-06-07T18:38:07.330082",
     "exception": false,
     "start_time": "2021-06-07T18:38:07.211752",
     "status": "completed"
    },
    "tags": []
   },
   "outputs": [
    {
     "data": {
      "text/markdown": [
       "\n",
       "Feed location: https://gis4u.fresno.gov/downloads/zip/fax_gtfs.zip\n",
       "\n",
       "Metrics for the most recent published version of the feed:\n",
       "\n",
       "* Date published: Prod 6.7.21_20210513\n",
       "* Number of routes in any service: 17\n",
       "* Number of stops in service: 1503\n"
      ],
      "text/plain": [
       "<IPython.core.display.Markdown object>"
      ]
     },
     "execution_count": 9,
     "metadata": {},
     "output_type": "execute_result"
    }
   ],
   "source": [
    "Markdown(f\"\"\"\n",
    "Feed location: {status[\"gtfs_schedule_url\"]}\n",
    "\n",
    "Metrics for the most recent published version of the feed:\n",
    "\n",
    "* Date published: {feed_info[\"feed_version\"]}\n",
    "* Number of routes in any service: {feed_info[\"n_routes\"]}\n",
    "* Number of stops in service: {feed_info[\"n_stops\"]}\n",
    "\"\"\")"
   ]
  },
  {
   "cell_type": "markdown",
   "id": "human-livestock",
   "metadata": {
    "papermill": {
     "duration": 0.075018,
     "end_time": "2021-06-07T18:38:07.476842",
     "exception": false,
     "start_time": "2021-06-07T18:38:07.401824",
     "status": "completed"
    },
    "tags": []
   },
   "source": [
    "## Aggregated Metrics for May"
   ]
  },
  {
   "cell_type": "code",
   "execution_count": 10,
   "id": "applicable-transparency",
   "metadata": {
    "execution": {
     "iopub.execute_input": "2021-06-07T18:38:07.598285Z",
     "iopub.status.busy": "2021-06-07T18:38:07.592572Z",
     "iopub.status.idle": "2021-06-07T18:38:07.602717Z",
     "shell.execute_reply": "2021-06-07T18:38:07.594181Z"
    },
    "papermill": {
     "duration": 0.069283,
     "end_time": "2021-06-07T18:38:07.603040",
     "exception": false,
     "start_time": "2021-06-07T18:38:07.533757",
     "status": "completed"
    },
    "tags": []
   },
   "outputs": [
    {
     "data": {
      "text/markdown": [
       "\n",
       "Days when the active feed was expired: 0\n"
      ],
      "text/plain": [
       "<IPython.core.display.Markdown object>"
      ]
     },
     "execution_count": 10,
     "metadata": {},
     "output_type": "execute_result"
    }
   ],
   "source": [
    "Markdown(f\"\"\"\n",
    "Days when the active feed was expired: {n_expired_days[\"n\"]}\n",
    "\"\"\")"
   ]
  },
  {
   "cell_type": "code",
   "execution_count": 11,
   "id": "australian-banana",
   "metadata": {
    "execution": {
     "iopub.execute_input": "2021-06-07T18:38:07.854682Z",
     "iopub.status.busy": "2021-06-07T18:38:07.810314Z",
     "iopub.status.idle": "2021-06-07T18:38:08.282654Z",
     "shell.execute_reply": "2021-06-07T18:38:08.283096Z"
    },
    "papermill": {
     "duration": 0.615413,
     "end_time": "2021-06-07T18:38:08.283244",
     "exception": false,
     "start_time": "2021-06-07T18:38:07.667831",
     "status": "completed"
    },
    "tags": []
   },
   "outputs": [
    {
     "data": {
      "image/png": "[encoded data removed]",
      "text/plain": [
       "<Figure size 640x480 with 1 Axes>"
      ]
     },
     "metadata": {},
     "output_type": "display_data"
    },
    {
     "data": {
      "text/plain": [
       "<ggplot: (-9223372036569433726)>"
      ]
     },
     "execution_count": 11,
     "metadata": {},
     "output_type": "execute_result"
    }
   ],
   "source": [
    "(\n",
    "    tbl_daily_service_hours\n",
    "    >> ggplot(aes(\"service_date\", \"ttl_service_hours\"))\n",
    "    + geom_line()\n",
    "    + theme(axis_text_x=element_text(angle=45, hjust=1))\n",
    "    + scale_x_datetime(date_breaks=\"1 week\")\n",
    "    + expand_limits(y=0)\n",
    ")"
   ]
  },
  {
   "cell_type": "markdown",
   "id": "plain-moldova",
   "metadata": {
    "papermill": {
     "duration": 0.048808,
     "end_time": "2021-06-07T18:38:08.364193",
     "exception": false,
     "start_time": "2021-06-07T18:38:08.315385",
     "status": "completed"
    },
    "tags": []
   },
   "source": [
    "## Changes Since Previous Month"
   ]
  },
  {
   "cell_type": "code",
   "execution_count": 12,
   "id": "valued-individual",
   "metadata": {
    "execution": {
     "iopub.execute_input": "2021-06-07T18:38:08.482305Z",
     "iopub.status.busy": "2021-06-07T18:38:08.480723Z",
     "iopub.status.idle": "2021-06-07T18:38:09.257229Z",
     "shell.execute_reply": "2021-06-07T18:38:09.258054Z"
    },
    "papermill": {
     "duration": 0.860093,
     "end_time": "2021-06-07T18:38:09.258272",
     "exception": false,
     "start_time": "2021-06-07T18:38:08.398179",
     "status": "completed"
    },
    "tags": []
   },
   "outputs": [
    {
     "data": {
      "image/png": "[encoded data removed]",
      "text/plain": [
       "<Figure size 640x480 with 1 Axes>"
      ]
     },
     "metadata": {},
     "output_type": "display_data"
    },
    {
     "data": {
      "text/plain": [
       "<ggplot: (285304454)>"
      ]
     },
     "execution_count": 12,
     "metadata": {},
     "output_type": "execute_result"
    }
   ],
   "source": [
    "(\n",
    "    pd.concat(\n",
    "        [\n",
    "            tbl_stops_changed >> mutate(kind=\"Stops\"),\n",
    "            tbl_routes_changed >> mutate(kind=\"Routes\"),\n",
    "        ]\n",
    "    )\n",
    "    >> ggplot(aes(\"kind\", \"n\", fill=\"status\"))\n",
    "    + geom_col()\n",
    "    + labs(x=\"Kind of ID\", y=\"Number of Changes\")\n",
    ")"
   ]
  },
  {
   "cell_type": "markdown",
   "id": "spread-sound",
   "metadata": {
    "papermill": {
     "duration": 0.055272,
     "end_time": "2021-06-07T18:38:09.344991",
     "exception": false,
     "start_time": "2021-06-07T18:38:09.289719",
     "status": "completed"
    },
    "tags": []
   },
   "source": [
    "### (Alternative version using percentages)"
   ]
  },
  {
   "cell_type": "code",
   "execution_count": 13,
   "id": "informational-burlington",
   "metadata": {
    "execution": {
     "iopub.execute_input": "2021-06-07T18:38:09.445662Z",
     "iopub.status.busy": "2021-06-07T18:38:09.440818Z",
     "iopub.status.idle": "2021-06-07T18:38:10.138672Z",
     "shell.execute_reply": "2021-06-07T18:38:10.139174Z"
    },
    "papermill": {
     "duration": 0.751945,
     "end_time": "2021-06-07T18:38:10.139340",
     "exception": false,
     "start_time": "2021-06-07T18:38:09.387395",
     "status": "completed"
    },
    "tags": []
   },
   "outputs": [
    {
     "data": {
      "image/png": "[encoded data removed]",
      "text/plain": [
       "<Figure size 640x480 with 1 Axes>"
      ]
     },
     "metadata": {},
     "output_type": "display_data"
    },
    {
     "data": {
      "text/plain": [
       "<ggplot: (-9223372036527631237)>"
      ]
     },
     "execution_count": 13,
     "metadata": {},
     "output_type": "execute_result"
    }
   ],
   "source": [
    "(\n",
    "    pd.concat(\n",
    "        [\n",
    "            tbl_stops_changed >> mutate(kind=\"Stops\"),\n",
    "            tbl_routes_changed >> mutate(kind=\"Routes\"),\n",
    "        ]\n",
    "    )\n",
    "    >> ggplot(aes(\"kind\", \"percent\", fill=\"status\"))\n",
    "    + geom_col()\n",
    "    + labs(x=\"Kind of ID\", y=\"Percent of Changes\")\n",
    ")"
   ]
  },
  {
   "cell_type": "markdown",
   "id": "danish-wrist",
   "metadata": {
    "papermill": {
     "duration": 0.041801,
     "end_time": "2021-06-07T18:38:10.226161",
     "exception": false,
     "start_time": "2021-06-07T18:38:10.184360",
     "status": "completed"
    },
    "tags": []
   },
   "source": [
    "## Consistency with the California GTFS Minimum Guidelines for the feed downloaded\n"
   ]
  },
  {
   "cell_type": "code",
   "execution_count": 14,
   "id": "surprised-speaker",
   "metadata": {
    "execution": {
     "iopub.execute_input": "2021-06-07T18:38:10.333506Z",
     "iopub.status.busy": "2021-06-07T18:38:10.331254Z",
     "iopub.status.idle": "2021-06-07T18:38:10.365846Z",
     "shell.execute_reply": "2021-06-07T18:38:10.364296Z"
    },
    "papermill": {
     "duration": 0.098296,
     "end_time": "2021-06-07T18:38:10.366243",
     "exception": false,
     "start_time": "2021-06-07T18:38:10.267947",
     "status": "completed"
    },
    "tags": []
   },
   "outputs": [
    {
     "data": {
      "text/html": [
       "<div>\n",
       "<style scoped>\n",
       "    .dataframe tbody tr th:only-of-type {\n",
       "        vertical-align: middle;\n",
       "    }\n",
       "\n",
       "    .dataframe tbody tr th {\n",
       "        vertical-align: top;\n",
       "    }\n",
       "\n",
       "    .dataframe thead th {\n",
       "        text-align: right;\n",
       "    }\n",
       "</style>\n",
       "<table border=\"1\" class=\"dataframe\">\n",
       "  <thead>\n",
       "    <tr style=\"text-align: right;\">\n",
       "      <th></th>\n",
       "      <th>category</th>\n",
       "      <th>name</th>\n",
       "      <th>2021-04-25</th>\n",
       "      <th>2021-05-02</th>\n",
       "      <th>2021-05-09</th>\n",
       "      <th>2021-05-16</th>\n",
       "      <th>2021-05-23</th>\n",
       "    </tr>\n",
       "  </thead>\n",
       "  <tbody>\n",
       "    <tr>\n",
       "      <th>5</th>\n",
       "      <td>Visual display</td>\n",
       "      <td>shapes.txt</td>\n",
       "      <td>✅</td>\n",
       "      <td>✅</td>\n",
       "      <td>✅</td>\n",
       "      <td>✅</td>\n",
       "      <td>✅</td>\n",
       "    </tr>\n",
       "    <tr>\n",
       "      <th>3</th>\n",
       "      <td>Navigation</td>\n",
       "      <td>levels.txt</td>\n",
       "      <td></td>\n",
       "      <td></td>\n",
       "      <td></td>\n",
       "      <td></td>\n",
       "      <td></td>\n",
       "    </tr>\n",
       "    <tr>\n",
       "      <th>4</th>\n",
       "      <td>Navigation</td>\n",
       "      <td>pathways.txt</td>\n",
       "      <td></td>\n",
       "      <td></td>\n",
       "      <td></td>\n",
       "      <td></td>\n",
       "      <td></td>\n",
       "    </tr>\n",
       "    <tr>\n",
       "      <th>0</th>\n",
       "      <td>Fares</td>\n",
       "      <td>fare_leg_rules</td>\n",
       "      <td></td>\n",
       "      <td></td>\n",
       "      <td></td>\n",
       "      <td></td>\n",
       "      <td></td>\n",
       "    </tr>\n",
       "    <tr>\n",
       "      <th>1</th>\n",
       "      <td>Fares</td>\n",
       "      <td>fare_rules.txt</td>\n",
       "      <td>✅</td>\n",
       "      <td>✅</td>\n",
       "      <td>✅</td>\n",
       "      <td>✅</td>\n",
       "      <td>✅</td>\n",
       "    </tr>\n",
       "    <tr>\n",
       "      <th>2</th>\n",
       "      <td>Technical contacts</td>\n",
       "      <td>feed_info.txt</td>\n",
       "      <td>✅</td>\n",
       "      <td>✅</td>\n",
       "      <td>✅</td>\n",
       "      <td>✅</td>\n",
       "      <td>✅</td>\n",
       "    </tr>\n",
       "  </tbody>\n",
       "</table>\n",
       "</div>"
      ],
      "text/plain": [
       "             category            name 2021-04-25 2021-05-02 2021-05-09  \\\n",
       "5      Visual display      shapes.txt          ✅          ✅          ✅   \n",
       "3          Navigation      levels.txt                                    \n",
       "4          Navigation    pathways.txt                                    \n",
       "0               Fares  fare_leg_rules                                    \n",
       "1               Fares  fare_rules.txt          ✅          ✅          ✅   \n",
       "2  Technical contacts   feed_info.txt          ✅          ✅          ✅   \n",
       "\n",
       "  2021-05-16 2021-05-23  \n",
       "5          ✅          ✅  \n",
       "3                        \n",
       "4                        \n",
       "0                        \n",
       "1          ✅          ✅  \n",
       "2          ✅          ✅  "
      ]
     },
     "execution_count": 14,
     "metadata": {},
     "output_type": "execute_result"
    }
   ],
   "source": [
    "tbl_file_check"
   ]
  },
  {
   "cell_type": "markdown",
   "id": "local-cocktail",
   "metadata": {
    "papermill": {
     "duration": 0.038354,
     "end_time": "2021-06-07T18:38:10.442406",
     "exception": false,
     "start_time": "2021-06-07T18:38:10.404052",
     "status": "completed"
    },
    "tags": []
   },
   "source": [
    "### Validation Errors Observed"
   ]
  },
  {
   "cell_type": "code",
   "execution_count": 15,
   "id": "expressed-canadian",
   "metadata": {
    "execution": {
     "iopub.execute_input": "2021-06-07T18:38:10.534814Z",
     "iopub.status.busy": "2021-06-07T18:38:10.533261Z",
     "iopub.status.idle": "2021-06-07T18:38:10.578699Z",
     "shell.execute_reply": "2021-06-07T18:38:10.577781Z"
    },
    "papermill": {
     "duration": 0.092969,
     "end_time": "2021-06-07T18:38:10.578945",
     "exception": false,
     "start_time": "2021-06-07T18:38:10.485976",
     "status": "completed"
    },
    "tags": []
   },
   "outputs": [
    {
     "data": {
      "text/html": [
       "<div>\n",
       "<style scoped>\n",
       "    .dataframe tbody tr th:only-of-type {\n",
       "        vertical-align: middle;\n",
       "    }\n",
       "\n",
       "    .dataframe tbody tr th {\n",
       "        vertical-align: top;\n",
       "    }\n",
       "\n",
       "    .dataframe thead th {\n",
       "        text-align: right;\n",
       "    }\n",
       "</style>\n",
       "<table border=\"1\" class=\"dataframe\">\n",
       "  <thead>\n",
       "    <tr style=\"text-align: right;\">\n",
       "      <th></th>\n",
       "      <th>code</th>\n",
       "      <th>severity</th>\n",
       "      <th>n</th>\n",
       "    </tr>\n",
       "  </thead>\n",
       "  <tbody>\n",
       "    <tr>\n",
       "      <th>0</th>\n",
       "      <td>decreasing_or_equal_shape_distance</td>\n",
       "      <td>ERROR</td>\n",
       "      <td>1740</td>\n",
       "    </tr>\n",
       "    <tr>\n",
       "      <th>1</th>\n",
       "      <td>invalid_phone_number</td>\n",
       "      <td>ERROR</td>\n",
       "      <td>1</td>\n",
       "    </tr>\n",
       "  </tbody>\n",
       "</table>\n",
       "</div>"
      ],
      "text/plain": [
       "                                 code severity     n\n",
       "0  decreasing_or_equal_shape_distance    ERROR  1740\n",
       "1                invalid_phone_number    ERROR     1"
      ]
     },
     "execution_count": 15,
     "metadata": {},
     "output_type": "execute_result"
    }
   ],
   "source": [
    "tbl_validation_notices"
   ]
  }
 ],
 "metadata": {
  "kernelspec": {
   "display_name": "venv-notebooks",
   "language": "python",
   "name": "venv-notebooks"
  },
  "language_info": {
   "codemirror_mode": {
    "name": "ipython",
    "version": 3
   },
   "file_extension": ".py",
   "mimetype": "text/x-python",
   "name": "python",
   "nbconvert_exporter": "python",
   "pygments_lexer": "ipython3",
   "version": "3.6.8"
  },
  "papermill": {
   "default_parameters": {},
   "duration": 34.18529,
   "end_time": "2021-06-07T18:38:11.997545",
   "environment_variables": {},
   "exception": null,
   "input_path": "report.ipynb",
   "output_path": "output/116_0/report.ipynb",
   "parameters": {
    "CALITP_ITP_ID": 116,
    "CALITP_URL_NUMBER": 0
   },
   "start_time": "2021-06-07T18:37:37.812255",
   "version": "2.3.3"
  }
 },
 "nbformat": 4,
 "nbformat_minor": 5
}