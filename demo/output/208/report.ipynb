{
 "cells": [
  {
   "cell_type": "markdown",
   "id": "e5c35928",
   "metadata": {
    "papermill": {
     "duration": 0.015773,
     "end_time": "2021-06-23T00:31:57.005720",
     "exception": false,
     "start_time": "2021-06-23T00:31:56.989947",
     "status": "completed"
    },
    "tags": [
     "hide"
    ]
   },
   "source": [
    "# Setup"
   ]
  },
  {
   "cell_type": "code",
   "execution_count": 1,
   "id": "a2c03e14",
   "metadata": {
    "execution": {
     "iopub.execute_input": "2021-06-23T00:31:57.049139Z",
     "iopub.status.busy": "2021-06-23T00:31:57.048170Z",
     "iopub.status.idle": "2021-06-23T00:32:03.598233Z",
     "shell.execute_reply": "2021-06-23T00:32:03.599876Z"
    },
    "papermill": {
     "duration": 6.579871,
     "end_time": "2021-06-23T00:32:03.600370",
     "exception": false,
     "start_time": "2021-06-23T00:31:57.020499",
     "status": "completed"
    },
    "tags": [
     "hide"
    ]
   },
   "outputs": [],
   "source": [
    "import pandas as pd\n",
    "\n",
    "from io import StringIO\n",
    "from calitp.tables import tbl\n",
    "from datetime import date\n",
    "from siuba import *\n",
    "from plotnine import *\n",
    "\n",
    "\n",
    "START_DATE = \"2021-05-01\"\n",
    "END_DATE = \"2021-06-01\"\n",
    "DATE_TODAY=date.today()\n",
    "\n",
    "WEEK_MARKERS = pd.date_range(START_DATE, END_DATE, freq=\"W\").astype(str).tolist()"
   ]
  },
  {
   "cell_type": "code",
   "execution_count": 2,
   "id": "2185fcc6",
   "metadata": {
    "execution": {
     "iopub.execute_input": "2021-06-23T00:32:03.673732Z",
     "iopub.status.busy": "2021-06-23T00:32:03.666697Z",
     "iopub.status.idle": "2021-06-23T00:32:03.677782Z",
     "shell.execute_reply": "2021-06-23T00:32:03.678767Z"
    },
    "papermill": {
     "duration": 0.045889,
     "end_time": "2021-06-23T00:32:03.679116",
     "exception": false,
     "start_time": "2021-06-23T00:32:03.633227",
     "status": "completed"
    },
    "tags": [
     "parameters",
     "hide"
    ]
   },
   "outputs": [],
   "source": [
    "CALITP_ITP_ID=389\n",
    "#CALITP_ITP_ID=45\n",
    "CALITP_URL_NUMBER=0"
   ]
  },
  {
   "cell_type": "code",
   "execution_count": 3,
   "id": "7f6fc2cb",
   "metadata": {
    "execution": {
     "iopub.execute_input": "2021-06-23T00:32:03.746236Z",
     "iopub.status.busy": "2021-06-23T00:32:03.745064Z",
     "iopub.status.idle": "2021-06-23T00:32:03.749586Z",
     "shell.execute_reply": "2021-06-23T00:32:03.750638Z"
    },
    "papermill": {
     "duration": 0.041339,
     "end_time": "2021-06-23T00:32:03.750957",
     "exception": false,
     "start_time": "2021-06-23T00:32:03.709618",
     "status": "completed"
    },
    "tags": [
     "injected-parameters"
    ]
   },
   "outputs": [],
   "source": [
    "# Parameters\n",
    "CALITP_ITP_ID = 208\n",
    "CALITP_URL_NUMBER = 0\n"
   ]
  },
  {
   "cell_type": "code",
   "execution_count": 4,
   "id": "df81d73a",
   "metadata": {
    "execution": {
     "iopub.execute_input": "2021-06-23T00:32:03.848170Z",
     "iopub.status.busy": "2021-06-23T00:32:03.846312Z",
     "iopub.status.idle": "2021-06-23T00:32:03.853363Z",
     "shell.execute_reply": "2021-06-23T00:32:03.854243Z"
    },
    "papermill": {
     "duration": 0.056018,
     "end_time": "2021-06-23T00:32:03.854555",
     "exception": false,
     "start_time": "2021-06-23T00:32:03.798537",
     "status": "completed"
    },
    "tags": [
     "hide"
    ]
   },
   "outputs": [],
   "source": [
    "# Convenience functions ----\n",
    "\n",
    "filter_start = filter(\n",
    "    _.calitp_extracted_at <= START_DATE,\n",
    "    _.calitp_deleted_at.fillna(\"2099-01-01\") > START_DATE,\n",
    ")\n",
    "\n",
    "filter_end = filter(\n",
    "    _.calitp_extracted_at <= END_DATE,\n",
    "    _.calitp_deleted_at.fillna(\"2099-01-01\") > END_DATE,\n",
    ")\n",
    "\n",
    "filter_itp = filter(\n",
    "    _.calitp_itp_id == CALITP_ITP_ID, _.calitp_url_number == CALITP_URL_NUMBER\n",
    ")\n",
    "\n",
    "collect_to_dict = (\n",
    "    collect()\n",
    "    >> pipe(_.to_dict(orient=\"records\")[0])\n",
    ")\n",
    "\n",
    "\n",
    "select_rm_calitp = select(\n",
    "    -_.calitp_itp_id,\n",
    "    -_.calitp_url_number,\n",
    "    -_.calitp_hash,\n",
    "    -_.calitp_extracted_at,\n",
    "    -_.calitp_deleted_at,\n",
    ")\n",
    "\n",
    "\n",
    "def query_id_changes(start_table, end_table, id_vars):\n",
    "    \"\"\"Calculate id variables that are removed, added, or unchanged between tables.\n",
    "    \n",
    "    It works by adding a special column to each table, performing a full join,\n",
    "    then checking where the special column is null.\n",
    "    \"\"\"\n",
    "    sym_id_vars = [_[k] for k in id_vars]\n",
    "\n",
    "    is_in_start = start_table >> select(*id_vars) >> mutate(is_in_start=True)\n",
    "    is_in_end = end_table >> select(*id_vars) >> mutate(is_in_end=True)\n",
    "\n",
    "    baseline = start_table >> count(*id_vars) >> rename(n_baseline=\"n\")\n",
    "    tallies = (\n",
    "        is_in_start\n",
    "        >> full_join(_, is_in_end, id_vars)\n",
    "        >> count(*sym_id_vars, _.is_in_start, _.is_in_end)\n",
    "        >> mutate(\n",
    "            status=case_when(\n",
    "                _,\n",
    "                {\n",
    "                    _.is_in_end.isna(): \"Removed\",\n",
    "                    _.is_in_start.isna(): \"Added\",\n",
    "                    True: \"Unchanged\",\n",
    "                },\n",
    "            )\n",
    "        )\n",
    "        >> count(*sym_id_vars[:-1], _.status)\n",
    "        >> group_by(*sym_id_vars[:-1])\n",
    "        >> mutate(percent=_.n / _.n.sum())\n",
    "    )\n",
    "\n",
    "    return tallies"
   ]
  },
  {
   "cell_type": "code",
   "execution_count": 5,
   "id": "5d2c1120",
   "metadata": {
    "execution": {
     "iopub.execute_input": "2021-06-23T00:32:03.951471Z",
     "iopub.status.busy": "2021-06-23T00:32:03.945798Z",
     "iopub.status.idle": "2021-06-23T00:32:27.456871Z",
     "shell.execute_reply": "2021-06-23T00:32:27.457337Z"
    },
    "papermill": {
     "duration": 23.571137,
     "end_time": "2021-06-23T00:32:27.457561",
     "exception": false,
     "start_time": "2021-06-23T00:32:03.886424",
     "status": "completed"
    },
    "tags": [
     "hide"
    ]
   },
   "outputs": [],
   "source": [
    "# Data ====\n",
    "# 1. High level feed info ----\n",
    "feed_info = (\n",
    "    tbl.gtfs_schedule_type2.feed_info()\n",
    "    >> filter_end\n",
    "    >> filter_itp\n",
    "    >> select_rm_calitp\n",
    "    >> collect_to_dict\n",
    ")\n",
    "\n",
    "_n_routes = (\n",
    "    tbl.gtfs_schedule_type2.routes() >> filter_end >> filter_itp >> count() >> collect()\n",
    ")\n",
    "_n_stops = (\n",
    "    tbl.gtfs_schedule_type2.stops() >> filter_end >> filter_itp >> count() >> collect()\n",
    ")\n",
    "\n",
    "feed_info[\"n_routes\"] = int(_n_routes.loc[0, \"n\"])\n",
    "feed_info[\"n_stops\"] = int(_n_stops.loc[0, \"n\"])\n",
    "\n",
    "status = (\n",
    "    tbl.views.gtfs_status_latest()\n",
    "    >> filter(_.itp_id == CALITP_ITP_ID, _.url_number == CALITP_URL_NUMBER)\n",
    "    >> select(-_.url_number, -_.status)\n",
    "    >> select_rm_calitp\n",
    "    >> collect_to_dict\n",
    ")\n",
    "\n",
    "# 2. Monthly metrics ----\n",
    "# Service hours per day. Note that the queried table calculates service\n",
    "# hours per service id, so we need to sum across service ids for the day\n",
    "_cross_cal = (\n",
    "    tbl.views.dim_date()\n",
    "    >> filter(_.full_date.between(START_DATE, END_DATE))\n",
    "    >> select(_.service_date == _.full_date)\n",
    ")\n",
    "\n",
    "tbl_daily_service_hours = (\n",
    "    tbl.views.gtfs_schedule_service_daily_metrics()\n",
    "    >> filter_itp\n",
    "    >> filter(_.service_date.between(START_DATE, END_DATE))\n",
    "    >> right_join(_, _cross_cal, [\"service_date\"])\n",
    "    >> collect()\n",
    "    >> group_by(_.service_date)\n",
    "    >> summarize(ttl_service_hours=(_.last_arrival_ts.max() - _.first_departure_ts.min()) / 3600)\n",
    "    >> mutate(\n",
    "        ttl_service_hours=_.ttl_service_hours.astype(float).round(2),\n",
    "        service_date=_.service_date.astype(\"datetime64[ns]\"),\n",
    "    )\n",
    ")\n",
    "\n",
    "# number of days where a feed did not have any trips in service\n",
    "n_expired_days = (\n",
    "    tbl_daily_service_hours >> filter(_.ttl_service_hours.isna())\n",
    "    >> pipe(lambda d: {\"n\": d.shape[0]})\n",
    ")\n",
    "\n",
    "# 3. Stop and Route ID Changes ----\n",
    "\n",
    "_tbl_stops_start = tbl.gtfs_schedule_type2.stops() >> filter_itp >> filter_start\n",
    "_tbl_stops_end = tbl.gtfs_schedule_type2.stops() >> filter_itp >> filter_end\n",
    "tbl_stops_changed = (\n",
    "    query_id_changes(_tbl_stops_start, _tbl_stops_end, [\"stop_id\"]) >> collect()\n",
    ")\n",
    "\n",
    "_tbl_routes_start = tbl.gtfs_schedule_type2.routes() >> filter_start\n",
    "_tbl_routes_end = tbl.gtfs_schedule_type2.routes() >> filter_end\n",
    "tbl_routes_changed = (\n",
    "    query_id_changes(_tbl_routes_start, _tbl_routes_end, [\"route_id\"]) >> collect()\n",
    ")"
   ]
  },
  {
   "cell_type": "code",
   "execution_count": 6,
   "id": "0f760cee",
   "metadata": {
    "execution": {
     "iopub.execute_input": "2021-06-23T00:32:27.539208Z",
     "iopub.status.busy": "2021-06-23T00:32:27.538504Z",
     "iopub.status.idle": "2021-06-23T00:32:34.089354Z",
     "shell.execute_reply": "2021-06-23T00:32:34.090177Z"
    },
    "papermill": {
     "duration": 6.615385,
     "end_time": "2021-06-23T00:32:34.090479",
     "exception": false,
     "start_time": "2021-06-23T00:32:27.475094",
     "status": "completed"
    },
    "tags": [
     "hide"
    ]
   },
   "outputs": [],
   "source": [
    "# 4. Feed files being checked for ----\n",
    "\n",
    "file_categories = pd.DataFrame(\n",
    "    {\n",
    "        \"shapes.txt\": \"Visual display\",\n",
    "        \"pathways.txt\": \"Navigation\",\n",
    "        \"levels.txt\": \"Navigation\",\n",
    "        \"fare_rules.txt\": \"Fares\",\n",
    "        \"fare_leg_rules\": \"Fares\",\n",
    "        \"feed_info.txt\": \"Technical contacts\",\n",
    "    }.items(),\n",
    "    columns=[\"name\", \"category\"],\n",
    ")\n",
    "\n",
    "importance = [\"Visual display\", \"Navigation\", \"Fares\", \"Technical contacts\"]\n",
    "\n",
    "tbl_file_check = (\n",
    "    tbl.gtfs_schedule_history.calitp_files_updates()\n",
    "    >> filter_itp\n",
    "    >> filter(_.calitp_extracted_at.isin(WEEK_MARKERS))\n",
    "    >> select(_.name, _.calitp_extracted_at)\n",
    "    >> collect()\n",
    "    >> right_join(_, file_categories, [\"name\"])\n",
    "    >> mutate(\n",
    "        calitp_extracted_at=_.calitp_extracted_at.fillna(\"missing\").astype(str),\n",
    "        success=\"✅\",\n",
    "    )\n",
    "    >> spread(_.calitp_extracted_at, _.success)\n",
    "    >> select(-_.missing)\n",
    "    >> arrange(_.category.apply(importance.index))\n",
    "    >> select(_.category, _.contains(\"\"))\n",
    "    >> pipe(_.fillna(\"\"))\n",
    ")\n",
    "\n",
    "tbl_validation_notices = (\n",
    "    tbl.views.validation_notices()\n",
    "    >> filter_itp\n",
    "    >> filter(_.severity == \"ERROR\")\n",
    "    >> count(_.code, _.severity)\n",
    "    >> collect()\n",
    ")"
   ]
  },
  {
   "cell_type": "markdown",
   "id": "7ae11780",
   "metadata": {
    "papermill": {
     "duration": 0.030624,
     "end_time": "2021-06-23T00:32:34.162102",
     "exception": false,
     "start_time": "2021-06-23T00:32:34.131478",
     "status": "completed"
    },
    "tags": [
     "hide"
    ]
   },
   "source": [
    "## Dump data"
   ]
  },
  {
   "cell_type": "code",
   "execution_count": 7,
   "id": "46f5e80f",
   "metadata": {
    "execution": {
     "iopub.execute_input": "2021-06-23T00:32:34.331116Z",
     "iopub.status.busy": "2021-06-23T00:32:34.329359Z",
     "iopub.status.idle": "2021-06-23T00:32:34.346844Z",
     "shell.execute_reply": "2021-06-23T00:32:34.346125Z"
    },
    "papermill": {
     "duration": 0.105977,
     "end_time": "2021-06-23T00:32:34.347059",
     "exception": false,
     "start_time": "2021-06-23T00:32:34.241082",
     "status": "completed"
    },
    "tags": [
     "hide"
    ]
   },
   "outputs": [],
   "source": [
    "import json\n",
    "import shutil\n",
    "\n",
    "from pathlib import Path\n",
    "\n",
    "out_dir = Path(f\"output/{CALITP_ITP_ID}_{CALITP_URL_NUMBER}/data\")\n",
    "out_dir.mkdir(parents=True, exist_ok=True)\n",
    "\n",
    "json.dump(feed_info, open(out_dir / \"1_feed_info.json\", \"w\"))\n",
    "json.dump(status, open(out_dir / \"1_status.json\", \"w\"))\n",
    "\n",
    "tbl_daily_service_hours.to_json(out_dir / \"2_daily_service_hours.json\", orient=\"records\")\n",
    "json.dump(n_expired_days, open(out_dir / \"2_n_expired_days.json\", \"w\"))\n",
    "\n",
    "tbl_stops_changed.to_json(out_dir / \"3_stops_changed.json\", orient=\"records\")\n",
    "tbl_routes_changed.to_json(out_dir / \"3_routes_changed.json\", orient=\"records\")\n",
    "tbl_file_check.to_json(out_dir / \"4_file_check.json\", orient=\"records\")\n",
    "tbl_validation_notices.to_json(out_dir / \"4_validation_notices.json\", orient=\"records\")\n"
   ]
  },
  {
   "cell_type": "markdown",
   "id": "b0ec646d",
   "metadata": {
    "papermill": {
     "duration": 0.061791,
     "end_time": "2021-06-23T00:32:34.438162",
     "exception": false,
     "start_time": "2021-06-23T00:32:34.376371",
     "status": "completed"
    },
    "tags": []
   },
   "source": [
    "# GTFS Schedule Report"
   ]
  },
  {
   "cell_type": "markdown",
   "id": "d799fdd9",
   "metadata": {
    "papermill": {
     "duration": 0.033229,
     "end_time": "2021-06-23T00:32:34.518308",
     "exception": false,
     "start_time": "2021-06-23T00:32:34.485079",
     "status": "completed"
    },
    "tags": []
   },
   "source": [
    "# Example Juniper Report"
   ]
  },
  {
   "cell_type": "code",
   "execution_count": 8,
   "id": "1099a331",
   "metadata": {
    "execution": {
     "iopub.execute_input": "2021-06-23T00:32:34.571322Z",
     "iopub.status.busy": "2021-06-23T00:32:34.567872Z",
     "iopub.status.idle": "2021-06-23T00:32:34.575984Z",
     "shell.execute_reply": "2021-06-23T00:32:34.576736Z"
    },
    "papermill": {
     "duration": 0.038965,
     "end_time": "2021-06-23T00:32:34.576993",
     "exception": false,
     "start_time": "2021-06-23T00:32:34.538028",
     "status": "completed"
    },
    "tags": []
   },
   "outputs": [
    {
     "data": {
      "text/markdown": [
       "\n",
       "Transit provider name: MST\n",
       "\n",
       "Date generated: 2021-06-22\n"
      ],
      "text/plain": [
       "<IPython.core.display.Markdown object>"
      ]
     },
     "execution_count": 8,
     "metadata": {},
     "output_type": "execute_result"
    }
   ],
   "source": [
    "from IPython.display import Markdown\n",
    "\n",
    "Markdown(f\"\"\"\n",
    "Transit provider name: {feed_info[\"feed_publisher_name\"]}\n",
    "\n",
    "Date generated: {DATE_TODAY}\n",
    "\"\"\")"
   ]
  },
  {
   "cell_type": "markdown",
   "id": "0f14508c",
   "metadata": {
    "papermill": {
     "duration": 0.016037,
     "end_time": "2021-06-23T00:32:34.609753",
     "exception": false,
     "start_time": "2021-06-23T00:32:34.593716",
     "status": "completed"
    },
    "tags": []
   },
   "source": [
    "This is a monthly report, generated by the California Integrated Travel Project (Cal-ITP), summarizing issues discovered by MobilityData’s GTFS Validator. This report is available for viewing by the general public to support continuous improvement of GTFS data and the experience of transit passengers. "
   ]
  },
  {
   "cell_type": "markdown",
   "id": "d24c4097",
   "metadata": {
    "papermill": {
     "duration": 0.025796,
     "end_time": "2021-06-23T00:32:34.665979",
     "exception": false,
     "start_time": "2021-06-23T00:32:34.640183",
     "status": "completed"
    },
    "tags": []
   },
   "source": [
    "## Overview"
   ]
  },
  {
   "cell_type": "code",
   "execution_count": 9,
   "id": "1b0c4ff0",
   "metadata": {
    "execution": {
     "iopub.execute_input": "2021-06-23T00:32:34.706250Z",
     "iopub.status.busy": "2021-06-23T00:32:34.704920Z",
     "iopub.status.idle": "2021-06-23T00:32:34.708860Z",
     "shell.execute_reply": "2021-06-23T00:32:34.709315Z"
    },
    "papermill": {
     "duration": 0.024806,
     "end_time": "2021-06-23T00:32:34.709486",
     "exception": false,
     "start_time": "2021-06-23T00:32:34.684680",
     "status": "completed"
    },
    "tags": []
   },
   "outputs": [
    {
     "data": {
      "text/markdown": [
       "\n",
       "Feed location: http://www.mst.org/google/google_transit.zip\n",
       "\n",
       "Metrics for the most recent published version of the feed:\n",
       "\n",
       "* Date published: 202101-February2021v00\n",
       "* Number of routes in any service: 32\n",
       "* Number of stops in service: 1327\n"
      ],
      "text/plain": [
       "<IPython.core.display.Markdown object>"
      ]
     },
     "execution_count": 9,
     "metadata": {},
     "output_type": "execute_result"
    }
   ],
   "source": [
    "Markdown(f\"\"\"\n",
    "Feed location: {status[\"gtfs_schedule_url\"]}\n",
    "\n",
    "Metrics for the most recent published version of the feed:\n",
    "\n",
    "* Date published: {feed_info[\"feed_version\"]}\n",
    "* Number of routes in any service: {feed_info[\"n_routes\"]}\n",
    "* Number of stops in service: {feed_info[\"n_stops\"]}\n",
    "\"\"\")"
   ]
  },
  {
   "cell_type": "markdown",
   "id": "2809a805",
   "metadata": {
    "papermill": {
     "duration": 0.045763,
     "end_time": "2021-06-23T00:32:34.774154",
     "exception": false,
     "start_time": "2021-06-23T00:32:34.728391",
     "status": "completed"
    },
    "tags": []
   },
   "source": [
    "## Aggregated Metrics for May"
   ]
  },
  {
   "cell_type": "code",
   "execution_count": 10,
   "id": "2aef9410",
   "metadata": {
    "execution": {
     "iopub.execute_input": "2021-06-23T00:32:34.835335Z",
     "iopub.status.busy": "2021-06-23T00:32:34.832807Z",
     "iopub.status.idle": "2021-06-23T00:32:34.837567Z",
     "shell.execute_reply": "2021-06-23T00:32:34.836999Z"
    },
    "papermill": {
     "duration": 0.036215,
     "end_time": "2021-06-23T00:32:34.837843",
     "exception": false,
     "start_time": "2021-06-23T00:32:34.801628",
     "status": "completed"
    },
    "tags": []
   },
   "outputs": [
    {
     "data": {
      "text/markdown": [
       "\n",
       "Days when the active feed was expired: 12\n"
      ],
      "text/plain": [
       "<IPython.core.display.Markdown object>"
      ]
     },
     "execution_count": 10,
     "metadata": {},
     "output_type": "execute_result"
    }
   ],
   "source": [
    "Markdown(f\"\"\"\n",
    "Days when the active feed was expired: {n_expired_days[\"n\"]}\n",
    "\"\"\")"
   ]
  },
  {
   "cell_type": "code",
   "execution_count": 11,
   "id": "f8cedb84",
   "metadata": {
    "execution": {
     "iopub.execute_input": "2021-06-23T00:32:34.939526Z",
     "iopub.status.busy": "2021-06-23T00:32:34.933799Z",
     "iopub.status.idle": "2021-06-23T00:32:35.309593Z",
     "shell.execute_reply": "2021-06-23T00:32:35.310113Z"
    },
    "papermill": {
     "duration": 0.442109,
     "end_time": "2021-06-23T00:32:35.310289",
     "exception": false,
     "start_time": "2021-06-23T00:32:34.868180",
     "status": "completed"
    },
    "tags": []
   },
   "outputs": [
    {
     "name": "stderr",
     "output_type": "stream",
     "text": [
      "/Users/machow/.virtualenvs/calitp-py/lib/python3.8/site-packages/plotnine/geoms/geom_path.py:75: PlotnineWarning: geom_path: Removed 12 rows containing missing values.\n",
      "/Users/machow/.virtualenvs/calitp-py/lib/python3.8/site-packages/plotnine/layer.py:401: PlotnineWarning: geom_point : Removed 12 rows containing missing values.\n"
     ]
    },
    {
     "data": {
      "image/png": "[encoded data removed]",
      "text/plain": [
       "<Figure size 640x480 with 1 Axes>"
      ]
     },
     "metadata": {},
     "output_type": "display_data"
    },
    {
     "data": {
      "text/plain": [
       "<ggplot: (306382475)>"
      ]
     },
     "execution_count": 11,
     "metadata": {},
     "output_type": "execute_result"
    }
   ],
   "source": [
    "(\n",
    "    tbl_daily_service_hours\n",
    "    >> ggplot(aes(\"service_date\", \"ttl_service_hours\"))\n",
    "    + geom_line()\n",
    "    + geom_point()\n",
    "    + theme(axis_text_x=element_text(angle=45, hjust=1))\n",
    "    + scale_x_datetime(date_breaks=\"1 week\")\n",
    "    + expand_limits(y=0)\n",
    ")"
   ]
  },
  {
   "cell_type": "markdown",
   "id": "c2ed3352",
   "metadata": {
    "papermill": {
     "duration": 0.023793,
     "end_time": "2021-06-23T00:32:35.351906",
     "exception": false,
     "start_time": "2021-06-23T00:32:35.328113",
     "status": "completed"
    },
    "tags": []
   },
   "source": [
    "## Changes Since Previous Month"
   ]
  },
  {
   "cell_type": "code",
   "execution_count": 12,
   "id": "d73ba8a1",
   "metadata": {
    "execution": {
     "iopub.execute_input": "2021-06-23T00:32:35.406128Z",
     "iopub.status.busy": "2021-06-23T00:32:35.401215Z",
     "iopub.status.idle": "2021-06-23T00:32:35.719795Z",
     "shell.execute_reply": "2021-06-23T00:32:35.720222Z"
    },
    "papermill": {
     "duration": 0.34977,
     "end_time": "2021-06-23T00:32:35.720386",
     "exception": false,
     "start_time": "2021-06-23T00:32:35.370616",
     "status": "completed"
    },
    "tags": []
   },
   "outputs": [
    {
     "data": {
      "image/png": "[encoded data removed]",
      "text/plain": [
       "<Figure size 640x480 with 1 Axes>"
      ]
     },
     "metadata": {},
     "output_type": "display_data"
    },
    {
     "data": {
      "text/plain": [
       "<ggplot: (306290938)>"
      ]
     },
     "execution_count": 12,
     "metadata": {},
     "output_type": "execute_result"
    }
   ],
   "source": [
    "(\n",
    "    pd.concat(\n",
    "        [\n",
    "            tbl_stops_changed >> mutate(kind=\"Stops\"),\n",
    "            tbl_routes_changed >> mutate(kind=\"Routes\"),\n",
    "        ]\n",
    "    )\n",
    "    >> ggplot(aes(\"kind\", \"n\", fill=\"status\"))\n",
    "    + geom_col()\n",
    "    + labs(x=\"Kind of ID\", y=\"Number of Changes\")\n",
    ")"
   ]
  },
  {
   "cell_type": "markdown",
   "id": "83d676fa",
   "metadata": {
    "papermill": {
     "duration": 0.018912,
     "end_time": "2021-06-23T00:32:35.757325",
     "exception": false,
     "start_time": "2021-06-23T00:32:35.738413",
     "status": "completed"
    },
    "tags": []
   },
   "source": [
    "### (Alternative version using percentages)"
   ]
  },
  {
   "cell_type": "code",
   "execution_count": 13,
   "id": "ec330cbd",
   "metadata": {
    "execution": {
     "iopub.execute_input": "2021-06-23T00:32:35.837970Z",
     "iopub.status.busy": "2021-06-23T00:32:35.836886Z",
     "iopub.status.idle": "2021-06-23T00:32:36.123347Z",
     "shell.execute_reply": "2021-06-23T00:32:36.123771Z"
    },
    "papermill": {
     "duration": 0.34755,
     "end_time": "2021-06-23T00:32:36.123929",
     "exception": false,
     "start_time": "2021-06-23T00:32:35.776379",
     "status": "completed"
    },
    "tags": []
   },
   "outputs": [
    {
     "data": {
      "image/png": "[encoded data removed]",
      "text/plain": [
       "<Figure size 640x480 with 1 Axes>"
      ]
     },
     "metadata": {},
     "output_type": "display_data"
    },
    {
     "data": {
      "text/plain": [
       "<ggplot: (306443680)>"
      ]
     },
     "execution_count": 13,
     "metadata": {},
     "output_type": "execute_result"
    }
   ],
   "source": [
    "(\n",
    "    pd.concat(\n",
    "        [\n",
    "            tbl_stops_changed >> mutate(kind=\"Stops\"),\n",
    "            tbl_routes_changed >> mutate(kind=\"Routes\"),\n",
    "        ]\n",
    "    )\n",
    "    >> ggplot(aes(\"kind\", \"percent\", fill=\"status\"))\n",
    "    + geom_col()\n",
    "    + labs(x=\"Kind of ID\", y=\"Percent of Changes\")\n",
    ")"
   ]
  },
  {
   "cell_type": "markdown",
   "id": "a6131669",
   "metadata": {
    "papermill": {
     "duration": 0.019667,
     "end_time": "2021-06-23T00:32:36.163627",
     "exception": false,
     "start_time": "2021-06-23T00:32:36.143960",
     "status": "completed"
    },
    "tags": []
   },
   "source": [
    "## Consistency with the California GTFS Minimum Guidelines for the feed downloaded\n"
   ]
  },
  {
   "cell_type": "code",
   "execution_count": 14,
   "id": "7ba85562",
   "metadata": {
    "execution": {
     "iopub.execute_input": "2021-06-23T00:32:36.215385Z",
     "iopub.status.busy": "2021-06-23T00:32:36.214746Z",
     "iopub.status.idle": "2021-06-23T00:32:36.222623Z",
     "shell.execute_reply": "2021-06-23T00:32:36.222166Z"
    },
    "papermill": {
     "duration": 0.03409,
     "end_time": "2021-06-23T00:32:36.222758",
     "exception": false,
     "start_time": "2021-06-23T00:32:36.188668",
     "status": "completed"
    },
    "tags": []
   },
   "outputs": [
    {
     "data": {
      "text/html": [
       "<div>\n",
       "<style scoped>\n",
       "    .dataframe tbody tr th:only-of-type {\n",
       "        vertical-align: middle;\n",
       "    }\n",
       "\n",
       "    .dataframe tbody tr th {\n",
       "        vertical-align: top;\n",
       "    }\n",
       "\n",
       "    .dataframe thead th {\n",
       "        text-align: right;\n",
       "    }\n",
       "</style>\n",
       "<table border=\"1\" class=\"dataframe\">\n",
       "  <thead>\n",
       "    <tr style=\"text-align: right;\">\n",
       "      <th></th>\n",
       "      <th>category</th>\n",
       "      <th>name</th>\n",
       "      <th>2021-05-16</th>\n",
       "      <th>2021-05-23</th>\n",
       "      <th>2021-05-30</th>\n",
       "    </tr>\n",
       "  </thead>\n",
       "  <tbody>\n",
       "    <tr>\n",
       "      <th>5</th>\n",
       "      <td>Visual display</td>\n",
       "      <td>shapes.txt</td>\n",
       "      <td>✅</td>\n",
       "      <td>✅</td>\n",
       "      <td>✅</td>\n",
       "    </tr>\n",
       "    <tr>\n",
       "      <th>3</th>\n",
       "      <td>Navigation</td>\n",
       "      <td>levels.txt</td>\n",
       "      <td></td>\n",
       "      <td></td>\n",
       "      <td></td>\n",
       "    </tr>\n",
       "    <tr>\n",
       "      <th>4</th>\n",
       "      <td>Navigation</td>\n",
       "      <td>pathways.txt</td>\n",
       "      <td></td>\n",
       "      <td></td>\n",
       "      <td></td>\n",
       "    </tr>\n",
       "    <tr>\n",
       "      <th>0</th>\n",
       "      <td>Fares</td>\n",
       "      <td>fare_leg_rules</td>\n",
       "      <td></td>\n",
       "      <td></td>\n",
       "      <td></td>\n",
       "    </tr>\n",
       "    <tr>\n",
       "      <th>1</th>\n",
       "      <td>Fares</td>\n",
       "      <td>fare_rules.txt</td>\n",
       "      <td>✅</td>\n",
       "      <td>✅</td>\n",
       "      <td>✅</td>\n",
       "    </tr>\n",
       "    <tr>\n",
       "      <th>2</th>\n",
       "      <td>Technical contacts</td>\n",
       "      <td>feed_info.txt</td>\n",
       "      <td>✅</td>\n",
       "      <td>✅</td>\n",
       "      <td>✅</td>\n",
       "    </tr>\n",
       "  </tbody>\n",
       "</table>\n",
       "</div>"
      ],
      "text/plain": [
       "             category            name 2021-05-16 2021-05-23 2021-05-30\n",
       "5      Visual display      shapes.txt          ✅          ✅          ✅\n",
       "3          Navigation      levels.txt                                 \n",
       "4          Navigation    pathways.txt                                 \n",
       "0               Fares  fare_leg_rules                                 \n",
       "1               Fares  fare_rules.txt          ✅          ✅          ✅\n",
       "2  Technical contacts   feed_info.txt          ✅          ✅          ✅"
      ]
     },
     "execution_count": 14,
     "metadata": {},
     "output_type": "execute_result"
    }
   ],
   "source": [
    "tbl_file_check"
   ]
  },
  {
   "cell_type": "markdown",
   "id": "2295ce88",
   "metadata": {
    "papermill": {
     "duration": 0.025152,
     "end_time": "2021-06-23T00:32:36.269499",
     "exception": false,
     "start_time": "2021-06-23T00:32:36.244347",
     "status": "completed"
    },
    "tags": []
   },
   "source": [
    "### Validation Errors Observed"
   ]
  },
  {
   "cell_type": "code",
   "execution_count": 15,
   "id": "80d822b4",
   "metadata": {
    "execution": {
     "iopub.execute_input": "2021-06-23T00:32:36.321540Z",
     "iopub.status.busy": "2021-06-23T00:32:36.320544Z",
     "iopub.status.idle": "2021-06-23T00:32:36.324321Z",
     "shell.execute_reply": "2021-06-23T00:32:36.323864Z"
    },
    "papermill": {
     "duration": 0.029817,
     "end_time": "2021-06-23T00:32:36.324453",
     "exception": false,
     "start_time": "2021-06-23T00:32:36.294636",
     "status": "completed"
    },
    "tags": []
   },
   "outputs": [
    {
     "data": {
      "text/html": [
       "<div>\n",
       "<style scoped>\n",
       "    .dataframe tbody tr th:only-of-type {\n",
       "        vertical-align: middle;\n",
       "    }\n",
       "\n",
       "    .dataframe tbody tr th {\n",
       "        vertical-align: top;\n",
       "    }\n",
       "\n",
       "    .dataframe thead th {\n",
       "        text-align: right;\n",
       "    }\n",
       "</style>\n",
       "<table border=\"1\" class=\"dataframe\">\n",
       "  <thead>\n",
       "    <tr style=\"text-align: right;\">\n",
       "      <th></th>\n",
       "      <th>code</th>\n",
       "      <th>severity</th>\n",
       "      <th>n</th>\n",
       "    </tr>\n",
       "  </thead>\n",
       "  <tbody>\n",
       "  </tbody>\n",
       "</table>\n",
       "</div>"
      ],
      "text/plain": [
       "Empty DataFrame\n",
       "Columns: [code, severity, n]\n",
       "Index: []"
      ]
     },
     "execution_count": 15,
     "metadata": {},
     "output_type": "execute_result"
    }
   ],
   "source": [
    "tbl_validation_notices"
   ]
  }
 ],
 "metadata": {
  "kernelspec": {
   "display_name": "venv-calitp-py",
   "language": "python",
   "name": "venv-calitp-py"
  },
  "language_info": {
   "codemirror_mode": {
    "name": "ipython",
    "version": 3
   },
   "file_extension": ".py",
   "mimetype": "text/x-python",
   "name": "python",
   "nbconvert_exporter": "python",
   "pygments_lexer": "ipython3",
   "version": "3.8.5"
  },
  "papermill": {
   "default_parameters": {},
   "duration": 41.128387,
   "end_time": "2021-06-23T00:32:36.996216",
   "environment_variables": {},
   "exception": null,
   "input_path": "report.ipynb",
   "output_path": "output/208/report.ipynb",
   "parameters": {
    "CALITP_ITP_ID": 208,
    "CALITP_URL_NUMBER": 0
   },
   "start_time": "2021-06-23T00:31:55.867829",
   "version": "2.3.3"
  }
 },
 "nbformat": 4,
 "nbformat_minor": 5
}