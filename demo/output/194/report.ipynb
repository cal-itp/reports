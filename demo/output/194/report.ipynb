{
 "cells": [
  {
   "cell_type": "markdown",
   "id": "d68be521",
   "metadata": {
    "papermill": {
     "duration": 0.126855,
     "end_time": "2021-06-23T00:31:17.535889",
     "exception": false,
     "start_time": "2021-06-23T00:31:17.409034",
     "status": "completed"
    },
    "tags": [
     "hide"
    ]
   },
   "source": [
    "# Setup"
   ]
  },
  {
   "cell_type": "code",
   "execution_count": 1,
   "id": "20e28ad4",
   "metadata": {
    "execution": {
     "iopub.execute_input": "2021-06-23T00:31:17.651076Z",
     "iopub.status.busy": "2021-06-23T00:31:17.649869Z",
     "iopub.status.idle": "2021-06-23T00:31:24.627101Z",
     "shell.execute_reply": "2021-06-23T00:31:24.627539Z"
    },
    "papermill": {
     "duration": 7.01832,
     "end_time": "2021-06-23T00:31:24.627768",
     "exception": false,
     "start_time": "2021-06-23T00:31:17.609448",
     "status": "completed"
    },
    "tags": [
     "hide"
    ]
   },
   "outputs": [],
   "source": [
    "import pandas as pd\n",
    "\n",
    "from io import StringIO\n",
    "from calitp.tables import tbl\n",
    "from datetime import date\n",
    "from siuba import *\n",
    "from plotnine import *\n",
    "\n",
    "\n",
    "START_DATE = \"2021-05-01\"\n",
    "END_DATE = \"2021-06-01\"\n",
    "DATE_TODAY=date.today()\n",
    "\n",
    "WEEK_MARKERS = pd.date_range(START_DATE, END_DATE, freq=\"W\").astype(str).tolist()"
   ]
  },
  {
   "cell_type": "code",
   "execution_count": 2,
   "id": "ac4ee5ed",
   "metadata": {
    "execution": {
     "iopub.execute_input": "2021-06-23T00:31:24.669786Z",
     "iopub.status.busy": "2021-06-23T00:31:24.666780Z",
     "iopub.status.idle": "2021-06-23T00:31:24.676837Z",
     "shell.execute_reply": "2021-06-23T00:31:24.677448Z"
    },
    "papermill": {
     "duration": 0.034458,
     "end_time": "2021-06-23T00:31:24.677627",
     "exception": false,
     "start_time": "2021-06-23T00:31:24.643169",
     "status": "completed"
    },
    "tags": [
     "parameters",
     "hide"
    ]
   },
   "outputs": [],
   "source": [
    "CALITP_ITP_ID=389\n",
    "#CALITP_ITP_ID=45\n",
    "CALITP_URL_NUMBER=0"
   ]
  },
  {
   "cell_type": "code",
   "execution_count": 3,
   "id": "2cef6d5e",
   "metadata": {
    "execution": {
     "iopub.execute_input": "2021-06-23T00:31:24.711693Z",
     "iopub.status.busy": "2021-06-23T00:31:24.710968Z",
     "iopub.status.idle": "2021-06-23T00:31:24.713663Z",
     "shell.execute_reply": "2021-06-23T00:31:24.713105Z"
    },
    "papermill": {
     "duration": 0.021085,
     "end_time": "2021-06-23T00:31:24.713798",
     "exception": false,
     "start_time": "2021-06-23T00:31:24.692713",
     "status": "completed"
    },
    "tags": [
     "injected-parameters"
    ]
   },
   "outputs": [],
   "source": [
    "# Parameters\n",
    "CALITP_ITP_ID = 194\n",
    "CALITP_URL_NUMBER = 0\n"
   ]
  },
  {
   "cell_type": "code",
   "execution_count": 4,
   "id": "21b682c4",
   "metadata": {
    "execution": {
     "iopub.execute_input": "2021-06-23T00:31:24.751942Z",
     "iopub.status.busy": "2021-06-23T00:31:24.751263Z",
     "iopub.status.idle": "2021-06-23T00:31:24.754092Z",
     "shell.execute_reply": "2021-06-23T00:31:24.753619Z"
    },
    "papermill": {
     "duration": 0.026104,
     "end_time": "2021-06-23T00:31:24.754227",
     "exception": false,
     "start_time": "2021-06-23T00:31:24.728123",
     "status": "completed"
    },
    "tags": [
     "hide"
    ]
   },
   "outputs": [],
   "source": [
    "# Convenience functions ----\n",
    "\n",
    "filter_start = filter(\n",
    "    _.calitp_extracted_at <= START_DATE,\n",
    "    _.calitp_deleted_at.fillna(\"2099-01-01\") > START_DATE,\n",
    ")\n",
    "\n",
    "filter_end = filter(\n",
    "    _.calitp_extracted_at <= END_DATE,\n",
    "    _.calitp_deleted_at.fillna(\"2099-01-01\") > END_DATE,\n",
    ")\n",
    "\n",
    "filter_itp = filter(\n",
    "    _.calitp_itp_id == CALITP_ITP_ID, _.calitp_url_number == CALITP_URL_NUMBER\n",
    ")\n",
    "\n",
    "collect_to_dict = (\n",
    "    collect()\n",
    "    >> pipe(_.to_dict(orient=\"records\")[0])\n",
    ")\n",
    "\n",
    "\n",
    "select_rm_calitp = select(\n",
    "    -_.calitp_itp_id,\n",
    "    -_.calitp_url_number,\n",
    "    -_.calitp_hash,\n",
    "    -_.calitp_extracted_at,\n",
    "    -_.calitp_deleted_at,\n",
    ")\n",
    "\n",
    "\n",
    "def query_id_changes(start_table, end_table, id_vars):\n",
    "    \"\"\"Calculate id variables that are removed, added, or unchanged between tables.\n",
    "    \n",
    "    It works by adding a special column to each table, performing a full join,\n",
    "    then checking where the special column is null.\n",
    "    \"\"\"\n",
    "    sym_id_vars = [_[k] for k in id_vars]\n",
    "\n",
    "    is_in_start = start_table >> select(*id_vars) >> mutate(is_in_start=True)\n",
    "    is_in_end = end_table >> select(*id_vars) >> mutate(is_in_end=True)\n",
    "\n",
    "    baseline = start_table >> count(*id_vars) >> rename(n_baseline=\"n\")\n",
    "    tallies = (\n",
    "        is_in_start\n",
    "        >> full_join(_, is_in_end, id_vars)\n",
    "        >> count(*sym_id_vars, _.is_in_start, _.is_in_end)\n",
    "        >> mutate(\n",
    "            status=case_when(\n",
    "                _,\n",
    "                {\n",
    "                    _.is_in_end.isna(): \"Removed\",\n",
    "                    _.is_in_start.isna(): \"Added\",\n",
    "                    True: \"Unchanged\",\n",
    "                },\n",
    "            )\n",
    "        )\n",
    "        >> count(*sym_id_vars[:-1], _.status)\n",
    "        >> group_by(*sym_id_vars[:-1])\n",
    "        >> mutate(percent=_.n / _.n.sum())\n",
    "    )\n",
    "\n",
    "    return tallies"
   ]
  },
  {
   "cell_type": "code",
   "execution_count": 5,
   "id": "3bf577e1",
   "metadata": {
    "execution": {
     "iopub.execute_input": "2021-06-23T00:31:24.797225Z",
     "iopub.status.busy": "2021-06-23T00:31:24.788270Z",
     "iopub.status.idle": "2021-06-23T00:31:50.483475Z",
     "shell.execute_reply": "2021-06-23T00:31:50.483998Z"
    },
    "papermill": {
     "duration": 25.714957,
     "end_time": "2021-06-23T00:31:50.484201",
     "exception": false,
     "start_time": "2021-06-23T00:31:24.769244",
     "status": "completed"
    },
    "tags": [
     "hide"
    ]
   },
   "outputs": [],
   "source": [
    "# Data ====\n",
    "# 1. High level feed info ----\n",
    "feed_info = (\n",
    "    tbl.gtfs_schedule_type2.feed_info()\n",
    "    >> filter_end\n",
    "    >> filter_itp\n",
    "    >> select_rm_calitp\n",
    "    >> collect_to_dict\n",
    ")\n",
    "\n",
    "_n_routes = (\n",
    "    tbl.gtfs_schedule_type2.routes() >> filter_end >> filter_itp >> count() >> collect()\n",
    ")\n",
    "_n_stops = (\n",
    "    tbl.gtfs_schedule_type2.stops() >> filter_end >> filter_itp >> count() >> collect()\n",
    ")\n",
    "\n",
    "feed_info[\"n_routes\"] = int(_n_routes.loc[0, \"n\"])\n",
    "feed_info[\"n_stops\"] = int(_n_stops.loc[0, \"n\"])\n",
    "\n",
    "status = (\n",
    "    tbl.views.gtfs_status_latest()\n",
    "    >> filter(_.itp_id == CALITP_ITP_ID, _.url_number == CALITP_URL_NUMBER)\n",
    "    >> select(-_.url_number, -_.status)\n",
    "    >> select_rm_calitp\n",
    "    >> collect_to_dict\n",
    ")\n",
    "\n",
    "# 2. Monthly metrics ----\n",
    "# Service hours per day. Note that the queried table calculates service\n",
    "# hours per service id, so we need to sum across service ids for the day\n",
    "_cross_cal = (\n",
    "    tbl.views.dim_date()\n",
    "    >> filter(_.full_date.between(START_DATE, END_DATE))\n",
    "    >> select(_.service_date == _.full_date)\n",
    ")\n",
    "\n",
    "tbl_daily_service_hours = (\n",
    "    tbl.views.gtfs_schedule_service_daily_metrics()\n",
    "    >> filter_itp\n",
    "    >> filter(_.service_date.between(START_DATE, END_DATE))\n",
    "    >> right_join(_, _cross_cal, [\"service_date\"])\n",
    "    >> collect()\n",
    "    >> group_by(_.service_date)\n",
    "    >> summarize(ttl_service_hours=(_.last_arrival_ts.max() - _.first_departure_ts.min()) / 3600)\n",
    "    >> mutate(\n",
    "        ttl_service_hours=_.ttl_service_hours.astype(float).round(2),\n",
    "        service_date=_.service_date.astype(\"datetime64[ns]\"),\n",
    "    )\n",
    ")\n",
    "\n",
    "# number of days where a feed did not have any trips in service\n",
    "n_expired_days = (\n",
    "    tbl_daily_service_hours >> filter(_.ttl_service_hours.isna())\n",
    "    >> pipe(lambda d: {\"n\": d.shape[0]})\n",
    ")\n",
    "\n",
    "# 3. Stop and Route ID Changes ----\n",
    "\n",
    "_tbl_stops_start = tbl.gtfs_schedule_type2.stops() >> filter_itp >> filter_start\n",
    "_tbl_stops_end = tbl.gtfs_schedule_type2.stops() >> filter_itp >> filter_end\n",
    "tbl_stops_changed = (\n",
    "    query_id_changes(_tbl_stops_start, _tbl_stops_end, [\"stop_id\"]) >> collect()\n",
    ")\n",
    "\n",
    "_tbl_routes_start = tbl.gtfs_schedule_type2.routes() >> filter_start\n",
    "_tbl_routes_end = tbl.gtfs_schedule_type2.routes() >> filter_end\n",
    "tbl_routes_changed = (\n",
    "    query_id_changes(_tbl_routes_start, _tbl_routes_end, [\"route_id\"]) >> collect()\n",
    ")"
   ]
  },
  {
   "cell_type": "code",
   "execution_count": 6,
   "id": "81069f31",
   "metadata": {
    "execution": {
     "iopub.execute_input": "2021-06-23T00:31:50.568052Z",
     "iopub.status.busy": "2021-06-23T00:31:50.566903Z",
     "iopub.status.idle": "2021-06-23T00:31:57.111615Z",
     "shell.execute_reply": "2021-06-23T00:31:57.112387Z"
    },
    "papermill": {
     "duration": 6.59691,
     "end_time": "2021-06-23T00:31:57.112677",
     "exception": false,
     "start_time": "2021-06-23T00:31:50.515767",
     "status": "completed"
    },
    "tags": [
     "hide"
    ]
   },
   "outputs": [],
   "source": [
    "# 4. Feed files being checked for ----\n",
    "\n",
    "file_categories = pd.DataFrame(\n",
    "    {\n",
    "        \"shapes.txt\": \"Visual display\",\n",
    "        \"pathways.txt\": \"Navigation\",\n",
    "        \"levels.txt\": \"Navigation\",\n",
    "        \"fare_rules.txt\": \"Fares\",\n",
    "        \"fare_leg_rules\": \"Fares\",\n",
    "        \"feed_info.txt\": \"Technical contacts\",\n",
    "    }.items(),\n",
    "    columns=[\"name\", \"category\"],\n",
    ")\n",
    "\n",
    "importance = [\"Visual display\", \"Navigation\", \"Fares\", \"Technical contacts\"]\n",
    "\n",
    "tbl_file_check = (\n",
    "    tbl.gtfs_schedule_history.calitp_files_updates()\n",
    "    >> filter_itp\n",
    "    >> filter(_.calitp_extracted_at.isin(WEEK_MARKERS))\n",
    "    >> select(_.name, _.calitp_extracted_at)\n",
    "    >> collect()\n",
    "    >> right_join(_, file_categories, [\"name\"])\n",
    "    >> mutate(\n",
    "        calitp_extracted_at=_.calitp_extracted_at.fillna(\"missing\").astype(str),\n",
    "        success=\"✅\",\n",
    "    )\n",
    "    >> spread(_.calitp_extracted_at, _.success)\n",
    "    >> select(-_.missing)\n",
    "    >> arrange(_.category.apply(importance.index))\n",
    "    >> select(_.category, _.contains(\"\"))\n",
    "    >> pipe(_.fillna(\"\"))\n",
    ")\n",
    "\n",
    "tbl_validation_notices = (\n",
    "    tbl.views.validation_notices()\n",
    "    >> filter_itp\n",
    "    >> filter(_.severity == \"ERROR\")\n",
    "    >> count(_.code, _.severity)\n",
    "    >> collect()\n",
    ")"
   ]
  },
  {
   "cell_type": "markdown",
   "id": "e336797b",
   "metadata": {
    "papermill": {
     "duration": 0.020984,
     "end_time": "2021-06-23T00:31:57.157949",
     "exception": false,
     "start_time": "2021-06-23T00:31:57.136965",
     "status": "completed"
    },
    "tags": [
     "hide"
    ]
   },
   "source": [
    "## Dump data"
   ]
  },
  {
   "cell_type": "code",
   "execution_count": 7,
   "id": "cd96a07e",
   "metadata": {
    "execution": {
     "iopub.execute_input": "2021-06-23T00:31:57.223254Z",
     "iopub.status.busy": "2021-06-23T00:31:57.222112Z",
     "iopub.status.idle": "2021-06-23T00:31:57.233097Z",
     "shell.execute_reply": "2021-06-23T00:31:57.233812Z"
    },
    "papermill": {
     "duration": 0.046294,
     "end_time": "2021-06-23T00:31:57.233994",
     "exception": false,
     "start_time": "2021-06-23T00:31:57.187700",
     "status": "completed"
    },
    "tags": [
     "hide"
    ]
   },
   "outputs": [],
   "source": [
    "import json\n",
    "import shutil\n",
    "\n",
    "from pathlib import Path\n",
    "\n",
    "out_dir = Path(f\"output/{CALITP_ITP_ID}_{CALITP_URL_NUMBER}/data\")\n",
    "out_dir.mkdir(parents=True, exist_ok=True)\n",
    "\n",
    "json.dump(feed_info, open(out_dir / \"1_feed_info.json\", \"w\"))\n",
    "json.dump(status, open(out_dir / \"1_status.json\", \"w\"))\n",
    "\n",
    "tbl_daily_service_hours.to_json(out_dir / \"2_daily_service_hours.json\", orient=\"records\")\n",
    "json.dump(n_expired_days, open(out_dir / \"2_n_expired_days.json\", \"w\"))\n",
    "\n",
    "tbl_stops_changed.to_json(out_dir / \"3_stops_changed.json\", orient=\"records\")\n",
    "tbl_routes_changed.to_json(out_dir / \"3_routes_changed.json\", orient=\"records\")\n",
    "tbl_file_check.to_json(out_dir / \"4_file_check.json\", orient=\"records\")\n",
    "tbl_validation_notices.to_json(out_dir / \"4_validation_notices.json\", orient=\"records\")\n"
   ]
  },
  {
   "cell_type": "markdown",
   "id": "1008ffff",
   "metadata": {
    "papermill": {
     "duration": 0.039791,
     "end_time": "2021-06-23T00:31:57.303487",
     "exception": false,
     "start_time": "2021-06-23T00:31:57.263696",
     "status": "completed"
    },
    "tags": []
   },
   "source": [
    "# GTFS Schedule Report"
   ]
  },
  {
   "cell_type": "markdown",
   "id": "e0344d64",
   "metadata": {
    "papermill": {
     "duration": 0.023082,
     "end_time": "2021-06-23T00:31:57.346125",
     "exception": false,
     "start_time": "2021-06-23T00:31:57.323043",
     "status": "completed"
    },
    "tags": []
   },
   "source": [
    "# Example Juniper Report"
   ]
  },
  {
   "cell_type": "code",
   "execution_count": 8,
   "id": "d0ef2396",
   "metadata": {
    "execution": {
     "iopub.execute_input": "2021-06-23T00:31:57.394509Z",
     "iopub.status.busy": "2021-06-23T00:31:57.391497Z",
     "iopub.status.idle": "2021-06-23T00:31:57.398806Z",
     "shell.execute_reply": "2021-06-23T00:31:57.399510Z"
    },
    "papermill": {
     "duration": 0.034517,
     "end_time": "2021-06-23T00:31:57.399715",
     "exception": false,
     "start_time": "2021-06-23T00:31:57.365198",
     "status": "completed"
    },
    "tags": []
   },
   "outputs": [
    {
     "data": {
      "text/markdown": [
       "\n",
       "Transit provider name: Optibus\n",
       "\n",
       "Date generated: 2021-06-22\n"
      ],
      "text/plain": [
       "<IPython.core.display.Markdown object>"
      ]
     },
     "execution_count": 8,
     "metadata": {},
     "output_type": "execute_result"
    }
   ],
   "source": [
    "from IPython.display import Markdown\n",
    "\n",
    "Markdown(f\"\"\"\n",
    "Transit provider name: {feed_info[\"feed_publisher_name\"]}\n",
    "\n",
    "Date generated: {DATE_TODAY}\n",
    "\"\"\")"
   ]
  },
  {
   "cell_type": "markdown",
   "id": "56d2c7dc",
   "metadata": {
    "papermill": {
     "duration": 0.018835,
     "end_time": "2021-06-23T00:31:57.439126",
     "exception": false,
     "start_time": "2021-06-23T00:31:57.420291",
     "status": "completed"
    },
    "tags": []
   },
   "source": [
    "This is a monthly report, generated by the California Integrated Travel Project (Cal-ITP), summarizing issues discovered by MobilityData’s GTFS Validator. This report is available for viewing by the general public to support continuous improvement of GTFS data and the experience of transit passengers. "
   ]
  },
  {
   "cell_type": "markdown",
   "id": "c4e4db1e",
   "metadata": {
    "papermill": {
     "duration": 0.015814,
     "end_time": "2021-06-23T00:31:57.472532",
     "exception": false,
     "start_time": "2021-06-23T00:31:57.456718",
     "status": "completed"
    },
    "tags": []
   },
   "source": [
    "## Overview"
   ]
  },
  {
   "cell_type": "code",
   "execution_count": 9,
   "id": "0eb340bf",
   "metadata": {
    "execution": {
     "iopub.execute_input": "2021-06-23T00:31:57.520854Z",
     "iopub.status.busy": "2021-06-23T00:31:57.518671Z",
     "iopub.status.idle": "2021-06-23T00:31:57.525278Z",
     "shell.execute_reply": "2021-06-23T00:31:57.524427Z"
    },
    "papermill": {
     "duration": 0.035344,
     "end_time": "2021-06-23T00:31:57.525516",
     "exception": false,
     "start_time": "2021-06-23T00:31:57.490172",
     "status": "completed"
    },
    "tags": []
   },
   "outputs": [
    {
     "data": {
      "text/markdown": [
       "\n",
       "Feed location: http://marintransit.org/data/google_transit.zip\n",
       "\n",
       "Metrics for the most recent published version of the feed:\n",
       "\n",
       "* Date published: None\n",
       "* Number of routes in any service: 34\n",
       "* Number of stops in service: 501\n"
      ],
      "text/plain": [
       "<IPython.core.display.Markdown object>"
      ]
     },
     "execution_count": 9,
     "metadata": {},
     "output_type": "execute_result"
    }
   ],
   "source": [
    "Markdown(f\"\"\"\n",
    "Feed location: {status[\"gtfs_schedule_url\"]}\n",
    "\n",
    "Metrics for the most recent published version of the feed:\n",
    "\n",
    "* Date published: {feed_info[\"feed_version\"]}\n",
    "* Number of routes in any service: {feed_info[\"n_routes\"]}\n",
    "* Number of stops in service: {feed_info[\"n_stops\"]}\n",
    "\"\"\")"
   ]
  },
  {
   "cell_type": "markdown",
   "id": "37fdf78c",
   "metadata": {
    "papermill": {
     "duration": 0.019337,
     "end_time": "2021-06-23T00:31:57.576058",
     "exception": false,
     "start_time": "2021-06-23T00:31:57.556721",
     "status": "completed"
    },
    "tags": []
   },
   "source": [
    "## Aggregated Metrics for May"
   ]
  },
  {
   "cell_type": "code",
   "execution_count": 10,
   "id": "526832ba",
   "metadata": {
    "execution": {
     "iopub.execute_input": "2021-06-23T00:31:57.622508Z",
     "iopub.status.busy": "2021-06-23T00:31:57.621840Z",
     "iopub.status.idle": "2021-06-23T00:31:57.627022Z",
     "shell.execute_reply": "2021-06-23T00:31:57.627743Z"
    },
    "papermill": {
     "duration": 0.034499,
     "end_time": "2021-06-23T00:31:57.628023",
     "exception": false,
     "start_time": "2021-06-23T00:31:57.593524",
     "status": "completed"
    },
    "tags": []
   },
   "outputs": [
    {
     "data": {
      "text/markdown": [
       "\n",
       "Days when the active feed was expired: 0\n"
      ],
      "text/plain": [
       "<IPython.core.display.Markdown object>"
      ]
     },
     "execution_count": 10,
     "metadata": {},
     "output_type": "execute_result"
    }
   ],
   "source": [
    "Markdown(f\"\"\"\n",
    "Days when the active feed was expired: {n_expired_days[\"n\"]}\n",
    "\"\"\")"
   ]
  },
  {
   "cell_type": "code",
   "execution_count": 11,
   "id": "562b5d26",
   "metadata": {
    "execution": {
     "iopub.execute_input": "2021-06-23T00:31:57.704751Z",
     "iopub.status.busy": "2021-06-23T00:31:57.704006Z",
     "iopub.status.idle": "2021-06-23T00:31:58.076019Z",
     "shell.execute_reply": "2021-06-23T00:31:58.076545Z"
    },
    "papermill": {
     "duration": 0.431066,
     "end_time": "2021-06-23T00:31:58.076734",
     "exception": false,
     "start_time": "2021-06-23T00:31:57.645668",
     "status": "completed"
    },
    "tags": []
   },
   "outputs": [
    {
     "data": {
      "image/png": "[encoded data removed]",
      "text/plain": [
       "<Figure size 640x480 with 1 Axes>"
      ]
     },
     "metadata": {},
     "output_type": "display_data"
    },
    {
     "data": {
      "text/plain": [
       "<ggplot: (307945337)>"
      ]
     },
     "execution_count": 11,
     "metadata": {},
     "output_type": "execute_result"
    }
   ],
   "source": [
    "(\n",
    "    tbl_daily_service_hours\n",
    "    >> ggplot(aes(\"service_date\", \"ttl_service_hours\"))\n",
    "    + geom_line()\n",
    "    + geom_point()\n",
    "    + theme(axis_text_x=element_text(angle=45, hjust=1))\n",
    "    + scale_x_datetime(date_breaks=\"1 week\")\n",
    "    + expand_limits(y=0)\n",
    ")"
   ]
  },
  {
   "cell_type": "markdown",
   "id": "236e231e",
   "metadata": {
    "papermill": {
     "duration": 0.034146,
     "end_time": "2021-06-23T00:31:58.129046",
     "exception": false,
     "start_time": "2021-06-23T00:31:58.094900",
     "status": "completed"
    },
    "tags": []
   },
   "source": [
    "## Changes Since Previous Month"
   ]
  },
  {
   "cell_type": "code",
   "execution_count": 12,
   "id": "8f52ea83",
   "metadata": {
    "execution": {
     "iopub.execute_input": "2021-06-23T00:31:58.258058Z",
     "iopub.status.busy": "2021-06-23T00:31:58.190869Z",
     "iopub.status.idle": "2021-06-23T00:31:58.533445Z",
     "shell.execute_reply": "2021-06-23T00:31:58.534437Z"
    },
    "papermill": {
     "duration": 0.38517,
     "end_time": "2021-06-23T00:31:58.534690",
     "exception": false,
     "start_time": "2021-06-23T00:31:58.149520",
     "status": "completed"
    },
    "tags": []
   },
   "outputs": [
    {
     "data": {
      "image/png": "[encoded data removed]",
      "text/plain": [
       "<Figure size 640x480 with 1 Axes>"
      ]
     },
     "metadata": {},
     "output_type": "display_data"
    },
    {
     "data": {
      "text/plain": [
       "<ggplot: (308035304)>"
      ]
     },
     "execution_count": 12,
     "metadata": {},
     "output_type": "execute_result"
    }
   ],
   "source": [
    "(\n",
    "    pd.concat(\n",
    "        [\n",
    "            tbl_stops_changed >> mutate(kind=\"Stops\"),\n",
    "            tbl_routes_changed >> mutate(kind=\"Routes\"),\n",
    "        ]\n",
    "    )\n",
    "    >> ggplot(aes(\"kind\", \"n\", fill=\"status\"))\n",
    "    + geom_col()\n",
    "    + labs(x=\"Kind of ID\", y=\"Number of Changes\")\n",
    ")"
   ]
  },
  {
   "cell_type": "markdown",
   "id": "9f49a2dc",
   "metadata": {
    "papermill": {
     "duration": 0.033545,
     "end_time": "2021-06-23T00:31:58.591886",
     "exception": false,
     "start_time": "2021-06-23T00:31:58.558341",
     "status": "completed"
    },
    "tags": []
   },
   "source": [
    "### (Alternative version using percentages)"
   ]
  },
  {
   "cell_type": "code",
   "execution_count": 13,
   "id": "240dbd50",
   "metadata": {
    "execution": {
     "iopub.execute_input": "2021-06-23T00:31:58.669012Z",
     "iopub.status.busy": "2021-06-23T00:31:58.667319Z",
     "iopub.status.idle": "2021-06-23T00:31:58.951769Z",
     "shell.execute_reply": "2021-06-23T00:31:58.952196Z"
    },
    "papermill": {
     "duration": 0.331762,
     "end_time": "2021-06-23T00:31:58.952360",
     "exception": false,
     "start_time": "2021-06-23T00:31:58.620598",
     "status": "completed"
    },
    "tags": []
   },
   "outputs": [
    {
     "data": {
      "image/png": "[encoded data removed]",
      "text/plain": [
       "<Figure size 640x480 with 1 Axes>"
      ]
     },
     "metadata": {},
     "output_type": "display_data"
    },
    {
     "data": {
      "text/plain": [
       "<ggplot: (308356765)>"
      ]
     },
     "execution_count": 13,
     "metadata": {},
     "output_type": "execute_result"
    }
   ],
   "source": [
    "(\n",
    "    pd.concat(\n",
    "        [\n",
    "            tbl_stops_changed >> mutate(kind=\"Stops\"),\n",
    "            tbl_routes_changed >> mutate(kind=\"Routes\"),\n",
    "        ]\n",
    "    )\n",
    "    >> ggplot(aes(\"kind\", \"percent\", fill=\"status\"))\n",
    "    + geom_col()\n",
    "    + labs(x=\"Kind of ID\", y=\"Percent of Changes\")\n",
    ")"
   ]
  },
  {
   "cell_type": "markdown",
   "id": "632b2f34",
   "metadata": {
    "papermill": {
     "duration": 0.0211,
     "end_time": "2021-06-23T00:31:58.996139",
     "exception": false,
     "start_time": "2021-06-23T00:31:58.975039",
     "status": "completed"
    },
    "tags": []
   },
   "source": [
    "## Consistency with the California GTFS Minimum Guidelines for the feed downloaded\n"
   ]
  },
  {
   "cell_type": "code",
   "execution_count": 14,
   "id": "6cb15216",
   "metadata": {
    "execution": {
     "iopub.execute_input": "2021-06-23T00:31:59.059691Z",
     "iopub.status.busy": "2021-06-23T00:31:59.058800Z",
     "iopub.status.idle": "2021-06-23T00:31:59.079360Z",
     "shell.execute_reply": "2021-06-23T00:31:59.078568Z"
    },
    "papermill": {
     "duration": 0.050438,
     "end_time": "2021-06-23T00:31:59.079532",
     "exception": false,
     "start_time": "2021-06-23T00:31:59.029094",
     "status": "completed"
    },
    "tags": []
   },
   "outputs": [
    {
     "data": {
      "text/html": [
       "<div>\n",
       "<style scoped>\n",
       "    .dataframe tbody tr th:only-of-type {\n",
       "        vertical-align: middle;\n",
       "    }\n",
       "\n",
       "    .dataframe tbody tr th {\n",
       "        vertical-align: top;\n",
       "    }\n",
       "\n",
       "    .dataframe thead th {\n",
       "        text-align: right;\n",
       "    }\n",
       "</style>\n",
       "<table border=\"1\" class=\"dataframe\">\n",
       "  <thead>\n",
       "    <tr style=\"text-align: right;\">\n",
       "      <th></th>\n",
       "      <th>category</th>\n",
       "      <th>name</th>\n",
       "      <th>2021-05-02</th>\n",
       "      <th>2021-05-09</th>\n",
       "      <th>2021-05-16</th>\n",
       "      <th>2021-05-23</th>\n",
       "      <th>2021-05-30</th>\n",
       "    </tr>\n",
       "  </thead>\n",
       "  <tbody>\n",
       "    <tr>\n",
       "      <th>5</th>\n",
       "      <td>Visual display</td>\n",
       "      <td>shapes.txt</td>\n",
       "      <td>✅</td>\n",
       "      <td>✅</td>\n",
       "      <td>✅</td>\n",
       "      <td>✅</td>\n",
       "      <td>✅</td>\n",
       "    </tr>\n",
       "    <tr>\n",
       "      <th>3</th>\n",
       "      <td>Navigation</td>\n",
       "      <td>levels.txt</td>\n",
       "      <td></td>\n",
       "      <td></td>\n",
       "      <td></td>\n",
       "      <td></td>\n",
       "      <td></td>\n",
       "    </tr>\n",
       "    <tr>\n",
       "      <th>4</th>\n",
       "      <td>Navigation</td>\n",
       "      <td>pathways.txt</td>\n",
       "      <td></td>\n",
       "      <td></td>\n",
       "      <td></td>\n",
       "      <td></td>\n",
       "      <td></td>\n",
       "    </tr>\n",
       "    <tr>\n",
       "      <th>0</th>\n",
       "      <td>Fares</td>\n",
       "      <td>fare_leg_rules</td>\n",
       "      <td></td>\n",
       "      <td></td>\n",
       "      <td></td>\n",
       "      <td></td>\n",
       "      <td></td>\n",
       "    </tr>\n",
       "    <tr>\n",
       "      <th>1</th>\n",
       "      <td>Fares</td>\n",
       "      <td>fare_rules.txt</td>\n",
       "      <td></td>\n",
       "      <td></td>\n",
       "      <td></td>\n",
       "      <td></td>\n",
       "      <td></td>\n",
       "    </tr>\n",
       "    <tr>\n",
       "      <th>2</th>\n",
       "      <td>Technical contacts</td>\n",
       "      <td>feed_info.txt</td>\n",
       "      <td>✅</td>\n",
       "      <td>✅</td>\n",
       "      <td>✅</td>\n",
       "      <td>✅</td>\n",
       "      <td>✅</td>\n",
       "    </tr>\n",
       "  </tbody>\n",
       "</table>\n",
       "</div>"
      ],
      "text/plain": [
       "             category            name 2021-05-02 2021-05-09 2021-05-16  \\\n",
       "5      Visual display      shapes.txt          ✅          ✅          ✅   \n",
       "3          Navigation      levels.txt                                    \n",
       "4          Navigation    pathways.txt                                    \n",
       "0               Fares  fare_leg_rules                                    \n",
       "1               Fares  fare_rules.txt                                    \n",
       "2  Technical contacts   feed_info.txt          ✅          ✅          ✅   \n",
       "\n",
       "  2021-05-23 2021-05-30  \n",
       "5          ✅          ✅  \n",
       "3                        \n",
       "4                        \n",
       "0                        \n",
       "1                        \n",
       "2          ✅          ✅  "
      ]
     },
     "execution_count": 14,
     "metadata": {},
     "output_type": "execute_result"
    }
   ],
   "source": [
    "tbl_file_check"
   ]
  },
  {
   "cell_type": "markdown",
   "id": "7b6f2116",
   "metadata": {
    "papermill": {
     "duration": 0.047568,
     "end_time": "2021-06-23T00:31:59.155263",
     "exception": false,
     "start_time": "2021-06-23T00:31:59.107695",
     "status": "completed"
    },
    "tags": []
   },
   "source": [
    "### Validation Errors Observed"
   ]
  },
  {
   "cell_type": "code",
   "execution_count": 15,
   "id": "c75f5008",
   "metadata": {
    "execution": {
     "iopub.execute_input": "2021-06-23T00:31:59.296341Z",
     "iopub.status.busy": "2021-06-23T00:31:59.295306Z",
     "iopub.status.idle": "2021-06-23T00:31:59.297784Z",
     "shell.execute_reply": "2021-06-23T00:31:59.295803Z"
    },
    "papermill": {
     "duration": 0.09223,
     "end_time": "2021-06-23T00:31:59.297926",
     "exception": false,
     "start_time": "2021-06-23T00:31:59.205696",
     "status": "completed"
    },
    "tags": []
   },
   "outputs": [
    {
     "data": {
      "text/html": [
       "<div>\n",
       "<style scoped>\n",
       "    .dataframe tbody tr th:only-of-type {\n",
       "        vertical-align: middle;\n",
       "    }\n",
       "\n",
       "    .dataframe tbody tr th {\n",
       "        vertical-align: top;\n",
       "    }\n",
       "\n",
       "    .dataframe thead th {\n",
       "        text-align: right;\n",
       "    }\n",
       "</style>\n",
       "<table border=\"1\" class=\"dataframe\">\n",
       "  <thead>\n",
       "    <tr style=\"text-align: right;\">\n",
       "      <th></th>\n",
       "      <th>code</th>\n",
       "      <th>severity</th>\n",
       "      <th>n</th>\n",
       "    </tr>\n",
       "  </thead>\n",
       "  <tbody>\n",
       "    <tr>\n",
       "      <th>0</th>\n",
       "      <td>decreasing_or_equal_stop_time_distance</td>\n",
       "      <td>ERROR</td>\n",
       "      <td>66</td>\n",
       "    </tr>\n",
       "    <tr>\n",
       "      <th>1</th>\n",
       "      <td>decreasing_or_equal_shape_distance</td>\n",
       "      <td>ERROR</td>\n",
       "      <td>18</td>\n",
       "    </tr>\n",
       "  </tbody>\n",
       "</table>\n",
       "</div>"
      ],
      "text/plain": [
       "                                     code severity   n\n",
       "0  decreasing_or_equal_stop_time_distance    ERROR  66\n",
       "1      decreasing_or_equal_shape_distance    ERROR  18"
      ]
     },
     "execution_count": 15,
     "metadata": {},
     "output_type": "execute_result"
    }
   ],
   "source": [
    "tbl_validation_notices"
   ]
  }
 ],
 "metadata": {
  "kernelspec": {
   "display_name": "venv-calitp-py",
   "language": "python",
   "name": "venv-calitp-py"
  },
  "language_info": {
   "codemirror_mode": {
    "name": "ipython",
    "version": 3
   },
   "file_extension": ".py",
   "mimetype": "text/x-python",
   "name": "python",
   "nbconvert_exporter": "python",
   "pygments_lexer": "ipython3",
   "version": "3.8.5"
  },
  "papermill": {
   "default_parameters": {},
   "duration": 43.982321,
   "end_time": "2021-06-23T00:32:00.072101",
   "environment_variables": {},
   "exception": null,
   "input_path": "report.ipynb",
   "output_path": "output/194/report.ipynb",
   "parameters": {
    "CALITP_ITP_ID": 194,
    "CALITP_URL_NUMBER": 0
   },
   "start_time": "2021-06-23T00:31:16.089780",
   "version": "2.3.3"
  }
 },
 "nbformat": 4,
 "nbformat_minor": 5
}