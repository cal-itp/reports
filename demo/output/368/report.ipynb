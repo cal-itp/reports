{
 "cells": [
  {
   "cell_type": "markdown",
   "id": "2e10967a",
   "metadata": {
    "papermill": {
     "duration": 0.027405,
     "end_time": "2021-06-23T00:37:48.541253",
     "exception": false,
     "start_time": "2021-06-23T00:37:48.513848",
     "status": "completed"
    },
    "tags": [
     "hide"
    ]
   },
   "source": [
    "# Setup"
   ]
  },
  {
   "cell_type": "code",
   "execution_count": 1,
   "id": "4181a272",
   "metadata": {
    "execution": {
     "iopub.execute_input": "2021-06-23T00:37:48.621055Z",
     "iopub.status.busy": "2021-06-23T00:37:48.620024Z",
     "iopub.status.idle": "2021-06-23T00:37:57.137234Z",
     "shell.execute_reply": "2021-06-23T00:37:57.137774Z"
    },
    "papermill": {
     "duration": 8.560881,
     "end_time": "2021-06-23T00:37:57.138012",
     "exception": false,
     "start_time": "2021-06-23T00:37:48.577131",
     "status": "completed"
    },
    "tags": [
     "hide"
    ]
   },
   "outputs": [],
   "source": [
    "import pandas as pd\n",
    "\n",
    "from io import StringIO\n",
    "from calitp.tables import tbl\n",
    "from datetime import date\n",
    "from siuba import *\n",
    "from plotnine import *\n",
    "\n",
    "\n",
    "START_DATE = \"2021-05-01\"\n",
    "END_DATE = \"2021-06-01\"\n",
    "DATE_TODAY=date.today()\n",
    "\n",
    "WEEK_MARKERS = pd.date_range(START_DATE, END_DATE, freq=\"W\").astype(str).tolist()"
   ]
  },
  {
   "cell_type": "code",
   "execution_count": 2,
   "id": "e755879c",
   "metadata": {
    "execution": {
     "iopub.execute_input": "2021-06-23T00:37:57.241786Z",
     "iopub.status.busy": "2021-06-23T00:37:57.238352Z",
     "iopub.status.idle": "2021-06-23T00:37:57.256876Z",
     "shell.execute_reply": "2021-06-23T00:37:57.268184Z"
    },
    "papermill": {
     "duration": 0.070178,
     "end_time": "2021-06-23T00:37:57.268412",
     "exception": false,
     "start_time": "2021-06-23T00:37:57.198234",
     "status": "completed"
    },
    "tags": [
     "parameters",
     "hide"
    ]
   },
   "outputs": [],
   "source": [
    "CALITP_ITP_ID=389\n",
    "#CALITP_ITP_ID=45\n",
    "CALITP_URL_NUMBER=0"
   ]
  },
  {
   "cell_type": "code",
   "execution_count": 3,
   "id": "9c332e06",
   "metadata": {
    "execution": {
     "iopub.execute_input": "2021-06-23T00:37:57.370195Z",
     "iopub.status.busy": "2021-06-23T00:37:57.369188Z",
     "iopub.status.idle": "2021-06-23T00:37:57.379069Z",
     "shell.execute_reply": "2021-06-23T00:37:57.380061Z"
    },
    "papermill": {
     "duration": 0.089484,
     "end_time": "2021-06-23T00:37:57.380299",
     "exception": false,
     "start_time": "2021-06-23T00:37:57.290815",
     "status": "completed"
    },
    "tags": [
     "injected-parameters"
    ]
   },
   "outputs": [],
   "source": [
    "# Parameters\n",
    "CALITP_ITP_ID = 368\n",
    "CALITP_URL_NUMBER = 0\n"
   ]
  },
  {
   "cell_type": "code",
   "execution_count": 4,
   "id": "85e94c1d",
   "metadata": {
    "execution": {
     "iopub.execute_input": "2021-06-23T00:37:57.478122Z",
     "iopub.status.busy": "2021-06-23T00:37:57.476711Z",
     "iopub.status.idle": "2021-06-23T00:37:57.498404Z",
     "shell.execute_reply": "2021-06-23T00:37:57.499008Z"
    },
    "papermill": {
     "duration": 0.094506,
     "end_time": "2021-06-23T00:37:57.499349",
     "exception": false,
     "start_time": "2021-06-23T00:37:57.404843",
     "status": "completed"
    },
    "tags": [
     "hide"
    ]
   },
   "outputs": [],
   "source": [
    "# Convenience functions ----\n",
    "\n",
    "filter_start = filter(\n",
    "    _.calitp_extracted_at <= START_DATE,\n",
    "    _.calitp_deleted_at.fillna(\"2099-01-01\") > START_DATE,\n",
    ")\n",
    "\n",
    "filter_end = filter(\n",
    "    _.calitp_extracted_at <= END_DATE,\n",
    "    _.calitp_deleted_at.fillna(\"2099-01-01\") > END_DATE,\n",
    ")\n",
    "\n",
    "filter_itp = filter(\n",
    "    _.calitp_itp_id == CALITP_ITP_ID, _.calitp_url_number == CALITP_URL_NUMBER\n",
    ")\n",
    "\n",
    "collect_to_dict = (\n",
    "    collect()\n",
    "    >> pipe(_.to_dict(orient=\"records\")[0])\n",
    ")\n",
    "\n",
    "\n",
    "select_rm_calitp = select(\n",
    "    -_.calitp_itp_id,\n",
    "    -_.calitp_url_number,\n",
    "    -_.calitp_hash,\n",
    "    -_.calitp_extracted_at,\n",
    "    -_.calitp_deleted_at,\n",
    ")\n",
    "\n",
    "\n",
    "def query_id_changes(start_table, end_table, id_vars):\n",
    "    \"\"\"Calculate id variables that are removed, added, or unchanged between tables.\n",
    "    \n",
    "    It works by adding a special column to each table, performing a full join,\n",
    "    then checking where the special column is null.\n",
    "    \"\"\"\n",
    "    sym_id_vars = [_[k] for k in id_vars]\n",
    "\n",
    "    is_in_start = start_table >> select(*id_vars) >> mutate(is_in_start=True)\n",
    "    is_in_end = end_table >> select(*id_vars) >> mutate(is_in_end=True)\n",
    "\n",
    "    baseline = start_table >> count(*id_vars) >> rename(n_baseline=\"n\")\n",
    "    tallies = (\n",
    "        is_in_start\n",
    "        >> full_join(_, is_in_end, id_vars)\n",
    "        >> count(*sym_id_vars, _.is_in_start, _.is_in_end)\n",
    "        >> mutate(\n",
    "            status=case_when(\n",
    "                _,\n",
    "                {\n",
    "                    _.is_in_end.isna(): \"Removed\",\n",
    "                    _.is_in_start.isna(): \"Added\",\n",
    "                    True: \"Unchanged\",\n",
    "                },\n",
    "            )\n",
    "        )\n",
    "        >> count(*sym_id_vars[:-1], _.status)\n",
    "        >> group_by(*sym_id_vars[:-1])\n",
    "        >> mutate(percent=_.n / _.n.sum())\n",
    "    )\n",
    "\n",
    "    return tallies"
   ]
  },
  {
   "cell_type": "code",
   "execution_count": 5,
   "id": "9c4ef41d",
   "metadata": {
    "execution": {
     "iopub.execute_input": "2021-06-23T00:37:57.576399Z",
     "iopub.status.busy": "2021-06-23T00:37:57.570334Z",
     "iopub.status.idle": "2021-06-23T00:38:21.127457Z",
     "shell.execute_reply": "2021-06-23T00:38:21.128365Z"
    },
    "papermill": {
     "duration": 23.595251,
     "end_time": "2021-06-23T00:38:21.128790",
     "exception": false,
     "start_time": "2021-06-23T00:37:57.533539",
     "status": "completed"
    },
    "tags": [
     "hide"
    ]
   },
   "outputs": [],
   "source": [
    "# Data ====\n",
    "# 1. High level feed info ----\n",
    "feed_info = (\n",
    "    tbl.gtfs_schedule_type2.feed_info()\n",
    "    >> filter_end\n",
    "    >> filter_itp\n",
    "    >> select_rm_calitp\n",
    "    >> collect_to_dict\n",
    ")\n",
    "\n",
    "_n_routes = (\n",
    "    tbl.gtfs_schedule_type2.routes() >> filter_end >> filter_itp >> count() >> collect()\n",
    ")\n",
    "_n_stops = (\n",
    "    tbl.gtfs_schedule_type2.stops() >> filter_end >> filter_itp >> count() >> collect()\n",
    ")\n",
    "\n",
    "feed_info[\"n_routes\"] = int(_n_routes.loc[0, \"n\"])\n",
    "feed_info[\"n_stops\"] = int(_n_stops.loc[0, \"n\"])\n",
    "\n",
    "status = (\n",
    "    tbl.views.gtfs_status_latest()\n",
    "    >> filter(_.itp_id == CALITP_ITP_ID, _.url_number == CALITP_URL_NUMBER)\n",
    "    >> select(-_.url_number, -_.status)\n",
    "    >> select_rm_calitp\n",
    "    >> collect_to_dict\n",
    ")\n",
    "\n",
    "# 2. Monthly metrics ----\n",
    "# Service hours per day. Note that the queried table calculates service\n",
    "# hours per service id, so we need to sum across service ids for the day\n",
    "_cross_cal = (\n",
    "    tbl.views.dim_date()\n",
    "    >> filter(_.full_date.between(START_DATE, END_DATE))\n",
    "    >> select(_.service_date == _.full_date)\n",
    ")\n",
    "\n",
    "tbl_daily_service_hours = (\n",
    "    tbl.views.gtfs_schedule_service_daily_metrics()\n",
    "    >> filter_itp\n",
    "    >> filter(_.service_date.between(START_DATE, END_DATE))\n",
    "    >> right_join(_, _cross_cal, [\"service_date\"])\n",
    "    >> collect()\n",
    "    >> group_by(_.service_date)\n",
    "    >> summarize(ttl_service_hours=(_.last_arrival_ts.max() - _.first_departure_ts.min()) / 3600)\n",
    "    >> mutate(\n",
    "        ttl_service_hours=_.ttl_service_hours.astype(float).round(2),\n",
    "        service_date=_.service_date.astype(\"datetime64[ns]\"),\n",
    "    )\n",
    ")\n",
    "\n",
    "# number of days where a feed did not have any trips in service\n",
    "n_expired_days = (\n",
    "    tbl_daily_service_hours >> filter(_.ttl_service_hours.isna())\n",
    "    >> pipe(lambda d: {\"n\": d.shape[0]})\n",
    ")\n",
    "\n",
    "# 3. Stop and Route ID Changes ----\n",
    "\n",
    "_tbl_stops_start = tbl.gtfs_schedule_type2.stops() >> filter_itp >> filter_start\n",
    "_tbl_stops_end = tbl.gtfs_schedule_type2.stops() >> filter_itp >> filter_end\n",
    "tbl_stops_changed = (\n",
    "    query_id_changes(_tbl_stops_start, _tbl_stops_end, [\"stop_id\"]) >> collect()\n",
    ")\n",
    "\n",
    "_tbl_routes_start = tbl.gtfs_schedule_type2.routes() >> filter_start\n",
    "_tbl_routes_end = tbl.gtfs_schedule_type2.routes() >> filter_end\n",
    "tbl_routes_changed = (\n",
    "    query_id_changes(_tbl_routes_start, _tbl_routes_end, [\"route_id\"]) >> collect()\n",
    ")"
   ]
  },
  {
   "cell_type": "code",
   "execution_count": 6,
   "id": "5a988bfa",
   "metadata": {
    "execution": {
     "iopub.execute_input": "2021-06-23T00:38:21.208931Z",
     "iopub.status.busy": "2021-06-23T00:38:21.207505Z",
     "iopub.status.idle": "2021-06-23T00:38:26.406781Z",
     "shell.execute_reply": "2021-06-23T00:38:26.407306Z"
    },
    "papermill": {
     "duration": 5.24362,
     "end_time": "2021-06-23T00:38:26.407505",
     "exception": false,
     "start_time": "2021-06-23T00:38:21.163885",
     "status": "completed"
    },
    "tags": [
     "hide"
    ]
   },
   "outputs": [],
   "source": [
    "# 4. Feed files being checked for ----\n",
    "\n",
    "file_categories = pd.DataFrame(\n",
    "    {\n",
    "        \"shapes.txt\": \"Visual display\",\n",
    "        \"pathways.txt\": \"Navigation\",\n",
    "        \"levels.txt\": \"Navigation\",\n",
    "        \"fare_rules.txt\": \"Fares\",\n",
    "        \"fare_leg_rules\": \"Fares\",\n",
    "        \"feed_info.txt\": \"Technical contacts\",\n",
    "    }.items(),\n",
    "    columns=[\"name\", \"category\"],\n",
    ")\n",
    "\n",
    "importance = [\"Visual display\", \"Navigation\", \"Fares\", \"Technical contacts\"]\n",
    "\n",
    "tbl_file_check = (\n",
    "    tbl.gtfs_schedule_history.calitp_files_updates()\n",
    "    >> filter_itp\n",
    "    >> filter(_.calitp_extracted_at.isin(WEEK_MARKERS))\n",
    "    >> select(_.name, _.calitp_extracted_at)\n",
    "    >> collect()\n",
    "    >> right_join(_, file_categories, [\"name\"])\n",
    "    >> mutate(\n",
    "        calitp_extracted_at=_.calitp_extracted_at.fillna(\"missing\").astype(str),\n",
    "        success=\"✅\",\n",
    "    )\n",
    "    >> spread(_.calitp_extracted_at, _.success)\n",
    "    >> select(-_.missing)\n",
    "    >> arrange(_.category.apply(importance.index))\n",
    "    >> select(_.category, _.contains(\"\"))\n",
    "    >> pipe(_.fillna(\"\"))\n",
    ")\n",
    "\n",
    "tbl_validation_notices = (\n",
    "    tbl.views.validation_notices()\n",
    "    >> filter_itp\n",
    "    >> filter(_.severity == \"ERROR\")\n",
    "    >> count(_.code, _.severity)\n",
    "    >> collect()\n",
    ")"
   ]
  },
  {
   "cell_type": "markdown",
   "id": "608bd568",
   "metadata": {
    "papermill": {
     "duration": 0.05569,
     "end_time": "2021-06-23T00:38:26.566374",
     "exception": false,
     "start_time": "2021-06-23T00:38:26.510684",
     "status": "completed"
    },
    "tags": [
     "hide"
    ]
   },
   "source": [
    "## Dump data"
   ]
  },
  {
   "cell_type": "code",
   "execution_count": 7,
   "id": "be1c81c5",
   "metadata": {
    "execution": {
     "iopub.execute_input": "2021-06-23T00:38:26.788177Z",
     "iopub.status.busy": "2021-06-23T00:38:26.771067Z",
     "iopub.status.idle": "2021-06-23T00:38:26.789263Z",
     "shell.execute_reply": "2021-06-23T00:38:26.787244Z"
    },
    "papermill": {
     "duration": 0.129291,
     "end_time": "2021-06-23T00:38:26.789493",
     "exception": false,
     "start_time": "2021-06-23T00:38:26.660202",
     "status": "completed"
    },
    "tags": [
     "hide"
    ]
   },
   "outputs": [],
   "source": [
    "import json\n",
    "import shutil\n",
    "\n",
    "from pathlib import Path\n",
    "\n",
    "out_dir = Path(f\"output/{CALITP_ITP_ID}_{CALITP_URL_NUMBER}/data\")\n",
    "out_dir.mkdir(parents=True, exist_ok=True)\n",
    "\n",
    "json.dump(feed_info, open(out_dir / \"1_feed_info.json\", \"w\"))\n",
    "json.dump(status, open(out_dir / \"1_status.json\", \"w\"))\n",
    "\n",
    "tbl_daily_service_hours.to_json(out_dir / \"2_daily_service_hours.json\", orient=\"records\")\n",
    "json.dump(n_expired_days, open(out_dir / \"2_n_expired_days.json\", \"w\"))\n",
    "\n",
    "tbl_stops_changed.to_json(out_dir / \"3_stops_changed.json\", orient=\"records\")\n",
    "tbl_routes_changed.to_json(out_dir / \"3_routes_changed.json\", orient=\"records\")\n",
    "tbl_file_check.to_json(out_dir / \"4_file_check.json\", orient=\"records\")\n",
    "tbl_validation_notices.to_json(out_dir / \"4_validation_notices.json\", orient=\"records\")\n"
   ]
  },
  {
   "cell_type": "markdown",
   "id": "bf66970a",
   "metadata": {
    "papermill": {
     "duration": 0.123572,
     "end_time": "2021-06-23T00:38:27.005792",
     "exception": false,
     "start_time": "2021-06-23T00:38:26.882220",
     "status": "completed"
    },
    "tags": []
   },
   "source": [
    "# GTFS Schedule Report"
   ]
  },
  {
   "cell_type": "markdown",
   "id": "44a94b0c",
   "metadata": {
    "papermill": {
     "duration": 0.072026,
     "end_time": "2021-06-23T00:38:27.138124",
     "exception": false,
     "start_time": "2021-06-23T00:38:27.066098",
     "status": "completed"
    },
    "tags": []
   },
   "source": [
    "# Example Juniper Report"
   ]
  },
  {
   "cell_type": "code",
   "execution_count": 8,
   "id": "b0be8bcd",
   "metadata": {
    "execution": {
     "iopub.execute_input": "2021-06-23T00:38:27.431292Z",
     "iopub.status.busy": "2021-06-23T00:38:27.428704Z",
     "iopub.status.idle": "2021-06-23T00:38:27.467824Z",
     "shell.execute_reply": "2021-06-23T00:38:27.429997Z"
    },
    "papermill": {
     "duration": 0.234598,
     "end_time": "2021-06-23T00:38:27.468006",
     "exception": false,
     "start_time": "2021-06-23T00:38:27.233408",
     "status": "completed"
    },
    "tags": []
   },
   "outputs": [
    {
     "data": {
      "text/markdown": [
       "\n",
       "Transit provider name: Trillium Solutions, Inc.\n",
       "\n",
       "Date generated: 2021-06-22\n"
      ],
      "text/plain": [
       "<IPython.core.display.Markdown object>"
      ]
     },
     "execution_count": 8,
     "metadata": {},
     "output_type": "execute_result"
    }
   ],
   "source": [
    "from IPython.display import Markdown\n",
    "\n",
    "Markdown(f\"\"\"\n",
    "Transit provider name: {feed_info[\"feed_publisher_name\"]}\n",
    "\n",
    "Date generated: {DATE_TODAY}\n",
    "\"\"\")"
   ]
  },
  {
   "cell_type": "markdown",
   "id": "eb63f8f5",
   "metadata": {
    "papermill": {
     "duration": 0.13638,
     "end_time": "2021-06-23T00:38:27.628930",
     "exception": false,
     "start_time": "2021-06-23T00:38:27.492550",
     "status": "completed"
    },
    "tags": []
   },
   "source": [
    "This is a monthly report, generated by the California Integrated Travel Project (Cal-ITP), summarizing issues discovered by MobilityData’s GTFS Validator. This report is available for viewing by the general public to support continuous improvement of GTFS data and the experience of transit passengers. "
   ]
  },
  {
   "cell_type": "markdown",
   "id": "e44e6b05",
   "metadata": {
    "papermill": {
     "duration": 0.11772,
     "end_time": "2021-06-23T00:38:27.864393",
     "exception": false,
     "start_time": "2021-06-23T00:38:27.746673",
     "status": "completed"
    },
    "tags": []
   },
   "source": [
    "## Overview"
   ]
  },
  {
   "cell_type": "code",
   "execution_count": 9,
   "id": "b8c66e9c",
   "metadata": {
    "execution": {
     "iopub.execute_input": "2021-06-23T00:38:28.077336Z",
     "iopub.status.busy": "2021-06-23T00:38:28.045823Z",
     "iopub.status.idle": "2021-06-23T00:38:28.144010Z",
     "shell.execute_reply": "2021-06-23T00:38:28.057303Z"
    },
    "papermill": {
     "duration": 0.217893,
     "end_time": "2021-06-23T00:38:28.144372",
     "exception": false,
     "start_time": "2021-06-23T00:38:27.926479",
     "status": "completed"
    },
    "tags": []
   },
   "outputs": [
    {
     "data": {
      "text/markdown": [
       "\n",
       "Feed location: http://data.trilliumtransit.com/gtfs/westcat-ca-us/westcat-ca-us.zip\n",
       "\n",
       "Metrics for the most recent published version of the feed:\n",
       "\n",
       "* Date published: UTC: 29-Apr-2021 19:33\n",
       "* Number of routes in any service: 17\n",
       "* Number of stops in service: 229\n"
      ],
      "text/plain": [
       "<IPython.core.display.Markdown object>"
      ]
     },
     "execution_count": 9,
     "metadata": {},
     "output_type": "execute_result"
    }
   ],
   "source": [
    "Markdown(f\"\"\"\n",
    "Feed location: {status[\"gtfs_schedule_url\"]}\n",
    "\n",
    "Metrics for the most recent published version of the feed:\n",
    "\n",
    "* Date published: {feed_info[\"feed_version\"]}\n",
    "* Number of routes in any service: {feed_info[\"n_routes\"]}\n",
    "* Number of stops in service: {feed_info[\"n_stops\"]}\n",
    "\"\"\")"
   ]
  },
  {
   "cell_type": "markdown",
   "id": "cf3ed8a6",
   "metadata": {
    "papermill": {
     "duration": 0.070389,
     "end_time": "2021-06-23T00:38:28.321720",
     "exception": false,
     "start_time": "2021-06-23T00:38:28.251331",
     "status": "completed"
    },
    "tags": []
   },
   "source": [
    "## Aggregated Metrics for May"
   ]
  },
  {
   "cell_type": "code",
   "execution_count": 10,
   "id": "4c6cf8f1",
   "metadata": {
    "execution": {
     "iopub.execute_input": "2021-06-23T00:38:28.597098Z",
     "iopub.status.busy": "2021-06-23T00:38:28.582406Z",
     "iopub.status.idle": "2021-06-23T00:38:33.011883Z",
     "shell.execute_reply": "2021-06-23T00:38:33.012438Z"
    },
    "papermill": {
     "duration": 4.505089,
     "end_time": "2021-06-23T00:38:33.012637",
     "exception": false,
     "start_time": "2021-06-23T00:38:28.507548",
     "status": "completed"
    },
    "tags": []
   },
   "outputs": [
    {
     "name": "stdout",
     "output_type": "stream",
     "text": [
      "The history saving thread hit an unexpected error (OperationalError('database is locked')).History will not be written to the database."
     ]
    },
    {
     "data": {
      "text/markdown": [
       "\n",
       "Days when the active feed was expired: 0\n"
      ],
      "text/plain": [
       "<IPython.core.display.Markdown object>"
      ]
     },
     "execution_count": 10,
     "metadata": {},
     "output_type": "execute_result"
    },
    {
     "name": "stdout",
     "output_type": "stream",
     "text": [
      "\n"
     ]
    }
   ],
   "source": [
    "Markdown(f\"\"\"\n",
    "Days when the active feed was expired: {n_expired_days[\"n\"]}\n",
    "\"\"\")"
   ]
  },
  {
   "cell_type": "code",
   "execution_count": 11,
   "id": "dba71628",
   "metadata": {
    "execution": {
     "iopub.execute_input": "2021-06-23T00:38:33.092539Z",
     "iopub.status.busy": "2021-06-23T00:38:33.091550Z",
     "iopub.status.idle": "2021-06-23T00:38:33.532856Z",
     "shell.execute_reply": "2021-06-23T00:38:33.533290Z"
    },
    "papermill": {
     "duration": 0.50226,
     "end_time": "2021-06-23T00:38:33.533461",
     "exception": false,
     "start_time": "2021-06-23T00:38:33.031201",
     "status": "completed"
    },
    "tags": []
   },
   "outputs": [
    {
     "data": {
      "image/png": "[encoded data removed]",
      "text/plain": [
       "<Figure size 640x480 with 1 Axes>"
      ]
     },
     "metadata": {},
     "output_type": "display_data"
    },
    {
     "data": {
      "text/plain": [
       "<ggplot: (301490074)>"
      ]
     },
     "execution_count": 11,
     "metadata": {},
     "output_type": "execute_result"
    }
   ],
   "source": [
    "(\n",
    "    tbl_daily_service_hours\n",
    "    >> ggplot(aes(\"service_date\", \"ttl_service_hours\"))\n",
    "    + geom_line()\n",
    "    + geom_point()\n",
    "    + theme(axis_text_x=element_text(angle=45, hjust=1))\n",
    "    + scale_x_datetime(date_breaks=\"1 week\")\n",
    "    + expand_limits(y=0)\n",
    ")"
   ]
  },
  {
   "cell_type": "markdown",
   "id": "80f868af",
   "metadata": {
    "papermill": {
     "duration": 0.018709,
     "end_time": "2021-06-23T00:38:33.571185",
     "exception": false,
     "start_time": "2021-06-23T00:38:33.552476",
     "status": "completed"
    },
    "tags": []
   },
   "source": [
    "## Changes Since Previous Month"
   ]
  },
  {
   "cell_type": "code",
   "execution_count": 12,
   "id": "aa58cb6b",
   "metadata": {
    "execution": {
     "iopub.execute_input": "2021-06-23T00:38:33.716151Z",
     "iopub.status.busy": "2021-06-23T00:38:33.664089Z",
     "iopub.status.idle": "2021-06-23T00:38:33.886850Z",
     "shell.execute_reply": "2021-06-23T00:38:33.886231Z"
    },
    "papermill": {
     "duration": 0.289682,
     "end_time": "2021-06-23T00:38:33.886994",
     "exception": false,
     "start_time": "2021-06-23T00:38:33.597312",
     "status": "completed"
    },
    "tags": []
   },
   "outputs": [
    {
     "data": {
      "image/png": "[encoded data removed]",
      "text/plain": [
       "<Figure size 640x480 with 1 Axes>"
      ]
     },
     "metadata": {},
     "output_type": "display_data"
    },
    {
     "data": {
      "text/plain": [
       "<ggplot: (301668473)>"
      ]
     },
     "execution_count": 12,
     "metadata": {},
     "output_type": "execute_result"
    }
   ],
   "source": [
    "(\n",
    "    pd.concat(\n",
    "        [\n",
    "            tbl_stops_changed >> mutate(kind=\"Stops\"),\n",
    "            tbl_routes_changed >> mutate(kind=\"Routes\"),\n",
    "        ]\n",
    "    )\n",
    "    >> ggplot(aes(\"kind\", \"n\", fill=\"status\"))\n",
    "    + geom_col()\n",
    "    + labs(x=\"Kind of ID\", y=\"Number of Changes\")\n",
    ")"
   ]
  },
  {
   "cell_type": "markdown",
   "id": "ae48def7",
   "metadata": {
    "papermill": {
     "duration": 0.019644,
     "end_time": "2021-06-23T00:38:33.926597",
     "exception": false,
     "start_time": "2021-06-23T00:38:33.906953",
     "status": "completed"
    },
    "tags": []
   },
   "source": [
    "### (Alternative version using percentages)"
   ]
  },
  {
   "cell_type": "code",
   "execution_count": 13,
   "id": "6bb07997",
   "metadata": {
    "execution": {
     "iopub.execute_input": "2021-06-23T00:38:34.017125Z",
     "iopub.status.busy": "2021-06-23T00:38:34.012235Z",
     "iopub.status.idle": "2021-06-23T00:38:34.246581Z",
     "shell.execute_reply": "2021-06-23T00:38:34.245997Z"
    },
    "papermill": {
     "duration": 0.297173,
     "end_time": "2021-06-23T00:38:34.246733",
     "exception": false,
     "start_time": "2021-06-23T00:38:33.949560",
     "status": "completed"
    },
    "tags": []
   },
   "outputs": [
    {
     "data": {
      "image/png": "[encoded data removed]",
      "text/plain": [
       "<Figure size 640x480 with 1 Axes>"
      ]
     },
     "metadata": {},
     "output_type": "display_data"
    },
    {
     "data": {
      "text/plain": [
       "<ggplot: (301853025)>"
      ]
     },
     "execution_count": 13,
     "metadata": {},
     "output_type": "execute_result"
    }
   ],
   "source": [
    "(\n",
    "    pd.concat(\n",
    "        [\n",
    "            tbl_stops_changed >> mutate(kind=\"Stops\"),\n",
    "            tbl_routes_changed >> mutate(kind=\"Routes\"),\n",
    "        ]\n",
    "    )\n",
    "    >> ggplot(aes(\"kind\", \"percent\", fill=\"status\"))\n",
    "    + geom_col()\n",
    "    + labs(x=\"Kind of ID\", y=\"Percent of Changes\")\n",
    ")"
   ]
  },
  {
   "cell_type": "markdown",
   "id": "69a2634e",
   "metadata": {
    "papermill": {
     "duration": 0.020706,
     "end_time": "2021-06-23T00:38:34.289663",
     "exception": false,
     "start_time": "2021-06-23T00:38:34.268957",
     "status": "completed"
    },
    "tags": []
   },
   "source": [
    "## Consistency with the California GTFS Minimum Guidelines for the feed downloaded\n"
   ]
  },
  {
   "cell_type": "code",
   "execution_count": 14,
   "id": "176dd8d3",
   "metadata": {
    "execution": {
     "iopub.execute_input": "2021-06-23T00:38:34.362377Z",
     "iopub.status.busy": "2021-06-23T00:38:34.361810Z",
     "iopub.status.idle": "2021-06-23T00:38:34.371402Z",
     "shell.execute_reply": "2021-06-23T00:38:34.370901Z"
    },
    "papermill": {
     "duration": 0.044577,
     "end_time": "2021-06-23T00:38:34.371544",
     "exception": false,
     "start_time": "2021-06-23T00:38:34.326967",
     "status": "completed"
    },
    "tags": []
   },
   "outputs": [
    {
     "data": {
      "text/html": [
       "<div>\n",
       "<style scoped>\n",
       "    .dataframe tbody tr th:only-of-type {\n",
       "        vertical-align: middle;\n",
       "    }\n",
       "\n",
       "    .dataframe tbody tr th {\n",
       "        vertical-align: top;\n",
       "    }\n",
       "\n",
       "    .dataframe thead th {\n",
       "        text-align: right;\n",
       "    }\n",
       "</style>\n",
       "<table border=\"1\" class=\"dataframe\">\n",
       "  <thead>\n",
       "    <tr style=\"text-align: right;\">\n",
       "      <th></th>\n",
       "      <th>category</th>\n",
       "      <th>name</th>\n",
       "      <th>2021-05-02</th>\n",
       "      <th>2021-05-09</th>\n",
       "      <th>2021-05-16</th>\n",
       "      <th>2021-05-23</th>\n",
       "      <th>2021-05-30</th>\n",
       "    </tr>\n",
       "  </thead>\n",
       "  <tbody>\n",
       "    <tr>\n",
       "      <th>5</th>\n",
       "      <td>Visual display</td>\n",
       "      <td>shapes.txt</td>\n",
       "      <td>✅</td>\n",
       "      <td>✅</td>\n",
       "      <td>✅</td>\n",
       "      <td>✅</td>\n",
       "      <td>✅</td>\n",
       "    </tr>\n",
       "    <tr>\n",
       "      <th>3</th>\n",
       "      <td>Navigation</td>\n",
       "      <td>levels.txt</td>\n",
       "      <td></td>\n",
       "      <td></td>\n",
       "      <td></td>\n",
       "      <td></td>\n",
       "      <td></td>\n",
       "    </tr>\n",
       "    <tr>\n",
       "      <th>4</th>\n",
       "      <td>Navigation</td>\n",
       "      <td>pathways.txt</td>\n",
       "      <td></td>\n",
       "      <td></td>\n",
       "      <td></td>\n",
       "      <td></td>\n",
       "      <td></td>\n",
       "    </tr>\n",
       "    <tr>\n",
       "      <th>0</th>\n",
       "      <td>Fares</td>\n",
       "      <td>fare_leg_rules</td>\n",
       "      <td></td>\n",
       "      <td></td>\n",
       "      <td></td>\n",
       "      <td></td>\n",
       "      <td></td>\n",
       "    </tr>\n",
       "    <tr>\n",
       "      <th>1</th>\n",
       "      <td>Fares</td>\n",
       "      <td>fare_rules.txt</td>\n",
       "      <td>✅</td>\n",
       "      <td>✅</td>\n",
       "      <td>✅</td>\n",
       "      <td>✅</td>\n",
       "      <td>✅</td>\n",
       "    </tr>\n",
       "    <tr>\n",
       "      <th>2</th>\n",
       "      <td>Technical contacts</td>\n",
       "      <td>feed_info.txt</td>\n",
       "      <td>✅</td>\n",
       "      <td>✅</td>\n",
       "      <td>✅</td>\n",
       "      <td>✅</td>\n",
       "      <td>✅</td>\n",
       "    </tr>\n",
       "  </tbody>\n",
       "</table>\n",
       "</div>"
      ],
      "text/plain": [
       "             category            name 2021-05-02 2021-05-09 2021-05-16  \\\n",
       "5      Visual display      shapes.txt          ✅          ✅          ✅   \n",
       "3          Navigation      levels.txt                                    \n",
       "4          Navigation    pathways.txt                                    \n",
       "0               Fares  fare_leg_rules                                    \n",
       "1               Fares  fare_rules.txt          ✅          ✅          ✅   \n",
       "2  Technical contacts   feed_info.txt          ✅          ✅          ✅   \n",
       "\n",
       "  2021-05-23 2021-05-30  \n",
       "5          ✅          ✅  \n",
       "3                        \n",
       "4                        \n",
       "0                        \n",
       "1          ✅          ✅  \n",
       "2          ✅          ✅  "
      ]
     },
     "execution_count": 14,
     "metadata": {},
     "output_type": "execute_result"
    }
   ],
   "source": [
    "tbl_file_check"
   ]
  },
  {
   "cell_type": "markdown",
   "id": "6239ca80",
   "metadata": {
    "papermill": {
     "duration": 0.021174,
     "end_time": "2021-06-23T00:38:34.414314",
     "exception": false,
     "start_time": "2021-06-23T00:38:34.393140",
     "status": "completed"
    },
    "tags": []
   },
   "source": [
    "### Validation Errors Observed"
   ]
  },
  {
   "cell_type": "code",
   "execution_count": 15,
   "id": "d9cee60a",
   "metadata": {
    "execution": {
     "iopub.execute_input": "2021-06-23T00:38:34.468866Z",
     "iopub.status.busy": "2021-06-23T00:38:34.468185Z",
     "iopub.status.idle": "2021-06-23T00:38:34.473086Z",
     "shell.execute_reply": "2021-06-23T00:38:34.472508Z"
    },
    "papermill": {
     "duration": 0.033889,
     "end_time": "2021-06-23T00:38:34.473223",
     "exception": false,
     "start_time": "2021-06-23T00:38:34.439334",
     "status": "completed"
    },
    "tags": []
   },
   "outputs": [
    {
     "data": {
      "text/html": [
       "<div>\n",
       "<style scoped>\n",
       "    .dataframe tbody tr th:only-of-type {\n",
       "        vertical-align: middle;\n",
       "    }\n",
       "\n",
       "    .dataframe tbody tr th {\n",
       "        vertical-align: top;\n",
       "    }\n",
       "\n",
       "    .dataframe thead th {\n",
       "        text-align: right;\n",
       "    }\n",
       "</style>\n",
       "<table border=\"1\" class=\"dataframe\">\n",
       "  <thead>\n",
       "    <tr style=\"text-align: right;\">\n",
       "      <th></th>\n",
       "      <th>code</th>\n",
       "      <th>severity</th>\n",
       "      <th>n</th>\n",
       "    </tr>\n",
       "  </thead>\n",
       "  <tbody>\n",
       "  </tbody>\n",
       "</table>\n",
       "</div>"
      ],
      "text/plain": [
       "Empty DataFrame\n",
       "Columns: [code, severity, n]\n",
       "Index: []"
      ]
     },
     "execution_count": 15,
     "metadata": {},
     "output_type": "execute_result"
    }
   ],
   "source": [
    "tbl_validation_notices"
   ]
  }
 ],
 "metadata": {
  "kernelspec": {
   "display_name": "venv-calitp-py",
   "language": "python",
   "name": "venv-calitp-py"
  },
  "language_info": {
   "codemirror_mode": {
    "name": "ipython",
    "version": 3
   },
   "file_extension": ".py",
   "mimetype": "text/x-python",
   "name": "python",
   "nbconvert_exporter": "python",
   "pygments_lexer": "ipython3",
   "version": "3.8.5"
  },
  "papermill": {
   "default_parameters": {},
   "duration": 50.15174,
   "end_time": "2021-06-23T00:38:37.114196",
   "environment_variables": {},
   "exception": null,
   "input_path": "report.ipynb",
   "output_path": "output/368/report.ipynb",
   "parameters": {
    "CALITP_ITP_ID": 368,
    "CALITP_URL_NUMBER": 0
   },
   "start_time": "2021-06-23T00:37:46.962456",
   "version": "2.3.3"
  }
 },
 "nbformat": 4,
 "nbformat_minor": 5
}