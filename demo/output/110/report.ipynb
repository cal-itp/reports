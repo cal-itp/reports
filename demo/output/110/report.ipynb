{
 "cells": [
  {
   "cell_type": "markdown",
   "id": "2663de55",
   "metadata": {
    "papermill": {
     "duration": 0.016186,
     "end_time": "2021-06-23T00:28:38.129865",
     "exception": false,
     "start_time": "2021-06-23T00:28:38.113679",
     "status": "completed"
    },
    "tags": [
     "hide"
    ]
   },
   "source": [
    "# Setup"
   ]
  },
  {
   "cell_type": "code",
   "execution_count": 1,
   "id": "89a75acc",
   "metadata": {
    "execution": {
     "iopub.execute_input": "2021-06-23T00:28:38.182710Z",
     "iopub.status.busy": "2021-06-23T00:28:38.174321Z",
     "iopub.status.idle": "2021-06-23T00:28:44.829049Z",
     "shell.execute_reply": "2021-06-23T00:28:44.828492Z"
    },
    "papermill": {
     "duration": 6.682655,
     "end_time": "2021-06-23T00:28:44.829210",
     "exception": false,
     "start_time": "2021-06-23T00:28:38.146555",
     "status": "completed"
    },
    "tags": [
     "hide"
    ]
   },
   "outputs": [],
   "source": [
    "import pandas as pd\n",
    "\n",
    "from io import StringIO\n",
    "from calitp.tables import tbl\n",
    "from datetime import date\n",
    "from siuba import *\n",
    "from plotnine import *\n",
    "\n",
    "\n",
    "START_DATE = \"2021-05-01\"\n",
    "END_DATE = \"2021-06-01\"\n",
    "DATE_TODAY=date.today()\n",
    "\n",
    "WEEK_MARKERS = pd.date_range(START_DATE, END_DATE, freq=\"W\").astype(str).tolist()"
   ]
  },
  {
   "cell_type": "code",
   "execution_count": 2,
   "id": "e6914dc1",
   "metadata": {
    "execution": {
     "iopub.execute_input": "2021-06-23T00:28:44.890294Z",
     "iopub.status.busy": "2021-06-23T00:28:44.889148Z",
     "iopub.status.idle": "2021-06-23T00:28:44.902089Z",
     "shell.execute_reply": "2021-06-23T00:28:44.900959Z"
    },
    "papermill": {
     "duration": 0.056487,
     "end_time": "2021-06-23T00:28:44.902489",
     "exception": false,
     "start_time": "2021-06-23T00:28:44.846002",
     "status": "completed"
    },
    "tags": [
     "parameters",
     "hide"
    ]
   },
   "outputs": [],
   "source": [
    "CALITP_ITP_ID=389\n",
    "#CALITP_ITP_ID=45\n",
    "CALITP_URL_NUMBER=0"
   ]
  },
  {
   "cell_type": "code",
   "execution_count": 3,
   "id": "ca627fa5",
   "metadata": {
    "execution": {
     "iopub.execute_input": "2021-06-23T00:28:44.962284Z",
     "iopub.status.busy": "2021-06-23T00:28:44.961121Z",
     "iopub.status.idle": "2021-06-23T00:28:44.964972Z",
     "shell.execute_reply": "2021-06-23T00:28:44.965657Z"
    },
    "papermill": {
     "duration": 0.033019,
     "end_time": "2021-06-23T00:28:44.965891",
     "exception": false,
     "start_time": "2021-06-23T00:28:44.932872",
     "status": "completed"
    },
    "tags": [
     "injected-parameters"
    ]
   },
   "outputs": [],
   "source": [
    "# Parameters\n",
    "CALITP_ITP_ID = 110\n",
    "CALITP_URL_NUMBER = 0\n"
   ]
  },
  {
   "cell_type": "code",
   "execution_count": 4,
   "id": "4bef24a2",
   "metadata": {
    "execution": {
     "iopub.execute_input": "2021-06-23T00:28:45.028049Z",
     "iopub.status.busy": "2021-06-23T00:28:45.026622Z",
     "iopub.status.idle": "2021-06-23T00:28:45.039111Z",
     "shell.execute_reply": "2021-06-23T00:28:45.040024Z"
    },
    "papermill": {
     "duration": 0.054512,
     "end_time": "2021-06-23T00:28:45.040391",
     "exception": false,
     "start_time": "2021-06-23T00:28:44.985879",
     "status": "completed"
    },
    "tags": [
     "hide"
    ]
   },
   "outputs": [],
   "source": [
    "# Convenience functions ----\n",
    "\n",
    "filter_start = filter(\n",
    "    _.calitp_extracted_at <= START_DATE,\n",
    "    _.calitp_deleted_at.fillna(\"2099-01-01\") > START_DATE,\n",
    ")\n",
    "\n",
    "filter_end = filter(\n",
    "    _.calitp_extracted_at <= END_DATE,\n",
    "    _.calitp_deleted_at.fillna(\"2099-01-01\") > END_DATE,\n",
    ")\n",
    "\n",
    "filter_itp = filter(\n",
    "    _.calitp_itp_id == CALITP_ITP_ID, _.calitp_url_number == CALITP_URL_NUMBER\n",
    ")\n",
    "\n",
    "collect_to_dict = (\n",
    "    collect()\n",
    "    >> pipe(_.to_dict(orient=\"records\")[0])\n",
    ")\n",
    "\n",
    "\n",
    "select_rm_calitp = select(\n",
    "    -_.calitp_itp_id,\n",
    "    -_.calitp_url_number,\n",
    "    -_.calitp_hash,\n",
    "    -_.calitp_extracted_at,\n",
    "    -_.calitp_deleted_at,\n",
    ")\n",
    "\n",
    "\n",
    "def query_id_changes(start_table, end_table, id_vars):\n",
    "    \"\"\"Calculate id variables that are removed, added, or unchanged between tables.\n",
    "    \n",
    "    It works by adding a special column to each table, performing a full join,\n",
    "    then checking where the special column is null.\n",
    "    \"\"\"\n",
    "    sym_id_vars = [_[k] for k in id_vars]\n",
    "\n",
    "    is_in_start = start_table >> select(*id_vars) >> mutate(is_in_start=True)\n",
    "    is_in_end = end_table >> select(*id_vars) >> mutate(is_in_end=True)\n",
    "\n",
    "    baseline = start_table >> count(*id_vars) >> rename(n_baseline=\"n\")\n",
    "    tallies = (\n",
    "        is_in_start\n",
    "        >> full_join(_, is_in_end, id_vars)\n",
    "        >> count(*sym_id_vars, _.is_in_start, _.is_in_end)\n",
    "        >> mutate(\n",
    "            status=case_when(\n",
    "                _,\n",
    "                {\n",
    "                    _.is_in_end.isna(): \"Removed\",\n",
    "                    _.is_in_start.isna(): \"Added\",\n",
    "                    True: \"Unchanged\",\n",
    "                },\n",
    "            )\n",
    "        )\n",
    "        >> count(*sym_id_vars[:-1], _.status)\n",
    "        >> group_by(*sym_id_vars[:-1])\n",
    "        >> mutate(percent=_.n / _.n.sum())\n",
    "    )\n",
    "\n",
    "    return tallies"
   ]
  },
  {
   "cell_type": "code",
   "execution_count": 5,
   "id": "466b16d2",
   "metadata": {
    "execution": {
     "iopub.execute_input": "2021-06-23T00:28:45.162360Z",
     "iopub.status.busy": "2021-06-23T00:28:45.158943Z",
     "iopub.status.idle": "2021-06-23T00:29:09.559370Z",
     "shell.execute_reply": "2021-06-23T00:29:09.558852Z"
    },
    "papermill": {
     "duration": 24.466309,
     "end_time": "2021-06-23T00:29:09.559529",
     "exception": false,
     "start_time": "2021-06-23T00:28:45.093220",
     "status": "completed"
    },
    "tags": [
     "hide"
    ]
   },
   "outputs": [],
   "source": [
    "# Data ====\n",
    "# 1. High level feed info ----\n",
    "feed_info = (\n",
    "    tbl.gtfs_schedule_type2.feed_info()\n",
    "    >> filter_end\n",
    "    >> filter_itp\n",
    "    >> select_rm_calitp\n",
    "    >> collect_to_dict\n",
    ")\n",
    "\n",
    "_n_routes = (\n",
    "    tbl.gtfs_schedule_type2.routes() >> filter_end >> filter_itp >> count() >> collect()\n",
    ")\n",
    "_n_stops = (\n",
    "    tbl.gtfs_schedule_type2.stops() >> filter_end >> filter_itp >> count() >> collect()\n",
    ")\n",
    "\n",
    "feed_info[\"n_routes\"] = int(_n_routes.loc[0, \"n\"])\n",
    "feed_info[\"n_stops\"] = int(_n_stops.loc[0, \"n\"])\n",
    "\n",
    "status = (\n",
    "    tbl.views.gtfs_status_latest()\n",
    "    >> filter(_.itp_id == CALITP_ITP_ID, _.url_number == CALITP_URL_NUMBER)\n",
    "    >> select(-_.url_number, -_.status)\n",
    "    >> select_rm_calitp\n",
    "    >> collect_to_dict\n",
    ")\n",
    "\n",
    "# 2. Monthly metrics ----\n",
    "# Service hours per day. Note that the queried table calculates service\n",
    "# hours per service id, so we need to sum across service ids for the day\n",
    "_cross_cal = (\n",
    "    tbl.views.dim_date()\n",
    "    >> filter(_.full_date.between(START_DATE, END_DATE))\n",
    "    >> select(_.service_date == _.full_date)\n",
    ")\n",
    "\n",
    "tbl_daily_service_hours = (\n",
    "    tbl.views.gtfs_schedule_service_daily_metrics()\n",
    "    >> filter_itp\n",
    "    >> filter(_.service_date.between(START_DATE, END_DATE))\n",
    "    >> right_join(_, _cross_cal, [\"service_date\"])\n",
    "    >> collect()\n",
    "    >> group_by(_.service_date)\n",
    "    >> summarize(ttl_service_hours=(_.last_arrival_ts.max() - _.first_departure_ts.min()) / 3600)\n",
    "    >> mutate(\n",
    "        ttl_service_hours=_.ttl_service_hours.astype(float).round(2),\n",
    "        service_date=_.service_date.astype(\"datetime64[ns]\"),\n",
    "    )\n",
    ")\n",
    "\n",
    "# number of days where a feed did not have any trips in service\n",
    "n_expired_days = (\n",
    "    tbl_daily_service_hours >> filter(_.ttl_service_hours.isna())\n",
    "    >> pipe(lambda d: {\"n\": d.shape[0]})\n",
    ")\n",
    "\n",
    "# 3. Stop and Route ID Changes ----\n",
    "\n",
    "_tbl_stops_start = tbl.gtfs_schedule_type2.stops() >> filter_itp >> filter_start\n",
    "_tbl_stops_end = tbl.gtfs_schedule_type2.stops() >> filter_itp >> filter_end\n",
    "tbl_stops_changed = (\n",
    "    query_id_changes(_tbl_stops_start, _tbl_stops_end, [\"stop_id\"]) >> collect()\n",
    ")\n",
    "\n",
    "_tbl_routes_start = tbl.gtfs_schedule_type2.routes() >> filter_start\n",
    "_tbl_routes_end = tbl.gtfs_schedule_type2.routes() >> filter_end\n",
    "tbl_routes_changed = (\n",
    "    query_id_changes(_tbl_routes_start, _tbl_routes_end, [\"route_id\"]) >> collect()\n",
    ")"
   ]
  },
  {
   "cell_type": "code",
   "execution_count": 6,
   "id": "59611c99",
   "metadata": {
    "execution": {
     "iopub.execute_input": "2021-06-23T00:29:09.609035Z",
     "iopub.status.busy": "2021-06-23T00:29:09.607664Z",
     "iopub.status.idle": "2021-06-23T00:29:15.686072Z",
     "shell.execute_reply": "2021-06-23T00:29:15.686804Z"
    },
    "papermill": {
     "duration": 6.110383,
     "end_time": "2021-06-23T00:29:15.686992",
     "exception": false,
     "start_time": "2021-06-23T00:29:09.576609",
     "status": "completed"
    },
    "tags": [
     "hide"
    ]
   },
   "outputs": [],
   "source": [
    "# 4. Feed files being checked for ----\n",
    "\n",
    "file_categories = pd.DataFrame(\n",
    "    {\n",
    "        \"shapes.txt\": \"Visual display\",\n",
    "        \"pathways.txt\": \"Navigation\",\n",
    "        \"levels.txt\": \"Navigation\",\n",
    "        \"fare_rules.txt\": \"Fares\",\n",
    "        \"fare_leg_rules\": \"Fares\",\n",
    "        \"feed_info.txt\": \"Technical contacts\",\n",
    "    }.items(),\n",
    "    columns=[\"name\", \"category\"],\n",
    ")\n",
    "\n",
    "importance = [\"Visual display\", \"Navigation\", \"Fares\", \"Technical contacts\"]\n",
    "\n",
    "tbl_file_check = (\n",
    "    tbl.gtfs_schedule_history.calitp_files_updates()\n",
    "    >> filter_itp\n",
    "    >> filter(_.calitp_extracted_at.isin(WEEK_MARKERS))\n",
    "    >> select(_.name, _.calitp_extracted_at)\n",
    "    >> collect()\n",
    "    >> right_join(_, file_categories, [\"name\"])\n",
    "    >> mutate(\n",
    "        calitp_extracted_at=_.calitp_extracted_at.fillna(\"missing\").astype(str),\n",
    "        success=\"✅\",\n",
    "    )\n",
    "    >> spread(_.calitp_extracted_at, _.success)\n",
    "    >> select(-_.missing)\n",
    "    >> arrange(_.category.apply(importance.index))\n",
    "    >> select(_.category, _.contains(\"\"))\n",
    "    >> pipe(_.fillna(\"\"))\n",
    ")\n",
    "\n",
    "tbl_validation_notices = (\n",
    "    tbl.views.validation_notices()\n",
    "    >> filter_itp\n",
    "    >> filter(_.severity == \"ERROR\")\n",
    "    >> count(_.code, _.severity)\n",
    "    >> collect()\n",
    ")"
   ]
  },
  {
   "cell_type": "markdown",
   "id": "0af75cde",
   "metadata": {
    "papermill": {
     "duration": 0.026949,
     "end_time": "2021-06-23T00:29:15.741280",
     "exception": false,
     "start_time": "2021-06-23T00:29:15.714331",
     "status": "completed"
    },
    "tags": [
     "hide"
    ]
   },
   "source": [
    "## Dump data"
   ]
  },
  {
   "cell_type": "code",
   "execution_count": 7,
   "id": "0716c621",
   "metadata": {
    "execution": {
     "iopub.execute_input": "2021-06-23T00:29:15.796910Z",
     "iopub.status.busy": "2021-06-23T00:29:15.794124Z",
     "iopub.status.idle": "2021-06-23T00:29:15.808749Z",
     "shell.execute_reply": "2021-06-23T00:29:15.809558Z"
    },
    "papermill": {
     "duration": 0.047772,
     "end_time": "2021-06-23T00:29:15.809828",
     "exception": false,
     "start_time": "2021-06-23T00:29:15.762056",
     "status": "completed"
    },
    "tags": [
     "hide"
    ]
   },
   "outputs": [],
   "source": [
    "import json\n",
    "import shutil\n",
    "\n",
    "from pathlib import Path\n",
    "\n",
    "out_dir = Path(f\"output/{CALITP_ITP_ID}_{CALITP_URL_NUMBER}/data\")\n",
    "out_dir.mkdir(parents=True, exist_ok=True)\n",
    "\n",
    "json.dump(feed_info, open(out_dir / \"1_feed_info.json\", \"w\"))\n",
    "json.dump(status, open(out_dir / \"1_status.json\", \"w\"))\n",
    "\n",
    "tbl_daily_service_hours.to_json(out_dir / \"2_daily_service_hours.json\", orient=\"records\")\n",
    "json.dump(n_expired_days, open(out_dir / \"2_n_expired_days.json\", \"w\"))\n",
    "\n",
    "tbl_stops_changed.to_json(out_dir / \"3_stops_changed.json\", orient=\"records\")\n",
    "tbl_routes_changed.to_json(out_dir / \"3_routes_changed.json\", orient=\"records\")\n",
    "tbl_file_check.to_json(out_dir / \"4_file_check.json\", orient=\"records\")\n",
    "tbl_validation_notices.to_json(out_dir / \"4_validation_notices.json\", orient=\"records\")\n"
   ]
  },
  {
   "cell_type": "markdown",
   "id": "6585292e",
   "metadata": {
    "papermill": {
     "duration": 0.025819,
     "end_time": "2021-06-23T00:29:15.866613",
     "exception": false,
     "start_time": "2021-06-23T00:29:15.840794",
     "status": "completed"
    },
    "tags": []
   },
   "source": [
    "# GTFS Schedule Report"
   ]
  },
  {
   "cell_type": "markdown",
   "id": "18321953",
   "metadata": {
    "papermill": {
     "duration": 0.022675,
     "end_time": "2021-06-23T00:29:15.932901",
     "exception": false,
     "start_time": "2021-06-23T00:29:15.910226",
     "status": "completed"
    },
    "tags": []
   },
   "source": [
    "# Example Juniper Report"
   ]
  },
  {
   "cell_type": "code",
   "execution_count": 8,
   "id": "5c0682eb",
   "metadata": {
    "execution": {
     "iopub.execute_input": "2021-06-23T00:29:16.021767Z",
     "iopub.status.busy": "2021-06-23T00:29:16.020896Z",
     "iopub.status.idle": "2021-06-23T00:29:16.024327Z",
     "shell.execute_reply": "2021-06-23T00:29:16.024751Z"
    },
    "papermill": {
     "duration": 0.060363,
     "end_time": "2021-06-23T00:29:16.024911",
     "exception": false,
     "start_time": "2021-06-23T00:29:15.964548",
     "status": "completed"
    },
    "tags": []
   },
   "outputs": [
    {
     "data": {
      "text/markdown": [
       "\n",
       "Transit provider name: Trillium Solutions, Inc.\n",
       "\n",
       "Date generated: 2021-06-22\n"
      ],
      "text/plain": [
       "<IPython.core.display.Markdown object>"
      ]
     },
     "execution_count": 8,
     "metadata": {},
     "output_type": "execute_result"
    }
   ],
   "source": [
    "from IPython.display import Markdown\n",
    "\n",
    "Markdown(f\"\"\"\n",
    "Transit provider name: {feed_info[\"feed_publisher_name\"]}\n",
    "\n",
    "Date generated: {DATE_TODAY}\n",
    "\"\"\")"
   ]
  },
  {
   "cell_type": "markdown",
   "id": "b11dfd71",
   "metadata": {
    "papermill": {
     "duration": 0.07021,
     "end_time": "2021-06-23T00:29:16.165912",
     "exception": false,
     "start_time": "2021-06-23T00:29:16.095702",
     "status": "completed"
    },
    "tags": []
   },
   "source": [
    "This is a monthly report, generated by the California Integrated Travel Project (Cal-ITP), summarizing issues discovered by MobilityData’s GTFS Validator. This report is available for viewing by the general public to support continuous improvement of GTFS data and the experience of transit passengers. "
   ]
  },
  {
   "cell_type": "markdown",
   "id": "7b8e8baf",
   "metadata": {
    "papermill": {
     "duration": 0.085388,
     "end_time": "2021-06-23T00:29:16.287580",
     "exception": false,
     "start_time": "2021-06-23T00:29:16.202192",
     "status": "completed"
    },
    "tags": []
   },
   "source": [
    "## Overview"
   ]
  },
  {
   "cell_type": "code",
   "execution_count": 9,
   "id": "8e34068b",
   "metadata": {
    "execution": {
     "iopub.execute_input": "2021-06-23T00:29:16.460883Z",
     "iopub.status.busy": "2021-06-23T00:29:16.447783Z",
     "iopub.status.idle": "2021-06-23T00:29:16.463581Z",
     "shell.execute_reply": "2021-06-23T00:29:16.458717Z"
    },
    "papermill": {
     "duration": 0.134913,
     "end_time": "2021-06-23T00:29:16.463854",
     "exception": false,
     "start_time": "2021-06-23T00:29:16.328941",
     "status": "completed"
    },
    "tags": []
   },
   "outputs": [
    {
     "data": {
      "text/markdown": [
       "\n",
       "Feed location: http://data.trilliumtransit.com/gtfs/fairfield-ca-us/fairfield-ca-us.zip\n",
       "\n",
       "Metrics for the most recent published version of the feed:\n",
       "\n",
       "* Date published: UTC: 24-Feb-2021 21:33\n",
       "* Number of routes in any service: 10\n",
       "* Number of stops in service: 254\n"
      ],
      "text/plain": [
       "<IPython.core.display.Markdown object>"
      ]
     },
     "execution_count": 9,
     "metadata": {},
     "output_type": "execute_result"
    }
   ],
   "source": [
    "Markdown(f\"\"\"\n",
    "Feed location: {status[\"gtfs_schedule_url\"]}\n",
    "\n",
    "Metrics for the most recent published version of the feed:\n",
    "\n",
    "* Date published: {feed_info[\"feed_version\"]}\n",
    "* Number of routes in any service: {feed_info[\"n_routes\"]}\n",
    "* Number of stops in service: {feed_info[\"n_stops\"]}\n",
    "\"\"\")"
   ]
  },
  {
   "cell_type": "markdown",
   "id": "00b00d9c",
   "metadata": {
    "papermill": {
     "duration": 0.056852,
     "end_time": "2021-06-23T00:29:16.561952",
     "exception": false,
     "start_time": "2021-06-23T00:29:16.505100",
     "status": "completed"
    },
    "tags": []
   },
   "source": [
    "## Aggregated Metrics for May"
   ]
  },
  {
   "cell_type": "code",
   "execution_count": 10,
   "id": "111d6ac7",
   "metadata": {
    "execution": {
     "iopub.execute_input": "2021-06-23T00:29:16.604749Z",
     "iopub.status.busy": "2021-06-23T00:29:16.603299Z",
     "iopub.status.idle": "2021-06-23T00:29:16.607832Z",
     "shell.execute_reply": "2021-06-23T00:29:16.608323Z"
    },
    "papermill": {
     "duration": 0.027907,
     "end_time": "2021-06-23T00:29:16.608506",
     "exception": false,
     "start_time": "2021-06-23T00:29:16.580599",
     "status": "completed"
    },
    "tags": []
   },
   "outputs": [
    {
     "data": {
      "text/markdown": [
       "\n",
       "Days when the active feed was expired: 16\n"
      ],
      "text/plain": [
       "<IPython.core.display.Markdown object>"
      ]
     },
     "execution_count": 10,
     "metadata": {},
     "output_type": "execute_result"
    }
   ],
   "source": [
    "Markdown(f\"\"\"\n",
    "Days when the active feed was expired: {n_expired_days[\"n\"]}\n",
    "\"\"\")"
   ]
  },
  {
   "cell_type": "code",
   "execution_count": 11,
   "id": "51a5ea97",
   "metadata": {
    "execution": {
     "iopub.execute_input": "2021-06-23T00:29:16.683432Z",
     "iopub.status.busy": "2021-06-23T00:29:16.682347Z",
     "iopub.status.idle": "2021-06-23T00:29:17.275194Z",
     "shell.execute_reply": "2021-06-23T00:29:17.274321Z"
    },
    "papermill": {
     "duration": 0.648392,
     "end_time": "2021-06-23T00:29:17.275452",
     "exception": false,
     "start_time": "2021-06-23T00:29:16.627060",
     "status": "completed"
    },
    "tags": []
   },
   "outputs": [
    {
     "name": "stderr",
     "output_type": "stream",
     "text": [
      "/Users/machow/.virtualenvs/calitp-py/lib/python3.8/site-packages/plotnine/geoms/geom_path.py:75: PlotnineWarning: geom_path: Removed 12 rows containing missing values.\n",
      "/Users/machow/.virtualenvs/calitp-py/lib/python3.8/site-packages/plotnine/layer.py:401: PlotnineWarning: geom_point : Removed 16 rows containing missing values.\n"
     ]
    },
    {
     "data": {
      "image/png": "[encoded data removed]",
      "text/plain": [
       "<Figure size 640x480 with 1 Axes>"
      ]
     },
     "metadata": {},
     "output_type": "display_data"
    },
    {
     "data": {
      "text/plain": [
       "<ggplot: (286980151)>"
      ]
     },
     "execution_count": 11,
     "metadata": {},
     "output_type": "execute_result"
    }
   ],
   "source": [
    "(\n",
    "    tbl_daily_service_hours\n",
    "    >> ggplot(aes(\"service_date\", \"ttl_service_hours\"))\n",
    "    + geom_line()\n",
    "    + geom_point()\n",
    "    + theme(axis_text_x=element_text(angle=45, hjust=1))\n",
    "    + scale_x_datetime(date_breaks=\"1 week\")\n",
    "    + expand_limits(y=0)\n",
    ")"
   ]
  },
  {
   "cell_type": "markdown",
   "id": "f7194ac2",
   "metadata": {
    "papermill": {
     "duration": 0.029968,
     "end_time": "2021-06-23T00:29:17.331193",
     "exception": false,
     "start_time": "2021-06-23T00:29:17.301225",
     "status": "completed"
    },
    "tags": []
   },
   "source": [
    "## Changes Since Previous Month"
   ]
  },
  {
   "cell_type": "code",
   "execution_count": 12,
   "id": "74b5a29b",
   "metadata": {
    "execution": {
     "iopub.execute_input": "2021-06-23T00:29:17.399721Z",
     "iopub.status.busy": "2021-06-23T00:29:17.398808Z",
     "iopub.status.idle": "2021-06-23T00:29:17.786290Z",
     "shell.execute_reply": "2021-06-23T00:29:17.788003Z"
    },
    "papermill": {
     "duration": 0.432117,
     "end_time": "2021-06-23T00:29:17.788320",
     "exception": false,
     "start_time": "2021-06-23T00:29:17.356203",
     "status": "completed"
    },
    "tags": []
   },
   "outputs": [
    {
     "data": {
      "image/png": "[encoded data removed]",
      "text/plain": [
       "<Figure size 640x480 with 1 Axes>"
      ]
     },
     "metadata": {},
     "output_type": "display_data"
    },
    {
     "data": {
      "text/plain": [
       "<ggplot: (304488837)>"
      ]
     },
     "execution_count": 12,
     "metadata": {},
     "output_type": "execute_result"
    }
   ],
   "source": [
    "(\n",
    "    pd.concat(\n",
    "        [\n",
    "            tbl_stops_changed >> mutate(kind=\"Stops\"),\n",
    "            tbl_routes_changed >> mutate(kind=\"Routes\"),\n",
    "        ]\n",
    "    )\n",
    "    >> ggplot(aes(\"kind\", \"n\", fill=\"status\"))\n",
    "    + geom_col()\n",
    "    + labs(x=\"Kind of ID\", y=\"Number of Changes\")\n",
    ")"
   ]
  },
  {
   "cell_type": "markdown",
   "id": "c0f8a27d",
   "metadata": {
    "papermill": {
     "duration": 0.022674,
     "end_time": "2021-06-23T00:29:17.840244",
     "exception": false,
     "start_time": "2021-06-23T00:29:17.817570",
     "status": "completed"
    },
    "tags": []
   },
   "source": [
    "### (Alternative version using percentages)"
   ]
  },
  {
   "cell_type": "code",
   "execution_count": 13,
   "id": "86235a2e",
   "metadata": {
    "execution": {
     "iopub.execute_input": "2021-06-23T00:29:17.957995Z",
     "iopub.status.busy": "2021-06-23T00:29:17.956734Z",
     "iopub.status.idle": "2021-06-23T00:29:18.251083Z",
     "shell.execute_reply": "2021-06-23T00:29:18.251556Z"
    },
    "papermill": {
     "duration": 0.366299,
     "end_time": "2021-06-23T00:29:18.251729",
     "exception": false,
     "start_time": "2021-06-23T00:29:17.885430",
     "status": "completed"
    },
    "tags": []
   },
   "outputs": [
    {
     "data": {
      "image/png": "[encoded data removed]",
      "text/plain": [
       "<Figure size 640x480 with 1 Axes>"
      ]
     },
     "metadata": {},
     "output_type": "display_data"
    },
    {
     "data": {
      "text/plain": [
       "<ggplot: (304626917)>"
      ]
     },
     "execution_count": 13,
     "metadata": {},
     "output_type": "execute_result"
    }
   ],
   "source": [
    "(\n",
    "    pd.concat(\n",
    "        [\n",
    "            tbl_stops_changed >> mutate(kind=\"Stops\"),\n",
    "            tbl_routes_changed >> mutate(kind=\"Routes\"),\n",
    "        ]\n",
    "    )\n",
    "    >> ggplot(aes(\"kind\", \"percent\", fill=\"status\"))\n",
    "    + geom_col()\n",
    "    + labs(x=\"Kind of ID\", y=\"Percent of Changes\")\n",
    ")"
   ]
  },
  {
   "cell_type": "markdown",
   "id": "f3c76c25",
   "metadata": {
    "papermill": {
     "duration": 0.02123,
     "end_time": "2021-06-23T00:29:18.340684",
     "exception": false,
     "start_time": "2021-06-23T00:29:18.319454",
     "status": "completed"
    },
    "tags": []
   },
   "source": [
    "## Consistency with the California GTFS Minimum Guidelines for the feed downloaded\n"
   ]
  },
  {
   "cell_type": "code",
   "execution_count": 14,
   "id": "bfe97583",
   "metadata": {
    "execution": {
     "iopub.execute_input": "2021-06-23T00:29:18.431229Z",
     "iopub.status.busy": "2021-06-23T00:29:18.429142Z",
     "iopub.status.idle": "2021-06-23T00:29:18.441232Z",
     "shell.execute_reply": "2021-06-23T00:29:18.429979Z"
    },
    "papermill": {
     "duration": 0.069272,
     "end_time": "2021-06-23T00:29:18.441429",
     "exception": false,
     "start_time": "2021-06-23T00:29:18.372157",
     "status": "completed"
    },
    "tags": []
   },
   "outputs": [
    {
     "data": {
      "text/html": [
       "<div>\n",
       "<style scoped>\n",
       "    .dataframe tbody tr th:only-of-type {\n",
       "        vertical-align: middle;\n",
       "    }\n",
       "\n",
       "    .dataframe tbody tr th {\n",
       "        vertical-align: top;\n",
       "    }\n",
       "\n",
       "    .dataframe thead th {\n",
       "        text-align: right;\n",
       "    }\n",
       "</style>\n",
       "<table border=\"1\" class=\"dataframe\">\n",
       "  <thead>\n",
       "    <tr style=\"text-align: right;\">\n",
       "      <th></th>\n",
       "      <th>category</th>\n",
       "      <th>name</th>\n",
       "      <th>2021-05-16</th>\n",
       "      <th>2021-05-23</th>\n",
       "      <th>2021-05-30</th>\n",
       "    </tr>\n",
       "  </thead>\n",
       "  <tbody>\n",
       "    <tr>\n",
       "      <th>5</th>\n",
       "      <td>Visual display</td>\n",
       "      <td>shapes.txt</td>\n",
       "      <td>✅</td>\n",
       "      <td>✅</td>\n",
       "      <td>✅</td>\n",
       "    </tr>\n",
       "    <tr>\n",
       "      <th>3</th>\n",
       "      <td>Navigation</td>\n",
       "      <td>levels.txt</td>\n",
       "      <td></td>\n",
       "      <td></td>\n",
       "      <td></td>\n",
       "    </tr>\n",
       "    <tr>\n",
       "      <th>4</th>\n",
       "      <td>Navigation</td>\n",
       "      <td>pathways.txt</td>\n",
       "      <td></td>\n",
       "      <td></td>\n",
       "      <td></td>\n",
       "    </tr>\n",
       "    <tr>\n",
       "      <th>0</th>\n",
       "      <td>Fares</td>\n",
       "      <td>fare_leg_rules</td>\n",
       "      <td></td>\n",
       "      <td></td>\n",
       "      <td></td>\n",
       "    </tr>\n",
       "    <tr>\n",
       "      <th>1</th>\n",
       "      <td>Fares</td>\n",
       "      <td>fare_rules.txt</td>\n",
       "      <td>✅</td>\n",
       "      <td>✅</td>\n",
       "      <td>✅</td>\n",
       "    </tr>\n",
       "    <tr>\n",
       "      <th>2</th>\n",
       "      <td>Technical contacts</td>\n",
       "      <td>feed_info.txt</td>\n",
       "      <td>✅</td>\n",
       "      <td>✅</td>\n",
       "      <td>✅</td>\n",
       "    </tr>\n",
       "  </tbody>\n",
       "</table>\n",
       "</div>"
      ],
      "text/plain": [
       "             category            name 2021-05-16 2021-05-23 2021-05-30\n",
       "5      Visual display      shapes.txt          ✅          ✅          ✅\n",
       "3          Navigation      levels.txt                                 \n",
       "4          Navigation    pathways.txt                                 \n",
       "0               Fares  fare_leg_rules                                 \n",
       "1               Fares  fare_rules.txt          ✅          ✅          ✅\n",
       "2  Technical contacts   feed_info.txt          ✅          ✅          ✅"
      ]
     },
     "execution_count": 14,
     "metadata": {},
     "output_type": "execute_result"
    }
   ],
   "source": [
    "tbl_file_check"
   ]
  },
  {
   "cell_type": "markdown",
   "id": "4eeeec50",
   "metadata": {
    "papermill": {
     "duration": 0.022132,
     "end_time": "2021-06-23T00:29:18.495632",
     "exception": false,
     "start_time": "2021-06-23T00:29:18.473500",
     "status": "completed"
    },
    "tags": []
   },
   "source": [
    "### Validation Errors Observed"
   ]
  },
  {
   "cell_type": "code",
   "execution_count": 15,
   "id": "fc6d2733",
   "metadata": {
    "execution": {
     "iopub.execute_input": "2021-06-23T00:29:18.611319Z",
     "iopub.status.busy": "2021-06-23T00:29:18.608748Z",
     "iopub.status.idle": "2021-06-23T00:29:18.624355Z",
     "shell.execute_reply": "2021-06-23T00:29:18.616589Z"
    },
    "papermill": {
     "duration": 0.096833,
     "end_time": "2021-06-23T00:29:18.624599",
     "exception": false,
     "start_time": "2021-06-23T00:29:18.527766",
     "status": "completed"
    },
    "tags": []
   },
   "outputs": [
    {
     "data": {
      "text/html": [
       "<div>\n",
       "<style scoped>\n",
       "    .dataframe tbody tr th:only-of-type {\n",
       "        vertical-align: middle;\n",
       "    }\n",
       "\n",
       "    .dataframe tbody tr th {\n",
       "        vertical-align: top;\n",
       "    }\n",
       "\n",
       "    .dataframe thead th {\n",
       "        text-align: right;\n",
       "    }\n",
       "</style>\n",
       "<table border=\"1\" class=\"dataframe\">\n",
       "  <thead>\n",
       "    <tr style=\"text-align: right;\">\n",
       "      <th></th>\n",
       "      <th>code</th>\n",
       "      <th>severity</th>\n",
       "      <th>n</th>\n",
       "    </tr>\n",
       "  </thead>\n",
       "  <tbody>\n",
       "    <tr>\n",
       "      <th>0</th>\n",
       "      <td>invalid_url</td>\n",
       "      <td>ERROR</td>\n",
       "      <td>2</td>\n",
       "    </tr>\n",
       "  </tbody>\n",
       "</table>\n",
       "</div>"
      ],
      "text/plain": [
       "          code severity  n\n",
       "0  invalid_url    ERROR  2"
      ]
     },
     "execution_count": 15,
     "metadata": {},
     "output_type": "execute_result"
    }
   ],
   "source": [
    "tbl_validation_notices"
   ]
  }
 ],
 "metadata": {
  "kernelspec": {
   "display_name": "venv-calitp-py",
   "language": "python",
   "name": "venv-calitp-py"
  },
  "language_info": {
   "codemirror_mode": {
    "name": "ipython",
    "version": 3
   },
   "file_extension": ".py",
   "mimetype": "text/x-python",
   "name": "python",
   "nbconvert_exporter": "python",
   "pygments_lexer": "ipython3",
   "version": "3.8.5"
  },
  "papermill": {
   "default_parameters": {},
   "duration": 43.246415,
   "end_time": "2021-06-23T00:29:20.411315",
   "environment_variables": {},
   "exception": null,
   "input_path": "report.ipynb",
   "output_path": "output/110/report.ipynb",
   "parameters": {
    "CALITP_ITP_ID": 110,
    "CALITP_URL_NUMBER": 0
   },
   "start_time": "2021-06-23T00:28:37.164900",
   "version": "2.3.3"
  }
 },
 "nbformat": 4,
 "nbformat_minor": 5
}