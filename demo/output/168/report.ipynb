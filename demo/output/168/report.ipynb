{
 "cells": [
  {
   "cell_type": "markdown",
   "id": "eb48fd02",
   "metadata": {
    "papermill": {
     "duration": 0.028731,
     "end_time": "2021-06-23T00:29:45.068343",
     "exception": false,
     "start_time": "2021-06-23T00:29:45.039612",
     "status": "completed"
    },
    "tags": [
     "hide"
    ]
   },
   "source": [
    "# Setup"
   ]
  },
  {
   "cell_type": "code",
   "execution_count": 1,
   "id": "a4eeea0b",
   "metadata": {
    "execution": {
     "iopub.execute_input": "2021-06-23T00:29:45.129026Z",
     "iopub.status.busy": "2021-06-23T00:29:45.127635Z",
     "iopub.status.idle": "2021-06-23T00:29:51.829105Z",
     "shell.execute_reply": "2021-06-23T00:29:51.829539Z"
    },
    "papermill": {
     "duration": 6.734081,
     "end_time": "2021-06-23T00:29:51.829772",
     "exception": false,
     "start_time": "2021-06-23T00:29:45.095691",
     "status": "completed"
    },
    "tags": [
     "hide"
    ]
   },
   "outputs": [],
   "source": [
    "import pandas as pd\n",
    "\n",
    "from io import StringIO\n",
    "from calitp.tables import tbl\n",
    "from datetime import date\n",
    "from siuba import *\n",
    "from plotnine import *\n",
    "\n",
    "\n",
    "START_DATE = \"2021-05-01\"\n",
    "END_DATE = \"2021-06-01\"\n",
    "DATE_TODAY=date.today()\n",
    "\n",
    "WEEK_MARKERS = pd.date_range(START_DATE, END_DATE, freq=\"W\").astype(str).tolist()"
   ]
  },
  {
   "cell_type": "code",
   "execution_count": 2,
   "id": "3920e3f3",
   "metadata": {
    "execution": {
     "iopub.execute_input": "2021-06-23T00:29:51.868947Z",
     "iopub.status.busy": "2021-06-23T00:29:51.867683Z",
     "iopub.status.idle": "2021-06-23T00:29:51.870971Z",
     "shell.execute_reply": "2021-06-23T00:29:51.870448Z"
    },
    "papermill": {
     "duration": 0.025814,
     "end_time": "2021-06-23T00:29:51.871135",
     "exception": false,
     "start_time": "2021-06-23T00:29:51.845321",
     "status": "completed"
    },
    "tags": [
     "parameters",
     "hide"
    ]
   },
   "outputs": [],
   "source": [
    "CALITP_ITP_ID=389\n",
    "#CALITP_ITP_ID=45\n",
    "CALITP_URL_NUMBER=0"
   ]
  },
  {
   "cell_type": "code",
   "execution_count": 3,
   "id": "a49e1914",
   "metadata": {
    "execution": {
     "iopub.execute_input": "2021-06-23T00:29:51.912801Z",
     "iopub.status.busy": "2021-06-23T00:29:51.911688Z",
     "iopub.status.idle": "2021-06-23T00:29:51.914971Z",
     "shell.execute_reply": "2021-06-23T00:29:51.915451Z"
    },
    "papermill": {
     "duration": 0.026618,
     "end_time": "2021-06-23T00:29:51.915631",
     "exception": false,
     "start_time": "2021-06-23T00:29:51.889013",
     "status": "completed"
    },
    "tags": [
     "injected-parameters"
    ]
   },
   "outputs": [],
   "source": [
    "# Parameters\n",
    "CALITP_ITP_ID = 168\n",
    "CALITP_URL_NUMBER = 0\n"
   ]
  },
  {
   "cell_type": "code",
   "execution_count": 4,
   "id": "eb3bef44",
   "metadata": {
    "execution": {
     "iopub.execute_input": "2021-06-23T00:29:51.967404Z",
     "iopub.status.busy": "2021-06-23T00:29:51.966439Z",
     "iopub.status.idle": "2021-06-23T00:29:51.969246Z",
     "shell.execute_reply": "2021-06-23T00:29:51.969789Z"
    },
    "papermill": {
     "duration": 0.033188,
     "end_time": "2021-06-23T00:29:51.970014",
     "exception": false,
     "start_time": "2021-06-23T00:29:51.936826",
     "status": "completed"
    },
    "tags": [
     "hide"
    ]
   },
   "outputs": [],
   "source": [
    "# Convenience functions ----\n",
    "\n",
    "filter_start = filter(\n",
    "    _.calitp_extracted_at <= START_DATE,\n",
    "    _.calitp_deleted_at.fillna(\"2099-01-01\") > START_DATE,\n",
    ")\n",
    "\n",
    "filter_end = filter(\n",
    "    _.calitp_extracted_at <= END_DATE,\n",
    "    _.calitp_deleted_at.fillna(\"2099-01-01\") > END_DATE,\n",
    ")\n",
    "\n",
    "filter_itp = filter(\n",
    "    _.calitp_itp_id == CALITP_ITP_ID, _.calitp_url_number == CALITP_URL_NUMBER\n",
    ")\n",
    "\n",
    "collect_to_dict = (\n",
    "    collect()\n",
    "    >> pipe(_.to_dict(orient=\"records\")[0])\n",
    ")\n",
    "\n",
    "\n",
    "select_rm_calitp = select(\n",
    "    -_.calitp_itp_id,\n",
    "    -_.calitp_url_number,\n",
    "    -_.calitp_hash,\n",
    "    -_.calitp_extracted_at,\n",
    "    -_.calitp_deleted_at,\n",
    ")\n",
    "\n",
    "\n",
    "def query_id_changes(start_table, end_table, id_vars):\n",
    "    \"\"\"Calculate id variables that are removed, added, or unchanged between tables.\n",
    "    \n",
    "    It works by adding a special column to each table, performing a full join,\n",
    "    then checking where the special column is null.\n",
    "    \"\"\"\n",
    "    sym_id_vars = [_[k] for k in id_vars]\n",
    "\n",
    "    is_in_start = start_table >> select(*id_vars) >> mutate(is_in_start=True)\n",
    "    is_in_end = end_table >> select(*id_vars) >> mutate(is_in_end=True)\n",
    "\n",
    "    baseline = start_table >> count(*id_vars) >> rename(n_baseline=\"n\")\n",
    "    tallies = (\n",
    "        is_in_start\n",
    "        >> full_join(_, is_in_end, id_vars)\n",
    "        >> count(*sym_id_vars, _.is_in_start, _.is_in_end)\n",
    "        >> mutate(\n",
    "            status=case_when(\n",
    "                _,\n",
    "                {\n",
    "                    _.is_in_end.isna(): \"Removed\",\n",
    "                    _.is_in_start.isna(): \"Added\",\n",
    "                    True: \"Unchanged\",\n",
    "                },\n",
    "            )\n",
    "        )\n",
    "        >> count(*sym_id_vars[:-1], _.status)\n",
    "        >> group_by(*sym_id_vars[:-1])\n",
    "        >> mutate(percent=_.n / _.n.sum())\n",
    "    )\n",
    "\n",
    "    return tallies"
   ]
  },
  {
   "cell_type": "code",
   "execution_count": 5,
   "id": "c28a8de2",
   "metadata": {
    "execution": {
     "iopub.execute_input": "2021-06-23T00:29:52.017692Z",
     "iopub.status.busy": "2021-06-23T00:29:52.015983Z",
     "iopub.status.idle": "2021-06-23T00:30:17.377637Z",
     "shell.execute_reply": "2021-06-23T00:30:17.378151Z"
    },
    "papermill": {
     "duration": 25.389512,
     "end_time": "2021-06-23T00:30:17.378369",
     "exception": false,
     "start_time": "2021-06-23T00:29:51.988857",
     "status": "completed"
    },
    "tags": [
     "hide"
    ]
   },
   "outputs": [],
   "source": [
    "# Data ====\n",
    "# 1. High level feed info ----\n",
    "feed_info = (\n",
    "    tbl.gtfs_schedule_type2.feed_info()\n",
    "    >> filter_end\n",
    "    >> filter_itp\n",
    "    >> select_rm_calitp\n",
    "    >> collect_to_dict\n",
    ")\n",
    "\n",
    "_n_routes = (\n",
    "    tbl.gtfs_schedule_type2.routes() >> filter_end >> filter_itp >> count() >> collect()\n",
    ")\n",
    "_n_stops = (\n",
    "    tbl.gtfs_schedule_type2.stops() >> filter_end >> filter_itp >> count() >> collect()\n",
    ")\n",
    "\n",
    "feed_info[\"n_routes\"] = int(_n_routes.loc[0, \"n\"])\n",
    "feed_info[\"n_stops\"] = int(_n_stops.loc[0, \"n\"])\n",
    "\n",
    "status = (\n",
    "    tbl.views.gtfs_status_latest()\n",
    "    >> filter(_.itp_id == CALITP_ITP_ID, _.url_number == CALITP_URL_NUMBER)\n",
    "    >> select(-_.url_number, -_.status)\n",
    "    >> select_rm_calitp\n",
    "    >> collect_to_dict\n",
    ")\n",
    "\n",
    "# 2. Monthly metrics ----\n",
    "# Service hours per day. Note that the queried table calculates service\n",
    "# hours per service id, so we need to sum across service ids for the day\n",
    "_cross_cal = (\n",
    "    tbl.views.dim_date()\n",
    "    >> filter(_.full_date.between(START_DATE, END_DATE))\n",
    "    >> select(_.service_date == _.full_date)\n",
    ")\n",
    "\n",
    "tbl_daily_service_hours = (\n",
    "    tbl.views.gtfs_schedule_service_daily_metrics()\n",
    "    >> filter_itp\n",
    "    >> filter(_.service_date.between(START_DATE, END_DATE))\n",
    "    >> right_join(_, _cross_cal, [\"service_date\"])\n",
    "    >> collect()\n",
    "    >> group_by(_.service_date)\n",
    "    >> summarize(ttl_service_hours=(_.last_arrival_ts.max() - _.first_departure_ts.min()) / 3600)\n",
    "    >> mutate(\n",
    "        ttl_service_hours=_.ttl_service_hours.astype(float).round(2),\n",
    "        service_date=_.service_date.astype(\"datetime64[ns]\"),\n",
    "    )\n",
    ")\n",
    "\n",
    "# number of days where a feed did not have any trips in service\n",
    "n_expired_days = (\n",
    "    tbl_daily_service_hours >> filter(_.ttl_service_hours.isna())\n",
    "    >> pipe(lambda d: {\"n\": d.shape[0]})\n",
    ")\n",
    "\n",
    "# 3. Stop and Route ID Changes ----\n",
    "\n",
    "_tbl_stops_start = tbl.gtfs_schedule_type2.stops() >> filter_itp >> filter_start\n",
    "_tbl_stops_end = tbl.gtfs_schedule_type2.stops() >> filter_itp >> filter_end\n",
    "tbl_stops_changed = (\n",
    "    query_id_changes(_tbl_stops_start, _tbl_stops_end, [\"stop_id\"]) >> collect()\n",
    ")\n",
    "\n",
    "_tbl_routes_start = tbl.gtfs_schedule_type2.routes() >> filter_start\n",
    "_tbl_routes_end = tbl.gtfs_schedule_type2.routes() >> filter_end\n",
    "tbl_routes_changed = (\n",
    "    query_id_changes(_tbl_routes_start, _tbl_routes_end, [\"route_id\"]) >> collect()\n",
    ")"
   ]
  },
  {
   "cell_type": "code",
   "execution_count": 6,
   "id": "eceea0b6",
   "metadata": {
    "execution": {
     "iopub.execute_input": "2021-06-23T00:30:17.438592Z",
     "iopub.status.busy": "2021-06-23T00:30:17.437167Z",
     "iopub.status.idle": "2021-06-23T00:30:24.550400Z",
     "shell.execute_reply": "2021-06-23T00:30:24.550877Z"
    },
    "papermill": {
     "duration": 7.148482,
     "end_time": "2021-06-23T00:30:24.551049",
     "exception": false,
     "start_time": "2021-06-23T00:30:17.402567",
     "status": "completed"
    },
    "tags": [
     "hide"
    ]
   },
   "outputs": [],
   "source": [
    "# 4. Feed files being checked for ----\n",
    "\n",
    "file_categories = pd.DataFrame(\n",
    "    {\n",
    "        \"shapes.txt\": \"Visual display\",\n",
    "        \"pathways.txt\": \"Navigation\",\n",
    "        \"levels.txt\": \"Navigation\",\n",
    "        \"fare_rules.txt\": \"Fares\",\n",
    "        \"fare_leg_rules\": \"Fares\",\n",
    "        \"feed_info.txt\": \"Technical contacts\",\n",
    "    }.items(),\n",
    "    columns=[\"name\", \"category\"],\n",
    ")\n",
    "\n",
    "importance = [\"Visual display\", \"Navigation\", \"Fares\", \"Technical contacts\"]\n",
    "\n",
    "tbl_file_check = (\n",
    "    tbl.gtfs_schedule_history.calitp_files_updates()\n",
    "    >> filter_itp\n",
    "    >> filter(_.calitp_extracted_at.isin(WEEK_MARKERS))\n",
    "    >> select(_.name, _.calitp_extracted_at)\n",
    "    >> collect()\n",
    "    >> right_join(_, file_categories, [\"name\"])\n",
    "    >> mutate(\n",
    "        calitp_extracted_at=_.calitp_extracted_at.fillna(\"missing\").astype(str),\n",
    "        success=\"✅\",\n",
    "    )\n",
    "    >> spread(_.calitp_extracted_at, _.success)\n",
    "    >> select(-_.missing)\n",
    "    >> arrange(_.category.apply(importance.index))\n",
    "    >> select(_.category, _.contains(\"\"))\n",
    "    >> pipe(_.fillna(\"\"))\n",
    ")\n",
    "\n",
    "tbl_validation_notices = (\n",
    "    tbl.views.validation_notices()\n",
    "    >> filter_itp\n",
    "    >> filter(_.severity == \"ERROR\")\n",
    "    >> count(_.code, _.severity)\n",
    "    >> collect()\n",
    ")"
   ]
  },
  {
   "cell_type": "markdown",
   "id": "3b4ed78a",
   "metadata": {
    "papermill": {
     "duration": 0.014697,
     "end_time": "2021-06-23T00:30:24.582696",
     "exception": false,
     "start_time": "2021-06-23T00:30:24.567999",
     "status": "completed"
    },
    "tags": [
     "hide"
    ]
   },
   "source": [
    "## Dump data"
   ]
  },
  {
   "cell_type": "code",
   "execution_count": 7,
   "id": "38705495",
   "metadata": {
    "execution": {
     "iopub.execute_input": "2021-06-23T00:30:24.623752Z",
     "iopub.status.busy": "2021-06-23T00:30:24.623006Z",
     "iopub.status.idle": "2021-06-23T00:30:24.631723Z",
     "shell.execute_reply": "2021-06-23T00:30:24.632147Z"
    },
    "papermill": {
     "duration": 0.03081,
     "end_time": "2021-06-23T00:30:24.632308",
     "exception": false,
     "start_time": "2021-06-23T00:30:24.601498",
     "status": "completed"
    },
    "tags": [
     "hide"
    ]
   },
   "outputs": [],
   "source": [
    "import json\n",
    "import shutil\n",
    "\n",
    "from pathlib import Path\n",
    "\n",
    "out_dir = Path(f\"output/{CALITP_ITP_ID}_{CALITP_URL_NUMBER}/data\")\n",
    "out_dir.mkdir(parents=True, exist_ok=True)\n",
    "\n",
    "json.dump(feed_info, open(out_dir / \"1_feed_info.json\", \"w\"))\n",
    "json.dump(status, open(out_dir / \"1_status.json\", \"w\"))\n",
    "\n",
    "tbl_daily_service_hours.to_json(out_dir / \"2_daily_service_hours.json\", orient=\"records\")\n",
    "json.dump(n_expired_days, open(out_dir / \"2_n_expired_days.json\", \"w\"))\n",
    "\n",
    "tbl_stops_changed.to_json(out_dir / \"3_stops_changed.json\", orient=\"records\")\n",
    "tbl_routes_changed.to_json(out_dir / \"3_routes_changed.json\", orient=\"records\")\n",
    "tbl_file_check.to_json(out_dir / \"4_file_check.json\", orient=\"records\")\n",
    "tbl_validation_notices.to_json(out_dir / \"4_validation_notices.json\", orient=\"records\")\n"
   ]
  },
  {
   "cell_type": "markdown",
   "id": "f3a698e2",
   "metadata": {
    "papermill": {
     "duration": 0.014725,
     "end_time": "2021-06-23T00:30:24.661052",
     "exception": false,
     "start_time": "2021-06-23T00:30:24.646327",
     "status": "completed"
    },
    "tags": []
   },
   "source": [
    "# GTFS Schedule Report"
   ]
  },
  {
   "cell_type": "markdown",
   "id": "bfd6b182",
   "metadata": {
    "papermill": {
     "duration": 0.016643,
     "end_time": "2021-06-23T00:30:24.693518",
     "exception": false,
     "start_time": "2021-06-23T00:30:24.676875",
     "status": "completed"
    },
    "tags": []
   },
   "source": [
    "# Example Juniper Report"
   ]
  },
  {
   "cell_type": "code",
   "execution_count": 8,
   "id": "fd736cb6",
   "metadata": {
    "execution": {
     "iopub.execute_input": "2021-06-23T00:30:24.729028Z",
     "iopub.status.busy": "2021-06-23T00:30:24.728441Z",
     "iopub.status.idle": "2021-06-23T00:30:29.634030Z",
     "shell.execute_reply": "2021-06-23T00:30:29.634505Z"
    },
    "papermill": {
     "duration": 4.923908,
     "end_time": "2021-06-23T00:30:29.634754",
     "exception": false,
     "start_time": "2021-06-23T00:30:24.710846",
     "status": "completed"
    },
    "tags": []
   },
   "outputs": [
    {
     "name": "stdout",
     "output_type": "stream",
     "text": [
      "The history saving thread hit an unexpected error (OperationalError('database is locked')).History will not be written to the database."
     ]
    },
    {
     "data": {
      "text/markdown": [
       "\n",
       "Transit provider name: City of Lodi\n",
       "\n",
       "Date generated: 2021-06-22\n"
      ],
      "text/plain": [
       "<IPython.core.display.Markdown object>"
      ]
     },
     "execution_count": 8,
     "metadata": {},
     "output_type": "execute_result"
    },
    {
     "name": "stdout",
     "output_type": "stream",
     "text": [
      "\n"
     ]
    }
   ],
   "source": [
    "from IPython.display import Markdown\n",
    "\n",
    "Markdown(f\"\"\"\n",
    "Transit provider name: {feed_info[\"feed_publisher_name\"]}\n",
    "\n",
    "Date generated: {DATE_TODAY}\n",
    "\"\"\")"
   ]
  },
  {
   "cell_type": "markdown",
   "id": "856d98d5",
   "metadata": {
    "papermill": {
     "duration": 0.017262,
     "end_time": "2021-06-23T00:30:29.670323",
     "exception": false,
     "start_time": "2021-06-23T00:30:29.653061",
     "status": "completed"
    },
    "tags": []
   },
   "source": [
    "This is a monthly report, generated by the California Integrated Travel Project (Cal-ITP), summarizing issues discovered by MobilityData’s GTFS Validator. This report is available for viewing by the general public to support continuous improvement of GTFS data and the experience of transit passengers. "
   ]
  },
  {
   "cell_type": "markdown",
   "id": "3393f058",
   "metadata": {
    "papermill": {
     "duration": 0.016914,
     "end_time": "2021-06-23T00:30:29.708289",
     "exception": false,
     "start_time": "2021-06-23T00:30:29.691375",
     "status": "completed"
    },
    "tags": []
   },
   "source": [
    "## Overview"
   ]
  },
  {
   "cell_type": "code",
   "execution_count": 9,
   "id": "58a337aa",
   "metadata": {
    "execution": {
     "iopub.execute_input": "2021-06-23T00:30:29.744013Z",
     "iopub.status.busy": "2021-06-23T00:30:29.743090Z",
     "iopub.status.idle": "2021-06-23T00:30:29.747006Z",
     "shell.execute_reply": "2021-06-23T00:30:29.746401Z"
    },
    "papermill": {
     "duration": 0.023591,
     "end_time": "2021-06-23T00:30:29.747152",
     "exception": false,
     "start_time": "2021-06-23T00:30:29.723561",
     "status": "completed"
    },
    "tags": []
   },
   "outputs": [
    {
     "data": {
      "text/markdown": [
       "\n",
       "Feed location: https://www.lodi.gov/DocumentCenter/View/2453/lodi_gtfs-ZIP\n",
       "\n",
       "Metrics for the most recent published version of the feed:\n",
       "\n",
       "* Date published: Edited 4/19/2021 8:40AM by Frank Huang\n",
       "* Number of routes in any service: 15\n",
       "* Number of stops in service: 194\n"
      ],
      "text/plain": [
       "<IPython.core.display.Markdown object>"
      ]
     },
     "execution_count": 9,
     "metadata": {},
     "output_type": "execute_result"
    }
   ],
   "source": [
    "Markdown(f\"\"\"\n",
    "Feed location: {status[\"gtfs_schedule_url\"]}\n",
    "\n",
    "Metrics for the most recent published version of the feed:\n",
    "\n",
    "* Date published: {feed_info[\"feed_version\"]}\n",
    "* Number of routes in any service: {feed_info[\"n_routes\"]}\n",
    "* Number of stops in service: {feed_info[\"n_stops\"]}\n",
    "\"\"\")"
   ]
  },
  {
   "cell_type": "markdown",
   "id": "aa0b4587",
   "metadata": {
    "papermill": {
     "duration": 0.017843,
     "end_time": "2021-06-23T00:30:29.782136",
     "exception": false,
     "start_time": "2021-06-23T00:30:29.764293",
     "status": "completed"
    },
    "tags": []
   },
   "source": [
    "## Aggregated Metrics for May"
   ]
  },
  {
   "cell_type": "code",
   "execution_count": 10,
   "id": "4ce97a7b",
   "metadata": {
    "execution": {
     "iopub.execute_input": "2021-06-23T00:30:29.823578Z",
     "iopub.status.busy": "2021-06-23T00:30:29.822929Z",
     "iopub.status.idle": "2021-06-23T00:30:29.826416Z",
     "shell.execute_reply": "2021-06-23T00:30:29.825968Z"
    },
    "papermill": {
     "duration": 0.023222,
     "end_time": "2021-06-23T00:30:29.826547",
     "exception": false,
     "start_time": "2021-06-23T00:30:29.803325",
     "status": "completed"
    },
    "tags": []
   },
   "outputs": [
    {
     "data": {
      "text/markdown": [
       "\n",
       "Days when the active feed was expired: 5\n"
      ],
      "text/plain": [
       "<IPython.core.display.Markdown object>"
      ]
     },
     "execution_count": 10,
     "metadata": {},
     "output_type": "execute_result"
    }
   ],
   "source": [
    "Markdown(f\"\"\"\n",
    "Days when the active feed was expired: {n_expired_days[\"n\"]}\n",
    "\"\"\")"
   ]
  },
  {
   "cell_type": "code",
   "execution_count": 11,
   "id": "56ff8d64",
   "metadata": {
    "execution": {
     "iopub.execute_input": "2021-06-23T00:30:29.890801Z",
     "iopub.status.busy": "2021-06-23T00:30:29.885494Z",
     "iopub.status.idle": "2021-06-23T00:30:30.215319Z",
     "shell.execute_reply": "2021-06-23T00:30:30.215779Z"
    },
    "papermill": {
     "duration": 0.372932,
     "end_time": "2021-06-23T00:30:30.215954",
     "exception": false,
     "start_time": "2021-06-23T00:30:29.843022",
     "status": "completed"
    },
    "tags": []
   },
   "outputs": [
    {
     "name": "stderr",
     "output_type": "stream",
     "text": [
      "/Users/machow/.virtualenvs/calitp-py/lib/python3.8/site-packages/plotnine/layer.py:401: PlotnineWarning: geom_point : Removed 5 rows containing missing values.\n"
     ]
    },
    {
     "data": {
      "image/png": "[encoded data removed]",
      "text/plain": [
       "<Figure size 640x480 with 1 Axes>"
      ]
     },
     "metadata": {},
     "output_type": "display_data"
    },
    {
     "data": {
      "text/plain": [
       "<ggplot: (310552077)>"
      ]
     },
     "execution_count": 11,
     "metadata": {},
     "output_type": "execute_result"
    }
   ],
   "source": [
    "(\n",
    "    tbl_daily_service_hours\n",
    "    >> ggplot(aes(\"service_date\", \"ttl_service_hours\"))\n",
    "    + geom_line()\n",
    "    + geom_point()\n",
    "    + theme(axis_text_x=element_text(angle=45, hjust=1))\n",
    "    + scale_x_datetime(date_breaks=\"1 week\")\n",
    "    + expand_limits(y=0)\n",
    ")"
   ]
  },
  {
   "cell_type": "markdown",
   "id": "49960e08",
   "metadata": {
    "papermill": {
     "duration": 0.037781,
     "end_time": "2021-06-23T00:30:30.272940",
     "exception": false,
     "start_time": "2021-06-23T00:30:30.235159",
     "status": "completed"
    },
    "tags": []
   },
   "source": [
    "## Changes Since Previous Month"
   ]
  },
  {
   "cell_type": "code",
   "execution_count": 12,
   "id": "a678d9f1",
   "metadata": {
    "execution": {
     "iopub.execute_input": "2021-06-23T00:30:30.411652Z",
     "iopub.status.busy": "2021-06-23T00:30:30.411038Z",
     "iopub.status.idle": "2021-06-23T00:30:30.777555Z",
     "shell.execute_reply": "2021-06-23T00:30:30.776737Z"
    },
    "papermill": {
     "duration": 0.444887,
     "end_time": "2021-06-23T00:30:30.777783",
     "exception": false,
     "start_time": "2021-06-23T00:30:30.332896",
     "status": "completed"
    },
    "tags": []
   },
   "outputs": [
    {
     "data": {
      "image/png": "[encoded data removed]",
      "text/plain": [
       "<Figure size 640x480 with 1 Axes>"
      ]
     },
     "metadata": {},
     "output_type": "display_data"
    },
    {
     "data": {
      "text/plain": [
       "<ggplot: (310662783)>"
      ]
     },
     "execution_count": 12,
     "metadata": {},
     "output_type": "execute_result"
    }
   ],
   "source": [
    "(\n",
    "    pd.concat(\n",
    "        [\n",
    "            tbl_stops_changed >> mutate(kind=\"Stops\"),\n",
    "            tbl_routes_changed >> mutate(kind=\"Routes\"),\n",
    "        ]\n",
    "    )\n",
    "    >> ggplot(aes(\"kind\", \"n\", fill=\"status\"))\n",
    "    + geom_col()\n",
    "    + labs(x=\"Kind of ID\", y=\"Number of Changes\")\n",
    ")"
   ]
  },
  {
   "cell_type": "markdown",
   "id": "1c70cb04",
   "metadata": {
    "papermill": {
     "duration": 0.036998,
     "end_time": "2021-06-23T00:30:30.843253",
     "exception": false,
     "start_time": "2021-06-23T00:30:30.806255",
     "status": "completed"
    },
    "tags": []
   },
   "source": [
    "### (Alternative version using percentages)"
   ]
  },
  {
   "cell_type": "code",
   "execution_count": 13,
   "id": "ea056036",
   "metadata": {
    "execution": {
     "iopub.execute_input": "2021-06-23T00:30:30.928530Z",
     "iopub.status.busy": "2021-06-23T00:30:30.927435Z",
     "iopub.status.idle": "2021-06-23T00:30:31.387403Z",
     "shell.execute_reply": "2021-06-23T00:30:31.388450Z"
    },
    "papermill": {
     "duration": 0.509624,
     "end_time": "2021-06-23T00:30:31.388827",
     "exception": false,
     "start_time": "2021-06-23T00:30:30.879203",
     "status": "completed"
    },
    "tags": []
   },
   "outputs": [
    {
     "data": {
      "image/png": "[encoded data removed]",
      "text/plain": [
       "<Figure size 640x480 with 1 Axes>"
      ]
     },
     "metadata": {},
     "output_type": "display_data"
    },
    {
     "data": {
      "text/plain": [
       "<ggplot: (310979581)>"
      ]
     },
     "execution_count": 13,
     "metadata": {},
     "output_type": "execute_result"
    }
   ],
   "source": [
    "(\n",
    "    pd.concat(\n",
    "        [\n",
    "            tbl_stops_changed >> mutate(kind=\"Stops\"),\n",
    "            tbl_routes_changed >> mutate(kind=\"Routes\"),\n",
    "        ]\n",
    "    )\n",
    "    >> ggplot(aes(\"kind\", \"percent\", fill=\"status\"))\n",
    "    + geom_col()\n",
    "    + labs(x=\"Kind of ID\", y=\"Percent of Changes\")\n",
    ")"
   ]
  },
  {
   "cell_type": "markdown",
   "id": "3b76c1da",
   "metadata": {
    "papermill": {
     "duration": 0.066119,
     "end_time": "2021-06-23T00:30:31.594952",
     "exception": false,
     "start_time": "2021-06-23T00:30:31.528833",
     "status": "completed"
    },
    "tags": []
   },
   "source": [
    "## Consistency with the California GTFS Minimum Guidelines for the feed downloaded\n"
   ]
  },
  {
   "cell_type": "code",
   "execution_count": 14,
   "id": "74d2c5ac",
   "metadata": {
    "execution": {
     "iopub.execute_input": "2021-06-23T00:30:31.823659Z",
     "iopub.status.busy": "2021-06-23T00:30:31.822361Z",
     "iopub.status.idle": "2021-06-23T00:30:31.827205Z",
     "shell.execute_reply": "2021-06-23T00:30:31.824623Z"
    },
    "papermill": {
     "duration": 0.129147,
     "end_time": "2021-06-23T00:30:31.827515",
     "exception": false,
     "start_time": "2021-06-23T00:30:31.698368",
     "status": "completed"
    },
    "tags": []
   },
   "outputs": [
    {
     "data": {
      "text/html": [
       "<div>\n",
       "<style scoped>\n",
       "    .dataframe tbody tr th:only-of-type {\n",
       "        vertical-align: middle;\n",
       "    }\n",
       "\n",
       "    .dataframe tbody tr th {\n",
       "        vertical-align: top;\n",
       "    }\n",
       "\n",
       "    .dataframe thead th {\n",
       "        text-align: right;\n",
       "    }\n",
       "</style>\n",
       "<table border=\"1\" class=\"dataframe\">\n",
       "  <thead>\n",
       "    <tr style=\"text-align: right;\">\n",
       "      <th></th>\n",
       "      <th>category</th>\n",
       "      <th>name</th>\n",
       "      <th>2021-05-02</th>\n",
       "      <th>2021-05-09</th>\n",
       "      <th>2021-05-16</th>\n",
       "      <th>2021-05-23</th>\n",
       "      <th>2021-05-30</th>\n",
       "    </tr>\n",
       "  </thead>\n",
       "  <tbody>\n",
       "    <tr>\n",
       "      <th>5</th>\n",
       "      <td>Visual display</td>\n",
       "      <td>shapes.txt</td>\n",
       "      <td>✅</td>\n",
       "      <td>✅</td>\n",
       "      <td>✅</td>\n",
       "      <td>✅</td>\n",
       "      <td>✅</td>\n",
       "    </tr>\n",
       "    <tr>\n",
       "      <th>3</th>\n",
       "      <td>Navigation</td>\n",
       "      <td>levels.txt</td>\n",
       "      <td></td>\n",
       "      <td></td>\n",
       "      <td></td>\n",
       "      <td></td>\n",
       "      <td></td>\n",
       "    </tr>\n",
       "    <tr>\n",
       "      <th>4</th>\n",
       "      <td>Navigation</td>\n",
       "      <td>pathways.txt</td>\n",
       "      <td></td>\n",
       "      <td></td>\n",
       "      <td></td>\n",
       "      <td></td>\n",
       "      <td></td>\n",
       "    </tr>\n",
       "    <tr>\n",
       "      <th>0</th>\n",
       "      <td>Fares</td>\n",
       "      <td>fare_leg_rules</td>\n",
       "      <td></td>\n",
       "      <td></td>\n",
       "      <td></td>\n",
       "      <td></td>\n",
       "      <td></td>\n",
       "    </tr>\n",
       "    <tr>\n",
       "      <th>1</th>\n",
       "      <td>Fares</td>\n",
       "      <td>fare_rules.txt</td>\n",
       "      <td></td>\n",
       "      <td></td>\n",
       "      <td></td>\n",
       "      <td></td>\n",
       "      <td></td>\n",
       "    </tr>\n",
       "    <tr>\n",
       "      <th>2</th>\n",
       "      <td>Technical contacts</td>\n",
       "      <td>feed_info.txt</td>\n",
       "      <td>✅</td>\n",
       "      <td>✅</td>\n",
       "      <td>✅</td>\n",
       "      <td>✅</td>\n",
       "      <td>✅</td>\n",
       "    </tr>\n",
       "  </tbody>\n",
       "</table>\n",
       "</div>"
      ],
      "text/plain": [
       "             category            name 2021-05-02 2021-05-09 2021-05-16  \\\n",
       "5      Visual display      shapes.txt          ✅          ✅          ✅   \n",
       "3          Navigation      levels.txt                                    \n",
       "4          Navigation    pathways.txt                                    \n",
       "0               Fares  fare_leg_rules                                    \n",
       "1               Fares  fare_rules.txt                                    \n",
       "2  Technical contacts   feed_info.txt          ✅          ✅          ✅   \n",
       "\n",
       "  2021-05-23 2021-05-30  \n",
       "5          ✅          ✅  \n",
       "3                        \n",
       "4                        \n",
       "0                        \n",
       "1                        \n",
       "2          ✅          ✅  "
      ]
     },
     "execution_count": 14,
     "metadata": {},
     "output_type": "execute_result"
    }
   ],
   "source": [
    "tbl_file_check"
   ]
  },
  {
   "cell_type": "markdown",
   "id": "6167f1ec",
   "metadata": {
    "papermill": {
     "duration": 0.05737,
     "end_time": "2021-06-23T00:30:31.951363",
     "exception": false,
     "start_time": "2021-06-23T00:30:31.893993",
     "status": "completed"
    },
    "tags": []
   },
   "source": [
    "### Validation Errors Observed"
   ]
  },
  {
   "cell_type": "code",
   "execution_count": 15,
   "id": "313d8afc",
   "metadata": {
    "execution": {
     "iopub.execute_input": "2021-06-23T00:30:32.176477Z",
     "iopub.status.busy": "2021-06-23T00:30:32.174010Z",
     "iopub.status.idle": "2021-06-23T00:30:32.180197Z",
     "shell.execute_reply": "2021-06-23T00:30:32.177568Z"
    },
    "papermill": {
     "duration": 0.123411,
     "end_time": "2021-06-23T00:30:32.180592",
     "exception": false,
     "start_time": "2021-06-23T00:30:32.057181",
     "status": "completed"
    },
    "tags": []
   },
   "outputs": [
    {
     "data": {
      "text/html": [
       "<div>\n",
       "<style scoped>\n",
       "    .dataframe tbody tr th:only-of-type {\n",
       "        vertical-align: middle;\n",
       "    }\n",
       "\n",
       "    .dataframe tbody tr th {\n",
       "        vertical-align: top;\n",
       "    }\n",
       "\n",
       "    .dataframe thead th {\n",
       "        text-align: right;\n",
       "    }\n",
       "</style>\n",
       "<table border=\"1\" class=\"dataframe\">\n",
       "  <thead>\n",
       "    <tr style=\"text-align: right;\">\n",
       "      <th></th>\n",
       "      <th>code</th>\n",
       "      <th>severity</th>\n",
       "      <th>n</th>\n",
       "    </tr>\n",
       "  </thead>\n",
       "  <tbody>\n",
       "    <tr>\n",
       "      <th>0</th>\n",
       "      <td>leading_or_trailing_whitespaces</td>\n",
       "      <td>ERROR</td>\n",
       "      <td>1</td>\n",
       "    </tr>\n",
       "  </tbody>\n",
       "</table>\n",
       "</div>"
      ],
      "text/plain": [
       "                              code severity  n\n",
       "0  leading_or_trailing_whitespaces    ERROR  1"
      ]
     },
     "execution_count": 15,
     "metadata": {},
     "output_type": "execute_result"
    }
   ],
   "source": [
    "tbl_validation_notices"
   ]
  }
 ],
 "metadata": {
  "kernelspec": {
   "display_name": "venv-calitp-py",
   "language": "python",
   "name": "venv-calitp-py"
  },
  "language_info": {
   "codemirror_mode": {
    "name": "ipython",
    "version": 3
   },
   "file_extension": ".py",
   "mimetype": "text/x-python",
   "name": "python",
   "nbconvert_exporter": "python",
   "pygments_lexer": "ipython3",
   "version": "3.8.5"
  },
  "papermill": {
   "default_parameters": {},
   "duration": 50.312864,
   "end_time": "2021-06-23T00:30:34.181278",
   "environment_variables": {},
   "exception": null,
   "input_path": "report.ipynb",
   "output_path": "output/168/report.ipynb",
   "parameters": {
    "CALITP_ITP_ID": 168,
    "CALITP_URL_NUMBER": 0
   },
   "start_time": "2021-06-23T00:29:43.868414",
   "version": "2.3.3"
  }
 },
 "nbformat": 4,
 "nbformat_minor": 5
}