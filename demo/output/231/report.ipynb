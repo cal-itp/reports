{
 "cells": [
  {
   "cell_type": "markdown",
   "id": "e721e365",
   "metadata": {
    "papermill": {
     "duration": 0.02788,
     "end_time": "2021-06-23T00:32:47.097473",
     "exception": false,
     "start_time": "2021-06-23T00:32:47.069593",
     "status": "completed"
    },
    "tags": [
     "hide"
    ]
   },
   "source": [
    "# Setup"
   ]
  },
  {
   "cell_type": "code",
   "execution_count": 1,
   "id": "cd96075f",
   "metadata": {
    "execution": {
     "iopub.execute_input": "2021-06-23T00:32:47.154756Z",
     "iopub.status.busy": "2021-06-23T00:32:47.152084Z",
     "iopub.status.idle": "2021-06-23T00:32:53.622594Z",
     "shell.execute_reply": "2021-06-23T00:32:53.623511Z"
    },
    "papermill": {
     "duration": 6.501005,
     "end_time": "2021-06-23T00:32:53.623958",
     "exception": false,
     "start_time": "2021-06-23T00:32:47.122953",
     "status": "completed"
    },
    "tags": [
     "hide"
    ]
   },
   "outputs": [],
   "source": [
    "import pandas as pd\n",
    "\n",
    "from io import StringIO\n",
    "from calitp.tables import tbl\n",
    "from datetime import date\n",
    "from siuba import *\n",
    "from plotnine import *\n",
    "\n",
    "\n",
    "START_DATE = \"2021-05-01\"\n",
    "END_DATE = \"2021-06-01\"\n",
    "DATE_TODAY=date.today()\n",
    "\n",
    "WEEK_MARKERS = pd.date_range(START_DATE, END_DATE, freq=\"W\").astype(str).tolist()"
   ]
  },
  {
   "cell_type": "code",
   "execution_count": 2,
   "id": "81b4a624",
   "metadata": {
    "execution": {
     "iopub.execute_input": "2021-06-23T00:32:53.734521Z",
     "iopub.status.busy": "2021-06-23T00:32:53.732561Z",
     "iopub.status.idle": "2021-06-23T00:32:53.740792Z",
     "shell.execute_reply": "2021-06-23T00:32:53.741229Z"
    },
    "papermill": {
     "duration": 0.094026,
     "end_time": "2021-06-23T00:32:53.741391",
     "exception": false,
     "start_time": "2021-06-23T00:32:53.647365",
     "status": "completed"
    },
    "tags": [
     "parameters",
     "hide"
    ]
   },
   "outputs": [],
   "source": [
    "CALITP_ITP_ID=389\n",
    "#CALITP_ITP_ID=45\n",
    "CALITP_URL_NUMBER=0"
   ]
  },
  {
   "cell_type": "code",
   "execution_count": 3,
   "id": "b5cf4555",
   "metadata": {
    "execution": {
     "iopub.execute_input": "2021-06-23T00:32:53.787883Z",
     "iopub.status.busy": "2021-06-23T00:32:53.785788Z",
     "iopub.status.idle": "2021-06-23T00:32:53.789015Z",
     "shell.execute_reply": "2021-06-23T00:32:53.789844Z"
    },
    "papermill": {
     "duration": 0.027214,
     "end_time": "2021-06-23T00:32:53.790098",
     "exception": false,
     "start_time": "2021-06-23T00:32:53.762884",
     "status": "completed"
    },
    "tags": [
     "injected-parameters"
    ]
   },
   "outputs": [],
   "source": [
    "# Parameters\n",
    "CALITP_ITP_ID = 231\n",
    "CALITP_URL_NUMBER = 0\n"
   ]
  },
  {
   "cell_type": "code",
   "execution_count": 4,
   "id": "efee33be",
   "metadata": {
    "execution": {
     "iopub.execute_input": "2021-06-23T00:32:53.840045Z",
     "iopub.status.busy": "2021-06-23T00:32:53.838855Z",
     "iopub.status.idle": "2021-06-23T00:32:53.841955Z",
     "shell.execute_reply": "2021-06-23T00:32:53.842373Z"
    },
    "papermill": {
     "duration": 0.027787,
     "end_time": "2021-06-23T00:32:53.842672",
     "exception": false,
     "start_time": "2021-06-23T00:32:53.814885",
     "status": "completed"
    },
    "tags": [
     "hide"
    ]
   },
   "outputs": [],
   "source": [
    "# Convenience functions ----\n",
    "\n",
    "filter_start = filter(\n",
    "    _.calitp_extracted_at <= START_DATE,\n",
    "    _.calitp_deleted_at.fillna(\"2099-01-01\") > START_DATE,\n",
    ")\n",
    "\n",
    "filter_end = filter(\n",
    "    _.calitp_extracted_at <= END_DATE,\n",
    "    _.calitp_deleted_at.fillna(\"2099-01-01\") > END_DATE,\n",
    ")\n",
    "\n",
    "filter_itp = filter(\n",
    "    _.calitp_itp_id == CALITP_ITP_ID, _.calitp_url_number == CALITP_URL_NUMBER\n",
    ")\n",
    "\n",
    "collect_to_dict = (\n",
    "    collect()\n",
    "    >> pipe(_.to_dict(orient=\"records\")[0])\n",
    ")\n",
    "\n",
    "\n",
    "select_rm_calitp = select(\n",
    "    -_.calitp_itp_id,\n",
    "    -_.calitp_url_number,\n",
    "    -_.calitp_hash,\n",
    "    -_.calitp_extracted_at,\n",
    "    -_.calitp_deleted_at,\n",
    ")\n",
    "\n",
    "\n",
    "def query_id_changes(start_table, end_table, id_vars):\n",
    "    \"\"\"Calculate id variables that are removed, added, or unchanged between tables.\n",
    "    \n",
    "    It works by adding a special column to each table, performing a full join,\n",
    "    then checking where the special column is null.\n",
    "    \"\"\"\n",
    "    sym_id_vars = [_[k] for k in id_vars]\n",
    "\n",
    "    is_in_start = start_table >> select(*id_vars) >> mutate(is_in_start=True)\n",
    "    is_in_end = end_table >> select(*id_vars) >> mutate(is_in_end=True)\n",
    "\n",
    "    baseline = start_table >> count(*id_vars) >> rename(n_baseline=\"n\")\n",
    "    tallies = (\n",
    "        is_in_start\n",
    "        >> full_join(_, is_in_end, id_vars)\n",
    "        >> count(*sym_id_vars, _.is_in_start, _.is_in_end)\n",
    "        >> mutate(\n",
    "            status=case_when(\n",
    "                _,\n",
    "                {\n",
    "                    _.is_in_end.isna(): \"Removed\",\n",
    "                    _.is_in_start.isna(): \"Added\",\n",
    "                    True: \"Unchanged\",\n",
    "                },\n",
    "            )\n",
    "        )\n",
    "        >> count(*sym_id_vars[:-1], _.status)\n",
    "        >> group_by(*sym_id_vars[:-1])\n",
    "        >> mutate(percent=_.n / _.n.sum())\n",
    "    )\n",
    "\n",
    "    return tallies"
   ]
  },
  {
   "cell_type": "code",
   "execution_count": 5,
   "id": "db3c0925",
   "metadata": {
    "execution": {
     "iopub.execute_input": "2021-06-23T00:32:53.888039Z",
     "iopub.status.busy": "2021-06-23T00:32:53.886560Z",
     "iopub.status.idle": "2021-06-23T00:33:20.538874Z",
     "shell.execute_reply": "2021-06-23T00:33:20.539669Z"
    },
    "papermill": {
     "duration": 26.681113,
     "end_time": "2021-06-23T00:33:20.539967",
     "exception": false,
     "start_time": "2021-06-23T00:32:53.858854",
     "status": "completed"
    },
    "tags": [
     "hide"
    ]
   },
   "outputs": [],
   "source": [
    "# Data ====\n",
    "# 1. High level feed info ----\n",
    "feed_info = (\n",
    "    tbl.gtfs_schedule_type2.feed_info()\n",
    "    >> filter_end\n",
    "    >> filter_itp\n",
    "    >> select_rm_calitp\n",
    "    >> collect_to_dict\n",
    ")\n",
    "\n",
    "_n_routes = (\n",
    "    tbl.gtfs_schedule_type2.routes() >> filter_end >> filter_itp >> count() >> collect()\n",
    ")\n",
    "_n_stops = (\n",
    "    tbl.gtfs_schedule_type2.stops() >> filter_end >> filter_itp >> count() >> collect()\n",
    ")\n",
    "\n",
    "feed_info[\"n_routes\"] = int(_n_routes.loc[0, \"n\"])\n",
    "feed_info[\"n_stops\"] = int(_n_stops.loc[0, \"n\"])\n",
    "\n",
    "status = (\n",
    "    tbl.views.gtfs_status_latest()\n",
    "    >> filter(_.itp_id == CALITP_ITP_ID, _.url_number == CALITP_URL_NUMBER)\n",
    "    >> select(-_.url_number, -_.status)\n",
    "    >> select_rm_calitp\n",
    "    >> collect_to_dict\n",
    ")\n",
    "\n",
    "# 2. Monthly metrics ----\n",
    "# Service hours per day. Note that the queried table calculates service\n",
    "# hours per service id, so we need to sum across service ids for the day\n",
    "_cross_cal = (\n",
    "    tbl.views.dim_date()\n",
    "    >> filter(_.full_date.between(START_DATE, END_DATE))\n",
    "    >> select(_.service_date == _.full_date)\n",
    ")\n",
    "\n",
    "tbl_daily_service_hours = (\n",
    "    tbl.views.gtfs_schedule_service_daily_metrics()\n",
    "    >> filter_itp\n",
    "    >> filter(_.service_date.between(START_DATE, END_DATE))\n",
    "    >> right_join(_, _cross_cal, [\"service_date\"])\n",
    "    >> collect()\n",
    "    >> group_by(_.service_date)\n",
    "    >> summarize(ttl_service_hours=(_.last_arrival_ts.max() - _.first_departure_ts.min()) / 3600)\n",
    "    >> mutate(\n",
    "        ttl_service_hours=_.ttl_service_hours.astype(float).round(2),\n",
    "        service_date=_.service_date.astype(\"datetime64[ns]\"),\n",
    "    )\n",
    ")\n",
    "\n",
    "# number of days where a feed did not have any trips in service\n",
    "n_expired_days = (\n",
    "    tbl_daily_service_hours >> filter(_.ttl_service_hours.isna())\n",
    "    >> pipe(lambda d: {\"n\": d.shape[0]})\n",
    ")\n",
    "\n",
    "# 3. Stop and Route ID Changes ----\n",
    "\n",
    "_tbl_stops_start = tbl.gtfs_schedule_type2.stops() >> filter_itp >> filter_start\n",
    "_tbl_stops_end = tbl.gtfs_schedule_type2.stops() >> filter_itp >> filter_end\n",
    "tbl_stops_changed = (\n",
    "    query_id_changes(_tbl_stops_start, _tbl_stops_end, [\"stop_id\"]) >> collect()\n",
    ")\n",
    "\n",
    "_tbl_routes_start = tbl.gtfs_schedule_type2.routes() >> filter_start\n",
    "_tbl_routes_end = tbl.gtfs_schedule_type2.routes() >> filter_end\n",
    "tbl_routes_changed = (\n",
    "    query_id_changes(_tbl_routes_start, _tbl_routes_end, [\"route_id\"]) >> collect()\n",
    ")"
   ]
  },
  {
   "cell_type": "code",
   "execution_count": 6,
   "id": "0058e647",
   "metadata": {
    "execution": {
     "iopub.execute_input": "2021-06-23T00:33:20.621930Z",
     "iopub.status.busy": "2021-06-23T00:33:20.620526Z",
     "iopub.status.idle": "2021-06-23T00:33:27.138258Z",
     "shell.execute_reply": "2021-06-23T00:33:27.137725Z"
    },
    "papermill": {
     "duration": 6.564375,
     "end_time": "2021-06-23T00:33:27.138407",
     "exception": false,
     "start_time": "2021-06-23T00:33:20.574032",
     "status": "completed"
    },
    "tags": [
     "hide"
    ]
   },
   "outputs": [],
   "source": [
    "# 4. Feed files being checked for ----\n",
    "\n",
    "file_categories = pd.DataFrame(\n",
    "    {\n",
    "        \"shapes.txt\": \"Visual display\",\n",
    "        \"pathways.txt\": \"Navigation\",\n",
    "        \"levels.txt\": \"Navigation\",\n",
    "        \"fare_rules.txt\": \"Fares\",\n",
    "        \"fare_leg_rules\": \"Fares\",\n",
    "        \"feed_info.txt\": \"Technical contacts\",\n",
    "    }.items(),\n",
    "    columns=[\"name\", \"category\"],\n",
    ")\n",
    "\n",
    "importance = [\"Visual display\", \"Navigation\", \"Fares\", \"Technical contacts\"]\n",
    "\n",
    "tbl_file_check = (\n",
    "    tbl.gtfs_schedule_history.calitp_files_updates()\n",
    "    >> filter_itp\n",
    "    >> filter(_.calitp_extracted_at.isin(WEEK_MARKERS))\n",
    "    >> select(_.name, _.calitp_extracted_at)\n",
    "    >> collect()\n",
    "    >> right_join(_, file_categories, [\"name\"])\n",
    "    >> mutate(\n",
    "        calitp_extracted_at=_.calitp_extracted_at.fillna(\"missing\").astype(str),\n",
    "        success=\"✅\",\n",
    "    )\n",
    "    >> spread(_.calitp_extracted_at, _.success)\n",
    "    >> select(-_.missing)\n",
    "    >> arrange(_.category.apply(importance.index))\n",
    "    >> select(_.category, _.contains(\"\"))\n",
    "    >> pipe(_.fillna(\"\"))\n",
    ")\n",
    "\n",
    "tbl_validation_notices = (\n",
    "    tbl.views.validation_notices()\n",
    "    >> filter_itp\n",
    "    >> filter(_.severity == \"ERROR\")\n",
    "    >> count(_.code, _.severity)\n",
    "    >> collect()\n",
    ")"
   ]
  },
  {
   "cell_type": "markdown",
   "id": "6292b793",
   "metadata": {
    "papermill": {
     "duration": 0.032106,
     "end_time": "2021-06-23T00:33:27.239289",
     "exception": false,
     "start_time": "2021-06-23T00:33:27.207183",
     "status": "completed"
    },
    "tags": [
     "hide"
    ]
   },
   "source": [
    "## Dump data"
   ]
  },
  {
   "cell_type": "code",
   "execution_count": 7,
   "id": "46e296ba",
   "metadata": {
    "execution": {
     "iopub.execute_input": "2021-06-23T00:33:27.469879Z",
     "iopub.status.busy": "2021-06-23T00:33:27.460367Z",
     "iopub.status.idle": "2021-06-23T00:33:27.470450Z",
     "shell.execute_reply": "2021-06-23T00:33:27.469404Z"
    },
    "papermill": {
     "duration": 0.137311,
     "end_time": "2021-06-23T00:33:27.470656",
     "exception": false,
     "start_time": "2021-06-23T00:33:27.333345",
     "status": "completed"
    },
    "tags": [
     "hide"
    ]
   },
   "outputs": [],
   "source": [
    "import json\n",
    "import shutil\n",
    "\n",
    "from pathlib import Path\n",
    "\n",
    "out_dir = Path(f\"output/{CALITP_ITP_ID}_{CALITP_URL_NUMBER}/data\")\n",
    "out_dir.mkdir(parents=True, exist_ok=True)\n",
    "\n",
    "json.dump(feed_info, open(out_dir / \"1_feed_info.json\", \"w\"))\n",
    "json.dump(status, open(out_dir / \"1_status.json\", \"w\"))\n",
    "\n",
    "tbl_daily_service_hours.to_json(out_dir / \"2_daily_service_hours.json\", orient=\"records\")\n",
    "json.dump(n_expired_days, open(out_dir / \"2_n_expired_days.json\", \"w\"))\n",
    "\n",
    "tbl_stops_changed.to_json(out_dir / \"3_stops_changed.json\", orient=\"records\")\n",
    "tbl_routes_changed.to_json(out_dir / \"3_routes_changed.json\", orient=\"records\")\n",
    "tbl_file_check.to_json(out_dir / \"4_file_check.json\", orient=\"records\")\n",
    "tbl_validation_notices.to_json(out_dir / \"4_validation_notices.json\", orient=\"records\")\n"
   ]
  },
  {
   "cell_type": "markdown",
   "id": "deb07151",
   "metadata": {
    "papermill": {
     "duration": 0.064305,
     "end_time": "2021-06-23T00:33:27.570514",
     "exception": false,
     "start_time": "2021-06-23T00:33:27.506209",
     "status": "completed"
    },
    "tags": []
   },
   "source": [
    "# GTFS Schedule Report"
   ]
  },
  {
   "cell_type": "markdown",
   "id": "288dcc90",
   "metadata": {
    "papermill": {
     "duration": 0.03587,
     "end_time": "2021-06-23T00:33:27.658402",
     "exception": false,
     "start_time": "2021-06-23T00:33:27.622532",
     "status": "completed"
    },
    "tags": []
   },
   "source": [
    "# Example Juniper Report"
   ]
  },
  {
   "cell_type": "code",
   "execution_count": 8,
   "id": "19454a2c",
   "metadata": {
    "execution": {
     "iopub.execute_input": "2021-06-23T00:33:27.812363Z",
     "iopub.status.busy": "2021-06-23T00:33:27.810340Z",
     "iopub.status.idle": "2021-06-23T00:33:27.827463Z",
     "shell.execute_reply": "2021-06-23T00:33:27.811439Z"
    },
    "papermill": {
     "duration": 0.101912,
     "end_time": "2021-06-23T00:33:27.827656",
     "exception": false,
     "start_time": "2021-06-23T00:33:27.725744",
     "status": "completed"
    },
    "tags": []
   },
   "outputs": [
    {
     "data": {
      "text/markdown": [
       "\n",
       "Transit provider name: GMV Syncromatics\n",
       "\n",
       "Date generated: 2021-06-22\n"
      ],
      "text/plain": [
       "<IPython.core.display.Markdown object>"
      ]
     },
     "execution_count": 8,
     "metadata": {},
     "output_type": "execute_result"
    }
   ],
   "source": [
    "from IPython.display import Markdown\n",
    "\n",
    "Markdown(f\"\"\"\n",
    "Transit provider name: {feed_info[\"feed_publisher_name\"]}\n",
    "\n",
    "Date generated: {DATE_TODAY}\n",
    "\"\"\")"
   ]
  },
  {
   "cell_type": "markdown",
   "id": "24b6ebbc",
   "metadata": {
    "papermill": {
     "duration": 0.036042,
     "end_time": "2021-06-23T00:33:27.906107",
     "exception": false,
     "start_time": "2021-06-23T00:33:27.870065",
     "status": "completed"
    },
    "tags": []
   },
   "source": [
    "This is a monthly report, generated by the California Integrated Travel Project (Cal-ITP), summarizing issues discovered by MobilityData’s GTFS Validator. This report is available for viewing by the general public to support continuous improvement of GTFS data and the experience of transit passengers. "
   ]
  },
  {
   "cell_type": "markdown",
   "id": "fcb003bd",
   "metadata": {
    "papermill": {
     "duration": 0.041736,
     "end_time": "2021-06-23T00:33:27.987944",
     "exception": false,
     "start_time": "2021-06-23T00:33:27.946208",
     "status": "completed"
    },
    "tags": []
   },
   "source": [
    "## Overview"
   ]
  },
  {
   "cell_type": "code",
   "execution_count": 9,
   "id": "48fe3a3b",
   "metadata": {
    "execution": {
     "iopub.execute_input": "2021-06-23T00:33:28.042518Z",
     "iopub.status.busy": "2021-06-23T00:33:28.041933Z",
     "iopub.status.idle": "2021-06-23T00:33:30.452627Z",
     "shell.execute_reply": "2021-06-23T00:33:30.451928Z"
    },
    "papermill": {
     "duration": 2.443042,
     "end_time": "2021-06-23T00:33:30.452831",
     "exception": false,
     "start_time": "2021-06-23T00:33:28.009789",
     "status": "completed"
    },
    "tags": []
   },
   "outputs": [
    {
     "data": {
      "text/markdown": [
       "\n",
       "Feed location: https://govcbus.com/gtfs\n",
       "\n",
       "Metrics for the most recent published version of the feed:\n",
       "\n",
       "* Date published: 144-08/01/2020 - No Trippers,152-3/29/2021,143-5/10/2021,139-5/13/2021,142-8/3/2020 Version 4,149-Covid Schedule No Trippers v2,147-Effective 11/28/18,153-Fixed Route + Trolley Service,148-Reduced Service\n",
       "* Number of routes in any service: 61\n",
       "* Number of stops in service: 1311\n"
      ],
      "text/plain": [
       "<IPython.core.display.Markdown object>"
      ]
     },
     "execution_count": 9,
     "metadata": {},
     "output_type": "execute_result"
    }
   ],
   "source": [
    "Markdown(f\"\"\"\n",
    "Feed location: {status[\"gtfs_schedule_url\"]}\n",
    "\n",
    "Metrics for the most recent published version of the feed:\n",
    "\n",
    "* Date published: {feed_info[\"feed_version\"]}\n",
    "* Number of routes in any service: {feed_info[\"n_routes\"]}\n",
    "* Number of stops in service: {feed_info[\"n_stops\"]}\n",
    "\"\"\")"
   ]
  },
  {
   "cell_type": "markdown",
   "id": "d707f706",
   "metadata": {
    "papermill": {
     "duration": 0.065166,
     "end_time": "2021-06-23T00:33:30.539082",
     "exception": false,
     "start_time": "2021-06-23T00:33:30.473916",
     "status": "completed"
    },
    "tags": []
   },
   "source": [
    "## Aggregated Metrics for May"
   ]
  },
  {
   "cell_type": "code",
   "execution_count": 10,
   "id": "01b54606",
   "metadata": {
    "execution": {
     "iopub.execute_input": "2021-06-23T00:33:30.694937Z",
     "iopub.status.busy": "2021-06-23T00:33:30.694118Z",
     "iopub.status.idle": "2021-06-23T00:33:35.445721Z",
     "shell.execute_reply": "2021-06-23T00:33:35.446156Z"
    },
    "papermill": {
     "duration": 4.81989,
     "end_time": "2021-06-23T00:33:35.446351",
     "exception": false,
     "start_time": "2021-06-23T00:33:30.626461",
     "status": "completed"
    },
    "tags": []
   },
   "outputs": [
    {
     "name": "stdout",
     "output_type": "stream",
     "text": [
      "The history saving thread hit an unexpected error (OperationalError('database is locked')).History will not be written to the database."
     ]
    },
    {
     "data": {
      "text/markdown": [
       "\n",
       "Days when the active feed was expired: 0\n"
      ],
      "text/plain": [
       "<IPython.core.display.Markdown object>"
      ]
     },
     "execution_count": 10,
     "metadata": {},
     "output_type": "execute_result"
    },
    {
     "name": "stdout",
     "output_type": "stream",
     "text": [
      "\n"
     ]
    }
   ],
   "source": [
    "Markdown(f\"\"\"\n",
    "Days when the active feed was expired: {n_expired_days[\"n\"]}\n",
    "\"\"\")"
   ]
  },
  {
   "cell_type": "code",
   "execution_count": 11,
   "id": "e77f98c8",
   "metadata": {
    "execution": {
     "iopub.execute_input": "2021-06-23T00:33:35.564229Z",
     "iopub.status.busy": "2021-06-23T00:33:35.563093Z",
     "iopub.status.idle": "2021-06-23T00:33:35.940292Z",
     "shell.execute_reply": "2021-06-23T00:33:35.938517Z"
    },
    "papermill": {
     "duration": 0.441447,
     "end_time": "2021-06-23T00:33:35.940452",
     "exception": false,
     "start_time": "2021-06-23T00:33:35.499005",
     "status": "completed"
    },
    "tags": []
   },
   "outputs": [
    {
     "data": {
      "image/png": "[encoded data removed]",
      "text/plain": [
       "<Figure size 640x480 with 1 Axes>"
      ]
     },
     "metadata": {},
     "output_type": "display_data"
    },
    {
     "data": {
      "text/plain": [
       "<ggplot: (314286921)>"
      ]
     },
     "execution_count": 11,
     "metadata": {},
     "output_type": "execute_result"
    }
   ],
   "source": [
    "(\n",
    "    tbl_daily_service_hours\n",
    "    >> ggplot(aes(\"service_date\", \"ttl_service_hours\"))\n",
    "    + geom_line()\n",
    "    + geom_point()\n",
    "    + theme(axis_text_x=element_text(angle=45, hjust=1))\n",
    "    + scale_x_datetime(date_breaks=\"1 week\")\n",
    "    + expand_limits(y=0)\n",
    ")"
   ]
  },
  {
   "cell_type": "markdown",
   "id": "08df7d82",
   "metadata": {
    "papermill": {
     "duration": 0.045852,
     "end_time": "2021-06-23T00:33:36.046918",
     "exception": false,
     "start_time": "2021-06-23T00:33:36.001066",
     "status": "completed"
    },
    "tags": []
   },
   "source": [
    "## Changes Since Previous Month"
   ]
  },
  {
   "cell_type": "code",
   "execution_count": 12,
   "id": "f846a47f",
   "metadata": {
    "execution": {
     "iopub.execute_input": "2021-06-23T00:33:36.161012Z",
     "iopub.status.busy": "2021-06-23T00:33:36.150871Z",
     "iopub.status.idle": "2021-06-23T00:33:36.653230Z",
     "shell.execute_reply": "2021-06-23T00:33:36.651993Z"
    },
    "papermill": {
     "duration": 0.576455,
     "end_time": "2021-06-23T00:33:36.653370",
     "exception": false,
     "start_time": "2021-06-23T00:33:36.076915",
     "status": "completed"
    },
    "tags": []
   },
   "outputs": [
    {
     "data": {
      "image/png": "[encoded data removed]",
      "text/plain": [
       "<Figure size 640x480 with 1 Axes>"
      ]
     },
     "metadata": {},
     "output_type": "display_data"
    },
    {
     "data": {
      "text/plain": [
       "<ggplot: (314459001)>"
      ]
     },
     "execution_count": 12,
     "metadata": {},
     "output_type": "execute_result"
    }
   ],
   "source": [
    "(\n",
    "    pd.concat(\n",
    "        [\n",
    "            tbl_stops_changed >> mutate(kind=\"Stops\"),\n",
    "            tbl_routes_changed >> mutate(kind=\"Routes\"),\n",
    "        ]\n",
    "    )\n",
    "    >> ggplot(aes(\"kind\", \"n\", fill=\"status\"))\n",
    "    + geom_col()\n",
    "    + labs(x=\"Kind of ID\", y=\"Number of Changes\")\n",
    ")"
   ]
  },
  {
   "cell_type": "markdown",
   "id": "8acc7972",
   "metadata": {
    "papermill": {
     "duration": 0.055745,
     "end_time": "2021-06-23T00:33:36.775010",
     "exception": false,
     "start_time": "2021-06-23T00:33:36.719265",
     "status": "completed"
    },
    "tags": []
   },
   "source": [
    "### (Alternative version using percentages)"
   ]
  },
  {
   "cell_type": "code",
   "execution_count": 13,
   "id": "20eae938",
   "metadata": {
    "execution": {
     "iopub.execute_input": "2021-06-23T00:33:36.869251Z",
     "iopub.status.busy": "2021-06-23T00:33:36.868294Z",
     "iopub.status.idle": "2021-06-23T00:33:37.502927Z",
     "shell.execute_reply": "2021-06-23T00:33:37.503382Z"
    },
    "papermill": {
     "duration": 0.686584,
     "end_time": "2021-06-23T00:33:37.503670",
     "exception": false,
     "start_time": "2021-06-23T00:33:36.817086",
     "status": "completed"
    },
    "tags": []
   },
   "outputs": [
    {
     "data": {
      "image/png": "[encoded data removed]",
      "text/plain": [
       "<Figure size 640x480 with 1 Axes>"
      ]
     },
     "metadata": {},
     "output_type": "display_data"
    },
    {
     "data": {
      "text/plain": [
       "<ggplot: (314652697)>"
      ]
     },
     "execution_count": 13,
     "metadata": {},
     "output_type": "execute_result"
    }
   ],
   "source": [
    "(\n",
    "    pd.concat(\n",
    "        [\n",
    "            tbl_stops_changed >> mutate(kind=\"Stops\"),\n",
    "            tbl_routes_changed >> mutate(kind=\"Routes\"),\n",
    "        ]\n",
    "    )\n",
    "    >> ggplot(aes(\"kind\", \"percent\", fill=\"status\"))\n",
    "    + geom_col()\n",
    "    + labs(x=\"Kind of ID\", y=\"Percent of Changes\")\n",
    ")"
   ]
  },
  {
   "cell_type": "markdown",
   "id": "015e8e74",
   "metadata": {
    "papermill": {
     "duration": 0.07273,
     "end_time": "2021-06-23T00:33:37.618972",
     "exception": false,
     "start_time": "2021-06-23T00:33:37.546242",
     "status": "completed"
    },
    "tags": []
   },
   "source": [
    "## Consistency with the California GTFS Minimum Guidelines for the feed downloaded\n"
   ]
  },
  {
   "cell_type": "code",
   "execution_count": 14,
   "id": "85f9297c",
   "metadata": {
    "execution": {
     "iopub.execute_input": "2021-06-23T00:33:37.738529Z",
     "iopub.status.busy": "2021-06-23T00:33:37.737852Z",
     "iopub.status.idle": "2021-06-23T00:33:37.751826Z",
     "shell.execute_reply": "2021-06-23T00:33:37.754695Z"
    },
    "papermill": {
     "duration": 0.08404,
     "end_time": "2021-06-23T00:33:37.755031",
     "exception": false,
     "start_time": "2021-06-23T00:33:37.670991",
     "status": "completed"
    },
    "tags": []
   },
   "outputs": [
    {
     "data": {
      "text/html": [
       "<div>\n",
       "<style scoped>\n",
       "    .dataframe tbody tr th:only-of-type {\n",
       "        vertical-align: middle;\n",
       "    }\n",
       "\n",
       "    .dataframe tbody tr th {\n",
       "        vertical-align: top;\n",
       "    }\n",
       "\n",
       "    .dataframe thead th {\n",
       "        text-align: right;\n",
       "    }\n",
       "</style>\n",
       "<table border=\"1\" class=\"dataframe\">\n",
       "  <thead>\n",
       "    <tr style=\"text-align: right;\">\n",
       "      <th></th>\n",
       "      <th>category</th>\n",
       "      <th>name</th>\n",
       "      <th>2021-05-02</th>\n",
       "      <th>2021-05-09</th>\n",
       "      <th>2021-05-16</th>\n",
       "      <th>2021-05-23</th>\n",
       "      <th>2021-05-30</th>\n",
       "    </tr>\n",
       "  </thead>\n",
       "  <tbody>\n",
       "    <tr>\n",
       "      <th>5</th>\n",
       "      <td>Visual display</td>\n",
       "      <td>shapes.txt</td>\n",
       "      <td>✅</td>\n",
       "      <td>✅</td>\n",
       "      <td>✅</td>\n",
       "      <td>✅</td>\n",
       "      <td>✅</td>\n",
       "    </tr>\n",
       "    <tr>\n",
       "      <th>3</th>\n",
       "      <td>Navigation</td>\n",
       "      <td>levels.txt</td>\n",
       "      <td></td>\n",
       "      <td></td>\n",
       "      <td></td>\n",
       "      <td></td>\n",
       "      <td></td>\n",
       "    </tr>\n",
       "    <tr>\n",
       "      <th>4</th>\n",
       "      <td>Navigation</td>\n",
       "      <td>pathways.txt</td>\n",
       "      <td></td>\n",
       "      <td></td>\n",
       "      <td></td>\n",
       "      <td></td>\n",
       "      <td></td>\n",
       "    </tr>\n",
       "    <tr>\n",
       "      <th>0</th>\n",
       "      <td>Fares</td>\n",
       "      <td>fare_leg_rules</td>\n",
       "      <td></td>\n",
       "      <td></td>\n",
       "      <td></td>\n",
       "      <td></td>\n",
       "      <td></td>\n",
       "    </tr>\n",
       "    <tr>\n",
       "      <th>1</th>\n",
       "      <td>Fares</td>\n",
       "      <td>fare_rules.txt</td>\n",
       "      <td></td>\n",
       "      <td></td>\n",
       "      <td></td>\n",
       "      <td></td>\n",
       "      <td></td>\n",
       "    </tr>\n",
       "    <tr>\n",
       "      <th>2</th>\n",
       "      <td>Technical contacts</td>\n",
       "      <td>feed_info.txt</td>\n",
       "      <td>✅</td>\n",
       "      <td>✅</td>\n",
       "      <td>✅</td>\n",
       "      <td>✅</td>\n",
       "      <td>✅</td>\n",
       "    </tr>\n",
       "  </tbody>\n",
       "</table>\n",
       "</div>"
      ],
      "text/plain": [
       "             category            name 2021-05-02 2021-05-09 2021-05-16  \\\n",
       "5      Visual display      shapes.txt          ✅          ✅          ✅   \n",
       "3          Navigation      levels.txt                                    \n",
       "4          Navigation    pathways.txt                                    \n",
       "0               Fares  fare_leg_rules                                    \n",
       "1               Fares  fare_rules.txt                                    \n",
       "2  Technical contacts   feed_info.txt          ✅          ✅          ✅   \n",
       "\n",
       "  2021-05-23 2021-05-30  \n",
       "5          ✅          ✅  \n",
       "3                        \n",
       "4                        \n",
       "0                        \n",
       "1                        \n",
       "2          ✅          ✅  "
      ]
     },
     "execution_count": 14,
     "metadata": {},
     "output_type": "execute_result"
    }
   ],
   "source": [
    "tbl_file_check"
   ]
  },
  {
   "cell_type": "markdown",
   "id": "e8b8ce92",
   "metadata": {
    "papermill": {
     "duration": 0.088057,
     "end_time": "2021-06-23T00:33:37.900047",
     "exception": false,
     "start_time": "2021-06-23T00:33:37.811990",
     "status": "completed"
    },
    "tags": []
   },
   "source": [
    "### Validation Errors Observed"
   ]
  },
  {
   "cell_type": "code",
   "execution_count": 15,
   "id": "ff07cabe",
   "metadata": {
    "execution": {
     "iopub.execute_input": "2021-06-23T00:33:38.061559Z",
     "iopub.status.busy": "2021-06-23T00:33:38.060651Z",
     "iopub.status.idle": "2021-06-23T00:33:38.072751Z",
     "shell.execute_reply": "2021-06-23T00:33:38.073264Z"
    },
    "papermill": {
     "duration": 0.095766,
     "end_time": "2021-06-23T00:33:38.073440",
     "exception": false,
     "start_time": "2021-06-23T00:33:37.977674",
     "status": "completed"
    },
    "tags": []
   },
   "outputs": [
    {
     "data": {
      "text/html": [
       "<div>\n",
       "<style scoped>\n",
       "    .dataframe tbody tr th:only-of-type {\n",
       "        vertical-align: middle;\n",
       "    }\n",
       "\n",
       "    .dataframe tbody tr th {\n",
       "        vertical-align: top;\n",
       "    }\n",
       "\n",
       "    .dataframe thead th {\n",
       "        text-align: right;\n",
       "    }\n",
       "</style>\n",
       "<table border=\"1\" class=\"dataframe\">\n",
       "  <thead>\n",
       "    <tr style=\"text-align: right;\">\n",
       "      <th></th>\n",
       "      <th>code</th>\n",
       "      <th>severity</th>\n",
       "      <th>n</th>\n",
       "    </tr>\n",
       "  </thead>\n",
       "  <tbody>\n",
       "    <tr>\n",
       "      <th>0</th>\n",
       "      <td>leading_or_trailing_whitespaces</td>\n",
       "      <td>ERROR</td>\n",
       "      <td>51</td>\n",
       "    </tr>\n",
       "    <tr>\n",
       "      <th>1</th>\n",
       "      <td>decreasing_or_equal_shape_distance</td>\n",
       "      <td>ERROR</td>\n",
       "      <td>37</td>\n",
       "    </tr>\n",
       "    <tr>\n",
       "      <th>2</th>\n",
       "      <td>same_name_and_description_for_route</td>\n",
       "      <td>ERROR</td>\n",
       "      <td>30</td>\n",
       "    </tr>\n",
       "  </tbody>\n",
       "</table>\n",
       "</div>"
      ],
      "text/plain": [
       "                                  code severity   n\n",
       "0      leading_or_trailing_whitespaces    ERROR  51\n",
       "1   decreasing_or_equal_shape_distance    ERROR  37\n",
       "2  same_name_and_description_for_route    ERROR  30"
      ]
     },
     "execution_count": 15,
     "metadata": {},
     "output_type": "execute_result"
    }
   ],
   "source": [
    "tbl_validation_notices"
   ]
  }
 ],
 "metadata": {
  "kernelspec": {
   "display_name": "venv-calitp-py",
   "language": "python",
   "name": "venv-calitp-py"
  },
  "language_info": {
   "codemirror_mode": {
    "name": "ipython",
    "version": 3
   },
   "file_extension": ".py",
   "mimetype": "text/x-python",
   "name": "python",
   "nbconvert_exporter": "python",
   "pygments_lexer": "ipython3",
   "version": "3.8.5"
  },
  "papermill": {
   "default_parameters": {},
   "duration": 55.022225,
   "end_time": "2021-06-23T00:33:40.724452",
   "environment_variables": {},
   "exception": null,
   "input_path": "report.ipynb",
   "output_path": "output/231/report.ipynb",
   "parameters": {
    "CALITP_ITP_ID": 231,
    "CALITP_URL_NUMBER": 0
   },
   "start_time": "2021-06-23T00:32:45.702227",
   "version": "2.3.3"
  }
 },
 "nbformat": 4,
 "nbformat_minor": 5
}