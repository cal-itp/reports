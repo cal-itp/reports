{
 "cells": [
  {
   "cell_type": "markdown",
   "id": "248e2312",
   "metadata": {
    "papermill": {
     "duration": 0.027889,
     "end_time": "2021-06-24T22:16:37.334648",
     "exception": false,
     "start_time": "2021-06-24T22:16:37.306759",
     "status": "completed"
    },
    "tags": [
     "hide"
    ]
   },
   "source": [
    "# Setup"
   ]
  },
  {
   "cell_type": "code",
   "execution_count": 1,
   "id": "7742cec8",
   "metadata": {
    "execution": {
     "iopub.execute_input": "2021-06-24T22:16:37.393634Z",
     "iopub.status.busy": "2021-06-24T22:16:37.392705Z",
     "iopub.status.idle": "2021-06-24T22:16:43.888982Z",
     "shell.execute_reply": "2021-06-24T22:16:43.889792Z"
    },
    "papermill": {
     "duration": 6.527841,
     "end_time": "2021-06-24T22:16:43.890021",
     "exception": false,
     "start_time": "2021-06-24T22:16:37.362180",
     "status": "completed"
    },
    "tags": [
     "hide"
    ]
   },
   "outputs": [],
   "source": [
    "import pandas as pd\n",
    "import numpy as np\n",
    "import warnings\n",
    "\n",
    "from io import StringIO\n",
    "from calitp.tables import tbl\n",
    "from datetime import date, datetime\n",
    "from siuba import *\n",
    "from plotnine import *\n",
    "\n",
    "def friendly_date(x): \n",
    "    return datetime.strptime(x, \"%Y-%m-%d\").strftime(\"%b %d\")"
   ]
  },
  {
   "cell_type": "code",
   "execution_count": 2,
   "id": "b368adcf",
   "metadata": {
    "execution": {
     "iopub.execute_input": "2021-06-24T22:16:43.931376Z",
     "iopub.status.busy": "2021-06-24T22:16:43.930659Z",
     "iopub.status.idle": "2021-06-24T22:16:43.933272Z",
     "shell.execute_reply": "2021-06-24T22:16:43.933683Z"
    },
    "papermill": {
     "duration": 0.028731,
     "end_time": "2021-06-24T22:16:43.933815",
     "exception": false,
     "start_time": "2021-06-24T22:16:43.905084",
     "status": "completed"
    },
    "tags": [
     "parameters",
     "hide"
    ]
   },
   "outputs": [],
   "source": [
    "CALITP_ITP_ID = 98\n",
    "#CALITP_ITP_ID=45\n",
    "CALITP_URL_NUMBER = 0\n",
    "DEBUG = False\n",
    "\n",
    "START_DATE = \"2021-05-01\"\n",
    "END_DATE = \"2021-06-01\"\n",
    "DATE_TODAY=date.today()\n",
    "START_MONTH_DAY = friendly_date(START_DATE)\n",
    "END_MONTH_DAY = friendly_date(END_DATE)\n",
    "\n",
    "WEEK_MARKERS = pd.date_range(START_DATE, END_DATE, freq=\"W\").astype(str).tolist()\n",
    "BIWEEKLY_MARKERS = pd.date_range(START_DATE, END_DATE, freq=\"2W\").astype(str).tolist()"
   ]
  },
  {
   "cell_type": "code",
   "execution_count": 3,
   "id": "8cb31085",
   "metadata": {
    "execution": {
     "iopub.execute_input": "2021-06-24T22:16:43.983480Z",
     "iopub.status.busy": "2021-06-24T22:16:43.982490Z",
     "iopub.status.idle": "2021-06-24T22:16:43.986440Z",
     "shell.execute_reply": "2021-06-24T22:16:43.985618Z"
    },
    "papermill": {
     "duration": 0.031371,
     "end_time": "2021-06-24T22:16:43.986622",
     "exception": false,
     "start_time": "2021-06-24T22:16:43.955251",
     "status": "completed"
    },
    "tags": [
     "injected-parameters"
    ]
   },
   "outputs": [],
   "source": [
    "# Parameters\n",
    "CALITP_ITP_ID = 231\n",
    "CALITP_URL_NUMBER = 0\n",
    "DEBUG = False\n",
    "START_DATE = \"2021-05-01\"\n",
    "END_DATE = \"2021-06-01\"\n"
   ]
  },
  {
   "cell_type": "code",
   "execution_count": 4,
   "id": "63a514a9",
   "metadata": {
    "execution": {
     "iopub.execute_input": "2021-06-24T22:16:44.037035Z",
     "iopub.status.busy": "2021-06-24T22:16:44.036391Z",
     "iopub.status.idle": "2021-06-24T22:16:44.039301Z",
     "shell.execute_reply": "2021-06-24T22:16:44.039771Z"
    },
    "papermill": {
     "duration": 0.02754,
     "end_time": "2021-06-24T22:16:44.039921",
     "exception": false,
     "start_time": "2021-06-24T22:16:44.012381",
     "status": "completed"
    },
    "tags": [
     "hide"
    ]
   },
   "outputs": [],
   "source": [
    "if not DEBUG:\n",
    "    warnings.filterwarnings(\"ignore\")"
   ]
  },
  {
   "cell_type": "code",
   "execution_count": 5,
   "id": "ec9c6709",
   "metadata": {
    "execution": {
     "iopub.execute_input": "2021-06-24T22:16:44.108454Z",
     "iopub.status.busy": "2021-06-24T22:16:44.107377Z",
     "iopub.status.idle": "2021-06-24T22:16:44.117201Z",
     "shell.execute_reply": "2021-06-24T22:16:44.118036Z"
    },
    "papermill": {
     "duration": 0.046432,
     "end_time": "2021-06-24T22:16:44.118288",
     "exception": false,
     "start_time": "2021-06-24T22:16:44.071856",
     "status": "completed"
    },
    "tags": [
     "hide"
    ]
   },
   "outputs": [],
   "source": [
    "# Convenience functions ----\n",
    "\n",
    "filter_start = filter(\n",
    "    _.calitp_extracted_at <= START_DATE,\n",
    "    _.calitp_deleted_at.fillna(\"2099-01-01\") > START_DATE,\n",
    ")\n",
    "\n",
    "filter_end = filter(\n",
    "    _.calitp_extracted_at <= END_DATE,\n",
    "    _.calitp_deleted_at.fillna(\"2099-01-01\") > END_DATE,\n",
    ")\n",
    "\n",
    "filter_itp = filter(\n",
    "    _.calitp_itp_id == CALITP_ITP_ID, _.calitp_url_number == CALITP_URL_NUMBER\n",
    ")\n",
    "\n",
    "collect_to_dict = (\n",
    "    collect()\n",
    "    >> pipe(_.to_dict(orient=\"records\")[0])\n",
    ")\n",
    "\n",
    "\n",
    "select_rm_calitp = select(\n",
    "    -_.calitp_itp_id,\n",
    "    -_.calitp_url_number,\n",
    "    -_.calitp_hash,\n",
    "    -_.calitp_extracted_at,\n",
    "    -_.calitp_deleted_at,\n",
    ")\n",
    "\n",
    "def percent_format(labels):\n",
    "    return [\"{:.0f}%\".format(v*100) for v in labels]\n",
    "\n",
    "def query_id_changes(start_table, end_table, id_vars):\n",
    "    \"\"\"Calculate id variables that are removed, added, or unchanged between tables.\n",
    "    \n",
    "    It works by adding a special column to each table, performing a full join,\n",
    "    then checking where the special column is null.\n",
    "    \"\"\"\n",
    "    sym_id_vars = [_[k] for k in id_vars]\n",
    "\n",
    "    is_in_start = start_table >> select(*id_vars) >> mutate(is_in_start=True)\n",
    "    is_in_end = end_table >> select(*id_vars) >> mutate(is_in_end=True)\n",
    "\n",
    "    baseline = start_table >> count(*id_vars) >> rename(n_baseline=\"n\")\n",
    "    tallies = (\n",
    "        is_in_start\n",
    "        >> full_join(_, is_in_end, id_vars)\n",
    "        >> count(*sym_id_vars, _.is_in_start, _.is_in_end)\n",
    "        >> mutate(\n",
    "            status=case_when(\n",
    "                _,\n",
    "                {\n",
    "                    _.is_in_end.isna(): \"Removed\",\n",
    "                    _.is_in_start.isna(): \"Added\",\n",
    "                    True: \"Unchanged\",\n",
    "                },\n",
    "            )\n",
    "        )\n",
    "        >> count(*sym_id_vars[:-1], _.status)\n",
    "        >> group_by(*sym_id_vars[:-1])\n",
    "        >> mutate(percent=_.n / _.n.sum())\n",
    "    )\n",
    "\n",
    "    return tallies"
   ]
  },
  {
   "cell_type": "code",
   "execution_count": 6,
   "id": "37dd9469",
   "metadata": {
    "execution": {
     "iopub.execute_input": "2021-06-24T22:16:44.180138Z",
     "iopub.status.busy": "2021-06-24T22:16:44.173987Z",
     "iopub.status.idle": "2021-06-24T22:17:08.454736Z",
     "shell.execute_reply": "2021-06-24T22:17:08.454142Z"
    },
    "papermill": {
     "duration": 24.312295,
     "end_time": "2021-06-24T22:17:08.454851",
     "exception": false,
     "start_time": "2021-06-24T22:16:44.142556",
     "status": "completed"
    },
    "tags": [
     "hide"
    ]
   },
   "outputs": [],
   "source": [
    "# Data ====\n",
    "# 1. High level feed info ----\n",
    "feed_info = (\n",
    "    tbl.gtfs_schedule_type2.feed_info()\n",
    "    >> filter_end\n",
    "    >> filter_itp\n",
    "    >> select_rm_calitp\n",
    "    >> collect_to_dict\n",
    ")\n",
    "\n",
    "_n_routes = (\n",
    "    tbl.gtfs_schedule_type2.routes() >> filter_end >> filter_itp >> count() >> collect()\n",
    ")\n",
    "_n_stops = (\n",
    "    tbl.gtfs_schedule_type2.stops() >> filter_end >> filter_itp >> count() >> collect()\n",
    ")\n",
    "\n",
    "feed_info[\"n_routes\"] = int(_n_routes.loc[0, \"n\"])\n",
    "feed_info[\"n_stops\"] = int(_n_stops.loc[0, \"n\"])\n",
    "\n",
    "status = (\n",
    "    tbl.views.gtfs_status_latest()\n",
    "    >> filter(_.itp_id == CALITP_ITP_ID, _.url_number == CALITP_URL_NUMBER)\n",
    "    >> select(-_.url_number, -_.status)\n",
    "    >> select_rm_calitp\n",
    "    >> collect_to_dict\n",
    ")\n",
    "\n",
    "# 2. Monthly metrics ----\n",
    "# Service hours per day. Note that the queried table calculates service\n",
    "# hours per service id, so we need to sum across service ids for the day\n",
    "_cross_cal = (\n",
    "    tbl.views.dim_date()\n",
    "    >> filter(_.full_date.between(START_DATE, END_DATE))\n",
    "    >> select(_.service_date == _.full_date)\n",
    ")\n",
    "\n",
    "tbl_daily_service_hours = (\n",
    "    tbl.views.gtfs_schedule_service_daily_metrics()\n",
    "    >> filter_itp\n",
    "    >> filter(_.service_date.between(START_DATE, END_DATE))\n",
    "    >> right_join(_, _cross_cal, [\"service_date\"])\n",
    "    >> collect()\n",
    "    >> group_by(_.service_date)\n",
    "    >> summarize(\n",
    "        ttl_service_hours=(_.last_arrival_ts.max() - _.first_departure_ts.min()) / 3600,\n",
    "        ttl_service_hours2=_.ttl_service_hours.sum(),\n",
    "    )\n",
    "    >> mutate(\n",
    "        ttl_service_hours=_.ttl_service_hours.astype(float).round(2),\n",
    "        service_date=_.service_date.astype(\"datetime64[ns]\"),\n",
    "    )\n",
    ")\n",
    "\n",
    "# number of days where a feed did not have any trips in service\n",
    "n_expired_days = (\n",
    "    tbl_daily_service_hours\n",
    "    >> filter(_.ttl_service_hours.isna())\n",
    "    >> pipe(lambda d: {\"n\": d.shape[0]})\n",
    ")\n",
    "\n",
    "# 3. Stop and Route ID Changes ----\n",
    "\n",
    "_tbl_stops_start = tbl.gtfs_schedule_type2.stops() >> filter_itp >> filter_start\n",
    "_tbl_stops_end = tbl.gtfs_schedule_type2.stops() >> filter_itp >> filter_end\n",
    "tbl_stops_changed = (\n",
    "    query_id_changes(_tbl_stops_start, _tbl_stops_end, [\"stop_id\"]) >> collect()\n",
    ")\n",
    "\n",
    "_tbl_routes_start = tbl.gtfs_schedule_type2.routes() >> filter_itp >> filter_start\n",
    "_tbl_routes_end = tbl.gtfs_schedule_type2.routes() >> filter_itp >> filter_end\n",
    "tbl_routes_changed = (\n",
    "    query_id_changes(_tbl_routes_start, _tbl_routes_end, [\"route_id\"]) >> collect()\n",
    ")"
   ]
  },
  {
   "cell_type": "code",
   "execution_count": 7,
   "id": "69c60c24",
   "metadata": {
    "execution": {
     "iopub.execute_input": "2021-06-24T22:17:08.493447Z",
     "iopub.status.busy": "2021-06-24T22:17:08.492859Z",
     "iopub.status.idle": "2021-06-24T22:17:14.043964Z",
     "shell.execute_reply": "2021-06-24T22:17:14.044693Z"
    },
    "papermill": {
     "duration": 5.574173,
     "end_time": "2021-06-24T22:17:14.044914",
     "exception": false,
     "start_time": "2021-06-24T22:17:08.470741",
     "status": "completed"
    },
    "tags": [
     "hide"
    ]
   },
   "outputs": [],
   "source": [
    "# 4. Feed files being checked for ----\n",
    "\n",
    "file_categories = pd.DataFrame(\n",
    "    {\n",
    "        \"shapes.txt\": \"Visual display\",\n",
    "        \"pathways.txt\": \"Navigation\",\n",
    "        \"levels.txt\": \"Navigation\",\n",
    "        \"fare_rules.txt\": \"Fares\",\n",
    "        \"fare_leg_rules\": \"Fares\",\n",
    "        \"feed_info.txt\": \"Technical contacts\",\n",
    "    }.items(),\n",
    "    columns=[\"name\", \"category\"],\n",
    ")\n",
    "\n",
    "importance = [\"Visual display\", \"Navigation\", \"Fares\", \"Technical contacts\"]\n",
    "\n",
    "tbl_file_check = (\n",
    "    tbl.gtfs_schedule_history.calitp_files_updates()\n",
    "    >> filter_itp\n",
    "    >> filter(_.calitp_extracted_at.isin(BIWEEKLY_MARKERS))\n",
    "    >> select(_.name, _.calitp_extracted_at)\n",
    "    >> collect()\n",
    "    >> right_join(_, file_categories, [\"name\"])\n",
    "    >> mutate(\n",
    "        calitp_extracted_at=_.calitp_extracted_at.fillna(\"missing\").astype(str),\n",
    "        success=\"✅\",\n",
    "    )\n",
    "    >> spread(_.calitp_extracted_at, _.success)\n",
    "    >> select(-_.missing)\n",
    "    >> arrange(_.category.apply(importance.index))\n",
    "    >> select(_.category, _.contains(\"\"))\n",
    "    >> pipe(_.fillna(\"\"))\n",
    ")\n",
    "\n",
    "tbl_validation_notices = (\n",
    "    tbl.views.validation_notices()\n",
    "    >> filter_itp\n",
    "    >> filter(_.severity == \"ERROR\")\n",
    "    >> count(_.code, _.severity)\n",
    "    >> collect()\n",
    ")"
   ]
  },
  {
   "cell_type": "markdown",
   "id": "e119eaab",
   "metadata": {
    "papermill": {
     "duration": 0.030592,
     "end_time": "2021-06-24T22:17:14.103090",
     "exception": false,
     "start_time": "2021-06-24T22:17:14.072498",
     "status": "completed"
    },
    "tags": [
     "hide"
    ]
   },
   "source": [
    "## Dump data"
   ]
  },
  {
   "cell_type": "code",
   "execution_count": 8,
   "id": "8ca480c0",
   "metadata": {
    "execution": {
     "iopub.execute_input": "2021-06-24T22:17:14.166998Z",
     "iopub.status.busy": "2021-06-24T22:17:14.165923Z",
     "iopub.status.idle": "2021-06-24T22:17:14.177591Z",
     "shell.execute_reply": "2021-06-24T22:17:14.176780Z"
    },
    "papermill": {
     "duration": 0.049298,
     "end_time": "2021-06-24T22:17:14.177813",
     "exception": false,
     "start_time": "2021-06-24T22:17:14.128515",
     "status": "completed"
    },
    "tags": [
     "hide"
    ]
   },
   "outputs": [],
   "source": [
    "import json\n",
    "import shutil\n",
    "\n",
    "from pathlib import Path\n",
    "\n",
    "out_dir = Path(f\"output/{CALITP_ITP_ID}_{CALITP_URL_NUMBER}/data\")\n",
    "out_dir.mkdir(parents=True, exist_ok=True)\n",
    "\n",
    "json.dump(feed_info, open(out_dir / \"1_feed_info.json\", \"w\"))\n",
    "json.dump(status, open(out_dir / \"1_status.json\", \"w\"))\n",
    "\n",
    "tbl_daily_service_hours.to_json(out_dir / \"2_daily_service_hours.json\", orient=\"records\")\n",
    "json.dump(n_expired_days, open(out_dir / \"2_n_expired_days.json\", \"w\"))\n",
    "\n",
    "tbl_stops_changed.to_json(out_dir / \"3_stops_changed.json\", orient=\"records\")\n",
    "tbl_routes_changed.to_json(out_dir / \"3_routes_changed.json\", orient=\"records\")\n",
    "tbl_file_check.to_json(out_dir / \"4_file_check.json\", orient=\"records\")\n",
    "tbl_validation_notices.to_json(out_dir / \"4_validation_notices.json\", orient=\"records\")\n"
   ]
  },
  {
   "cell_type": "markdown",
   "id": "4e4dcf46",
   "metadata": {
    "papermill": {
     "duration": 0.029273,
     "end_time": "2021-06-24T22:17:14.236769",
     "exception": false,
     "start_time": "2021-06-24T22:17:14.207496",
     "status": "completed"
    },
    "tags": []
   },
   "source": [
    "# Monthly GTFS Quality Report"
   ]
  },
  {
   "cell_type": "code",
   "execution_count": 9,
   "id": "2a2707d3",
   "metadata": {
    "execution": {
     "iopub.execute_input": "2021-06-24T22:17:14.302449Z",
     "iopub.status.busy": "2021-06-24T22:17:14.301163Z",
     "iopub.status.idle": "2021-06-24T22:17:14.305208Z",
     "shell.execute_reply": "2021-06-24T22:17:14.306037Z"
    },
    "papermill": {
     "duration": 0.041741,
     "end_time": "2021-06-24T22:17:14.306263",
     "exception": false,
     "start_time": "2021-06-24T22:17:14.264522",
     "status": "completed"
    },
    "tags": []
   },
   "outputs": [
    {
     "data": {
      "text/markdown": [
       "\n",
       "Transit provider name: GMV Syncromatics\n",
       "\n",
       "Date generated: 2021-06-24\n"
      ],
      "text/plain": [
       "<IPython.core.display.Markdown object>"
      ]
     },
     "execution_count": 9,
     "metadata": {},
     "output_type": "execute_result"
    }
   ],
   "source": [
    "from IPython.display import Markdown\n",
    "\n",
    "Markdown(f\"\"\"\n",
    "Transit provider name: {feed_info[\"feed_publisher_name\"]}\n",
    "\n",
    "Date generated: {DATE_TODAY}\n",
    "\"\"\")"
   ]
  },
  {
   "cell_type": "markdown",
   "id": "7d65835d",
   "metadata": {
    "papermill": {
     "duration": 0.030312,
     "end_time": "2021-06-24T22:17:14.370632",
     "exception": false,
     "start_time": "2021-06-24T22:17:14.340320",
     "status": "completed"
    },
    "tags": []
   },
   "source": [
    "This is a monthly report, generated by the California Integrated Travel Project ([Cal-ITP](https://dot.ca.gov/cal-itp/cal-itp-gtfs)), summarizing issues discovered by [MobilityData](http://mobilitydata.io/)’s [GTFS Validator](https://github.com/MobilityData/gtfs-validator). This report is available for viewing by the general public to support continuous improvement of GTFS data and the experience of transit passengers. "
   ]
  },
  {
   "cell_type": "markdown",
   "id": "d4d5dc75",
   "metadata": {
    "papermill": {
     "duration": 0.032274,
     "end_time": "2021-06-24T22:17:14.449618",
     "exception": false,
     "start_time": "2021-06-24T22:17:14.417344",
     "status": "completed"
    },
    "tags": []
   },
   "source": [
    "## Overview"
   ]
  },
  {
   "cell_type": "code",
   "execution_count": 10,
   "id": "6b5d5d9b",
   "metadata": {
    "execution": {
     "iopub.execute_input": "2021-06-24T22:17:14.564326Z",
     "iopub.status.busy": "2021-06-24T22:17:14.562053Z",
     "iopub.status.idle": "2021-06-24T22:17:14.567782Z",
     "shell.execute_reply": "2021-06-24T22:17:14.566755Z"
    },
    "papermill": {
     "duration": 0.060595,
     "end_time": "2021-06-24T22:17:14.568022",
     "exception": false,
     "start_time": "2021-06-24T22:17:14.507427",
     "status": "completed"
    },
    "tags": []
   },
   "outputs": [
    {
     "data": {
      "text/markdown": [
       "\n",
       "Feed location: https://govcbus.com/gtfs\n",
       "\n",
       "Metrics for the most recent published version of the feed:\n",
       "\n",
       "* Date published: 144-08/01/2020 - No Trippers,152-3/29/2021,143-5/10/2021,139-5/13/2021,142-8/3/2020 Version 4,149-Covid Schedule No Trippers v2,147-Effective 11/28/18,153-Fixed Route + Trolley Service,148-Reduced Service\n",
       "* Number of routes in any service: 61\n",
       "* Number of stops in service: 1311\n"
      ],
      "text/plain": [
       "<IPython.core.display.Markdown object>"
      ]
     },
     "execution_count": 10,
     "metadata": {},
     "output_type": "execute_result"
    }
   ],
   "source": [
    "Markdown(f\"\"\"\n",
    "Feed location: {status[\"gtfs_schedule_url\"]}\n",
    "\n",
    "Metrics for the most recent published version of the feed:\n",
    "\n",
    "* Date published: {feed_info[\"feed_version\"]}\n",
    "* Number of routes in any service: {feed_info[\"n_routes\"]}\n",
    "* Number of stops in service: {feed_info[\"n_stops\"]}\n",
    "\"\"\")"
   ]
  },
  {
   "cell_type": "markdown",
   "id": "d2fb9c2b",
   "metadata": {
    "papermill": {
     "duration": 0.032877,
     "end_time": "2021-06-24T22:17:14.642101",
     "exception": false,
     "start_time": "2021-06-24T22:17:14.609224",
     "status": "completed"
    },
    "tags": []
   },
   "source": [
    "## Aggregated Metrics for May"
   ]
  },
  {
   "cell_type": "code",
   "execution_count": 11,
   "id": "1fb21b4d",
   "metadata": {
    "execution": {
     "iopub.execute_input": "2021-06-24T22:17:14.721602Z",
     "iopub.status.busy": "2021-06-24T22:17:14.716513Z",
     "iopub.status.idle": "2021-06-24T22:17:14.725373Z",
     "shell.execute_reply": "2021-06-24T22:17:14.724468Z"
    },
    "papermill": {
     "duration": 0.050169,
     "end_time": "2021-06-24T22:17:14.725585",
     "exception": false,
     "start_time": "2021-06-24T22:17:14.675416",
     "status": "completed"
    },
    "tags": []
   },
   "outputs": [
    {
     "data": {
      "text/markdown": [
       "\n",
       "Days with no service hours: 0\n"
      ],
      "text/plain": [
       "<IPython.core.display.Markdown object>"
      ]
     },
     "execution_count": 11,
     "metadata": {},
     "output_type": "execute_result"
    }
   ],
   "source": [
    "# TODO: \n",
    "\n",
    "# Markdown(f\"\"\"\n",
    "# Days when the active feed was expired: {n_expired_days[\"n\"]}\n",
    "# \"\"\")\n",
    "\n",
    "Markdown(f\"\"\"\n",
    "Days with no service hours: {n_expired_days[\"n\"]}\n",
    "\"\"\")\n"
   ]
  },
  {
   "cell_type": "code",
   "execution_count": 12,
   "id": "9344739a",
   "metadata": {
    "execution": {
     "iopub.execute_input": "2021-06-24T22:17:14.806816Z",
     "iopub.status.busy": "2021-06-24T22:17:14.805768Z",
     "iopub.status.idle": "2021-06-24T22:17:15.609462Z",
     "shell.execute_reply": "2021-06-24T22:17:15.611132Z"
    },
    "papermill": {
     "duration": 0.85412,
     "end_time": "2021-06-24T22:17:15.611457",
     "exception": false,
     "start_time": "2021-06-24T22:17:14.757337",
     "status": "completed"
    },
    "tags": []
   },
   "outputs": [
    {
     "data": {
      "image/png": "[encoded data removed]",
      "text/plain": [
       "<Figure size 640x480 with 1 Axes>"
      ]
     },
     "metadata": {},
     "output_type": "display_data"
    }
   ],
   "source": [
    "(\n",
    "    tbl_daily_service_hours\n",
    "    >> ggplot(aes(\"service_date\", \"ttl_service_hours2\"))\n",
    "    + geom_line()\n",
    "    + geom_point()\n",
    "    + theme(axis_text_x=element_text(angle=45, hjust=1))\n",
    "    + scale_x_datetime(date_breaks=\"1 week\")\n",
    "    + expand_limits(y=0)\n",
    "    + labs(y = \"Total service hours\", x = \"Service date\", title=\"Service hour per day\")\n",
    ").draw();"
   ]
  },
  {
   "cell_type": "markdown",
   "id": "5c890e62",
   "metadata": {
    "papermill": {
     "duration": 0.035012,
     "end_time": "2021-06-24T22:17:15.681571",
     "exception": false,
     "start_time": "2021-06-24T22:17:15.646559",
     "status": "completed"
    },
    "tags": []
   },
   "source": [
    "## Changes Since Previous Month"
   ]
  },
  {
   "cell_type": "code",
   "execution_count": 13,
   "id": "1e5f9475",
   "metadata": {
    "execution": {
     "iopub.execute_input": "2021-06-24T22:17:15.757768Z",
     "iopub.status.busy": "2021-06-24T22:17:15.756838Z",
     "iopub.status.idle": "2021-06-24T22:17:16.262022Z",
     "shell.execute_reply": "2021-06-24T22:17:16.263014Z"
    },
    "papermill": {
     "duration": 0.543286,
     "end_time": "2021-06-24T22:17:16.263256",
     "exception": false,
     "start_time": "2021-06-24T22:17:15.719970",
     "status": "completed"
    },
    "tags": []
   },
   "outputs": [
    {
     "data": {
      "image/png": "[encoded data removed]",
      "text/plain": [
       "<Figure size 640x480 with 1 Axes>"
      ]
     },
     "metadata": {},
     "output_type": "display_data"
    }
   ],
   "source": [
    "(\n",
    "    pd.concat(\n",
    "        [\n",
    "            tbl_stops_changed >> mutate(kind=\"Stops\"),\n",
    "            tbl_routes_changed >> mutate(kind=\"Routes\"),\n",
    "        ]\n",
    "    )\n",
    "    >> ggplot(aes(\"kind\", \"n\", fill=\"status\"))\n",
    "    + geom_col()\n",
    "    + labs(\n",
    "        x=\"GTFS schedule table\",\n",
    "        y=\"Number of IDs\",\n",
    "        title=f\"IDs Changed Between {START_MONTH_DAY} and {END_MONTH_DAY}\",\n",
    "    )\n",
    ").draw();"
   ]
  },
  {
   "cell_type": "markdown",
   "id": "1fa8ad5a",
   "metadata": {
    "papermill": {
     "duration": 0.033813,
     "end_time": "2021-06-24T22:17:16.333674",
     "exception": false,
     "start_time": "2021-06-24T22:17:16.299861",
     "status": "completed"
    },
    "tags": []
   },
   "source": [
    "### (Alternative version using percentages)"
   ]
  },
  {
   "cell_type": "code",
   "execution_count": 14,
   "id": "5492c95f",
   "metadata": {
    "execution": {
     "iopub.execute_input": "2021-06-24T22:17:16.407871Z",
     "iopub.status.busy": "2021-06-24T22:17:16.406618Z",
     "iopub.status.idle": "2021-06-24T22:17:16.972649Z",
     "shell.execute_reply": "2021-06-24T22:17:16.974442Z"
    },
    "papermill": {
     "duration": 0.609806,
     "end_time": "2021-06-24T22:17:16.974680",
     "exception": false,
     "start_time": "2021-06-24T22:17:16.364874",
     "status": "completed"
    },
    "tags": []
   },
   "outputs": [
    {
     "data": {
      "image/png": "[encoded data removed]",
      "text/plain": [
       "<Figure size 640x480 with 1 Axes>"
      ]
     },
     "metadata": {},
     "output_type": "display_data"
    }
   ],
   "source": [
    "(\n",
    "    pd.concat(\n",
    "        [\n",
    "            tbl_stops_changed >> mutate(kind=\"Stops\"),\n",
    "            tbl_routes_changed >> mutate(kind=\"Routes\"),\n",
    "        ]\n",
    "    )\n",
    "    >> ggplot(aes(\"kind\", \"percent\", fill=\"status\"))\n",
    "    + geom_col()\n",
    "    + labs(\n",
    "        x=\"GTFS schedule table\",\n",
    "        y=\"Percentage of IDs\",\n",
    "        title=f\"IDs Changed Between {START_MONTH_DAY} and {END_MONTH_DAY}\",\n",
    "    )\n",
    "    + scale_y_continuous(labels=percent_format, breaks=np.arange(0, 1.2, 0.2))\n",
    ").draw();"
   ]
  },
  {
   "cell_type": "markdown",
   "id": "a8fac1ad",
   "metadata": {
    "papermill": {
     "duration": 0.030763,
     "end_time": "2021-06-24T22:17:17.039475",
     "exception": false,
     "start_time": "2021-06-24T22:17:17.008712",
     "status": "completed"
    },
    "tags": []
   },
   "source": [
    "## Consistency with the [California GTFS Minimum Guidelines](https://dot.ca.gov/cal-itp/california-minimum-general-transit-feed-specification-gtfs-guidelines) for the feed downloaded\n"
   ]
  },
  {
   "cell_type": "markdown",
   "id": "72ec0588",
   "metadata": {
    "papermill": {
     "duration": 0.03015,
     "end_time": "2021-06-24T22:17:17.117637",
     "exception": false,
     "start_time": "2021-06-24T22:17:17.087487",
     "status": "completed"
    },
    "tags": []
   },
   "source": [
    "### Do the following files/fields exist?"
   ]
  },
  {
   "cell_type": "code",
   "execution_count": 15,
   "id": "618c3dcd",
   "metadata": {
    "execution": {
     "iopub.execute_input": "2021-06-24T22:17:17.169520Z",
     "iopub.status.busy": "2021-06-24T22:17:17.166722Z",
     "iopub.status.idle": "2021-06-24T22:17:17.187023Z",
     "shell.execute_reply": "2021-06-24T22:17:17.188084Z"
    },
    "papermill": {
     "duration": 0.04886,
     "end_time": "2021-06-24T22:17:17.188335",
     "exception": false,
     "start_time": "2021-06-24T22:17:17.139475",
     "status": "completed"
    },
    "tags": []
   },
   "outputs": [
    {
     "data": {
      "text/html": [
       "<div>\n",
       "<style scoped>\n",
       "    .dataframe tbody tr th:only-of-type {\n",
       "        vertical-align: middle;\n",
       "    }\n",
       "\n",
       "    .dataframe tbody tr th {\n",
       "        vertical-align: top;\n",
       "    }\n",
       "\n",
       "    .dataframe thead th {\n",
       "        text-align: right;\n",
       "    }\n",
       "</style>\n",
       "<table border=\"1\" class=\"dataframe\">\n",
       "  <thead>\n",
       "    <tr style=\"text-align: right;\">\n",
       "      <th></th>\n",
       "      <th>category</th>\n",
       "      <th>name</th>\n",
       "      <th>2021-05-02</th>\n",
       "      <th>2021-05-16</th>\n",
       "      <th>2021-05-30</th>\n",
       "    </tr>\n",
       "  </thead>\n",
       "  <tbody>\n",
       "    <tr>\n",
       "      <th>5</th>\n",
       "      <td>Visual display</td>\n",
       "      <td>shapes.txt</td>\n",
       "      <td>✅</td>\n",
       "      <td>✅</td>\n",
       "      <td>✅</td>\n",
       "    </tr>\n",
       "    <tr>\n",
       "      <th>3</th>\n",
       "      <td>Navigation</td>\n",
       "      <td>levels.txt</td>\n",
       "      <td></td>\n",
       "      <td></td>\n",
       "      <td></td>\n",
       "    </tr>\n",
       "    <tr>\n",
       "      <th>4</th>\n",
       "      <td>Navigation</td>\n",
       "      <td>pathways.txt</td>\n",
       "      <td></td>\n",
       "      <td></td>\n",
       "      <td></td>\n",
       "    </tr>\n",
       "    <tr>\n",
       "      <th>0</th>\n",
       "      <td>Fares</td>\n",
       "      <td>fare_leg_rules</td>\n",
       "      <td></td>\n",
       "      <td></td>\n",
       "      <td></td>\n",
       "    </tr>\n",
       "    <tr>\n",
       "      <th>1</th>\n",
       "      <td>Fares</td>\n",
       "      <td>fare_rules.txt</td>\n",
       "      <td></td>\n",
       "      <td></td>\n",
       "      <td></td>\n",
       "    </tr>\n",
       "    <tr>\n",
       "      <th>2</th>\n",
       "      <td>Technical contacts</td>\n",
       "      <td>feed_info.txt</td>\n",
       "      <td>✅</td>\n",
       "      <td>✅</td>\n",
       "      <td>✅</td>\n",
       "    </tr>\n",
       "  </tbody>\n",
       "</table>\n",
       "</div>"
      ],
      "text/plain": [
       "             category            name 2021-05-02 2021-05-16 2021-05-30\n",
       "5      Visual display      shapes.txt          ✅          ✅          ✅\n",
       "3          Navigation      levels.txt                                 \n",
       "4          Navigation    pathways.txt                                 \n",
       "0               Fares  fare_leg_rules                                 \n",
       "1               Fares  fare_rules.txt                                 \n",
       "2  Technical contacts   feed_info.txt          ✅          ✅          ✅"
      ]
     },
     "execution_count": 15,
     "metadata": {},
     "output_type": "execute_result"
    }
   ],
   "source": [
    "tbl_file_check"
   ]
  },
  {
   "cell_type": "markdown",
   "id": "b74c3633",
   "metadata": {
    "papermill": {
     "duration": 0.02972,
     "end_time": "2021-06-24T22:17:17.251500",
     "exception": false,
     "start_time": "2021-06-24T22:17:17.221780",
     "status": "completed"
    },
    "tags": []
   },
   "source": [
    "### Validation Errors Observed"
   ]
  },
  {
   "cell_type": "code",
   "execution_count": 16,
   "id": "c71631ed",
   "metadata": {
    "execution": {
     "iopub.execute_input": "2021-06-24T22:17:17.320249Z",
     "iopub.status.busy": "2021-06-24T22:17:17.318970Z",
     "iopub.status.idle": "2021-06-24T22:17:17.332016Z",
     "shell.execute_reply": "2021-06-24T22:17:17.332983Z"
    },
    "papermill": {
     "duration": 0.053027,
     "end_time": "2021-06-24T22:17:17.333244",
     "exception": false,
     "start_time": "2021-06-24T22:17:17.280217",
     "status": "completed"
    },
    "tags": []
   },
   "outputs": [
    {
     "data": {
      "text/html": [
       "<div>\n",
       "<style scoped>\n",
       "    .dataframe tbody tr th:only-of-type {\n",
       "        vertical-align: middle;\n",
       "    }\n",
       "\n",
       "    .dataframe tbody tr th {\n",
       "        vertical-align: top;\n",
       "    }\n",
       "\n",
       "    .dataframe thead th {\n",
       "        text-align: right;\n",
       "    }\n",
       "</style>\n",
       "<table border=\"1\" class=\"dataframe\">\n",
       "  <thead>\n",
       "    <tr style=\"text-align: right;\">\n",
       "      <th></th>\n",
       "      <th>code</th>\n",
       "      <th>severity</th>\n",
       "      <th>n</th>\n",
       "    </tr>\n",
       "  </thead>\n",
       "  <tbody>\n",
       "    <tr>\n",
       "      <th>0</th>\n",
       "      <td>leading_or_trailing_whitespaces</td>\n",
       "      <td>ERROR</td>\n",
       "      <td>51</td>\n",
       "    </tr>\n",
       "    <tr>\n",
       "      <th>1</th>\n",
       "      <td>decreasing_or_equal_shape_distance</td>\n",
       "      <td>ERROR</td>\n",
       "      <td>37</td>\n",
       "    </tr>\n",
       "    <tr>\n",
       "      <th>2</th>\n",
       "      <td>same_name_and_description_for_route</td>\n",
       "      <td>ERROR</td>\n",
       "      <td>30</td>\n",
       "    </tr>\n",
       "  </tbody>\n",
       "</table>\n",
       "</div>"
      ],
      "text/plain": [
       "                                  code severity   n\n",
       "0      leading_or_trailing_whitespaces    ERROR  51\n",
       "1   decreasing_or_equal_shape_distance    ERROR  37\n",
       "2  same_name_and_description_for_route    ERROR  30"
      ]
     },
     "metadata": {},
     "output_type": "display_data"
    }
   ],
   "source": [
    "if tbl_validation_notices.shape[0] == 0:\n",
    "    display(Markdown(\"No validation error observed in your feed.\"))\n",
    "else:    \n",
    "    display(tbl_validation_notices)"
   ]
  },
  {
   "cell_type": "markdown",
   "id": "3b8ddc12",
   "metadata": {
    "papermill": {
     "duration": 0.039642,
     "end_time": "2021-06-24T22:17:17.417251",
     "exception": false,
     "start_time": "2021-06-24T22:17:17.377609",
     "status": "completed"
    },
    "tags": []
   },
   "source": [
    "For more information about Cal-ITP, including the [Minimum GTFS Guidelines](https://dot.ca.gov/cal-itp/california-minimum-general-transit-feed-specification-gtfs-guidelines) and our [Transit Data Helpdesk](https://dot.ca.gov/programs/rail-and-mass-transportation/gtfs/helpdesk), contact [GTFSRT@dot.ca.gov](mailto:GTFSRT@dot.ca.gov)."
   ]
  }
 ],
 "metadata": {
  "kernelspec": {
   "display_name": "venv-calitp-py",
   "language": "python",
   "name": "venv-calitp-py"
  },
  "language_info": {
   "codemirror_mode": {
    "name": "ipython",
    "version": 3
   },
   "file_extension": ".py",
   "mimetype": "text/x-python",
   "name": "python",
   "nbconvert_exporter": "python",
   "pygments_lexer": "ipython3",
   "version": "3.8.5"
  },
  "papermill": {
   "default_parameters": {},
   "duration": 42.153041,
   "end_time": "2021-06-24T22:17:18.195034",
   "environment_variables": {},
   "exception": null,
   "input_path": "report.ipynb",
   "output_path": "output/231/report.ipynb",
   "parameters": {
    "CALITP_ITP_ID": 231,
    "CALITP_URL_NUMBER": 0,
    "DEBUG": false,
    "END_DATE": "2021-06-01",
    "START_DATE": "2021-05-01"
   },
   "start_time": "2021-06-24T22:16:36.041993",
   "version": "2.3.3"
  }
 },
 "nbformat": 4,
 "nbformat_minor": 5
}