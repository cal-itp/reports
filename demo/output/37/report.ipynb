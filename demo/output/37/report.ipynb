{
 "cells": [
  {
   "cell_type": "markdown",
   "id": "5aaf878b",
   "metadata": {
    "papermill": {
     "duration": 0.025884,
     "end_time": "2021-06-24T22:10:10.391555",
     "exception": false,
     "start_time": "2021-06-24T22:10:10.365671",
     "status": "completed"
    },
    "tags": [
     "hide"
    ]
   },
   "source": [
    "# Setup"
   ]
  },
  {
   "cell_type": "code",
   "execution_count": 1,
   "id": "8a8f4a3f",
   "metadata": {
    "execution": {
     "iopub.execute_input": "2021-06-24T22:10:10.509684Z",
     "iopub.status.busy": "2021-06-24T22:10:10.508655Z",
     "iopub.status.idle": "2021-06-24T22:10:28.110554Z",
     "shell.execute_reply": "2021-06-24T22:10:28.111645Z"
    },
    "papermill": {
     "duration": 17.676542,
     "end_time": "2021-06-24T22:10:28.111988",
     "exception": false,
     "start_time": "2021-06-24T22:10:10.435446",
     "status": "completed"
    },
    "tags": [
     "hide"
    ]
   },
   "outputs": [],
   "source": [
    "import pandas as pd\n",
    "import numpy as np\n",
    "import warnings\n",
    "\n",
    "from io import StringIO\n",
    "from calitp.tables import tbl\n",
    "from datetime import date, datetime\n",
    "from siuba import *\n",
    "from plotnine import *\n",
    "\n",
    "def friendly_date(x): \n",
    "    return datetime.strptime(x, \"%Y-%m-%d\").strftime(\"%b %d\")"
   ]
  },
  {
   "cell_type": "code",
   "execution_count": 2,
   "id": "5ef132c9",
   "metadata": {
    "execution": {
     "iopub.execute_input": "2021-06-24T22:10:28.188750Z",
     "iopub.status.busy": "2021-06-24T22:10:28.185043Z",
     "iopub.status.idle": "2021-06-24T22:10:28.194880Z",
     "shell.execute_reply": "2021-06-24T22:10:28.195765Z"
    },
    "papermill": {
     "duration": 0.053262,
     "end_time": "2021-06-24T22:10:28.196056",
     "exception": false,
     "start_time": "2021-06-24T22:10:28.142794",
     "status": "completed"
    },
    "tags": [
     "parameters",
     "hide"
    ]
   },
   "outputs": [],
   "source": [
    "CALITP_ITP_ID = 98\n",
    "#CALITP_ITP_ID=45\n",
    "CALITP_URL_NUMBER = 0\n",
    "DEBUG = False\n",
    "\n",
    "START_DATE = \"2021-05-01\"\n",
    "END_DATE = \"2021-06-01\"\n",
    "DATE_TODAY=date.today()\n",
    "START_MONTH_DAY = friendly_date(START_DATE)\n",
    "END_MONTH_DAY = friendly_date(END_DATE)\n",
    "\n",
    "WEEK_MARKERS = pd.date_range(START_DATE, END_DATE, freq=\"W\").astype(str).tolist()\n",
    "BIWEEKLY_MARKERS = pd.date_range(START_DATE, END_DATE, freq=\"2W\").astype(str).tolist()"
   ]
  },
  {
   "cell_type": "code",
   "execution_count": 3,
   "id": "96a7b832",
   "metadata": {
    "execution": {
     "iopub.execute_input": "2021-06-24T22:10:28.265226Z",
     "iopub.status.busy": "2021-06-24T22:10:28.262419Z",
     "iopub.status.idle": "2021-06-24T22:10:28.268677Z",
     "shell.execute_reply": "2021-06-24T22:10:28.269678Z"
    },
    "papermill": {
     "duration": 0.041473,
     "end_time": "2021-06-24T22:10:28.269951",
     "exception": false,
     "start_time": "2021-06-24T22:10:28.228478",
     "status": "completed"
    },
    "tags": [
     "injected-parameters"
    ]
   },
   "outputs": [],
   "source": [
    "# Parameters\n",
    "CALITP_ITP_ID = 37\n",
    "CALITP_URL_NUMBER = 0\n",
    "DEBUG = False\n",
    "START_DATE = \"2021-05-01\"\n",
    "END_DATE = \"2021-06-01\"\n"
   ]
  },
  {
   "cell_type": "code",
   "execution_count": 4,
   "id": "c9cb31f3",
   "metadata": {
    "execution": {
     "iopub.execute_input": "2021-06-24T22:10:28.400765Z",
     "iopub.status.busy": "2021-06-24T22:10:28.399718Z",
     "iopub.status.idle": "2021-06-24T22:10:28.404198Z",
     "shell.execute_reply": "2021-06-24T22:10:28.405038Z"
    },
    "papermill": {
     "duration": 0.066522,
     "end_time": "2021-06-24T22:10:28.405288",
     "exception": false,
     "start_time": "2021-06-24T22:10:28.338766",
     "status": "completed"
    },
    "tags": [
     "hide"
    ]
   },
   "outputs": [],
   "source": [
    "if not DEBUG:\n",
    "    warnings.filterwarnings(\"ignore\")"
   ]
  },
  {
   "cell_type": "code",
   "execution_count": 5,
   "id": "2054af3b",
   "metadata": {
    "execution": {
     "iopub.execute_input": "2021-06-24T22:10:28.580098Z",
     "iopub.status.busy": "2021-06-24T22:10:28.578924Z",
     "iopub.status.idle": "2021-06-24T22:10:28.590756Z",
     "shell.execute_reply": "2021-06-24T22:10:28.591753Z"
    },
    "papermill": {
     "duration": 0.093244,
     "end_time": "2021-06-24T22:10:28.592036",
     "exception": false,
     "start_time": "2021-06-24T22:10:28.498792",
     "status": "completed"
    },
    "tags": [
     "hide"
    ]
   },
   "outputs": [],
   "source": [
    "# Convenience functions ----\n",
    "\n",
    "filter_start = filter(\n",
    "    _.calitp_extracted_at <= START_DATE,\n",
    "    _.calitp_deleted_at.fillna(\"2099-01-01\") > START_DATE,\n",
    ")\n",
    "\n",
    "filter_end = filter(\n",
    "    _.calitp_extracted_at <= END_DATE,\n",
    "    _.calitp_deleted_at.fillna(\"2099-01-01\") > END_DATE,\n",
    ")\n",
    "\n",
    "filter_itp = filter(\n",
    "    _.calitp_itp_id == CALITP_ITP_ID, _.calitp_url_number == CALITP_URL_NUMBER\n",
    ")\n",
    "\n",
    "collect_to_dict = (\n",
    "    collect()\n",
    "    >> pipe(_.to_dict(orient=\"records\")[0])\n",
    ")\n",
    "\n",
    "\n",
    "select_rm_calitp = select(\n",
    "    -_.calitp_itp_id,\n",
    "    -_.calitp_url_number,\n",
    "    -_.calitp_hash,\n",
    "    -_.calitp_extracted_at,\n",
    "    -_.calitp_deleted_at,\n",
    ")\n",
    "\n",
    "def percent_format(labels):\n",
    "    return [\"{:.0f}%\".format(v*100) for v in labels]\n",
    "\n",
    "def query_id_changes(start_table, end_table, id_vars):\n",
    "    \"\"\"Calculate id variables that are removed, added, or unchanged between tables.\n",
    "    \n",
    "    It works by adding a special column to each table, performing a full join,\n",
    "    then checking where the special column is null.\n",
    "    \"\"\"\n",
    "    sym_id_vars = [_[k] for k in id_vars]\n",
    "\n",
    "    is_in_start = start_table >> select(*id_vars) >> mutate(is_in_start=True)\n",
    "    is_in_end = end_table >> select(*id_vars) >> mutate(is_in_end=True)\n",
    "\n",
    "    baseline = start_table >> count(*id_vars) >> rename(n_baseline=\"n\")\n",
    "    tallies = (\n",
    "        is_in_start\n",
    "        >> full_join(_, is_in_end, id_vars)\n",
    "        >> count(*sym_id_vars, _.is_in_start, _.is_in_end)\n",
    "        >> mutate(\n",
    "            status=case_when(\n",
    "                _,\n",
    "                {\n",
    "                    _.is_in_end.isna(): \"Removed\",\n",
    "                    _.is_in_start.isna(): \"Added\",\n",
    "                    True: \"Unchanged\",\n",
    "                },\n",
    "            )\n",
    "        )\n",
    "        >> count(*sym_id_vars[:-1], _.status)\n",
    "        >> group_by(*sym_id_vars[:-1])\n",
    "        >> mutate(percent=_.n / _.n.sum())\n",
    "    )\n",
    "\n",
    "    return tallies"
   ]
  },
  {
   "cell_type": "code",
   "execution_count": 6,
   "id": "72fac90c",
   "metadata": {
    "execution": {
     "iopub.execute_input": "2021-06-24T22:10:28.784323Z",
     "iopub.status.busy": "2021-06-24T22:10:28.774768Z",
     "iopub.status.idle": "2021-06-24T22:10:52.762320Z",
     "shell.execute_reply": "2021-06-24T22:10:52.762795Z"
    },
    "papermill": {
     "duration": 24.076118,
     "end_time": "2021-06-24T22:10:52.762942",
     "exception": false,
     "start_time": "2021-06-24T22:10:28.686824",
     "status": "completed"
    },
    "tags": [
     "hide"
    ]
   },
   "outputs": [],
   "source": [
    "# Data ====\n",
    "# 1. High level feed info ----\n",
    "feed_info = (\n",
    "    tbl.gtfs_schedule_type2.feed_info()\n",
    "    >> filter_end\n",
    "    >> filter_itp\n",
    "    >> select_rm_calitp\n",
    "    >> collect_to_dict\n",
    ")\n",
    "\n",
    "_n_routes = (\n",
    "    tbl.gtfs_schedule_type2.routes() >> filter_end >> filter_itp >> count() >> collect()\n",
    ")\n",
    "_n_stops = (\n",
    "    tbl.gtfs_schedule_type2.stops() >> filter_end >> filter_itp >> count() >> collect()\n",
    ")\n",
    "\n",
    "feed_info[\"n_routes\"] = int(_n_routes.loc[0, \"n\"])\n",
    "feed_info[\"n_stops\"] = int(_n_stops.loc[0, \"n\"])\n",
    "\n",
    "status = (\n",
    "    tbl.views.gtfs_status_latest()\n",
    "    >> filter(_.itp_id == CALITP_ITP_ID, _.url_number == CALITP_URL_NUMBER)\n",
    "    >> select(-_.url_number, -_.status)\n",
    "    >> select_rm_calitp\n",
    "    >> collect_to_dict\n",
    ")\n",
    "\n",
    "# 2. Monthly metrics ----\n",
    "# Service hours per day. Note that the queried table calculates service\n",
    "# hours per service id, so we need to sum across service ids for the day\n",
    "_cross_cal = (\n",
    "    tbl.views.dim_date()\n",
    "    >> filter(_.full_date.between(START_DATE, END_DATE))\n",
    "    >> select(_.service_date == _.full_date)\n",
    ")\n",
    "\n",
    "tbl_daily_service_hours = (\n",
    "    tbl.views.gtfs_schedule_service_daily_metrics()\n",
    "    >> filter_itp\n",
    "    >> filter(_.service_date.between(START_DATE, END_DATE))\n",
    "    >> right_join(_, _cross_cal, [\"service_date\"])\n",
    "    >> collect()\n",
    "    >> group_by(_.service_date)\n",
    "    >> summarize(\n",
    "        ttl_service_hours=(_.last_arrival_ts.max() - _.first_departure_ts.min()) / 3600,\n",
    "        ttl_service_hours2=_.ttl_service_hours.sum(),\n",
    "    )\n",
    "    >> mutate(\n",
    "        ttl_service_hours=_.ttl_service_hours.astype(float).round(2),\n",
    "        service_date=_.service_date.astype(\"datetime64[ns]\"),\n",
    "    )\n",
    ")\n",
    "\n",
    "# number of days where a feed did not have any trips in service\n",
    "n_expired_days = (\n",
    "    tbl_daily_service_hours\n",
    "    >> filter(_.ttl_service_hours.isna())\n",
    "    >> pipe(lambda d: {\"n\": d.shape[0]})\n",
    ")\n",
    "\n",
    "# 3. Stop and Route ID Changes ----\n",
    "\n",
    "_tbl_stops_start = tbl.gtfs_schedule_type2.stops() >> filter_itp >> filter_start\n",
    "_tbl_stops_end = tbl.gtfs_schedule_type2.stops() >> filter_itp >> filter_end\n",
    "tbl_stops_changed = (\n",
    "    query_id_changes(_tbl_stops_start, _tbl_stops_end, [\"stop_id\"]) >> collect()\n",
    ")\n",
    "\n",
    "_tbl_routes_start = tbl.gtfs_schedule_type2.routes() >> filter_itp >> filter_start\n",
    "_tbl_routes_end = tbl.gtfs_schedule_type2.routes() >> filter_itp >> filter_end\n",
    "tbl_routes_changed = (\n",
    "    query_id_changes(_tbl_routes_start, _tbl_routes_end, [\"route_id\"]) >> collect()\n",
    ")"
   ]
  },
  {
   "cell_type": "code",
   "execution_count": 7,
   "id": "a2f2b9b3",
   "metadata": {
    "execution": {
     "iopub.execute_input": "2021-06-24T22:10:52.801353Z",
     "iopub.status.busy": "2021-06-24T22:10:52.800684Z",
     "iopub.status.idle": "2021-06-24T22:10:58.990126Z",
     "shell.execute_reply": "2021-06-24T22:10:58.990684Z"
    },
    "papermill": {
     "duration": 6.212292,
     "end_time": "2021-06-24T22:10:58.990850",
     "exception": false,
     "start_time": "2021-06-24T22:10:52.778558",
     "status": "completed"
    },
    "tags": [
     "hide"
    ]
   },
   "outputs": [],
   "source": [
    "# 4. Feed files being checked for ----\n",
    "\n",
    "file_categories = pd.DataFrame(\n",
    "    {\n",
    "        \"shapes.txt\": \"Visual display\",\n",
    "        \"pathways.txt\": \"Navigation\",\n",
    "        \"levels.txt\": \"Navigation\",\n",
    "        \"fare_rules.txt\": \"Fares\",\n",
    "        \"fare_leg_rules\": \"Fares\",\n",
    "        \"feed_info.txt\": \"Technical contacts\",\n",
    "    }.items(),\n",
    "    columns=[\"name\", \"category\"],\n",
    ")\n",
    "\n",
    "importance = [\"Visual display\", \"Navigation\", \"Fares\", \"Technical contacts\"]\n",
    "\n",
    "tbl_file_check = (\n",
    "    tbl.gtfs_schedule_history.calitp_files_updates()\n",
    "    >> filter_itp\n",
    "    >> filter(_.calitp_extracted_at.isin(BIWEEKLY_MARKERS))\n",
    "    >> select(_.name, _.calitp_extracted_at)\n",
    "    >> collect()\n",
    "    >> right_join(_, file_categories, [\"name\"])\n",
    "    >> mutate(\n",
    "        calitp_extracted_at=_.calitp_extracted_at.fillna(\"missing\").astype(str),\n",
    "        success=\"✅\",\n",
    "    )\n",
    "    >> spread(_.calitp_extracted_at, _.success)\n",
    "    >> select(-_.missing)\n",
    "    >> arrange(_.category.apply(importance.index))\n",
    "    >> select(_.category, _.contains(\"\"))\n",
    "    >> pipe(_.fillna(\"\"))\n",
    ")\n",
    "\n",
    "tbl_validation_notices = (\n",
    "    tbl.views.validation_notices()\n",
    "    >> filter_itp\n",
    "    >> filter(_.severity == \"ERROR\")\n",
    "    >> count(_.code, _.severity)\n",
    "    >> collect()\n",
    ")"
   ]
  },
  {
   "cell_type": "markdown",
   "id": "d0fda856",
   "metadata": {
    "papermill": {
     "duration": 0.018455,
     "end_time": "2021-06-24T22:10:59.032647",
     "exception": false,
     "start_time": "2021-06-24T22:10:59.014192",
     "status": "completed"
    },
    "tags": [
     "hide"
    ]
   },
   "source": [
    "## Dump data"
   ]
  },
  {
   "cell_type": "code",
   "execution_count": 8,
   "id": "0ab52260",
   "metadata": {
    "execution": {
     "iopub.execute_input": "2021-06-24T22:10:59.085990Z",
     "iopub.status.busy": "2021-06-24T22:10:59.084401Z",
     "iopub.status.idle": "2021-06-24T22:10:59.097730Z",
     "shell.execute_reply": "2021-06-24T22:10:59.098179Z"
    },
    "papermill": {
     "duration": 0.042773,
     "end_time": "2021-06-24T22:10:59.098311",
     "exception": false,
     "start_time": "2021-06-24T22:10:59.055538",
     "status": "completed"
    },
    "tags": [
     "hide"
    ]
   },
   "outputs": [],
   "source": [
    "import json\n",
    "import shutil\n",
    "\n",
    "from pathlib import Path\n",
    "\n",
    "out_dir = Path(f\"output/{CALITP_ITP_ID}_{CALITP_URL_NUMBER}/data\")\n",
    "out_dir.mkdir(parents=True, exist_ok=True)\n",
    "\n",
    "json.dump(feed_info, open(out_dir / \"1_feed_info.json\", \"w\"))\n",
    "json.dump(status, open(out_dir / \"1_status.json\", \"w\"))\n",
    "\n",
    "tbl_daily_service_hours.to_json(out_dir / \"2_daily_service_hours.json\", orient=\"records\")\n",
    "json.dump(n_expired_days, open(out_dir / \"2_n_expired_days.json\", \"w\"))\n",
    "\n",
    "tbl_stops_changed.to_json(out_dir / \"3_stops_changed.json\", orient=\"records\")\n",
    "tbl_routes_changed.to_json(out_dir / \"3_routes_changed.json\", orient=\"records\")\n",
    "tbl_file_check.to_json(out_dir / \"4_file_check.json\", orient=\"records\")\n",
    "tbl_validation_notices.to_json(out_dir / \"4_validation_notices.json\", orient=\"records\")\n"
   ]
  },
  {
   "cell_type": "markdown",
   "id": "b1bf8fac",
   "metadata": {
    "papermill": {
     "duration": 0.016454,
     "end_time": "2021-06-24T22:10:59.132478",
     "exception": false,
     "start_time": "2021-06-24T22:10:59.116024",
     "status": "completed"
    },
    "tags": []
   },
   "source": [
    "# Monthly GTFS Quality Report"
   ]
  },
  {
   "cell_type": "code",
   "execution_count": 9,
   "id": "08c2f674",
   "metadata": {
    "execution": {
     "iopub.execute_input": "2021-06-24T22:10:59.181507Z",
     "iopub.status.busy": "2021-06-24T22:10:59.180500Z",
     "iopub.status.idle": "2021-06-24T22:10:59.185735Z",
     "shell.execute_reply": "2021-06-24T22:10:59.186309Z"
    },
    "papermill": {
     "duration": 0.035629,
     "end_time": "2021-06-24T22:10:59.186470",
     "exception": false,
     "start_time": "2021-06-24T22:10:59.150841",
     "status": "completed"
    },
    "tags": []
   },
   "outputs": [
    {
     "data": {
      "text/markdown": [
       "\n",
       "Transit provider name: Trillium Solutions, Inc.\n",
       "\n",
       "Date generated: 2021-06-24\n"
      ],
      "text/plain": [
       "<IPython.core.display.Markdown object>"
      ]
     },
     "execution_count": 9,
     "metadata": {},
     "output_type": "execute_result"
    }
   ],
   "source": [
    "from IPython.display import Markdown\n",
    "\n",
    "Markdown(f\"\"\"\n",
    "Transit provider name: {feed_info[\"feed_publisher_name\"]}\n",
    "\n",
    "Date generated: {DATE_TODAY}\n",
    "\"\"\")"
   ]
  },
  {
   "cell_type": "markdown",
   "id": "95f18ec3",
   "metadata": {
    "papermill": {
     "duration": 0.018115,
     "end_time": "2021-06-24T22:10:59.234735",
     "exception": false,
     "start_time": "2021-06-24T22:10:59.216620",
     "status": "completed"
    },
    "tags": []
   },
   "source": [
    "This is a monthly report, generated by the California Integrated Travel Project ([Cal-ITP](https://dot.ca.gov/cal-itp/cal-itp-gtfs)), summarizing issues discovered by [MobilityData](http://mobilitydata.io/)’s [GTFS Validator](https://github.com/MobilityData/gtfs-validator). This report is available for viewing by the general public to support continuous improvement of GTFS data and the experience of transit passengers. "
   ]
  },
  {
   "cell_type": "markdown",
   "id": "f8ebaaf6",
   "metadata": {
    "papermill": {
     "duration": 0.023652,
     "end_time": "2021-06-24T22:10:59.277594",
     "exception": false,
     "start_time": "2021-06-24T22:10:59.253942",
     "status": "completed"
    },
    "tags": []
   },
   "source": [
    "## Overview"
   ]
  },
  {
   "cell_type": "code",
   "execution_count": 10,
   "id": "43247563",
   "metadata": {
    "execution": {
     "iopub.execute_input": "2021-06-24T22:10:59.319972Z",
     "iopub.status.busy": "2021-06-24T22:10:59.319132Z",
     "iopub.status.idle": "2021-06-24T22:10:59.322903Z",
     "shell.execute_reply": "2021-06-24T22:10:59.324129Z"
    },
    "papermill": {
     "duration": 0.029267,
     "end_time": "2021-06-24T22:10:59.324665",
     "exception": false,
     "start_time": "2021-06-24T22:10:59.295398",
     "status": "completed"
    },
    "tags": []
   },
   "outputs": [
    {
     "data": {
      "text/markdown": [
       "\n",
       "Feed location: https://data.trilliumtransit.com/gtfs/bellflower-ca-us/bellflower-ca-us.zip\n",
       "\n",
       "Metrics for the most recent published version of the feed:\n",
       "\n",
       "* Date published: UTC: 23-Oct-2020 23:50\n",
       "* Number of routes in any service: 2\n",
       "* Number of stops in service: 59\n"
      ],
      "text/plain": [
       "<IPython.core.display.Markdown object>"
      ]
     },
     "execution_count": 10,
     "metadata": {},
     "output_type": "execute_result"
    }
   ],
   "source": [
    "Markdown(f\"\"\"\n",
    "Feed location: {status[\"gtfs_schedule_url\"]}\n",
    "\n",
    "Metrics for the most recent published version of the feed:\n",
    "\n",
    "* Date published: {feed_info[\"feed_version\"]}\n",
    "* Number of routes in any service: {feed_info[\"n_routes\"]}\n",
    "* Number of stops in service: {feed_info[\"n_stops\"]}\n",
    "\"\"\")"
   ]
  },
  {
   "cell_type": "markdown",
   "id": "d5832575",
   "metadata": {
    "papermill": {
     "duration": 0.022436,
     "end_time": "2021-06-24T22:10:59.367268",
     "exception": false,
     "start_time": "2021-06-24T22:10:59.344832",
     "status": "completed"
    },
    "tags": []
   },
   "source": [
    "## Aggregated Metrics for May"
   ]
  },
  {
   "cell_type": "code",
   "execution_count": 11,
   "id": "71259c84",
   "metadata": {
    "execution": {
     "iopub.execute_input": "2021-06-24T22:10:59.439994Z",
     "iopub.status.busy": "2021-06-24T22:10:59.438544Z",
     "iopub.status.idle": "2021-06-24T22:10:59.450280Z",
     "shell.execute_reply": "2021-06-24T22:10:59.449458Z"
    },
    "papermill": {
     "duration": 0.059305,
     "end_time": "2021-06-24T22:10:59.450483",
     "exception": false,
     "start_time": "2021-06-24T22:10:59.391178",
     "status": "completed"
    },
    "tags": []
   },
   "outputs": [
    {
     "data": {
      "text/markdown": [
       "\n",
       "Days with no service hours: 11\n"
      ],
      "text/plain": [
       "<IPython.core.display.Markdown object>"
      ]
     },
     "execution_count": 11,
     "metadata": {},
     "output_type": "execute_result"
    }
   ],
   "source": [
    "# TODO: \n",
    "\n",
    "# Markdown(f\"\"\"\n",
    "# Days when the active feed was expired: {n_expired_days[\"n\"]}\n",
    "# \"\"\")\n",
    "\n",
    "Markdown(f\"\"\"\n",
    "Days with no service hours: {n_expired_days[\"n\"]}\n",
    "\"\"\")\n"
   ]
  },
  {
   "cell_type": "code",
   "execution_count": 12,
   "id": "9af6680e",
   "metadata": {
    "execution": {
     "iopub.execute_input": "2021-06-24T22:10:59.529508Z",
     "iopub.status.busy": "2021-06-24T22:10:59.499177Z",
     "iopub.status.idle": "2021-06-24T22:10:59.913264Z",
     "shell.execute_reply": "2021-06-24T22:10:59.913674Z"
    },
    "papermill": {
     "duration": 0.441651,
     "end_time": "2021-06-24T22:10:59.913810",
     "exception": false,
     "start_time": "2021-06-24T22:10:59.472159",
     "status": "completed"
    },
    "tags": []
   },
   "outputs": [
    {
     "data": {
      "image/png": "[encoded data removed]",
      "text/plain": [
       "<Figure size 640x480 with 1 Axes>"
      ]
     },
     "metadata": {},
     "output_type": "display_data"
    }
   ],
   "source": [
    "(\n",
    "    tbl_daily_service_hours\n",
    "    >> ggplot(aes(\"service_date\", \"ttl_service_hours2\"))\n",
    "    + geom_line()\n",
    "    + geom_point()\n",
    "    + theme(axis_text_x=element_text(angle=45, hjust=1))\n",
    "    + scale_x_datetime(date_breaks=\"1 week\")\n",
    "    + expand_limits(y=0)\n",
    "    + labs(y = \"Total service hours\", x = \"Service date\", title=\"Service hour per day\")\n",
    ").draw();"
   ]
  },
  {
   "cell_type": "markdown",
   "id": "2b7fcbbe",
   "metadata": {
    "papermill": {
     "duration": 0.024455,
     "end_time": "2021-06-24T22:10:59.958219",
     "exception": false,
     "start_time": "2021-06-24T22:10:59.933764",
     "status": "completed"
    },
    "tags": []
   },
   "source": [
    "## Changes Since Previous Month"
   ]
  },
  {
   "cell_type": "code",
   "execution_count": 13,
   "id": "5a4c7aab",
   "metadata": {
    "execution": {
     "iopub.execute_input": "2021-06-24T22:11:00.178315Z",
     "iopub.status.busy": "2021-06-24T22:11:00.165359Z",
     "iopub.status.idle": "2021-06-24T22:11:00.740540Z",
     "shell.execute_reply": "2021-06-24T22:11:00.741033Z"
    },
    "papermill": {
     "duration": 0.757282,
     "end_time": "2021-06-24T22:11:00.741195",
     "exception": false,
     "start_time": "2021-06-24T22:10:59.983913",
     "status": "completed"
    },
    "tags": []
   },
   "outputs": [
    {
     "data": {
      "image/png": "[encoded data removed]",
      "text/plain": [
       "<Figure size 640x480 with 1 Axes>"
      ]
     },
     "metadata": {},
     "output_type": "display_data"
    }
   ],
   "source": [
    "(\n",
    "    pd.concat(\n",
    "        [\n",
    "            tbl_stops_changed >> mutate(kind=\"Stops\"),\n",
    "            tbl_routes_changed >> mutate(kind=\"Routes\"),\n",
    "        ]\n",
    "    )\n",
    "    >> ggplot(aes(\"kind\", \"n\", fill=\"status\"))\n",
    "    + geom_col()\n",
    "    + labs(\n",
    "        x=\"GTFS schedule table\",\n",
    "        y=\"Number of IDs\",\n",
    "        title=f\"IDs Changed Between {START_MONTH_DAY} and {END_MONTH_DAY}\",\n",
    "    )\n",
    ").draw();"
   ]
  },
  {
   "cell_type": "markdown",
   "id": "8f2be79e",
   "metadata": {
    "papermill": {
     "duration": 0.027232,
     "end_time": "2021-06-24T22:11:00.796804",
     "exception": false,
     "start_time": "2021-06-24T22:11:00.769572",
     "status": "completed"
    },
    "tags": []
   },
   "source": [
    "### (Alternative version using percentages)"
   ]
  },
  {
   "cell_type": "code",
   "execution_count": 14,
   "id": "2c7b4567",
   "metadata": {
    "execution": {
     "iopub.execute_input": "2021-06-24T22:11:00.861810Z",
     "iopub.status.busy": "2021-06-24T22:11:00.859246Z",
     "iopub.status.idle": "2021-06-24T22:11:01.199845Z",
     "shell.execute_reply": "2021-06-24T22:11:01.200595Z"
    },
    "papermill": {
     "duration": 0.380164,
     "end_time": "2021-06-24T22:11:01.200835",
     "exception": false,
     "start_time": "2021-06-24T22:11:00.820671",
     "status": "completed"
    },
    "tags": []
   },
   "outputs": [
    {
     "data": {
      "image/png": "[encoded data removed]",
      "text/plain": [
       "<Figure size 640x480 with 1 Axes>"
      ]
     },
     "metadata": {},
     "output_type": "display_data"
    }
   ],
   "source": [
    "(\n",
    "    pd.concat(\n",
    "        [\n",
    "            tbl_stops_changed >> mutate(kind=\"Stops\"),\n",
    "            tbl_routes_changed >> mutate(kind=\"Routes\"),\n",
    "        ]\n",
    "    )\n",
    "    >> ggplot(aes(\"kind\", \"percent\", fill=\"status\"))\n",
    "    + geom_col()\n",
    "    + labs(\n",
    "        x=\"GTFS schedule table\",\n",
    "        y=\"Percentage of IDs\",\n",
    "        title=f\"IDs Changed Between {START_MONTH_DAY} and {END_MONTH_DAY}\",\n",
    "    )\n",
    "    + scale_y_continuous(labels=percent_format, breaks=np.arange(0, 1.2, 0.2))\n",
    ").draw();"
   ]
  },
  {
   "cell_type": "markdown",
   "id": "2101299d",
   "metadata": {
    "papermill": {
     "duration": 0.022727,
     "end_time": "2021-06-24T22:11:01.249037",
     "exception": false,
     "start_time": "2021-06-24T22:11:01.226310",
     "status": "completed"
    },
    "tags": []
   },
   "source": [
    "## Consistency with the [California GTFS Minimum Guidelines](https://dot.ca.gov/cal-itp/california-minimum-general-transit-feed-specification-gtfs-guidelines) for the feed downloaded\n"
   ]
  },
  {
   "cell_type": "markdown",
   "id": "f3004efb",
   "metadata": {
    "papermill": {
     "duration": 0.024162,
     "end_time": "2021-06-24T22:11:01.300106",
     "exception": false,
     "start_time": "2021-06-24T22:11:01.275944",
     "status": "completed"
    },
    "tags": []
   },
   "source": [
    "### Do the following files/fields exist?"
   ]
  },
  {
   "cell_type": "code",
   "execution_count": 15,
   "id": "08b6d6e7",
   "metadata": {
    "execution": {
     "iopub.execute_input": "2021-06-24T22:11:01.356277Z",
     "iopub.status.busy": "2021-06-24T22:11:01.355187Z",
     "iopub.status.idle": "2021-06-24T22:11:01.368901Z",
     "shell.execute_reply": "2021-06-24T22:11:01.369889Z"
    },
    "papermill": {
     "duration": 0.045463,
     "end_time": "2021-06-24T22:11:01.370131",
     "exception": false,
     "start_time": "2021-06-24T22:11:01.324668",
     "status": "completed"
    },
    "tags": []
   },
   "outputs": [
    {
     "data": {
      "text/html": [
       "<div>\n",
       "<style scoped>\n",
       "    .dataframe tbody tr th:only-of-type {\n",
       "        vertical-align: middle;\n",
       "    }\n",
       "\n",
       "    .dataframe tbody tr th {\n",
       "        vertical-align: top;\n",
       "    }\n",
       "\n",
       "    .dataframe thead th {\n",
       "        text-align: right;\n",
       "    }\n",
       "</style>\n",
       "<table border=\"1\" class=\"dataframe\">\n",
       "  <thead>\n",
       "    <tr style=\"text-align: right;\">\n",
       "      <th></th>\n",
       "      <th>category</th>\n",
       "      <th>name</th>\n",
       "      <th>2021-05-02</th>\n",
       "      <th>2021-05-16</th>\n",
       "      <th>2021-05-30</th>\n",
       "    </tr>\n",
       "  </thead>\n",
       "  <tbody>\n",
       "    <tr>\n",
       "      <th>5</th>\n",
       "      <td>Visual display</td>\n",
       "      <td>shapes.txt</td>\n",
       "      <td>✅</td>\n",
       "      <td>✅</td>\n",
       "      <td>✅</td>\n",
       "    </tr>\n",
       "    <tr>\n",
       "      <th>3</th>\n",
       "      <td>Navigation</td>\n",
       "      <td>levels.txt</td>\n",
       "      <td></td>\n",
       "      <td></td>\n",
       "      <td></td>\n",
       "    </tr>\n",
       "    <tr>\n",
       "      <th>4</th>\n",
       "      <td>Navigation</td>\n",
       "      <td>pathways.txt</td>\n",
       "      <td></td>\n",
       "      <td></td>\n",
       "      <td></td>\n",
       "    </tr>\n",
       "    <tr>\n",
       "      <th>0</th>\n",
       "      <td>Fares</td>\n",
       "      <td>fare_leg_rules</td>\n",
       "      <td></td>\n",
       "      <td></td>\n",
       "      <td></td>\n",
       "    </tr>\n",
       "    <tr>\n",
       "      <th>1</th>\n",
       "      <td>Fares</td>\n",
       "      <td>fare_rules.txt</td>\n",
       "      <td>✅</td>\n",
       "      <td>✅</td>\n",
       "      <td>✅</td>\n",
       "    </tr>\n",
       "    <tr>\n",
       "      <th>2</th>\n",
       "      <td>Technical contacts</td>\n",
       "      <td>feed_info.txt</td>\n",
       "      <td>✅</td>\n",
       "      <td>✅</td>\n",
       "      <td>✅</td>\n",
       "    </tr>\n",
       "  </tbody>\n",
       "</table>\n",
       "</div>"
      ],
      "text/plain": [
       "             category            name 2021-05-02 2021-05-16 2021-05-30\n",
       "5      Visual display      shapes.txt          ✅          ✅          ✅\n",
       "3          Navigation      levels.txt                                 \n",
       "4          Navigation    pathways.txt                                 \n",
       "0               Fares  fare_leg_rules                                 \n",
       "1               Fares  fare_rules.txt          ✅          ✅          ✅\n",
       "2  Technical contacts   feed_info.txt          ✅          ✅          ✅"
      ]
     },
     "execution_count": 15,
     "metadata": {},
     "output_type": "execute_result"
    }
   ],
   "source": [
    "tbl_file_check"
   ]
  },
  {
   "cell_type": "markdown",
   "id": "d57b7b0d",
   "metadata": {
    "papermill": {
     "duration": 0.033728,
     "end_time": "2021-06-24T22:11:01.430287",
     "exception": false,
     "start_time": "2021-06-24T22:11:01.396559",
     "status": "completed"
    },
    "tags": []
   },
   "source": [
    "### Validation Errors Observed"
   ]
  },
  {
   "cell_type": "code",
   "execution_count": 16,
   "id": "d66884f2",
   "metadata": {
    "execution": {
     "iopub.execute_input": "2021-06-24T22:11:01.513673Z",
     "iopub.status.busy": "2021-06-24T22:11:01.512574Z",
     "iopub.status.idle": "2021-06-24T22:11:01.521858Z",
     "shell.execute_reply": "2021-06-24T22:11:01.522739Z"
    },
    "papermill": {
     "duration": 0.054903,
     "end_time": "2021-06-24T22:11:01.522941",
     "exception": false,
     "start_time": "2021-06-24T22:11:01.468038",
     "status": "completed"
    },
    "tags": []
   },
   "outputs": [
    {
     "data": {
      "text/markdown": [
       "No validation error observed in your feed."
      ],
      "text/plain": [
       "<IPython.core.display.Markdown object>"
      ]
     },
     "metadata": {},
     "output_type": "display_data"
    }
   ],
   "source": [
    "if tbl_validation_notices.shape[0] == 0:\n",
    "    display(Markdown(\"No validation error observed in your feed.\"))\n",
    "else:    \n",
    "    display(tbl_validation_notices)"
   ]
  },
  {
   "cell_type": "markdown",
   "id": "3feaf5cc",
   "metadata": {
    "papermill": {
     "duration": 0.061065,
     "end_time": "2021-06-24T22:11:01.618371",
     "exception": false,
     "start_time": "2021-06-24T22:11:01.557306",
     "status": "completed"
    },
    "tags": []
   },
   "source": [
    "For more information about Cal-ITP, including the [Minimum GTFS Guidelines](https://dot.ca.gov/cal-itp/california-minimum-general-transit-feed-specification-gtfs-guidelines) and our [Transit Data Helpdesk](https://dot.ca.gov/programs/rail-and-mass-transportation/gtfs/helpdesk), contact [GTFSRT@dot.ca.gov](mailto:GTFSRT@dot.ca.gov)."
   ]
  }
 ],
 "metadata": {
  "kernelspec": {
   "display_name": "venv-calitp-py",
   "language": "python",
   "name": "venv-calitp-py"
  },
  "language_info": {
   "codemirror_mode": {
    "name": "ipython",
    "version": 3
   },
   "file_extension": ".py",
   "mimetype": "text/x-python",
   "name": "python",
   "nbconvert_exporter": "python",
   "pygments_lexer": "ipython3",
   "version": "3.8.5"
  },
  "papermill": {
   "default_parameters": {},
   "duration": 54.220038,
   "end_time": "2021-06-24T22:11:03.493826",
   "environment_variables": {},
   "exception": null,
   "input_path": "report.ipynb",
   "output_path": "output/37/report.ipynb",
   "parameters": {
    "CALITP_ITP_ID": 37,
    "CALITP_URL_NUMBER": 0,
    "DEBUG": false,
    "END_DATE": "2021-06-01",
    "START_DATE": "2021-05-01"
   },
   "start_time": "2021-06-24T22:10:09.273788",
   "version": "2.3.3"
  }
 },
 "nbformat": 4,
 "nbformat_minor": 5
}