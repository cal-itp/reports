{
 "cells": [
  {
   "cell_type": "markdown",
   "id": "5ebc0ad3",
   "metadata": {
    "papermill": {
     "duration": 0.034011,
     "end_time": "2021-06-24T22:18:49.825443",
     "exception": false,
     "start_time": "2021-06-24T22:18:49.791432",
     "status": "completed"
    },
    "tags": [
     "hide"
    ]
   },
   "source": [
    "# Setup"
   ]
  },
  {
   "cell_type": "code",
   "execution_count": 1,
   "id": "538d01d6",
   "metadata": {
    "execution": {
     "iopub.execute_input": "2021-06-24T22:18:49.897256Z",
     "iopub.status.busy": "2021-06-24T22:18:49.890681Z",
     "iopub.status.idle": "2021-06-24T22:18:56.935562Z",
     "shell.execute_reply": "2021-06-24T22:18:56.936002Z"
    },
    "papermill": {
     "duration": 7.081769,
     "end_time": "2021-06-24T22:18:56.936194",
     "exception": false,
     "start_time": "2021-06-24T22:18:49.854425",
     "status": "completed"
    },
    "tags": [
     "hide"
    ]
   },
   "outputs": [],
   "source": [
    "import pandas as pd\n",
    "import numpy as np\n",
    "import warnings\n",
    "\n",
    "from io import StringIO\n",
    "from calitp.tables import tbl\n",
    "from datetime import date, datetime\n",
    "from siuba import *\n",
    "from plotnine import *\n",
    "\n",
    "def friendly_date(x): \n",
    "    return datetime.strptime(x, \"%Y-%m-%d\").strftime(\"%b %d\")"
   ]
  },
  {
   "cell_type": "code",
   "execution_count": 2,
   "id": "96ec1749",
   "metadata": {
    "execution": {
     "iopub.execute_input": "2021-06-24T22:18:56.979235Z",
     "iopub.status.busy": "2021-06-24T22:18:56.978179Z",
     "iopub.status.idle": "2021-06-24T22:18:56.981542Z",
     "shell.execute_reply": "2021-06-24T22:18:56.982028Z"
    },
    "papermill": {
     "duration": 0.02794,
     "end_time": "2021-06-24T22:18:56.982177",
     "exception": false,
     "start_time": "2021-06-24T22:18:56.954237",
     "status": "completed"
    },
    "tags": [
     "parameters",
     "hide"
    ]
   },
   "outputs": [],
   "source": [
    "CALITP_ITP_ID = 98\n",
    "#CALITP_ITP_ID=45\n",
    "CALITP_URL_NUMBER = 0\n",
    "DEBUG = False\n",
    "\n",
    "START_DATE = \"2021-05-01\"\n",
    "END_DATE = \"2021-06-01\"\n",
    "DATE_TODAY=date.today()\n",
    "START_MONTH_DAY = friendly_date(START_DATE)\n",
    "END_MONTH_DAY = friendly_date(END_DATE)\n",
    "\n",
    "WEEK_MARKERS = pd.date_range(START_DATE, END_DATE, freq=\"W\").astype(str).tolist()\n",
    "BIWEEKLY_MARKERS = pd.date_range(START_DATE, END_DATE, freq=\"2W\").astype(str).tolist()"
   ]
  },
  {
   "cell_type": "code",
   "execution_count": 3,
   "id": "83af1280",
   "metadata": {
    "execution": {
     "iopub.execute_input": "2021-06-24T22:18:57.035891Z",
     "iopub.status.busy": "2021-06-24T22:18:57.033747Z",
     "iopub.status.idle": "2021-06-24T22:18:57.042033Z",
     "shell.execute_reply": "2021-06-24T22:18:57.042810Z"
    },
    "papermill": {
     "duration": 0.03749,
     "end_time": "2021-06-24T22:18:57.043014",
     "exception": false,
     "start_time": "2021-06-24T22:18:57.005524",
     "status": "completed"
    },
    "tags": [
     "injected-parameters"
    ]
   },
   "outputs": [],
   "source": [
    "# Parameters\n",
    "CALITP_ITP_ID = 300\n",
    "CALITP_URL_NUMBER = 0\n",
    "DEBUG = False\n",
    "START_DATE = \"2021-05-01\"\n",
    "END_DATE = \"2021-06-01\"\n"
   ]
  },
  {
   "cell_type": "code",
   "execution_count": 4,
   "id": "c28ff806",
   "metadata": {
    "execution": {
     "iopub.execute_input": "2021-06-24T22:18:57.094818Z",
     "iopub.status.busy": "2021-06-24T22:18:57.093839Z",
     "iopub.status.idle": "2021-06-24T22:18:57.097104Z",
     "shell.execute_reply": "2021-06-24T22:18:57.098047Z"
    },
    "papermill": {
     "duration": 0.029431,
     "end_time": "2021-06-24T22:18:57.098270",
     "exception": false,
     "start_time": "2021-06-24T22:18:57.068839",
     "status": "completed"
    },
    "tags": [
     "hide"
    ]
   },
   "outputs": [],
   "source": [
    "if not DEBUG:\n",
    "    warnings.filterwarnings(\"ignore\")"
   ]
  },
  {
   "cell_type": "code",
   "execution_count": 5,
   "id": "2ee2e47d",
   "metadata": {
    "execution": {
     "iopub.execute_input": "2021-06-24T22:18:57.163216Z",
     "iopub.status.busy": "2021-06-24T22:18:57.157606Z",
     "iopub.status.idle": "2021-06-24T22:18:57.176277Z",
     "shell.execute_reply": "2021-06-24T22:18:57.175479Z"
    },
    "papermill": {
     "duration": 0.04927,
     "end_time": "2021-06-24T22:18:57.176460",
     "exception": false,
     "start_time": "2021-06-24T22:18:57.127190",
     "status": "completed"
    },
    "tags": [
     "hide"
    ]
   },
   "outputs": [],
   "source": [
    "# Convenience functions ----\n",
    "\n",
    "filter_start = filter(\n",
    "    _.calitp_extracted_at <= START_DATE,\n",
    "    _.calitp_deleted_at.fillna(\"2099-01-01\") > START_DATE,\n",
    ")\n",
    "\n",
    "filter_end = filter(\n",
    "    _.calitp_extracted_at <= END_DATE,\n",
    "    _.calitp_deleted_at.fillna(\"2099-01-01\") > END_DATE,\n",
    ")\n",
    "\n",
    "filter_itp = filter(\n",
    "    _.calitp_itp_id == CALITP_ITP_ID, _.calitp_url_number == CALITP_URL_NUMBER\n",
    ")\n",
    "\n",
    "collect_to_dict = (\n",
    "    collect()\n",
    "    >> pipe(_.to_dict(orient=\"records\")[0])\n",
    ")\n",
    "\n",
    "\n",
    "select_rm_calitp = select(\n",
    "    -_.calitp_itp_id,\n",
    "    -_.calitp_url_number,\n",
    "    -_.calitp_hash,\n",
    "    -_.calitp_extracted_at,\n",
    "    -_.calitp_deleted_at,\n",
    ")\n",
    "\n",
    "def percent_format(labels):\n",
    "    return [\"{:.0f}%\".format(v*100) for v in labels]\n",
    "\n",
    "def query_id_changes(start_table, end_table, id_vars):\n",
    "    \"\"\"Calculate id variables that are removed, added, or unchanged between tables.\n",
    "    \n",
    "    It works by adding a special column to each table, performing a full join,\n",
    "    then checking where the special column is null.\n",
    "    \"\"\"\n",
    "    sym_id_vars = [_[k] for k in id_vars]\n",
    "\n",
    "    is_in_start = start_table >> select(*id_vars) >> mutate(is_in_start=True)\n",
    "    is_in_end = end_table >> select(*id_vars) >> mutate(is_in_end=True)\n",
    "\n",
    "    baseline = start_table >> count(*id_vars) >> rename(n_baseline=\"n\")\n",
    "    tallies = (\n",
    "        is_in_start\n",
    "        >> full_join(_, is_in_end, id_vars)\n",
    "        >> count(*sym_id_vars, _.is_in_start, _.is_in_end)\n",
    "        >> mutate(\n",
    "            status=case_when(\n",
    "                _,\n",
    "                {\n",
    "                    _.is_in_end.isna(): \"Removed\",\n",
    "                    _.is_in_start.isna(): \"Added\",\n",
    "                    True: \"Unchanged\",\n",
    "                },\n",
    "            )\n",
    "        )\n",
    "        >> count(*sym_id_vars[:-1], _.status)\n",
    "        >> group_by(*sym_id_vars[:-1])\n",
    "        >> mutate(percent=_.n / _.n.sum())\n",
    "    )\n",
    "\n",
    "    return tallies"
   ]
  },
  {
   "cell_type": "code",
   "execution_count": 6,
   "id": "f4f879cb",
   "metadata": {
    "execution": {
     "iopub.execute_input": "2021-06-24T22:18:57.244183Z",
     "iopub.status.busy": "2021-06-24T22:18:57.237049Z",
     "iopub.status.idle": "2021-06-24T22:19:20.548629Z",
     "shell.execute_reply": "2021-06-24T22:19:20.549077Z"
    },
    "papermill": {
     "duration": 23.342349,
     "end_time": "2021-06-24T22:19:20.549217",
     "exception": false,
     "start_time": "2021-06-24T22:18:57.206868",
     "status": "completed"
    },
    "tags": [
     "hide"
    ]
   },
   "outputs": [],
   "source": [
    "# Data ====\n",
    "# 1. High level feed info ----\n",
    "feed_info = (\n",
    "    tbl.gtfs_schedule_type2.feed_info()\n",
    "    >> filter_end\n",
    "    >> filter_itp\n",
    "    >> select_rm_calitp\n",
    "    >> collect_to_dict\n",
    ")\n",
    "\n",
    "_n_routes = (\n",
    "    tbl.gtfs_schedule_type2.routes() >> filter_end >> filter_itp >> count() >> collect()\n",
    ")\n",
    "_n_stops = (\n",
    "    tbl.gtfs_schedule_type2.stops() >> filter_end >> filter_itp >> count() >> collect()\n",
    ")\n",
    "\n",
    "feed_info[\"n_routes\"] = int(_n_routes.loc[0, \"n\"])\n",
    "feed_info[\"n_stops\"] = int(_n_stops.loc[0, \"n\"])\n",
    "\n",
    "status = (\n",
    "    tbl.views.gtfs_status_latest()\n",
    "    >> filter(_.itp_id == CALITP_ITP_ID, _.url_number == CALITP_URL_NUMBER)\n",
    "    >> select(-_.url_number, -_.status)\n",
    "    >> select_rm_calitp\n",
    "    >> collect_to_dict\n",
    ")\n",
    "\n",
    "# 2. Monthly metrics ----\n",
    "# Service hours per day. Note that the queried table calculates service\n",
    "# hours per service id, so we need to sum across service ids for the day\n",
    "_cross_cal = (\n",
    "    tbl.views.dim_date()\n",
    "    >> filter(_.full_date.between(START_DATE, END_DATE))\n",
    "    >> select(_.service_date == _.full_date)\n",
    ")\n",
    "\n",
    "tbl_daily_service_hours = (\n",
    "    tbl.views.gtfs_schedule_service_daily_metrics()\n",
    "    >> filter_itp\n",
    "    >> filter(_.service_date.between(START_DATE, END_DATE))\n",
    "    >> right_join(_, _cross_cal, [\"service_date\"])\n",
    "    >> collect()\n",
    "    >> group_by(_.service_date)\n",
    "    >> summarize(\n",
    "        ttl_service_hours=(_.last_arrival_ts.max() - _.first_departure_ts.min()) / 3600,\n",
    "        ttl_service_hours2=_.ttl_service_hours.sum(),\n",
    "    )\n",
    "    >> mutate(\n",
    "        ttl_service_hours=_.ttl_service_hours.astype(float).round(2),\n",
    "        service_date=_.service_date.astype(\"datetime64[ns]\"),\n",
    "    )\n",
    ")\n",
    "\n",
    "# number of days where a feed did not have any trips in service\n",
    "n_expired_days = (\n",
    "    tbl_daily_service_hours\n",
    "    >> filter(_.ttl_service_hours.isna())\n",
    "    >> pipe(lambda d: {\"n\": d.shape[0]})\n",
    ")\n",
    "\n",
    "# 3. Stop and Route ID Changes ----\n",
    "\n",
    "_tbl_stops_start = tbl.gtfs_schedule_type2.stops() >> filter_itp >> filter_start\n",
    "_tbl_stops_end = tbl.gtfs_schedule_type2.stops() >> filter_itp >> filter_end\n",
    "tbl_stops_changed = (\n",
    "    query_id_changes(_tbl_stops_start, _tbl_stops_end, [\"stop_id\"]) >> collect()\n",
    ")\n",
    "\n",
    "_tbl_routes_start = tbl.gtfs_schedule_type2.routes() >> filter_itp >> filter_start\n",
    "_tbl_routes_end = tbl.gtfs_schedule_type2.routes() >> filter_itp >> filter_end\n",
    "tbl_routes_changed = (\n",
    "    query_id_changes(_tbl_routes_start, _tbl_routes_end, [\"route_id\"]) >> collect()\n",
    ")"
   ]
  },
  {
   "cell_type": "code",
   "execution_count": 7,
   "id": "72999901",
   "metadata": {
    "execution": {
     "iopub.execute_input": "2021-06-24T22:19:20.610824Z",
     "iopub.status.busy": "2021-06-24T22:19:20.609738Z",
     "iopub.status.idle": "2021-06-24T22:19:26.748660Z",
     "shell.execute_reply": "2021-06-24T22:19:26.749096Z"
    },
    "papermill": {
     "duration": 6.176334,
     "end_time": "2021-06-24T22:19:26.749234",
     "exception": false,
     "start_time": "2021-06-24T22:19:20.572900",
     "status": "completed"
    },
    "tags": [
     "hide"
    ]
   },
   "outputs": [],
   "source": [
    "# 4. Feed files being checked for ----\n",
    "\n",
    "file_categories = pd.DataFrame(\n",
    "    {\n",
    "        \"shapes.txt\": \"Visual display\",\n",
    "        \"pathways.txt\": \"Navigation\",\n",
    "        \"levels.txt\": \"Navigation\",\n",
    "        \"fare_rules.txt\": \"Fares\",\n",
    "        \"fare_leg_rules\": \"Fares\",\n",
    "        \"feed_info.txt\": \"Technical contacts\",\n",
    "    }.items(),\n",
    "    columns=[\"name\", \"category\"],\n",
    ")\n",
    "\n",
    "importance = [\"Visual display\", \"Navigation\", \"Fares\", \"Technical contacts\"]\n",
    "\n",
    "tbl_file_check = (\n",
    "    tbl.gtfs_schedule_history.calitp_files_updates()\n",
    "    >> filter_itp\n",
    "    >> filter(_.calitp_extracted_at.isin(BIWEEKLY_MARKERS))\n",
    "    >> select(_.name, _.calitp_extracted_at)\n",
    "    >> collect()\n",
    "    >> right_join(_, file_categories, [\"name\"])\n",
    "    >> mutate(\n",
    "        calitp_extracted_at=_.calitp_extracted_at.fillna(\"missing\").astype(str),\n",
    "        success=\"✅\",\n",
    "    )\n",
    "    >> spread(_.calitp_extracted_at, _.success)\n",
    "    >> select(-_.missing)\n",
    "    >> arrange(_.category.apply(importance.index))\n",
    "    >> select(_.category, _.contains(\"\"))\n",
    "    >> pipe(_.fillna(\"\"))\n",
    ")\n",
    "\n",
    "tbl_validation_notices = (\n",
    "    tbl.views.validation_notices()\n",
    "    >> filter_itp\n",
    "    >> filter(_.severity == \"ERROR\")\n",
    "    >> count(_.code, _.severity)\n",
    "    >> collect()\n",
    ")"
   ]
  },
  {
   "cell_type": "markdown",
   "id": "79be6754",
   "metadata": {
    "papermill": {
     "duration": 0.015122,
     "end_time": "2021-06-24T22:19:26.780159",
     "exception": false,
     "start_time": "2021-06-24T22:19:26.765037",
     "status": "completed"
    },
    "tags": [
     "hide"
    ]
   },
   "source": [
    "## Dump data"
   ]
  },
  {
   "cell_type": "code",
   "execution_count": 8,
   "id": "25c51600",
   "metadata": {
    "execution": {
     "iopub.execute_input": "2021-06-24T22:19:26.815682Z",
     "iopub.status.busy": "2021-06-24T22:19:26.814992Z",
     "iopub.status.idle": "2021-06-24T22:19:26.827425Z",
     "shell.execute_reply": "2021-06-24T22:19:26.826801Z"
    },
    "papermill": {
     "duration": 0.032673,
     "end_time": "2021-06-24T22:19:26.827568",
     "exception": false,
     "start_time": "2021-06-24T22:19:26.794895",
     "status": "completed"
    },
    "tags": [
     "hide"
    ]
   },
   "outputs": [],
   "source": [
    "import json\n",
    "import shutil\n",
    "\n",
    "from pathlib import Path\n",
    "\n",
    "out_dir = Path(f\"output/{CALITP_ITP_ID}_{CALITP_URL_NUMBER}/data\")\n",
    "out_dir.mkdir(parents=True, exist_ok=True)\n",
    "\n",
    "json.dump(feed_info, open(out_dir / \"1_feed_info.json\", \"w\"))\n",
    "json.dump(status, open(out_dir / \"1_status.json\", \"w\"))\n",
    "\n",
    "tbl_daily_service_hours.to_json(out_dir / \"2_daily_service_hours.json\", orient=\"records\")\n",
    "json.dump(n_expired_days, open(out_dir / \"2_n_expired_days.json\", \"w\"))\n",
    "\n",
    "tbl_stops_changed.to_json(out_dir / \"3_stops_changed.json\", orient=\"records\")\n",
    "tbl_routes_changed.to_json(out_dir / \"3_routes_changed.json\", orient=\"records\")\n",
    "tbl_file_check.to_json(out_dir / \"4_file_check.json\", orient=\"records\")\n",
    "tbl_validation_notices.to_json(out_dir / \"4_validation_notices.json\", orient=\"records\")\n"
   ]
  },
  {
   "cell_type": "markdown",
   "id": "505c74ff",
   "metadata": {
    "papermill": {
     "duration": 0.015602,
     "end_time": "2021-06-24T22:19:26.858899",
     "exception": false,
     "start_time": "2021-06-24T22:19:26.843297",
     "status": "completed"
    },
    "tags": []
   },
   "source": [
    "# Monthly GTFS Quality Report"
   ]
  },
  {
   "cell_type": "code",
   "execution_count": 9,
   "id": "83546369",
   "metadata": {
    "execution": {
     "iopub.execute_input": "2021-06-24T22:19:26.897884Z",
     "iopub.status.busy": "2021-06-24T22:19:26.895147Z",
     "iopub.status.idle": "2021-06-24T22:19:26.901514Z",
     "shell.execute_reply": "2021-06-24T22:19:26.901055Z"
    },
    "papermill": {
     "duration": 0.025335,
     "end_time": "2021-06-24T22:19:26.901626",
     "exception": false,
     "start_time": "2021-06-24T22:19:26.876291",
     "status": "completed"
    },
    "tags": []
   },
   "outputs": [
    {
     "data": {
      "text/markdown": [
       "\n",
       "Transit provider name: Big Blue Bus\n",
       "\n",
       "Date generated: 2021-06-24\n"
      ],
      "text/plain": [
       "<IPython.core.display.Markdown object>"
      ]
     },
     "execution_count": 9,
     "metadata": {},
     "output_type": "execute_result"
    }
   ],
   "source": [
    "from IPython.display import Markdown\n",
    "\n",
    "Markdown(f\"\"\"\n",
    "Transit provider name: {feed_info[\"feed_publisher_name\"]}\n",
    "\n",
    "Date generated: {DATE_TODAY}\n",
    "\"\"\")"
   ]
  },
  {
   "cell_type": "markdown",
   "id": "694d2e9c",
   "metadata": {
    "papermill": {
     "duration": 0.015758,
     "end_time": "2021-06-24T22:19:26.934851",
     "exception": false,
     "start_time": "2021-06-24T22:19:26.919093",
     "status": "completed"
    },
    "tags": []
   },
   "source": [
    "This is a monthly report, generated by the California Integrated Travel Project ([Cal-ITP](https://dot.ca.gov/cal-itp/cal-itp-gtfs)), summarizing issues discovered by [MobilityData](http://mobilitydata.io/)’s [GTFS Validator](https://github.com/MobilityData/gtfs-validator). This report is available for viewing by the general public to support continuous improvement of GTFS data and the experience of transit passengers. "
   ]
  },
  {
   "cell_type": "markdown",
   "id": "a095914e",
   "metadata": {
    "papermill": {
     "duration": 0.014984,
     "end_time": "2021-06-24T22:19:26.966751",
     "exception": false,
     "start_time": "2021-06-24T22:19:26.951767",
     "status": "completed"
    },
    "tags": []
   },
   "source": [
    "## Overview"
   ]
  },
  {
   "cell_type": "code",
   "execution_count": 10,
   "id": "13502296",
   "metadata": {
    "execution": {
     "iopub.execute_input": "2021-06-24T22:19:27.004431Z",
     "iopub.status.busy": "2021-06-24T22:19:27.003753Z",
     "iopub.status.idle": "2021-06-24T22:19:27.006670Z",
     "shell.execute_reply": "2021-06-24T22:19:27.007092Z"
    },
    "papermill": {
     "duration": 0.023848,
     "end_time": "2021-06-24T22:19:27.007228",
     "exception": false,
     "start_time": "2021-06-24T22:19:26.983380",
     "status": "completed"
    },
    "tags": []
   },
   "outputs": [
    {
     "data": {
      "text/markdown": [
       "\n",
       "Feed location: http://gtfs.bigbluebus.com/current.zip\n",
       "\n",
       "Metrics for the most recent published version of the feed:\n",
       "\n",
       "* Date published: 2021-04(Apr)_v2_20210322\n",
       "* Number of routes in any service: 20\n",
       "* Number of stops in service: 866\n"
      ],
      "text/plain": [
       "<IPython.core.display.Markdown object>"
      ]
     },
     "execution_count": 10,
     "metadata": {},
     "output_type": "execute_result"
    }
   ],
   "source": [
    "Markdown(f\"\"\"\n",
    "Feed location: {status[\"gtfs_schedule_url\"]}\n",
    "\n",
    "Metrics for the most recent published version of the feed:\n",
    "\n",
    "* Date published: {feed_info[\"feed_version\"]}\n",
    "* Number of routes in any service: {feed_info[\"n_routes\"]}\n",
    "* Number of stops in service: {feed_info[\"n_stops\"]}\n",
    "\"\"\")"
   ]
  },
  {
   "cell_type": "markdown",
   "id": "e427565c",
   "metadata": {
    "papermill": {
     "duration": 0.017846,
     "end_time": "2021-06-24T22:19:27.041462",
     "exception": false,
     "start_time": "2021-06-24T22:19:27.023616",
     "status": "completed"
    },
    "tags": []
   },
   "source": [
    "## Aggregated Metrics for May"
   ]
  },
  {
   "cell_type": "code",
   "execution_count": 11,
   "id": "753013fc",
   "metadata": {
    "execution": {
     "iopub.execute_input": "2021-06-24T22:19:27.085019Z",
     "iopub.status.busy": "2021-06-24T22:19:27.084329Z",
     "iopub.status.idle": "2021-06-24T22:19:27.087513Z",
     "shell.execute_reply": "2021-06-24T22:19:27.087064Z"
    },
    "papermill": {
     "duration": 0.026529,
     "end_time": "2021-06-24T22:19:27.087631",
     "exception": false,
     "start_time": "2021-06-24T22:19:27.061102",
     "status": "completed"
    },
    "tags": []
   },
   "outputs": [
    {
     "data": {
      "text/markdown": [
       "\n",
       "Days with no service hours: 12\n"
      ],
      "text/plain": [
       "<IPython.core.display.Markdown object>"
      ]
     },
     "execution_count": 11,
     "metadata": {},
     "output_type": "execute_result"
    }
   ],
   "source": [
    "# TODO: \n",
    "\n",
    "# Markdown(f\"\"\"\n",
    "# Days when the active feed was expired: {n_expired_days[\"n\"]}\n",
    "# \"\"\")\n",
    "\n",
    "Markdown(f\"\"\"\n",
    "Days with no service hours: {n_expired_days[\"n\"]}\n",
    "\"\"\")\n"
   ]
  },
  {
   "cell_type": "code",
   "execution_count": 12,
   "id": "9eccaa4c",
   "metadata": {
    "execution": {
     "iopub.execute_input": "2021-06-24T22:19:27.160078Z",
     "iopub.status.busy": "2021-06-24T22:19:27.156547Z",
     "iopub.status.idle": "2021-06-24T22:19:27.502195Z",
     "shell.execute_reply": "2021-06-24T22:19:27.502599Z"
    },
    "papermill": {
     "duration": 0.398589,
     "end_time": "2021-06-24T22:19:27.502729",
     "exception": false,
     "start_time": "2021-06-24T22:19:27.104140",
     "status": "completed"
    },
    "tags": []
   },
   "outputs": [
    {
     "data": {
      "image/png": "[encoded data removed]",
      "text/plain": [
       "<Figure size 640x480 with 1 Axes>"
      ]
     },
     "metadata": {},
     "output_type": "display_data"
    }
   ],
   "source": [
    "(\n",
    "    tbl_daily_service_hours\n",
    "    >> ggplot(aes(\"service_date\", \"ttl_service_hours2\"))\n",
    "    + geom_line()\n",
    "    + geom_point()\n",
    "    + theme(axis_text_x=element_text(angle=45, hjust=1))\n",
    "    + scale_x_datetime(date_breaks=\"1 week\")\n",
    "    + expand_limits(y=0)\n",
    "    + labs(y = \"Total service hours\", x = \"Service date\", title=\"Service hour per day\")\n",
    ").draw();"
   ]
  },
  {
   "cell_type": "markdown",
   "id": "c5805929",
   "metadata": {
    "papermill": {
     "duration": 0.017865,
     "end_time": "2021-06-24T22:19:27.538135",
     "exception": false,
     "start_time": "2021-06-24T22:19:27.520270",
     "status": "completed"
    },
    "tags": []
   },
   "source": [
    "## Changes Since Previous Month"
   ]
  },
  {
   "cell_type": "code",
   "execution_count": 13,
   "id": "3f3b2791",
   "metadata": {
    "execution": {
     "iopub.execute_input": "2021-06-24T22:19:27.613811Z",
     "iopub.status.busy": "2021-06-24T22:19:27.597074Z",
     "iopub.status.idle": "2021-06-24T22:19:27.858328Z",
     "shell.execute_reply": "2021-06-24T22:19:27.858811Z"
    },
    "papermill": {
     "duration": 0.303862,
     "end_time": "2021-06-24T22:19:27.858961",
     "exception": false,
     "start_time": "2021-06-24T22:19:27.555099",
     "status": "completed"
    },
    "tags": []
   },
   "outputs": [
    {
     "data": {
      "image/png": "[encoded data removed]",
      "text/plain": [
       "<Figure size 640x480 with 1 Axes>"
      ]
     },
     "metadata": {},
     "output_type": "display_data"
    }
   ],
   "source": [
    "(\n",
    "    pd.concat(\n",
    "        [\n",
    "            tbl_stops_changed >> mutate(kind=\"Stops\"),\n",
    "            tbl_routes_changed >> mutate(kind=\"Routes\"),\n",
    "        ]\n",
    "    )\n",
    "    >> ggplot(aes(\"kind\", \"n\", fill=\"status\"))\n",
    "    + geom_col()\n",
    "    + labs(\n",
    "        x=\"GTFS schedule table\",\n",
    "        y=\"Number of IDs\",\n",
    "        title=f\"IDs Changed Between {START_MONTH_DAY} and {END_MONTH_DAY}\",\n",
    "    )\n",
    ").draw();"
   ]
  },
  {
   "cell_type": "markdown",
   "id": "926073eb",
   "metadata": {
    "papermill": {
     "duration": 0.01835,
     "end_time": "2021-06-24T22:19:27.895706",
     "exception": false,
     "start_time": "2021-06-24T22:19:27.877356",
     "status": "completed"
    },
    "tags": []
   },
   "source": [
    "### (Alternative version using percentages)"
   ]
  },
  {
   "cell_type": "code",
   "execution_count": 14,
   "id": "124da850",
   "metadata": {
    "execution": {
     "iopub.execute_input": "2021-06-24T22:19:27.945137Z",
     "iopub.status.busy": "2021-06-24T22:19:27.944098Z",
     "iopub.status.idle": "2021-06-24T22:19:28.259238Z",
     "shell.execute_reply": "2021-06-24T22:19:28.258618Z"
    },
    "papermill": {
     "duration": 0.34537,
     "end_time": "2021-06-24T22:19:28.259378",
     "exception": false,
     "start_time": "2021-06-24T22:19:27.914008",
     "status": "completed"
    },
    "tags": []
   },
   "outputs": [
    {
     "data": {
      "image/png": "[encoded data removed]",
      "text/plain": [
       "<Figure size 640x480 with 1 Axes>"
      ]
     },
     "metadata": {},
     "output_type": "display_data"
    }
   ],
   "source": [
    "(\n",
    "    pd.concat(\n",
    "        [\n",
    "            tbl_stops_changed >> mutate(kind=\"Stops\"),\n",
    "            tbl_routes_changed >> mutate(kind=\"Routes\"),\n",
    "        ]\n",
    "    )\n",
    "    >> ggplot(aes(\"kind\", \"percent\", fill=\"status\"))\n",
    "    + geom_col()\n",
    "    + labs(\n",
    "        x=\"GTFS schedule table\",\n",
    "        y=\"Percentage of IDs\",\n",
    "        title=f\"IDs Changed Between {START_MONTH_DAY} and {END_MONTH_DAY}\",\n",
    "    )\n",
    "    + scale_y_continuous(labels=percent_format, breaks=np.arange(0, 1.2, 0.2))\n",
    ").draw();"
   ]
  },
  {
   "cell_type": "markdown",
   "id": "ae1c2068",
   "metadata": {
    "papermill": {
     "duration": 0.029124,
     "end_time": "2021-06-24T22:19:28.318458",
     "exception": false,
     "start_time": "2021-06-24T22:19:28.289334",
     "status": "completed"
    },
    "tags": []
   },
   "source": [
    "## Consistency with the [California GTFS Minimum Guidelines](https://dot.ca.gov/cal-itp/california-minimum-general-transit-feed-specification-gtfs-guidelines) for the feed downloaded\n"
   ]
  },
  {
   "cell_type": "markdown",
   "id": "81497938",
   "metadata": {
    "papermill": {
     "duration": 0.021151,
     "end_time": "2021-06-24T22:19:28.367952",
     "exception": false,
     "start_time": "2021-06-24T22:19:28.346801",
     "status": "completed"
    },
    "tags": []
   },
   "source": [
    "### Do the following files/fields exist?"
   ]
  },
  {
   "cell_type": "code",
   "execution_count": 15,
   "id": "0c496de0",
   "metadata": {
    "execution": {
     "iopub.execute_input": "2021-06-24T22:19:28.418675Z",
     "iopub.status.busy": "2021-06-24T22:19:28.417738Z",
     "iopub.status.idle": "2021-06-24T22:19:28.425507Z",
     "shell.execute_reply": "2021-06-24T22:19:28.426016Z"
    },
    "papermill": {
     "duration": 0.034661,
     "end_time": "2021-06-24T22:19:28.426157",
     "exception": false,
     "start_time": "2021-06-24T22:19:28.391496",
     "status": "completed"
    },
    "tags": []
   },
   "outputs": [
    {
     "data": {
      "text/html": [
       "<div>\n",
       "<style scoped>\n",
       "    .dataframe tbody tr th:only-of-type {\n",
       "        vertical-align: middle;\n",
       "    }\n",
       "\n",
       "    .dataframe tbody tr th {\n",
       "        vertical-align: top;\n",
       "    }\n",
       "\n",
       "    .dataframe thead th {\n",
       "        text-align: right;\n",
       "    }\n",
       "</style>\n",
       "<table border=\"1\" class=\"dataframe\">\n",
       "  <thead>\n",
       "    <tr style=\"text-align: right;\">\n",
       "      <th></th>\n",
       "      <th>category</th>\n",
       "      <th>name</th>\n",
       "      <th>2021-05-16</th>\n",
       "      <th>2021-05-30</th>\n",
       "    </tr>\n",
       "  </thead>\n",
       "  <tbody>\n",
       "    <tr>\n",
       "      <th>5</th>\n",
       "      <td>Visual display</td>\n",
       "      <td>shapes.txt</td>\n",
       "      <td>✅</td>\n",
       "      <td>✅</td>\n",
       "    </tr>\n",
       "    <tr>\n",
       "      <th>3</th>\n",
       "      <td>Navigation</td>\n",
       "      <td>levels.txt</td>\n",
       "      <td></td>\n",
       "      <td></td>\n",
       "    </tr>\n",
       "    <tr>\n",
       "      <th>4</th>\n",
       "      <td>Navigation</td>\n",
       "      <td>pathways.txt</td>\n",
       "      <td></td>\n",
       "      <td></td>\n",
       "    </tr>\n",
       "    <tr>\n",
       "      <th>0</th>\n",
       "      <td>Fares</td>\n",
       "      <td>fare_leg_rules</td>\n",
       "      <td></td>\n",
       "      <td></td>\n",
       "    </tr>\n",
       "    <tr>\n",
       "      <th>1</th>\n",
       "      <td>Fares</td>\n",
       "      <td>fare_rules.txt</td>\n",
       "      <td>✅</td>\n",
       "      <td>✅</td>\n",
       "    </tr>\n",
       "    <tr>\n",
       "      <th>2</th>\n",
       "      <td>Technical contacts</td>\n",
       "      <td>feed_info.txt</td>\n",
       "      <td>✅</td>\n",
       "      <td>✅</td>\n",
       "    </tr>\n",
       "  </tbody>\n",
       "</table>\n",
       "</div>"
      ],
      "text/plain": [
       "             category            name 2021-05-16 2021-05-30\n",
       "5      Visual display      shapes.txt          ✅          ✅\n",
       "3          Navigation      levels.txt                      \n",
       "4          Navigation    pathways.txt                      \n",
       "0               Fares  fare_leg_rules                      \n",
       "1               Fares  fare_rules.txt          ✅          ✅\n",
       "2  Technical contacts   feed_info.txt          ✅          ✅"
      ]
     },
     "execution_count": 15,
     "metadata": {},
     "output_type": "execute_result"
    }
   ],
   "source": [
    "tbl_file_check"
   ]
  },
  {
   "cell_type": "markdown",
   "id": "81d96f2b",
   "metadata": {
    "papermill": {
     "duration": 0.020233,
     "end_time": "2021-06-24T22:19:28.470887",
     "exception": false,
     "start_time": "2021-06-24T22:19:28.450654",
     "status": "completed"
    },
    "tags": []
   },
   "source": [
    "### Validation Errors Observed"
   ]
  },
  {
   "cell_type": "code",
   "execution_count": 16,
   "id": "2cd3d3ee",
   "metadata": {
    "execution": {
     "iopub.execute_input": "2021-06-24T22:19:28.520004Z",
     "iopub.status.busy": "2021-06-24T22:19:28.519186Z",
     "iopub.status.idle": "2021-06-24T22:19:28.523602Z",
     "shell.execute_reply": "2021-06-24T22:19:28.523120Z"
    },
    "papermill": {
     "duration": 0.032715,
     "end_time": "2021-06-24T22:19:28.523721",
     "exception": false,
     "start_time": "2021-06-24T22:19:28.491006",
     "status": "completed"
    },
    "tags": []
   },
   "outputs": [
    {
     "data": {
      "text/html": [
       "<div>\n",
       "<style scoped>\n",
       "    .dataframe tbody tr th:only-of-type {\n",
       "        vertical-align: middle;\n",
       "    }\n",
       "\n",
       "    .dataframe tbody tr th {\n",
       "        vertical-align: top;\n",
       "    }\n",
       "\n",
       "    .dataframe thead th {\n",
       "        text-align: right;\n",
       "    }\n",
       "</style>\n",
       "<table border=\"1\" class=\"dataframe\">\n",
       "  <thead>\n",
       "    <tr style=\"text-align: right;\">\n",
       "      <th></th>\n",
       "      <th>code</th>\n",
       "      <th>severity</th>\n",
       "      <th>n</th>\n",
       "    </tr>\n",
       "  </thead>\n",
       "  <tbody>\n",
       "    <tr>\n",
       "      <th>0</th>\n",
       "      <td>missing_required_field</td>\n",
       "      <td>ERROR</td>\n",
       "      <td>137</td>\n",
       "    </tr>\n",
       "    <tr>\n",
       "      <th>1</th>\n",
       "      <td>duplicate_fare_rule_zone_id_fields</td>\n",
       "      <td>ERROR</td>\n",
       "      <td>1</td>\n",
       "    </tr>\n",
       "  </tbody>\n",
       "</table>\n",
       "</div>"
      ],
      "text/plain": [
       "                                 code severity    n\n",
       "0              missing_required_field    ERROR  137\n",
       "1  duplicate_fare_rule_zone_id_fields    ERROR    1"
      ]
     },
     "metadata": {},
     "output_type": "display_data"
    }
   ],
   "source": [
    "if tbl_validation_notices.shape[0] == 0:\n",
    "    display(Markdown(\"No validation error observed in your feed.\"))\n",
    "else:    \n",
    "    display(tbl_validation_notices)"
   ]
  },
  {
   "cell_type": "markdown",
   "id": "31518820",
   "metadata": {
    "papermill": {
     "duration": 0.026277,
     "end_time": "2021-06-24T22:19:28.573183",
     "exception": false,
     "start_time": "2021-06-24T22:19:28.546906",
     "status": "completed"
    },
    "tags": []
   },
   "source": [
    "For more information about Cal-ITP, including the [Minimum GTFS Guidelines](https://dot.ca.gov/cal-itp/california-minimum-general-transit-feed-specification-gtfs-guidelines) and our [Transit Data Helpdesk](https://dot.ca.gov/programs/rail-and-mass-transportation/gtfs/helpdesk), contact [GTFSRT@dot.ca.gov](mailto:GTFSRT@dot.ca.gov)."
   ]
  }
 ],
 "metadata": {
  "kernelspec": {
   "display_name": "venv-calitp-py",
   "language": "python",
   "name": "venv-calitp-py"
  },
  "language_info": {
   "codemirror_mode": {
    "name": "ipython",
    "version": 3
   },
   "file_extension": ".py",
   "mimetype": "text/x-python",
   "name": "python",
   "nbconvert_exporter": "python",
   "pygments_lexer": "ipython3",
   "version": "3.8.5"
  },
  "papermill": {
   "default_parameters": {},
   "duration": 42.294749,
   "end_time": "2021-06-24T22:19:30.596285",
   "environment_variables": {},
   "exception": null,
   "input_path": "report.ipynb",
   "output_path": "output/300/report.ipynb",
   "parameters": {
    "CALITP_ITP_ID": 300,
    "CALITP_URL_NUMBER": 0,
    "DEBUG": false,
    "END_DATE": "2021-06-01",
    "START_DATE": "2021-05-01"
   },
   "start_time": "2021-06-24T22:18:48.301536",
   "version": "2.3.3"
  }
 },
 "nbformat": 4,
 "nbformat_minor": 5
}