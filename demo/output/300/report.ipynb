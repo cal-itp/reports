{
 "cells": [
  {
   "cell_type": "markdown",
   "id": "1ecee5c7",
   "metadata": {
    "papermill": {
     "duration": 0.015824,
     "end_time": "2021-06-23T00:35:09.294932",
     "exception": false,
     "start_time": "2021-06-23T00:35:09.279108",
     "status": "completed"
    },
    "tags": [
     "hide"
    ]
   },
   "source": [
    "# Setup"
   ]
  },
  {
   "cell_type": "code",
   "execution_count": 1,
   "id": "6b814aee",
   "metadata": {
    "execution": {
     "iopub.execute_input": "2021-06-23T00:35:09.342990Z",
     "iopub.status.busy": "2021-06-23T00:35:09.337279Z",
     "iopub.status.idle": "2021-06-23T00:35:15.693043Z",
     "shell.execute_reply": "2021-06-23T00:35:15.693529Z"
    },
    "papermill": {
     "duration": 6.383288,
     "end_time": "2021-06-23T00:35:15.693748",
     "exception": false,
     "start_time": "2021-06-23T00:35:09.310460",
     "status": "completed"
    },
    "tags": [
     "hide"
    ]
   },
   "outputs": [],
   "source": [
    "import pandas as pd\n",
    "\n",
    "from io import StringIO\n",
    "from calitp.tables import tbl\n",
    "from datetime import date\n",
    "from siuba import *\n",
    "from plotnine import *\n",
    "\n",
    "\n",
    "START_DATE = \"2021-05-01\"\n",
    "END_DATE = \"2021-06-01\"\n",
    "DATE_TODAY=date.today()\n",
    "\n",
    "WEEK_MARKERS = pd.date_range(START_DATE, END_DATE, freq=\"W\").astype(str).tolist()"
   ]
  },
  {
   "cell_type": "code",
   "execution_count": 2,
   "id": "735cd561",
   "metadata": {
    "execution": {
     "iopub.execute_input": "2021-06-23T00:35:15.736832Z",
     "iopub.status.busy": "2021-06-23T00:35:15.735597Z",
     "iopub.status.idle": "2021-06-23T00:35:15.744936Z",
     "shell.execute_reply": "2021-06-23T00:35:15.744179Z"
    },
    "papermill": {
     "duration": 0.035906,
     "end_time": "2021-06-23T00:35:15.745104",
     "exception": false,
     "start_time": "2021-06-23T00:35:15.709198",
     "status": "completed"
    },
    "tags": [
     "parameters",
     "hide"
    ]
   },
   "outputs": [],
   "source": [
    "CALITP_ITP_ID=389\n",
    "#CALITP_ITP_ID=45\n",
    "CALITP_URL_NUMBER=0"
   ]
  },
  {
   "cell_type": "code",
   "execution_count": 3,
   "id": "1a2757a4",
   "metadata": {
    "execution": {
     "iopub.execute_input": "2021-06-23T00:35:15.788882Z",
     "iopub.status.busy": "2021-06-23T00:35:15.788066Z",
     "iopub.status.idle": "2021-06-23T00:35:15.791065Z",
     "shell.execute_reply": "2021-06-23T00:35:15.791576Z"
    },
    "papermill": {
     "duration": 0.024822,
     "end_time": "2021-06-23T00:35:15.791764",
     "exception": false,
     "start_time": "2021-06-23T00:35:15.766942",
     "status": "completed"
    },
    "tags": [
     "injected-parameters"
    ]
   },
   "outputs": [],
   "source": [
    "# Parameters\n",
    "CALITP_ITP_ID = 300\n",
    "CALITP_URL_NUMBER = 0\n"
   ]
  },
  {
   "cell_type": "code",
   "execution_count": 4,
   "id": "4400c697",
   "metadata": {
    "execution": {
     "iopub.execute_input": "2021-06-23T00:35:15.836324Z",
     "iopub.status.busy": "2021-06-23T00:35:15.835373Z",
     "iopub.status.idle": "2021-06-23T00:35:15.838079Z",
     "shell.execute_reply": "2021-06-23T00:35:15.838518Z"
    },
    "papermill": {
     "duration": 0.033054,
     "end_time": "2021-06-23T00:35:15.838683",
     "exception": false,
     "start_time": "2021-06-23T00:35:15.805629",
     "status": "completed"
    },
    "tags": [
     "hide"
    ]
   },
   "outputs": [],
   "source": [
    "# Convenience functions ----\n",
    "\n",
    "filter_start = filter(\n",
    "    _.calitp_extracted_at <= START_DATE,\n",
    "    _.calitp_deleted_at.fillna(\"2099-01-01\") > START_DATE,\n",
    ")\n",
    "\n",
    "filter_end = filter(\n",
    "    _.calitp_extracted_at <= END_DATE,\n",
    "    _.calitp_deleted_at.fillna(\"2099-01-01\") > END_DATE,\n",
    ")\n",
    "\n",
    "filter_itp = filter(\n",
    "    _.calitp_itp_id == CALITP_ITP_ID, _.calitp_url_number == CALITP_URL_NUMBER\n",
    ")\n",
    "\n",
    "collect_to_dict = (\n",
    "    collect()\n",
    "    >> pipe(_.to_dict(orient=\"records\")[0])\n",
    ")\n",
    "\n",
    "\n",
    "select_rm_calitp = select(\n",
    "    -_.calitp_itp_id,\n",
    "    -_.calitp_url_number,\n",
    "    -_.calitp_hash,\n",
    "    -_.calitp_extracted_at,\n",
    "    -_.calitp_deleted_at,\n",
    ")\n",
    "\n",
    "\n",
    "def query_id_changes(start_table, end_table, id_vars):\n",
    "    \"\"\"Calculate id variables that are removed, added, or unchanged between tables.\n",
    "    \n",
    "    It works by adding a special column to each table, performing a full join,\n",
    "    then checking where the special column is null.\n",
    "    \"\"\"\n",
    "    sym_id_vars = [_[k] for k in id_vars]\n",
    "\n",
    "    is_in_start = start_table >> select(*id_vars) >> mutate(is_in_start=True)\n",
    "    is_in_end = end_table >> select(*id_vars) >> mutate(is_in_end=True)\n",
    "\n",
    "    baseline = start_table >> count(*id_vars) >> rename(n_baseline=\"n\")\n",
    "    tallies = (\n",
    "        is_in_start\n",
    "        >> full_join(_, is_in_end, id_vars)\n",
    "        >> count(*sym_id_vars, _.is_in_start, _.is_in_end)\n",
    "        >> mutate(\n",
    "            status=case_when(\n",
    "                _,\n",
    "                {\n",
    "                    _.is_in_end.isna(): \"Removed\",\n",
    "                    _.is_in_start.isna(): \"Added\",\n",
    "                    True: \"Unchanged\",\n",
    "                },\n",
    "            )\n",
    "        )\n",
    "        >> count(*sym_id_vars[:-1], _.status)\n",
    "        >> group_by(*sym_id_vars[:-1])\n",
    "        >> mutate(percent=_.n / _.n.sum())\n",
    "    )\n",
    "\n",
    "    return tallies"
   ]
  },
  {
   "cell_type": "code",
   "execution_count": 5,
   "id": "a144e1fa",
   "metadata": {
    "execution": {
     "iopub.execute_input": "2021-06-23T00:35:15.918237Z",
     "iopub.status.busy": "2021-06-23T00:35:15.904083Z",
     "iopub.status.idle": "2021-06-23T00:35:39.402720Z",
     "shell.execute_reply": "2021-06-23T00:35:39.402188Z"
    },
    "papermill": {
     "duration": 23.549117,
     "end_time": "2021-06-23T00:35:39.402897",
     "exception": false,
     "start_time": "2021-06-23T00:35:15.853780",
     "status": "completed"
    },
    "tags": [
     "hide"
    ]
   },
   "outputs": [],
   "source": [
    "# Data ====\n",
    "# 1. High level feed info ----\n",
    "feed_info = (\n",
    "    tbl.gtfs_schedule_type2.feed_info()\n",
    "    >> filter_end\n",
    "    >> filter_itp\n",
    "    >> select_rm_calitp\n",
    "    >> collect_to_dict\n",
    ")\n",
    "\n",
    "_n_routes = (\n",
    "    tbl.gtfs_schedule_type2.routes() >> filter_end >> filter_itp >> count() >> collect()\n",
    ")\n",
    "_n_stops = (\n",
    "    tbl.gtfs_schedule_type2.stops() >> filter_end >> filter_itp >> count() >> collect()\n",
    ")\n",
    "\n",
    "feed_info[\"n_routes\"] = int(_n_routes.loc[0, \"n\"])\n",
    "feed_info[\"n_stops\"] = int(_n_stops.loc[0, \"n\"])\n",
    "\n",
    "status = (\n",
    "    tbl.views.gtfs_status_latest()\n",
    "    >> filter(_.itp_id == CALITP_ITP_ID, _.url_number == CALITP_URL_NUMBER)\n",
    "    >> select(-_.url_number, -_.status)\n",
    "    >> select_rm_calitp\n",
    "    >> collect_to_dict\n",
    ")\n",
    "\n",
    "# 2. Monthly metrics ----\n",
    "# Service hours per day. Note that the queried table calculates service\n",
    "# hours per service id, so we need to sum across service ids for the day\n",
    "_cross_cal = (\n",
    "    tbl.views.dim_date()\n",
    "    >> filter(_.full_date.between(START_DATE, END_DATE))\n",
    "    >> select(_.service_date == _.full_date)\n",
    ")\n",
    "\n",
    "tbl_daily_service_hours = (\n",
    "    tbl.views.gtfs_schedule_service_daily_metrics()\n",
    "    >> filter_itp\n",
    "    >> filter(_.service_date.between(START_DATE, END_DATE))\n",
    "    >> right_join(_, _cross_cal, [\"service_date\"])\n",
    "    >> collect()\n",
    "    >> group_by(_.service_date)\n",
    "    >> summarize(ttl_service_hours=(_.last_arrival_ts.max() - _.first_departure_ts.min()) / 3600)\n",
    "    >> mutate(\n",
    "        ttl_service_hours=_.ttl_service_hours.astype(float).round(2),\n",
    "        service_date=_.service_date.astype(\"datetime64[ns]\"),\n",
    "    )\n",
    ")\n",
    "\n",
    "# number of days where a feed did not have any trips in service\n",
    "n_expired_days = (\n",
    "    tbl_daily_service_hours >> filter(_.ttl_service_hours.isna())\n",
    "    >> pipe(lambda d: {\"n\": d.shape[0]})\n",
    ")\n",
    "\n",
    "# 3. Stop and Route ID Changes ----\n",
    "\n",
    "_tbl_stops_start = tbl.gtfs_schedule_type2.stops() >> filter_itp >> filter_start\n",
    "_tbl_stops_end = tbl.gtfs_schedule_type2.stops() >> filter_itp >> filter_end\n",
    "tbl_stops_changed = (\n",
    "    query_id_changes(_tbl_stops_start, _tbl_stops_end, [\"stop_id\"]) >> collect()\n",
    ")\n",
    "\n",
    "_tbl_routes_start = tbl.gtfs_schedule_type2.routes() >> filter_start\n",
    "_tbl_routes_end = tbl.gtfs_schedule_type2.routes() >> filter_end\n",
    "tbl_routes_changed = (\n",
    "    query_id_changes(_tbl_routes_start, _tbl_routes_end, [\"route_id\"]) >> collect()\n",
    ")"
   ]
  },
  {
   "cell_type": "code",
   "execution_count": 6,
   "id": "ba28e0a7",
   "metadata": {
    "execution": {
     "iopub.execute_input": "2021-06-23T00:35:39.484350Z",
     "iopub.status.busy": "2021-06-23T00:35:39.482990Z",
     "iopub.status.idle": "2021-06-23T00:35:45.261569Z",
     "shell.execute_reply": "2021-06-23T00:35:45.261078Z"
    },
    "papermill": {
     "duration": 5.835646,
     "end_time": "2021-06-23T00:35:45.261717",
     "exception": false,
     "start_time": "2021-06-23T00:35:39.426071",
     "status": "completed"
    },
    "tags": [
     "hide"
    ]
   },
   "outputs": [
    {
     "name": "stdout",
     "output_type": "stream",
     "text": [
      "The history saving thread hit an unexpected error (OperationalError('database is locked')).History will not be written to the database.\n"
     ]
    }
   ],
   "source": [
    "# 4. Feed files being checked for ----\n",
    "\n",
    "file_categories = pd.DataFrame(\n",
    "    {\n",
    "        \"shapes.txt\": \"Visual display\",\n",
    "        \"pathways.txt\": \"Navigation\",\n",
    "        \"levels.txt\": \"Navigation\",\n",
    "        \"fare_rules.txt\": \"Fares\",\n",
    "        \"fare_leg_rules\": \"Fares\",\n",
    "        \"feed_info.txt\": \"Technical contacts\",\n",
    "    }.items(),\n",
    "    columns=[\"name\", \"category\"],\n",
    ")\n",
    "\n",
    "importance = [\"Visual display\", \"Navigation\", \"Fares\", \"Technical contacts\"]\n",
    "\n",
    "tbl_file_check = (\n",
    "    tbl.gtfs_schedule_history.calitp_files_updates()\n",
    "    >> filter_itp\n",
    "    >> filter(_.calitp_extracted_at.isin(WEEK_MARKERS))\n",
    "    >> select(_.name, _.calitp_extracted_at)\n",
    "    >> collect()\n",
    "    >> right_join(_, file_categories, [\"name\"])\n",
    "    >> mutate(\n",
    "        calitp_extracted_at=_.calitp_extracted_at.fillna(\"missing\").astype(str),\n",
    "        success=\"✅\",\n",
    "    )\n",
    "    >> spread(_.calitp_extracted_at, _.success)\n",
    "    >> select(-_.missing)\n",
    "    >> arrange(_.category.apply(importance.index))\n",
    "    >> select(_.category, _.contains(\"\"))\n",
    "    >> pipe(_.fillna(\"\"))\n",
    ")\n",
    "\n",
    "tbl_validation_notices = (\n",
    "    tbl.views.validation_notices()\n",
    "    >> filter_itp\n",
    "    >> filter(_.severity == \"ERROR\")\n",
    "    >> count(_.code, _.severity)\n",
    "    >> collect()\n",
    ")"
   ]
  },
  {
   "cell_type": "markdown",
   "id": "4ab88bfc",
   "metadata": {
    "papermill": {
     "duration": 0.015569,
     "end_time": "2021-06-23T00:35:45.293182",
     "exception": false,
     "start_time": "2021-06-23T00:35:45.277613",
     "status": "completed"
    },
    "tags": [
     "hide"
    ]
   },
   "source": [
    "## Dump data"
   ]
  },
  {
   "cell_type": "code",
   "execution_count": 7,
   "id": "ad9b9990",
   "metadata": {
    "execution": {
     "iopub.execute_input": "2021-06-23T00:35:45.341533Z",
     "iopub.status.busy": "2021-06-23T00:35:45.340230Z",
     "iopub.status.idle": "2021-06-23T00:35:45.364977Z",
     "shell.execute_reply": "2021-06-23T00:35:45.364353Z"
    },
    "papermill": {
     "duration": 0.049722,
     "end_time": "2021-06-23T00:35:45.365182",
     "exception": false,
     "start_time": "2021-06-23T00:35:45.315460",
     "status": "completed"
    },
    "tags": [
     "hide"
    ]
   },
   "outputs": [],
   "source": [
    "import json\n",
    "import shutil\n",
    "\n",
    "from pathlib import Path\n",
    "\n",
    "out_dir = Path(f\"output/{CALITP_ITP_ID}_{CALITP_URL_NUMBER}/data\")\n",
    "out_dir.mkdir(parents=True, exist_ok=True)\n",
    "\n",
    "json.dump(feed_info, open(out_dir / \"1_feed_info.json\", \"w\"))\n",
    "json.dump(status, open(out_dir / \"1_status.json\", \"w\"))\n",
    "\n",
    "tbl_daily_service_hours.to_json(out_dir / \"2_daily_service_hours.json\", orient=\"records\")\n",
    "json.dump(n_expired_days, open(out_dir / \"2_n_expired_days.json\", \"w\"))\n",
    "\n",
    "tbl_stops_changed.to_json(out_dir / \"3_stops_changed.json\", orient=\"records\")\n",
    "tbl_routes_changed.to_json(out_dir / \"3_routes_changed.json\", orient=\"records\")\n",
    "tbl_file_check.to_json(out_dir / \"4_file_check.json\", orient=\"records\")\n",
    "tbl_validation_notices.to_json(out_dir / \"4_validation_notices.json\", orient=\"records\")\n"
   ]
  },
  {
   "cell_type": "markdown",
   "id": "d899b140",
   "metadata": {
    "papermill": {
     "duration": 0.042916,
     "end_time": "2021-06-23T00:35:45.445180",
     "exception": false,
     "start_time": "2021-06-23T00:35:45.402264",
     "status": "completed"
    },
    "tags": []
   },
   "source": [
    "# GTFS Schedule Report"
   ]
  },
  {
   "cell_type": "markdown",
   "id": "2d799d3b",
   "metadata": {
    "papermill": {
     "duration": 0.018174,
     "end_time": "2021-06-23T00:35:45.505006",
     "exception": false,
     "start_time": "2021-06-23T00:35:45.486832",
     "status": "completed"
    },
    "tags": []
   },
   "source": [
    "# Example Juniper Report"
   ]
  },
  {
   "cell_type": "code",
   "execution_count": 8,
   "id": "dee326f6",
   "metadata": {
    "execution": {
     "iopub.execute_input": "2021-06-23T00:35:45.601161Z",
     "iopub.status.busy": "2021-06-23T00:35:45.596700Z",
     "iopub.status.idle": "2021-06-23T00:35:45.604036Z",
     "shell.execute_reply": "2021-06-23T00:35:45.600125Z"
    },
    "papermill": {
     "duration": 0.075758,
     "end_time": "2021-06-23T00:35:45.604304",
     "exception": false,
     "start_time": "2021-06-23T00:35:45.528546",
     "status": "completed"
    },
    "tags": []
   },
   "outputs": [
    {
     "data": {
      "text/markdown": [
       "\n",
       "Transit provider name: Big Blue Bus\n",
       "\n",
       "Date generated: 2021-06-22\n"
      ],
      "text/plain": [
       "<IPython.core.display.Markdown object>"
      ]
     },
     "execution_count": 8,
     "metadata": {},
     "output_type": "execute_result"
    }
   ],
   "source": [
    "from IPython.display import Markdown\n",
    "\n",
    "Markdown(f\"\"\"\n",
    "Transit provider name: {feed_info[\"feed_publisher_name\"]}\n",
    "\n",
    "Date generated: {DATE_TODAY}\n",
    "\"\"\")"
   ]
  },
  {
   "cell_type": "markdown",
   "id": "e774c55f",
   "metadata": {
    "papermill": {
     "duration": 0.033558,
     "end_time": "2021-06-23T00:35:45.679227",
     "exception": false,
     "start_time": "2021-06-23T00:35:45.645669",
     "status": "completed"
    },
    "tags": []
   },
   "source": [
    "This is a monthly report, generated by the California Integrated Travel Project (Cal-ITP), summarizing issues discovered by MobilityData’s GTFS Validator. This report is available for viewing by the general public to support continuous improvement of GTFS data and the experience of transit passengers. "
   ]
  },
  {
   "cell_type": "markdown",
   "id": "6b4bcd1e",
   "metadata": {
    "papermill": {
     "duration": 0.038751,
     "end_time": "2021-06-23T00:35:45.772480",
     "exception": false,
     "start_time": "2021-06-23T00:35:45.733729",
     "status": "completed"
    },
    "tags": []
   },
   "source": [
    "## Overview"
   ]
  },
  {
   "cell_type": "code",
   "execution_count": 9,
   "id": "57fc47e2",
   "metadata": {
    "execution": {
     "iopub.execute_input": "2021-06-23T00:35:45.906987Z",
     "iopub.status.busy": "2021-06-23T00:35:45.905226Z",
     "iopub.status.idle": "2021-06-23T00:35:45.920315Z",
     "shell.execute_reply": "2021-06-23T00:35:45.906170Z"
    },
    "papermill": {
     "duration": 0.088491,
     "end_time": "2021-06-23T00:35:45.920634",
     "exception": false,
     "start_time": "2021-06-23T00:35:45.832143",
     "status": "completed"
    },
    "tags": []
   },
   "outputs": [
    {
     "data": {
      "text/markdown": [
       "\n",
       "Feed location: http://gtfs.bigbluebus.com/current.zip\n",
       "\n",
       "Metrics for the most recent published version of the feed:\n",
       "\n",
       "* Date published: 2021-04(Apr)_v2_20210322\n",
       "* Number of routes in any service: 20\n",
       "* Number of stops in service: 866\n"
      ],
      "text/plain": [
       "<IPython.core.display.Markdown object>"
      ]
     },
     "execution_count": 9,
     "metadata": {},
     "output_type": "execute_result"
    }
   ],
   "source": [
    "Markdown(f\"\"\"\n",
    "Feed location: {status[\"gtfs_schedule_url\"]}\n",
    "\n",
    "Metrics for the most recent published version of the feed:\n",
    "\n",
    "* Date published: {feed_info[\"feed_version\"]}\n",
    "* Number of routes in any service: {feed_info[\"n_routes\"]}\n",
    "* Number of stops in service: {feed_info[\"n_stops\"]}\n",
    "\"\"\")"
   ]
  },
  {
   "cell_type": "markdown",
   "id": "a3c37b6a",
   "metadata": {
    "papermill": {
     "duration": 0.04502,
     "end_time": "2021-06-23T00:35:46.035967",
     "exception": false,
     "start_time": "2021-06-23T00:35:45.990947",
     "status": "completed"
    },
    "tags": []
   },
   "source": [
    "## Aggregated Metrics for May"
   ]
  },
  {
   "cell_type": "code",
   "execution_count": 10,
   "id": "1c80855e",
   "metadata": {
    "execution": {
     "iopub.execute_input": "2021-06-23T00:35:46.166737Z",
     "iopub.status.busy": "2021-06-23T00:35:46.164921Z",
     "iopub.status.idle": "2021-06-23T00:35:46.169425Z",
     "shell.execute_reply": "2021-06-23T00:35:46.168939Z"
    },
    "papermill": {
     "duration": 0.095202,
     "end_time": "2021-06-23T00:35:46.169563",
     "exception": false,
     "start_time": "2021-06-23T00:35:46.074361",
     "status": "completed"
    },
    "tags": []
   },
   "outputs": [
    {
     "data": {
      "text/markdown": [
       "\n",
       "Days when the active feed was expired: 12\n"
      ],
      "text/plain": [
       "<IPython.core.display.Markdown object>"
      ]
     },
     "execution_count": 10,
     "metadata": {},
     "output_type": "execute_result"
    }
   ],
   "source": [
    "Markdown(f\"\"\"\n",
    "Days when the active feed was expired: {n_expired_days[\"n\"]}\n",
    "\"\"\")"
   ]
  },
  {
   "cell_type": "code",
   "execution_count": 11,
   "id": "5bb43be6",
   "metadata": {
    "execution": {
     "iopub.execute_input": "2021-06-23T00:35:46.364471Z",
     "iopub.status.busy": "2021-06-23T00:35:46.362958Z",
     "iopub.status.idle": "2021-06-23T00:35:46.860261Z",
     "shell.execute_reply": "2021-06-23T00:35:46.861102Z"
    },
    "papermill": {
     "duration": 0.616223,
     "end_time": "2021-06-23T00:35:46.861384",
     "exception": false,
     "start_time": "2021-06-23T00:35:46.245161",
     "status": "completed"
    },
    "tags": []
   },
   "outputs": [
    {
     "name": "stderr",
     "output_type": "stream",
     "text": [
      "/Users/machow/.virtualenvs/calitp-py/lib/python3.8/site-packages/plotnine/geoms/geom_path.py:75: PlotnineWarning: geom_path: Removed 12 rows containing missing values.\n",
      "/Users/machow/.virtualenvs/calitp-py/lib/python3.8/site-packages/plotnine/layer.py:401: PlotnineWarning: geom_point : Removed 12 rows containing missing values.\n"
     ]
    },
    {
     "data": {
      "image/png": "[encoded data removed]",
      "text/plain": [
       "<Figure size 640x480 with 1 Axes>"
      ]
     },
     "metadata": {},
     "output_type": "display_data"
    },
    {
     "data": {
      "text/plain": [
       "<ggplot: (302603496)>"
      ]
     },
     "execution_count": 11,
     "metadata": {},
     "output_type": "execute_result"
    }
   ],
   "source": [
    "(\n",
    "    tbl_daily_service_hours\n",
    "    >> ggplot(aes(\"service_date\", \"ttl_service_hours\"))\n",
    "    + geom_line()\n",
    "    + geom_point()\n",
    "    + theme(axis_text_x=element_text(angle=45, hjust=1))\n",
    "    + scale_x_datetime(date_breaks=\"1 week\")\n",
    "    + expand_limits(y=0)\n",
    ")"
   ]
  },
  {
   "cell_type": "markdown",
   "id": "c6df8de4",
   "metadata": {
    "papermill": {
     "duration": 0.062197,
     "end_time": "2021-06-23T00:35:46.953309",
     "exception": false,
     "start_time": "2021-06-23T00:35:46.891112",
     "status": "completed"
    },
    "tags": []
   },
   "source": [
    "## Changes Since Previous Month"
   ]
  },
  {
   "cell_type": "code",
   "execution_count": 12,
   "id": "407cf53a",
   "metadata": {
    "execution": {
     "iopub.execute_input": "2021-06-23T00:35:47.022484Z",
     "iopub.status.busy": "2021-06-23T00:35:47.018345Z",
     "iopub.status.idle": "2021-06-23T00:35:47.839850Z",
     "shell.execute_reply": "2021-06-23T00:35:47.840750Z"
    },
    "papermill": {
     "duration": 0.856357,
     "end_time": "2021-06-23T00:35:47.841074",
     "exception": false,
     "start_time": "2021-06-23T00:35:46.984717",
     "status": "completed"
    },
    "tags": []
   },
   "outputs": [
    {
     "data": {
      "image/png": "[encoded data removed]",
      "text/plain": [
       "<Figure size 640x480 with 1 Axes>"
      ]
     },
     "metadata": {},
     "output_type": "display_data"
    },
    {
     "data": {
      "text/plain": [
       "<ggplot: (302645224)>"
      ]
     },
     "execution_count": 12,
     "metadata": {},
     "output_type": "execute_result"
    }
   ],
   "source": [
    "(\n",
    "    pd.concat(\n",
    "        [\n",
    "            tbl_stops_changed >> mutate(kind=\"Stops\"),\n",
    "            tbl_routes_changed >> mutate(kind=\"Routes\"),\n",
    "        ]\n",
    "    )\n",
    "    >> ggplot(aes(\"kind\", \"n\", fill=\"status\"))\n",
    "    + geom_col()\n",
    "    + labs(x=\"Kind of ID\", y=\"Number of Changes\")\n",
    ")"
   ]
  },
  {
   "cell_type": "markdown",
   "id": "48d1dd9c",
   "metadata": {
    "papermill": {
     "duration": 0.166143,
     "end_time": "2021-06-23T00:35:48.076197",
     "exception": false,
     "start_time": "2021-06-23T00:35:47.910054",
     "status": "completed"
    },
    "tags": []
   },
   "source": [
    "### (Alternative version using percentages)"
   ]
  },
  {
   "cell_type": "code",
   "execution_count": 13,
   "id": "9b352b61",
   "metadata": {
    "execution": {
     "iopub.execute_input": "2021-06-23T00:35:48.353436Z",
     "iopub.status.busy": "2021-06-23T00:35:48.328063Z",
     "iopub.status.idle": "2021-06-23T00:35:49.134031Z",
     "shell.execute_reply": "2021-06-23T00:35:49.136770Z"
    },
    "papermill": {
     "duration": 0.907246,
     "end_time": "2021-06-23T00:35:49.137296",
     "exception": false,
     "start_time": "2021-06-23T00:35:48.230050",
     "status": "completed"
    },
    "tags": []
   },
   "outputs": [
    {
     "data": {
      "image/png": "[encoded data removed]",
      "text/plain": [
       "<Figure size 640x480 with 1 Axes>"
      ]
     },
     "metadata": {},
     "output_type": "display_data"
    },
    {
     "data": {
      "text/plain": [
       "<ggplot: (302875450)>"
      ]
     },
     "execution_count": 13,
     "metadata": {},
     "output_type": "execute_result"
    }
   ],
   "source": [
    "(\n",
    "    pd.concat(\n",
    "        [\n",
    "            tbl_stops_changed >> mutate(kind=\"Stops\"),\n",
    "            tbl_routes_changed >> mutate(kind=\"Routes\"),\n",
    "        ]\n",
    "    )\n",
    "    >> ggplot(aes(\"kind\", \"percent\", fill=\"status\"))\n",
    "    + geom_col()\n",
    "    + labs(x=\"Kind of ID\", y=\"Percent of Changes\")\n",
    ")"
   ]
  },
  {
   "cell_type": "markdown",
   "id": "a565de39",
   "metadata": {
    "papermill": {
     "duration": 0.097521,
     "end_time": "2021-06-23T00:35:49.276005",
     "exception": false,
     "start_time": "2021-06-23T00:35:49.178484",
     "status": "completed"
    },
    "tags": []
   },
   "source": [
    "## Consistency with the California GTFS Minimum Guidelines for the feed downloaded\n"
   ]
  },
  {
   "cell_type": "code",
   "execution_count": 14,
   "id": "8010a72f",
   "metadata": {
    "execution": {
     "iopub.execute_input": "2021-06-23T00:35:49.563989Z",
     "iopub.status.busy": "2021-06-23T00:35:49.562094Z",
     "iopub.status.idle": "2021-06-23T00:35:49.588713Z",
     "shell.execute_reply": "2021-06-23T00:35:49.587878Z"
    },
    "papermill": {
     "duration": 0.197522,
     "end_time": "2021-06-23T00:35:49.588950",
     "exception": false,
     "start_time": "2021-06-23T00:35:49.391428",
     "status": "completed"
    },
    "tags": []
   },
   "outputs": [
    {
     "data": {
      "text/html": [
       "<div>\n",
       "<style scoped>\n",
       "    .dataframe tbody tr th:only-of-type {\n",
       "        vertical-align: middle;\n",
       "    }\n",
       "\n",
       "    .dataframe tbody tr th {\n",
       "        vertical-align: top;\n",
       "    }\n",
       "\n",
       "    .dataframe thead th {\n",
       "        text-align: right;\n",
       "    }\n",
       "</style>\n",
       "<table border=\"1\" class=\"dataframe\">\n",
       "  <thead>\n",
       "    <tr style=\"text-align: right;\">\n",
       "      <th></th>\n",
       "      <th>category</th>\n",
       "      <th>name</th>\n",
       "      <th>2021-05-16</th>\n",
       "      <th>2021-05-23</th>\n",
       "      <th>2021-05-30</th>\n",
       "    </tr>\n",
       "  </thead>\n",
       "  <tbody>\n",
       "    <tr>\n",
       "      <th>5</th>\n",
       "      <td>Visual display</td>\n",
       "      <td>shapes.txt</td>\n",
       "      <td>✅</td>\n",
       "      <td>✅</td>\n",
       "      <td>✅</td>\n",
       "    </tr>\n",
       "    <tr>\n",
       "      <th>3</th>\n",
       "      <td>Navigation</td>\n",
       "      <td>levels.txt</td>\n",
       "      <td></td>\n",
       "      <td></td>\n",
       "      <td></td>\n",
       "    </tr>\n",
       "    <tr>\n",
       "      <th>4</th>\n",
       "      <td>Navigation</td>\n",
       "      <td>pathways.txt</td>\n",
       "      <td></td>\n",
       "      <td></td>\n",
       "      <td></td>\n",
       "    </tr>\n",
       "    <tr>\n",
       "      <th>0</th>\n",
       "      <td>Fares</td>\n",
       "      <td>fare_leg_rules</td>\n",
       "      <td></td>\n",
       "      <td></td>\n",
       "      <td></td>\n",
       "    </tr>\n",
       "    <tr>\n",
       "      <th>1</th>\n",
       "      <td>Fares</td>\n",
       "      <td>fare_rules.txt</td>\n",
       "      <td>✅</td>\n",
       "      <td>✅</td>\n",
       "      <td>✅</td>\n",
       "    </tr>\n",
       "    <tr>\n",
       "      <th>2</th>\n",
       "      <td>Technical contacts</td>\n",
       "      <td>feed_info.txt</td>\n",
       "      <td>✅</td>\n",
       "      <td>✅</td>\n",
       "      <td>✅</td>\n",
       "    </tr>\n",
       "  </tbody>\n",
       "</table>\n",
       "</div>"
      ],
      "text/plain": [
       "             category            name 2021-05-16 2021-05-23 2021-05-30\n",
       "5      Visual display      shapes.txt          ✅          ✅          ✅\n",
       "3          Navigation      levels.txt                                 \n",
       "4          Navigation    pathways.txt                                 \n",
       "0               Fares  fare_leg_rules                                 \n",
       "1               Fares  fare_rules.txt          ✅          ✅          ✅\n",
       "2  Technical contacts   feed_info.txt          ✅          ✅          ✅"
      ]
     },
     "execution_count": 14,
     "metadata": {},
     "output_type": "execute_result"
    }
   ],
   "source": [
    "tbl_file_check"
   ]
  },
  {
   "cell_type": "markdown",
   "id": "80e401a9",
   "metadata": {
    "papermill": {
     "duration": 0.150137,
     "end_time": "2021-06-23T00:35:49.827172",
     "exception": false,
     "start_time": "2021-06-23T00:35:49.677035",
     "status": "completed"
    },
    "tags": []
   },
   "source": [
    "### Validation Errors Observed"
   ]
  },
  {
   "cell_type": "code",
   "execution_count": 15,
   "id": "254fe3c4",
   "metadata": {
    "execution": {
     "iopub.execute_input": "2021-06-23T00:35:50.210437Z",
     "iopub.status.busy": "2021-06-23T00:35:50.208269Z",
     "iopub.status.idle": "2021-06-23T00:35:50.213128Z",
     "shell.execute_reply": "2021-06-23T00:35:50.209440Z"
    },
    "papermill": {
     "duration": 0.188828,
     "end_time": "2021-06-23T00:35:50.213997",
     "exception": false,
     "start_time": "2021-06-23T00:35:50.025169",
     "status": "completed"
    },
    "tags": []
   },
   "outputs": [
    {
     "data": {
      "text/html": [
       "<div>\n",
       "<style scoped>\n",
       "    .dataframe tbody tr th:only-of-type {\n",
       "        vertical-align: middle;\n",
       "    }\n",
       "\n",
       "    .dataframe tbody tr th {\n",
       "        vertical-align: top;\n",
       "    }\n",
       "\n",
       "    .dataframe thead th {\n",
       "        text-align: right;\n",
       "    }\n",
       "</style>\n",
       "<table border=\"1\" class=\"dataframe\">\n",
       "  <thead>\n",
       "    <tr style=\"text-align: right;\">\n",
       "      <th></th>\n",
       "      <th>code</th>\n",
       "      <th>severity</th>\n",
       "      <th>n</th>\n",
       "    </tr>\n",
       "  </thead>\n",
       "  <tbody>\n",
       "    <tr>\n",
       "      <th>0</th>\n",
       "      <td>missing_required_field</td>\n",
       "      <td>ERROR</td>\n",
       "      <td>137</td>\n",
       "    </tr>\n",
       "    <tr>\n",
       "      <th>1</th>\n",
       "      <td>duplicate_fare_rule_zone_id_fields</td>\n",
       "      <td>ERROR</td>\n",
       "      <td>1</td>\n",
       "    </tr>\n",
       "  </tbody>\n",
       "</table>\n",
       "</div>"
      ],
      "text/plain": [
       "                                 code severity    n\n",
       "0              missing_required_field    ERROR  137\n",
       "1  duplicate_fare_rule_zone_id_fields    ERROR    1"
      ]
     },
     "execution_count": 15,
     "metadata": {},
     "output_type": "execute_result"
    }
   ],
   "source": [
    "tbl_validation_notices"
   ]
  }
 ],
 "metadata": {
  "kernelspec": {
   "display_name": "venv-calitp-py",
   "language": "python",
   "name": "venv-calitp-py"
  },
  "language_info": {
   "codemirror_mode": {
    "name": "ipython",
    "version": 3
   },
   "file_extension": ".py",
   "mimetype": "text/x-python",
   "name": "python",
   "nbconvert_exporter": "python",
   "pygments_lexer": "ipython3",
   "version": "3.8.5"
  },
  "papermill": {
   "default_parameters": {},
   "duration": 44.380654,
   "end_time": "2021-06-23T00:35:52.344619",
   "environment_variables": {},
   "exception": null,
   "input_path": "report.ipynb",
   "output_path": "output/300/report.ipynb",
   "parameters": {
    "CALITP_ITP_ID": 300,
    "CALITP_URL_NUMBER": 0
   },
   "start_time": "2021-06-23T00:35:07.963965",
   "version": "2.3.3"
  }
 },
 "nbformat": 4,
 "nbformat_minor": 5
}