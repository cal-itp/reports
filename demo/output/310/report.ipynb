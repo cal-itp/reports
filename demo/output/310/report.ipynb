{
 "cells": [
  {
   "cell_type": "markdown",
   "id": "326b97d0",
   "metadata": {
    "papermill": {
     "duration": 0.025413,
     "end_time": "2021-06-23T00:35:47.978024",
     "exception": false,
     "start_time": "2021-06-23T00:35:47.952611",
     "status": "completed"
    },
    "tags": [
     "hide"
    ]
   },
   "source": [
    "# Setup"
   ]
  },
  {
   "cell_type": "code",
   "execution_count": 1,
   "id": "0466faac",
   "metadata": {
    "execution": {
     "iopub.execute_input": "2021-06-23T00:35:48.094063Z",
     "iopub.status.busy": "2021-06-23T00:35:48.092572Z",
     "iopub.status.idle": "2021-06-23T00:35:58.952565Z",
     "shell.execute_reply": "2021-06-23T00:35:58.954031Z"
    },
    "papermill": {
     "duration": 10.924392,
     "end_time": "2021-06-23T00:35:58.954775",
     "exception": false,
     "start_time": "2021-06-23T00:35:48.030383",
     "status": "completed"
    },
    "tags": [
     "hide"
    ]
   },
   "outputs": [],
   "source": [
    "import pandas as pd\n",
    "\n",
    "from io import StringIO\n",
    "from calitp.tables import tbl\n",
    "from datetime import date\n",
    "from siuba import *\n",
    "from plotnine import *\n",
    "\n",
    "\n",
    "START_DATE = \"2021-05-01\"\n",
    "END_DATE = \"2021-06-01\"\n",
    "DATE_TODAY=date.today()\n",
    "\n",
    "WEEK_MARKERS = pd.date_range(START_DATE, END_DATE, freq=\"W\").astype(str).tolist()"
   ]
  },
  {
   "cell_type": "code",
   "execution_count": 2,
   "id": "5ab17d28",
   "metadata": {
    "execution": {
     "iopub.execute_input": "2021-06-23T00:35:59.042210Z",
     "iopub.status.busy": "2021-06-23T00:35:59.038835Z",
     "iopub.status.idle": "2021-06-23T00:35:59.048806Z",
     "shell.execute_reply": "2021-06-23T00:35:59.049960Z"
    },
    "papermill": {
     "duration": 0.056235,
     "end_time": "2021-06-23T00:35:59.050276",
     "exception": false,
     "start_time": "2021-06-23T00:35:58.994041",
     "status": "completed"
    },
    "tags": [
     "parameters",
     "hide"
    ]
   },
   "outputs": [],
   "source": [
    "CALITP_ITP_ID=389\n",
    "#CALITP_ITP_ID=45\n",
    "CALITP_URL_NUMBER=0"
   ]
  },
  {
   "cell_type": "code",
   "execution_count": 3,
   "id": "f980f882",
   "metadata": {
    "execution": {
     "iopub.execute_input": "2021-06-23T00:35:59.121508Z",
     "iopub.status.busy": "2021-06-23T00:35:59.119075Z",
     "iopub.status.idle": "2021-06-23T00:35:59.123259Z",
     "shell.execute_reply": "2021-06-23T00:35:59.124079Z"
    },
    "papermill": {
     "duration": 0.047737,
     "end_time": "2021-06-23T00:35:59.124397",
     "exception": false,
     "start_time": "2021-06-23T00:35:59.076660",
     "status": "completed"
    },
    "tags": [
     "injected-parameters"
    ]
   },
   "outputs": [],
   "source": [
    "# Parameters\n",
    "CALITP_ITP_ID = 310\n",
    "CALITP_URL_NUMBER = 0\n"
   ]
  },
  {
   "cell_type": "code",
   "execution_count": 4,
   "id": "bc90cba0",
   "metadata": {
    "execution": {
     "iopub.execute_input": "2021-06-23T00:35:59.242770Z",
     "iopub.status.busy": "2021-06-23T00:35:59.241487Z",
     "iopub.status.idle": "2021-06-23T00:35:59.263472Z",
     "shell.execute_reply": "2021-06-23T00:35:59.265454Z"
    },
    "papermill": {
     "duration": 0.108163,
     "end_time": "2021-06-23T00:35:59.265877",
     "exception": false,
     "start_time": "2021-06-23T00:35:59.157714",
     "status": "completed"
    },
    "tags": [
     "hide"
    ]
   },
   "outputs": [],
   "source": [
    "# Convenience functions ----\n",
    "\n",
    "filter_start = filter(\n",
    "    _.calitp_extracted_at <= START_DATE,\n",
    "    _.calitp_deleted_at.fillna(\"2099-01-01\") > START_DATE,\n",
    ")\n",
    "\n",
    "filter_end = filter(\n",
    "    _.calitp_extracted_at <= END_DATE,\n",
    "    _.calitp_deleted_at.fillna(\"2099-01-01\") > END_DATE,\n",
    ")\n",
    "\n",
    "filter_itp = filter(\n",
    "    _.calitp_itp_id == CALITP_ITP_ID, _.calitp_url_number == CALITP_URL_NUMBER\n",
    ")\n",
    "\n",
    "collect_to_dict = (\n",
    "    collect()\n",
    "    >> pipe(_.to_dict(orient=\"records\")[0])\n",
    ")\n",
    "\n",
    "\n",
    "select_rm_calitp = select(\n",
    "    -_.calitp_itp_id,\n",
    "    -_.calitp_url_number,\n",
    "    -_.calitp_hash,\n",
    "    -_.calitp_extracted_at,\n",
    "    -_.calitp_deleted_at,\n",
    ")\n",
    "\n",
    "\n",
    "def query_id_changes(start_table, end_table, id_vars):\n",
    "    \"\"\"Calculate id variables that are removed, added, or unchanged between tables.\n",
    "    \n",
    "    It works by adding a special column to each table, performing a full join,\n",
    "    then checking where the special column is null.\n",
    "    \"\"\"\n",
    "    sym_id_vars = [_[k] for k in id_vars]\n",
    "\n",
    "    is_in_start = start_table >> select(*id_vars) >> mutate(is_in_start=True)\n",
    "    is_in_end = end_table >> select(*id_vars) >> mutate(is_in_end=True)\n",
    "\n",
    "    baseline = start_table >> count(*id_vars) >> rename(n_baseline=\"n\")\n",
    "    tallies = (\n",
    "        is_in_start\n",
    "        >> full_join(_, is_in_end, id_vars)\n",
    "        >> count(*sym_id_vars, _.is_in_start, _.is_in_end)\n",
    "        >> mutate(\n",
    "            status=case_when(\n",
    "                _,\n",
    "                {\n",
    "                    _.is_in_end.isna(): \"Removed\",\n",
    "                    _.is_in_start.isna(): \"Added\",\n",
    "                    True: \"Unchanged\",\n",
    "                },\n",
    "            )\n",
    "        )\n",
    "        >> count(*sym_id_vars[:-1], _.status)\n",
    "        >> group_by(*sym_id_vars[:-1])\n",
    "        >> mutate(percent=_.n / _.n.sum())\n",
    "    )\n",
    "\n",
    "    return tallies"
   ]
  },
  {
   "cell_type": "code",
   "execution_count": 5,
   "id": "6c3df961",
   "metadata": {
    "execution": {
     "iopub.execute_input": "2021-06-23T00:35:59.415232Z",
     "iopub.status.busy": "2021-06-23T00:35:59.413110Z",
     "iopub.status.idle": "2021-06-23T00:36:25.876759Z",
     "shell.execute_reply": "2021-06-23T00:36:25.876223Z"
    },
    "papermill": {
     "duration": 26.538557,
     "end_time": "2021-06-23T00:36:25.876926",
     "exception": false,
     "start_time": "2021-06-23T00:35:59.338369",
     "status": "completed"
    },
    "tags": [
     "hide"
    ]
   },
   "outputs": [],
   "source": [
    "# Data ====\n",
    "# 1. High level feed info ----\n",
    "feed_info = (\n",
    "    tbl.gtfs_schedule_type2.feed_info()\n",
    "    >> filter_end\n",
    "    >> filter_itp\n",
    "    >> select_rm_calitp\n",
    "    >> collect_to_dict\n",
    ")\n",
    "\n",
    "_n_routes = (\n",
    "    tbl.gtfs_schedule_type2.routes() >> filter_end >> filter_itp >> count() >> collect()\n",
    ")\n",
    "_n_stops = (\n",
    "    tbl.gtfs_schedule_type2.stops() >> filter_end >> filter_itp >> count() >> collect()\n",
    ")\n",
    "\n",
    "feed_info[\"n_routes\"] = int(_n_routes.loc[0, \"n\"])\n",
    "feed_info[\"n_stops\"] = int(_n_stops.loc[0, \"n\"])\n",
    "\n",
    "status = (\n",
    "    tbl.views.gtfs_status_latest()\n",
    "    >> filter(_.itp_id == CALITP_ITP_ID, _.url_number == CALITP_URL_NUMBER)\n",
    "    >> select(-_.url_number, -_.status)\n",
    "    >> select_rm_calitp\n",
    "    >> collect_to_dict\n",
    ")\n",
    "\n",
    "# 2. Monthly metrics ----\n",
    "# Service hours per day. Note that the queried table calculates service\n",
    "# hours per service id, so we need to sum across service ids for the day\n",
    "_cross_cal = (\n",
    "    tbl.views.dim_date()\n",
    "    >> filter(_.full_date.between(START_DATE, END_DATE))\n",
    "    >> select(_.service_date == _.full_date)\n",
    ")\n",
    "\n",
    "tbl_daily_service_hours = (\n",
    "    tbl.views.gtfs_schedule_service_daily_metrics()\n",
    "    >> filter_itp\n",
    "    >> filter(_.service_date.between(START_DATE, END_DATE))\n",
    "    >> right_join(_, _cross_cal, [\"service_date\"])\n",
    "    >> collect()\n",
    "    >> group_by(_.service_date)\n",
    "    >> summarize(ttl_service_hours=(_.last_arrival_ts.max() - _.first_departure_ts.min()) / 3600)\n",
    "    >> mutate(\n",
    "        ttl_service_hours=_.ttl_service_hours.astype(float).round(2),\n",
    "        service_date=_.service_date.astype(\"datetime64[ns]\"),\n",
    "    )\n",
    ")\n",
    "\n",
    "# number of days where a feed did not have any trips in service\n",
    "n_expired_days = (\n",
    "    tbl_daily_service_hours >> filter(_.ttl_service_hours.isna())\n",
    "    >> pipe(lambda d: {\"n\": d.shape[0]})\n",
    ")\n",
    "\n",
    "# 3. Stop and Route ID Changes ----\n",
    "\n",
    "_tbl_stops_start = tbl.gtfs_schedule_type2.stops() >> filter_itp >> filter_start\n",
    "_tbl_stops_end = tbl.gtfs_schedule_type2.stops() >> filter_itp >> filter_end\n",
    "tbl_stops_changed = (\n",
    "    query_id_changes(_tbl_stops_start, _tbl_stops_end, [\"stop_id\"]) >> collect()\n",
    ")\n",
    "\n",
    "_tbl_routes_start = tbl.gtfs_schedule_type2.routes() >> filter_start\n",
    "_tbl_routes_end = tbl.gtfs_schedule_type2.routes() >> filter_end\n",
    "tbl_routes_changed = (\n",
    "    query_id_changes(_tbl_routes_start, _tbl_routes_end, [\"route_id\"]) >> collect()\n",
    ")"
   ]
  },
  {
   "cell_type": "code",
   "execution_count": 6,
   "id": "266ecf0a",
   "metadata": {
    "execution": {
     "iopub.execute_input": "2021-06-23T00:36:25.931445Z",
     "iopub.status.busy": "2021-06-23T00:36:25.930239Z",
     "iopub.status.idle": "2021-06-23T00:36:31.360871Z",
     "shell.execute_reply": "2021-06-23T00:36:31.360368Z"
    },
    "papermill": {
     "duration": 5.467927,
     "end_time": "2021-06-23T00:36:31.361017",
     "exception": false,
     "start_time": "2021-06-23T00:36:25.893090",
     "status": "completed"
    },
    "tags": [
     "hide"
    ]
   },
   "outputs": [],
   "source": [
    "# 4. Feed files being checked for ----\n",
    "\n",
    "file_categories = pd.DataFrame(\n",
    "    {\n",
    "        \"shapes.txt\": \"Visual display\",\n",
    "        \"pathways.txt\": \"Navigation\",\n",
    "        \"levels.txt\": \"Navigation\",\n",
    "        \"fare_rules.txt\": \"Fares\",\n",
    "        \"fare_leg_rules\": \"Fares\",\n",
    "        \"feed_info.txt\": \"Technical contacts\",\n",
    "    }.items(),\n",
    "    columns=[\"name\", \"category\"],\n",
    ")\n",
    "\n",
    "importance = [\"Visual display\", \"Navigation\", \"Fares\", \"Technical contacts\"]\n",
    "\n",
    "tbl_file_check = (\n",
    "    tbl.gtfs_schedule_history.calitp_files_updates()\n",
    "    >> filter_itp\n",
    "    >> filter(_.calitp_extracted_at.isin(WEEK_MARKERS))\n",
    "    >> select(_.name, _.calitp_extracted_at)\n",
    "    >> collect()\n",
    "    >> right_join(_, file_categories, [\"name\"])\n",
    "    >> mutate(\n",
    "        calitp_extracted_at=_.calitp_extracted_at.fillna(\"missing\").astype(str),\n",
    "        success=\"✅\",\n",
    "    )\n",
    "    >> spread(_.calitp_extracted_at, _.success)\n",
    "    >> select(-_.missing)\n",
    "    >> arrange(_.category.apply(importance.index))\n",
    "    >> select(_.category, _.contains(\"\"))\n",
    "    >> pipe(_.fillna(\"\"))\n",
    ")\n",
    "\n",
    "tbl_validation_notices = (\n",
    "    tbl.views.validation_notices()\n",
    "    >> filter_itp\n",
    "    >> filter(_.severity == \"ERROR\")\n",
    "    >> count(_.code, _.severity)\n",
    "    >> collect()\n",
    ")"
   ]
  },
  {
   "cell_type": "markdown",
   "id": "e5a42090",
   "metadata": {
    "papermill": {
     "duration": 0.015369,
     "end_time": "2021-06-23T00:36:31.393890",
     "exception": false,
     "start_time": "2021-06-23T00:36:31.378521",
     "status": "completed"
    },
    "tags": [
     "hide"
    ]
   },
   "source": [
    "## Dump data"
   ]
  },
  {
   "cell_type": "code",
   "execution_count": 7,
   "id": "f591188c",
   "metadata": {
    "execution": {
     "iopub.execute_input": "2021-06-23T00:36:31.451820Z",
     "iopub.status.busy": "2021-06-23T00:36:31.451164Z",
     "iopub.status.idle": "2021-06-23T00:36:31.460576Z",
     "shell.execute_reply": "2021-06-23T00:36:31.460110Z"
    },
    "papermill": {
     "duration": 0.040092,
     "end_time": "2021-06-23T00:36:31.460715",
     "exception": false,
     "start_time": "2021-06-23T00:36:31.420623",
     "status": "completed"
    },
    "tags": [
     "hide"
    ]
   },
   "outputs": [],
   "source": [
    "import json\n",
    "import shutil\n",
    "\n",
    "from pathlib import Path\n",
    "\n",
    "out_dir = Path(f\"output/{CALITP_ITP_ID}_{CALITP_URL_NUMBER}/data\")\n",
    "out_dir.mkdir(parents=True, exist_ok=True)\n",
    "\n",
    "json.dump(feed_info, open(out_dir / \"1_feed_info.json\", \"w\"))\n",
    "json.dump(status, open(out_dir / \"1_status.json\", \"w\"))\n",
    "\n",
    "tbl_daily_service_hours.to_json(out_dir / \"2_daily_service_hours.json\", orient=\"records\")\n",
    "json.dump(n_expired_days, open(out_dir / \"2_n_expired_days.json\", \"w\"))\n",
    "\n",
    "tbl_stops_changed.to_json(out_dir / \"3_stops_changed.json\", orient=\"records\")\n",
    "tbl_routes_changed.to_json(out_dir / \"3_routes_changed.json\", orient=\"records\")\n",
    "tbl_file_check.to_json(out_dir / \"4_file_check.json\", orient=\"records\")\n",
    "tbl_validation_notices.to_json(out_dir / \"4_validation_notices.json\", orient=\"records\")\n"
   ]
  },
  {
   "cell_type": "markdown",
   "id": "637961ba",
   "metadata": {
    "papermill": {
     "duration": 0.014881,
     "end_time": "2021-06-23T00:36:31.491603",
     "exception": false,
     "start_time": "2021-06-23T00:36:31.476722",
     "status": "completed"
    },
    "tags": []
   },
   "source": [
    "# GTFS Schedule Report"
   ]
  },
  {
   "cell_type": "markdown",
   "id": "6953c580",
   "metadata": {
    "papermill": {
     "duration": 0.016474,
     "end_time": "2021-06-23T00:36:31.524175",
     "exception": false,
     "start_time": "2021-06-23T00:36:31.507701",
     "status": "completed"
    },
    "tags": []
   },
   "source": [
    "# Example Juniper Report"
   ]
  },
  {
   "cell_type": "code",
   "execution_count": 8,
   "id": "9b7dcd3b",
   "metadata": {
    "execution": {
     "iopub.execute_input": "2021-06-23T00:36:31.568701Z",
     "iopub.status.busy": "2021-06-23T00:36:31.568149Z",
     "iopub.status.idle": "2021-06-23T00:36:37.179348Z",
     "shell.execute_reply": "2021-06-23T00:36:37.180744Z"
    },
    "papermill": {
     "duration": 5.631621,
     "end_time": "2021-06-23T00:36:37.181040",
     "exception": false,
     "start_time": "2021-06-23T00:36:31.549419",
     "status": "completed"
    },
    "tags": []
   },
   "outputs": [
    {
     "name": "stdout",
     "output_type": "stream",
     "text": [
      "The history saving thread hit an unexpected error (OperationalError('database is locked')).History will not be written to the database."
     ]
    },
    {
     "data": {
      "text/markdown": [
       "\n",
       "Transit provider name: Trillium Solutions, Inc.\n",
       "\n",
       "Date generated: 2021-06-22\n"
      ],
      "text/plain": [
       "<IPython.core.display.Markdown object>"
      ]
     },
     "execution_count": 8,
     "metadata": {},
     "output_type": "execute_result"
    },
    {
     "name": "stdout",
     "output_type": "stream",
     "text": [
      "\n"
     ]
    }
   ],
   "source": [
    "from IPython.display import Markdown\n",
    "\n",
    "Markdown(f\"\"\"\n",
    "Transit provider name: {feed_info[\"feed_publisher_name\"]}\n",
    "\n",
    "Date generated: {DATE_TODAY}\n",
    "\"\"\")"
   ]
  },
  {
   "cell_type": "markdown",
   "id": "a2fe7868",
   "metadata": {
    "papermill": {
     "duration": 0.035647,
     "end_time": "2021-06-23T00:36:37.239528",
     "exception": false,
     "start_time": "2021-06-23T00:36:37.203881",
     "status": "completed"
    },
    "tags": []
   },
   "source": [
    "This is a monthly report, generated by the California Integrated Travel Project (Cal-ITP), summarizing issues discovered by MobilityData’s GTFS Validator. This report is available for viewing by the general public to support continuous improvement of GTFS data and the experience of transit passengers. "
   ]
  },
  {
   "cell_type": "markdown",
   "id": "9ec4cbd2",
   "metadata": {
    "papermill": {
     "duration": 0.048562,
     "end_time": "2021-06-23T00:36:37.333116",
     "exception": false,
     "start_time": "2021-06-23T00:36:37.284554",
     "status": "completed"
    },
    "tags": []
   },
   "source": [
    "## Overview"
   ]
  },
  {
   "cell_type": "code",
   "execution_count": 9,
   "id": "49ca68e8",
   "metadata": {
    "execution": {
     "iopub.execute_input": "2021-06-23T00:36:37.619417Z",
     "iopub.status.busy": "2021-06-23T00:36:37.580834Z",
     "iopub.status.idle": "2021-06-23T00:36:37.635446Z",
     "shell.execute_reply": "2021-06-23T00:36:37.608281Z"
    },
    "papermill": {
     "duration": 0.187479,
     "end_time": "2021-06-23T00:36:37.635729",
     "exception": false,
     "start_time": "2021-06-23T00:36:37.448250",
     "status": "completed"
    },
    "tags": []
   },
   "outputs": [
    {
     "data": {
      "text/markdown": [
       "\n",
       "Feed location: http://data.trilliumtransit.com/gtfs/soltrans-ca-us/soltrans-ca-us.zip\n",
       "\n",
       "Metrics for the most recent published version of the feed:\n",
       "\n",
       "* Date published: UTC: 21-May-2021 18:36\n",
       "* Number of routes in any service: 12\n",
       "* Number of stops in service: 494\n"
      ],
      "text/plain": [
       "<IPython.core.display.Markdown object>"
      ]
     },
     "execution_count": 9,
     "metadata": {},
     "output_type": "execute_result"
    }
   ],
   "source": [
    "Markdown(f\"\"\"\n",
    "Feed location: {status[\"gtfs_schedule_url\"]}\n",
    "\n",
    "Metrics for the most recent published version of the feed:\n",
    "\n",
    "* Date published: {feed_info[\"feed_version\"]}\n",
    "* Number of routes in any service: {feed_info[\"n_routes\"]}\n",
    "* Number of stops in service: {feed_info[\"n_stops\"]}\n",
    "\"\"\")"
   ]
  },
  {
   "cell_type": "markdown",
   "id": "c809146f",
   "metadata": {
    "papermill": {
     "duration": 0.033619,
     "end_time": "2021-06-23T00:36:37.724619",
     "exception": false,
     "start_time": "2021-06-23T00:36:37.691000",
     "status": "completed"
    },
    "tags": []
   },
   "source": [
    "## Aggregated Metrics for May"
   ]
  },
  {
   "cell_type": "code",
   "execution_count": 10,
   "id": "fa7b2b77",
   "metadata": {
    "execution": {
     "iopub.execute_input": "2021-06-23T00:36:37.873793Z",
     "iopub.status.busy": "2021-06-23T00:36:37.872248Z",
     "iopub.status.idle": "2021-06-23T00:36:37.906442Z",
     "shell.execute_reply": "2021-06-23T00:36:37.872820Z"
    },
    "papermill": {
     "duration": 0.103049,
     "end_time": "2021-06-23T00:36:37.906663",
     "exception": false,
     "start_time": "2021-06-23T00:36:37.803614",
     "status": "completed"
    },
    "tags": []
   },
   "outputs": [
    {
     "data": {
      "text/markdown": [
       "\n",
       "Days when the active feed was expired: 1\n"
      ],
      "text/plain": [
       "<IPython.core.display.Markdown object>"
      ]
     },
     "execution_count": 10,
     "metadata": {},
     "output_type": "execute_result"
    }
   ],
   "source": [
    "Markdown(f\"\"\"\n",
    "Days when the active feed was expired: {n_expired_days[\"n\"]}\n",
    "\"\"\")"
   ]
  },
  {
   "cell_type": "code",
   "execution_count": 11,
   "id": "21ab77e0",
   "metadata": {
    "execution": {
     "iopub.execute_input": "2021-06-23T00:36:38.230471Z",
     "iopub.status.busy": "2021-06-23T00:36:38.205499Z",
     "iopub.status.idle": "2021-06-23T00:36:39.576448Z",
     "shell.execute_reply": "2021-06-23T00:36:39.577292Z"
    },
    "papermill": {
     "duration": 1.495531,
     "end_time": "2021-06-23T00:36:39.577611",
     "exception": false,
     "start_time": "2021-06-23T00:36:38.082080",
     "status": "completed"
    },
    "tags": []
   },
   "outputs": [
    {
     "name": "stderr",
     "output_type": "stream",
     "text": [
      "/Users/machow/.virtualenvs/calitp-py/lib/python3.8/site-packages/plotnine/layer.py:401: PlotnineWarning: geom_point : Removed 1 rows containing missing values.\n"
     ]
    },
    {
     "data": {
      "image/png": "[encoded data removed]",
      "text/plain": [
       "<Figure size 640x480 with 1 Axes>"
      ]
     },
     "metadata": {},
     "output_type": "display_data"
    },
    {
     "data": {
      "text/plain": [
       "<ggplot: (271954664)>"
      ]
     },
     "execution_count": 11,
     "metadata": {},
     "output_type": "execute_result"
    }
   ],
   "source": [
    "(\n",
    "    tbl_daily_service_hours\n",
    "    >> ggplot(aes(\"service_date\", \"ttl_service_hours\"))\n",
    "    + geom_line()\n",
    "    + geom_point()\n",
    "    + theme(axis_text_x=element_text(angle=45, hjust=1))\n",
    "    + scale_x_datetime(date_breaks=\"1 week\")\n",
    "    + expand_limits(y=0)\n",
    ")"
   ]
  },
  {
   "cell_type": "markdown",
   "id": "f6d06aef",
   "metadata": {
    "papermill": {
     "duration": 0.110687,
     "end_time": "2021-06-23T00:36:39.739144",
     "exception": false,
     "start_time": "2021-06-23T00:36:39.628457",
     "status": "completed"
    },
    "tags": []
   },
   "source": [
    "## Changes Since Previous Month"
   ]
  },
  {
   "cell_type": "code",
   "execution_count": 12,
   "id": "72af5af6",
   "metadata": {
    "execution": {
     "iopub.execute_input": "2021-06-23T00:36:39.967428Z",
     "iopub.status.busy": "2021-06-23T00:36:39.966175Z",
     "iopub.status.idle": "2021-06-23T00:36:41.260523Z",
     "shell.execute_reply": "2021-06-23T00:36:41.258496Z"
    },
    "papermill": {
     "duration": 1.43324,
     "end_time": "2021-06-23T00:36:41.260687",
     "exception": false,
     "start_time": "2021-06-23T00:36:39.827447",
     "status": "completed"
    },
    "tags": []
   },
   "outputs": [
    {
     "data": {
      "image/png": "[encoded data removed]",
      "text/plain": [
       "<Figure size 640x480 with 1 Axes>"
      ]
     },
     "metadata": {},
     "output_type": "display_data"
    },
    {
     "data": {
      "text/plain": [
       "<ggplot: (301430697)>"
      ]
     },
     "execution_count": 12,
     "metadata": {},
     "output_type": "execute_result"
    }
   ],
   "source": [
    "(\n",
    "    pd.concat(\n",
    "        [\n",
    "            tbl_stops_changed >> mutate(kind=\"Stops\"),\n",
    "            tbl_routes_changed >> mutate(kind=\"Routes\"),\n",
    "        ]\n",
    "    )\n",
    "    >> ggplot(aes(\"kind\", \"n\", fill=\"status\"))\n",
    "    + geom_col()\n",
    "    + labs(x=\"Kind of ID\", y=\"Number of Changes\")\n",
    ")"
   ]
  },
  {
   "cell_type": "markdown",
   "id": "f2712bea",
   "metadata": {
    "papermill": {
     "duration": 0.04912,
     "end_time": "2021-06-23T00:36:41.373006",
     "exception": false,
     "start_time": "2021-06-23T00:36:41.323886",
     "status": "completed"
    },
    "tags": []
   },
   "source": [
    "### (Alternative version using percentages)"
   ]
  },
  {
   "cell_type": "code",
   "execution_count": 13,
   "id": "633dc265",
   "metadata": {
    "execution": {
     "iopub.execute_input": "2021-06-23T00:36:41.579853Z",
     "iopub.status.busy": "2021-06-23T00:36:41.578850Z",
     "iopub.status.idle": "2021-06-23T00:36:42.711458Z",
     "shell.execute_reply": "2021-06-23T00:36:42.712231Z"
    },
    "papermill": {
     "duration": 1.250843,
     "end_time": "2021-06-23T00:36:42.712510",
     "exception": false,
     "start_time": "2021-06-23T00:36:41.461667",
     "status": "completed"
    },
    "tags": []
   },
   "outputs": [
    {
     "data": {
      "image/png": "[encoded data removed]",
      "text/plain": [
       "<Figure size 640x480 with 1 Axes>"
      ]
     },
     "metadata": {},
     "output_type": "display_data"
    },
    {
     "data": {
      "text/plain": [
       "<ggplot: (301277507)>"
      ]
     },
     "execution_count": 13,
     "metadata": {},
     "output_type": "execute_result"
    }
   ],
   "source": [
    "(\n",
    "    pd.concat(\n",
    "        [\n",
    "            tbl_stops_changed >> mutate(kind=\"Stops\"),\n",
    "            tbl_routes_changed >> mutate(kind=\"Routes\"),\n",
    "        ]\n",
    "    )\n",
    "    >> ggplot(aes(\"kind\", \"percent\", fill=\"status\"))\n",
    "    + geom_col()\n",
    "    + labs(x=\"Kind of ID\", y=\"Percent of Changes\")\n",
    ")"
   ]
  },
  {
   "cell_type": "markdown",
   "id": "abd758b3",
   "metadata": {
    "papermill": {
     "duration": 0.041636,
     "end_time": "2021-06-23T00:36:42.796952",
     "exception": false,
     "start_time": "2021-06-23T00:36:42.755316",
     "status": "completed"
    },
    "tags": []
   },
   "source": [
    "## Consistency with the California GTFS Minimum Guidelines for the feed downloaded\n"
   ]
  },
  {
   "cell_type": "code",
   "execution_count": 14,
   "id": "9efaac99",
   "metadata": {
    "execution": {
     "iopub.execute_input": "2021-06-23T00:36:42.929286Z",
     "iopub.status.busy": "2021-06-23T00:36:42.910079Z",
     "iopub.status.idle": "2021-06-23T00:36:42.932281Z",
     "shell.execute_reply": "2021-06-23T00:36:42.930096Z"
    },
    "papermill": {
     "duration": 0.094727,
     "end_time": "2021-06-23T00:36:42.932513",
     "exception": false,
     "start_time": "2021-06-23T00:36:42.837786",
     "status": "completed"
    },
    "tags": []
   },
   "outputs": [
    {
     "data": {
      "text/html": [
       "<div>\n",
       "<style scoped>\n",
       "    .dataframe tbody tr th:only-of-type {\n",
       "        vertical-align: middle;\n",
       "    }\n",
       "\n",
       "    .dataframe tbody tr th {\n",
       "        vertical-align: top;\n",
       "    }\n",
       "\n",
       "    .dataframe thead th {\n",
       "        text-align: right;\n",
       "    }\n",
       "</style>\n",
       "<table border=\"1\" class=\"dataframe\">\n",
       "  <thead>\n",
       "    <tr style=\"text-align: right;\">\n",
       "      <th></th>\n",
       "      <th>category</th>\n",
       "      <th>name</th>\n",
       "      <th>2021-05-09</th>\n",
       "      <th>2021-05-16</th>\n",
       "      <th>2021-05-23</th>\n",
       "      <th>2021-05-30</th>\n",
       "    </tr>\n",
       "  </thead>\n",
       "  <tbody>\n",
       "    <tr>\n",
       "      <th>5</th>\n",
       "      <td>Visual display</td>\n",
       "      <td>shapes.txt</td>\n",
       "      <td>✅</td>\n",
       "      <td>✅</td>\n",
       "      <td>✅</td>\n",
       "      <td>✅</td>\n",
       "    </tr>\n",
       "    <tr>\n",
       "      <th>3</th>\n",
       "      <td>Navigation</td>\n",
       "      <td>levels.txt</td>\n",
       "      <td></td>\n",
       "      <td></td>\n",
       "      <td></td>\n",
       "      <td></td>\n",
       "    </tr>\n",
       "    <tr>\n",
       "      <th>4</th>\n",
       "      <td>Navigation</td>\n",
       "      <td>pathways.txt</td>\n",
       "      <td></td>\n",
       "      <td></td>\n",
       "      <td></td>\n",
       "      <td></td>\n",
       "    </tr>\n",
       "    <tr>\n",
       "      <th>0</th>\n",
       "      <td>Fares</td>\n",
       "      <td>fare_leg_rules</td>\n",
       "      <td></td>\n",
       "      <td></td>\n",
       "      <td></td>\n",
       "      <td></td>\n",
       "    </tr>\n",
       "    <tr>\n",
       "      <th>1</th>\n",
       "      <td>Fares</td>\n",
       "      <td>fare_rules.txt</td>\n",
       "      <td>✅</td>\n",
       "      <td>✅</td>\n",
       "      <td>✅</td>\n",
       "      <td>✅</td>\n",
       "    </tr>\n",
       "    <tr>\n",
       "      <th>2</th>\n",
       "      <td>Technical contacts</td>\n",
       "      <td>feed_info.txt</td>\n",
       "      <td>✅</td>\n",
       "      <td>✅</td>\n",
       "      <td>✅</td>\n",
       "      <td>✅</td>\n",
       "    </tr>\n",
       "  </tbody>\n",
       "</table>\n",
       "</div>"
      ],
      "text/plain": [
       "             category            name 2021-05-09 2021-05-16 2021-05-23  \\\n",
       "5      Visual display      shapes.txt          ✅          ✅          ✅   \n",
       "3          Navigation      levels.txt                                    \n",
       "4          Navigation    pathways.txt                                    \n",
       "0               Fares  fare_leg_rules                                    \n",
       "1               Fares  fare_rules.txt          ✅          ✅          ✅   \n",
       "2  Technical contacts   feed_info.txt          ✅          ✅          ✅   \n",
       "\n",
       "  2021-05-30  \n",
       "5          ✅  \n",
       "3             \n",
       "4             \n",
       "0             \n",
       "1          ✅  \n",
       "2          ✅  "
      ]
     },
     "execution_count": 14,
     "metadata": {},
     "output_type": "execute_result"
    }
   ],
   "source": [
    "tbl_file_check"
   ]
  },
  {
   "cell_type": "markdown",
   "id": "495c5f0b",
   "metadata": {
    "papermill": {
     "duration": 0.14432,
     "end_time": "2021-06-23T00:36:43.304309",
     "exception": false,
     "start_time": "2021-06-23T00:36:43.159989",
     "status": "completed"
    },
    "tags": []
   },
   "source": [
    "### Validation Errors Observed"
   ]
  },
  {
   "cell_type": "code",
   "execution_count": 15,
   "id": "65ed6207",
   "metadata": {
    "execution": {
     "iopub.execute_input": "2021-06-23T00:36:43.546704Z",
     "iopub.status.busy": "2021-06-23T00:36:43.543590Z",
     "iopub.status.idle": "2021-06-23T00:36:43.551059Z",
     "shell.execute_reply": "2021-06-23T00:36:43.551840Z"
    },
    "papermill": {
     "duration": 0.12338,
     "end_time": "2021-06-23T00:36:43.552143",
     "exception": false,
     "start_time": "2021-06-23T00:36:43.428763",
     "status": "completed"
    },
    "tags": []
   },
   "outputs": [
    {
     "data": {
      "text/html": [
       "<div>\n",
       "<style scoped>\n",
       "    .dataframe tbody tr th:only-of-type {\n",
       "        vertical-align: middle;\n",
       "    }\n",
       "\n",
       "    .dataframe tbody tr th {\n",
       "        vertical-align: top;\n",
       "    }\n",
       "\n",
       "    .dataframe thead th {\n",
       "        text-align: right;\n",
       "    }\n",
       "</style>\n",
       "<table border=\"1\" class=\"dataframe\">\n",
       "  <thead>\n",
       "    <tr style=\"text-align: right;\">\n",
       "      <th></th>\n",
       "      <th>code</th>\n",
       "      <th>severity</th>\n",
       "      <th>n</th>\n",
       "    </tr>\n",
       "  </thead>\n",
       "  <tbody>\n",
       "  </tbody>\n",
       "</table>\n",
       "</div>"
      ],
      "text/plain": [
       "Empty DataFrame\n",
       "Columns: [code, severity, n]\n",
       "Index: []"
      ]
     },
     "execution_count": 15,
     "metadata": {},
     "output_type": "execute_result"
    }
   ],
   "source": [
    "tbl_validation_notices"
   ]
  }
 ],
 "metadata": {
  "kernelspec": {
   "display_name": "venv-calitp-py",
   "language": "python",
   "name": "venv-calitp-py"
  },
  "language_info": {
   "codemirror_mode": {
    "name": "ipython",
    "version": 3
   },
   "file_extension": ".py",
   "mimetype": "text/x-python",
   "name": "python",
   "nbconvert_exporter": "python",
   "pygments_lexer": "ipython3",
   "version": "3.8.5"
  },
  "papermill": {
   "default_parameters": {},
   "duration": 62.538492,
   "end_time": "2021-06-23T00:36:46.339542",
   "environment_variables": {},
   "exception": null,
   "input_path": "report.ipynb",
   "output_path": "output/310/report.ipynb",
   "parameters": {
    "CALITP_ITP_ID": 310,
    "CALITP_URL_NUMBER": 0
   },
   "start_time": "2021-06-23T00:35:43.801050",
   "version": "2.3.3"
  }
 },
 "nbformat": 4,
 "nbformat_minor": 5
}