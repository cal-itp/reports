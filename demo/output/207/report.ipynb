{
 "cells": [
  {
   "cell_type": "markdown",
   "id": "75072d05",
   "metadata": {
    "papermill": {
     "duration": 0.014203,
     "end_time": "2021-06-23T00:31:49.573909",
     "exception": false,
     "start_time": "2021-06-23T00:31:49.559706",
     "status": "completed"
    },
    "tags": [
     "hide"
    ]
   },
   "source": [
    "# Setup"
   ]
  },
  {
   "cell_type": "code",
   "execution_count": 1,
   "id": "afe867ff",
   "metadata": {
    "execution": {
     "iopub.execute_input": "2021-06-23T00:31:49.634246Z",
     "iopub.status.busy": "2021-06-23T00:31:49.632823Z",
     "iopub.status.idle": "2021-06-23T00:31:55.956412Z",
     "shell.execute_reply": "2021-06-23T00:31:55.957409Z"
    },
    "papermill": {
     "duration": 6.368342,
     "end_time": "2021-06-23T00:31:55.958007",
     "exception": false,
     "start_time": "2021-06-23T00:31:49.589665",
     "status": "completed"
    },
    "tags": [
     "hide"
    ]
   },
   "outputs": [],
   "source": [
    "import pandas as pd\n",
    "\n",
    "from io import StringIO\n",
    "from calitp.tables import tbl\n",
    "from datetime import date\n",
    "from siuba import *\n",
    "from plotnine import *\n",
    "\n",
    "\n",
    "START_DATE = \"2021-05-01\"\n",
    "END_DATE = \"2021-06-01\"\n",
    "DATE_TODAY=date.today()\n",
    "\n",
    "WEEK_MARKERS = pd.date_range(START_DATE, END_DATE, freq=\"W\").astype(str).tolist()"
   ]
  },
  {
   "cell_type": "code",
   "execution_count": 2,
   "id": "a604b161",
   "metadata": {
    "execution": {
     "iopub.execute_input": "2021-06-23T00:31:56.030557Z",
     "iopub.status.busy": "2021-06-23T00:31:56.026306Z",
     "iopub.status.idle": "2021-06-23T00:31:56.032682Z",
     "shell.execute_reply": "2021-06-23T00:31:56.031597Z"
    },
    "papermill": {
     "duration": 0.048242,
     "end_time": "2021-06-23T00:31:56.032951",
     "exception": false,
     "start_time": "2021-06-23T00:31:55.984709",
     "status": "completed"
    },
    "tags": [
     "parameters",
     "hide"
    ]
   },
   "outputs": [],
   "source": [
    "CALITP_ITP_ID=389\n",
    "#CALITP_ITP_ID=45\n",
    "CALITP_URL_NUMBER=0"
   ]
  },
  {
   "cell_type": "code",
   "execution_count": 3,
   "id": "152502d9",
   "metadata": {
    "execution": {
     "iopub.execute_input": "2021-06-23T00:31:56.081859Z",
     "iopub.status.busy": "2021-06-23T00:31:56.080780Z",
     "iopub.status.idle": "2021-06-23T00:31:56.083735Z",
     "shell.execute_reply": "2021-06-23T00:31:56.084383Z"
    },
    "papermill": {
     "duration": 0.024652,
     "end_time": "2021-06-23T00:31:56.084612",
     "exception": false,
     "start_time": "2021-06-23T00:31:56.059960",
     "status": "completed"
    },
    "tags": [
     "injected-parameters"
    ]
   },
   "outputs": [],
   "source": [
    "# Parameters\n",
    "CALITP_ITP_ID = 207\n",
    "CALITP_URL_NUMBER = 0\n"
   ]
  },
  {
   "cell_type": "code",
   "execution_count": 4,
   "id": "98aa37ba",
   "metadata": {
    "execution": {
     "iopub.execute_input": "2021-06-23T00:31:56.160242Z",
     "iopub.status.busy": "2021-06-23T00:31:56.158786Z",
     "iopub.status.idle": "2021-06-23T00:31:56.168039Z",
     "shell.execute_reply": "2021-06-23T00:31:56.167527Z"
    },
    "papermill": {
     "duration": 0.061571,
     "end_time": "2021-06-23T00:31:56.168185",
     "exception": false,
     "start_time": "2021-06-23T00:31:56.106614",
     "status": "completed"
    },
    "tags": [
     "hide"
    ]
   },
   "outputs": [],
   "source": [
    "# Convenience functions ----\n",
    "\n",
    "filter_start = filter(\n",
    "    _.calitp_extracted_at <= START_DATE,\n",
    "    _.calitp_deleted_at.fillna(\"2099-01-01\") > START_DATE,\n",
    ")\n",
    "\n",
    "filter_end = filter(\n",
    "    _.calitp_extracted_at <= END_DATE,\n",
    "    _.calitp_deleted_at.fillna(\"2099-01-01\") > END_DATE,\n",
    ")\n",
    "\n",
    "filter_itp = filter(\n",
    "    _.calitp_itp_id == CALITP_ITP_ID, _.calitp_url_number == CALITP_URL_NUMBER\n",
    ")\n",
    "\n",
    "collect_to_dict = (\n",
    "    collect()\n",
    "    >> pipe(_.to_dict(orient=\"records\")[0])\n",
    ")\n",
    "\n",
    "\n",
    "select_rm_calitp = select(\n",
    "    -_.calitp_itp_id,\n",
    "    -_.calitp_url_number,\n",
    "    -_.calitp_hash,\n",
    "    -_.calitp_extracted_at,\n",
    "    -_.calitp_deleted_at,\n",
    ")\n",
    "\n",
    "\n",
    "def query_id_changes(start_table, end_table, id_vars):\n",
    "    \"\"\"Calculate id variables that are removed, added, or unchanged between tables.\n",
    "    \n",
    "    It works by adding a special column to each table, performing a full join,\n",
    "    then checking where the special column is null.\n",
    "    \"\"\"\n",
    "    sym_id_vars = [_[k] for k in id_vars]\n",
    "\n",
    "    is_in_start = start_table >> select(*id_vars) >> mutate(is_in_start=True)\n",
    "    is_in_end = end_table >> select(*id_vars) >> mutate(is_in_end=True)\n",
    "\n",
    "    baseline = start_table >> count(*id_vars) >> rename(n_baseline=\"n\")\n",
    "    tallies = (\n",
    "        is_in_start\n",
    "        >> full_join(_, is_in_end, id_vars)\n",
    "        >> count(*sym_id_vars, _.is_in_start, _.is_in_end)\n",
    "        >> mutate(\n",
    "            status=case_when(\n",
    "                _,\n",
    "                {\n",
    "                    _.is_in_end.isna(): \"Removed\",\n",
    "                    _.is_in_start.isna(): \"Added\",\n",
    "                    True: \"Unchanged\",\n",
    "                },\n",
    "            )\n",
    "        )\n",
    "        >> count(*sym_id_vars[:-1], _.status)\n",
    "        >> group_by(*sym_id_vars[:-1])\n",
    "        >> mutate(percent=_.n / _.n.sum())\n",
    "    )\n",
    "\n",
    "    return tallies"
   ]
  },
  {
   "cell_type": "code",
   "execution_count": 5,
   "id": "e5ab602d",
   "metadata": {
    "execution": {
     "iopub.execute_input": "2021-06-23T00:31:56.200941Z",
     "iopub.status.busy": "2021-06-23T00:31:56.199750Z",
     "iopub.status.idle": "2021-06-23T00:32:22.356175Z",
     "shell.execute_reply": "2021-06-23T00:32:22.355382Z"
    },
    "papermill": {
     "duration": 26.17399,
     "end_time": "2021-06-23T00:32:22.356384",
     "exception": false,
     "start_time": "2021-06-23T00:31:56.182394",
     "status": "completed"
    },
    "tags": [
     "hide"
    ]
   },
   "outputs": [],
   "source": [
    "# Data ====\n",
    "# 1. High level feed info ----\n",
    "feed_info = (\n",
    "    tbl.gtfs_schedule_type2.feed_info()\n",
    "    >> filter_end\n",
    "    >> filter_itp\n",
    "    >> select_rm_calitp\n",
    "    >> collect_to_dict\n",
    ")\n",
    "\n",
    "_n_routes = (\n",
    "    tbl.gtfs_schedule_type2.routes() >> filter_end >> filter_itp >> count() >> collect()\n",
    ")\n",
    "_n_stops = (\n",
    "    tbl.gtfs_schedule_type2.stops() >> filter_end >> filter_itp >> count() >> collect()\n",
    ")\n",
    "\n",
    "feed_info[\"n_routes\"] = int(_n_routes.loc[0, \"n\"])\n",
    "feed_info[\"n_stops\"] = int(_n_stops.loc[0, \"n\"])\n",
    "\n",
    "status = (\n",
    "    tbl.views.gtfs_status_latest()\n",
    "    >> filter(_.itp_id == CALITP_ITP_ID, _.url_number == CALITP_URL_NUMBER)\n",
    "    >> select(-_.url_number, -_.status)\n",
    "    >> select_rm_calitp\n",
    "    >> collect_to_dict\n",
    ")\n",
    "\n",
    "# 2. Monthly metrics ----\n",
    "# Service hours per day. Note that the queried table calculates service\n",
    "# hours per service id, so we need to sum across service ids for the day\n",
    "_cross_cal = (\n",
    "    tbl.views.dim_date()\n",
    "    >> filter(_.full_date.between(START_DATE, END_DATE))\n",
    "    >> select(_.service_date == _.full_date)\n",
    ")\n",
    "\n",
    "tbl_daily_service_hours = (\n",
    "    tbl.views.gtfs_schedule_service_daily_metrics()\n",
    "    >> filter_itp\n",
    "    >> filter(_.service_date.between(START_DATE, END_DATE))\n",
    "    >> right_join(_, _cross_cal, [\"service_date\"])\n",
    "    >> collect()\n",
    "    >> group_by(_.service_date)\n",
    "    >> summarize(ttl_service_hours=(_.last_arrival_ts.max() - _.first_departure_ts.min()) / 3600)\n",
    "    >> mutate(\n",
    "        ttl_service_hours=_.ttl_service_hours.astype(float).round(2),\n",
    "        service_date=_.service_date.astype(\"datetime64[ns]\"),\n",
    "    )\n",
    ")\n",
    "\n",
    "# number of days where a feed did not have any trips in service\n",
    "n_expired_days = (\n",
    "    tbl_daily_service_hours >> filter(_.ttl_service_hours.isna())\n",
    "    >> pipe(lambda d: {\"n\": d.shape[0]})\n",
    ")\n",
    "\n",
    "# 3. Stop and Route ID Changes ----\n",
    "\n",
    "_tbl_stops_start = tbl.gtfs_schedule_type2.stops() >> filter_itp >> filter_start\n",
    "_tbl_stops_end = tbl.gtfs_schedule_type2.stops() >> filter_itp >> filter_end\n",
    "tbl_stops_changed = (\n",
    "    query_id_changes(_tbl_stops_start, _tbl_stops_end, [\"stop_id\"]) >> collect()\n",
    ")\n",
    "\n",
    "_tbl_routes_start = tbl.gtfs_schedule_type2.routes() >> filter_start\n",
    "_tbl_routes_end = tbl.gtfs_schedule_type2.routes() >> filter_end\n",
    "tbl_routes_changed = (\n",
    "    query_id_changes(_tbl_routes_start, _tbl_routes_end, [\"route_id\"]) >> collect()\n",
    ")"
   ]
  },
  {
   "cell_type": "code",
   "execution_count": 6,
   "id": "090bcc2c",
   "metadata": {
    "execution": {
     "iopub.execute_input": "2021-06-23T00:32:22.480838Z",
     "iopub.status.busy": "2021-06-23T00:32:22.478458Z",
     "iopub.status.idle": "2021-06-23T00:32:28.611541Z",
     "shell.execute_reply": "2021-06-23T00:32:28.611995Z"
    },
    "papermill": {
     "duration": 6.22347,
     "end_time": "2021-06-23T00:32:28.612204",
     "exception": false,
     "start_time": "2021-06-23T00:32:22.388734",
     "status": "completed"
    },
    "tags": [
     "hide"
    ]
   },
   "outputs": [],
   "source": [
    "# 4. Feed files being checked for ----\n",
    "\n",
    "file_categories = pd.DataFrame(\n",
    "    {\n",
    "        \"shapes.txt\": \"Visual display\",\n",
    "        \"pathways.txt\": \"Navigation\",\n",
    "        \"levels.txt\": \"Navigation\",\n",
    "        \"fare_rules.txt\": \"Fares\",\n",
    "        \"fare_leg_rules\": \"Fares\",\n",
    "        \"feed_info.txt\": \"Technical contacts\",\n",
    "    }.items(),\n",
    "    columns=[\"name\", \"category\"],\n",
    ")\n",
    "\n",
    "importance = [\"Visual display\", \"Navigation\", \"Fares\", \"Technical contacts\"]\n",
    "\n",
    "tbl_file_check = (\n",
    "    tbl.gtfs_schedule_history.calitp_files_updates()\n",
    "    >> filter_itp\n",
    "    >> filter(_.calitp_extracted_at.isin(WEEK_MARKERS))\n",
    "    >> select(_.name, _.calitp_extracted_at)\n",
    "    >> collect()\n",
    "    >> right_join(_, file_categories, [\"name\"])\n",
    "    >> mutate(\n",
    "        calitp_extracted_at=_.calitp_extracted_at.fillna(\"missing\").astype(str),\n",
    "        success=\"✅\",\n",
    "    )\n",
    "    >> spread(_.calitp_extracted_at, _.success)\n",
    "    >> select(-_.missing)\n",
    "    >> arrange(_.category.apply(importance.index))\n",
    "    >> select(_.category, _.contains(\"\"))\n",
    "    >> pipe(_.fillna(\"\"))\n",
    ")\n",
    "\n",
    "tbl_validation_notices = (\n",
    "    tbl.views.validation_notices()\n",
    "    >> filter_itp\n",
    "    >> filter(_.severity == \"ERROR\")\n",
    "    >> count(_.code, _.severity)\n",
    "    >> collect()\n",
    ")"
   ]
  },
  {
   "cell_type": "markdown",
   "id": "eb3eb079",
   "metadata": {
    "papermill": {
     "duration": 0.015095,
     "end_time": "2021-06-23T00:32:28.645007",
     "exception": false,
     "start_time": "2021-06-23T00:32:28.629912",
     "status": "completed"
    },
    "tags": [
     "hide"
    ]
   },
   "source": [
    "## Dump data"
   ]
  },
  {
   "cell_type": "code",
   "execution_count": 7,
   "id": "4f11af89",
   "metadata": {
    "execution": {
     "iopub.execute_input": "2021-06-23T00:32:28.697487Z",
     "iopub.status.busy": "2021-06-23T00:32:28.696392Z",
     "iopub.status.idle": "2021-06-23T00:32:28.713839Z",
     "shell.execute_reply": "2021-06-23T00:32:28.714953Z"
    },
    "papermill": {
     "duration": 0.039571,
     "end_time": "2021-06-23T00:32:28.715268",
     "exception": false,
     "start_time": "2021-06-23T00:32:28.675697",
     "status": "completed"
    },
    "tags": [
     "hide"
    ]
   },
   "outputs": [],
   "source": [
    "import json\n",
    "import shutil\n",
    "\n",
    "from pathlib import Path\n",
    "\n",
    "out_dir = Path(f\"output/{CALITP_ITP_ID}_{CALITP_URL_NUMBER}/data\")\n",
    "out_dir.mkdir(parents=True, exist_ok=True)\n",
    "\n",
    "json.dump(feed_info, open(out_dir / \"1_feed_info.json\", \"w\"))\n",
    "json.dump(status, open(out_dir / \"1_status.json\", \"w\"))\n",
    "\n",
    "tbl_daily_service_hours.to_json(out_dir / \"2_daily_service_hours.json\", orient=\"records\")\n",
    "json.dump(n_expired_days, open(out_dir / \"2_n_expired_days.json\", \"w\"))\n",
    "\n",
    "tbl_stops_changed.to_json(out_dir / \"3_stops_changed.json\", orient=\"records\")\n",
    "tbl_routes_changed.to_json(out_dir / \"3_routes_changed.json\", orient=\"records\")\n",
    "tbl_file_check.to_json(out_dir / \"4_file_check.json\", orient=\"records\")\n",
    "tbl_validation_notices.to_json(out_dir / \"4_validation_notices.json\", orient=\"records\")\n"
   ]
  },
  {
   "cell_type": "markdown",
   "id": "4031ef50",
   "metadata": {
    "papermill": {
     "duration": 0.016397,
     "end_time": "2021-06-23T00:32:28.752636",
     "exception": false,
     "start_time": "2021-06-23T00:32:28.736239",
     "status": "completed"
    },
    "tags": []
   },
   "source": [
    "# GTFS Schedule Report"
   ]
  },
  {
   "cell_type": "markdown",
   "id": "b98a89f5",
   "metadata": {
    "papermill": {
     "duration": 0.014951,
     "end_time": "2021-06-23T00:32:28.800667",
     "exception": false,
     "start_time": "2021-06-23T00:32:28.785716",
     "status": "completed"
    },
    "tags": []
   },
   "source": [
    "# Example Juniper Report"
   ]
  },
  {
   "cell_type": "code",
   "execution_count": 8,
   "id": "8bfd3954",
   "metadata": {
    "execution": {
     "iopub.execute_input": "2021-06-23T00:32:28.852787Z",
     "iopub.status.busy": "2021-06-23T00:32:28.851860Z",
     "iopub.status.idle": "2021-06-23T00:32:28.855992Z",
     "shell.execute_reply": "2021-06-23T00:32:28.856455Z"
    },
    "papermill": {
     "duration": 0.035905,
     "end_time": "2021-06-23T00:32:28.856619",
     "exception": false,
     "start_time": "2021-06-23T00:32:28.820714",
     "status": "completed"
    },
    "tags": []
   },
   "outputs": [
    {
     "data": {
      "text/markdown": [
       "\n",
       "Transit provider name: Trillium Solutions, Inc.\n",
       "\n",
       "Date generated: 2021-06-22\n"
      ],
      "text/plain": [
       "<IPython.core.display.Markdown object>"
      ]
     },
     "execution_count": 8,
     "metadata": {},
     "output_type": "execute_result"
    }
   ],
   "source": [
    "from IPython.display import Markdown\n",
    "\n",
    "Markdown(f\"\"\"\n",
    "Transit provider name: {feed_info[\"feed_publisher_name\"]}\n",
    "\n",
    "Date generated: {DATE_TODAY}\n",
    "\"\"\")"
   ]
  },
  {
   "cell_type": "markdown",
   "id": "52256890",
   "metadata": {
    "papermill": {
     "duration": 0.057778,
     "end_time": "2021-06-23T00:32:28.942930",
     "exception": false,
     "start_time": "2021-06-23T00:32:28.885152",
     "status": "completed"
    },
    "tags": []
   },
   "source": [
    "This is a monthly report, generated by the California Integrated Travel Project (Cal-ITP), summarizing issues discovered by MobilityData’s GTFS Validator. This report is available for viewing by the general public to support continuous improvement of GTFS data and the experience of transit passengers. "
   ]
  },
  {
   "cell_type": "markdown",
   "id": "aaf73dee",
   "metadata": {
    "papermill": {
     "duration": 0.024932,
     "end_time": "2021-06-23T00:32:28.992285",
     "exception": false,
     "start_time": "2021-06-23T00:32:28.967353",
     "status": "completed"
    },
    "tags": []
   },
   "source": [
    "## Overview"
   ]
  },
  {
   "cell_type": "code",
   "execution_count": 9,
   "id": "2ea8ebe5",
   "metadata": {
    "execution": {
     "iopub.execute_input": "2021-06-23T00:32:29.133889Z",
     "iopub.status.busy": "2021-06-23T00:32:29.132283Z",
     "iopub.status.idle": "2021-06-23T00:32:29.135284Z",
     "shell.execute_reply": "2021-06-23T00:32:29.133188Z"
    },
    "papermill": {
     "duration": 0.117555,
     "end_time": "2021-06-23T00:32:29.135428",
     "exception": false,
     "start_time": "2021-06-23T00:32:29.017873",
     "status": "completed"
    },
    "tags": []
   },
   "outputs": [
    {
     "data": {
      "text/markdown": [
       "\n",
       "Feed location: http://data.trilliumtransit.com/gtfs/montereypark-ca-us/montereypark-ca-us.zip\n",
       "\n",
       "Metrics for the most recent published version of the feed:\n",
       "\n",
       "* Date published: UTC: 28-Apr-2021 22:31\n",
       "* Number of routes in any service: 6\n",
       "* Number of stops in service: 146\n"
      ],
      "text/plain": [
       "<IPython.core.display.Markdown object>"
      ]
     },
     "execution_count": 9,
     "metadata": {},
     "output_type": "execute_result"
    }
   ],
   "source": [
    "Markdown(f\"\"\"\n",
    "Feed location: {status[\"gtfs_schedule_url\"]}\n",
    "\n",
    "Metrics for the most recent published version of the feed:\n",
    "\n",
    "* Date published: {feed_info[\"feed_version\"]}\n",
    "* Number of routes in any service: {feed_info[\"n_routes\"]}\n",
    "* Number of stops in service: {feed_info[\"n_stops\"]}\n",
    "\"\"\")"
   ]
  },
  {
   "cell_type": "markdown",
   "id": "9d96ad34",
   "metadata": {
    "papermill": {
     "duration": 0.019725,
     "end_time": "2021-06-23T00:32:29.170409",
     "exception": false,
     "start_time": "2021-06-23T00:32:29.150684",
     "status": "completed"
    },
    "tags": []
   },
   "source": [
    "## Aggregated Metrics for May"
   ]
  },
  {
   "cell_type": "code",
   "execution_count": 10,
   "id": "fb28a2ae",
   "metadata": {
    "execution": {
     "iopub.execute_input": "2021-06-23T00:32:29.228828Z",
     "iopub.status.busy": "2021-06-23T00:32:29.227438Z",
     "iopub.status.idle": "2021-06-23T00:32:29.232295Z",
     "shell.execute_reply": "2021-06-23T00:32:29.229889Z"
    },
    "papermill": {
     "duration": 0.044553,
     "end_time": "2021-06-23T00:32:29.232557",
     "exception": false,
     "start_time": "2021-06-23T00:32:29.188004",
     "status": "completed"
    },
    "tags": []
   },
   "outputs": [
    {
     "data": {
      "text/markdown": [
       "\n",
       "Days when the active feed was expired: 31\n"
      ],
      "text/plain": [
       "<IPython.core.display.Markdown object>"
      ]
     },
     "execution_count": 10,
     "metadata": {},
     "output_type": "execute_result"
    }
   ],
   "source": [
    "Markdown(f\"\"\"\n",
    "Days when the active feed was expired: {n_expired_days[\"n\"]}\n",
    "\"\"\")"
   ]
  },
  {
   "cell_type": "code",
   "execution_count": 11,
   "id": "ec3076b4",
   "metadata": {
    "execution": {
     "iopub.execute_input": "2021-06-23T00:32:29.317467Z",
     "iopub.status.busy": "2021-06-23T00:32:29.312719Z",
     "iopub.status.idle": "2021-06-23T00:32:29.719925Z",
     "shell.execute_reply": "2021-06-23T00:32:29.720491Z"
    },
    "papermill": {
     "duration": 0.467281,
     "end_time": "2021-06-23T00:32:29.720664",
     "exception": false,
     "start_time": "2021-06-23T00:32:29.253383",
     "status": "completed"
    },
    "tags": []
   },
   "outputs": [
    {
     "name": "stderr",
     "output_type": "stream",
     "text": [
      "/Users/machow/.virtualenvs/calitp-py/lib/python3.8/site-packages/plotnine/geoms/geom_path.py:75: PlotnineWarning: geom_path: Removed 31 rows containing missing values.\n",
      "/Users/machow/.virtualenvs/calitp-py/lib/python3.8/site-packages/plotnine/geoms/geom_path.py:81: PlotnineWarning: geom_path: Each group consist of only one observation. Do you need to adjust the group aesthetic?\n",
      "/Users/machow/.virtualenvs/calitp-py/lib/python3.8/site-packages/plotnine/layer.py:401: PlotnineWarning: geom_point : Removed 31 rows containing missing values.\n"
     ]
    },
    {
     "data": {
      "image/png": "[encoded data removed]",
      "text/plain": [
       "<Figure size 640x480 with 1 Axes>"
      ]
     },
     "metadata": {},
     "output_type": "display_data"
    },
    {
     "data": {
      "text/plain": [
       "<ggplot: (311397732)>"
      ]
     },
     "execution_count": 11,
     "metadata": {},
     "output_type": "execute_result"
    }
   ],
   "source": [
    "(\n",
    "    tbl_daily_service_hours\n",
    "    >> ggplot(aes(\"service_date\", \"ttl_service_hours\"))\n",
    "    + geom_line()\n",
    "    + geom_point()\n",
    "    + theme(axis_text_x=element_text(angle=45, hjust=1))\n",
    "    + scale_x_datetime(date_breaks=\"1 week\")\n",
    "    + expand_limits(y=0)\n",
    ")"
   ]
  },
  {
   "cell_type": "markdown",
   "id": "d5f7a467",
   "metadata": {
    "papermill": {
     "duration": 0.032609,
     "end_time": "2021-06-23T00:32:29.780492",
     "exception": false,
     "start_time": "2021-06-23T00:32:29.747883",
     "status": "completed"
    },
    "tags": []
   },
   "source": [
    "## Changes Since Previous Month"
   ]
  },
  {
   "cell_type": "code",
   "execution_count": 12,
   "id": "ba9334ce",
   "metadata": {
    "execution": {
     "iopub.execute_input": "2021-06-23T00:32:29.843272Z",
     "iopub.status.busy": "2021-06-23T00:32:29.841530Z",
     "iopub.status.idle": "2021-06-23T00:32:30.250575Z",
     "shell.execute_reply": "2021-06-23T00:32:30.249484Z"
    },
    "papermill": {
     "duration": 0.444159,
     "end_time": "2021-06-23T00:32:30.250800",
     "exception": false,
     "start_time": "2021-06-23T00:32:29.806641",
     "status": "completed"
    },
    "tags": []
   },
   "outputs": [
    {
     "data": {
      "image/png": "[encoded data removed]",
      "text/plain": [
       "<Figure size 640x480 with 1 Axes>"
      ]
     },
     "metadata": {},
     "output_type": "display_data"
    },
    {
     "data": {
      "text/plain": [
       "<ggplot: (311590632)>"
      ]
     },
     "execution_count": 12,
     "metadata": {},
     "output_type": "execute_result"
    }
   ],
   "source": [
    "(\n",
    "    pd.concat(\n",
    "        [\n",
    "            tbl_stops_changed >> mutate(kind=\"Stops\"),\n",
    "            tbl_routes_changed >> mutate(kind=\"Routes\"),\n",
    "        ]\n",
    "    )\n",
    "    >> ggplot(aes(\"kind\", \"n\", fill=\"status\"))\n",
    "    + geom_col()\n",
    "    + labs(x=\"Kind of ID\", y=\"Number of Changes\")\n",
    ")"
   ]
  },
  {
   "cell_type": "markdown",
   "id": "4bff5748",
   "metadata": {
    "papermill": {
     "duration": 0.023399,
     "end_time": "2021-06-23T00:32:30.293895",
     "exception": false,
     "start_time": "2021-06-23T00:32:30.270496",
     "status": "completed"
    },
    "tags": []
   },
   "source": [
    "### (Alternative version using percentages)"
   ]
  },
  {
   "cell_type": "code",
   "execution_count": 13,
   "id": "094d6841",
   "metadata": {
    "execution": {
     "iopub.execute_input": "2021-06-23T00:32:30.346570Z",
     "iopub.status.busy": "2021-06-23T00:32:30.345525Z",
     "iopub.status.idle": "2021-06-23T00:32:30.647674Z",
     "shell.execute_reply": "2021-06-23T00:32:30.648149Z"
    },
    "papermill": {
     "duration": 0.329781,
     "end_time": "2021-06-23T00:32:30.648323",
     "exception": false,
     "start_time": "2021-06-23T00:32:30.318542",
     "status": "completed"
    },
    "tags": []
   },
   "outputs": [
    {
     "data": {
      "image/png": "[encoded data removed]",
      "text/plain": [
       "<Figure size 640x480 with 1 Axes>"
      ]
     },
     "metadata": {},
     "output_type": "display_data"
    },
    {
     "data": {
      "text/plain": [
       "<ggplot: (311804567)>"
      ]
     },
     "execution_count": 13,
     "metadata": {},
     "output_type": "execute_result"
    }
   ],
   "source": [
    "(\n",
    "    pd.concat(\n",
    "        [\n",
    "            tbl_stops_changed >> mutate(kind=\"Stops\"),\n",
    "            tbl_routes_changed >> mutate(kind=\"Routes\"),\n",
    "        ]\n",
    "    )\n",
    "    >> ggplot(aes(\"kind\", \"percent\", fill=\"status\"))\n",
    "    + geom_col()\n",
    "    + labs(x=\"Kind of ID\", y=\"Percent of Changes\")\n",
    ")"
   ]
  },
  {
   "cell_type": "markdown",
   "id": "940da12e",
   "metadata": {
    "papermill": {
     "duration": 0.020084,
     "end_time": "2021-06-23T00:32:30.692123",
     "exception": false,
     "start_time": "2021-06-23T00:32:30.672039",
     "status": "completed"
    },
    "tags": []
   },
   "source": [
    "## Consistency with the California GTFS Minimum Guidelines for the feed downloaded\n"
   ]
  },
  {
   "cell_type": "code",
   "execution_count": 14,
   "id": "91fc0153",
   "metadata": {
    "execution": {
     "iopub.execute_input": "2021-06-23T00:32:30.761236Z",
     "iopub.status.busy": "2021-06-23T00:32:30.760057Z",
     "iopub.status.idle": "2021-06-23T00:32:30.774523Z",
     "shell.execute_reply": "2021-06-23T00:32:30.773683Z"
    },
    "papermill": {
     "duration": 0.048234,
     "end_time": "2021-06-23T00:32:30.774768",
     "exception": false,
     "start_time": "2021-06-23T00:32:30.726534",
     "status": "completed"
    },
    "tags": []
   },
   "outputs": [
    {
     "data": {
      "text/html": [
       "<div>\n",
       "<style scoped>\n",
       "    .dataframe tbody tr th:only-of-type {\n",
       "        vertical-align: middle;\n",
       "    }\n",
       "\n",
       "    .dataframe tbody tr th {\n",
       "        vertical-align: top;\n",
       "    }\n",
       "\n",
       "    .dataframe thead th {\n",
       "        text-align: right;\n",
       "    }\n",
       "</style>\n",
       "<table border=\"1\" class=\"dataframe\">\n",
       "  <thead>\n",
       "    <tr style=\"text-align: right;\">\n",
       "      <th></th>\n",
       "      <th>category</th>\n",
       "      <th>name</th>\n",
       "      <th>2021-05-16</th>\n",
       "      <th>2021-05-23</th>\n",
       "      <th>2021-05-30</th>\n",
       "    </tr>\n",
       "  </thead>\n",
       "  <tbody>\n",
       "    <tr>\n",
       "      <th>5</th>\n",
       "      <td>Visual display</td>\n",
       "      <td>shapes.txt</td>\n",
       "      <td>✅</td>\n",
       "      <td>✅</td>\n",
       "      <td>✅</td>\n",
       "    </tr>\n",
       "    <tr>\n",
       "      <th>3</th>\n",
       "      <td>Navigation</td>\n",
       "      <td>levels.txt</td>\n",
       "      <td></td>\n",
       "      <td></td>\n",
       "      <td></td>\n",
       "    </tr>\n",
       "    <tr>\n",
       "      <th>4</th>\n",
       "      <td>Navigation</td>\n",
       "      <td>pathways.txt</td>\n",
       "      <td></td>\n",
       "      <td></td>\n",
       "      <td></td>\n",
       "    </tr>\n",
       "    <tr>\n",
       "      <th>0</th>\n",
       "      <td>Fares</td>\n",
       "      <td>fare_leg_rules</td>\n",
       "      <td></td>\n",
       "      <td></td>\n",
       "      <td></td>\n",
       "    </tr>\n",
       "    <tr>\n",
       "      <th>1</th>\n",
       "      <td>Fares</td>\n",
       "      <td>fare_rules.txt</td>\n",
       "      <td>✅</td>\n",
       "      <td>✅</td>\n",
       "      <td>✅</td>\n",
       "    </tr>\n",
       "    <tr>\n",
       "      <th>2</th>\n",
       "      <td>Technical contacts</td>\n",
       "      <td>feed_info.txt</td>\n",
       "      <td>✅</td>\n",
       "      <td>✅</td>\n",
       "      <td>✅</td>\n",
       "    </tr>\n",
       "  </tbody>\n",
       "</table>\n",
       "</div>"
      ],
      "text/plain": [
       "             category            name 2021-05-16 2021-05-23 2021-05-30\n",
       "5      Visual display      shapes.txt          ✅          ✅          ✅\n",
       "3          Navigation      levels.txt                                 \n",
       "4          Navigation    pathways.txt                                 \n",
       "0               Fares  fare_leg_rules                                 \n",
       "1               Fares  fare_rules.txt          ✅          ✅          ✅\n",
       "2  Technical contacts   feed_info.txt          ✅          ✅          ✅"
      ]
     },
     "execution_count": 14,
     "metadata": {},
     "output_type": "execute_result"
    }
   ],
   "source": [
    "tbl_file_check"
   ]
  },
  {
   "cell_type": "markdown",
   "id": "ad98e6ce",
   "metadata": {
    "papermill": {
     "duration": 0.03568,
     "end_time": "2021-06-23T00:32:30.841253",
     "exception": false,
     "start_time": "2021-06-23T00:32:30.805573",
     "status": "completed"
    },
    "tags": []
   },
   "source": [
    "### Validation Errors Observed"
   ]
  },
  {
   "cell_type": "code",
   "execution_count": 15,
   "id": "8a549ddb",
   "metadata": {
    "execution": {
     "iopub.execute_input": "2021-06-23T00:32:30.943937Z",
     "iopub.status.busy": "2021-06-23T00:32:30.942266Z",
     "iopub.status.idle": "2021-06-23T00:32:30.962505Z",
     "shell.execute_reply": "2021-06-23T00:32:30.943102Z"
    },
    "papermill": {
     "duration": 0.075272,
     "end_time": "2021-06-23T00:32:30.962653",
     "exception": false,
     "start_time": "2021-06-23T00:32:30.887381",
     "status": "completed"
    },
    "tags": []
   },
   "outputs": [
    {
     "data": {
      "text/html": [
       "<div>\n",
       "<style scoped>\n",
       "    .dataframe tbody tr th:only-of-type {\n",
       "        vertical-align: middle;\n",
       "    }\n",
       "\n",
       "    .dataframe tbody tr th {\n",
       "        vertical-align: top;\n",
       "    }\n",
       "\n",
       "    .dataframe thead th {\n",
       "        text-align: right;\n",
       "    }\n",
       "</style>\n",
       "<table border=\"1\" class=\"dataframe\">\n",
       "  <thead>\n",
       "    <tr style=\"text-align: right;\">\n",
       "      <th></th>\n",
       "      <th>code</th>\n",
       "      <th>severity</th>\n",
       "      <th>n</th>\n",
       "    </tr>\n",
       "  </thead>\n",
       "  <tbody>\n",
       "  </tbody>\n",
       "</table>\n",
       "</div>"
      ],
      "text/plain": [
       "Empty DataFrame\n",
       "Columns: [code, severity, n]\n",
       "Index: []"
      ]
     },
     "execution_count": 15,
     "metadata": {},
     "output_type": "execute_result"
    }
   ],
   "source": [
    "tbl_validation_notices"
   ]
  }
 ],
 "metadata": {
  "kernelspec": {
   "display_name": "venv-calitp-py",
   "language": "python",
   "name": "venv-calitp-py"
  },
  "language_info": {
   "codemirror_mode": {
    "name": "ipython",
    "version": 3
   },
   "file_extension": ".py",
   "mimetype": "text/x-python",
   "name": "python",
   "nbconvert_exporter": "python",
   "pygments_lexer": "ipython3",
   "version": "3.8.5"
  },
  "papermill": {
   "default_parameters": {},
   "duration": 43.060908,
   "end_time": "2021-06-23T00:32:31.642538",
   "environment_variables": {},
   "exception": null,
   "input_path": "report.ipynb",
   "output_path": "output/207/report.ipynb",
   "parameters": {
    "CALITP_ITP_ID": 207,
    "CALITP_URL_NUMBER": 0
   },
   "start_time": "2021-06-23T00:31:48.581630",
   "version": "2.3.3"
  }
 },
 "nbformat": 4,
 "nbformat_minor": 5
}