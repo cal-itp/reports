{
 "cells": [
  {
   "cell_type": "markdown",
   "id": "8b1cd673",
   "metadata": {
    "papermill": {
     "duration": 0.016238,
     "end_time": "2021-06-23T00:31:37.759206",
     "exception": false,
     "start_time": "2021-06-23T00:31:37.742968",
     "status": "completed"
    },
    "tags": [
     "hide"
    ]
   },
   "source": [
    "# Setup"
   ]
  },
  {
   "cell_type": "code",
   "execution_count": 1,
   "id": "144c4cc0",
   "metadata": {
    "execution": {
     "iopub.execute_input": "2021-06-23T00:31:37.816149Z",
     "iopub.status.busy": "2021-06-23T00:31:37.806526Z",
     "iopub.status.idle": "2021-06-23T00:31:45.577261Z",
     "shell.execute_reply": "2021-06-23T00:31:45.579230Z"
    },
    "papermill": {
     "duration": 7.803597,
     "end_time": "2021-06-23T00:31:45.579683",
     "exception": false,
     "start_time": "2021-06-23T00:31:37.776086",
     "status": "completed"
    },
    "tags": [
     "hide"
    ]
   },
   "outputs": [],
   "source": [
    "import pandas as pd\n",
    "\n",
    "from io import StringIO\n",
    "from calitp.tables import tbl\n",
    "from datetime import date\n",
    "from siuba import *\n",
    "from plotnine import *\n",
    "\n",
    "\n",
    "START_DATE = \"2021-05-01\"\n",
    "END_DATE = \"2021-06-01\"\n",
    "DATE_TODAY=date.today()\n",
    "\n",
    "WEEK_MARKERS = pd.date_range(START_DATE, END_DATE, freq=\"W\").astype(str).tolist()"
   ]
  },
  {
   "cell_type": "code",
   "execution_count": 2,
   "id": "8727e764",
   "metadata": {
    "execution": {
     "iopub.execute_input": "2021-06-23T00:31:45.648706Z",
     "iopub.status.busy": "2021-06-23T00:31:45.647997Z",
     "iopub.status.idle": "2021-06-23T00:31:45.659725Z",
     "shell.execute_reply": "2021-06-23T00:31:45.661331Z"
    },
    "papermill": {
     "duration": 0.056263,
     "end_time": "2021-06-23T00:31:45.661715",
     "exception": false,
     "start_time": "2021-06-23T00:31:45.605452",
     "status": "completed"
    },
    "tags": [
     "parameters",
     "hide"
    ]
   },
   "outputs": [],
   "source": [
    "CALITP_ITP_ID=389\n",
    "#CALITP_ITP_ID=45\n",
    "CALITP_URL_NUMBER=0"
   ]
  },
  {
   "cell_type": "code",
   "execution_count": 3,
   "id": "d0f9226f",
   "metadata": {
    "execution": {
     "iopub.execute_input": "2021-06-23T00:31:45.745566Z",
     "iopub.status.busy": "2021-06-23T00:31:45.743380Z",
     "iopub.status.idle": "2021-06-23T00:31:45.747848Z",
     "shell.execute_reply": "2021-06-23T00:31:45.746905Z"
    },
    "papermill": {
     "duration": 0.065209,
     "end_time": "2021-06-23T00:31:45.748092",
     "exception": false,
     "start_time": "2021-06-23T00:31:45.682883",
     "status": "completed"
    },
    "tags": [
     "injected-parameters"
    ]
   },
   "outputs": [],
   "source": [
    "# Parameters\n",
    "CALITP_ITP_ID = 203\n",
    "CALITP_URL_NUMBER = 0\n"
   ]
  },
  {
   "cell_type": "code",
   "execution_count": 4,
   "id": "34f117ef",
   "metadata": {
    "execution": {
     "iopub.execute_input": "2021-06-23T00:31:45.885426Z",
     "iopub.status.busy": "2021-06-23T00:31:45.884294Z",
     "iopub.status.idle": "2021-06-23T00:31:45.894453Z",
     "shell.execute_reply": "2021-06-23T00:31:45.895171Z"
    },
    "papermill": {
     "duration": 0.080843,
     "end_time": "2021-06-23T00:31:45.895428",
     "exception": false,
     "start_time": "2021-06-23T00:31:45.814585",
     "status": "completed"
    },
    "tags": [
     "hide"
    ]
   },
   "outputs": [],
   "source": [
    "# Convenience functions ----\n",
    "\n",
    "filter_start = filter(\n",
    "    _.calitp_extracted_at <= START_DATE,\n",
    "    _.calitp_deleted_at.fillna(\"2099-01-01\") > START_DATE,\n",
    ")\n",
    "\n",
    "filter_end = filter(\n",
    "    _.calitp_extracted_at <= END_DATE,\n",
    "    _.calitp_deleted_at.fillna(\"2099-01-01\") > END_DATE,\n",
    ")\n",
    "\n",
    "filter_itp = filter(\n",
    "    _.calitp_itp_id == CALITP_ITP_ID, _.calitp_url_number == CALITP_URL_NUMBER\n",
    ")\n",
    "\n",
    "collect_to_dict = (\n",
    "    collect()\n",
    "    >> pipe(_.to_dict(orient=\"records\")[0])\n",
    ")\n",
    "\n",
    "\n",
    "select_rm_calitp = select(\n",
    "    -_.calitp_itp_id,\n",
    "    -_.calitp_url_number,\n",
    "    -_.calitp_hash,\n",
    "    -_.calitp_extracted_at,\n",
    "    -_.calitp_deleted_at,\n",
    ")\n",
    "\n",
    "\n",
    "def query_id_changes(start_table, end_table, id_vars):\n",
    "    \"\"\"Calculate id variables that are removed, added, or unchanged between tables.\n",
    "    \n",
    "    It works by adding a special column to each table, performing a full join,\n",
    "    then checking where the special column is null.\n",
    "    \"\"\"\n",
    "    sym_id_vars = [_[k] for k in id_vars]\n",
    "\n",
    "    is_in_start = start_table >> select(*id_vars) >> mutate(is_in_start=True)\n",
    "    is_in_end = end_table >> select(*id_vars) >> mutate(is_in_end=True)\n",
    "\n",
    "    baseline = start_table >> count(*id_vars) >> rename(n_baseline=\"n\")\n",
    "    tallies = (\n",
    "        is_in_start\n",
    "        >> full_join(_, is_in_end, id_vars)\n",
    "        >> count(*sym_id_vars, _.is_in_start, _.is_in_end)\n",
    "        >> mutate(\n",
    "            status=case_when(\n",
    "                _,\n",
    "                {\n",
    "                    _.is_in_end.isna(): \"Removed\",\n",
    "                    _.is_in_start.isna(): \"Added\",\n",
    "                    True: \"Unchanged\",\n",
    "                },\n",
    "            )\n",
    "        )\n",
    "        >> count(*sym_id_vars[:-1], _.status)\n",
    "        >> group_by(*sym_id_vars[:-1])\n",
    "        >> mutate(percent=_.n / _.n.sum())\n",
    "    )\n",
    "\n",
    "    return tallies"
   ]
  },
  {
   "cell_type": "code",
   "execution_count": 5,
   "id": "9e98f4b7",
   "metadata": {
    "execution": {
     "iopub.execute_input": "2021-06-23T00:31:45.978516Z",
     "iopub.status.busy": "2021-06-23T00:31:45.971499Z",
     "iopub.status.idle": "2021-06-23T00:32:12.265903Z",
     "shell.execute_reply": "2021-06-23T00:32:12.265365Z"
    },
    "papermill": {
     "duration": 26.340227,
     "end_time": "2021-06-23T00:32:12.266065",
     "exception": false,
     "start_time": "2021-06-23T00:31:45.925838",
     "status": "completed"
    },
    "tags": [
     "hide"
    ]
   },
   "outputs": [],
   "source": [
    "# Data ====\n",
    "# 1. High level feed info ----\n",
    "feed_info = (\n",
    "    tbl.gtfs_schedule_type2.feed_info()\n",
    "    >> filter_end\n",
    "    >> filter_itp\n",
    "    >> select_rm_calitp\n",
    "    >> collect_to_dict\n",
    ")\n",
    "\n",
    "_n_routes = (\n",
    "    tbl.gtfs_schedule_type2.routes() >> filter_end >> filter_itp >> count() >> collect()\n",
    ")\n",
    "_n_stops = (\n",
    "    tbl.gtfs_schedule_type2.stops() >> filter_end >> filter_itp >> count() >> collect()\n",
    ")\n",
    "\n",
    "feed_info[\"n_routes\"] = int(_n_routes.loc[0, \"n\"])\n",
    "feed_info[\"n_stops\"] = int(_n_stops.loc[0, \"n\"])\n",
    "\n",
    "status = (\n",
    "    tbl.views.gtfs_status_latest()\n",
    "    >> filter(_.itp_id == CALITP_ITP_ID, _.url_number == CALITP_URL_NUMBER)\n",
    "    >> select(-_.url_number, -_.status)\n",
    "    >> select_rm_calitp\n",
    "    >> collect_to_dict\n",
    ")\n",
    "\n",
    "# 2. Monthly metrics ----\n",
    "# Service hours per day. Note that the queried table calculates service\n",
    "# hours per service id, so we need to sum across service ids for the day\n",
    "_cross_cal = (\n",
    "    tbl.views.dim_date()\n",
    "    >> filter(_.full_date.between(START_DATE, END_DATE))\n",
    "    >> select(_.service_date == _.full_date)\n",
    ")\n",
    "\n",
    "tbl_daily_service_hours = (\n",
    "    tbl.views.gtfs_schedule_service_daily_metrics()\n",
    "    >> filter_itp\n",
    "    >> filter(_.service_date.between(START_DATE, END_DATE))\n",
    "    >> right_join(_, _cross_cal, [\"service_date\"])\n",
    "    >> collect()\n",
    "    >> group_by(_.service_date)\n",
    "    >> summarize(ttl_service_hours=(_.last_arrival_ts.max() - _.first_departure_ts.min()) / 3600)\n",
    "    >> mutate(\n",
    "        ttl_service_hours=_.ttl_service_hours.astype(float).round(2),\n",
    "        service_date=_.service_date.astype(\"datetime64[ns]\"),\n",
    "    )\n",
    ")\n",
    "\n",
    "# number of days where a feed did not have any trips in service\n",
    "n_expired_days = (\n",
    "    tbl_daily_service_hours >> filter(_.ttl_service_hours.isna())\n",
    "    >> pipe(lambda d: {\"n\": d.shape[0]})\n",
    ")\n",
    "\n",
    "# 3. Stop and Route ID Changes ----\n",
    "\n",
    "_tbl_stops_start = tbl.gtfs_schedule_type2.stops() >> filter_itp >> filter_start\n",
    "_tbl_stops_end = tbl.gtfs_schedule_type2.stops() >> filter_itp >> filter_end\n",
    "tbl_stops_changed = (\n",
    "    query_id_changes(_tbl_stops_start, _tbl_stops_end, [\"stop_id\"]) >> collect()\n",
    ")\n",
    "\n",
    "_tbl_routes_start = tbl.gtfs_schedule_type2.routes() >> filter_start\n",
    "_tbl_routes_end = tbl.gtfs_schedule_type2.routes() >> filter_end\n",
    "tbl_routes_changed = (\n",
    "    query_id_changes(_tbl_routes_start, _tbl_routes_end, [\"route_id\"]) >> collect()\n",
    ")"
   ]
  },
  {
   "cell_type": "code",
   "execution_count": 6,
   "id": "651510ce",
   "metadata": {
    "execution": {
     "iopub.execute_input": "2021-06-23T00:32:12.312303Z",
     "iopub.status.busy": "2021-06-23T00:32:12.311332Z",
     "iopub.status.idle": "2021-06-23T00:32:18.746154Z",
     "shell.execute_reply": "2021-06-23T00:32:18.746781Z"
    },
    "papermill": {
     "duration": 6.465132,
     "end_time": "2021-06-23T00:32:18.746982",
     "exception": false,
     "start_time": "2021-06-23T00:32:12.281850",
     "status": "completed"
    },
    "tags": [
     "hide"
    ]
   },
   "outputs": [],
   "source": [
    "# 4. Feed files being checked for ----\n",
    "\n",
    "file_categories = pd.DataFrame(\n",
    "    {\n",
    "        \"shapes.txt\": \"Visual display\",\n",
    "        \"pathways.txt\": \"Navigation\",\n",
    "        \"levels.txt\": \"Navigation\",\n",
    "        \"fare_rules.txt\": \"Fares\",\n",
    "        \"fare_leg_rules\": \"Fares\",\n",
    "        \"feed_info.txt\": \"Technical contacts\",\n",
    "    }.items(),\n",
    "    columns=[\"name\", \"category\"],\n",
    ")\n",
    "\n",
    "importance = [\"Visual display\", \"Navigation\", \"Fares\", \"Technical contacts\"]\n",
    "\n",
    "tbl_file_check = (\n",
    "    tbl.gtfs_schedule_history.calitp_files_updates()\n",
    "    >> filter_itp\n",
    "    >> filter(_.calitp_extracted_at.isin(WEEK_MARKERS))\n",
    "    >> select(_.name, _.calitp_extracted_at)\n",
    "    >> collect()\n",
    "    >> right_join(_, file_categories, [\"name\"])\n",
    "    >> mutate(\n",
    "        calitp_extracted_at=_.calitp_extracted_at.fillna(\"missing\").astype(str),\n",
    "        success=\"✅\",\n",
    "    )\n",
    "    >> spread(_.calitp_extracted_at, _.success)\n",
    "    >> select(-_.missing)\n",
    "    >> arrange(_.category.apply(importance.index))\n",
    "    >> select(_.category, _.contains(\"\"))\n",
    "    >> pipe(_.fillna(\"\"))\n",
    ")\n",
    "\n",
    "tbl_validation_notices = (\n",
    "    tbl.views.validation_notices()\n",
    "    >> filter_itp\n",
    "    >> filter(_.severity == \"ERROR\")\n",
    "    >> count(_.code, _.severity)\n",
    "    >> collect()\n",
    ")"
   ]
  },
  {
   "cell_type": "markdown",
   "id": "2318afee",
   "metadata": {
    "papermill": {
     "duration": 0.015173,
     "end_time": "2021-06-23T00:32:18.778694",
     "exception": false,
     "start_time": "2021-06-23T00:32:18.763521",
     "status": "completed"
    },
    "tags": [
     "hide"
    ]
   },
   "source": [
    "## Dump data"
   ]
  },
  {
   "cell_type": "code",
   "execution_count": 7,
   "id": "149e1a72",
   "metadata": {
    "execution": {
     "iopub.execute_input": "2021-06-23T00:32:18.821866Z",
     "iopub.status.busy": "2021-06-23T00:32:18.820906Z",
     "iopub.status.idle": "2021-06-23T00:32:18.830482Z",
     "shell.execute_reply": "2021-06-23T00:32:18.829895Z"
    },
    "papermill": {
     "duration": 0.032882,
     "end_time": "2021-06-23T00:32:18.830619",
     "exception": false,
     "start_time": "2021-06-23T00:32:18.797737",
     "status": "completed"
    },
    "tags": [
     "hide"
    ]
   },
   "outputs": [],
   "source": [
    "import json\n",
    "import shutil\n",
    "\n",
    "from pathlib import Path\n",
    "\n",
    "out_dir = Path(f\"output/{CALITP_ITP_ID}_{CALITP_URL_NUMBER}/data\")\n",
    "out_dir.mkdir(parents=True, exist_ok=True)\n",
    "\n",
    "json.dump(feed_info, open(out_dir / \"1_feed_info.json\", \"w\"))\n",
    "json.dump(status, open(out_dir / \"1_status.json\", \"w\"))\n",
    "\n",
    "tbl_daily_service_hours.to_json(out_dir / \"2_daily_service_hours.json\", orient=\"records\")\n",
    "json.dump(n_expired_days, open(out_dir / \"2_n_expired_days.json\", \"w\"))\n",
    "\n",
    "tbl_stops_changed.to_json(out_dir / \"3_stops_changed.json\", orient=\"records\")\n",
    "tbl_routes_changed.to_json(out_dir / \"3_routes_changed.json\", orient=\"records\")\n",
    "tbl_file_check.to_json(out_dir / \"4_file_check.json\", orient=\"records\")\n",
    "tbl_validation_notices.to_json(out_dir / \"4_validation_notices.json\", orient=\"records\")\n"
   ]
  },
  {
   "cell_type": "markdown",
   "id": "d0d8358f",
   "metadata": {
    "papermill": {
     "duration": 0.014491,
     "end_time": "2021-06-23T00:32:18.859371",
     "exception": false,
     "start_time": "2021-06-23T00:32:18.844880",
     "status": "completed"
    },
    "tags": []
   },
   "source": [
    "# GTFS Schedule Report"
   ]
  },
  {
   "cell_type": "markdown",
   "id": "90139087",
   "metadata": {
    "papermill": {
     "duration": 0.015359,
     "end_time": "2021-06-23T00:32:18.890579",
     "exception": false,
     "start_time": "2021-06-23T00:32:18.875220",
     "status": "completed"
    },
    "tags": []
   },
   "source": [
    "# Example Juniper Report"
   ]
  },
  {
   "cell_type": "code",
   "execution_count": 8,
   "id": "33ccaa64",
   "metadata": {
    "execution": {
     "iopub.execute_input": "2021-06-23T00:32:18.943001Z",
     "iopub.status.busy": "2021-06-23T00:32:18.941797Z",
     "iopub.status.idle": "2021-06-23T00:32:18.946627Z",
     "shell.execute_reply": "2021-06-23T00:32:18.947076Z"
    },
    "papermill": {
     "duration": 0.037608,
     "end_time": "2021-06-23T00:32:18.947242",
     "exception": false,
     "start_time": "2021-06-23T00:32:18.909634",
     "status": "completed"
    },
    "tags": []
   },
   "outputs": [
    {
     "data": {
      "text/markdown": [
       "\n",
       "Transit provider name: Modesto Area Express\n",
       "\n",
       "Date generated: 2021-06-22\n"
      ],
      "text/plain": [
       "<IPython.core.display.Markdown object>"
      ]
     },
     "execution_count": 8,
     "metadata": {},
     "output_type": "execute_result"
    }
   ],
   "source": [
    "from IPython.display import Markdown\n",
    "\n",
    "Markdown(f\"\"\"\n",
    "Transit provider name: {feed_info[\"feed_publisher_name\"]}\n",
    "\n",
    "Date generated: {DATE_TODAY}\n",
    "\"\"\")"
   ]
  },
  {
   "cell_type": "markdown",
   "id": "4bd19f5e",
   "metadata": {
    "papermill": {
     "duration": 0.014606,
     "end_time": "2021-06-23T00:32:18.977291",
     "exception": false,
     "start_time": "2021-06-23T00:32:18.962685",
     "status": "completed"
    },
    "tags": []
   },
   "source": [
    "This is a monthly report, generated by the California Integrated Travel Project (Cal-ITP), summarizing issues discovered by MobilityData’s GTFS Validator. This report is available for viewing by the general public to support continuous improvement of GTFS data and the experience of transit passengers. "
   ]
  },
  {
   "cell_type": "markdown",
   "id": "7675ba38",
   "metadata": {
    "papermill": {
     "duration": 0.01531,
     "end_time": "2021-06-23T00:32:19.008551",
     "exception": false,
     "start_time": "2021-06-23T00:32:18.993241",
     "status": "completed"
    },
    "tags": []
   },
   "source": [
    "## Overview"
   ]
  },
  {
   "cell_type": "code",
   "execution_count": 9,
   "id": "07be7af6",
   "metadata": {
    "execution": {
     "iopub.execute_input": "2021-06-23T00:32:19.050145Z",
     "iopub.status.busy": "2021-06-23T00:32:19.049365Z",
     "iopub.status.idle": "2021-06-23T00:32:19.052678Z",
     "shell.execute_reply": "2021-06-23T00:32:19.052237Z"
    },
    "papermill": {
     "duration": 0.023781,
     "end_time": "2021-06-23T00:32:19.052817",
     "exception": false,
     "start_time": "2021-06-23T00:32:19.029036",
     "status": "completed"
    },
    "tags": []
   },
   "outputs": [
    {
     "data": {
      "text/markdown": [
       "\n",
       "Feed location: https://www.modestoareaexpress.com/preview-gtfs.zip\n",
       "\n",
       "Metrics for the most recent published version of the feed:\n",
       "\n",
       "* Date published: 20210513\n",
       "* Number of routes in any service: 22\n",
       "* Number of stops in service: 744\n"
      ],
      "text/plain": [
       "<IPython.core.display.Markdown object>"
      ]
     },
     "execution_count": 9,
     "metadata": {},
     "output_type": "execute_result"
    }
   ],
   "source": [
    "Markdown(f\"\"\"\n",
    "Feed location: {status[\"gtfs_schedule_url\"]}\n",
    "\n",
    "Metrics for the most recent published version of the feed:\n",
    "\n",
    "* Date published: {feed_info[\"feed_version\"]}\n",
    "* Number of routes in any service: {feed_info[\"n_routes\"]}\n",
    "* Number of stops in service: {feed_info[\"n_stops\"]}\n",
    "\"\"\")"
   ]
  },
  {
   "cell_type": "markdown",
   "id": "54a2d166",
   "metadata": {
    "papermill": {
     "duration": 0.015691,
     "end_time": "2021-06-23T00:32:19.083897",
     "exception": false,
     "start_time": "2021-06-23T00:32:19.068206",
     "status": "completed"
    },
    "tags": []
   },
   "source": [
    "## Aggregated Metrics for May"
   ]
  },
  {
   "cell_type": "code",
   "execution_count": 10,
   "id": "ebc5a8c7",
   "metadata": {
    "execution": {
     "iopub.execute_input": "2021-06-23T00:32:19.129379Z",
     "iopub.status.busy": "2021-06-23T00:32:19.128587Z",
     "iopub.status.idle": "2021-06-23T00:32:19.131285Z",
     "shell.execute_reply": "2021-06-23T00:32:19.129880Z"
    },
    "papermill": {
     "duration": 0.02936,
     "end_time": "2021-06-23T00:32:19.131434",
     "exception": false,
     "start_time": "2021-06-23T00:32:19.102074",
     "status": "completed"
    },
    "tags": []
   },
   "outputs": [
    {
     "data": {
      "text/markdown": [
       "\n",
       "Days when the active feed was expired: 6\n"
      ],
      "text/plain": [
       "<IPython.core.display.Markdown object>"
      ]
     },
     "execution_count": 10,
     "metadata": {},
     "output_type": "execute_result"
    }
   ],
   "source": [
    "Markdown(f\"\"\"\n",
    "Days when the active feed was expired: {n_expired_days[\"n\"]}\n",
    "\"\"\")"
   ]
  },
  {
   "cell_type": "code",
   "execution_count": 11,
   "id": "e32fe47a",
   "metadata": {
    "execution": {
     "iopub.execute_input": "2021-06-23T00:32:19.208154Z",
     "iopub.status.busy": "2021-06-23T00:32:19.182920Z",
     "iopub.status.idle": "2021-06-23T00:32:19.550964Z",
     "shell.execute_reply": "2021-06-23T00:32:19.551462Z"
    },
    "papermill": {
     "duration": 0.401807,
     "end_time": "2021-06-23T00:32:19.551650",
     "exception": false,
     "start_time": "2021-06-23T00:32:19.149843",
     "status": "completed"
    },
    "tags": []
   },
   "outputs": [
    {
     "name": "stderr",
     "output_type": "stream",
     "text": [
      "/Users/machow/.virtualenvs/calitp-py/lib/python3.8/site-packages/plotnine/geoms/geom_path.py:75: PlotnineWarning: geom_path: Removed 5 rows containing missing values.\n",
      "/Users/machow/.virtualenvs/calitp-py/lib/python3.8/site-packages/plotnine/layer.py:401: PlotnineWarning: geom_point : Removed 6 rows containing missing values.\n"
     ]
    },
    {
     "data": {
      "image/png": "[encoded data removed]",
      "text/plain": [
       "<Figure size 640x480 with 1 Axes>"
      ]
     },
     "metadata": {},
     "output_type": "display_data"
    },
    {
     "data": {
      "text/plain": [
       "<ggplot: (289552183)>"
      ]
     },
     "execution_count": 11,
     "metadata": {},
     "output_type": "execute_result"
    }
   ],
   "source": [
    "(\n",
    "    tbl_daily_service_hours\n",
    "    >> ggplot(aes(\"service_date\", \"ttl_service_hours\"))\n",
    "    + geom_line()\n",
    "    + geom_point()\n",
    "    + theme(axis_text_x=element_text(angle=45, hjust=1))\n",
    "    + scale_x_datetime(date_breaks=\"1 week\")\n",
    "    + expand_limits(y=0)\n",
    ")"
   ]
  },
  {
   "cell_type": "markdown",
   "id": "1e63c6a4",
   "metadata": {
    "papermill": {
     "duration": 0.023287,
     "end_time": "2021-06-23T00:32:19.599998",
     "exception": false,
     "start_time": "2021-06-23T00:32:19.576711",
     "status": "completed"
    },
    "tags": []
   },
   "source": [
    "## Changes Since Previous Month"
   ]
  },
  {
   "cell_type": "code",
   "execution_count": 12,
   "id": "332cc1fa",
   "metadata": {
    "execution": {
     "iopub.execute_input": "2021-06-23T00:32:19.781001Z",
     "iopub.status.busy": "2021-06-23T00:32:19.710298Z",
     "iopub.status.idle": "2021-06-23T00:32:19.961540Z",
     "shell.execute_reply": "2021-06-23T00:32:19.961961Z"
    },
    "papermill": {
     "duration": 0.304488,
     "end_time": "2021-06-23T00:32:19.962120",
     "exception": false,
     "start_time": "2021-06-23T00:32:19.657632",
     "status": "completed"
    },
    "tags": []
   },
   "outputs": [
    {
     "data": {
      "image/png": "[encoded data removed]",
      "text/plain": [
       "<Figure size 640x480 with 1 Axes>"
      ]
     },
     "metadata": {},
     "output_type": "display_data"
    },
    {
     "data": {
      "text/plain": [
       "<ggplot: (277636292)>"
      ]
     },
     "execution_count": 12,
     "metadata": {},
     "output_type": "execute_result"
    }
   ],
   "source": [
    "(\n",
    "    pd.concat(\n",
    "        [\n",
    "            tbl_stops_changed >> mutate(kind=\"Stops\"),\n",
    "            tbl_routes_changed >> mutate(kind=\"Routes\"),\n",
    "        ]\n",
    "    )\n",
    "    >> ggplot(aes(\"kind\", \"n\", fill=\"status\"))\n",
    "    + geom_col()\n",
    "    + labs(x=\"Kind of ID\", y=\"Number of Changes\")\n",
    ")"
   ]
  },
  {
   "cell_type": "markdown",
   "id": "ebbd02ca",
   "metadata": {
    "papermill": {
     "duration": 0.02009,
     "end_time": "2021-06-23T00:32:20.001891",
     "exception": false,
     "start_time": "2021-06-23T00:32:19.981801",
     "status": "completed"
    },
    "tags": []
   },
   "source": [
    "### (Alternative version using percentages)"
   ]
  },
  {
   "cell_type": "code",
   "execution_count": 13,
   "id": "6d2f34c1",
   "metadata": {
    "execution": {
     "iopub.execute_input": "2021-06-23T00:32:20.069890Z",
     "iopub.status.busy": "2021-06-23T00:32:20.064344Z",
     "iopub.status.idle": "2021-06-23T00:32:20.320749Z",
     "shell.execute_reply": "2021-06-23T00:32:20.320189Z"
    },
    "papermill": {
     "duration": 0.29604,
     "end_time": "2021-06-23T00:32:20.320883",
     "exception": false,
     "start_time": "2021-06-23T00:32:20.024843",
     "status": "completed"
    },
    "tags": []
   },
   "outputs": [
    {
     "data": {
      "image/png": "[encoded data removed]",
      "text/plain": [
       "<Figure size 640x480 with 1 Axes>"
      ]
     },
     "metadata": {},
     "output_type": "display_data"
    },
    {
     "data": {
      "text/plain": [
       "<ggplot: (307197519)>"
      ]
     },
     "execution_count": 13,
     "metadata": {},
     "output_type": "execute_result"
    }
   ],
   "source": [
    "(\n",
    "    pd.concat(\n",
    "        [\n",
    "            tbl_stops_changed >> mutate(kind=\"Stops\"),\n",
    "            tbl_routes_changed >> mutate(kind=\"Routes\"),\n",
    "        ]\n",
    "    )\n",
    "    >> ggplot(aes(\"kind\", \"percent\", fill=\"status\"))\n",
    "    + geom_col()\n",
    "    + labs(x=\"Kind of ID\", y=\"Percent of Changes\")\n",
    ")"
   ]
  },
  {
   "cell_type": "markdown",
   "id": "46dbf056",
   "metadata": {
    "papermill": {
     "duration": 0.020145,
     "end_time": "2021-06-23T00:32:20.361636",
     "exception": false,
     "start_time": "2021-06-23T00:32:20.341491",
     "status": "completed"
    },
    "tags": []
   },
   "source": [
    "## Consistency with the California GTFS Minimum Guidelines for the feed downloaded\n"
   ]
  },
  {
   "cell_type": "code",
   "execution_count": 14,
   "id": "1818321b",
   "metadata": {
    "execution": {
     "iopub.execute_input": "2021-06-23T00:32:20.434342Z",
     "iopub.status.busy": "2021-06-23T00:32:20.433156Z",
     "iopub.status.idle": "2021-06-23T00:32:20.438679Z",
     "shell.execute_reply": "2021-06-23T00:32:20.439420Z"
    },
    "papermill": {
     "duration": 0.040768,
     "end_time": "2021-06-23T00:32:20.439682",
     "exception": false,
     "start_time": "2021-06-23T00:32:20.398914",
     "status": "completed"
    },
    "tags": []
   },
   "outputs": [
    {
     "data": {
      "text/html": [
       "<div>\n",
       "<style scoped>\n",
       "    .dataframe tbody tr th:only-of-type {\n",
       "        vertical-align: middle;\n",
       "    }\n",
       "\n",
       "    .dataframe tbody tr th {\n",
       "        vertical-align: top;\n",
       "    }\n",
       "\n",
       "    .dataframe thead th {\n",
       "        text-align: right;\n",
       "    }\n",
       "</style>\n",
       "<table border=\"1\" class=\"dataframe\">\n",
       "  <thead>\n",
       "    <tr style=\"text-align: right;\">\n",
       "      <th></th>\n",
       "      <th>category</th>\n",
       "      <th>name</th>\n",
       "      <th>2021-05-09</th>\n",
       "      <th>2021-05-16</th>\n",
       "      <th>2021-05-23</th>\n",
       "      <th>2021-05-30</th>\n",
       "    </tr>\n",
       "  </thead>\n",
       "  <tbody>\n",
       "    <tr>\n",
       "      <th>5</th>\n",
       "      <td>Visual display</td>\n",
       "      <td>shapes.txt</td>\n",
       "      <td>✅</td>\n",
       "      <td>✅</td>\n",
       "      <td>✅</td>\n",
       "      <td>✅</td>\n",
       "    </tr>\n",
       "    <tr>\n",
       "      <th>3</th>\n",
       "      <td>Navigation</td>\n",
       "      <td>levels.txt</td>\n",
       "      <td></td>\n",
       "      <td></td>\n",
       "      <td></td>\n",
       "      <td></td>\n",
       "    </tr>\n",
       "    <tr>\n",
       "      <th>4</th>\n",
       "      <td>Navigation</td>\n",
       "      <td>pathways.txt</td>\n",
       "      <td></td>\n",
       "      <td></td>\n",
       "      <td></td>\n",
       "      <td></td>\n",
       "    </tr>\n",
       "    <tr>\n",
       "      <th>0</th>\n",
       "      <td>Fares</td>\n",
       "      <td>fare_leg_rules</td>\n",
       "      <td></td>\n",
       "      <td></td>\n",
       "      <td></td>\n",
       "      <td></td>\n",
       "    </tr>\n",
       "    <tr>\n",
       "      <th>1</th>\n",
       "      <td>Fares</td>\n",
       "      <td>fare_rules.txt</td>\n",
       "      <td></td>\n",
       "      <td></td>\n",
       "      <td></td>\n",
       "      <td></td>\n",
       "    </tr>\n",
       "    <tr>\n",
       "      <th>2</th>\n",
       "      <td>Technical contacts</td>\n",
       "      <td>feed_info.txt</td>\n",
       "      <td>✅</td>\n",
       "      <td>✅</td>\n",
       "      <td>✅</td>\n",
       "      <td>✅</td>\n",
       "    </tr>\n",
       "  </tbody>\n",
       "</table>\n",
       "</div>"
      ],
      "text/plain": [
       "             category            name 2021-05-09 2021-05-16 2021-05-23  \\\n",
       "5      Visual display      shapes.txt          ✅          ✅          ✅   \n",
       "3          Navigation      levels.txt                                    \n",
       "4          Navigation    pathways.txt                                    \n",
       "0               Fares  fare_leg_rules                                    \n",
       "1               Fares  fare_rules.txt                                    \n",
       "2  Technical contacts   feed_info.txt          ✅          ✅          ✅   \n",
       "\n",
       "  2021-05-30  \n",
       "5          ✅  \n",
       "3             \n",
       "4             \n",
       "0             \n",
       "1             \n",
       "2          ✅  "
      ]
     },
     "execution_count": 14,
     "metadata": {},
     "output_type": "execute_result"
    }
   ],
   "source": [
    "tbl_file_check"
   ]
  },
  {
   "cell_type": "markdown",
   "id": "21185003",
   "metadata": {
    "papermill": {
     "duration": 0.021087,
     "end_time": "2021-06-23T00:32:20.488703",
     "exception": false,
     "start_time": "2021-06-23T00:32:20.467616",
     "status": "completed"
    },
    "tags": []
   },
   "source": [
    "### Validation Errors Observed"
   ]
  },
  {
   "cell_type": "code",
   "execution_count": 15,
   "id": "1e7cc5af",
   "metadata": {
    "execution": {
     "iopub.execute_input": "2021-06-23T00:32:20.546153Z",
     "iopub.status.busy": "2021-06-23T00:32:20.544992Z",
     "iopub.status.idle": "2021-06-23T00:32:20.548676Z",
     "shell.execute_reply": "2021-06-23T00:32:20.549153Z"
    },
    "papermill": {
     "duration": 0.031582,
     "end_time": "2021-06-23T00:32:20.549314",
     "exception": false,
     "start_time": "2021-06-23T00:32:20.517732",
     "status": "completed"
    },
    "tags": []
   },
   "outputs": [
    {
     "data": {
      "text/html": [
       "<div>\n",
       "<style scoped>\n",
       "    .dataframe tbody tr th:only-of-type {\n",
       "        vertical-align: middle;\n",
       "    }\n",
       "\n",
       "    .dataframe tbody tr th {\n",
       "        vertical-align: top;\n",
       "    }\n",
       "\n",
       "    .dataframe thead th {\n",
       "        text-align: right;\n",
       "    }\n",
       "</style>\n",
       "<table border=\"1\" class=\"dataframe\">\n",
       "  <thead>\n",
       "    <tr style=\"text-align: right;\">\n",
       "      <th></th>\n",
       "      <th>code</th>\n",
       "      <th>severity</th>\n",
       "      <th>n</th>\n",
       "    </tr>\n",
       "  </thead>\n",
       "  <tbody>\n",
       "    <tr>\n",
       "      <th>0</th>\n",
       "      <td>decreasing_or_equal_shape_distance</td>\n",
       "      <td>ERROR</td>\n",
       "      <td>1720</td>\n",
       "    </tr>\n",
       "  </tbody>\n",
       "</table>\n",
       "</div>"
      ],
      "text/plain": [
       "                                 code severity     n\n",
       "0  decreasing_or_equal_shape_distance    ERROR  1720"
      ]
     },
     "execution_count": 15,
     "metadata": {},
     "output_type": "execute_result"
    }
   ],
   "source": [
    "tbl_validation_notices"
   ]
  }
 ],
 "metadata": {
  "kernelspec": {
   "display_name": "venv-calitp-py",
   "language": "python",
   "name": "venv-calitp-py"
  },
  "language_info": {
   "codemirror_mode": {
    "name": "ipython",
    "version": 3
   },
   "file_extension": ".py",
   "mimetype": "text/x-python",
   "name": "python",
   "nbconvert_exporter": "python",
   "pygments_lexer": "ipython3",
   "version": "3.8.5"
  },
  "papermill": {
   "default_parameters": {},
   "duration": 45.343187,
   "end_time": "2021-06-23T00:32:22.130437",
   "environment_variables": {},
   "exception": null,
   "input_path": "report.ipynb",
   "output_path": "output/203/report.ipynb",
   "parameters": {
    "CALITP_ITP_ID": 203,
    "CALITP_URL_NUMBER": 0
   },
   "start_time": "2021-06-23T00:31:36.787250",
   "version": "2.3.3"
  }
 },
 "nbformat": 4,
 "nbformat_minor": 5
}