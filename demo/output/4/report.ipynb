{
 "cells": [
  {
   "cell_type": "markdown",
   "id": "6e0ae5f2",
   "metadata": {
    "papermill": {
     "duration": 0.017315,
     "end_time": "2021-06-23T00:24:25.853403",
     "exception": false,
     "start_time": "2021-06-23T00:24:25.836088",
     "status": "completed"
    },
    "tags": [
     "hide"
    ]
   },
   "source": [
    "# Setup"
   ]
  },
  {
   "cell_type": "code",
   "execution_count": 1,
   "id": "f0c735d4",
   "metadata": {
    "execution": {
     "iopub.execute_input": "2021-06-23T00:24:25.898544Z",
     "iopub.status.busy": "2021-06-23T00:24:25.892653Z",
     "iopub.status.idle": "2021-06-23T00:24:38.265529Z",
     "shell.execute_reply": "2021-06-23T00:24:38.266868Z"
    },
    "papermill": {
     "duration": 12.398631,
     "end_time": "2021-06-23T00:24:38.267235",
     "exception": false,
     "start_time": "2021-06-23T00:24:25.868604",
     "status": "completed"
    },
    "tags": [
     "hide"
    ]
   },
   "outputs": [],
   "source": [
    "import pandas as pd\n",
    "\n",
    "from io import StringIO\n",
    "from calitp.tables import tbl\n",
    "from datetime import date\n",
    "from siuba import *\n",
    "from plotnine import *\n",
    "\n",
    "\n",
    "START_DATE = \"2021-05-01\"\n",
    "END_DATE = \"2021-06-01\"\n",
    "DATE_TODAY=date.today()\n",
    "\n",
    "WEEK_MARKERS = pd.date_range(START_DATE, END_DATE, freq=\"W\").astype(str).tolist()"
   ]
  },
  {
   "cell_type": "code",
   "execution_count": 2,
   "id": "f4ae5616",
   "metadata": {
    "execution": {
     "iopub.execute_input": "2021-06-23T00:24:38.332125Z",
     "iopub.status.busy": "2021-06-23T00:24:38.330978Z",
     "iopub.status.idle": "2021-06-23T00:24:38.334852Z",
     "shell.execute_reply": "2021-06-23T00:24:38.335720Z"
    },
    "papermill": {
     "duration": 0.041042,
     "end_time": "2021-06-23T00:24:38.336298",
     "exception": false,
     "start_time": "2021-06-23T00:24:38.295256",
     "status": "completed"
    },
    "tags": [
     "parameters",
     "hide"
    ]
   },
   "outputs": [],
   "source": [
    "CALITP_ITP_ID=389\n",
    "#CALITP_ITP_ID=45\n",
    "CALITP_URL_NUMBER=0"
   ]
  },
  {
   "cell_type": "code",
   "execution_count": 3,
   "id": "2a28e3a9",
   "metadata": {
    "execution": {
     "iopub.execute_input": "2021-06-23T00:24:38.398129Z",
     "iopub.status.busy": "2021-06-23T00:24:38.396375Z",
     "iopub.status.idle": "2021-06-23T00:24:38.400407Z",
     "shell.execute_reply": "2021-06-23T00:24:38.401458Z"
    },
    "papermill": {
     "duration": 0.038268,
     "end_time": "2021-06-23T00:24:38.401795",
     "exception": false,
     "start_time": "2021-06-23T00:24:38.363527",
     "status": "completed"
    },
    "tags": [
     "injected-parameters"
    ]
   },
   "outputs": [],
   "source": [
    "# Parameters\n",
    "CALITP_ITP_ID = 4\n",
    "CALITP_URL_NUMBER = 0\n"
   ]
  },
  {
   "cell_type": "code",
   "execution_count": 4,
   "id": "07dfa9a8",
   "metadata": {
    "execution": {
     "iopub.execute_input": "2021-06-23T00:24:38.522338Z",
     "iopub.status.busy": "2021-06-23T00:24:38.521011Z",
     "iopub.status.idle": "2021-06-23T00:24:38.531338Z",
     "shell.execute_reply": "2021-06-23T00:24:38.532303Z"
    },
    "papermill": {
     "duration": 0.089303,
     "end_time": "2021-06-23T00:24:38.532650",
     "exception": false,
     "start_time": "2021-06-23T00:24:38.443347",
     "status": "completed"
    },
    "tags": [
     "hide"
    ]
   },
   "outputs": [],
   "source": [
    "# Convenience functions ----\n",
    "\n",
    "filter_start = filter(\n",
    "    _.calitp_extracted_at <= START_DATE,\n",
    "    _.calitp_deleted_at.fillna(\"2099-01-01\") > START_DATE,\n",
    ")\n",
    "\n",
    "filter_end = filter(\n",
    "    _.calitp_extracted_at <= END_DATE,\n",
    "    _.calitp_deleted_at.fillna(\"2099-01-01\") > END_DATE,\n",
    ")\n",
    "\n",
    "filter_itp = filter(\n",
    "    _.calitp_itp_id == CALITP_ITP_ID, _.calitp_url_number == CALITP_URL_NUMBER\n",
    ")\n",
    "\n",
    "collect_to_dict = (\n",
    "    collect()\n",
    "    >> pipe(_.to_dict(orient=\"records\")[0])\n",
    ")\n",
    "\n",
    "\n",
    "select_rm_calitp = select(\n",
    "    -_.calitp_itp_id,\n",
    "    -_.calitp_url_number,\n",
    "    -_.calitp_hash,\n",
    "    -_.calitp_extracted_at,\n",
    "    -_.calitp_deleted_at,\n",
    ")\n",
    "\n",
    "\n",
    "def query_id_changes(start_table, end_table, id_vars):\n",
    "    \"\"\"Calculate id variables that are removed, added, or unchanged between tables.\n",
    "    \n",
    "    It works by adding a special column to each table, performing a full join,\n",
    "    then checking where the special column is null.\n",
    "    \"\"\"\n",
    "    sym_id_vars = [_[k] for k in id_vars]\n",
    "\n",
    "    is_in_start = start_table >> select(*id_vars) >> mutate(is_in_start=True)\n",
    "    is_in_end = end_table >> select(*id_vars) >> mutate(is_in_end=True)\n",
    "\n",
    "    baseline = start_table >> count(*id_vars) >> rename(n_baseline=\"n\")\n",
    "    tallies = (\n",
    "        is_in_start\n",
    "        >> full_join(_, is_in_end, id_vars)\n",
    "        >> count(*sym_id_vars, _.is_in_start, _.is_in_end)\n",
    "        >> mutate(\n",
    "            status=case_when(\n",
    "                _,\n",
    "                {\n",
    "                    _.is_in_end.isna(): \"Removed\",\n",
    "                    _.is_in_start.isna(): \"Added\",\n",
    "                    True: \"Unchanged\",\n",
    "                },\n",
    "            )\n",
    "        )\n",
    "        >> count(*sym_id_vars[:-1], _.status)\n",
    "        >> group_by(*sym_id_vars[:-1])\n",
    "        >> mutate(percent=_.n / _.n.sum())\n",
    "    )\n",
    "\n",
    "    return tallies"
   ]
  },
  {
   "cell_type": "code",
   "execution_count": 5,
   "id": "f65573fb",
   "metadata": {
    "execution": {
     "iopub.execute_input": "2021-06-23T00:24:38.675270Z",
     "iopub.status.busy": "2021-06-23T00:24:38.669058Z",
     "iopub.status.idle": "2021-06-23T00:25:06.353017Z",
     "shell.execute_reply": "2021-06-23T00:25:06.352498Z"
    },
    "papermill": {
     "duration": 27.749518,
     "end_time": "2021-06-23T00:25:06.353164",
     "exception": false,
     "start_time": "2021-06-23T00:24:38.603646",
     "status": "completed"
    },
    "tags": [
     "hide"
    ]
   },
   "outputs": [],
   "source": [
    "# Data ====\n",
    "# 1. High level feed info ----\n",
    "feed_info = (\n",
    "    tbl.gtfs_schedule_type2.feed_info()\n",
    "    >> filter_end\n",
    "    >> filter_itp\n",
    "    >> select_rm_calitp\n",
    "    >> collect_to_dict\n",
    ")\n",
    "\n",
    "_n_routes = (\n",
    "    tbl.gtfs_schedule_type2.routes() >> filter_end >> filter_itp >> count() >> collect()\n",
    ")\n",
    "_n_stops = (\n",
    "    tbl.gtfs_schedule_type2.stops() >> filter_end >> filter_itp >> count() >> collect()\n",
    ")\n",
    "\n",
    "feed_info[\"n_routes\"] = int(_n_routes.loc[0, \"n\"])\n",
    "feed_info[\"n_stops\"] = int(_n_stops.loc[0, \"n\"])\n",
    "\n",
    "status = (\n",
    "    tbl.views.gtfs_status_latest()\n",
    "    >> filter(_.itp_id == CALITP_ITP_ID, _.url_number == CALITP_URL_NUMBER)\n",
    "    >> select(-_.url_number, -_.status)\n",
    "    >> select_rm_calitp\n",
    "    >> collect_to_dict\n",
    ")\n",
    "\n",
    "# 2. Monthly metrics ----\n",
    "# Service hours per day. Note that the queried table calculates service\n",
    "# hours per service id, so we need to sum across service ids for the day\n",
    "_cross_cal = (\n",
    "    tbl.views.dim_date()\n",
    "    >> filter(_.full_date.between(START_DATE, END_DATE))\n",
    "    >> select(_.service_date == _.full_date)\n",
    ")\n",
    "\n",
    "tbl_daily_service_hours = (\n",
    "    tbl.views.gtfs_schedule_service_daily_metrics()\n",
    "    >> filter_itp\n",
    "    >> filter(_.service_date.between(START_DATE, END_DATE))\n",
    "    >> right_join(_, _cross_cal, [\"service_date\"])\n",
    "    >> collect()\n",
    "    >> group_by(_.service_date)\n",
    "    >> summarize(ttl_service_hours=(_.last_arrival_ts.max() - _.first_departure_ts.min()) / 3600)\n",
    "    >> mutate(\n",
    "        ttl_service_hours=_.ttl_service_hours.astype(float).round(2),\n",
    "        service_date=_.service_date.astype(\"datetime64[ns]\"),\n",
    "    )\n",
    ")\n",
    "\n",
    "# number of days where a feed did not have any trips in service\n",
    "n_expired_days = (\n",
    "    tbl_daily_service_hours >> filter(_.ttl_service_hours.isna())\n",
    "    >> pipe(lambda d: {\"n\": d.shape[0]})\n",
    ")\n",
    "\n",
    "# 3. Stop and Route ID Changes ----\n",
    "\n",
    "_tbl_stops_start = tbl.gtfs_schedule_type2.stops() >> filter_itp >> filter_start\n",
    "_tbl_stops_end = tbl.gtfs_schedule_type2.stops() >> filter_itp >> filter_end\n",
    "tbl_stops_changed = (\n",
    "    query_id_changes(_tbl_stops_start, _tbl_stops_end, [\"stop_id\"]) >> collect()\n",
    ")\n",
    "\n",
    "_tbl_routes_start = tbl.gtfs_schedule_type2.routes() >> filter_start\n",
    "_tbl_routes_end = tbl.gtfs_schedule_type2.routes() >> filter_end\n",
    "tbl_routes_changed = (\n",
    "    query_id_changes(_tbl_routes_start, _tbl_routes_end, [\"route_id\"]) >> collect()\n",
    ")"
   ]
  },
  {
   "cell_type": "code",
   "execution_count": 6,
   "id": "0090b2f3",
   "metadata": {
    "execution": {
     "iopub.execute_input": "2021-06-23T00:25:06.407214Z",
     "iopub.status.busy": "2021-06-23T00:25:06.405897Z",
     "iopub.status.idle": "2021-06-23T00:25:13.239175Z",
     "shell.execute_reply": "2021-06-23T00:25:13.238559Z"
    },
    "papermill": {
     "duration": 6.870999,
     "end_time": "2021-06-23T00:25:13.239317",
     "exception": false,
     "start_time": "2021-06-23T00:25:06.368318",
     "status": "completed"
    },
    "tags": [
     "hide"
    ]
   },
   "outputs": [
    {
     "name": "stdout",
     "output_type": "stream",
     "text": [
      "The history saving thread hit an unexpected error (OperationalError('database is locked')).History will not be written to the database.\n"
     ]
    }
   ],
   "source": [
    "# 4. Feed files being checked for ----\n",
    "\n",
    "file_categories = pd.DataFrame(\n",
    "    {\n",
    "        \"shapes.txt\": \"Visual display\",\n",
    "        \"pathways.txt\": \"Navigation\",\n",
    "        \"levels.txt\": \"Navigation\",\n",
    "        \"fare_rules.txt\": \"Fares\",\n",
    "        \"fare_leg_rules\": \"Fares\",\n",
    "        \"feed_info.txt\": \"Technical contacts\",\n",
    "    }.items(),\n",
    "    columns=[\"name\", \"category\"],\n",
    ")\n",
    "\n",
    "importance = [\"Visual display\", \"Navigation\", \"Fares\", \"Technical contacts\"]\n",
    "\n",
    "tbl_file_check = (\n",
    "    tbl.gtfs_schedule_history.calitp_files_updates()\n",
    "    >> filter_itp\n",
    "    >> filter(_.calitp_extracted_at.isin(WEEK_MARKERS))\n",
    "    >> select(_.name, _.calitp_extracted_at)\n",
    "    >> collect()\n",
    "    >> right_join(_, file_categories, [\"name\"])\n",
    "    >> mutate(\n",
    "        calitp_extracted_at=_.calitp_extracted_at.fillna(\"missing\").astype(str),\n",
    "        success=\"✅\",\n",
    "    )\n",
    "    >> spread(_.calitp_extracted_at, _.success)\n",
    "    >> select(-_.missing)\n",
    "    >> arrange(_.category.apply(importance.index))\n",
    "    >> select(_.category, _.contains(\"\"))\n",
    "    >> pipe(_.fillna(\"\"))\n",
    ")\n",
    "\n",
    "tbl_validation_notices = (\n",
    "    tbl.views.validation_notices()\n",
    "    >> filter_itp\n",
    "    >> filter(_.severity == \"ERROR\")\n",
    "    >> count(_.code, _.severity)\n",
    "    >> collect()\n",
    ")"
   ]
  },
  {
   "cell_type": "markdown",
   "id": "4c8337e3",
   "metadata": {
    "papermill": {
     "duration": 0.015179,
     "end_time": "2021-06-23T00:25:13.270847",
     "exception": false,
     "start_time": "2021-06-23T00:25:13.255668",
     "status": "completed"
    },
    "tags": [
     "hide"
    ]
   },
   "source": [
    "## Dump data"
   ]
  },
  {
   "cell_type": "code",
   "execution_count": 7,
   "id": "bdc6f08c",
   "metadata": {
    "execution": {
     "iopub.execute_input": "2021-06-23T00:25:13.311671Z",
     "iopub.status.busy": "2021-06-23T00:25:13.310904Z",
     "iopub.status.idle": "2021-06-23T00:25:13.319499Z",
     "shell.execute_reply": "2021-06-23T00:25:13.318978Z"
    },
    "papermill": {
     "duration": 0.029109,
     "end_time": "2021-06-23T00:25:13.319634",
     "exception": false,
     "start_time": "2021-06-23T00:25:13.290525",
     "status": "completed"
    },
    "tags": [
     "hide"
    ]
   },
   "outputs": [],
   "source": [
    "import json\n",
    "import shutil\n",
    "\n",
    "from pathlib import Path\n",
    "\n",
    "out_dir = Path(f\"output/{CALITP_ITP_ID}_{CALITP_URL_NUMBER}/data\")\n",
    "out_dir.mkdir(parents=True, exist_ok=True)\n",
    "\n",
    "json.dump(feed_info, open(out_dir / \"1_feed_info.json\", \"w\"))\n",
    "json.dump(status, open(out_dir / \"1_status.json\", \"w\"))\n",
    "\n",
    "tbl_daily_service_hours.to_json(out_dir / \"2_daily_service_hours.json\", orient=\"records\")\n",
    "json.dump(n_expired_days, open(out_dir / \"2_n_expired_days.json\", \"w\"))\n",
    "\n",
    "tbl_stops_changed.to_json(out_dir / \"3_stops_changed.json\", orient=\"records\")\n",
    "tbl_routes_changed.to_json(out_dir / \"3_routes_changed.json\", orient=\"records\")\n",
    "tbl_file_check.to_json(out_dir / \"4_file_check.json\", orient=\"records\")\n",
    "tbl_validation_notices.to_json(out_dir / \"4_validation_notices.json\", orient=\"records\")\n"
   ]
  },
  {
   "cell_type": "markdown",
   "id": "149d096d",
   "metadata": {
    "papermill": {
     "duration": 0.014627,
     "end_time": "2021-06-23T00:25:13.348621",
     "exception": false,
     "start_time": "2021-06-23T00:25:13.333994",
     "status": "completed"
    },
    "tags": []
   },
   "source": [
    "# GTFS Schedule Report"
   ]
  },
  {
   "cell_type": "markdown",
   "id": "18488d9f",
   "metadata": {
    "papermill": {
     "duration": 0.015467,
     "end_time": "2021-06-23T00:25:13.379856",
     "exception": false,
     "start_time": "2021-06-23T00:25:13.364389",
     "status": "completed"
    },
    "tags": []
   },
   "source": [
    "# Example Juniper Report"
   ]
  },
  {
   "cell_type": "code",
   "execution_count": 8,
   "id": "ea5bcd45",
   "metadata": {
    "execution": {
     "iopub.execute_input": "2021-06-23T00:25:13.422866Z",
     "iopub.status.busy": "2021-06-23T00:25:13.421964Z",
     "iopub.status.idle": "2021-06-23T00:25:13.425459Z",
     "shell.execute_reply": "2021-06-23T00:25:13.425918Z"
    },
    "papermill": {
     "duration": 0.024978,
     "end_time": "2021-06-23T00:25:13.426093",
     "exception": false,
     "start_time": "2021-06-23T00:25:13.401115",
     "status": "completed"
    },
    "tags": []
   },
   "outputs": [
    {
     "data": {
      "text/markdown": [
       "\n",
       "Transit provider name: AC TRANSIT\n",
       "\n",
       "Date generated: 2021-06-22\n"
      ],
      "text/plain": [
       "<IPython.core.display.Markdown object>"
      ]
     },
     "execution_count": 8,
     "metadata": {},
     "output_type": "execute_result"
    }
   ],
   "source": [
    "from IPython.display import Markdown\n",
    "\n",
    "Markdown(f\"\"\"\n",
    "Transit provider name: {feed_info[\"feed_publisher_name\"]}\n",
    "\n",
    "Date generated: {DATE_TODAY}\n",
    "\"\"\")"
   ]
  },
  {
   "cell_type": "markdown",
   "id": "1c7faea4",
   "metadata": {
    "papermill": {
     "duration": 0.017838,
     "end_time": "2021-06-23T00:25:13.460145",
     "exception": false,
     "start_time": "2021-06-23T00:25:13.442307",
     "status": "completed"
    },
    "tags": []
   },
   "source": [
    "This is a monthly report, generated by the California Integrated Travel Project (Cal-ITP), summarizing issues discovered by MobilityData’s GTFS Validator. This report is available for viewing by the general public to support continuous improvement of GTFS data and the experience of transit passengers. "
   ]
  },
  {
   "cell_type": "markdown",
   "id": "fadbb30d",
   "metadata": {
    "papermill": {
     "duration": 0.015348,
     "end_time": "2021-06-23T00:25:13.491446",
     "exception": false,
     "start_time": "2021-06-23T00:25:13.476098",
     "status": "completed"
    },
    "tags": []
   },
   "source": [
    "## Overview"
   ]
  },
  {
   "cell_type": "code",
   "execution_count": 9,
   "id": "24a026c5",
   "metadata": {
    "execution": {
     "iopub.execute_input": "2021-06-23T00:25:13.532675Z",
     "iopub.status.busy": "2021-06-23T00:25:13.531584Z",
     "iopub.status.idle": "2021-06-23T00:25:13.535651Z",
     "shell.execute_reply": "2021-06-23T00:25:13.536073Z"
    },
    "papermill": {
     "duration": 0.024075,
     "end_time": "2021-06-23T00:25:13.536231",
     "exception": false,
     "start_time": "2021-06-23T00:25:13.512156",
     "status": "completed"
    },
    "tags": []
   },
   "outputs": [
    {
     "data": {
      "text/markdown": [
       "\n",
       "Feed location: https://api.actransit.org/transit/gtfs/download?token=2512B81107A09D2DC44895CDDC650D47\n",
       "\n",
       "Metrics for the most recent published version of the feed:\n",
       "\n",
       "* Date published: S1000180\n",
       "* Number of routes in any service: 113\n",
       "* Number of stops in service: 4579\n"
      ],
      "text/plain": [
       "<IPython.core.display.Markdown object>"
      ]
     },
     "execution_count": 9,
     "metadata": {},
     "output_type": "execute_result"
    }
   ],
   "source": [
    "Markdown(f\"\"\"\n",
    "Feed location: {status[\"gtfs_schedule_url\"]}\n",
    "\n",
    "Metrics for the most recent published version of the feed:\n",
    "\n",
    "* Date published: {feed_info[\"feed_version\"]}\n",
    "* Number of routes in any service: {feed_info[\"n_routes\"]}\n",
    "* Number of stops in service: {feed_info[\"n_stops\"]}\n",
    "\"\"\")"
   ]
  },
  {
   "cell_type": "markdown",
   "id": "19648a79",
   "metadata": {
    "papermill": {
     "duration": 0.015457,
     "end_time": "2021-06-23T00:25:13.567784",
     "exception": false,
     "start_time": "2021-06-23T00:25:13.552327",
     "status": "completed"
    },
    "tags": []
   },
   "source": [
    "## Aggregated Metrics for May"
   ]
  },
  {
   "cell_type": "code",
   "execution_count": 10,
   "id": "3c733e47",
   "metadata": {
    "execution": {
     "iopub.execute_input": "2021-06-23T00:25:13.608197Z",
     "iopub.status.busy": "2021-06-23T00:25:13.606804Z",
     "iopub.status.idle": "2021-06-23T00:25:13.610555Z",
     "shell.execute_reply": "2021-06-23T00:25:13.611010Z"
    },
    "papermill": {
     "duration": 0.02707,
     "end_time": "2021-06-23T00:25:13.611205",
     "exception": false,
     "start_time": "2021-06-23T00:25:13.584135",
     "status": "completed"
    },
    "tags": []
   },
   "outputs": [
    {
     "data": {
      "text/markdown": [
       "\n",
       "Days when the active feed was expired: 0\n"
      ],
      "text/plain": [
       "<IPython.core.display.Markdown object>"
      ]
     },
     "execution_count": 10,
     "metadata": {},
     "output_type": "execute_result"
    }
   ],
   "source": [
    "Markdown(f\"\"\"\n",
    "Days when the active feed was expired: {n_expired_days[\"n\"]}\n",
    "\"\"\")"
   ]
  },
  {
   "cell_type": "code",
   "execution_count": 11,
   "id": "01768bec",
   "metadata": {
    "execution": {
     "iopub.execute_input": "2021-06-23T00:25:13.695447Z",
     "iopub.status.busy": "2021-06-23T00:25:13.690343Z",
     "iopub.status.idle": "2021-06-23T00:25:14.016618Z",
     "shell.execute_reply": "2021-06-23T00:25:14.016054Z"
    },
    "papermill": {
     "duration": 0.387746,
     "end_time": "2021-06-23T00:25:14.016754",
     "exception": false,
     "start_time": "2021-06-23T00:25:13.629008",
     "status": "completed"
    },
    "tags": []
   },
   "outputs": [
    {
     "data": {
      "image/png": "[encoded data removed]",
      "text/plain": [
       "<Figure size 640x480 with 1 Axes>"
      ]
     },
     "metadata": {},
     "output_type": "display_data"
    },
    {
     "data": {
      "text/plain": [
       "<ggplot: (302252779)>"
      ]
     },
     "execution_count": 11,
     "metadata": {},
     "output_type": "execute_result"
    }
   ],
   "source": [
    "(\n",
    "    tbl_daily_service_hours\n",
    "    >> ggplot(aes(\"service_date\", \"ttl_service_hours\"))\n",
    "    + geom_line()\n",
    "    + geom_point()\n",
    "    + theme(axis_text_x=element_text(angle=45, hjust=1))\n",
    "    + scale_x_datetime(date_breaks=\"1 week\")\n",
    "    + expand_limits(y=0)\n",
    ")"
   ]
  },
  {
   "cell_type": "markdown",
   "id": "92b61584",
   "metadata": {
    "papermill": {
     "duration": 0.03292,
     "end_time": "2021-06-23T00:25:14.066788",
     "exception": false,
     "start_time": "2021-06-23T00:25:14.033868",
     "status": "completed"
    },
    "tags": []
   },
   "source": [
    "## Changes Since Previous Month"
   ]
  },
  {
   "cell_type": "code",
   "execution_count": 12,
   "id": "44eb3639",
   "metadata": {
    "execution": {
     "iopub.execute_input": "2021-06-23T00:25:14.279949Z",
     "iopub.status.busy": "2021-06-23T00:25:14.221849Z",
     "iopub.status.idle": "2021-06-23T00:25:14.586404Z",
     "shell.execute_reply": "2021-06-23T00:25:14.586898Z"
    },
    "papermill": {
     "duration": 0.482948,
     "end_time": "2021-06-23T00:25:14.587077",
     "exception": false,
     "start_time": "2021-06-23T00:25:14.104129",
     "status": "completed"
    },
    "tags": []
   },
   "outputs": [
    {
     "data": {
      "image/png": "[encoded data removed]",
      "text/plain": [
       "<Figure size 640x480 with 1 Axes>"
      ]
     },
     "metadata": {},
     "output_type": "display_data"
    },
    {
     "data": {
      "text/plain": [
       "<ggplot: (302470569)>"
      ]
     },
     "execution_count": 12,
     "metadata": {},
     "output_type": "execute_result"
    }
   ],
   "source": [
    "(\n",
    "    pd.concat(\n",
    "        [\n",
    "            tbl_stops_changed >> mutate(kind=\"Stops\"),\n",
    "            tbl_routes_changed >> mutate(kind=\"Routes\"),\n",
    "        ]\n",
    "    )\n",
    "    >> ggplot(aes(\"kind\", \"n\", fill=\"status\"))\n",
    "    + geom_col()\n",
    "    + labs(x=\"Kind of ID\", y=\"Number of Changes\")\n",
    ")"
   ]
  },
  {
   "cell_type": "markdown",
   "id": "3eb31fc3",
   "metadata": {
    "papermill": {
     "duration": 0.022234,
     "end_time": "2021-06-23T00:25:14.653134",
     "exception": false,
     "start_time": "2021-06-23T00:25:14.630900",
     "status": "completed"
    },
    "tags": []
   },
   "source": [
    "### (Alternative version using percentages)"
   ]
  },
  {
   "cell_type": "code",
   "execution_count": 13,
   "id": "0fb8af43",
   "metadata": {
    "execution": {
     "iopub.execute_input": "2021-06-23T00:25:14.726101Z",
     "iopub.status.busy": "2021-06-23T00:25:14.725369Z",
     "iopub.status.idle": "2021-06-23T00:25:15.077558Z",
     "shell.execute_reply": "2021-06-23T00:25:15.077073Z"
    },
    "papermill": {
     "duration": 0.404473,
     "end_time": "2021-06-23T00:25:15.077698",
     "exception": false,
     "start_time": "2021-06-23T00:25:14.673225",
     "status": "completed"
    },
    "tags": []
   },
   "outputs": [
    {
     "data": {
      "image/png": "[encoded data removed]",
      "text/plain": [
       "<Figure size 640x480 with 1 Axes>"
      ]
     },
     "metadata": {},
     "output_type": "display_data"
    },
    {
     "data": {
      "text/plain": [
       "<ggplot: (302669511)>"
      ]
     },
     "execution_count": 13,
     "metadata": {},
     "output_type": "execute_result"
    }
   ],
   "source": [
    "(\n",
    "    pd.concat(\n",
    "        [\n",
    "            tbl_stops_changed >> mutate(kind=\"Stops\"),\n",
    "            tbl_routes_changed >> mutate(kind=\"Routes\"),\n",
    "        ]\n",
    "    )\n",
    "    >> ggplot(aes(\"kind\", \"percent\", fill=\"status\"))\n",
    "    + geom_col()\n",
    "    + labs(x=\"Kind of ID\", y=\"Percent of Changes\")\n",
    ")"
   ]
  },
  {
   "cell_type": "markdown",
   "id": "d8d297a0",
   "metadata": {
    "papermill": {
     "duration": 0.019933,
     "end_time": "2021-06-23T00:25:15.116970",
     "exception": false,
     "start_time": "2021-06-23T00:25:15.097037",
     "status": "completed"
    },
    "tags": []
   },
   "source": [
    "## Consistency with the California GTFS Minimum Guidelines for the feed downloaded\n"
   ]
  },
  {
   "cell_type": "code",
   "execution_count": 14,
   "id": "01701519",
   "metadata": {
    "execution": {
     "iopub.execute_input": "2021-06-23T00:25:15.204050Z",
     "iopub.status.busy": "2021-06-23T00:25:15.203299Z",
     "iopub.status.idle": "2021-06-23T00:25:15.223814Z",
     "shell.execute_reply": "2021-06-23T00:25:15.223120Z"
    },
    "papermill": {
     "duration": 0.084929,
     "end_time": "2021-06-23T00:25:15.223963",
     "exception": false,
     "start_time": "2021-06-23T00:25:15.139034",
     "status": "completed"
    },
    "tags": []
   },
   "outputs": [
    {
     "data": {
      "text/html": [
       "<div>\n",
       "<style scoped>\n",
       "    .dataframe tbody tr th:only-of-type {\n",
       "        vertical-align: middle;\n",
       "    }\n",
       "\n",
       "    .dataframe tbody tr th {\n",
       "        vertical-align: top;\n",
       "    }\n",
       "\n",
       "    .dataframe thead th {\n",
       "        text-align: right;\n",
       "    }\n",
       "</style>\n",
       "<table border=\"1\" class=\"dataframe\">\n",
       "  <thead>\n",
       "    <tr style=\"text-align: right;\">\n",
       "      <th></th>\n",
       "      <th>category</th>\n",
       "      <th>name</th>\n",
       "      <th>2021-05-02</th>\n",
       "      <th>2021-05-16</th>\n",
       "      <th>2021-05-23</th>\n",
       "      <th>2021-05-30</th>\n",
       "    </tr>\n",
       "  </thead>\n",
       "  <tbody>\n",
       "    <tr>\n",
       "      <th>5</th>\n",
       "      <td>Visual display</td>\n",
       "      <td>shapes.txt</td>\n",
       "      <td>✅</td>\n",
       "      <td>✅</td>\n",
       "      <td>✅</td>\n",
       "      <td>✅</td>\n",
       "    </tr>\n",
       "    <tr>\n",
       "      <th>3</th>\n",
       "      <td>Navigation</td>\n",
       "      <td>levels.txt</td>\n",
       "      <td></td>\n",
       "      <td></td>\n",
       "      <td></td>\n",
       "      <td></td>\n",
       "    </tr>\n",
       "    <tr>\n",
       "      <th>4</th>\n",
       "      <td>Navigation</td>\n",
       "      <td>pathways.txt</td>\n",
       "      <td></td>\n",
       "      <td></td>\n",
       "      <td></td>\n",
       "      <td></td>\n",
       "    </tr>\n",
       "    <tr>\n",
       "      <th>0</th>\n",
       "      <td>Fares</td>\n",
       "      <td>fare_leg_rules</td>\n",
       "      <td></td>\n",
       "      <td></td>\n",
       "      <td></td>\n",
       "      <td></td>\n",
       "    </tr>\n",
       "    <tr>\n",
       "      <th>1</th>\n",
       "      <td>Fares</td>\n",
       "      <td>fare_rules.txt</td>\n",
       "      <td>✅</td>\n",
       "      <td>✅</td>\n",
       "      <td>✅</td>\n",
       "      <td>✅</td>\n",
       "    </tr>\n",
       "    <tr>\n",
       "      <th>2</th>\n",
       "      <td>Technical contacts</td>\n",
       "      <td>feed_info.txt</td>\n",
       "      <td>✅</td>\n",
       "      <td>✅</td>\n",
       "      <td>✅</td>\n",
       "      <td>✅</td>\n",
       "    </tr>\n",
       "  </tbody>\n",
       "</table>\n",
       "</div>"
      ],
      "text/plain": [
       "             category            name 2021-05-02 2021-05-16 2021-05-23  \\\n",
       "5      Visual display      shapes.txt          ✅          ✅          ✅   \n",
       "3          Navigation      levels.txt                                    \n",
       "4          Navigation    pathways.txt                                    \n",
       "0               Fares  fare_leg_rules                                    \n",
       "1               Fares  fare_rules.txt          ✅          ✅          ✅   \n",
       "2  Technical contacts   feed_info.txt          ✅          ✅          ✅   \n",
       "\n",
       "  2021-05-30  \n",
       "5          ✅  \n",
       "3             \n",
       "4             \n",
       "0             \n",
       "1          ✅  \n",
       "2          ✅  "
      ]
     },
     "execution_count": 14,
     "metadata": {},
     "output_type": "execute_result"
    }
   ],
   "source": [
    "tbl_file_check"
   ]
  },
  {
   "cell_type": "markdown",
   "id": "a3672409",
   "metadata": {
    "papermill": {
     "duration": 0.031242,
     "end_time": "2021-06-23T00:25:15.295805",
     "exception": false,
     "start_time": "2021-06-23T00:25:15.264563",
     "status": "completed"
    },
    "tags": []
   },
   "source": [
    "### Validation Errors Observed"
   ]
  },
  {
   "cell_type": "code",
   "execution_count": 15,
   "id": "a288d1b3",
   "metadata": {
    "execution": {
     "iopub.execute_input": "2021-06-23T00:25:15.362325Z",
     "iopub.status.busy": "2021-06-23T00:25:15.359396Z",
     "iopub.status.idle": "2021-06-23T00:25:15.365968Z",
     "shell.execute_reply": "2021-06-23T00:25:15.366402Z"
    },
    "papermill": {
     "duration": 0.0366,
     "end_time": "2021-06-23T00:25:15.366566",
     "exception": false,
     "start_time": "2021-06-23T00:25:15.329966",
     "status": "completed"
    },
    "tags": []
   },
   "outputs": [
    {
     "data": {
      "text/html": [
       "<div>\n",
       "<style scoped>\n",
       "    .dataframe tbody tr th:only-of-type {\n",
       "        vertical-align: middle;\n",
       "    }\n",
       "\n",
       "    .dataframe tbody tr th {\n",
       "        vertical-align: top;\n",
       "    }\n",
       "\n",
       "    .dataframe thead th {\n",
       "        text-align: right;\n",
       "    }\n",
       "</style>\n",
       "<table border=\"1\" class=\"dataframe\">\n",
       "  <thead>\n",
       "    <tr style=\"text-align: right;\">\n",
       "      <th></th>\n",
       "      <th>code</th>\n",
       "      <th>severity</th>\n",
       "      <th>n</th>\n",
       "    </tr>\n",
       "  </thead>\n",
       "  <tbody>\n",
       "    <tr>\n",
       "      <th>0</th>\n",
       "      <td>duplicate_fare_rule_zone_id_fields</td>\n",
       "      <td>ERROR</td>\n",
       "      <td>8</td>\n",
       "    </tr>\n",
       "  </tbody>\n",
       "</table>\n",
       "</div>"
      ],
      "text/plain": [
       "                                 code severity  n\n",
       "0  duplicate_fare_rule_zone_id_fields    ERROR  8"
      ]
     },
     "execution_count": 15,
     "metadata": {},
     "output_type": "execute_result"
    }
   ],
   "source": [
    "tbl_validation_notices"
   ]
  }
 ],
 "metadata": {
  "kernelspec": {
   "display_name": "venv-calitp-py",
   "language": "python",
   "name": "venv-calitp-py"
  },
  "language_info": {
   "codemirror_mode": {
    "name": "ipython",
    "version": 3
   },
   "file_extension": ".py",
   "mimetype": "text/x-python",
   "name": "python",
   "nbconvert_exporter": "python",
   "pygments_lexer": "ipython3",
   "version": "3.8.5"
  },
  "papermill": {
   "default_parameters": {},
   "duration": 54.722313,
   "end_time": "2021-06-23T00:25:18.018859",
   "environment_variables": {},
   "exception": null,
   "input_path": "report.ipynb",
   "output_path": "output/4/report.ipynb",
   "parameters": {
    "CALITP_ITP_ID": 4,
    "CALITP_URL_NUMBER": 0
   },
   "start_time": "2021-06-23T00:24:23.296546",
   "version": "2.3.3"
  }
 },
 "nbformat": 4,
 "nbformat_minor": 5
}