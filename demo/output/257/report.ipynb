{
 "cells": [
  {
   "cell_type": "markdown",
   "id": "72d5fb7a",
   "metadata": {
    "papermill": {
     "duration": 0.049079,
     "end_time": "2021-06-23T00:33:36.684389",
     "exception": false,
     "start_time": "2021-06-23T00:33:36.635310",
     "status": "completed"
    },
    "tags": [
     "hide"
    ]
   },
   "source": [
    "# Setup"
   ]
  },
  {
   "cell_type": "code",
   "execution_count": 1,
   "id": "328ce250",
   "metadata": {
    "execution": {
     "iopub.execute_input": "2021-06-23T00:33:36.860853Z",
     "iopub.status.busy": "2021-06-23T00:33:36.854464Z",
     "iopub.status.idle": "2021-06-23T00:33:43.540408Z",
     "shell.execute_reply": "2021-06-23T00:33:43.541276Z"
    },
    "papermill": {
     "duration": 6.785893,
     "end_time": "2021-06-23T00:33:43.541670",
     "exception": false,
     "start_time": "2021-06-23T00:33:36.755777",
     "status": "completed"
    },
    "tags": [
     "hide"
    ]
   },
   "outputs": [],
   "source": [
    "import pandas as pd\n",
    "\n",
    "from io import StringIO\n",
    "from calitp.tables import tbl\n",
    "from datetime import date\n",
    "from siuba import *\n",
    "from plotnine import *\n",
    "\n",
    "\n",
    "START_DATE = \"2021-05-01\"\n",
    "END_DATE = \"2021-06-01\"\n",
    "DATE_TODAY=date.today()\n",
    "\n",
    "WEEK_MARKERS = pd.date_range(START_DATE, END_DATE, freq=\"W\").astype(str).tolist()"
   ]
  },
  {
   "cell_type": "code",
   "execution_count": 2,
   "id": "eb17f6f5",
   "metadata": {
    "execution": {
     "iopub.execute_input": "2021-06-23T00:33:43.621204Z",
     "iopub.status.busy": "2021-06-23T00:33:43.618612Z",
     "iopub.status.idle": "2021-06-23T00:33:43.622775Z",
     "shell.execute_reply": "2021-06-23T00:33:43.620045Z"
    },
    "papermill": {
     "duration": 0.064502,
     "end_time": "2021-06-23T00:33:43.622993",
     "exception": false,
     "start_time": "2021-06-23T00:33:43.558491",
     "status": "completed"
    },
    "tags": [
     "parameters",
     "hide"
    ]
   },
   "outputs": [],
   "source": [
    "CALITP_ITP_ID=389\n",
    "#CALITP_ITP_ID=45\n",
    "CALITP_URL_NUMBER=0"
   ]
  },
  {
   "cell_type": "code",
   "execution_count": 3,
   "id": "a4823cfc",
   "metadata": {
    "execution": {
     "iopub.execute_input": "2021-06-23T00:33:43.687079Z",
     "iopub.status.busy": "2021-06-23T00:33:43.685175Z",
     "iopub.status.idle": "2021-06-23T00:33:43.695543Z",
     "shell.execute_reply": "2021-06-23T00:33:43.696343Z"
    },
    "papermill": {
     "duration": 0.038501,
     "end_time": "2021-06-23T00:33:43.696629",
     "exception": false,
     "start_time": "2021-06-23T00:33:43.658128",
     "status": "completed"
    },
    "tags": [
     "injected-parameters"
    ]
   },
   "outputs": [],
   "source": [
    "# Parameters\n",
    "CALITP_ITP_ID = 257\n",
    "CALITP_URL_NUMBER = 0\n"
   ]
  },
  {
   "cell_type": "code",
   "execution_count": 4,
   "id": "34268b88",
   "metadata": {
    "execution": {
     "iopub.execute_input": "2021-06-23T00:33:43.762243Z",
     "iopub.status.busy": "2021-06-23T00:33:43.761076Z",
     "iopub.status.idle": "2021-06-23T00:33:43.764417Z",
     "shell.execute_reply": "2021-06-23T00:33:43.765744Z"
    },
    "papermill": {
     "duration": 0.044285,
     "end_time": "2021-06-23T00:33:43.766127",
     "exception": false,
     "start_time": "2021-06-23T00:33:43.721842",
     "status": "completed"
    },
    "tags": [
     "hide"
    ]
   },
   "outputs": [],
   "source": [
    "# Convenience functions ----\n",
    "\n",
    "filter_start = filter(\n",
    "    _.calitp_extracted_at <= START_DATE,\n",
    "    _.calitp_deleted_at.fillna(\"2099-01-01\") > START_DATE,\n",
    ")\n",
    "\n",
    "filter_end = filter(\n",
    "    _.calitp_extracted_at <= END_DATE,\n",
    "    _.calitp_deleted_at.fillna(\"2099-01-01\") > END_DATE,\n",
    ")\n",
    "\n",
    "filter_itp = filter(\n",
    "    _.calitp_itp_id == CALITP_ITP_ID, _.calitp_url_number == CALITP_URL_NUMBER\n",
    ")\n",
    "\n",
    "collect_to_dict = (\n",
    "    collect()\n",
    "    >> pipe(_.to_dict(orient=\"records\")[0])\n",
    ")\n",
    "\n",
    "\n",
    "select_rm_calitp = select(\n",
    "    -_.calitp_itp_id,\n",
    "    -_.calitp_url_number,\n",
    "    -_.calitp_hash,\n",
    "    -_.calitp_extracted_at,\n",
    "    -_.calitp_deleted_at,\n",
    ")\n",
    "\n",
    "\n",
    "def query_id_changes(start_table, end_table, id_vars):\n",
    "    \"\"\"Calculate id variables that are removed, added, or unchanged between tables.\n",
    "    \n",
    "    It works by adding a special column to each table, performing a full join,\n",
    "    then checking where the special column is null.\n",
    "    \"\"\"\n",
    "    sym_id_vars = [_[k] for k in id_vars]\n",
    "\n",
    "    is_in_start = start_table >> select(*id_vars) >> mutate(is_in_start=True)\n",
    "    is_in_end = end_table >> select(*id_vars) >> mutate(is_in_end=True)\n",
    "\n",
    "    baseline = start_table >> count(*id_vars) >> rename(n_baseline=\"n\")\n",
    "    tallies = (\n",
    "        is_in_start\n",
    "        >> full_join(_, is_in_end, id_vars)\n",
    "        >> count(*sym_id_vars, _.is_in_start, _.is_in_end)\n",
    "        >> mutate(\n",
    "            status=case_when(\n",
    "                _,\n",
    "                {\n",
    "                    _.is_in_end.isna(): \"Removed\",\n",
    "                    _.is_in_start.isna(): \"Added\",\n",
    "                    True: \"Unchanged\",\n",
    "                },\n",
    "            )\n",
    "        )\n",
    "        >> count(*sym_id_vars[:-1], _.status)\n",
    "        >> group_by(*sym_id_vars[:-1])\n",
    "        >> mutate(percent=_.n / _.n.sum())\n",
    "    )\n",
    "\n",
    "    return tallies"
   ]
  },
  {
   "cell_type": "code",
   "execution_count": 5,
   "id": "b0ed61d2",
   "metadata": {
    "execution": {
     "iopub.execute_input": "2021-06-23T00:33:43.866697Z",
     "iopub.status.busy": "2021-06-23T00:33:43.865440Z",
     "iopub.status.idle": "2021-06-23T00:34:09.812274Z",
     "shell.execute_reply": "2021-06-23T00:34:09.812898Z"
    },
    "papermill": {
     "duration": 26.016898,
     "end_time": "2021-06-23T00:34:09.813153",
     "exception": false,
     "start_time": "2021-06-23T00:33:43.796255",
     "status": "completed"
    },
    "tags": [
     "hide"
    ]
   },
   "outputs": [],
   "source": [
    "# Data ====\n",
    "# 1. High level feed info ----\n",
    "feed_info = (\n",
    "    tbl.gtfs_schedule_type2.feed_info()\n",
    "    >> filter_end\n",
    "    >> filter_itp\n",
    "    >> select_rm_calitp\n",
    "    >> collect_to_dict\n",
    ")\n",
    "\n",
    "_n_routes = (\n",
    "    tbl.gtfs_schedule_type2.routes() >> filter_end >> filter_itp >> count() >> collect()\n",
    ")\n",
    "_n_stops = (\n",
    "    tbl.gtfs_schedule_type2.stops() >> filter_end >> filter_itp >> count() >> collect()\n",
    ")\n",
    "\n",
    "feed_info[\"n_routes\"] = int(_n_routes.loc[0, \"n\"])\n",
    "feed_info[\"n_stops\"] = int(_n_stops.loc[0, \"n\"])\n",
    "\n",
    "status = (\n",
    "    tbl.views.gtfs_status_latest()\n",
    "    >> filter(_.itp_id == CALITP_ITP_ID, _.url_number == CALITP_URL_NUMBER)\n",
    "    >> select(-_.url_number, -_.status)\n",
    "    >> select_rm_calitp\n",
    "    >> collect_to_dict\n",
    ")\n",
    "\n",
    "# 2. Monthly metrics ----\n",
    "# Service hours per day. Note that the queried table calculates service\n",
    "# hours per service id, so we need to sum across service ids for the day\n",
    "_cross_cal = (\n",
    "    tbl.views.dim_date()\n",
    "    >> filter(_.full_date.between(START_DATE, END_DATE))\n",
    "    >> select(_.service_date == _.full_date)\n",
    ")\n",
    "\n",
    "tbl_daily_service_hours = (\n",
    "    tbl.views.gtfs_schedule_service_daily_metrics()\n",
    "    >> filter_itp\n",
    "    >> filter(_.service_date.between(START_DATE, END_DATE))\n",
    "    >> right_join(_, _cross_cal, [\"service_date\"])\n",
    "    >> collect()\n",
    "    >> group_by(_.service_date)\n",
    "    >> summarize(ttl_service_hours=(_.last_arrival_ts.max() - _.first_departure_ts.min()) / 3600)\n",
    "    >> mutate(\n",
    "        ttl_service_hours=_.ttl_service_hours.astype(float).round(2),\n",
    "        service_date=_.service_date.astype(\"datetime64[ns]\"),\n",
    "    )\n",
    ")\n",
    "\n",
    "# number of days where a feed did not have any trips in service\n",
    "n_expired_days = (\n",
    "    tbl_daily_service_hours >> filter(_.ttl_service_hours.isna())\n",
    "    >> pipe(lambda d: {\"n\": d.shape[0]})\n",
    ")\n",
    "\n",
    "# 3. Stop and Route ID Changes ----\n",
    "\n",
    "_tbl_stops_start = tbl.gtfs_schedule_type2.stops() >> filter_itp >> filter_start\n",
    "_tbl_stops_end = tbl.gtfs_schedule_type2.stops() >> filter_itp >> filter_end\n",
    "tbl_stops_changed = (\n",
    "    query_id_changes(_tbl_stops_start, _tbl_stops_end, [\"stop_id\"]) >> collect()\n",
    ")\n",
    "\n",
    "_tbl_routes_start = tbl.gtfs_schedule_type2.routes() >> filter_start\n",
    "_tbl_routes_end = tbl.gtfs_schedule_type2.routes() >> filter_end\n",
    "tbl_routes_changed = (\n",
    "    query_id_changes(_tbl_routes_start, _tbl_routes_end, [\"route_id\"]) >> collect()\n",
    ")"
   ]
  },
  {
   "cell_type": "code",
   "execution_count": 6,
   "id": "03e76f95",
   "metadata": {
    "execution": {
     "iopub.execute_input": "2021-06-23T00:34:09.906894Z",
     "iopub.status.busy": "2021-06-23T00:34:09.904078Z",
     "iopub.status.idle": "2021-06-23T00:34:16.096220Z",
     "shell.execute_reply": "2021-06-23T00:34:16.096695Z"
    },
    "papermill": {
     "duration": 6.227957,
     "end_time": "2021-06-23T00:34:16.096885",
     "exception": false,
     "start_time": "2021-06-23T00:34:09.868928",
     "status": "completed"
    },
    "tags": [
     "hide"
    ]
   },
   "outputs": [],
   "source": [
    "# 4. Feed files being checked for ----\n",
    "\n",
    "file_categories = pd.DataFrame(\n",
    "    {\n",
    "        \"shapes.txt\": \"Visual display\",\n",
    "        \"pathways.txt\": \"Navigation\",\n",
    "        \"levels.txt\": \"Navigation\",\n",
    "        \"fare_rules.txt\": \"Fares\",\n",
    "        \"fare_leg_rules\": \"Fares\",\n",
    "        \"feed_info.txt\": \"Technical contacts\",\n",
    "    }.items(),\n",
    "    columns=[\"name\", \"category\"],\n",
    ")\n",
    "\n",
    "importance = [\"Visual display\", \"Navigation\", \"Fares\", \"Technical contacts\"]\n",
    "\n",
    "tbl_file_check = (\n",
    "    tbl.gtfs_schedule_history.calitp_files_updates()\n",
    "    >> filter_itp\n",
    "    >> filter(_.calitp_extracted_at.isin(WEEK_MARKERS))\n",
    "    >> select(_.name, _.calitp_extracted_at)\n",
    "    >> collect()\n",
    "    >> right_join(_, file_categories, [\"name\"])\n",
    "    >> mutate(\n",
    "        calitp_extracted_at=_.calitp_extracted_at.fillna(\"missing\").astype(str),\n",
    "        success=\"✅\",\n",
    "    )\n",
    "    >> spread(_.calitp_extracted_at, _.success)\n",
    "    >> select(-_.missing)\n",
    "    >> arrange(_.category.apply(importance.index))\n",
    "    >> select(_.category, _.contains(\"\"))\n",
    "    >> pipe(_.fillna(\"\"))\n",
    ")\n",
    "\n",
    "tbl_validation_notices = (\n",
    "    tbl.views.validation_notices()\n",
    "    >> filter_itp\n",
    "    >> filter(_.severity == \"ERROR\")\n",
    "    >> count(_.code, _.severity)\n",
    "    >> collect()\n",
    ")"
   ]
  },
  {
   "cell_type": "markdown",
   "id": "16f0a67d",
   "metadata": {
    "papermill": {
     "duration": 0.021017,
     "end_time": "2021-06-23T00:34:16.134008",
     "exception": false,
     "start_time": "2021-06-23T00:34:16.112991",
     "status": "completed"
    },
    "tags": [
     "hide"
    ]
   },
   "source": [
    "## Dump data"
   ]
  },
  {
   "cell_type": "code",
   "execution_count": 7,
   "id": "97ece516",
   "metadata": {
    "execution": {
     "iopub.execute_input": "2021-06-23T00:34:16.197960Z",
     "iopub.status.busy": "2021-06-23T00:34:16.196573Z",
     "iopub.status.idle": "2021-06-23T00:34:16.205619Z",
     "shell.execute_reply": "2021-06-23T00:34:16.206095Z"
    },
    "papermill": {
     "duration": 0.047532,
     "end_time": "2021-06-23T00:34:16.206283",
     "exception": false,
     "start_time": "2021-06-23T00:34:16.158751",
     "status": "completed"
    },
    "tags": [
     "hide"
    ]
   },
   "outputs": [],
   "source": [
    "import json\n",
    "import shutil\n",
    "\n",
    "from pathlib import Path\n",
    "\n",
    "out_dir = Path(f\"output/{CALITP_ITP_ID}_{CALITP_URL_NUMBER}/data\")\n",
    "out_dir.mkdir(parents=True, exist_ok=True)\n",
    "\n",
    "json.dump(feed_info, open(out_dir / \"1_feed_info.json\", \"w\"))\n",
    "json.dump(status, open(out_dir / \"1_status.json\", \"w\"))\n",
    "\n",
    "tbl_daily_service_hours.to_json(out_dir / \"2_daily_service_hours.json\", orient=\"records\")\n",
    "json.dump(n_expired_days, open(out_dir / \"2_n_expired_days.json\", \"w\"))\n",
    "\n",
    "tbl_stops_changed.to_json(out_dir / \"3_stops_changed.json\", orient=\"records\")\n",
    "tbl_routes_changed.to_json(out_dir / \"3_routes_changed.json\", orient=\"records\")\n",
    "tbl_file_check.to_json(out_dir / \"4_file_check.json\", orient=\"records\")\n",
    "tbl_validation_notices.to_json(out_dir / \"4_validation_notices.json\", orient=\"records\")\n"
   ]
  },
  {
   "cell_type": "markdown",
   "id": "29f4eda9",
   "metadata": {
    "papermill": {
     "duration": 0.014867,
     "end_time": "2021-06-23T00:34:16.241471",
     "exception": false,
     "start_time": "2021-06-23T00:34:16.226604",
     "status": "completed"
    },
    "tags": []
   },
   "source": [
    "# GTFS Schedule Report"
   ]
  },
  {
   "cell_type": "markdown",
   "id": "c3727dab",
   "metadata": {
    "papermill": {
     "duration": 0.017492,
     "end_time": "2021-06-23T00:34:16.279349",
     "exception": false,
     "start_time": "2021-06-23T00:34:16.261857",
     "status": "completed"
    },
    "tags": []
   },
   "source": [
    "# Example Juniper Report"
   ]
  },
  {
   "cell_type": "code",
   "execution_count": 8,
   "id": "acb8782c",
   "metadata": {
    "execution": {
     "iopub.execute_input": "2021-06-23T00:34:16.315753Z",
     "iopub.status.busy": "2021-06-23T00:34:16.314905Z",
     "iopub.status.idle": "2021-06-23T00:34:16.318524Z",
     "shell.execute_reply": "2021-06-23T00:34:16.317947Z"
    },
    "papermill": {
     "duration": 0.024965,
     "end_time": "2021-06-23T00:34:16.318663",
     "exception": false,
     "start_time": "2021-06-23T00:34:16.293698",
     "status": "completed"
    },
    "tags": []
   },
   "outputs": [
    {
     "data": {
      "text/markdown": [
       "\n",
       "Transit provider name: GMV Syncromatics\n",
       "\n",
       "Date generated: 2021-06-22\n"
      ],
      "text/plain": [
       "<IPython.core.display.Markdown object>"
      ]
     },
     "execution_count": 8,
     "metadata": {},
     "output_type": "execute_result"
    }
   ],
   "source": [
    "from IPython.display import Markdown\n",
    "\n",
    "Markdown(f\"\"\"\n",
    "Transit provider name: {feed_info[\"feed_publisher_name\"]}\n",
    "\n",
    "Date generated: {DATE_TODAY}\n",
    "\"\"\")"
   ]
  },
  {
   "cell_type": "markdown",
   "id": "c464c26d",
   "metadata": {
    "papermill": {
     "duration": 0.015387,
     "end_time": "2021-06-23T00:34:16.350048",
     "exception": false,
     "start_time": "2021-06-23T00:34:16.334661",
     "status": "completed"
    },
    "tags": []
   },
   "source": [
    "This is a monthly report, generated by the California Integrated Travel Project (Cal-ITP), summarizing issues discovered by MobilityData’s GTFS Validator. This report is available for viewing by the general public to support continuous improvement of GTFS data and the experience of transit passengers. "
   ]
  },
  {
   "cell_type": "markdown",
   "id": "88d74f7f",
   "metadata": {
    "papermill": {
     "duration": 0.031608,
     "end_time": "2021-06-23T00:34:16.401697",
     "exception": false,
     "start_time": "2021-06-23T00:34:16.370089",
     "status": "completed"
    },
    "tags": []
   },
   "source": [
    "## Overview"
   ]
  },
  {
   "cell_type": "code",
   "execution_count": 9,
   "id": "9787103a",
   "metadata": {
    "execution": {
     "iopub.execute_input": "2021-06-23T00:34:16.438214Z",
     "iopub.status.busy": "2021-06-23T00:34:16.437377Z",
     "iopub.status.idle": "2021-06-23T00:34:16.440998Z",
     "shell.execute_reply": "2021-06-23T00:34:16.441430Z"
    },
    "papermill": {
     "duration": 0.024102,
     "end_time": "2021-06-23T00:34:16.441590",
     "exception": false,
     "start_time": "2021-06-23T00:34:16.417488",
     "status": "completed"
    },
    "tags": []
   },
   "outputs": [
    {
     "data": {
      "text/markdown": [
       "\n",
       "Feed location: https://presidiobus.com/gtfs\n",
       "\n",
       "Metrics for the most recent published version of the feed:\n",
       "\n",
       "* Date published: 11/1/2020\n",
       "* Number of routes in any service: 2\n",
       "* Number of stops in service: 32\n"
      ],
      "text/plain": [
       "<IPython.core.display.Markdown object>"
      ]
     },
     "execution_count": 9,
     "metadata": {},
     "output_type": "execute_result"
    }
   ],
   "source": [
    "Markdown(f\"\"\"\n",
    "Feed location: {status[\"gtfs_schedule_url\"]}\n",
    "\n",
    "Metrics for the most recent published version of the feed:\n",
    "\n",
    "* Date published: {feed_info[\"feed_version\"]}\n",
    "* Number of routes in any service: {feed_info[\"n_routes\"]}\n",
    "* Number of stops in service: {feed_info[\"n_stops\"]}\n",
    "\"\"\")"
   ]
  },
  {
   "cell_type": "markdown",
   "id": "6e175636",
   "metadata": {
    "papermill": {
     "duration": 0.032264,
     "end_time": "2021-06-23T00:34:16.491905",
     "exception": false,
     "start_time": "2021-06-23T00:34:16.459641",
     "status": "completed"
    },
    "tags": []
   },
   "source": [
    "## Aggregated Metrics for May"
   ]
  },
  {
   "cell_type": "code",
   "execution_count": 10,
   "id": "14e6c7f2",
   "metadata": {
    "execution": {
     "iopub.execute_input": "2021-06-23T00:34:16.567790Z",
     "iopub.status.busy": "2021-06-23T00:34:16.566435Z",
     "iopub.status.idle": "2021-06-23T00:34:16.571267Z",
     "shell.execute_reply": "2021-06-23T00:34:16.568847Z"
    },
    "papermill": {
     "duration": 0.035927,
     "end_time": "2021-06-23T00:34:16.571498",
     "exception": false,
     "start_time": "2021-06-23T00:34:16.535571",
     "status": "completed"
    },
    "tags": []
   },
   "outputs": [
    {
     "data": {
      "text/markdown": [
       "\n",
       "Days when the active feed was expired: 19\n"
      ],
      "text/plain": [
       "<IPython.core.display.Markdown object>"
      ]
     },
     "execution_count": 10,
     "metadata": {},
     "output_type": "execute_result"
    }
   ],
   "source": [
    "Markdown(f\"\"\"\n",
    "Days when the active feed was expired: {n_expired_days[\"n\"]}\n",
    "\"\"\")"
   ]
  },
  {
   "cell_type": "code",
   "execution_count": 11,
   "id": "1daf2b81",
   "metadata": {
    "execution": {
     "iopub.execute_input": "2021-06-23T00:34:16.653250Z",
     "iopub.status.busy": "2021-06-23T00:34:16.652021Z",
     "iopub.status.idle": "2021-06-23T00:34:17.038559Z",
     "shell.execute_reply": "2021-06-23T00:34:17.039097Z"
    },
    "papermill": {
     "duration": 0.448025,
     "end_time": "2021-06-23T00:34:17.039291",
     "exception": false,
     "start_time": "2021-06-23T00:34:16.591266",
     "status": "completed"
    },
    "tags": []
   },
   "outputs": [
    {
     "name": "stderr",
     "output_type": "stream",
     "text": [
      "/Users/machow/.virtualenvs/calitp-py/lib/python3.8/site-packages/plotnine/geoms/geom_path.py:75: PlotnineWarning: geom_path: Removed 12 rows containing missing values.\n",
      "/Users/machow/.virtualenvs/calitp-py/lib/python3.8/site-packages/plotnine/layer.py:401: PlotnineWarning: geom_point : Removed 19 rows containing missing values.\n"
     ]
    },
    {
     "data": {
      "image/png": "[encoded data removed]",
      "text/plain": [
       "<Figure size 640x480 with 1 Axes>"
      ]
     },
     "metadata": {},
     "output_type": "display_data"
    },
    {
     "data": {
      "text/plain": [
       "<ggplot: (293376311)>"
      ]
     },
     "execution_count": 11,
     "metadata": {},
     "output_type": "execute_result"
    }
   ],
   "source": [
    "(\n",
    "    tbl_daily_service_hours\n",
    "    >> ggplot(aes(\"service_date\", \"ttl_service_hours\"))\n",
    "    + geom_line()\n",
    "    + geom_point()\n",
    "    + theme(axis_text_x=element_text(angle=45, hjust=1))\n",
    "    + scale_x_datetime(date_breaks=\"1 week\")\n",
    "    + expand_limits(y=0)\n",
    ")"
   ]
  },
  {
   "cell_type": "markdown",
   "id": "ad1bff37",
   "metadata": {
    "papermill": {
     "duration": 0.017246,
     "end_time": "2021-06-23T00:34:17.073496",
     "exception": false,
     "start_time": "2021-06-23T00:34:17.056250",
     "status": "completed"
    },
    "tags": []
   },
   "source": [
    "## Changes Since Previous Month"
   ]
  },
  {
   "cell_type": "code",
   "execution_count": 12,
   "id": "9ae8eab6",
   "metadata": {
    "execution": {
     "iopub.execute_input": "2021-06-23T00:34:17.127166Z",
     "iopub.status.busy": "2021-06-23T00:34:17.126235Z",
     "iopub.status.idle": "2021-06-23T00:34:17.579095Z",
     "shell.execute_reply": "2021-06-23T00:34:17.577927Z"
    },
    "papermill": {
     "duration": 0.487624,
     "end_time": "2021-06-23T00:34:17.579478",
     "exception": false,
     "start_time": "2021-06-23T00:34:17.091854",
     "status": "completed"
    },
    "tags": []
   },
   "outputs": [
    {
     "data": {
      "image/png": "[encoded data removed]",
      "text/plain": [
       "<Figure size 640x480 with 1 Axes>"
      ]
     },
     "metadata": {},
     "output_type": "display_data"
    },
    {
     "data": {
      "text/plain": [
       "<ggplot: (310904573)>"
      ]
     },
     "execution_count": 12,
     "metadata": {},
     "output_type": "execute_result"
    }
   ],
   "source": [
    "(\n",
    "    pd.concat(\n",
    "        [\n",
    "            tbl_stops_changed >> mutate(kind=\"Stops\"),\n",
    "            tbl_routes_changed >> mutate(kind=\"Routes\"),\n",
    "        ]\n",
    "    )\n",
    "    >> ggplot(aes(\"kind\", \"n\", fill=\"status\"))\n",
    "    + geom_col()\n",
    "    + labs(x=\"Kind of ID\", y=\"Number of Changes\")\n",
    ")"
   ]
  },
  {
   "cell_type": "markdown",
   "id": "da0cae87",
   "metadata": {
    "papermill": {
     "duration": 0.02469,
     "end_time": "2021-06-23T00:34:17.665765",
     "exception": false,
     "start_time": "2021-06-23T00:34:17.641075",
     "status": "completed"
    },
    "tags": []
   },
   "source": [
    "### (Alternative version using percentages)"
   ]
  },
  {
   "cell_type": "code",
   "execution_count": 13,
   "id": "3a935637",
   "metadata": {
    "execution": {
     "iopub.execute_input": "2021-06-23T00:34:17.862497Z",
     "iopub.status.busy": "2021-06-23T00:34:17.861562Z",
     "iopub.status.idle": "2021-06-23T00:34:18.252161Z",
     "shell.execute_reply": "2021-06-23T00:34:18.251694Z"
    },
    "papermill": {
     "duration": 0.535538,
     "end_time": "2021-06-23T00:34:18.252309",
     "exception": false,
     "start_time": "2021-06-23T00:34:17.716771",
     "status": "completed"
    },
    "tags": []
   },
   "outputs": [
    {
     "data": {
      "image/png": "[encoded data removed]",
      "text/plain": [
       "<Figure size 640x480 with 1 Axes>"
      ]
     },
     "metadata": {},
     "output_type": "display_data"
    },
    {
     "data": {
      "text/plain": [
       "<ggplot: (310969052)>"
      ]
     },
     "execution_count": 13,
     "metadata": {},
     "output_type": "execute_result"
    }
   ],
   "source": [
    "(\n",
    "    pd.concat(\n",
    "        [\n",
    "            tbl_stops_changed >> mutate(kind=\"Stops\"),\n",
    "            tbl_routes_changed >> mutate(kind=\"Routes\"),\n",
    "        ]\n",
    "    )\n",
    "    >> ggplot(aes(\"kind\", \"percent\", fill=\"status\"))\n",
    "    + geom_col()\n",
    "    + labs(x=\"Kind of ID\", y=\"Percent of Changes\")\n",
    ")"
   ]
  },
  {
   "cell_type": "markdown",
   "id": "d5907fcf",
   "metadata": {
    "papermill": {
     "duration": 0.020452,
     "end_time": "2021-06-23T00:34:18.296588",
     "exception": false,
     "start_time": "2021-06-23T00:34:18.276136",
     "status": "completed"
    },
    "tags": []
   },
   "source": [
    "## Consistency with the California GTFS Minimum Guidelines for the feed downloaded\n"
   ]
  },
  {
   "cell_type": "code",
   "execution_count": 14,
   "id": "cb87af23",
   "metadata": {
    "execution": {
     "iopub.execute_input": "2021-06-23T00:34:18.368261Z",
     "iopub.status.busy": "2021-06-23T00:34:18.367544Z",
     "iopub.status.idle": "2021-06-23T00:34:18.383012Z",
     "shell.execute_reply": "2021-06-23T00:34:18.384677Z"
    },
    "papermill": {
     "duration": 0.062217,
     "end_time": "2021-06-23T00:34:18.385012",
     "exception": false,
     "start_time": "2021-06-23T00:34:18.322795",
     "status": "completed"
    },
    "tags": []
   },
   "outputs": [
    {
     "data": {
      "text/html": [
       "<div>\n",
       "<style scoped>\n",
       "    .dataframe tbody tr th:only-of-type {\n",
       "        vertical-align: middle;\n",
       "    }\n",
       "\n",
       "    .dataframe tbody tr th {\n",
       "        vertical-align: top;\n",
       "    }\n",
       "\n",
       "    .dataframe thead th {\n",
       "        text-align: right;\n",
       "    }\n",
       "</style>\n",
       "<table border=\"1\" class=\"dataframe\">\n",
       "  <thead>\n",
       "    <tr style=\"text-align: right;\">\n",
       "      <th></th>\n",
       "      <th>category</th>\n",
       "      <th>name</th>\n",
       "      <th>2021-05-16</th>\n",
       "      <th>2021-05-23</th>\n",
       "      <th>2021-05-30</th>\n",
       "    </tr>\n",
       "  </thead>\n",
       "  <tbody>\n",
       "    <tr>\n",
       "      <th>5</th>\n",
       "      <td>Visual display</td>\n",
       "      <td>shapes.txt</td>\n",
       "      <td>✅</td>\n",
       "      <td>✅</td>\n",
       "      <td>✅</td>\n",
       "    </tr>\n",
       "    <tr>\n",
       "      <th>3</th>\n",
       "      <td>Navigation</td>\n",
       "      <td>levels.txt</td>\n",
       "      <td></td>\n",
       "      <td></td>\n",
       "      <td></td>\n",
       "    </tr>\n",
       "    <tr>\n",
       "      <th>4</th>\n",
       "      <td>Navigation</td>\n",
       "      <td>pathways.txt</td>\n",
       "      <td></td>\n",
       "      <td></td>\n",
       "      <td></td>\n",
       "    </tr>\n",
       "    <tr>\n",
       "      <th>0</th>\n",
       "      <td>Fares</td>\n",
       "      <td>fare_leg_rules</td>\n",
       "      <td></td>\n",
       "      <td></td>\n",
       "      <td></td>\n",
       "    </tr>\n",
       "    <tr>\n",
       "      <th>1</th>\n",
       "      <td>Fares</td>\n",
       "      <td>fare_rules.txt</td>\n",
       "      <td></td>\n",
       "      <td></td>\n",
       "      <td></td>\n",
       "    </tr>\n",
       "    <tr>\n",
       "      <th>2</th>\n",
       "      <td>Technical contacts</td>\n",
       "      <td>feed_info.txt</td>\n",
       "      <td>✅</td>\n",
       "      <td>✅</td>\n",
       "      <td>✅</td>\n",
       "    </tr>\n",
       "  </tbody>\n",
       "</table>\n",
       "</div>"
      ],
      "text/plain": [
       "             category            name 2021-05-16 2021-05-23 2021-05-30\n",
       "5      Visual display      shapes.txt          ✅          ✅          ✅\n",
       "3          Navigation      levels.txt                                 \n",
       "4          Navigation    pathways.txt                                 \n",
       "0               Fares  fare_leg_rules                                 \n",
       "1               Fares  fare_rules.txt                                 \n",
       "2  Technical contacts   feed_info.txt          ✅          ✅          ✅"
      ]
     },
     "execution_count": 14,
     "metadata": {},
     "output_type": "execute_result"
    }
   ],
   "source": [
    "tbl_file_check"
   ]
  },
  {
   "cell_type": "markdown",
   "id": "567cf0f9",
   "metadata": {
    "papermill": {
     "duration": 0.020537,
     "end_time": "2021-06-23T00:34:18.434427",
     "exception": false,
     "start_time": "2021-06-23T00:34:18.413890",
     "status": "completed"
    },
    "tags": []
   },
   "source": [
    "### Validation Errors Observed"
   ]
  },
  {
   "cell_type": "code",
   "execution_count": 15,
   "id": "a40120d9",
   "metadata": {
    "execution": {
     "iopub.execute_input": "2021-06-23T00:34:18.526765Z",
     "iopub.status.busy": "2021-06-23T00:34:18.525786Z",
     "iopub.status.idle": "2021-06-23T00:34:18.540776Z",
     "shell.execute_reply": "2021-06-23T00:34:18.541345Z"
    },
    "papermill": {
     "duration": 0.085664,
     "end_time": "2021-06-23T00:34:18.541549",
     "exception": false,
     "start_time": "2021-06-23T00:34:18.455885",
     "status": "completed"
    },
    "tags": []
   },
   "outputs": [
    {
     "data": {
      "text/html": [
       "<div>\n",
       "<style scoped>\n",
       "    .dataframe tbody tr th:only-of-type {\n",
       "        vertical-align: middle;\n",
       "    }\n",
       "\n",
       "    .dataframe tbody tr th {\n",
       "        vertical-align: top;\n",
       "    }\n",
       "\n",
       "    .dataframe thead th {\n",
       "        text-align: right;\n",
       "    }\n",
       "</style>\n",
       "<table border=\"1\" class=\"dataframe\">\n",
       "  <thead>\n",
       "    <tr style=\"text-align: right;\">\n",
       "      <th></th>\n",
       "      <th>code</th>\n",
       "      <th>severity</th>\n",
       "      <th>n</th>\n",
       "    </tr>\n",
       "  </thead>\n",
       "  <tbody>\n",
       "    <tr>\n",
       "      <th>0</th>\n",
       "      <td>leading_or_trailing_whitespaces</td>\n",
       "      <td>ERROR</td>\n",
       "      <td>1</td>\n",
       "    </tr>\n",
       "  </tbody>\n",
       "</table>\n",
       "</div>"
      ],
      "text/plain": [
       "                              code severity  n\n",
       "0  leading_or_trailing_whitespaces    ERROR  1"
      ]
     },
     "execution_count": 15,
     "metadata": {},
     "output_type": "execute_result"
    }
   ],
   "source": [
    "tbl_validation_notices"
   ]
  }
 ],
 "metadata": {
  "kernelspec": {
   "display_name": "venv-calitp-py",
   "language": "python",
   "name": "venv-calitp-py"
  },
  "language_info": {
   "codemirror_mode": {
    "name": "ipython",
    "version": 3
   },
   "file_extension": ".py",
   "mimetype": "text/x-python",
   "name": "python",
   "nbconvert_exporter": "python",
   "pygments_lexer": "ipython3",
   "version": "3.8.5"
  },
  "papermill": {
   "default_parameters": {},
   "duration": 49.517248,
   "end_time": "2021-06-23T00:34:20.262239",
   "environment_variables": {},
   "exception": null,
   "input_path": "report.ipynb",
   "output_path": "output/257/report.ipynb",
   "parameters": {
    "CALITP_ITP_ID": 257,
    "CALITP_URL_NUMBER": 0
   },
   "start_time": "2021-06-23T00:33:30.744991",
   "version": "2.3.3"
  }
 },
 "nbformat": 4,
 "nbformat_minor": 5
}