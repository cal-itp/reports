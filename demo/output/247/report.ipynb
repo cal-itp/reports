{
 "cells": [
  {
   "cell_type": "markdown",
   "id": "001aac09",
   "metadata": {
    "papermill": {
     "duration": 0.084417,
     "end_time": "2021-06-23T00:33:11.282708",
     "exception": false,
     "start_time": "2021-06-23T00:33:11.198291",
     "status": "completed"
    },
    "tags": [
     "hide"
    ]
   },
   "source": [
    "# Setup"
   ]
  },
  {
   "cell_type": "code",
   "execution_count": 1,
   "id": "80e5eebf",
   "metadata": {
    "execution": {
     "iopub.execute_input": "2021-06-23T00:33:11.389126Z",
     "iopub.status.busy": "2021-06-23T00:33:11.387957Z",
     "iopub.status.idle": "2021-06-23T00:33:20.722114Z",
     "shell.execute_reply": "2021-06-23T00:33:20.722623Z"
    },
    "papermill": {
     "duration": 9.375014,
     "end_time": "2021-06-23T00:33:20.722874",
     "exception": false,
     "start_time": "2021-06-23T00:33:11.347860",
     "status": "completed"
    },
    "tags": [
     "hide"
    ]
   },
   "outputs": [],
   "source": [
    "import pandas as pd\n",
    "\n",
    "from io import StringIO\n",
    "from calitp.tables import tbl\n",
    "from datetime import date\n",
    "from siuba import *\n",
    "from plotnine import *\n",
    "\n",
    "\n",
    "START_DATE = \"2021-05-01\"\n",
    "END_DATE = \"2021-06-01\"\n",
    "DATE_TODAY=date.today()\n",
    "\n",
    "WEEK_MARKERS = pd.date_range(START_DATE, END_DATE, freq=\"W\").astype(str).tolist()"
   ]
  },
  {
   "cell_type": "code",
   "execution_count": 2,
   "id": "bee3b5f0",
   "metadata": {
    "execution": {
     "iopub.execute_input": "2021-06-23T00:33:20.834840Z",
     "iopub.status.busy": "2021-06-23T00:33:20.832904Z",
     "iopub.status.idle": "2021-06-23T00:33:20.865674Z",
     "shell.execute_reply": "2021-06-23T00:33:20.866603Z"
    },
    "papermill": {
     "duration": 0.10943,
     "end_time": "2021-06-23T00:33:20.866914",
     "exception": false,
     "start_time": "2021-06-23T00:33:20.757484",
     "status": "completed"
    },
    "tags": [
     "parameters",
     "hide"
    ]
   },
   "outputs": [],
   "source": [
    "CALITP_ITP_ID=389\n",
    "#CALITP_ITP_ID=45\n",
    "CALITP_URL_NUMBER=0"
   ]
  },
  {
   "cell_type": "code",
   "execution_count": 3,
   "id": "db604ca6",
   "metadata": {
    "execution": {
     "iopub.execute_input": "2021-06-23T00:33:20.964684Z",
     "iopub.status.busy": "2021-06-23T00:33:20.963617Z",
     "iopub.status.idle": "2021-06-23T00:33:20.967299Z",
     "shell.execute_reply": "2021-06-23T00:33:20.968241Z"
    },
    "papermill": {
     "duration": 0.049471,
     "end_time": "2021-06-23T00:33:20.968597",
     "exception": false,
     "start_time": "2021-06-23T00:33:20.919126",
     "status": "completed"
    },
    "tags": [
     "injected-parameters"
    ]
   },
   "outputs": [],
   "source": [
    "# Parameters\n",
    "CALITP_ITP_ID = 247\n",
    "CALITP_URL_NUMBER = 0\n"
   ]
  },
  {
   "cell_type": "code",
   "execution_count": 4,
   "id": "9a4c32c6",
   "metadata": {
    "execution": {
     "iopub.execute_input": "2021-06-23T00:33:21.138992Z",
     "iopub.status.busy": "2021-06-23T00:33:21.130363Z",
     "iopub.status.idle": "2021-06-23T00:33:21.151644Z",
     "shell.execute_reply": "2021-06-23T00:33:21.152515Z"
    },
    "papermill": {
     "duration": 0.066233,
     "end_time": "2021-06-23T00:33:21.152888",
     "exception": false,
     "start_time": "2021-06-23T00:33:21.086655",
     "status": "completed"
    },
    "tags": [
     "hide"
    ]
   },
   "outputs": [],
   "source": [
    "# Convenience functions ----\n",
    "\n",
    "filter_start = filter(\n",
    "    _.calitp_extracted_at <= START_DATE,\n",
    "    _.calitp_deleted_at.fillna(\"2099-01-01\") > START_DATE,\n",
    ")\n",
    "\n",
    "filter_end = filter(\n",
    "    _.calitp_extracted_at <= END_DATE,\n",
    "    _.calitp_deleted_at.fillna(\"2099-01-01\") > END_DATE,\n",
    ")\n",
    "\n",
    "filter_itp = filter(\n",
    "    _.calitp_itp_id == CALITP_ITP_ID, _.calitp_url_number == CALITP_URL_NUMBER\n",
    ")\n",
    "\n",
    "collect_to_dict = (\n",
    "    collect()\n",
    "    >> pipe(_.to_dict(orient=\"records\")[0])\n",
    ")\n",
    "\n",
    "\n",
    "select_rm_calitp = select(\n",
    "    -_.calitp_itp_id,\n",
    "    -_.calitp_url_number,\n",
    "    -_.calitp_hash,\n",
    "    -_.calitp_extracted_at,\n",
    "    -_.calitp_deleted_at,\n",
    ")\n",
    "\n",
    "\n",
    "def query_id_changes(start_table, end_table, id_vars):\n",
    "    \"\"\"Calculate id variables that are removed, added, or unchanged between tables.\n",
    "    \n",
    "    It works by adding a special column to each table, performing a full join,\n",
    "    then checking where the special column is null.\n",
    "    \"\"\"\n",
    "    sym_id_vars = [_[k] for k in id_vars]\n",
    "\n",
    "    is_in_start = start_table >> select(*id_vars) >> mutate(is_in_start=True)\n",
    "    is_in_end = end_table >> select(*id_vars) >> mutate(is_in_end=True)\n",
    "\n",
    "    baseline = start_table >> count(*id_vars) >> rename(n_baseline=\"n\")\n",
    "    tallies = (\n",
    "        is_in_start\n",
    "        >> full_join(_, is_in_end, id_vars)\n",
    "        >> count(*sym_id_vars, _.is_in_start, _.is_in_end)\n",
    "        >> mutate(\n",
    "            status=case_when(\n",
    "                _,\n",
    "                {\n",
    "                    _.is_in_end.isna(): \"Removed\",\n",
    "                    _.is_in_start.isna(): \"Added\",\n",
    "                    True: \"Unchanged\",\n",
    "                },\n",
    "            )\n",
    "        )\n",
    "        >> count(*sym_id_vars[:-1], _.status)\n",
    "        >> group_by(*sym_id_vars[:-1])\n",
    "        >> mutate(percent=_.n / _.n.sum())\n",
    "    )\n",
    "\n",
    "    return tallies"
   ]
  },
  {
   "cell_type": "code",
   "execution_count": 5,
   "id": "1098504a",
   "metadata": {
    "execution": {
     "iopub.execute_input": "2021-06-23T00:33:21.326404Z",
     "iopub.status.busy": "2021-06-23T00:33:21.309573Z",
     "iopub.status.idle": "2021-06-23T00:33:45.699701Z",
     "shell.execute_reply": "2021-06-23T00:33:45.700246Z"
    },
    "papermill": {
     "duration": 24.439059,
     "end_time": "2021-06-23T00:33:45.700451",
     "exception": false,
     "start_time": "2021-06-23T00:33:21.261392",
     "status": "completed"
    },
    "tags": [
     "hide"
    ]
   },
   "outputs": [],
   "source": [
    "# Data ====\n",
    "# 1. High level feed info ----\n",
    "feed_info = (\n",
    "    tbl.gtfs_schedule_type2.feed_info()\n",
    "    >> filter_end\n",
    "    >> filter_itp\n",
    "    >> select_rm_calitp\n",
    "    >> collect_to_dict\n",
    ")\n",
    "\n",
    "_n_routes = (\n",
    "    tbl.gtfs_schedule_type2.routes() >> filter_end >> filter_itp >> count() >> collect()\n",
    ")\n",
    "_n_stops = (\n",
    "    tbl.gtfs_schedule_type2.stops() >> filter_end >> filter_itp >> count() >> collect()\n",
    ")\n",
    "\n",
    "feed_info[\"n_routes\"] = int(_n_routes.loc[0, \"n\"])\n",
    "feed_info[\"n_stops\"] = int(_n_stops.loc[0, \"n\"])\n",
    "\n",
    "status = (\n",
    "    tbl.views.gtfs_status_latest()\n",
    "    >> filter(_.itp_id == CALITP_ITP_ID, _.url_number == CALITP_URL_NUMBER)\n",
    "    >> select(-_.url_number, -_.status)\n",
    "    >> select_rm_calitp\n",
    "    >> collect_to_dict\n",
    ")\n",
    "\n",
    "# 2. Monthly metrics ----\n",
    "# Service hours per day. Note that the queried table calculates service\n",
    "# hours per service id, so we need to sum across service ids for the day\n",
    "_cross_cal = (\n",
    "    tbl.views.dim_date()\n",
    "    >> filter(_.full_date.between(START_DATE, END_DATE))\n",
    "    >> select(_.service_date == _.full_date)\n",
    ")\n",
    "\n",
    "tbl_daily_service_hours = (\n",
    "    tbl.views.gtfs_schedule_service_daily_metrics()\n",
    "    >> filter_itp\n",
    "    >> filter(_.service_date.between(START_DATE, END_DATE))\n",
    "    >> right_join(_, _cross_cal, [\"service_date\"])\n",
    "    >> collect()\n",
    "    >> group_by(_.service_date)\n",
    "    >> summarize(ttl_service_hours=(_.last_arrival_ts.max() - _.first_departure_ts.min()) / 3600)\n",
    "    >> mutate(\n",
    "        ttl_service_hours=_.ttl_service_hours.astype(float).round(2),\n",
    "        service_date=_.service_date.astype(\"datetime64[ns]\"),\n",
    "    )\n",
    ")\n",
    "\n",
    "# number of days where a feed did not have any trips in service\n",
    "n_expired_days = (\n",
    "    tbl_daily_service_hours >> filter(_.ttl_service_hours.isna())\n",
    "    >> pipe(lambda d: {\"n\": d.shape[0]})\n",
    ")\n",
    "\n",
    "# 3. Stop and Route ID Changes ----\n",
    "\n",
    "_tbl_stops_start = tbl.gtfs_schedule_type2.stops() >> filter_itp >> filter_start\n",
    "_tbl_stops_end = tbl.gtfs_schedule_type2.stops() >> filter_itp >> filter_end\n",
    "tbl_stops_changed = (\n",
    "    query_id_changes(_tbl_stops_start, _tbl_stops_end, [\"stop_id\"]) >> collect()\n",
    ")\n",
    "\n",
    "_tbl_routes_start = tbl.gtfs_schedule_type2.routes() >> filter_start\n",
    "_tbl_routes_end = tbl.gtfs_schedule_type2.routes() >> filter_end\n",
    "tbl_routes_changed = (\n",
    "    query_id_changes(_tbl_routes_start, _tbl_routes_end, [\"route_id\"]) >> collect()\n",
    ")"
   ]
  },
  {
   "cell_type": "code",
   "execution_count": 6,
   "id": "4106cd9f",
   "metadata": {
    "execution": {
     "iopub.execute_input": "2021-06-23T00:33:45.746452Z",
     "iopub.status.busy": "2021-06-23T00:33:45.744039Z",
     "iopub.status.idle": "2021-06-23T00:33:51.599027Z",
     "shell.execute_reply": "2021-06-23T00:33:51.599576Z"
    },
    "papermill": {
     "duration": 5.88239,
     "end_time": "2021-06-23T00:33:51.599761",
     "exception": false,
     "start_time": "2021-06-23T00:33:45.717371",
     "status": "completed"
    },
    "tags": [
     "hide"
    ]
   },
   "outputs": [
    {
     "name": "stdout",
     "output_type": "stream",
     "text": [
      "The history saving thread hit an unexpected error (OperationalError('attempt to write a readonly database')).History will not be written to the database.\n"
     ]
    }
   ],
   "source": [
    "# 4. Feed files being checked for ----\n",
    "\n",
    "file_categories = pd.DataFrame(\n",
    "    {\n",
    "        \"shapes.txt\": \"Visual display\",\n",
    "        \"pathways.txt\": \"Navigation\",\n",
    "        \"levels.txt\": \"Navigation\",\n",
    "        \"fare_rules.txt\": \"Fares\",\n",
    "        \"fare_leg_rules\": \"Fares\",\n",
    "        \"feed_info.txt\": \"Technical contacts\",\n",
    "    }.items(),\n",
    "    columns=[\"name\", \"category\"],\n",
    ")\n",
    "\n",
    "importance = [\"Visual display\", \"Navigation\", \"Fares\", \"Technical contacts\"]\n",
    "\n",
    "tbl_file_check = (\n",
    "    tbl.gtfs_schedule_history.calitp_files_updates()\n",
    "    >> filter_itp\n",
    "    >> filter(_.calitp_extracted_at.isin(WEEK_MARKERS))\n",
    "    >> select(_.name, _.calitp_extracted_at)\n",
    "    >> collect()\n",
    "    >> right_join(_, file_categories, [\"name\"])\n",
    "    >> mutate(\n",
    "        calitp_extracted_at=_.calitp_extracted_at.fillna(\"missing\").astype(str),\n",
    "        success=\"✅\",\n",
    "    )\n",
    "    >> spread(_.calitp_extracted_at, _.success)\n",
    "    >> select(-_.missing)\n",
    "    >> arrange(_.category.apply(importance.index))\n",
    "    >> select(_.category, _.contains(\"\"))\n",
    "    >> pipe(_.fillna(\"\"))\n",
    ")\n",
    "\n",
    "tbl_validation_notices = (\n",
    "    tbl.views.validation_notices()\n",
    "    >> filter_itp\n",
    "    >> filter(_.severity == \"ERROR\")\n",
    "    >> count(_.code, _.severity)\n",
    "    >> collect()\n",
    ")"
   ]
  },
  {
   "cell_type": "markdown",
   "id": "9cd70c6f",
   "metadata": {
    "papermill": {
     "duration": 0.027448,
     "end_time": "2021-06-23T00:33:51.645872",
     "exception": false,
     "start_time": "2021-06-23T00:33:51.618424",
     "status": "completed"
    },
    "tags": [
     "hide"
    ]
   },
   "source": [
    "## Dump data"
   ]
  },
  {
   "cell_type": "code",
   "execution_count": 7,
   "id": "bbc62b77",
   "metadata": {
    "execution": {
     "iopub.execute_input": "2021-06-23T00:33:51.736918Z",
     "iopub.status.busy": "2021-06-23T00:33:51.727230Z",
     "iopub.status.idle": "2021-06-23T00:33:51.743029Z",
     "shell.execute_reply": "2021-06-23T00:33:51.736287Z"
    },
    "papermill": {
     "duration": 0.080257,
     "end_time": "2021-06-23T00:33:51.743199",
     "exception": false,
     "start_time": "2021-06-23T00:33:51.662942",
     "status": "completed"
    },
    "tags": [
     "hide"
    ]
   },
   "outputs": [],
   "source": [
    "import json\n",
    "import shutil\n",
    "\n",
    "from pathlib import Path\n",
    "\n",
    "out_dir = Path(f\"output/{CALITP_ITP_ID}_{CALITP_URL_NUMBER}/data\")\n",
    "out_dir.mkdir(parents=True, exist_ok=True)\n",
    "\n",
    "json.dump(feed_info, open(out_dir / \"1_feed_info.json\", \"w\"))\n",
    "json.dump(status, open(out_dir / \"1_status.json\", \"w\"))\n",
    "\n",
    "tbl_daily_service_hours.to_json(out_dir / \"2_daily_service_hours.json\", orient=\"records\")\n",
    "json.dump(n_expired_days, open(out_dir / \"2_n_expired_days.json\", \"w\"))\n",
    "\n",
    "tbl_stops_changed.to_json(out_dir / \"3_stops_changed.json\", orient=\"records\")\n",
    "tbl_routes_changed.to_json(out_dir / \"3_routes_changed.json\", orient=\"records\")\n",
    "tbl_file_check.to_json(out_dir / \"4_file_check.json\", orient=\"records\")\n",
    "tbl_validation_notices.to_json(out_dir / \"4_validation_notices.json\", orient=\"records\")\n"
   ]
  },
  {
   "cell_type": "markdown",
   "id": "3d70cd55",
   "metadata": {
    "papermill": {
     "duration": 0.018884,
     "end_time": "2021-06-23T00:33:51.795045",
     "exception": false,
     "start_time": "2021-06-23T00:33:51.776161",
     "status": "completed"
    },
    "tags": []
   },
   "source": [
    "# GTFS Schedule Report"
   ]
  },
  {
   "cell_type": "markdown",
   "id": "92397cb9",
   "metadata": {
    "papermill": {
     "duration": 0.049949,
     "end_time": "2021-06-23T00:33:51.870560",
     "exception": false,
     "start_time": "2021-06-23T00:33:51.820611",
     "status": "completed"
    },
    "tags": []
   },
   "source": [
    "# Example Juniper Report"
   ]
  },
  {
   "cell_type": "code",
   "execution_count": 8,
   "id": "d71995ad",
   "metadata": {
    "execution": {
     "iopub.execute_input": "2021-06-23T00:33:51.967487Z",
     "iopub.status.busy": "2021-06-23T00:33:51.964594Z",
     "iopub.status.idle": "2021-06-23T00:33:51.969963Z",
     "shell.execute_reply": "2021-06-23T00:33:51.969424Z"
    },
    "papermill": {
     "duration": 0.059591,
     "end_time": "2021-06-23T00:33:51.970121",
     "exception": false,
     "start_time": "2021-06-23T00:33:51.910530",
     "status": "completed"
    },
    "tags": []
   },
   "outputs": [
    {
     "data": {
      "text/markdown": [
       "\n",
       "Transit provider name: Trillium Solutions, Inc.\n",
       "\n",
       "Date generated: 2021-06-22\n"
      ],
      "text/plain": [
       "<IPython.core.display.Markdown object>"
      ]
     },
     "execution_count": 8,
     "metadata": {},
     "output_type": "execute_result"
    }
   ],
   "source": [
    "from IPython.display import Markdown\n",
    "\n",
    "Markdown(f\"\"\"\n",
    "Transit provider name: {feed_info[\"feed_publisher_name\"]}\n",
    "\n",
    "Date generated: {DATE_TODAY}\n",
    "\"\"\")"
   ]
  },
  {
   "cell_type": "markdown",
   "id": "cd91c9bb",
   "metadata": {
    "papermill": {
     "duration": 0.024539,
     "end_time": "2021-06-23T00:33:52.022967",
     "exception": false,
     "start_time": "2021-06-23T00:33:51.998428",
     "status": "completed"
    },
    "tags": []
   },
   "source": [
    "This is a monthly report, generated by the California Integrated Travel Project (Cal-ITP), summarizing issues discovered by MobilityData’s GTFS Validator. This report is available for viewing by the general public to support continuous improvement of GTFS data and the experience of transit passengers. "
   ]
  },
  {
   "cell_type": "markdown",
   "id": "7ae44d9a",
   "metadata": {
    "papermill": {
     "duration": 0.041782,
     "end_time": "2021-06-23T00:33:52.116171",
     "exception": false,
     "start_time": "2021-06-23T00:33:52.074389",
     "status": "completed"
    },
    "tags": []
   },
   "source": [
    "## Overview"
   ]
  },
  {
   "cell_type": "code",
   "execution_count": 9,
   "id": "e2a85239",
   "metadata": {
    "execution": {
     "iopub.execute_input": "2021-06-23T00:33:52.197163Z",
     "iopub.status.busy": "2021-06-23T00:33:52.195866Z",
     "iopub.status.idle": "2021-06-23T00:33:52.202539Z",
     "shell.execute_reply": "2021-06-23T00:33:52.201471Z"
    },
    "papermill": {
     "duration": 0.051312,
     "end_time": "2021-06-23T00:33:52.202831",
     "exception": false,
     "start_time": "2021-06-23T00:33:52.151519",
     "status": "completed"
    },
    "tags": []
   },
   "outputs": [
    {
     "data": {
      "text/markdown": [
       "\n",
       "Feed location: http://data.trilliumtransit.com/gtfs/petalumatransit-petaluma-ca-us/petalumatransit-petaluma-ca-us.zip\n",
       "\n",
       "Metrics for the most recent published version of the feed:\n",
       "\n",
       "* Date published: UTC: 31-Dec-2020 00:55\n",
       "* Number of routes in any service: 12\n",
       "* Number of stops in service: 167\n"
      ],
      "text/plain": [
       "<IPython.core.display.Markdown object>"
      ]
     },
     "execution_count": 9,
     "metadata": {},
     "output_type": "execute_result"
    }
   ],
   "source": [
    "Markdown(f\"\"\"\n",
    "Feed location: {status[\"gtfs_schedule_url\"]}\n",
    "\n",
    "Metrics for the most recent published version of the feed:\n",
    "\n",
    "* Date published: {feed_info[\"feed_version\"]}\n",
    "* Number of routes in any service: {feed_info[\"n_routes\"]}\n",
    "* Number of stops in service: {feed_info[\"n_stops\"]}\n",
    "\"\"\")"
   ]
  },
  {
   "cell_type": "markdown",
   "id": "b5f1a24d",
   "metadata": {
    "papermill": {
     "duration": 0.029435,
     "end_time": "2021-06-23T00:33:52.287011",
     "exception": false,
     "start_time": "2021-06-23T00:33:52.257576",
     "status": "completed"
    },
    "tags": []
   },
   "source": [
    "## Aggregated Metrics for May"
   ]
  },
  {
   "cell_type": "code",
   "execution_count": 10,
   "id": "75b37ab2",
   "metadata": {
    "execution": {
     "iopub.execute_input": "2021-06-23T00:33:52.387332Z",
     "iopub.status.busy": "2021-06-23T00:33:52.386257Z",
     "iopub.status.idle": "2021-06-23T00:33:52.391053Z",
     "shell.execute_reply": "2021-06-23T00:33:52.391806Z"
    },
    "papermill": {
     "duration": 0.050841,
     "end_time": "2021-06-23T00:33:52.392088",
     "exception": false,
     "start_time": "2021-06-23T00:33:52.341247",
     "status": "completed"
    },
    "tags": []
   },
   "outputs": [
    {
     "data": {
      "text/markdown": [
       "\n",
       "Days when the active feed was expired: 1\n"
      ],
      "text/plain": [
       "<IPython.core.display.Markdown object>"
      ]
     },
     "execution_count": 10,
     "metadata": {},
     "output_type": "execute_result"
    }
   ],
   "source": [
    "Markdown(f\"\"\"\n",
    "Days when the active feed was expired: {n_expired_days[\"n\"]}\n",
    "\"\"\")"
   ]
  },
  {
   "cell_type": "code",
   "execution_count": 11,
   "id": "19093fbb",
   "metadata": {
    "execution": {
     "iopub.execute_input": "2021-06-23T00:33:52.486023Z",
     "iopub.status.busy": "2021-06-23T00:33:52.465896Z",
     "iopub.status.idle": "2021-06-23T00:33:53.163755Z",
     "shell.execute_reply": "2021-06-23T00:33:53.164545Z"
    },
    "papermill": {
     "duration": 0.742056,
     "end_time": "2021-06-23T00:33:53.164863",
     "exception": false,
     "start_time": "2021-06-23T00:33:52.422807",
     "status": "completed"
    },
    "tags": []
   },
   "outputs": [
    {
     "name": "stderr",
     "output_type": "stream",
     "text": [
      "/Users/machow/.virtualenvs/calitp-py/lib/python3.8/site-packages/plotnine/layer.py:401: PlotnineWarning: geom_point : Removed 1 rows containing missing values.\n"
     ]
    },
    {
     "data": {
      "image/png": "[encoded data removed]",
      "text/plain": [
       "<Figure size 640x480 with 1 Axes>"
      ]
     },
     "metadata": {},
     "output_type": "display_data"
    },
    {
     "data": {
      "text/plain": [
       "<ggplot: (313573124)>"
      ]
     },
     "execution_count": 11,
     "metadata": {},
     "output_type": "execute_result"
    }
   ],
   "source": [
    "(\n",
    "    tbl_daily_service_hours\n",
    "    >> ggplot(aes(\"service_date\", \"ttl_service_hours\"))\n",
    "    + geom_line()\n",
    "    + geom_point()\n",
    "    + theme(axis_text_x=element_text(angle=45, hjust=1))\n",
    "    + scale_x_datetime(date_breaks=\"1 week\")\n",
    "    + expand_limits(y=0)\n",
    ")"
   ]
  },
  {
   "cell_type": "markdown",
   "id": "f4331ce7",
   "metadata": {
    "papermill": {
     "duration": 0.030176,
     "end_time": "2021-06-23T00:33:53.257792",
     "exception": false,
     "start_time": "2021-06-23T00:33:53.227616",
     "status": "completed"
    },
    "tags": []
   },
   "source": [
    "## Changes Since Previous Month"
   ]
  },
  {
   "cell_type": "code",
   "execution_count": 12,
   "id": "b91a9a5d",
   "metadata": {
    "execution": {
     "iopub.execute_input": "2021-06-23T00:33:53.431835Z",
     "iopub.status.busy": "2021-06-23T00:33:53.430240Z",
     "iopub.status.idle": "2021-06-23T00:33:54.026372Z",
     "shell.execute_reply": "2021-06-23T00:33:54.028558Z"
    },
    "papermill": {
     "duration": 0.6752,
     "end_time": "2021-06-23T00:33:54.029020",
     "exception": false,
     "start_time": "2021-06-23T00:33:53.353820",
     "status": "completed"
    },
    "tags": []
   },
   "outputs": [
    {
     "data": {
      "image/png": "[encoded data removed]",
      "text/plain": [
       "<Figure size 640x480 with 1 Axes>"
      ]
     },
     "metadata": {},
     "output_type": "display_data"
    },
    {
     "data": {
      "text/plain": [
       "<ggplot: (313631880)>"
      ]
     },
     "execution_count": 12,
     "metadata": {},
     "output_type": "execute_result"
    }
   ],
   "source": [
    "(\n",
    "    pd.concat(\n",
    "        [\n",
    "            tbl_stops_changed >> mutate(kind=\"Stops\"),\n",
    "            tbl_routes_changed >> mutate(kind=\"Routes\"),\n",
    "        ]\n",
    "    )\n",
    "    >> ggplot(aes(\"kind\", \"n\", fill=\"status\"))\n",
    "    + geom_col()\n",
    "    + labs(x=\"Kind of ID\", y=\"Number of Changes\")\n",
    ")"
   ]
  },
  {
   "cell_type": "markdown",
   "id": "df124454",
   "metadata": {
    "papermill": {
     "duration": 0.048436,
     "end_time": "2021-06-23T00:33:54.111815",
     "exception": false,
     "start_time": "2021-06-23T00:33:54.063379",
     "status": "completed"
    },
    "tags": []
   },
   "source": [
    "### (Alternative version using percentages)"
   ]
  },
  {
   "cell_type": "code",
   "execution_count": 13,
   "id": "16796288",
   "metadata": {
    "execution": {
     "iopub.execute_input": "2021-06-23T00:33:54.327694Z",
     "iopub.status.busy": "2021-06-23T00:33:54.326607Z",
     "iopub.status.idle": "2021-06-23T00:33:55.135309Z",
     "shell.execute_reply": "2021-06-23T00:33:55.136948Z"
    },
    "papermill": {
     "duration": 0.945131,
     "end_time": "2021-06-23T00:33:55.137383",
     "exception": false,
     "start_time": "2021-06-23T00:33:54.192252",
     "status": "completed"
    },
    "tags": []
   },
   "outputs": [
    {
     "data": {
      "image/png": "[encoded data removed]",
      "text/plain": [
       "<Figure size 640x480 with 1 Axes>"
      ]
     },
     "metadata": {},
     "output_type": "display_data"
    },
    {
     "data": {
      "text/plain": [
       "<ggplot: (284107837)>"
      ]
     },
     "execution_count": 13,
     "metadata": {},
     "output_type": "execute_result"
    }
   ],
   "source": [
    "(\n",
    "    pd.concat(\n",
    "        [\n",
    "            tbl_stops_changed >> mutate(kind=\"Stops\"),\n",
    "            tbl_routes_changed >> mutate(kind=\"Routes\"),\n",
    "        ]\n",
    "    )\n",
    "    >> ggplot(aes(\"kind\", \"percent\", fill=\"status\"))\n",
    "    + geom_col()\n",
    "    + labs(x=\"Kind of ID\", y=\"Percent of Changes\")\n",
    ")"
   ]
  },
  {
   "cell_type": "markdown",
   "id": "328ffdfd",
   "metadata": {
    "papermill": {
     "duration": 0.039514,
     "end_time": "2021-06-23T00:33:55.220809",
     "exception": false,
     "start_time": "2021-06-23T00:33:55.181295",
     "status": "completed"
    },
    "tags": []
   },
   "source": [
    "## Consistency with the California GTFS Minimum Guidelines for the feed downloaded\n"
   ]
  },
  {
   "cell_type": "code",
   "execution_count": 14,
   "id": "9ce2680a",
   "metadata": {
    "execution": {
     "iopub.execute_input": "2021-06-23T00:33:55.301636Z",
     "iopub.status.busy": "2021-06-23T00:33:55.300491Z",
     "iopub.status.idle": "2021-06-23T00:33:55.321110Z",
     "shell.execute_reply": "2021-06-23T00:33:55.321985Z"
    },
    "papermill": {
     "duration": 0.070105,
     "end_time": "2021-06-23T00:33:55.322305",
     "exception": false,
     "start_time": "2021-06-23T00:33:55.252200",
     "status": "completed"
    },
    "tags": []
   },
   "outputs": [
    {
     "data": {
      "text/html": [
       "<div>\n",
       "<style scoped>\n",
       "    .dataframe tbody tr th:only-of-type {\n",
       "        vertical-align: middle;\n",
       "    }\n",
       "\n",
       "    .dataframe tbody tr th {\n",
       "        vertical-align: top;\n",
       "    }\n",
       "\n",
       "    .dataframe thead th {\n",
       "        text-align: right;\n",
       "    }\n",
       "</style>\n",
       "<table border=\"1\" class=\"dataframe\">\n",
       "  <thead>\n",
       "    <tr style=\"text-align: right;\">\n",
       "      <th></th>\n",
       "      <th>category</th>\n",
       "      <th>name</th>\n",
       "      <th>2021-05-02</th>\n",
       "      <th>2021-05-09</th>\n",
       "      <th>2021-05-16</th>\n",
       "      <th>2021-05-23</th>\n",
       "      <th>2021-05-30</th>\n",
       "    </tr>\n",
       "  </thead>\n",
       "  <tbody>\n",
       "    <tr>\n",
       "      <th>5</th>\n",
       "      <td>Visual display</td>\n",
       "      <td>shapes.txt</td>\n",
       "      <td>✅</td>\n",
       "      <td>✅</td>\n",
       "      <td>✅</td>\n",
       "      <td>✅</td>\n",
       "      <td>✅</td>\n",
       "    </tr>\n",
       "    <tr>\n",
       "      <th>3</th>\n",
       "      <td>Navigation</td>\n",
       "      <td>levels.txt</td>\n",
       "      <td></td>\n",
       "      <td></td>\n",
       "      <td></td>\n",
       "      <td></td>\n",
       "      <td></td>\n",
       "    </tr>\n",
       "    <tr>\n",
       "      <th>4</th>\n",
       "      <td>Navigation</td>\n",
       "      <td>pathways.txt</td>\n",
       "      <td></td>\n",
       "      <td></td>\n",
       "      <td></td>\n",
       "      <td></td>\n",
       "      <td></td>\n",
       "    </tr>\n",
       "    <tr>\n",
       "      <th>0</th>\n",
       "      <td>Fares</td>\n",
       "      <td>fare_leg_rules</td>\n",
       "      <td></td>\n",
       "      <td></td>\n",
       "      <td></td>\n",
       "      <td></td>\n",
       "      <td></td>\n",
       "    </tr>\n",
       "    <tr>\n",
       "      <th>1</th>\n",
       "      <td>Fares</td>\n",
       "      <td>fare_rules.txt</td>\n",
       "      <td>✅</td>\n",
       "      <td>✅</td>\n",
       "      <td>✅</td>\n",
       "      <td>✅</td>\n",
       "      <td>✅</td>\n",
       "    </tr>\n",
       "    <tr>\n",
       "      <th>2</th>\n",
       "      <td>Technical contacts</td>\n",
       "      <td>feed_info.txt</td>\n",
       "      <td>✅</td>\n",
       "      <td>✅</td>\n",
       "      <td>✅</td>\n",
       "      <td>✅</td>\n",
       "      <td>✅</td>\n",
       "    </tr>\n",
       "  </tbody>\n",
       "</table>\n",
       "</div>"
      ],
      "text/plain": [
       "             category            name 2021-05-02 2021-05-09 2021-05-16  \\\n",
       "5      Visual display      shapes.txt          ✅          ✅          ✅   \n",
       "3          Navigation      levels.txt                                    \n",
       "4          Navigation    pathways.txt                                    \n",
       "0               Fares  fare_leg_rules                                    \n",
       "1               Fares  fare_rules.txt          ✅          ✅          ✅   \n",
       "2  Technical contacts   feed_info.txt          ✅          ✅          ✅   \n",
       "\n",
       "  2021-05-23 2021-05-30  \n",
       "5          ✅          ✅  \n",
       "3                        \n",
       "4                        \n",
       "0                        \n",
       "1          ✅          ✅  \n",
       "2          ✅          ✅  "
      ]
     },
     "execution_count": 14,
     "metadata": {},
     "output_type": "execute_result"
    }
   ],
   "source": [
    "tbl_file_check"
   ]
  },
  {
   "cell_type": "markdown",
   "id": "089d4f2c",
   "metadata": {
    "papermill": {
     "duration": 0.03928,
     "end_time": "2021-06-23T00:33:55.405463",
     "exception": false,
     "start_time": "2021-06-23T00:33:55.366183",
     "status": "completed"
    },
    "tags": []
   },
   "source": [
    "### Validation Errors Observed"
   ]
  },
  {
   "cell_type": "code",
   "execution_count": 15,
   "id": "dc115f7d",
   "metadata": {
    "execution": {
     "iopub.execute_input": "2021-06-23T00:33:55.497940Z",
     "iopub.status.busy": "2021-06-23T00:33:55.496784Z",
     "iopub.status.idle": "2021-06-23T00:33:55.503596Z",
     "shell.execute_reply": "2021-06-23T00:33:55.504843Z"
    },
    "papermill": {
     "duration": 0.060472,
     "end_time": "2021-06-23T00:33:55.505302",
     "exception": false,
     "start_time": "2021-06-23T00:33:55.444830",
     "status": "completed"
    },
    "tags": []
   },
   "outputs": [
    {
     "data": {
      "text/html": [
       "<div>\n",
       "<style scoped>\n",
       "    .dataframe tbody tr th:only-of-type {\n",
       "        vertical-align: middle;\n",
       "    }\n",
       "\n",
       "    .dataframe tbody tr th {\n",
       "        vertical-align: top;\n",
       "    }\n",
       "\n",
       "    .dataframe thead th {\n",
       "        text-align: right;\n",
       "    }\n",
       "</style>\n",
       "<table border=\"1\" class=\"dataframe\">\n",
       "  <thead>\n",
       "    <tr style=\"text-align: right;\">\n",
       "      <th></th>\n",
       "      <th>code</th>\n",
       "      <th>severity</th>\n",
       "      <th>n</th>\n",
       "    </tr>\n",
       "  </thead>\n",
       "  <tbody>\n",
       "  </tbody>\n",
       "</table>\n",
       "</div>"
      ],
      "text/plain": [
       "Empty DataFrame\n",
       "Columns: [code, severity, n]\n",
       "Index: []"
      ]
     },
     "execution_count": 15,
     "metadata": {},
     "output_type": "execute_result"
    }
   ],
   "source": [
    "tbl_validation_notices"
   ]
  }
 ],
 "metadata": {
  "kernelspec": {
   "display_name": "venv-calitp-py",
   "language": "python",
   "name": "venv-calitp-py"
  },
  "language_info": {
   "codemirror_mode": {
    "name": "ipython",
    "version": 3
   },
   "file_extension": ".py",
   "mimetype": "text/x-python",
   "name": "python",
   "nbconvert_exporter": "python",
   "pygments_lexer": "ipython3",
   "version": "3.8.5"
  },
  "papermill": {
   "default_parameters": {},
   "duration": 47.427431,
   "end_time": "2021-06-23T00:33:57.422044",
   "environment_variables": {},
   "exception": null,
   "input_path": "report.ipynb",
   "output_path": "output/247/report.ipynb",
   "parameters": {
    "CALITP_ITP_ID": 247,
    "CALITP_URL_NUMBER": 0
   },
   "start_time": "2021-06-23T00:33:09.994613",
   "version": "2.3.3"
  }
 },
 "nbformat": 4,
 "nbformat_minor": 5
}