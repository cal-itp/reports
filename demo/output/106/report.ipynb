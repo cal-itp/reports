{
 "cells": [
  {
   "cell_type": "markdown",
   "id": "eb513816",
   "metadata": {
    "papermill": {
     "duration": 0.018366,
     "end_time": "2021-06-23T00:28:33.103032",
     "exception": false,
     "start_time": "2021-06-23T00:28:33.084666",
     "status": "completed"
    },
    "tags": [
     "hide"
    ]
   },
   "source": [
    "# Setup"
   ]
  },
  {
   "cell_type": "code",
   "execution_count": 1,
   "id": "47bbc733",
   "metadata": {
    "execution": {
     "iopub.execute_input": "2021-06-23T00:28:33.151560Z",
     "iopub.status.busy": "2021-06-23T00:28:33.150286Z",
     "iopub.status.idle": "2021-06-23T00:28:40.694940Z",
     "shell.execute_reply": "2021-06-23T00:28:40.695463Z"
    },
    "papermill": {
     "duration": 7.575112,
     "end_time": "2021-06-23T00:28:40.695724",
     "exception": false,
     "start_time": "2021-06-23T00:28:33.120612",
     "status": "completed"
    },
    "tags": [
     "hide"
    ]
   },
   "outputs": [],
   "source": [
    "import pandas as pd\n",
    "\n",
    "from io import StringIO\n",
    "from calitp.tables import tbl\n",
    "from datetime import date\n",
    "from siuba import *\n",
    "from plotnine import *\n",
    "\n",
    "\n",
    "START_DATE = \"2021-05-01\"\n",
    "END_DATE = \"2021-06-01\"\n",
    "DATE_TODAY=date.today()\n",
    "\n",
    "WEEK_MARKERS = pd.date_range(START_DATE, END_DATE, freq=\"W\").astype(str).tolist()"
   ]
  },
  {
   "cell_type": "code",
   "execution_count": 2,
   "id": "1321d0be",
   "metadata": {
    "execution": {
     "iopub.execute_input": "2021-06-23T00:28:40.753947Z",
     "iopub.status.busy": "2021-06-23T00:28:40.751690Z",
     "iopub.status.idle": "2021-06-23T00:28:40.756501Z",
     "shell.execute_reply": "2021-06-23T00:28:40.756958Z"
    },
    "papermill": {
     "duration": 0.044978,
     "end_time": "2021-06-23T00:28:40.757128",
     "exception": false,
     "start_time": "2021-06-23T00:28:40.712150",
     "status": "completed"
    },
    "tags": [
     "parameters",
     "hide"
    ]
   },
   "outputs": [],
   "source": [
    "CALITP_ITP_ID=389\n",
    "#CALITP_ITP_ID=45\n",
    "CALITP_URL_NUMBER=0"
   ]
  },
  {
   "cell_type": "code",
   "execution_count": 3,
   "id": "3ffc2c6d",
   "metadata": {
    "execution": {
     "iopub.execute_input": "2021-06-23T00:28:40.801074Z",
     "iopub.status.busy": "2021-06-23T00:28:40.799789Z",
     "iopub.status.idle": "2021-06-23T00:28:40.806148Z",
     "shell.execute_reply": "2021-06-23T00:28:40.806810Z"
    },
    "papermill": {
     "duration": 0.034183,
     "end_time": "2021-06-23T00:28:40.806984",
     "exception": false,
     "start_time": "2021-06-23T00:28:40.772801",
     "status": "completed"
    },
    "tags": [
     "injected-parameters"
    ]
   },
   "outputs": [],
   "source": [
    "# Parameters\n",
    "CALITP_ITP_ID = 106\n",
    "CALITP_URL_NUMBER = 0\n"
   ]
  },
  {
   "cell_type": "code",
   "execution_count": 4,
   "id": "d8499b69",
   "metadata": {
    "execution": {
     "iopub.execute_input": "2021-06-23T00:28:40.851817Z",
     "iopub.status.busy": "2021-06-23T00:28:40.850773Z",
     "iopub.status.idle": "2021-06-23T00:28:40.870159Z",
     "shell.execute_reply": "2021-06-23T00:28:40.870666Z"
    },
    "papermill": {
     "duration": 0.046287,
     "end_time": "2021-06-23T00:28:40.870854",
     "exception": false,
     "start_time": "2021-06-23T00:28:40.824567",
     "status": "completed"
    },
    "tags": [
     "hide"
    ]
   },
   "outputs": [],
   "source": [
    "# Convenience functions ----\n",
    "\n",
    "filter_start = filter(\n",
    "    _.calitp_extracted_at <= START_DATE,\n",
    "    _.calitp_deleted_at.fillna(\"2099-01-01\") > START_DATE,\n",
    ")\n",
    "\n",
    "filter_end = filter(\n",
    "    _.calitp_extracted_at <= END_DATE,\n",
    "    _.calitp_deleted_at.fillna(\"2099-01-01\") > END_DATE,\n",
    ")\n",
    "\n",
    "filter_itp = filter(\n",
    "    _.calitp_itp_id == CALITP_ITP_ID, _.calitp_url_number == CALITP_URL_NUMBER\n",
    ")\n",
    "\n",
    "collect_to_dict = (\n",
    "    collect()\n",
    "    >> pipe(_.to_dict(orient=\"records\")[0])\n",
    ")\n",
    "\n",
    "\n",
    "select_rm_calitp = select(\n",
    "    -_.calitp_itp_id,\n",
    "    -_.calitp_url_number,\n",
    "    -_.calitp_hash,\n",
    "    -_.calitp_extracted_at,\n",
    "    -_.calitp_deleted_at,\n",
    ")\n",
    "\n",
    "\n",
    "def query_id_changes(start_table, end_table, id_vars):\n",
    "    \"\"\"Calculate id variables that are removed, added, or unchanged between tables.\n",
    "    \n",
    "    It works by adding a special column to each table, performing a full join,\n",
    "    then checking where the special column is null.\n",
    "    \"\"\"\n",
    "    sym_id_vars = [_[k] for k in id_vars]\n",
    "\n",
    "    is_in_start = start_table >> select(*id_vars) >> mutate(is_in_start=True)\n",
    "    is_in_end = end_table >> select(*id_vars) >> mutate(is_in_end=True)\n",
    "\n",
    "    baseline = start_table >> count(*id_vars) >> rename(n_baseline=\"n\")\n",
    "    tallies = (\n",
    "        is_in_start\n",
    "        >> full_join(_, is_in_end, id_vars)\n",
    "        >> count(*sym_id_vars, _.is_in_start, _.is_in_end)\n",
    "        >> mutate(\n",
    "            status=case_when(\n",
    "                _,\n",
    "                {\n",
    "                    _.is_in_end.isna(): \"Removed\",\n",
    "                    _.is_in_start.isna(): \"Added\",\n",
    "                    True: \"Unchanged\",\n",
    "                },\n",
    "            )\n",
    "        )\n",
    "        >> count(*sym_id_vars[:-1], _.status)\n",
    "        >> group_by(*sym_id_vars[:-1])\n",
    "        >> mutate(percent=_.n / _.n.sum())\n",
    "    )\n",
    "\n",
    "    return tallies"
   ]
  },
  {
   "cell_type": "code",
   "execution_count": 5,
   "id": "bbfa758c",
   "metadata": {
    "execution": {
     "iopub.execute_input": "2021-06-23T00:28:40.920879Z",
     "iopub.status.busy": "2021-06-23T00:28:40.919604Z",
     "iopub.status.idle": "2021-06-23T00:29:07.459221Z",
     "shell.execute_reply": "2021-06-23T00:29:07.458639Z"
    },
    "papermill": {
     "duration": 26.570176,
     "end_time": "2021-06-23T00:29:07.459380",
     "exception": false,
     "start_time": "2021-06-23T00:28:40.889204",
     "status": "completed"
    },
    "tags": [
     "hide"
    ]
   },
   "outputs": [],
   "source": [
    "# Data ====\n",
    "# 1. High level feed info ----\n",
    "feed_info = (\n",
    "    tbl.gtfs_schedule_type2.feed_info()\n",
    "    >> filter_end\n",
    "    >> filter_itp\n",
    "    >> select_rm_calitp\n",
    "    >> collect_to_dict\n",
    ")\n",
    "\n",
    "_n_routes = (\n",
    "    tbl.gtfs_schedule_type2.routes() >> filter_end >> filter_itp >> count() >> collect()\n",
    ")\n",
    "_n_stops = (\n",
    "    tbl.gtfs_schedule_type2.stops() >> filter_end >> filter_itp >> count() >> collect()\n",
    ")\n",
    "\n",
    "feed_info[\"n_routes\"] = int(_n_routes.loc[0, \"n\"])\n",
    "feed_info[\"n_stops\"] = int(_n_stops.loc[0, \"n\"])\n",
    "\n",
    "status = (\n",
    "    tbl.views.gtfs_status_latest()\n",
    "    >> filter(_.itp_id == CALITP_ITP_ID, _.url_number == CALITP_URL_NUMBER)\n",
    "    >> select(-_.url_number, -_.status)\n",
    "    >> select_rm_calitp\n",
    "    >> collect_to_dict\n",
    ")\n",
    "\n",
    "# 2. Monthly metrics ----\n",
    "# Service hours per day. Note that the queried table calculates service\n",
    "# hours per service id, so we need to sum across service ids for the day\n",
    "_cross_cal = (\n",
    "    tbl.views.dim_date()\n",
    "    >> filter(_.full_date.between(START_DATE, END_DATE))\n",
    "    >> select(_.service_date == _.full_date)\n",
    ")\n",
    "\n",
    "tbl_daily_service_hours = (\n",
    "    tbl.views.gtfs_schedule_service_daily_metrics()\n",
    "    >> filter_itp\n",
    "    >> filter(_.service_date.between(START_DATE, END_DATE))\n",
    "    >> right_join(_, _cross_cal, [\"service_date\"])\n",
    "    >> collect()\n",
    "    >> group_by(_.service_date)\n",
    "    >> summarize(ttl_service_hours=(_.last_arrival_ts.max() - _.first_departure_ts.min()) / 3600)\n",
    "    >> mutate(\n",
    "        ttl_service_hours=_.ttl_service_hours.astype(float).round(2),\n",
    "        service_date=_.service_date.astype(\"datetime64[ns]\"),\n",
    "    )\n",
    ")\n",
    "\n",
    "# number of days where a feed did not have any trips in service\n",
    "n_expired_days = (\n",
    "    tbl_daily_service_hours >> filter(_.ttl_service_hours.isna())\n",
    "    >> pipe(lambda d: {\"n\": d.shape[0]})\n",
    ")\n",
    "\n",
    "# 3. Stop and Route ID Changes ----\n",
    "\n",
    "_tbl_stops_start = tbl.gtfs_schedule_type2.stops() >> filter_itp >> filter_start\n",
    "_tbl_stops_end = tbl.gtfs_schedule_type2.stops() >> filter_itp >> filter_end\n",
    "tbl_stops_changed = (\n",
    "    query_id_changes(_tbl_stops_start, _tbl_stops_end, [\"stop_id\"]) >> collect()\n",
    ")\n",
    "\n",
    "_tbl_routes_start = tbl.gtfs_schedule_type2.routes() >> filter_start\n",
    "_tbl_routes_end = tbl.gtfs_schedule_type2.routes() >> filter_end\n",
    "tbl_routes_changed = (\n",
    "    query_id_changes(_tbl_routes_start, _tbl_routes_end, [\"route_id\"]) >> collect()\n",
    ")"
   ]
  },
  {
   "cell_type": "code",
   "execution_count": 6,
   "id": "8bf69de3",
   "metadata": {
    "execution": {
     "iopub.execute_input": "2021-06-23T00:29:07.516325Z",
     "iopub.status.busy": "2021-06-23T00:29:07.514601Z",
     "iopub.status.idle": "2021-06-23T00:29:14.018214Z",
     "shell.execute_reply": "2021-06-23T00:29:14.017734Z"
    },
    "papermill": {
     "duration": 6.532603,
     "end_time": "2021-06-23T00:29:14.018352",
     "exception": false,
     "start_time": "2021-06-23T00:29:07.485749",
     "status": "completed"
    },
    "tags": [
     "hide"
    ]
   },
   "outputs": [],
   "source": [
    "# 4. Feed files being checked for ----\n",
    "\n",
    "file_categories = pd.DataFrame(\n",
    "    {\n",
    "        \"shapes.txt\": \"Visual display\",\n",
    "        \"pathways.txt\": \"Navigation\",\n",
    "        \"levels.txt\": \"Navigation\",\n",
    "        \"fare_rules.txt\": \"Fares\",\n",
    "        \"fare_leg_rules\": \"Fares\",\n",
    "        \"feed_info.txt\": \"Technical contacts\",\n",
    "    }.items(),\n",
    "    columns=[\"name\", \"category\"],\n",
    ")\n",
    "\n",
    "importance = [\"Visual display\", \"Navigation\", \"Fares\", \"Technical contacts\"]\n",
    "\n",
    "tbl_file_check = (\n",
    "    tbl.gtfs_schedule_history.calitp_files_updates()\n",
    "    >> filter_itp\n",
    "    >> filter(_.calitp_extracted_at.isin(WEEK_MARKERS))\n",
    "    >> select(_.name, _.calitp_extracted_at)\n",
    "    >> collect()\n",
    "    >> right_join(_, file_categories, [\"name\"])\n",
    "    >> mutate(\n",
    "        calitp_extracted_at=_.calitp_extracted_at.fillna(\"missing\").astype(str),\n",
    "        success=\"✅\",\n",
    "    )\n",
    "    >> spread(_.calitp_extracted_at, _.success)\n",
    "    >> select(-_.missing)\n",
    "    >> arrange(_.category.apply(importance.index))\n",
    "    >> select(_.category, _.contains(\"\"))\n",
    "    >> pipe(_.fillna(\"\"))\n",
    ")\n",
    "\n",
    "tbl_validation_notices = (\n",
    "    tbl.views.validation_notices()\n",
    "    >> filter_itp\n",
    "    >> filter(_.severity == \"ERROR\")\n",
    "    >> count(_.code, _.severity)\n",
    "    >> collect()\n",
    ")"
   ]
  },
  {
   "cell_type": "markdown",
   "id": "1f61aec3",
   "metadata": {
    "papermill": {
     "duration": 0.015542,
     "end_time": "2021-06-23T00:29:14.049857",
     "exception": false,
     "start_time": "2021-06-23T00:29:14.034315",
     "status": "completed"
    },
    "tags": [
     "hide"
    ]
   },
   "source": [
    "## Dump data"
   ]
  },
  {
   "cell_type": "code",
   "execution_count": 7,
   "id": "114ff44b",
   "metadata": {
    "execution": {
     "iopub.execute_input": "2021-06-23T00:29:14.094093Z",
     "iopub.status.busy": "2021-06-23T00:29:14.093325Z",
     "iopub.status.idle": "2021-06-23T00:29:14.102539Z",
     "shell.execute_reply": "2021-06-23T00:29:14.102070Z"
    },
    "papermill": {
     "duration": 0.03073,
     "end_time": "2021-06-23T00:29:14.102679",
     "exception": false,
     "start_time": "2021-06-23T00:29:14.071949",
     "status": "completed"
    },
    "tags": [
     "hide"
    ]
   },
   "outputs": [],
   "source": [
    "import json\n",
    "import shutil\n",
    "\n",
    "from pathlib import Path\n",
    "\n",
    "out_dir = Path(f\"output/{CALITP_ITP_ID}_{CALITP_URL_NUMBER}/data\")\n",
    "out_dir.mkdir(parents=True, exist_ok=True)\n",
    "\n",
    "json.dump(feed_info, open(out_dir / \"1_feed_info.json\", \"w\"))\n",
    "json.dump(status, open(out_dir / \"1_status.json\", \"w\"))\n",
    "\n",
    "tbl_daily_service_hours.to_json(out_dir / \"2_daily_service_hours.json\", orient=\"records\")\n",
    "json.dump(n_expired_days, open(out_dir / \"2_n_expired_days.json\", \"w\"))\n",
    "\n",
    "tbl_stops_changed.to_json(out_dir / \"3_stops_changed.json\", orient=\"records\")\n",
    "tbl_routes_changed.to_json(out_dir / \"3_routes_changed.json\", orient=\"records\")\n",
    "tbl_file_check.to_json(out_dir / \"4_file_check.json\", orient=\"records\")\n",
    "tbl_validation_notices.to_json(out_dir / \"4_validation_notices.json\", orient=\"records\")\n"
   ]
  },
  {
   "cell_type": "markdown",
   "id": "00853f4d",
   "metadata": {
    "papermill": {
     "duration": 0.013806,
     "end_time": "2021-06-23T00:29:14.130764",
     "exception": false,
     "start_time": "2021-06-23T00:29:14.116958",
     "status": "completed"
    },
    "tags": []
   },
   "source": [
    "# GTFS Schedule Report"
   ]
  },
  {
   "cell_type": "markdown",
   "id": "0f92df4e",
   "metadata": {
    "papermill": {
     "duration": 0.015003,
     "end_time": "2021-06-23T00:29:14.161030",
     "exception": false,
     "start_time": "2021-06-23T00:29:14.146027",
     "status": "completed"
    },
    "tags": []
   },
   "source": [
    "# Example Juniper Report"
   ]
  },
  {
   "cell_type": "code",
   "execution_count": 8,
   "id": "7bcd7549",
   "metadata": {
    "execution": {
     "iopub.execute_input": "2021-06-23T00:29:14.201206Z",
     "iopub.status.busy": "2021-06-23T00:29:14.200338Z",
     "iopub.status.idle": "2021-06-23T00:29:14.203534Z",
     "shell.execute_reply": "2021-06-23T00:29:14.203973Z"
    },
    "papermill": {
     "duration": 0.024404,
     "end_time": "2021-06-23T00:29:14.204139",
     "exception": false,
     "start_time": "2021-06-23T00:29:14.179735",
     "status": "completed"
    },
    "tags": []
   },
   "outputs": [
    {
     "data": {
      "text/markdown": [
       "\n",
       "Transit provider name: Trillium Solutions, Inc.\n",
       "\n",
       "Date generated: 2021-06-22\n"
      ],
      "text/plain": [
       "<IPython.core.display.Markdown object>"
      ]
     },
     "execution_count": 8,
     "metadata": {},
     "output_type": "execute_result"
    }
   ],
   "source": [
    "from IPython.display import Markdown\n",
    "\n",
    "Markdown(f\"\"\"\n",
    "Transit provider name: {feed_info[\"feed_publisher_name\"]}\n",
    "\n",
    "Date generated: {DATE_TODAY}\n",
    "\"\"\")"
   ]
  },
  {
   "cell_type": "markdown",
   "id": "45e75e79",
   "metadata": {
    "papermill": {
     "duration": 0.015424,
     "end_time": "2021-06-23T00:29:14.234165",
     "exception": false,
     "start_time": "2021-06-23T00:29:14.218741",
     "status": "completed"
    },
    "tags": []
   },
   "source": [
    "This is a monthly report, generated by the California Integrated Travel Project (Cal-ITP), summarizing issues discovered by MobilityData’s GTFS Validator. This report is available for viewing by the general public to support continuous improvement of GTFS data and the experience of transit passengers. "
   ]
  },
  {
   "cell_type": "markdown",
   "id": "a8fd7574",
   "metadata": {
    "papermill": {
     "duration": 0.020241,
     "end_time": "2021-06-23T00:29:14.270157",
     "exception": false,
     "start_time": "2021-06-23T00:29:14.249916",
     "status": "completed"
    },
    "tags": []
   },
   "source": [
    "## Overview"
   ]
  },
  {
   "cell_type": "code",
   "execution_count": 9,
   "id": "de6c94a4",
   "metadata": {
    "execution": {
     "iopub.execute_input": "2021-06-23T00:29:14.306291Z",
     "iopub.status.busy": "2021-06-23T00:29:14.305466Z",
     "iopub.status.idle": "2021-06-23T00:29:14.308709Z",
     "shell.execute_reply": "2021-06-23T00:29:14.309176Z"
    },
    "papermill": {
     "duration": 0.023372,
     "end_time": "2021-06-23T00:29:14.309347",
     "exception": false,
     "start_time": "2021-06-23T00:29:14.285975",
     "status": "completed"
    },
    "tags": []
   },
   "outputs": [
    {
     "data": {
      "text/markdown": [
       "\n",
       "Feed location: http://data.trilliumtransit.com/gtfs/emerygoround-ca-us/emerygoround-ca-us.zip\n",
       "\n",
       "Metrics for the most recent published version of the feed:\n",
       "\n",
       "* Date published: UTC: 07-Apr-2021 16:47\n",
       "* Number of routes in any service: 7\n",
       "* Number of stops in service: 42\n"
      ],
      "text/plain": [
       "<IPython.core.display.Markdown object>"
      ]
     },
     "execution_count": 9,
     "metadata": {},
     "output_type": "execute_result"
    }
   ],
   "source": [
    "Markdown(f\"\"\"\n",
    "Feed location: {status[\"gtfs_schedule_url\"]}\n",
    "\n",
    "Metrics for the most recent published version of the feed:\n",
    "\n",
    "* Date published: {feed_info[\"feed_version\"]}\n",
    "* Number of routes in any service: {feed_info[\"n_routes\"]}\n",
    "* Number of stops in service: {feed_info[\"n_stops\"]}\n",
    "\"\"\")"
   ]
  },
  {
   "cell_type": "markdown",
   "id": "f1772986",
   "metadata": {
    "papermill": {
     "duration": 0.015173,
     "end_time": "2021-06-23T00:29:14.341063",
     "exception": false,
     "start_time": "2021-06-23T00:29:14.325890",
     "status": "completed"
    },
    "tags": []
   },
   "source": [
    "## Aggregated Metrics for May"
   ]
  },
  {
   "cell_type": "code",
   "execution_count": 10,
   "id": "cc33e5fa",
   "metadata": {
    "execution": {
     "iopub.execute_input": "2021-06-23T00:29:14.384062Z",
     "iopub.status.busy": "2021-06-23T00:29:14.382676Z",
     "iopub.status.idle": "2021-06-23T00:29:14.387060Z",
     "shell.execute_reply": "2021-06-23T00:29:14.386481Z"
    },
    "papermill": {
     "duration": 0.029753,
     "end_time": "2021-06-23T00:29:14.387223",
     "exception": false,
     "start_time": "2021-06-23T00:29:14.357470",
     "status": "completed"
    },
    "tags": []
   },
   "outputs": [
    {
     "data": {
      "text/markdown": [
       "\n",
       "Days when the active feed was expired: 13\n"
      ],
      "text/plain": [
       "<IPython.core.display.Markdown object>"
      ]
     },
     "execution_count": 10,
     "metadata": {},
     "output_type": "execute_result"
    }
   ],
   "source": [
    "Markdown(f\"\"\"\n",
    "Days when the active feed was expired: {n_expired_days[\"n\"]}\n",
    "\"\"\")"
   ]
  },
  {
   "cell_type": "code",
   "execution_count": 11,
   "id": "6bafddd0",
   "metadata": {
    "execution": {
     "iopub.execute_input": "2021-06-23T00:29:14.453957Z",
     "iopub.status.busy": "2021-06-23T00:29:14.434723Z",
     "iopub.status.idle": "2021-06-23T00:29:14.851394Z",
     "shell.execute_reply": "2021-06-23T00:29:14.850157Z"
    },
    "papermill": {
     "duration": 0.447619,
     "end_time": "2021-06-23T00:29:14.851552",
     "exception": false,
     "start_time": "2021-06-23T00:29:14.403933",
     "status": "completed"
    },
    "tags": []
   },
   "outputs": [
    {
     "name": "stderr",
     "output_type": "stream",
     "text": [
      "/Users/machow/.virtualenvs/calitp-py/lib/python3.8/site-packages/plotnine/geoms/geom_path.py:75: PlotnineWarning: geom_path: Removed 12 rows containing missing values.\n",
      "/Users/machow/.virtualenvs/calitp-py/lib/python3.8/site-packages/plotnine/layer.py:401: PlotnineWarning: geom_point : Removed 13 rows containing missing values.\n"
     ]
    },
    {
     "data": {
      "image/png": "[encoded data removed]",
      "text/plain": [
       "<Figure size 640x480 with 1 Axes>"
      ]
     },
     "metadata": {},
     "output_type": "display_data"
    },
    {
     "data": {
      "text/plain": [
       "<ggplot: (304785851)>"
      ]
     },
     "execution_count": 11,
     "metadata": {},
     "output_type": "execute_result"
    }
   ],
   "source": [
    "(\n",
    "    tbl_daily_service_hours\n",
    "    >> ggplot(aes(\"service_date\", \"ttl_service_hours\"))\n",
    "    + geom_line()\n",
    "    + geom_point()\n",
    "    + theme(axis_text_x=element_text(angle=45, hjust=1))\n",
    "    + scale_x_datetime(date_breaks=\"1 week\")\n",
    "    + expand_limits(y=0)\n",
    ")"
   ]
  },
  {
   "cell_type": "markdown",
   "id": "b12a7cc1",
   "metadata": {
    "papermill": {
     "duration": 0.024711,
     "end_time": "2021-06-23T00:29:14.909794",
     "exception": false,
     "start_time": "2021-06-23T00:29:14.885083",
     "status": "completed"
    },
    "tags": []
   },
   "source": [
    "## Changes Since Previous Month"
   ]
  },
  {
   "cell_type": "code",
   "execution_count": 12,
   "id": "cca8b8b5",
   "metadata": {
    "execution": {
     "iopub.execute_input": "2021-06-23T00:29:14.984027Z",
     "iopub.status.busy": "2021-06-23T00:29:14.983298Z",
     "iopub.status.idle": "2021-06-23T00:29:15.371596Z",
     "shell.execute_reply": "2021-06-23T00:29:15.370639Z"
    },
    "papermill": {
     "duration": 0.435446,
     "end_time": "2021-06-23T00:29:15.371864",
     "exception": false,
     "start_time": "2021-06-23T00:29:14.936418",
     "status": "completed"
    },
    "tags": []
   },
   "outputs": [
    {
     "data": {
      "image/png": "[encoded data removed]",
      "text/plain": [
       "<Figure size 640x480 with 1 Axes>"
      ]
     },
     "metadata": {},
     "output_type": "display_data"
    },
    {
     "data": {
      "text/plain": [
       "<ggplot: (304918516)>"
      ]
     },
     "execution_count": 12,
     "metadata": {},
     "output_type": "execute_result"
    }
   ],
   "source": [
    "(\n",
    "    pd.concat(\n",
    "        [\n",
    "            tbl_stops_changed >> mutate(kind=\"Stops\"),\n",
    "            tbl_routes_changed >> mutate(kind=\"Routes\"),\n",
    "        ]\n",
    "    )\n",
    "    >> ggplot(aes(\"kind\", \"n\", fill=\"status\"))\n",
    "    + geom_col()\n",
    "    + labs(x=\"Kind of ID\", y=\"Number of Changes\")\n",
    ")"
   ]
  },
  {
   "cell_type": "markdown",
   "id": "dd7e4259",
   "metadata": {
    "papermill": {
     "duration": 0.029888,
     "end_time": "2021-06-23T00:29:15.430792",
     "exception": false,
     "start_time": "2021-06-23T00:29:15.400904",
     "status": "completed"
    },
    "tags": []
   },
   "source": [
    "### (Alternative version using percentages)"
   ]
  },
  {
   "cell_type": "code",
   "execution_count": 13,
   "id": "8ae0646d",
   "metadata": {
    "execution": {
     "iopub.execute_input": "2021-06-23T00:29:15.548877Z",
     "iopub.status.busy": "2021-06-23T00:29:15.548066Z",
     "iopub.status.idle": "2021-06-23T00:29:16.052556Z",
     "shell.execute_reply": "2021-06-23T00:29:16.053585Z"
    },
    "papermill": {
     "duration": 0.574039,
     "end_time": "2021-06-23T00:29:16.053928",
     "exception": false,
     "start_time": "2021-06-23T00:29:15.479889",
     "status": "completed"
    },
    "tags": []
   },
   "outputs": [
    {
     "data": {
      "image/png": "[encoded data removed]",
      "text/plain": [
       "<Figure size 640x480 with 1 Axes>"
      ]
     },
     "metadata": {},
     "output_type": "display_data"
    },
    {
     "data": {
      "text/plain": [
       "<ggplot: (304940237)>"
      ]
     },
     "execution_count": 13,
     "metadata": {},
     "output_type": "execute_result"
    }
   ],
   "source": [
    "(\n",
    "    pd.concat(\n",
    "        [\n",
    "            tbl_stops_changed >> mutate(kind=\"Stops\"),\n",
    "            tbl_routes_changed >> mutate(kind=\"Routes\"),\n",
    "        ]\n",
    "    )\n",
    "    >> ggplot(aes(\"kind\", \"percent\", fill=\"status\"))\n",
    "    + geom_col()\n",
    "    + labs(x=\"Kind of ID\", y=\"Percent of Changes\")\n",
    ")"
   ]
  },
  {
   "cell_type": "markdown",
   "id": "b4b4826e",
   "metadata": {
    "papermill": {
     "duration": 0.023766,
     "end_time": "2021-06-23T00:29:16.137293",
     "exception": false,
     "start_time": "2021-06-23T00:29:16.113527",
     "status": "completed"
    },
    "tags": []
   },
   "source": [
    "## Consistency with the California GTFS Minimum Guidelines for the feed downloaded\n"
   ]
  },
  {
   "cell_type": "code",
   "execution_count": 14,
   "id": "eda87d7f",
   "metadata": {
    "execution": {
     "iopub.execute_input": "2021-06-23T00:29:16.273907Z",
     "iopub.status.busy": "2021-06-23T00:29:16.273146Z",
     "iopub.status.idle": "2021-06-23T00:29:16.307125Z",
     "shell.execute_reply": "2021-06-23T00:29:16.306572Z"
    },
    "papermill": {
     "duration": 0.091164,
     "end_time": "2021-06-23T00:29:16.307278",
     "exception": false,
     "start_time": "2021-06-23T00:29:16.216114",
     "status": "completed"
    },
    "tags": []
   },
   "outputs": [
    {
     "data": {
      "text/html": [
       "<div>\n",
       "<style scoped>\n",
       "    .dataframe tbody tr th:only-of-type {\n",
       "        vertical-align: middle;\n",
       "    }\n",
       "\n",
       "    .dataframe tbody tr th {\n",
       "        vertical-align: top;\n",
       "    }\n",
       "\n",
       "    .dataframe thead th {\n",
       "        text-align: right;\n",
       "    }\n",
       "</style>\n",
       "<table border=\"1\" class=\"dataframe\">\n",
       "  <thead>\n",
       "    <tr style=\"text-align: right;\">\n",
       "      <th></th>\n",
       "      <th>category</th>\n",
       "      <th>name</th>\n",
       "      <th>2021-05-16</th>\n",
       "      <th>2021-05-23</th>\n",
       "      <th>2021-05-30</th>\n",
       "    </tr>\n",
       "  </thead>\n",
       "  <tbody>\n",
       "    <tr>\n",
       "      <th>5</th>\n",
       "      <td>Visual display</td>\n",
       "      <td>shapes.txt</td>\n",
       "      <td>✅</td>\n",
       "      <td>✅</td>\n",
       "      <td>✅</td>\n",
       "    </tr>\n",
       "    <tr>\n",
       "      <th>3</th>\n",
       "      <td>Navigation</td>\n",
       "      <td>levels.txt</td>\n",
       "      <td></td>\n",
       "      <td></td>\n",
       "      <td></td>\n",
       "    </tr>\n",
       "    <tr>\n",
       "      <th>4</th>\n",
       "      <td>Navigation</td>\n",
       "      <td>pathways.txt</td>\n",
       "      <td></td>\n",
       "      <td></td>\n",
       "      <td></td>\n",
       "    </tr>\n",
       "    <tr>\n",
       "      <th>0</th>\n",
       "      <td>Fares</td>\n",
       "      <td>fare_leg_rules</td>\n",
       "      <td></td>\n",
       "      <td></td>\n",
       "      <td></td>\n",
       "    </tr>\n",
       "    <tr>\n",
       "      <th>1</th>\n",
       "      <td>Fares</td>\n",
       "      <td>fare_rules.txt</td>\n",
       "      <td>✅</td>\n",
       "      <td>✅</td>\n",
       "      <td>✅</td>\n",
       "    </tr>\n",
       "    <tr>\n",
       "      <th>2</th>\n",
       "      <td>Technical contacts</td>\n",
       "      <td>feed_info.txt</td>\n",
       "      <td>✅</td>\n",
       "      <td>✅</td>\n",
       "      <td>✅</td>\n",
       "    </tr>\n",
       "  </tbody>\n",
       "</table>\n",
       "</div>"
      ],
      "text/plain": [
       "             category            name 2021-05-16 2021-05-23 2021-05-30\n",
       "5      Visual display      shapes.txt          ✅          ✅          ✅\n",
       "3          Navigation      levels.txt                                 \n",
       "4          Navigation    pathways.txt                                 \n",
       "0               Fares  fare_leg_rules                                 \n",
       "1               Fares  fare_rules.txt          ✅          ✅          ✅\n",
       "2  Technical contacts   feed_info.txt          ✅          ✅          ✅"
      ]
     },
     "execution_count": 14,
     "metadata": {},
     "output_type": "execute_result"
    }
   ],
   "source": [
    "tbl_file_check"
   ]
  },
  {
   "cell_type": "markdown",
   "id": "87486012",
   "metadata": {
    "papermill": {
     "duration": 0.047944,
     "end_time": "2021-06-23T00:29:16.388294",
     "exception": false,
     "start_time": "2021-06-23T00:29:16.340350",
     "status": "completed"
    },
    "tags": []
   },
   "source": [
    "### Validation Errors Observed"
   ]
  },
  {
   "cell_type": "code",
   "execution_count": 15,
   "id": "174474da",
   "metadata": {
    "execution": {
     "iopub.execute_input": "2021-06-23T00:29:16.487708Z",
     "iopub.status.busy": "2021-06-23T00:29:16.486196Z",
     "iopub.status.idle": "2021-06-23T00:29:16.491510Z",
     "shell.execute_reply": "2021-06-23T00:29:16.487056Z"
    },
    "papermill": {
     "duration": 0.073518,
     "end_time": "2021-06-23T00:29:16.491707",
     "exception": false,
     "start_time": "2021-06-23T00:29:16.418189",
     "status": "completed"
    },
    "tags": []
   },
   "outputs": [
    {
     "data": {
      "text/html": [
       "<div>\n",
       "<style scoped>\n",
       "    .dataframe tbody tr th:only-of-type {\n",
       "        vertical-align: middle;\n",
       "    }\n",
       "\n",
       "    .dataframe tbody tr th {\n",
       "        vertical-align: top;\n",
       "    }\n",
       "\n",
       "    .dataframe thead th {\n",
       "        text-align: right;\n",
       "    }\n",
       "</style>\n",
       "<table border=\"1\" class=\"dataframe\">\n",
       "  <thead>\n",
       "    <tr style=\"text-align: right;\">\n",
       "      <th></th>\n",
       "      <th>code</th>\n",
       "      <th>severity</th>\n",
       "      <th>n</th>\n",
       "    </tr>\n",
       "  </thead>\n",
       "  <tbody>\n",
       "  </tbody>\n",
       "</table>\n",
       "</div>"
      ],
      "text/plain": [
       "Empty DataFrame\n",
       "Columns: [code, severity, n]\n",
       "Index: []"
      ]
     },
     "execution_count": 15,
     "metadata": {},
     "output_type": "execute_result"
    }
   ],
   "source": [
    "tbl_validation_notices"
   ]
  }
 ],
 "metadata": {
  "kernelspec": {
   "display_name": "venv-calitp-py",
   "language": "python",
   "name": "venv-calitp-py"
  },
  "language_info": {
   "codemirror_mode": {
    "name": "ipython",
    "version": 3
   },
   "file_extension": ".py",
   "mimetype": "text/x-python",
   "name": "python",
   "nbconvert_exporter": "python",
   "pygments_lexer": "ipython3",
   "version": "3.8.5"
  },
  "papermill": {
   "default_parameters": {},
   "duration": 46.303107,
   "end_time": "2021-06-23T00:29:18.272479",
   "environment_variables": {},
   "exception": null,
   "input_path": "report.ipynb",
   "output_path": "output/106/report.ipynb",
   "parameters": {
    "CALITP_ITP_ID": 106,
    "CALITP_URL_NUMBER": 0
   },
   "start_time": "2021-06-23T00:28:31.969372",
   "version": "2.3.3"
  }
 },
 "nbformat": 4,
 "nbformat_minor": 5
}