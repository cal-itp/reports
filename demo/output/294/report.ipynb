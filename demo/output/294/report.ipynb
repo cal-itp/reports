{
 "cells": [
  {
   "cell_type": "markdown",
   "id": "f275cd86",
   "metadata": {
    "papermill": {
     "duration": 0.021032,
     "end_time": "2021-06-23T00:35:06.391900",
     "exception": false,
     "start_time": "2021-06-23T00:35:06.370868",
     "status": "completed"
    },
    "tags": [
     "hide"
    ]
   },
   "source": [
    "# Setup"
   ]
  },
  {
   "cell_type": "code",
   "execution_count": 1,
   "id": "ff613e9f",
   "metadata": {
    "execution": {
     "iopub.execute_input": "2021-06-23T00:35:06.453949Z",
     "iopub.status.busy": "2021-06-23T00:35:06.453254Z",
     "iopub.status.idle": "2021-06-23T00:35:13.932129Z",
     "shell.execute_reply": "2021-06-23T00:35:13.933056Z"
    },
    "papermill": {
     "duration": 7.523399,
     "end_time": "2021-06-23T00:35:13.933518",
     "exception": false,
     "start_time": "2021-06-23T00:35:06.410119",
     "status": "completed"
    },
    "tags": [
     "hide"
    ]
   },
   "outputs": [],
   "source": [
    "import pandas as pd\n",
    "\n",
    "from io import StringIO\n",
    "from calitp.tables import tbl\n",
    "from datetime import date\n",
    "from siuba import *\n",
    "from plotnine import *\n",
    "\n",
    "\n",
    "START_DATE = \"2021-05-01\"\n",
    "END_DATE = \"2021-06-01\"\n",
    "DATE_TODAY=date.today()\n",
    "\n",
    "WEEK_MARKERS = pd.date_range(START_DATE, END_DATE, freq=\"W\").astype(str).tolist()"
   ]
  },
  {
   "cell_type": "code",
   "execution_count": 2,
   "id": "a3e09440",
   "metadata": {
    "execution": {
     "iopub.execute_input": "2021-06-23T00:35:13.996650Z",
     "iopub.status.busy": "2021-06-23T00:35:13.995447Z",
     "iopub.status.idle": "2021-06-23T00:35:13.997657Z",
     "shell.execute_reply": "2021-06-23T00:35:13.998111Z"
    },
    "papermill": {
     "duration": 0.038628,
     "end_time": "2021-06-23T00:35:13.998285",
     "exception": false,
     "start_time": "2021-06-23T00:35:13.959657",
     "status": "completed"
    },
    "tags": [
     "parameters",
     "hide"
    ]
   },
   "outputs": [],
   "source": [
    "CALITP_ITP_ID=389\n",
    "#CALITP_ITP_ID=45\n",
    "CALITP_URL_NUMBER=0"
   ]
  },
  {
   "cell_type": "code",
   "execution_count": 3,
   "id": "a5ca5865",
   "metadata": {
    "execution": {
     "iopub.execute_input": "2021-06-23T00:35:14.053500Z",
     "iopub.status.busy": "2021-06-23T00:35:14.052302Z",
     "iopub.status.idle": "2021-06-23T00:35:14.055443Z",
     "shell.execute_reply": "2021-06-23T00:35:14.054959Z"
    },
    "papermill": {
     "duration": 0.031619,
     "end_time": "2021-06-23T00:35:14.055575",
     "exception": false,
     "start_time": "2021-06-23T00:35:14.023956",
     "status": "completed"
    },
    "tags": [
     "injected-parameters"
    ]
   },
   "outputs": [],
   "source": [
    "# Parameters\n",
    "CALITP_ITP_ID = 294\n",
    "CALITP_URL_NUMBER = 0\n"
   ]
  },
  {
   "cell_type": "code",
   "execution_count": 4,
   "id": "c0dea63b",
   "metadata": {
    "execution": {
     "iopub.execute_input": "2021-06-23T00:35:14.111504Z",
     "iopub.status.busy": "2021-06-23T00:35:14.109239Z",
     "iopub.status.idle": "2021-06-23T00:35:14.113573Z",
     "shell.execute_reply": "2021-06-23T00:35:14.112797Z"
    },
    "papermill": {
     "duration": 0.038592,
     "end_time": "2021-06-23T00:35:14.113787",
     "exception": false,
     "start_time": "2021-06-23T00:35:14.075195",
     "status": "completed"
    },
    "tags": [
     "hide"
    ]
   },
   "outputs": [],
   "source": [
    "# Convenience functions ----\n",
    "\n",
    "filter_start = filter(\n",
    "    _.calitp_extracted_at <= START_DATE,\n",
    "    _.calitp_deleted_at.fillna(\"2099-01-01\") > START_DATE,\n",
    ")\n",
    "\n",
    "filter_end = filter(\n",
    "    _.calitp_extracted_at <= END_DATE,\n",
    "    _.calitp_deleted_at.fillna(\"2099-01-01\") > END_DATE,\n",
    ")\n",
    "\n",
    "filter_itp = filter(\n",
    "    _.calitp_itp_id == CALITP_ITP_ID, _.calitp_url_number == CALITP_URL_NUMBER\n",
    ")\n",
    "\n",
    "collect_to_dict = (\n",
    "    collect()\n",
    "    >> pipe(_.to_dict(orient=\"records\")[0])\n",
    ")\n",
    "\n",
    "\n",
    "select_rm_calitp = select(\n",
    "    -_.calitp_itp_id,\n",
    "    -_.calitp_url_number,\n",
    "    -_.calitp_hash,\n",
    "    -_.calitp_extracted_at,\n",
    "    -_.calitp_deleted_at,\n",
    ")\n",
    "\n",
    "\n",
    "def query_id_changes(start_table, end_table, id_vars):\n",
    "    \"\"\"Calculate id variables that are removed, added, or unchanged between tables.\n",
    "    \n",
    "    It works by adding a special column to each table, performing a full join,\n",
    "    then checking where the special column is null.\n",
    "    \"\"\"\n",
    "    sym_id_vars = [_[k] for k in id_vars]\n",
    "\n",
    "    is_in_start = start_table >> select(*id_vars) >> mutate(is_in_start=True)\n",
    "    is_in_end = end_table >> select(*id_vars) >> mutate(is_in_end=True)\n",
    "\n",
    "    baseline = start_table >> count(*id_vars) >> rename(n_baseline=\"n\")\n",
    "    tallies = (\n",
    "        is_in_start\n",
    "        >> full_join(_, is_in_end, id_vars)\n",
    "        >> count(*sym_id_vars, _.is_in_start, _.is_in_end)\n",
    "        >> mutate(\n",
    "            status=case_when(\n",
    "                _,\n",
    "                {\n",
    "                    _.is_in_end.isna(): \"Removed\",\n",
    "                    _.is_in_start.isna(): \"Added\",\n",
    "                    True: \"Unchanged\",\n",
    "                },\n",
    "            )\n",
    "        )\n",
    "        >> count(*sym_id_vars[:-1], _.status)\n",
    "        >> group_by(*sym_id_vars[:-1])\n",
    "        >> mutate(percent=_.n / _.n.sum())\n",
    "    )\n",
    "\n",
    "    return tallies"
   ]
  },
  {
   "cell_type": "code",
   "execution_count": 5,
   "id": "81785205",
   "metadata": {
    "execution": {
     "iopub.execute_input": "2021-06-23T00:35:14.174003Z",
     "iopub.status.busy": "2021-06-23T00:35:14.173364Z",
     "iopub.status.idle": "2021-06-23T00:35:43.646636Z",
     "shell.execute_reply": "2021-06-23T00:35:43.646054Z"
    },
    "papermill": {
     "duration": 29.506693,
     "end_time": "2021-06-23T00:35:43.646789",
     "exception": false,
     "start_time": "2021-06-23T00:35:14.140096",
     "status": "completed"
    },
    "tags": [
     "hide"
    ]
   },
   "outputs": [],
   "source": [
    "# Data ====\n",
    "# 1. High level feed info ----\n",
    "feed_info = (\n",
    "    tbl.gtfs_schedule_type2.feed_info()\n",
    "    >> filter_end\n",
    "    >> filter_itp\n",
    "    >> select_rm_calitp\n",
    "    >> collect_to_dict\n",
    ")\n",
    "\n",
    "_n_routes = (\n",
    "    tbl.gtfs_schedule_type2.routes() >> filter_end >> filter_itp >> count() >> collect()\n",
    ")\n",
    "_n_stops = (\n",
    "    tbl.gtfs_schedule_type2.stops() >> filter_end >> filter_itp >> count() >> collect()\n",
    ")\n",
    "\n",
    "feed_info[\"n_routes\"] = int(_n_routes.loc[0, \"n\"])\n",
    "feed_info[\"n_stops\"] = int(_n_stops.loc[0, \"n\"])\n",
    "\n",
    "status = (\n",
    "    tbl.views.gtfs_status_latest()\n",
    "    >> filter(_.itp_id == CALITP_ITP_ID, _.url_number == CALITP_URL_NUMBER)\n",
    "    >> select(-_.url_number, -_.status)\n",
    "    >> select_rm_calitp\n",
    "    >> collect_to_dict\n",
    ")\n",
    "\n",
    "# 2. Monthly metrics ----\n",
    "# Service hours per day. Note that the queried table calculates service\n",
    "# hours per service id, so we need to sum across service ids for the day\n",
    "_cross_cal = (\n",
    "    tbl.views.dim_date()\n",
    "    >> filter(_.full_date.between(START_DATE, END_DATE))\n",
    "    >> select(_.service_date == _.full_date)\n",
    ")\n",
    "\n",
    "tbl_daily_service_hours = (\n",
    "    tbl.views.gtfs_schedule_service_daily_metrics()\n",
    "    >> filter_itp\n",
    "    >> filter(_.service_date.between(START_DATE, END_DATE))\n",
    "    >> right_join(_, _cross_cal, [\"service_date\"])\n",
    "    >> collect()\n",
    "    >> group_by(_.service_date)\n",
    "    >> summarize(ttl_service_hours=(_.last_arrival_ts.max() - _.first_departure_ts.min()) / 3600)\n",
    "    >> mutate(\n",
    "        ttl_service_hours=_.ttl_service_hours.astype(float).round(2),\n",
    "        service_date=_.service_date.astype(\"datetime64[ns]\"),\n",
    "    )\n",
    ")\n",
    "\n",
    "# number of days where a feed did not have any trips in service\n",
    "n_expired_days = (\n",
    "    tbl_daily_service_hours >> filter(_.ttl_service_hours.isna())\n",
    "    >> pipe(lambda d: {\"n\": d.shape[0]})\n",
    ")\n",
    "\n",
    "# 3. Stop and Route ID Changes ----\n",
    "\n",
    "_tbl_stops_start = tbl.gtfs_schedule_type2.stops() >> filter_itp >> filter_start\n",
    "_tbl_stops_end = tbl.gtfs_schedule_type2.stops() >> filter_itp >> filter_end\n",
    "tbl_stops_changed = (\n",
    "    query_id_changes(_tbl_stops_start, _tbl_stops_end, [\"stop_id\"]) >> collect()\n",
    ")\n",
    "\n",
    "_tbl_routes_start = tbl.gtfs_schedule_type2.routes() >> filter_start\n",
    "_tbl_routes_end = tbl.gtfs_schedule_type2.routes() >> filter_end\n",
    "tbl_routes_changed = (\n",
    "    query_id_changes(_tbl_routes_start, _tbl_routes_end, [\"route_id\"]) >> collect()\n",
    ")"
   ]
  },
  {
   "cell_type": "code",
   "execution_count": 6,
   "id": "b668493b",
   "metadata": {
    "execution": {
     "iopub.execute_input": "2021-06-23T00:35:43.692488Z",
     "iopub.status.busy": "2021-06-23T00:35:43.691374Z",
     "iopub.status.idle": "2021-06-23T00:35:49.406483Z",
     "shell.execute_reply": "2021-06-23T00:35:49.385870Z"
    },
    "papermill": {
     "duration": 5.744455,
     "end_time": "2021-06-23T00:35:49.406797",
     "exception": false,
     "start_time": "2021-06-23T00:35:43.662342",
     "status": "completed"
    },
    "tags": [
     "hide"
    ]
   },
   "outputs": [],
   "source": [
    "# 4. Feed files being checked for ----\n",
    "\n",
    "file_categories = pd.DataFrame(\n",
    "    {\n",
    "        \"shapes.txt\": \"Visual display\",\n",
    "        \"pathways.txt\": \"Navigation\",\n",
    "        \"levels.txt\": \"Navigation\",\n",
    "        \"fare_rules.txt\": \"Fares\",\n",
    "        \"fare_leg_rules\": \"Fares\",\n",
    "        \"feed_info.txt\": \"Technical contacts\",\n",
    "    }.items(),\n",
    "    columns=[\"name\", \"category\"],\n",
    ")\n",
    "\n",
    "importance = [\"Visual display\", \"Navigation\", \"Fares\", \"Technical contacts\"]\n",
    "\n",
    "tbl_file_check = (\n",
    "    tbl.gtfs_schedule_history.calitp_files_updates()\n",
    "    >> filter_itp\n",
    "    >> filter(_.calitp_extracted_at.isin(WEEK_MARKERS))\n",
    "    >> select(_.name, _.calitp_extracted_at)\n",
    "    >> collect()\n",
    "    >> right_join(_, file_categories, [\"name\"])\n",
    "    >> mutate(\n",
    "        calitp_extracted_at=_.calitp_extracted_at.fillna(\"missing\").astype(str),\n",
    "        success=\"✅\",\n",
    "    )\n",
    "    >> spread(_.calitp_extracted_at, _.success)\n",
    "    >> select(-_.missing)\n",
    "    >> arrange(_.category.apply(importance.index))\n",
    "    >> select(_.category, _.contains(\"\"))\n",
    "    >> pipe(_.fillna(\"\"))\n",
    ")\n",
    "\n",
    "tbl_validation_notices = (\n",
    "    tbl.views.validation_notices()\n",
    "    >> filter_itp\n",
    "    >> filter(_.severity == \"ERROR\")\n",
    "    >> count(_.code, _.severity)\n",
    "    >> collect()\n",
    ")"
   ]
  },
  {
   "cell_type": "markdown",
   "id": "f0fc6fd1",
   "metadata": {
    "papermill": {
     "duration": 0.07049,
     "end_time": "2021-06-23T00:35:49.572485",
     "exception": false,
     "start_time": "2021-06-23T00:35:49.501995",
     "status": "completed"
    },
    "tags": [
     "hide"
    ]
   },
   "source": [
    "## Dump data"
   ]
  },
  {
   "cell_type": "code",
   "execution_count": 7,
   "id": "88a3093a",
   "metadata": {
    "execution": {
     "iopub.execute_input": "2021-06-23T00:35:49.902217Z",
     "iopub.status.busy": "2021-06-23T00:35:49.901194Z",
     "iopub.status.idle": "2021-06-23T00:35:49.902735Z",
     "shell.execute_reply": "2021-06-23T00:35:49.901739Z"
    },
    "papermill": {
     "duration": 0.134714,
     "end_time": "2021-06-23T00:35:49.902877",
     "exception": false,
     "start_time": "2021-06-23T00:35:49.768163",
     "status": "completed"
    },
    "tags": [
     "hide"
    ]
   },
   "outputs": [],
   "source": [
    "import json\n",
    "import shutil\n",
    "\n",
    "from pathlib import Path\n",
    "\n",
    "out_dir = Path(f\"output/{CALITP_ITP_ID}_{CALITP_URL_NUMBER}/data\")\n",
    "out_dir.mkdir(parents=True, exist_ok=True)\n",
    "\n",
    "json.dump(feed_info, open(out_dir / \"1_feed_info.json\", \"w\"))\n",
    "json.dump(status, open(out_dir / \"1_status.json\", \"w\"))\n",
    "\n",
    "tbl_daily_service_hours.to_json(out_dir / \"2_daily_service_hours.json\", orient=\"records\")\n",
    "json.dump(n_expired_days, open(out_dir / \"2_n_expired_days.json\", \"w\"))\n",
    "\n",
    "tbl_stops_changed.to_json(out_dir / \"3_stops_changed.json\", orient=\"records\")\n",
    "tbl_routes_changed.to_json(out_dir / \"3_routes_changed.json\", orient=\"records\")\n",
    "tbl_file_check.to_json(out_dir / \"4_file_check.json\", orient=\"records\")\n",
    "tbl_validation_notices.to_json(out_dir / \"4_validation_notices.json\", orient=\"records\")\n"
   ]
  },
  {
   "cell_type": "markdown",
   "id": "a91bbb52",
   "metadata": {
    "papermill": {
     "duration": 0.126843,
     "end_time": "2021-06-23T00:35:50.089794",
     "exception": false,
     "start_time": "2021-06-23T00:35:49.962951",
     "status": "completed"
    },
    "tags": []
   },
   "source": [
    "# GTFS Schedule Report"
   ]
  },
  {
   "cell_type": "markdown",
   "id": "598b0ed6",
   "metadata": {
    "papermill": {
     "duration": 0.113134,
     "end_time": "2021-06-23T00:35:50.298089",
     "exception": false,
     "start_time": "2021-06-23T00:35:50.184955",
     "status": "completed"
    },
    "tags": []
   },
   "source": [
    "# Example Juniper Report"
   ]
  },
  {
   "cell_type": "code",
   "execution_count": 8,
   "id": "fd72fa38",
   "metadata": {
    "execution": {
     "iopub.execute_input": "2021-06-23T00:35:50.439342Z",
     "iopub.status.busy": "2021-06-23T00:35:50.436847Z",
     "iopub.status.idle": "2021-06-23T00:35:50.443320Z",
     "shell.execute_reply": "2021-06-23T00:35:50.442465Z"
    },
    "papermill": {
     "duration": 0.069383,
     "end_time": "2021-06-23T00:35:50.443487",
     "exception": false,
     "start_time": "2021-06-23T00:35:50.374104",
     "status": "completed"
    },
    "tags": []
   },
   "outputs": [
    {
     "data": {
      "text/markdown": [
       "\n",
       "Transit provider name: Santa Clara Valley Transportation Authority\n",
       "\n",
       "Date generated: 2021-06-22\n"
      ],
      "text/plain": [
       "<IPython.core.display.Markdown object>"
      ]
     },
     "execution_count": 8,
     "metadata": {},
     "output_type": "execute_result"
    }
   ],
   "source": [
    "from IPython.display import Markdown\n",
    "\n",
    "Markdown(f\"\"\"\n",
    "Transit provider name: {feed_info[\"feed_publisher_name\"]}\n",
    "\n",
    "Date generated: {DATE_TODAY}\n",
    "\"\"\")"
   ]
  },
  {
   "cell_type": "markdown",
   "id": "a675981f",
   "metadata": {
    "papermill": {
     "duration": 0.041923,
     "end_time": "2021-06-23T00:35:50.516485",
     "exception": false,
     "start_time": "2021-06-23T00:35:50.474562",
     "status": "completed"
    },
    "tags": []
   },
   "source": [
    "This is a monthly report, generated by the California Integrated Travel Project (Cal-ITP), summarizing issues discovered by MobilityData’s GTFS Validator. This report is available for viewing by the general public to support continuous improvement of GTFS data and the experience of transit passengers. "
   ]
  },
  {
   "cell_type": "markdown",
   "id": "68e7bded",
   "metadata": {
    "papermill": {
     "duration": 0.060475,
     "end_time": "2021-06-23T00:35:50.678716",
     "exception": false,
     "start_time": "2021-06-23T00:35:50.618241",
     "status": "completed"
    },
    "tags": []
   },
   "source": [
    "## Overview"
   ]
  },
  {
   "cell_type": "code",
   "execution_count": 9,
   "id": "288379a7",
   "metadata": {
    "execution": {
     "iopub.execute_input": "2021-06-23T00:35:50.831534Z",
     "iopub.status.busy": "2021-06-23T00:35:50.830223Z",
     "iopub.status.idle": "2021-06-23T00:35:50.835152Z",
     "shell.execute_reply": "2021-06-23T00:35:50.836203Z"
    },
    "papermill": {
     "duration": 0.070622,
     "end_time": "2021-06-23T00:35:50.836582",
     "exception": false,
     "start_time": "2021-06-23T00:35:50.765960",
     "status": "completed"
    },
    "tags": []
   },
   "outputs": [
    {
     "data": {
      "text/markdown": [
       "\n",
       "Feed location: https://gtfs.vta.org/gtfs_vta.zip\n",
       "\n",
       "Metrics for the most recent published version of the feed:\n",
       "\n",
       "* Date published: 2021-02-16_15:11\n",
       "* Number of routes in any service: 66\n",
       "* Number of stops in service: 3482\n"
      ],
      "text/plain": [
       "<IPython.core.display.Markdown object>"
      ]
     },
     "execution_count": 9,
     "metadata": {},
     "output_type": "execute_result"
    }
   ],
   "source": [
    "Markdown(f\"\"\"\n",
    "Feed location: {status[\"gtfs_schedule_url\"]}\n",
    "\n",
    "Metrics for the most recent published version of the feed:\n",
    "\n",
    "* Date published: {feed_info[\"feed_version\"]}\n",
    "* Number of routes in any service: {feed_info[\"n_routes\"]}\n",
    "* Number of stops in service: {feed_info[\"n_stops\"]}\n",
    "\"\"\")"
   ]
  },
  {
   "cell_type": "markdown",
   "id": "6d2aa049",
   "metadata": {
    "papermill": {
     "duration": 0.109089,
     "end_time": "2021-06-23T00:35:51.013228",
     "exception": false,
     "start_time": "2021-06-23T00:35:50.904139",
     "status": "completed"
    },
    "tags": []
   },
   "source": [
    "## Aggregated Metrics for May"
   ]
  },
  {
   "cell_type": "code",
   "execution_count": 10,
   "id": "f3713a4f",
   "metadata": {
    "execution": {
     "iopub.execute_input": "2021-06-23T00:35:51.196402Z",
     "iopub.status.busy": "2021-06-23T00:35:51.194999Z",
     "iopub.status.idle": "2021-06-23T00:35:51.200327Z",
     "shell.execute_reply": "2021-06-23T00:35:51.201486Z"
    },
    "papermill": {
     "duration": 0.098575,
     "end_time": "2021-06-23T00:35:51.201950",
     "exception": false,
     "start_time": "2021-06-23T00:35:51.103375",
     "status": "completed"
    },
    "tags": []
   },
   "outputs": [
    {
     "data": {
      "text/markdown": [
       "\n",
       "Days when the active feed was expired: 0\n"
      ],
      "text/plain": [
       "<IPython.core.display.Markdown object>"
      ]
     },
     "execution_count": 10,
     "metadata": {},
     "output_type": "execute_result"
    }
   ],
   "source": [
    "Markdown(f\"\"\"\n",
    "Days when the active feed was expired: {n_expired_days[\"n\"]}\n",
    "\"\"\")"
   ]
  },
  {
   "cell_type": "code",
   "execution_count": 11,
   "id": "0c600632",
   "metadata": {
    "execution": {
     "iopub.execute_input": "2021-06-23T00:35:51.372201Z",
     "iopub.status.busy": "2021-06-23T00:35:51.371215Z",
     "iopub.status.idle": "2021-06-23T00:35:52.603453Z",
     "shell.execute_reply": "2021-06-23T00:35:52.602524Z"
    },
    "papermill": {
     "duration": 1.328308,
     "end_time": "2021-06-23T00:35:52.603716",
     "exception": false,
     "start_time": "2021-06-23T00:35:51.275408",
     "status": "completed"
    },
    "tags": []
   },
   "outputs": [
    {
     "data": {
      "image/png": "[encoded data removed]",
      "text/plain": [
       "<Figure size 640x480 with 1 Axes>"
      ]
     },
     "metadata": {},
     "output_type": "display_data"
    },
    {
     "data": {
      "text/plain": [
       "<ggplot: (301078848)>"
      ]
     },
     "execution_count": 11,
     "metadata": {},
     "output_type": "execute_result"
    }
   ],
   "source": [
    "(\n",
    "    tbl_daily_service_hours\n",
    "    >> ggplot(aes(\"service_date\", \"ttl_service_hours\"))\n",
    "    + geom_line()\n",
    "    + geom_point()\n",
    "    + theme(axis_text_x=element_text(angle=45, hjust=1))\n",
    "    + scale_x_datetime(date_breaks=\"1 week\")\n",
    "    + expand_limits(y=0)\n",
    ")"
   ]
  },
  {
   "cell_type": "markdown",
   "id": "4e2cdbd2",
   "metadata": {
    "papermill": {
     "duration": 0.087967,
     "end_time": "2021-06-23T00:35:52.780464",
     "exception": false,
     "start_time": "2021-06-23T00:35:52.692497",
     "status": "completed"
    },
    "tags": []
   },
   "source": [
    "## Changes Since Previous Month"
   ]
  },
  {
   "cell_type": "code",
   "execution_count": 12,
   "id": "3cb5036b",
   "metadata": {
    "execution": {
     "iopub.execute_input": "2021-06-23T00:35:52.956413Z",
     "iopub.status.busy": "2021-06-23T00:35:52.935136Z",
     "iopub.status.idle": "2021-06-23T00:35:54.050917Z",
     "shell.execute_reply": "2021-06-23T00:35:54.051875Z"
    },
    "papermill": {
     "duration": 1.201615,
     "end_time": "2021-06-23T00:35:54.052394",
     "exception": false,
     "start_time": "2021-06-23T00:35:52.850779",
     "status": "completed"
    },
    "tags": []
   },
   "outputs": [
    {
     "data": {
      "image/png": "[encoded data removed]",
      "text/plain": [
       "<Figure size 640x480 with 1 Axes>"
      ]
     },
     "metadata": {},
     "output_type": "display_data"
    },
    {
     "data": {
      "text/plain": [
       "<ggplot: (313562088)>"
      ]
     },
     "execution_count": 12,
     "metadata": {},
     "output_type": "execute_result"
    }
   ],
   "source": [
    "(\n",
    "    pd.concat(\n",
    "        [\n",
    "            tbl_stops_changed >> mutate(kind=\"Stops\"),\n",
    "            tbl_routes_changed >> mutate(kind=\"Routes\"),\n",
    "        ]\n",
    "    )\n",
    "    >> ggplot(aes(\"kind\", \"n\", fill=\"status\"))\n",
    "    + geom_col()\n",
    "    + labs(x=\"Kind of ID\", y=\"Number of Changes\")\n",
    ")"
   ]
  },
  {
   "cell_type": "markdown",
   "id": "5924c782",
   "metadata": {
    "papermill": {
     "duration": 0.040284,
     "end_time": "2021-06-23T00:35:54.133643",
     "exception": false,
     "start_time": "2021-06-23T00:35:54.093359",
     "status": "completed"
    },
    "tags": []
   },
   "source": [
    "### (Alternative version using percentages)"
   ]
  },
  {
   "cell_type": "code",
   "execution_count": 13,
   "id": "0fbd7eeb",
   "metadata": {
    "execution": {
     "iopub.execute_input": "2021-06-23T00:35:54.238326Z",
     "iopub.status.busy": "2021-06-23T00:35:54.237069Z",
     "iopub.status.idle": "2021-06-23T00:35:55.243005Z",
     "shell.execute_reply": "2021-06-23T00:35:55.244286Z"
    },
    "papermill": {
     "duration": 1.072097,
     "end_time": "2021-06-23T00:35:55.244598",
     "exception": false,
     "start_time": "2021-06-23T00:35:54.172501",
     "status": "completed"
    },
    "tags": []
   },
   "outputs": [
    {
     "data": {
      "image/png": "[encoded data removed]",
      "text/plain": [
       "<Figure size 640x480 with 1 Axes>"
      ]
     },
     "metadata": {},
     "output_type": "display_data"
    },
    {
     "data": {
      "text/plain": [
       "<ggplot: (313511720)>"
      ]
     },
     "execution_count": 13,
     "metadata": {},
     "output_type": "execute_result"
    }
   ],
   "source": [
    "(\n",
    "    pd.concat(\n",
    "        [\n",
    "            tbl_stops_changed >> mutate(kind=\"Stops\"),\n",
    "            tbl_routes_changed >> mutate(kind=\"Routes\"),\n",
    "        ]\n",
    "    )\n",
    "    >> ggplot(aes(\"kind\", \"percent\", fill=\"status\"))\n",
    "    + geom_col()\n",
    "    + labs(x=\"Kind of ID\", y=\"Percent of Changes\")\n",
    ")"
   ]
  },
  {
   "cell_type": "markdown",
   "id": "25954b5e",
   "metadata": {
    "papermill": {
     "duration": 0.04344,
     "end_time": "2021-06-23T00:35:55.326675",
     "exception": false,
     "start_time": "2021-06-23T00:35:55.283235",
     "status": "completed"
    },
    "tags": []
   },
   "source": [
    "## Consistency with the California GTFS Minimum Guidelines for the feed downloaded\n"
   ]
  },
  {
   "cell_type": "code",
   "execution_count": 14,
   "id": "51db7c58",
   "metadata": {
    "execution": {
     "iopub.execute_input": "2021-06-23T00:35:55.480168Z",
     "iopub.status.busy": "2021-06-23T00:35:55.479117Z",
     "iopub.status.idle": "2021-06-23T00:35:55.498710Z",
     "shell.execute_reply": "2021-06-23T00:35:55.499543Z"
    },
    "papermill": {
     "duration": 0.13332,
     "end_time": "2021-06-23T00:35:55.499827",
     "exception": false,
     "start_time": "2021-06-23T00:35:55.366507",
     "status": "completed"
    },
    "tags": []
   },
   "outputs": [
    {
     "data": {
      "text/html": [
       "<div>\n",
       "<style scoped>\n",
       "    .dataframe tbody tr th:only-of-type {\n",
       "        vertical-align: middle;\n",
       "    }\n",
       "\n",
       "    .dataframe tbody tr th {\n",
       "        vertical-align: top;\n",
       "    }\n",
       "\n",
       "    .dataframe thead th {\n",
       "        text-align: right;\n",
       "    }\n",
       "</style>\n",
       "<table border=\"1\" class=\"dataframe\">\n",
       "  <thead>\n",
       "    <tr style=\"text-align: right;\">\n",
       "      <th></th>\n",
       "      <th>category</th>\n",
       "      <th>name</th>\n",
       "      <th>2021-05-02</th>\n",
       "      <th>2021-05-09</th>\n",
       "      <th>2021-05-16</th>\n",
       "      <th>2021-05-23</th>\n",
       "    </tr>\n",
       "  </thead>\n",
       "  <tbody>\n",
       "    <tr>\n",
       "      <th>5</th>\n",
       "      <td>Visual display</td>\n",
       "      <td>shapes.txt</td>\n",
       "      <td>✅</td>\n",
       "      <td>✅</td>\n",
       "      <td>✅</td>\n",
       "      <td>✅</td>\n",
       "    </tr>\n",
       "    <tr>\n",
       "      <th>3</th>\n",
       "      <td>Navigation</td>\n",
       "      <td>levels.txt</td>\n",
       "      <td></td>\n",
       "      <td></td>\n",
       "      <td></td>\n",
       "      <td></td>\n",
       "    </tr>\n",
       "    <tr>\n",
       "      <th>4</th>\n",
       "      <td>Navigation</td>\n",
       "      <td>pathways.txt</td>\n",
       "      <td></td>\n",
       "      <td></td>\n",
       "      <td></td>\n",
       "      <td></td>\n",
       "    </tr>\n",
       "    <tr>\n",
       "      <th>0</th>\n",
       "      <td>Fares</td>\n",
       "      <td>fare_leg_rules</td>\n",
       "      <td></td>\n",
       "      <td></td>\n",
       "      <td></td>\n",
       "      <td></td>\n",
       "    </tr>\n",
       "    <tr>\n",
       "      <th>1</th>\n",
       "      <td>Fares</td>\n",
       "      <td>fare_rules.txt</td>\n",
       "      <td>✅</td>\n",
       "      <td>✅</td>\n",
       "      <td>✅</td>\n",
       "      <td>✅</td>\n",
       "    </tr>\n",
       "    <tr>\n",
       "      <th>2</th>\n",
       "      <td>Technical contacts</td>\n",
       "      <td>feed_info.txt</td>\n",
       "      <td>✅</td>\n",
       "      <td>✅</td>\n",
       "      <td>✅</td>\n",
       "      <td>✅</td>\n",
       "    </tr>\n",
       "  </tbody>\n",
       "</table>\n",
       "</div>"
      ],
      "text/plain": [
       "             category            name 2021-05-02 2021-05-09 2021-05-16  \\\n",
       "5      Visual display      shapes.txt          ✅          ✅          ✅   \n",
       "3          Navigation      levels.txt                                    \n",
       "4          Navigation    pathways.txt                                    \n",
       "0               Fares  fare_leg_rules                                    \n",
       "1               Fares  fare_rules.txt          ✅          ✅          ✅   \n",
       "2  Technical contacts   feed_info.txt          ✅          ✅          ✅   \n",
       "\n",
       "  2021-05-23  \n",
       "5          ✅  \n",
       "3             \n",
       "4             \n",
       "0             \n",
       "1          ✅  \n",
       "2          ✅  "
      ]
     },
     "execution_count": 14,
     "metadata": {},
     "output_type": "execute_result"
    }
   ],
   "source": [
    "tbl_file_check"
   ]
  },
  {
   "cell_type": "markdown",
   "id": "d7b948fb",
   "metadata": {
    "papermill": {
     "duration": 0.078624,
     "end_time": "2021-06-23T00:35:55.680471",
     "exception": false,
     "start_time": "2021-06-23T00:35:55.601847",
     "status": "completed"
    },
    "tags": []
   },
   "source": [
    "### Validation Errors Observed"
   ]
  },
  {
   "cell_type": "code",
   "execution_count": 15,
   "id": "9503511c",
   "metadata": {
    "execution": {
     "iopub.execute_input": "2021-06-23T00:35:55.916605Z",
     "iopub.status.busy": "2021-06-23T00:35:55.914002Z",
     "iopub.status.idle": "2021-06-23T00:35:55.919504Z",
     "shell.execute_reply": "2021-06-23T00:35:55.915095Z"
    },
    "papermill": {
     "duration": 0.148372,
     "end_time": "2021-06-23T00:35:55.919783",
     "exception": false,
     "start_time": "2021-06-23T00:35:55.771411",
     "status": "completed"
    },
    "tags": []
   },
   "outputs": [
    {
     "data": {
      "text/html": [
       "<div>\n",
       "<style scoped>\n",
       "    .dataframe tbody tr th:only-of-type {\n",
       "        vertical-align: middle;\n",
       "    }\n",
       "\n",
       "    .dataframe tbody tr th {\n",
       "        vertical-align: top;\n",
       "    }\n",
       "\n",
       "    .dataframe thead th {\n",
       "        text-align: right;\n",
       "    }\n",
       "</style>\n",
       "<table border=\"1\" class=\"dataframe\">\n",
       "  <thead>\n",
       "    <tr style=\"text-align: right;\">\n",
       "      <th></th>\n",
       "      <th>code</th>\n",
       "      <th>severity</th>\n",
       "      <th>n</th>\n",
       "    </tr>\n",
       "  </thead>\n",
       "  <tbody>\n",
       "    <tr>\n",
       "      <th>0</th>\n",
       "      <td>decreasing_or_equal_shape_distance</td>\n",
       "      <td>ERROR</td>\n",
       "      <td>136</td>\n",
       "    </tr>\n",
       "    <tr>\n",
       "      <th>1</th>\n",
       "      <td>duplicate_fare_rule_zone_id_fields</td>\n",
       "      <td>ERROR</td>\n",
       "      <td>29</td>\n",
       "    </tr>\n",
       "    <tr>\n",
       "      <th>2</th>\n",
       "      <td>leading_or_trailing_whitespaces</td>\n",
       "      <td>ERROR</td>\n",
       "      <td>4</td>\n",
       "    </tr>\n",
       "  </tbody>\n",
       "</table>\n",
       "</div>"
      ],
      "text/plain": [
       "                                 code severity    n\n",
       "0  decreasing_or_equal_shape_distance    ERROR  136\n",
       "1  duplicate_fare_rule_zone_id_fields    ERROR   29\n",
       "2     leading_or_trailing_whitespaces    ERROR    4"
      ]
     },
     "execution_count": 15,
     "metadata": {},
     "output_type": "execute_result"
    }
   ],
   "source": [
    "tbl_validation_notices"
   ]
  }
 ],
 "metadata": {
  "kernelspec": {
   "display_name": "venv-calitp-py",
   "language": "python",
   "name": "venv-calitp-py"
  },
  "language_info": {
   "codemirror_mode": {
    "name": "ipython",
    "version": 3
   },
   "file_extension": ".py",
   "mimetype": "text/x-python",
   "name": "python",
   "nbconvert_exporter": "python",
   "pygments_lexer": "ipython3",
   "version": "3.8.5"
  },
  "papermill": {
   "default_parameters": {},
   "duration": 52.373812,
   "end_time": "2021-06-23T00:35:57.708426",
   "environment_variables": {},
   "exception": null,
   "input_path": "report.ipynb",
   "output_path": "output/294/report.ipynb",
   "parameters": {
    "CALITP_ITP_ID": 294,
    "CALITP_URL_NUMBER": 0
   },
   "start_time": "2021-06-23T00:35:05.334614",
   "version": "2.3.3"
  }
 },
 "nbformat": 4,
 "nbformat_minor": 5
}