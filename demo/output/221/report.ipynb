{
 "cells": [
  {
   "cell_type": "markdown",
   "id": "8a5f4938",
   "metadata": {
    "papermill": {
     "duration": 0.033348,
     "end_time": "2021-06-24T22:16:33.634613",
     "exception": false,
     "start_time": "2021-06-24T22:16:33.601265",
     "status": "completed"
    },
    "tags": [
     "hide"
    ]
   },
   "source": [
    "# Setup"
   ]
  },
  {
   "cell_type": "code",
   "execution_count": 1,
   "id": "004f7d84",
   "metadata": {
    "execution": {
     "iopub.execute_input": "2021-06-24T22:16:33.692035Z",
     "iopub.status.busy": "2021-06-24T22:16:33.685618Z",
     "iopub.status.idle": "2021-06-24T22:16:40.897925Z",
     "shell.execute_reply": "2021-06-24T22:16:40.898390Z"
    },
    "papermill": {
     "duration": 7.244244,
     "end_time": "2021-06-24T22:16:40.898601",
     "exception": false,
     "start_time": "2021-06-24T22:16:33.654357",
     "status": "completed"
    },
    "tags": [
     "hide"
    ]
   },
   "outputs": [],
   "source": [
    "import pandas as pd\n",
    "import numpy as np\n",
    "import warnings\n",
    "\n",
    "from io import StringIO\n",
    "from calitp.tables import tbl\n",
    "from datetime import date, datetime\n",
    "from siuba import *\n",
    "from plotnine import *\n",
    "\n",
    "def friendly_date(x): \n",
    "    return datetime.strptime(x, \"%Y-%m-%d\").strftime(\"%b %d\")"
   ]
  },
  {
   "cell_type": "code",
   "execution_count": 2,
   "id": "b09560fd",
   "metadata": {
    "execution": {
     "iopub.execute_input": "2021-06-24T22:16:40.934605Z",
     "iopub.status.busy": "2021-06-24T22:16:40.933581Z",
     "iopub.status.idle": "2021-06-24T22:16:40.943697Z",
     "shell.execute_reply": "2021-06-24T22:16:40.944144Z"
    },
    "papermill": {
     "duration": 0.031502,
     "end_time": "2021-06-24T22:16:40.944331",
     "exception": false,
     "start_time": "2021-06-24T22:16:40.912829",
     "status": "completed"
    },
    "tags": [
     "parameters",
     "hide"
    ]
   },
   "outputs": [],
   "source": [
    "CALITP_ITP_ID = 98\n",
    "#CALITP_ITP_ID=45\n",
    "CALITP_URL_NUMBER = 0\n",
    "DEBUG = False\n",
    "\n",
    "START_DATE = \"2021-05-01\"\n",
    "END_DATE = \"2021-06-01\"\n",
    "DATE_TODAY=date.today()\n",
    "START_MONTH_DAY = friendly_date(START_DATE)\n",
    "END_MONTH_DAY = friendly_date(END_DATE)\n",
    "\n",
    "WEEK_MARKERS = pd.date_range(START_DATE, END_DATE, freq=\"W\").astype(str).tolist()\n",
    "BIWEEKLY_MARKERS = pd.date_range(START_DATE, END_DATE, freq=\"2W\").astype(str).tolist()"
   ]
  },
  {
   "cell_type": "code",
   "execution_count": 3,
   "id": "5c131484",
   "metadata": {
    "execution": {
     "iopub.execute_input": "2021-06-24T22:16:40.986961Z",
     "iopub.status.busy": "2021-06-24T22:16:40.986362Z",
     "iopub.status.idle": "2021-06-24T22:16:40.989178Z",
     "shell.execute_reply": "2021-06-24T22:16:40.989942Z"
    },
    "papermill": {
     "duration": 0.022671,
     "end_time": "2021-06-24T22:16:40.990154",
     "exception": false,
     "start_time": "2021-06-24T22:16:40.967483",
     "status": "completed"
    },
    "tags": [
     "injected-parameters"
    ]
   },
   "outputs": [],
   "source": [
    "# Parameters\n",
    "CALITP_ITP_ID = 221\n",
    "CALITP_URL_NUMBER = 0\n",
    "DEBUG = False\n",
    "START_DATE = \"2021-05-01\"\n",
    "END_DATE = \"2021-06-01\"\n"
   ]
  },
  {
   "cell_type": "code",
   "execution_count": 4,
   "id": "1b093905",
   "metadata": {
    "execution": {
     "iopub.execute_input": "2021-06-24T22:16:41.024957Z",
     "iopub.status.busy": "2021-06-24T22:16:41.024248Z",
     "iopub.status.idle": "2021-06-24T22:16:41.027428Z",
     "shell.execute_reply": "2021-06-24T22:16:41.028189Z"
    },
    "papermill": {
     "duration": 0.023256,
     "end_time": "2021-06-24T22:16:41.028350",
     "exception": false,
     "start_time": "2021-06-24T22:16:41.005094",
     "status": "completed"
    },
    "tags": [
     "hide"
    ]
   },
   "outputs": [],
   "source": [
    "if not DEBUG:\n",
    "    warnings.filterwarnings(\"ignore\")"
   ]
  },
  {
   "cell_type": "code",
   "execution_count": 5,
   "id": "a867fa0c",
   "metadata": {
    "execution": {
     "iopub.execute_input": "2021-06-24T22:16:41.074035Z",
     "iopub.status.busy": "2021-06-24T22:16:41.073354Z",
     "iopub.status.idle": "2021-06-24T22:16:41.076070Z",
     "shell.execute_reply": "2021-06-24T22:16:41.076524Z"
    },
    "papermill": {
     "duration": 0.032916,
     "end_time": "2021-06-24T22:16:41.076676",
     "exception": false,
     "start_time": "2021-06-24T22:16:41.043760",
     "status": "completed"
    },
    "tags": [
     "hide"
    ]
   },
   "outputs": [],
   "source": [
    "# Convenience functions ----\n",
    "\n",
    "filter_start = filter(\n",
    "    _.calitp_extracted_at <= START_DATE,\n",
    "    _.calitp_deleted_at.fillna(\"2099-01-01\") > START_DATE,\n",
    ")\n",
    "\n",
    "filter_end = filter(\n",
    "    _.calitp_extracted_at <= END_DATE,\n",
    "    _.calitp_deleted_at.fillna(\"2099-01-01\") > END_DATE,\n",
    ")\n",
    "\n",
    "filter_itp = filter(\n",
    "    _.calitp_itp_id == CALITP_ITP_ID, _.calitp_url_number == CALITP_URL_NUMBER\n",
    ")\n",
    "\n",
    "collect_to_dict = (\n",
    "    collect()\n",
    "    >> pipe(_.to_dict(orient=\"records\")[0])\n",
    ")\n",
    "\n",
    "\n",
    "select_rm_calitp = select(\n",
    "    -_.calitp_itp_id,\n",
    "    -_.calitp_url_number,\n",
    "    -_.calitp_hash,\n",
    "    -_.calitp_extracted_at,\n",
    "    -_.calitp_deleted_at,\n",
    ")\n",
    "\n",
    "def percent_format(labels):\n",
    "    return [\"{:.0f}%\".format(v*100) for v in labels]\n",
    "\n",
    "def query_id_changes(start_table, end_table, id_vars):\n",
    "    \"\"\"Calculate id variables that are removed, added, or unchanged between tables.\n",
    "    \n",
    "    It works by adding a special column to each table, performing a full join,\n",
    "    then checking where the special column is null.\n",
    "    \"\"\"\n",
    "    sym_id_vars = [_[k] for k in id_vars]\n",
    "\n",
    "    is_in_start = start_table >> select(*id_vars) >> mutate(is_in_start=True)\n",
    "    is_in_end = end_table >> select(*id_vars) >> mutate(is_in_end=True)\n",
    "\n",
    "    baseline = start_table >> count(*id_vars) >> rename(n_baseline=\"n\")\n",
    "    tallies = (\n",
    "        is_in_start\n",
    "        >> full_join(_, is_in_end, id_vars)\n",
    "        >> count(*sym_id_vars, _.is_in_start, _.is_in_end)\n",
    "        >> mutate(\n",
    "            status=case_when(\n",
    "                _,\n",
    "                {\n",
    "                    _.is_in_end.isna(): \"Removed\",\n",
    "                    _.is_in_start.isna(): \"Added\",\n",
    "                    True: \"Unchanged\",\n",
    "                },\n",
    "            )\n",
    "        )\n",
    "        >> count(*sym_id_vars[:-1], _.status)\n",
    "        >> group_by(*sym_id_vars[:-1])\n",
    "        >> mutate(percent=_.n / _.n.sum())\n",
    "    )\n",
    "\n",
    "    return tallies"
   ]
  },
  {
   "cell_type": "code",
   "execution_count": 6,
   "id": "db2f3809",
   "metadata": {
    "execution": {
     "iopub.execute_input": "2021-06-24T22:16:41.125302Z",
     "iopub.status.busy": "2021-06-24T22:16:41.124664Z",
     "iopub.status.idle": "2021-06-24T22:17:04.228139Z",
     "shell.execute_reply": "2021-06-24T22:17:04.228572Z"
    },
    "papermill": {
     "duration": 23.135528,
     "end_time": "2021-06-24T22:17:04.228713",
     "exception": false,
     "start_time": "2021-06-24T22:16:41.093185",
     "status": "completed"
    },
    "tags": [
     "hide"
    ]
   },
   "outputs": [],
   "source": [
    "# Data ====\n",
    "# 1. High level feed info ----\n",
    "feed_info = (\n",
    "    tbl.gtfs_schedule_type2.feed_info()\n",
    "    >> filter_end\n",
    "    >> filter_itp\n",
    "    >> select_rm_calitp\n",
    "    >> collect_to_dict\n",
    ")\n",
    "\n",
    "_n_routes = (\n",
    "    tbl.gtfs_schedule_type2.routes() >> filter_end >> filter_itp >> count() >> collect()\n",
    ")\n",
    "_n_stops = (\n",
    "    tbl.gtfs_schedule_type2.stops() >> filter_end >> filter_itp >> count() >> collect()\n",
    ")\n",
    "\n",
    "feed_info[\"n_routes\"] = int(_n_routes.loc[0, \"n\"])\n",
    "feed_info[\"n_stops\"] = int(_n_stops.loc[0, \"n\"])\n",
    "\n",
    "status = (\n",
    "    tbl.views.gtfs_status_latest()\n",
    "    >> filter(_.itp_id == CALITP_ITP_ID, _.url_number == CALITP_URL_NUMBER)\n",
    "    >> select(-_.url_number, -_.status)\n",
    "    >> select_rm_calitp\n",
    "    >> collect_to_dict\n",
    ")\n",
    "\n",
    "# 2. Monthly metrics ----\n",
    "# Service hours per day. Note that the queried table calculates service\n",
    "# hours per service id, so we need to sum across service ids for the day\n",
    "_cross_cal = (\n",
    "    tbl.views.dim_date()\n",
    "    >> filter(_.full_date.between(START_DATE, END_DATE))\n",
    "    >> select(_.service_date == _.full_date)\n",
    ")\n",
    "\n",
    "tbl_daily_service_hours = (\n",
    "    tbl.views.gtfs_schedule_service_daily_metrics()\n",
    "    >> filter_itp\n",
    "    >> filter(_.service_date.between(START_DATE, END_DATE))\n",
    "    >> right_join(_, _cross_cal, [\"service_date\"])\n",
    "    >> collect()\n",
    "    >> group_by(_.service_date)\n",
    "    >> summarize(\n",
    "        ttl_service_hours=(_.last_arrival_ts.max() - _.first_departure_ts.min()) / 3600,\n",
    "        ttl_service_hours2=_.ttl_service_hours.sum(),\n",
    "    )\n",
    "    >> mutate(\n",
    "        ttl_service_hours=_.ttl_service_hours.astype(float).round(2),\n",
    "        service_date=_.service_date.astype(\"datetime64[ns]\"),\n",
    "    )\n",
    ")\n",
    "\n",
    "# number of days where a feed did not have any trips in service\n",
    "n_expired_days = (\n",
    "    tbl_daily_service_hours\n",
    "    >> filter(_.ttl_service_hours.isna())\n",
    "    >> pipe(lambda d: {\"n\": d.shape[0]})\n",
    ")\n",
    "\n",
    "# 3. Stop and Route ID Changes ----\n",
    "\n",
    "_tbl_stops_start = tbl.gtfs_schedule_type2.stops() >> filter_itp >> filter_start\n",
    "_tbl_stops_end = tbl.gtfs_schedule_type2.stops() >> filter_itp >> filter_end\n",
    "tbl_stops_changed = (\n",
    "    query_id_changes(_tbl_stops_start, _tbl_stops_end, [\"stop_id\"]) >> collect()\n",
    ")\n",
    "\n",
    "_tbl_routes_start = tbl.gtfs_schedule_type2.routes() >> filter_itp >> filter_start\n",
    "_tbl_routes_end = tbl.gtfs_schedule_type2.routes() >> filter_itp >> filter_end\n",
    "tbl_routes_changed = (\n",
    "    query_id_changes(_tbl_routes_start, _tbl_routes_end, [\"route_id\"]) >> collect()\n",
    ")"
   ]
  },
  {
   "cell_type": "code",
   "execution_count": 7,
   "id": "aa8df479",
   "metadata": {
    "execution": {
     "iopub.execute_input": "2021-06-24T22:17:04.267794Z",
     "iopub.status.busy": "2021-06-24T22:17:04.267148Z",
     "iopub.status.idle": "2021-06-24T22:17:09.421953Z",
     "shell.execute_reply": "2021-06-24T22:17:09.421476Z"
    },
    "papermill": {
     "duration": 5.177435,
     "end_time": "2021-06-24T22:17:09.422071",
     "exception": false,
     "start_time": "2021-06-24T22:17:04.244636",
     "status": "completed"
    },
    "tags": [
     "hide"
    ]
   },
   "outputs": [],
   "source": [
    "# 4. Feed files being checked for ----\n",
    "\n",
    "file_categories = pd.DataFrame(\n",
    "    {\n",
    "        \"shapes.txt\": \"Visual display\",\n",
    "        \"pathways.txt\": \"Navigation\",\n",
    "        \"levels.txt\": \"Navigation\",\n",
    "        \"fare_rules.txt\": \"Fares\",\n",
    "        \"fare_leg_rules\": \"Fares\",\n",
    "        \"feed_info.txt\": \"Technical contacts\",\n",
    "    }.items(),\n",
    "    columns=[\"name\", \"category\"],\n",
    ")\n",
    "\n",
    "importance = [\"Visual display\", \"Navigation\", \"Fares\", \"Technical contacts\"]\n",
    "\n",
    "tbl_file_check = (\n",
    "    tbl.gtfs_schedule_history.calitp_files_updates()\n",
    "    >> filter_itp\n",
    "    >> filter(_.calitp_extracted_at.isin(BIWEEKLY_MARKERS))\n",
    "    >> select(_.name, _.calitp_extracted_at)\n",
    "    >> collect()\n",
    "    >> right_join(_, file_categories, [\"name\"])\n",
    "    >> mutate(\n",
    "        calitp_extracted_at=_.calitp_extracted_at.fillna(\"missing\").astype(str),\n",
    "        success=\"✅\",\n",
    "    )\n",
    "    >> spread(_.calitp_extracted_at, _.success)\n",
    "    >> select(-_.missing)\n",
    "    >> arrange(_.category.apply(importance.index))\n",
    "    >> select(_.category, _.contains(\"\"))\n",
    "    >> pipe(_.fillna(\"\"))\n",
    ")\n",
    "\n",
    "tbl_validation_notices = (\n",
    "    tbl.views.validation_notices()\n",
    "    >> filter_itp\n",
    "    >> filter(_.severity == \"ERROR\")\n",
    "    >> count(_.code, _.severity)\n",
    "    >> collect()\n",
    ")"
   ]
  },
  {
   "cell_type": "markdown",
   "id": "ebca3849",
   "metadata": {
    "papermill": {
     "duration": 0.014584,
     "end_time": "2021-06-24T22:17:09.451987",
     "exception": false,
     "start_time": "2021-06-24T22:17:09.437403",
     "status": "completed"
    },
    "tags": [
     "hide"
    ]
   },
   "source": [
    "## Dump data"
   ]
  },
  {
   "cell_type": "code",
   "execution_count": 8,
   "id": "4515edc9",
   "metadata": {
    "execution": {
     "iopub.execute_input": "2021-06-24T22:17:09.490459Z",
     "iopub.status.busy": "2021-06-24T22:17:09.489601Z",
     "iopub.status.idle": "2021-06-24T22:17:09.498861Z",
     "shell.execute_reply": "2021-06-24T22:17:09.498308Z"
    },
    "papermill": {
     "duration": 0.032153,
     "end_time": "2021-06-24T22:17:09.498971",
     "exception": false,
     "start_time": "2021-06-24T22:17:09.466818",
     "status": "completed"
    },
    "tags": [
     "hide"
    ]
   },
   "outputs": [],
   "source": [
    "import json\n",
    "import shutil\n",
    "\n",
    "from pathlib import Path\n",
    "\n",
    "out_dir = Path(f\"output/{CALITP_ITP_ID}_{CALITP_URL_NUMBER}/data\")\n",
    "out_dir.mkdir(parents=True, exist_ok=True)\n",
    "\n",
    "json.dump(feed_info, open(out_dir / \"1_feed_info.json\", \"w\"))\n",
    "json.dump(status, open(out_dir / \"1_status.json\", \"w\"))\n",
    "\n",
    "tbl_daily_service_hours.to_json(out_dir / \"2_daily_service_hours.json\", orient=\"records\")\n",
    "json.dump(n_expired_days, open(out_dir / \"2_n_expired_days.json\", \"w\"))\n",
    "\n",
    "tbl_stops_changed.to_json(out_dir / \"3_stops_changed.json\", orient=\"records\")\n",
    "tbl_routes_changed.to_json(out_dir / \"3_routes_changed.json\", orient=\"records\")\n",
    "tbl_file_check.to_json(out_dir / \"4_file_check.json\", orient=\"records\")\n",
    "tbl_validation_notices.to_json(out_dir / \"4_validation_notices.json\", orient=\"records\")\n"
   ]
  },
  {
   "cell_type": "markdown",
   "id": "fc9772d9",
   "metadata": {
    "papermill": {
     "duration": 0.015151,
     "end_time": "2021-06-24T22:17:09.528857",
     "exception": false,
     "start_time": "2021-06-24T22:17:09.513706",
     "status": "completed"
    },
    "tags": []
   },
   "source": [
    "# Monthly GTFS Quality Report"
   ]
  },
  {
   "cell_type": "code",
   "execution_count": 9,
   "id": "b7324f06",
   "metadata": {
    "execution": {
     "iopub.execute_input": "2021-06-24T22:17:09.568695Z",
     "iopub.status.busy": "2021-06-24T22:17:09.567869Z",
     "iopub.status.idle": "2021-06-24T22:17:09.571441Z",
     "shell.execute_reply": "2021-06-24T22:17:09.571887Z"
    },
    "papermill": {
     "duration": 0.027856,
     "end_time": "2021-06-24T22:17:09.572094",
     "exception": false,
     "start_time": "2021-06-24T22:17:09.544238",
     "status": "completed"
    },
    "tags": []
   },
   "outputs": [
    {
     "data": {
      "text/markdown": [
       "\n",
       "Transit provider name: Trillium Solutions, Inc.\n",
       "\n",
       "Date generated: 2021-06-24\n"
      ],
      "text/plain": [
       "<IPython.core.display.Markdown object>"
      ]
     },
     "execution_count": 9,
     "metadata": {},
     "output_type": "execute_result"
    }
   ],
   "source": [
    "from IPython.display import Markdown\n",
    "\n",
    "Markdown(f\"\"\"\n",
    "Transit provider name: {feed_info[\"feed_publisher_name\"]}\n",
    "\n",
    "Date generated: {DATE_TODAY}\n",
    "\"\"\")"
   ]
  },
  {
   "cell_type": "markdown",
   "id": "b3127d71",
   "metadata": {
    "papermill": {
     "duration": 0.017527,
     "end_time": "2021-06-24T22:17:09.605645",
     "exception": false,
     "start_time": "2021-06-24T22:17:09.588118",
     "status": "completed"
    },
    "tags": []
   },
   "source": [
    "This is a monthly report, generated by the California Integrated Travel Project ([Cal-ITP](https://dot.ca.gov/cal-itp/cal-itp-gtfs)), summarizing issues discovered by [MobilityData](http://mobilitydata.io/)’s [GTFS Validator](https://github.com/MobilityData/gtfs-validator). This report is available for viewing by the general public to support continuous improvement of GTFS data and the experience of transit passengers. "
   ]
  },
  {
   "cell_type": "markdown",
   "id": "400d9e45",
   "metadata": {
    "papermill": {
     "duration": 0.015195,
     "end_time": "2021-06-24T22:17:09.635986",
     "exception": false,
     "start_time": "2021-06-24T22:17:09.620791",
     "status": "completed"
    },
    "tags": []
   },
   "source": [
    "## Overview"
   ]
  },
  {
   "cell_type": "code",
   "execution_count": 10,
   "id": "ad5c61d3",
   "metadata": {
    "execution": {
     "iopub.execute_input": "2021-06-24T22:17:09.675614Z",
     "iopub.status.busy": "2021-06-24T22:17:09.674961Z",
     "iopub.status.idle": "2021-06-24T22:17:09.678111Z",
     "shell.execute_reply": "2021-06-24T22:17:09.678534Z"
    },
    "papermill": {
     "duration": 0.027277,
     "end_time": "2021-06-24T22:17:09.678672",
     "exception": false,
     "start_time": "2021-06-24T22:17:09.651395",
     "status": "completed"
    },
    "tags": []
   },
   "outputs": [
    {
     "data": {
      "text/markdown": [
       "\n",
       "Feed location: http://data.trilliumtransit.com/gtfs/goldcountrystage-ca-us/goldcountrystage-ca-us.zip\n",
       "\n",
       "Metrics for the most recent published version of the feed:\n",
       "\n",
       "* Date published: UTC: 20-May-2021 16:29\n",
       "* Number of routes in any service: 8\n",
       "* Number of stops in service: 249\n"
      ],
      "text/plain": [
       "<IPython.core.display.Markdown object>"
      ]
     },
     "execution_count": 10,
     "metadata": {},
     "output_type": "execute_result"
    }
   ],
   "source": [
    "Markdown(f\"\"\"\n",
    "Feed location: {status[\"gtfs_schedule_url\"]}\n",
    "\n",
    "Metrics for the most recent published version of the feed:\n",
    "\n",
    "* Date published: {feed_info[\"feed_version\"]}\n",
    "* Number of routes in any service: {feed_info[\"n_routes\"]}\n",
    "* Number of stops in service: {feed_info[\"n_stops\"]}\n",
    "\"\"\")"
   ]
  },
  {
   "cell_type": "markdown",
   "id": "c03d4d4a",
   "metadata": {
    "papermill": {
     "duration": 0.016862,
     "end_time": "2021-06-24T22:17:09.711960",
     "exception": false,
     "start_time": "2021-06-24T22:17:09.695098",
     "status": "completed"
    },
    "tags": []
   },
   "source": [
    "## Aggregated Metrics for May"
   ]
  },
  {
   "cell_type": "code",
   "execution_count": 11,
   "id": "af1c8bb3",
   "metadata": {
    "execution": {
     "iopub.execute_input": "2021-06-24T22:17:09.748094Z",
     "iopub.status.busy": "2021-06-24T22:17:09.747394Z",
     "iopub.status.idle": "2021-06-24T22:17:09.752009Z",
     "shell.execute_reply": "2021-06-24T22:17:09.751520Z"
    },
    "papermill": {
     "duration": 0.023847,
     "end_time": "2021-06-24T22:17:09.752130",
     "exception": false,
     "start_time": "2021-06-24T22:17:09.728283",
     "status": "completed"
    },
    "tags": []
   },
   "outputs": [
    {
     "data": {
      "text/markdown": [
       "\n",
       "Days with no service hours: 6\n"
      ],
      "text/plain": [
       "<IPython.core.display.Markdown object>"
      ]
     },
     "execution_count": 11,
     "metadata": {},
     "output_type": "execute_result"
    }
   ],
   "source": [
    "# TODO: \n",
    "\n",
    "# Markdown(f\"\"\"\n",
    "# Days when the active feed was expired: {n_expired_days[\"n\"]}\n",
    "# \"\"\")\n",
    "\n",
    "Markdown(f\"\"\"\n",
    "Days with no service hours: {n_expired_days[\"n\"]}\n",
    "\"\"\")\n"
   ]
  },
  {
   "cell_type": "code",
   "execution_count": 12,
   "id": "15d8db06",
   "metadata": {
    "execution": {
     "iopub.execute_input": "2021-06-24T22:17:09.820711Z",
     "iopub.status.busy": "2021-06-24T22:17:09.819697Z",
     "iopub.status.idle": "2021-06-24T22:17:10.198620Z",
     "shell.execute_reply": "2021-06-24T22:17:10.199131Z"
    },
    "papermill": {
     "duration": 0.430952,
     "end_time": "2021-06-24T22:17:10.199288",
     "exception": false,
     "start_time": "2021-06-24T22:17:09.768336",
     "status": "completed"
    },
    "tags": []
   },
   "outputs": [
    {
     "data": {
      "image/png": "[encoded data removed]",
      "text/plain": [
       "<Figure size 640x480 with 1 Axes>"
      ]
     },
     "metadata": {},
     "output_type": "display_data"
    }
   ],
   "source": [
    "(\n",
    "    tbl_daily_service_hours\n",
    "    >> ggplot(aes(\"service_date\", \"ttl_service_hours2\"))\n",
    "    + geom_line()\n",
    "    + geom_point()\n",
    "    + theme(axis_text_x=element_text(angle=45, hjust=1))\n",
    "    + scale_x_datetime(date_breaks=\"1 week\")\n",
    "    + expand_limits(y=0)\n",
    "    + labs(y = \"Total service hours\", x = \"Service date\", title=\"Service hour per day\")\n",
    ").draw();"
   ]
  },
  {
   "cell_type": "markdown",
   "id": "93bb0303",
   "metadata": {
    "papermill": {
     "duration": 0.021608,
     "end_time": "2021-06-24T22:17:10.239564",
     "exception": false,
     "start_time": "2021-06-24T22:17:10.217956",
     "status": "completed"
    },
    "tags": []
   },
   "source": [
    "## Changes Since Previous Month"
   ]
  },
  {
   "cell_type": "code",
   "execution_count": 13,
   "id": "9d2dea91",
   "metadata": {
    "execution": {
     "iopub.execute_input": "2021-06-24T22:17:10.295527Z",
     "iopub.status.busy": "2021-06-24T22:17:10.293654Z",
     "iopub.status.idle": "2021-06-24T22:17:10.648244Z",
     "shell.execute_reply": "2021-06-24T22:17:10.648701Z"
    },
    "papermill": {
     "duration": 0.388861,
     "end_time": "2021-06-24T22:17:10.648852",
     "exception": false,
     "start_time": "2021-06-24T22:17:10.259991",
     "status": "completed"
    },
    "tags": []
   },
   "outputs": [
    {
     "data": {
      "image/png": "[encoded data removed]",
      "text/plain": [
       "<Figure size 640x480 with 1 Axes>"
      ]
     },
     "metadata": {},
     "output_type": "display_data"
    }
   ],
   "source": [
    "(\n",
    "    pd.concat(\n",
    "        [\n",
    "            tbl_stops_changed >> mutate(kind=\"Stops\"),\n",
    "            tbl_routes_changed >> mutate(kind=\"Routes\"),\n",
    "        ]\n",
    "    )\n",
    "    >> ggplot(aes(\"kind\", \"n\", fill=\"status\"))\n",
    "    + geom_col()\n",
    "    + labs(\n",
    "        x=\"GTFS schedule table\",\n",
    "        y=\"Number of IDs\",\n",
    "        title=f\"IDs Changed Between {START_MONTH_DAY} and {END_MONTH_DAY}\",\n",
    "    )\n",
    ").draw();"
   ]
  },
  {
   "cell_type": "markdown",
   "id": "71697229",
   "metadata": {
    "papermill": {
     "duration": 0.019414,
     "end_time": "2021-06-24T22:17:10.687284",
     "exception": false,
     "start_time": "2021-06-24T22:17:10.667870",
     "status": "completed"
    },
    "tags": []
   },
   "source": [
    "### (Alternative version using percentages)"
   ]
  },
  {
   "cell_type": "code",
   "execution_count": 14,
   "id": "a27c99d0",
   "metadata": {
    "execution": {
     "iopub.execute_input": "2021-06-24T22:17:10.750407Z",
     "iopub.status.busy": "2021-06-24T22:17:10.749381Z",
     "iopub.status.idle": "2021-06-24T22:17:11.062155Z",
     "shell.execute_reply": "2021-06-24T22:17:11.062631Z"
    },
    "papermill": {
     "duration": 0.354157,
     "end_time": "2021-06-24T22:17:11.062790",
     "exception": false,
     "start_time": "2021-06-24T22:17:10.708633",
     "status": "completed"
    },
    "tags": []
   },
   "outputs": [
    {
     "data": {
      "image/png": "[encoded data removed]",
      "text/plain": [
       "<Figure size 640x480 with 1 Axes>"
      ]
     },
     "metadata": {},
     "output_type": "display_data"
    }
   ],
   "source": [
    "(\n",
    "    pd.concat(\n",
    "        [\n",
    "            tbl_stops_changed >> mutate(kind=\"Stops\"),\n",
    "            tbl_routes_changed >> mutate(kind=\"Routes\"),\n",
    "        ]\n",
    "    )\n",
    "    >> ggplot(aes(\"kind\", \"percent\", fill=\"status\"))\n",
    "    + geom_col()\n",
    "    + labs(\n",
    "        x=\"GTFS schedule table\",\n",
    "        y=\"Percentage of IDs\",\n",
    "        title=f\"IDs Changed Between {START_MONTH_DAY} and {END_MONTH_DAY}\",\n",
    "    )\n",
    "    + scale_y_continuous(labels=percent_format, breaks=np.arange(0, 1.2, 0.2))\n",
    ").draw();"
   ]
  },
  {
   "cell_type": "markdown",
   "id": "5cf74f66",
   "metadata": {
    "papermill": {
     "duration": 0.035324,
     "end_time": "2021-06-24T22:17:11.121679",
     "exception": false,
     "start_time": "2021-06-24T22:17:11.086355",
     "status": "completed"
    },
    "tags": []
   },
   "source": [
    "## Consistency with the [California GTFS Minimum Guidelines](https://dot.ca.gov/cal-itp/california-minimum-general-transit-feed-specification-gtfs-guidelines) for the feed downloaded\n"
   ]
  },
  {
   "cell_type": "markdown",
   "id": "73b4938c",
   "metadata": {
    "papermill": {
     "duration": 0.01956,
     "end_time": "2021-06-24T22:17:11.164082",
     "exception": false,
     "start_time": "2021-06-24T22:17:11.144522",
     "status": "completed"
    },
    "tags": []
   },
   "source": [
    "### Do the following files/fields exist?"
   ]
  },
  {
   "cell_type": "code",
   "execution_count": 15,
   "id": "061fef86",
   "metadata": {
    "execution": {
     "iopub.execute_input": "2021-06-24T22:17:11.212807Z",
     "iopub.status.busy": "2021-06-24T22:17:11.211794Z",
     "iopub.status.idle": "2021-06-24T22:17:11.224285Z",
     "shell.execute_reply": "2021-06-24T22:17:11.224779Z"
    },
    "papermill": {
     "duration": 0.041717,
     "end_time": "2021-06-24T22:17:11.224933",
     "exception": false,
     "start_time": "2021-06-24T22:17:11.183216",
     "status": "completed"
    },
    "tags": []
   },
   "outputs": [
    {
     "data": {
      "text/html": [
       "<div>\n",
       "<style scoped>\n",
       "    .dataframe tbody tr th:only-of-type {\n",
       "        vertical-align: middle;\n",
       "    }\n",
       "\n",
       "    .dataframe tbody tr th {\n",
       "        vertical-align: top;\n",
       "    }\n",
       "\n",
       "    .dataframe thead th {\n",
       "        text-align: right;\n",
       "    }\n",
       "</style>\n",
       "<table border=\"1\" class=\"dataframe\">\n",
       "  <thead>\n",
       "    <tr style=\"text-align: right;\">\n",
       "      <th></th>\n",
       "      <th>category</th>\n",
       "      <th>name</th>\n",
       "      <th>2021-05-02</th>\n",
       "      <th>2021-05-16</th>\n",
       "      <th>2021-05-30</th>\n",
       "    </tr>\n",
       "  </thead>\n",
       "  <tbody>\n",
       "    <tr>\n",
       "      <th>5</th>\n",
       "      <td>Visual display</td>\n",
       "      <td>shapes.txt</td>\n",
       "      <td>✅</td>\n",
       "      <td>✅</td>\n",
       "      <td>✅</td>\n",
       "    </tr>\n",
       "    <tr>\n",
       "      <th>3</th>\n",
       "      <td>Navigation</td>\n",
       "      <td>levels.txt</td>\n",
       "      <td></td>\n",
       "      <td></td>\n",
       "      <td></td>\n",
       "    </tr>\n",
       "    <tr>\n",
       "      <th>4</th>\n",
       "      <td>Navigation</td>\n",
       "      <td>pathways.txt</td>\n",
       "      <td></td>\n",
       "      <td></td>\n",
       "      <td></td>\n",
       "    </tr>\n",
       "    <tr>\n",
       "      <th>0</th>\n",
       "      <td>Fares</td>\n",
       "      <td>fare_leg_rules</td>\n",
       "      <td></td>\n",
       "      <td></td>\n",
       "      <td></td>\n",
       "    </tr>\n",
       "    <tr>\n",
       "      <th>1</th>\n",
       "      <td>Fares</td>\n",
       "      <td>fare_rules.txt</td>\n",
       "      <td>✅</td>\n",
       "      <td>✅</td>\n",
       "      <td>✅</td>\n",
       "    </tr>\n",
       "    <tr>\n",
       "      <th>2</th>\n",
       "      <td>Technical contacts</td>\n",
       "      <td>feed_info.txt</td>\n",
       "      <td>✅</td>\n",
       "      <td>✅</td>\n",
       "      <td>✅</td>\n",
       "    </tr>\n",
       "  </tbody>\n",
       "</table>\n",
       "</div>"
      ],
      "text/plain": [
       "             category            name 2021-05-02 2021-05-16 2021-05-30\n",
       "5      Visual display      shapes.txt          ✅          ✅          ✅\n",
       "3          Navigation      levels.txt                                 \n",
       "4          Navigation    pathways.txt                                 \n",
       "0               Fares  fare_leg_rules                                 \n",
       "1               Fares  fare_rules.txt          ✅          ✅          ✅\n",
       "2  Technical contacts   feed_info.txt          ✅          ✅          ✅"
      ]
     },
     "execution_count": 15,
     "metadata": {},
     "output_type": "execute_result"
    }
   ],
   "source": [
    "tbl_file_check"
   ]
  },
  {
   "cell_type": "markdown",
   "id": "722beedc",
   "metadata": {
    "papermill": {
     "duration": 0.026315,
     "end_time": "2021-06-24T22:17:11.273237",
     "exception": false,
     "start_time": "2021-06-24T22:17:11.246922",
     "status": "completed"
    },
    "tags": []
   },
   "source": [
    "### Validation Errors Observed"
   ]
  },
  {
   "cell_type": "code",
   "execution_count": 16,
   "id": "5dea2661",
   "metadata": {
    "execution": {
     "iopub.execute_input": "2021-06-24T22:17:11.324027Z",
     "iopub.status.busy": "2021-06-24T22:17:11.323114Z",
     "iopub.status.idle": "2021-06-24T22:17:11.326815Z",
     "shell.execute_reply": "2021-06-24T22:17:11.327294Z"
    },
    "papermill": {
     "duration": 0.03251,
     "end_time": "2021-06-24T22:17:11.327465",
     "exception": false,
     "start_time": "2021-06-24T22:17:11.294955",
     "status": "completed"
    },
    "tags": []
   },
   "outputs": [
    {
     "data": {
      "text/markdown": [
       "No validation error observed in your feed."
      ],
      "text/plain": [
       "<IPython.core.display.Markdown object>"
      ]
     },
     "metadata": {},
     "output_type": "display_data"
    }
   ],
   "source": [
    "if tbl_validation_notices.shape[0] == 0:\n",
    "    display(Markdown(\"No validation error observed in your feed.\"))\n",
    "else:    \n",
    "    display(tbl_validation_notices)"
   ]
  },
  {
   "cell_type": "markdown",
   "id": "b63ddcd0",
   "metadata": {
    "papermill": {
     "duration": 0.022105,
     "end_time": "2021-06-24T22:17:11.370997",
     "exception": false,
     "start_time": "2021-06-24T22:17:11.348892",
     "status": "completed"
    },
    "tags": []
   },
   "source": [
    "For more information about Cal-ITP, including the [Minimum GTFS Guidelines](https://dot.ca.gov/cal-itp/california-minimum-general-transit-feed-specification-gtfs-guidelines) and our [Transit Data Helpdesk](https://dot.ca.gov/programs/rail-and-mass-transportation/gtfs/helpdesk), contact [GTFSRT@dot.ca.gov](mailto:GTFSRT@dot.ca.gov)."
   ]
  }
 ],
 "metadata": {
  "kernelspec": {
   "display_name": "venv-calitp-py",
   "language": "python",
   "name": "venv-calitp-py"
  },
  "language_info": {
   "codemirror_mode": {
    "name": "ipython",
    "version": 3
   },
   "file_extension": ".py",
   "mimetype": "text/x-python",
   "name": "python",
   "nbconvert_exporter": "python",
   "pygments_lexer": "ipython3",
   "version": "3.8.5"
  },
  "papermill": {
   "default_parameters": {},
   "duration": 39.911404,
   "end_time": "2021-06-24T22:17:12.133039",
   "environment_variables": {},
   "exception": null,
   "input_path": "report.ipynb",
   "output_path": "output/221/report.ipynb",
   "parameters": {
    "CALITP_ITP_ID": 221,
    "CALITP_URL_NUMBER": 0,
    "DEBUG": false,
    "END_DATE": "2021-06-01",
    "START_DATE": "2021-05-01"
   },
   "start_time": "2021-06-24T22:16:32.221635",
   "version": "2.3.3"
  }
 },
 "nbformat": 4,
 "nbformat_minor": 5
}