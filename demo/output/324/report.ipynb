{
 "cells": [
  {
   "cell_type": "markdown",
   "id": "9d900092",
   "metadata": {
    "papermill": {
     "duration": 0.027941,
     "end_time": "2021-06-23T00:36:00.063604",
     "exception": false,
     "start_time": "2021-06-23T00:36:00.035663",
     "status": "completed"
    },
    "tags": [
     "hide"
    ]
   },
   "source": [
    "# Setup"
   ]
  },
  {
   "cell_type": "code",
   "execution_count": 1,
   "id": "6af1c5ff",
   "metadata": {
    "execution": {
     "iopub.execute_input": "2021-06-23T00:36:00.164775Z",
     "iopub.status.busy": "2021-06-23T00:36:00.163558Z",
     "iopub.status.idle": "2021-06-23T00:36:06.985770Z",
     "shell.execute_reply": "2021-06-23T00:36:06.986205Z"
    },
    "papermill": {
     "duration": 6.8895,
     "end_time": "2021-06-23T00:36:06.986404",
     "exception": false,
     "start_time": "2021-06-23T00:36:00.096904",
     "status": "completed"
    },
    "tags": [
     "hide"
    ]
   },
   "outputs": [],
   "source": [
    "import pandas as pd\n",
    "\n",
    "from io import StringIO\n",
    "from calitp.tables import tbl\n",
    "from datetime import date\n",
    "from siuba import *\n",
    "from plotnine import *\n",
    "\n",
    "\n",
    "START_DATE = \"2021-05-01\"\n",
    "END_DATE = \"2021-06-01\"\n",
    "DATE_TODAY=date.today()\n",
    "\n",
    "WEEK_MARKERS = pd.date_range(START_DATE, END_DATE, freq=\"W\").astype(str).tolist()"
   ]
  },
  {
   "cell_type": "code",
   "execution_count": 2,
   "id": "3ab781d4",
   "metadata": {
    "execution": {
     "iopub.execute_input": "2021-06-23T00:36:07.027015Z",
     "iopub.status.busy": "2021-06-23T00:36:07.026092Z",
     "iopub.status.idle": "2021-06-23T00:36:07.028624Z",
     "shell.execute_reply": "2021-06-23T00:36:07.029051Z"
    },
    "papermill": {
     "duration": 0.028184,
     "end_time": "2021-06-23T00:36:07.029218",
     "exception": false,
     "start_time": "2021-06-23T00:36:07.001034",
     "status": "completed"
    },
    "tags": [
     "parameters",
     "hide"
    ]
   },
   "outputs": [],
   "source": [
    "CALITP_ITP_ID=389\n",
    "#CALITP_ITP_ID=45\n",
    "CALITP_URL_NUMBER=0"
   ]
  },
  {
   "cell_type": "code",
   "execution_count": 3,
   "id": "e84ade4d",
   "metadata": {
    "execution": {
     "iopub.execute_input": "2021-06-23T00:36:07.077828Z",
     "iopub.status.busy": "2021-06-23T00:36:07.075981Z",
     "iopub.status.idle": "2021-06-23T00:36:07.079828Z",
     "shell.execute_reply": "2021-06-23T00:36:07.080809Z"
    },
    "papermill": {
     "duration": 0.034782,
     "end_time": "2021-06-23T00:36:07.081074",
     "exception": false,
     "start_time": "2021-06-23T00:36:07.046292",
     "status": "completed"
    },
    "tags": [
     "injected-parameters"
    ]
   },
   "outputs": [],
   "source": [
    "# Parameters\n",
    "CALITP_ITP_ID = 324\n",
    "CALITP_URL_NUMBER = 0\n"
   ]
  },
  {
   "cell_type": "code",
   "execution_count": 4,
   "id": "1774d379",
   "metadata": {
    "execution": {
     "iopub.execute_input": "2021-06-23T00:36:07.175207Z",
     "iopub.status.busy": "2021-06-23T00:36:07.174004Z",
     "iopub.status.idle": "2021-06-23T00:36:07.208483Z",
     "shell.execute_reply": "2021-06-23T00:36:07.207155Z"
    },
    "papermill": {
     "duration": 0.088518,
     "end_time": "2021-06-23T00:36:07.208713",
     "exception": false,
     "start_time": "2021-06-23T00:36:07.120195",
     "status": "completed"
    },
    "tags": [
     "hide"
    ]
   },
   "outputs": [],
   "source": [
    "# Convenience functions ----\n",
    "\n",
    "filter_start = filter(\n",
    "    _.calitp_extracted_at <= START_DATE,\n",
    "    _.calitp_deleted_at.fillna(\"2099-01-01\") > START_DATE,\n",
    ")\n",
    "\n",
    "filter_end = filter(\n",
    "    _.calitp_extracted_at <= END_DATE,\n",
    "    _.calitp_deleted_at.fillna(\"2099-01-01\") > END_DATE,\n",
    ")\n",
    "\n",
    "filter_itp = filter(\n",
    "    _.calitp_itp_id == CALITP_ITP_ID, _.calitp_url_number == CALITP_URL_NUMBER\n",
    ")\n",
    "\n",
    "collect_to_dict = (\n",
    "    collect()\n",
    "    >> pipe(_.to_dict(orient=\"records\")[0])\n",
    ")\n",
    "\n",
    "\n",
    "select_rm_calitp = select(\n",
    "    -_.calitp_itp_id,\n",
    "    -_.calitp_url_number,\n",
    "    -_.calitp_hash,\n",
    "    -_.calitp_extracted_at,\n",
    "    -_.calitp_deleted_at,\n",
    ")\n",
    "\n",
    "\n",
    "def query_id_changes(start_table, end_table, id_vars):\n",
    "    \"\"\"Calculate id variables that are removed, added, or unchanged between tables.\n",
    "    \n",
    "    It works by adding a special column to each table, performing a full join,\n",
    "    then checking where the special column is null.\n",
    "    \"\"\"\n",
    "    sym_id_vars = [_[k] for k in id_vars]\n",
    "\n",
    "    is_in_start = start_table >> select(*id_vars) >> mutate(is_in_start=True)\n",
    "    is_in_end = end_table >> select(*id_vars) >> mutate(is_in_end=True)\n",
    "\n",
    "    baseline = start_table >> count(*id_vars) >> rename(n_baseline=\"n\")\n",
    "    tallies = (\n",
    "        is_in_start\n",
    "        >> full_join(_, is_in_end, id_vars)\n",
    "        >> count(*sym_id_vars, _.is_in_start, _.is_in_end)\n",
    "        >> mutate(\n",
    "            status=case_when(\n",
    "                _,\n",
    "                {\n",
    "                    _.is_in_end.isna(): \"Removed\",\n",
    "                    _.is_in_start.isna(): \"Added\",\n",
    "                    True: \"Unchanged\",\n",
    "                },\n",
    "            )\n",
    "        )\n",
    "        >> count(*sym_id_vars[:-1], _.status)\n",
    "        >> group_by(*sym_id_vars[:-1])\n",
    "        >> mutate(percent=_.n / _.n.sum())\n",
    "    )\n",
    "\n",
    "    return tallies"
   ]
  },
  {
   "cell_type": "code",
   "execution_count": 5,
   "id": "3f45dd9b",
   "metadata": {
    "execution": {
     "iopub.execute_input": "2021-06-23T00:36:07.291715Z",
     "iopub.status.busy": "2021-06-23T00:36:07.290632Z",
     "iopub.status.idle": "2021-06-23T00:36:33.310095Z",
     "shell.execute_reply": "2021-06-23T00:36:33.311000Z"
    },
    "papermill": {
     "duration": 26.074553,
     "end_time": "2021-06-23T00:36:33.311349",
     "exception": false,
     "start_time": "2021-06-23T00:36:07.236796",
     "status": "completed"
    },
    "tags": [
     "hide"
    ]
   },
   "outputs": [],
   "source": [
    "# Data ====\n",
    "# 1. High level feed info ----\n",
    "feed_info = (\n",
    "    tbl.gtfs_schedule_type2.feed_info()\n",
    "    >> filter_end\n",
    "    >> filter_itp\n",
    "    >> select_rm_calitp\n",
    "    >> collect_to_dict\n",
    ")\n",
    "\n",
    "_n_routes = (\n",
    "    tbl.gtfs_schedule_type2.routes() >> filter_end >> filter_itp >> count() >> collect()\n",
    ")\n",
    "_n_stops = (\n",
    "    tbl.gtfs_schedule_type2.stops() >> filter_end >> filter_itp >> count() >> collect()\n",
    ")\n",
    "\n",
    "feed_info[\"n_routes\"] = int(_n_routes.loc[0, \"n\"])\n",
    "feed_info[\"n_stops\"] = int(_n_stops.loc[0, \"n\"])\n",
    "\n",
    "status = (\n",
    "    tbl.views.gtfs_status_latest()\n",
    "    >> filter(_.itp_id == CALITP_ITP_ID, _.url_number == CALITP_URL_NUMBER)\n",
    "    >> select(-_.url_number, -_.status)\n",
    "    >> select_rm_calitp\n",
    "    >> collect_to_dict\n",
    ")\n",
    "\n",
    "# 2. Monthly metrics ----\n",
    "# Service hours per day. Note that the queried table calculates service\n",
    "# hours per service id, so we need to sum across service ids for the day\n",
    "_cross_cal = (\n",
    "    tbl.views.dim_date()\n",
    "    >> filter(_.full_date.between(START_DATE, END_DATE))\n",
    "    >> select(_.service_date == _.full_date)\n",
    ")\n",
    "\n",
    "tbl_daily_service_hours = (\n",
    "    tbl.views.gtfs_schedule_service_daily_metrics()\n",
    "    >> filter_itp\n",
    "    >> filter(_.service_date.between(START_DATE, END_DATE))\n",
    "    >> right_join(_, _cross_cal, [\"service_date\"])\n",
    "    >> collect()\n",
    "    >> group_by(_.service_date)\n",
    "    >> summarize(ttl_service_hours=(_.last_arrival_ts.max() - _.first_departure_ts.min()) / 3600)\n",
    "    >> mutate(\n",
    "        ttl_service_hours=_.ttl_service_hours.astype(float).round(2),\n",
    "        service_date=_.service_date.astype(\"datetime64[ns]\"),\n",
    "    )\n",
    ")\n",
    "\n",
    "# number of days where a feed did not have any trips in service\n",
    "n_expired_days = (\n",
    "    tbl_daily_service_hours >> filter(_.ttl_service_hours.isna())\n",
    "    >> pipe(lambda d: {\"n\": d.shape[0]})\n",
    ")\n",
    "\n",
    "# 3. Stop and Route ID Changes ----\n",
    "\n",
    "_tbl_stops_start = tbl.gtfs_schedule_type2.stops() >> filter_itp >> filter_start\n",
    "_tbl_stops_end = tbl.gtfs_schedule_type2.stops() >> filter_itp >> filter_end\n",
    "tbl_stops_changed = (\n",
    "    query_id_changes(_tbl_stops_start, _tbl_stops_end, [\"stop_id\"]) >> collect()\n",
    ")\n",
    "\n",
    "_tbl_routes_start = tbl.gtfs_schedule_type2.routes() >> filter_start\n",
    "_tbl_routes_end = tbl.gtfs_schedule_type2.routes() >> filter_end\n",
    "tbl_routes_changed = (\n",
    "    query_id_changes(_tbl_routes_start, _tbl_routes_end, [\"route_id\"]) >> collect()\n",
    ")"
   ]
  },
  {
   "cell_type": "code",
   "execution_count": 6,
   "id": "c998f488",
   "metadata": {
    "execution": {
     "iopub.execute_input": "2021-06-23T00:36:33.430768Z",
     "iopub.status.busy": "2021-06-23T00:36:33.429505Z",
     "iopub.status.idle": "2021-06-23T00:36:39.248474Z",
     "shell.execute_reply": "2021-06-23T00:36:39.249379Z"
    },
    "papermill": {
     "duration": 5.873432,
     "end_time": "2021-06-23T00:36:39.249675",
     "exception": false,
     "start_time": "2021-06-23T00:36:33.376243",
     "status": "completed"
    },
    "tags": [
     "hide"
    ]
   },
   "outputs": [
    {
     "name": "stdout",
     "output_type": "stream",
     "text": [
      "The history saving thread hit an unexpected error (OperationalError('database is locked')).History will not be written to the database.\n"
     ]
    }
   ],
   "source": [
    "# 4. Feed files being checked for ----\n",
    "\n",
    "file_categories = pd.DataFrame(\n",
    "    {\n",
    "        \"shapes.txt\": \"Visual display\",\n",
    "        \"pathways.txt\": \"Navigation\",\n",
    "        \"levels.txt\": \"Navigation\",\n",
    "        \"fare_rules.txt\": \"Fares\",\n",
    "        \"fare_leg_rules\": \"Fares\",\n",
    "        \"feed_info.txt\": \"Technical contacts\",\n",
    "    }.items(),\n",
    "    columns=[\"name\", \"category\"],\n",
    ")\n",
    "\n",
    "importance = [\"Visual display\", \"Navigation\", \"Fares\", \"Technical contacts\"]\n",
    "\n",
    "tbl_file_check = (\n",
    "    tbl.gtfs_schedule_history.calitp_files_updates()\n",
    "    >> filter_itp\n",
    "    >> filter(_.calitp_extracted_at.isin(WEEK_MARKERS))\n",
    "    >> select(_.name, _.calitp_extracted_at)\n",
    "    >> collect()\n",
    "    >> right_join(_, file_categories, [\"name\"])\n",
    "    >> mutate(\n",
    "        calitp_extracted_at=_.calitp_extracted_at.fillna(\"missing\").astype(str),\n",
    "        success=\"✅\",\n",
    "    )\n",
    "    >> spread(_.calitp_extracted_at, _.success)\n",
    "    >> select(-_.missing)\n",
    "    >> arrange(_.category.apply(importance.index))\n",
    "    >> select(_.category, _.contains(\"\"))\n",
    "    >> pipe(_.fillna(\"\"))\n",
    ")\n",
    "\n",
    "tbl_validation_notices = (\n",
    "    tbl.views.validation_notices()\n",
    "    >> filter_itp\n",
    "    >> filter(_.severity == \"ERROR\")\n",
    "    >> count(_.code, _.severity)\n",
    "    >> collect()\n",
    ")"
   ]
  },
  {
   "cell_type": "markdown",
   "id": "36e9616d",
   "metadata": {
    "papermill": {
     "duration": 0.037415,
     "end_time": "2021-06-23T00:36:39.328244",
     "exception": false,
     "start_time": "2021-06-23T00:36:39.290829",
     "status": "completed"
    },
    "tags": [
     "hide"
    ]
   },
   "source": [
    "## Dump data"
   ]
  },
  {
   "cell_type": "code",
   "execution_count": 7,
   "id": "9dfab6af",
   "metadata": {
    "execution": {
     "iopub.execute_input": "2021-06-23T00:36:39.473160Z",
     "iopub.status.busy": "2021-06-23T00:36:39.465418Z",
     "iopub.status.idle": "2021-06-23T00:36:39.475217Z",
     "shell.execute_reply": "2021-06-23T00:36:39.474342Z"
    },
    "papermill": {
     "duration": 0.059808,
     "end_time": "2021-06-23T00:36:39.475471",
     "exception": false,
     "start_time": "2021-06-23T00:36:39.415663",
     "status": "completed"
    },
    "tags": [
     "hide"
    ]
   },
   "outputs": [],
   "source": [
    "import json\n",
    "import shutil\n",
    "\n",
    "from pathlib import Path\n",
    "\n",
    "out_dir = Path(f\"output/{CALITP_ITP_ID}_{CALITP_URL_NUMBER}/data\")\n",
    "out_dir.mkdir(parents=True, exist_ok=True)\n",
    "\n",
    "json.dump(feed_info, open(out_dir / \"1_feed_info.json\", \"w\"))\n",
    "json.dump(status, open(out_dir / \"1_status.json\", \"w\"))\n",
    "\n",
    "tbl_daily_service_hours.to_json(out_dir / \"2_daily_service_hours.json\", orient=\"records\")\n",
    "json.dump(n_expired_days, open(out_dir / \"2_n_expired_days.json\", \"w\"))\n",
    "\n",
    "tbl_stops_changed.to_json(out_dir / \"3_stops_changed.json\", orient=\"records\")\n",
    "tbl_routes_changed.to_json(out_dir / \"3_routes_changed.json\", orient=\"records\")\n",
    "tbl_file_check.to_json(out_dir / \"4_file_check.json\", orient=\"records\")\n",
    "tbl_validation_notices.to_json(out_dir / \"4_validation_notices.json\", orient=\"records\")\n"
   ]
  },
  {
   "cell_type": "markdown",
   "id": "228f6d87",
   "metadata": {
    "papermill": {
     "duration": 0.08774,
     "end_time": "2021-06-23T00:36:39.707565",
     "exception": false,
     "start_time": "2021-06-23T00:36:39.619825",
     "status": "completed"
    },
    "tags": []
   },
   "source": [
    "# GTFS Schedule Report"
   ]
  },
  {
   "cell_type": "markdown",
   "id": "1252a8c8",
   "metadata": {
    "papermill": {
     "duration": 0.081609,
     "end_time": "2021-06-23T00:36:39.887531",
     "exception": false,
     "start_time": "2021-06-23T00:36:39.805922",
     "status": "completed"
    },
    "tags": []
   },
   "source": [
    "# Example Juniper Report"
   ]
  },
  {
   "cell_type": "code",
   "execution_count": 8,
   "id": "a8d70d7b",
   "metadata": {
    "execution": {
     "iopub.execute_input": "2021-06-23T00:36:40.054340Z",
     "iopub.status.busy": "2021-06-23T00:36:40.052446Z",
     "iopub.status.idle": "2021-06-23T00:36:40.058876Z",
     "shell.execute_reply": "2021-06-23T00:36:40.057864Z"
    },
    "papermill": {
     "duration": 0.082828,
     "end_time": "2021-06-23T00:36:40.059223",
     "exception": false,
     "start_time": "2021-06-23T00:36:39.976395",
     "status": "completed"
    },
    "tags": []
   },
   "outputs": [
    {
     "data": {
      "text/markdown": [
       "\n",
       "Transit provider name: Transnnovation\n",
       "\n",
       "Date generated: 2021-06-22\n"
      ],
      "text/plain": [
       "<IPython.core.display.Markdown object>"
      ]
     },
     "execution_count": 8,
     "metadata": {},
     "output_type": "execute_result"
    }
   ],
   "source": [
    "from IPython.display import Markdown\n",
    "\n",
    "Markdown(f\"\"\"\n",
    "Transit provider name: {feed_info[\"feed_publisher_name\"]}\n",
    "\n",
    "Date generated: {DATE_TODAY}\n",
    "\"\"\")"
   ]
  },
  {
   "cell_type": "markdown",
   "id": "b6ac40bb",
   "metadata": {
    "papermill": {
     "duration": 0.093063,
     "end_time": "2021-06-23T00:36:40.238346",
     "exception": false,
     "start_time": "2021-06-23T00:36:40.145283",
     "status": "completed"
    },
    "tags": []
   },
   "source": [
    "This is a monthly report, generated by the California Integrated Travel Project (Cal-ITP), summarizing issues discovered by MobilityData’s GTFS Validator. This report is available for viewing by the general public to support continuous improvement of GTFS data and the experience of transit passengers. "
   ]
  },
  {
   "cell_type": "markdown",
   "id": "ee0fae43",
   "metadata": {
    "papermill": {
     "duration": 0.143578,
     "end_time": "2021-06-23T00:36:40.452379",
     "exception": false,
     "start_time": "2021-06-23T00:36:40.308801",
     "status": "completed"
    },
    "tags": []
   },
   "source": [
    "## Overview"
   ]
  },
  {
   "cell_type": "code",
   "execution_count": 9,
   "id": "271ef89f",
   "metadata": {
    "execution": {
     "iopub.execute_input": "2021-06-23T00:36:40.652641Z",
     "iopub.status.busy": "2021-06-23T00:36:40.631817Z",
     "iopub.status.idle": "2021-06-23T00:36:40.678222Z",
     "shell.execute_reply": "2021-06-23T00:36:40.651409Z"
    },
    "papermill": {
     "duration": 0.166855,
     "end_time": "2021-06-23T00:36:40.678642",
     "exception": false,
     "start_time": "2021-06-23T00:36:40.511787",
     "status": "completed"
    },
    "tags": []
   },
   "outputs": [
    {
     "data": {
      "text/markdown": [
       "\n",
       "Feed location: https://transportation-forms.stanford.edu/google/google_transit.zip\n",
       "\n",
       "Metrics for the most recent published version of the feed:\n",
       "\n",
       "* Date published: 2021-05-11T11:34:58Z\n",
       "* Number of routes in any service: 13\n",
       "* Number of stops in service: 133\n"
      ],
      "text/plain": [
       "<IPython.core.display.Markdown object>"
      ]
     },
     "execution_count": 9,
     "metadata": {},
     "output_type": "execute_result"
    }
   ],
   "source": [
    "Markdown(f\"\"\"\n",
    "Feed location: {status[\"gtfs_schedule_url\"]}\n",
    "\n",
    "Metrics for the most recent published version of the feed:\n",
    "\n",
    "* Date published: {feed_info[\"feed_version\"]}\n",
    "* Number of routes in any service: {feed_info[\"n_routes\"]}\n",
    "* Number of stops in service: {feed_info[\"n_stops\"]}\n",
    "\"\"\")"
   ]
  },
  {
   "cell_type": "markdown",
   "id": "b15d2cc1",
   "metadata": {
    "papermill": {
     "duration": 0.168962,
     "end_time": "2021-06-23T00:36:40.986777",
     "exception": false,
     "start_time": "2021-06-23T00:36:40.817815",
     "status": "completed"
    },
    "tags": []
   },
   "source": [
    "## Aggregated Metrics for May"
   ]
  },
  {
   "cell_type": "code",
   "execution_count": 10,
   "id": "7470fc47",
   "metadata": {
    "execution": {
     "iopub.execute_input": "2021-06-23T00:36:41.137258Z",
     "iopub.status.busy": "2021-06-23T00:36:41.134977Z",
     "iopub.status.idle": "2021-06-23T00:36:41.139517Z",
     "shell.execute_reply": "2021-06-23T00:36:41.136232Z"
    },
    "papermill": {
     "duration": 0.080466,
     "end_time": "2021-06-23T00:36:41.139777",
     "exception": false,
     "start_time": "2021-06-23T00:36:41.059311",
     "status": "completed"
    },
    "tags": []
   },
   "outputs": [
    {
     "data": {
      "text/markdown": [
       "\n",
       "Days when the active feed was expired: 0\n"
      ],
      "text/plain": [
       "<IPython.core.display.Markdown object>"
      ]
     },
     "execution_count": 10,
     "metadata": {},
     "output_type": "execute_result"
    }
   ],
   "source": [
    "Markdown(f\"\"\"\n",
    "Days when the active feed was expired: {n_expired_days[\"n\"]}\n",
    "\"\"\")"
   ]
  },
  {
   "cell_type": "code",
   "execution_count": 11,
   "id": "606d48e2",
   "metadata": {
    "execution": {
     "iopub.execute_input": "2021-06-23T00:36:41.371566Z",
     "iopub.status.busy": "2021-06-23T00:36:41.370353Z",
     "iopub.status.idle": "2021-06-23T00:36:43.006390Z",
     "shell.execute_reply": "2021-06-23T00:36:43.003720Z"
    },
    "papermill": {
     "duration": 1.78143,
     "end_time": "2021-06-23T00:36:43.006676",
     "exception": false,
     "start_time": "2021-06-23T00:36:41.225246",
     "status": "completed"
    },
    "tags": []
   },
   "outputs": [
    {
     "data": {
      "image/png": "[encoded data removed]",
      "text/plain": [
       "<Figure size 640x480 with 1 Axes>"
      ]
     },
     "metadata": {},
     "output_type": "display_data"
    },
    {
     "data": {
      "text/plain": [
       "<ggplot: (313239610)>"
      ]
     },
     "execution_count": 11,
     "metadata": {},
     "output_type": "execute_result"
    }
   ],
   "source": [
    "(\n",
    "    tbl_daily_service_hours\n",
    "    >> ggplot(aes(\"service_date\", \"ttl_service_hours\"))\n",
    "    + geom_line()\n",
    "    + geom_point()\n",
    "    + theme(axis_text_x=element_text(angle=45, hjust=1))\n",
    "    + scale_x_datetime(date_breaks=\"1 week\")\n",
    "    + expand_limits(y=0)\n",
    ")"
   ]
  },
  {
   "cell_type": "markdown",
   "id": "e58171dc",
   "metadata": {
    "papermill": {
     "duration": 0.081679,
     "end_time": "2021-06-23T00:36:43.195426",
     "exception": false,
     "start_time": "2021-06-23T00:36:43.113747",
     "status": "completed"
    },
    "tags": []
   },
   "source": [
    "## Changes Since Previous Month"
   ]
  },
  {
   "cell_type": "code",
   "execution_count": 12,
   "id": "259ad818",
   "metadata": {
    "execution": {
     "iopub.execute_input": "2021-06-23T00:36:43.422319Z",
     "iopub.status.busy": "2021-06-23T00:36:43.421035Z",
     "iopub.status.idle": "2021-06-23T00:36:44.641406Z",
     "shell.execute_reply": "2021-06-23T00:36:44.642262Z"
    },
    "papermill": {
     "duration": 1.360666,
     "end_time": "2021-06-23T00:36:44.642492",
     "exception": false,
     "start_time": "2021-06-23T00:36:43.281826",
     "status": "completed"
    },
    "tags": []
   },
   "outputs": [
    {
     "data": {
      "image/png": "[encoded data removed]",
      "text/plain": [
       "<Figure size 640x480 with 1 Axes>"
      ]
     },
     "metadata": {},
     "output_type": "display_data"
    },
    {
     "data": {
      "text/plain": [
       "<ggplot: (313236980)>"
      ]
     },
     "execution_count": 12,
     "metadata": {},
     "output_type": "execute_result"
    }
   ],
   "source": [
    "(\n",
    "    pd.concat(\n",
    "        [\n",
    "            tbl_stops_changed >> mutate(kind=\"Stops\"),\n",
    "            tbl_routes_changed >> mutate(kind=\"Routes\"),\n",
    "        ]\n",
    "    )\n",
    "    >> ggplot(aes(\"kind\", \"n\", fill=\"status\"))\n",
    "    + geom_col()\n",
    "    + labs(x=\"Kind of ID\", y=\"Number of Changes\")\n",
    ")"
   ]
  },
  {
   "cell_type": "markdown",
   "id": "d92633c7",
   "metadata": {
    "papermill": {
     "duration": 0.038814,
     "end_time": "2021-06-23T00:36:44.724051",
     "exception": false,
     "start_time": "2021-06-23T00:36:44.685237",
     "status": "completed"
    },
    "tags": []
   },
   "source": [
    "### (Alternative version using percentages)"
   ]
  },
  {
   "cell_type": "code",
   "execution_count": 13,
   "id": "9dcd1a2f",
   "metadata": {
    "execution": {
     "iopub.execute_input": "2021-06-23T00:36:44.863665Z",
     "iopub.status.busy": "2021-06-23T00:36:44.856570Z",
     "iopub.status.idle": "2021-06-23T00:36:45.532290Z",
     "shell.execute_reply": "2021-06-23T00:36:45.533106Z"
    },
    "papermill": {
     "duration": 0.738487,
     "end_time": "2021-06-23T00:36:45.533381",
     "exception": false,
     "start_time": "2021-06-23T00:36:44.794894",
     "status": "completed"
    },
    "tags": []
   },
   "outputs": [
    {
     "data": {
      "image/png": "[encoded data removed]",
      "text/plain": [
       "<Figure size 640x480 with 1 Axes>"
      ]
     },
     "metadata": {},
     "output_type": "display_data"
    },
    {
     "data": {
      "text/plain": [
       "<ggplot: (313521866)>"
      ]
     },
     "execution_count": 13,
     "metadata": {},
     "output_type": "execute_result"
    }
   ],
   "source": [
    "(\n",
    "    pd.concat(\n",
    "        [\n",
    "            tbl_stops_changed >> mutate(kind=\"Stops\"),\n",
    "            tbl_routes_changed >> mutate(kind=\"Routes\"),\n",
    "        ]\n",
    "    )\n",
    "    >> ggplot(aes(\"kind\", \"percent\", fill=\"status\"))\n",
    "    + geom_col()\n",
    "    + labs(x=\"Kind of ID\", y=\"Percent of Changes\")\n",
    ")"
   ]
  },
  {
   "cell_type": "markdown",
   "id": "3283170b",
   "metadata": {
    "papermill": {
     "duration": 0.037682,
     "end_time": "2021-06-23T00:36:45.613261",
     "exception": false,
     "start_time": "2021-06-23T00:36:45.575579",
     "status": "completed"
    },
    "tags": []
   },
   "source": [
    "## Consistency with the California GTFS Minimum Guidelines for the feed downloaded\n"
   ]
  },
  {
   "cell_type": "code",
   "execution_count": 14,
   "id": "049169ed",
   "metadata": {
    "execution": {
     "iopub.execute_input": "2021-06-23T00:36:45.700903Z",
     "iopub.status.busy": "2021-06-23T00:36:45.700268Z",
     "iopub.status.idle": "2021-06-23T00:36:45.757956Z",
     "shell.execute_reply": "2021-06-23T00:36:45.758963Z"
    },
    "papermill": {
     "duration": 0.112575,
     "end_time": "2021-06-23T00:36:45.759261",
     "exception": false,
     "start_time": "2021-06-23T00:36:45.646686",
     "status": "completed"
    },
    "tags": []
   },
   "outputs": [
    {
     "data": {
      "text/html": [
       "<div>\n",
       "<style scoped>\n",
       "    .dataframe tbody tr th:only-of-type {\n",
       "        vertical-align: middle;\n",
       "    }\n",
       "\n",
       "    .dataframe tbody tr th {\n",
       "        vertical-align: top;\n",
       "    }\n",
       "\n",
       "    .dataframe thead th {\n",
       "        text-align: right;\n",
       "    }\n",
       "</style>\n",
       "<table border=\"1\" class=\"dataframe\">\n",
       "  <thead>\n",
       "    <tr style=\"text-align: right;\">\n",
       "      <th></th>\n",
       "      <th>category</th>\n",
       "      <th>name</th>\n",
       "      <th>2021-05-02</th>\n",
       "      <th>2021-05-09</th>\n",
       "      <th>2021-05-16</th>\n",
       "    </tr>\n",
       "  </thead>\n",
       "  <tbody>\n",
       "    <tr>\n",
       "      <th>5</th>\n",
       "      <td>Visual display</td>\n",
       "      <td>shapes.txt</td>\n",
       "      <td>✅</td>\n",
       "      <td>✅</td>\n",
       "      <td>✅</td>\n",
       "    </tr>\n",
       "    <tr>\n",
       "      <th>3</th>\n",
       "      <td>Navigation</td>\n",
       "      <td>levels.txt</td>\n",
       "      <td></td>\n",
       "      <td></td>\n",
       "      <td></td>\n",
       "    </tr>\n",
       "    <tr>\n",
       "      <th>4</th>\n",
       "      <td>Navigation</td>\n",
       "      <td>pathways.txt</td>\n",
       "      <td></td>\n",
       "      <td></td>\n",
       "      <td></td>\n",
       "    </tr>\n",
       "    <tr>\n",
       "      <th>0</th>\n",
       "      <td>Fares</td>\n",
       "      <td>fare_leg_rules</td>\n",
       "      <td></td>\n",
       "      <td></td>\n",
       "      <td></td>\n",
       "    </tr>\n",
       "    <tr>\n",
       "      <th>1</th>\n",
       "      <td>Fares</td>\n",
       "      <td>fare_rules.txt</td>\n",
       "      <td>✅</td>\n",
       "      <td>✅</td>\n",
       "      <td>✅</td>\n",
       "    </tr>\n",
       "    <tr>\n",
       "      <th>2</th>\n",
       "      <td>Technical contacts</td>\n",
       "      <td>feed_info.txt</td>\n",
       "      <td>✅</td>\n",
       "      <td>✅</td>\n",
       "      <td>✅</td>\n",
       "    </tr>\n",
       "  </tbody>\n",
       "</table>\n",
       "</div>"
      ],
      "text/plain": [
       "             category            name 2021-05-02 2021-05-09 2021-05-16\n",
       "5      Visual display      shapes.txt          ✅          ✅          ✅\n",
       "3          Navigation      levels.txt                                 \n",
       "4          Navigation    pathways.txt                                 \n",
       "0               Fares  fare_leg_rules                                 \n",
       "1               Fares  fare_rules.txt          ✅          ✅          ✅\n",
       "2  Technical contacts   feed_info.txt          ✅          ✅          ✅"
      ]
     },
     "execution_count": 14,
     "metadata": {},
     "output_type": "execute_result"
    }
   ],
   "source": [
    "tbl_file_check"
   ]
  },
  {
   "cell_type": "markdown",
   "id": "6fb4814b",
   "metadata": {
    "papermill": {
     "duration": 0.044436,
     "end_time": "2021-06-23T00:36:45.842555",
     "exception": false,
     "start_time": "2021-06-23T00:36:45.798119",
     "status": "completed"
    },
    "tags": []
   },
   "source": [
    "### Validation Errors Observed"
   ]
  },
  {
   "cell_type": "code",
   "execution_count": 15,
   "id": "c1a7530f",
   "metadata": {
    "execution": {
     "iopub.execute_input": "2021-06-23T00:36:45.926677Z",
     "iopub.status.busy": "2021-06-23T00:36:45.925547Z",
     "iopub.status.idle": "2021-06-23T00:36:45.929792Z",
     "shell.execute_reply": "2021-06-23T00:36:45.930591Z"
    },
    "papermill": {
     "duration": 0.049744,
     "end_time": "2021-06-23T00:36:45.930882",
     "exception": false,
     "start_time": "2021-06-23T00:36:45.881138",
     "status": "completed"
    },
    "tags": []
   },
   "outputs": [
    {
     "data": {
      "text/html": [
       "<div>\n",
       "<style scoped>\n",
       "    .dataframe tbody tr th:only-of-type {\n",
       "        vertical-align: middle;\n",
       "    }\n",
       "\n",
       "    .dataframe tbody tr th {\n",
       "        vertical-align: top;\n",
       "    }\n",
       "\n",
       "    .dataframe thead th {\n",
       "        text-align: right;\n",
       "    }\n",
       "</style>\n",
       "<table border=\"1\" class=\"dataframe\">\n",
       "  <thead>\n",
       "    <tr style=\"text-align: right;\">\n",
       "      <th></th>\n",
       "      <th>code</th>\n",
       "      <th>severity</th>\n",
       "      <th>n</th>\n",
       "    </tr>\n",
       "  </thead>\n",
       "  <tbody>\n",
       "    <tr>\n",
       "      <th>0</th>\n",
       "      <td>decreasing_or_equal_shape_distance</td>\n",
       "      <td>ERROR</td>\n",
       "      <td>162</td>\n",
       "    </tr>\n",
       "  </tbody>\n",
       "</table>\n",
       "</div>"
      ],
      "text/plain": [
       "                                 code severity    n\n",
       "0  decreasing_or_equal_shape_distance    ERROR  162"
      ]
     },
     "execution_count": 15,
     "metadata": {},
     "output_type": "execute_result"
    }
   ],
   "source": [
    "tbl_validation_notices"
   ]
  }
 ],
 "metadata": {
  "kernelspec": {
   "display_name": "venv-calitp-py",
   "language": "python",
   "name": "venv-calitp-py"
  },
  "language_info": {
   "codemirror_mode": {
    "name": "ipython",
    "version": 3
   },
   "file_extension": ".py",
   "mimetype": "text/x-python",
   "name": "python",
   "nbconvert_exporter": "python",
   "pygments_lexer": "ipython3",
   "version": "3.8.5"
  },
  "papermill": {
   "default_parameters": {},
   "duration": 50.40524,
   "end_time": "2021-06-23T00:36:48.413334",
   "environment_variables": {},
   "exception": null,
   "input_path": "report.ipynb",
   "output_path": "output/324/report.ipynb",
   "parameters": {
    "CALITP_ITP_ID": 324,
    "CALITP_URL_NUMBER": 0
   },
   "start_time": "2021-06-23T00:35:58.008094",
   "version": "2.3.3"
  }
 },
 "nbformat": 4,
 "nbformat_minor": 5
}