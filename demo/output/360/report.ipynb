{
 "cells": [
  {
   "cell_type": "markdown",
   "id": "3a5aec2b",
   "metadata": {
    "papermill": {
     "duration": 0.024027,
     "end_time": "2021-06-23T00:37:48.078560",
     "exception": false,
     "start_time": "2021-06-23T00:37:48.054533",
     "status": "completed"
    },
    "tags": [
     "hide"
    ]
   },
   "source": [
    "# Setup"
   ]
  },
  {
   "cell_type": "code",
   "execution_count": 1,
   "id": "4bd58a1a",
   "metadata": {
    "execution": {
     "iopub.execute_input": "2021-06-23T00:37:48.147084Z",
     "iopub.status.busy": "2021-06-23T00:37:48.145047Z",
     "iopub.status.idle": "2021-06-23T00:37:56.984291Z",
     "shell.execute_reply": "2021-06-23T00:37:56.984856Z"
    },
    "papermill": {
     "duration": 8.876552,
     "end_time": "2021-06-23T00:37:56.985109",
     "exception": false,
     "start_time": "2021-06-23T00:37:48.108557",
     "status": "completed"
    },
    "tags": [
     "hide"
    ]
   },
   "outputs": [],
   "source": [
    "import pandas as pd\n",
    "\n",
    "from io import StringIO\n",
    "from calitp.tables import tbl\n",
    "from datetime import date\n",
    "from siuba import *\n",
    "from plotnine import *\n",
    "\n",
    "\n",
    "START_DATE = \"2021-05-01\"\n",
    "END_DATE = \"2021-06-01\"\n",
    "DATE_TODAY=date.today()\n",
    "\n",
    "WEEK_MARKERS = pd.date_range(START_DATE, END_DATE, freq=\"W\").astype(str).tolist()"
   ]
  },
  {
   "cell_type": "code",
   "execution_count": 2,
   "id": "119448f3",
   "metadata": {
    "execution": {
     "iopub.execute_input": "2021-06-23T00:37:57.038681Z",
     "iopub.status.busy": "2021-06-23T00:37:57.035717Z",
     "iopub.status.idle": "2021-06-23T00:37:57.059527Z",
     "shell.execute_reply": "2021-06-23T00:37:57.061178Z"
    },
    "papermill": {
     "duration": 0.05277,
     "end_time": "2021-06-23T00:37:57.061518",
     "exception": false,
     "start_time": "2021-06-23T00:37:57.008748",
     "status": "completed"
    },
    "tags": [
     "parameters",
     "hide"
    ]
   },
   "outputs": [],
   "source": [
    "CALITP_ITP_ID=389\n",
    "#CALITP_ITP_ID=45\n",
    "CALITP_URL_NUMBER=0"
   ]
  },
  {
   "cell_type": "code",
   "execution_count": 3,
   "id": "ea67f9ae",
   "metadata": {
    "execution": {
     "iopub.execute_input": "2021-06-23T00:37:57.115763Z",
     "iopub.status.busy": "2021-06-23T00:37:57.114391Z",
     "iopub.status.idle": "2021-06-23T00:37:57.120023Z",
     "shell.execute_reply": "2021-06-23T00:37:57.120553Z"
    },
    "papermill": {
     "duration": 0.032005,
     "end_time": "2021-06-23T00:37:57.120755",
     "exception": false,
     "start_time": "2021-06-23T00:37:57.088750",
     "status": "completed"
    },
    "tags": [
     "injected-parameters"
    ]
   },
   "outputs": [],
   "source": [
    "# Parameters\n",
    "CALITP_ITP_ID = 360\n",
    "CALITP_URL_NUMBER = 0\n"
   ]
  },
  {
   "cell_type": "code",
   "execution_count": 4,
   "id": "2c0d451a",
   "metadata": {
    "execution": {
     "iopub.execute_input": "2021-06-23T00:37:57.246545Z",
     "iopub.status.busy": "2021-06-23T00:37:57.245370Z",
     "iopub.status.idle": "2021-06-23T00:37:57.258954Z",
     "shell.execute_reply": "2021-06-23T00:37:57.259894Z"
    },
    "papermill": {
     "duration": 0.109958,
     "end_time": "2021-06-23T00:37:57.261184",
     "exception": false,
     "start_time": "2021-06-23T00:37:57.151226",
     "status": "completed"
    },
    "tags": [
     "hide"
    ]
   },
   "outputs": [],
   "source": [
    "# Convenience functions ----\n",
    "\n",
    "filter_start = filter(\n",
    "    _.calitp_extracted_at <= START_DATE,\n",
    "    _.calitp_deleted_at.fillna(\"2099-01-01\") > START_DATE,\n",
    ")\n",
    "\n",
    "filter_end = filter(\n",
    "    _.calitp_extracted_at <= END_DATE,\n",
    "    _.calitp_deleted_at.fillna(\"2099-01-01\") > END_DATE,\n",
    ")\n",
    "\n",
    "filter_itp = filter(\n",
    "    _.calitp_itp_id == CALITP_ITP_ID, _.calitp_url_number == CALITP_URL_NUMBER\n",
    ")\n",
    "\n",
    "collect_to_dict = (\n",
    "    collect()\n",
    "    >> pipe(_.to_dict(orient=\"records\")[0])\n",
    ")\n",
    "\n",
    "\n",
    "select_rm_calitp = select(\n",
    "    -_.calitp_itp_id,\n",
    "    -_.calitp_url_number,\n",
    "    -_.calitp_hash,\n",
    "    -_.calitp_extracted_at,\n",
    "    -_.calitp_deleted_at,\n",
    ")\n",
    "\n",
    "\n",
    "def query_id_changes(start_table, end_table, id_vars):\n",
    "    \"\"\"Calculate id variables that are removed, added, or unchanged between tables.\n",
    "    \n",
    "    It works by adding a special column to each table, performing a full join,\n",
    "    then checking where the special column is null.\n",
    "    \"\"\"\n",
    "    sym_id_vars = [_[k] for k in id_vars]\n",
    "\n",
    "    is_in_start = start_table >> select(*id_vars) >> mutate(is_in_start=True)\n",
    "    is_in_end = end_table >> select(*id_vars) >> mutate(is_in_end=True)\n",
    "\n",
    "    baseline = start_table >> count(*id_vars) >> rename(n_baseline=\"n\")\n",
    "    tallies = (\n",
    "        is_in_start\n",
    "        >> full_join(_, is_in_end, id_vars)\n",
    "        >> count(*sym_id_vars, _.is_in_start, _.is_in_end)\n",
    "        >> mutate(\n",
    "            status=case_when(\n",
    "                _,\n",
    "                {\n",
    "                    _.is_in_end.isna(): \"Removed\",\n",
    "                    _.is_in_start.isna(): \"Added\",\n",
    "                    True: \"Unchanged\",\n",
    "                },\n",
    "            )\n",
    "        )\n",
    "        >> count(*sym_id_vars[:-1], _.status)\n",
    "        >> group_by(*sym_id_vars[:-1])\n",
    "        >> mutate(percent=_.n / _.n.sum())\n",
    "    )\n",
    "\n",
    "    return tallies"
   ]
  },
  {
   "cell_type": "code",
   "execution_count": 5,
   "id": "cca75cb5",
   "metadata": {
    "execution": {
     "iopub.execute_input": "2021-06-23T00:37:57.454970Z",
     "iopub.status.busy": "2021-06-23T00:37:57.399670Z",
     "iopub.status.idle": "2021-06-23T00:38:20.785942Z",
     "shell.execute_reply": "2021-06-23T00:38:20.785124Z"
    },
    "papermill": {
     "duration": 23.454663,
     "end_time": "2021-06-23T00:38:20.786148",
     "exception": false,
     "start_time": "2021-06-23T00:37:57.331485",
     "status": "completed"
    },
    "tags": [
     "hide"
    ]
   },
   "outputs": [],
   "source": [
    "# Data ====\n",
    "# 1. High level feed info ----\n",
    "feed_info = (\n",
    "    tbl.gtfs_schedule_type2.feed_info()\n",
    "    >> filter_end\n",
    "    >> filter_itp\n",
    "    >> select_rm_calitp\n",
    "    >> collect_to_dict\n",
    ")\n",
    "\n",
    "_n_routes = (\n",
    "    tbl.gtfs_schedule_type2.routes() >> filter_end >> filter_itp >> count() >> collect()\n",
    ")\n",
    "_n_stops = (\n",
    "    tbl.gtfs_schedule_type2.stops() >> filter_end >> filter_itp >> count() >> collect()\n",
    ")\n",
    "\n",
    "feed_info[\"n_routes\"] = int(_n_routes.loc[0, \"n\"])\n",
    "feed_info[\"n_stops\"] = int(_n_stops.loc[0, \"n\"])\n",
    "\n",
    "status = (\n",
    "    tbl.views.gtfs_status_latest()\n",
    "    >> filter(_.itp_id == CALITP_ITP_ID, _.url_number == CALITP_URL_NUMBER)\n",
    "    >> select(-_.url_number, -_.status)\n",
    "    >> select_rm_calitp\n",
    "    >> collect_to_dict\n",
    ")\n",
    "\n",
    "# 2. Monthly metrics ----\n",
    "# Service hours per day. Note that the queried table calculates service\n",
    "# hours per service id, so we need to sum across service ids for the day\n",
    "_cross_cal = (\n",
    "    tbl.views.dim_date()\n",
    "    >> filter(_.full_date.between(START_DATE, END_DATE))\n",
    "    >> select(_.service_date == _.full_date)\n",
    ")\n",
    "\n",
    "tbl_daily_service_hours = (\n",
    "    tbl.views.gtfs_schedule_service_daily_metrics()\n",
    "    >> filter_itp\n",
    "    >> filter(_.service_date.between(START_DATE, END_DATE))\n",
    "    >> right_join(_, _cross_cal, [\"service_date\"])\n",
    "    >> collect()\n",
    "    >> group_by(_.service_date)\n",
    "    >> summarize(ttl_service_hours=(_.last_arrival_ts.max() - _.first_departure_ts.min()) / 3600)\n",
    "    >> mutate(\n",
    "        ttl_service_hours=_.ttl_service_hours.astype(float).round(2),\n",
    "        service_date=_.service_date.astype(\"datetime64[ns]\"),\n",
    "    )\n",
    ")\n",
    "\n",
    "# number of days where a feed did not have any trips in service\n",
    "n_expired_days = (\n",
    "    tbl_daily_service_hours >> filter(_.ttl_service_hours.isna())\n",
    "    >> pipe(lambda d: {\"n\": d.shape[0]})\n",
    ")\n",
    "\n",
    "# 3. Stop and Route ID Changes ----\n",
    "\n",
    "_tbl_stops_start = tbl.gtfs_schedule_type2.stops() >> filter_itp >> filter_start\n",
    "_tbl_stops_end = tbl.gtfs_schedule_type2.stops() >> filter_itp >> filter_end\n",
    "tbl_stops_changed = (\n",
    "    query_id_changes(_tbl_stops_start, _tbl_stops_end, [\"stop_id\"]) >> collect()\n",
    ")\n",
    "\n",
    "_tbl_routes_start = tbl.gtfs_schedule_type2.routes() >> filter_start\n",
    "_tbl_routes_end = tbl.gtfs_schedule_type2.routes() >> filter_end\n",
    "tbl_routes_changed = (\n",
    "    query_id_changes(_tbl_routes_start, _tbl_routes_end, [\"route_id\"]) >> collect()\n",
    ")"
   ]
  },
  {
   "cell_type": "code",
   "execution_count": 6,
   "id": "35b5f1a7",
   "metadata": {
    "execution": {
     "iopub.execute_input": "2021-06-23T00:38:20.860463Z",
     "iopub.status.busy": "2021-06-23T00:38:20.858968Z",
     "iopub.status.idle": "2021-06-23T00:38:26.434020Z",
     "shell.execute_reply": "2021-06-23T00:38:26.435002Z"
    },
    "papermill": {
     "duration": 5.625413,
     "end_time": "2021-06-23T00:38:26.435460",
     "exception": false,
     "start_time": "2021-06-23T00:38:20.810047",
     "status": "completed"
    },
    "tags": [
     "hide"
    ]
   },
   "outputs": [],
   "source": [
    "# 4. Feed files being checked for ----\n",
    "\n",
    "file_categories = pd.DataFrame(\n",
    "    {\n",
    "        \"shapes.txt\": \"Visual display\",\n",
    "        \"pathways.txt\": \"Navigation\",\n",
    "        \"levels.txt\": \"Navigation\",\n",
    "        \"fare_rules.txt\": \"Fares\",\n",
    "        \"fare_leg_rules\": \"Fares\",\n",
    "        \"feed_info.txt\": \"Technical contacts\",\n",
    "    }.items(),\n",
    "    columns=[\"name\", \"category\"],\n",
    ")\n",
    "\n",
    "importance = [\"Visual display\", \"Navigation\", \"Fares\", \"Technical contacts\"]\n",
    "\n",
    "tbl_file_check = (\n",
    "    tbl.gtfs_schedule_history.calitp_files_updates()\n",
    "    >> filter_itp\n",
    "    >> filter(_.calitp_extracted_at.isin(WEEK_MARKERS))\n",
    "    >> select(_.name, _.calitp_extracted_at)\n",
    "    >> collect()\n",
    "    >> right_join(_, file_categories, [\"name\"])\n",
    "    >> mutate(\n",
    "        calitp_extracted_at=_.calitp_extracted_at.fillna(\"missing\").astype(str),\n",
    "        success=\"✅\",\n",
    "    )\n",
    "    >> spread(_.calitp_extracted_at, _.success)\n",
    "    >> select(-_.missing)\n",
    "    >> arrange(_.category.apply(importance.index))\n",
    "    >> select(_.category, _.contains(\"\"))\n",
    "    >> pipe(_.fillna(\"\"))\n",
    ")\n",
    "\n",
    "tbl_validation_notices = (\n",
    "    tbl.views.validation_notices()\n",
    "    >> filter_itp\n",
    "    >> filter(_.severity == \"ERROR\")\n",
    "    >> count(_.code, _.severity)\n",
    "    >> collect()\n",
    ")"
   ]
  },
  {
   "cell_type": "markdown",
   "id": "909d6b70",
   "metadata": {
    "papermill": {
     "duration": 0.076963,
     "end_time": "2021-06-23T00:38:26.574178",
     "exception": false,
     "start_time": "2021-06-23T00:38:26.497215",
     "status": "completed"
    },
    "tags": [
     "hide"
    ]
   },
   "source": [
    "## Dump data"
   ]
  },
  {
   "cell_type": "code",
   "execution_count": 7,
   "id": "3a03cff4",
   "metadata": {
    "execution": {
     "iopub.execute_input": "2021-06-23T00:38:26.747901Z",
     "iopub.status.busy": "2021-06-23T00:38:26.746472Z",
     "iopub.status.idle": "2021-06-23T00:38:26.779110Z",
     "shell.execute_reply": "2021-06-23T00:38:26.778530Z"
    },
    "papermill": {
     "duration": 0.164421,
     "end_time": "2021-06-23T00:38:26.779288",
     "exception": false,
     "start_time": "2021-06-23T00:38:26.614867",
     "status": "completed"
    },
    "tags": [
     "hide"
    ]
   },
   "outputs": [],
   "source": [
    "import json\n",
    "import shutil\n",
    "\n",
    "from pathlib import Path\n",
    "\n",
    "out_dir = Path(f\"output/{CALITP_ITP_ID}_{CALITP_URL_NUMBER}/data\")\n",
    "out_dir.mkdir(parents=True, exist_ok=True)\n",
    "\n",
    "json.dump(feed_info, open(out_dir / \"1_feed_info.json\", \"w\"))\n",
    "json.dump(status, open(out_dir / \"1_status.json\", \"w\"))\n",
    "\n",
    "tbl_daily_service_hours.to_json(out_dir / \"2_daily_service_hours.json\", orient=\"records\")\n",
    "json.dump(n_expired_days, open(out_dir / \"2_n_expired_days.json\", \"w\"))\n",
    "\n",
    "tbl_stops_changed.to_json(out_dir / \"3_stops_changed.json\", orient=\"records\")\n",
    "tbl_routes_changed.to_json(out_dir / \"3_routes_changed.json\", orient=\"records\")\n",
    "tbl_file_check.to_json(out_dir / \"4_file_check.json\", orient=\"records\")\n",
    "tbl_validation_notices.to_json(out_dir / \"4_validation_notices.json\", orient=\"records\")\n"
   ]
  },
  {
   "cell_type": "markdown",
   "id": "8704c2fc",
   "metadata": {
    "papermill": {
     "duration": 0.125483,
     "end_time": "2021-06-23T00:38:27.031550",
     "exception": false,
     "start_time": "2021-06-23T00:38:26.906067",
     "status": "completed"
    },
    "tags": []
   },
   "source": [
    "# GTFS Schedule Report"
   ]
  },
  {
   "cell_type": "markdown",
   "id": "74c5558e",
   "metadata": {
    "papermill": {
     "duration": 0.053776,
     "end_time": "2021-06-23T00:38:27.206172",
     "exception": false,
     "start_time": "2021-06-23T00:38:27.152396",
     "status": "completed"
    },
    "tags": []
   },
   "source": [
    "# Example Juniper Report"
   ]
  },
  {
   "cell_type": "code",
   "execution_count": 8,
   "id": "3c1f9411",
   "metadata": {
    "execution": {
     "iopub.execute_input": "2021-06-23T00:38:27.433486Z",
     "iopub.status.busy": "2021-06-23T00:38:27.425872Z",
     "iopub.status.idle": "2021-06-23T00:38:27.435902Z",
     "shell.execute_reply": "2021-06-23T00:38:27.432602Z"
    },
    "papermill": {
     "duration": 0.108709,
     "end_time": "2021-06-23T00:38:27.436141",
     "exception": false,
     "start_time": "2021-06-23T00:38:27.327432",
     "status": "completed"
    },
    "tags": []
   },
   "outputs": [
    {
     "data": {
      "text/markdown": [
       "\n",
       "Transit provider name: Trillium Solutions, Inc.\n",
       "\n",
       "Date generated: 2021-06-22\n"
      ],
      "text/plain": [
       "<IPython.core.display.Markdown object>"
      ]
     },
     "execution_count": 8,
     "metadata": {},
     "output_type": "execute_result"
    }
   ],
   "source": [
    "from IPython.display import Markdown\n",
    "\n",
    "Markdown(f\"\"\"\n",
    "Transit provider name: {feed_info[\"feed_publisher_name\"]}\n",
    "\n",
    "Date generated: {DATE_TODAY}\n",
    "\"\"\")"
   ]
  },
  {
   "cell_type": "markdown",
   "id": "5db09ac4",
   "metadata": {
    "papermill": {
     "duration": 0.067395,
     "end_time": "2021-06-23T00:38:27.690762",
     "exception": false,
     "start_time": "2021-06-23T00:38:27.623367",
     "status": "completed"
    },
    "tags": []
   },
   "source": [
    "This is a monthly report, generated by the California Integrated Travel Project (Cal-ITP), summarizing issues discovered by MobilityData’s GTFS Validator. This report is available for viewing by the general public to support continuous improvement of GTFS data and the experience of transit passengers. "
   ]
  },
  {
   "cell_type": "markdown",
   "id": "70334668",
   "metadata": {
    "papermill": {
     "duration": 0.077856,
     "end_time": "2021-06-23T00:38:27.921174",
     "exception": false,
     "start_time": "2021-06-23T00:38:27.843318",
     "status": "completed"
    },
    "tags": []
   },
   "source": [
    "## Overview"
   ]
  },
  {
   "cell_type": "code",
   "execution_count": 9,
   "id": "7a492f55",
   "metadata": {
    "execution": {
     "iopub.execute_input": "2021-06-23T00:38:28.231900Z",
     "iopub.status.busy": "2021-06-23T00:38:28.230717Z",
     "iopub.status.idle": "2021-06-23T00:38:28.240642Z",
     "shell.execute_reply": "2021-06-23T00:38:28.241324Z"
    },
    "papermill": {
     "duration": 0.235282,
     "end_time": "2021-06-23T00:38:28.241551",
     "exception": false,
     "start_time": "2021-06-23T00:38:28.006269",
     "status": "completed"
    },
    "tags": []
   },
   "outputs": [
    {
     "data": {
      "text/markdown": [
       "\n",
       "Feed location: http://data.trilliumtransit.com/gtfs/victorville-ca-us/victorville-ca-us.zip\n",
       "\n",
       "Metrics for the most recent published version of the feed:\n",
       "\n",
       "* Date published: UTC: 10-May-2021 20:19\n",
       "* Number of routes in any service: 33\n",
       "* Number of stops in service: 995\n"
      ],
      "text/plain": [
       "<IPython.core.display.Markdown object>"
      ]
     },
     "execution_count": 9,
     "metadata": {},
     "output_type": "execute_result"
    }
   ],
   "source": [
    "Markdown(f\"\"\"\n",
    "Feed location: {status[\"gtfs_schedule_url\"]}\n",
    "\n",
    "Metrics for the most recent published version of the feed:\n",
    "\n",
    "* Date published: {feed_info[\"feed_version\"]}\n",
    "* Number of routes in any service: {feed_info[\"n_routes\"]}\n",
    "* Number of stops in service: {feed_info[\"n_stops\"]}\n",
    "\"\"\")"
   ]
  },
  {
   "cell_type": "markdown",
   "id": "701f9b9e",
   "metadata": {
    "papermill": {
     "duration": 0.13618,
     "end_time": "2021-06-23T00:38:28.471874",
     "exception": false,
     "start_time": "2021-06-23T00:38:28.335694",
     "status": "completed"
    },
    "tags": []
   },
   "source": [
    "## Aggregated Metrics for May"
   ]
  },
  {
   "cell_type": "code",
   "execution_count": 10,
   "id": "af411a87",
   "metadata": {
    "execution": {
     "iopub.execute_input": "2021-06-23T00:38:28.655561Z",
     "iopub.status.busy": "2021-06-23T00:38:28.654385Z",
     "iopub.status.idle": "2021-06-23T00:38:38.019359Z",
     "shell.execute_reply": "2021-06-23T00:38:38.020047Z"
    },
    "papermill": {
     "duration": 9.443946,
     "end_time": "2021-06-23T00:38:38.020378",
     "exception": false,
     "start_time": "2021-06-23T00:38:28.576432",
     "status": "completed"
    },
    "tags": []
   },
   "outputs": [
    {
     "name": "stdout",
     "output_type": "stream",
     "text": [
      "The history saving thread hit an unexpected error (OperationalError('database is locked')).History will not be written to the database.\n"
     ]
    },
    {
     "data": {
      "text/markdown": [
       "\n",
       "Days when the active feed was expired: 13\n"
      ],
      "text/plain": [
       "<IPython.core.display.Markdown object>"
      ]
     },
     "execution_count": 10,
     "metadata": {},
     "output_type": "execute_result"
    }
   ],
   "source": [
    "Markdown(f\"\"\"\n",
    "Days when the active feed was expired: {n_expired_days[\"n\"]}\n",
    "\"\"\")"
   ]
  },
  {
   "cell_type": "code",
   "execution_count": 11,
   "id": "019553ba",
   "metadata": {
    "execution": {
     "iopub.execute_input": "2021-06-23T00:38:38.185892Z",
     "iopub.status.busy": "2021-06-23T00:38:38.184934Z",
     "iopub.status.idle": "2021-06-23T00:38:39.381937Z",
     "shell.execute_reply": "2021-06-23T00:38:39.382727Z"
    },
    "papermill": {
     "duration": 1.331567,
     "end_time": "2021-06-23T00:38:39.382990",
     "exception": false,
     "start_time": "2021-06-23T00:38:38.051423",
     "status": "completed"
    },
    "tags": []
   },
   "outputs": [
    {
     "name": "stderr",
     "output_type": "stream",
     "text": [
      "/Users/machow/.virtualenvs/calitp-py/lib/python3.8/site-packages/plotnine/geoms/geom_path.py:75: PlotnineWarning: geom_path: Removed 12 rows containing missing values.\n",
      "/Users/machow/.virtualenvs/calitp-py/lib/python3.8/site-packages/plotnine/layer.py:401: PlotnineWarning: geom_point : Removed 13 rows containing missing values.\n"
     ]
    },
    {
     "data": {
      "image/png": "[encoded data removed]",
      "text/plain": [
       "<Figure size 640x480 with 1 Axes>"
      ]
     },
     "metadata": {},
     "output_type": "display_data"
    },
    {
     "data": {
      "text/plain": [
       "<ggplot: (302073284)>"
      ]
     },
     "execution_count": 11,
     "metadata": {},
     "output_type": "execute_result"
    }
   ],
   "source": [
    "(\n",
    "    tbl_daily_service_hours\n",
    "    >> ggplot(aes(\"service_date\", \"ttl_service_hours\"))\n",
    "    + geom_line()\n",
    "    + geom_point()\n",
    "    + theme(axis_text_x=element_text(angle=45, hjust=1))\n",
    "    + scale_x_datetime(date_breaks=\"1 week\")\n",
    "    + expand_limits(y=0)\n",
    ")"
   ]
  },
  {
   "cell_type": "markdown",
   "id": "deff4da8",
   "metadata": {
    "papermill": {
     "duration": 0.026382,
     "end_time": "2021-06-23T00:38:39.445953",
     "exception": false,
     "start_time": "2021-06-23T00:38:39.419571",
     "status": "completed"
    },
    "tags": []
   },
   "source": [
    "## Changes Since Previous Month"
   ]
  },
  {
   "cell_type": "code",
   "execution_count": 12,
   "id": "39ca457a",
   "metadata": {
    "execution": {
     "iopub.execute_input": "2021-06-23T00:38:39.523577Z",
     "iopub.status.busy": "2021-06-23T00:38:39.512009Z",
     "iopub.status.idle": "2021-06-23T00:38:39.965008Z",
     "shell.execute_reply": "2021-06-23T00:38:39.966028Z"
    },
    "papermill": {
     "duration": 0.49682,
     "end_time": "2021-06-23T00:38:39.966334",
     "exception": false,
     "start_time": "2021-06-23T00:38:39.469514",
     "status": "completed"
    },
    "tags": []
   },
   "outputs": [
    {
     "data": {
      "image/png": "[encoded data removed]",
      "text/plain": [
       "<Figure size 640x480 with 1 Axes>"
      ]
     },
     "metadata": {},
     "output_type": "display_data"
    },
    {
     "data": {
      "text/plain": [
       "<ggplot: (302106326)>"
      ]
     },
     "execution_count": 12,
     "metadata": {},
     "output_type": "execute_result"
    }
   ],
   "source": [
    "(\n",
    "    pd.concat(\n",
    "        [\n",
    "            tbl_stops_changed >> mutate(kind=\"Stops\"),\n",
    "            tbl_routes_changed >> mutate(kind=\"Routes\"),\n",
    "        ]\n",
    "    )\n",
    "    >> ggplot(aes(\"kind\", \"n\", fill=\"status\"))\n",
    "    + geom_col()\n",
    "    + labs(x=\"Kind of ID\", y=\"Number of Changes\")\n",
    ")"
   ]
  },
  {
   "cell_type": "markdown",
   "id": "ff714c66",
   "metadata": {
    "papermill": {
     "duration": 0.037948,
     "end_time": "2021-06-23T00:38:40.037591",
     "exception": false,
     "start_time": "2021-06-23T00:38:39.999643",
     "status": "completed"
    },
    "tags": []
   },
   "source": [
    "### (Alternative version using percentages)"
   ]
  },
  {
   "cell_type": "code",
   "execution_count": 13,
   "id": "265493ed",
   "metadata": {
    "execution": {
     "iopub.execute_input": "2021-06-23T00:38:40.118567Z",
     "iopub.status.busy": "2021-06-23T00:38:40.117308Z",
     "iopub.status.idle": "2021-06-23T00:38:40.599897Z",
     "shell.execute_reply": "2021-06-23T00:38:40.600597Z"
    },
    "papermill": {
     "duration": 0.526693,
     "end_time": "2021-06-23T00:38:40.601206",
     "exception": false,
     "start_time": "2021-06-23T00:38:40.074513",
     "status": "completed"
    },
    "tags": []
   },
   "outputs": [
    {
     "data": {
      "image/png": "[encoded data removed]",
      "text/plain": [
       "<Figure size 640x480 with 1 Axes>"
      ]
     },
     "metadata": {},
     "output_type": "display_data"
    },
    {
     "data": {
      "text/plain": [
       "<ggplot: (302019103)>"
      ]
     },
     "execution_count": 13,
     "metadata": {},
     "output_type": "execute_result"
    }
   ],
   "source": [
    "(\n",
    "    pd.concat(\n",
    "        [\n",
    "            tbl_stops_changed >> mutate(kind=\"Stops\"),\n",
    "            tbl_routes_changed >> mutate(kind=\"Routes\"),\n",
    "        ]\n",
    "    )\n",
    "    >> ggplot(aes(\"kind\", \"percent\", fill=\"status\"))\n",
    "    + geom_col()\n",
    "    + labs(x=\"Kind of ID\", y=\"Percent of Changes\")\n",
    ")"
   ]
  },
  {
   "cell_type": "markdown",
   "id": "f32fe0bd",
   "metadata": {
    "papermill": {
     "duration": 0.068413,
     "end_time": "2021-06-23T00:38:40.708981",
     "exception": false,
     "start_time": "2021-06-23T00:38:40.640568",
     "status": "completed"
    },
    "tags": []
   },
   "source": [
    "## Consistency with the California GTFS Minimum Guidelines for the feed downloaded\n"
   ]
  },
  {
   "cell_type": "code",
   "execution_count": 14,
   "id": "d86e4d54",
   "metadata": {
    "execution": {
     "iopub.execute_input": "2021-06-23T00:38:40.833498Z",
     "iopub.status.busy": "2021-06-23T00:38:40.832358Z",
     "iopub.status.idle": "2021-06-23T00:38:40.843303Z",
     "shell.execute_reply": "2021-06-23T00:38:40.844297Z"
    },
    "papermill": {
     "duration": 0.099409,
     "end_time": "2021-06-23T00:38:40.844652",
     "exception": false,
     "start_time": "2021-06-23T00:38:40.745243",
     "status": "completed"
    },
    "tags": []
   },
   "outputs": [
    {
     "data": {
      "text/html": [
       "<div>\n",
       "<style scoped>\n",
       "    .dataframe tbody tr th:only-of-type {\n",
       "        vertical-align: middle;\n",
       "    }\n",
       "\n",
       "    .dataframe tbody tr th {\n",
       "        vertical-align: top;\n",
       "    }\n",
       "\n",
       "    .dataframe thead th {\n",
       "        text-align: right;\n",
       "    }\n",
       "</style>\n",
       "<table border=\"1\" class=\"dataframe\">\n",
       "  <thead>\n",
       "    <tr style=\"text-align: right;\">\n",
       "      <th></th>\n",
       "      <th>category</th>\n",
       "      <th>name</th>\n",
       "      <th>2021-05-16</th>\n",
       "      <th>2021-05-23</th>\n",
       "      <th>2021-05-30</th>\n",
       "    </tr>\n",
       "  </thead>\n",
       "  <tbody>\n",
       "    <tr>\n",
       "      <th>5</th>\n",
       "      <td>Visual display</td>\n",
       "      <td>shapes.txt</td>\n",
       "      <td>✅</td>\n",
       "      <td>✅</td>\n",
       "      <td>✅</td>\n",
       "    </tr>\n",
       "    <tr>\n",
       "      <th>3</th>\n",
       "      <td>Navigation</td>\n",
       "      <td>levels.txt</td>\n",
       "      <td></td>\n",
       "      <td></td>\n",
       "      <td></td>\n",
       "    </tr>\n",
       "    <tr>\n",
       "      <th>4</th>\n",
       "      <td>Navigation</td>\n",
       "      <td>pathways.txt</td>\n",
       "      <td></td>\n",
       "      <td></td>\n",
       "      <td></td>\n",
       "    </tr>\n",
       "    <tr>\n",
       "      <th>0</th>\n",
       "      <td>Fares</td>\n",
       "      <td>fare_leg_rules</td>\n",
       "      <td></td>\n",
       "      <td></td>\n",
       "      <td></td>\n",
       "    </tr>\n",
       "    <tr>\n",
       "      <th>1</th>\n",
       "      <td>Fares</td>\n",
       "      <td>fare_rules.txt</td>\n",
       "      <td>✅</td>\n",
       "      <td>✅</td>\n",
       "      <td>✅</td>\n",
       "    </tr>\n",
       "    <tr>\n",
       "      <th>2</th>\n",
       "      <td>Technical contacts</td>\n",
       "      <td>feed_info.txt</td>\n",
       "      <td>✅</td>\n",
       "      <td>✅</td>\n",
       "      <td>✅</td>\n",
       "    </tr>\n",
       "  </tbody>\n",
       "</table>\n",
       "</div>"
      ],
      "text/plain": [
       "             category            name 2021-05-16 2021-05-23 2021-05-30\n",
       "5      Visual display      shapes.txt          ✅          ✅          ✅\n",
       "3          Navigation      levels.txt                                 \n",
       "4          Navigation    pathways.txt                                 \n",
       "0               Fares  fare_leg_rules                                 \n",
       "1               Fares  fare_rules.txt          ✅          ✅          ✅\n",
       "2  Technical contacts   feed_info.txt          ✅          ✅          ✅"
      ]
     },
     "execution_count": 14,
     "metadata": {},
     "output_type": "execute_result"
    }
   ],
   "source": [
    "tbl_file_check"
   ]
  },
  {
   "cell_type": "markdown",
   "id": "11ea62bd",
   "metadata": {
    "papermill": {
     "duration": 0.047343,
     "end_time": "2021-06-23T00:38:40.928113",
     "exception": false,
     "start_time": "2021-06-23T00:38:40.880770",
     "status": "completed"
    },
    "tags": []
   },
   "source": [
    "### Validation Errors Observed"
   ]
  },
  {
   "cell_type": "code",
   "execution_count": 15,
   "id": "2cf859ee",
   "metadata": {
    "execution": {
     "iopub.execute_input": "2021-06-23T00:38:40.997273Z",
     "iopub.status.busy": "2021-06-23T00:38:40.993132Z",
     "iopub.status.idle": "2021-06-23T00:38:41.005330Z",
     "shell.execute_reply": "2021-06-23T00:38:41.006244Z"
    },
    "papermill": {
     "duration": 0.043808,
     "end_time": "2021-06-23T00:38:41.006537",
     "exception": false,
     "start_time": "2021-06-23T00:38:40.962729",
     "status": "completed"
    },
    "tags": []
   },
   "outputs": [
    {
     "data": {
      "text/html": [
       "<div>\n",
       "<style scoped>\n",
       "    .dataframe tbody tr th:only-of-type {\n",
       "        vertical-align: middle;\n",
       "    }\n",
       "\n",
       "    .dataframe tbody tr th {\n",
       "        vertical-align: top;\n",
       "    }\n",
       "\n",
       "    .dataframe thead th {\n",
       "        text-align: right;\n",
       "    }\n",
       "</style>\n",
       "<table border=\"1\" class=\"dataframe\">\n",
       "  <thead>\n",
       "    <tr style=\"text-align: right;\">\n",
       "      <th></th>\n",
       "      <th>code</th>\n",
       "      <th>severity</th>\n",
       "      <th>n</th>\n",
       "    </tr>\n",
       "  </thead>\n",
       "  <tbody>\n",
       "  </tbody>\n",
       "</table>\n",
       "</div>"
      ],
      "text/plain": [
       "Empty DataFrame\n",
       "Columns: [code, severity, n]\n",
       "Index: []"
      ]
     },
     "execution_count": 15,
     "metadata": {},
     "output_type": "execute_result"
    }
   ],
   "source": [
    "tbl_validation_notices"
   ]
  }
 ],
 "metadata": {
  "kernelspec": {
   "display_name": "venv-calitp-py",
   "language": "python",
   "name": "venv-calitp-py"
  },
  "language_info": {
   "codemirror_mode": {
    "name": "ipython",
    "version": 3
   },
   "file_extension": ".py",
   "mimetype": "text/x-python",
   "name": "python",
   "nbconvert_exporter": "python",
   "pygments_lexer": "ipython3",
   "version": "3.8.5"
  },
  "papermill": {
   "default_parameters": {},
   "duration": 58.571234,
   "end_time": "2021-06-23T00:38:44.607473",
   "environment_variables": {},
   "exception": null,
   "input_path": "report.ipynb",
   "output_path": "output/360/report.ipynb",
   "parameters": {
    "CALITP_ITP_ID": 360,
    "CALITP_URL_NUMBER": 0
   },
   "start_time": "2021-06-23T00:37:46.036239",
   "version": "2.3.3"
  }
 },
 "nbformat": 4,
 "nbformat_minor": 5
}