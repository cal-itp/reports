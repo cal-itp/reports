{
 "cells": [
  {
   "cell_type": "markdown",
   "id": "advisory-partition",
   "metadata": {
    "papermill": {
     "duration": 0.022968,
     "end_time": "2021-05-29T05:07:36.985637",
     "exception": false,
     "start_time": "2021-05-29T05:07:36.962669",
     "status": "completed"
    },
    "tags": [
     "hide"
    ]
   },
   "source": [
    "# Setup"
   ]
  },
  {
   "cell_type": "code",
   "execution_count": 1,
   "id": "photographic-dragon",
   "metadata": {
    "execution": {
     "iopub.execute_input": "2021-05-29T05:07:37.044771Z",
     "iopub.status.busy": "2021-05-29T05:07:37.043639Z",
     "iopub.status.idle": "2021-05-29T05:07:43.272887Z",
     "shell.execute_reply": "2021-05-29T05:07:43.273418Z"
    },
    "papermill": {
     "duration": 6.26411,
     "end_time": "2021-05-29T05:07:43.273672",
     "exception": false,
     "start_time": "2021-05-29T05:07:37.009562",
     "status": "completed"
    },
    "tags": [
     "hide"
    ]
   },
   "outputs": [],
   "source": [
    "import pandas as pd\n",
    "\n",
    "from io import StringIO\n",
    "from utils import tbl\n",
    "from datetime import date\n",
    "from siuba import *\n",
    "from plotnine import *\n",
    "\n",
    "\n",
    "START_DATE = \"2021-04-24\"\n",
    "END_DATE = \"2021-05-24\"\n",
    "DATE_TODAY=date.today()\n",
    "\n",
    "WEEK_MARKERS = pd.date_range(START_DATE, END_DATE, freq=\"W\").astype(str).tolist()"
   ]
  },
  {
   "cell_type": "code",
   "execution_count": 2,
   "id": "strange-memorabilia",
   "metadata": {
    "execution": {
     "iopub.execute_input": "2021-05-29T05:07:43.334142Z",
     "iopub.status.busy": "2021-05-29T05:07:43.332545Z",
     "iopub.status.idle": "2021-05-29T05:07:43.338033Z",
     "shell.execute_reply": "2021-05-29T05:07:43.336951Z"
    },
    "papermill": {
     "duration": 0.04406,
     "end_time": "2021-05-29T05:07:43.338250",
     "exception": false,
     "start_time": "2021-05-29T05:07:43.294190",
     "status": "completed"
    },
    "tags": [
     "parameters",
     "hide"
    ]
   },
   "outputs": [],
   "source": [
    "CALITP_ITP_ID=256\n",
    "CALITP_URL_NUMBER=0"
   ]
  },
  {
   "cell_type": "code",
   "execution_count": 3,
   "id": "grateful-admission",
   "metadata": {
    "execution": {
     "iopub.execute_input": "2021-05-29T05:07:43.421360Z",
     "iopub.status.busy": "2021-05-29T05:07:43.420114Z",
     "iopub.status.idle": "2021-05-29T05:07:43.422625Z",
     "shell.execute_reply": "2021-05-29T05:07:43.423100Z"
    },
    "papermill": {
     "duration": 0.035999,
     "end_time": "2021-05-29T05:07:43.423262",
     "exception": false,
     "start_time": "2021-05-29T05:07:43.387263",
     "status": "completed"
    },
    "tags": [
     "injected-parameters"
    ]
   },
   "outputs": [],
   "source": [
    "# Parameters\n",
    "CALITP_ITP_ID = 256\n",
    "CALITP_URL_NUMBER = 0\n"
   ]
  },
  {
   "cell_type": "code",
   "execution_count": 4,
   "id": "entertaining-survivor",
   "metadata": {
    "execution": {
     "iopub.execute_input": "2021-05-29T05:07:43.542442Z",
     "iopub.status.busy": "2021-05-29T05:07:43.540183Z",
     "iopub.status.idle": "2021-05-29T05:07:43.544338Z",
     "shell.execute_reply": "2021-05-29T05:07:43.543363Z"
    },
    "papermill": {
     "duration": 0.092248,
     "end_time": "2021-05-29T05:07:43.544549",
     "exception": false,
     "start_time": "2021-05-29T05:07:43.452301",
     "status": "completed"
    },
    "tags": [
     "hide"
    ]
   },
   "outputs": [],
   "source": [
    "# Convenience functions ----\n",
    "\n",
    "filter_start = filter(\n",
    "    _.calitp_extracted_at <= START_DATE,\n",
    "    _.calitp_deleted_at.fillna(\"2099-01-01\") > START_DATE,\n",
    ")\n",
    "\n",
    "filter_end = filter(\n",
    "    _.calitp_extracted_at <= END_DATE,\n",
    "    _.calitp_deleted_at.fillna(\"2099-01-01\") > END_DATE,\n",
    ")\n",
    "\n",
    "filter_itp = filter(\n",
    "    _.calitp_itp_id == CALITP_ITP_ID, _.calitp_url_number == CALITP_URL_NUMBER\n",
    ")\n",
    "\n",
    "collect_to_dict = (\n",
    "    collect()\n",
    "    >> pipe(_.to_dict(orient=\"records\")[0])\n",
    ")\n",
    "\n",
    "\n",
    "select_rm_calitp = select(\n",
    "    -_.calitp_itp_id,\n",
    "    -_.calitp_url_number,\n",
    "    -_.calitp_hash,\n",
    "    -_.calitp_extracted_at,\n",
    "    -_.calitp_deleted_at,\n",
    ")\n",
    "\n",
    "\n",
    "def query_id_changes(start_table, end_table, id_vars):\n",
    "    \"\"\"Calculate id variables that are removed, added, or unchanged between tables.\n",
    "    \n",
    "    It works by adding a special column to each table, performing a full join,\n",
    "    then checking where the special column is null.\n",
    "    \"\"\"\n",
    "    sym_id_vars = [_[k] for k in id_vars]\n",
    "\n",
    "    is_in_start = start_table >> select(*id_vars) >> mutate(is_in_start=True)\n",
    "    is_in_end = end_table >> select(*id_vars) >> mutate(is_in_end=True)\n",
    "\n",
    "    baseline = start_table >> count(*id_vars) >> rename(n_baseline=\"n\")\n",
    "    tallies = (\n",
    "        is_in_start\n",
    "        >> full_join(_, is_in_end, id_vars)\n",
    "        >> count(*sym_id_vars, _.is_in_start, _.is_in_end)\n",
    "        >> mutate(\n",
    "            status=case_when(\n",
    "                _,\n",
    "                {\n",
    "                    _.is_in_end.isna(): \"Removed\",\n",
    "                    _.is_in_start.isna(): \"Added\",\n",
    "                    True: \"Unchanged\",\n",
    "                },\n",
    "            )\n",
    "        )\n",
    "        >> count(*sym_id_vars[:-1], _.status)\n",
    "        >> group_by(*sym_id_vars[:-1])\n",
    "        >> mutate(percent=_.n / _.n.sum())\n",
    "    )\n",
    "\n",
    "    return tallies"
   ]
  },
  {
   "cell_type": "code",
   "execution_count": 5,
   "id": "electric-values",
   "metadata": {
    "execution": {
     "iopub.execute_input": "2021-05-29T05:07:43.638101Z",
     "iopub.status.busy": "2021-05-29T05:07:43.631303Z",
     "iopub.status.idle": "2021-05-29T05:07:59.950944Z",
     "shell.execute_reply": "2021-05-29T05:07:59.950436Z"
    },
    "papermill": {
     "duration": 16.383734,
     "end_time": "2021-05-29T05:07:59.951078",
     "exception": false,
     "start_time": "2021-05-29T05:07:43.567344",
     "status": "completed"
    },
    "tags": [
     "hide"
    ]
   },
   "outputs": [],
   "source": [
    "# Data ====\n",
    "# 1. High level feed info ----\n",
    "feed_info = (\n",
    "    tbl.gtfs_schedule_type2_feed_info()\n",
    "    >> filter_end\n",
    "    >> filter_itp\n",
    "    >> select_rm_calitp\n",
    "    >> collect_to_dict\n",
    ")\n",
    "\n",
    "_n_routes = (\n",
    "    tbl.gtfs_schedule_type2_routes() >> filter_end >> filter_itp >> count() >> collect()\n",
    ")\n",
    "_n_stops = (\n",
    "    tbl.gtfs_schedule_type2_stops() >> filter_end >> filter_itp >> count() >> collect()\n",
    ")\n",
    "\n",
    "feed_info[\"n_routes\"] = int(_n_routes.loc[0, \"n\"])\n",
    "feed_info[\"n_stops\"] = int(_n_stops.loc[0, \"n\"])\n",
    "\n",
    "status = (\n",
    "    tbl.views_gtfs_status_latest()\n",
    "    >> filter(_.itp_id == CALITP_ITP_ID, _.url_number == CALITP_URL_NUMBER)\n",
    "    >> select(-_.url_number, -_.status)\n",
    "    >> select_rm_calitp\n",
    "    >> collect_to_dict\n",
    ")\n",
    "\n",
    "# 2. Monthly metrics ----\n",
    "# Service hours per day. Note that the queried table calculates service\n",
    "# hours per service id, so we need to sum across service ids for the day\n",
    "tbl_daily_service_hours = (\n",
    "    tbl.views_gtfs_schedule_service_daily_metrics()\n",
    "    >> filter_itp\n",
    "    >> filter(_.service_date.between(START_DATE, END_DATE))\n",
    "    >> collect()\n",
    "    >> group_by(_.service_date)\n",
    "    >> summarize(ttl_service_hours=_.ttl_service_hours.sum())\n",
    "    >> mutate(\n",
    "        ttl_service_hours=_.ttl_service_hours.astype(int),\n",
    "        service_date=_.service_date.astype(\"datetime64[ns]\"),\n",
    "    )\n",
    ")\n",
    "\n",
    "# number of days where a feed did not have any trips in service\n",
    "n_expired_days = (\n",
    "    pd.date_range(START_DATE, END_DATE).to_frame(index=False, name=\"service_date\")\n",
    "    >> anti_join(_, tbl_daily_service_hours >> distinct(_.service_date), \"service_date\")\n",
    "    >> pipe(lambda d: {\"n\": d.shape[0]})\n",
    ")\n",
    "\n",
    "# 3. Stop and Route ID Changes ----\n",
    "\n",
    "_tbl_stops_start = tbl.gtfs_schedule_type2_stops() >> filter_itp >> filter_start\n",
    "_tbl_stops_end = tbl.gtfs_schedule_type2_stops() >> filter_itp >> filter_end\n",
    "tbl_stops_changed = (\n",
    "    query_id_changes(_tbl_stops_start, _tbl_stops_end, [\"stop_id\"]) >> collect()\n",
    ")\n",
    "\n",
    "_tbl_routes_start = tbl.gtfs_schedule_type2_routes() >> filter_start\n",
    "_tbl_routes_end = tbl.gtfs_schedule_type2_routes() >> filter_end\n",
    "tbl_routes_changed = (\n",
    "    query_id_changes(_tbl_routes_start, _tbl_routes_end, [\"route_id\"]) >> collect()\n",
    ")"
   ]
  },
  {
   "cell_type": "code",
   "execution_count": 6,
   "id": "bored-darkness",
   "metadata": {
    "execution": {
     "iopub.execute_input": "2021-05-29T05:08:00.004805Z",
     "iopub.status.busy": "2021-05-29T05:08:00.002784Z",
     "iopub.status.idle": "2021-05-29T05:08:04.523385Z",
     "shell.execute_reply": "2021-05-29T05:08:04.522874Z"
    },
    "papermill": {
     "duration": 4.554562,
     "end_time": "2021-05-29T05:08:04.523517",
     "exception": false,
     "start_time": "2021-05-29T05:07:59.968955",
     "status": "completed"
    },
    "tags": [
     "hide"
    ]
   },
   "outputs": [],
   "source": [
    "# 4. Feed files being checked for ----\n",
    "\n",
    "file_categories = pd.DataFrame(\n",
    "    {\n",
    "        \"shapes.txt\": \"Visual display\",\n",
    "        \"pathways.txt\": \"Navigation\",\n",
    "        \"levels.txt\": \"Navigation\",\n",
    "        \"fare_rules.txt\": \"Fares\",\n",
    "        \"fare_leg_rules\": \"Fares\",\n",
    "        \"feed_info.txt\": \"Technical contacts\",\n",
    "    }.items(),\n",
    "    columns=[\"name\", \"category\"],\n",
    ")\n",
    "\n",
    "importance = [\"Visual display\", \"Navigation\", \"Fares\", \"Technical contacts\"]\n",
    "\n",
    "tbl_file_check = (\n",
    "    tbl.gtfs_schedule_history_calitp_files_updates()\n",
    "    >> filter_itp\n",
    "    >> filter(_.calitp_extracted_at.isin(WEEK_MARKERS))\n",
    "    >> select(_.name, _.calitp_extracted_at)\n",
    "    >> collect()\n",
    "    >> right_join(_, file_categories, [\"name\"])\n",
    "    >> mutate(\n",
    "        calitp_extracted_at=_.calitp_extracted_at.fillna(\"missing\").astype(str),\n",
    "        success=\"✅\",\n",
    "    )\n",
    "    >> spread(_.calitp_extracted_at, _.success)\n",
    "    >> select(-_.missing)\n",
    "    >> arrange(_.category.apply(importance.index))\n",
    "    >> select(_.category, _.contains(\"\"))\n",
    "    >> pipe(_.fillna(\"\"))\n",
    ")\n",
    "\n",
    "tbl_validation_notices = (\n",
    "    tbl.views_validation_notices()\n",
    "    >> filter_itp\n",
    "    >> filter(_.severity == \"ERROR\")\n",
    "    >> count(_.code, _.severity)\n",
    "    >> collect()\n",
    ")"
   ]
  },
  {
   "cell_type": "markdown",
   "id": "solid-country",
   "metadata": {
    "papermill": {
     "duration": 0.018977,
     "end_time": "2021-05-29T05:08:04.562341",
     "exception": false,
     "start_time": "2021-05-29T05:08:04.543364",
     "status": "completed"
    },
    "tags": [
     "hide"
    ]
   },
   "source": [
    "## Dump data"
   ]
  },
  {
   "cell_type": "code",
   "execution_count": 7,
   "id": "defined-balance",
   "metadata": {
    "execution": {
     "iopub.execute_input": "2021-05-29T05:08:04.651469Z",
     "iopub.status.busy": "2021-05-29T05:08:04.649417Z",
     "iopub.status.idle": "2021-05-29T05:08:04.673815Z",
     "shell.execute_reply": "2021-05-29T05:08:04.673249Z"
    },
    "papermill": {
     "duration": 0.058745,
     "end_time": "2021-05-29T05:08:04.674156",
     "exception": false,
     "start_time": "2021-05-29T05:08:04.615411",
     "status": "completed"
    },
    "tags": [
     "hide"
    ]
   },
   "outputs": [],
   "source": [
    "import json\n",
    "import shutil\n",
    "\n",
    "from pathlib import Path\n",
    "\n",
    "out_dir = Path(f\"output/{CALITP_ITP_ID}_{CALITP_URL_NUMBER}/data\")\n",
    "out_dir.mkdir(parents=True, exist_ok=True)\n",
    "\n",
    "json.dump(feed_info, open(out_dir / \"1_feed_info.json\", \"w\"))\n",
    "json.dump(status, open(out_dir / \"1_status.json\", \"w\"))\n",
    "\n",
    "tbl_daily_service_hours.to_json(out_dir / \"2_daily_service_hours.json\", orient=\"records\")\n",
    "json.dump(n_expired_days, open(out_dir / \"2_n_expired_days.json\", \"w\"))\n",
    "\n",
    "tbl_stops_changed.to_json(out_dir / \"3_stops_changed.json\", orient=\"records\")\n",
    "tbl_routes_changed.to_json(out_dir / \"3_routes_changed.json\", orient=\"records\")\n",
    "tbl_file_check.to_json(out_dir / \"4_file_check.json\", orient=\"records\")\n",
    "tbl_validation_notices.to_json(out_dir / \"4_validation_notices.json\", orient=\"records\")\n"
   ]
  },
  {
   "cell_type": "markdown",
   "id": "immediate-hardware",
   "metadata": {
    "papermill": {
     "duration": 0.019826,
     "end_time": "2021-05-29T05:08:04.712162",
     "exception": false,
     "start_time": "2021-05-29T05:08:04.692336",
     "status": "completed"
    },
    "tags": []
   },
   "source": [
    "# GTFS Schedule Report"
   ]
  },
  {
   "cell_type": "markdown",
   "id": "lovely-angola",
   "metadata": {
    "papermill": {
     "duration": 0.022905,
     "end_time": "2021-05-29T05:08:04.760640",
     "exception": false,
     "start_time": "2021-05-29T05:08:04.737735",
     "status": "completed"
    },
    "tags": []
   },
   "source": [
    "# Example Juniper Report"
   ]
  },
  {
   "cell_type": "code",
   "execution_count": 8,
   "id": "cosmetic-thompson",
   "metadata": {
    "execution": {
     "iopub.execute_input": "2021-05-29T05:08:04.967775Z",
     "iopub.status.busy": "2021-05-29T05:08:04.965691Z",
     "iopub.status.idle": "2021-05-29T05:08:04.971004Z",
     "shell.execute_reply": "2021-05-29T05:08:04.970535Z"
    },
    "papermill": {
     "duration": 0.169868,
     "end_time": "2021-05-29T05:08:04.971133",
     "exception": false,
     "start_time": "2021-05-29T05:08:04.801265",
     "status": "completed"
    },
    "tags": []
   },
   "outputs": [
    {
     "data": {
      "text/markdown": [
       "\n",
       "Transit provider name: National RTAP\n",
       "\n",
       "Date generated: 2021-05-28\n"
      ],
      "text/plain": [
       "<IPython.core.display.Markdown object>"
      ]
     },
     "execution_count": 8,
     "metadata": {},
     "output_type": "execute_result"
    }
   ],
   "source": [
    "from IPython.display import Markdown\n",
    "\n",
    "Markdown(f\"\"\"\n",
    "Transit provider name: {feed_info[\"feed_publisher_name\"]}\n",
    "\n",
    "Date generated: {DATE_TODAY}\n",
    "\"\"\")"
   ]
  },
  {
   "cell_type": "markdown",
   "id": "prime-consistency",
   "metadata": {
    "papermill": {
     "duration": 0.027783,
     "end_time": "2021-05-29T05:08:05.052891",
     "exception": false,
     "start_time": "2021-05-29T05:08:05.025108",
     "status": "completed"
    },
    "tags": []
   },
   "source": [
    "This is a monthly report, generated by the California Integrated Travel Project (Cal-ITP), summarizing issues discovered by MobilityData’s GTFS Validator. This report is available for viewing by the general public to support continuous improvement of GTFS data and the experience of transit passengers. "
   ]
  },
  {
   "cell_type": "markdown",
   "id": "quality-offer",
   "metadata": {
    "papermill": {
     "duration": 0.045681,
     "end_time": "2021-05-29T05:08:05.182815",
     "exception": false,
     "start_time": "2021-05-29T05:08:05.137134",
     "status": "completed"
    },
    "tags": []
   },
   "source": [
    "## Overview"
   ]
  },
  {
   "cell_type": "code",
   "execution_count": 9,
   "id": "interim-remark",
   "metadata": {
    "execution": {
     "iopub.execute_input": "2021-05-29T05:08:05.280832Z",
     "iopub.status.busy": "2021-05-29T05:08:05.280141Z",
     "iopub.status.idle": "2021-05-29T05:08:05.283869Z",
     "shell.execute_reply": "2021-05-29T05:08:05.284433Z"
    },
    "papermill": {
     "duration": 0.074534,
     "end_time": "2021-05-29T05:08:05.284600",
     "exception": false,
     "start_time": "2021-05-29T05:08:05.210066",
     "status": "completed"
    },
    "tags": []
   },
   "outputs": [
    {
     "data": {
      "text/markdown": [
       "\n",
       "Feed location: http://demopro.nationalrtap.org/admin/GTFSzipFiles/526/google_transit.zip\n",
       "\n",
       "Metrics for the most recent published version of the feed:\n",
       "\n",
       "* Date published: 20170407\n",
       "* Number of routes in any service: 9\n",
       "* Number of stops in service: 203\n"
      ],
      "text/plain": [
       "<IPython.core.display.Markdown object>"
      ]
     },
     "execution_count": 9,
     "metadata": {},
     "output_type": "execute_result"
    }
   ],
   "source": [
    "Markdown(f\"\"\"\n",
    "Feed location: {status[\"gtfs_schedule_url\"]}\n",
    "\n",
    "Metrics for the most recent published version of the feed:\n",
    "\n",
    "* Date published: {feed_info[\"feed_version\"]}\n",
    "* Number of routes in any service: {feed_info[\"n_routes\"]}\n",
    "* Number of stops in service: {feed_info[\"n_stops\"]}\n",
    "\"\"\")"
   ]
  },
  {
   "cell_type": "markdown",
   "id": "fantastic-clothing",
   "metadata": {
    "papermill": {
     "duration": 0.125332,
     "end_time": "2021-05-29T05:08:05.437737",
     "exception": false,
     "start_time": "2021-05-29T05:08:05.312405",
     "status": "completed"
    },
    "tags": []
   },
   "source": [
    "## Aggregated Metrics for May"
   ]
  },
  {
   "cell_type": "code",
   "execution_count": 10,
   "id": "interim-representation",
   "metadata": {
    "execution": {
     "iopub.execute_input": "2021-05-29T05:08:05.559396Z",
     "iopub.status.busy": "2021-05-29T05:08:05.557941Z",
     "iopub.status.idle": "2021-05-29T05:08:05.562952Z",
     "shell.execute_reply": "2021-05-29T05:08:05.560187Z"
    },
    "papermill": {
     "duration": 0.065066,
     "end_time": "2021-05-29T05:08:05.563164",
     "exception": false,
     "start_time": "2021-05-29T05:08:05.498098",
     "status": "completed"
    },
    "tags": []
   },
   "outputs": [
    {
     "data": {
      "text/markdown": [
       "\n",
       "Days when the active feed was expired: 0\n"
      ],
      "text/plain": [
       "<IPython.core.display.Markdown object>"
      ]
     },
     "execution_count": 10,
     "metadata": {},
     "output_type": "execute_result"
    }
   ],
   "source": [
    "Markdown(f\"\"\"\n",
    "Days when the active feed was expired: {n_expired_days[\"n\"]}\n",
    "\"\"\")"
   ]
  },
  {
   "cell_type": "code",
   "execution_count": 11,
   "id": "composed-inside",
   "metadata": {
    "execution": {
     "iopub.execute_input": "2021-05-29T05:08:05.712742Z",
     "iopub.status.busy": "2021-05-29T05:08:05.711164Z",
     "iopub.status.idle": "2021-05-29T05:08:06.095454Z",
     "shell.execute_reply": "2021-05-29T05:08:06.096454Z"
    },
    "papermill": {
     "duration": 0.494087,
     "end_time": "2021-05-29T05:08:06.096782",
     "exception": false,
     "start_time": "2021-05-29T05:08:05.602695",
     "status": "completed"
    },
    "tags": []
   },
   "outputs": [
    {
     "data": {
      "image/png": "[encoded data removed]",
      "text/plain": [
       "<Figure size 640x480 with 1 Axes>"
      ]
     },
     "metadata": {},
     "output_type": "display_data"
    },
    {
     "data": {
      "text/plain": [
       "<ggplot: (-9223372036537440631)>"
      ]
     },
     "execution_count": 11,
     "metadata": {},
     "output_type": "execute_result"
    }
   ],
   "source": [
    "(\n",
    "    tbl_daily_service_hours\n",
    "    >> ggplot(aes(\"service_date\", \"ttl_service_hours\"))\n",
    "    + geom_line()\n",
    "    + theme(axis_text_x=element_text(angle=45, hjust=1))\n",
    "    + scale_x_datetime(date_breaks=\"1 week\")\n",
    "    + expand_limits(y=0)\n",
    ")"
   ]
  },
  {
   "cell_type": "markdown",
   "id": "daily-distribution",
   "metadata": {
    "papermill": {
     "duration": 0.069247,
     "end_time": "2021-05-29T05:08:06.191046",
     "exception": false,
     "start_time": "2021-05-29T05:08:06.121799",
     "status": "completed"
    },
    "tags": []
   },
   "source": [
    "## Changes Since Previous Month"
   ]
  },
  {
   "cell_type": "code",
   "execution_count": 12,
   "id": "serious-grounds",
   "metadata": {
    "execution": {
     "iopub.execute_input": "2021-05-29T05:08:06.283060Z",
     "iopub.status.busy": "2021-05-29T05:08:06.278521Z",
     "iopub.status.idle": "2021-05-29T05:08:06.657868Z",
     "shell.execute_reply": "2021-05-29T05:08:06.657280Z"
    },
    "papermill": {
     "duration": 0.441406,
     "end_time": "2021-05-29T05:08:06.658002",
     "exception": false,
     "start_time": "2021-05-29T05:08:06.216596",
     "status": "completed"
    },
    "tags": []
   },
   "outputs": [
    {
     "data": {
      "image/png": "[encoded data removed]",
      "text/plain": [
       "<Figure size 640x480 with 1 Axes>"
      ]
     },
     "metadata": {},
     "output_type": "display_data"
    },
    {
     "data": {
      "text/plain": [
       "<ggplot: (-9223372036537565857)>"
      ]
     },
     "execution_count": 12,
     "metadata": {},
     "output_type": "execute_result"
    }
   ],
   "source": [
    "(\n",
    "    pd.concat(\n",
    "        [\n",
    "            tbl_stops_changed >> mutate(kind=\"Stops\"),\n",
    "            tbl_routes_changed >> mutate(kind=\"Routes\"),\n",
    "        ]\n",
    "    )\n",
    "    >> ggplot(aes(\"kind\", \"n\", fill=\"status\"))\n",
    "    + geom_col()\n",
    "    + labs(x=\"Kind of ID\", y=\"Number of Changes\")\n",
    ")"
   ]
  },
  {
   "cell_type": "markdown",
   "id": "decimal-telescope",
   "metadata": {
    "papermill": {
     "duration": 0.046154,
     "end_time": "2021-05-29T05:08:06.737119",
     "exception": false,
     "start_time": "2021-05-29T05:08:06.690965",
     "status": "completed"
    },
    "tags": []
   },
   "source": [
    "### (Alternative version using percentages)"
   ]
  },
  {
   "cell_type": "code",
   "execution_count": 13,
   "id": "traditional-westminster",
   "metadata": {
    "execution": {
     "iopub.execute_input": "2021-05-29T05:08:06.847277Z",
     "iopub.status.busy": "2021-05-29T05:08:06.846633Z",
     "iopub.status.idle": "2021-05-29T05:08:07.199488Z",
     "shell.execute_reply": "2021-05-29T05:08:07.198850Z"
    },
    "papermill": {
     "duration": 0.429973,
     "end_time": "2021-05-29T05:08:07.199711",
     "exception": false,
     "start_time": "2021-05-29T05:08:06.769738",
     "status": "completed"
    },
    "tags": []
   },
   "outputs": [
    {
     "data": {
      "image/png": "[encoded data removed]",
      "text/plain": [
       "<Figure size 640x480 with 1 Axes>"
      ]
     },
     "metadata": {},
     "output_type": "display_data"
    },
    {
     "data": {
      "text/plain": [
       "<ggplot: (317412605)>"
      ]
     },
     "execution_count": 13,
     "metadata": {},
     "output_type": "execute_result"
    }
   ],
   "source": [
    "(\n",
    "    pd.concat(\n",
    "        [\n",
    "            tbl_stops_changed >> mutate(kind=\"Stops\"),\n",
    "            tbl_routes_changed >> mutate(kind=\"Routes\"),\n",
    "        ]\n",
    "    )\n",
    "    >> ggplot(aes(\"kind\", \"percent\", fill=\"status\"))\n",
    "    + geom_col()\n",
    "    + labs(x=\"Kind of ID\", y=\"Percent of Changes\")\n",
    ")"
   ]
  },
  {
   "cell_type": "markdown",
   "id": "effective-wheat",
   "metadata": {
    "papermill": {
     "duration": 0.037342,
     "end_time": "2021-05-29T05:08:07.270793",
     "exception": false,
     "start_time": "2021-05-29T05:08:07.233451",
     "status": "completed"
    },
    "tags": []
   },
   "source": [
    "## Consistency with the California GTFS Minimum Guidelines for the feed downloaded\n"
   ]
  },
  {
   "cell_type": "code",
   "execution_count": 14,
   "id": "otherwise-relationship",
   "metadata": {
    "execution": {
     "iopub.execute_input": "2021-05-29T05:08:07.360031Z",
     "iopub.status.busy": "2021-05-29T05:08:07.359419Z",
     "iopub.status.idle": "2021-05-29T05:08:07.370853Z",
     "shell.execute_reply": "2021-05-29T05:08:07.370359Z"
    },
    "papermill": {
     "duration": 0.063678,
     "end_time": "2021-05-29T05:08:07.370986",
     "exception": false,
     "start_time": "2021-05-29T05:08:07.307308",
     "status": "completed"
    },
    "tags": []
   },
   "outputs": [
    {
     "data": {
      "text/html": [
       "<div>\n",
       "<style scoped>\n",
       "    .dataframe tbody tr th:only-of-type {\n",
       "        vertical-align: middle;\n",
       "    }\n",
       "\n",
       "    .dataframe tbody tr th {\n",
       "        vertical-align: top;\n",
       "    }\n",
       "\n",
       "    .dataframe thead th {\n",
       "        text-align: right;\n",
       "    }\n",
       "</style>\n",
       "<table border=\"1\" class=\"dataframe\">\n",
       "  <thead>\n",
       "    <tr style=\"text-align: right;\">\n",
       "      <th></th>\n",
       "      <th>category</th>\n",
       "      <th>name</th>\n",
       "      <th>2021-04-25</th>\n",
       "      <th>2021-05-02</th>\n",
       "      <th>2021-05-09</th>\n",
       "      <th>2021-05-16</th>\n",
       "      <th>2021-05-23</th>\n",
       "    </tr>\n",
       "  </thead>\n",
       "  <tbody>\n",
       "    <tr>\n",
       "      <th>5</th>\n",
       "      <td>Visual display</td>\n",
       "      <td>shapes.txt</td>\n",
       "      <td>✅</td>\n",
       "      <td>✅</td>\n",
       "      <td>✅</td>\n",
       "      <td>✅</td>\n",
       "      <td>✅</td>\n",
       "    </tr>\n",
       "    <tr>\n",
       "      <th>3</th>\n",
       "      <td>Navigation</td>\n",
       "      <td>levels.txt</td>\n",
       "      <td></td>\n",
       "      <td></td>\n",
       "      <td></td>\n",
       "      <td></td>\n",
       "      <td></td>\n",
       "    </tr>\n",
       "    <tr>\n",
       "      <th>4</th>\n",
       "      <td>Navigation</td>\n",
       "      <td>pathways.txt</td>\n",
       "      <td></td>\n",
       "      <td></td>\n",
       "      <td></td>\n",
       "      <td></td>\n",
       "      <td></td>\n",
       "    </tr>\n",
       "    <tr>\n",
       "      <th>0</th>\n",
       "      <td>Fares</td>\n",
       "      <td>fare_leg_rules</td>\n",
       "      <td></td>\n",
       "      <td></td>\n",
       "      <td></td>\n",
       "      <td></td>\n",
       "      <td></td>\n",
       "    </tr>\n",
       "    <tr>\n",
       "      <th>1</th>\n",
       "      <td>Fares</td>\n",
       "      <td>fare_rules.txt</td>\n",
       "      <td>✅</td>\n",
       "      <td>✅</td>\n",
       "      <td>✅</td>\n",
       "      <td>✅</td>\n",
       "      <td>✅</td>\n",
       "    </tr>\n",
       "    <tr>\n",
       "      <th>2</th>\n",
       "      <td>Technical contacts</td>\n",
       "      <td>feed_info.txt</td>\n",
       "      <td>✅</td>\n",
       "      <td>✅</td>\n",
       "      <td>✅</td>\n",
       "      <td>✅</td>\n",
       "      <td>✅</td>\n",
       "    </tr>\n",
       "  </tbody>\n",
       "</table>\n",
       "</div>"
      ],
      "text/plain": [
       "             category            name 2021-04-25 2021-05-02 2021-05-09  \\\n",
       "5      Visual display      shapes.txt          ✅          ✅          ✅   \n",
       "3          Navigation      levels.txt                                    \n",
       "4          Navigation    pathways.txt                                    \n",
       "0               Fares  fare_leg_rules                                    \n",
       "1               Fares  fare_rules.txt          ✅          ✅          ✅   \n",
       "2  Technical contacts   feed_info.txt          ✅          ✅          ✅   \n",
       "\n",
       "  2021-05-16 2021-05-23  \n",
       "5          ✅          ✅  \n",
       "3                        \n",
       "4                        \n",
       "0                        \n",
       "1          ✅          ✅  \n",
       "2          ✅          ✅  "
      ]
     },
     "execution_count": 14,
     "metadata": {},
     "output_type": "execute_result"
    }
   ],
   "source": [
    "tbl_file_check"
   ]
  },
  {
   "cell_type": "markdown",
   "id": "specific-nelson",
   "metadata": {
    "papermill": {
     "duration": 0.056875,
     "end_time": "2021-05-29T05:08:07.460718",
     "exception": false,
     "start_time": "2021-05-29T05:08:07.403843",
     "status": "completed"
    },
    "tags": []
   },
   "source": [
    "### Validation Errors Observed"
   ]
  },
  {
   "cell_type": "code",
   "execution_count": 15,
   "id": "visible-gates",
   "metadata": {
    "execution": {
     "iopub.execute_input": "2021-05-29T05:08:07.597628Z",
     "iopub.status.busy": "2021-05-29T05:08:07.596216Z",
     "iopub.status.idle": "2021-05-29T05:08:07.601725Z",
     "shell.execute_reply": "2021-05-29T05:08:07.602266Z"
    },
    "papermill": {
     "duration": 0.10252,
     "end_time": "2021-05-29T05:08:07.602448",
     "exception": false,
     "start_time": "2021-05-29T05:08:07.499928",
     "status": "completed"
    },
    "tags": []
   },
   "outputs": [
    {
     "data": {
      "text/html": [
       "<div>\n",
       "<style scoped>\n",
       "    .dataframe tbody tr th:only-of-type {\n",
       "        vertical-align: middle;\n",
       "    }\n",
       "\n",
       "    .dataframe tbody tr th {\n",
       "        vertical-align: top;\n",
       "    }\n",
       "\n",
       "    .dataframe thead th {\n",
       "        text-align: right;\n",
       "    }\n",
       "</style>\n",
       "<table border=\"1\" class=\"dataframe\">\n",
       "  <thead>\n",
       "    <tr style=\"text-align: right;\">\n",
       "      <th></th>\n",
       "      <th>code</th>\n",
       "      <th>severity</th>\n",
       "      <th>n</th>\n",
       "    </tr>\n",
       "  </thead>\n",
       "  <tbody>\n",
       "    <tr>\n",
       "      <th>0</th>\n",
       "      <td>decreasing_or_equal_shape_distance</td>\n",
       "      <td>ERROR</td>\n",
       "      <td>9</td>\n",
       "    </tr>\n",
       "  </tbody>\n",
       "</table>\n",
       "</div>"
      ],
      "text/plain": [
       "                                 code severity  n\n",
       "0  decreasing_or_equal_shape_distance    ERROR  9"
      ]
     },
     "execution_count": 15,
     "metadata": {},
     "output_type": "execute_result"
    }
   ],
   "source": [
    "tbl_validation_notices"
   ]
  }
 ],
 "metadata": {
  "kernelspec": {
   "display_name": "venv-notebooks",
   "language": "python",
   "name": "venv-notebooks"
  },
  "language_info": {
   "codemirror_mode": {
    "name": "ipython",
    "version": 3
   },
   "file_extension": ".py",
   "mimetype": "text/x-python",
   "name": "python",
   "nbconvert_exporter": "python",
   "pygments_lexer": "ipython3",
   "version": "3.6.8"
  },
  "papermill": {
   "default_parameters": {},
   "duration": 32.723749,
   "end_time": "2021-05-29T05:08:08.330021",
   "environment_variables": {},
   "exception": null,
   "input_path": "report.ipynb",
   "output_path": "output/256_0/report.ipynb",
   "parameters": {
    "CALITP_ITP_ID": 256,
    "CALITP_URL_NUMBER": 0
   },
   "start_time": "2021-05-29T05:07:35.606272",
   "version": "2.3.3"
  }
 },
 "nbformat": 4,
 "nbformat_minor": 5
}