{
 "cells": [
  {
   "cell_type": "markdown",
   "id": "88631a35",
   "metadata": {
    "papermill": {
     "duration": 0.021356,
     "end_time": "2021-06-24T22:12:04.800979",
     "exception": false,
     "start_time": "2021-06-24T22:12:04.779623",
     "status": "completed"
    },
    "tags": [
     "hide"
    ]
   },
   "source": [
    "# Setup"
   ]
  },
  {
   "cell_type": "code",
   "execution_count": 1,
   "id": "6abd0e7b",
   "metadata": {
    "execution": {
     "iopub.execute_input": "2021-06-24T22:12:04.846331Z",
     "iopub.status.busy": "2021-06-24T22:12:04.845352Z",
     "iopub.status.idle": "2021-06-24T22:12:15.253702Z",
     "shell.execute_reply": "2021-06-24T22:12:15.255113Z"
    },
    "papermill": {
     "duration": 10.433383,
     "end_time": "2021-06-24T22:12:15.255487",
     "exception": false,
     "start_time": "2021-06-24T22:12:04.822104",
     "status": "completed"
    },
    "tags": [
     "hide"
    ]
   },
   "outputs": [],
   "source": [
    "import pandas as pd\n",
    "import numpy as np\n",
    "import warnings\n",
    "\n",
    "from io import StringIO\n",
    "from calitp.tables import tbl\n",
    "from datetime import date, datetime\n",
    "from siuba import *\n",
    "from plotnine import *\n",
    "\n",
    "def friendly_date(x): \n",
    "    return datetime.strptime(x, \"%Y-%m-%d\").strftime(\"%b %d\")"
   ]
  },
  {
   "cell_type": "code",
   "execution_count": 2,
   "id": "50c8ca53",
   "metadata": {
    "execution": {
     "iopub.execute_input": "2021-06-24T22:12:15.328504Z",
     "iopub.status.busy": "2021-06-24T22:12:15.327271Z",
     "iopub.status.idle": "2021-06-24T22:12:15.336129Z",
     "shell.execute_reply": "2021-06-24T22:12:15.336945Z"
    },
    "papermill": {
     "duration": 0.051022,
     "end_time": "2021-06-24T22:12:15.337168",
     "exception": false,
     "start_time": "2021-06-24T22:12:15.286146",
     "status": "completed"
    },
    "tags": [
     "parameters",
     "hide"
    ]
   },
   "outputs": [],
   "source": [
    "CALITP_ITP_ID = 98\n",
    "#CALITP_ITP_ID=45\n",
    "CALITP_URL_NUMBER = 0\n",
    "DEBUG = False\n",
    "\n",
    "START_DATE = \"2021-05-01\"\n",
    "END_DATE = \"2021-06-01\"\n",
    "DATE_TODAY=date.today()\n",
    "START_MONTH_DAY = friendly_date(START_DATE)\n",
    "END_MONTH_DAY = friendly_date(END_DATE)\n",
    "\n",
    "WEEK_MARKERS = pd.date_range(START_DATE, END_DATE, freq=\"W\").astype(str).tolist()\n",
    "BIWEEKLY_MARKERS = pd.date_range(START_DATE, END_DATE, freq=\"2W\").astype(str).tolist()"
   ]
  },
  {
   "cell_type": "code",
   "execution_count": 3,
   "id": "1fb03967",
   "metadata": {
    "execution": {
     "iopub.execute_input": "2021-06-24T22:12:15.411148Z",
     "iopub.status.busy": "2021-06-24T22:12:15.409551Z",
     "iopub.status.idle": "2021-06-24T22:12:15.413143Z",
     "shell.execute_reply": "2021-06-24T22:12:15.414120Z"
    },
    "papermill": {
     "duration": 0.04534,
     "end_time": "2021-06-24T22:12:15.414381",
     "exception": false,
     "start_time": "2021-06-24T22:12:15.369041",
     "status": "completed"
    },
    "tags": [
     "injected-parameters"
    ]
   },
   "outputs": [],
   "source": [
    "# Parameters\n",
    "CALITP_ITP_ID = 95\n",
    "CALITP_URL_NUMBER = 0\n",
    "DEBUG = False\n",
    "START_DATE = \"2021-05-01\"\n",
    "END_DATE = \"2021-06-01\"\n"
   ]
  },
  {
   "cell_type": "code",
   "execution_count": 4,
   "id": "027505fc",
   "metadata": {
    "execution": {
     "iopub.execute_input": "2021-06-24T22:12:15.488795Z",
     "iopub.status.busy": "2021-06-24T22:12:15.487769Z",
     "iopub.status.idle": "2021-06-24T22:12:15.491103Z",
     "shell.execute_reply": "2021-06-24T22:12:15.491920Z"
    },
    "papermill": {
     "duration": 0.040994,
     "end_time": "2021-06-24T22:12:15.492182",
     "exception": false,
     "start_time": "2021-06-24T22:12:15.451188",
     "status": "completed"
    },
    "tags": [
     "hide"
    ]
   },
   "outputs": [],
   "source": [
    "if not DEBUG:\n",
    "    warnings.filterwarnings(\"ignore\")"
   ]
  },
  {
   "cell_type": "code",
   "execution_count": 5,
   "id": "9855e90b",
   "metadata": {
    "execution": {
     "iopub.execute_input": "2021-06-24T22:12:15.573590Z",
     "iopub.status.busy": "2021-06-24T22:12:15.566942Z",
     "iopub.status.idle": "2021-06-24T22:12:15.584016Z",
     "shell.execute_reply": "2021-06-24T22:12:15.584814Z"
    },
    "papermill": {
     "duration": 0.060884,
     "end_time": "2021-06-24T22:12:15.585078",
     "exception": false,
     "start_time": "2021-06-24T22:12:15.524194",
     "status": "completed"
    },
    "tags": [
     "hide"
    ]
   },
   "outputs": [],
   "source": [
    "# Convenience functions ----\n",
    "\n",
    "filter_start = filter(\n",
    "    _.calitp_extracted_at <= START_DATE,\n",
    "    _.calitp_deleted_at.fillna(\"2099-01-01\") > START_DATE,\n",
    ")\n",
    "\n",
    "filter_end = filter(\n",
    "    _.calitp_extracted_at <= END_DATE,\n",
    "    _.calitp_deleted_at.fillna(\"2099-01-01\") > END_DATE,\n",
    ")\n",
    "\n",
    "filter_itp = filter(\n",
    "    _.calitp_itp_id == CALITP_ITP_ID, _.calitp_url_number == CALITP_URL_NUMBER\n",
    ")\n",
    "\n",
    "collect_to_dict = (\n",
    "    collect()\n",
    "    >> pipe(_.to_dict(orient=\"records\")[0])\n",
    ")\n",
    "\n",
    "\n",
    "select_rm_calitp = select(\n",
    "    -_.calitp_itp_id,\n",
    "    -_.calitp_url_number,\n",
    "    -_.calitp_hash,\n",
    "    -_.calitp_extracted_at,\n",
    "    -_.calitp_deleted_at,\n",
    ")\n",
    "\n",
    "def percent_format(labels):\n",
    "    return [\"{:.0f}%\".format(v*100) for v in labels]\n",
    "\n",
    "def query_id_changes(start_table, end_table, id_vars):\n",
    "    \"\"\"Calculate id variables that are removed, added, or unchanged between tables.\n",
    "    \n",
    "    It works by adding a special column to each table, performing a full join,\n",
    "    then checking where the special column is null.\n",
    "    \"\"\"\n",
    "    sym_id_vars = [_[k] for k in id_vars]\n",
    "\n",
    "    is_in_start = start_table >> select(*id_vars) >> mutate(is_in_start=True)\n",
    "    is_in_end = end_table >> select(*id_vars) >> mutate(is_in_end=True)\n",
    "\n",
    "    baseline = start_table >> count(*id_vars) >> rename(n_baseline=\"n\")\n",
    "    tallies = (\n",
    "        is_in_start\n",
    "        >> full_join(_, is_in_end, id_vars)\n",
    "        >> count(*sym_id_vars, _.is_in_start, _.is_in_end)\n",
    "        >> mutate(\n",
    "            status=case_when(\n",
    "                _,\n",
    "                {\n",
    "                    _.is_in_end.isna(): \"Removed\",\n",
    "                    _.is_in_start.isna(): \"Added\",\n",
    "                    True: \"Unchanged\",\n",
    "                },\n",
    "            )\n",
    "        )\n",
    "        >> count(*sym_id_vars[:-1], _.status)\n",
    "        >> group_by(*sym_id_vars[:-1])\n",
    "        >> mutate(percent=_.n / _.n.sum())\n",
    "    )\n",
    "\n",
    "    return tallies"
   ]
  },
  {
   "cell_type": "code",
   "execution_count": 6,
   "id": "7215ecc4",
   "metadata": {
    "execution": {
     "iopub.execute_input": "2021-06-24T22:12:15.679787Z",
     "iopub.status.busy": "2021-06-24T22:12:15.675402Z",
     "iopub.status.idle": "2021-06-24T22:12:39.250445Z",
     "shell.execute_reply": "2021-06-24T22:12:39.249965Z"
    },
    "papermill": {
     "duration": 23.631436,
     "end_time": "2021-06-24T22:12:39.250565",
     "exception": false,
     "start_time": "2021-06-24T22:12:15.619129",
     "status": "completed"
    },
    "tags": [
     "hide"
    ]
   },
   "outputs": [],
   "source": [
    "# Data ====\n",
    "# 1. High level feed info ----\n",
    "feed_info = (\n",
    "    tbl.gtfs_schedule_type2.feed_info()\n",
    "    >> filter_end\n",
    "    >> filter_itp\n",
    "    >> select_rm_calitp\n",
    "    >> collect_to_dict\n",
    ")\n",
    "\n",
    "_n_routes = (\n",
    "    tbl.gtfs_schedule_type2.routes() >> filter_end >> filter_itp >> count() >> collect()\n",
    ")\n",
    "_n_stops = (\n",
    "    tbl.gtfs_schedule_type2.stops() >> filter_end >> filter_itp >> count() >> collect()\n",
    ")\n",
    "\n",
    "feed_info[\"n_routes\"] = int(_n_routes.loc[0, \"n\"])\n",
    "feed_info[\"n_stops\"] = int(_n_stops.loc[0, \"n\"])\n",
    "\n",
    "status = (\n",
    "    tbl.views.gtfs_status_latest()\n",
    "    >> filter(_.itp_id == CALITP_ITP_ID, _.url_number == CALITP_URL_NUMBER)\n",
    "    >> select(-_.url_number, -_.status)\n",
    "    >> select_rm_calitp\n",
    "    >> collect_to_dict\n",
    ")\n",
    "\n",
    "# 2. Monthly metrics ----\n",
    "# Service hours per day. Note that the queried table calculates service\n",
    "# hours per service id, so we need to sum across service ids for the day\n",
    "_cross_cal = (\n",
    "    tbl.views.dim_date()\n",
    "    >> filter(_.full_date.between(START_DATE, END_DATE))\n",
    "    >> select(_.service_date == _.full_date)\n",
    ")\n",
    "\n",
    "tbl_daily_service_hours = (\n",
    "    tbl.views.gtfs_schedule_service_daily_metrics()\n",
    "    >> filter_itp\n",
    "    >> filter(_.service_date.between(START_DATE, END_DATE))\n",
    "    >> right_join(_, _cross_cal, [\"service_date\"])\n",
    "    >> collect()\n",
    "    >> group_by(_.service_date)\n",
    "    >> summarize(\n",
    "        ttl_service_hours=(_.last_arrival_ts.max() - _.first_departure_ts.min()) / 3600,\n",
    "        ttl_service_hours2=_.ttl_service_hours.sum(),\n",
    "    )\n",
    "    >> mutate(\n",
    "        ttl_service_hours=_.ttl_service_hours.astype(float).round(2),\n",
    "        service_date=_.service_date.astype(\"datetime64[ns]\"),\n",
    "    )\n",
    ")\n",
    "\n",
    "# number of days where a feed did not have any trips in service\n",
    "n_expired_days = (\n",
    "    tbl_daily_service_hours\n",
    "    >> filter(_.ttl_service_hours.isna())\n",
    "    >> pipe(lambda d: {\"n\": d.shape[0]})\n",
    ")\n",
    "\n",
    "# 3. Stop and Route ID Changes ----\n",
    "\n",
    "_tbl_stops_start = tbl.gtfs_schedule_type2.stops() >> filter_itp >> filter_start\n",
    "_tbl_stops_end = tbl.gtfs_schedule_type2.stops() >> filter_itp >> filter_end\n",
    "tbl_stops_changed = (\n",
    "    query_id_changes(_tbl_stops_start, _tbl_stops_end, [\"stop_id\"]) >> collect()\n",
    ")\n",
    "\n",
    "_tbl_routes_start = tbl.gtfs_schedule_type2.routes() >> filter_itp >> filter_start\n",
    "_tbl_routes_end = tbl.gtfs_schedule_type2.routes() >> filter_itp >> filter_end\n",
    "tbl_routes_changed = (\n",
    "    query_id_changes(_tbl_routes_start, _tbl_routes_end, [\"route_id\"]) >> collect()\n",
    ")"
   ]
  },
  {
   "cell_type": "code",
   "execution_count": 7,
   "id": "8fe54ffe",
   "metadata": {
    "execution": {
     "iopub.execute_input": "2021-06-24T22:12:39.291133Z",
     "iopub.status.busy": "2021-06-24T22:12:39.290136Z",
     "iopub.status.idle": "2021-06-24T22:12:44.084341Z",
     "shell.execute_reply": "2021-06-24T22:12:44.083802Z"
    },
    "papermill": {
     "duration": 4.818196,
     "end_time": "2021-06-24T22:12:44.084477",
     "exception": false,
     "start_time": "2021-06-24T22:12:39.266281",
     "status": "completed"
    },
    "tags": [
     "hide"
    ]
   },
   "outputs": [],
   "source": [
    "# 4. Feed files being checked for ----\n",
    "\n",
    "file_categories = pd.DataFrame(\n",
    "    {\n",
    "        \"shapes.txt\": \"Visual display\",\n",
    "        \"pathways.txt\": \"Navigation\",\n",
    "        \"levels.txt\": \"Navigation\",\n",
    "        \"fare_rules.txt\": \"Fares\",\n",
    "        \"fare_leg_rules\": \"Fares\",\n",
    "        \"feed_info.txt\": \"Technical contacts\",\n",
    "    }.items(),\n",
    "    columns=[\"name\", \"category\"],\n",
    ")\n",
    "\n",
    "importance = [\"Visual display\", \"Navigation\", \"Fares\", \"Technical contacts\"]\n",
    "\n",
    "tbl_file_check = (\n",
    "    tbl.gtfs_schedule_history.calitp_files_updates()\n",
    "    >> filter_itp\n",
    "    >> filter(_.calitp_extracted_at.isin(BIWEEKLY_MARKERS))\n",
    "    >> select(_.name, _.calitp_extracted_at)\n",
    "    >> collect()\n",
    "    >> right_join(_, file_categories, [\"name\"])\n",
    "    >> mutate(\n",
    "        calitp_extracted_at=_.calitp_extracted_at.fillna(\"missing\").astype(str),\n",
    "        success=\"✅\",\n",
    "    )\n",
    "    >> spread(_.calitp_extracted_at, _.success)\n",
    "    >> select(-_.missing)\n",
    "    >> arrange(_.category.apply(importance.index))\n",
    "    >> select(_.category, _.contains(\"\"))\n",
    "    >> pipe(_.fillna(\"\"))\n",
    ")\n",
    "\n",
    "tbl_validation_notices = (\n",
    "    tbl.views.validation_notices()\n",
    "    >> filter_itp\n",
    "    >> filter(_.severity == \"ERROR\")\n",
    "    >> count(_.code, _.severity)\n",
    "    >> collect()\n",
    ")"
   ]
  },
  {
   "cell_type": "markdown",
   "id": "d7a37ae8",
   "metadata": {
    "papermill": {
     "duration": 0.01612,
     "end_time": "2021-06-24T22:12:44.116453",
     "exception": false,
     "start_time": "2021-06-24T22:12:44.100333",
     "status": "completed"
    },
    "tags": [
     "hide"
    ]
   },
   "source": [
    "## Dump data"
   ]
  },
  {
   "cell_type": "code",
   "execution_count": 8,
   "id": "b7b58598",
   "metadata": {
    "execution": {
     "iopub.execute_input": "2021-06-24T22:12:44.159427Z",
     "iopub.status.busy": "2021-06-24T22:12:44.158419Z",
     "iopub.status.idle": "2021-06-24T22:12:44.166476Z",
     "shell.execute_reply": "2021-06-24T22:12:44.166896Z"
    },
    "papermill": {
     "duration": 0.033494,
     "end_time": "2021-06-24T22:12:44.167038",
     "exception": false,
     "start_time": "2021-06-24T22:12:44.133544",
     "status": "completed"
    },
    "tags": [
     "hide"
    ]
   },
   "outputs": [],
   "source": [
    "import json\n",
    "import shutil\n",
    "\n",
    "from pathlib import Path\n",
    "\n",
    "out_dir = Path(f\"output/{CALITP_ITP_ID}_{CALITP_URL_NUMBER}/data\")\n",
    "out_dir.mkdir(parents=True, exist_ok=True)\n",
    "\n",
    "json.dump(feed_info, open(out_dir / \"1_feed_info.json\", \"w\"))\n",
    "json.dump(status, open(out_dir / \"1_status.json\", \"w\"))\n",
    "\n",
    "tbl_daily_service_hours.to_json(out_dir / \"2_daily_service_hours.json\", orient=\"records\")\n",
    "json.dump(n_expired_days, open(out_dir / \"2_n_expired_days.json\", \"w\"))\n",
    "\n",
    "tbl_stops_changed.to_json(out_dir / \"3_stops_changed.json\", orient=\"records\")\n",
    "tbl_routes_changed.to_json(out_dir / \"3_routes_changed.json\", orient=\"records\")\n",
    "tbl_file_check.to_json(out_dir / \"4_file_check.json\", orient=\"records\")\n",
    "tbl_validation_notices.to_json(out_dir / \"4_validation_notices.json\", orient=\"records\")\n"
   ]
  },
  {
   "cell_type": "markdown",
   "id": "dd384c57",
   "metadata": {
    "papermill": {
     "duration": 0.01617,
     "end_time": "2021-06-24T22:12:44.198791",
     "exception": false,
     "start_time": "2021-06-24T22:12:44.182621",
     "status": "completed"
    },
    "tags": []
   },
   "source": [
    "# Monthly GTFS Quality Report"
   ]
  },
  {
   "cell_type": "code",
   "execution_count": 9,
   "id": "9ac4799c",
   "metadata": {
    "execution": {
     "iopub.execute_input": "2021-06-24T22:12:44.261409Z",
     "iopub.status.busy": "2021-06-24T22:12:44.260218Z",
     "iopub.status.idle": "2021-06-24T22:12:44.267168Z",
     "shell.execute_reply": "2021-06-24T22:12:44.267882Z"
    },
    "papermill": {
     "duration": 0.040668,
     "end_time": "2021-06-24T22:12:44.268111",
     "exception": false,
     "start_time": "2021-06-24T22:12:44.227443",
     "status": "completed"
    },
    "tags": []
   },
   "outputs": [
    {
     "data": {
      "text/markdown": [
       "\n",
       "Transit provider name: Trillium Solutions, Inc.\n",
       "\n",
       "Date generated: 2021-06-24\n"
      ],
      "text/plain": [
       "<IPython.core.display.Markdown object>"
      ]
     },
     "execution_count": 9,
     "metadata": {},
     "output_type": "execute_result"
    }
   ],
   "source": [
    "from IPython.display import Markdown\n",
    "\n",
    "Markdown(f\"\"\"\n",
    "Transit provider name: {feed_info[\"feed_publisher_name\"]}\n",
    "\n",
    "Date generated: {DATE_TODAY}\n",
    "\"\"\")"
   ]
  },
  {
   "cell_type": "markdown",
   "id": "3e50762f",
   "metadata": {
    "papermill": {
     "duration": 0.028122,
     "end_time": "2021-06-24T22:12:44.325344",
     "exception": false,
     "start_time": "2021-06-24T22:12:44.297222",
     "status": "completed"
    },
    "tags": []
   },
   "source": [
    "This is a monthly report, generated by the California Integrated Travel Project ([Cal-ITP](https://dot.ca.gov/cal-itp/cal-itp-gtfs)), summarizing issues discovered by [MobilityData](http://mobilitydata.io/)’s [GTFS Validator](https://github.com/MobilityData/gtfs-validator). This report is available for viewing by the general public to support continuous improvement of GTFS data and the experience of transit passengers. "
   ]
  },
  {
   "cell_type": "markdown",
   "id": "2805b10a",
   "metadata": {
    "papermill": {
     "duration": 0.017046,
     "end_time": "2021-06-24T22:12:44.365872",
     "exception": false,
     "start_time": "2021-06-24T22:12:44.348826",
     "status": "completed"
    },
    "tags": []
   },
   "source": [
    "## Overview"
   ]
  },
  {
   "cell_type": "code",
   "execution_count": 10,
   "id": "6f3eb3b4",
   "metadata": {
    "execution": {
     "iopub.execute_input": "2021-06-24T22:12:44.401664Z",
     "iopub.status.busy": "2021-06-24T22:12:44.401040Z",
     "iopub.status.idle": "2021-06-24T22:12:44.404454Z",
     "shell.execute_reply": "2021-06-24T22:12:44.403988Z"
    },
    "papermill": {
     "duration": 0.02319,
     "end_time": "2021-06-24T22:12:44.404613",
     "exception": false,
     "start_time": "2021-06-24T22:12:44.381423",
     "status": "completed"
    },
    "tags": []
   },
   "outputs": [
    {
     "data": {
      "text/markdown": [
       "\n",
       "Feed location: https://data.trilliumtransit.com/gtfs/downey-ca-us/downey-ca-us.zip\n",
       "\n",
       "Metrics for the most recent published version of the feed:\n",
       "\n",
       "* Date published: UTC: 23-Dec-2020 16:17\n",
       "* Number of routes in any service: 6\n",
       "* Number of stops in service: 91\n"
      ],
      "text/plain": [
       "<IPython.core.display.Markdown object>"
      ]
     },
     "execution_count": 10,
     "metadata": {},
     "output_type": "execute_result"
    }
   ],
   "source": [
    "Markdown(f\"\"\"\n",
    "Feed location: {status[\"gtfs_schedule_url\"]}\n",
    "\n",
    "Metrics for the most recent published version of the feed:\n",
    "\n",
    "* Date published: {feed_info[\"feed_version\"]}\n",
    "* Number of routes in any service: {feed_info[\"n_routes\"]}\n",
    "* Number of stops in service: {feed_info[\"n_stops\"]}\n",
    "\"\"\")"
   ]
  },
  {
   "cell_type": "markdown",
   "id": "21bf11bf",
   "metadata": {
    "papermill": {
     "duration": 0.01583,
     "end_time": "2021-06-24T22:12:44.437742",
     "exception": false,
     "start_time": "2021-06-24T22:12:44.421912",
     "status": "completed"
    },
    "tags": []
   },
   "source": [
    "## Aggregated Metrics for May"
   ]
  },
  {
   "cell_type": "code",
   "execution_count": 11,
   "id": "c0a104f8",
   "metadata": {
    "execution": {
     "iopub.execute_input": "2021-06-24T22:12:44.477424Z",
     "iopub.status.busy": "2021-06-24T22:12:44.476442Z",
     "iopub.status.idle": "2021-06-24T22:12:44.480329Z",
     "shell.execute_reply": "2021-06-24T22:12:44.480790Z"
    },
    "papermill": {
     "duration": 0.027019,
     "end_time": "2021-06-24T22:12:44.480951",
     "exception": false,
     "start_time": "2021-06-24T22:12:44.453932",
     "status": "completed"
    },
    "tags": []
   },
   "outputs": [
    {
     "data": {
      "text/markdown": [
       "\n",
       "Days with no service hours: 10\n"
      ],
      "text/plain": [
       "<IPython.core.display.Markdown object>"
      ]
     },
     "execution_count": 11,
     "metadata": {},
     "output_type": "execute_result"
    }
   ],
   "source": [
    "# TODO: \n",
    "\n",
    "# Markdown(f\"\"\"\n",
    "# Days when the active feed was expired: {n_expired_days[\"n\"]}\n",
    "# \"\"\")\n",
    "\n",
    "Markdown(f\"\"\"\n",
    "Days with no service hours: {n_expired_days[\"n\"]}\n",
    "\"\"\")\n"
   ]
  },
  {
   "cell_type": "code",
   "execution_count": 12,
   "id": "8d869678",
   "metadata": {
    "execution": {
     "iopub.execute_input": "2021-06-24T22:12:44.560404Z",
     "iopub.status.busy": "2021-06-24T22:12:44.559042Z",
     "iopub.status.idle": "2021-06-24T22:12:44.976554Z",
     "shell.execute_reply": "2021-06-24T22:12:44.977084Z"
    },
    "papermill": {
     "duration": 0.479069,
     "end_time": "2021-06-24T22:12:44.977220",
     "exception": false,
     "start_time": "2021-06-24T22:12:44.498151",
     "status": "completed"
    },
    "tags": []
   },
   "outputs": [
    {
     "data": {
      "image/png": "[encoded data removed]",
      "text/plain": [
       "<Figure size 640x480 with 1 Axes>"
      ]
     },
     "metadata": {},
     "output_type": "display_data"
    }
   ],
   "source": [
    "(\n",
    "    tbl_daily_service_hours\n",
    "    >> ggplot(aes(\"service_date\", \"ttl_service_hours2\"))\n",
    "    + geom_line()\n",
    "    + geom_point()\n",
    "    + theme(axis_text_x=element_text(angle=45, hjust=1))\n",
    "    + scale_x_datetime(date_breaks=\"1 week\")\n",
    "    + expand_limits(y=0)\n",
    "    + labs(y = \"Total service hours\", x = \"Service date\", title=\"Service hour per day\")\n",
    ").draw();"
   ]
  },
  {
   "cell_type": "markdown",
   "id": "78051e17",
   "metadata": {
    "papermill": {
     "duration": 0.021975,
     "end_time": "2021-06-24T22:12:45.018113",
     "exception": false,
     "start_time": "2021-06-24T22:12:44.996138",
     "status": "completed"
    },
    "tags": []
   },
   "source": [
    "## Changes Since Previous Month"
   ]
  },
  {
   "cell_type": "code",
   "execution_count": 13,
   "id": "9a14f409",
   "metadata": {
    "execution": {
     "iopub.execute_input": "2021-06-24T22:12:45.099971Z",
     "iopub.status.busy": "2021-06-24T22:12:45.096801Z",
     "iopub.status.idle": "2021-06-24T22:12:45.494284Z",
     "shell.execute_reply": "2021-06-24T22:12:45.494731Z"
    },
    "papermill": {
     "duration": 0.435507,
     "end_time": "2021-06-24T22:12:45.494873",
     "exception": false,
     "start_time": "2021-06-24T22:12:45.059366",
     "status": "completed"
    },
    "tags": []
   },
   "outputs": [
    {
     "data": {
      "image/png": "[encoded data removed]",
      "text/plain": [
       "<Figure size 640x480 with 1 Axes>"
      ]
     },
     "metadata": {},
     "output_type": "display_data"
    }
   ],
   "source": [
    "(\n",
    "    pd.concat(\n",
    "        [\n",
    "            tbl_stops_changed >> mutate(kind=\"Stops\"),\n",
    "            tbl_routes_changed >> mutate(kind=\"Routes\"),\n",
    "        ]\n",
    "    )\n",
    "    >> ggplot(aes(\"kind\", \"n\", fill=\"status\"))\n",
    "    + geom_col()\n",
    "    + labs(\n",
    "        x=\"GTFS schedule table\",\n",
    "        y=\"Number of IDs\",\n",
    "        title=f\"IDs Changed Between {START_MONTH_DAY} and {END_MONTH_DAY}\",\n",
    "    )\n",
    ").draw();"
   ]
  },
  {
   "cell_type": "markdown",
   "id": "d0805f07",
   "metadata": {
    "papermill": {
     "duration": 0.030801,
     "end_time": "2021-06-24T22:12:45.555904",
     "exception": false,
     "start_time": "2021-06-24T22:12:45.525103",
     "status": "completed"
    },
    "tags": []
   },
   "source": [
    "### (Alternative version using percentages)"
   ]
  },
  {
   "cell_type": "code",
   "execution_count": 14,
   "id": "cf536980",
   "metadata": {
    "execution": {
     "iopub.execute_input": "2021-06-24T22:12:45.621324Z",
     "iopub.status.busy": "2021-06-24T22:12:45.620333Z",
     "iopub.status.idle": "2021-06-24T22:12:46.088063Z",
     "shell.execute_reply": "2021-06-24T22:12:46.087574Z"
    },
    "papermill": {
     "duration": 0.49739,
     "end_time": "2021-06-24T22:12:46.088186",
     "exception": false,
     "start_time": "2021-06-24T22:12:45.590796",
     "status": "completed"
    },
    "tags": []
   },
   "outputs": [
    {
     "data": {
      "image/png": "[encoded data removed]",
      "text/plain": [
       "<Figure size 640x480 with 1 Axes>"
      ]
     },
     "metadata": {},
     "output_type": "display_data"
    }
   ],
   "source": [
    "(\n",
    "    pd.concat(\n",
    "        [\n",
    "            tbl_stops_changed >> mutate(kind=\"Stops\"),\n",
    "            tbl_routes_changed >> mutate(kind=\"Routes\"),\n",
    "        ]\n",
    "    )\n",
    "    >> ggplot(aes(\"kind\", \"percent\", fill=\"status\"))\n",
    "    + geom_col()\n",
    "    + labs(\n",
    "        x=\"GTFS schedule table\",\n",
    "        y=\"Percentage of IDs\",\n",
    "        title=f\"IDs Changed Between {START_MONTH_DAY} and {END_MONTH_DAY}\",\n",
    "    )\n",
    "    + scale_y_continuous(labels=percent_format, breaks=np.arange(0, 1.2, 0.2))\n",
    ").draw();"
   ]
  },
  {
   "cell_type": "markdown",
   "id": "626a0c11",
   "metadata": {
    "papermill": {
     "duration": 0.019672,
     "end_time": "2021-06-24T22:12:46.129159",
     "exception": false,
     "start_time": "2021-06-24T22:12:46.109487",
     "status": "completed"
    },
    "tags": []
   },
   "source": [
    "## Consistency with the [California GTFS Minimum Guidelines](https://dot.ca.gov/cal-itp/california-minimum-general-transit-feed-specification-gtfs-guidelines) for the feed downloaded\n"
   ]
  },
  {
   "cell_type": "markdown",
   "id": "48017383",
   "metadata": {
    "papermill": {
     "duration": 0.021893,
     "end_time": "2021-06-24T22:12:46.170768",
     "exception": false,
     "start_time": "2021-06-24T22:12:46.148875",
     "status": "completed"
    },
    "tags": []
   },
   "source": [
    "### Do the following files/fields exist?"
   ]
  },
  {
   "cell_type": "code",
   "execution_count": 15,
   "id": "b1fdff07",
   "metadata": {
    "execution": {
     "iopub.execute_input": "2021-06-24T22:12:46.219048Z",
     "iopub.status.busy": "2021-06-24T22:12:46.218052Z",
     "iopub.status.idle": "2021-06-24T22:12:46.226655Z",
     "shell.execute_reply": "2021-06-24T22:12:46.226166Z"
    },
    "papermill": {
     "duration": 0.035981,
     "end_time": "2021-06-24T22:12:46.226773",
     "exception": false,
     "start_time": "2021-06-24T22:12:46.190792",
     "status": "completed"
    },
    "tags": []
   },
   "outputs": [
    {
     "data": {
      "text/html": [
       "<div>\n",
       "<style scoped>\n",
       "    .dataframe tbody tr th:only-of-type {\n",
       "        vertical-align: middle;\n",
       "    }\n",
       "\n",
       "    .dataframe tbody tr th {\n",
       "        vertical-align: top;\n",
       "    }\n",
       "\n",
       "    .dataframe thead th {\n",
       "        text-align: right;\n",
       "    }\n",
       "</style>\n",
       "<table border=\"1\" class=\"dataframe\">\n",
       "  <thead>\n",
       "    <tr style=\"text-align: right;\">\n",
       "      <th></th>\n",
       "      <th>category</th>\n",
       "      <th>name</th>\n",
       "      <th>2021-05-02</th>\n",
       "      <th>2021-05-16</th>\n",
       "      <th>2021-05-30</th>\n",
       "    </tr>\n",
       "  </thead>\n",
       "  <tbody>\n",
       "    <tr>\n",
       "      <th>5</th>\n",
       "      <td>Visual display</td>\n",
       "      <td>shapes.txt</td>\n",
       "      <td>✅</td>\n",
       "      <td>✅</td>\n",
       "      <td>✅</td>\n",
       "    </tr>\n",
       "    <tr>\n",
       "      <th>3</th>\n",
       "      <td>Navigation</td>\n",
       "      <td>levels.txt</td>\n",
       "      <td></td>\n",
       "      <td></td>\n",
       "      <td></td>\n",
       "    </tr>\n",
       "    <tr>\n",
       "      <th>4</th>\n",
       "      <td>Navigation</td>\n",
       "      <td>pathways.txt</td>\n",
       "      <td></td>\n",
       "      <td></td>\n",
       "      <td></td>\n",
       "    </tr>\n",
       "    <tr>\n",
       "      <th>0</th>\n",
       "      <td>Fares</td>\n",
       "      <td>fare_leg_rules</td>\n",
       "      <td></td>\n",
       "      <td></td>\n",
       "      <td></td>\n",
       "    </tr>\n",
       "    <tr>\n",
       "      <th>1</th>\n",
       "      <td>Fares</td>\n",
       "      <td>fare_rules.txt</td>\n",
       "      <td>✅</td>\n",
       "      <td>✅</td>\n",
       "      <td>✅</td>\n",
       "    </tr>\n",
       "    <tr>\n",
       "      <th>2</th>\n",
       "      <td>Technical contacts</td>\n",
       "      <td>feed_info.txt</td>\n",
       "      <td>✅</td>\n",
       "      <td>✅</td>\n",
       "      <td>✅</td>\n",
       "    </tr>\n",
       "  </tbody>\n",
       "</table>\n",
       "</div>"
      ],
      "text/plain": [
       "             category            name 2021-05-02 2021-05-16 2021-05-30\n",
       "5      Visual display      shapes.txt          ✅          ✅          ✅\n",
       "3          Navigation      levels.txt                                 \n",
       "4          Navigation    pathways.txt                                 \n",
       "0               Fares  fare_leg_rules                                 \n",
       "1               Fares  fare_rules.txt          ✅          ✅          ✅\n",
       "2  Technical contacts   feed_info.txt          ✅          ✅          ✅"
      ]
     },
     "execution_count": 15,
     "metadata": {},
     "output_type": "execute_result"
    }
   ],
   "source": [
    "tbl_file_check"
   ]
  },
  {
   "cell_type": "markdown",
   "id": "fd691a6b",
   "metadata": {
    "papermill": {
     "duration": 0.02098,
     "end_time": "2021-06-24T22:12:46.268298",
     "exception": false,
     "start_time": "2021-06-24T22:12:46.247318",
     "status": "completed"
    },
    "tags": []
   },
   "source": [
    "### Validation Errors Observed"
   ]
  },
  {
   "cell_type": "code",
   "execution_count": 16,
   "id": "2db41796",
   "metadata": {
    "execution": {
     "iopub.execute_input": "2021-06-24T22:12:46.330557Z",
     "iopub.status.busy": "2021-06-24T22:12:46.328726Z",
     "iopub.status.idle": "2021-06-24T22:12:46.341179Z",
     "shell.execute_reply": "2021-06-24T22:12:46.342470Z"
    },
    "papermill": {
     "duration": 0.052095,
     "end_time": "2021-06-24T22:12:46.342721",
     "exception": false,
     "start_time": "2021-06-24T22:12:46.290626",
     "status": "completed"
    },
    "tags": []
   },
   "outputs": [
    {
     "data": {
      "text/markdown": [
       "No validation error observed in your feed."
      ],
      "text/plain": [
       "<IPython.core.display.Markdown object>"
      ]
     },
     "metadata": {},
     "output_type": "display_data"
    }
   ],
   "source": [
    "if tbl_validation_notices.shape[0] == 0:\n",
    "    display(Markdown(\"No validation error observed in your feed.\"))\n",
    "else:    \n",
    "    display(tbl_validation_notices)"
   ]
  },
  {
   "cell_type": "markdown",
   "id": "611b1acd",
   "metadata": {
    "papermill": {
     "duration": 0.037795,
     "end_time": "2021-06-24T22:12:46.421061",
     "exception": false,
     "start_time": "2021-06-24T22:12:46.383266",
     "status": "completed"
    },
    "tags": []
   },
   "source": [
    "For more information about Cal-ITP, including the [Minimum GTFS Guidelines](https://dot.ca.gov/cal-itp/california-minimum-general-transit-feed-specification-gtfs-guidelines) and our [Transit Data Helpdesk](https://dot.ca.gov/programs/rail-and-mass-transportation/gtfs/helpdesk), contact [GTFSRT@dot.ca.gov](mailto:GTFSRT@dot.ca.gov)."
   ]
  }
 ],
 "metadata": {
  "kernelspec": {
   "display_name": "venv-calitp-py",
   "language": "python",
   "name": "venv-calitp-py"
  },
  "language_info": {
   "codemirror_mode": {
    "name": "ipython",
    "version": 3
   },
   "file_extension": ".py",
   "mimetype": "text/x-python",
   "name": "python",
   "nbconvert_exporter": "python",
   "pygments_lexer": "ipython3",
   "version": "3.8.5"
  },
  "papermill": {
   "default_parameters": {},
   "duration": 44.068098,
   "end_time": "2021-06-24T22:12:47.291010",
   "environment_variables": {},
   "exception": null,
   "input_path": "report.ipynb",
   "output_path": "output/95/report.ipynb",
   "parameters": {
    "CALITP_ITP_ID": 95,
    "CALITP_URL_NUMBER": 0,
    "DEBUG": false,
    "END_DATE": "2021-06-01",
    "START_DATE": "2021-05-01"
   },
   "start_time": "2021-06-24T22:12:03.222912",
   "version": "2.3.3"
  }
 },
 "nbformat": 4,
 "nbformat_minor": 5
}