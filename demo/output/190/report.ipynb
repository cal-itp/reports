{
 "cells": [
  {
   "cell_type": "markdown",
   "id": "bdbba4d9",
   "metadata": {
    "papermill": {
     "duration": 0.015246,
     "end_time": "2021-06-23T00:31:13.438193",
     "exception": false,
     "start_time": "2021-06-23T00:31:13.422947",
     "status": "completed"
    },
    "tags": [
     "hide"
    ]
   },
   "source": [
    "# Setup"
   ]
  },
  {
   "cell_type": "code",
   "execution_count": 1,
   "id": "138a879c",
   "metadata": {
    "execution": {
     "iopub.execute_input": "2021-06-23T00:31:13.502301Z",
     "iopub.status.busy": "2021-06-23T00:31:13.491387Z",
     "iopub.status.idle": "2021-06-23T00:31:21.720130Z",
     "shell.execute_reply": "2021-06-23T00:31:21.721010Z"
    },
    "papermill": {
     "duration": 8.265905,
     "end_time": "2021-06-23T00:31:21.721441",
     "exception": false,
     "start_time": "2021-06-23T00:31:13.455536",
     "status": "completed"
    },
    "tags": [
     "hide"
    ]
   },
   "outputs": [],
   "source": [
    "import pandas as pd\n",
    "\n",
    "from io import StringIO\n",
    "from calitp.tables import tbl\n",
    "from datetime import date\n",
    "from siuba import *\n",
    "from plotnine import *\n",
    "\n",
    "\n",
    "START_DATE = \"2021-05-01\"\n",
    "END_DATE = \"2021-06-01\"\n",
    "DATE_TODAY=date.today()\n",
    "\n",
    "WEEK_MARKERS = pd.date_range(START_DATE, END_DATE, freq=\"W\").astype(str).tolist()"
   ]
  },
  {
   "cell_type": "code",
   "execution_count": 2,
   "id": "140ac9c3",
   "metadata": {
    "execution": {
     "iopub.execute_input": "2021-06-23T00:31:21.782235Z",
     "iopub.status.busy": "2021-06-23T00:31:21.781366Z",
     "iopub.status.idle": "2021-06-23T00:31:21.789415Z",
     "shell.execute_reply": "2021-06-23T00:31:21.790214Z"
    },
    "papermill": {
     "duration": 0.045472,
     "end_time": "2021-06-23T00:31:21.790714",
     "exception": false,
     "start_time": "2021-06-23T00:31:21.745242",
     "status": "completed"
    },
    "tags": [
     "parameters",
     "hide"
    ]
   },
   "outputs": [],
   "source": [
    "CALITP_ITP_ID=389\n",
    "#CALITP_ITP_ID=45\n",
    "CALITP_URL_NUMBER=0"
   ]
  },
  {
   "cell_type": "code",
   "execution_count": 3,
   "id": "635fe154",
   "metadata": {
    "execution": {
     "iopub.execute_input": "2021-06-23T00:31:21.844608Z",
     "iopub.status.busy": "2021-06-23T00:31:21.843589Z",
     "iopub.status.idle": "2021-06-23T00:31:21.847654Z",
     "shell.execute_reply": "2021-06-23T00:31:21.848424Z"
    },
    "papermill": {
     "duration": 0.032559,
     "end_time": "2021-06-23T00:31:21.848911",
     "exception": false,
     "start_time": "2021-06-23T00:31:21.816352",
     "status": "completed"
    },
    "tags": [
     "injected-parameters"
    ]
   },
   "outputs": [],
   "source": [
    "# Parameters\n",
    "CALITP_ITP_ID = 190\n",
    "CALITP_URL_NUMBER = 0\n"
   ]
  },
  {
   "cell_type": "code",
   "execution_count": 4,
   "id": "11fe1426",
   "metadata": {
    "execution": {
     "iopub.execute_input": "2021-06-23T00:31:21.914129Z",
     "iopub.status.busy": "2021-06-23T00:31:21.913036Z",
     "iopub.status.idle": "2021-06-23T00:31:21.922740Z",
     "shell.execute_reply": "2021-06-23T00:31:21.923209Z"
    },
    "papermill": {
     "duration": 0.051105,
     "end_time": "2021-06-23T00:31:21.923384",
     "exception": false,
     "start_time": "2021-06-23T00:31:21.872279",
     "status": "completed"
    },
    "tags": [
     "hide"
    ]
   },
   "outputs": [],
   "source": [
    "# Convenience functions ----\n",
    "\n",
    "filter_start = filter(\n",
    "    _.calitp_extracted_at <= START_DATE,\n",
    "    _.calitp_deleted_at.fillna(\"2099-01-01\") > START_DATE,\n",
    ")\n",
    "\n",
    "filter_end = filter(\n",
    "    _.calitp_extracted_at <= END_DATE,\n",
    "    _.calitp_deleted_at.fillna(\"2099-01-01\") > END_DATE,\n",
    ")\n",
    "\n",
    "filter_itp = filter(\n",
    "    _.calitp_itp_id == CALITP_ITP_ID, _.calitp_url_number == CALITP_URL_NUMBER\n",
    ")\n",
    "\n",
    "collect_to_dict = (\n",
    "    collect()\n",
    "    >> pipe(_.to_dict(orient=\"records\")[0])\n",
    ")\n",
    "\n",
    "\n",
    "select_rm_calitp = select(\n",
    "    -_.calitp_itp_id,\n",
    "    -_.calitp_url_number,\n",
    "    -_.calitp_hash,\n",
    "    -_.calitp_extracted_at,\n",
    "    -_.calitp_deleted_at,\n",
    ")\n",
    "\n",
    "\n",
    "def query_id_changes(start_table, end_table, id_vars):\n",
    "    \"\"\"Calculate id variables that are removed, added, or unchanged between tables.\n",
    "    \n",
    "    It works by adding a special column to each table, performing a full join,\n",
    "    then checking where the special column is null.\n",
    "    \"\"\"\n",
    "    sym_id_vars = [_[k] for k in id_vars]\n",
    "\n",
    "    is_in_start = start_table >> select(*id_vars) >> mutate(is_in_start=True)\n",
    "    is_in_end = end_table >> select(*id_vars) >> mutate(is_in_end=True)\n",
    "\n",
    "    baseline = start_table >> count(*id_vars) >> rename(n_baseline=\"n\")\n",
    "    tallies = (\n",
    "        is_in_start\n",
    "        >> full_join(_, is_in_end, id_vars)\n",
    "        >> count(*sym_id_vars, _.is_in_start, _.is_in_end)\n",
    "        >> mutate(\n",
    "            status=case_when(\n",
    "                _,\n",
    "                {\n",
    "                    _.is_in_end.isna(): \"Removed\",\n",
    "                    _.is_in_start.isna(): \"Added\",\n",
    "                    True: \"Unchanged\",\n",
    "                },\n",
    "            )\n",
    "        )\n",
    "        >> count(*sym_id_vars[:-1], _.status)\n",
    "        >> group_by(*sym_id_vars[:-1])\n",
    "        >> mutate(percent=_.n / _.n.sum())\n",
    "    )\n",
    "\n",
    "    return tallies"
   ]
  },
  {
   "cell_type": "code",
   "execution_count": 5,
   "id": "a49da155",
   "metadata": {
    "execution": {
     "iopub.execute_input": "2021-06-23T00:31:21.974147Z",
     "iopub.status.busy": "2021-06-23T00:31:21.968027Z",
     "iopub.status.idle": "2021-06-23T00:31:46.917027Z",
     "shell.execute_reply": "2021-06-23T00:31:46.916534Z"
    },
    "papermill": {
     "duration": 24.974641,
     "end_time": "2021-06-23T00:31:46.917185",
     "exception": false,
     "start_time": "2021-06-23T00:31:21.942544",
     "status": "completed"
    },
    "tags": [
     "hide"
    ]
   },
   "outputs": [],
   "source": [
    "# Data ====\n",
    "# 1. High level feed info ----\n",
    "feed_info = (\n",
    "    tbl.gtfs_schedule_type2.feed_info()\n",
    "    >> filter_end\n",
    "    >> filter_itp\n",
    "    >> select_rm_calitp\n",
    "    >> collect_to_dict\n",
    ")\n",
    "\n",
    "_n_routes = (\n",
    "    tbl.gtfs_schedule_type2.routes() >> filter_end >> filter_itp >> count() >> collect()\n",
    ")\n",
    "_n_stops = (\n",
    "    tbl.gtfs_schedule_type2.stops() >> filter_end >> filter_itp >> count() >> collect()\n",
    ")\n",
    "\n",
    "feed_info[\"n_routes\"] = int(_n_routes.loc[0, \"n\"])\n",
    "feed_info[\"n_stops\"] = int(_n_stops.loc[0, \"n\"])\n",
    "\n",
    "status = (\n",
    "    tbl.views.gtfs_status_latest()\n",
    "    >> filter(_.itp_id == CALITP_ITP_ID, _.url_number == CALITP_URL_NUMBER)\n",
    "    >> select(-_.url_number, -_.status)\n",
    "    >> select_rm_calitp\n",
    "    >> collect_to_dict\n",
    ")\n",
    "\n",
    "# 2. Monthly metrics ----\n",
    "# Service hours per day. Note that the queried table calculates service\n",
    "# hours per service id, so we need to sum across service ids for the day\n",
    "_cross_cal = (\n",
    "    tbl.views.dim_date()\n",
    "    >> filter(_.full_date.between(START_DATE, END_DATE))\n",
    "    >> select(_.service_date == _.full_date)\n",
    ")\n",
    "\n",
    "tbl_daily_service_hours = (\n",
    "    tbl.views.gtfs_schedule_service_daily_metrics()\n",
    "    >> filter_itp\n",
    "    >> filter(_.service_date.between(START_DATE, END_DATE))\n",
    "    >> right_join(_, _cross_cal, [\"service_date\"])\n",
    "    >> collect()\n",
    "    >> group_by(_.service_date)\n",
    "    >> summarize(ttl_service_hours=(_.last_arrival_ts.max() - _.first_departure_ts.min()) / 3600)\n",
    "    >> mutate(\n",
    "        ttl_service_hours=_.ttl_service_hours.astype(float).round(2),\n",
    "        service_date=_.service_date.astype(\"datetime64[ns]\"),\n",
    "    )\n",
    ")\n",
    "\n",
    "# number of days where a feed did not have any trips in service\n",
    "n_expired_days = (\n",
    "    tbl_daily_service_hours >> filter(_.ttl_service_hours.isna())\n",
    "    >> pipe(lambda d: {\"n\": d.shape[0]})\n",
    ")\n",
    "\n",
    "# 3. Stop and Route ID Changes ----\n",
    "\n",
    "_tbl_stops_start = tbl.gtfs_schedule_type2.stops() >> filter_itp >> filter_start\n",
    "_tbl_stops_end = tbl.gtfs_schedule_type2.stops() >> filter_itp >> filter_end\n",
    "tbl_stops_changed = (\n",
    "    query_id_changes(_tbl_stops_start, _tbl_stops_end, [\"stop_id\"]) >> collect()\n",
    ")\n",
    "\n",
    "_tbl_routes_start = tbl.gtfs_schedule_type2.routes() >> filter_start\n",
    "_tbl_routes_end = tbl.gtfs_schedule_type2.routes() >> filter_end\n",
    "tbl_routes_changed = (\n",
    "    query_id_changes(_tbl_routes_start, _tbl_routes_end, [\"route_id\"]) >> collect()\n",
    ")"
   ]
  },
  {
   "cell_type": "code",
   "execution_count": 6,
   "id": "f9c14141",
   "metadata": {
    "execution": {
     "iopub.execute_input": "2021-06-23T00:31:46.997070Z",
     "iopub.status.busy": "2021-06-23T00:31:46.995731Z",
     "iopub.status.idle": "2021-06-23T00:31:52.689490Z",
     "shell.execute_reply": "2021-06-23T00:31:52.688902Z"
    },
    "papermill": {
     "duration": 5.747705,
     "end_time": "2021-06-23T00:31:52.689658",
     "exception": false,
     "start_time": "2021-06-23T00:31:46.941953",
     "status": "completed"
    },
    "tags": [
     "hide"
    ]
   },
   "outputs": [],
   "source": [
    "# 4. Feed files being checked for ----\n",
    "\n",
    "file_categories = pd.DataFrame(\n",
    "    {\n",
    "        \"shapes.txt\": \"Visual display\",\n",
    "        \"pathways.txt\": \"Navigation\",\n",
    "        \"levels.txt\": \"Navigation\",\n",
    "        \"fare_rules.txt\": \"Fares\",\n",
    "        \"fare_leg_rules\": \"Fares\",\n",
    "        \"feed_info.txt\": \"Technical contacts\",\n",
    "    }.items(),\n",
    "    columns=[\"name\", \"category\"],\n",
    ")\n",
    "\n",
    "importance = [\"Visual display\", \"Navigation\", \"Fares\", \"Technical contacts\"]\n",
    "\n",
    "tbl_file_check = (\n",
    "    tbl.gtfs_schedule_history.calitp_files_updates()\n",
    "    >> filter_itp\n",
    "    >> filter(_.calitp_extracted_at.isin(WEEK_MARKERS))\n",
    "    >> select(_.name, _.calitp_extracted_at)\n",
    "    >> collect()\n",
    "    >> right_join(_, file_categories, [\"name\"])\n",
    "    >> mutate(\n",
    "        calitp_extracted_at=_.calitp_extracted_at.fillna(\"missing\").astype(str),\n",
    "        success=\"✅\",\n",
    "    )\n",
    "    >> spread(_.calitp_extracted_at, _.success)\n",
    "    >> select(-_.missing)\n",
    "    >> arrange(_.category.apply(importance.index))\n",
    "    >> select(_.category, _.contains(\"\"))\n",
    "    >> pipe(_.fillna(\"\"))\n",
    ")\n",
    "\n",
    "tbl_validation_notices = (\n",
    "    tbl.views.validation_notices()\n",
    "    >> filter_itp\n",
    "    >> filter(_.severity == \"ERROR\")\n",
    "    >> count(_.code, _.severity)\n",
    "    >> collect()\n",
    ")"
   ]
  },
  {
   "cell_type": "markdown",
   "id": "d797d322",
   "metadata": {
    "papermill": {
     "duration": 0.016472,
     "end_time": "2021-06-23T00:31:52.722723",
     "exception": false,
     "start_time": "2021-06-23T00:31:52.706251",
     "status": "completed"
    },
    "tags": [
     "hide"
    ]
   },
   "source": [
    "## Dump data"
   ]
  },
  {
   "cell_type": "code",
   "execution_count": 7,
   "id": "c58933d1",
   "metadata": {
    "execution": {
     "iopub.execute_input": "2021-06-23T00:31:52.762971Z",
     "iopub.status.busy": "2021-06-23T00:31:52.762175Z",
     "iopub.status.idle": "2021-06-23T00:31:52.770307Z",
     "shell.execute_reply": "2021-06-23T00:31:52.770735Z"
    },
    "papermill": {
     "duration": 0.030039,
     "end_time": "2021-06-23T00:31:52.770895",
     "exception": false,
     "start_time": "2021-06-23T00:31:52.740856",
     "status": "completed"
    },
    "tags": [
     "hide"
    ]
   },
   "outputs": [],
   "source": [
    "import json\n",
    "import shutil\n",
    "\n",
    "from pathlib import Path\n",
    "\n",
    "out_dir = Path(f\"output/{CALITP_ITP_ID}_{CALITP_URL_NUMBER}/data\")\n",
    "out_dir.mkdir(parents=True, exist_ok=True)\n",
    "\n",
    "json.dump(feed_info, open(out_dir / \"1_feed_info.json\", \"w\"))\n",
    "json.dump(status, open(out_dir / \"1_status.json\", \"w\"))\n",
    "\n",
    "tbl_daily_service_hours.to_json(out_dir / \"2_daily_service_hours.json\", orient=\"records\")\n",
    "json.dump(n_expired_days, open(out_dir / \"2_n_expired_days.json\", \"w\"))\n",
    "\n",
    "tbl_stops_changed.to_json(out_dir / \"3_stops_changed.json\", orient=\"records\")\n",
    "tbl_routes_changed.to_json(out_dir / \"3_routes_changed.json\", orient=\"records\")\n",
    "tbl_file_check.to_json(out_dir / \"4_file_check.json\", orient=\"records\")\n",
    "tbl_validation_notices.to_json(out_dir / \"4_validation_notices.json\", orient=\"records\")\n"
   ]
  },
  {
   "cell_type": "markdown",
   "id": "116e8de9",
   "metadata": {
    "papermill": {
     "duration": 0.014479,
     "end_time": "2021-06-23T00:31:52.799846",
     "exception": false,
     "start_time": "2021-06-23T00:31:52.785367",
     "status": "completed"
    },
    "tags": []
   },
   "source": [
    "# GTFS Schedule Report"
   ]
  },
  {
   "cell_type": "markdown",
   "id": "bcf23993",
   "metadata": {
    "papermill": {
     "duration": 0.015071,
     "end_time": "2021-06-23T00:31:52.830044",
     "exception": false,
     "start_time": "2021-06-23T00:31:52.814973",
     "status": "completed"
    },
    "tags": []
   },
   "source": [
    "# Example Juniper Report"
   ]
  },
  {
   "cell_type": "code",
   "execution_count": 8,
   "id": "e6dc0753",
   "metadata": {
    "execution": {
     "iopub.execute_input": "2021-06-23T00:31:52.869818Z",
     "iopub.status.busy": "2021-06-23T00:31:52.868770Z",
     "iopub.status.idle": "2021-06-23T00:31:52.872194Z",
     "shell.execute_reply": "2021-06-23T00:31:52.872615Z"
    },
    "papermill": {
     "duration": 0.024522,
     "end_time": "2021-06-23T00:31:52.872775",
     "exception": false,
     "start_time": "2021-06-23T00:31:52.848253",
     "status": "completed"
    },
    "tags": []
   },
   "outputs": [
    {
     "data": {
      "text/markdown": [
       "\n",
       "Transit provider name: Trillium Solutions, Inc.\n",
       "\n",
       "Date generated: 2021-06-22\n"
      ],
      "text/plain": [
       "<IPython.core.display.Markdown object>"
      ]
     },
     "execution_count": 8,
     "metadata": {},
     "output_type": "execute_result"
    }
   ],
   "source": [
    "from IPython.display import Markdown\n",
    "\n",
    "Markdown(f\"\"\"\n",
    "Transit provider name: {feed_info[\"feed_publisher_name\"]}\n",
    "\n",
    "Date generated: {DATE_TODAY}\n",
    "\"\"\")"
   ]
  },
  {
   "cell_type": "markdown",
   "id": "ae39321e",
   "metadata": {
    "papermill": {
     "duration": 0.015003,
     "end_time": "2021-06-23T00:31:52.902204",
     "exception": false,
     "start_time": "2021-06-23T00:31:52.887201",
     "status": "completed"
    },
    "tags": []
   },
   "source": [
    "This is a monthly report, generated by the California Integrated Travel Project (Cal-ITP), summarizing issues discovered by MobilityData’s GTFS Validator. This report is available for viewing by the general public to support continuous improvement of GTFS data and the experience of transit passengers. "
   ]
  },
  {
   "cell_type": "markdown",
   "id": "bca11d96",
   "metadata": {
    "papermill": {
     "duration": 0.015202,
     "end_time": "2021-06-23T00:31:52.935036",
     "exception": false,
     "start_time": "2021-06-23T00:31:52.919834",
     "status": "completed"
    },
    "tags": []
   },
   "source": [
    "## Overview"
   ]
  },
  {
   "cell_type": "code",
   "execution_count": 9,
   "id": "9c2baa5a",
   "metadata": {
    "execution": {
     "iopub.execute_input": "2021-06-23T00:31:52.973422Z",
     "iopub.status.busy": "2021-06-23T00:31:52.972587Z",
     "iopub.status.idle": "2021-06-23T00:31:52.976234Z",
     "shell.execute_reply": "2021-06-23T00:31:52.975778Z"
    },
    "papermill": {
     "duration": 0.022738,
     "end_time": "2021-06-23T00:31:52.976367",
     "exception": false,
     "start_time": "2021-06-23T00:31:52.953629",
     "status": "completed"
    },
    "tags": []
   },
   "outputs": [
    {
     "data": {
      "text/markdown": [
       "\n",
       "Feed location: http://data.trilliumtransit.com/gtfs/easternsierra-ca-us/easternsierra-ca-us.zip\n",
       "\n",
       "Metrics for the most recent published version of the feed:\n",
       "\n",
       "* Date published: UTC: 01-Jun-2021 17:14\n",
       "* Number of routes in any service: 15\n",
       "* Number of stops in service: 201\n"
      ],
      "text/plain": [
       "<IPython.core.display.Markdown object>"
      ]
     },
     "execution_count": 9,
     "metadata": {},
     "output_type": "execute_result"
    }
   ],
   "source": [
    "Markdown(f\"\"\"\n",
    "Feed location: {status[\"gtfs_schedule_url\"]}\n",
    "\n",
    "Metrics for the most recent published version of the feed:\n",
    "\n",
    "* Date published: {feed_info[\"feed_version\"]}\n",
    "* Number of routes in any service: {feed_info[\"n_routes\"]}\n",
    "* Number of stops in service: {feed_info[\"n_stops\"]}\n",
    "\"\"\")"
   ]
  },
  {
   "cell_type": "markdown",
   "id": "b8dbc0d2",
   "metadata": {
    "papermill": {
     "duration": 0.016097,
     "end_time": "2021-06-23T00:31:53.012429",
     "exception": false,
     "start_time": "2021-06-23T00:31:52.996332",
     "status": "completed"
    },
    "tags": []
   },
   "source": [
    "## Aggregated Metrics for May"
   ]
  },
  {
   "cell_type": "code",
   "execution_count": 10,
   "id": "757d8848",
   "metadata": {
    "execution": {
     "iopub.execute_input": "2021-06-23T00:31:53.054281Z",
     "iopub.status.busy": "2021-06-23T00:31:53.053281Z",
     "iopub.status.idle": "2021-06-23T00:31:53.062697Z",
     "shell.execute_reply": "2021-06-23T00:31:53.063676Z"
    },
    "papermill": {
     "duration": 0.034569,
     "end_time": "2021-06-23T00:31:53.063873",
     "exception": false,
     "start_time": "2021-06-23T00:31:53.029304",
     "status": "completed"
    },
    "tags": []
   },
   "outputs": [
    {
     "data": {
      "text/markdown": [
       "\n",
       "Days when the active feed was expired: 12\n"
      ],
      "text/plain": [
       "<IPython.core.display.Markdown object>"
      ]
     },
     "execution_count": 10,
     "metadata": {},
     "output_type": "execute_result"
    }
   ],
   "source": [
    "Markdown(f\"\"\"\n",
    "Days when the active feed was expired: {n_expired_days[\"n\"]}\n",
    "\"\"\")"
   ]
  },
  {
   "cell_type": "code",
   "execution_count": 11,
   "id": "5ad932da",
   "metadata": {
    "execution": {
     "iopub.execute_input": "2021-06-23T00:31:53.123665Z",
     "iopub.status.busy": "2021-06-23T00:31:53.107116Z",
     "iopub.status.idle": "2021-06-23T00:31:53.444027Z",
     "shell.execute_reply": "2021-06-23T00:31:53.443423Z"
    },
    "papermill": {
     "duration": 0.362034,
     "end_time": "2021-06-23T00:31:53.444165",
     "exception": false,
     "start_time": "2021-06-23T00:31:53.082131",
     "status": "completed"
    },
    "tags": []
   },
   "outputs": [
    {
     "name": "stderr",
     "output_type": "stream",
     "text": [
      "/Users/machow/.virtualenvs/calitp-py/lib/python3.8/site-packages/plotnine/geoms/geom_path.py:75: PlotnineWarning: geom_path: Removed 12 rows containing missing values.\n",
      "/Users/machow/.virtualenvs/calitp-py/lib/python3.8/site-packages/plotnine/layer.py:401: PlotnineWarning: geom_point : Removed 12 rows containing missing values.\n"
     ]
    },
    {
     "data": {
      "image/png": "[encoded data removed]",
      "text/plain": [
       "<Figure size 640x480 with 1 Axes>"
      ]
     },
     "metadata": {},
     "output_type": "display_data"
    },
    {
     "data": {
      "text/plain": [
       "<ggplot: (316373420)>"
      ]
     },
     "execution_count": 11,
     "metadata": {},
     "output_type": "execute_result"
    }
   ],
   "source": [
    "(\n",
    "    tbl_daily_service_hours\n",
    "    >> ggplot(aes(\"service_date\", \"ttl_service_hours\"))\n",
    "    + geom_line()\n",
    "    + geom_point()\n",
    "    + theme(axis_text_x=element_text(angle=45, hjust=1))\n",
    "    + scale_x_datetime(date_breaks=\"1 week\")\n",
    "    + expand_limits(y=0)\n",
    ")"
   ]
  },
  {
   "cell_type": "markdown",
   "id": "4e95adcb",
   "metadata": {
    "papermill": {
     "duration": 0.01706,
     "end_time": "2021-06-23T00:31:53.478052",
     "exception": false,
     "start_time": "2021-06-23T00:31:53.460992",
     "status": "completed"
    },
    "tags": []
   },
   "source": [
    "## Changes Since Previous Month"
   ]
  },
  {
   "cell_type": "code",
   "execution_count": 12,
   "id": "f32f4eb9",
   "metadata": {
    "execution": {
     "iopub.execute_input": "2021-06-23T00:31:53.556816Z",
     "iopub.status.busy": "2021-06-23T00:31:53.555021Z",
     "iopub.status.idle": "2021-06-23T00:31:53.813752Z",
     "shell.execute_reply": "2021-06-23T00:31:53.813249Z"
    },
    "papermill": {
     "duration": 0.31547,
     "end_time": "2021-06-23T00:31:53.813900",
     "exception": false,
     "start_time": "2021-06-23T00:31:53.498430",
     "status": "completed"
    },
    "tags": []
   },
   "outputs": [
    {
     "data": {
      "image/png": "[encoded data removed]",
      "text/plain": [
       "<Figure size 640x480 with 1 Axes>"
      ]
     },
     "metadata": {},
     "output_type": "display_data"
    },
    {
     "data": {
      "text/plain": [
       "<ggplot: (316378926)>"
      ]
     },
     "execution_count": 12,
     "metadata": {},
     "output_type": "execute_result"
    }
   ],
   "source": [
    "(\n",
    "    pd.concat(\n",
    "        [\n",
    "            tbl_stops_changed >> mutate(kind=\"Stops\"),\n",
    "            tbl_routes_changed >> mutate(kind=\"Routes\"),\n",
    "        ]\n",
    "    )\n",
    "    >> ggplot(aes(\"kind\", \"n\", fill=\"status\"))\n",
    "    + geom_col()\n",
    "    + labs(x=\"Kind of ID\", y=\"Number of Changes\")\n",
    ")"
   ]
  },
  {
   "cell_type": "markdown",
   "id": "6ca29143",
   "metadata": {
    "papermill": {
     "duration": 0.018808,
     "end_time": "2021-06-23T00:31:53.851307",
     "exception": false,
     "start_time": "2021-06-23T00:31:53.832499",
     "status": "completed"
    },
    "tags": []
   },
   "source": [
    "### (Alternative version using percentages)"
   ]
  },
  {
   "cell_type": "code",
   "execution_count": 13,
   "id": "a1c4823b",
   "metadata": {
    "execution": {
     "iopub.execute_input": "2021-06-23T00:31:53.923624Z",
     "iopub.status.busy": "2021-06-23T00:31:53.896707Z",
     "iopub.status.idle": "2021-06-23T00:31:54.206625Z",
     "shell.execute_reply": "2021-06-23T00:31:54.206107Z"
    },
    "papermill": {
     "duration": 0.336051,
     "end_time": "2021-06-23T00:31:54.206777",
     "exception": false,
     "start_time": "2021-06-23T00:31:53.870726",
     "status": "completed"
    },
    "tags": []
   },
   "outputs": [
    {
     "data": {
      "image/png": "[encoded data removed]",
      "text/plain": [
       "<Figure size 640x480 with 1 Axes>"
      ]
     },
     "metadata": {},
     "output_type": "display_data"
    },
    {
     "data": {
      "text/plain": [
       "<ggplot: (316793167)>"
      ]
     },
     "execution_count": 13,
     "metadata": {},
     "output_type": "execute_result"
    }
   ],
   "source": [
    "(\n",
    "    pd.concat(\n",
    "        [\n",
    "            tbl_stops_changed >> mutate(kind=\"Stops\"),\n",
    "            tbl_routes_changed >> mutate(kind=\"Routes\"),\n",
    "        ]\n",
    "    )\n",
    "    >> ggplot(aes(\"kind\", \"percent\", fill=\"status\"))\n",
    "    + geom_col()\n",
    "    + labs(x=\"Kind of ID\", y=\"Percent of Changes\")\n",
    ")"
   ]
  },
  {
   "cell_type": "markdown",
   "id": "c2b37f19",
   "metadata": {
    "papermill": {
     "duration": 0.023034,
     "end_time": "2021-06-23T00:31:54.249220",
     "exception": false,
     "start_time": "2021-06-23T00:31:54.226186",
     "status": "completed"
    },
    "tags": []
   },
   "source": [
    "## Consistency with the California GTFS Minimum Guidelines for the feed downloaded\n"
   ]
  },
  {
   "cell_type": "code",
   "execution_count": 14,
   "id": "a20dd7cb",
   "metadata": {
    "execution": {
     "iopub.execute_input": "2021-06-23T00:31:54.305661Z",
     "iopub.status.busy": "2021-06-23T00:31:54.301420Z",
     "iopub.status.idle": "2021-06-23T00:31:54.312105Z",
     "shell.execute_reply": "2021-06-23T00:31:54.312512Z"
    },
    "papermill": {
     "duration": 0.041226,
     "end_time": "2021-06-23T00:31:54.312685",
     "exception": false,
     "start_time": "2021-06-23T00:31:54.271459",
     "status": "completed"
    },
    "tags": []
   },
   "outputs": [
    {
     "data": {
      "text/html": [
       "<div>\n",
       "<style scoped>\n",
       "    .dataframe tbody tr th:only-of-type {\n",
       "        vertical-align: middle;\n",
       "    }\n",
       "\n",
       "    .dataframe tbody tr th {\n",
       "        vertical-align: top;\n",
       "    }\n",
       "\n",
       "    .dataframe thead th {\n",
       "        text-align: right;\n",
       "    }\n",
       "</style>\n",
       "<table border=\"1\" class=\"dataframe\">\n",
       "  <thead>\n",
       "    <tr style=\"text-align: right;\">\n",
       "      <th></th>\n",
       "      <th>category</th>\n",
       "      <th>name</th>\n",
       "      <th>2021-05-16</th>\n",
       "      <th>2021-05-23</th>\n",
       "      <th>2021-05-30</th>\n",
       "    </tr>\n",
       "  </thead>\n",
       "  <tbody>\n",
       "    <tr>\n",
       "      <th>5</th>\n",
       "      <td>Visual display</td>\n",
       "      <td>shapes.txt</td>\n",
       "      <td>✅</td>\n",
       "      <td>✅</td>\n",
       "      <td>✅</td>\n",
       "    </tr>\n",
       "    <tr>\n",
       "      <th>3</th>\n",
       "      <td>Navigation</td>\n",
       "      <td>levels.txt</td>\n",
       "      <td></td>\n",
       "      <td></td>\n",
       "      <td></td>\n",
       "    </tr>\n",
       "    <tr>\n",
       "      <th>4</th>\n",
       "      <td>Navigation</td>\n",
       "      <td>pathways.txt</td>\n",
       "      <td></td>\n",
       "      <td></td>\n",
       "      <td></td>\n",
       "    </tr>\n",
       "    <tr>\n",
       "      <th>0</th>\n",
       "      <td>Fares</td>\n",
       "      <td>fare_leg_rules</td>\n",
       "      <td></td>\n",
       "      <td></td>\n",
       "      <td></td>\n",
       "    </tr>\n",
       "    <tr>\n",
       "      <th>1</th>\n",
       "      <td>Fares</td>\n",
       "      <td>fare_rules.txt</td>\n",
       "      <td>✅</td>\n",
       "      <td>✅</td>\n",
       "      <td>✅</td>\n",
       "    </tr>\n",
       "    <tr>\n",
       "      <th>2</th>\n",
       "      <td>Technical contacts</td>\n",
       "      <td>feed_info.txt</td>\n",
       "      <td>✅</td>\n",
       "      <td>✅</td>\n",
       "      <td>✅</td>\n",
       "    </tr>\n",
       "  </tbody>\n",
       "</table>\n",
       "</div>"
      ],
      "text/plain": [
       "             category            name 2021-05-16 2021-05-23 2021-05-30\n",
       "5      Visual display      shapes.txt          ✅          ✅          ✅\n",
       "3          Navigation      levels.txt                                 \n",
       "4          Navigation    pathways.txt                                 \n",
       "0               Fares  fare_leg_rules                                 \n",
       "1               Fares  fare_rules.txt          ✅          ✅          ✅\n",
       "2  Technical contacts   feed_info.txt          ✅          ✅          ✅"
      ]
     },
     "execution_count": 14,
     "metadata": {},
     "output_type": "execute_result"
    }
   ],
   "source": [
    "tbl_file_check"
   ]
  },
  {
   "cell_type": "markdown",
   "id": "7e69d489",
   "metadata": {
    "papermill": {
     "duration": 0.019935,
     "end_time": "2021-06-23T00:31:54.356339",
     "exception": false,
     "start_time": "2021-06-23T00:31:54.336404",
     "status": "completed"
    },
    "tags": []
   },
   "source": [
    "### Validation Errors Observed"
   ]
  },
  {
   "cell_type": "code",
   "execution_count": 15,
   "id": "a442b65a",
   "metadata": {
    "execution": {
     "iopub.execute_input": "2021-06-23T00:31:54.411354Z",
     "iopub.status.busy": "2021-06-23T00:31:54.409956Z",
     "iopub.status.idle": "2021-06-23T00:31:54.415009Z",
     "shell.execute_reply": "2021-06-23T00:31:54.415658Z"
    },
    "papermill": {
     "duration": 0.037942,
     "end_time": "2021-06-23T00:31:54.415921",
     "exception": false,
     "start_time": "2021-06-23T00:31:54.377979",
     "status": "completed"
    },
    "tags": []
   },
   "outputs": [
    {
     "data": {
      "text/html": [
       "<div>\n",
       "<style scoped>\n",
       "    .dataframe tbody tr th:only-of-type {\n",
       "        vertical-align: middle;\n",
       "    }\n",
       "\n",
       "    .dataframe tbody tr th {\n",
       "        vertical-align: top;\n",
       "    }\n",
       "\n",
       "    .dataframe thead th {\n",
       "        text-align: right;\n",
       "    }\n",
       "</style>\n",
       "<table border=\"1\" class=\"dataframe\">\n",
       "  <thead>\n",
       "    <tr style=\"text-align: right;\">\n",
       "      <th></th>\n",
       "      <th>code</th>\n",
       "      <th>severity</th>\n",
       "      <th>n</th>\n",
       "    </tr>\n",
       "  </thead>\n",
       "  <tbody>\n",
       "    <tr>\n",
       "      <th>0</th>\n",
       "      <td>duplicate_fare_rule_zone_id_fields</td>\n",
       "      <td>ERROR</td>\n",
       "      <td>41</td>\n",
       "    </tr>\n",
       "  </tbody>\n",
       "</table>\n",
       "</div>"
      ],
      "text/plain": [
       "                                 code severity   n\n",
       "0  duplicate_fare_rule_zone_id_fields    ERROR  41"
      ]
     },
     "execution_count": 15,
     "metadata": {},
     "output_type": "execute_result"
    }
   ],
   "source": [
    "tbl_validation_notices"
   ]
  }
 ],
 "metadata": {
  "kernelspec": {
   "display_name": "venv-calitp-py",
   "language": "python",
   "name": "venv-calitp-py"
  },
  "language_info": {
   "codemirror_mode": {
    "name": "ipython",
    "version": 3
   },
   "file_extension": ".py",
   "mimetype": "text/x-python",
   "name": "python",
   "nbconvert_exporter": "python",
   "pygments_lexer": "ipython3",
   "version": "3.8.5"
  },
  "papermill": {
   "default_parameters": {},
   "duration": 43.379319,
   "end_time": "2021-06-23T00:31:55.742307",
   "environment_variables": {},
   "exception": null,
   "input_path": "report.ipynb",
   "output_path": "output/190/report.ipynb",
   "parameters": {
    "CALITP_ITP_ID": 190,
    "CALITP_URL_NUMBER": 0
   },
   "start_time": "2021-06-23T00:31:12.362988",
   "version": "2.3.3"
  }
 },
 "nbformat": 4,
 "nbformat_minor": 5
}