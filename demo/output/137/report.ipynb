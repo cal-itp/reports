{
 "cells": [
  {
   "cell_type": "markdown",
   "id": "ce63f155",
   "metadata": {
    "papermill": {
     "duration": 0.025513,
     "end_time": "2021-06-23T00:29:20.005259",
     "exception": false,
     "start_time": "2021-06-23T00:29:19.979746",
     "status": "completed"
    },
    "tags": [
     "hide"
    ]
   },
   "source": [
    "# Setup"
   ]
  },
  {
   "cell_type": "code",
   "execution_count": 1,
   "id": "0fac1981",
   "metadata": {
    "execution": {
     "iopub.execute_input": "2021-06-23T00:29:20.079508Z",
     "iopub.status.busy": "2021-06-23T00:29:20.078676Z",
     "iopub.status.idle": "2021-06-23T00:29:28.818963Z",
     "shell.execute_reply": "2021-06-23T00:29:28.819796Z"
    },
    "papermill": {
     "duration": 8.79076,
     "end_time": "2021-06-23T00:29:28.820144",
     "exception": false,
     "start_time": "2021-06-23T00:29:20.029384",
     "status": "completed"
    },
    "tags": [
     "hide"
    ]
   },
   "outputs": [],
   "source": [
    "import pandas as pd\n",
    "\n",
    "from io import StringIO\n",
    "from calitp.tables import tbl\n",
    "from datetime import date\n",
    "from siuba import *\n",
    "from plotnine import *\n",
    "\n",
    "\n",
    "START_DATE = \"2021-05-01\"\n",
    "END_DATE = \"2021-06-01\"\n",
    "DATE_TODAY=date.today()\n",
    "\n",
    "WEEK_MARKERS = pd.date_range(START_DATE, END_DATE, freq=\"W\").astype(str).tolist()"
   ]
  },
  {
   "cell_type": "code",
   "execution_count": 2,
   "id": "8d3b3405",
   "metadata": {
    "execution": {
     "iopub.execute_input": "2021-06-23T00:29:28.894630Z",
     "iopub.status.busy": "2021-06-23T00:29:28.893639Z",
     "iopub.status.idle": "2021-06-23T00:29:28.899379Z",
     "shell.execute_reply": "2021-06-23T00:29:28.900898Z"
    },
    "papermill": {
     "duration": 0.050335,
     "end_time": "2021-06-23T00:29:28.901174",
     "exception": false,
     "start_time": "2021-06-23T00:29:28.850839",
     "status": "completed"
    },
    "tags": [
     "parameters",
     "hide"
    ]
   },
   "outputs": [],
   "source": [
    "CALITP_ITP_ID=389\n",
    "#CALITP_ITP_ID=45\n",
    "CALITP_URL_NUMBER=0"
   ]
  },
  {
   "cell_type": "code",
   "execution_count": 3,
   "id": "a52aa51d",
   "metadata": {
    "execution": {
     "iopub.execute_input": "2021-06-23T00:29:28.963508Z",
     "iopub.status.busy": "2021-06-23T00:29:28.962379Z",
     "iopub.status.idle": "2021-06-23T00:29:28.965622Z",
     "shell.execute_reply": "2021-06-23T00:29:28.966572Z"
    },
    "papermill": {
     "duration": 0.039489,
     "end_time": "2021-06-23T00:29:28.966887",
     "exception": false,
     "start_time": "2021-06-23T00:29:28.927398",
     "status": "completed"
    },
    "tags": [
     "injected-parameters"
    ]
   },
   "outputs": [],
   "source": [
    "# Parameters\n",
    "CALITP_ITP_ID = 137\n",
    "CALITP_URL_NUMBER = 0\n"
   ]
  },
  {
   "cell_type": "code",
   "execution_count": 4,
   "id": "5943498d",
   "metadata": {
    "execution": {
     "iopub.execute_input": "2021-06-23T00:29:29.048627Z",
     "iopub.status.busy": "2021-06-23T00:29:29.047368Z",
     "iopub.status.idle": "2021-06-23T00:29:29.058288Z",
     "shell.execute_reply": "2021-06-23T00:29:29.059112Z"
    },
    "papermill": {
     "duration": 0.055504,
     "end_time": "2021-06-23T00:29:29.059792",
     "exception": false,
     "start_time": "2021-06-23T00:29:29.004288",
     "status": "completed"
    },
    "tags": [
     "hide"
    ]
   },
   "outputs": [],
   "source": [
    "# Convenience functions ----\n",
    "\n",
    "filter_start = filter(\n",
    "    _.calitp_extracted_at <= START_DATE,\n",
    "    _.calitp_deleted_at.fillna(\"2099-01-01\") > START_DATE,\n",
    ")\n",
    "\n",
    "filter_end = filter(\n",
    "    _.calitp_extracted_at <= END_DATE,\n",
    "    _.calitp_deleted_at.fillna(\"2099-01-01\") > END_DATE,\n",
    ")\n",
    "\n",
    "filter_itp = filter(\n",
    "    _.calitp_itp_id == CALITP_ITP_ID, _.calitp_url_number == CALITP_URL_NUMBER\n",
    ")\n",
    "\n",
    "collect_to_dict = (\n",
    "    collect()\n",
    "    >> pipe(_.to_dict(orient=\"records\")[0])\n",
    ")\n",
    "\n",
    "\n",
    "select_rm_calitp = select(\n",
    "    -_.calitp_itp_id,\n",
    "    -_.calitp_url_number,\n",
    "    -_.calitp_hash,\n",
    "    -_.calitp_extracted_at,\n",
    "    -_.calitp_deleted_at,\n",
    ")\n",
    "\n",
    "\n",
    "def query_id_changes(start_table, end_table, id_vars):\n",
    "    \"\"\"Calculate id variables that are removed, added, or unchanged between tables.\n",
    "    \n",
    "    It works by adding a special column to each table, performing a full join,\n",
    "    then checking where the special column is null.\n",
    "    \"\"\"\n",
    "    sym_id_vars = [_[k] for k in id_vars]\n",
    "\n",
    "    is_in_start = start_table >> select(*id_vars) >> mutate(is_in_start=True)\n",
    "    is_in_end = end_table >> select(*id_vars) >> mutate(is_in_end=True)\n",
    "\n",
    "    baseline = start_table >> count(*id_vars) >> rename(n_baseline=\"n\")\n",
    "    tallies = (\n",
    "        is_in_start\n",
    "        >> full_join(_, is_in_end, id_vars)\n",
    "        >> count(*sym_id_vars, _.is_in_start, _.is_in_end)\n",
    "        >> mutate(\n",
    "            status=case_when(\n",
    "                _,\n",
    "                {\n",
    "                    _.is_in_end.isna(): \"Removed\",\n",
    "                    _.is_in_start.isna(): \"Added\",\n",
    "                    True: \"Unchanged\",\n",
    "                },\n",
    "            )\n",
    "        )\n",
    "        >> count(*sym_id_vars[:-1], _.status)\n",
    "        >> group_by(*sym_id_vars[:-1])\n",
    "        >> mutate(percent=_.n / _.n.sum())\n",
    "    )\n",
    "\n",
    "    return tallies"
   ]
  },
  {
   "cell_type": "code",
   "execution_count": 5,
   "id": "16e23649",
   "metadata": {
    "execution": {
     "iopub.execute_input": "2021-06-23T00:29:29.134382Z",
     "iopub.status.busy": "2021-06-23T00:29:29.127824Z",
     "iopub.status.idle": "2021-06-23T00:29:54.849785Z",
     "shell.execute_reply": "2021-06-23T00:29:54.850392Z"
    },
    "papermill": {
     "duration": 25.761273,
     "end_time": "2021-06-23T00:29:54.850601",
     "exception": false,
     "start_time": "2021-06-23T00:29:29.089328",
     "status": "completed"
    },
    "tags": [
     "hide"
    ]
   },
   "outputs": [],
   "source": [
    "# Data ====\n",
    "# 1. High level feed info ----\n",
    "feed_info = (\n",
    "    tbl.gtfs_schedule_type2.feed_info()\n",
    "    >> filter_end\n",
    "    >> filter_itp\n",
    "    >> select_rm_calitp\n",
    "    >> collect_to_dict\n",
    ")\n",
    "\n",
    "_n_routes = (\n",
    "    tbl.gtfs_schedule_type2.routes() >> filter_end >> filter_itp >> count() >> collect()\n",
    ")\n",
    "_n_stops = (\n",
    "    tbl.gtfs_schedule_type2.stops() >> filter_end >> filter_itp >> count() >> collect()\n",
    ")\n",
    "\n",
    "feed_info[\"n_routes\"] = int(_n_routes.loc[0, \"n\"])\n",
    "feed_info[\"n_stops\"] = int(_n_stops.loc[0, \"n\"])\n",
    "\n",
    "status = (\n",
    "    tbl.views.gtfs_status_latest()\n",
    "    >> filter(_.itp_id == CALITP_ITP_ID, _.url_number == CALITP_URL_NUMBER)\n",
    "    >> select(-_.url_number, -_.status)\n",
    "    >> select_rm_calitp\n",
    "    >> collect_to_dict\n",
    ")\n",
    "\n",
    "# 2. Monthly metrics ----\n",
    "# Service hours per day. Note that the queried table calculates service\n",
    "# hours per service id, so we need to sum across service ids for the day\n",
    "_cross_cal = (\n",
    "    tbl.views.dim_date()\n",
    "    >> filter(_.full_date.between(START_DATE, END_DATE))\n",
    "    >> select(_.service_date == _.full_date)\n",
    ")\n",
    "\n",
    "tbl_daily_service_hours = (\n",
    "    tbl.views.gtfs_schedule_service_daily_metrics()\n",
    "    >> filter_itp\n",
    "    >> filter(_.service_date.between(START_DATE, END_DATE))\n",
    "    >> right_join(_, _cross_cal, [\"service_date\"])\n",
    "    >> collect()\n",
    "    >> group_by(_.service_date)\n",
    "    >> summarize(ttl_service_hours=(_.last_arrival_ts.max() - _.first_departure_ts.min()) / 3600)\n",
    "    >> mutate(\n",
    "        ttl_service_hours=_.ttl_service_hours.astype(float).round(2),\n",
    "        service_date=_.service_date.astype(\"datetime64[ns]\"),\n",
    "    )\n",
    ")\n",
    "\n",
    "# number of days where a feed did not have any trips in service\n",
    "n_expired_days = (\n",
    "    tbl_daily_service_hours >> filter(_.ttl_service_hours.isna())\n",
    "    >> pipe(lambda d: {\"n\": d.shape[0]})\n",
    ")\n",
    "\n",
    "# 3. Stop and Route ID Changes ----\n",
    "\n",
    "_tbl_stops_start = tbl.gtfs_schedule_type2.stops() >> filter_itp >> filter_start\n",
    "_tbl_stops_end = tbl.gtfs_schedule_type2.stops() >> filter_itp >> filter_end\n",
    "tbl_stops_changed = (\n",
    "    query_id_changes(_tbl_stops_start, _tbl_stops_end, [\"stop_id\"]) >> collect()\n",
    ")\n",
    "\n",
    "_tbl_routes_start = tbl.gtfs_schedule_type2.routes() >> filter_start\n",
    "_tbl_routes_end = tbl.gtfs_schedule_type2.routes() >> filter_end\n",
    "tbl_routes_changed = (\n",
    "    query_id_changes(_tbl_routes_start, _tbl_routes_end, [\"route_id\"]) >> collect()\n",
    ")"
   ]
  },
  {
   "cell_type": "code",
   "execution_count": 6,
   "id": "81d46fe3",
   "metadata": {
    "execution": {
     "iopub.execute_input": "2021-06-23T00:29:54.897866Z",
     "iopub.status.busy": "2021-06-23T00:29:54.896256Z",
     "iopub.status.idle": "2021-06-23T00:30:00.853242Z",
     "shell.execute_reply": "2021-06-23T00:30:00.853708Z"
    },
    "papermill": {
     "duration": 5.985257,
     "end_time": "2021-06-23T00:30:00.853884",
     "exception": false,
     "start_time": "2021-06-23T00:29:54.868627",
     "status": "completed"
    },
    "tags": [
     "hide"
    ]
   },
   "outputs": [],
   "source": [
    "# 4. Feed files being checked for ----\n",
    "\n",
    "file_categories = pd.DataFrame(\n",
    "    {\n",
    "        \"shapes.txt\": \"Visual display\",\n",
    "        \"pathways.txt\": \"Navigation\",\n",
    "        \"levels.txt\": \"Navigation\",\n",
    "        \"fare_rules.txt\": \"Fares\",\n",
    "        \"fare_leg_rules\": \"Fares\",\n",
    "        \"feed_info.txt\": \"Technical contacts\",\n",
    "    }.items(),\n",
    "    columns=[\"name\", \"category\"],\n",
    ")\n",
    "\n",
    "importance = [\"Visual display\", \"Navigation\", \"Fares\", \"Technical contacts\"]\n",
    "\n",
    "tbl_file_check = (\n",
    "    tbl.gtfs_schedule_history.calitp_files_updates()\n",
    "    >> filter_itp\n",
    "    >> filter(_.calitp_extracted_at.isin(WEEK_MARKERS))\n",
    "    >> select(_.name, _.calitp_extracted_at)\n",
    "    >> collect()\n",
    "    >> right_join(_, file_categories, [\"name\"])\n",
    "    >> mutate(\n",
    "        calitp_extracted_at=_.calitp_extracted_at.fillna(\"missing\").astype(str),\n",
    "        success=\"✅\",\n",
    "    )\n",
    "    >> spread(_.calitp_extracted_at, _.success)\n",
    "    >> select(-_.missing)\n",
    "    >> arrange(_.category.apply(importance.index))\n",
    "    >> select(_.category, _.contains(\"\"))\n",
    "    >> pipe(_.fillna(\"\"))\n",
    ")\n",
    "\n",
    "tbl_validation_notices = (\n",
    "    tbl.views.validation_notices()\n",
    "    >> filter_itp\n",
    "    >> filter(_.severity == \"ERROR\")\n",
    "    >> count(_.code, _.severity)\n",
    "    >> collect()\n",
    ")"
   ]
  },
  {
   "cell_type": "markdown",
   "id": "72427425",
   "metadata": {
    "papermill": {
     "duration": 0.015731,
     "end_time": "2021-06-23T00:30:00.885868",
     "exception": false,
     "start_time": "2021-06-23T00:30:00.870137",
     "status": "completed"
    },
    "tags": [
     "hide"
    ]
   },
   "source": [
    "## Dump data"
   ]
  },
  {
   "cell_type": "code",
   "execution_count": 7,
   "id": "5c9434e6",
   "metadata": {
    "execution": {
     "iopub.execute_input": "2021-06-23T00:30:00.933190Z",
     "iopub.status.busy": "2021-06-23T00:30:00.932369Z",
     "iopub.status.idle": "2021-06-23T00:30:00.940878Z",
     "shell.execute_reply": "2021-06-23T00:30:00.941301Z"
    },
    "papermill": {
     "duration": 0.035255,
     "end_time": "2021-06-23T00:30:00.941468",
     "exception": false,
     "start_time": "2021-06-23T00:30:00.906213",
     "status": "completed"
    },
    "tags": [
     "hide"
    ]
   },
   "outputs": [],
   "source": [
    "import json\n",
    "import shutil\n",
    "\n",
    "from pathlib import Path\n",
    "\n",
    "out_dir = Path(f\"output/{CALITP_ITP_ID}_{CALITP_URL_NUMBER}/data\")\n",
    "out_dir.mkdir(parents=True, exist_ok=True)\n",
    "\n",
    "json.dump(feed_info, open(out_dir / \"1_feed_info.json\", \"w\"))\n",
    "json.dump(status, open(out_dir / \"1_status.json\", \"w\"))\n",
    "\n",
    "tbl_daily_service_hours.to_json(out_dir / \"2_daily_service_hours.json\", orient=\"records\")\n",
    "json.dump(n_expired_days, open(out_dir / \"2_n_expired_days.json\", \"w\"))\n",
    "\n",
    "tbl_stops_changed.to_json(out_dir / \"3_stops_changed.json\", orient=\"records\")\n",
    "tbl_routes_changed.to_json(out_dir / \"3_routes_changed.json\", orient=\"records\")\n",
    "tbl_file_check.to_json(out_dir / \"4_file_check.json\", orient=\"records\")\n",
    "tbl_validation_notices.to_json(out_dir / \"4_validation_notices.json\", orient=\"records\")\n"
   ]
  },
  {
   "cell_type": "markdown",
   "id": "0921a8b6",
   "metadata": {
    "papermill": {
     "duration": 0.014517,
     "end_time": "2021-06-23T00:30:00.969731",
     "exception": false,
     "start_time": "2021-06-23T00:30:00.955214",
     "status": "completed"
    },
    "tags": []
   },
   "source": [
    "# GTFS Schedule Report"
   ]
  },
  {
   "cell_type": "markdown",
   "id": "39bea2e5",
   "metadata": {
    "papermill": {
     "duration": 0.015291,
     "end_time": "2021-06-23T00:30:01.001072",
     "exception": false,
     "start_time": "2021-06-23T00:30:00.985781",
     "status": "completed"
    },
    "tags": []
   },
   "source": [
    "# Example Juniper Report"
   ]
  },
  {
   "cell_type": "code",
   "execution_count": 8,
   "id": "a133b0e6",
   "metadata": {
    "execution": {
     "iopub.execute_input": "2021-06-23T00:30:01.046948Z",
     "iopub.status.busy": "2021-06-23T00:30:01.045723Z",
     "iopub.status.idle": "2021-06-23T00:30:01.050485Z",
     "shell.execute_reply": "2021-06-23T00:30:01.050913Z"
    },
    "papermill": {
     "duration": 0.027623,
     "end_time": "2021-06-23T00:30:01.051079",
     "exception": false,
     "start_time": "2021-06-23T00:30:01.023456",
     "status": "completed"
    },
    "tags": []
   },
   "outputs": [
    {
     "data": {
      "text/markdown": [
       "\n",
       "Transit provider name: Trillium Solutions, Inc.\n",
       "\n",
       "Date generated: 2021-06-22\n"
      ],
      "text/plain": [
       "<IPython.core.display.Markdown object>"
      ]
     },
     "execution_count": 8,
     "metadata": {},
     "output_type": "execute_result"
    }
   ],
   "source": [
    "from IPython.display import Markdown\n",
    "\n",
    "Markdown(f\"\"\"\n",
    "Transit provider name: {feed_info[\"feed_publisher_name\"]}\n",
    "\n",
    "Date generated: {DATE_TODAY}\n",
    "\"\"\")"
   ]
  },
  {
   "cell_type": "markdown",
   "id": "7aa86ff6",
   "metadata": {
    "papermill": {
     "duration": 0.016259,
     "end_time": "2021-06-23T00:30:01.082103",
     "exception": false,
     "start_time": "2021-06-23T00:30:01.065844",
     "status": "completed"
    },
    "tags": []
   },
   "source": [
    "This is a monthly report, generated by the California Integrated Travel Project (Cal-ITP), summarizing issues discovered by MobilityData’s GTFS Validator. This report is available for viewing by the general public to support continuous improvement of GTFS data and the experience of transit passengers. "
   ]
  },
  {
   "cell_type": "markdown",
   "id": "25d73f24",
   "metadata": {
    "papermill": {
     "duration": 0.01538,
     "end_time": "2021-06-23T00:30:01.113589",
     "exception": false,
     "start_time": "2021-06-23T00:30:01.098209",
     "status": "completed"
    },
    "tags": []
   },
   "source": [
    "## Overview"
   ]
  },
  {
   "cell_type": "code",
   "execution_count": 9,
   "id": "720841e4",
   "metadata": {
    "execution": {
     "iopub.execute_input": "2021-06-23T00:30:01.152770Z",
     "iopub.status.busy": "2021-06-23T00:30:01.151837Z",
     "iopub.status.idle": "2021-06-23T00:30:01.155751Z",
     "shell.execute_reply": "2021-06-23T00:30:01.155159Z"
    },
    "papermill": {
     "duration": 0.023606,
     "end_time": "2021-06-23T00:30:01.155897",
     "exception": false,
     "start_time": "2021-06-23T00:30:01.132291",
     "status": "completed"
    },
    "tags": []
   },
   "outputs": [
    {
     "data": {
      "text/markdown": [
       "\n",
       "Feed location: http://data.trilliumtransit.com/gtfs/huntingtonpark-ca-us/huntingtonpark-ca-us.zip\n",
       "\n",
       "Metrics for the most recent published version of the feed:\n",
       "\n",
       "* Date published: UTC: 24-Dec-2020 23:19\n",
       "* Number of routes in any service: 1\n",
       "* Number of stops in service: 43\n"
      ],
      "text/plain": [
       "<IPython.core.display.Markdown object>"
      ]
     },
     "execution_count": 9,
     "metadata": {},
     "output_type": "execute_result"
    }
   ],
   "source": [
    "Markdown(f\"\"\"\n",
    "Feed location: {status[\"gtfs_schedule_url\"]}\n",
    "\n",
    "Metrics for the most recent published version of the feed:\n",
    "\n",
    "* Date published: {feed_info[\"feed_version\"]}\n",
    "* Number of routes in any service: {feed_info[\"n_routes\"]}\n",
    "* Number of stops in service: {feed_info[\"n_stops\"]}\n",
    "\"\"\")"
   ]
  },
  {
   "cell_type": "markdown",
   "id": "6d7319f1",
   "metadata": {
    "papermill": {
     "duration": 0.014989,
     "end_time": "2021-06-23T00:30:01.186073",
     "exception": false,
     "start_time": "2021-06-23T00:30:01.171084",
     "status": "completed"
    },
    "tags": []
   },
   "source": [
    "## Aggregated Metrics for May"
   ]
  },
  {
   "cell_type": "code",
   "execution_count": 10,
   "id": "92516a94",
   "metadata": {
    "execution": {
     "iopub.execute_input": "2021-06-23T00:30:01.233244Z",
     "iopub.status.busy": "2021-06-23T00:30:01.231962Z",
     "iopub.status.idle": "2021-06-23T00:30:01.236370Z",
     "shell.execute_reply": "2021-06-23T00:30:01.236794Z"
    },
    "papermill": {
     "duration": 0.033095,
     "end_time": "2021-06-23T00:30:01.236959",
     "exception": false,
     "start_time": "2021-06-23T00:30:01.203864",
     "status": "completed"
    },
    "tags": []
   },
   "outputs": [
    {
     "data": {
      "text/markdown": [
       "\n",
       "Days when the active feed was expired: 5\n"
      ],
      "text/plain": [
       "<IPython.core.display.Markdown object>"
      ]
     },
     "execution_count": 10,
     "metadata": {},
     "output_type": "execute_result"
    }
   ],
   "source": [
    "Markdown(f\"\"\"\n",
    "Days when the active feed was expired: {n_expired_days[\"n\"]}\n",
    "\"\"\")"
   ]
  },
  {
   "cell_type": "code",
   "execution_count": 11,
   "id": "35ca52bb",
   "metadata": {
    "execution": {
     "iopub.execute_input": "2021-06-23T00:30:01.299977Z",
     "iopub.status.busy": "2021-06-23T00:30:01.296348Z",
     "iopub.status.idle": "2021-06-23T00:30:01.716550Z",
     "shell.execute_reply": "2021-06-23T00:30:01.715183Z"
    },
    "papermill": {
     "duration": 0.461963,
     "end_time": "2021-06-23T00:30:01.716703",
     "exception": false,
     "start_time": "2021-06-23T00:30:01.254740",
     "status": "completed"
    },
    "tags": []
   },
   "outputs": [
    {
     "name": "stderr",
     "output_type": "stream",
     "text": [
      "/Users/machow/.virtualenvs/calitp-py/lib/python3.8/site-packages/plotnine/layer.py:401: PlotnineWarning: geom_point : Removed 5 rows containing missing values.\n"
     ]
    },
    {
     "data": {
      "image/png": "[encoded data removed]",
      "text/plain": [
       "<Figure size 640x480 with 1 Axes>"
      ]
     },
     "metadata": {},
     "output_type": "display_data"
    },
    {
     "data": {
      "text/plain": [
       "<ggplot: (290879964)>"
      ]
     },
     "execution_count": 11,
     "metadata": {},
     "output_type": "execute_result"
    }
   ],
   "source": [
    "(\n",
    "    tbl_daily_service_hours\n",
    "    >> ggplot(aes(\"service_date\", \"ttl_service_hours\"))\n",
    "    + geom_line()\n",
    "    + geom_point()\n",
    "    + theme(axis_text_x=element_text(angle=45, hjust=1))\n",
    "    + scale_x_datetime(date_breaks=\"1 week\")\n",
    "    + expand_limits(y=0)\n",
    ")"
   ]
  },
  {
   "cell_type": "markdown",
   "id": "092b54b2",
   "metadata": {
    "papermill": {
     "duration": 0.034684,
     "end_time": "2021-06-23T00:30:01.780796",
     "exception": false,
     "start_time": "2021-06-23T00:30:01.746112",
     "status": "completed"
    },
    "tags": []
   },
   "source": [
    "## Changes Since Previous Month"
   ]
  },
  {
   "cell_type": "code",
   "execution_count": 12,
   "id": "c9ded12f",
   "metadata": {
    "execution": {
     "iopub.execute_input": "2021-06-23T00:30:01.912862Z",
     "iopub.status.busy": "2021-06-23T00:30:01.911639Z",
     "iopub.status.idle": "2021-06-23T00:30:02.404062Z",
     "shell.execute_reply": "2021-06-23T00:30:02.404564Z"
    },
    "papermill": {
     "duration": 0.582097,
     "end_time": "2021-06-23T00:30:02.404760",
     "exception": false,
     "start_time": "2021-06-23T00:30:01.822663",
     "status": "completed"
    },
    "tags": []
   },
   "outputs": [
    {
     "data": {
      "image/png": "[encoded data removed]",
      "text/plain": [
       "<Figure size 640x480 with 1 Axes>"
      ]
     },
     "metadata": {},
     "output_type": "display_data"
    },
    {
     "data": {
      "text/plain": [
       "<ggplot: (273843505)>"
      ]
     },
     "execution_count": 12,
     "metadata": {},
     "output_type": "execute_result"
    }
   ],
   "source": [
    "(\n",
    "    pd.concat(\n",
    "        [\n",
    "            tbl_stops_changed >> mutate(kind=\"Stops\"),\n",
    "            tbl_routes_changed >> mutate(kind=\"Routes\"),\n",
    "        ]\n",
    "    )\n",
    "    >> ggplot(aes(\"kind\", \"n\", fill=\"status\"))\n",
    "    + geom_col()\n",
    "    + labs(x=\"Kind of ID\", y=\"Number of Changes\")\n",
    ")"
   ]
  },
  {
   "cell_type": "markdown",
   "id": "a56720bf",
   "metadata": {
    "papermill": {
     "duration": 0.045211,
     "end_time": "2021-06-23T00:30:02.480526",
     "exception": false,
     "start_time": "2021-06-23T00:30:02.435315",
     "status": "completed"
    },
    "tags": []
   },
   "source": [
    "### (Alternative version using percentages)"
   ]
  },
  {
   "cell_type": "code",
   "execution_count": 13,
   "id": "c58e9362",
   "metadata": {
    "execution": {
     "iopub.execute_input": "2021-06-23T00:30:02.595682Z",
     "iopub.status.busy": "2021-06-23T00:30:02.594140Z",
     "iopub.status.idle": "2021-06-23T00:30:03.096234Z",
     "shell.execute_reply": "2021-06-23T00:30:03.097134Z"
    },
    "papermill": {
     "duration": 0.572742,
     "end_time": "2021-06-23T00:30:03.097389",
     "exception": false,
     "start_time": "2021-06-23T00:30:02.524647",
     "status": "completed"
    },
    "tags": []
   },
   "outputs": [
    {
     "data": {
      "image/png": "[encoded data removed]",
      "text/plain": [
       "<Figure size 640x480 with 1 Axes>"
      ]
     },
     "metadata": {},
     "output_type": "display_data"
    },
    {
     "data": {
      "text/plain": [
       "<ggplot: (303567936)>"
      ]
     },
     "execution_count": 13,
     "metadata": {},
     "output_type": "execute_result"
    }
   ],
   "source": [
    "(\n",
    "    pd.concat(\n",
    "        [\n",
    "            tbl_stops_changed >> mutate(kind=\"Stops\"),\n",
    "            tbl_routes_changed >> mutate(kind=\"Routes\"),\n",
    "        ]\n",
    "    )\n",
    "    >> ggplot(aes(\"kind\", \"percent\", fill=\"status\"))\n",
    "    + geom_col()\n",
    "    + labs(x=\"Kind of ID\", y=\"Percent of Changes\")\n",
    ")"
   ]
  },
  {
   "cell_type": "markdown",
   "id": "d5f5513b",
   "metadata": {
    "papermill": {
     "duration": 0.026177,
     "end_time": "2021-06-23T00:30:03.152505",
     "exception": false,
     "start_time": "2021-06-23T00:30:03.126328",
     "status": "completed"
    },
    "tags": []
   },
   "source": [
    "## Consistency with the California GTFS Minimum Guidelines for the feed downloaded\n"
   ]
  },
  {
   "cell_type": "code",
   "execution_count": 14,
   "id": "c3e5407f",
   "metadata": {
    "execution": {
     "iopub.execute_input": "2021-06-23T00:30:03.249268Z",
     "iopub.status.busy": "2021-06-23T00:30:03.248189Z",
     "iopub.status.idle": "2021-06-23T00:30:03.265270Z",
     "shell.execute_reply": "2021-06-23T00:30:03.265780Z"
    },
    "papermill": {
     "duration": 0.08001,
     "end_time": "2021-06-23T00:30:03.265973",
     "exception": false,
     "start_time": "2021-06-23T00:30:03.185963",
     "status": "completed"
    },
    "tags": []
   },
   "outputs": [
    {
     "data": {
      "text/html": [
       "<div>\n",
       "<style scoped>\n",
       "    .dataframe tbody tr th:only-of-type {\n",
       "        vertical-align: middle;\n",
       "    }\n",
       "\n",
       "    .dataframe tbody tr th {\n",
       "        vertical-align: top;\n",
       "    }\n",
       "\n",
       "    .dataframe thead th {\n",
       "        text-align: right;\n",
       "    }\n",
       "</style>\n",
       "<table border=\"1\" class=\"dataframe\">\n",
       "  <thead>\n",
       "    <tr style=\"text-align: right;\">\n",
       "      <th></th>\n",
       "      <th>category</th>\n",
       "      <th>name</th>\n",
       "      <th>2021-05-02</th>\n",
       "      <th>2021-05-09</th>\n",
       "      <th>2021-05-16</th>\n",
       "      <th>2021-05-23</th>\n",
       "      <th>2021-05-30</th>\n",
       "    </tr>\n",
       "  </thead>\n",
       "  <tbody>\n",
       "    <tr>\n",
       "      <th>5</th>\n",
       "      <td>Visual display</td>\n",
       "      <td>shapes.txt</td>\n",
       "      <td>✅</td>\n",
       "      <td>✅</td>\n",
       "      <td>✅</td>\n",
       "      <td>✅</td>\n",
       "      <td>✅</td>\n",
       "    </tr>\n",
       "    <tr>\n",
       "      <th>3</th>\n",
       "      <td>Navigation</td>\n",
       "      <td>levels.txt</td>\n",
       "      <td></td>\n",
       "      <td></td>\n",
       "      <td></td>\n",
       "      <td></td>\n",
       "      <td></td>\n",
       "    </tr>\n",
       "    <tr>\n",
       "      <th>4</th>\n",
       "      <td>Navigation</td>\n",
       "      <td>pathways.txt</td>\n",
       "      <td></td>\n",
       "      <td></td>\n",
       "      <td></td>\n",
       "      <td></td>\n",
       "      <td></td>\n",
       "    </tr>\n",
       "    <tr>\n",
       "      <th>0</th>\n",
       "      <td>Fares</td>\n",
       "      <td>fare_leg_rules</td>\n",
       "      <td></td>\n",
       "      <td></td>\n",
       "      <td></td>\n",
       "      <td></td>\n",
       "      <td></td>\n",
       "    </tr>\n",
       "    <tr>\n",
       "      <th>1</th>\n",
       "      <td>Fares</td>\n",
       "      <td>fare_rules.txt</td>\n",
       "      <td>✅</td>\n",
       "      <td>✅</td>\n",
       "      <td>✅</td>\n",
       "      <td>✅</td>\n",
       "      <td>✅</td>\n",
       "    </tr>\n",
       "    <tr>\n",
       "      <th>2</th>\n",
       "      <td>Technical contacts</td>\n",
       "      <td>feed_info.txt</td>\n",
       "      <td>✅</td>\n",
       "      <td>✅</td>\n",
       "      <td>✅</td>\n",
       "      <td>✅</td>\n",
       "      <td>✅</td>\n",
       "    </tr>\n",
       "  </tbody>\n",
       "</table>\n",
       "</div>"
      ],
      "text/plain": [
       "             category            name 2021-05-02 2021-05-09 2021-05-16  \\\n",
       "5      Visual display      shapes.txt          ✅          ✅          ✅   \n",
       "3          Navigation      levels.txt                                    \n",
       "4          Navigation    pathways.txt                                    \n",
       "0               Fares  fare_leg_rules                                    \n",
       "1               Fares  fare_rules.txt          ✅          ✅          ✅   \n",
       "2  Technical contacts   feed_info.txt          ✅          ✅          ✅   \n",
       "\n",
       "  2021-05-23 2021-05-30  \n",
       "5          ✅          ✅  \n",
       "3                        \n",
       "4                        \n",
       "0                        \n",
       "1          ✅          ✅  \n",
       "2          ✅          ✅  "
      ]
     },
     "execution_count": 14,
     "metadata": {},
     "output_type": "execute_result"
    }
   ],
   "source": [
    "tbl_file_check"
   ]
  },
  {
   "cell_type": "markdown",
   "id": "95c482ff",
   "metadata": {
    "papermill": {
     "duration": 0.038634,
     "end_time": "2021-06-23T00:30:03.341711",
     "exception": false,
     "start_time": "2021-06-23T00:30:03.303077",
     "status": "completed"
    },
    "tags": []
   },
   "source": [
    "### Validation Errors Observed"
   ]
  },
  {
   "cell_type": "code",
   "execution_count": 15,
   "id": "443efdf1",
   "metadata": {
    "execution": {
     "iopub.execute_input": "2021-06-23T00:30:03.487320Z",
     "iopub.status.busy": "2021-06-23T00:30:03.441625Z",
     "iopub.status.idle": "2021-06-23T00:30:03.495610Z",
     "shell.execute_reply": "2021-06-23T00:30:03.493404Z"
    },
    "papermill": {
     "duration": 0.118628,
     "end_time": "2021-06-23T00:30:03.495855",
     "exception": false,
     "start_time": "2021-06-23T00:30:03.377227",
     "status": "completed"
    },
    "tags": []
   },
   "outputs": [
    {
     "data": {
      "text/html": [
       "<div>\n",
       "<style scoped>\n",
       "    .dataframe tbody tr th:only-of-type {\n",
       "        vertical-align: middle;\n",
       "    }\n",
       "\n",
       "    .dataframe tbody tr th {\n",
       "        vertical-align: top;\n",
       "    }\n",
       "\n",
       "    .dataframe thead th {\n",
       "        text-align: right;\n",
       "    }\n",
       "</style>\n",
       "<table border=\"1\" class=\"dataframe\">\n",
       "  <thead>\n",
       "    <tr style=\"text-align: right;\">\n",
       "      <th></th>\n",
       "      <th>code</th>\n",
       "      <th>severity</th>\n",
       "      <th>n</th>\n",
       "    </tr>\n",
       "  </thead>\n",
       "  <tbody>\n",
       "  </tbody>\n",
       "</table>\n",
       "</div>"
      ],
      "text/plain": [
       "Empty DataFrame\n",
       "Columns: [code, severity, n]\n",
       "Index: []"
      ]
     },
     "execution_count": 15,
     "metadata": {},
     "output_type": "execute_result"
    }
   ],
   "source": [
    "tbl_validation_notices"
   ]
  }
 ],
 "metadata": {
  "kernelspec": {
   "display_name": "venv-calitp-py",
   "language": "python",
   "name": "venv-calitp-py"
  },
  "language_info": {
   "codemirror_mode": {
    "name": "ipython",
    "version": 3
   },
   "file_extension": ".py",
   "mimetype": "text/x-python",
   "name": "python",
   "nbconvert_exporter": "python",
   "pygments_lexer": "ipython3",
   "version": "3.8.5"
  },
  "papermill": {
   "default_parameters": {},
   "duration": 47.709696,
   "end_time": "2021-06-23T00:30:06.231549",
   "environment_variables": {},
   "exception": null,
   "input_path": "report.ipynb",
   "output_path": "output/137/report.ipynb",
   "parameters": {
    "CALITP_ITP_ID": 137,
    "CALITP_URL_NUMBER": 0
   },
   "start_time": "2021-06-23T00:29:18.521853",
   "version": "2.3.3"
  }
 },
 "nbformat": 4,
 "nbformat_minor": 5
}