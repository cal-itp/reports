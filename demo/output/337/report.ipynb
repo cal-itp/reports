{
 "cells": [
  {
   "cell_type": "markdown",
   "id": "ff842d20",
   "metadata": {
    "papermill": {
     "duration": 0.033303,
     "end_time": "2021-06-23T00:36:49.189235",
     "exception": false,
     "start_time": "2021-06-23T00:36:49.155932",
     "status": "completed"
    },
    "tags": [
     "hide"
    ]
   },
   "source": [
    "# Setup"
   ]
  },
  {
   "cell_type": "code",
   "execution_count": 1,
   "id": "26968942",
   "metadata": {
    "execution": {
     "iopub.execute_input": "2021-06-23T00:36:49.286281Z",
     "iopub.status.busy": "2021-06-23T00:36:49.280012Z",
     "iopub.status.idle": "2021-06-23T00:36:59.617148Z",
     "shell.execute_reply": "2021-06-23T00:36:59.618063Z"
    },
    "papermill": {
     "duration": 10.394164,
     "end_time": "2021-06-23T00:36:59.618430",
     "exception": false,
     "start_time": "2021-06-23T00:36:49.224266",
     "status": "completed"
    },
    "tags": [
     "hide"
    ]
   },
   "outputs": [],
   "source": [
    "import pandas as pd\n",
    "\n",
    "from io import StringIO\n",
    "from calitp.tables import tbl\n",
    "from datetime import date\n",
    "from siuba import *\n",
    "from plotnine import *\n",
    "\n",
    "\n",
    "START_DATE = \"2021-05-01\"\n",
    "END_DATE = \"2021-06-01\"\n",
    "DATE_TODAY=date.today()\n",
    "\n",
    "WEEK_MARKERS = pd.date_range(START_DATE, END_DATE, freq=\"W\").astype(str).tolist()"
   ]
  },
  {
   "cell_type": "code",
   "execution_count": 2,
   "id": "a075f284",
   "metadata": {
    "execution": {
     "iopub.execute_input": "2021-06-23T00:36:59.720087Z",
     "iopub.status.busy": "2021-06-23T00:36:59.718917Z",
     "iopub.status.idle": "2021-06-23T00:36:59.727000Z",
     "shell.execute_reply": "2021-06-23T00:36:59.728376Z"
    },
    "papermill": {
     "duration": 0.046972,
     "end_time": "2021-06-23T00:36:59.728681",
     "exception": false,
     "start_time": "2021-06-23T00:36:59.681709",
     "status": "completed"
    },
    "tags": [
     "parameters",
     "hide"
    ]
   },
   "outputs": [],
   "source": [
    "CALITP_ITP_ID=389\n",
    "#CALITP_ITP_ID=45\n",
    "CALITP_URL_NUMBER=0"
   ]
  },
  {
   "cell_type": "code",
   "execution_count": 3,
   "id": "e8d00936",
   "metadata": {
    "execution": {
     "iopub.execute_input": "2021-06-23T00:36:59.786873Z",
     "iopub.status.busy": "2021-06-23T00:36:59.785483Z",
     "iopub.status.idle": "2021-06-23T00:36:59.789470Z",
     "shell.execute_reply": "2021-06-23T00:36:59.790369Z"
    },
    "papermill": {
     "duration": 0.037799,
     "end_time": "2021-06-23T00:36:59.790645",
     "exception": false,
     "start_time": "2021-06-23T00:36:59.752846",
     "status": "completed"
    },
    "tags": [
     "injected-parameters"
    ]
   },
   "outputs": [],
   "source": [
    "# Parameters\n",
    "CALITP_ITP_ID = 337\n",
    "CALITP_URL_NUMBER = 0\n"
   ]
  },
  {
   "cell_type": "code",
   "execution_count": 4,
   "id": "18d7ce17",
   "metadata": {
    "execution": {
     "iopub.execute_input": "2021-06-23T00:36:59.906639Z",
     "iopub.status.busy": "2021-06-23T00:36:59.905342Z",
     "iopub.status.idle": "2021-06-23T00:36:59.915434Z",
     "shell.execute_reply": "2021-06-23T00:36:59.916336Z"
    },
    "papermill": {
     "duration": 0.082424,
     "end_time": "2021-06-23T00:36:59.916631",
     "exception": false,
     "start_time": "2021-06-23T00:36:59.834207",
     "status": "completed"
    },
    "tags": [
     "hide"
    ]
   },
   "outputs": [],
   "source": [
    "# Convenience functions ----\n",
    "\n",
    "filter_start = filter(\n",
    "    _.calitp_extracted_at <= START_DATE,\n",
    "    _.calitp_deleted_at.fillna(\"2099-01-01\") > START_DATE,\n",
    ")\n",
    "\n",
    "filter_end = filter(\n",
    "    _.calitp_extracted_at <= END_DATE,\n",
    "    _.calitp_deleted_at.fillna(\"2099-01-01\") > END_DATE,\n",
    ")\n",
    "\n",
    "filter_itp = filter(\n",
    "    _.calitp_itp_id == CALITP_ITP_ID, _.calitp_url_number == CALITP_URL_NUMBER\n",
    ")\n",
    "\n",
    "collect_to_dict = (\n",
    "    collect()\n",
    "    >> pipe(_.to_dict(orient=\"records\")[0])\n",
    ")\n",
    "\n",
    "\n",
    "select_rm_calitp = select(\n",
    "    -_.calitp_itp_id,\n",
    "    -_.calitp_url_number,\n",
    "    -_.calitp_hash,\n",
    "    -_.calitp_extracted_at,\n",
    "    -_.calitp_deleted_at,\n",
    ")\n",
    "\n",
    "\n",
    "def query_id_changes(start_table, end_table, id_vars):\n",
    "    \"\"\"Calculate id variables that are removed, added, or unchanged between tables.\n",
    "    \n",
    "    It works by adding a special column to each table, performing a full join,\n",
    "    then checking where the special column is null.\n",
    "    \"\"\"\n",
    "    sym_id_vars = [_[k] for k in id_vars]\n",
    "\n",
    "    is_in_start = start_table >> select(*id_vars) >> mutate(is_in_start=True)\n",
    "    is_in_end = end_table >> select(*id_vars) >> mutate(is_in_end=True)\n",
    "\n",
    "    baseline = start_table >> count(*id_vars) >> rename(n_baseline=\"n\")\n",
    "    tallies = (\n",
    "        is_in_start\n",
    "        >> full_join(_, is_in_end, id_vars)\n",
    "        >> count(*sym_id_vars, _.is_in_start, _.is_in_end)\n",
    "        >> mutate(\n",
    "            status=case_when(\n",
    "                _,\n",
    "                {\n",
    "                    _.is_in_end.isna(): \"Removed\",\n",
    "                    _.is_in_start.isna(): \"Added\",\n",
    "                    True: \"Unchanged\",\n",
    "                },\n",
    "            )\n",
    "        )\n",
    "        >> count(*sym_id_vars[:-1], _.status)\n",
    "        >> group_by(*sym_id_vars[:-1])\n",
    "        >> mutate(percent=_.n / _.n.sum())\n",
    "    )\n",
    "\n",
    "    return tallies"
   ]
  },
  {
   "cell_type": "code",
   "execution_count": 5,
   "id": "12759576",
   "metadata": {
    "execution": {
     "iopub.execute_input": "2021-06-23T00:37:00.029817Z",
     "iopub.status.busy": "2021-06-23T00:37:00.028742Z",
     "iopub.status.idle": "2021-06-23T00:37:24.354441Z",
     "shell.execute_reply": "2021-06-23T00:37:24.355344Z"
    },
    "papermill": {
     "duration": 24.391594,
     "end_time": "2021-06-23T00:37:24.355673",
     "exception": false,
     "start_time": "2021-06-23T00:36:59.964079",
     "status": "completed"
    },
    "tags": [
     "hide"
    ]
   },
   "outputs": [],
   "source": [
    "# Data ====\n",
    "# 1. High level feed info ----\n",
    "feed_info = (\n",
    "    tbl.gtfs_schedule_type2.feed_info()\n",
    "    >> filter_end\n",
    "    >> filter_itp\n",
    "    >> select_rm_calitp\n",
    "    >> collect_to_dict\n",
    ")\n",
    "\n",
    "_n_routes = (\n",
    "    tbl.gtfs_schedule_type2.routes() >> filter_end >> filter_itp >> count() >> collect()\n",
    ")\n",
    "_n_stops = (\n",
    "    tbl.gtfs_schedule_type2.stops() >> filter_end >> filter_itp >> count() >> collect()\n",
    ")\n",
    "\n",
    "feed_info[\"n_routes\"] = int(_n_routes.loc[0, \"n\"])\n",
    "feed_info[\"n_stops\"] = int(_n_stops.loc[0, \"n\"])\n",
    "\n",
    "status = (\n",
    "    tbl.views.gtfs_status_latest()\n",
    "    >> filter(_.itp_id == CALITP_ITP_ID, _.url_number == CALITP_URL_NUMBER)\n",
    "    >> select(-_.url_number, -_.status)\n",
    "    >> select_rm_calitp\n",
    "    >> collect_to_dict\n",
    ")\n",
    "\n",
    "# 2. Monthly metrics ----\n",
    "# Service hours per day. Note that the queried table calculates service\n",
    "# hours per service id, so we need to sum across service ids for the day\n",
    "_cross_cal = (\n",
    "    tbl.views.dim_date()\n",
    "    >> filter(_.full_date.between(START_DATE, END_DATE))\n",
    "    >> select(_.service_date == _.full_date)\n",
    ")\n",
    "\n",
    "tbl_daily_service_hours = (\n",
    "    tbl.views.gtfs_schedule_service_daily_metrics()\n",
    "    >> filter_itp\n",
    "    >> filter(_.service_date.between(START_DATE, END_DATE))\n",
    "    >> right_join(_, _cross_cal, [\"service_date\"])\n",
    "    >> collect()\n",
    "    >> group_by(_.service_date)\n",
    "    >> summarize(ttl_service_hours=(_.last_arrival_ts.max() - _.first_departure_ts.min()) / 3600)\n",
    "    >> mutate(\n",
    "        ttl_service_hours=_.ttl_service_hours.astype(float).round(2),\n",
    "        service_date=_.service_date.astype(\"datetime64[ns]\"),\n",
    "    )\n",
    ")\n",
    "\n",
    "# number of days where a feed did not have any trips in service\n",
    "n_expired_days = (\n",
    "    tbl_daily_service_hours >> filter(_.ttl_service_hours.isna())\n",
    "    >> pipe(lambda d: {\"n\": d.shape[0]})\n",
    ")\n",
    "\n",
    "# 3. Stop and Route ID Changes ----\n",
    "\n",
    "_tbl_stops_start = tbl.gtfs_schedule_type2.stops() >> filter_itp >> filter_start\n",
    "_tbl_stops_end = tbl.gtfs_schedule_type2.stops() >> filter_itp >> filter_end\n",
    "tbl_stops_changed = (\n",
    "    query_id_changes(_tbl_stops_start, _tbl_stops_end, [\"stop_id\"]) >> collect()\n",
    ")\n",
    "\n",
    "_tbl_routes_start = tbl.gtfs_schedule_type2.routes() >> filter_start\n",
    "_tbl_routes_end = tbl.gtfs_schedule_type2.routes() >> filter_end\n",
    "tbl_routes_changed = (\n",
    "    query_id_changes(_tbl_routes_start, _tbl_routes_end, [\"route_id\"]) >> collect()\n",
    ")"
   ]
  },
  {
   "cell_type": "code",
   "execution_count": 6,
   "id": "b63918a2",
   "metadata": {
    "execution": {
     "iopub.execute_input": "2021-06-23T00:37:24.434964Z",
     "iopub.status.busy": "2021-06-23T00:37:24.434338Z",
     "iopub.status.idle": "2021-06-23T00:37:30.423117Z",
     "shell.execute_reply": "2021-06-23T00:37:30.423971Z"
    },
    "papermill": {
     "duration": 6.041037,
     "end_time": "2021-06-23T00:37:30.424282",
     "exception": false,
     "start_time": "2021-06-23T00:37:24.383245",
     "status": "completed"
    },
    "tags": [
     "hide"
    ]
   },
   "outputs": [],
   "source": [
    "# 4. Feed files being checked for ----\n",
    "\n",
    "file_categories = pd.DataFrame(\n",
    "    {\n",
    "        \"shapes.txt\": \"Visual display\",\n",
    "        \"pathways.txt\": \"Navigation\",\n",
    "        \"levels.txt\": \"Navigation\",\n",
    "        \"fare_rules.txt\": \"Fares\",\n",
    "        \"fare_leg_rules\": \"Fares\",\n",
    "        \"feed_info.txt\": \"Technical contacts\",\n",
    "    }.items(),\n",
    "    columns=[\"name\", \"category\"],\n",
    ")\n",
    "\n",
    "importance = [\"Visual display\", \"Navigation\", \"Fares\", \"Technical contacts\"]\n",
    "\n",
    "tbl_file_check = (\n",
    "    tbl.gtfs_schedule_history.calitp_files_updates()\n",
    "    >> filter_itp\n",
    "    >> filter(_.calitp_extracted_at.isin(WEEK_MARKERS))\n",
    "    >> select(_.name, _.calitp_extracted_at)\n",
    "    >> collect()\n",
    "    >> right_join(_, file_categories, [\"name\"])\n",
    "    >> mutate(\n",
    "        calitp_extracted_at=_.calitp_extracted_at.fillna(\"missing\").astype(str),\n",
    "        success=\"✅\",\n",
    "    )\n",
    "    >> spread(_.calitp_extracted_at, _.success)\n",
    "    >> select(-_.missing)\n",
    "    >> arrange(_.category.apply(importance.index))\n",
    "    >> select(_.category, _.contains(\"\"))\n",
    "    >> pipe(_.fillna(\"\"))\n",
    ")\n",
    "\n",
    "tbl_validation_notices = (\n",
    "    tbl.views.validation_notices()\n",
    "    >> filter_itp\n",
    "    >> filter(_.severity == \"ERROR\")\n",
    "    >> count(_.code, _.severity)\n",
    "    >> collect()\n",
    ")"
   ]
  },
  {
   "cell_type": "markdown",
   "id": "88d94b81",
   "metadata": {
    "papermill": {
     "duration": 0.018343,
     "end_time": "2021-06-23T00:37:30.464038",
     "exception": false,
     "start_time": "2021-06-23T00:37:30.445695",
     "status": "completed"
    },
    "tags": [
     "hide"
    ]
   },
   "source": [
    "## Dump data"
   ]
  },
  {
   "cell_type": "code",
   "execution_count": 7,
   "id": "a8d8f658",
   "metadata": {
    "execution": {
     "iopub.execute_input": "2021-06-23T00:37:30.536840Z",
     "iopub.status.busy": "2021-06-23T00:37:30.534805Z",
     "iopub.status.idle": "2021-06-23T00:37:30.547512Z",
     "shell.execute_reply": "2021-06-23T00:37:30.546389Z"
    },
    "papermill": {
     "duration": 0.049152,
     "end_time": "2021-06-23T00:37:30.547785",
     "exception": false,
     "start_time": "2021-06-23T00:37:30.498633",
     "status": "completed"
    },
    "tags": [
     "hide"
    ]
   },
   "outputs": [],
   "source": [
    "import json\n",
    "import shutil\n",
    "\n",
    "from pathlib import Path\n",
    "\n",
    "out_dir = Path(f\"output/{CALITP_ITP_ID}_{CALITP_URL_NUMBER}/data\")\n",
    "out_dir.mkdir(parents=True, exist_ok=True)\n",
    "\n",
    "json.dump(feed_info, open(out_dir / \"1_feed_info.json\", \"w\"))\n",
    "json.dump(status, open(out_dir / \"1_status.json\", \"w\"))\n",
    "\n",
    "tbl_daily_service_hours.to_json(out_dir / \"2_daily_service_hours.json\", orient=\"records\")\n",
    "json.dump(n_expired_days, open(out_dir / \"2_n_expired_days.json\", \"w\"))\n",
    "\n",
    "tbl_stops_changed.to_json(out_dir / \"3_stops_changed.json\", orient=\"records\")\n",
    "tbl_routes_changed.to_json(out_dir / \"3_routes_changed.json\", orient=\"records\")\n",
    "tbl_file_check.to_json(out_dir / \"4_file_check.json\", orient=\"records\")\n",
    "tbl_validation_notices.to_json(out_dir / \"4_validation_notices.json\", orient=\"records\")\n"
   ]
  },
  {
   "cell_type": "markdown",
   "id": "66009c3c",
   "metadata": {
    "papermill": {
     "duration": 0.021497,
     "end_time": "2021-06-23T00:37:30.591291",
     "exception": false,
     "start_time": "2021-06-23T00:37:30.569794",
     "status": "completed"
    },
    "tags": []
   },
   "source": [
    "# GTFS Schedule Report"
   ]
  },
  {
   "cell_type": "markdown",
   "id": "0ed6e607",
   "metadata": {
    "papermill": {
     "duration": 0.021355,
     "end_time": "2021-06-23T00:37:30.639957",
     "exception": false,
     "start_time": "2021-06-23T00:37:30.618602",
     "status": "completed"
    },
    "tags": []
   },
   "source": [
    "# Example Juniper Report"
   ]
  },
  {
   "cell_type": "code",
   "execution_count": 8,
   "id": "4ecfc302",
   "metadata": {
    "execution": {
     "iopub.execute_input": "2021-06-23T00:37:30.693706Z",
     "iopub.status.busy": "2021-06-23T00:37:30.692204Z",
     "iopub.status.idle": "2021-06-23T00:37:30.696637Z",
     "shell.execute_reply": "2021-06-23T00:37:30.697362Z"
    },
    "papermill": {
     "duration": 0.034921,
     "end_time": "2021-06-23T00:37:30.697671",
     "exception": false,
     "start_time": "2021-06-23T00:37:30.662750",
     "status": "completed"
    },
    "tags": []
   },
   "outputs": [
    {
     "data": {
      "text/markdown": [
       "\n",
       "Transit provider name: Trillium Solutions, Inc.\n",
       "\n",
       "Date generated: 2021-06-22\n"
      ],
      "text/plain": [
       "<IPython.core.display.Markdown object>"
      ]
     },
     "execution_count": 8,
     "metadata": {},
     "output_type": "execute_result"
    }
   ],
   "source": [
    "from IPython.display import Markdown\n",
    "\n",
    "Markdown(f\"\"\"\n",
    "Transit provider name: {feed_info[\"feed_publisher_name\"]}\n",
    "\n",
    "Date generated: {DATE_TODAY}\n",
    "\"\"\")"
   ]
  },
  {
   "cell_type": "markdown",
   "id": "95ec553b",
   "metadata": {
    "papermill": {
     "duration": 0.021991,
     "end_time": "2021-06-23T00:37:30.746574",
     "exception": false,
     "start_time": "2021-06-23T00:37:30.724583",
     "status": "completed"
    },
    "tags": []
   },
   "source": [
    "This is a monthly report, generated by the California Integrated Travel Project (Cal-ITP), summarizing issues discovered by MobilityData’s GTFS Validator. This report is available for viewing by the general public to support continuous improvement of GTFS data and the experience of transit passengers. "
   ]
  },
  {
   "cell_type": "markdown",
   "id": "925b1b7f",
   "metadata": {
    "papermill": {
     "duration": 0.027229,
     "end_time": "2021-06-23T00:37:30.798459",
     "exception": false,
     "start_time": "2021-06-23T00:37:30.771230",
     "status": "completed"
    },
    "tags": []
   },
   "source": [
    "## Overview"
   ]
  },
  {
   "cell_type": "code",
   "execution_count": 9,
   "id": "47b2ac08",
   "metadata": {
    "execution": {
     "iopub.execute_input": "2021-06-23T00:37:30.920124Z",
     "iopub.status.busy": "2021-06-23T00:37:30.885114Z",
     "iopub.status.idle": "2021-06-23T00:37:30.923428Z",
     "shell.execute_reply": "2021-06-23T00:37:30.896326Z"
    },
    "papermill": {
     "duration": 0.105827,
     "end_time": "2021-06-23T00:37:30.923690",
     "exception": false,
     "start_time": "2021-06-23T00:37:30.817863",
     "status": "completed"
    },
    "tags": []
   },
   "outputs": [
    {
     "data": {
      "text/markdown": [
       "\n",
       "Feed location: http://data.trilliumtransit.com/gtfs/thousandoaks-ca-us/thousandoaks-ca-us.zip\n",
       "\n",
       "Metrics for the most recent published version of the feed:\n",
       "\n",
       "* Date published: UTC: 15-Dec-2020 00:41\n",
       "* Number of routes in any service: 6\n",
       "* Number of stops in service: 145\n"
      ],
      "text/plain": [
       "<IPython.core.display.Markdown object>"
      ]
     },
     "execution_count": 9,
     "metadata": {},
     "output_type": "execute_result"
    }
   ],
   "source": [
    "Markdown(f\"\"\"\n",
    "Feed location: {status[\"gtfs_schedule_url\"]}\n",
    "\n",
    "Metrics for the most recent published version of the feed:\n",
    "\n",
    "* Date published: {feed_info[\"feed_version\"]}\n",
    "* Number of routes in any service: {feed_info[\"n_routes\"]}\n",
    "* Number of stops in service: {feed_info[\"n_stops\"]}\n",
    "\"\"\")"
   ]
  },
  {
   "cell_type": "markdown",
   "id": "aa9a2f10",
   "metadata": {
    "papermill": {
     "duration": 0.034365,
     "end_time": "2021-06-23T00:37:31.011652",
     "exception": false,
     "start_time": "2021-06-23T00:37:30.977287",
     "status": "completed"
    },
    "tags": []
   },
   "source": [
    "## Aggregated Metrics for May"
   ]
  },
  {
   "cell_type": "code",
   "execution_count": 10,
   "id": "6450103f",
   "metadata": {
    "execution": {
     "iopub.execute_input": "2021-06-23T00:37:31.159056Z",
     "iopub.status.busy": "2021-06-23T00:37:31.114986Z",
     "iopub.status.idle": "2021-06-23T00:37:31.181115Z",
     "shell.execute_reply": "2021-06-23T00:37:31.121203Z"
    },
    "papermill": {
     "duration": 0.139881,
     "end_time": "2021-06-23T00:37:31.181411",
     "exception": false,
     "start_time": "2021-06-23T00:37:31.041530",
     "status": "completed"
    },
    "tags": []
   },
   "outputs": [
    {
     "data": {
      "text/markdown": [
       "\n",
       "Days when the active feed was expired: 5\n"
      ],
      "text/plain": [
       "<IPython.core.display.Markdown object>"
      ]
     },
     "execution_count": 10,
     "metadata": {},
     "output_type": "execute_result"
    }
   ],
   "source": [
    "Markdown(f\"\"\"\n",
    "Days when the active feed was expired: {n_expired_days[\"n\"]}\n",
    "\"\"\")"
   ]
  },
  {
   "cell_type": "code",
   "execution_count": 11,
   "id": "dc8ff4b9",
   "metadata": {
    "execution": {
     "iopub.execute_input": "2021-06-23T00:37:31.463382Z",
     "iopub.status.busy": "2021-06-23T00:37:31.462124Z",
     "iopub.status.idle": "2021-06-23T00:37:32.549086Z",
     "shell.execute_reply": "2021-06-23T00:37:32.547338Z"
    },
    "papermill": {
     "duration": 1.229137,
     "end_time": "2021-06-23T00:37:32.549245",
     "exception": false,
     "start_time": "2021-06-23T00:37:31.320108",
     "status": "completed"
    },
    "tags": []
   },
   "outputs": [
    {
     "name": "stderr",
     "output_type": "stream",
     "text": [
      "/Users/machow/.virtualenvs/calitp-py/lib/python3.8/site-packages/plotnine/layer.py:401: PlotnineWarning: geom_point : Removed 5 rows containing missing values.\n"
     ]
    },
    {
     "data": {
      "image/png": "[encoded data removed]",
      "text/plain": [
       "<Figure size 640x480 with 1 Axes>"
      ]
     },
     "metadata": {},
     "output_type": "display_data"
    },
    {
     "data": {
      "text/plain": [
       "<ggplot: (316354672)>"
      ]
     },
     "execution_count": 11,
     "metadata": {},
     "output_type": "execute_result"
    }
   ],
   "source": [
    "(\n",
    "    tbl_daily_service_hours\n",
    "    >> ggplot(aes(\"service_date\", \"ttl_service_hours\"))\n",
    "    + geom_line()\n",
    "    + geom_point()\n",
    "    + theme(axis_text_x=element_text(angle=45, hjust=1))\n",
    "    + scale_x_datetime(date_breaks=\"1 week\")\n",
    "    + expand_limits(y=0)\n",
    ")"
   ]
  },
  {
   "cell_type": "markdown",
   "id": "acb8d6d6",
   "metadata": {
    "papermill": {
     "duration": 0.049172,
     "end_time": "2021-06-23T00:37:32.692457",
     "exception": false,
     "start_time": "2021-06-23T00:37:32.643285",
     "status": "completed"
    },
    "tags": []
   },
   "source": [
    "## Changes Since Previous Month"
   ]
  },
  {
   "cell_type": "code",
   "execution_count": 12,
   "id": "bf9ea1b3",
   "metadata": {
    "execution": {
     "iopub.execute_input": "2021-06-23T00:37:32.905128Z",
     "iopub.status.busy": "2021-06-23T00:37:32.903956Z",
     "iopub.status.idle": "2021-06-23T00:37:33.919457Z",
     "shell.execute_reply": "2021-06-23T00:37:33.917128Z"
    },
    "papermill": {
     "duration": 1.158739,
     "end_time": "2021-06-23T00:37:33.919773",
     "exception": false,
     "start_time": "2021-06-23T00:37:32.761034",
     "status": "completed"
    },
    "tags": []
   },
   "outputs": [
    {
     "data": {
      "image/png": "[encoded data removed]",
      "text/plain": [
       "<Figure size 640x480 with 1 Axes>"
      ]
     },
     "metadata": {},
     "output_type": "display_data"
    },
    {
     "data": {
      "text/plain": [
       "<ggplot: (316382648)>"
      ]
     },
     "execution_count": 12,
     "metadata": {},
     "output_type": "execute_result"
    }
   ],
   "source": [
    "(\n",
    "    pd.concat(\n",
    "        [\n",
    "            tbl_stops_changed >> mutate(kind=\"Stops\"),\n",
    "            tbl_routes_changed >> mutate(kind=\"Routes\"),\n",
    "        ]\n",
    "    )\n",
    "    >> ggplot(aes(\"kind\", \"n\", fill=\"status\"))\n",
    "    + geom_col()\n",
    "    + labs(x=\"Kind of ID\", y=\"Number of Changes\")\n",
    ")"
   ]
  },
  {
   "cell_type": "markdown",
   "id": "55d93eed",
   "metadata": {
    "papermill": {
     "duration": 0.030141,
     "end_time": "2021-06-23T00:37:34.007958",
     "exception": false,
     "start_time": "2021-06-23T00:37:33.977817",
     "status": "completed"
    },
    "tags": []
   },
   "source": [
    "### (Alternative version using percentages)"
   ]
  },
  {
   "cell_type": "code",
   "execution_count": 13,
   "id": "c473c8af",
   "metadata": {
    "execution": {
     "iopub.execute_input": "2021-06-23T00:37:34.217409Z",
     "iopub.status.busy": "2021-06-23T00:37:34.215983Z",
     "iopub.status.idle": "2021-06-23T00:37:35.293939Z",
     "shell.execute_reply": "2021-06-23T00:37:35.294781Z"
    },
    "papermill": {
     "duration": 1.202068,
     "end_time": "2021-06-23T00:37:35.295075",
     "exception": false,
     "start_time": "2021-06-23T00:37:34.093007",
     "status": "completed"
    },
    "tags": []
   },
   "outputs": [
    {
     "data": {
      "image/png": "[encoded data removed]",
      "text/plain": [
       "<Figure size 640x480 with 1 Axes>"
      ]
     },
     "metadata": {},
     "output_type": "display_data"
    },
    {
     "data": {
      "text/plain": [
       "<ggplot: (316754014)>"
      ]
     },
     "execution_count": 13,
     "metadata": {},
     "output_type": "execute_result"
    }
   ],
   "source": [
    "(\n",
    "    pd.concat(\n",
    "        [\n",
    "            tbl_stops_changed >> mutate(kind=\"Stops\"),\n",
    "            tbl_routes_changed >> mutate(kind=\"Routes\"),\n",
    "        ]\n",
    "    )\n",
    "    >> ggplot(aes(\"kind\", \"percent\", fill=\"status\"))\n",
    "    + geom_col()\n",
    "    + labs(x=\"Kind of ID\", y=\"Percent of Changes\")\n",
    ")"
   ]
  },
  {
   "cell_type": "markdown",
   "id": "deb24ca7",
   "metadata": {
    "papermill": {
     "duration": 0.037465,
     "end_time": "2021-06-23T00:37:35.373523",
     "exception": false,
     "start_time": "2021-06-23T00:37:35.336058",
     "status": "completed"
    },
    "tags": []
   },
   "source": [
    "## Consistency with the California GTFS Minimum Guidelines for the feed downloaded\n"
   ]
  },
  {
   "cell_type": "code",
   "execution_count": 14,
   "id": "adb5113a",
   "metadata": {
    "execution": {
     "iopub.execute_input": "2021-06-23T00:37:35.473700Z",
     "iopub.status.busy": "2021-06-23T00:37:35.471488Z",
     "iopub.status.idle": "2021-06-23T00:37:35.489420Z",
     "shell.execute_reply": "2021-06-23T00:37:35.488391Z"
    },
    "papermill": {
     "duration": 0.076951,
     "end_time": "2021-06-23T00:37:35.489679",
     "exception": false,
     "start_time": "2021-06-23T00:37:35.412728",
     "status": "completed"
    },
    "tags": []
   },
   "outputs": [
    {
     "data": {
      "text/html": [
       "<div>\n",
       "<style scoped>\n",
       "    .dataframe tbody tr th:only-of-type {\n",
       "        vertical-align: middle;\n",
       "    }\n",
       "\n",
       "    .dataframe tbody tr th {\n",
       "        vertical-align: top;\n",
       "    }\n",
       "\n",
       "    .dataframe thead th {\n",
       "        text-align: right;\n",
       "    }\n",
       "</style>\n",
       "<table border=\"1\" class=\"dataframe\">\n",
       "  <thead>\n",
       "    <tr style=\"text-align: right;\">\n",
       "      <th></th>\n",
       "      <th>category</th>\n",
       "      <th>name</th>\n",
       "      <th>2021-05-02</th>\n",
       "      <th>2021-05-09</th>\n",
       "      <th>2021-05-16</th>\n",
       "      <th>2021-05-23</th>\n",
       "      <th>2021-05-30</th>\n",
       "    </tr>\n",
       "  </thead>\n",
       "  <tbody>\n",
       "    <tr>\n",
       "      <th>5</th>\n",
       "      <td>Visual display</td>\n",
       "      <td>shapes.txt</td>\n",
       "      <td>✅</td>\n",
       "      <td>✅</td>\n",
       "      <td>✅</td>\n",
       "      <td>✅</td>\n",
       "      <td>✅</td>\n",
       "    </tr>\n",
       "    <tr>\n",
       "      <th>3</th>\n",
       "      <td>Navigation</td>\n",
       "      <td>levels.txt</td>\n",
       "      <td></td>\n",
       "      <td></td>\n",
       "      <td></td>\n",
       "      <td></td>\n",
       "      <td></td>\n",
       "    </tr>\n",
       "    <tr>\n",
       "      <th>4</th>\n",
       "      <td>Navigation</td>\n",
       "      <td>pathways.txt</td>\n",
       "      <td></td>\n",
       "      <td></td>\n",
       "      <td></td>\n",
       "      <td></td>\n",
       "      <td></td>\n",
       "    </tr>\n",
       "    <tr>\n",
       "      <th>0</th>\n",
       "      <td>Fares</td>\n",
       "      <td>fare_leg_rules</td>\n",
       "      <td></td>\n",
       "      <td></td>\n",
       "      <td></td>\n",
       "      <td></td>\n",
       "      <td></td>\n",
       "    </tr>\n",
       "    <tr>\n",
       "      <th>1</th>\n",
       "      <td>Fares</td>\n",
       "      <td>fare_rules.txt</td>\n",
       "      <td>✅</td>\n",
       "      <td>✅</td>\n",
       "      <td>✅</td>\n",
       "      <td>✅</td>\n",
       "      <td>✅</td>\n",
       "    </tr>\n",
       "    <tr>\n",
       "      <th>2</th>\n",
       "      <td>Technical contacts</td>\n",
       "      <td>feed_info.txt</td>\n",
       "      <td>✅</td>\n",
       "      <td>✅</td>\n",
       "      <td>✅</td>\n",
       "      <td>✅</td>\n",
       "      <td>✅</td>\n",
       "    </tr>\n",
       "  </tbody>\n",
       "</table>\n",
       "</div>"
      ],
      "text/plain": [
       "             category            name 2021-05-02 2021-05-09 2021-05-16  \\\n",
       "5      Visual display      shapes.txt          ✅          ✅          ✅   \n",
       "3          Navigation      levels.txt                                    \n",
       "4          Navigation    pathways.txt                                    \n",
       "0               Fares  fare_leg_rules                                    \n",
       "1               Fares  fare_rules.txt          ✅          ✅          ✅   \n",
       "2  Technical contacts   feed_info.txt          ✅          ✅          ✅   \n",
       "\n",
       "  2021-05-23 2021-05-30  \n",
       "5          ✅          ✅  \n",
       "3                        \n",
       "4                        \n",
       "0                        \n",
       "1          ✅          ✅  \n",
       "2          ✅          ✅  "
      ]
     },
     "execution_count": 14,
     "metadata": {},
     "output_type": "execute_result"
    }
   ],
   "source": [
    "tbl_file_check"
   ]
  },
  {
   "cell_type": "markdown",
   "id": "ce29b751",
   "metadata": {
    "papermill": {
     "duration": 0.107734,
     "end_time": "2021-06-23T00:37:35.675725",
     "exception": false,
     "start_time": "2021-06-23T00:37:35.567991",
     "status": "completed"
    },
    "tags": []
   },
   "source": [
    "### Validation Errors Observed"
   ]
  },
  {
   "cell_type": "code",
   "execution_count": 15,
   "id": "ad5efa88",
   "metadata": {
    "execution": {
     "iopub.execute_input": "2021-06-23T00:37:35.982969Z",
     "iopub.status.busy": "2021-06-23T00:37:35.981092Z",
     "iopub.status.idle": "2021-06-23T00:37:35.987027Z",
     "shell.execute_reply": "2021-06-23T00:37:35.982103Z"
    },
    "papermill": {
     "duration": 0.235644,
     "end_time": "2021-06-23T00:37:35.987336",
     "exception": false,
     "start_time": "2021-06-23T00:37:35.751692",
     "status": "completed"
    },
    "tags": []
   },
   "outputs": [
    {
     "data": {
      "text/html": [
       "<div>\n",
       "<style scoped>\n",
       "    .dataframe tbody tr th:only-of-type {\n",
       "        vertical-align: middle;\n",
       "    }\n",
       "\n",
       "    .dataframe tbody tr th {\n",
       "        vertical-align: top;\n",
       "    }\n",
       "\n",
       "    .dataframe thead th {\n",
       "        text-align: right;\n",
       "    }\n",
       "</style>\n",
       "<table border=\"1\" class=\"dataframe\">\n",
       "  <thead>\n",
       "    <tr style=\"text-align: right;\">\n",
       "      <th></th>\n",
       "      <th>code</th>\n",
       "      <th>severity</th>\n",
       "      <th>n</th>\n",
       "    </tr>\n",
       "  </thead>\n",
       "  <tbody>\n",
       "  </tbody>\n",
       "</table>\n",
       "</div>"
      ],
      "text/plain": [
       "Empty DataFrame\n",
       "Columns: [code, severity, n]\n",
       "Index: []"
      ]
     },
     "execution_count": 15,
     "metadata": {},
     "output_type": "execute_result"
    }
   ],
   "source": [
    "tbl_validation_notices"
   ]
  }
 ],
 "metadata": {
  "kernelspec": {
   "display_name": "venv-calitp-py",
   "language": "python",
   "name": "venv-calitp-py"
  },
  "language_info": {
   "codemirror_mode": {
    "name": "ipython",
    "version": 3
   },
   "file_extension": ".py",
   "mimetype": "text/x-python",
   "name": "python",
   "nbconvert_exporter": "python",
   "pygments_lexer": "ipython3",
   "version": "3.8.5"
  },
  "papermill": {
   "default_parameters": {},
   "duration": 51.277992,
   "end_time": "2021-06-23T00:37:39.100484",
   "environment_variables": {},
   "exception": null,
   "input_path": "report.ipynb",
   "output_path": "output/337/report.ipynb",
   "parameters": {
    "CALITP_ITP_ID": 337,
    "CALITP_URL_NUMBER": 0
   },
   "start_time": "2021-06-23T00:36:47.822492",
   "version": "2.3.3"
  }
 },
 "nbformat": 4,
 "nbformat_minor": 5
}