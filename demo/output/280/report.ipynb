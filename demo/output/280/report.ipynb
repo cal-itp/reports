{
 "cells": [
  {
   "cell_type": "markdown",
   "id": "d41dfe27",
   "metadata": {
    "papermill": {
     "duration": 0.018172,
     "end_time": "2021-06-24T22:18:12.979791",
     "exception": false,
     "start_time": "2021-06-24T22:18:12.961619",
     "status": "completed"
    },
    "tags": [
     "hide"
    ]
   },
   "source": [
    "# Setup"
   ]
  },
  {
   "cell_type": "code",
   "execution_count": 1,
   "id": "31692d8d",
   "metadata": {
    "execution": {
     "iopub.execute_input": "2021-06-24T22:18:13.027966Z",
     "iopub.status.busy": "2021-06-24T22:18:13.026957Z",
     "iopub.status.idle": "2021-06-24T22:18:19.982558Z",
     "shell.execute_reply": "2021-06-24T22:18:19.982959Z"
    },
    "papermill": {
     "duration": 6.980737,
     "end_time": "2021-06-24T22:18:19.983172",
     "exception": false,
     "start_time": "2021-06-24T22:18:13.002435",
     "status": "completed"
    },
    "tags": [
     "hide"
    ]
   },
   "outputs": [],
   "source": [
    "import pandas as pd\n",
    "import numpy as np\n",
    "import warnings\n",
    "\n",
    "from io import StringIO\n",
    "from calitp.tables import tbl\n",
    "from datetime import date, datetime\n",
    "from siuba import *\n",
    "from plotnine import *\n",
    "\n",
    "def friendly_date(x): \n",
    "    return datetime.strptime(x, \"%Y-%m-%d\").strftime(\"%b %d\")"
   ]
  },
  {
   "cell_type": "code",
   "execution_count": 2,
   "id": "69df5704",
   "metadata": {
    "execution": {
     "iopub.execute_input": "2021-06-24T22:18:20.022391Z",
     "iopub.status.busy": "2021-06-24T22:18:20.021787Z",
     "iopub.status.idle": "2021-06-24T22:18:20.024629Z",
     "shell.execute_reply": "2021-06-24T22:18:20.024168Z"
    },
    "papermill": {
     "duration": 0.024729,
     "end_time": "2021-06-24T22:18:20.024749",
     "exception": false,
     "start_time": "2021-06-24T22:18:20.000020",
     "status": "completed"
    },
    "tags": [
     "parameters",
     "hide"
    ]
   },
   "outputs": [],
   "source": [
    "CALITP_ITP_ID = 98\n",
    "#CALITP_ITP_ID=45\n",
    "CALITP_URL_NUMBER = 0\n",
    "DEBUG = False\n",
    "\n",
    "START_DATE = \"2021-05-01\"\n",
    "END_DATE = \"2021-06-01\"\n",
    "DATE_TODAY=date.today()\n",
    "START_MONTH_DAY = friendly_date(START_DATE)\n",
    "END_MONTH_DAY = friendly_date(END_DATE)\n",
    "\n",
    "WEEK_MARKERS = pd.date_range(START_DATE, END_DATE, freq=\"W\").astype(str).tolist()\n",
    "BIWEEKLY_MARKERS = pd.date_range(START_DATE, END_DATE, freq=\"2W\").astype(str).tolist()"
   ]
  },
  {
   "cell_type": "code",
   "execution_count": 3,
   "id": "991342cb",
   "metadata": {
    "execution": {
     "iopub.execute_input": "2021-06-24T22:18:20.065860Z",
     "iopub.status.busy": "2021-06-24T22:18:20.065309Z",
     "iopub.status.idle": "2021-06-24T22:18:20.068678Z",
     "shell.execute_reply": "2021-06-24T22:18:20.069695Z"
    },
    "papermill": {
     "duration": 0.029506,
     "end_time": "2021-06-24T22:18:20.069937",
     "exception": false,
     "start_time": "2021-06-24T22:18:20.040431",
     "status": "completed"
    },
    "tags": [
     "injected-parameters"
    ]
   },
   "outputs": [],
   "source": [
    "# Parameters\n",
    "CALITP_ITP_ID = 280\n",
    "CALITP_URL_NUMBER = 0\n",
    "DEBUG = False\n",
    "START_DATE = \"2021-05-01\"\n",
    "END_DATE = \"2021-06-01\"\n"
   ]
  },
  {
   "cell_type": "code",
   "execution_count": 4,
   "id": "d8518ee6",
   "metadata": {
    "execution": {
     "iopub.execute_input": "2021-06-24T22:18:20.119567Z",
     "iopub.status.busy": "2021-06-24T22:18:20.116780Z",
     "iopub.status.idle": "2021-06-24T22:18:20.121297Z",
     "shell.execute_reply": "2021-06-24T22:18:20.120633Z"
    },
    "papermill": {
     "duration": 0.030932,
     "end_time": "2021-06-24T22:18:20.121428",
     "exception": false,
     "start_time": "2021-06-24T22:18:20.090496",
     "status": "completed"
    },
    "tags": [
     "hide"
    ]
   },
   "outputs": [],
   "source": [
    "if not DEBUG:\n",
    "    warnings.filterwarnings(\"ignore\")"
   ]
  },
  {
   "cell_type": "code",
   "execution_count": 5,
   "id": "b47edbed",
   "metadata": {
    "execution": {
     "iopub.execute_input": "2021-06-24T22:18:20.165082Z",
     "iopub.status.busy": "2021-06-24T22:18:20.164500Z",
     "iopub.status.idle": "2021-06-24T22:18:20.167187Z",
     "shell.execute_reply": "2021-06-24T22:18:20.167674Z"
    },
    "papermill": {
     "duration": 0.028644,
     "end_time": "2021-06-24T22:18:20.167836",
     "exception": false,
     "start_time": "2021-06-24T22:18:20.139192",
     "status": "completed"
    },
    "tags": [
     "hide"
    ]
   },
   "outputs": [],
   "source": [
    "# Convenience functions ----\n",
    "\n",
    "filter_start = filter(\n",
    "    _.calitp_extracted_at <= START_DATE,\n",
    "    _.calitp_deleted_at.fillna(\"2099-01-01\") > START_DATE,\n",
    ")\n",
    "\n",
    "filter_end = filter(\n",
    "    _.calitp_extracted_at <= END_DATE,\n",
    "    _.calitp_deleted_at.fillna(\"2099-01-01\") > END_DATE,\n",
    ")\n",
    "\n",
    "filter_itp = filter(\n",
    "    _.calitp_itp_id == CALITP_ITP_ID, _.calitp_url_number == CALITP_URL_NUMBER\n",
    ")\n",
    "\n",
    "collect_to_dict = (\n",
    "    collect()\n",
    "    >> pipe(_.to_dict(orient=\"records\")[0])\n",
    ")\n",
    "\n",
    "\n",
    "select_rm_calitp = select(\n",
    "    -_.calitp_itp_id,\n",
    "    -_.calitp_url_number,\n",
    "    -_.calitp_hash,\n",
    "    -_.calitp_extracted_at,\n",
    "    -_.calitp_deleted_at,\n",
    ")\n",
    "\n",
    "def percent_format(labels):\n",
    "    return [\"{:.0f}%\".format(v*100) for v in labels]\n",
    "\n",
    "def query_id_changes(start_table, end_table, id_vars):\n",
    "    \"\"\"Calculate id variables that are removed, added, or unchanged between tables.\n",
    "    \n",
    "    It works by adding a special column to each table, performing a full join,\n",
    "    then checking where the special column is null.\n",
    "    \"\"\"\n",
    "    sym_id_vars = [_[k] for k in id_vars]\n",
    "\n",
    "    is_in_start = start_table >> select(*id_vars) >> mutate(is_in_start=True)\n",
    "    is_in_end = end_table >> select(*id_vars) >> mutate(is_in_end=True)\n",
    "\n",
    "    baseline = start_table >> count(*id_vars) >> rename(n_baseline=\"n\")\n",
    "    tallies = (\n",
    "        is_in_start\n",
    "        >> full_join(_, is_in_end, id_vars)\n",
    "        >> count(*sym_id_vars, _.is_in_start, _.is_in_end)\n",
    "        >> mutate(\n",
    "            status=case_when(\n",
    "                _,\n",
    "                {\n",
    "                    _.is_in_end.isna(): \"Removed\",\n",
    "                    _.is_in_start.isna(): \"Added\",\n",
    "                    True: \"Unchanged\",\n",
    "                },\n",
    "            )\n",
    "        )\n",
    "        >> count(*sym_id_vars[:-1], _.status)\n",
    "        >> group_by(*sym_id_vars[:-1])\n",
    "        >> mutate(percent=_.n / _.n.sum())\n",
    "    )\n",
    "\n",
    "    return tallies"
   ]
  },
  {
   "cell_type": "code",
   "execution_count": 6,
   "id": "9c59453d",
   "metadata": {
    "execution": {
     "iopub.execute_input": "2021-06-24T22:18:20.216749Z",
     "iopub.status.busy": "2021-06-24T22:18:20.216094Z",
     "iopub.status.idle": "2021-06-24T22:18:42.214770Z",
     "shell.execute_reply": "2021-06-24T22:18:42.215181Z"
    },
    "papermill": {
     "duration": 22.031242,
     "end_time": "2021-06-24T22:18:42.215316",
     "exception": false,
     "start_time": "2021-06-24T22:18:20.184074",
     "status": "completed"
    },
    "tags": [
     "hide"
    ]
   },
   "outputs": [],
   "source": [
    "# Data ====\n",
    "# 1. High level feed info ----\n",
    "feed_info = (\n",
    "    tbl.gtfs_schedule_type2.feed_info()\n",
    "    >> filter_end\n",
    "    >> filter_itp\n",
    "    >> select_rm_calitp\n",
    "    >> collect_to_dict\n",
    ")\n",
    "\n",
    "_n_routes = (\n",
    "    tbl.gtfs_schedule_type2.routes() >> filter_end >> filter_itp >> count() >> collect()\n",
    ")\n",
    "_n_stops = (\n",
    "    tbl.gtfs_schedule_type2.stops() >> filter_end >> filter_itp >> count() >> collect()\n",
    ")\n",
    "\n",
    "feed_info[\"n_routes\"] = int(_n_routes.loc[0, \"n\"])\n",
    "feed_info[\"n_stops\"] = int(_n_stops.loc[0, \"n\"])\n",
    "\n",
    "status = (\n",
    "    tbl.views.gtfs_status_latest()\n",
    "    >> filter(_.itp_id == CALITP_ITP_ID, _.url_number == CALITP_URL_NUMBER)\n",
    "    >> select(-_.url_number, -_.status)\n",
    "    >> select_rm_calitp\n",
    "    >> collect_to_dict\n",
    ")\n",
    "\n",
    "# 2. Monthly metrics ----\n",
    "# Service hours per day. Note that the queried table calculates service\n",
    "# hours per service id, so we need to sum across service ids for the day\n",
    "_cross_cal = (\n",
    "    tbl.views.dim_date()\n",
    "    >> filter(_.full_date.between(START_DATE, END_DATE))\n",
    "    >> select(_.service_date == _.full_date)\n",
    ")\n",
    "\n",
    "tbl_daily_service_hours = (\n",
    "    tbl.views.gtfs_schedule_service_daily_metrics()\n",
    "    >> filter_itp\n",
    "    >> filter(_.service_date.between(START_DATE, END_DATE))\n",
    "    >> right_join(_, _cross_cal, [\"service_date\"])\n",
    "    >> collect()\n",
    "    >> group_by(_.service_date)\n",
    "    >> summarize(\n",
    "        ttl_service_hours=(_.last_arrival_ts.max() - _.first_departure_ts.min()) / 3600,\n",
    "        ttl_service_hours2=_.ttl_service_hours.sum(),\n",
    "    )\n",
    "    >> mutate(\n",
    "        ttl_service_hours=_.ttl_service_hours.astype(float).round(2),\n",
    "        service_date=_.service_date.astype(\"datetime64[ns]\"),\n",
    "    )\n",
    ")\n",
    "\n",
    "# number of days where a feed did not have any trips in service\n",
    "n_expired_days = (\n",
    "    tbl_daily_service_hours\n",
    "    >> filter(_.ttl_service_hours.isna())\n",
    "    >> pipe(lambda d: {\"n\": d.shape[0]})\n",
    ")\n",
    "\n",
    "# 3. Stop and Route ID Changes ----\n",
    "\n",
    "_tbl_stops_start = tbl.gtfs_schedule_type2.stops() >> filter_itp >> filter_start\n",
    "_tbl_stops_end = tbl.gtfs_schedule_type2.stops() >> filter_itp >> filter_end\n",
    "tbl_stops_changed = (\n",
    "    query_id_changes(_tbl_stops_start, _tbl_stops_end, [\"stop_id\"]) >> collect()\n",
    ")\n",
    "\n",
    "_tbl_routes_start = tbl.gtfs_schedule_type2.routes() >> filter_itp >> filter_start\n",
    "_tbl_routes_end = tbl.gtfs_schedule_type2.routes() >> filter_itp >> filter_end\n",
    "tbl_routes_changed = (\n",
    "    query_id_changes(_tbl_routes_start, _tbl_routes_end, [\"route_id\"]) >> collect()\n",
    ")"
   ]
  },
  {
   "cell_type": "code",
   "execution_count": 7,
   "id": "06f49f0b",
   "metadata": {
    "execution": {
     "iopub.execute_input": "2021-06-24T22:18:42.293012Z",
     "iopub.status.busy": "2021-06-24T22:18:42.291894Z",
     "iopub.status.idle": "2021-06-24T22:18:47.896316Z",
     "shell.execute_reply": "2021-06-24T22:18:47.897087Z"
    },
    "papermill": {
     "duration": 5.655165,
     "end_time": "2021-06-24T22:18:47.897361",
     "exception": false,
     "start_time": "2021-06-24T22:18:42.242196",
     "status": "completed"
    },
    "tags": [
     "hide"
    ]
   },
   "outputs": [],
   "source": [
    "# 4. Feed files being checked for ----\n",
    "\n",
    "file_categories = pd.DataFrame(\n",
    "    {\n",
    "        \"shapes.txt\": \"Visual display\",\n",
    "        \"pathways.txt\": \"Navigation\",\n",
    "        \"levels.txt\": \"Navigation\",\n",
    "        \"fare_rules.txt\": \"Fares\",\n",
    "        \"fare_leg_rules\": \"Fares\",\n",
    "        \"feed_info.txt\": \"Technical contacts\",\n",
    "    }.items(),\n",
    "    columns=[\"name\", \"category\"],\n",
    ")\n",
    "\n",
    "importance = [\"Visual display\", \"Navigation\", \"Fares\", \"Technical contacts\"]\n",
    "\n",
    "tbl_file_check = (\n",
    "    tbl.gtfs_schedule_history.calitp_files_updates()\n",
    "    >> filter_itp\n",
    "    >> filter(_.calitp_extracted_at.isin(BIWEEKLY_MARKERS))\n",
    "    >> select(_.name, _.calitp_extracted_at)\n",
    "    >> collect()\n",
    "    >> right_join(_, file_categories, [\"name\"])\n",
    "    >> mutate(\n",
    "        calitp_extracted_at=_.calitp_extracted_at.fillna(\"missing\").astype(str),\n",
    "        success=\"✅\",\n",
    "    )\n",
    "    >> spread(_.calitp_extracted_at, _.success)\n",
    "    >> select(-_.missing)\n",
    "    >> arrange(_.category.apply(importance.index))\n",
    "    >> select(_.category, _.contains(\"\"))\n",
    "    >> pipe(_.fillna(\"\"))\n",
    ")\n",
    "\n",
    "tbl_validation_notices = (\n",
    "    tbl.views.validation_notices()\n",
    "    >> filter_itp\n",
    "    >> filter(_.severity == \"ERROR\")\n",
    "    >> count(_.code, _.severity)\n",
    "    >> collect()\n",
    ")"
   ]
  },
  {
   "cell_type": "markdown",
   "id": "3bb28b52",
   "metadata": {
    "papermill": {
     "duration": 0.026614,
     "end_time": "2021-06-24T22:18:47.946185",
     "exception": false,
     "start_time": "2021-06-24T22:18:47.919571",
     "status": "completed"
    },
    "tags": [
     "hide"
    ]
   },
   "source": [
    "## Dump data"
   ]
  },
  {
   "cell_type": "code",
   "execution_count": 8,
   "id": "b3387955",
   "metadata": {
    "execution": {
     "iopub.execute_input": "2021-06-24T22:18:47.999815Z",
     "iopub.status.busy": "2021-06-24T22:18:47.998359Z",
     "iopub.status.idle": "2021-06-24T22:18:48.010698Z",
     "shell.execute_reply": "2021-06-24T22:18:48.011135Z"
    },
    "papermill": {
     "duration": 0.046234,
     "end_time": "2021-06-24T22:18:48.011292",
     "exception": false,
     "start_time": "2021-06-24T22:18:47.965058",
     "status": "completed"
    },
    "tags": [
     "hide"
    ]
   },
   "outputs": [],
   "source": [
    "import json\n",
    "import shutil\n",
    "\n",
    "from pathlib import Path\n",
    "\n",
    "out_dir = Path(f\"output/{CALITP_ITP_ID}_{CALITP_URL_NUMBER}/data\")\n",
    "out_dir.mkdir(parents=True, exist_ok=True)\n",
    "\n",
    "json.dump(feed_info, open(out_dir / \"1_feed_info.json\", \"w\"))\n",
    "json.dump(status, open(out_dir / \"1_status.json\", \"w\"))\n",
    "\n",
    "tbl_daily_service_hours.to_json(out_dir / \"2_daily_service_hours.json\", orient=\"records\")\n",
    "json.dump(n_expired_days, open(out_dir / \"2_n_expired_days.json\", \"w\"))\n",
    "\n",
    "tbl_stops_changed.to_json(out_dir / \"3_stops_changed.json\", orient=\"records\")\n",
    "tbl_routes_changed.to_json(out_dir / \"3_routes_changed.json\", orient=\"records\")\n",
    "tbl_file_check.to_json(out_dir / \"4_file_check.json\", orient=\"records\")\n",
    "tbl_validation_notices.to_json(out_dir / \"4_validation_notices.json\", orient=\"records\")\n"
   ]
  },
  {
   "cell_type": "markdown",
   "id": "b78e4f80",
   "metadata": {
    "papermill": {
     "duration": 0.042568,
     "end_time": "2021-06-24T22:18:48.086507",
     "exception": false,
     "start_time": "2021-06-24T22:18:48.043939",
     "status": "completed"
    },
    "tags": []
   },
   "source": [
    "# Monthly GTFS Quality Report"
   ]
  },
  {
   "cell_type": "code",
   "execution_count": 9,
   "id": "a978cbb8",
   "metadata": {
    "execution": {
     "iopub.execute_input": "2021-06-24T22:18:48.162928Z",
     "iopub.status.busy": "2021-06-24T22:18:48.161682Z",
     "iopub.status.idle": "2021-06-24T22:18:48.166368Z",
     "shell.execute_reply": "2021-06-24T22:18:48.163846Z"
    },
    "papermill": {
     "duration": 0.04522,
     "end_time": "2021-06-24T22:18:48.166502",
     "exception": false,
     "start_time": "2021-06-24T22:18:48.121282",
     "status": "completed"
    },
    "tags": []
   },
   "outputs": [
    {
     "data": {
      "text/markdown": [
       "\n",
       "Transit provider name: Trillium Solutions, Inc.\n",
       "\n",
       "Date generated: 2021-06-24\n"
      ],
      "text/plain": [
       "<IPython.core.display.Markdown object>"
      ]
     },
     "execution_count": 9,
     "metadata": {},
     "output_type": "execute_result"
    }
   ],
   "source": [
    "from IPython.display import Markdown\n",
    "\n",
    "Markdown(f\"\"\"\n",
    "Transit provider name: {feed_info[\"feed_publisher_name\"]}\n",
    "\n",
    "Date generated: {DATE_TODAY}\n",
    "\"\"\")"
   ]
  },
  {
   "cell_type": "markdown",
   "id": "a3189c0c",
   "metadata": {
    "papermill": {
     "duration": 0.035795,
     "end_time": "2021-06-24T22:18:48.231871",
     "exception": false,
     "start_time": "2021-06-24T22:18:48.196076",
     "status": "completed"
    },
    "tags": []
   },
   "source": [
    "This is a monthly report, generated by the California Integrated Travel Project ([Cal-ITP](https://dot.ca.gov/cal-itp/cal-itp-gtfs)), summarizing issues discovered by [MobilityData](http://mobilitydata.io/)’s [GTFS Validator](https://github.com/MobilityData/gtfs-validator). This report is available for viewing by the general public to support continuous improvement of GTFS data and the experience of transit passengers. "
   ]
  },
  {
   "cell_type": "markdown",
   "id": "5787237a",
   "metadata": {
    "papermill": {
     "duration": 0.027247,
     "end_time": "2021-06-24T22:18:48.292950",
     "exception": false,
     "start_time": "2021-06-24T22:18:48.265703",
     "status": "completed"
    },
    "tags": []
   },
   "source": [
    "## Overview"
   ]
  },
  {
   "cell_type": "code",
   "execution_count": 10,
   "id": "53bc7aef",
   "metadata": {
    "execution": {
     "iopub.execute_input": "2021-06-24T22:18:48.384783Z",
     "iopub.status.busy": "2021-06-24T22:18:48.380378Z",
     "iopub.status.idle": "2021-06-24T22:18:48.388316Z",
     "shell.execute_reply": "2021-06-24T22:18:48.387504Z"
    },
    "papermill": {
     "duration": 0.05699,
     "end_time": "2021-06-24T22:18:48.388539",
     "exception": false,
     "start_time": "2021-06-24T22:18:48.331549",
     "status": "completed"
    },
    "tags": []
   },
   "outputs": [
    {
     "data": {
      "text/markdown": [
       "\n",
       "Feed location: http://data.trilliumtransit.com/gtfs/sfbayferry-ca-us/sfbayferry-ca-us.zip\n",
       "\n",
       "Metrics for the most recent published version of the feed:\n",
       "\n",
       "* Date published: UTC: 28-May-2021 23:55\n",
       "* Number of routes in any service: 8\n",
       "* Number of stops in service: 13\n"
      ],
      "text/plain": [
       "<IPython.core.display.Markdown object>"
      ]
     },
     "execution_count": 10,
     "metadata": {},
     "output_type": "execute_result"
    }
   ],
   "source": [
    "Markdown(f\"\"\"\n",
    "Feed location: {status[\"gtfs_schedule_url\"]}\n",
    "\n",
    "Metrics for the most recent published version of the feed:\n",
    "\n",
    "* Date published: {feed_info[\"feed_version\"]}\n",
    "* Number of routes in any service: {feed_info[\"n_routes\"]}\n",
    "* Number of stops in service: {feed_info[\"n_stops\"]}\n",
    "\"\"\")"
   ]
  },
  {
   "cell_type": "markdown",
   "id": "17f6878e",
   "metadata": {
    "papermill": {
     "duration": 0.031685,
     "end_time": "2021-06-24T22:18:48.464752",
     "exception": false,
     "start_time": "2021-06-24T22:18:48.433067",
     "status": "completed"
    },
    "tags": []
   },
   "source": [
    "## Aggregated Metrics for May"
   ]
  },
  {
   "cell_type": "code",
   "execution_count": 11,
   "id": "5ac704d0",
   "metadata": {
    "execution": {
     "iopub.execute_input": "2021-06-24T22:18:48.544784Z",
     "iopub.status.busy": "2021-06-24T22:18:48.541327Z",
     "iopub.status.idle": "2021-06-24T22:18:48.547528Z",
     "shell.execute_reply": "2021-06-24T22:18:48.548292Z"
    },
    "papermill": {
     "duration": 0.049433,
     "end_time": "2021-06-24T22:18:48.548524",
     "exception": false,
     "start_time": "2021-06-24T22:18:48.499091",
     "status": "completed"
    },
    "tags": []
   },
   "outputs": [
    {
     "data": {
      "text/markdown": [
       "\n",
       "Days with no service hours: 18\n"
      ],
      "text/plain": [
       "<IPython.core.display.Markdown object>"
      ]
     },
     "execution_count": 11,
     "metadata": {},
     "output_type": "execute_result"
    }
   ],
   "source": [
    "# TODO: \n",
    "\n",
    "# Markdown(f\"\"\"\n",
    "# Days when the active feed was expired: {n_expired_days[\"n\"]}\n",
    "# \"\"\")\n",
    "\n",
    "Markdown(f\"\"\"\n",
    "Days with no service hours: {n_expired_days[\"n\"]}\n",
    "\"\"\")\n"
   ]
  },
  {
   "cell_type": "code",
   "execution_count": 12,
   "id": "3be01966",
   "metadata": {
    "execution": {
     "iopub.execute_input": "2021-06-24T22:18:48.656313Z",
     "iopub.status.busy": "2021-06-24T22:18:48.655256Z",
     "iopub.status.idle": "2021-06-24T22:18:49.582888Z",
     "shell.execute_reply": "2021-06-24T22:18:49.584200Z"
    },
    "papermill": {
     "duration": 0.99475,
     "end_time": "2021-06-24T22:18:49.584423",
     "exception": false,
     "start_time": "2021-06-24T22:18:48.589673",
     "status": "completed"
    },
    "tags": []
   },
   "outputs": [
    {
     "data": {
      "image/png": "[encoded data removed]",
      "text/plain": [
       "<Figure size 640x480 with 1 Axes>"
      ]
     },
     "metadata": {},
     "output_type": "display_data"
    }
   ],
   "source": [
    "(\n",
    "    tbl_daily_service_hours\n",
    "    >> ggplot(aes(\"service_date\", \"ttl_service_hours2\"))\n",
    "    + geom_line()\n",
    "    + geom_point()\n",
    "    + theme(axis_text_x=element_text(angle=45, hjust=1))\n",
    "    + scale_x_datetime(date_breaks=\"1 week\")\n",
    "    + expand_limits(y=0)\n",
    "    + labs(y = \"Total service hours\", x = \"Service date\", title=\"Service hour per day\")\n",
    ").draw();"
   ]
  },
  {
   "cell_type": "markdown",
   "id": "5643aca4",
   "metadata": {
    "papermill": {
     "duration": 0.032337,
     "end_time": "2021-06-24T22:18:49.648568",
     "exception": false,
     "start_time": "2021-06-24T22:18:49.616231",
     "status": "completed"
    },
    "tags": []
   },
   "source": [
    "## Changes Since Previous Month"
   ]
  },
  {
   "cell_type": "code",
   "execution_count": 13,
   "id": "2cd71c14",
   "metadata": {
    "execution": {
     "iopub.execute_input": "2021-06-24T22:18:49.734290Z",
     "iopub.status.busy": "2021-06-24T22:18:49.733339Z",
     "iopub.status.idle": "2021-06-24T22:18:50.287453Z",
     "shell.execute_reply": "2021-06-24T22:18:50.288139Z"
    },
    "papermill": {
     "duration": 0.603466,
     "end_time": "2021-06-24T22:18:50.288336",
     "exception": false,
     "start_time": "2021-06-24T22:18:49.684870",
     "status": "completed"
    },
    "tags": []
   },
   "outputs": [
    {
     "data": {
      "image/png": "[encoded data removed]",
      "text/plain": [
       "<Figure size 640x480 with 1 Axes>"
      ]
     },
     "metadata": {},
     "output_type": "display_data"
    }
   ],
   "source": [
    "(\n",
    "    pd.concat(\n",
    "        [\n",
    "            tbl_stops_changed >> mutate(kind=\"Stops\"),\n",
    "            tbl_routes_changed >> mutate(kind=\"Routes\"),\n",
    "        ]\n",
    "    )\n",
    "    >> ggplot(aes(\"kind\", \"n\", fill=\"status\"))\n",
    "    + geom_col()\n",
    "    + labs(\n",
    "        x=\"GTFS schedule table\",\n",
    "        y=\"Number of IDs\",\n",
    "        title=f\"IDs Changed Between {START_MONTH_DAY} and {END_MONTH_DAY}\",\n",
    "    )\n",
    ").draw();"
   ]
  },
  {
   "cell_type": "markdown",
   "id": "bba4eb19",
   "metadata": {
    "papermill": {
     "duration": 0.03657,
     "end_time": "2021-06-24T22:18:50.361150",
     "exception": false,
     "start_time": "2021-06-24T22:18:50.324580",
     "status": "completed"
    },
    "tags": []
   },
   "source": [
    "### (Alternative version using percentages)"
   ]
  },
  {
   "cell_type": "code",
   "execution_count": 14,
   "id": "f8b7640d",
   "metadata": {
    "execution": {
     "iopub.execute_input": "2021-06-24T22:18:50.461106Z",
     "iopub.status.busy": "2021-06-24T22:18:50.460060Z",
     "iopub.status.idle": "2021-06-24T22:18:51.160533Z",
     "shell.execute_reply": "2021-06-24T22:18:51.161251Z"
    },
    "papermill": {
     "duration": 0.755882,
     "end_time": "2021-06-24T22:18:51.161470",
     "exception": false,
     "start_time": "2021-06-24T22:18:50.405588",
     "status": "completed"
    },
    "tags": []
   },
   "outputs": [
    {
     "data": {
      "image/png": "[encoded data removed]",
      "text/plain": [
       "<Figure size 640x480 with 1 Axes>"
      ]
     },
     "metadata": {},
     "output_type": "display_data"
    }
   ],
   "source": [
    "(\n",
    "    pd.concat(\n",
    "        [\n",
    "            tbl_stops_changed >> mutate(kind=\"Stops\"),\n",
    "            tbl_routes_changed >> mutate(kind=\"Routes\"),\n",
    "        ]\n",
    "    )\n",
    "    >> ggplot(aes(\"kind\", \"percent\", fill=\"status\"))\n",
    "    + geom_col()\n",
    "    + labs(\n",
    "        x=\"GTFS schedule table\",\n",
    "        y=\"Percentage of IDs\",\n",
    "        title=f\"IDs Changed Between {START_MONTH_DAY} and {END_MONTH_DAY}\",\n",
    "    )\n",
    "    + scale_y_continuous(labels=percent_format, breaks=np.arange(0, 1.2, 0.2))\n",
    ").draw();"
   ]
  },
  {
   "cell_type": "markdown",
   "id": "58d55b88",
   "metadata": {
    "papermill": {
     "duration": 0.039254,
     "end_time": "2021-06-24T22:18:51.238705",
     "exception": false,
     "start_time": "2021-06-24T22:18:51.199451",
     "status": "completed"
    },
    "tags": []
   },
   "source": [
    "## Consistency with the [California GTFS Minimum Guidelines](https://dot.ca.gov/cal-itp/california-minimum-general-transit-feed-specification-gtfs-guidelines) for the feed downloaded\n"
   ]
  },
  {
   "cell_type": "markdown",
   "id": "979ee2ae",
   "metadata": {
    "papermill": {
     "duration": 0.040116,
     "end_time": "2021-06-24T22:18:51.322089",
     "exception": false,
     "start_time": "2021-06-24T22:18:51.281973",
     "status": "completed"
    },
    "tags": []
   },
   "source": [
    "### Do the following files/fields exist?"
   ]
  },
  {
   "cell_type": "code",
   "execution_count": 15,
   "id": "1c7edfab",
   "metadata": {
    "execution": {
     "iopub.execute_input": "2021-06-24T22:18:51.435129Z",
     "iopub.status.busy": "2021-06-24T22:18:51.434261Z",
     "iopub.status.idle": "2021-06-24T22:18:51.444912Z",
     "shell.execute_reply": "2021-06-24T22:18:51.445756Z"
    },
    "papermill": {
     "duration": 0.069068,
     "end_time": "2021-06-24T22:18:51.446004",
     "exception": false,
     "start_time": "2021-06-24T22:18:51.376936",
     "status": "completed"
    },
    "tags": []
   },
   "outputs": [
    {
     "data": {
      "text/html": [
       "<div>\n",
       "<style scoped>\n",
       "    .dataframe tbody tr th:only-of-type {\n",
       "        vertical-align: middle;\n",
       "    }\n",
       "\n",
       "    .dataframe tbody tr th {\n",
       "        vertical-align: top;\n",
       "    }\n",
       "\n",
       "    .dataframe thead th {\n",
       "        text-align: right;\n",
       "    }\n",
       "</style>\n",
       "<table border=\"1\" class=\"dataframe\">\n",
       "  <thead>\n",
       "    <tr style=\"text-align: right;\">\n",
       "      <th></th>\n",
       "      <th>category</th>\n",
       "      <th>name</th>\n",
       "      <th>2021-05-16</th>\n",
       "      <th>2021-05-30</th>\n",
       "    </tr>\n",
       "  </thead>\n",
       "  <tbody>\n",
       "    <tr>\n",
       "      <th>5</th>\n",
       "      <td>Visual display</td>\n",
       "      <td>shapes.txt</td>\n",
       "      <td>✅</td>\n",
       "      <td>✅</td>\n",
       "    </tr>\n",
       "    <tr>\n",
       "      <th>3</th>\n",
       "      <td>Navigation</td>\n",
       "      <td>levels.txt</td>\n",
       "      <td></td>\n",
       "      <td></td>\n",
       "    </tr>\n",
       "    <tr>\n",
       "      <th>4</th>\n",
       "      <td>Navigation</td>\n",
       "      <td>pathways.txt</td>\n",
       "      <td></td>\n",
       "      <td></td>\n",
       "    </tr>\n",
       "    <tr>\n",
       "      <th>0</th>\n",
       "      <td>Fares</td>\n",
       "      <td>fare_leg_rules</td>\n",
       "      <td></td>\n",
       "      <td></td>\n",
       "    </tr>\n",
       "    <tr>\n",
       "      <th>1</th>\n",
       "      <td>Fares</td>\n",
       "      <td>fare_rules.txt</td>\n",
       "      <td>✅</td>\n",
       "      <td>✅</td>\n",
       "    </tr>\n",
       "    <tr>\n",
       "      <th>2</th>\n",
       "      <td>Technical contacts</td>\n",
       "      <td>feed_info.txt</td>\n",
       "      <td>✅</td>\n",
       "      <td>✅</td>\n",
       "    </tr>\n",
       "  </tbody>\n",
       "</table>\n",
       "</div>"
      ],
      "text/plain": [
       "             category            name 2021-05-16 2021-05-30\n",
       "5      Visual display      shapes.txt          ✅          ✅\n",
       "3          Navigation      levels.txt                      \n",
       "4          Navigation    pathways.txt                      \n",
       "0               Fares  fare_leg_rules                      \n",
       "1               Fares  fare_rules.txt          ✅          ✅\n",
       "2  Technical contacts   feed_info.txt          ✅          ✅"
      ]
     },
     "execution_count": 15,
     "metadata": {},
     "output_type": "execute_result"
    }
   ],
   "source": [
    "tbl_file_check"
   ]
  },
  {
   "cell_type": "markdown",
   "id": "7783b0a5",
   "metadata": {
    "papermill": {
     "duration": 0.043924,
     "end_time": "2021-06-24T22:18:51.537338",
     "exception": false,
     "start_time": "2021-06-24T22:18:51.493414",
     "status": "completed"
    },
    "tags": []
   },
   "source": [
    "### Validation Errors Observed"
   ]
  },
  {
   "cell_type": "code",
   "execution_count": 16,
   "id": "43bf67ae",
   "metadata": {
    "execution": {
     "iopub.execute_input": "2021-06-24T22:18:51.647056Z",
     "iopub.status.busy": "2021-06-24T22:18:51.646292Z",
     "iopub.status.idle": "2021-06-24T22:18:51.650018Z",
     "shell.execute_reply": "2021-06-24T22:18:51.650475Z"
    },
    "papermill": {
     "duration": 0.059759,
     "end_time": "2021-06-24T22:18:51.650617",
     "exception": false,
     "start_time": "2021-06-24T22:18:51.590858",
     "status": "completed"
    },
    "tags": []
   },
   "outputs": [
    {
     "data": {
      "text/markdown": [
       "No validation error observed in your feed."
      ],
      "text/plain": [
       "<IPython.core.display.Markdown object>"
      ]
     },
     "metadata": {},
     "output_type": "display_data"
    }
   ],
   "source": [
    "if tbl_validation_notices.shape[0] == 0:\n",
    "    display(Markdown(\"No validation error observed in your feed.\"))\n",
    "else:    \n",
    "    display(tbl_validation_notices)"
   ]
  },
  {
   "cell_type": "markdown",
   "id": "cb9b2ce1",
   "metadata": {
    "papermill": {
     "duration": 0.028256,
     "end_time": "2021-06-24T22:18:51.702150",
     "exception": false,
     "start_time": "2021-06-24T22:18:51.673894",
     "status": "completed"
    },
    "tags": []
   },
   "source": [
    "For more information about Cal-ITP, including the [Minimum GTFS Guidelines](https://dot.ca.gov/cal-itp/california-minimum-general-transit-feed-specification-gtfs-guidelines) and our [Transit Data Helpdesk](https://dot.ca.gov/programs/rail-and-mass-transportation/gtfs/helpdesk), contact [GTFSRT@dot.ca.gov](mailto:GTFSRT@dot.ca.gov)."
   ]
  }
 ],
 "metadata": {
  "kernelspec": {
   "display_name": "venv-calitp-py",
   "language": "python",
   "name": "venv-calitp-py"
  },
  "language_info": {
   "codemirror_mode": {
    "name": "ipython",
    "version": 3
   },
   "file_extension": ".py",
   "mimetype": "text/x-python",
   "name": "python",
   "nbconvert_exporter": "python",
   "pygments_lexer": "ipython3",
   "version": "3.8.5"
  },
  "papermill": {
   "default_parameters": {},
   "duration": 41.258761,
   "end_time": "2021-06-24T22:18:53.445264",
   "environment_variables": {},
   "exception": null,
   "input_path": "report.ipynb",
   "output_path": "output/280/report.ipynb",
   "parameters": {
    "CALITP_ITP_ID": 280,
    "CALITP_URL_NUMBER": 0,
    "DEBUG": false,
    "END_DATE": "2021-06-01",
    "START_DATE": "2021-05-01"
   },
   "start_time": "2021-06-24T22:18:12.186503",
   "version": "2.3.3"
  }
 },
 "nbformat": 4,
 "nbformat_minor": 5
}