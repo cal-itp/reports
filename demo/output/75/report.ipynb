{
 "cells": [
  {
   "cell_type": "markdown",
   "id": "def7a8f1",
   "metadata": {
    "papermill": {
     "duration": 0.033954,
     "end_time": "2021-06-24T22:11:08.019181",
     "exception": false,
     "start_time": "2021-06-24T22:11:07.985227",
     "status": "completed"
    },
    "tags": [
     "hide"
    ]
   },
   "source": [
    "# Setup"
   ]
  },
  {
   "cell_type": "code",
   "execution_count": 1,
   "id": "ea86af46",
   "metadata": {
    "execution": {
     "iopub.execute_input": "2021-06-24T22:11:08.223905Z",
     "iopub.status.busy": "2021-06-24T22:11:08.222959Z",
     "iopub.status.idle": "2021-06-24T22:11:23.266391Z",
     "shell.execute_reply": "2021-06-24T22:11:23.267999Z"
    },
    "papermill": {
     "duration": 15.21186,
     "end_time": "2021-06-24T22:11:23.268469",
     "exception": false,
     "start_time": "2021-06-24T22:11:08.056609",
     "status": "completed"
    },
    "tags": [
     "hide"
    ]
   },
   "outputs": [],
   "source": [
    "import pandas as pd\n",
    "import numpy as np\n",
    "import warnings\n",
    "\n",
    "from io import StringIO\n",
    "from calitp.tables import tbl\n",
    "from datetime import date, datetime\n",
    "from siuba import *\n",
    "from plotnine import *\n",
    "\n",
    "def friendly_date(x): \n",
    "    return datetime.strptime(x, \"%Y-%m-%d\").strftime(\"%b %d\")"
   ]
  },
  {
   "cell_type": "code",
   "execution_count": 2,
   "id": "a805f6b6",
   "metadata": {
    "execution": {
     "iopub.execute_input": "2021-06-24T22:11:23.345617Z",
     "iopub.status.busy": "2021-06-24T22:11:23.344413Z",
     "iopub.status.idle": "2021-06-24T22:11:23.353801Z",
     "shell.execute_reply": "2021-06-24T22:11:23.354589Z"
    },
    "papermill": {
     "duration": 0.055339,
     "end_time": "2021-06-24T22:11:23.354809",
     "exception": false,
     "start_time": "2021-06-24T22:11:23.299470",
     "status": "completed"
    },
    "tags": [
     "parameters",
     "hide"
    ]
   },
   "outputs": [],
   "source": [
    "CALITP_ITP_ID = 98\n",
    "#CALITP_ITP_ID=45\n",
    "CALITP_URL_NUMBER = 0\n",
    "DEBUG = False\n",
    "\n",
    "START_DATE = \"2021-05-01\"\n",
    "END_DATE = \"2021-06-01\"\n",
    "DATE_TODAY=date.today()\n",
    "START_MONTH_DAY = friendly_date(START_DATE)\n",
    "END_MONTH_DAY = friendly_date(END_DATE)\n",
    "\n",
    "WEEK_MARKERS = pd.date_range(START_DATE, END_DATE, freq=\"W\").astype(str).tolist()\n",
    "BIWEEKLY_MARKERS = pd.date_range(START_DATE, END_DATE, freq=\"2W\").astype(str).tolist()"
   ]
  },
  {
   "cell_type": "code",
   "execution_count": 3,
   "id": "5235657c",
   "metadata": {
    "execution": {
     "iopub.execute_input": "2021-06-24T22:11:23.422600Z",
     "iopub.status.busy": "2021-06-24T22:11:23.421547Z",
     "iopub.status.idle": "2021-06-24T22:11:23.426346Z",
     "shell.execute_reply": "2021-06-24T22:11:23.427276Z"
    },
    "papermill": {
     "duration": 0.041543,
     "end_time": "2021-06-24T22:11:23.427568",
     "exception": false,
     "start_time": "2021-06-24T22:11:23.386025",
     "status": "completed"
    },
    "tags": [
     "injected-parameters"
    ]
   },
   "outputs": [],
   "source": [
    "# Parameters\n",
    "CALITP_ITP_ID = 75\n",
    "CALITP_URL_NUMBER = 0\n",
    "DEBUG = False\n",
    "START_DATE = \"2021-05-01\"\n",
    "END_DATE = \"2021-06-01\"\n"
   ]
  },
  {
   "cell_type": "code",
   "execution_count": 4,
   "id": "6b3aa673",
   "metadata": {
    "execution": {
     "iopub.execute_input": "2021-06-24T22:11:23.651949Z",
     "iopub.status.busy": "2021-06-24T22:11:23.649904Z",
     "iopub.status.idle": "2021-06-24T22:11:23.671917Z",
     "shell.execute_reply": "2021-06-24T22:11:23.650809Z"
    },
    "papermill": {
     "duration": 0.213006,
     "end_time": "2021-06-24T22:11:23.672300",
     "exception": false,
     "start_time": "2021-06-24T22:11:23.459294",
     "status": "completed"
    },
    "tags": [
     "hide"
    ]
   },
   "outputs": [],
   "source": [
    "if not DEBUG:\n",
    "    warnings.filterwarnings(\"ignore\")"
   ]
  },
  {
   "cell_type": "code",
   "execution_count": 5,
   "id": "1ce3d05d",
   "metadata": {
    "execution": {
     "iopub.execute_input": "2021-06-24T22:11:23.876261Z",
     "iopub.status.busy": "2021-06-24T22:11:23.874743Z",
     "iopub.status.idle": "2021-06-24T22:11:23.889707Z",
     "shell.execute_reply": "2021-06-24T22:11:23.890467Z"
    },
    "papermill": {
     "duration": 0.119934,
     "end_time": "2021-06-24T22:11:23.890699",
     "exception": false,
     "start_time": "2021-06-24T22:11:23.770765",
     "status": "completed"
    },
    "tags": [
     "hide"
    ]
   },
   "outputs": [],
   "source": [
    "# Convenience functions ----\n",
    "\n",
    "filter_start = filter(\n",
    "    _.calitp_extracted_at <= START_DATE,\n",
    "    _.calitp_deleted_at.fillna(\"2099-01-01\") > START_DATE,\n",
    ")\n",
    "\n",
    "filter_end = filter(\n",
    "    _.calitp_extracted_at <= END_DATE,\n",
    "    _.calitp_deleted_at.fillna(\"2099-01-01\") > END_DATE,\n",
    ")\n",
    "\n",
    "filter_itp = filter(\n",
    "    _.calitp_itp_id == CALITP_ITP_ID, _.calitp_url_number == CALITP_URL_NUMBER\n",
    ")\n",
    "\n",
    "collect_to_dict = (\n",
    "    collect()\n",
    "    >> pipe(_.to_dict(orient=\"records\")[0])\n",
    ")\n",
    "\n",
    "\n",
    "select_rm_calitp = select(\n",
    "    -_.calitp_itp_id,\n",
    "    -_.calitp_url_number,\n",
    "    -_.calitp_hash,\n",
    "    -_.calitp_extracted_at,\n",
    "    -_.calitp_deleted_at,\n",
    ")\n",
    "\n",
    "def percent_format(labels):\n",
    "    return [\"{:.0f}%\".format(v*100) for v in labels]\n",
    "\n",
    "def query_id_changes(start_table, end_table, id_vars):\n",
    "    \"\"\"Calculate id variables that are removed, added, or unchanged between tables.\n",
    "    \n",
    "    It works by adding a special column to each table, performing a full join,\n",
    "    then checking where the special column is null.\n",
    "    \"\"\"\n",
    "    sym_id_vars = [_[k] for k in id_vars]\n",
    "\n",
    "    is_in_start = start_table >> select(*id_vars) >> mutate(is_in_start=True)\n",
    "    is_in_end = end_table >> select(*id_vars) >> mutate(is_in_end=True)\n",
    "\n",
    "    baseline = start_table >> count(*id_vars) >> rename(n_baseline=\"n\")\n",
    "    tallies = (\n",
    "        is_in_start\n",
    "        >> full_join(_, is_in_end, id_vars)\n",
    "        >> count(*sym_id_vars, _.is_in_start, _.is_in_end)\n",
    "        >> mutate(\n",
    "            status=case_when(\n",
    "                _,\n",
    "                {\n",
    "                    _.is_in_end.isna(): \"Removed\",\n",
    "                    _.is_in_start.isna(): \"Added\",\n",
    "                    True: \"Unchanged\",\n",
    "                },\n",
    "            )\n",
    "        )\n",
    "        >> count(*sym_id_vars[:-1], _.status)\n",
    "        >> group_by(*sym_id_vars[:-1])\n",
    "        >> mutate(percent=_.n / _.n.sum())\n",
    "    )\n",
    "\n",
    "    return tallies"
   ]
  },
  {
   "cell_type": "code",
   "execution_count": 6,
   "id": "cd49f88b",
   "metadata": {
    "execution": {
     "iopub.execute_input": "2021-06-24T22:11:24.035398Z",
     "iopub.status.busy": "2021-06-24T22:11:24.033573Z",
     "iopub.status.idle": "2021-06-24T22:11:48.665295Z",
     "shell.execute_reply": "2021-06-24T22:11:48.665734Z"
    },
    "papermill": {
     "duration": 24.717425,
     "end_time": "2021-06-24T22:11:48.665873",
     "exception": false,
     "start_time": "2021-06-24T22:11:23.948448",
     "status": "completed"
    },
    "tags": [
     "hide"
    ]
   },
   "outputs": [],
   "source": [
    "# Data ====\n",
    "# 1. High level feed info ----\n",
    "feed_info = (\n",
    "    tbl.gtfs_schedule_type2.feed_info()\n",
    "    >> filter_end\n",
    "    >> filter_itp\n",
    "    >> select_rm_calitp\n",
    "    >> collect_to_dict\n",
    ")\n",
    "\n",
    "_n_routes = (\n",
    "    tbl.gtfs_schedule_type2.routes() >> filter_end >> filter_itp >> count() >> collect()\n",
    ")\n",
    "_n_stops = (\n",
    "    tbl.gtfs_schedule_type2.stops() >> filter_end >> filter_itp >> count() >> collect()\n",
    ")\n",
    "\n",
    "feed_info[\"n_routes\"] = int(_n_routes.loc[0, \"n\"])\n",
    "feed_info[\"n_stops\"] = int(_n_stops.loc[0, \"n\"])\n",
    "\n",
    "status = (\n",
    "    tbl.views.gtfs_status_latest()\n",
    "    >> filter(_.itp_id == CALITP_ITP_ID, _.url_number == CALITP_URL_NUMBER)\n",
    "    >> select(-_.url_number, -_.status)\n",
    "    >> select_rm_calitp\n",
    "    >> collect_to_dict\n",
    ")\n",
    "\n",
    "# 2. Monthly metrics ----\n",
    "# Service hours per day. Note that the queried table calculates service\n",
    "# hours per service id, so we need to sum across service ids for the day\n",
    "_cross_cal = (\n",
    "    tbl.views.dim_date()\n",
    "    >> filter(_.full_date.between(START_DATE, END_DATE))\n",
    "    >> select(_.service_date == _.full_date)\n",
    ")\n",
    "\n",
    "tbl_daily_service_hours = (\n",
    "    tbl.views.gtfs_schedule_service_daily_metrics()\n",
    "    >> filter_itp\n",
    "    >> filter(_.service_date.between(START_DATE, END_DATE))\n",
    "    >> right_join(_, _cross_cal, [\"service_date\"])\n",
    "    >> collect()\n",
    "    >> group_by(_.service_date)\n",
    "    >> summarize(\n",
    "        ttl_service_hours=(_.last_arrival_ts.max() - _.first_departure_ts.min()) / 3600,\n",
    "        ttl_service_hours2=_.ttl_service_hours.sum(),\n",
    "    )\n",
    "    >> mutate(\n",
    "        ttl_service_hours=_.ttl_service_hours.astype(float).round(2),\n",
    "        service_date=_.service_date.astype(\"datetime64[ns]\"),\n",
    "    )\n",
    ")\n",
    "\n",
    "# number of days where a feed did not have any trips in service\n",
    "n_expired_days = (\n",
    "    tbl_daily_service_hours\n",
    "    >> filter(_.ttl_service_hours.isna())\n",
    "    >> pipe(lambda d: {\"n\": d.shape[0]})\n",
    ")\n",
    "\n",
    "# 3. Stop and Route ID Changes ----\n",
    "\n",
    "_tbl_stops_start = tbl.gtfs_schedule_type2.stops() >> filter_itp >> filter_start\n",
    "_tbl_stops_end = tbl.gtfs_schedule_type2.stops() >> filter_itp >> filter_end\n",
    "tbl_stops_changed = (\n",
    "    query_id_changes(_tbl_stops_start, _tbl_stops_end, [\"stop_id\"]) >> collect()\n",
    ")\n",
    "\n",
    "_tbl_routes_start = tbl.gtfs_schedule_type2.routes() >> filter_itp >> filter_start\n",
    "_tbl_routes_end = tbl.gtfs_schedule_type2.routes() >> filter_itp >> filter_end\n",
    "tbl_routes_changed = (\n",
    "    query_id_changes(_tbl_routes_start, _tbl_routes_end, [\"route_id\"]) >> collect()\n",
    ")"
   ]
  },
  {
   "cell_type": "code",
   "execution_count": 7,
   "id": "6d4bac50",
   "metadata": {
    "execution": {
     "iopub.execute_input": "2021-06-24T22:11:48.704025Z",
     "iopub.status.busy": "2021-06-24T22:11:48.703453Z",
     "iopub.status.idle": "2021-06-24T22:11:54.777444Z",
     "shell.execute_reply": "2021-06-24T22:11:54.778231Z"
    },
    "papermill": {
     "duration": 6.097275,
     "end_time": "2021-06-24T22:11:54.778464",
     "exception": false,
     "start_time": "2021-06-24T22:11:48.681189",
     "status": "completed"
    },
    "tags": [
     "hide"
    ]
   },
   "outputs": [],
   "source": [
    "# 4. Feed files being checked for ----\n",
    "\n",
    "file_categories = pd.DataFrame(\n",
    "    {\n",
    "        \"shapes.txt\": \"Visual display\",\n",
    "        \"pathways.txt\": \"Navigation\",\n",
    "        \"levels.txt\": \"Navigation\",\n",
    "        \"fare_rules.txt\": \"Fares\",\n",
    "        \"fare_leg_rules\": \"Fares\",\n",
    "        \"feed_info.txt\": \"Technical contacts\",\n",
    "    }.items(),\n",
    "    columns=[\"name\", \"category\"],\n",
    ")\n",
    "\n",
    "importance = [\"Visual display\", \"Navigation\", \"Fares\", \"Technical contacts\"]\n",
    "\n",
    "tbl_file_check = (\n",
    "    tbl.gtfs_schedule_history.calitp_files_updates()\n",
    "    >> filter_itp\n",
    "    >> filter(_.calitp_extracted_at.isin(BIWEEKLY_MARKERS))\n",
    "    >> select(_.name, _.calitp_extracted_at)\n",
    "    >> collect()\n",
    "    >> right_join(_, file_categories, [\"name\"])\n",
    "    >> mutate(\n",
    "        calitp_extracted_at=_.calitp_extracted_at.fillna(\"missing\").astype(str),\n",
    "        success=\"✅\",\n",
    "    )\n",
    "    >> spread(_.calitp_extracted_at, _.success)\n",
    "    >> select(-_.missing)\n",
    "    >> arrange(_.category.apply(importance.index))\n",
    "    >> select(_.category, _.contains(\"\"))\n",
    "    >> pipe(_.fillna(\"\"))\n",
    ")\n",
    "\n",
    "tbl_validation_notices = (\n",
    "    tbl.views.validation_notices()\n",
    "    >> filter_itp\n",
    "    >> filter(_.severity == \"ERROR\")\n",
    "    >> count(_.code, _.severity)\n",
    "    >> collect()\n",
    ")"
   ]
  },
  {
   "cell_type": "markdown",
   "id": "3a310571",
   "metadata": {
    "papermill": {
     "duration": 0.024561,
     "end_time": "2021-06-24T22:11:54.830557",
     "exception": false,
     "start_time": "2021-06-24T22:11:54.805996",
     "status": "completed"
    },
    "tags": [
     "hide"
    ]
   },
   "source": [
    "## Dump data"
   ]
  },
  {
   "cell_type": "code",
   "execution_count": 8,
   "id": "01a77d01",
   "metadata": {
    "execution": {
     "iopub.execute_input": "2021-06-24T22:11:54.900419Z",
     "iopub.status.busy": "2021-06-24T22:11:54.898999Z",
     "iopub.status.idle": "2021-06-24T22:11:54.911256Z",
     "shell.execute_reply": "2021-06-24T22:11:54.911968Z"
    },
    "papermill": {
     "duration": 0.054757,
     "end_time": "2021-06-24T22:11:54.912196",
     "exception": false,
     "start_time": "2021-06-24T22:11:54.857439",
     "status": "completed"
    },
    "tags": [
     "hide"
    ]
   },
   "outputs": [],
   "source": [
    "import json\n",
    "import shutil\n",
    "\n",
    "from pathlib import Path\n",
    "\n",
    "out_dir = Path(f\"output/{CALITP_ITP_ID}_{CALITP_URL_NUMBER}/data\")\n",
    "out_dir.mkdir(parents=True, exist_ok=True)\n",
    "\n",
    "json.dump(feed_info, open(out_dir / \"1_feed_info.json\", \"w\"))\n",
    "json.dump(status, open(out_dir / \"1_status.json\", \"w\"))\n",
    "\n",
    "tbl_daily_service_hours.to_json(out_dir / \"2_daily_service_hours.json\", orient=\"records\")\n",
    "json.dump(n_expired_days, open(out_dir / \"2_n_expired_days.json\", \"w\"))\n",
    "\n",
    "tbl_stops_changed.to_json(out_dir / \"3_stops_changed.json\", orient=\"records\")\n",
    "tbl_routes_changed.to_json(out_dir / \"3_routes_changed.json\", orient=\"records\")\n",
    "tbl_file_check.to_json(out_dir / \"4_file_check.json\", orient=\"records\")\n",
    "tbl_validation_notices.to_json(out_dir / \"4_validation_notices.json\", orient=\"records\")\n"
   ]
  },
  {
   "cell_type": "markdown",
   "id": "2b2c0a34",
   "metadata": {
    "papermill": {
     "duration": 0.030061,
     "end_time": "2021-06-24T22:11:54.972534",
     "exception": false,
     "start_time": "2021-06-24T22:11:54.942473",
     "status": "completed"
    },
    "tags": []
   },
   "source": [
    "# Monthly GTFS Quality Report"
   ]
  },
  {
   "cell_type": "code",
   "execution_count": 9,
   "id": "665a6966",
   "metadata": {
    "execution": {
     "iopub.execute_input": "2021-06-24T22:11:55.071978Z",
     "iopub.status.busy": "2021-06-24T22:11:55.064715Z",
     "iopub.status.idle": "2021-06-24T22:11:55.075690Z",
     "shell.execute_reply": "2021-06-24T22:11:55.074853Z"
    },
    "papermill": {
     "duration": 0.074689,
     "end_time": "2021-06-24T22:11:55.075941",
     "exception": false,
     "start_time": "2021-06-24T22:11:55.001252",
     "status": "completed"
    },
    "tags": []
   },
   "outputs": [
    {
     "data": {
      "text/markdown": [
       "\n",
       "Transit provider name: GMV Syncromatics\n",
       "\n",
       "Date generated: 2021-06-24\n"
      ],
      "text/plain": [
       "<IPython.core.display.Markdown object>"
      ]
     },
     "execution_count": 9,
     "metadata": {},
     "output_type": "execute_result"
    }
   ],
   "source": [
    "from IPython.display import Markdown\n",
    "\n",
    "Markdown(f\"\"\"\n",
    "Transit provider name: {feed_info[\"feed_publisher_name\"]}\n",
    "\n",
    "Date generated: {DATE_TODAY}\n",
    "\"\"\")"
   ]
  },
  {
   "cell_type": "markdown",
   "id": "4ac33d3f",
   "metadata": {
    "papermill": {
     "duration": 0.019805,
     "end_time": "2021-06-24T22:11:55.118042",
     "exception": false,
     "start_time": "2021-06-24T22:11:55.098237",
     "status": "completed"
    },
    "tags": []
   },
   "source": [
    "This is a monthly report, generated by the California Integrated Travel Project ([Cal-ITP](https://dot.ca.gov/cal-itp/cal-itp-gtfs)), summarizing issues discovered by [MobilityData](http://mobilitydata.io/)’s [GTFS Validator](https://github.com/MobilityData/gtfs-validator). This report is available for viewing by the general public to support continuous improvement of GTFS data and the experience of transit passengers. "
   ]
  },
  {
   "cell_type": "markdown",
   "id": "3c7e8cd7",
   "metadata": {
    "papermill": {
     "duration": 0.019179,
     "end_time": "2021-06-24T22:11:55.161829",
     "exception": false,
     "start_time": "2021-06-24T22:11:55.142650",
     "status": "completed"
    },
    "tags": []
   },
   "source": [
    "## Overview"
   ]
  },
  {
   "cell_type": "code",
   "execution_count": 10,
   "id": "cb70f8ec",
   "metadata": {
    "execution": {
     "iopub.execute_input": "2021-06-24T22:11:55.201438Z",
     "iopub.status.busy": "2021-06-24T22:11:55.200070Z",
     "iopub.status.idle": "2021-06-24T22:11:55.207614Z",
     "shell.execute_reply": "2021-06-24T22:11:55.206699Z"
    },
    "papermill": {
     "duration": 0.029945,
     "end_time": "2021-06-24T22:11:55.207847",
     "exception": false,
     "start_time": "2021-06-24T22:11:55.177902",
     "status": "completed"
    },
    "tags": []
   },
   "outputs": [
    {
     "data": {
      "text/markdown": [
       "\n",
       "Feed location: https://citycommbus.com/gtfs\n",
       "\n",
       "Metrics for the most recent published version of the feed:\n",
       "\n",
       "* Date published: 1/5/2021 added Yellow with Evening Schedule\n",
       "* Number of routes in any service: 8\n",
       "* Number of stops in service: 218\n"
      ],
      "text/plain": [
       "<IPython.core.display.Markdown object>"
      ]
     },
     "execution_count": 10,
     "metadata": {},
     "output_type": "execute_result"
    }
   ],
   "source": [
    "Markdown(f\"\"\"\n",
    "Feed location: {status[\"gtfs_schedule_url\"]}\n",
    "\n",
    "Metrics for the most recent published version of the feed:\n",
    "\n",
    "* Date published: {feed_info[\"feed_version\"]}\n",
    "* Number of routes in any service: {feed_info[\"n_routes\"]}\n",
    "* Number of stops in service: {feed_info[\"n_stops\"]}\n",
    "\"\"\")"
   ]
  },
  {
   "cell_type": "markdown",
   "id": "e3d06f2b",
   "metadata": {
    "papermill": {
     "duration": 0.017996,
     "end_time": "2021-06-24T22:11:55.245411",
     "exception": false,
     "start_time": "2021-06-24T22:11:55.227415",
     "status": "completed"
    },
    "tags": []
   },
   "source": [
    "## Aggregated Metrics for May"
   ]
  },
  {
   "cell_type": "code",
   "execution_count": 11,
   "id": "c01d9574",
   "metadata": {
    "execution": {
     "iopub.execute_input": "2021-06-24T22:11:55.287058Z",
     "iopub.status.busy": "2021-06-24T22:11:55.284925Z",
     "iopub.status.idle": "2021-06-24T22:11:55.290032Z",
     "shell.execute_reply": "2021-06-24T22:11:55.290540Z"
    },
    "papermill": {
     "duration": 0.028231,
     "end_time": "2021-06-24T22:11:55.290701",
     "exception": false,
     "start_time": "2021-06-24T22:11:55.262470",
     "status": "completed"
    },
    "tags": []
   },
   "outputs": [
    {
     "data": {
      "text/markdown": [
       "\n",
       "Days with no service hours: 0\n"
      ],
      "text/plain": [
       "<IPython.core.display.Markdown object>"
      ]
     },
     "execution_count": 11,
     "metadata": {},
     "output_type": "execute_result"
    }
   ],
   "source": [
    "# TODO: \n",
    "\n",
    "# Markdown(f\"\"\"\n",
    "# Days when the active feed was expired: {n_expired_days[\"n\"]}\n",
    "# \"\"\")\n",
    "\n",
    "Markdown(f\"\"\"\n",
    "Days with no service hours: {n_expired_days[\"n\"]}\n",
    "\"\"\")\n"
   ]
  },
  {
   "cell_type": "code",
   "execution_count": 12,
   "id": "2c3a05cf",
   "metadata": {
    "execution": {
     "iopub.execute_input": "2021-06-24T22:11:55.357450Z",
     "iopub.status.busy": "2021-06-24T22:11:55.356441Z",
     "iopub.status.idle": "2021-06-24T22:11:55.892317Z",
     "shell.execute_reply": "2021-06-24T22:11:55.893125Z"
    },
    "papermill": {
     "duration": 0.584194,
     "end_time": "2021-06-24T22:11:55.893360",
     "exception": false,
     "start_time": "2021-06-24T22:11:55.309166",
     "status": "completed"
    },
    "tags": []
   },
   "outputs": [
    {
     "data": {
      "image/png": "[encoded data removed]",
      "text/plain": [
       "<Figure size 640x480 with 1 Axes>"
      ]
     },
     "metadata": {},
     "output_type": "display_data"
    }
   ],
   "source": [
    "(\n",
    "    tbl_daily_service_hours\n",
    "    >> ggplot(aes(\"service_date\", \"ttl_service_hours2\"))\n",
    "    + geom_line()\n",
    "    + geom_point()\n",
    "    + theme(axis_text_x=element_text(angle=45, hjust=1))\n",
    "    + scale_x_datetime(date_breaks=\"1 week\")\n",
    "    + expand_limits(y=0)\n",
    "    + labs(y = \"Total service hours\", x = \"Service date\", title=\"Service hour per day\")\n",
    ").draw();"
   ]
  },
  {
   "cell_type": "markdown",
   "id": "b84c1f7d",
   "metadata": {
    "papermill": {
     "duration": 0.033978,
     "end_time": "2021-06-24T22:11:55.961622",
     "exception": false,
     "start_time": "2021-06-24T22:11:55.927644",
     "status": "completed"
    },
    "tags": []
   },
   "source": [
    "## Changes Since Previous Month"
   ]
  },
  {
   "cell_type": "code",
   "execution_count": 13,
   "id": "9f45f0af",
   "metadata": {
    "execution": {
     "iopub.execute_input": "2021-06-24T22:11:56.045896Z",
     "iopub.status.busy": "2021-06-24T22:11:56.041814Z",
     "iopub.status.idle": "2021-06-24T22:11:56.473827Z",
     "shell.execute_reply": "2021-06-24T22:11:56.474558Z"
    },
    "papermill": {
     "duration": 0.474829,
     "end_time": "2021-06-24T22:11:56.474775",
     "exception": false,
     "start_time": "2021-06-24T22:11:55.999946",
     "status": "completed"
    },
    "tags": []
   },
   "outputs": [
    {
     "data": {
      "image/png": "[encoded data removed]",
      "text/plain": [
       "<Figure size 640x480 with 1 Axes>"
      ]
     },
     "metadata": {},
     "output_type": "display_data"
    }
   ],
   "source": [
    "(\n",
    "    pd.concat(\n",
    "        [\n",
    "            tbl_stops_changed >> mutate(kind=\"Stops\"),\n",
    "            tbl_routes_changed >> mutate(kind=\"Routes\"),\n",
    "        ]\n",
    "    )\n",
    "    >> ggplot(aes(\"kind\", \"n\", fill=\"status\"))\n",
    "    + geom_col()\n",
    "    + labs(\n",
    "        x=\"GTFS schedule table\",\n",
    "        y=\"Number of IDs\",\n",
    "        title=f\"IDs Changed Between {START_MONTH_DAY} and {END_MONTH_DAY}\",\n",
    "    )\n",
    ").draw();"
   ]
  },
  {
   "cell_type": "markdown",
   "id": "268ab3aa",
   "metadata": {
    "papermill": {
     "duration": 0.039172,
     "end_time": "2021-06-24T22:11:56.540787",
     "exception": false,
     "start_time": "2021-06-24T22:11:56.501615",
     "status": "completed"
    },
    "tags": []
   },
   "source": [
    "### (Alternative version using percentages)"
   ]
  },
  {
   "cell_type": "code",
   "execution_count": 14,
   "id": "77beaac4",
   "metadata": {
    "execution": {
     "iopub.execute_input": "2021-06-24T22:11:56.622876Z",
     "iopub.status.busy": "2021-06-24T22:11:56.621892Z",
     "iopub.status.idle": "2021-06-24T22:11:57.126529Z",
     "shell.execute_reply": "2021-06-24T22:11:57.127840Z"
    },
    "papermill": {
     "duration": 0.548046,
     "end_time": "2021-06-24T22:11:57.128068",
     "exception": false,
     "start_time": "2021-06-24T22:11:56.580022",
     "status": "completed"
    },
    "tags": []
   },
   "outputs": [
    {
     "data": {
      "image/png": "[encoded data removed]",
      "text/plain": [
       "<Figure size 640x480 with 1 Axes>"
      ]
     },
     "metadata": {},
     "output_type": "display_data"
    }
   ],
   "source": [
    "(\n",
    "    pd.concat(\n",
    "        [\n",
    "            tbl_stops_changed >> mutate(kind=\"Stops\"),\n",
    "            tbl_routes_changed >> mutate(kind=\"Routes\"),\n",
    "        ]\n",
    "    )\n",
    "    >> ggplot(aes(\"kind\", \"percent\", fill=\"status\"))\n",
    "    + geom_col()\n",
    "    + labs(\n",
    "        x=\"GTFS schedule table\",\n",
    "        y=\"Percentage of IDs\",\n",
    "        title=f\"IDs Changed Between {START_MONTH_DAY} and {END_MONTH_DAY}\",\n",
    "    )\n",
    "    + scale_y_continuous(labels=percent_format, breaks=np.arange(0, 1.2, 0.2))\n",
    ").draw();"
   ]
  },
  {
   "cell_type": "markdown",
   "id": "de8520bb",
   "metadata": {
    "papermill": {
     "duration": 0.038141,
     "end_time": "2021-06-24T22:11:57.205568",
     "exception": false,
     "start_time": "2021-06-24T22:11:57.167427",
     "status": "completed"
    },
    "tags": []
   },
   "source": [
    "## Consistency with the [California GTFS Minimum Guidelines](https://dot.ca.gov/cal-itp/california-minimum-general-transit-feed-specification-gtfs-guidelines) for the feed downloaded\n"
   ]
  },
  {
   "cell_type": "markdown",
   "id": "2c420e89",
   "metadata": {
    "papermill": {
     "duration": 0.050648,
     "end_time": "2021-06-24T22:11:57.310417",
     "exception": false,
     "start_time": "2021-06-24T22:11:57.259769",
     "status": "completed"
    },
    "tags": []
   },
   "source": [
    "### Do the following files/fields exist?"
   ]
  },
  {
   "cell_type": "code",
   "execution_count": 15,
   "id": "a9318578",
   "metadata": {
    "execution": {
     "iopub.execute_input": "2021-06-24T22:11:57.422598Z",
     "iopub.status.busy": "2021-06-24T22:11:57.421430Z",
     "iopub.status.idle": "2021-06-24T22:11:57.433091Z",
     "shell.execute_reply": "2021-06-24T22:11:57.433814Z"
    },
    "papermill": {
     "duration": 0.070738,
     "end_time": "2021-06-24T22:11:57.434048",
     "exception": false,
     "start_time": "2021-06-24T22:11:57.363310",
     "status": "completed"
    },
    "tags": []
   },
   "outputs": [
    {
     "data": {
      "text/html": [
       "<div>\n",
       "<style scoped>\n",
       "    .dataframe tbody tr th:only-of-type {\n",
       "        vertical-align: middle;\n",
       "    }\n",
       "\n",
       "    .dataframe tbody tr th {\n",
       "        vertical-align: top;\n",
       "    }\n",
       "\n",
       "    .dataframe thead th {\n",
       "        text-align: right;\n",
       "    }\n",
       "</style>\n",
       "<table border=\"1\" class=\"dataframe\">\n",
       "  <thead>\n",
       "    <tr style=\"text-align: right;\">\n",
       "      <th></th>\n",
       "      <th>category</th>\n",
       "      <th>name</th>\n",
       "      <th>2021-05-02</th>\n",
       "      <th>2021-05-16</th>\n",
       "      <th>2021-05-30</th>\n",
       "    </tr>\n",
       "  </thead>\n",
       "  <tbody>\n",
       "    <tr>\n",
       "      <th>5</th>\n",
       "      <td>Visual display</td>\n",
       "      <td>shapes.txt</td>\n",
       "      <td>✅</td>\n",
       "      <td>✅</td>\n",
       "      <td>✅</td>\n",
       "    </tr>\n",
       "    <tr>\n",
       "      <th>3</th>\n",
       "      <td>Navigation</td>\n",
       "      <td>levels.txt</td>\n",
       "      <td></td>\n",
       "      <td></td>\n",
       "      <td></td>\n",
       "    </tr>\n",
       "    <tr>\n",
       "      <th>4</th>\n",
       "      <td>Navigation</td>\n",
       "      <td>pathways.txt</td>\n",
       "      <td></td>\n",
       "      <td></td>\n",
       "      <td></td>\n",
       "    </tr>\n",
       "    <tr>\n",
       "      <th>0</th>\n",
       "      <td>Fares</td>\n",
       "      <td>fare_leg_rules</td>\n",
       "      <td></td>\n",
       "      <td></td>\n",
       "      <td></td>\n",
       "    </tr>\n",
       "    <tr>\n",
       "      <th>1</th>\n",
       "      <td>Fares</td>\n",
       "      <td>fare_rules.txt</td>\n",
       "      <td>✅</td>\n",
       "      <td></td>\n",
       "      <td></td>\n",
       "    </tr>\n",
       "    <tr>\n",
       "      <th>2</th>\n",
       "      <td>Technical contacts</td>\n",
       "      <td>feed_info.txt</td>\n",
       "      <td>✅</td>\n",
       "      <td>✅</td>\n",
       "      <td>✅</td>\n",
       "    </tr>\n",
       "  </tbody>\n",
       "</table>\n",
       "</div>"
      ],
      "text/plain": [
       "             category            name 2021-05-02 2021-05-16 2021-05-30\n",
       "5      Visual display      shapes.txt          ✅          ✅          ✅\n",
       "3          Navigation      levels.txt                                 \n",
       "4          Navigation    pathways.txt                                 \n",
       "0               Fares  fare_leg_rules                                 \n",
       "1               Fares  fare_rules.txt          ✅                      \n",
       "2  Technical contacts   feed_info.txt          ✅          ✅          ✅"
      ]
     },
     "execution_count": 15,
     "metadata": {},
     "output_type": "execute_result"
    }
   ],
   "source": [
    "tbl_file_check"
   ]
  },
  {
   "cell_type": "markdown",
   "id": "481b7df5",
   "metadata": {
    "papermill": {
     "duration": 0.045855,
     "end_time": "2021-06-24T22:11:57.520958",
     "exception": false,
     "start_time": "2021-06-24T22:11:57.475103",
     "status": "completed"
    },
    "tags": []
   },
   "source": [
    "### Validation Errors Observed"
   ]
  },
  {
   "cell_type": "code",
   "execution_count": 16,
   "id": "5ce0172e",
   "metadata": {
    "execution": {
     "iopub.execute_input": "2021-06-24T22:11:57.627339Z",
     "iopub.status.busy": "2021-06-24T22:11:57.625734Z",
     "iopub.status.idle": "2021-06-24T22:11:57.633314Z",
     "shell.execute_reply": "2021-06-24T22:11:57.634039Z"
    },
    "papermill": {
     "duration": 0.061647,
     "end_time": "2021-06-24T22:11:57.634250",
     "exception": false,
     "start_time": "2021-06-24T22:11:57.572603",
     "status": "completed"
    },
    "tags": []
   },
   "outputs": [
    {
     "data": {
      "text/html": [
       "<div>\n",
       "<style scoped>\n",
       "    .dataframe tbody tr th:only-of-type {\n",
       "        vertical-align: middle;\n",
       "    }\n",
       "\n",
       "    .dataframe tbody tr th {\n",
       "        vertical-align: top;\n",
       "    }\n",
       "\n",
       "    .dataframe thead th {\n",
       "        text-align: right;\n",
       "    }\n",
       "</style>\n",
       "<table border=\"1\" class=\"dataframe\">\n",
       "  <thead>\n",
       "    <tr style=\"text-align: right;\">\n",
       "      <th></th>\n",
       "      <th>code</th>\n",
       "      <th>severity</th>\n",
       "      <th>n</th>\n",
       "    </tr>\n",
       "  </thead>\n",
       "  <tbody>\n",
       "    <tr>\n",
       "      <th>0</th>\n",
       "      <td>decreasing_or_equal_stop_time_distance</td>\n",
       "      <td>ERROR</td>\n",
       "      <td>14</td>\n",
       "    </tr>\n",
       "    <tr>\n",
       "      <th>1</th>\n",
       "      <td>leading_or_trailing_whitespaces</td>\n",
       "      <td>ERROR</td>\n",
       "      <td>1</td>\n",
       "    </tr>\n",
       "  </tbody>\n",
       "</table>\n",
       "</div>"
      ],
      "text/plain": [
       "                                     code severity   n\n",
       "0  decreasing_or_equal_stop_time_distance    ERROR  14\n",
       "1         leading_or_trailing_whitespaces    ERROR   1"
      ]
     },
     "metadata": {},
     "output_type": "display_data"
    }
   ],
   "source": [
    "if tbl_validation_notices.shape[0] == 0:\n",
    "    display(Markdown(\"No validation error observed in your feed.\"))\n",
    "else:    \n",
    "    display(tbl_validation_notices)"
   ]
  },
  {
   "cell_type": "markdown",
   "id": "bac06e2d",
   "metadata": {
    "papermill": {
     "duration": 0.050906,
     "end_time": "2021-06-24T22:11:57.722823",
     "exception": false,
     "start_time": "2021-06-24T22:11:57.671917",
     "status": "completed"
    },
    "tags": []
   },
   "source": [
    "For more information about Cal-ITP, including the [Minimum GTFS Guidelines](https://dot.ca.gov/cal-itp/california-minimum-general-transit-feed-specification-gtfs-guidelines) and our [Transit Data Helpdesk](https://dot.ca.gov/programs/rail-and-mass-transportation/gtfs/helpdesk), contact [GTFSRT@dot.ca.gov](mailto:GTFSRT@dot.ca.gov)."
   ]
  }
 ],
 "metadata": {
  "kernelspec": {
   "display_name": "venv-calitp-py",
   "language": "python",
   "name": "venv-calitp-py"
  },
  "language_info": {
   "codemirror_mode": {
    "name": "ipython",
    "version": 3
   },
   "file_extension": ".py",
   "mimetype": "text/x-python",
   "name": "python",
   "nbconvert_exporter": "python",
   "pygments_lexer": "ipython3",
   "version": "3.8.5"
  },
  "papermill": {
   "default_parameters": {},
   "duration": 53.20939,
   "end_time": "2021-06-24T22:11:58.905128",
   "environment_variables": {},
   "exception": null,
   "input_path": "report.ipynb",
   "output_path": "output/75/report.ipynb",
   "parameters": {
    "CALITP_ITP_ID": 75,
    "CALITP_URL_NUMBER": 0,
    "DEBUG": false,
    "END_DATE": "2021-06-01",
    "START_DATE": "2021-05-01"
   },
   "start_time": "2021-06-24T22:11:05.695738",
   "version": "2.3.3"
  }
 },
 "nbformat": 4,
 "nbformat_minor": 5
}