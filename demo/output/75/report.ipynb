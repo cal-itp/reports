{
 "cells": [
  {
   "cell_type": "markdown",
   "id": "ba94ce6d",
   "metadata": {
    "papermill": {
     "duration": 0.058096,
     "end_time": "2021-06-23T00:27:02.788087",
     "exception": false,
     "start_time": "2021-06-23T00:27:02.729991",
     "status": "completed"
    },
    "tags": [
     "hide"
    ]
   },
   "source": [
    "# Setup"
   ]
  },
  {
   "cell_type": "code",
   "execution_count": 1,
   "id": "e3abf8a7",
   "metadata": {
    "execution": {
     "iopub.execute_input": "2021-06-23T00:27:02.912248Z",
     "iopub.status.busy": "2021-06-23T00:27:02.909012Z",
     "iopub.status.idle": "2021-06-23T00:27:09.901983Z",
     "shell.execute_reply": "2021-06-23T00:27:09.901452Z"
    },
    "papermill": {
     "duration": 7.061552,
     "end_time": "2021-06-23T00:27:09.902175",
     "exception": false,
     "start_time": "2021-06-23T00:27:02.840623",
     "status": "completed"
    },
    "tags": [
     "hide"
    ]
   },
   "outputs": [],
   "source": [
    "import pandas as pd\n",
    "\n",
    "from io import StringIO\n",
    "from calitp.tables import tbl\n",
    "from datetime import date\n",
    "from siuba import *\n",
    "from plotnine import *\n",
    "\n",
    "\n",
    "START_DATE = \"2021-05-01\"\n",
    "END_DATE = \"2021-06-01\"\n",
    "DATE_TODAY=date.today()\n",
    "\n",
    "WEEK_MARKERS = pd.date_range(START_DATE, END_DATE, freq=\"W\").astype(str).tolist()"
   ]
  },
  {
   "cell_type": "code",
   "execution_count": 2,
   "id": "2de054fa",
   "metadata": {
    "execution": {
     "iopub.execute_input": "2021-06-23T00:27:09.940313Z",
     "iopub.status.busy": "2021-06-23T00:27:09.936103Z",
     "iopub.status.idle": "2021-06-23T00:27:09.944103Z",
     "shell.execute_reply": "2021-06-23T00:27:09.943522Z"
    },
    "papermill": {
     "duration": 0.027188,
     "end_time": "2021-06-23T00:27:09.944240",
     "exception": false,
     "start_time": "2021-06-23T00:27:09.917052",
     "status": "completed"
    },
    "tags": [
     "parameters",
     "hide"
    ]
   },
   "outputs": [],
   "source": [
    "CALITP_ITP_ID=389\n",
    "#CALITP_ITP_ID=45\n",
    "CALITP_URL_NUMBER=0"
   ]
  },
  {
   "cell_type": "code",
   "execution_count": 3,
   "id": "39e0a588",
   "metadata": {
    "execution": {
     "iopub.execute_input": "2021-06-23T00:27:09.977862Z",
     "iopub.status.busy": "2021-06-23T00:27:09.976006Z",
     "iopub.status.idle": "2021-06-23T00:27:09.980815Z",
     "shell.execute_reply": "2021-06-23T00:27:09.981245Z"
    },
    "papermill": {
     "duration": 0.022259,
     "end_time": "2021-06-23T00:27:09.981410",
     "exception": false,
     "start_time": "2021-06-23T00:27:09.959151",
     "status": "completed"
    },
    "tags": [
     "injected-parameters"
    ]
   },
   "outputs": [],
   "source": [
    "# Parameters\n",
    "CALITP_ITP_ID = 75\n",
    "CALITP_URL_NUMBER = 0\n"
   ]
  },
  {
   "cell_type": "code",
   "execution_count": 4,
   "id": "9248ae18",
   "metadata": {
    "execution": {
     "iopub.execute_input": "2021-06-23T00:27:10.019852Z",
     "iopub.status.busy": "2021-06-23T00:27:10.019106Z",
     "iopub.status.idle": "2021-06-23T00:27:10.021995Z",
     "shell.execute_reply": "2021-06-23T00:27:10.021524Z"
    },
    "papermill": {
     "duration": 0.026021,
     "end_time": "2021-06-23T00:27:10.022134",
     "exception": false,
     "start_time": "2021-06-23T00:27:09.996113",
     "status": "completed"
    },
    "tags": [
     "hide"
    ]
   },
   "outputs": [],
   "source": [
    "# Convenience functions ----\n",
    "\n",
    "filter_start = filter(\n",
    "    _.calitp_extracted_at <= START_DATE,\n",
    "    _.calitp_deleted_at.fillna(\"2099-01-01\") > START_DATE,\n",
    ")\n",
    "\n",
    "filter_end = filter(\n",
    "    _.calitp_extracted_at <= END_DATE,\n",
    "    _.calitp_deleted_at.fillna(\"2099-01-01\") > END_DATE,\n",
    ")\n",
    "\n",
    "filter_itp = filter(\n",
    "    _.calitp_itp_id == CALITP_ITP_ID, _.calitp_url_number == CALITP_URL_NUMBER\n",
    ")\n",
    "\n",
    "collect_to_dict = (\n",
    "    collect()\n",
    "    >> pipe(_.to_dict(orient=\"records\")[0])\n",
    ")\n",
    "\n",
    "\n",
    "select_rm_calitp = select(\n",
    "    -_.calitp_itp_id,\n",
    "    -_.calitp_url_number,\n",
    "    -_.calitp_hash,\n",
    "    -_.calitp_extracted_at,\n",
    "    -_.calitp_deleted_at,\n",
    ")\n",
    "\n",
    "\n",
    "def query_id_changes(start_table, end_table, id_vars):\n",
    "    \"\"\"Calculate id variables that are removed, added, or unchanged between tables.\n",
    "    \n",
    "    It works by adding a special column to each table, performing a full join,\n",
    "    then checking where the special column is null.\n",
    "    \"\"\"\n",
    "    sym_id_vars = [_[k] for k in id_vars]\n",
    "\n",
    "    is_in_start = start_table >> select(*id_vars) >> mutate(is_in_start=True)\n",
    "    is_in_end = end_table >> select(*id_vars) >> mutate(is_in_end=True)\n",
    "\n",
    "    baseline = start_table >> count(*id_vars) >> rename(n_baseline=\"n\")\n",
    "    tallies = (\n",
    "        is_in_start\n",
    "        >> full_join(_, is_in_end, id_vars)\n",
    "        >> count(*sym_id_vars, _.is_in_start, _.is_in_end)\n",
    "        >> mutate(\n",
    "            status=case_when(\n",
    "                _,\n",
    "                {\n",
    "                    _.is_in_end.isna(): \"Removed\",\n",
    "                    _.is_in_start.isna(): \"Added\",\n",
    "                    True: \"Unchanged\",\n",
    "                },\n",
    "            )\n",
    "        )\n",
    "        >> count(*sym_id_vars[:-1], _.status)\n",
    "        >> group_by(*sym_id_vars[:-1])\n",
    "        >> mutate(percent=_.n / _.n.sum())\n",
    "    )\n",
    "\n",
    "    return tallies"
   ]
  },
  {
   "cell_type": "code",
   "execution_count": 5,
   "id": "77d3254e",
   "metadata": {
    "execution": {
     "iopub.execute_input": "2021-06-23T00:27:10.058887Z",
     "iopub.status.busy": "2021-06-23T00:27:10.057464Z",
     "iopub.status.idle": "2021-06-23T00:27:37.263098Z",
     "shell.execute_reply": "2021-06-23T00:27:37.262509Z"
    },
    "papermill": {
     "duration": 27.226271,
     "end_time": "2021-06-23T00:27:37.263270",
     "exception": false,
     "start_time": "2021-06-23T00:27:10.036999",
     "status": "completed"
    },
    "tags": [
     "hide"
    ]
   },
   "outputs": [],
   "source": [
    "# Data ====\n",
    "# 1. High level feed info ----\n",
    "feed_info = (\n",
    "    tbl.gtfs_schedule_type2.feed_info()\n",
    "    >> filter_end\n",
    "    >> filter_itp\n",
    "    >> select_rm_calitp\n",
    "    >> collect_to_dict\n",
    ")\n",
    "\n",
    "_n_routes = (\n",
    "    tbl.gtfs_schedule_type2.routes() >> filter_end >> filter_itp >> count() >> collect()\n",
    ")\n",
    "_n_stops = (\n",
    "    tbl.gtfs_schedule_type2.stops() >> filter_end >> filter_itp >> count() >> collect()\n",
    ")\n",
    "\n",
    "feed_info[\"n_routes\"] = int(_n_routes.loc[0, \"n\"])\n",
    "feed_info[\"n_stops\"] = int(_n_stops.loc[0, \"n\"])\n",
    "\n",
    "status = (\n",
    "    tbl.views.gtfs_status_latest()\n",
    "    >> filter(_.itp_id == CALITP_ITP_ID, _.url_number == CALITP_URL_NUMBER)\n",
    "    >> select(-_.url_number, -_.status)\n",
    "    >> select_rm_calitp\n",
    "    >> collect_to_dict\n",
    ")\n",
    "\n",
    "# 2. Monthly metrics ----\n",
    "# Service hours per day. Note that the queried table calculates service\n",
    "# hours per service id, so we need to sum across service ids for the day\n",
    "_cross_cal = (\n",
    "    tbl.views.dim_date()\n",
    "    >> filter(_.full_date.between(START_DATE, END_DATE))\n",
    "    >> select(_.service_date == _.full_date)\n",
    ")\n",
    "\n",
    "tbl_daily_service_hours = (\n",
    "    tbl.views.gtfs_schedule_service_daily_metrics()\n",
    "    >> filter_itp\n",
    "    >> filter(_.service_date.between(START_DATE, END_DATE))\n",
    "    >> right_join(_, _cross_cal, [\"service_date\"])\n",
    "    >> collect()\n",
    "    >> group_by(_.service_date)\n",
    "    >> summarize(ttl_service_hours=(_.last_arrival_ts.max() - _.first_departure_ts.min()) / 3600)\n",
    "    >> mutate(\n",
    "        ttl_service_hours=_.ttl_service_hours.astype(float).round(2),\n",
    "        service_date=_.service_date.astype(\"datetime64[ns]\"),\n",
    "    )\n",
    ")\n",
    "\n",
    "# number of days where a feed did not have any trips in service\n",
    "n_expired_days = (\n",
    "    tbl_daily_service_hours >> filter(_.ttl_service_hours.isna())\n",
    "    >> pipe(lambda d: {\"n\": d.shape[0]})\n",
    ")\n",
    "\n",
    "# 3. Stop and Route ID Changes ----\n",
    "\n",
    "_tbl_stops_start = tbl.gtfs_schedule_type2.stops() >> filter_itp >> filter_start\n",
    "_tbl_stops_end = tbl.gtfs_schedule_type2.stops() >> filter_itp >> filter_end\n",
    "tbl_stops_changed = (\n",
    "    query_id_changes(_tbl_stops_start, _tbl_stops_end, [\"stop_id\"]) >> collect()\n",
    ")\n",
    "\n",
    "_tbl_routes_start = tbl.gtfs_schedule_type2.routes() >> filter_start\n",
    "_tbl_routes_end = tbl.gtfs_schedule_type2.routes() >> filter_end\n",
    "tbl_routes_changed = (\n",
    "    query_id_changes(_tbl_routes_start, _tbl_routes_end, [\"route_id\"]) >> collect()\n",
    ")"
   ]
  },
  {
   "cell_type": "code",
   "execution_count": 6,
   "id": "29959ca7",
   "metadata": {
    "execution": {
     "iopub.execute_input": "2021-06-23T00:27:37.313893Z",
     "iopub.status.busy": "2021-06-23T00:27:37.303668Z",
     "iopub.status.idle": "2021-06-23T00:27:43.645079Z",
     "shell.execute_reply": "2021-06-23T00:27:43.644523Z"
    },
    "papermill": {
     "duration": 6.363423,
     "end_time": "2021-06-23T00:27:43.645241",
     "exception": false,
     "start_time": "2021-06-23T00:27:37.281818",
     "status": "completed"
    },
    "tags": [
     "hide"
    ]
   },
   "outputs": [],
   "source": [
    "# 4. Feed files being checked for ----\n",
    "\n",
    "file_categories = pd.DataFrame(\n",
    "    {\n",
    "        \"shapes.txt\": \"Visual display\",\n",
    "        \"pathways.txt\": \"Navigation\",\n",
    "        \"levels.txt\": \"Navigation\",\n",
    "        \"fare_rules.txt\": \"Fares\",\n",
    "        \"fare_leg_rules\": \"Fares\",\n",
    "        \"feed_info.txt\": \"Technical contacts\",\n",
    "    }.items(),\n",
    "    columns=[\"name\", \"category\"],\n",
    ")\n",
    "\n",
    "importance = [\"Visual display\", \"Navigation\", \"Fares\", \"Technical contacts\"]\n",
    "\n",
    "tbl_file_check = (\n",
    "    tbl.gtfs_schedule_history.calitp_files_updates()\n",
    "    >> filter_itp\n",
    "    >> filter(_.calitp_extracted_at.isin(WEEK_MARKERS))\n",
    "    >> select(_.name, _.calitp_extracted_at)\n",
    "    >> collect()\n",
    "    >> right_join(_, file_categories, [\"name\"])\n",
    "    >> mutate(\n",
    "        calitp_extracted_at=_.calitp_extracted_at.fillna(\"missing\").astype(str),\n",
    "        success=\"✅\",\n",
    "    )\n",
    "    >> spread(_.calitp_extracted_at, _.success)\n",
    "    >> select(-_.missing)\n",
    "    >> arrange(_.category.apply(importance.index))\n",
    "    >> select(_.category, _.contains(\"\"))\n",
    "    >> pipe(_.fillna(\"\"))\n",
    ")\n",
    "\n",
    "tbl_validation_notices = (\n",
    "    tbl.views.validation_notices()\n",
    "    >> filter_itp\n",
    "    >> filter(_.severity == \"ERROR\")\n",
    "    >> count(_.code, _.severity)\n",
    "    >> collect()\n",
    ")"
   ]
  },
  {
   "cell_type": "markdown",
   "id": "ed18b147",
   "metadata": {
    "papermill": {
     "duration": 0.02867,
     "end_time": "2021-06-23T00:27:43.700469",
     "exception": false,
     "start_time": "2021-06-23T00:27:43.671799",
     "status": "completed"
    },
    "tags": [
     "hide"
    ]
   },
   "source": [
    "## Dump data"
   ]
  },
  {
   "cell_type": "code",
   "execution_count": 7,
   "id": "396850f2",
   "metadata": {
    "execution": {
     "iopub.execute_input": "2021-06-23T00:27:43.751760Z",
     "iopub.status.busy": "2021-06-23T00:27:43.750734Z",
     "iopub.status.idle": "2021-06-23T00:27:43.760676Z",
     "shell.execute_reply": "2021-06-23T00:27:43.760132Z"
    },
    "papermill": {
     "duration": 0.035721,
     "end_time": "2021-06-23T00:27:43.760828",
     "exception": false,
     "start_time": "2021-06-23T00:27:43.725107",
     "status": "completed"
    },
    "tags": [
     "hide"
    ]
   },
   "outputs": [],
   "source": [
    "import json\n",
    "import shutil\n",
    "\n",
    "from pathlib import Path\n",
    "\n",
    "out_dir = Path(f\"output/{CALITP_ITP_ID}_{CALITP_URL_NUMBER}/data\")\n",
    "out_dir.mkdir(parents=True, exist_ok=True)\n",
    "\n",
    "json.dump(feed_info, open(out_dir / \"1_feed_info.json\", \"w\"))\n",
    "json.dump(status, open(out_dir / \"1_status.json\", \"w\"))\n",
    "\n",
    "tbl_daily_service_hours.to_json(out_dir / \"2_daily_service_hours.json\", orient=\"records\")\n",
    "json.dump(n_expired_days, open(out_dir / \"2_n_expired_days.json\", \"w\"))\n",
    "\n",
    "tbl_stops_changed.to_json(out_dir / \"3_stops_changed.json\", orient=\"records\")\n",
    "tbl_routes_changed.to_json(out_dir / \"3_routes_changed.json\", orient=\"records\")\n",
    "tbl_file_check.to_json(out_dir / \"4_file_check.json\", orient=\"records\")\n",
    "tbl_validation_notices.to_json(out_dir / \"4_validation_notices.json\", orient=\"records\")\n"
   ]
  },
  {
   "cell_type": "markdown",
   "id": "4adade2d",
   "metadata": {
    "papermill": {
     "duration": 0.035934,
     "end_time": "2021-06-23T00:27:43.823427",
     "exception": false,
     "start_time": "2021-06-23T00:27:43.787493",
     "status": "completed"
    },
    "tags": []
   },
   "source": [
    "# GTFS Schedule Report"
   ]
  },
  {
   "cell_type": "markdown",
   "id": "f4579629",
   "metadata": {
    "papermill": {
     "duration": 0.031109,
     "end_time": "2021-06-23T00:27:43.893677",
     "exception": false,
     "start_time": "2021-06-23T00:27:43.862568",
     "status": "completed"
    },
    "tags": []
   },
   "source": [
    "# Example Juniper Report"
   ]
  },
  {
   "cell_type": "code",
   "execution_count": 8,
   "id": "cfea147a",
   "metadata": {
    "execution": {
     "iopub.execute_input": "2021-06-23T00:27:43.979691Z",
     "iopub.status.busy": "2021-06-23T00:27:43.977891Z",
     "iopub.status.idle": "2021-06-23T00:27:43.984765Z",
     "shell.execute_reply": "2021-06-23T00:27:43.985330Z"
    },
    "papermill": {
     "duration": 0.055717,
     "end_time": "2021-06-23T00:27:43.985589",
     "exception": false,
     "start_time": "2021-06-23T00:27:43.929872",
     "status": "completed"
    },
    "tags": []
   },
   "outputs": [
    {
     "data": {
      "text/markdown": [
       "\n",
       "Transit provider name: GMV Syncromatics\n",
       "\n",
       "Date generated: 2021-06-22\n"
      ],
      "text/plain": [
       "<IPython.core.display.Markdown object>"
      ]
     },
     "execution_count": 8,
     "metadata": {},
     "output_type": "execute_result"
    }
   ],
   "source": [
    "from IPython.display import Markdown\n",
    "\n",
    "Markdown(f\"\"\"\n",
    "Transit provider name: {feed_info[\"feed_publisher_name\"]}\n",
    "\n",
    "Date generated: {DATE_TODAY}\n",
    "\"\"\")"
   ]
  },
  {
   "cell_type": "markdown",
   "id": "08843ba9",
   "metadata": {
    "papermill": {
     "duration": 0.016467,
     "end_time": "2021-06-23T00:27:44.019192",
     "exception": false,
     "start_time": "2021-06-23T00:27:44.002725",
     "status": "completed"
    },
    "tags": []
   },
   "source": [
    "This is a monthly report, generated by the California Integrated Travel Project (Cal-ITP), summarizing issues discovered by MobilityData’s GTFS Validator. This report is available for viewing by the general public to support continuous improvement of GTFS data and the experience of transit passengers. "
   ]
  },
  {
   "cell_type": "markdown",
   "id": "96e8e433",
   "metadata": {
    "papermill": {
     "duration": 0.019352,
     "end_time": "2021-06-23T00:27:44.057474",
     "exception": false,
     "start_time": "2021-06-23T00:27:44.038122",
     "status": "completed"
    },
    "tags": []
   },
   "source": [
    "## Overview"
   ]
  },
  {
   "cell_type": "code",
   "execution_count": 9,
   "id": "a6b9e9d1",
   "metadata": {
    "execution": {
     "iopub.execute_input": "2021-06-23T00:27:44.117224Z",
     "iopub.status.busy": "2021-06-23T00:27:44.115998Z",
     "iopub.status.idle": "2021-06-23T00:27:44.121266Z",
     "shell.execute_reply": "2021-06-23T00:27:44.121879Z"
    },
    "papermill": {
     "duration": 0.031469,
     "end_time": "2021-06-23T00:27:44.122278",
     "exception": false,
     "start_time": "2021-06-23T00:27:44.090809",
     "status": "completed"
    },
    "tags": []
   },
   "outputs": [
    {
     "data": {
      "text/markdown": [
       "\n",
       "Feed location: https://citycommbus.com/gtfs\n",
       "\n",
       "Metrics for the most recent published version of the feed:\n",
       "\n",
       "* Date published: 1/5/2021 added Yellow with Evening Schedule\n",
       "* Number of routes in any service: 8\n",
       "* Number of stops in service: 218\n"
      ],
      "text/plain": [
       "<IPython.core.display.Markdown object>"
      ]
     },
     "execution_count": 9,
     "metadata": {},
     "output_type": "execute_result"
    }
   ],
   "source": [
    "Markdown(f\"\"\"\n",
    "Feed location: {status[\"gtfs_schedule_url\"]}\n",
    "\n",
    "Metrics for the most recent published version of the feed:\n",
    "\n",
    "* Date published: {feed_info[\"feed_version\"]}\n",
    "* Number of routes in any service: {feed_info[\"n_routes\"]}\n",
    "* Number of stops in service: {feed_info[\"n_stops\"]}\n",
    "\"\"\")"
   ]
  },
  {
   "cell_type": "markdown",
   "id": "fe417ac1",
   "metadata": {
    "papermill": {
     "duration": 0.016928,
     "end_time": "2021-06-23T00:27:44.156798",
     "exception": false,
     "start_time": "2021-06-23T00:27:44.139870",
     "status": "completed"
    },
    "tags": []
   },
   "source": [
    "## Aggregated Metrics for May"
   ]
  },
  {
   "cell_type": "code",
   "execution_count": 10,
   "id": "0cc6544d",
   "metadata": {
    "execution": {
     "iopub.execute_input": "2021-06-23T00:27:44.208363Z",
     "iopub.status.busy": "2021-06-23T00:27:44.207505Z",
     "iopub.status.idle": "2021-06-23T00:27:44.211516Z",
     "shell.execute_reply": "2021-06-23T00:27:44.212021Z"
    },
    "papermill": {
     "duration": 0.03097,
     "end_time": "2021-06-23T00:27:44.212205",
     "exception": false,
     "start_time": "2021-06-23T00:27:44.181235",
     "status": "completed"
    },
    "tags": []
   },
   "outputs": [
    {
     "data": {
      "text/markdown": [
       "\n",
       "Days when the active feed was expired: 0\n"
      ],
      "text/plain": [
       "<IPython.core.display.Markdown object>"
      ]
     },
     "execution_count": 10,
     "metadata": {},
     "output_type": "execute_result"
    }
   ],
   "source": [
    "Markdown(f\"\"\"\n",
    "Days when the active feed was expired: {n_expired_days[\"n\"]}\n",
    "\"\"\")"
   ]
  },
  {
   "cell_type": "code",
   "execution_count": 11,
   "id": "a2ac820d",
   "metadata": {
    "execution": {
     "iopub.execute_input": "2021-06-23T00:27:44.286381Z",
     "iopub.status.busy": "2021-06-23T00:27:44.285332Z",
     "iopub.status.idle": "2021-06-23T00:27:44.659191Z",
     "shell.execute_reply": "2021-06-23T00:27:44.659627Z"
    },
    "papermill": {
     "duration": 0.427743,
     "end_time": "2021-06-23T00:27:44.659792",
     "exception": false,
     "start_time": "2021-06-23T00:27:44.232049",
     "status": "completed"
    },
    "tags": []
   },
   "outputs": [
    {
     "data": {
      "image/png": "[encoded data removed]",
      "text/plain": [
       "<Figure size 640x480 with 1 Axes>"
      ]
     },
     "metadata": {},
     "output_type": "display_data"
    },
    {
     "data": {
      "text/plain": [
       "<ggplot: (314916563)>"
      ]
     },
     "execution_count": 11,
     "metadata": {},
     "output_type": "execute_result"
    }
   ],
   "source": [
    "(\n",
    "    tbl_daily_service_hours\n",
    "    >> ggplot(aes(\"service_date\", \"ttl_service_hours\"))\n",
    "    + geom_line()\n",
    "    + geom_point()\n",
    "    + theme(axis_text_x=element_text(angle=45, hjust=1))\n",
    "    + scale_x_datetime(date_breaks=\"1 week\")\n",
    "    + expand_limits(y=0)\n",
    ")"
   ]
  },
  {
   "cell_type": "markdown",
   "id": "2649cc37",
   "metadata": {
    "papermill": {
     "duration": 0.018048,
     "end_time": "2021-06-23T00:27:44.699088",
     "exception": false,
     "start_time": "2021-06-23T00:27:44.681040",
     "status": "completed"
    },
    "tags": []
   },
   "source": [
    "## Changes Since Previous Month"
   ]
  },
  {
   "cell_type": "code",
   "execution_count": 12,
   "id": "f8dacb16",
   "metadata": {
    "execution": {
     "iopub.execute_input": "2021-06-23T00:27:44.817620Z",
     "iopub.status.busy": "2021-06-23T00:27:44.799032Z",
     "iopub.status.idle": "2021-06-23T00:27:45.131124Z",
     "shell.execute_reply": "2021-06-23T00:27:45.130664Z"
    },
    "papermill": {
     "duration": 0.392897,
     "end_time": "2021-06-23T00:27:45.131255",
     "exception": false,
     "start_time": "2021-06-23T00:27:44.738358",
     "status": "completed"
    },
    "tags": []
   },
   "outputs": [
    {
     "data": {
      "image/png": "[encoded data removed]",
      "text/plain": [
       "<Figure size 640x480 with 1 Axes>"
      ]
     },
     "metadata": {},
     "output_type": "display_data"
    },
    {
     "data": {
      "text/plain": [
       "<ggplot: (314948744)>"
      ]
     },
     "execution_count": 12,
     "metadata": {},
     "output_type": "execute_result"
    }
   ],
   "source": [
    "(\n",
    "    pd.concat(\n",
    "        [\n",
    "            tbl_stops_changed >> mutate(kind=\"Stops\"),\n",
    "            tbl_routes_changed >> mutate(kind=\"Routes\"),\n",
    "        ]\n",
    "    )\n",
    "    >> ggplot(aes(\"kind\", \"n\", fill=\"status\"))\n",
    "    + geom_col()\n",
    "    + labs(x=\"Kind of ID\", y=\"Number of Changes\")\n",
    ")"
   ]
  },
  {
   "cell_type": "markdown",
   "id": "81ec8684",
   "metadata": {
    "papermill": {
     "duration": 0.031149,
     "end_time": "2021-06-23T00:27:45.182552",
     "exception": false,
     "start_time": "2021-06-23T00:27:45.151403",
     "status": "completed"
    },
    "tags": []
   },
   "source": [
    "### (Alternative version using percentages)"
   ]
  },
  {
   "cell_type": "code",
   "execution_count": 13,
   "id": "21c46aad",
   "metadata": {
    "execution": {
     "iopub.execute_input": "2021-06-23T00:27:45.262619Z",
     "iopub.status.busy": "2021-06-23T00:27:45.260974Z",
     "iopub.status.idle": "2021-06-23T00:27:45.573316Z",
     "shell.execute_reply": "2021-06-23T00:27:45.572780Z"
    },
    "papermill": {
     "duration": 0.356802,
     "end_time": "2021-06-23T00:27:45.573464",
     "exception": false,
     "start_time": "2021-06-23T00:27:45.216662",
     "status": "completed"
    },
    "tags": []
   },
   "outputs": [
    {
     "data": {
      "image/png": "[encoded data removed]",
      "text/plain": [
       "<Figure size 640x480 with 1 Axes>"
      ]
     },
     "metadata": {},
     "output_type": "display_data"
    },
    {
     "data": {
      "text/plain": [
       "<ggplot: (283681814)>"
      ]
     },
     "execution_count": 13,
     "metadata": {},
     "output_type": "execute_result"
    }
   ],
   "source": [
    "(\n",
    "    pd.concat(\n",
    "        [\n",
    "            tbl_stops_changed >> mutate(kind=\"Stops\"),\n",
    "            tbl_routes_changed >> mutate(kind=\"Routes\"),\n",
    "        ]\n",
    "    )\n",
    "    >> ggplot(aes(\"kind\", \"percent\", fill=\"status\"))\n",
    "    + geom_col()\n",
    "    + labs(x=\"Kind of ID\", y=\"Percent of Changes\")\n",
    ")"
   ]
  },
  {
   "cell_type": "markdown",
   "id": "7ce8460c",
   "metadata": {
    "papermill": {
     "duration": 0.024681,
     "end_time": "2021-06-23T00:27:45.623889",
     "exception": false,
     "start_time": "2021-06-23T00:27:45.599208",
     "status": "completed"
    },
    "tags": []
   },
   "source": [
    "## Consistency with the California GTFS Minimum Guidelines for the feed downloaded\n"
   ]
  },
  {
   "cell_type": "code",
   "execution_count": 14,
   "id": "fccf4710",
   "metadata": {
    "execution": {
     "iopub.execute_input": "2021-06-23T00:27:45.684225Z",
     "iopub.status.busy": "2021-06-23T00:27:45.682728Z",
     "iopub.status.idle": "2021-06-23T00:27:45.703859Z",
     "shell.execute_reply": "2021-06-23T00:27:45.703266Z"
    },
    "papermill": {
     "duration": 0.050249,
     "end_time": "2021-06-23T00:27:45.703995",
     "exception": false,
     "start_time": "2021-06-23T00:27:45.653746",
     "status": "completed"
    },
    "tags": []
   },
   "outputs": [
    {
     "data": {
      "text/html": [
       "<div>\n",
       "<style scoped>\n",
       "    .dataframe tbody tr th:only-of-type {\n",
       "        vertical-align: middle;\n",
       "    }\n",
       "\n",
       "    .dataframe tbody tr th {\n",
       "        vertical-align: top;\n",
       "    }\n",
       "\n",
       "    .dataframe thead th {\n",
       "        text-align: right;\n",
       "    }\n",
       "</style>\n",
       "<table border=\"1\" class=\"dataframe\">\n",
       "  <thead>\n",
       "    <tr style=\"text-align: right;\">\n",
       "      <th></th>\n",
       "      <th>category</th>\n",
       "      <th>name</th>\n",
       "      <th>2021-05-02</th>\n",
       "      <th>2021-05-09</th>\n",
       "      <th>2021-05-16</th>\n",
       "      <th>2021-05-23</th>\n",
       "      <th>2021-05-30</th>\n",
       "    </tr>\n",
       "  </thead>\n",
       "  <tbody>\n",
       "    <tr>\n",
       "      <th>5</th>\n",
       "      <td>Visual display</td>\n",
       "      <td>shapes.txt</td>\n",
       "      <td>✅</td>\n",
       "      <td>✅</td>\n",
       "      <td>✅</td>\n",
       "      <td>✅</td>\n",
       "      <td>✅</td>\n",
       "    </tr>\n",
       "    <tr>\n",
       "      <th>3</th>\n",
       "      <td>Navigation</td>\n",
       "      <td>levels.txt</td>\n",
       "      <td></td>\n",
       "      <td></td>\n",
       "      <td></td>\n",
       "      <td></td>\n",
       "      <td></td>\n",
       "    </tr>\n",
       "    <tr>\n",
       "      <th>4</th>\n",
       "      <td>Navigation</td>\n",
       "      <td>pathways.txt</td>\n",
       "      <td></td>\n",
       "      <td></td>\n",
       "      <td></td>\n",
       "      <td></td>\n",
       "      <td></td>\n",
       "    </tr>\n",
       "    <tr>\n",
       "      <th>0</th>\n",
       "      <td>Fares</td>\n",
       "      <td>fare_leg_rules</td>\n",
       "      <td></td>\n",
       "      <td></td>\n",
       "      <td></td>\n",
       "      <td></td>\n",
       "      <td></td>\n",
       "    </tr>\n",
       "    <tr>\n",
       "      <th>1</th>\n",
       "      <td>Fares</td>\n",
       "      <td>fare_rules.txt</td>\n",
       "      <td>✅</td>\n",
       "      <td>✅</td>\n",
       "      <td></td>\n",
       "      <td></td>\n",
       "      <td></td>\n",
       "    </tr>\n",
       "    <tr>\n",
       "      <th>2</th>\n",
       "      <td>Technical contacts</td>\n",
       "      <td>feed_info.txt</td>\n",
       "      <td>✅</td>\n",
       "      <td>✅</td>\n",
       "      <td>✅</td>\n",
       "      <td>✅</td>\n",
       "      <td>✅</td>\n",
       "    </tr>\n",
       "  </tbody>\n",
       "</table>\n",
       "</div>"
      ],
      "text/plain": [
       "             category            name 2021-05-02 2021-05-09 2021-05-16  \\\n",
       "5      Visual display      shapes.txt          ✅          ✅          ✅   \n",
       "3          Navigation      levels.txt                                    \n",
       "4          Navigation    pathways.txt                                    \n",
       "0               Fares  fare_leg_rules                                    \n",
       "1               Fares  fare_rules.txt          ✅          ✅              \n",
       "2  Technical contacts   feed_info.txt          ✅          ✅          ✅   \n",
       "\n",
       "  2021-05-23 2021-05-30  \n",
       "5          ✅          ✅  \n",
       "3                        \n",
       "4                        \n",
       "0                        \n",
       "1                        \n",
       "2          ✅          ✅  "
      ]
     },
     "execution_count": 14,
     "metadata": {},
     "output_type": "execute_result"
    }
   ],
   "source": [
    "tbl_file_check"
   ]
  },
  {
   "cell_type": "markdown",
   "id": "fda5068e",
   "metadata": {
    "papermill": {
     "duration": 0.020877,
     "end_time": "2021-06-23T00:27:45.745375",
     "exception": false,
     "start_time": "2021-06-23T00:27:45.724498",
     "status": "completed"
    },
    "tags": []
   },
   "source": [
    "### Validation Errors Observed"
   ]
  },
  {
   "cell_type": "code",
   "execution_count": 15,
   "id": "9ccf1944",
   "metadata": {
    "execution": {
     "iopub.execute_input": "2021-06-23T00:27:45.800873Z",
     "iopub.status.busy": "2021-06-23T00:27:45.799887Z",
     "iopub.status.idle": "2021-06-23T00:27:45.803611Z",
     "shell.execute_reply": "2021-06-23T00:27:45.804198Z"
    },
    "papermill": {
     "duration": 0.034155,
     "end_time": "2021-06-23T00:27:45.804426",
     "exception": false,
     "start_time": "2021-06-23T00:27:45.770271",
     "status": "completed"
    },
    "tags": []
   },
   "outputs": [
    {
     "data": {
      "text/html": [
       "<div>\n",
       "<style scoped>\n",
       "    .dataframe tbody tr th:only-of-type {\n",
       "        vertical-align: middle;\n",
       "    }\n",
       "\n",
       "    .dataframe tbody tr th {\n",
       "        vertical-align: top;\n",
       "    }\n",
       "\n",
       "    .dataframe thead th {\n",
       "        text-align: right;\n",
       "    }\n",
       "</style>\n",
       "<table border=\"1\" class=\"dataframe\">\n",
       "  <thead>\n",
       "    <tr style=\"text-align: right;\">\n",
       "      <th></th>\n",
       "      <th>code</th>\n",
       "      <th>severity</th>\n",
       "      <th>n</th>\n",
       "    </tr>\n",
       "  </thead>\n",
       "  <tbody>\n",
       "    <tr>\n",
       "      <th>0</th>\n",
       "      <td>decreasing_or_equal_stop_time_distance</td>\n",
       "      <td>ERROR</td>\n",
       "      <td>14</td>\n",
       "    </tr>\n",
       "    <tr>\n",
       "      <th>1</th>\n",
       "      <td>leading_or_trailing_whitespaces</td>\n",
       "      <td>ERROR</td>\n",
       "      <td>1</td>\n",
       "    </tr>\n",
       "  </tbody>\n",
       "</table>\n",
       "</div>"
      ],
      "text/plain": [
       "                                     code severity   n\n",
       "0  decreasing_or_equal_stop_time_distance    ERROR  14\n",
       "1         leading_or_trailing_whitespaces    ERROR   1"
      ]
     },
     "execution_count": 15,
     "metadata": {},
     "output_type": "execute_result"
    }
   ],
   "source": [
    "tbl_validation_notices"
   ]
  }
 ],
 "metadata": {
  "kernelspec": {
   "display_name": "venv-calitp-py",
   "language": "python",
   "name": "venv-calitp-py"
  },
  "language_info": {
   "codemirror_mode": {
    "name": "ipython",
    "version": 3
   },
   "file_extension": ".py",
   "mimetype": "text/x-python",
   "name": "python",
   "nbconvert_exporter": "python",
   "pygments_lexer": "ipython3",
   "version": "3.8.5"
  },
  "papermill": {
   "default_parameters": {},
   "duration": 62.3087,
   "end_time": "2021-06-23T00:27:46.456716",
   "environment_variables": {},
   "exception": null,
   "input_path": "report.ipynb",
   "output_path": "output/75/report.ipynb",
   "parameters": {
    "CALITP_ITP_ID": 75,
    "CALITP_URL_NUMBER": 0
   },
   "start_time": "2021-06-23T00:26:44.148016",
   "version": "2.3.3"
  }
 },
 "nbformat": 4,
 "nbformat_minor": 5
}