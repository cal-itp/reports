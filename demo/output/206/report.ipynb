{
 "cells": [
  {
   "cell_type": "markdown",
   "id": "0895ebdf",
   "metadata": {
    "papermill": {
     "duration": 0.01501,
     "end_time": "2021-06-23T00:31:43.742544",
     "exception": false,
     "start_time": "2021-06-23T00:31:43.727534",
     "status": "completed"
    },
    "tags": [
     "hide"
    ]
   },
   "source": [
    "# Setup"
   ]
  },
  {
   "cell_type": "code",
   "execution_count": 1,
   "id": "37db94e4",
   "metadata": {
    "execution": {
     "iopub.execute_input": "2021-06-23T00:31:43.804105Z",
     "iopub.status.busy": "2021-06-23T00:31:43.797593Z",
     "iopub.status.idle": "2021-06-23T00:31:50.364287Z",
     "shell.execute_reply": "2021-06-23T00:31:50.364843Z"
    },
    "papermill": {
     "duration": 6.605176,
     "end_time": "2021-06-23T00:31:50.365104",
     "exception": false,
     "start_time": "2021-06-23T00:31:43.759928",
     "status": "completed"
    },
    "tags": [
     "hide"
    ]
   },
   "outputs": [],
   "source": [
    "import pandas as pd\n",
    "\n",
    "from io import StringIO\n",
    "from calitp.tables import tbl\n",
    "from datetime import date\n",
    "from siuba import *\n",
    "from plotnine import *\n",
    "\n",
    "\n",
    "START_DATE = \"2021-05-01\"\n",
    "END_DATE = \"2021-06-01\"\n",
    "DATE_TODAY=date.today()\n",
    "\n",
    "WEEK_MARKERS = pd.date_range(START_DATE, END_DATE, freq=\"W\").astype(str).tolist()"
   ]
  },
  {
   "cell_type": "code",
   "execution_count": 2,
   "id": "b88b7c03",
   "metadata": {
    "execution": {
     "iopub.execute_input": "2021-06-23T00:31:50.415694Z",
     "iopub.status.busy": "2021-06-23T00:31:50.413334Z",
     "iopub.status.idle": "2021-06-23T00:31:50.424701Z",
     "shell.execute_reply": "2021-06-23T00:31:50.425437Z"
    },
    "papermill": {
     "duration": 0.045054,
     "end_time": "2021-06-23T00:31:50.425740",
     "exception": false,
     "start_time": "2021-06-23T00:31:50.380686",
     "status": "completed"
    },
    "tags": [
     "parameters",
     "hide"
    ]
   },
   "outputs": [],
   "source": [
    "CALITP_ITP_ID=389\n",
    "#CALITP_ITP_ID=45\n",
    "CALITP_URL_NUMBER=0"
   ]
  },
  {
   "cell_type": "code",
   "execution_count": 3,
   "id": "8e38951b",
   "metadata": {
    "execution": {
     "iopub.execute_input": "2021-06-23T00:31:50.465372Z",
     "iopub.status.busy": "2021-06-23T00:31:50.464167Z",
     "iopub.status.idle": "2021-06-23T00:31:50.466983Z",
     "shell.execute_reply": "2021-06-23T00:31:50.467437Z"
    },
    "papermill": {
     "duration": 0.022202,
     "end_time": "2021-06-23T00:31:50.467601",
     "exception": false,
     "start_time": "2021-06-23T00:31:50.445399",
     "status": "completed"
    },
    "tags": [
     "injected-parameters"
    ]
   },
   "outputs": [],
   "source": [
    "# Parameters\n",
    "CALITP_ITP_ID = 206\n",
    "CALITP_URL_NUMBER = 0\n"
   ]
  },
  {
   "cell_type": "code",
   "execution_count": 4,
   "id": "f999d808",
   "metadata": {
    "execution": {
     "iopub.execute_input": "2021-06-23T00:31:50.572230Z",
     "iopub.status.busy": "2021-06-23T00:31:50.570870Z",
     "iopub.status.idle": "2021-06-23T00:31:50.574289Z",
     "shell.execute_reply": "2021-06-23T00:31:50.574695Z"
    },
    "papermill": {
     "duration": 0.074661,
     "end_time": "2021-06-23T00:31:50.574865",
     "exception": false,
     "start_time": "2021-06-23T00:31:50.500204",
     "status": "completed"
    },
    "tags": [
     "hide"
    ]
   },
   "outputs": [],
   "source": [
    "# Convenience functions ----\n",
    "\n",
    "filter_start = filter(\n",
    "    _.calitp_extracted_at <= START_DATE,\n",
    "    _.calitp_deleted_at.fillna(\"2099-01-01\") > START_DATE,\n",
    ")\n",
    "\n",
    "filter_end = filter(\n",
    "    _.calitp_extracted_at <= END_DATE,\n",
    "    _.calitp_deleted_at.fillna(\"2099-01-01\") > END_DATE,\n",
    ")\n",
    "\n",
    "filter_itp = filter(\n",
    "    _.calitp_itp_id == CALITP_ITP_ID, _.calitp_url_number == CALITP_URL_NUMBER\n",
    ")\n",
    "\n",
    "collect_to_dict = (\n",
    "    collect()\n",
    "    >> pipe(_.to_dict(orient=\"records\")[0])\n",
    ")\n",
    "\n",
    "\n",
    "select_rm_calitp = select(\n",
    "    -_.calitp_itp_id,\n",
    "    -_.calitp_url_number,\n",
    "    -_.calitp_hash,\n",
    "    -_.calitp_extracted_at,\n",
    "    -_.calitp_deleted_at,\n",
    ")\n",
    "\n",
    "\n",
    "def query_id_changes(start_table, end_table, id_vars):\n",
    "    \"\"\"Calculate id variables that are removed, added, or unchanged between tables.\n",
    "    \n",
    "    It works by adding a special column to each table, performing a full join,\n",
    "    then checking where the special column is null.\n",
    "    \"\"\"\n",
    "    sym_id_vars = [_[k] for k in id_vars]\n",
    "\n",
    "    is_in_start = start_table >> select(*id_vars) >> mutate(is_in_start=True)\n",
    "    is_in_end = end_table >> select(*id_vars) >> mutate(is_in_end=True)\n",
    "\n",
    "    baseline = start_table >> count(*id_vars) >> rename(n_baseline=\"n\")\n",
    "    tallies = (\n",
    "        is_in_start\n",
    "        >> full_join(_, is_in_end, id_vars)\n",
    "        >> count(*sym_id_vars, _.is_in_start, _.is_in_end)\n",
    "        >> mutate(\n",
    "            status=case_when(\n",
    "                _,\n",
    "                {\n",
    "                    _.is_in_end.isna(): \"Removed\",\n",
    "                    _.is_in_start.isna(): \"Added\",\n",
    "                    True: \"Unchanged\",\n",
    "                },\n",
    "            )\n",
    "        )\n",
    "        >> count(*sym_id_vars[:-1], _.status)\n",
    "        >> group_by(*sym_id_vars[:-1])\n",
    "        >> mutate(percent=_.n / _.n.sum())\n",
    "    )\n",
    "\n",
    "    return tallies"
   ]
  },
  {
   "cell_type": "code",
   "execution_count": 5,
   "id": "8b57e8e8",
   "metadata": {
    "execution": {
     "iopub.execute_input": "2021-06-23T00:31:50.627510Z",
     "iopub.status.busy": "2021-06-23T00:31:50.625376Z",
     "iopub.status.idle": "2021-06-23T00:32:16.595304Z",
     "shell.execute_reply": "2021-06-23T00:32:16.595778Z"
    },
    "papermill": {
     "duration": 25.999121,
     "end_time": "2021-06-23T00:32:16.595962",
     "exception": false,
     "start_time": "2021-06-23T00:31:50.596841",
     "status": "completed"
    },
    "tags": [
     "hide"
    ]
   },
   "outputs": [],
   "source": [
    "# Data ====\n",
    "# 1. High level feed info ----\n",
    "feed_info = (\n",
    "    tbl.gtfs_schedule_type2.feed_info()\n",
    "    >> filter_end\n",
    "    >> filter_itp\n",
    "    >> select_rm_calitp\n",
    "    >> collect_to_dict\n",
    ")\n",
    "\n",
    "_n_routes = (\n",
    "    tbl.gtfs_schedule_type2.routes() >> filter_end >> filter_itp >> count() >> collect()\n",
    ")\n",
    "_n_stops = (\n",
    "    tbl.gtfs_schedule_type2.stops() >> filter_end >> filter_itp >> count() >> collect()\n",
    ")\n",
    "\n",
    "feed_info[\"n_routes\"] = int(_n_routes.loc[0, \"n\"])\n",
    "feed_info[\"n_stops\"] = int(_n_stops.loc[0, \"n\"])\n",
    "\n",
    "status = (\n",
    "    tbl.views.gtfs_status_latest()\n",
    "    >> filter(_.itp_id == CALITP_ITP_ID, _.url_number == CALITP_URL_NUMBER)\n",
    "    >> select(-_.url_number, -_.status)\n",
    "    >> select_rm_calitp\n",
    "    >> collect_to_dict\n",
    ")\n",
    "\n",
    "# 2. Monthly metrics ----\n",
    "# Service hours per day. Note that the queried table calculates service\n",
    "# hours per service id, so we need to sum across service ids for the day\n",
    "_cross_cal = (\n",
    "    tbl.views.dim_date()\n",
    "    >> filter(_.full_date.between(START_DATE, END_DATE))\n",
    "    >> select(_.service_date == _.full_date)\n",
    ")\n",
    "\n",
    "tbl_daily_service_hours = (\n",
    "    tbl.views.gtfs_schedule_service_daily_metrics()\n",
    "    >> filter_itp\n",
    "    >> filter(_.service_date.between(START_DATE, END_DATE))\n",
    "    >> right_join(_, _cross_cal, [\"service_date\"])\n",
    "    >> collect()\n",
    "    >> group_by(_.service_date)\n",
    "    >> summarize(ttl_service_hours=(_.last_arrival_ts.max() - _.first_departure_ts.min()) / 3600)\n",
    "    >> mutate(\n",
    "        ttl_service_hours=_.ttl_service_hours.astype(float).round(2),\n",
    "        service_date=_.service_date.astype(\"datetime64[ns]\"),\n",
    "    )\n",
    ")\n",
    "\n",
    "# number of days where a feed did not have any trips in service\n",
    "n_expired_days = (\n",
    "    tbl_daily_service_hours >> filter(_.ttl_service_hours.isna())\n",
    "    >> pipe(lambda d: {\"n\": d.shape[0]})\n",
    ")\n",
    "\n",
    "# 3. Stop and Route ID Changes ----\n",
    "\n",
    "_tbl_stops_start = tbl.gtfs_schedule_type2.stops() >> filter_itp >> filter_start\n",
    "_tbl_stops_end = tbl.gtfs_schedule_type2.stops() >> filter_itp >> filter_end\n",
    "tbl_stops_changed = (\n",
    "    query_id_changes(_tbl_stops_start, _tbl_stops_end, [\"stop_id\"]) >> collect()\n",
    ")\n",
    "\n",
    "_tbl_routes_start = tbl.gtfs_schedule_type2.routes() >> filter_start\n",
    "_tbl_routes_end = tbl.gtfs_schedule_type2.routes() >> filter_end\n",
    "tbl_routes_changed = (\n",
    "    query_id_changes(_tbl_routes_start, _tbl_routes_end, [\"route_id\"]) >> collect()\n",
    ")"
   ]
  },
  {
   "cell_type": "code",
   "execution_count": 6,
   "id": "71b563da",
   "metadata": {
    "execution": {
     "iopub.execute_input": "2021-06-23T00:32:16.645706Z",
     "iopub.status.busy": "2021-06-23T00:32:16.644485Z",
     "iopub.status.idle": "2021-06-23T00:32:21.612999Z",
     "shell.execute_reply": "2021-06-23T00:32:21.611552Z"
    },
    "papermill": {
     "duration": 5.001364,
     "end_time": "2021-06-23T00:32:21.613216",
     "exception": false,
     "start_time": "2021-06-23T00:32:16.611852",
     "status": "completed"
    },
    "tags": [
     "hide"
    ]
   },
   "outputs": [],
   "source": [
    "# 4. Feed files being checked for ----\n",
    "\n",
    "file_categories = pd.DataFrame(\n",
    "    {\n",
    "        \"shapes.txt\": \"Visual display\",\n",
    "        \"pathways.txt\": \"Navigation\",\n",
    "        \"levels.txt\": \"Navigation\",\n",
    "        \"fare_rules.txt\": \"Fares\",\n",
    "        \"fare_leg_rules\": \"Fares\",\n",
    "        \"feed_info.txt\": \"Technical contacts\",\n",
    "    }.items(),\n",
    "    columns=[\"name\", \"category\"],\n",
    ")\n",
    "\n",
    "importance = [\"Visual display\", \"Navigation\", \"Fares\", \"Technical contacts\"]\n",
    "\n",
    "tbl_file_check = (\n",
    "    tbl.gtfs_schedule_history.calitp_files_updates()\n",
    "    >> filter_itp\n",
    "    >> filter(_.calitp_extracted_at.isin(WEEK_MARKERS))\n",
    "    >> select(_.name, _.calitp_extracted_at)\n",
    "    >> collect()\n",
    "    >> right_join(_, file_categories, [\"name\"])\n",
    "    >> mutate(\n",
    "        calitp_extracted_at=_.calitp_extracted_at.fillna(\"missing\").astype(str),\n",
    "        success=\"✅\",\n",
    "    )\n",
    "    >> spread(_.calitp_extracted_at, _.success)\n",
    "    >> select(-_.missing)\n",
    "    >> arrange(_.category.apply(importance.index))\n",
    "    >> select(_.category, _.contains(\"\"))\n",
    "    >> pipe(_.fillna(\"\"))\n",
    ")\n",
    "\n",
    "tbl_validation_notices = (\n",
    "    tbl.views.validation_notices()\n",
    "    >> filter_itp\n",
    "    >> filter(_.severity == \"ERROR\")\n",
    "    >> count(_.code, _.severity)\n",
    "    >> collect()\n",
    ")"
   ]
  },
  {
   "cell_type": "markdown",
   "id": "c7299fa3",
   "metadata": {
    "papermill": {
     "duration": 0.022417,
     "end_time": "2021-06-23T00:32:21.656552",
     "exception": false,
     "start_time": "2021-06-23T00:32:21.634135",
     "status": "completed"
    },
    "tags": [
     "hide"
    ]
   },
   "source": [
    "## Dump data"
   ]
  },
  {
   "cell_type": "code",
   "execution_count": 7,
   "id": "e48635de",
   "metadata": {
    "execution": {
     "iopub.execute_input": "2021-06-23T00:32:21.725544Z",
     "iopub.status.busy": "2021-06-23T00:32:21.724397Z",
     "iopub.status.idle": "2021-06-23T00:32:21.735031Z",
     "shell.execute_reply": "2021-06-23T00:32:21.735453Z"
    },
    "papermill": {
     "duration": 0.047159,
     "end_time": "2021-06-23T00:32:21.735630",
     "exception": false,
     "start_time": "2021-06-23T00:32:21.688471",
     "status": "completed"
    },
    "tags": [
     "hide"
    ]
   },
   "outputs": [],
   "source": [
    "import json\n",
    "import shutil\n",
    "\n",
    "from pathlib import Path\n",
    "\n",
    "out_dir = Path(f\"output/{CALITP_ITP_ID}_{CALITP_URL_NUMBER}/data\")\n",
    "out_dir.mkdir(parents=True, exist_ok=True)\n",
    "\n",
    "json.dump(feed_info, open(out_dir / \"1_feed_info.json\", \"w\"))\n",
    "json.dump(status, open(out_dir / \"1_status.json\", \"w\"))\n",
    "\n",
    "tbl_daily_service_hours.to_json(out_dir / \"2_daily_service_hours.json\", orient=\"records\")\n",
    "json.dump(n_expired_days, open(out_dir / \"2_n_expired_days.json\", \"w\"))\n",
    "\n",
    "tbl_stops_changed.to_json(out_dir / \"3_stops_changed.json\", orient=\"records\")\n",
    "tbl_routes_changed.to_json(out_dir / \"3_routes_changed.json\", orient=\"records\")\n",
    "tbl_file_check.to_json(out_dir / \"4_file_check.json\", orient=\"records\")\n",
    "tbl_validation_notices.to_json(out_dir / \"4_validation_notices.json\", orient=\"records\")\n"
   ]
  },
  {
   "cell_type": "markdown",
   "id": "d8c344dd",
   "metadata": {
    "papermill": {
     "duration": 0.023467,
     "end_time": "2021-06-23T00:32:21.776893",
     "exception": false,
     "start_time": "2021-06-23T00:32:21.753426",
     "status": "completed"
    },
    "tags": []
   },
   "source": [
    "# GTFS Schedule Report"
   ]
  },
  {
   "cell_type": "markdown",
   "id": "03643128",
   "metadata": {
    "papermill": {
     "duration": 0.026536,
     "end_time": "2021-06-23T00:32:21.829719",
     "exception": false,
     "start_time": "2021-06-23T00:32:21.803183",
     "status": "completed"
    },
    "tags": []
   },
   "source": [
    "# Example Juniper Report"
   ]
  },
  {
   "cell_type": "code",
   "execution_count": 8,
   "id": "2ce738b0",
   "metadata": {
    "execution": {
     "iopub.execute_input": "2021-06-23T00:32:21.871309Z",
     "iopub.status.busy": "2021-06-23T00:32:21.866829Z",
     "iopub.status.idle": "2021-06-23T00:32:21.875657Z",
     "shell.execute_reply": "2021-06-23T00:32:21.876158Z"
    },
    "papermill": {
     "duration": 0.02803,
     "end_time": "2021-06-23T00:32:21.876336",
     "exception": false,
     "start_time": "2021-06-23T00:32:21.848306",
     "status": "completed"
    },
    "tags": []
   },
   "outputs": [
    {
     "data": {
      "text/markdown": [
       "\n",
       "Transit provider name: Trillium Solutions, Inc.\n",
       "\n",
       "Date generated: 2021-06-22\n"
      ],
      "text/plain": [
       "<IPython.core.display.Markdown object>"
      ]
     },
     "execution_count": 8,
     "metadata": {},
     "output_type": "execute_result"
    }
   ],
   "source": [
    "from IPython.display import Markdown\n",
    "\n",
    "Markdown(f\"\"\"\n",
    "Transit provider name: {feed_info[\"feed_publisher_name\"]}\n",
    "\n",
    "Date generated: {DATE_TODAY}\n",
    "\"\"\")"
   ]
  },
  {
   "cell_type": "markdown",
   "id": "deb7be60",
   "metadata": {
    "papermill": {
     "duration": 0.020549,
     "end_time": "2021-06-23T00:32:21.912968",
     "exception": false,
     "start_time": "2021-06-23T00:32:21.892419",
     "status": "completed"
    },
    "tags": []
   },
   "source": [
    "This is a monthly report, generated by the California Integrated Travel Project (Cal-ITP), summarizing issues discovered by MobilityData’s GTFS Validator. This report is available for viewing by the general public to support continuous improvement of GTFS data and the experience of transit passengers. "
   ]
  },
  {
   "cell_type": "markdown",
   "id": "31b1864b",
   "metadata": {
    "papermill": {
     "duration": 0.018053,
     "end_time": "2021-06-23T00:32:21.952467",
     "exception": false,
     "start_time": "2021-06-23T00:32:21.934414",
     "status": "completed"
    },
    "tags": []
   },
   "source": [
    "## Overview"
   ]
  },
  {
   "cell_type": "code",
   "execution_count": 9,
   "id": "94325400",
   "metadata": {
    "execution": {
     "iopub.execute_input": "2021-06-23T00:32:22.049157Z",
     "iopub.status.busy": "2021-06-23T00:32:22.047905Z",
     "iopub.status.idle": "2021-06-23T00:32:22.063203Z",
     "shell.execute_reply": "2021-06-23T00:32:22.048693Z"
    },
    "papermill": {
     "duration": 0.086882,
     "end_time": "2021-06-23T00:32:22.063513",
     "exception": false,
     "start_time": "2021-06-23T00:32:21.976631",
     "status": "completed"
    },
    "tags": []
   },
   "outputs": [
    {
     "data": {
      "text/markdown": [
       "\n",
       "Feed location: https://data.trilliumtransit.com/gtfs/montebello-ca-us/montebello-ca-us.zip\n",
       "\n",
       "Metrics for the most recent published version of the feed:\n",
       "\n",
       "* Date published: UTC: 30-Dec-2020 21:24\n",
       "* Number of routes in any service: 7\n",
       "* Number of stops in service: 779\n"
      ],
      "text/plain": [
       "<IPython.core.display.Markdown object>"
      ]
     },
     "execution_count": 9,
     "metadata": {},
     "output_type": "execute_result"
    }
   ],
   "source": [
    "Markdown(f\"\"\"\n",
    "Feed location: {status[\"gtfs_schedule_url\"]}\n",
    "\n",
    "Metrics for the most recent published version of the feed:\n",
    "\n",
    "* Date published: {feed_info[\"feed_version\"]}\n",
    "* Number of routes in any service: {feed_info[\"n_routes\"]}\n",
    "* Number of stops in service: {feed_info[\"n_stops\"]}\n",
    "\"\"\")"
   ]
  },
  {
   "cell_type": "markdown",
   "id": "80680229",
   "metadata": {
    "papermill": {
     "duration": 0.028666,
     "end_time": "2021-06-23T00:32:22.118104",
     "exception": false,
     "start_time": "2021-06-23T00:32:22.089438",
     "status": "completed"
    },
    "tags": []
   },
   "source": [
    "## Aggregated Metrics for May"
   ]
  },
  {
   "cell_type": "code",
   "execution_count": 10,
   "id": "60f3e58e",
   "metadata": {
    "execution": {
     "iopub.execute_input": "2021-06-23T00:32:22.243994Z",
     "iopub.status.busy": "2021-06-23T00:32:22.242338Z",
     "iopub.status.idle": "2021-06-23T00:32:22.246655Z",
     "shell.execute_reply": "2021-06-23T00:32:22.243364Z"
    },
    "papermill": {
     "duration": 0.048138,
     "end_time": "2021-06-23T00:32:22.246854",
     "exception": false,
     "start_time": "2021-06-23T00:32:22.198716",
     "status": "completed"
    },
    "tags": []
   },
   "outputs": [
    {
     "data": {
      "text/markdown": [
       "\n",
       "Days when the active feed was expired: 12\n"
      ],
      "text/plain": [
       "<IPython.core.display.Markdown object>"
      ]
     },
     "execution_count": 10,
     "metadata": {},
     "output_type": "execute_result"
    }
   ],
   "source": [
    "Markdown(f\"\"\"\n",
    "Days when the active feed was expired: {n_expired_days[\"n\"]}\n",
    "\"\"\")"
   ]
  },
  {
   "cell_type": "code",
   "execution_count": 11,
   "id": "c76d104d",
   "metadata": {
    "execution": {
     "iopub.execute_input": "2021-06-23T00:32:22.483570Z",
     "iopub.status.busy": "2021-06-23T00:32:22.482373Z",
     "iopub.status.idle": "2021-06-23T00:32:23.134481Z",
     "shell.execute_reply": "2021-06-23T00:32:23.135455Z"
    },
    "papermill": {
     "duration": 0.850672,
     "end_time": "2021-06-23T00:32:23.135773",
     "exception": false,
     "start_time": "2021-06-23T00:32:22.285101",
     "status": "completed"
    },
    "tags": []
   },
   "outputs": [
    {
     "name": "stderr",
     "output_type": "stream",
     "text": [
      "/Users/machow/.virtualenvs/calitp-py/lib/python3.8/site-packages/plotnine/geoms/geom_path.py:75: PlotnineWarning: geom_path: Removed 12 rows containing missing values.\n",
      "/Users/machow/.virtualenvs/calitp-py/lib/python3.8/site-packages/plotnine/layer.py:401: PlotnineWarning: geom_point : Removed 12 rows containing missing values.\n"
     ]
    },
    {
     "data": {
      "image/png": "[encoded data removed]",
      "text/plain": [
       "<Figure size 640x480 with 1 Axes>"
      ]
     },
     "metadata": {},
     "output_type": "display_data"
    },
    {
     "data": {
      "text/plain": [
       "<ggplot: (316837000)>"
      ]
     },
     "execution_count": 11,
     "metadata": {},
     "output_type": "execute_result"
    }
   ],
   "source": [
    "(\n",
    "    tbl_daily_service_hours\n",
    "    >> ggplot(aes(\"service_date\", \"ttl_service_hours\"))\n",
    "    + geom_line()\n",
    "    + geom_point()\n",
    "    + theme(axis_text_x=element_text(angle=45, hjust=1))\n",
    "    + scale_x_datetime(date_breaks=\"1 week\")\n",
    "    + expand_limits(y=0)\n",
    ")"
   ]
  },
  {
   "cell_type": "markdown",
   "id": "e8345f3d",
   "metadata": {
    "papermill": {
     "duration": 0.028031,
     "end_time": "2021-06-23T00:32:23.195659",
     "exception": false,
     "start_time": "2021-06-23T00:32:23.167628",
     "status": "completed"
    },
    "tags": []
   },
   "source": [
    "## Changes Since Previous Month"
   ]
  },
  {
   "cell_type": "code",
   "execution_count": 12,
   "id": "49f1a8c6",
   "metadata": {
    "execution": {
     "iopub.execute_input": "2021-06-23T00:32:23.275555Z",
     "iopub.status.busy": "2021-06-23T00:32:23.274548Z",
     "iopub.status.idle": "2021-06-23T00:32:23.700406Z",
     "shell.execute_reply": "2021-06-23T00:32:23.701000Z"
    },
    "papermill": {
     "duration": 0.47372,
     "end_time": "2021-06-23T00:32:23.701223",
     "exception": false,
     "start_time": "2021-06-23T00:32:23.227503",
     "status": "completed"
    },
    "tags": []
   },
   "outputs": [
    {
     "data": {
      "image/png": "[encoded data removed]",
      "text/plain": [
       "<Figure size 640x480 with 1 Axes>"
      ]
     },
     "metadata": {},
     "output_type": "display_data"
    },
    {
     "data": {
      "text/plain": [
       "<ggplot: (316826844)>"
      ]
     },
     "execution_count": 12,
     "metadata": {},
     "output_type": "execute_result"
    }
   ],
   "source": [
    "(\n",
    "    pd.concat(\n",
    "        [\n",
    "            tbl_stops_changed >> mutate(kind=\"Stops\"),\n",
    "            tbl_routes_changed >> mutate(kind=\"Routes\"),\n",
    "        ]\n",
    "    )\n",
    "    >> ggplot(aes(\"kind\", \"n\", fill=\"status\"))\n",
    "    + geom_col()\n",
    "    + labs(x=\"Kind of ID\", y=\"Number of Changes\")\n",
    ")"
   ]
  },
  {
   "cell_type": "markdown",
   "id": "68f14d01",
   "metadata": {
    "papermill": {
     "duration": 0.040042,
     "end_time": "2021-06-23T00:32:23.773224",
     "exception": false,
     "start_time": "2021-06-23T00:32:23.733182",
     "status": "completed"
    },
    "tags": []
   },
   "source": [
    "### (Alternative version using percentages)"
   ]
  },
  {
   "cell_type": "code",
   "execution_count": 13,
   "id": "a6f3051b",
   "metadata": {
    "execution": {
     "iopub.execute_input": "2021-06-23T00:32:23.858858Z",
     "iopub.status.busy": "2021-06-23T00:32:23.857741Z",
     "iopub.status.idle": "2021-06-23T00:32:24.334367Z",
     "shell.execute_reply": "2021-06-23T00:32:24.333524Z"
    },
    "papermill": {
     "duration": 0.528656,
     "end_time": "2021-06-23T00:32:24.334598",
     "exception": false,
     "start_time": "2021-06-23T00:32:23.805942",
     "status": "completed"
    },
    "tags": []
   },
   "outputs": [
    {
     "data": {
      "image/png": "[encoded data removed]",
      "text/plain": [
       "<Figure size 640x480 with 1 Axes>"
      ]
     },
     "metadata": {},
     "output_type": "display_data"
    },
    {
     "data": {
      "text/plain": [
       "<ggplot: (317049125)>"
      ]
     },
     "execution_count": 13,
     "metadata": {},
     "output_type": "execute_result"
    }
   ],
   "source": [
    "(\n",
    "    pd.concat(\n",
    "        [\n",
    "            tbl_stops_changed >> mutate(kind=\"Stops\"),\n",
    "            tbl_routes_changed >> mutate(kind=\"Routes\"),\n",
    "        ]\n",
    "    )\n",
    "    >> ggplot(aes(\"kind\", \"percent\", fill=\"status\"))\n",
    "    + geom_col()\n",
    "    + labs(x=\"Kind of ID\", y=\"Percent of Changes\")\n",
    ")"
   ]
  },
  {
   "cell_type": "markdown",
   "id": "2642a6ea",
   "metadata": {
    "papermill": {
     "duration": 0.047338,
     "end_time": "2021-06-23T00:32:24.414104",
     "exception": false,
     "start_time": "2021-06-23T00:32:24.366766",
     "status": "completed"
    },
    "tags": []
   },
   "source": [
    "## Consistency with the California GTFS Minimum Guidelines for the feed downloaded\n"
   ]
  },
  {
   "cell_type": "code",
   "execution_count": 14,
   "id": "c3ff4274",
   "metadata": {
    "execution": {
     "iopub.execute_input": "2021-06-23T00:32:24.470285Z",
     "iopub.status.busy": "2021-06-23T00:32:24.466892Z",
     "iopub.status.idle": "2021-06-23T00:32:24.506436Z",
     "shell.execute_reply": "2021-06-23T00:32:24.505800Z"
    },
    "papermill": {
     "duration": 0.065814,
     "end_time": "2021-06-23T00:32:24.506585",
     "exception": false,
     "start_time": "2021-06-23T00:32:24.440771",
     "status": "completed"
    },
    "tags": []
   },
   "outputs": [
    {
     "data": {
      "text/html": [
       "<div>\n",
       "<style scoped>\n",
       "    .dataframe tbody tr th:only-of-type {\n",
       "        vertical-align: middle;\n",
       "    }\n",
       "\n",
       "    .dataframe tbody tr th {\n",
       "        vertical-align: top;\n",
       "    }\n",
       "\n",
       "    .dataframe thead th {\n",
       "        text-align: right;\n",
       "    }\n",
       "</style>\n",
       "<table border=\"1\" class=\"dataframe\">\n",
       "  <thead>\n",
       "    <tr style=\"text-align: right;\">\n",
       "      <th></th>\n",
       "      <th>category</th>\n",
       "      <th>name</th>\n",
       "      <th>2021-05-16</th>\n",
       "      <th>2021-05-23</th>\n",
       "      <th>2021-05-30</th>\n",
       "    </tr>\n",
       "  </thead>\n",
       "  <tbody>\n",
       "    <tr>\n",
       "      <th>5</th>\n",
       "      <td>Visual display</td>\n",
       "      <td>shapes.txt</td>\n",
       "      <td>✅</td>\n",
       "      <td>✅</td>\n",
       "      <td>✅</td>\n",
       "    </tr>\n",
       "    <tr>\n",
       "      <th>3</th>\n",
       "      <td>Navigation</td>\n",
       "      <td>levels.txt</td>\n",
       "      <td></td>\n",
       "      <td></td>\n",
       "      <td></td>\n",
       "    </tr>\n",
       "    <tr>\n",
       "      <th>4</th>\n",
       "      <td>Navigation</td>\n",
       "      <td>pathways.txt</td>\n",
       "      <td></td>\n",
       "      <td></td>\n",
       "      <td></td>\n",
       "    </tr>\n",
       "    <tr>\n",
       "      <th>0</th>\n",
       "      <td>Fares</td>\n",
       "      <td>fare_leg_rules</td>\n",
       "      <td></td>\n",
       "      <td></td>\n",
       "      <td></td>\n",
       "    </tr>\n",
       "    <tr>\n",
       "      <th>1</th>\n",
       "      <td>Fares</td>\n",
       "      <td>fare_rules.txt</td>\n",
       "      <td>✅</td>\n",
       "      <td>✅</td>\n",
       "      <td>✅</td>\n",
       "    </tr>\n",
       "    <tr>\n",
       "      <th>2</th>\n",
       "      <td>Technical contacts</td>\n",
       "      <td>feed_info.txt</td>\n",
       "      <td>✅</td>\n",
       "      <td>✅</td>\n",
       "      <td>✅</td>\n",
       "    </tr>\n",
       "  </tbody>\n",
       "</table>\n",
       "</div>"
      ],
      "text/plain": [
       "             category            name 2021-05-16 2021-05-23 2021-05-30\n",
       "5      Visual display      shapes.txt          ✅          ✅          ✅\n",
       "3          Navigation      levels.txt                                 \n",
       "4          Navigation    pathways.txt                                 \n",
       "0               Fares  fare_leg_rules                                 \n",
       "1               Fares  fare_rules.txt          ✅          ✅          ✅\n",
       "2  Technical contacts   feed_info.txt          ✅          ✅          ✅"
      ]
     },
     "execution_count": 14,
     "metadata": {},
     "output_type": "execute_result"
    }
   ],
   "source": [
    "tbl_file_check"
   ]
  },
  {
   "cell_type": "markdown",
   "id": "d32ed11c",
   "metadata": {
    "papermill": {
     "duration": 0.022206,
     "end_time": "2021-06-23T00:32:24.572999",
     "exception": false,
     "start_time": "2021-06-23T00:32:24.550793",
     "status": "completed"
    },
    "tags": []
   },
   "source": [
    "### Validation Errors Observed"
   ]
  },
  {
   "cell_type": "code",
   "execution_count": 15,
   "id": "52faed5b",
   "metadata": {
    "execution": {
     "iopub.execute_input": "2021-06-23T00:32:24.661120Z",
     "iopub.status.busy": "2021-06-23T00:32:24.660083Z",
     "iopub.status.idle": "2021-06-23T00:32:24.662582Z",
     "shell.execute_reply": "2021-06-23T00:32:24.660648Z"
    },
    "papermill": {
     "duration": 0.059797,
     "end_time": "2021-06-23T00:32:24.662732",
     "exception": false,
     "start_time": "2021-06-23T00:32:24.602935",
     "status": "completed"
    },
    "tags": []
   },
   "outputs": [
    {
     "data": {
      "text/html": [
       "<div>\n",
       "<style scoped>\n",
       "    .dataframe tbody tr th:only-of-type {\n",
       "        vertical-align: middle;\n",
       "    }\n",
       "\n",
       "    .dataframe tbody tr th {\n",
       "        vertical-align: top;\n",
       "    }\n",
       "\n",
       "    .dataframe thead th {\n",
       "        text-align: right;\n",
       "    }\n",
       "</style>\n",
       "<table border=\"1\" class=\"dataframe\">\n",
       "  <thead>\n",
       "    <tr style=\"text-align: right;\">\n",
       "      <th></th>\n",
       "      <th>code</th>\n",
       "      <th>severity</th>\n",
       "      <th>n</th>\n",
       "    </tr>\n",
       "  </thead>\n",
       "  <tbody>\n",
       "  </tbody>\n",
       "</table>\n",
       "</div>"
      ],
      "text/plain": [
       "Empty DataFrame\n",
       "Columns: [code, severity, n]\n",
       "Index: []"
      ]
     },
     "execution_count": 15,
     "metadata": {},
     "output_type": "execute_result"
    }
   ],
   "source": [
    "tbl_validation_notices"
   ]
  }
 ],
 "metadata": {
  "kernelspec": {
   "display_name": "venv-calitp-py",
   "language": "python",
   "name": "venv-calitp-py"
  },
  "language_info": {
   "codemirror_mode": {
    "name": "ipython",
    "version": 3
   },
   "file_extension": ".py",
   "mimetype": "text/x-python",
   "name": "python",
   "nbconvert_exporter": "python",
   "pygments_lexer": "ipython3",
   "version": "3.8.5"
  },
  "papermill": {
   "default_parameters": {},
   "duration": 43.279253,
   "end_time": "2021-06-23T00:32:26.070131",
   "environment_variables": {},
   "exception": null,
   "input_path": "report.ipynb",
   "output_path": "output/206/report.ipynb",
   "parameters": {
    "CALITP_ITP_ID": 206,
    "CALITP_URL_NUMBER": 0
   },
   "start_time": "2021-06-23T00:31:42.790878",
   "version": "2.3.3"
  }
 },
 "nbformat": 4,
 "nbformat_minor": 5
}