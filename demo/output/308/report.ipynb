{
 "cells": [
  {
   "cell_type": "markdown",
   "id": "c7e2d026",
   "metadata": {
    "papermill": {
     "duration": 0.068925,
     "end_time": "2021-06-23T00:35:44.384496",
     "exception": false,
     "start_time": "2021-06-23T00:35:44.315571",
     "status": "completed"
    },
    "tags": [
     "hide"
    ]
   },
   "source": [
    "# Setup"
   ]
  },
  {
   "cell_type": "code",
   "execution_count": 1,
   "id": "db7c90ea",
   "metadata": {
    "execution": {
     "iopub.execute_input": "2021-06-23T00:35:44.458342Z",
     "iopub.status.busy": "2021-06-23T00:35:44.457762Z",
     "iopub.status.idle": "2021-06-23T00:35:55.412772Z",
     "shell.execute_reply": "2021-06-23T00:35:55.413677Z"
    },
    "papermill": {
     "duration": 10.991108,
     "end_time": "2021-06-23T00:35:55.414064",
     "exception": false,
     "start_time": "2021-06-23T00:35:44.422956",
     "status": "completed"
    },
    "tags": [
     "hide"
    ]
   },
   "outputs": [],
   "source": [
    "import pandas as pd\n",
    "\n",
    "from io import StringIO\n",
    "from calitp.tables import tbl\n",
    "from datetime import date\n",
    "from siuba import *\n",
    "from plotnine import *\n",
    "\n",
    "\n",
    "START_DATE = \"2021-05-01\"\n",
    "END_DATE = \"2021-06-01\"\n",
    "DATE_TODAY=date.today()\n",
    "\n",
    "WEEK_MARKERS = pd.date_range(START_DATE, END_DATE, freq=\"W\").astype(str).tolist()"
   ]
  },
  {
   "cell_type": "code",
   "execution_count": 2,
   "id": "29f47b3e",
   "metadata": {
    "execution": {
     "iopub.execute_input": "2021-06-23T00:35:55.483275Z",
     "iopub.status.busy": "2021-06-23T00:35:55.481977Z",
     "iopub.status.idle": "2021-06-23T00:35:55.515695Z",
     "shell.execute_reply": "2021-06-23T00:35:55.516130Z"
    },
    "papermill": {
     "duration": 0.071328,
     "end_time": "2021-06-23T00:35:55.516292",
     "exception": false,
     "start_time": "2021-06-23T00:35:55.444964",
     "status": "completed"
    },
    "tags": [
     "parameters",
     "hide"
    ]
   },
   "outputs": [],
   "source": [
    "CALITP_ITP_ID=389\n",
    "#CALITP_ITP_ID=45\n",
    "CALITP_URL_NUMBER=0"
   ]
  },
  {
   "cell_type": "code",
   "execution_count": 3,
   "id": "6cbcee02",
   "metadata": {
    "execution": {
     "iopub.execute_input": "2021-06-23T00:35:55.669492Z",
     "iopub.status.busy": "2021-06-23T00:35:55.667359Z",
     "iopub.status.idle": "2021-06-23T00:35:55.670690Z",
     "shell.execute_reply": "2021-06-23T00:35:55.668509Z"
    },
    "papermill": {
     "duration": 0.094233,
     "end_time": "2021-06-23T00:35:55.670971",
     "exception": false,
     "start_time": "2021-06-23T00:35:55.576738",
     "status": "completed"
    },
    "tags": [
     "injected-parameters"
    ]
   },
   "outputs": [],
   "source": [
    "# Parameters\n",
    "CALITP_ITP_ID = 308\n",
    "CALITP_URL_NUMBER = 0\n"
   ]
  },
  {
   "cell_type": "code",
   "execution_count": 4,
   "id": "4abc7ca2",
   "metadata": {
    "execution": {
     "iopub.execute_input": "2021-06-23T00:35:55.813282Z",
     "iopub.status.busy": "2021-06-23T00:35:55.810861Z",
     "iopub.status.idle": "2021-06-23T00:35:55.815000Z",
     "shell.execute_reply": "2021-06-23T00:35:55.811815Z"
    },
    "papermill": {
     "duration": 0.094312,
     "end_time": "2021-06-23T00:35:55.815298",
     "exception": false,
     "start_time": "2021-06-23T00:35:55.720986",
     "status": "completed"
    },
    "tags": [
     "hide"
    ]
   },
   "outputs": [],
   "source": [
    "# Convenience functions ----\n",
    "\n",
    "filter_start = filter(\n",
    "    _.calitp_extracted_at <= START_DATE,\n",
    "    _.calitp_deleted_at.fillna(\"2099-01-01\") > START_DATE,\n",
    ")\n",
    "\n",
    "filter_end = filter(\n",
    "    _.calitp_extracted_at <= END_DATE,\n",
    "    _.calitp_deleted_at.fillna(\"2099-01-01\") > END_DATE,\n",
    ")\n",
    "\n",
    "filter_itp = filter(\n",
    "    _.calitp_itp_id == CALITP_ITP_ID, _.calitp_url_number == CALITP_URL_NUMBER\n",
    ")\n",
    "\n",
    "collect_to_dict = (\n",
    "    collect()\n",
    "    >> pipe(_.to_dict(orient=\"records\")[0])\n",
    ")\n",
    "\n",
    "\n",
    "select_rm_calitp = select(\n",
    "    -_.calitp_itp_id,\n",
    "    -_.calitp_url_number,\n",
    "    -_.calitp_hash,\n",
    "    -_.calitp_extracted_at,\n",
    "    -_.calitp_deleted_at,\n",
    ")\n",
    "\n",
    "\n",
    "def query_id_changes(start_table, end_table, id_vars):\n",
    "    \"\"\"Calculate id variables that are removed, added, or unchanged between tables.\n",
    "    \n",
    "    It works by adding a special column to each table, performing a full join,\n",
    "    then checking where the special column is null.\n",
    "    \"\"\"\n",
    "    sym_id_vars = [_[k] for k in id_vars]\n",
    "\n",
    "    is_in_start = start_table >> select(*id_vars) >> mutate(is_in_start=True)\n",
    "    is_in_end = end_table >> select(*id_vars) >> mutate(is_in_end=True)\n",
    "\n",
    "    baseline = start_table >> count(*id_vars) >> rename(n_baseline=\"n\")\n",
    "    tallies = (\n",
    "        is_in_start\n",
    "        >> full_join(_, is_in_end, id_vars)\n",
    "        >> count(*sym_id_vars, _.is_in_start, _.is_in_end)\n",
    "        >> mutate(\n",
    "            status=case_when(\n",
    "                _,\n",
    "                {\n",
    "                    _.is_in_end.isna(): \"Removed\",\n",
    "                    _.is_in_start.isna(): \"Added\",\n",
    "                    True: \"Unchanged\",\n",
    "                },\n",
    "            )\n",
    "        )\n",
    "        >> count(*sym_id_vars[:-1], _.status)\n",
    "        >> group_by(*sym_id_vars[:-1])\n",
    "        >> mutate(percent=_.n / _.n.sum())\n",
    "    )\n",
    "\n",
    "    return tallies"
   ]
  },
  {
   "cell_type": "code",
   "execution_count": 5,
   "id": "27adaba6",
   "metadata": {
    "execution": {
     "iopub.execute_input": "2021-06-23T00:35:55.953504Z",
     "iopub.status.busy": "2021-06-23T00:35:55.952076Z",
     "iopub.status.idle": "2021-06-23T00:36:21.469413Z",
     "shell.execute_reply": "2021-06-23T00:36:21.468863Z"
    },
    "papermill": {
     "duration": 25.603529,
     "end_time": "2021-06-23T00:36:21.469587",
     "exception": false,
     "start_time": "2021-06-23T00:35:55.866058",
     "status": "completed"
    },
    "tags": [
     "hide"
    ]
   },
   "outputs": [],
   "source": [
    "# Data ====\n",
    "# 1. High level feed info ----\n",
    "feed_info = (\n",
    "    tbl.gtfs_schedule_type2.feed_info()\n",
    "    >> filter_end\n",
    "    >> filter_itp\n",
    "    >> select_rm_calitp\n",
    "    >> collect_to_dict\n",
    ")\n",
    "\n",
    "_n_routes = (\n",
    "    tbl.gtfs_schedule_type2.routes() >> filter_end >> filter_itp >> count() >> collect()\n",
    ")\n",
    "_n_stops = (\n",
    "    tbl.gtfs_schedule_type2.stops() >> filter_end >> filter_itp >> count() >> collect()\n",
    ")\n",
    "\n",
    "feed_info[\"n_routes\"] = int(_n_routes.loc[0, \"n\"])\n",
    "feed_info[\"n_stops\"] = int(_n_stops.loc[0, \"n\"])\n",
    "\n",
    "status = (\n",
    "    tbl.views.gtfs_status_latest()\n",
    "    >> filter(_.itp_id == CALITP_ITP_ID, _.url_number == CALITP_URL_NUMBER)\n",
    "    >> select(-_.url_number, -_.status)\n",
    "    >> select_rm_calitp\n",
    "    >> collect_to_dict\n",
    ")\n",
    "\n",
    "# 2. Monthly metrics ----\n",
    "# Service hours per day. Note that the queried table calculates service\n",
    "# hours per service id, so we need to sum across service ids for the day\n",
    "_cross_cal = (\n",
    "    tbl.views.dim_date()\n",
    "    >> filter(_.full_date.between(START_DATE, END_DATE))\n",
    "    >> select(_.service_date == _.full_date)\n",
    ")\n",
    "\n",
    "tbl_daily_service_hours = (\n",
    "    tbl.views.gtfs_schedule_service_daily_metrics()\n",
    "    >> filter_itp\n",
    "    >> filter(_.service_date.between(START_DATE, END_DATE))\n",
    "    >> right_join(_, _cross_cal, [\"service_date\"])\n",
    "    >> collect()\n",
    "    >> group_by(_.service_date)\n",
    "    >> summarize(ttl_service_hours=(_.last_arrival_ts.max() - _.first_departure_ts.min()) / 3600)\n",
    "    >> mutate(\n",
    "        ttl_service_hours=_.ttl_service_hours.astype(float).round(2),\n",
    "        service_date=_.service_date.astype(\"datetime64[ns]\"),\n",
    "    )\n",
    ")\n",
    "\n",
    "# number of days where a feed did not have any trips in service\n",
    "n_expired_days = (\n",
    "    tbl_daily_service_hours >> filter(_.ttl_service_hours.isna())\n",
    "    >> pipe(lambda d: {\"n\": d.shape[0]})\n",
    ")\n",
    "\n",
    "# 3. Stop and Route ID Changes ----\n",
    "\n",
    "_tbl_stops_start = tbl.gtfs_schedule_type2.stops() >> filter_itp >> filter_start\n",
    "_tbl_stops_end = tbl.gtfs_schedule_type2.stops() >> filter_itp >> filter_end\n",
    "tbl_stops_changed = (\n",
    "    query_id_changes(_tbl_stops_start, _tbl_stops_end, [\"stop_id\"]) >> collect()\n",
    ")\n",
    "\n",
    "_tbl_routes_start = tbl.gtfs_schedule_type2.routes() >> filter_start\n",
    "_tbl_routes_end = tbl.gtfs_schedule_type2.routes() >> filter_end\n",
    "tbl_routes_changed = (\n",
    "    query_id_changes(_tbl_routes_start, _tbl_routes_end, [\"route_id\"]) >> collect()\n",
    ")"
   ]
  },
  {
   "cell_type": "code",
   "execution_count": 6,
   "id": "8f6a399c",
   "metadata": {
    "execution": {
     "iopub.execute_input": "2021-06-23T00:36:21.522729Z",
     "iopub.status.busy": "2021-06-23T00:36:21.520791Z",
     "iopub.status.idle": "2021-06-23T00:36:27.603569Z",
     "shell.execute_reply": "2021-06-23T00:36:27.603091Z"
    },
    "papermill": {
     "duration": 6.114141,
     "end_time": "2021-06-23T00:36:27.603709",
     "exception": false,
     "start_time": "2021-06-23T00:36:21.489568",
     "status": "completed"
    },
    "tags": [
     "hide"
    ]
   },
   "outputs": [],
   "source": [
    "# 4. Feed files being checked for ----\n",
    "\n",
    "file_categories = pd.DataFrame(\n",
    "    {\n",
    "        \"shapes.txt\": \"Visual display\",\n",
    "        \"pathways.txt\": \"Navigation\",\n",
    "        \"levels.txt\": \"Navigation\",\n",
    "        \"fare_rules.txt\": \"Fares\",\n",
    "        \"fare_leg_rules\": \"Fares\",\n",
    "        \"feed_info.txt\": \"Technical contacts\",\n",
    "    }.items(),\n",
    "    columns=[\"name\", \"category\"],\n",
    ")\n",
    "\n",
    "importance = [\"Visual display\", \"Navigation\", \"Fares\", \"Technical contacts\"]\n",
    "\n",
    "tbl_file_check = (\n",
    "    tbl.gtfs_schedule_history.calitp_files_updates()\n",
    "    >> filter_itp\n",
    "    >> filter(_.calitp_extracted_at.isin(WEEK_MARKERS))\n",
    "    >> select(_.name, _.calitp_extracted_at)\n",
    "    >> collect()\n",
    "    >> right_join(_, file_categories, [\"name\"])\n",
    "    >> mutate(\n",
    "        calitp_extracted_at=_.calitp_extracted_at.fillna(\"missing\").astype(str),\n",
    "        success=\"✅\",\n",
    "    )\n",
    "    >> spread(_.calitp_extracted_at, _.success)\n",
    "    >> select(-_.missing)\n",
    "    >> arrange(_.category.apply(importance.index))\n",
    "    >> select(_.category, _.contains(\"\"))\n",
    "    >> pipe(_.fillna(\"\"))\n",
    ")\n",
    "\n",
    "tbl_validation_notices = (\n",
    "    tbl.views.validation_notices()\n",
    "    >> filter_itp\n",
    "    >> filter(_.severity == \"ERROR\")\n",
    "    >> count(_.code, _.severity)\n",
    "    >> collect()\n",
    ")"
   ]
  },
  {
   "cell_type": "markdown",
   "id": "f9097a8e",
   "metadata": {
    "papermill": {
     "duration": 0.027672,
     "end_time": "2021-06-23T00:36:27.647115",
     "exception": false,
     "start_time": "2021-06-23T00:36:27.619443",
     "status": "completed"
    },
    "tags": [
     "hide"
    ]
   },
   "source": [
    "## Dump data"
   ]
  },
  {
   "cell_type": "code",
   "execution_count": 7,
   "id": "1bbf4837",
   "metadata": {
    "execution": {
     "iopub.execute_input": "2021-06-23T00:36:27.691314Z",
     "iopub.status.busy": "2021-06-23T00:36:27.690542Z",
     "iopub.status.idle": "2021-06-23T00:36:27.699823Z",
     "shell.execute_reply": "2021-06-23T00:36:27.700758Z"
    },
    "papermill": {
     "duration": 0.035383,
     "end_time": "2021-06-23T00:36:27.701283",
     "exception": false,
     "start_time": "2021-06-23T00:36:27.665900",
     "status": "completed"
    },
    "tags": [
     "hide"
    ]
   },
   "outputs": [],
   "source": [
    "import json\n",
    "import shutil\n",
    "\n",
    "from pathlib import Path\n",
    "\n",
    "out_dir = Path(f\"output/{CALITP_ITP_ID}_{CALITP_URL_NUMBER}/data\")\n",
    "out_dir.mkdir(parents=True, exist_ok=True)\n",
    "\n",
    "json.dump(feed_info, open(out_dir / \"1_feed_info.json\", \"w\"))\n",
    "json.dump(status, open(out_dir / \"1_status.json\", \"w\"))\n",
    "\n",
    "tbl_daily_service_hours.to_json(out_dir / \"2_daily_service_hours.json\", orient=\"records\")\n",
    "json.dump(n_expired_days, open(out_dir / \"2_n_expired_days.json\", \"w\"))\n",
    "\n",
    "tbl_stops_changed.to_json(out_dir / \"3_stops_changed.json\", orient=\"records\")\n",
    "tbl_routes_changed.to_json(out_dir / \"3_routes_changed.json\", orient=\"records\")\n",
    "tbl_file_check.to_json(out_dir / \"4_file_check.json\", orient=\"records\")\n",
    "tbl_validation_notices.to_json(out_dir / \"4_validation_notices.json\", orient=\"records\")\n"
   ]
  },
  {
   "cell_type": "markdown",
   "id": "9049738d",
   "metadata": {
    "papermill": {
     "duration": 0.017875,
     "end_time": "2021-06-23T00:36:27.734888",
     "exception": false,
     "start_time": "2021-06-23T00:36:27.717013",
     "status": "completed"
    },
    "tags": []
   },
   "source": [
    "# GTFS Schedule Report"
   ]
  },
  {
   "cell_type": "markdown",
   "id": "5a14d1f0",
   "metadata": {
    "papermill": {
     "duration": 0.039114,
     "end_time": "2021-06-23T00:36:27.793401",
     "exception": false,
     "start_time": "2021-06-23T00:36:27.754287",
     "status": "completed"
    },
    "tags": []
   },
   "source": [
    "# Example Juniper Report"
   ]
  },
  {
   "cell_type": "code",
   "execution_count": 8,
   "id": "cd92e3e8",
   "metadata": {
    "execution": {
     "iopub.execute_input": "2021-06-23T00:36:27.832432Z",
     "iopub.status.busy": "2021-06-23T00:36:27.831540Z",
     "iopub.status.idle": "2021-06-23T00:36:27.835032Z",
     "shell.execute_reply": "2021-06-23T00:36:27.835659Z"
    },
    "papermill": {
     "duration": 0.025457,
     "end_time": "2021-06-23T00:36:27.835875",
     "exception": false,
     "start_time": "2021-06-23T00:36:27.810418",
     "status": "completed"
    },
    "tags": []
   },
   "outputs": [
    {
     "data": {
      "text/markdown": [
       "\n",
       "Transit provider name: Trillium Solutions, Inc.\n",
       "\n",
       "Date generated: 2021-06-22\n"
      ],
      "text/plain": [
       "<IPython.core.display.Markdown object>"
      ]
     },
     "execution_count": 8,
     "metadata": {},
     "output_type": "execute_result"
    }
   ],
   "source": [
    "from IPython.display import Markdown\n",
    "\n",
    "Markdown(f\"\"\"\n",
    "Transit provider name: {feed_info[\"feed_publisher_name\"]}\n",
    "\n",
    "Date generated: {DATE_TODAY}\n",
    "\"\"\")"
   ]
  },
  {
   "cell_type": "markdown",
   "id": "3ab001f5",
   "metadata": {
    "papermill": {
     "duration": 0.014544,
     "end_time": "2021-06-23T00:36:27.865790",
     "exception": false,
     "start_time": "2021-06-23T00:36:27.851246",
     "status": "completed"
    },
    "tags": []
   },
   "source": [
    "This is a monthly report, generated by the California Integrated Travel Project (Cal-ITP), summarizing issues discovered by MobilityData’s GTFS Validator. This report is available for viewing by the general public to support continuous improvement of GTFS data and the experience of transit passengers. "
   ]
  },
  {
   "cell_type": "markdown",
   "id": "28a82e25",
   "metadata": {
    "papermill": {
     "duration": 0.023439,
     "end_time": "2021-06-23T00:36:27.905737",
     "exception": false,
     "start_time": "2021-06-23T00:36:27.882298",
     "status": "completed"
    },
    "tags": []
   },
   "source": [
    "## Overview"
   ]
  },
  {
   "cell_type": "code",
   "execution_count": 9,
   "id": "a06dbbc5",
   "metadata": {
    "execution": {
     "iopub.execute_input": "2021-06-23T00:36:27.963028Z",
     "iopub.status.busy": "2021-06-23T00:36:27.961481Z",
     "iopub.status.idle": "2021-06-23T00:36:27.966837Z",
     "shell.execute_reply": "2021-06-23T00:36:27.967337Z"
    },
    "papermill": {
     "duration": 0.0377,
     "end_time": "2021-06-23T00:36:27.967549",
     "exception": false,
     "start_time": "2021-06-23T00:36:27.929849",
     "status": "completed"
    },
    "tags": []
   },
   "outputs": [
    {
     "data": {
      "text/markdown": [
       "\n",
       "Feed location: http://data.trilliumtransit.com/gtfs/simivalley-ca-us/simivalley-ca-us.zip\n",
       "\n",
       "Metrics for the most recent published version of the feed:\n",
       "\n",
       "* Date published: UTC: 24-Dec-2020 16:40\n",
       "* Number of routes in any service: 3\n",
       "* Number of stops in service: 205\n"
      ],
      "text/plain": [
       "<IPython.core.display.Markdown object>"
      ]
     },
     "execution_count": 9,
     "metadata": {},
     "output_type": "execute_result"
    }
   ],
   "source": [
    "Markdown(f\"\"\"\n",
    "Feed location: {status[\"gtfs_schedule_url\"]}\n",
    "\n",
    "Metrics for the most recent published version of the feed:\n",
    "\n",
    "* Date published: {feed_info[\"feed_version\"]}\n",
    "* Number of routes in any service: {feed_info[\"n_routes\"]}\n",
    "* Number of stops in service: {feed_info[\"n_stops\"]}\n",
    "\"\"\")"
   ]
  },
  {
   "cell_type": "markdown",
   "id": "4a6d07c0",
   "metadata": {
    "papermill": {
     "duration": 0.019527,
     "end_time": "2021-06-23T00:36:28.008413",
     "exception": false,
     "start_time": "2021-06-23T00:36:27.988886",
     "status": "completed"
    },
    "tags": []
   },
   "source": [
    "## Aggregated Metrics for May"
   ]
  },
  {
   "cell_type": "code",
   "execution_count": 10,
   "id": "9ffbb808",
   "metadata": {
    "execution": {
     "iopub.execute_input": "2021-06-23T00:36:28.065365Z",
     "iopub.status.busy": "2021-06-23T00:36:28.064607Z",
     "iopub.status.idle": "2021-06-23T00:36:28.068465Z",
     "shell.execute_reply": "2021-06-23T00:36:28.067702Z"
    },
    "papermill": {
     "duration": 0.037265,
     "end_time": "2021-06-23T00:36:28.068629",
     "exception": false,
     "start_time": "2021-06-23T00:36:28.031364",
     "status": "completed"
    },
    "tags": []
   },
   "outputs": [
    {
     "data": {
      "text/markdown": [
       "\n",
       "Days when the active feed was expired: 16\n"
      ],
      "text/plain": [
       "<IPython.core.display.Markdown object>"
      ]
     },
     "execution_count": 10,
     "metadata": {},
     "output_type": "execute_result"
    }
   ],
   "source": [
    "Markdown(f\"\"\"\n",
    "Days when the active feed was expired: {n_expired_days[\"n\"]}\n",
    "\"\"\")"
   ]
  },
  {
   "cell_type": "code",
   "execution_count": 11,
   "id": "3f082d15",
   "metadata": {
    "execution": {
     "iopub.execute_input": "2021-06-23T00:36:28.134080Z",
     "iopub.status.busy": "2021-06-23T00:36:28.110353Z",
     "iopub.status.idle": "2021-06-23T00:36:28.504711Z",
     "shell.execute_reply": "2021-06-23T00:36:28.508359Z"
    },
    "papermill": {
     "duration": 0.422464,
     "end_time": "2021-06-23T00:36:28.508766",
     "exception": false,
     "start_time": "2021-06-23T00:36:28.086302",
     "status": "completed"
    },
    "tags": []
   },
   "outputs": [
    {
     "name": "stderr",
     "output_type": "stream",
     "text": [
      "/Users/machow/.virtualenvs/calitp-py/lib/python3.8/site-packages/plotnine/geoms/geom_path.py:75: PlotnineWarning: geom_path: Removed 12 rows containing missing values.\n",
      "/Users/machow/.virtualenvs/calitp-py/lib/python3.8/site-packages/plotnine/layer.py:401: PlotnineWarning: geom_point : Removed 16 rows containing missing values.\n"
     ]
    },
    {
     "data": {
      "image/png": "[encoded data removed]",
      "text/plain": [
       "<Figure size 640x480 with 1 Axes>"
      ]
     },
     "metadata": {},
     "output_type": "display_data"
    },
    {
     "data": {
      "text/plain": [
       "<ggplot: (311838356)>"
      ]
     },
     "execution_count": 11,
     "metadata": {},
     "output_type": "execute_result"
    }
   ],
   "source": [
    "(\n",
    "    tbl_daily_service_hours\n",
    "    >> ggplot(aes(\"service_date\", \"ttl_service_hours\"))\n",
    "    + geom_line()\n",
    "    + geom_point()\n",
    "    + theme(axis_text_x=element_text(angle=45, hjust=1))\n",
    "    + scale_x_datetime(date_breaks=\"1 week\")\n",
    "    + expand_limits(y=0)\n",
    ")"
   ]
  },
  {
   "cell_type": "markdown",
   "id": "9b1fd3eb",
   "metadata": {
    "papermill": {
     "duration": 0.024591,
     "end_time": "2021-06-23T00:36:28.579896",
     "exception": false,
     "start_time": "2021-06-23T00:36:28.555305",
     "status": "completed"
    },
    "tags": []
   },
   "source": [
    "## Changes Since Previous Month"
   ]
  },
  {
   "cell_type": "code",
   "execution_count": 12,
   "id": "6417be9a",
   "metadata": {
    "execution": {
     "iopub.execute_input": "2021-06-23T00:36:28.663336Z",
     "iopub.status.busy": "2021-06-23T00:36:28.653053Z",
     "iopub.status.idle": "2021-06-23T00:36:28.951442Z",
     "shell.execute_reply": "2021-06-23T00:36:28.951949Z"
    },
    "papermill": {
     "duration": 0.349018,
     "end_time": "2021-06-23T00:36:28.952142",
     "exception": false,
     "start_time": "2021-06-23T00:36:28.603124",
     "status": "completed"
    },
    "tags": []
   },
   "outputs": [
    {
     "data": {
      "image/png": "[encoded data removed]",
      "text/plain": [
       "<Figure size 640x480 with 1 Axes>"
      ]
     },
     "metadata": {},
     "output_type": "display_data"
    },
    {
     "data": {
      "text/plain": [
       "<ggplot: (311981855)>"
      ]
     },
     "execution_count": 12,
     "metadata": {},
     "output_type": "execute_result"
    }
   ],
   "source": [
    "(\n",
    "    pd.concat(\n",
    "        [\n",
    "            tbl_stops_changed >> mutate(kind=\"Stops\"),\n",
    "            tbl_routes_changed >> mutate(kind=\"Routes\"),\n",
    "        ]\n",
    "    )\n",
    "    >> ggplot(aes(\"kind\", \"n\", fill=\"status\"))\n",
    "    + geom_col()\n",
    "    + labs(x=\"Kind of ID\", y=\"Number of Changes\")\n",
    ")"
   ]
  },
  {
   "cell_type": "markdown",
   "id": "4f8278c0",
   "metadata": {
    "papermill": {
     "duration": 0.024869,
     "end_time": "2021-06-23T00:36:28.997232",
     "exception": false,
     "start_time": "2021-06-23T00:36:28.972363",
     "status": "completed"
    },
    "tags": []
   },
   "source": [
    "### (Alternative version using percentages)"
   ]
  },
  {
   "cell_type": "code",
   "execution_count": 13,
   "id": "85fd01ba",
   "metadata": {
    "execution": {
     "iopub.execute_input": "2021-06-23T00:36:29.083735Z",
     "iopub.status.busy": "2021-06-23T00:36:29.077569Z",
     "iopub.status.idle": "2021-06-23T00:36:29.361242Z",
     "shell.execute_reply": "2021-06-23T00:36:29.361700Z"
    },
    "papermill": {
     "duration": 0.330768,
     "end_time": "2021-06-23T00:36:29.361879",
     "exception": false,
     "start_time": "2021-06-23T00:36:29.031111",
     "status": "completed"
    },
    "tags": []
   },
   "outputs": [
    {
     "data": {
      "image/png": "[encoded data removed]",
      "text/plain": [
       "<Figure size 640x480 with 1 Axes>"
      ]
     },
     "metadata": {},
     "output_type": "display_data"
    },
    {
     "data": {
      "text/plain": [
       "<ggplot: (312252413)>"
      ]
     },
     "execution_count": 13,
     "metadata": {},
     "output_type": "execute_result"
    }
   ],
   "source": [
    "(\n",
    "    pd.concat(\n",
    "        [\n",
    "            tbl_stops_changed >> mutate(kind=\"Stops\"),\n",
    "            tbl_routes_changed >> mutate(kind=\"Routes\"),\n",
    "        ]\n",
    "    )\n",
    "    >> ggplot(aes(\"kind\", \"percent\", fill=\"status\"))\n",
    "    + geom_col()\n",
    "    + labs(x=\"Kind of ID\", y=\"Percent of Changes\")\n",
    ")"
   ]
  },
  {
   "cell_type": "markdown",
   "id": "050832e4",
   "metadata": {
    "papermill": {
     "duration": 0.020617,
     "end_time": "2021-06-23T00:36:29.406268",
     "exception": false,
     "start_time": "2021-06-23T00:36:29.385651",
     "status": "completed"
    },
    "tags": []
   },
   "source": [
    "## Consistency with the California GTFS Minimum Guidelines for the feed downloaded\n"
   ]
  },
  {
   "cell_type": "code",
   "execution_count": 14,
   "id": "ba4348e4",
   "metadata": {
    "execution": {
     "iopub.execute_input": "2021-06-23T00:36:29.476832Z",
     "iopub.status.busy": "2021-06-23T00:36:29.475988Z",
     "iopub.status.idle": "2021-06-23T00:36:29.483985Z",
     "shell.execute_reply": "2021-06-23T00:36:29.483465Z"
    },
    "papermill": {
     "duration": 0.042673,
     "end_time": "2021-06-23T00:36:29.484121",
     "exception": false,
     "start_time": "2021-06-23T00:36:29.441448",
     "status": "completed"
    },
    "tags": []
   },
   "outputs": [
    {
     "data": {
      "text/html": [
       "<div>\n",
       "<style scoped>\n",
       "    .dataframe tbody tr th:only-of-type {\n",
       "        vertical-align: middle;\n",
       "    }\n",
       "\n",
       "    .dataframe tbody tr th {\n",
       "        vertical-align: top;\n",
       "    }\n",
       "\n",
       "    .dataframe thead th {\n",
       "        text-align: right;\n",
       "    }\n",
       "</style>\n",
       "<table border=\"1\" class=\"dataframe\">\n",
       "  <thead>\n",
       "    <tr style=\"text-align: right;\">\n",
       "      <th></th>\n",
       "      <th>category</th>\n",
       "      <th>name</th>\n",
       "      <th>2021-05-16</th>\n",
       "      <th>2021-05-23</th>\n",
       "      <th>2021-05-30</th>\n",
       "    </tr>\n",
       "  </thead>\n",
       "  <tbody>\n",
       "    <tr>\n",
       "      <th>5</th>\n",
       "      <td>Visual display</td>\n",
       "      <td>shapes.txt</td>\n",
       "      <td>✅</td>\n",
       "      <td>✅</td>\n",
       "      <td>✅</td>\n",
       "    </tr>\n",
       "    <tr>\n",
       "      <th>3</th>\n",
       "      <td>Navigation</td>\n",
       "      <td>levels.txt</td>\n",
       "      <td></td>\n",
       "      <td></td>\n",
       "      <td></td>\n",
       "    </tr>\n",
       "    <tr>\n",
       "      <th>4</th>\n",
       "      <td>Navigation</td>\n",
       "      <td>pathways.txt</td>\n",
       "      <td></td>\n",
       "      <td></td>\n",
       "      <td></td>\n",
       "    </tr>\n",
       "    <tr>\n",
       "      <th>0</th>\n",
       "      <td>Fares</td>\n",
       "      <td>fare_leg_rules</td>\n",
       "      <td></td>\n",
       "      <td></td>\n",
       "      <td></td>\n",
       "    </tr>\n",
       "    <tr>\n",
       "      <th>1</th>\n",
       "      <td>Fares</td>\n",
       "      <td>fare_rules.txt</td>\n",
       "      <td>✅</td>\n",
       "      <td>✅</td>\n",
       "      <td>✅</td>\n",
       "    </tr>\n",
       "    <tr>\n",
       "      <th>2</th>\n",
       "      <td>Technical contacts</td>\n",
       "      <td>feed_info.txt</td>\n",
       "      <td>✅</td>\n",
       "      <td>✅</td>\n",
       "      <td>✅</td>\n",
       "    </tr>\n",
       "  </tbody>\n",
       "</table>\n",
       "</div>"
      ],
      "text/plain": [
       "             category            name 2021-05-16 2021-05-23 2021-05-30\n",
       "5      Visual display      shapes.txt          ✅          ✅          ✅\n",
       "3          Navigation      levels.txt                                 \n",
       "4          Navigation    pathways.txt                                 \n",
       "0               Fares  fare_leg_rules                                 \n",
       "1               Fares  fare_rules.txt          ✅          ✅          ✅\n",
       "2  Technical contacts   feed_info.txt          ✅          ✅          ✅"
      ]
     },
     "execution_count": 14,
     "metadata": {},
     "output_type": "execute_result"
    }
   ],
   "source": [
    "tbl_file_check"
   ]
  },
  {
   "cell_type": "markdown",
   "id": "716da2ae",
   "metadata": {
    "papermill": {
     "duration": 0.028202,
     "end_time": "2021-06-23T00:36:29.534242",
     "exception": false,
     "start_time": "2021-06-23T00:36:29.506040",
     "status": "completed"
    },
    "tags": []
   },
   "source": [
    "### Validation Errors Observed"
   ]
  },
  {
   "cell_type": "code",
   "execution_count": 15,
   "id": "5211dc97",
   "metadata": {
    "execution": {
     "iopub.execute_input": "2021-06-23T00:36:29.588212Z",
     "iopub.status.busy": "2021-06-23T00:36:29.587494Z",
     "iopub.status.idle": "2021-06-23T00:36:29.590255Z",
     "shell.execute_reply": "2021-06-23T00:36:29.590696Z"
    },
    "papermill": {
     "duration": 0.031461,
     "end_time": "2021-06-23T00:36:29.590866",
     "exception": false,
     "start_time": "2021-06-23T00:36:29.559405",
     "status": "completed"
    },
    "tags": []
   },
   "outputs": [
    {
     "data": {
      "text/html": [
       "<div>\n",
       "<style scoped>\n",
       "    .dataframe tbody tr th:only-of-type {\n",
       "        vertical-align: middle;\n",
       "    }\n",
       "\n",
       "    .dataframe tbody tr th {\n",
       "        vertical-align: top;\n",
       "    }\n",
       "\n",
       "    .dataframe thead th {\n",
       "        text-align: right;\n",
       "    }\n",
       "</style>\n",
       "<table border=\"1\" class=\"dataframe\">\n",
       "  <thead>\n",
       "    <tr style=\"text-align: right;\">\n",
       "      <th></th>\n",
       "      <th>code</th>\n",
       "      <th>severity</th>\n",
       "      <th>n</th>\n",
       "    </tr>\n",
       "  </thead>\n",
       "  <tbody>\n",
       "  </tbody>\n",
       "</table>\n",
       "</div>"
      ],
      "text/plain": [
       "Empty DataFrame\n",
       "Columns: [code, severity, n]\n",
       "Index: []"
      ]
     },
     "execution_count": 15,
     "metadata": {},
     "output_type": "execute_result"
    }
   ],
   "source": [
    "tbl_validation_notices"
   ]
  }
 ],
 "metadata": {
  "kernelspec": {
   "display_name": "venv-calitp-py",
   "language": "python",
   "name": "venv-calitp-py"
  },
  "language_info": {
   "codemirror_mode": {
    "name": "ipython",
    "version": 3
   },
   "file_extension": ".py",
   "mimetype": "text/x-python",
   "name": "python",
   "nbconvert_exporter": "python",
   "pygments_lexer": "ipython3",
   "version": "3.8.5"
  },
  "papermill": {
   "default_parameters": {},
   "duration": 57.982069,
   "end_time": "2021-06-23T00:36:32.236957",
   "environment_variables": {},
   "exception": null,
   "input_path": "report.ipynb",
   "output_path": "output/308/report.ipynb",
   "parameters": {
    "CALITP_ITP_ID": 308,
    "CALITP_URL_NUMBER": 0
   },
   "start_time": "2021-06-23T00:35:34.254888",
   "version": "2.3.3"
  }
 },
 "nbformat": 4,
 "nbformat_minor": 5
}