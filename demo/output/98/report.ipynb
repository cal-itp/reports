{
 "cells": [
  {
   "cell_type": "markdown",
   "id": "713bf2b7",
   "metadata": {
    "papermill": {
     "duration": 0.0237,
     "end_time": "2021-06-24T22:12:13.311636",
     "exception": false,
     "start_time": "2021-06-24T22:12:13.287936",
     "status": "completed"
    },
    "tags": [
     "hide"
    ]
   },
   "source": [
    "# Setup"
   ]
  },
  {
   "cell_type": "code",
   "execution_count": 1,
   "id": "631dd56f",
   "metadata": {
    "execution": {
     "iopub.execute_input": "2021-06-24T22:12:13.384243Z",
     "iopub.status.busy": "2021-06-24T22:12:13.383169Z",
     "iopub.status.idle": "2021-06-24T22:12:21.742086Z",
     "shell.execute_reply": "2021-06-24T22:12:21.777744Z"
    },
    "papermill": {
     "duration": 8.435815,
     "end_time": "2021-06-24T22:12:21.778136",
     "exception": false,
     "start_time": "2021-06-24T22:12:13.342321",
     "status": "completed"
    },
    "tags": [
     "hide"
    ]
   },
   "outputs": [],
   "source": [
    "import pandas as pd\n",
    "import numpy as np\n",
    "import warnings\n",
    "\n",
    "from io import StringIO\n",
    "from calitp.tables import tbl\n",
    "from datetime import date, datetime\n",
    "from siuba import *\n",
    "from plotnine import *\n",
    "\n",
    "def friendly_date(x): \n",
    "    return datetime.strptime(x, \"%Y-%m-%d\").strftime(\"%b %d\")"
   ]
  },
  {
   "cell_type": "code",
   "execution_count": 2,
   "id": "836c35a3",
   "metadata": {
    "execution": {
     "iopub.execute_input": "2021-06-24T22:12:21.845898Z",
     "iopub.status.busy": "2021-06-24T22:12:21.844707Z",
     "iopub.status.idle": "2021-06-24T22:12:21.852293Z",
     "shell.execute_reply": "2021-06-24T22:12:21.853298Z"
    },
    "papermill": {
     "duration": 0.045361,
     "end_time": "2021-06-24T22:12:21.853573",
     "exception": false,
     "start_time": "2021-06-24T22:12:21.808212",
     "status": "completed"
    },
    "tags": [
     "parameters",
     "hide"
    ]
   },
   "outputs": [],
   "source": [
    "CALITP_ITP_ID = 98\n",
    "#CALITP_ITP_ID=45\n",
    "CALITP_URL_NUMBER = 0\n",
    "DEBUG = False\n",
    "\n",
    "START_DATE = \"2021-05-01\"\n",
    "END_DATE = \"2021-06-01\"\n",
    "DATE_TODAY=date.today()\n",
    "START_MONTH_DAY = friendly_date(START_DATE)\n",
    "END_MONTH_DAY = friendly_date(END_DATE)\n",
    "\n",
    "WEEK_MARKERS = pd.date_range(START_DATE, END_DATE, freq=\"W\").astype(str).tolist()\n",
    "BIWEEKLY_MARKERS = pd.date_range(START_DATE, END_DATE, freq=\"2W\").astype(str).tolist()"
   ]
  },
  {
   "cell_type": "code",
   "execution_count": 3,
   "id": "8c0b9784",
   "metadata": {
    "execution": {
     "iopub.execute_input": "2021-06-24T22:12:21.899620Z",
     "iopub.status.busy": "2021-06-24T22:12:21.898708Z",
     "iopub.status.idle": "2021-06-24T22:12:21.901839Z",
     "shell.execute_reply": "2021-06-24T22:12:21.902425Z"
    },
    "papermill": {
     "duration": 0.025258,
     "end_time": "2021-06-24T22:12:21.902590",
     "exception": false,
     "start_time": "2021-06-24T22:12:21.877332",
     "status": "completed"
    },
    "tags": [
     "injected-parameters"
    ]
   },
   "outputs": [],
   "source": [
    "# Parameters\n",
    "CALITP_ITP_ID = 98\n",
    "CALITP_URL_NUMBER = 0\n",
    "DEBUG = False\n",
    "START_DATE = \"2021-05-01\"\n",
    "END_DATE = \"2021-06-01\"\n"
   ]
  },
  {
   "cell_type": "code",
   "execution_count": 4,
   "id": "7a2e62fc",
   "metadata": {
    "execution": {
     "iopub.execute_input": "2021-06-24T22:12:21.956269Z",
     "iopub.status.busy": "2021-06-24T22:12:21.954906Z",
     "iopub.status.idle": "2021-06-24T22:12:21.959283Z",
     "shell.execute_reply": "2021-06-24T22:12:21.960094Z"
    },
    "papermill": {
     "duration": 0.028671,
     "end_time": "2021-06-24T22:12:21.960336",
     "exception": false,
     "start_time": "2021-06-24T22:12:21.931665",
     "status": "completed"
    },
    "tags": [
     "hide"
    ]
   },
   "outputs": [],
   "source": [
    "if not DEBUG:\n",
    "    warnings.filterwarnings(\"ignore\")"
   ]
  },
  {
   "cell_type": "code",
   "execution_count": 5,
   "id": "39e6bb15",
   "metadata": {
    "execution": {
     "iopub.execute_input": "2021-06-24T22:12:22.021153Z",
     "iopub.status.busy": "2021-06-24T22:12:22.020159Z",
     "iopub.status.idle": "2021-06-24T22:12:22.022034Z",
     "shell.execute_reply": "2021-06-24T22:12:22.022487Z"
    },
    "papermill": {
     "duration": 0.038539,
     "end_time": "2021-06-24T22:12:22.022633",
     "exception": false,
     "start_time": "2021-06-24T22:12:21.984094",
     "status": "completed"
    },
    "tags": [
     "hide"
    ]
   },
   "outputs": [],
   "source": [
    "# Convenience functions ----\n",
    "\n",
    "filter_start = filter(\n",
    "    _.calitp_extracted_at <= START_DATE,\n",
    "    _.calitp_deleted_at.fillna(\"2099-01-01\") > START_DATE,\n",
    ")\n",
    "\n",
    "filter_end = filter(\n",
    "    _.calitp_extracted_at <= END_DATE,\n",
    "    _.calitp_deleted_at.fillna(\"2099-01-01\") > END_DATE,\n",
    ")\n",
    "\n",
    "filter_itp = filter(\n",
    "    _.calitp_itp_id == CALITP_ITP_ID, _.calitp_url_number == CALITP_URL_NUMBER\n",
    ")\n",
    "\n",
    "collect_to_dict = (\n",
    "    collect()\n",
    "    >> pipe(_.to_dict(orient=\"records\")[0])\n",
    ")\n",
    "\n",
    "\n",
    "select_rm_calitp = select(\n",
    "    -_.calitp_itp_id,\n",
    "    -_.calitp_url_number,\n",
    "    -_.calitp_hash,\n",
    "    -_.calitp_extracted_at,\n",
    "    -_.calitp_deleted_at,\n",
    ")\n",
    "\n",
    "def percent_format(labels):\n",
    "    return [\"{:.0f}%\".format(v*100) for v in labels]\n",
    "\n",
    "def query_id_changes(start_table, end_table, id_vars):\n",
    "    \"\"\"Calculate id variables that are removed, added, or unchanged between tables.\n",
    "    \n",
    "    It works by adding a special column to each table, performing a full join,\n",
    "    then checking where the special column is null.\n",
    "    \"\"\"\n",
    "    sym_id_vars = [_[k] for k in id_vars]\n",
    "\n",
    "    is_in_start = start_table >> select(*id_vars) >> mutate(is_in_start=True)\n",
    "    is_in_end = end_table >> select(*id_vars) >> mutate(is_in_end=True)\n",
    "\n",
    "    baseline = start_table >> count(*id_vars) >> rename(n_baseline=\"n\")\n",
    "    tallies = (\n",
    "        is_in_start\n",
    "        >> full_join(_, is_in_end, id_vars)\n",
    "        >> count(*sym_id_vars, _.is_in_start, _.is_in_end)\n",
    "        >> mutate(\n",
    "            status=case_when(\n",
    "                _,\n",
    "                {\n",
    "                    _.is_in_end.isna(): \"Removed\",\n",
    "                    _.is_in_start.isna(): \"Added\",\n",
    "                    True: \"Unchanged\",\n",
    "                },\n",
    "            )\n",
    "        )\n",
    "        >> count(*sym_id_vars[:-1], _.status)\n",
    "        >> group_by(*sym_id_vars[:-1])\n",
    "        >> mutate(percent=_.n / _.n.sum())\n",
    "    )\n",
    "\n",
    "    return tallies"
   ]
  },
  {
   "cell_type": "code",
   "execution_count": 6,
   "id": "1334a01a",
   "metadata": {
    "execution": {
     "iopub.execute_input": "2021-06-24T22:12:22.088031Z",
     "iopub.status.busy": "2021-06-24T22:12:22.086902Z",
     "iopub.status.idle": "2021-06-24T22:12:45.750601Z",
     "shell.execute_reply": "2021-06-24T22:12:45.751259Z"
    },
    "papermill": {
     "duration": 23.701167,
     "end_time": "2021-06-24T22:12:45.751481",
     "exception": false,
     "start_time": "2021-06-24T22:12:22.050314",
     "status": "completed"
    },
    "tags": [
     "hide"
    ]
   },
   "outputs": [],
   "source": [
    "# Data ====\n",
    "# 1. High level feed info ----\n",
    "feed_info = (\n",
    "    tbl.gtfs_schedule_type2.feed_info()\n",
    "    >> filter_end\n",
    "    >> filter_itp\n",
    "    >> select_rm_calitp\n",
    "    >> collect_to_dict\n",
    ")\n",
    "\n",
    "_n_routes = (\n",
    "    tbl.gtfs_schedule_type2.routes() >> filter_end >> filter_itp >> count() >> collect()\n",
    ")\n",
    "_n_stops = (\n",
    "    tbl.gtfs_schedule_type2.stops() >> filter_end >> filter_itp >> count() >> collect()\n",
    ")\n",
    "\n",
    "feed_info[\"n_routes\"] = int(_n_routes.loc[0, \"n\"])\n",
    "feed_info[\"n_stops\"] = int(_n_stops.loc[0, \"n\"])\n",
    "\n",
    "status = (\n",
    "    tbl.views.gtfs_status_latest()\n",
    "    >> filter(_.itp_id == CALITP_ITP_ID, _.url_number == CALITP_URL_NUMBER)\n",
    "    >> select(-_.url_number, -_.status)\n",
    "    >> select_rm_calitp\n",
    "    >> collect_to_dict\n",
    ")\n",
    "\n",
    "# 2. Monthly metrics ----\n",
    "# Service hours per day. Note that the queried table calculates service\n",
    "# hours per service id, so we need to sum across service ids for the day\n",
    "_cross_cal = (\n",
    "    tbl.views.dim_date()\n",
    "    >> filter(_.full_date.between(START_DATE, END_DATE))\n",
    "    >> select(_.service_date == _.full_date)\n",
    ")\n",
    "\n",
    "tbl_daily_service_hours = (\n",
    "    tbl.views.gtfs_schedule_service_daily_metrics()\n",
    "    >> filter_itp\n",
    "    >> filter(_.service_date.between(START_DATE, END_DATE))\n",
    "    >> right_join(_, _cross_cal, [\"service_date\"])\n",
    "    >> collect()\n",
    "    >> group_by(_.service_date)\n",
    "    >> summarize(\n",
    "        ttl_service_hours=(_.last_arrival_ts.max() - _.first_departure_ts.min()) / 3600,\n",
    "        ttl_service_hours2=_.ttl_service_hours.sum(),\n",
    "    )\n",
    "    >> mutate(\n",
    "        ttl_service_hours=_.ttl_service_hours.astype(float).round(2),\n",
    "        service_date=_.service_date.astype(\"datetime64[ns]\"),\n",
    "    )\n",
    ")\n",
    "\n",
    "# number of days where a feed did not have any trips in service\n",
    "n_expired_days = (\n",
    "    tbl_daily_service_hours\n",
    "    >> filter(_.ttl_service_hours.isna())\n",
    "    >> pipe(lambda d: {\"n\": d.shape[0]})\n",
    ")\n",
    "\n",
    "# 3. Stop and Route ID Changes ----\n",
    "\n",
    "_tbl_stops_start = tbl.gtfs_schedule_type2.stops() >> filter_itp >> filter_start\n",
    "_tbl_stops_end = tbl.gtfs_schedule_type2.stops() >> filter_itp >> filter_end\n",
    "tbl_stops_changed = (\n",
    "    query_id_changes(_tbl_stops_start, _tbl_stops_end, [\"stop_id\"]) >> collect()\n",
    ")\n",
    "\n",
    "_tbl_routes_start = tbl.gtfs_schedule_type2.routes() >> filter_itp >> filter_start\n",
    "_tbl_routes_end = tbl.gtfs_schedule_type2.routes() >> filter_itp >> filter_end\n",
    "tbl_routes_changed = (\n",
    "    query_id_changes(_tbl_routes_start, _tbl_routes_end, [\"route_id\"]) >> collect()\n",
    ")"
   ]
  },
  {
   "cell_type": "code",
   "execution_count": 7,
   "id": "2beaf12d",
   "metadata": {
    "execution": {
     "iopub.execute_input": "2021-06-24T22:12:45.826771Z",
     "iopub.status.busy": "2021-06-24T22:12:45.824990Z",
     "iopub.status.idle": "2021-06-24T22:12:51.555540Z",
     "shell.execute_reply": "2021-06-24T22:12:51.556011Z"
    },
    "papermill": {
     "duration": 5.774674,
     "end_time": "2021-06-24T22:12:51.556163",
     "exception": false,
     "start_time": "2021-06-24T22:12:45.781489",
     "status": "completed"
    },
    "tags": [
     "hide"
    ]
   },
   "outputs": [],
   "source": [
    "# 4. Feed files being checked for ----\n",
    "\n",
    "file_categories = pd.DataFrame(\n",
    "    {\n",
    "        \"shapes.txt\": \"Visual display\",\n",
    "        \"pathways.txt\": \"Navigation\",\n",
    "        \"levels.txt\": \"Navigation\",\n",
    "        \"fare_rules.txt\": \"Fares\",\n",
    "        \"fare_leg_rules\": \"Fares\",\n",
    "        \"feed_info.txt\": \"Technical contacts\",\n",
    "    }.items(),\n",
    "    columns=[\"name\", \"category\"],\n",
    ")\n",
    "\n",
    "importance = [\"Visual display\", \"Navigation\", \"Fares\", \"Technical contacts\"]\n",
    "\n",
    "tbl_file_check = (\n",
    "    tbl.gtfs_schedule_history.calitp_files_updates()\n",
    "    >> filter_itp\n",
    "    >> filter(_.calitp_extracted_at.isin(BIWEEKLY_MARKERS))\n",
    "    >> select(_.name, _.calitp_extracted_at)\n",
    "    >> collect()\n",
    "    >> right_join(_, file_categories, [\"name\"])\n",
    "    >> mutate(\n",
    "        calitp_extracted_at=_.calitp_extracted_at.fillna(\"missing\").astype(str),\n",
    "        success=\"✅\",\n",
    "    )\n",
    "    >> spread(_.calitp_extracted_at, _.success)\n",
    "    >> select(-_.missing)\n",
    "    >> arrange(_.category.apply(importance.index))\n",
    "    >> select(_.category, _.contains(\"\"))\n",
    "    >> pipe(_.fillna(\"\"))\n",
    ")\n",
    "\n",
    "tbl_validation_notices = (\n",
    "    tbl.views.validation_notices()\n",
    "    >> filter_itp\n",
    "    >> filter(_.severity == \"ERROR\")\n",
    "    >> count(_.code, _.severity)\n",
    "    >> collect()\n",
    ")"
   ]
  },
  {
   "cell_type": "markdown",
   "id": "5c0a870c",
   "metadata": {
    "papermill": {
     "duration": 0.015802,
     "end_time": "2021-06-24T22:12:51.588072",
     "exception": false,
     "start_time": "2021-06-24T22:12:51.572270",
     "status": "completed"
    },
    "tags": [
     "hide"
    ]
   },
   "source": [
    "## Dump data"
   ]
  },
  {
   "cell_type": "code",
   "execution_count": 8,
   "id": "cde73a9e",
   "metadata": {
    "execution": {
     "iopub.execute_input": "2021-06-24T22:12:51.629563Z",
     "iopub.status.busy": "2021-06-24T22:12:51.628258Z",
     "iopub.status.idle": "2021-06-24T22:12:51.636651Z",
     "shell.execute_reply": "2021-06-24T22:12:51.637134Z"
    },
    "papermill": {
     "duration": 0.033536,
     "end_time": "2021-06-24T22:12:51.637356",
     "exception": false,
     "start_time": "2021-06-24T22:12:51.603820",
     "status": "completed"
    },
    "tags": [
     "hide"
    ]
   },
   "outputs": [],
   "source": [
    "import json\n",
    "import shutil\n",
    "\n",
    "from pathlib import Path\n",
    "\n",
    "out_dir = Path(f\"output/{CALITP_ITP_ID}_{CALITP_URL_NUMBER}/data\")\n",
    "out_dir.mkdir(parents=True, exist_ok=True)\n",
    "\n",
    "json.dump(feed_info, open(out_dir / \"1_feed_info.json\", \"w\"))\n",
    "json.dump(status, open(out_dir / \"1_status.json\", \"w\"))\n",
    "\n",
    "tbl_daily_service_hours.to_json(out_dir / \"2_daily_service_hours.json\", orient=\"records\")\n",
    "json.dump(n_expired_days, open(out_dir / \"2_n_expired_days.json\", \"w\"))\n",
    "\n",
    "tbl_stops_changed.to_json(out_dir / \"3_stops_changed.json\", orient=\"records\")\n",
    "tbl_routes_changed.to_json(out_dir / \"3_routes_changed.json\", orient=\"records\")\n",
    "tbl_file_check.to_json(out_dir / \"4_file_check.json\", orient=\"records\")\n",
    "tbl_validation_notices.to_json(out_dir / \"4_validation_notices.json\", orient=\"records\")\n"
   ]
  },
  {
   "cell_type": "markdown",
   "id": "eb4bc451",
   "metadata": {
    "papermill": {
     "duration": 0.019437,
     "end_time": "2021-06-24T22:12:51.673344",
     "exception": false,
     "start_time": "2021-06-24T22:12:51.653907",
     "status": "completed"
    },
    "tags": []
   },
   "source": [
    "# Monthly GTFS Quality Report"
   ]
  },
  {
   "cell_type": "code",
   "execution_count": 9,
   "id": "c6926988",
   "metadata": {
    "execution": {
     "iopub.execute_input": "2021-06-24T22:12:51.735486Z",
     "iopub.status.busy": "2021-06-24T22:12:51.734492Z",
     "iopub.status.idle": "2021-06-24T22:12:51.739100Z",
     "shell.execute_reply": "2021-06-24T22:12:51.739971Z"
    },
    "papermill": {
     "duration": 0.045381,
     "end_time": "2021-06-24T22:12:51.740243",
     "exception": false,
     "start_time": "2021-06-24T22:12:51.694862",
     "status": "completed"
    },
    "tags": []
   },
   "outputs": [
    {
     "data": {
      "text/markdown": [
       "\n",
       "Transit provider name: 511 SF Bay\n",
       "\n",
       "Date generated: 2021-06-24\n"
      ],
      "text/plain": [
       "<IPython.core.display.Markdown object>"
      ]
     },
     "execution_count": 9,
     "metadata": {},
     "output_type": "execute_result"
    }
   ],
   "source": [
    "from IPython.display import Markdown\n",
    "\n",
    "Markdown(f\"\"\"\n",
    "Transit provider name: {feed_info[\"feed_publisher_name\"]}\n",
    "\n",
    "Date generated: {DATE_TODAY}\n",
    "\"\"\")"
   ]
  },
  {
   "cell_type": "markdown",
   "id": "fe3cac3d",
   "metadata": {
    "papermill": {
     "duration": 0.034352,
     "end_time": "2021-06-24T22:12:51.806327",
     "exception": false,
     "start_time": "2021-06-24T22:12:51.771975",
     "status": "completed"
    },
    "tags": []
   },
   "source": [
    "This is a monthly report, generated by the California Integrated Travel Project ([Cal-ITP](https://dot.ca.gov/cal-itp/cal-itp-gtfs)), summarizing issues discovered by [MobilityData](http://mobilitydata.io/)’s [GTFS Validator](https://github.com/MobilityData/gtfs-validator). This report is available for viewing by the general public to support continuous improvement of GTFS data and the experience of transit passengers. "
   ]
  },
  {
   "cell_type": "markdown",
   "id": "8c07afa2",
   "metadata": {
    "papermill": {
     "duration": 0.028096,
     "end_time": "2021-06-24T22:12:51.865083",
     "exception": false,
     "start_time": "2021-06-24T22:12:51.836987",
     "status": "completed"
    },
    "tags": []
   },
   "source": [
    "## Overview"
   ]
  },
  {
   "cell_type": "code",
   "execution_count": 10,
   "id": "c4ef28df",
   "metadata": {
    "execution": {
     "iopub.execute_input": "2021-06-24T22:12:51.924404Z",
     "iopub.status.busy": "2021-06-24T22:12:51.923351Z",
     "iopub.status.idle": "2021-06-24T22:12:51.927812Z",
     "shell.execute_reply": "2021-06-24T22:12:51.928244Z"
    },
    "papermill": {
     "duration": 0.036179,
     "end_time": "2021-06-24T22:12:51.928386",
     "exception": false,
     "start_time": "2021-06-24T22:12:51.892207",
     "status": "completed"
    },
    "tags": []
   },
   "outputs": [
    {
     "data": {
      "text/markdown": [
       "\n",
       "Feed location: http://api.511.org/transit/datafeeds?api_key=94ba868d-fe96-4b9b-b6b4-1df614d96e56&operator_id=DE\n",
       "\n",
       "Metrics for the most recent published version of the feed:\n",
       "\n",
       "* Date published: 20210328\n",
       "* Number of routes in any service: 2\n",
       "* Number of stops in service: 88\n"
      ],
      "text/plain": [
       "<IPython.core.display.Markdown object>"
      ]
     },
     "execution_count": 10,
     "metadata": {},
     "output_type": "execute_result"
    }
   ],
   "source": [
    "Markdown(f\"\"\"\n",
    "Feed location: {status[\"gtfs_schedule_url\"]}\n",
    "\n",
    "Metrics for the most recent published version of the feed:\n",
    "\n",
    "* Date published: {feed_info[\"feed_version\"]}\n",
    "* Number of routes in any service: {feed_info[\"n_routes\"]}\n",
    "* Number of stops in service: {feed_info[\"n_stops\"]}\n",
    "\"\"\")"
   ]
  },
  {
   "cell_type": "markdown",
   "id": "15c1a2e1",
   "metadata": {
    "papermill": {
     "duration": 0.028847,
     "end_time": "2021-06-24T22:12:51.979221",
     "exception": false,
     "start_time": "2021-06-24T22:12:51.950374",
     "status": "completed"
    },
    "tags": []
   },
   "source": [
    "## Aggregated Metrics for May"
   ]
  },
  {
   "cell_type": "code",
   "execution_count": 11,
   "id": "750fd042",
   "metadata": {
    "execution": {
     "iopub.execute_input": "2021-06-24T22:12:52.051198Z",
     "iopub.status.busy": "2021-06-24T22:12:52.049406Z",
     "iopub.status.idle": "2021-06-24T22:12:52.054565Z",
     "shell.execute_reply": "2021-06-24T22:12:52.055093Z"
    },
    "papermill": {
     "duration": 0.043955,
     "end_time": "2021-06-24T22:12:52.055270",
     "exception": false,
     "start_time": "2021-06-24T22:12:52.011315",
     "status": "completed"
    },
    "tags": []
   },
   "outputs": [
    {
     "data": {
      "text/markdown": [
       "\n",
       "Days with no service hours: 11\n"
      ],
      "text/plain": [
       "<IPython.core.display.Markdown object>"
      ]
     },
     "execution_count": 11,
     "metadata": {},
     "output_type": "execute_result"
    }
   ],
   "source": [
    "# TODO: \n",
    "\n",
    "# Markdown(f\"\"\"\n",
    "# Days when the active feed was expired: {n_expired_days[\"n\"]}\n",
    "# \"\"\")\n",
    "\n",
    "Markdown(f\"\"\"\n",
    "Days with no service hours: {n_expired_days[\"n\"]}\n",
    "\"\"\")\n"
   ]
  },
  {
   "cell_type": "code",
   "execution_count": 12,
   "id": "e1c7d388",
   "metadata": {
    "execution": {
     "iopub.execute_input": "2021-06-24T22:12:52.168179Z",
     "iopub.status.busy": "2021-06-24T22:12:52.167209Z",
     "iopub.status.idle": "2021-06-24T22:12:52.833316Z",
     "shell.execute_reply": "2021-06-24T22:12:52.843089Z"
    },
    "papermill": {
     "duration": 0.755963,
     "end_time": "2021-06-24T22:12:52.843352",
     "exception": false,
     "start_time": "2021-06-24T22:12:52.087389",
     "status": "completed"
    },
    "tags": []
   },
   "outputs": [
    {
     "data": {
      "image/png": "[encoded data removed]",
      "text/plain": [
       "<Figure size 640x480 with 1 Axes>"
      ]
     },
     "metadata": {},
     "output_type": "display_data"
    }
   ],
   "source": [
    "(\n",
    "    tbl_daily_service_hours\n",
    "    >> ggplot(aes(\"service_date\", \"ttl_service_hours2\"))\n",
    "    + geom_line()\n",
    "    + geom_point()\n",
    "    + theme(axis_text_x=element_text(angle=45, hjust=1))\n",
    "    + scale_x_datetime(date_breaks=\"1 week\")\n",
    "    + expand_limits(y=0)\n",
    "    + labs(y = \"Total service hours\", x = \"Service date\", title=\"Service hour per day\")\n",
    ").draw();"
   ]
  },
  {
   "cell_type": "markdown",
   "id": "1bfaa17b",
   "metadata": {
    "papermill": {
     "duration": 0.036691,
     "end_time": "2021-06-24T22:12:52.918074",
     "exception": false,
     "start_time": "2021-06-24T22:12:52.881383",
     "status": "completed"
    },
    "tags": []
   },
   "source": [
    "## Changes Since Previous Month"
   ]
  },
  {
   "cell_type": "code",
   "execution_count": 13,
   "id": "451b059b",
   "metadata": {
    "execution": {
     "iopub.execute_input": "2021-06-24T22:12:53.025703Z",
     "iopub.status.busy": "2021-06-24T22:12:53.010068Z",
     "iopub.status.idle": "2021-06-24T22:12:53.941245Z",
     "shell.execute_reply": "2021-06-24T22:12:53.942460Z"
    },
    "papermill": {
     "duration": 0.9856,
     "end_time": "2021-06-24T22:12:53.942705",
     "exception": false,
     "start_time": "2021-06-24T22:12:52.957105",
     "status": "completed"
    },
    "tags": []
   },
   "outputs": [
    {
     "data": {
      "image/png": "[encoded data removed]",
      "text/plain": [
       "<Figure size 640x480 with 1 Axes>"
      ]
     },
     "metadata": {},
     "output_type": "display_data"
    }
   ],
   "source": [
    "(\n",
    "    pd.concat(\n",
    "        [\n",
    "            tbl_stops_changed >> mutate(kind=\"Stops\"),\n",
    "            tbl_routes_changed >> mutate(kind=\"Routes\"),\n",
    "        ]\n",
    "    )\n",
    "    >> ggplot(aes(\"kind\", \"n\", fill=\"status\"))\n",
    "    + geom_col()\n",
    "    + labs(\n",
    "        x=\"GTFS schedule table\",\n",
    "        y=\"Number of IDs\",\n",
    "        title=f\"IDs Changed Between {START_MONTH_DAY} and {END_MONTH_DAY}\",\n",
    "    )\n",
    ").draw();"
   ]
  },
  {
   "cell_type": "markdown",
   "id": "7cb9285e",
   "metadata": {
    "papermill": {
     "duration": 0.039898,
     "end_time": "2021-06-24T22:12:54.021686",
     "exception": false,
     "start_time": "2021-06-24T22:12:53.981788",
     "status": "completed"
    },
    "tags": []
   },
   "source": [
    "### (Alternative version using percentages)"
   ]
  },
  {
   "cell_type": "code",
   "execution_count": 14,
   "id": "2af86939",
   "metadata": {
    "execution": {
     "iopub.execute_input": "2021-06-24T22:12:54.131611Z",
     "iopub.status.busy": "2021-06-24T22:12:54.130506Z",
     "iopub.status.idle": "2021-06-24T22:12:55.131541Z",
     "shell.execute_reply": "2021-06-24T22:12:55.132498Z"
    },
    "papermill": {
     "duration": 1.073652,
     "end_time": "2021-06-24T22:12:55.132708",
     "exception": false,
     "start_time": "2021-06-24T22:12:54.059056",
     "status": "completed"
    },
    "tags": []
   },
   "outputs": [
    {
     "data": {
      "image/png": "[encoded data removed]",
      "text/plain": [
       "<Figure size 640x480 with 1 Axes>"
      ]
     },
     "metadata": {},
     "output_type": "display_data"
    }
   ],
   "source": [
    "(\n",
    "    pd.concat(\n",
    "        [\n",
    "            tbl_stops_changed >> mutate(kind=\"Stops\"),\n",
    "            tbl_routes_changed >> mutate(kind=\"Routes\"),\n",
    "        ]\n",
    "    )\n",
    "    >> ggplot(aes(\"kind\", \"percent\", fill=\"status\"))\n",
    "    + geom_col()\n",
    "    + labs(\n",
    "        x=\"GTFS schedule table\",\n",
    "        y=\"Percentage of IDs\",\n",
    "        title=f\"IDs Changed Between {START_MONTH_DAY} and {END_MONTH_DAY}\",\n",
    "    )\n",
    "    + scale_y_continuous(labels=percent_format, breaks=np.arange(0, 1.2, 0.2))\n",
    ").draw();"
   ]
  },
  {
   "cell_type": "markdown",
   "id": "adc3f335",
   "metadata": {
    "papermill": {
     "duration": 0.039285,
     "end_time": "2021-06-24T22:12:55.211360",
     "exception": false,
     "start_time": "2021-06-24T22:12:55.172075",
     "status": "completed"
    },
    "tags": []
   },
   "source": [
    "## Consistency with the [California GTFS Minimum Guidelines](https://dot.ca.gov/cal-itp/california-minimum-general-transit-feed-specification-gtfs-guidelines) for the feed downloaded\n"
   ]
  },
  {
   "cell_type": "markdown",
   "id": "6f1b807a",
   "metadata": {
    "papermill": {
     "duration": 0.039439,
     "end_time": "2021-06-24T22:12:55.295491",
     "exception": false,
     "start_time": "2021-06-24T22:12:55.256052",
     "status": "completed"
    },
    "tags": []
   },
   "source": [
    "### Do the following files/fields exist?"
   ]
  },
  {
   "cell_type": "code",
   "execution_count": 15,
   "id": "0204acfa",
   "metadata": {
    "execution": {
     "iopub.execute_input": "2021-06-24T22:12:55.464546Z",
     "iopub.status.busy": "2021-06-24T22:12:55.462918Z",
     "iopub.status.idle": "2021-06-24T22:12:55.466735Z",
     "shell.execute_reply": "2021-06-24T22:12:55.463717Z"
    },
    "papermill": {
     "duration": 0.119882,
     "end_time": "2021-06-24T22:12:55.466917",
     "exception": false,
     "start_time": "2021-06-24T22:12:55.347035",
     "status": "completed"
    },
    "tags": []
   },
   "outputs": [
    {
     "data": {
      "text/html": [
       "<div>\n",
       "<style scoped>\n",
       "    .dataframe tbody tr th:only-of-type {\n",
       "        vertical-align: middle;\n",
       "    }\n",
       "\n",
       "    .dataframe tbody tr th {\n",
       "        vertical-align: top;\n",
       "    }\n",
       "\n",
       "    .dataframe thead th {\n",
       "        text-align: right;\n",
       "    }\n",
       "</style>\n",
       "<table border=\"1\" class=\"dataframe\">\n",
       "  <thead>\n",
       "    <tr style=\"text-align: right;\">\n",
       "      <th></th>\n",
       "      <th>category</th>\n",
       "      <th>name</th>\n",
       "      <th>2021-05-02</th>\n",
       "      <th>2021-05-16</th>\n",
       "      <th>2021-05-30</th>\n",
       "    </tr>\n",
       "  </thead>\n",
       "  <tbody>\n",
       "    <tr>\n",
       "      <th>5</th>\n",
       "      <td>Visual display</td>\n",
       "      <td>shapes.txt</td>\n",
       "      <td>✅</td>\n",
       "      <td>✅</td>\n",
       "      <td>✅</td>\n",
       "    </tr>\n",
       "    <tr>\n",
       "      <th>3</th>\n",
       "      <td>Navigation</td>\n",
       "      <td>levels.txt</td>\n",
       "      <td></td>\n",
       "      <td></td>\n",
       "      <td></td>\n",
       "    </tr>\n",
       "    <tr>\n",
       "      <th>4</th>\n",
       "      <td>Navigation</td>\n",
       "      <td>pathways.txt</td>\n",
       "      <td></td>\n",
       "      <td></td>\n",
       "      <td></td>\n",
       "    </tr>\n",
       "    <tr>\n",
       "      <th>0</th>\n",
       "      <td>Fares</td>\n",
       "      <td>fare_leg_rules</td>\n",
       "      <td></td>\n",
       "      <td></td>\n",
       "      <td></td>\n",
       "    </tr>\n",
       "    <tr>\n",
       "      <th>1</th>\n",
       "      <td>Fares</td>\n",
       "      <td>fare_rules.txt</td>\n",
       "      <td></td>\n",
       "      <td></td>\n",
       "      <td></td>\n",
       "    </tr>\n",
       "    <tr>\n",
       "      <th>2</th>\n",
       "      <td>Technical contacts</td>\n",
       "      <td>feed_info.txt</td>\n",
       "      <td>✅</td>\n",
       "      <td>✅</td>\n",
       "      <td>✅</td>\n",
       "    </tr>\n",
       "  </tbody>\n",
       "</table>\n",
       "</div>"
      ],
      "text/plain": [
       "             category            name 2021-05-02 2021-05-16 2021-05-30\n",
       "5      Visual display      shapes.txt          ✅          ✅          ✅\n",
       "3          Navigation      levels.txt                                 \n",
       "4          Navigation    pathways.txt                                 \n",
       "0               Fares  fare_leg_rules                                 \n",
       "1               Fares  fare_rules.txt                                 \n",
       "2  Technical contacts   feed_info.txt          ✅          ✅          ✅"
      ]
     },
     "execution_count": 15,
     "metadata": {},
     "output_type": "execute_result"
    }
   ],
   "source": [
    "tbl_file_check"
   ]
  },
  {
   "cell_type": "markdown",
   "id": "480094fd",
   "metadata": {
    "papermill": {
     "duration": 0.07694,
     "end_time": "2021-06-24T22:12:55.654730",
     "exception": false,
     "start_time": "2021-06-24T22:12:55.577790",
     "status": "completed"
    },
    "tags": []
   },
   "source": [
    "### Validation Errors Observed"
   ]
  },
  {
   "cell_type": "code",
   "execution_count": 16,
   "id": "0f49335a",
   "metadata": {
    "execution": {
     "iopub.execute_input": "2021-06-24T22:12:55.797183Z",
     "iopub.status.busy": "2021-06-24T22:12:55.795677Z",
     "iopub.status.idle": "2021-06-24T22:12:55.807814Z",
     "shell.execute_reply": "2021-06-24T22:12:55.804718Z"
    },
    "papermill": {
     "duration": 0.079611,
     "end_time": "2021-06-24T22:12:55.808051",
     "exception": false,
     "start_time": "2021-06-24T22:12:55.728440",
     "status": "completed"
    },
    "tags": []
   },
   "outputs": [
    {
     "data": {
      "text/markdown": [
       "No validation error observed in your feed."
      ],
      "text/plain": [
       "<IPython.core.display.Markdown object>"
      ]
     },
     "metadata": {},
     "output_type": "display_data"
    }
   ],
   "source": [
    "if tbl_validation_notices.shape[0] == 0:\n",
    "    display(Markdown(\"No validation error observed in your feed.\"))\n",
    "else:    \n",
    "    display(tbl_validation_notices)"
   ]
  },
  {
   "cell_type": "markdown",
   "id": "4185f307",
   "metadata": {
    "papermill": {
     "duration": 0.069149,
     "end_time": "2021-06-24T22:12:55.937373",
     "exception": false,
     "start_time": "2021-06-24T22:12:55.868224",
     "status": "completed"
    },
    "tags": []
   },
   "source": [
    "For more information about Cal-ITP, including the [Minimum GTFS Guidelines](https://dot.ca.gov/cal-itp/california-minimum-general-transit-feed-specification-gtfs-guidelines) and our [Transit Data Helpdesk](https://dot.ca.gov/programs/rail-and-mass-transportation/gtfs/helpdesk), contact [GTFSRT@dot.ca.gov](mailto:GTFSRT@dot.ca.gov)."
   ]
  }
 ],
 "metadata": {
  "kernelspec": {
   "display_name": "venv-calitp-py",
   "language": "python",
   "name": "venv-calitp-py"
  },
  "language_info": {
   "codemirror_mode": {
    "name": "ipython",
    "version": 3
   },
   "file_extension": ".py",
   "mimetype": "text/x-python",
   "name": "python",
   "nbconvert_exporter": "python",
   "pygments_lexer": "ipython3",
   "version": "3.8.5"
  },
  "papermill": {
   "default_parameters": {},
   "duration": 46.194463,
   "end_time": "2021-06-24T22:12:57.375649",
   "environment_variables": {},
   "exception": null,
   "input_path": "report.ipynb",
   "output_path": "output/98/report.ipynb",
   "parameters": {
    "CALITP_ITP_ID": 98,
    "CALITP_URL_NUMBER": 0,
    "DEBUG": false,
    "END_DATE": "2021-06-01",
    "START_DATE": "2021-05-01"
   },
   "start_time": "2021-06-24T22:12:11.181186",
   "version": "2.3.3"
  }
 },
 "nbformat": 4,
 "nbformat_minor": 5
}